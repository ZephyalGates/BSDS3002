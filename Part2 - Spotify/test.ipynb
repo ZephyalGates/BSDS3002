{
 "cells": [
  {
   "cell_type": "code",
   "execution_count": 1,
   "metadata": {},
   "outputs": [],
   "source": [
    "import os\n",
    "import pandas as pd\n",
    "import requests\n",
    "from bs4 import BeautifulSoup\n",
    "from tqdm.auto import tqdm"
   ]
  },
  {
   "cell_type": "code",
   "execution_count": 7,
   "metadata": {},
   "outputs": [],
   "source": [
    "def search(artist_list, checkpoint_interval=1000):\n",
    "    artist_relations = {}\n",
    "    searched_artist_names = {}\n",
    "    not_exist_artist = []\n",
    "    for i, a in tqdm(enumerate(artist_list), total=len(artist_list), position=0, desc=\"Processing artists\"):\n",
    "\n",
    "        aa = a.replace(\" \", \"+\")\n",
    "        url = f'https://inflooenz.com/?artist={aa}&submit=Search'\n",
    "        try:\n",
    "            page = requests.get(url)\n",
    "            page.raise_for_status()\n",
    "        except requests.exceptions.RequestException as e:\n",
    "            print(f\"Error: {a} not found\")\n",
    "            continue\n",
    "\n",
    "        soup = BeautifulSoup(page.content, 'html.parser')\n",
    "\n",
    "        notexist= soup.find('h3', attrs={'class':'empty'})\n",
    "        if notexist:\n",
    "            print(f'{a} is not in the database')\n",
    "            not_exist_artist.append(a)\n",
    "  \n",
    "\n",
    "\n",
    "        # Extract the searched artist name\n",
    "        artist_name_tag = soup.find('h1')\n",
    "        searched_artist_name = None\n",
    "        if artist_name_tag:\n",
    "            searched_artist_name_tag = artist_name_tag.find('span', {'class': 'artist', 'itemprop': 'name'})\n",
    "            if searched_artist_name_tag:\n",
    "                searched_artist_name = searched_artist_name_tag.text\n",
    "\n",
    "        followers = []\n",
    "        influencers = []\n",
    "\n",
    "        followers_list = soup.find('ul', attrs={'class':'influences-list', 'id':'followers-list'})\n",
    "        if followers_list:\n",
    "            for follower in followers_list.find_all('li')[:-1]:\n",
    "                if follower.text != \"\":\n",
    "                    followers.append(follower.text)\n",
    "        influencers_list = soup.find('ul', attrs={'class':'influences-list', 'id':'influencers-list'})\n",
    "        if influencers_list:\n",
    "            for influencer in influencers_list.find_all('li')[:-1]:\n",
    "                if influencer.text != \"\":\n",
    "                    influencers.append(influencer.text)\n",
    "\n",
    "        if searched_artist_name:\n",
    "            artist_relations[a] = {'followers': followers, 'influencers': influencers}\n",
    "            searched_artist_names[a] = searched_artist_name\n",
    "        else:\n",
    "            artist_relations[a] = {'followers': followers, 'influencers': influencers}\n",
    "            searched_artist_names[a] = a\n",
    "\n",
    "\n",
    "    return artist_relations, searched_artist_names, not_exist_artist"
   ]
  },
  {
   "cell_type": "code",
   "execution_count": 8,
   "metadata": {},
   "outputs": [
    {
     "name": "stderr",
     "output_type": "stream",
     "text": [
      "Processing artists: 100%|██████████| 2/2 [00:08<00:00,  4.38s/it]"
     ]
    },
    {
     "name": "stdout",
     "output_type": "stream",
     "text": [
      "Beasts Of Bourbon is not in the database\n"
     ]
    },
    {
     "name": "stderr",
     "output_type": "stream",
     "text": [
      "\n"
     ]
    },
    {
     "data": {
      "text/plain": [
       "({'Avenged Sevenfold': {'followers': ['Asking Alexandria',\n",
       "    'Black Veil Brides',\n",
       "    'Andy Black',\n",
       "    'Machine Gun Kelly'],\n",
       "   'influencers': ['Alice in Chains',\n",
       "    'Rage Against the Machine',\n",
       "    'Iron Maiden',\n",
       "    \"Guns N' Roses\",\n",
       "    'Bad Religion',\n",
       "    'Dream Theater',\n",
       "    'Pantera',\n",
       "    'Metallica',\n",
       "    'AFI',\n",
       "    'Black Flag',\n",
       "    'Corrosion of Conformity',\n",
       "    'Deftones',\n",
       "    'Korn',\n",
       "    'Misfits',\n",
       "    'Slayer',\n",
       "    'The Vandals']},\n",
       "  'Beasts Of Bourbon': {'followers': [], 'influencers': []}},\n",
       " {'Avenged Sevenfold': 'Avenged Sevenfold',\n",
       "  'Beasts Of Bourbon': 'Beasts Of Bourbon'},\n",
       " ['Beasts Of Bourbon'])"
      ]
     },
     "execution_count": 8,
     "metadata": {},
     "output_type": "execute_result"
    }
   ],
   "source": [
    "a7x = search(['Avenged Sevenfold', 'Beasts Of Bourbon'])\n",
    "a7x"
   ]
  }
 ],
 "metadata": {
  "kernelspec": {
   "display_name": "Python 3",
   "language": "python",
   "name": "python3"
  },
  "language_info": {
   "codemirror_mode": {
    "name": "ipython",
    "version": 3
   },
   "file_extension": ".py",
   "mimetype": "text/x-python",
   "name": "python",
   "nbconvert_exporter": "python",
   "pygments_lexer": "ipython3",
   "version": "3.8.10"
  },
  "orig_nbformat": 4
 },
 "nbformat": 4,
 "nbformat_minor": 2
}
