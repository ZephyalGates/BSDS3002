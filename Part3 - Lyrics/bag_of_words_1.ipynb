{
 "cells": [
  {
   "cell_type": "code",
   "execution_count": 20,
   "metadata": {},
   "outputs": [],
   "source": [
    "import requests\n",
    "from bs4 import BeautifulSoup\n",
    "import pandas as pd\n",
    "import os\n",
    "import re\n",
    "from collections import Counter\n",
    "from syrics.api import Spotify\n",
    "from tqdm import tqdm\n",
    "import time\n",
    "import json"
   ]
  },
  {
   "cell_type": "code",
   "execution_count": 21,
   "metadata": {},
   "outputs": [],
   "source": [
    "sp = Spotify(\"AQDLs48gArJMDpKqu43CDL9d3cYyLkFyTt8VWakAblVZoXqqi-8GJLRHhrPFLHoOzHh6hHwN-fEQMYkZwoOovbAnSl7uMS9Fgm9-9xuqdGMMgNVUYPRCVMUo2qI7cwQ8GAYvZexaXmC44SvnMHyl69LCusZrkG5hkgForIK9twjgicX8WQUWoAlpR0i3705AMFwmedBJxSd55FGqznQ4ftTZayb4\")"
   ]
  },
  {
   "cell_type": "code",
   "execution_count": 22,
   "metadata": {},
   "outputs": [
    {
     "name": "stderr",
     "output_type": "stream",
     "text": [
      "Processing David Arnold_tracks.parquet:   2%|▏         | 3/184 [00:00<00:07, 25.00it/s]"
     ]
    },
    {
     "name": "stdout",
     "output_type": "stream",
     "text": [
      "Parquet file already exists for Darkest Hour_tracks.parquet, skipping...\n",
      "Parquet file already exists for Darkhouse Family_tracks.parquet, skipping...\n",
      "Parquet file already exists for Darkthrone_tracks.parquet, skipping...\n",
      "Parquet file already exists for Darlene Love_tracks.parquet, skipping...\n",
      "Parquet file already exists for Darling West_tracks.parquet, skipping...\n",
      "Parquet file already exists for Darren Hanlon_tracks.parquet, skipping...\n",
      "Parquet file already exists for Darren Sylvester_tracks.parquet, skipping...\n",
      "Parquet file already exists for Daryle Singletary_tracks.parquet, skipping...\n",
      "Parquet file already exists for Das EFX_tracks.parquet, skipping...\n",
      "Parquet file already exists for Dashboard Confessional_tracks.parquet, skipping...\n",
      "Parquet file already exists for Datach'i_tracks.parquet, skipping...\n",
      "Parquet file already exists for Daughter_tracks.parquet, skipping...\n",
      "Parquet file already exists for Daughtry_tracks.parquet, skipping...\n",
      "Parquet file already exists for Dave Alvin_tracks.parquet, skipping...\n",
      "Parquet file already exists for Dave Barnes_tracks.parquet, skipping...\n",
      "Parquet file already exists for Dave Bartholomew_tracks.parquet, skipping...\n",
      "Parquet file already exists for Dave Brubeck_tracks.parquet, skipping...\n",
      "Parquet file already exists for Dave Burrell_tracks.parquet, skipping...\n",
      "Parquet file already exists for Dave Clarke_tracks.parquet, skipping...\n",
      "Parquet file already exists for Dave Dee, Dozy, Beaky, Mick & Tich_tracks.parquet, skipping...\n",
      "Parquet file already exists for Dave Douglas_tracks.parquet, skipping...\n",
      "Parquet file already exists for Dave Dudley_tracks.parquet, skipping...\n",
      "Parquet file already exists for Dave Edmunds_tracks.parquet, skipping...\n",
      "Parquet file already exists for Dave Gahan_tracks.parquet, skipping...\n",
      "Parquet file already exists for Dave Greenslade_tracks.parquet, skipping...\n",
      "Parquet file already exists for Dave Grohl_tracks.parquet, skipping...\n",
      "Parquet file already exists for Dave Grusin_tracks.parquet, skipping...\n",
      "Parquet file already exists for Dave Hole_tracks.parquet, skipping...\n",
      "Parquet file already exists for Dave Holland_tracks.parquet, skipping...\n",
      "Parquet file already exists for Dave Hollister_tracks.parquet, skipping...\n",
      "Parquet file already exists for Dave Koz_tracks.parquet, skipping...\n",
      "Parquet file already exists for Dave Mason_tracks.parquet, skipping...\n",
      "Parquet file already exists for Dave Matthews Band_tracks.parquet, skipping...\n",
      "Parquet file already exists for Dave Meder_tracks.parquet, skipping...\n",
      "Parquet file already exists for Dave Melillo_tracks.parquet, skipping...\n",
      "Parquet file already exists for Dave Navarro_tracks.parquet, skipping...\n",
      "Parquet file already exists for Dave Pike_tracks.parquet, skipping...\n",
      "Parquet file already exists for Dave Shepherd_tracks.parquet, skipping...\n",
      "Parquet file already exists for Dave Specter_tracks.parquet, skipping...\n",
      "Parquet file already exists for Dave Stryker_tracks.parquet, skipping...\n",
      "Parquet file already exists for Dave Van Ronk_tracks.parquet, skipping...\n",
      "Parquet file already exists for Dave Weckl_tracks.parquet, skipping...\n",
      "Parquet file already exists for Dave Weiner_tracks.parquet, skipping...\n",
      "Parquet file already exists for Dave's True Story_tracks.parquet, skipping...\n",
      "Parquet file already exists for David Ackles_tracks.parquet, skipping...\n",
      "Parquet file already exists for David Allan Coe_tracks.parquet, skipping...\n",
      "Parquet file already exists for David Arkenstone_tracks.parquet, skipping...\n",
      "Failed requesting Theme From Hot Fuzz\n",
      "Failed requesting Village Idiots\n",
      "Failed requesting Hotels, and Killers\n",
      "Failed requesting Murder, Murder, Murder\n",
      "Failed requesting Neighbourhood Watch\n"
     ]
    },
    {
     "name": "stderr",
     "output_type": "stream",
     "text": [
      "Processing David Arnold_tracks.parquet:   6%|▌         | 11/184 [00:00<00:05, 32.80it/s]"
     ]
    },
    {
     "name": "stdout",
     "output_type": "stream",
     "text": [
      "Failed requesting The Hot Fuzz Suite - Hotter And Fuzzier\n",
      "Failed requesting Opening Titles\n",
      "Failed requesting Mina's Theme\n",
      "Failed requesting Contaminated\n",
      "Failed requesting Boxes of Undead\n",
      "Failed requesting Vague in Parts\n",
      "Failed requesting Dracula is God\n",
      "Failed requesting Hello Jonny\n"
     ]
    },
    {
     "name": "stderr",
     "output_type": "stream",
     "text": [
      "Processing David Arnold_tracks.parquet:  10%|█         | 19/184 [00:00<00:04, 35.76it/s]"
     ]
    },
    {
     "name": "stdout",
     "output_type": "stream",
     "text": [
      "Failed requesting Bats are a Little Noisy\n",
      "Failed requesting You are Jonathan Harker\n",
      "Failed requesting Helsing!\n",
      "Failed requesting Greatest of Care\n",
      "Failed requesting Sermon\n",
      "Failed requesting Clearing Her Throat\n",
      "Failed requesting Bad Book\n",
      "Failed requesting The Right One\n"
     ]
    },
    {
     "name": "stderr",
     "output_type": "stream",
     "text": [
      "Processing David Arnold_tracks.parquet:  15%|█▍        | 27/184 [00:00<00:04, 36.23it/s]"
     ]
    },
    {
     "name": "stdout",
     "output_type": "stream",
     "text": [
      "Failed requesting Make it a Long Voyage\n",
      "Failed requesting Learning German\n",
      "Failed requesting A Pineapple\n",
      "Failed requesting In the Mirror\n",
      "Failed requesting Pulsing Jugular\n",
      "Failed requesting Opening\n",
      "Failed requesting Into the House\n",
      "Failed requesting Making a Cake\n",
      "Failed requesting A Tea Party\n"
     ]
    },
    {
     "name": "stderr",
     "output_type": "stream",
     "text": [
      "Processing David Arnold_tracks.parquet:  19%|█▉        | 35/184 [00:01<00:04, 35.89it/s]"
     ]
    },
    {
     "name": "stdout",
     "output_type": "stream",
     "text": [
      "Failed requesting Tiger Arrives\n",
      "Failed requesting Can I Have Tea with You?\n",
      "Failed requesting Eating Tea, Part 1\n",
      "Failed requesting Eating Tea, Part 2\n",
      "Failed requesting Cake!\n",
      "Failed requesting Be Careful It's Hot\n",
      "Failed requesting Prowling\n",
      "Failed requesting In the Cupboard\n"
     ]
    },
    {
     "name": "stderr",
     "output_type": "stream",
     "text": [
      "Processing David Arnold_tracks.parquet:  23%|██▎       | 42/184 [00:02<00:12, 10.97it/s]"
     ]
    },
    {
     "name": "stdout",
     "output_type": "stream",
     "text": [
      "Failed requesting Drinking Daddy's Beer\n",
      "Failed requesting Into the Bathroom\n",
      "Failed requesting At the Beach\n",
      "Failed requesting Bye Bye Tiger\n",
      "Failed requesting Bathtime\n",
      "Failed requesting Daddy's Home\n"
     ]
    },
    {
     "name": "stderr",
     "output_type": "stream",
     "text": [
      "Processing David Arnold_tracks.parquet:  27%|██▋       | 50/184 [00:02<00:07, 17.83it/s]"
     ]
    },
    {
     "name": "stdout",
     "output_type": "stream",
     "text": [
      "Failed requesting To the Café\n",
      "Failed requesting White Christmas (arr. Paul Bateman)\n",
      "Failed requesting It's The Most Wonderful Time Of The Year (arr. Paul Bateman)\n",
      "Failed requesting Let It Snow (arr. Simon Fricker)\n",
      "Failed requesting Sleigh Ride\n",
      "Failed requesting Mary's Boy Child (arr. Paul Bateman)\n",
      "Failed requesting Little Drummer Boy (arr. Paul Bateman)\n",
      "Failed requesting Hansel and Gretel, Overture\n",
      "Failed requesting Have Yourself A Merry Little Christmas (arr. Rod Dunk)\n"
     ]
    },
    {
     "name": "stderr",
     "output_type": "stream",
     "text": [
      "Processing David Arnold_tracks.parquet:  33%|███▎      | 60/184 [00:02<00:04, 26.70it/s]"
     ]
    },
    {
     "name": "stdout",
     "output_type": "stream",
     "text": [
      "Failed requesting I Believe In Father Christmas (arr. Paul Bateman)\n",
      "Failed requesting Winter Wonderland (arr. Paul Bateman)\n",
      "Failed requesting The Christmas Song (arr. Peter Hope)\n",
      "Failed requesting Lieutenant Kije, Troika\n",
      "Failed requesting The Nutcracker Suite, Op. 71a: Miniature Overture\n",
      "Failed requesting The Nutcracker Suite, Op. 71a: Marche\n",
      "Failed requesting The Nutcracker Suite, Op. 71a: Dance of the Sugar-Plum Fairy\n",
      "Failed requesting The Nutcracker Suite, Op. 71a: Russian Dance (Trepak)\n",
      "Failed requesting The Nutcracker Suite, Op. 71a: Arabian Dance (Coffee)\n"
     ]
    },
    {
     "name": "stderr",
     "output_type": "stream",
     "text": [
      "Processing David Arnold_tracks.parquet:  37%|███▋      | 68/184 [00:02<00:03, 31.03it/s]"
     ]
    },
    {
     "name": "stdout",
     "output_type": "stream",
     "text": [
      "Failed requesting The Nutcracker Suite, Op. 71a: Chinese Dance (Tea)\n",
      "Failed requesting The Nutcracker Suite, Op. 71a: Dance of the Reed-Pipes (Merlitons)\n",
      "Failed requesting The Nutcracker Suite, Op. 71a: Waltz of the Flowers\n",
      "Failed requesting Good Omens Opening Title\n",
      "Failed requesting Chattering Nuns\n",
      "Failed requesting Three Card Switch\n",
      "Failed requesting Warlock\n",
      "Failed requesting Adam\n",
      "Failed requesting Lullaby\n"
     ]
    },
    {
     "name": "stderr",
     "output_type": "stream",
     "text": [
      "Processing David Arnold_tracks.parquet:  42%|████▏     | 78/184 [00:03<00:02, 37.01it/s]"
     ]
    },
    {
     "name": "stdout",
     "output_type": "stream",
     "text": [
      "Failed requesting Hell Hound\n",
      "Failed requesting Wrong Boy\n",
      "Failed requesting We're Doomed\n",
      "Failed requesting End Titles - The Theme That Got Left in the Car\n",
      "Failed requesting Witch\n",
      "Failed requesting Newt\n",
      "Failed requesting Anathema\n",
      "Failed requesting The Them\n",
      "Failed requesting Anathema Meets Them\n"
     ]
    },
    {
     "name": "stderr",
     "output_type": "stream",
     "text": [
      "Processing David Arnold_tracks.parquet:  48%|████▊     | 88/184 [00:03<00:02, 39.34it/s]"
     ]
    },
    {
     "name": "stdout",
     "output_type": "stream",
     "text": [
      "Failed requesting Paintball\n",
      "Failed requesting Anathema Investigates\n",
      "Failed requesting Sleeping Adam\n",
      "Failed requesting I Should Cocoa\n",
      "Failed requesting Crucified\n",
      "Failed requesting Modern Classical\n",
      "Failed requesting Perpetual Cycle\n",
      "Failed requesting Minimalist Systems\n",
      "Failed requesting In Perpetuity\n"
     ]
    },
    {
     "name": "stderr",
     "output_type": "stream",
     "text": [
      "Processing David Arnold_tracks.parquet:  53%|█████▎    | 98/184 [00:03<00:02, 39.54it/s]"
     ]
    },
    {
     "name": "stdout",
     "output_type": "stream",
     "text": [
      "Failed requesting Mischievous Pizzicato\n",
      "Failed requesting Treasured Memories\n",
      "Failed requesting Psychosis\n",
      "Failed requesting Living Nightmare\n",
      "Failed requesting Victims\n",
      "Failed requesting Seclusion\n",
      "Failed requesting Metamorphosis\n",
      "Failed requesting Elegant Country House\n",
      "Failed requesting Springtime\n"
     ]
    },
    {
     "name": "stderr",
     "output_type": "stream",
     "text": [
      "Processing David Arnold_tracks.parquet:  56%|█████▌    | 103/184 [00:03<00:01, 40.51it/s]"
     ]
    },
    {
     "name": "stdout",
     "output_type": "stream",
     "text": [
      "Failed requesting Sophisticated Designs\n",
      "Failed requesting State Ceremony\n",
      "Failed requesting Change of Seasons\n",
      "Failed requesting Grace and Style\n",
      "Failed requesting Restless Motion\n",
      "Failed requesting High Society\n",
      "Failed requesting Adagio Lament\n",
      "Failed requesting Pastoral Awakening\n",
      "Failed requesting Toxic Environment\n"
     ]
    },
    {
     "name": "stderr",
     "output_type": "stream",
     "text": [
      "Processing David Arnold_tracks.parquet:  61%|██████▏   | 113/184 [00:04<00:01, 39.65it/s]"
     ]
    },
    {
     "name": "stdout",
     "output_type": "stream",
     "text": [
      "Failed requesting Christmas Spirit\n",
      "Failed requesting European Love Affair\n",
      "Failed requesting Money Talks\n",
      "Failed requesting Commemoration\n",
      "Failed requesting Busy Cooking\n",
      "Failed requesting Clowning Around\n",
      "Failed requesting Winter Lament\n",
      "Failed requesting Dancing Fiddle\n"
     ]
    },
    {
     "name": "stderr",
     "output_type": "stream",
     "text": [
      "Processing David Arnold_tracks.parquet:  67%|██████▋   | 123/184 [00:04<00:01, 39.53it/s]"
     ]
    },
    {
     "name": "stdout",
     "output_type": "stream",
     "text": [
      "Failed requesting Laid to Rest\n",
      "Failed requesting March of the Rascals\n",
      "Failed requesting Stately Homes\n",
      "Failed requesting Summer Jaunt\n",
      "Failed requesting Sorrow and Solitude\n",
      "Failed requesting Country Follies\n",
      "Failed requesting Second Afghan War\n",
      "Failed requesting Opening Titles\n",
      "Failed requesting Shooting Spree\n"
     ]
    },
    {
     "name": "stderr",
     "output_type": "stream",
     "text": [
      "Processing David Arnold_tracks.parquet:  72%|███████▏  | 133/184 [00:04<00:01, 40.88it/s]"
     ]
    },
    {
     "name": "stdout",
     "output_type": "stream",
     "text": [
      "Failed requesting Mr Hooper\n",
      "Failed requesting Signing\n",
      "Failed requesting The Maze\n",
      "Failed requesting Broken Window\n",
      "Failed requesting Cuttings\n",
      "Failed requesting Unveiling the Bride\n",
      "Failed requesting All the Women\n",
      "Failed requesting Two of Us\n",
      "Failed requesting The Stranger\n"
     ]
    },
    {
     "name": "stderr",
     "output_type": "stream",
     "text": [
      "Processing David Arnold_tracks.parquet:  75%|███████▌  | 138/184 [00:04<00:01, 39.71it/s]"
     ]
    },
    {
     "name": "stdout",
     "output_type": "stream",
     "text": [
      "Failed requesting 59 Missed Calls\n",
      "Failed requesting Murder This Time\n",
      "Failed requesting AGRA\n",
      "Failed requesting Absolute Trust\n",
      "Failed requesting Running Away\n",
      "Failed requesting Cheating\n",
      "Failed requesting Sharks\n",
      "Failed requesting Never a Field Agent\n",
      "Failed requesting Gunshot\n"
     ]
    },
    {
     "name": "stderr",
     "output_type": "stream",
     "text": [
      "Processing David Arnold_tracks.parquet:  80%|████████  | 148/184 [00:04<00:00, 40.24it/s]"
     ]
    },
    {
     "name": "stdout",
     "output_type": "stream",
     "text": [
      "Failed requesting Get Your Attention\n",
      "Failed requesting Stopped Lying Down\n",
      "Failed requesting Too Heavy\n",
      "Failed requesting Window Deduction\n",
      "Failed requesting Anyone\n",
      "Failed requesting Favourite Room\n",
      "Failed requesting You Look Different\n",
      "Failed requesting No Charges\n",
      "Failed requesting Who I Want to Be\n"
     ]
    },
    {
     "name": "stderr",
     "output_type": "stream",
     "text": [
      "Processing David Arnold_tracks.parquet:  86%|████████▌ | 158/184 [00:05<00:00, 41.36it/s]"
     ]
    },
    {
     "name": "stdout",
     "output_type": "stream",
     "text": [
      "Failed requesting In the Tower\n",
      "Failed requesting She Was Different\n",
      "Failed requesting Doing a Good Thing\n",
      "Failed requesting 3 Suspects\n",
      "Failed requesting Pick Up\n",
      "Failed requesting Brother Mine\n",
      "Failed requesting Bones\n",
      "Failed requesting The Hall\n",
      "Failed requesting I Had No One\n"
     ]
    },
    {
     "name": "stderr",
     "output_type": "stream",
     "text": [
      "Processing David Arnold_tracks.parquet:  91%|█████████▏| 168/184 [00:05<00:00, 37.20it/s]"
     ]
    },
    {
     "name": "stdout",
     "output_type": "stream",
     "text": [
      "Failed requesting Open Your Eyes\n",
      "Failed requesting Always the Grown Up\n",
      "Failed requesting Who You Really Are\n",
      "Failed requesting Stopped Lying Down\n",
      "Failed requesting Too Heavy\n",
      "Failed requesting Window Deduction\n",
      "Failed requesting Anyone\n",
      "Failed requesting Favourite Room\n",
      "Failed requesting You Look Different\n"
     ]
    },
    {
     "name": "stderr",
     "output_type": "stream",
     "text": [
      "Processing David Arnold_tracks.parquet:  96%|█████████▌| 176/184 [00:05<00:00, 38.23it/s]"
     ]
    },
    {
     "name": "stdout",
     "output_type": "stream",
     "text": [
      "Failed requesting No Charges\n",
      "Failed requesting Who I Want to Be\n",
      "Failed requesting In the Tower\n",
      "Failed requesting The Stranger\n",
      "Failed requesting 59 Missed Calls\n",
      "Failed requesting Murder This Time\n",
      "Failed requesting AGRA\n",
      "Failed requesting Absolute Trust\n",
      "Failed requesting Running Away\n"
     ]
    },
    {
     "name": "stderr",
     "output_type": "stream",
     "text": [
      "Processing David Arnold_tracks.parquet: 100%|██████████| 184/184 [00:05<00:00, 31.65it/s]\n",
      "Processing David Axelrod_tracks.parquet:   0%|          | 0/227 [00:00<?, ?it/s]"
     ]
    },
    {
     "name": "stdout",
     "output_type": "stream",
     "text": [
      "Failed requesting Cheating\n",
      "Failed requesting Sharks\n",
      "Failed requesting Never a Field Agent\n",
      "Failed requesting Gunshot\n",
      "Failed requesting Get Your Attention\n",
      "Failed requesting Paint it Black\n",
      "Failed requesting The Edge\n",
      "Failed requesting Song of Innocence\n"
     ]
    },
    {
     "name": "stderr",
     "output_type": "stream",
     "text": [
      "Processing David Axelrod_tracks.parquet:   4%|▍         | 9/227 [00:00<00:05, 40.10it/s]"
     ]
    },
    {
     "name": "stdout",
     "output_type": "stream",
     "text": [
      "Failed requesting Holy Are You\n",
      "Failed requesting So Slow\n",
      "Failed requesting Tensity\n",
      "Failed requesting Holy Thursday\n",
      "Failed requesting Urizen\n",
      "Failed requesting The Sick Rose\n",
      "Failed requesting London\n"
     ]
    },
    {
     "name": "stderr",
     "output_type": "stream",
     "text": [
      "Processing David Axelrod_tracks.parquet:   6%|▌         | 14/227 [00:00<00:06, 31.23it/s]"
     ]
    },
    {
     "name": "stdout",
     "output_type": "stream",
     "text": [
      "Failed requesting The Human Abstract\n",
      "Failed requesting Smile\n",
      "Failed requesting Norwegian Wood (Spanish Wood)\n",
      "Failed requesting Paint It Black\n",
      "Failed requesting The Edge\n",
      "Failed requesting Song Of Innocence\n",
      "Failed requesting Holy Are You\n",
      "Failed requesting So Low\n"
     ]
    },
    {
     "name": "stderr",
     "output_type": "stream",
     "text": [
      "Processing David Axelrod_tracks.parquet:  10%|▉         | 22/227 [00:00<00:06, 34.01it/s]"
     ]
    },
    {
     "name": "stdout",
     "output_type": "stream",
     "text": [
      "Failed requesting Tensity\n",
      "Failed requesting Holy Thursday\n",
      "Failed requesting Urizen\n",
      "Failed requesting The Sick Rose\n",
      "Failed requesting The Human Abstract\n",
      "Failed requesting The Smile\n",
      "Failed requesting Norwegian Wood (Spanish Wood)\n"
     ]
    },
    {
     "name": "stderr",
     "output_type": "stream",
     "text": [
      "Processing David Axelrod_tracks.parquet:  14%|█▎        | 31/227 [00:00<00:05, 36.72it/s]"
     ]
    },
    {
     "name": "stdout",
     "output_type": "stream",
     "text": [
      "Failed requesting House Of Mirrors - Remastered\n",
      "Failed requesting The Edge - Digital Remaster/2005\n",
      "Failed requesting Pula Yetla\n",
      "Failed requesting Lifetime Monologue - Remastered\n",
      "Failed requesting You've Made Me So Very Happy - Remastered\n",
      "Failed requesting The Smile\n",
      "Failed requesting Songs Of Innocence\n",
      "Failed requesting The Mental Traveler\n",
      "Failed requesting A Divine Image - Remastered\n"
     ]
    },
    {
     "name": "stderr",
     "output_type": "stream",
     "text": [
      "Processing David Axelrod_tracks.parquet:  17%|█▋        | 39/227 [00:01<00:05, 33.79it/s]"
     ]
    },
    {
     "name": "stdout",
     "output_type": "stream",
     "text": [
      "Failed requesting London\n",
      "Failed requesting The Fly\n",
      "Failed requesting The Human Abstract - 2005 Remaster\n",
      "Failed requesting Warning Talk, Part One - Remastered\n",
      "Failed requesting Warning Talk, Part Three\n"
     ]
    },
    {
     "name": "stderr",
     "output_type": "stream",
     "text": [
      "Processing David Axelrod_tracks.parquet:  19%|█▉        | 43/227 [00:01<00:06, 26.64it/s]"
     ]
    },
    {
     "name": "stdout",
     "output_type": "stream",
     "text": [
      "Failed requesting The Signs, Part One\n",
      "Failed requesting Theme From The Fox\n",
      "Failed requesting Tensity\n",
      "Failed requesting Introit/Krystallnacht\n",
      "Failed requesting Kyrie/Trains\n",
      "Failed requesting Sanctus/Auschwitz\n",
      "Failed requesting Dies Irae/Gas Chamber\n",
      "Failed requesting Miles Away\n"
     ]
    },
    {
     "name": "stderr",
     "output_type": "stream",
     "text": [
      "Processing David Axelrod_tracks.parquet:  24%|██▍       | 55/227 [00:01<00:05, 33.71it/s]"
     ]
    },
    {
     "name": "stdout",
     "output_type": "stream",
     "text": [
      "Failed requesting One\n",
      "Failed requesting 1,000 Rads\n",
      "Failed requesting Ken Russell\n",
      "Failed requesting Go For It\n",
      "Failed requesting Reverie\n",
      "Failed requesting Get Up Off Your Knees\n",
      "Failed requesting Cast Your Fate To The Wind\n",
      "Failed requesting You're So Vain\n"
     ]
    },
    {
     "name": "stderr",
     "output_type": "stream",
     "text": [
      "Processing David Axelrod_tracks.parquet:  26%|██▋       | 60/227 [00:01<00:04, 35.93it/s]"
     ]
    },
    {
     "name": "stdout",
     "output_type": "stream",
     "text": [
      "Failed requesting My Family\n",
      "Failed requesting Mucho Chupar\n",
      "Failed requesting Don't You Worry 'Bout A Thing\n",
      "Failed requesting It Ain't For You\n",
      "Failed requesting Everything Counts\n",
      "Failed requesting Overture\n",
      "Failed requesting Comfort Ye My People\n",
      "Failed requesting And the Glory of the Lord\n"
     ]
    },
    {
     "name": "stderr",
     "output_type": "stream",
     "text": [
      "Processing David Axelrod_tracks.parquet:  30%|██▉       | 68/227 [00:01<00:04, 37.04it/s]"
     ]
    },
    {
     "name": "stdout",
     "output_type": "stream",
     "text": [
      "Failed requesting Behold\n",
      "Failed requesting Pastoral Symphony\n",
      "Failed requesting And the Angel Said Unto Them\n",
      "Failed requesting Glory to God\n",
      "Failed requesting Hallelujah\n",
      "Failed requesting Worthy Is the Lamb\n",
      "Failed requesting The Warnings Part I\n"
     ]
    },
    {
     "name": "stderr",
     "output_type": "stream",
     "text": [
      "Processing David Axelrod_tracks.parquet:  34%|███▍      | 77/227 [00:02<00:04, 36.53it/s]"
     ]
    },
    {
     "name": "stdout",
     "output_type": "stream",
     "text": [
      "Failed requesting The Warnings Part II\n",
      "Failed requesting The Warnings Part III\n",
      "Failed requesting The Warnings Part IV\n",
      "Failed requesting The Signs Part I\n",
      "Failed requesting The Signs Part I\n",
      "Failed requesting The Signs Part II\n",
      "Failed requesting The Signs Part III\n",
      "Failed requesting The Signs Part IV\n",
      "Failed requesting The Poison Tree\n"
     ]
    },
    {
     "name": "stderr",
     "output_type": "stream",
     "text": [
      "Processing David Axelrod_tracks.parquet:  38%|███▊      | 86/227 [00:02<00:03, 37.76it/s]"
     ]
    },
    {
     "name": "stdout",
     "output_type": "stream",
     "text": [
      "Failed requesting A Little Girl Lost\n",
      "Failed requesting London\n",
      "Failed requesting The Sick Rose\n",
      "Failed requesting The School Boy\n",
      "Failed requesting The Human Abstract\n",
      "Failed requesting The Fly\n",
      "Failed requesting A Divine Image\n",
      "Failed requesting Urizen\n",
      "Failed requesting Holy Thursday\n"
     ]
    },
    {
     "name": "stderr",
     "output_type": "stream",
     "text": [
      "Processing David Axelrod_tracks.parquet:  42%|████▏     | 95/227 [00:02<00:03, 38.49it/s]"
     ]
    },
    {
     "name": "stdout",
     "output_type": "stream",
     "text": [
      "Failed requesting The Smile\n",
      "Failed requesting A Dream\n",
      "Failed requesting Song Of Innocence\n",
      "Failed requesting Merlin's Prophecy\n",
      "Failed requesting The Mental Traveler\n",
      "Failed requesting The Signs, Part One\n",
      "Failed requesting The Signs Part One - Instrumental\n",
      "Failed requesting Warning Talk Part Three - Instrumental\n"
     ]
    },
    {
     "name": "stderr",
     "output_type": "stream",
     "text": [
      "Processing David Axelrod_tracks.parquet:  45%|████▌     | 103/227 [00:02<00:03, 37.41it/s]"
     ]
    },
    {
     "name": "stdout",
     "output_type": "stream",
     "text": [
      "Failed requesting Pula Yetla - Alternate Mix\n",
      "Failed requesting Pula Yetla\n",
      "Failed requesting Thursday Afternoon - 2005 Digital Remaster\n",
      "Failed requesting Holy Thursday\n",
      "Failed requesting Probably On Thursday\n",
      "Failed requesting Rain Every Thursday\n",
      "Failed requesting Thursday Night\n",
      "Failed requesting Thirsty Thursday\n"
     ]
    },
    {
     "name": "stderr",
     "output_type": "stream",
     "text": [
      "Processing David Axelrod_tracks.parquet:  49%|████▉     | 111/227 [00:03<00:03, 36.21it/s]"
     ]
    },
    {
     "name": "stdout",
     "output_type": "stream",
     "text": [
      "Failed requesting Thursday\n",
      "Failed requesting To Claudia On Thursday\n",
      "Failed requesting Houston St. Thursday Afternoon\n",
      "Failed requesting Thursday Treatments\n",
      "Failed requesting Five O'Clock Or Thursday\n",
      "Failed requesting Thursday - Mono\n",
      "Failed requesting Thursday Night\n",
      "Failed requesting Thursday Morning Revival\n"
     ]
    },
    {
     "name": "stderr",
     "output_type": "stream",
     "text": [
      "Processing David Axelrod_tracks.parquet:  51%|█████     | 115/227 [00:03<00:03, 35.89it/s]"
     ]
    },
    {
     "name": "stdout",
     "output_type": "stream",
     "text": [
      "Failed requesting Thursday Night Off\n",
      "Failed requesting Thursday Afternoon\n",
      "Failed requesting Everything Counts\n",
      "Failed requesting Funky Junkie\n",
      "Failed requesting Shifting Gears\n",
      "Failed requesting Don’t Leave\n"
     ]
    },
    {
     "name": "stderr",
     "output_type": "stream",
     "text": [
      "Processing David Axelrod_tracks.parquet:  54%|█████▍    | 123/227 [00:04<00:08, 12.52it/s]"
     ]
    },
    {
     "name": "stdout",
     "output_type": "stream",
     "text": [
      "Failed requesting Righteousness\n",
      "Failed requesting Goodbye, So Long\n",
      "Failed requesting Mystic Brew\n",
      "Failed requesting Atomic Dog\n",
      "Failed requesting Four Women\n",
      "Failed requesting Daylight\n",
      "Failed requesting Woman To Woman\n"
     ]
    },
    {
     "name": "stderr",
     "output_type": "stream",
     "text": [
      "Processing David Axelrod_tracks.parquet:  58%|█████▊    | 132/227 [00:05<00:09,  9.85it/s]"
     ]
    },
    {
     "name": "stdout",
     "output_type": "stream",
     "text": [
      "Failed requesting The Payback\n",
      "Failed requesting Wind Parade\n",
      "Failed requesting Holy Thursday\n",
      "Failed requesting First Light\n",
      "Failed requesting Maybe Tomorrow\n",
      "Failed requesting Summer In The City\n",
      "Failed requesting Today\n",
      "Failed requesting Lovin' Feeling\n",
      "Failed requesting Sinnerman\n"
     ]
    },
    {
     "name": "stderr",
     "output_type": "stream",
     "text": [
      "Processing David Axelrod_tracks.parquet:  63%|██████▎   | 144/227 [00:06<00:04, 18.74it/s]"
     ]
    },
    {
     "name": "stdout",
     "output_type": "stream",
     "text": [
      "Failed requesting You Are So Beautiful\n",
      "Failed requesting Up For The Downstroke - Live\n",
      "Failed requesting Dolphin Dance\n",
      "Failed requesting Make It Good To Yourself\n",
      "Failed requesting Chunky\n",
      "Failed requesting Mister Magic\n",
      "Failed requesting Machine Gun\n",
      "Failed requesting Harlem River Drive\n"
     ]
    },
    {
     "name": "stderr",
     "output_type": "stream",
     "text": [
      "Processing David Axelrod_tracks.parquet:  65%|██████▌   | 148/227 [00:06<00:03, 21.75it/s]"
     ]
    },
    {
     "name": "stdout",
     "output_type": "stream",
     "text": [
      "Failed requesting Get Up Off Your Knees\n",
      "Failed requesting The Thang\n",
      "Failed requesting Root Down (And Get It) - Live\n",
      "Failed requesting Glide - Original Mix\n",
      "Failed requesting Sweet Dreams Are Made Of This\n",
      "Failed requesting Unicorn\n",
      "Failed requesting It's Your Thing\n"
     ]
    },
    {
     "name": "stderr",
     "output_type": "stream",
     "text": [
      "Processing David Axelrod_tracks.parquet:  69%|██████▊   | 156/227 [00:06<00:02, 26.81it/s]"
     ]
    },
    {
     "name": "stdout",
     "output_type": "stream",
     "text": [
      "Failed requesting Uno Esta\n",
      "Failed requesting Knucklehead\n",
      "Failed requesting Dear Prudence\n",
      "Failed requesting The Worm\n",
      "Failed requesting \"Sanford & Son Theme\" - NBC-TV (The Streetbeater)\n"
     ]
    },
    {
     "name": "stderr",
     "output_type": "stream",
     "text": [
      "Processing David Axelrod_tracks.parquet:  72%|███████▏  | 164/227 [00:07<00:05, 11.57it/s]"
     ]
    },
    {
     "name": "stdout",
     "output_type": "stream",
     "text": [
      "Failed requesting It Feels So Good\n",
      "Failed requesting Autumn Nocturne\n",
      "Failed requesting New York Times\n",
      "Failed requesting Manteca - Funky Lowlives Remix\n",
      "Failed requesting Lifetime Monologue - Remastered\n",
      "Failed requesting Book Of Slim\n",
      "Failed requesting Urizen - Remastered\n",
      "Failed requesting Adventures In Paradise\n",
      "Failed requesting Tell Me Something Good\n"
     ]
    },
    {
     "name": "stderr",
     "output_type": "stream",
     "text": [
      "Processing David Axelrod_tracks.parquet:  77%|███████▋  | 174/227 [00:07<00:02, 19.39it/s]"
     ]
    },
    {
     "name": "stdout",
     "output_type": "stream",
     "text": [
      "Failed requesting Dig On It\n",
      "Failed requesting That Fine Day\n",
      "Failed requesting Beyond Forever\n",
      "Failed requesting Just A Love Child\n",
      "Failed requesting Feeling You Feeling Me\n",
      "Failed requesting A Day In The Life\n",
      "Failed requesting The Sybil\n",
      "Failed requesting Fly Away\n",
      "Failed requesting (I'm A) Fool For You\n"
     ]
    },
    {
     "name": "stderr",
     "output_type": "stream",
     "text": [
      "Processing David Axelrod_tracks.parquet:  78%|███████▊  | 178/227 [00:08<00:02, 22.02it/s]"
     ]
    },
    {
     "name": "stdout",
     "output_type": "stream",
     "text": [
      "Failed requesting Moon Rappin'\n",
      "Failed requesting The Smile\n",
      "Failed requesting You May Be Blue\n",
      "Failed requesting Longing of The Leftist\n",
      "Failed requesting Open Air Dance Pt 2\n",
      "Failed requesting New Wedding\n"
     ]
    },
    {
     "name": "stderr",
     "output_type": "stream",
     "text": [
      "Processing David Axelrod_tracks.parquet:  82%|████████▏ | 186/227 [00:08<00:01, 26.37it/s]"
     ]
    },
    {
     "name": "stdout",
     "output_type": "stream",
     "text": [
      "Failed requesting No Time For Time\n",
      "Failed requesting When The Bible Was Wrote\n",
      "Failed requesting Lion Mountain\n",
      "Failed requesting Spendin' Days\n",
      "Failed requesting A Contrivance\n",
      "Failed requesting Spelllbinder\n",
      "Failed requesting Good Friend\n",
      "Failed requesting Nbadva Kure\n"
     ]
    },
    {
     "name": "stderr",
     "output_type": "stream",
     "text": [
      "Processing David Axelrod_tracks.parquet:  85%|████████▌ | 194/227 [00:08<00:01, 30.44it/s]"
     ]
    },
    {
     "name": "stdout",
     "output_type": "stream",
     "text": [
      "Failed requesting Pseudo Elitist Vagueness\n",
      "Failed requesting The Signs Part I\n",
      "Failed requesting The Signs Part I\n",
      "Failed requesting Introduction By Jimmy Lyons - Remastered\n",
      "Failed requesting 33 222 1 222 - Live;1997 Remastered Version\n",
      "Failed requesting Slow Change - 2004 Remastered Version\n",
      "Failed requesting Thème De Yoyo\n",
      "Failed requesting Ghost Of Congo Square\n"
     ]
    },
    {
     "name": "stderr",
     "output_type": "stream",
     "text": [
      "Processing David Axelrod_tracks.parquet:  89%|████████▉ | 202/227 [00:08<00:00, 32.28it/s]"
     ]
    },
    {
     "name": "stdout",
     "output_type": "stream",
     "text": [
      "Failed requesting Ise Oluwa - Remastered\n",
      "Failed requesting Afrique\n",
      "Failed requesting I'm Stuck\n",
      "Failed requesting Trippin' the Lovelight Fantastic (feat. Nya)\n",
      "Failed requesting Slicker Than Most\n",
      "Failed requesting Shadows Lights\n",
      "Failed requesting Streets of Calcutta - Live\n",
      "Failed requesting Fun In The Church\n"
     ]
    },
    {
     "name": "stderr",
     "output_type": "stream",
     "text": [
      "Processing David Axelrod_tracks.parquet:  91%|█████████ | 206/227 [00:08<00:00, 32.76it/s]"
     ]
    },
    {
     "name": "stdout",
     "output_type": "stream",
     "text": [
      "Failed requesting Slow Bars\n",
      "Failed requesting Lazy Afternoon - Remastered 2004\n",
      "Failed requesting Dat Dere\n",
      "Failed requesting Sweet Honey Bee\n",
      "Failed requesting Comes Love\n"
     ]
    },
    {
     "name": "stderr",
     "output_type": "stream",
     "text": [
      "Processing David Axelrod_tracks.parquet:  95%|█████████▍| 215/227 [00:09<00:00, 31.50it/s]"
     ]
    },
    {
     "name": "stdout",
     "output_type": "stream",
     "text": [
      "Failed requesting Hasaan's Dream - Rudy Van Gelder Edition/2007 Digital Remaster\n",
      "Failed requesting Soviet Connection (Theme from GTA IV)\n",
      "Failed requesting Dirty New Yorker - (From H.N.I.C. Part 2 Sessions)\n",
      "Failed requesting No Sex For Ben\n",
      "Failed requesting No Fraid A\n",
      "Failed requesting Where's My Money\n",
      "Failed requesting I Want You\n",
      "Failed requesting Rocky Mountain Way\n"
     ]
    },
    {
     "name": "stderr",
     "output_type": "stream",
     "text": [
      "Processing David Axelrod_tracks.parquet:  98%|█████████▊| 223/227 [00:09<00:00, 33.27it/s]"
     ]
    },
    {
     "name": "stdout",
     "output_type": "stream",
     "text": [
      "Failed requesting Stand Up Jamrock\n",
      "Failed requesting Liberty City: The Invasion\n",
      "Failed requesting Vagabond\n",
      "Failed requesting On A Journey\n",
      "Failed requesting Nickname\n",
      "Failed requesting Holy Thursday\n",
      "Failed requesting War Is Necessary\n",
      "Failed requesting Zombie\n"
     ]
    },
    {
     "name": "stderr",
     "output_type": "stream",
     "text": [
      "Processing David Axelrod_tracks.parquet: 100%|██████████| 227/227 [00:09<00:00, 23.89it/s]\n",
      "Processing David Clavijo_tracks.parquet:   2%|▏         | 4/241 [00:00<00:06, 37.21it/s]"
     ]
    },
    {
     "name": "stdout",
     "output_type": "stream",
     "text": [
      "Failed requesting 5:23 (Maiden Voyage)\n",
      "Parquet file already exists for David Baerwald_tracks.parquet, skipping...\n",
      "Parquet file already exists for David Ball_tracks.parquet, skipping...\n",
      "Parquet file already exists for David Banner_tracks.parquet, skipping...\n",
      "Parquet file already exists for David Bazan_tracks.parquet, skipping...\n",
      "Parquet file already exists for David Blue_tracks.parquet, skipping...\n",
      "Parquet file already exists for David Bowie_tracks.parquet, skipping...\n",
      "Parquet file already exists for David Bromberg_tracks.parquet, skipping...\n",
      "Parquet file already exists for David Byrne_tracks.parquet, skipping...\n",
      "Parquet file already exists for David Cassidy_tracks.parquet, skipping...\n",
      "Failed requesting From the Depths\n",
      "Failed requesting When We Were Together\n",
      "Failed requesting Fly With Me\n",
      "Failed requesting The Song of Wisdom\n",
      "Failed requesting Fragile World (feat. Laura Powers)\n",
      "Failed requesting Sanctus Dominus\n"
     ]
    },
    {
     "name": "stderr",
     "output_type": "stream",
     "text": [
      "Processing David Clavijo_tracks.parquet:   5%|▍         | 12/241 [00:00<00:06, 35.77it/s]"
     ]
    },
    {
     "name": "stdout",
     "output_type": "stream",
     "text": [
      "Failed requesting Sitting on the Seawall (feat. Premik Russell Tubbs)\n",
      "Failed requesting The Journey (feat. Charlee Brooks)\n",
      "Failed requesting Où Est Mon Bonheur? (feat. Chad Lawson)\n",
      "Failed requesting Out of the Depths (feat. Charlee Brooks)\n",
      "Failed requesting Fragile World (Bonus Track) [feat. Rosa Cedrón & Chad Lawson]\n",
      "Failed requesting Dancing On the Moon\n",
      "Failed requesting Distant Love\n",
      "Failed requesting Es Vedra\n"
     ]
    },
    {
     "name": "stderr",
     "output_type": "stream",
     "text": [
      "Processing David Clavijo_tracks.parquet:   8%|▊         | 20/241 [00:00<00:05, 37.80it/s]"
     ]
    },
    {
     "name": "stdout",
     "output_type": "stream",
     "text": [
      "Failed requesting Las Dunas\n",
      "Failed requesting Nowhere\n",
      "Failed requesting Sailing In My Dreams\n",
      "Failed requesting African Spirit\n",
      "Failed requesting East Winds\n",
      "Failed requesting Uttara Kanda\n",
      "Failed requesting Promises\n",
      "Failed requesting Eclipse\n",
      "Failed requesting Metamorphosis\n"
     ]
    },
    {
     "name": "stderr",
     "output_type": "stream",
     "text": [
      "Processing David Clavijo_tracks.parquet:  12%|█▏        | 28/241 [00:00<00:06, 31.58it/s]"
     ]
    },
    {
     "name": "stdout",
     "output_type": "stream",
     "text": [
      "Failed requesting Longing to See You...\n",
      "Failed requesting Inisheer\n",
      "Failed requesting Nowhere (Christmas Version)\n",
      "Failed requesting Fragile World (feat. Laura Powers)\n",
      "Failed requesting Volar\n",
      "Failed requesting Reflections\n"
     ]
    },
    {
     "name": "stderr",
     "output_type": "stream",
     "text": [
      "Processing David Clavijo_tracks.parquet:  13%|█▎        | 32/241 [00:00<00:06, 32.38it/s]"
     ]
    },
    {
     "name": "stdout",
     "output_type": "stream",
     "text": [
      "Failed requesting I Go Now - Chillout Mix\n",
      "Failed requesting Here Was an Angel - Original Mix\n",
      "Failed requesting Everywhere You Go\n",
      "Failed requesting Marbella Sunrise\n",
      "Failed requesting Under the Sea - Ambient Mix\n",
      "Failed requesting Keep Watching the Stars\n",
      "Failed requesting No Matter\n"
     ]
    },
    {
     "name": "stderr",
     "output_type": "stream",
     "text": [
      "Processing David Clavijo_tracks.parquet:  17%|█▋        | 40/241 [00:01<00:06, 32.97it/s]"
     ]
    },
    {
     "name": "stdout",
     "output_type": "stream",
     "text": [
      "Failed requesting Promises - Original Mix\n",
      "Failed requesting Cafe Con Leche - Original Mix\n",
      "Failed requesting Boslamb - Original Mix\n",
      "Failed requesting Nambuco - Original Mix\n",
      "Failed requesting Magical Mastella - Original Mix\n",
      "Failed requesting Always Near - Original Mix\n",
      "Failed requesting Love Finds You - Ibiza Lounge Mix\n"
     ]
    },
    {
     "name": "stderr",
     "output_type": "stream",
     "text": [
      "Processing David Clavijo_tracks.parquet:  20%|█▉        | 48/241 [00:01<00:05, 32.38it/s]"
     ]
    },
    {
     "name": "stdout",
     "output_type": "stream",
     "text": [
      "Failed requesting Late Back - Kay Fischer Sax Mix\n",
      "Failed requesting Beautiful - Original Mix\n",
      "Failed requesting Stronger Love - Original Mix\n",
      "Failed requesting Mar Del Amor - Original Mix\n",
      "Failed requesting Lighthouse - Original Mix\n",
      "Failed requesting At First Light - Original Mix\n",
      "Failed requesting One Love Bossa Nova - Original Mix\n"
     ]
    },
    {
     "name": "stderr",
     "output_type": "stream",
     "text": [
      "Processing David Clavijo_tracks.parquet:  23%|██▎       | 56/241 [00:01<00:05, 32.71it/s]"
     ]
    },
    {
     "name": "stdout",
     "output_type": "stream",
     "text": [
      "Failed requesting Pappas Do, Pappas Don't - Original Mix\n",
      "Failed requesting Silent Traveler\n",
      "Failed requesting Sitting on the Seawall - Original Mix\n",
      "Failed requesting Caminho De Amor - Original Mix\n",
      "Failed requesting My Catalyst\n",
      "Failed requesting Don't Leave - Original Mix\n",
      "Failed requesting Slightly Naughty - Original Mix\n",
      "Failed requesting Along the Coast - Original Mix\n"
     ]
    },
    {
     "name": "stderr",
     "output_type": "stream",
     "text": [
      "Processing David Clavijo_tracks.parquet:  27%|██▋       | 64/241 [00:01<00:05, 30.24it/s]"
     ]
    },
    {
     "name": "stdout",
     "output_type": "stream",
     "text": [
      "Failed requesting We Can Ride - Original Mix\n",
      "Failed requesting Amor - Original Mix\n",
      "Failed requesting Samba De La Tejita - Original Mix\n",
      "Failed requesting Let Him Love You\n",
      "Failed requesting Serenade - Eriq Johnson Remix\n",
      "Failed requesting Stay - Original Mix\n"
     ]
    },
    {
     "name": "stderr",
     "output_type": "stream",
     "text": [
      "Processing David Clavijo_tracks.parquet:  28%|██▊       | 68/241 [00:02<00:05, 29.21it/s]"
     ]
    },
    {
     "name": "stdout",
     "output_type": "stream",
     "text": [
      "Failed requesting All I Care - Original Mix\n",
      "Failed requesting The Charming Island\n",
      "Failed requesting Drifting Closer - Original Mix\n",
      "Failed requesting Be Kind - Original Mix\n",
      "Failed requesting Safe Harbour - Original Mix\n",
      "Failed requesting A Last Dance - Original Mix\n",
      "Failed requesting Ser Mio - Original MIx\n"
     ]
    },
    {
     "name": "stderr",
     "output_type": "stream",
     "text": [
      "Processing David Clavijo_tracks.parquet:  30%|██▉       | 72/241 [00:02<00:05, 30.28it/s]"
     ]
    },
    {
     "name": "stdout",
     "output_type": "stream",
     "text": [
      "Failed requesting Fatuh\n",
      "Failed requesting Lifetime\n",
      "Failed requesting Tocca Me - Original Mix\n",
      "Failed requesting Make It Happen - Original Mix\n"
     ]
    },
    {
     "name": "stderr",
     "output_type": "stream",
     "text": [
      "Processing David Clavijo_tracks.parquet:  33%|███▎      | 80/241 [00:02<00:05, 28.03it/s]"
     ]
    },
    {
     "name": "stdout",
     "output_type": "stream",
     "text": [
      "Failed requesting Sensation of Love - B.Infinite Instrumental Version\n",
      "Failed requesting Las Dunas - Original Mix\n",
      "Failed requesting Havan Highway\n",
      "Failed requesting A La Luna - Euphonic Traveller Remix\n",
      "Failed requesting A Photograph of You\n",
      "Failed requesting Soulful\n",
      "Failed requesting A Wonderful Day\n",
      "Failed requesting Sensation - Original Mix\n"
     ]
    },
    {
     "name": "stderr",
     "output_type": "stream",
     "text": [
      "Processing David Clavijo_tracks.parquet:  37%|███▋      | 88/241 [00:02<00:05, 29.58it/s]"
     ]
    },
    {
     "name": "stdout",
     "output_type": "stream",
     "text": [
      "Failed requesting 1000 Miles Away - Simon & Florzinho Remix\n",
      "Failed requesting That Summer - The Balearica Anthem\n",
      "Failed requesting Mahasamadhi - Original Mix\n",
      "Failed requesting Eastern Sunrise - Original Mix\n",
      "Failed requesting Night Shift\n",
      "Failed requesting Journey to Mandurai - Original Mix\n",
      "Failed requesting Promises - Original Mix\n"
     ]
    },
    {
     "name": "stderr",
     "output_type": "stream",
     "text": [
      "Processing David Clavijo_tracks.parquet:  40%|███▉      | 96/241 [00:03<00:04, 31.14it/s]"
     ]
    },
    {
     "name": "stdout",
     "output_type": "stream",
     "text": [
      "Failed requesting Divina\n",
      "Failed requesting Mysterious Girl - Original Mix\n",
      "Failed requesting Hope\n",
      "Failed requesting Indah\n",
      "Failed requesting Sonderzug\n",
      "Failed requesting Yammah\n",
      "Failed requesting Sun of Desert\n"
     ]
    },
    {
     "name": "stderr",
     "output_type": "stream",
     "text": [
      "Processing David Clavijo_tracks.parquet:  41%|████▏     | 100/241 [00:03<00:04, 31.52it/s]"
     ]
    },
    {
     "name": "stdout",
     "output_type": "stream",
     "text": [
      "Failed requesting Clandestino\n",
      "Failed requesting Beat of the Old Bazar - Original Mix\n",
      "Failed requesting Whitewater - White Version\n",
      "Failed requesting Slow Jam\n",
      "Failed requesting Little One\n",
      "Failed requesting The Childhood Dreams - Grooveadelic Instrumental Remix\n",
      "Failed requesting Flourish\n"
     ]
    },
    {
     "name": "stderr",
     "output_type": "stream",
     "text": [
      "Processing David Clavijo_tracks.parquet:  45%|████▍     | 108/241 [00:03<00:04, 27.74it/s]"
     ]
    },
    {
     "name": "stdout",
     "output_type": "stream",
     "text": [
      "Failed requesting A Night Under the Stars\n",
      "Failed requesting Mother Nature\n",
      "Failed requesting Chill Out\n",
      "Failed requesting Down the Road\n",
      "Failed requesting Sitting on the Seawall\n"
     ]
    },
    {
     "name": "stderr",
     "output_type": "stream",
     "text": [
      "Processing David Clavijo_tracks.parquet:  48%|████▊     | 116/241 [00:03<00:04, 30.28it/s]"
     ]
    },
    {
     "name": "stdout",
     "output_type": "stream",
     "text": [
      "Failed requesting The Rory Glory Smokadelic Bloomdub - Living Room's Dubalicious Edit\n",
      "Failed requesting Falling\n",
      "Failed requesting Closer to the Heart\n",
      "Failed requesting Loving You is so Easy\n",
      "Failed requesting Live Love Life\n",
      "Failed requesting Down Town\n",
      "Failed requesting Got This\n",
      "Failed requesting Some Day\n"
     ]
    },
    {
     "name": "stderr",
     "output_type": "stream",
     "text": [
      "Processing David Clavijo_tracks.parquet:  51%|█████▏    | 124/241 [00:03<00:03, 32.13it/s]"
     ]
    },
    {
     "name": "stdout",
     "output_type": "stream",
     "text": [
      "Failed requesting Unconditional\n",
      "Failed requesting Endlessly\n",
      "Failed requesting Asavari - Original Mix\n",
      "Failed requesting Navin - Original Mix\n",
      "Failed requesting Padmasundari - Original Mix\n",
      "Failed requesting Samadhi Vibes - Original Mix\n",
      "Failed requesting Mandala - Original Mix\n",
      "Failed requesting Bot Parast - Euphonic Traveller Remix Instrumental\n"
     ]
    },
    {
     "name": "stderr",
     "output_type": "stream",
     "text": [
      "Processing David Clavijo_tracks.parquet:  53%|█████▎    | 128/241 [00:04<00:03, 32.37it/s]"
     ]
    },
    {
     "name": "stdout",
     "output_type": "stream",
     "text": [
      "Failed requesting Divina\n",
      "Failed requesting Eastern Sunrise - Original Mix\n",
      "Failed requesting Be Mine - Original Mix\n",
      "Failed requesting Eastern Voices - Original Mix\n",
      "Failed requesting Night Shift\n",
      "Failed requesting Maha Amba - Original Mix\n",
      "Failed requesting Uttara Kanda - Original Mix\n"
     ]
    },
    {
     "name": "stderr",
     "output_type": "stream",
     "text": [
      "Processing David Clavijo_tracks.parquet:  56%|█████▋    | 136/241 [00:04<00:03, 33.26it/s]"
     ]
    },
    {
     "name": "stdout",
     "output_type": "stream",
     "text": [
      "Failed requesting Come in My Arms - Instumental Version\n",
      "Failed requesting Hope\n",
      "Failed requesting Si Zaljubiv\n",
      "Failed requesting Prikazna Za Edno Mome - Original Mix\n",
      "Failed requesting Nirvana Song - Dreamers inc & ThroDef remix\n",
      "Failed requesting Cascada Nativa\n",
      "Failed requesting Andaman Ocean - Original Mix\n"
     ]
    },
    {
     "name": "stderr",
     "output_type": "stream",
     "text": [
      "Processing David Clavijo_tracks.parquet:  60%|█████▉    | 144/241 [00:04<00:02, 33.14it/s]"
     ]
    },
    {
     "name": "stdout",
     "output_type": "stream",
     "text": [
      "Failed requesting Binaural Ambient - Original Mix\n",
      "Failed requesting Monastero - Original Mix\n",
      "Failed requesting Sol Y Mar - Original Mix\n",
      "Failed requesting Get This Right - Original Mix\n",
      "Failed requesting Wakening (Pine)\n",
      "Failed requesting Daintree Twilight\n",
      "Failed requesting South Bend - Original Mix\n"
     ]
    },
    {
     "name": "stderr",
     "output_type": "stream",
     "text": [
      "Processing David Clavijo_tracks.parquet:  63%|██████▎   | 152/241 [00:04<00:02, 33.28it/s]"
     ]
    },
    {
     "name": "stdout",
     "output_type": "stream",
     "text": [
      "Failed requesting Gentle Reminder - Original Mix\n",
      "Failed requesting Echoes - Original Mix\n",
      "Failed requesting Forbidden Perfume\n",
      "Failed requesting Wait for Me\n",
      "Failed requesting D.o.a - Original Mix\n",
      "Failed requesting Inner Worlds\n",
      "Failed requesting Promises - Original Mix\n"
     ]
    },
    {
     "name": "stderr",
     "output_type": "stream",
     "text": [
      "Processing David Clavijo_tracks.parquet:  65%|██████▍   | 156/241 [00:04<00:02, 32.19it/s]"
     ]
    },
    {
     "name": "stdout",
     "output_type": "stream",
     "text": [
      "Failed requesting Melzi - Original Mix\n",
      "Failed requesting Cloudburst - Original Mix\n",
      "Failed requesting Miriam - Original Mix\n",
      "Failed requesting Garden of the Senses\n",
      "Failed requesting Mind Travel - Ambient Mix\n",
      "Failed requesting Be My Hero - Gambrita Beatless Mix\n",
      "Failed requesting Dreamer - Original Mix\n"
     ]
    },
    {
     "name": "stderr",
     "output_type": "stream",
     "text": [
      "Processing David Clavijo_tracks.parquet:  68%|██████▊   | 164/241 [00:05<00:02, 32.50it/s]"
     ]
    },
    {
     "name": "stdout",
     "output_type": "stream",
     "text": [
      "Failed requesting Silencio - Original Mix\n",
      "Failed requesting Till the Sun Goes Down\n",
      "Failed requesting Watching Clouds - Original Mix\n",
      "Failed requesting Timeless - Original Mix\n",
      "Failed requesting Unknown Future - Original Mix\n",
      "Failed requesting All I Long For - Original Mix\n"
     ]
    },
    {
     "name": "stderr",
     "output_type": "stream",
     "text": [
      "Processing David Clavijo_tracks.parquet:  71%|███████▏  | 172/241 [00:05<00:02, 32.11it/s]"
     ]
    },
    {
     "name": "stdout",
     "output_type": "stream",
     "text": [
      "Failed requesting Where Does It Stop - Original Mix\n",
      "Failed requesting Maya - Original Mix\n",
      "Failed requesting Song for Bailey\n",
      "Failed requesting Soulheaven - Balearic Mix\n",
      "Failed requesting Promises - Original Mix\n",
      "Failed requesting Be Mine - Original Mix\n",
      "Failed requesting Balearic Soul - Original Mix\n"
     ]
    },
    {
     "name": "stderr",
     "output_type": "stream",
     "text": [
      "Processing David Clavijo_tracks.parquet:  75%|███████▍  | 180/241 [00:05<00:01, 33.03it/s]"
     ]
    },
    {
     "name": "stdout",
     "output_type": "stream",
     "text": [
      "Failed requesting White January - Original Mix\n",
      "Failed requesting Bridal Falls - Original Mix\n",
      "Failed requesting Mamani - Original Mix\n",
      "Failed requesting It's Just Another Blue Sky\n",
      "Failed requesting Water - Original Mix\n",
      "Failed requesting Dreams - Original Mix\n",
      "Failed requesting Reflections of You - Original Mix\n",
      "Failed requesting Fly Away\n"
     ]
    },
    {
     "name": "stderr",
     "output_type": "stream",
     "text": [
      "Processing David Clavijo_tracks.parquet:  76%|███████▋  | 184/241 [00:05<00:01, 33.06it/s]"
     ]
    },
    {
     "name": "stdout",
     "output_type": "stream",
     "text": [
      "Failed requesting Prikazna Za Edno Mome - Original Mix\n",
      "Failed requesting La Alameda\n",
      "Failed requesting Uttara Kanda - Original Mix\n",
      "Failed requesting Chiringuito Jam\n",
      "Failed requesting One Chance - Original Mix\n",
      "Failed requesting Around My Dreams - Original Retouch Mix\n",
      "Failed requesting Amadea\n"
     ]
    },
    {
     "name": "stderr",
     "output_type": "stream",
     "text": [
      "Processing David Clavijo_tracks.parquet:  80%|███████▉  | 192/241 [00:06<00:01, 32.47it/s]"
     ]
    },
    {
     "name": "stdout",
     "output_type": "stream",
     "text": [
      "Failed requesting Daydreamer\n",
      "Failed requesting Si Zaljubiv - Original Mix\n",
      "Failed requesting Heaven - Original Mix\n",
      "Failed requesting The Fourth Element\n",
      "Failed requesting Mandala\n",
      "Failed requesting Mahasamadhi\n",
      "Failed requesting Dragon Sea\n"
     ]
    },
    {
     "name": "stderr",
     "output_type": "stream",
     "text": [
      "Processing David Clavijo_tracks.parquet:  83%|████████▎ | 200/241 [00:06<00:01, 34.34it/s]"
     ]
    },
    {
     "name": "stdout",
     "output_type": "stream",
     "text": [
      "Failed requesting Eastern Sunrise\n",
      "Failed requesting Yasmin\n",
      "Failed requesting Precious Jewel\n",
      "Failed requesting Journey to Mandurai\n",
      "Failed requesting Sacred Passage\n",
      "Failed requesting Promises\n",
      "Failed requesting Prikazna Za Edno Mome\n",
      "Failed requesting Le Balat\n"
     ]
    },
    {
     "name": "stderr",
     "output_type": "stream",
     "text": [
      "Processing David Clavijo_tracks.parquet:  86%|████████▋ | 208/241 [00:06<00:00, 33.30it/s]"
     ]
    },
    {
     "name": "stdout",
     "output_type": "stream",
     "text": [
      "Failed requesting L'étape De L'amour\n",
      "Failed requesting Chudera\n",
      "Failed requesting Mysterious Girl\n",
      "Failed requesting Pecado De Amor\n",
      "Failed requesting La Luna\n",
      "Failed requesting Clandestino\n",
      "Failed requesting Around My Dreams\n",
      "Failed requesting Save Me\n"
     ]
    },
    {
     "name": "stderr",
     "output_type": "stream",
     "text": [
      "Processing David Clavijo_tracks.parquet:  90%|████████▉ | 216/241 [00:06<00:00, 33.46it/s]"
     ]
    },
    {
     "name": "stdout",
     "output_type": "stream",
     "text": [
      "Failed requesting Love Finds You - Ibiza Lounge Mix\n",
      "Failed requesting She Believes - Radio Version\n",
      "Failed requesting Free as a Bird - Original Mix\n",
      "Failed requesting Sandwalk - Original Mix\n",
      "Failed requesting Make It Happen - Original Mix\n",
      "Failed requesting A Roma - Original Mix\n",
      "Failed requesting Along the Coast - Original Mix\n",
      "Failed requesting A Tu Lado - Original Mix\n"
     ]
    },
    {
     "name": "stderr",
     "output_type": "stream",
     "text": [
      "Processing David Clavijo_tracks.parquet:  93%|█████████▎| 224/241 [00:06<00:00, 32.93it/s]"
     ]
    },
    {
     "name": "stdout",
     "output_type": "stream",
     "text": [
      "Failed requesting It Feels Like Summer\n",
      "Failed requesting Endless Blue - Bossa Mix\n",
      "Failed requesting Sitting on the Seawall - Original Mix\n",
      "Failed requesting A New Day Is Dawning - Original Mix\n",
      "Failed requesting Ahora - Original Mix\n",
      "Failed requesting Laid Back - Remastered\n",
      "Failed requesting Caroussel of Love\n",
      "Failed requesting Monkeys - Original Mix\n"
     ]
    },
    {
     "name": "stderr",
     "output_type": "stream",
     "text": [
      "Processing David Clavijo_tracks.parquet:  96%|█████████▋| 232/241 [00:07<00:00, 33.04it/s]"
     ]
    },
    {
     "name": "stdout",
     "output_type": "stream",
     "text": [
      "Failed requesting La Passion - Original Mix\n",
      "Failed requesting Firefly - Original Mix\n",
      "Failed requesting Ripple Effect - Original Mix\n",
      "Failed requesting Breathing\n",
      "Failed requesting Dream Traveler\n",
      "Failed requesting Sandwalk - Original Mix\n",
      "Failed requesting Across the Atlantic\n",
      "Failed requesting As If It Was You - Original Mix\n"
     ]
    },
    {
     "name": "stderr",
     "output_type": "stream",
     "text": [
      "Processing David Clavijo_tracks.parquet: 100%|██████████| 241/241 [00:07<00:00, 32.27it/s]\n",
      "Processing David Cook_tracks.parquet:   0%|          | 0/135 [00:00<?, ?it/s]"
     ]
    },
    {
     "name": "stdout",
     "output_type": "stream",
     "text": [
      "Failed requesting Listen to This\n",
      "Failed requesting Can Not Forget You - Revisited Mix\n",
      "Failed requesting Las Dunas - Original Mix\n",
      "Failed requesting Cloud No 9 - Original Mix\n",
      "Failed requesting Wanderlust - Original Mix\n",
      "Failed requesting Elisa's Story - Space Dream Mix\n",
      "Failed requesting Heartbeat\n"
     ]
    },
    {
     "name": "stderr",
     "output_type": "stream",
     "text": [
      "Processing David Cook_tracks.parquet:   6%|▌         | 8/135 [00:00<00:03, 36.06it/s]"
     ]
    },
    {
     "name": "stdout",
     "output_type": "stream",
     "text": [
      "Failed requesting Criminals\n",
      "Failed requesting Broken Windows\n",
      "Failed requesting Laying Me Low\n",
      "Failed requesting Better Than Me\n",
      "Failed requesting Carry You\n",
      "Failed requesting From Here To Zero\n",
      "Failed requesting Kiss & Tell\n",
      "Failed requesting Wait For Me\n"
     ]
    },
    {
     "name": "stderr",
     "output_type": "stream",
     "text": [
      "Processing David Cook_tracks.parquet:  10%|▉         | 13/135 [00:00<00:03, 38.85it/s]"
     ]
    },
    {
     "name": "stdout",
     "output_type": "stream",
     "text": [
      "Failed requesting I'm Gonna Love You\n",
      "Failed requesting Wicked Game\n",
      "Failed requesting Home Movies (Over Your Shoulder)\n",
      "Failed requesting Heartbeat\n",
      "Failed requesting Criminals\n",
      "Failed requesting Broken Windows\n",
      "Failed requesting Laying Me Low\n",
      "Failed requesting Better Than Me\n",
      "Failed requesting Carry You\n"
     ]
    },
    {
     "name": "stderr",
     "output_type": "stream",
     "text": [
      "Processing David Cook_tracks.parquet:  16%|█▋        | 22/135 [00:00<00:02, 38.78it/s]"
     ]
    },
    {
     "name": "stdout",
     "output_type": "stream",
     "text": [
      "Failed requesting From Here To Zero\n",
      "Failed requesting Kiss & Tell\n",
      "Failed requesting Wait For Me\n",
      "Failed requesting I'm Gonna Love You\n",
      "Failed requesting Wicked Game\n",
      "Failed requesting Home Movies (Over Your Shoulder)\n",
      "Failed requesting Where Do We Go\n"
     ]
    },
    {
     "name": "stderr",
     "output_type": "stream",
     "text": [
      "Processing David Cook_tracks.parquet:  23%|██▎       | 31/135 [00:00<00:02, 39.49it/s]"
     ]
    },
    {
     "name": "stdout",
     "output_type": "stream",
     "text": [
      "Failed requesting Firing Squad\n",
      "Failed requesting But You Won't\n",
      "Failed requesting Circadian\n",
      "Failed requesting Circadian\n",
      "Failed requesting Right Here, With You\n",
      "Failed requesting Right Here, With You\n",
      "Failed requesting We Believe\n",
      "Failed requesting We Believe\n",
      "Failed requesting Fade Into Me\n"
     ]
    },
    {
     "name": "stderr",
     "output_type": "stream",
     "text": [
      "Processing David Cook_tracks.parquet:  30%|██▉       | 40/135 [00:01<00:02, 39.86it/s]"
     ]
    },
    {
     "name": "stdout",
     "output_type": "stream",
     "text": [
      "Failed requesting Fade Into Me\n",
      "Failed requesting Hard To Believe\n",
      "Failed requesting Hard To Believe\n",
      "Failed requesting Take Me As I Am\n",
      "Failed requesting Take Me As I Am\n",
      "Failed requesting Time Marches On\n",
      "Failed requesting Time Marches On\n",
      "Failed requesting The Last Goodbye\n",
      "Failed requesting The Last Goodbye\n"
     ]
    },
    {
     "name": "stderr",
     "output_type": "stream",
     "text": [
      "Processing David Cook_tracks.parquet:  39%|███▊      | 52/135 [00:01<00:02, 39.24it/s]"
     ]
    },
    {
     "name": "stdout",
     "output_type": "stream",
     "text": [
      "Failed requesting Paper Heart\n",
      "Failed requesting Paper Heart\n",
      "Failed requesting 4 Letter Word\n",
      "Failed requesting 4 Letter Word\n",
      "Failed requesting Goodbye To The Girl\n",
      "Failed requesting Goodbye To The Girl\n",
      "Failed requesting Rapid Eye Movement\n",
      "Failed requesting Rapid Eye Movement\n",
      "Failed requesting This Is Not The Last Time\n",
      "Failed requesting Let Me Fall For You\n",
      "Failed requesting The Last Goodbye\n"
     ]
    },
    {
     "name": "stderr",
     "output_type": "stream",
     "text": [
      "Processing David Cook_tracks.parquet:  41%|████▏     | 56/135 [00:03<00:13,  5.70it/s]"
     ]
    },
    {
     "name": "stdout",
     "output_type": "stream",
     "text": [
      "Failed requesting Right Here, With You\n"
     ]
    },
    {
     "name": "stderr",
     "output_type": "stream",
     "text": [
      "Processing David Cook_tracks.parquet:  44%|████▎     | 59/135 [00:05<00:22,  3.31it/s]"
     ]
    },
    {
     "name": "stdout",
     "output_type": "stream",
     "text": [
      "Failed requesting Goodbye To The Girl\n"
     ]
    },
    {
     "name": "stderr",
     "output_type": "stream",
     "text": [
      "Processing David Cook_tracks.parquet:  49%|████▉     | 66/135 [00:06<00:14,  4.61it/s]"
     ]
    },
    {
     "name": "stdout",
     "output_type": "stream",
     "text": [
      "Failed requesting Paper Heart\n",
      "Failed requesting Paper Heart\n",
      "Failed requesting Circadian\n",
      "Failed requesting Circadian\n",
      "Failed requesting Right Here, With You\n",
      "Failed requesting Right Here, With You\n",
      "Failed requesting We Believe\n",
      "Failed requesting We Believe\n",
      "Failed requesting Fade Into Me\n"
     ]
    },
    {
     "name": "stderr",
     "output_type": "stream",
     "text": [
      "Processing David Cook_tracks.parquet:  56%|█████▋    | 76/135 [00:06<00:06,  9.60it/s]"
     ]
    },
    {
     "name": "stdout",
     "output_type": "stream",
     "text": [
      "Failed requesting Fade Into Me\n",
      "Failed requesting Hard To Believe\n",
      "Failed requesting Hard To Believe\n",
      "Failed requesting Take Me As I Am\n",
      "Failed requesting Take Me As I Am\n",
      "Failed requesting Time Marches On\n",
      "Failed requesting Time Marches On\n",
      "Failed requesting The Last Goodbye\n",
      "Failed requesting The Last Goodbye\n"
     ]
    },
    {
     "name": "stderr",
     "output_type": "stream",
     "text": [
      "Processing David Cook_tracks.parquet:  64%|██████▎   | 86/135 [00:07<00:02, 16.63it/s]"
     ]
    },
    {
     "name": "stdout",
     "output_type": "stream",
     "text": [
      "Failed requesting Paper Heart\n",
      "Failed requesting Paper Heart\n",
      "Failed requesting 4 Letter Word\n",
      "Failed requesting 4 Letter Word\n",
      "Failed requesting Goodbye To The Girl\n",
      "Failed requesting Goodbye To The Girl\n",
      "Failed requesting Rapid Eye Movement\n",
      "Failed requesting Rapid Eye Movement\n",
      "Failed requesting This Is Not The Last Time\n"
     ]
    },
    {
     "name": "stderr",
     "output_type": "stream",
     "text": [
      "Processing David Cook_tracks.parquet:  70%|██████▉   | 94/135 [00:07<00:01, 21.45it/s]"
     ]
    },
    {
     "name": "stdout",
     "output_type": "stream",
     "text": [
      "Failed requesting Let Me Fall For You\n",
      "Failed requesting Declaration\n",
      "Failed requesting Heroes\n",
      "Failed requesting Light On\n",
      "Failed requesting Come Back to Me\n",
      "Failed requesting Life on the Moon\n",
      "Failed requesting Bar-ba-sol\n"
     ]
    },
    {
     "name": "stderr",
     "output_type": "stream",
     "text": [
      "Processing David Cook_tracks.parquet:  76%|███████▌  | 102/135 [00:07<00:01, 27.54it/s]"
     ]
    },
    {
     "name": "stdout",
     "output_type": "stream",
     "text": [
      "Failed requesting Mr. Sensitive\n",
      "Failed requesting Lie\n",
      "Failed requesting I Did it for You\n",
      "Failed requesting Avalanche\n",
      "Failed requesting Permanent\n",
      "Failed requesting A Daily AntheM\n",
      "Failed requesting The Time of My Life\n",
      "Failed requesting TABOS\n",
      "Failed requesting Champion\n"
     ]
    },
    {
     "name": "stderr",
     "output_type": "stream",
     "text": [
      "Processing David Cook_tracks.parquet:  79%|███████▊  | 106/135 [00:07<00:00, 29.49it/s]"
     ]
    },
    {
     "name": "stdout",
     "output_type": "stream",
     "text": [
      "Failed requesting Reds Turn Blue\n",
      "Failed requesting Strange World\n",
      "Failed requesting Make A Move\n",
      "Failed requesting Fire\n"
     ]
    },
    {
     "name": "stderr",
     "output_type": "stream",
     "text": [
      "Processing David Cook_tracks.parquet:  84%|████████▍ | 114/135 [00:08<00:00, 27.81it/s]"
     ]
    },
    {
     "name": "stdout",
     "output_type": "stream",
     "text": [
      "Failed requesting Going Back\n",
      "Failed requesting Fire\n",
      "Failed requesting Strange World\n",
      "Failed requesting Reds Turn Blue\n",
      "Failed requesting Death of Me\n",
      "Failed requesting The Lucky Ones\n",
      "Failed requesting Gimme Heartbreak\n"
     ]
    },
    {
     "name": "stderr",
     "output_type": "stream",
     "text": [
      "Processing David Cook_tracks.parquet:  87%|████████▋ | 118/135 [00:08<00:00, 30.44it/s]"
     ]
    },
    {
     "name": "stdout",
     "output_type": "stream",
     "text": [
      "Failed requesting Warfare\n",
      "Failed requesting Another Day In Paradise\n",
      "Failed requesting Ghost Magnetic\n",
      "Failed requesting Circles\n"
     ]
    },
    {
     "name": "stderr",
     "output_type": "stream",
     "text": [
      "Processing David Cook_tracks.parquet:  93%|█████████▎| 125/135 [00:11<00:02,  4.82it/s]"
     ]
    },
    {
     "name": "stdout",
     "output_type": "stream",
     "text": [
      "Failed requesting Wicked Game\n",
      "Failed requesting Carry You\n",
      "Failed requesting Criminals\n"
     ]
    },
    {
     "name": "stderr",
     "output_type": "stream",
     "text": [
      "Processing David Cook_tracks.parquet:  95%|█████████▍| 128/135 [00:12<00:01,  4.02it/s]"
     ]
    },
    {
     "name": "stdout",
     "output_type": "stream",
     "text": [
      "Failed requesting The Last Goodbye\n",
      "Failed requesting Right Here, With You\n",
      "Failed requesting Right Here, With You\n",
      "Failed requesting Take Me As I Am\n",
      "Failed requesting Take Me As I Am\n",
      "Failed requesting Goodbye To The Girl\n"
     ]
    },
    {
     "name": "stderr",
     "output_type": "stream",
     "text": [
      "Processing David Cook_tracks.parquet:  99%|█████████▊| 133/135 [00:13<00:00,  4.17it/s]"
     ]
    },
    {
     "name": "stdout",
     "output_type": "stream",
     "text": [
      "Failed requesting Paper Heart\n"
     ]
    },
    {
     "name": "stderr",
     "output_type": "stream",
     "text": [
      "Processing David Cook_tracks.parquet: 100%|██████████| 135/135 [00:14<00:00,  9.12it/s]\n",
      "Processing David Coverdale_tracks.parquet:   2%|▏         | 4/191 [00:00<00:09, 19.65it/s]"
     ]
    },
    {
     "name": "stdout",
     "output_type": "stream",
     "text": [
      "Failed requesting Dont Fade Away\n",
      "Failed requesting Pictures of Home - Live\n",
      "Failed requesting The Sun Will Shine Again - Live\n",
      "Failed requesting Bourée - Live\n"
     ]
    },
    {
     "name": "stderr",
     "output_type": "stream",
     "text": [
      "Processing David Coverdale_tracks.parquet:   6%|▌         | 11/191 [00:01<00:21,  8.27it/s]"
     ]
    },
    {
     "name": "stdout",
     "output_type": "stream",
     "text": [
      "Failed requesting The Telemann Experiment - Live\n",
      "Failed requesting Wait Awhile - Live\n",
      "Failed requesting Gigue - Live\n",
      "Failed requesting Soldier of Fortune - Live\n",
      "Failed requesting Child in Time - Live\n",
      "Failed requesting Burn (Arr. for String Orchestra)\n",
      "Failed requesting Caesar's Palace Blues (Arr. for String Orchestra)\n",
      "Failed requesting Kashmir (Arr. for String Orchestra)\n",
      "Failed requesting Tanguedia III (Arr. for String Orchestra)\n"
     ]
    },
    {
     "name": "stderr",
     "output_type": "stream",
     "text": [
      "Processing David Coverdale_tracks.parquet:  10%|▉         | 19/191 [00:01<00:10, 15.87it/s]"
     ]
    },
    {
     "name": "stdout",
     "output_type": "stream",
     "text": [
      "Failed requesting Theme (From \"The Magnificent Seven\") [Arr. for String Orchestra]\n",
      "Failed requesting Ancient Airs & Dances, Suite No. 3, P. 172 (Arr. for String Orchestra): I. Italiana (Arr. for String Orchestra)\n",
      "Failed requesting Ancient Airs & Dances, Suite No. 3, P. 172 (Arr. for String Orchestra): II. Arie di corte\n",
      "Failed requesting Ancient Airs & Dances, Suite No. 3, P. 172 (Arr. for String Orchestra): III. Siciliana\n",
      "Failed requesting Ancient Airs & Dances, Suite No. 3, P. 172 (Arr. for String Orchestra): IV. Passacaglia\n",
      "Failed requesting Bang the Lid\n",
      "Failed requesting Whiskey\n",
      "Failed requesting Down in the Delta\n"
     ]
    },
    {
     "name": "stderr",
     "output_type": "stream",
     "text": [
      "Processing David Coverdale_tracks.parquet:  14%|█▍        | 27/191 [00:01<00:06, 23.44it/s]"
     ]
    },
    {
     "name": "stdout",
     "output_type": "stream",
     "text": [
      "Failed requesting Treat Her Like Candy\n",
      "Failed requesting Miss Me\n",
      "Failed requesting Burnt Sally\n",
      "Failed requesting Private Number\n",
      "Failed requesting Shuffle Sweet\n",
      "Failed requesting Black Coffee\n",
      "Failed requesting Feelit\n",
      "Failed requesting Mistreated\n"
     ]
    },
    {
     "name": "stderr",
     "output_type": "stream",
     "text": [
      "Processing David Coverdale_tracks.parquet:  18%|█▊        | 35/191 [00:02<00:05, 28.01it/s]"
     ]
    },
    {
     "name": "stdout",
     "output_type": "stream",
     "text": [
      "Failed requesting ゴールデン・ジュビレーション\n",
      "Failed requesting コンサートマーチ「青葉の街で」\n",
      "Failed requesting 復興\n",
      "Failed requesting バレエ音楽「ガイーヌ」 - 序奏\n",
      "Failed requesting バレエ音楽「ガイーヌ」 - 友情の踊り\n",
      "Failed requesting バレエ音楽「ガイーヌ」 - バラの乙女たちの踊り\n",
      "Failed requesting バレエ音楽「ガイーヌ」 - アイシェの孤独\n",
      "Failed requesting バレエ音楽「ガイーヌ」 - 剣の舞\n"
     ]
    },
    {
     "name": "stderr",
     "output_type": "stream",
     "text": [
      "Processing David Coverdale_tracks.parquet:  23%|██▎       | 43/191 [00:02<00:04, 32.76it/s]"
     ]
    },
    {
     "name": "stdout",
     "output_type": "stream",
     "text": [
      "Failed requesting バレエ音楽「ガイーヌ」 - レズギンカ\n",
      "Failed requesting バレエ音楽「ガイーヌ」 - 収穫祭\n",
      "Failed requesting オリンピック・センテニアル・セレブレーション\n",
      "Failed requesting イスパニア・カーニ\n",
      "Failed requesting ディズニー・ファンティリュージョン!(フェアリー・ガーデン)\n",
      "Failed requesting 星に願いを\n",
      "Failed requesting ライオン・キング・メドレー\n",
      "Failed requesting ディスコ・パーティー\n",
      "Failed requesting サタデー・ナイト\n"
     ]
    },
    {
     "name": "stderr",
     "output_type": "stream",
     "text": [
      "Processing David Coverdale_tracks.parquet:  27%|██▋       | 52/191 [00:02<00:03, 36.32it/s]"
     ]
    },
    {
     "name": "stdout",
     "output_type": "stream",
     "text": [
      "Failed requesting ディープ・パープル・メドレー\n",
      "Failed requesting ホワット・メイクス・ユー・ビューティフル\n",
      "Failed requesting ハッピー\n",
      "Failed requesting Linin' Track\n",
      "Failed requesting Wedding Day\n",
      "Failed requesting Walk Away\n",
      "Failed requesting Kinda Wish She Would\n",
      "Failed requesting Ladyfriend\n"
     ]
    },
    {
     "name": "stderr",
     "output_type": "stream",
     "text": [
      "Processing David Coverdale_tracks.parquet:  32%|███▏      | 61/191 [00:02<00:03, 37.48it/s]"
     ]
    },
    {
     "name": "stdout",
     "output_type": "stream",
     "text": [
      "Failed requesting Trouble\n",
      "Failed requesting Who Do We Think We Are?\n",
      "Failed requesting Bad Blood\n",
      "Failed requesting Shine\n",
      "Failed requesting Dragonfly\n",
      "Failed requesting You Better Run\n",
      "Failed requesting Hoxie Rollin' Time\n",
      "Failed requesting NW8\n",
      "Failed requesting Personal Blues\n"
     ]
    },
    {
     "name": "stderr",
     "output_type": "stream",
     "text": [
      "Processing David Coverdale_tracks.parquet:  37%|███▋      | 70/191 [00:03<00:03, 38.22it/s]"
     ]
    },
    {
     "name": "stdout",
     "output_type": "stream",
     "text": [
      "Failed requesting Shine - Instrumental\n",
      "Failed requesting David Coverdale Introduction\n",
      "Failed requesting Just Like Paradise / Nothin' But A Good Time\n",
      "Failed requesting Sister Christian\n",
      "Failed requesting We Built This City / Too Much Time On My Hands\n",
      "Failed requesting I Wanna Rock\n",
      "Failed requesting We're Not Gonna Take It\n",
      "Failed requesting Heaven / More Than Words / To Be With You\n",
      "Failed requesting Waiting For A Girl Like You\n"
     ]
    },
    {
     "name": "stderr",
     "output_type": "stream",
     "text": [
      "Processing David Coverdale_tracks.parquet:  41%|████▏     | 79/191 [00:03<00:02, 39.20it/s]"
     ]
    },
    {
     "name": "stdout",
     "output_type": "stream",
     "text": [
      "Failed requesting Wanted Dead Or Alive\n",
      "Failed requesting I Want To Know What Love Is\n",
      "Failed requesting Cum On Feel The Noize / We're Not Gonna Take It - Reprise\n",
      "Failed requesting Harden My Heart / Shadows Of The Night\n",
      "Failed requesting Here I Go Again\n",
      "Failed requesting The Final Countdown\n",
      "Failed requesting Any Way You Want It / I Wanna Rock - Reprise\n"
     ]
    },
    {
     "name": "stderr",
     "output_type": "stream",
     "text": [
      "Processing David Coverdale_tracks.parquet:  43%|████▎     | 83/191 [00:03<00:03, 32.11it/s]"
     ]
    },
    {
     "name": "stdout",
     "output_type": "stream",
     "text": [
      "Failed requesting High Enough\n",
      "Failed requesting I Hate Myself For Loving You / Heat Of The Moment\n",
      "Failed requesting Hit Me With Your Best Shot\n",
      "Failed requesting Can't Fight This Feeling\n",
      "Failed requesting Every Rose Has Its Thorn\n",
      "Failed requesting Walking In The Shadow Of The Blues\n"
     ]
    },
    {
     "name": "stderr",
     "output_type": "stream",
     "text": [
      "Processing David Coverdale_tracks.parquet:  48%|████▊     | 91/191 [00:05<00:11,  8.65it/s]"
     ]
    },
    {
     "name": "stdout",
     "output_type": "stream",
     "text": [
      "Failed requesting Sweet Talker - 2008 Remastered Version\n",
      "Failed requesting Would I Lie To You - 2008 Remastered Version\n",
      "Failed requesting Trouble\n",
      "Failed requesting Gambler\n",
      "Failed requesting Love Hunter - 2008 Remastered Version\n",
      "Failed requesting Ready An' Willing - 2008 Remastered Version\n",
      "Failed requesting Child Of Babylon - 2008 Remastered Version\n",
      "Failed requesting Here I Go Again - 2008 Remaster\n"
     ]
    },
    {
     "name": "stderr",
     "output_type": "stream",
     "text": [
      "Processing David Coverdale_tracks.parquet:  50%|████▉     | 95/191 [00:06<00:15,  6.15it/s]"
     ]
    },
    {
     "name": "stdout",
     "output_type": "stream",
     "text": [
      "Failed requesting Crying In The Rain\n",
      "Failed requesting Rough An' Ready - 2008 Remastered Version\n",
      "Failed requesting Wine, Women An' Song - 2008 Remastered Version\n"
     ]
    },
    {
     "name": "stderr",
     "output_type": "stream",
     "text": [
      "Processing David Coverdale_tracks.parquet:  52%|█████▏    | 99/191 [00:07<00:18,  5.09it/s]"
     ]
    },
    {
     "name": "stdout",
     "output_type": "stream",
     "text": [
      "Failed requesting Ain't No Love In The Heart Of The City - Live;2008 Remastered Version\n"
     ]
    },
    {
     "name": "stderr",
     "output_type": "stream",
     "text": [
      "Processing David Coverdale_tracks.parquet:  54%|█████▍    | 103/191 [00:09<00:27,  3.22it/s]"
     ]
    },
    {
     "name": "stdout",
     "output_type": "stream",
     "text": [
      "Failed requesting Fool for Your Loving - 2009 Remaster\n",
      "Failed requesting Fool for Your Loving - 2009 Remaster\n"
     ]
    },
    {
     "name": "stderr",
     "output_type": "stream",
     "text": [
      "Processing David Coverdale_tracks.parquet:  60%|█████▉    | 114/191 [00:16<00:27,  2.80it/s]"
     ]
    },
    {
     "name": "stdout",
     "output_type": "stream",
     "text": [
      "Failed requesting Fool for Your Loving - 2009 Remaster\n",
      "Failed requesting Fool for Your Loving - 2009 Remaster\n",
      "Failed requesting Don't Break My Heart Again\n",
      "Failed requesting Don't Break My Heart Again\n"
     ]
    },
    {
     "name": "stderr",
     "output_type": "stream",
     "text": [
      "Processing David Coverdale_tracks.parquet:  61%|██████    | 116/191 [00:17<00:30,  2.44it/s]"
     ]
    },
    {
     "name": "stdout",
     "output_type": "stream",
     "text": [
      "Failed requesting Hit An' Run - 2003 Remastered Version\n",
      "Failed requesting The Time Is Right For Love\n",
      "Failed requesting Love Ain't No Stranger - 2003 Remastered Version\n"
     ]
    },
    {
     "name": "stderr",
     "output_type": "stream",
     "text": [
      "Processing David Coverdale_tracks.parquet:  70%|███████   | 134/191 [00:33<00:58,  1.03s/it]"
     ]
    },
    {
     "name": "stdout",
     "output_type": "stream",
     "text": [
      "Failed requesting Into The Light - 2003 Remastered Version\n"
     ]
    },
    {
     "name": "stderr",
     "output_type": "stream",
     "text": [
      "Processing David Coverdale_tracks.parquet:  86%|████████▌ | 164/191 [00:59<00:10,  2.50it/s]"
     ]
    },
    {
     "name": "stdout",
     "output_type": "stream",
     "text": [
      "Failed requesting The Last Note Of Freedom\n",
      "Failed requesting Deal For Life\n",
      "Failed requesting Break Through The Barrier\n",
      "Failed requesting Hearts In Trouble\n",
      "Failed requesting Trail Of Broken Hearts\n",
      "Failed requesting Knockin' On Heaven's Door\n"
     ]
    },
    {
     "name": "stderr",
     "output_type": "stream",
     "text": [
      "Processing David Coverdale_tracks.parquet:  88%|████████▊ | 169/191 [01:03<00:13,  1.68it/s]"
     ]
    },
    {
     "name": "stdout",
     "output_type": "stream",
     "text": [
      "Failed requesting Long Live The Night\n"
     ]
    },
    {
     "name": "stderr",
     "output_type": "stream",
     "text": [
      "Processing David Coverdale_tracks.parquet:  90%|████████▉ | 171/191 [01:04<00:11,  1.75it/s]"
     ]
    },
    {
     "name": "stdout",
     "output_type": "stream",
     "text": [
      "Failed requesting Dawn\n"
     ]
    },
    {
     "name": "stderr",
     "output_type": "stream",
     "text": [
      "Processing David Coverdale_tracks.parquet:  92%|█████████▏| 176/191 [01:08<00:12,  1.24it/s]"
     ]
    },
    {
     "name": "stdout",
     "output_type": "stream",
     "text": [
      "Failed requesting Magician Moth\n"
     ]
    },
    {
     "name": "stderr",
     "output_type": "stream",
     "text": [
      "Processing David Coverdale_tracks.parquet:  96%|█████████▋| 184/191 [01:15<00:06,  1.02it/s]"
     ]
    },
    {
     "name": "stdout",
     "output_type": "stream",
     "text": [
      "Failed requesting Dreams of Sir Bedivere\n"
     ]
    },
    {
     "name": "stderr",
     "output_type": "stream",
     "text": [
      "Processing David Coverdale_tracks.parquet:  98%|█████████▊| 188/191 [01:18<00:02,  1.10it/s]"
     ]
    },
    {
     "name": "stdout",
     "output_type": "stream",
     "text": [
      "Failed requesting The Feast\n",
      "Failed requesting Love Is All\n"
     ]
    },
    {
     "name": "stderr",
     "output_type": "stream",
     "text": [
      "Processing David Coverdale_tracks.parquet: 100%|██████████| 191/191 [01:19<00:00,  2.39it/s]\n",
      "Processing David Crosby_tracks.parquet:   2%|▏         | 4/161 [00:04<02:44,  1.05s/it]"
     ]
    },
    {
     "name": "stdout",
     "output_type": "stream",
     "text": [
      "Failed requesting Regina - Live at the Capitol Theatre\n"
     ]
    },
    {
     "name": "stderr",
     "output_type": "stream",
     "text": [
      "Processing David Crosby_tracks.parquet:   7%|▋         | 12/161 [00:11<02:29,  1.00s/it]"
     ]
    },
    {
     "name": "stdout",
     "output_type": "stream",
     "text": [
      "Failed requesting Janet - Live at the Capitol Theatre\n",
      "Failed requesting Carry Me - Live at the Capitol Theatre\n"
     ]
    },
    {
     "name": "stderr",
     "output_type": "stream",
     "text": [
      "Processing David Crosby_tracks.parquet:  12%|█▏        | 20/161 [00:13<00:48,  2.88it/s]"
     ]
    },
    {
     "name": "stdout",
     "output_type": "stream",
     "text": [
      "Failed requesting Wooden Ships\n",
      "Failed requesting I Used to Be a King\n",
      "Failed requesting All Along the Lee Shore\n",
      "Failed requesting Southbound Train\n"
     ]
    },
    {
     "name": "stderr",
     "output_type": "stream",
     "text": [
      "Processing David Crosby_tracks.parquet:  16%|█▌        | 26/161 [00:14<00:31,  4.24it/s]"
     ]
    },
    {
     "name": "stdout",
     "output_type": "stream",
     "text": [
      "Failed requesting Page 43\n",
      "Failed requesting And so It Goes\n",
      "Failed requesting Immigration Man\n",
      "Failed requesting Teach Your Children\n",
      "Failed requesting Military Madness\n",
      "Failed requesting Chicago\n",
      "Failed requesting Harvest\n",
      "Failed requesting Only Love Can Break Your Heart\n"
     ]
    },
    {
     "name": "stderr",
     "output_type": "stream",
     "text": [
      "Processing David Crosby_tracks.parquet:  21%|██        | 34/161 [00:15<00:13,  9.15it/s]"
     ]
    },
    {
     "name": "stdout",
     "output_type": "stream",
     "text": [
      "Failed requesting Heart of Gold\n",
      "Failed requesting The Needle and the Damage Is Done\n",
      "Failed requesting River Rise (feat. Michael McDonald)\n",
      "Failed requesting I Think I\n",
      "Failed requesting The Other Side Of Midnight\n"
     ]
    },
    {
     "name": "stderr",
     "output_type": "stream",
     "text": [
      "Processing David Crosby_tracks.parquet:  23%|██▎       | 37/161 [00:16<00:22,  5.40it/s]"
     ]
    },
    {
     "name": "stdout",
     "output_type": "stream",
     "text": [
      "Failed requesting Secret Dancer\n",
      "Failed requesting Ships In The Night\n",
      "Failed requesting For Free (feat. Sarah Jarosz)\n",
      "Failed requesting Boxes\n",
      "Failed requesting Shot At Me\n"
     ]
    },
    {
     "name": "stderr",
     "output_type": "stream",
     "text": [
      "Processing David Crosby_tracks.parquet:  27%|██▋       | 43/161 [00:18<00:33,  3.57it/s]"
     ]
    },
    {
     "name": "stdout",
     "output_type": "stream",
     "text": [
      "Failed requesting Vagrants of Venice\n"
     ]
    },
    {
     "name": "stderr",
     "output_type": "stream",
     "text": [
      "Processing David Crosby_tracks.parquet:  28%|██▊       | 45/161 [00:19<00:39,  2.97it/s]"
     ]
    },
    {
     "name": "stdout",
     "output_type": "stream",
     "text": [
      "Failed requesting Your Own Ride\n"
     ]
    },
    {
     "name": "stderr",
     "output_type": "stream",
     "text": [
      "Processing David Crosby_tracks.parquet:  29%|██▉       | 47/161 [00:21<01:00,  1.89it/s]"
     ]
    },
    {
     "name": "stdout",
     "output_type": "stream",
     "text": [
      "Failed requesting 1967\n"
     ]
    },
    {
     "name": "stderr",
     "output_type": "stream",
     "text": [
      "Processing David Crosby_tracks.parquet:  31%|███       | 50/161 [00:23<01:09,  1.60it/s]"
     ]
    },
    {
     "name": "stdout",
     "output_type": "stream",
     "text": [
      "Failed requesting Janet\n"
     ]
    },
    {
     "name": "stderr",
     "output_type": "stream",
     "text": [
      "Processing David Crosby_tracks.parquet:  33%|███▎      | 53/161 [00:25<01:13,  1.47it/s]"
     ]
    },
    {
     "name": "stdout",
     "output_type": "stream",
     "text": [
      "Failed requesting Sky Trails\n"
     ]
    },
    {
     "name": "stderr",
     "output_type": "stream",
     "text": [
      "Processing David Crosby_tracks.parquet:  35%|███▌      | 57/161 [00:28<01:21,  1.27it/s]"
     ]
    },
    {
     "name": "stdout",
     "output_type": "stream",
     "text": [
      "Failed requesting Capitol\n",
      "Failed requesting Amelia\n"
     ]
    },
    {
     "name": "stderr",
     "output_type": "stream",
     "text": [
      "Processing David Crosby_tracks.parquet:  39%|███▊      | 62/161 [00:31<00:53,  1.83it/s]"
     ]
    },
    {
     "name": "stdout",
     "output_type": "stream",
     "text": [
      "Failed requesting Home Free\n"
     ]
    },
    {
     "name": "stderr",
     "output_type": "stream",
     "text": [
      "Processing David Crosby_tracks.parquet:  42%|████▏     | 67/161 [00:32<00:27,  3.36it/s]"
     ]
    },
    {
     "name": "stdout",
     "output_type": "stream",
     "text": [
      "Failed requesting The Us Below\n",
      "Failed requesting Drive out to the Desert\n",
      "Failed requesting Look in Their Eyes\n",
      "Failed requesting Somebody Other Than You\n"
     ]
    },
    {
     "name": "stderr",
     "output_type": "stream",
     "text": [
      "Processing David Crosby_tracks.parquet:  43%|████▎     | 69/161 [00:34<00:47,  1.94it/s]"
     ]
    },
    {
     "name": "stdout",
     "output_type": "stream",
     "text": [
      "Failed requesting What Makes It so?\n"
     ]
    },
    {
     "name": "stderr",
     "output_type": "stream",
     "text": [
      "Processing David Crosby_tracks.parquet:  51%|█████     | 82/161 [00:47<01:20,  1.02s/it]"
     ]
    },
    {
     "name": "stdout",
     "output_type": "stream",
     "text": [
      "Failed requesting Anticipatory Crowd\n"
     ]
    },
    {
     "name": "stderr",
     "output_type": "stream",
     "text": [
      "Processing David Crosby_tracks.parquet:  61%|██████    | 98/161 [01:02<01:05,  1.03s/it]"
     ]
    },
    {
     "name": "stdout",
     "output_type": "stream",
     "text": [
      "Failed requesting Exit Sounds\n"
     ]
    },
    {
     "name": "stderr",
     "output_type": "stream",
     "text": [
      "Processing David Crosby_tracks.parquet:  69%|██████▉   | 111/161 [01:15<00:52,  1.05s/it]"
     ]
    },
    {
     "name": "stdout",
     "output_type": "stream",
     "text": [
      "Failed requesting Old Soldier\n"
     ]
    },
    {
     "name": "stderr",
     "output_type": "stream",
     "text": [
      "Processing David Crosby_tracks.parquet:  82%|████████▏ | 132/161 [01:36<00:30,  1.04s/it]"
     ]
    },
    {
     "name": "stdout",
     "output_type": "stream",
     "text": [
      "Failed requesting Tamalpais High (At About 3)\n"
     ]
    },
    {
     "name": "stderr",
     "output_type": "stream",
     "text": [
      "Processing David Crosby_tracks.parquet:  86%|████████▌ | 138/161 [01:41<00:22,  1.03it/s]"
     ]
    },
    {
     "name": "stdout",
     "output_type": "stream",
     "text": [
      "Failed requesting I'd Swear There Was Somebody Here\n"
     ]
    },
    {
     "name": "stderr",
     "output_type": "stream",
     "text": [
      "Processing David Crosby_tracks.parquet:  88%|████████▊ | 141/161 [01:43<00:16,  1.19it/s]"
     ]
    },
    {
     "name": "stdout",
     "output_type": "stream",
     "text": [
      "Failed requesting Tamalpais High (At About 3) - 2021 Remaster\n"
     ]
    },
    {
     "name": "stderr",
     "output_type": "stream",
     "text": [
      "Processing David Crosby_tracks.parquet:  94%|█████████▍| 151/161 [01:48<00:03,  2.60it/s]"
     ]
    },
    {
     "name": "stdout",
     "output_type": "stream",
     "text": [
      "Failed requesting I'd Swear There Was Somebody Here - 2021 Remaster\n",
      "Failed requesting Kids And Dogs - 2021 Remaster\n",
      "Failed requesting Riff 1 (Demo) - 2021 Remaster\n",
      "Failed requesting Tamalpais High (At About 3) [Demo] - 2021 Remaster\n",
      "Failed requesting Kids And Dogs (Demo) - 2021 Remaster\n"
     ]
    },
    {
     "name": "stderr",
     "output_type": "stream",
     "text": [
      "Processing David Crosby_tracks.parquet:  96%|█████████▋| 155/161 [01:51<00:03,  1.57it/s]"
     ]
    },
    {
     "name": "stdout",
     "output_type": "stream",
     "text": [
      "Failed requesting The Wall Song (Demo) - 2021 Remaster\n"
     ]
    },
    {
     "name": "stderr",
     "output_type": "stream",
     "text": [
      "Processing David Crosby_tracks.parquet:  98%|█████████▊| 158/161 [01:53<00:02,  1.45it/s]"
     ]
    },
    {
     "name": "stdout",
     "output_type": "stream",
     "text": [
      "Failed requesting Bach Mode (Pre-Critical Mass) - 2021 Remaster\n"
     ]
    },
    {
     "name": "stderr",
     "output_type": "stream",
     "text": [
      "Processing David Crosby_tracks.parquet: 100%|██████████| 161/161 [01:56<00:00,  1.39it/s]\n",
      "Processing David Crowder Band_tracks.parquet:   3%|▎         | 6/218 [00:06<03:39,  1.04s/it]"
     ]
    },
    {
     "name": "stdout",
     "output_type": "stream",
     "text": [
      "Failed requesting I Saw The Light\n"
     ]
    },
    {
     "name": "stderr",
     "output_type": "stream",
     "text": [
      "Processing David Crowder Band_tracks.parquet:  17%|█▋        | 37/218 [00:36<02:20,  1.29it/s]"
     ]
    },
    {
     "name": "stdout",
     "output_type": "stream",
     "text": [
      "Failed requesting Lux Aeternam Shine\n"
     ]
    },
    {
     "name": "stderr",
     "output_type": "stream",
     "text": [
      "Processing David Crowder Band_tracks.parquet:  21%|██        | 45/218 [00:44<02:56,  1.02s/it]"
     ]
    },
    {
     "name": "stdout",
     "output_type": "stream",
     "text": [
      "Failed requesting The Sound Of Light\n"
     ]
    },
    {
     "name": "stderr",
     "output_type": "stream",
     "text": [
      "Processing David Crowder Band_tracks.parquet:  22%|██▏       | 49/218 [00:47<02:32,  1.11it/s]"
     ]
    },
    {
     "name": "stdout",
     "output_type": "stream",
     "text": [
      "Failed requesting Sequence 3\n"
     ]
    },
    {
     "name": "stderr",
     "output_type": "stream",
     "text": [
      "Processing David Crowder Band_tracks.parquet:  24%|██▍       | 52/218 [00:49<02:14,  1.23it/s]"
     ]
    },
    {
     "name": "stdout",
     "output_type": "stream",
     "text": [
      "Failed requesting Sequence 6\n"
     ]
    },
    {
     "name": "stderr",
     "output_type": "stream",
     "text": [
      "Processing David Crowder Band_tracks.parquet:  42%|████▏     | 91/218 [01:29<02:11,  1.03s/it]"
     ]
    },
    {
     "name": "stdout",
     "output_type": "stream",
     "text": [
      "Failed requesting I Saw The Light - Live/Remedy Club Tour Edition Album Version\n"
     ]
    },
    {
     "name": "stderr",
     "output_type": "stream",
     "text": [
      "Processing David Crowder Band_tracks.parquet:  50%|█████     | 109/218 [01:47<01:52,  1.03s/it]"
     ]
    },
    {
     "name": "stdout",
     "output_type": "stream",
     "text": [
      "Failed requesting I Can Hear The Angels Singing / (...andeverandeverand...)\n"
     ]
    },
    {
     "name": "stderr",
     "output_type": "stream",
     "text": [
      "Processing David Crowder Band_tracks.parquet:  56%|█████▌    | 122/218 [01:59<01:39,  1.03s/it]"
     ]
    },
    {
     "name": "stdout",
     "output_type": "stream",
     "text": [
      "Failed requesting I Saw The Light\n"
     ]
    },
    {
     "name": "stderr",
     "output_type": "stream",
     "text": [
      "Processing David Crowder Band_tracks.parquet:  59%|█████▉    | 129/218 [02:05<01:27,  1.01it/s]"
     ]
    },
    {
     "name": "stdout",
     "output_type": "stream",
     "text": [
      "Failed requesting (Repeat/Return) Or When The Seventh Angel Sounded His Trumpet, And There Were Loud Voices In Heaven, Which Said: \"The Kingdom Of The World Has Become The Kingdom Of Our Lord And Of His Christ, And He Will Reign Foreverandever Etc...\"\n"
     ]
    },
    {
     "name": "stderr",
     "output_type": "stream",
     "text": [
      "Processing David Crowder Band_tracks.parquet:  65%|██████▌   | 142/218 [02:18<01:18,  1.03s/it]"
     ]
    },
    {
     "name": "stdout",
     "output_type": "stream",
     "text": [
      "Failed requesting I Saw The Light\n"
     ]
    },
    {
     "name": "stderr",
     "output_type": "stream",
     "text": [
      "Processing David Crowder Band_tracks.parquet:  68%|██████▊   | 149/218 [02:24<01:08,  1.01it/s]"
     ]
    },
    {
     "name": "stdout",
     "output_type": "stream",
     "text": [
      "Failed requesting (Repeat/Return) Or When The Seventh Angel Sounded His Trumpet, And There Were Loud Voices In Heaven, Which Said: \"The Kingdom Of The World Has Become The Kingdom Of Our Lord And Of His Christ, And He Will Reign Foreverandever Etc...\"\n"
     ]
    },
    {
     "name": "stderr",
     "output_type": "stream",
     "text": [
      "Processing David Crowder Band_tracks.parquet:  77%|███████▋  | 167/218 [02:42<00:52,  1.03s/it]"
     ]
    },
    {
     "name": "stdout",
     "output_type": "stream",
     "text": [
      "Failed requesting End Of October\n"
     ]
    },
    {
     "name": "stderr",
     "output_type": "stream",
     "text": [
      "Processing David Crowder Band_tracks.parquet:  83%|████████▎ | 181/218 [02:55<00:39,  1.05s/it]"
     ]
    },
    {
     "name": "stdout",
     "output_type": "stream",
     "text": [
      "Failed requesting Coming Toward - Illuminate Album\n"
     ]
    },
    {
     "name": "stderr",
     "output_type": "stream",
     "text": [
      "Processing David Crowder Band_tracks.parquet: 100%|██████████| 218/218 [03:33<00:00,  1.02it/s]\n",
      "Processing David Essex_tracks.parquet:   0%|          | 0/286 [00:00<?, ?it/s]"
     ]
    },
    {
     "name": "stdout",
     "output_type": "stream",
     "text": [
      "Failed requesting Beautiful Day - Live\n"
     ]
    },
    {
     "name": "stderr",
     "output_type": "stream",
     "text": [
      "Processing David Essex_tracks.parquet:   1%|          | 3/286 [00:02<03:29,  1.35it/s]"
     ]
    },
    {
     "name": "stdout",
     "output_type": "stream",
     "text": [
      "Failed requesting All The Fun Of The Fair - Live\n"
     ]
    },
    {
     "name": "stderr",
     "output_type": "stream",
     "text": [
      "Processing David Essex_tracks.parquet:   2%|▏         | 5/286 [00:03<02:56,  1.59it/s]"
     ]
    },
    {
     "name": "stdout",
     "output_type": "stream",
     "text": [
      "Failed requesting Me And My Girl (Nightclubbing) - Live\n"
     ]
    },
    {
     "name": "stderr",
     "output_type": "stream",
     "text": [
      "Processing David Essex_tracks.parquet:   3%|▎         | 8/286 [00:05<03:12,  1.44it/s]"
     ]
    },
    {
     "name": "stdout",
     "output_type": "stream",
     "text": [
      "Failed requesting Dangerous - Live\n"
     ]
    },
    {
     "name": "stderr",
     "output_type": "stream",
     "text": [
      "Processing David Essex_tracks.parquet:   3%|▎         | 10/286 [00:06<02:53,  1.59it/s]"
     ]
    },
    {
     "name": "stdout",
     "output_type": "stream",
     "text": [
      "Failed requesting Picture This Sky - Live\n",
      "Failed requesting On And On - Live\n"
     ]
    },
    {
     "name": "stderr",
     "output_type": "stream",
     "text": [
      "Processing David Essex_tracks.parquet:   5%|▍         | 14/286 [00:08<02:43,  1.66it/s]"
     ]
    },
    {
     "name": "stdout",
     "output_type": "stream",
     "text": [
      "Failed requesting Ships That Pass In The Night - Live\n"
     ]
    },
    {
     "name": "stderr",
     "output_type": "stream",
     "text": [
      "Processing David Essex_tracks.parquet:   7%|▋         | 21/286 [00:10<01:27,  3.03it/s]"
     ]
    },
    {
     "name": "stdout",
     "output_type": "stream",
     "text": [
      "Failed requesting Here We Are All Together - Live\n",
      "Failed requesting It's Gonna Be Alright - Live\n",
      "Failed requesting I'll Be Missing You (Magic) - Live\n",
      "Failed requesting The Whisper\n"
     ]
    },
    {
     "name": "stderr",
     "output_type": "stream",
     "text": [
      "Processing David Essex_tracks.parquet:   9%|▉         | 27/286 [00:11<00:59,  4.35it/s]"
     ]
    },
    {
     "name": "stdout",
     "output_type": "stream",
     "text": [
      "Failed requesting Down Again\n",
      "Failed requesting Fishing for the Moon\n",
      "Failed requesting Ears of the City\n",
      "Failed requesting Love, Oh Love\n",
      "Failed requesting Moonlight Dancing\n",
      "Failed requesting Love Is a Stranger\n"
     ]
    },
    {
     "name": "stderr",
     "output_type": "stream",
     "text": [
      "Processing David Essex_tracks.parquet:  12%|█▏        | 33/286 [00:13<00:48,  5.22it/s]"
     ]
    },
    {
     "name": "stdout",
     "output_type": "stream",
     "text": [
      "Failed requesting Two Runaways\n",
      "Failed requesting The Smile\n",
      "Failed requesting Slave\n",
      "Failed requesting Come on Little Darlin'\n",
      "Failed requesting Zulu Warrior\n",
      "Failed requesting The Smile - Extended Version\n",
      "Failed requesting Secret Habit\n"
     ]
    },
    {
     "name": "stderr",
     "output_type": "stream",
     "text": [
      "Processing David Essex_tracks.parquet:  13%|█▎        | 37/286 [00:13<00:32,  7.57it/s]"
     ]
    },
    {
     "name": "stdout",
     "output_type": "stream",
     "text": [
      "Failed requesting Look at Your Face\n",
      "Failed requesting Alice (Stay Young & Free)\n",
      "Failed requesting Victim\n",
      "Failed requesting Look at Them Laughing\n"
     ]
    },
    {
     "name": "stderr",
     "output_type": "stream",
     "text": [
      "Processing David Essex_tracks.parquet:  15%|█▌        | 43/286 [00:14<00:40,  6.01it/s]"
     ]
    },
    {
     "name": "stdout",
     "output_type": "stream",
     "text": [
      "Failed requesting On & On - Live\n",
      "Failed requesting Dangerous - Live\n",
      "Failed requesting Picture This Sky - Live\n",
      "Failed requesting Stardust - Live\n"
     ]
    },
    {
     "name": "stderr",
     "output_type": "stream",
     "text": [
      "Processing David Essex_tracks.parquet:  17%|█▋        | 50/286 [00:15<00:36,  6.51it/s]"
     ]
    },
    {
     "name": "stdout",
     "output_type": "stream",
     "text": [
      "Failed requesting If I Could - Live\n",
      "Failed requesting Lamplight - Live\n",
      "Failed requesting Heart Beats Like a Drum - Live\n",
      "Failed requesting Out of the Blue - Live\n",
      "Failed requesting Pretty Thing - Live\n"
     ]
    },
    {
     "name": "stderr",
     "output_type": "stream",
     "text": [
      "Processing David Essex_tracks.parquet:  20%|██        | 58/286 [00:17<00:29,  7.63it/s]"
     ]
    },
    {
     "name": "stdout",
     "output_type": "stream",
     "text": [
      "Failed requesting Hold Me Close - Live\n",
      "Failed requesting Silver Dream Machine - Live\n",
      "Failed requesting Rock On - Live\n",
      "Failed requesting Here We All Are Together - Live\n",
      "Failed requesting It's Gonna Be Alright - Live\n",
      "Failed requesting Picture This Sky\n"
     ]
    },
    {
     "name": "stderr",
     "output_type": "stream",
     "text": [
      "Processing David Essex_tracks.parquet:  21%|██        | 60/286 [00:18<00:49,  4.60it/s]"
     ]
    },
    {
     "name": "stdout",
     "output_type": "stream",
     "text": [
      "Failed requesting Pretty Thing\n"
     ]
    },
    {
     "name": "stderr",
     "output_type": "stream",
     "text": [
      "Processing David Essex_tracks.parquet:  22%|██▏       | 62/286 [00:19<01:05,  3.41it/s]"
     ]
    },
    {
     "name": "stdout",
     "output_type": "stream",
     "text": [
      "Failed requesting Dangerous\n"
     ]
    },
    {
     "name": "stderr",
     "output_type": "stream",
     "text": [
      "Processing David Essex_tracks.parquet:  22%|██▏       | 64/286 [00:20<01:18,  2.83it/s]"
     ]
    },
    {
     "name": "stdout",
     "output_type": "stream",
     "text": [
      "Failed requesting Dance with Me\n",
      "Failed requesting She's Emotional\n",
      "Failed requesting It's Gonna Be Alright\n"
     ]
    },
    {
     "name": "stderr",
     "output_type": "stream",
     "text": [
      "Processing David Essex_tracks.parquet:  26%|██▌       | 74/286 [00:21<00:34,  6.10it/s]"
     ]
    },
    {
     "name": "stdout",
     "output_type": "stream",
     "text": [
      "Failed requesting Here We Are All Together\n",
      "Failed requesting Young in Heart\n",
      "Failed requesting Kit's a Cowboy\n",
      "Failed requesting I'll Call Ya ( She's Leaving Home )\n",
      "Failed requesting I'll Call Ya ( She's Leaving Home )\n",
      "Failed requesting Shine Like a Diamond\n",
      "Failed requesting She Dances\n",
      "Failed requesting Oh Suburbia\n"
     ]
    },
    {
     "name": "stderr",
     "output_type": "stream",
     "text": [
      "Processing David Essex_tracks.parquet:  29%|██▊       | 82/286 [00:21<00:17, 11.58it/s]"
     ]
    },
    {
     "name": "stdout",
     "output_type": "stream",
     "text": [
      "Failed requesting Maybe Tomorrow\n",
      "Failed requesting Step into the Light\n",
      "Failed requesting Stop (Cos My Heart Is Breaking)\n",
      "Failed requesting Run Billy Run\n",
      "Failed requesting You Crazy Fool\n",
      "Failed requesting Don't Catch Me\n",
      "Failed requesting She's Come Alive\n",
      "Failed requesting You Came into My Life\n"
     ]
    },
    {
     "name": "stderr",
     "output_type": "stream",
     "text": [
      "Processing David Essex_tracks.parquet:  31%|███▏      | 90/286 [00:21<00:10, 18.39it/s]"
     ]
    },
    {
     "name": "stdout",
     "output_type": "stream",
     "text": [
      "Failed requesting Winter's Tale (feat. Rosa)\n",
      "Failed requesting All the Fun of the Fair (feat. Levi & Company)\n",
      "Failed requesting He Noticed Me (feat. Alice & Mary)\n",
      "Failed requesting Here We Are All Together (feat. Levi Jack & Company)\n",
      "Failed requesting Hold Me Close (feat. Jack & Company)\n",
      "Failed requesting Pretty Thing (feat. Jack & Alice)\n",
      "Failed requesting Rock On (feat. Levi)\n",
      "Failed requesting Me and My Girl (Nightclubbing) [feat. Jack Jonny & Company]\n"
     ]
    },
    {
     "name": "stderr",
     "output_type": "stream",
     "text": [
      "Processing David Essex_tracks.parquet:  35%|███▍      | 99/286 [00:22<00:07, 25.93it/s]"
     ]
    },
    {
     "name": "stdout",
     "output_type": "stream",
     "text": [
      "Failed requesting Street Fight (feat. Druid & Spiv)\n",
      "Failed requesting Gonna Make You a Star (feat. Levi Jonny Jack & Company)\n",
      "Failed requesting Father and Son (feat. Levi Jack & Company)\n",
      "Failed requesting You're in My Heart (feat. Levi Rosa Jack Mary & Alice)\n",
      "Failed requesting Lamplight (feat. Jack)\n",
      "Failed requesting She's Leaving Home (feat. Jonny Levi Harvey & Company)\n",
      "Failed requesting If I Could (feat. Jack & Alice)\n",
      "Failed requesting Dangerous (feat. Levi Mary & Company)\n",
      "Failed requesting It's Gonna Be Alright (feat. Levi)\n"
     ]
    },
    {
     "name": "stderr",
     "output_type": "stream",
     "text": [
      "Processing David Essex_tracks.parquet:  37%|███▋      | 107/286 [00:22<00:06, 29.16it/s]"
     ]
    },
    {
     "name": "stdout",
     "output_type": "stream",
     "text": [
      "Failed requesting Winter's Tale (Reprise) [feat. Rosa & Levi]\n",
      "Failed requesting Silver Dream Machine (feat. Jack Levi & Jonny)\n",
      "Failed requesting Here We Are All Together (feat. Levi & Company)\n",
      "Failed requesting Winter's Tale (feat. Rosa)\n",
      "Failed requesting All the Fun of the Fair (feat. Levi & Company)\n",
      "Failed requesting He Notice Me (feat. Alice & Mary)\n",
      "Failed requesting Here We Are All Together (feat. Levi Jack Mary & Company)\n",
      "Failed requesting Hold Me Close (feat. Jack & Company)\n"
     ]
    },
    {
     "name": "stderr",
     "output_type": "stream",
     "text": [
      "Processing David Essex_tracks.parquet:  39%|███▉      | 111/286 [00:22<00:05, 30.26it/s]"
     ]
    },
    {
     "name": "stdout",
     "output_type": "stream",
     "text": [
      "Failed requesting Pretty Thing (feat. Jack & Alice)\n",
      "Failed requesting Rock On (feat. Levi & Harvey)\n",
      "Failed requesting Me and My Girl (Nightclubbing) [feat. Jack Jonny & Company]\n",
      "Failed requesting Street Fight (feat. Harvey Druid & Company)\n",
      "Failed requesting Gonna Make You a Star (feat. Levi Jack Jonny & Company)\n",
      "Failed requesting Father & Son (feat. Jack & Levi)\n",
      "Failed requesting You're in My Heart (feat. Levi Rosa Jack Alice & Mary)\n"
     ]
    },
    {
     "name": "stderr",
     "output_type": "stream",
     "text": [
      "Processing David Essex_tracks.parquet:  42%|████▏     | 119/286 [00:22<00:05, 32.84it/s]"
     ]
    },
    {
     "name": "stdout",
     "output_type": "stream",
     "text": [
      "Failed requesting Lamplight (feat. Jack)\n",
      "Failed requesting Stay Young and Free (feat. Harvey & Alice)\n",
      "Failed requesting She's Leaving (feat. Jonny Levi Harvey & Company)\n",
      "Failed requesting If I Could (feat. Jack & Alice)\n",
      "Failed requesting Dangerous (feat. Levi Mary & Company)\n",
      "Failed requesting Silver Dream Machine (feat. Jack Jonny & Levi)\n",
      "Failed requesting It's Gonna Be Alright (feat. Levi)\n"
     ]
    },
    {
     "name": "stderr",
     "output_type": "stream",
     "text": [
      "Processing David Essex_tracks.parquet:  44%|████▍     | 127/286 [00:23<00:05, 29.38it/s]"
     ]
    },
    {
     "name": "stdout",
     "output_type": "stream",
     "text": [
      "Failed requesting Here We Are All Together (feat. Levi & Company)\n",
      "Failed requesting She's Emotional\n",
      "Failed requesting Change\n",
      "Failed requesting Heart Breaker\n",
      "Failed requesting It's a Wonderful World\n",
      "Failed requesting New Messiah\n",
      "Failed requesting My Sweet Girl\n",
      "Failed requesting Little Dreamer\n"
     ]
    },
    {
     "name": "stderr",
     "output_type": "stream",
     "text": [
      "Processing David Essex_tracks.parquet:  47%|████▋     | 135/286 [00:23<00:04, 32.08it/s]"
     ]
    },
    {
     "name": "stdout",
     "output_type": "stream",
     "text": [
      "Failed requesting Can't Get You Out of My Mind\n",
      "Failed requesting Dave's Blues\n",
      "Failed requesting Forever\n",
      "Failed requesting Happy Ever After\n",
      "Failed requesting Before I Met You\n",
      "Failed requesting Still Looking for Me\n",
      "Failed requesting Why Don't You Come and See Me\n"
     ]
    },
    {
     "name": "stderr",
     "output_type": "stream",
     "text": [
      "Processing David Essex_tracks.parquet:  50%|█████     | 143/286 [00:23<00:04, 32.23it/s]"
     ]
    },
    {
     "name": "stdout",
     "output_type": "stream",
     "text": [
      "Failed requesting Emily's Book of Life\n",
      "Failed requesting I'm Walking Away\n",
      "Failed requesting Remember England\n",
      "Failed requesting Song That Never Ends\n",
      "Failed requesting Rock Is Gonna Get You\n",
      "Failed requesting Rock Me Baby\n",
      "Failed requesting Hearts Turn to Stone\n"
     ]
    },
    {
     "name": "stderr",
     "output_type": "stream",
     "text": [
      "Processing David Essex_tracks.parquet:  51%|█████▏    | 147/286 [00:23<00:04, 30.63it/s]"
     ]
    },
    {
     "name": "stdout",
     "output_type": "stream",
     "text": [
      "Failed requesting Walk of Life\n",
      "Failed requesting Your So Beautiful\n",
      "Failed requesting One Day\n",
      "Failed requesting Let Me Feel Your Love\n",
      "Failed requesting Gonna Search and Find You\n",
      "Failed requesting Hello It's Good to See You\n",
      "Failed requesting Tell It to My Heart\n"
     ]
    },
    {
     "name": "stderr",
     "output_type": "stream",
     "text": [
      "Processing David Essex_tracks.parquet:  54%|█████▍    | 155/286 [00:23<00:04, 32.31it/s]"
     ]
    },
    {
     "name": "stdout",
     "output_type": "stream",
     "text": [
      "Failed requesting It's Gonna Be Alright\n",
      "Failed requesting Wonderful\n",
      "Failed requesting Dance With Me\n",
      "Failed requesting Pretty Thing\n",
      "Failed requesting Pretty Thing\n",
      "Failed requesting A Place in the Sun\n",
      "Failed requesting Let's Talk About It\n"
     ]
    },
    {
     "name": "stderr",
     "output_type": "stream",
     "text": [
      "Processing David Essex_tracks.parquet:  57%|█████▋    | 163/286 [00:24<00:03, 33.18it/s]"
     ]
    },
    {
     "name": "stdout",
     "output_type": "stream",
     "text": [
      "Failed requesting Let Me Live in Your Heart\n",
      "Failed requesting Everybody\n",
      "Failed requesting This Could Be\n",
      "Failed requesting E 16\n",
      "Failed requesting Carrying the Water Home\n",
      "Failed requesting Dangerous\n",
      "Failed requesting I'll Be There\n"
     ]
    },
    {
     "name": "stderr",
     "output_type": "stream",
     "text": [
      "Processing David Essex_tracks.parquet:  60%|█████▉    | 171/286 [00:24<00:03, 34.66it/s]"
     ]
    },
    {
     "name": "stdout",
     "output_type": "stream",
     "text": [
      "Failed requesting No Substitute\n",
      "Failed requesting Ooh La Baby Blonde\n",
      "Failed requesting You're So Fierce\n",
      "Failed requesting Me and My Girl (Night-Clubbing)\n",
      "Failed requesting Me and My Girl (Night-Clubbing)\n",
      "Failed requesting You Don't Know Like I Know\n",
      "Failed requesting Call Me Your Lover\n",
      "Failed requesting Sweethearts\n"
     ]
    },
    {
     "name": "stderr",
     "output_type": "stream",
     "text": [
      "Processing David Essex_tracks.parquet:  63%|██████▎   | 179/286 [00:24<00:03, 34.84it/s]"
     ]
    },
    {
     "name": "stdout",
     "output_type": "stream",
     "text": [
      "Failed requesting Romance\n",
      "Failed requesting Verity\n",
      "Failed requesting Secondhand Love\n",
      "Failed requesting Sleeping with the Director\n",
      "Failed requesting Stage-Struck\n",
      "Failed requesting Hold on Me\n",
      "Failed requesting She's My World\n",
      "Failed requesting Totally Secure\n"
     ]
    },
    {
     "name": "stderr",
     "output_type": "stream",
     "text": [
      "Processing David Essex_tracks.parquet:  65%|██████▌   | 187/286 [00:24<00:02, 33.71it/s]"
     ]
    },
    {
     "name": "stdout",
     "output_type": "stream",
     "text": [
      "Failed requesting Sunday Papers\n",
      "Failed requesting The Magician\n",
      "Failed requesting The Politician\n",
      "Failed requesting Sunshine Girl\n",
      "Failed requesting Be Bop a Lula\n",
      "Failed requesting Life Support System\n",
      "Failed requesting Showgirls\n",
      "Failed requesting Silly Little Baby Running\n"
     ]
    },
    {
     "name": "stderr",
     "output_type": "stream",
     "text": [
      "Processing David Essex_tracks.parquet:  68%|██████▊   | 195/286 [00:25<00:02, 33.86it/s]"
     ]
    },
    {
     "name": "stdout",
     "output_type": "stream",
     "text": [
      "Failed requesting Pick Up the Future\n",
      "Failed requesting Secret Lover\n",
      "Failed requesting Don't Leave Me This Way\n",
      "Failed requesting Hot Love\n",
      "Failed requesting I Luv Ya\n",
      "Failed requesting Talking with Your Body\n",
      "Failed requesting Zebra Kid\n",
      "Failed requesting Heart on My Sleeve\n"
     ]
    },
    {
     "name": "stderr",
     "output_type": "stream",
     "text": [
      "Processing David Essex_tracks.parquet:  71%|███████   | 203/286 [00:25<00:02, 32.35it/s]"
     ]
    },
    {
     "name": "stdout",
     "output_type": "stream",
     "text": [
      "Failed requesting Reality\n",
      "Failed requesting Rock N Roll Me\n",
      "Failed requesting Cold As Ice\n",
      "Failed requesting Swim Against the Flow\n",
      "Failed requesting On My Bike\n",
      "Failed requesting I Don't Wanna Go to the Disco\n",
      "Failed requesting This Situation\n",
      "Failed requesting Let It Flow\n",
      "Failed requesting Call On Me\n"
     ]
    },
    {
     "name": "stderr",
     "output_type": "stream",
     "text": [
      "Processing David Essex_tracks.parquet:  73%|███████▎  | 210/286 [00:25<00:02, 27.05it/s]"
     ]
    },
    {
     "name": "stdout",
     "output_type": "stream",
     "text": [
      "Failed requesting Are You Still My First Love\n",
      "Failed requesting Oh What a Circus\n",
      "Failed requesting Imperial Wizard\n",
      "Failed requesting I Forgot to Forget You\n",
      "Failed requesting Oh What a Feeling\n",
      "Failed requesting Won't Change Me Now\n",
      "Failed requesting Goodbye First Love\n"
     ]
    },
    {
     "name": "stderr",
     "output_type": "stream",
     "text": [
      "Processing David Essex_tracks.parquet:  76%|███████▌  | 218/286 [00:25<00:02, 31.13it/s]"
     ]
    },
    {
     "name": "stdout",
     "output_type": "stream",
     "text": [
      "Failed requesting 20 Flights Up\n",
      "Failed requesting Ships That Pass in the Night\n",
      "Failed requesting High Flying Adored\n",
      "Failed requesting Midnight Train\n",
      "Failed requesting City Lights\n",
      "Failed requesting Gonna Make You a Star\n",
      "Failed requesting Gonna Make You a Star\n",
      "Failed requesting Hold Me Close\n"
     ]
    },
    {
     "name": "stderr",
     "output_type": "stream",
     "text": [
      "Processing David Essex_tracks.parquet:  79%|███████▉  | 227/286 [00:26<00:01, 35.21it/s]"
     ]
    },
    {
     "name": "stdout",
     "output_type": "stream",
     "text": [
      "Failed requesting Hold Me Close\n",
      "Failed requesting Coming Home\n",
      "Failed requesting Bring In the Sun\n",
      "Failed requesting Stardust\n",
      "Failed requesting There's Something About You Baby\n",
      "Failed requesting Turn Me Loose\n",
      "Failed requesting If I Could\n",
      "Failed requesting Rock On\n",
      "Failed requesting Rock On\n"
     ]
    },
    {
     "name": "stderr",
     "output_type": "stream",
     "text": [
      "Processing David Essex_tracks.parquet:  83%|████████▎ | 237/286 [00:26<00:01, 38.45it/s]"
     ]
    },
    {
     "name": "stdout",
     "output_type": "stream",
     "text": [
      "Failed requesting I'll Call Ya ( She's Leaving Home )\n",
      "Failed requesting I'll Call Ya ( She's Leaving Home )\n",
      "Failed requesting Pretty Thing\n",
      "Failed requesting Pretty Thing\n",
      "Failed requesting Me and My Girl (Night-Clubbing)\n",
      "Failed requesting Me and My Girl (Night-Clubbing)\n",
      "Failed requesting Gonna Make You a Star\n",
      "Failed requesting Gonna Make You a Star\n",
      "Failed requesting Hold Me Close\n"
     ]
    },
    {
     "name": "stderr",
     "output_type": "stream",
     "text": [
      "Processing David Essex_tracks.parquet:  84%|████████▍ | 241/286 [00:26<00:01, 38.52it/s]"
     ]
    },
    {
     "name": "stdout",
     "output_type": "stream",
     "text": [
      "Failed requesting Hold Me Close\n",
      "Failed requesting Rock On\n",
      "Failed requesting Rock On\n",
      "Failed requesting All the Fun of the Fair\n",
      "Failed requesting A Winter's Tale\n",
      "Failed requesting Lamplight\n"
     ]
    },
    {
     "name": "stderr",
     "output_type": "stream",
     "text": [
      "Processing David Essex_tracks.parquet:  87%|████████▋ | 249/286 [00:26<00:01, 31.27it/s]"
     ]
    },
    {
     "name": "stdout",
     "output_type": "stream",
     "text": [
      "Failed requesting He Noticed Me\n",
      "Failed requesting It's Gonna Be Alright\n",
      "Failed requesting Streetfight\n",
      "Failed requesting Father And Son\n",
      "Failed requesting You're In My Heart\n",
      "Failed requesting Alice (Stay Young And Free)\n",
      "Failed requesting If I Could\n"
     ]
    },
    {
     "name": "stderr",
     "output_type": "stream",
     "text": [
      "Processing David Essex_tracks.parquet:  90%|████████▉ | 257/286 [00:27<00:00, 32.73it/s]"
     ]
    },
    {
     "name": "stdout",
     "output_type": "stream",
     "text": [
      "Failed requesting Dangerous\n",
      "Failed requesting Silver Dream Machine\n",
      "Failed requesting Here We All Are Together\n",
      "Failed requesting Oh What A Circus - 1997 New Version\n",
      "Failed requesting Silver Dream Machine\n",
      "Failed requesting The First Cut Is The Deepest\n",
      "Failed requesting You're In My Heart\n"
     ]
    },
    {
     "name": "stderr",
     "output_type": "stream",
     "text": [
      "Processing David Essex_tracks.parquet:  91%|█████████▏| 261/286 [00:27<00:00, 33.52it/s]"
     ]
    },
    {
     "name": "stdout",
     "output_type": "stream",
     "text": [
      "Failed requesting Sea Of Love - 1997 Version\n",
      "Failed requesting The Crying Game\n",
      "Failed requesting St. Elmo's Fire (Man In Motion)\n",
      "Failed requesting Won't Change Me Now\n",
      "Failed requesting Will You Still Love Me Tomorrow\n"
     ]
    },
    {
     "name": "stderr",
     "output_type": "stream",
     "text": [
      "Processing David Essex_tracks.parquet:  94%|█████████▍| 269/286 [00:27<00:00, 29.15it/s]"
     ]
    },
    {
     "name": "stdout",
     "output_type": "stream",
     "text": [
      "Failed requesting The Sun Ain't Gonna Shine Anymore\n",
      "Failed requesting Beautiful Day\n",
      "Failed requesting Dust to Dust\n",
      "Failed requesting In Our Sky\n",
      "Failed requesting What Did I Do\n",
      "Failed requesting Time Is On Our Side\n",
      "Failed requesting Still Waiting\n"
     ]
    },
    {
     "name": "stderr",
     "output_type": "stream",
     "text": [
      "Processing David Essex_tracks.parquet:  97%|█████████▋| 277/286 [00:27<00:00, 31.05it/s]"
     ]
    },
    {
     "name": "stdout",
     "output_type": "stream",
     "text": [
      "Failed requesting To Me Your a Star\n",
      "Failed requesting What Do I Do\n",
      "Failed requesting Blue Without You\n",
      "Failed requesting Hey Baby\n",
      "Failed requesting Phantom Of The Opera\n",
      "Failed requesting Pinball Wizzard\n",
      "Failed requesting Bright Eyes\n"
     ]
    },
    {
     "name": "stderr",
     "output_type": "stream",
     "text": [
      "Processing David Essex_tracks.parquet:  98%|█████████▊| 281/286 [00:27<00:00, 31.10it/s]"
     ]
    },
    {
     "name": "stdout",
     "output_type": "stream",
     "text": [
      "Failed requesting Summertime\n",
      "Failed requesting Ghostbusters\n",
      "Failed requesting Save The People\n",
      "Failed requesting Out Here On My Own\n",
      "Failed requesting I Dreamed A Dream (J'avais Reve D'une Autre Vie)\n",
      "Failed requesting Corner On The Sky\n"
     ]
    },
    {
     "name": "stderr",
     "output_type": "stream",
     "text": [
      "Processing David Essex_tracks.parquet: 100%|██████████| 286/286 [00:28<00:00, 10.21it/s]\n",
      "Processing David Fiuczynski_tracks.parquet:   2%|▏         | 4/201 [00:00<00:05, 38.04it/s]"
     ]
    },
    {
     "name": "stdout",
     "output_type": "stream",
     "text": [
      "Failed requesting Tahiti\n",
      "Failed requesting I Wanna Be Like You\n",
      "Failed requesting Loon-Y Tunes\n",
      "Failed requesting Dance of the Uirapuru\n",
      "Failed requesting Flam\n",
      "Failed requesting Q&A Solitaire\n"
     ]
    },
    {
     "name": "stderr",
     "output_type": "stream",
     "text": [
      "Processing David Fiuczynski_tracks.parquet:   4%|▍         | 9/201 [00:00<00:04, 40.36it/s]"
     ]
    },
    {
     "name": "stdout",
     "output_type": "stream",
     "text": [
      "Failed requesting Oiseaux jdillique\n",
      "Failed requesting Gagaku Chord Candy\n",
      "Failed requesting Waldstimmen\n",
      "Failed requesting Uira Happy Jam\n",
      "Failed requesting Organ Wren\n",
      "Failed requesting Loon-Ly Solitaire\n",
      "Failed requesting Micro Emperor\n",
      "Failed requesting Mystic Microjam\n"
     ]
    },
    {
     "name": "stderr",
     "output_type": "stream",
     "text": [
      "Processing David Fiuczynski_tracks.parquet:   9%|▉         | 18/201 [00:00<00:04, 39.74it/s]"
     ]
    },
    {
     "name": "stdout",
     "output_type": "stream",
     "text": [
      "Failed requesting Meditación\n",
      "Failed requesting Sun Song\n",
      "Failed requesting Horos Fuzivikos\n",
      "Failed requesting Drunken Longing\n",
      "Failed requesting Madoka Blue\n",
      "Failed requesting En Secreto\n",
      "Failed requesting Green Lament\n",
      "Failed requesting Apprehension\n",
      "Failed requesting Ragaku\n"
     ]
    },
    {
     "name": "stderr",
     "output_type": "stream",
     "text": [
      "Processing David Fiuczynski_tracks.parquet:  13%|█▎        | 27/201 [00:00<00:04, 38.64it/s]"
     ]
    },
    {
     "name": "stdout",
     "output_type": "stream",
     "text": [
      "Failed requesting Shiraz\n",
      "Failed requesting Moonring Bacchanal\n",
      "Failed requesting Sakura ~ Ying Hua\n",
      "Failed requesting Cumin\n",
      "Failed requesting Habibi Bounce\n",
      "Failed requesting Fung Wah Express\n",
      "Failed requesting Arcadia Finlandis\n",
      "Failed requesting Phoenix Rising\n",
      "Failed requesting Almond Pear\n"
     ]
    },
    {
     "name": "stderr",
     "output_type": "stream",
     "text": [
      "Processing David Fiuczynski_tracks.parquet:  18%|█▊        | 36/201 [00:00<00:04, 37.72it/s]"
     ]
    },
    {
     "name": "stdout",
     "output_type": "stream",
     "text": [
      "Failed requesting Ek Balaam\n",
      "Failed requesting Sakalahachi\n",
      "Failed requesting Step on My Shoes A\n",
      "Failed requesting Llessurgy\n",
      "Failed requesting Radio is the Enemy\n",
      "Failed requesting Bollocks\n",
      "Failed requesting Bad Boy\n"
     ]
    },
    {
     "name": "stderr",
     "output_type": "stream",
     "text": [
      "Processing David Fiuczynski_tracks.parquet:  22%|██▏       | 44/201 [00:01<00:04, 34.75it/s]"
     ]
    },
    {
     "name": "stdout",
     "output_type": "stream",
     "text": [
      "Failed requesting Shafta\n",
      "Failed requesting Scrapecheese\n",
      "Failed requesting Golden Rule\n",
      "Failed requesting Step on My Shoes B\n",
      "Failed requesting Bright Size Life\n",
      "Failed requesting Third Stone From The Sun\n",
      "Failed requesting Chopin Prelude Opus 28 No. 4\n",
      "Failed requesting Red Warrior\n"
     ]
    },
    {
     "name": "stderr",
     "output_type": "stream",
     "text": [
      "Processing David Fiuczynski_tracks.parquet:  26%|██▌       | 52/201 [00:01<00:04, 34.92it/s]"
     ]
    },
    {
     "name": "stdout",
     "output_type": "stream",
     "text": [
      "Failed requesting African Game Fragment\n",
      "Failed requesting La Fiesta\n",
      "Failed requesting Starcrossed Lovers\n",
      "Failed requesting Jungle Gym Jam\n",
      "Failed requesting Stars & Stripes Whenever\n",
      "Failed requesting Hipgnosis\n",
      "Failed requesting Vog\n",
      "Failed requesting Pacifica\n"
     ]
    },
    {
     "name": "stderr",
     "output_type": "stream",
     "text": [
      "Processing David Fiuczynski_tracks.parquet:  30%|██▉       | 60/201 [00:01<00:04, 34.54it/s]"
     ]
    },
    {
     "name": "stdout",
     "output_type": "stream",
     "text": [
      "Failed requesting Gloria Ascending\n",
      "Failed requesting Pineapple\n",
      "Failed requesting Quest\n",
      "Failed requesting Freelance Brown\n",
      "Failed requesting Slow Blues for Fuzy's Mama\n",
      "Failed requesting Lillies That Fester...\n",
      "Failed requesting 122 St. Marks\n",
      "Failed requesting Fima's Sunrise\n"
     ]
    },
    {
     "name": "stderr",
     "output_type": "stream",
     "text": [
      "Processing David Fiuczynski_tracks.parquet:  32%|███▏      | 64/201 [00:01<00:03, 34.38it/s]"
     ]
    },
    {
     "name": "stdout",
     "output_type": "stream",
     "text": [
      "Failed requesting Bitcorn Soup\n",
      "Failed requesting Bitcorn Soup (Alternate Take)\n",
      "Failed requesting Earth Is a Circus (Instrumental)\n",
      "Failed requesting What You Think in the Shower Means More Than You Know\n",
      "Failed requesting All Hands on Deck (Break Yo Neck)\n"
     ]
    },
    {
     "name": "stderr",
     "output_type": "stream",
     "text": [
      "Processing David Fiuczynski_tracks.parquet:  36%|███▌      | 72/201 [00:02<00:04, 31.23it/s]"
     ]
    },
    {
     "name": "stdout",
     "output_type": "stream",
     "text": [
      "Failed requesting Theme for Stank Mouth\n",
      "Failed requesting The Black Bag of Surprise\n",
      "Failed requesting Undercover on the Diamond Floor\n",
      "Failed requesting Sunny Side Up, Good Luck (A Place for the Others)\n",
      "Failed requesting Peaches & Cream Therapy\n",
      "Failed requesting Million Lives Will Shine as One\n",
      "Failed requesting Just Because My Grandma's Voice Makes Me Feel Safe\n",
      "Failed requesting Put on Earth for You\n"
     ]
    },
    {
     "name": "stderr",
     "output_type": "stream",
     "text": [
      "Processing David Fiuczynski_tracks.parquet:  40%|███▉      | 80/201 [00:02<00:03, 32.33it/s]"
     ]
    },
    {
     "name": "stdout",
     "output_type": "stream",
     "text": [
      "Failed requesting Turkish Delight - Suona Music\n",
      "Failed requesting Amazing Grace - Suona Music\n",
      "Failed requesting Rozhinkes Mit Mandlen - Guanzi Music\n",
      "Failed requesting Lan Hua Hua - Guanzi Music\n",
      "Failed requesting Drunken Longing - Sheng Music\n",
      "Failed requesting Northeastern Chinese Folk Song - Suona Music\n",
      "Failed requesting A Lark in the Clear Sky - Flute Music\n"
     ]
    },
    {
     "name": "stderr",
     "output_type": "stream",
     "text": [
      "Processing David Fiuczynski_tracks.parquet:  44%|████▍     | 88/201 [00:02<00:03, 33.30it/s]"
     ]
    },
    {
     "name": "stdout",
     "output_type": "stream",
     "text": [
      "Failed requesting Let Us Dance Together - Guanzi Music\n",
      "Failed requesting Song of the Indians - Flute Music\n",
      "Failed requesting Song of Marrying off a Daughter - Guanzi Music\n",
      "Failed requesting Misirlo - Ocarina Music\n",
      "Failed requesting Oh Shenandoah - Guanzi Music\n",
      "Failed requesting A Xiang Luo Luo - Suona Music\n",
      "Failed requesting Yunnan Impression - Hulusi Solo\n",
      "Failed requesting Moliendo Café - Flute Music\n"
     ]
    },
    {
     "name": "stderr",
     "output_type": "stream",
     "text": [
      "Processing David Fiuczynski_tracks.parquet:  46%|████▌     | 92/201 [00:02<00:03, 34.23it/s]"
     ]
    },
    {
     "name": "stdout",
     "output_type": "stream",
     "text": [
      "Failed requesting El Condor Pasa - Panpipe Music\n",
      "Failed requesting MikroSteps\n",
      "Failed requesting Für Mary Wigman\n",
      "Failed requesting Lullaby Nightmare\n",
      "Failed requesting MiCrOY Tyner\n",
      "Failed requesting Umarmung\n",
      "Failed requesting Last Chance\n",
      "Failed requesting November\n"
     ]
    },
    {
     "name": "stderr",
     "output_type": "stream",
     "text": [
      "Processing David Fiuczynski_tracks.parquet:  50%|█████     | 101/201 [00:02<00:03, 32.99it/s]"
     ]
    },
    {
     "name": "stdout",
     "output_type": "stream",
     "text": [
      "Failed requesting Hangover\n",
      "Failed requesting LaMonte's Gamelan Jam\n",
      "Failed requesting Walking Not Flying\n",
      "Failed requesting Sofia Im Türkischen Café\n",
      "Failed requesting Zirkus Makabre\n",
      "Failed requesting Bir Varmış Bir Yokmuş Hayat\n"
     ]
    },
    {
     "name": "stderr",
     "output_type": "stream",
     "text": [
      "Processing David Fiuczynski_tracks.parquet:  54%|█████▍    | 109/201 [00:03<00:02, 34.07it/s]"
     ]
    },
    {
     "name": "stdout",
     "output_type": "stream",
     "text": [
      "Failed requesting Thrill of the Chase\n",
      "Failed requesting Değişmek Cesaret Ister\n",
      "Failed requesting Neotolian Song\n",
      "Failed requesting Manastır Türküsü\n",
      "Failed requesting Rondo Afro Turca\n",
      "Failed requesting Gül Kuruttum\n",
      "Failed requesting Pendulum\n",
      "Failed requesting Lydianic\n"
     ]
    },
    {
     "name": "stderr",
     "output_type": "stream",
     "text": [
      "Processing David Fiuczynski_tracks.parquet:  58%|█████▊    | 117/201 [00:03<00:02, 34.21it/s]"
     ]
    },
    {
     "name": "stdout",
     "output_type": "stream",
     "text": [
      "Failed requesting Değmen Benim Gamlı Yaslı Gönlüme\n",
      "Failed requesting Goat\n",
      "Failed requesting Saturn\n",
      "Failed requesting Judith\n",
      "Failed requesting Atropos\n",
      "Failed requesting Colossus\n",
      "Failed requesting Two Monks\n"
     ]
    },
    {
     "name": "stderr",
     "output_type": "stream",
     "text": [
      "Processing David Fiuczynski_tracks.parquet:  60%|██████    | 121/201 [00:03<00:02, 33.71it/s]"
     ]
    },
    {
     "name": "stdout",
     "output_type": "stream",
     "text": [
      "Failed requesting Dog\n",
      "Failed requesting Two Women\n",
      "Failed requesting Asmodea\n",
      "Failed requesting Smash\n",
      "Failed requesting Jungle Juice (feat. David Fuze Fiuczynski)\n",
      "Failed requesting Jimimitch (feat. Lance Lucas & Amber Baker)\n",
      "Failed requesting Neon the Won\n"
     ]
    },
    {
     "name": "stderr",
     "output_type": "stream",
     "text": [
      "Processing David Fiuczynski_tracks.parquet:  64%|██████▍   | 129/201 [00:03<00:02, 32.56it/s]"
     ]
    },
    {
     "name": "stdout",
     "output_type": "stream",
     "text": [
      "Failed requesting Black, White, Then Neon (feat. Mojcksn)\n",
      "Failed requesting Neon Eggs and Ham (feat. Jerome Flood)\n",
      "Failed requesting Criterion\n",
      "Failed requesting Woodpecker\n",
      "Failed requesting 5G Veve\n",
      "Failed requesting Tuba Solo For Marcus Rojas\n",
      "Failed requesting Veve 55\n",
      "Failed requesting Puszta Derelicts\n"
     ]
    },
    {
     "name": "stderr",
     "output_type": "stream",
     "text": [
      "Processing David Fiuczynski_tracks.parquet:  68%|██████▊   | 137/201 [00:03<00:01, 33.77it/s]"
     ]
    },
    {
     "name": "stdout",
     "output_type": "stream",
     "text": [
      "Failed requesting Three Easy Pieces - Trio Extraordinaire\n",
      "Failed requesting Coconut Feeding Birds\n",
      "Failed requesting Nest Regurgitation - Cone Veve\n",
      "Failed requesting Yoruban Game\n",
      "Failed requesting My Morning Feldman\n",
      "Failed requesting Monkey Gongs\n",
      "Failed requesting Veve For MMW\n",
      "Failed requesting Repons - The Black One\n"
     ]
    },
    {
     "name": "stderr",
     "output_type": "stream",
     "text": [
      "Processing David Fiuczynski_tracks.parquet:  72%|███████▏  | 145/201 [00:04<00:01, 33.78it/s]"
     ]
    },
    {
     "name": "stdout",
     "output_type": "stream",
     "text": [
      "Failed requesting Mirage Theme Two\n",
      "Failed requesting Kara’i oka\n",
      "Failed requesting Stridulation ala Golden Potion\n",
      "Failed requesting Sam\n",
      "Failed requesting Coral Sea - piano\n",
      "Failed requesting Veve 32\n"
     ]
    },
    {
     "name": "stderr",
     "output_type": "stream",
     "text": [
      "Processing David Fiuczynski_tracks.parquet:  76%|███████▌  | 153/201 [00:04<00:01, 34.18it/s]"
     ]
    },
    {
     "name": "stdout",
     "output_type": "stream",
     "text": [
      "Failed requesting Because of Mouloud\n",
      "Failed requesting Nothing Compares 2 U\n",
      "Failed requesting Kabinett V\n",
      "Failed requesting Abhogi\n",
      "Failed requesting Rise & Fall\n",
      "Failed requesting Waltz for Jb\n",
      "Failed requesting Glocken\n",
      "Failed requesting Muse - Instrumental Version\n"
     ]
    },
    {
     "name": "stderr",
     "output_type": "stream",
     "text": [
      "Processing David Fiuczynski_tracks.parquet:  80%|████████  | 161/201 [00:04<00:01, 34.12it/s]"
     ]
    },
    {
     "name": "stdout",
     "output_type": "stream",
     "text": [
      "Failed requesting S.C.D.\n",
      "Failed requesting Lick\n",
      "Failed requesting S.C.D. - Live At the Bimhuis Amsterdam\n",
      "Failed requesting Intro\n",
      "Failed requesting Primal Virtue\n",
      "Failed requesting Eternals and Apathetics\n",
      "Failed requesting Morph\n",
      "Failed requesting Fragment\n"
     ]
    },
    {
     "name": "stderr",
     "output_type": "stream",
     "text": [
      "Processing David Fiuczynski_tracks.parquet:  84%|████████▍ | 169/201 [00:04<00:00, 32.03it/s]"
     ]
    },
    {
     "name": "stdout",
     "output_type": "stream",
     "text": [
      "Failed requesting Skitzo\n",
      "Failed requesting Lao's Tao\n",
      "Failed requesting Crossing Streets\n",
      "Failed requesting Between Worlds\n",
      "Failed requesting Friend\n",
      "Failed requesting D Funk'd\n",
      "Failed requesting (Great) Ball of Issues\n",
      "Failed requesting Around About Way\n",
      "Failed requesting I Hate the Blues...(But Here's One Anyway)\n"
     ]
    },
    {
     "name": "stderr",
     "output_type": "stream",
     "text": [
      "Processing David Fiuczynski_tracks.parquet:  88%|████████▊ | 177/201 [00:05<00:00, 27.81it/s]"
     ]
    },
    {
     "name": "stdout",
     "output_type": "stream",
     "text": [
      "Failed requesting All Thought Out\n",
      "Failed requesting Emotional Squalor\n",
      "Failed requesting Deff 184\n",
      "Failed requesting Last Trane\n",
      "Failed requesting Constant Comment\n",
      "Failed requesting Foxy Morons\n",
      "Failed requesting Birds of Fire\n",
      "Failed requesting Can't Stand Your Funk\n",
      "Failed requesting Celestial Terrestrial Commuters\n"
     ]
    },
    {
     "name": "stderr",
     "output_type": "stream",
     "text": [
      "Processing David Fiuczynski_tracks.parquet:  94%|█████████▍| 189/201 [00:05<00:00, 33.92it/s]"
     ]
    },
    {
     "name": "stdout",
     "output_type": "stream",
     "text": [
      "Failed requesting Meeting of the Spirits\n",
      "Failed requesting Jazz\n",
      "Failed requesting Dawn\n",
      "Failed requesting Lila's Dance\n",
      "Failed requesting Faith\n",
      "Failed requesting Dance of Maya\n",
      "Failed requesting Follow Your Heart\n",
      "Failed requesting Brett Garsed & T.J. Helmerich / Vicoden\n",
      "Failed requesting Alex Gunia / Cause we've ended as lovers\n"
     ]
    },
    {
     "name": "stderr",
     "output_type": "stream",
     "text": [
      "Processing David Fiuczynski_tracks.parquet:  98%|█████████▊| 197/201 [00:05<00:00, 34.38it/s]"
     ]
    },
    {
     "name": "stdout",
     "output_type": "stream",
     "text": [
      "Failed requesting Richie Kotzen & Greg Howe / Led Boots\n",
      "Failed requesting Ray Russell / Snow\n",
      "Failed requesting Fernando Pareta / Brush with the blues\n",
      "Failed requesting Tribal Tech / Song Holy Hall\n",
      "Failed requesting Rick Peckham / Head For A Backstage Pass\n",
      "Failed requesting Derek Sherinian / Star Cycle\n",
      "Failed requesting David Fiuczynski / My Heavy Heart\n",
      "Failed requesting Niacin / Blue Wind\n"
     ]
    },
    {
     "name": "stderr",
     "output_type": "stream",
     "text": [
      "Processing David Fiuczynski_tracks.parquet: 100%|██████████| 201/201 [00:05<00:00, 33.85it/s]\n",
      "Processing David Francey_tracks.parquet:   0%|          | 0/184 [00:00<?, ?it/s]"
     ]
    },
    {
     "name": "stdout",
     "output_type": "stream",
     "text": [
      "Failed requesting Trinity / Dinner For Jeff\n",
      "Failed requesting Keith More / Farewell\n",
      "Failed requesting Jeff Richman / Pygmy People\n",
      "Failed requesting Poorer Then\n",
      "Failed requesting Night And Morning\n"
     ]
    },
    {
     "name": "stderr",
     "output_type": "stream",
     "text": [
      "Processing David Francey_tracks.parquet:   4%|▍         | 8/184 [00:00<00:04, 35.58it/s]"
     ]
    },
    {
     "name": "stdout",
     "output_type": "stream",
     "text": [
      "Failed requesting The Flower of Colonsay\n",
      "Failed requesting Lonely Road\n",
      "Failed requesting I Know It Won't\n",
      "Failed requesting Blue Sorrow And Then Some\n",
      "Failed requesting Come Sunday\n",
      "Failed requesting Where Harry Sat\n",
      "Failed requesting Only Love\n",
      "Failed requesting Walking In Jerusalem\n"
     ]
    },
    {
     "name": "stderr",
     "output_type": "stream",
     "text": [
      "Processing David Francey_tracks.parquet:   7%|▋         | 12/184 [00:00<00:04, 36.32it/s]"
     ]
    },
    {
     "name": "stdout",
     "output_type": "stream",
     "text": [
      "Failed requesting Moon Over Melbourne\n",
      "Failed requesting Empty Train\n",
      "Failed requesting Fool\n",
      "Failed requesting Holy Ground\n",
      "Failed requesting Hospital\n",
      "Failed requesting Mirror Ball\n"
     ]
    },
    {
     "name": "stderr",
     "output_type": "stream",
     "text": [
      "Processing David Francey_tracks.parquet:  11%|█▏        | 21/184 [00:00<00:05, 31.40it/s]"
     ]
    },
    {
     "name": "stdout",
     "output_type": "stream",
     "text": [
      "Failed requesting Big Texas Moon\n",
      "Failed requesting Blue Girl\n",
      "Failed requesting Allis Wedding\n",
      "Failed requesting Crucible\n",
      "Failed requesting False Knight\n",
      "Failed requesting Money Boys\n",
      "Failed requesting Junkies Heart\n",
      "Failed requesting Rain\n"
     ]
    },
    {
     "name": "stderr",
     "output_type": "stream",
     "text": [
      "Processing David Francey_tracks.parquet:  16%|█▌        | 29/184 [00:00<00:04, 32.45it/s]"
     ]
    },
    {
     "name": "stdout",
     "output_type": "stream",
     "text": [
      "Failed requesting Cheap Motel\n",
      "Failed requesting Harm\n",
      "Failed requesting Pandora's Box\n",
      "Failed requesting Weather Vane\n",
      "Failed requesting Satellite\n",
      "Failed requesting American Blues\n",
      "Failed requesting A Star Above\n"
     ]
    },
    {
     "name": "stderr",
     "output_type": "stream",
     "text": [
      "Processing David Francey_tracks.parquet:  18%|█▊        | 33/184 [00:01<00:04, 32.46it/s]"
     ]
    },
    {
     "name": "stdout",
     "output_type": "stream",
     "text": [
      "Failed requesting Long Long Road\n",
      "Failed requesting Ordinary Man\n",
      "Failed requesting Blue Skies\n",
      "Failed requesting Blue Yonder\n",
      "Failed requesting Bitterroot\n",
      "Failed requesting So Say We All\n"
     ]
    },
    {
     "name": "stderr",
     "output_type": "stream",
     "text": [
      "Processing David Francey_tracks.parquet:  22%|██▏       | 41/184 [00:01<00:04, 29.82it/s]"
     ]
    },
    {
     "name": "stdout",
     "output_type": "stream",
     "text": [
      "Failed requesting Yesterday's News\n",
      "Failed requesting Pretty Jackals\n",
      "Failed requesting Solitary Wave\n",
      "Failed requesting When I'm Not Thinking About You\n",
      "Failed requesting Wonder\n",
      "Failed requesting Blue Heart of Texas\n",
      "Failed requesting Just the Same\n",
      "Failed requesting Borderlands\n"
     ]
    },
    {
     "name": "stderr",
     "output_type": "stream",
     "text": [
      "Processing David Francey_tracks.parquet:  27%|██▋       | 49/184 [00:01<00:04, 33.20it/s]"
     ]
    },
    {
     "name": "stdout",
     "output_type": "stream",
     "text": [
      "Failed requesting High Wall\n",
      "Failed requesting I Live in Fear\n",
      "Failed requesting Long Brown Hair\n",
      "Failed requesting Grateful\n",
      "Failed requesting Banks of the Seaway\n",
      "Failed requesting Eastern Gap\n",
      "Failed requesting The Chief Engineer\n"
     ]
    },
    {
     "name": "stderr",
     "output_type": "stream",
     "text": [
      "Processing David Francey_tracks.parquet:  31%|███       | 57/184 [00:01<00:03, 33.84it/s]"
     ]
    },
    {
     "name": "stdout",
     "output_type": "stream",
     "text": [
      "Failed requesting The Seaway\n",
      "Failed requesting The Unloading\n",
      "Failed requesting Climbing Up to The Soo\n",
      "Failed requesting Dustless Road to the Happy Land\n",
      "Failed requesting The Parting\n",
      "Failed requesting There's No Rush\n",
      "Failed requesting Canal\n",
      "Failed requesting The Ballad of Bowser MacRae\n"
     ]
    },
    {
     "name": "stderr",
     "output_type": "stream",
     "text": [
      "Processing David Francey_tracks.parquet:  35%|███▌      | 65/184 [00:01<00:03, 34.45it/s]"
     ]
    },
    {
     "name": "stdout",
     "output_type": "stream",
     "text": [
      "Failed requesting When You're The Skip\n",
      "Failed requesting Ashtabula\n",
      "Failed requesting 21st Century Great Lake Navigators\n",
      "Failed requesting The Bottom of the Great Lakes\n",
      "Failed requesting All Lights Burning Bright\n",
      "Failed requesting Leaving Edmonton\n",
      "Failed requesting Ballad Of Bowser MacRae\n"
     ]
    },
    {
     "name": "stderr",
     "output_type": "stream",
     "text": [
      "Processing David Francey_tracks.parquet:  40%|███▉      | 73/184 [00:02<00:03, 32.72it/s]"
     ]
    },
    {
     "name": "stdout",
     "output_type": "stream",
     "text": [
      "Failed requesting Kansas\n",
      "Failed requesting A Conversation\n",
      "Failed requesting Waves\n",
      "Failed requesting Ferry To Cortez\n",
      "Failed requesting New Jerusalem\n",
      "Failed requesting The Gate\n",
      "Failed requesting Stone Town\n"
     ]
    },
    {
     "name": "stderr",
     "output_type": "stream",
     "text": [
      "Processing David Francey_tracks.parquet:  42%|████▏     | 77/184 [00:02<00:03, 33.27it/s]"
     ]
    },
    {
     "name": "stdout",
     "output_type": "stream",
     "text": [
      "Failed requesting Promised Land\n",
      "Failed requesting Their Wedding Day\n",
      "Failed requesting Under The Portland Weather\n",
      "Failed requesting All Lights Burning Bright\n",
      "Failed requesting Good Christian Men Rejoice\n",
      "Failed requesting O Come All Ye Faithful\n"
     ]
    },
    {
     "name": "stderr",
     "output_type": "stream",
     "text": [
      "Processing David Francey_tracks.parquet:  46%|████▌     | 85/184 [00:02<00:03, 31.92it/s]"
     ]
    },
    {
     "name": "stdout",
     "output_type": "stream",
     "text": [
      "Failed requesting Good King Wenceslas\n",
      "Failed requesting Hark the Herald Angels Sing\n",
      "Failed requesting Silent Night\n",
      "Failed requesting God Rest Ye Merry, Gentlemen\n",
      "Failed requesting Angels We Have Heard on High\n",
      "Failed requesting The First Noel\n",
      "Failed requesting I Saw Three Ships\n",
      "Failed requesting O Little Town of Bethlehem\n"
     ]
    },
    {
     "name": "stderr",
     "output_type": "stream",
     "text": [
      "Processing David Francey_tracks.parquet:  51%|█████     | 93/184 [00:02<00:02, 32.56it/s]"
     ]
    },
    {
     "name": "stdout",
     "output_type": "stream",
     "text": [
      "Failed requesting We Three Kings\n",
      "Failed requesting The Holly and the Ivy\n",
      "Failed requesting Away in a Manger\n",
      "Failed requesting Joy to the World\n",
      "Failed requesting Introduction\n",
      "Failed requesting Paper Boy Introduction\n",
      "Failed requesting Paper Boy\n",
      "Failed requesting The Waking Hour Introduction\n"
     ]
    },
    {
     "name": "stderr",
     "output_type": "stream",
     "text": [
      "Processing David Francey_tracks.parquet:  55%|█████▍    | 101/184 [00:03<00:02, 33.90it/s]"
     ]
    },
    {
     "name": "stdout",
     "output_type": "stream",
     "text": [
      "Failed requesting The Waking Hour\n",
      "Failed requesting Ashtabula Introduction\n",
      "Failed requesting Ashtabula\n",
      "Failed requesting Broken Glass Introduction\n",
      "Failed requesting Broken Glass\n",
      "Failed requesting Tonight In My Dreams Introduction\n",
      "Failed requesting Tonight In My Dreams\n",
      "Failed requesting Fourth OF July Introduction\n"
     ]
    },
    {
     "name": "stderr",
     "output_type": "stream",
     "text": [
      "Processing David Francey_tracks.parquet:  59%|█████▉    | 109/184 [00:03<00:02, 30.91it/s]"
     ]
    },
    {
     "name": "stdout",
     "output_type": "stream",
     "text": [
      "Failed requesting Fourth OF July\n",
      "Failed requesting Torn Screen Door Introduction\n",
      "Failed requesting Torn Screen Door\n",
      "Failed requesting Morning Train Introduction\n",
      "Failed requesting Morning Train\n",
      "Failed requesting Lucky Man Introduction\n"
     ]
    },
    {
     "name": "stderr",
     "output_type": "stream",
     "text": [
      "Processing David Francey_tracks.parquet:  64%|██████▎   | 117/184 [00:03<00:02, 32.72it/s]"
     ]
    },
    {
     "name": "stdout",
     "output_type": "stream",
     "text": [
      "Failed requesting Lucky Man\n",
      "Failed requesting The Waking Hour\n",
      "Failed requesting Highway 95\n",
      "Failed requesting Ankle Tattoo\n",
      "Failed requesting Morning Trian\n",
      "Failed requesting Wishing Well\n",
      "Failed requesting Ashtabula\n"
     ]
    },
    {
     "name": "stderr",
     "output_type": "stream",
     "text": [
      "Processing David Francey_tracks.parquet:  66%|██████▌   | 121/184 [00:03<00:01, 33.60it/s]"
     ]
    },
    {
     "name": "stdout",
     "output_type": "stream",
     "text": [
      "Failed requesting Tonight In My Dreams\n",
      "Failed requesting Over You\n",
      "Failed requesting Fourth of July\n",
      "Failed requesting Wanna Be Loved\n",
      "Failed requesting Badlands\n",
      "Failed requesting Sunday Morning\n",
      "Failed requesting Gone\n",
      "Failed requesting Skating Rink\n"
     ]
    },
    {
     "name": "stderr",
     "output_type": "stream",
     "text": [
      "Processing David Francey_tracks.parquet:  71%|███████   | 131/184 [00:03<00:01, 37.12it/s]"
     ]
    },
    {
     "name": "stdout",
     "output_type": "stream",
     "text": [
      "Failed requesting Broken Glass\n",
      "Failed requesting Exit\n",
      "Failed requesting Come Rain or Come Shine\n",
      "Failed requesting Midway\n",
      "Failed requesting Belgrade Train\n",
      "Failed requesting Streets of Calgary\n",
      "Failed requesting Evening News\n",
      "Failed requesting Grim Cathedral\n",
      "Failed requesting Annie's House\n"
     ]
    },
    {
     "name": "stderr",
     "output_type": "stream",
     "text": [
      "Processing David Francey_tracks.parquet:  76%|███████▌  | 139/184 [00:04<00:01, 32.83it/s]"
     ]
    },
    {
     "name": "stdout",
     "output_type": "stream",
     "text": [
      "Failed requesting Vally's Edge\n",
      "Failed requesting Nearly Midnight\n",
      "Failed requesting A Winter Song\n",
      "Failed requesting Paper Boy\n",
      "Failed requesting Mill Towns\n",
      "Failed requesting Banks of the Seaway\n"
     ]
    },
    {
     "name": "stderr",
     "output_type": "stream",
     "text": [
      "Processing David Francey_tracks.parquet:  80%|███████▉  | 147/184 [00:04<00:01, 35.51it/s]"
     ]
    },
    {
     "name": "stdout",
     "output_type": "stream",
     "text": [
      "Failed requesting Hammers\n",
      "Failed requesting Brakeman's Daughter\n",
      "Failed requesting Flowers of Saskatchewan\n",
      "Failed requesting Saterday Night\n",
      "Failed requesting Highway\n",
      "Failed requesting A Thousand Miles\n",
      "Failed requesting Lucky Man\n",
      "Failed requesting Highwire\n"
     ]
    },
    {
     "name": "stderr",
     "output_type": "stream",
     "text": [
      "Processing David Francey_tracks.parquet:  84%|████████▍ | 155/184 [00:04<00:00, 36.89it/s]"
     ]
    },
    {
     "name": "stdout",
     "output_type": "stream",
     "text": [
      "Failed requesting February Morning Drive\n",
      "Failed requesting Green Fields\n",
      "Failed requesting Things They Do\n",
      "Failed requesting Far End of Summer\n",
      "Failed requesting Border Line\n",
      "Failed requesting Hard Steel Mill\n",
      "Failed requesting Sorrows of the Sailor\n",
      "Failed requesting Blue Water\n"
     ]
    },
    {
     "name": "stderr",
     "output_type": "stream",
     "text": [
      "Processing David Francey_tracks.parquet:  87%|████████▋ | 160/184 [00:04<00:00, 37.94it/s]"
     ]
    },
    {
     "name": "stdout",
     "output_type": "stream",
     "text": [
      "Failed requesting Saints and Sinners\n",
      "Failed requesting Sumach Street\n",
      "Failed requesting Wind in the Wires\n",
      "Failed requesting Gypsy Boys\n",
      "Failed requesting Red-Winged Blackbird\n",
      "Failed requesting Working Poor\n",
      "Failed requesting St. Johns Train\n",
      "Failed requesting Gypsy Boys Reprise\n"
     ]
    },
    {
     "name": "stderr",
     "output_type": "stream",
     "text": [
      "Processing David Francey_tracks.parquet:  91%|█████████▏| 168/184 [00:04<00:00, 36.58it/s]"
     ]
    },
    {
     "name": "stdout",
     "output_type": "stream",
     "text": [
      "Failed requesting Torn Screen Door\n",
      "Failed requesting Long Way Home\n",
      "Failed requesting The Flowers of the Forest, Pt. I\n",
      "Failed requesting The Peacemaker's Chauffeur\n",
      "Failed requesting Your Love Shines a Light for Me\n",
      "Failed requesting Southern Babylon\n",
      "Failed requesting Langford v. Johnson II\n"
     ]
    },
    {
     "name": "stderr",
     "output_type": "stream",
     "text": [
      "Processing David Francey_tracks.parquet:  93%|█████████▎| 172/184 [00:05<00:00, 35.97it/s]"
     ]
    },
    {
     "name": "stdout",
     "output_type": "stream",
     "text": [
      "Failed requesting Warrior\n",
      "Failed requesting Matty Groves\n",
      "Failed requesting If Ye Break Faith\n",
      "Failed requesting The Flowers of the Forest, Pt. II\n",
      "Failed requesting Old Weston Rd.\n"
     ]
    },
    {
     "name": "stderr",
     "output_type": "stream",
     "text": [
      "Processing David Francey_tracks.parquet:  98%|█████████▊| 180/184 [00:05<00:00, 30.18it/s]"
     ]
    },
    {
     "name": "stdout",
     "output_type": "stream",
     "text": [
      "Failed requesting Begin\n",
      "Failed requesting God Bless You Wally Kelly\n",
      "Failed requesting Madman Across the Water\n",
      "Failed requesting Cascapedia\n",
      "Failed requesting The Importance of Being Ernest\n",
      "Failed requesting Accusation (Reggae Noir)\n",
      "Failed requesting Spirit's Prelude\n"
     ]
    },
    {
     "name": "stderr",
     "output_type": "stream",
     "text": [
      "Processing David Francey_tracks.parquet: 100%|██████████| 184/184 [00:05<00:00, 33.21it/s]\n",
      "Processing David Frizzell_tracks.parquet:   1%|▏         | 4/275 [00:00<00:08, 31.40it/s]"
     ]
    },
    {
     "name": "stdout",
     "output_type": "stream",
     "text": [
      "Failed requesting A Game Goin' on (Rmx)\n",
      "Failed requesting Let The Good Times Roll - Live 1982\n",
      "Failed requesting Carry On The Family Name - Live 1982\n",
      "Failed requesting Are You Happy Baby - Live 1982\n",
      "Failed requesting Fool Hearted Man - Live 1982\n",
      "Failed requesting If You've Got The Money - Live 1982\n",
      "Failed requesting Will You Marry Me Again - Live 1982\n"
     ]
    },
    {
     "name": "stderr",
     "output_type": "stream",
     "text": [
      "Processing David Frizzell_tracks.parquet:   4%|▍         | 12/275 [00:00<00:07, 34.18it/s]"
     ]
    },
    {
     "name": "stdout",
     "output_type": "stream",
     "text": [
      "Failed requesting Good Hearted Woman You Can Have Her - Live 1982\n",
      "Failed requesting Texas State Of Mind - Live 1982\n",
      "Failed requesting Beer Joint Fever - Live 1982\n",
      "Failed requesting I'll Go Steppin' Too - Live 1982\n",
      "Failed requesting If Not You - Live 1982\n",
      "Failed requesting Little Lefty Left In Me - Live 1982\n",
      "Failed requesting I'll Fly Away - Live 1982\n",
      "Failed requesting You're The Reason God Made Oklahoma - Live 1982\n"
     ]
    },
    {
     "name": "stderr",
     "output_type": "stream",
     "text": [
      "Processing David Frizzell_tracks.parquet:   7%|▋         | 20/275 [00:00<00:07, 34.30it/s]"
     ]
    },
    {
     "name": "stdout",
     "output_type": "stream",
     "text": [
      "Failed requesting Chapter 1: Mom and Dad's Waltz\n",
      "Failed requesting Chapter 2: I'm Gonna Sing Like Jimmie\n",
      "Failed requesting Chapter 3: Lefty\n",
      "Failed requesting Chapter 4: Please Be Mine, Dear Blue Eyes\n",
      "Failed requesting Chapter 5: Travelin' Blues\n",
      "Failed requesting Chapter 6: I Love You a Thousand Ways\n",
      "Failed requesting Chapter 7: Time Changes Things\n",
      "Failed requesting Chapter 8: If You've Got the Money, I've Got the Time\n"
     ]
    },
    {
     "name": "stderr",
     "output_type": "stream",
     "text": [
      "Processing David Frizzell_tracks.parquet:   9%|▊         | 24/275 [00:00<00:07, 34.35it/s]"
     ]
    },
    {
     "name": "stdout",
     "output_type": "stream",
     "text": [
      "Failed requesting Chapter 9: Hank & Lefty\n",
      "Failed requesting Chapter 10: Always Late\n",
      "Failed requesting Chapter 11: Lefty Meets Merle\n",
      "Failed requesting Chapter 12: California Blues\n",
      "Failed requesting Chapter 13: Long Black Veil\n"
     ]
    },
    {
     "name": "stderr",
     "output_type": "stream",
     "text": [
      "Processing David Frizzell_tracks.parquet:  12%|█▏        | 32/275 [00:01<00:07, 30.41it/s]"
     ]
    },
    {
     "name": "stdout",
     "output_type": "stream",
     "text": [
      "Failed requesting Chapter 13: Long Black Veil, Pt. 2\n",
      "Failed requesting Chapter 14: Saginaw Michigan\n",
      "Failed requesting Chapter 15: That's the Way Love Goes\n",
      "Failed requesting Chapter 16: The Last Session\n",
      "Failed requesting Chapter 17: Forever and Always\n",
      "Failed requesting Epilogue\n",
      "Failed requesting Always Late - Live\n",
      "Failed requesting I'm Gonna Hire a Wino - Live\n"
     ]
    },
    {
     "name": "stderr",
     "output_type": "stream",
     "text": [
      "Processing David Frizzell_tracks.parquet:  15%|█▍        | 40/275 [00:01<00:08, 27.71it/s]"
     ]
    },
    {
     "name": "stdout",
     "output_type": "stream",
     "text": [
      "Failed requesting I Never Go Around Mirrors - Live\n",
      "Failed requesting I Wanna Be With You Always - Live\n",
      "Failed requesting Women Make a Fool Out of Me - Live\n",
      "Failed requesting An Uncloudy Day - Live\n",
      "Failed requesting Somewhere Tonight - Live\n",
      "Failed requesting The Bed You Made for Me - Live\n",
      "Failed requesting Barely Beaten Broken Heart - Live\n",
      "Failed requesting Whiskey if You Were a Woman - Live\n"
     ]
    },
    {
     "name": "stderr",
     "output_type": "stream",
     "text": [
      "Processing David Frizzell_tracks.parquet:  17%|█▋        | 48/275 [00:01<00:07, 31.25it/s]"
     ]
    },
    {
     "name": "stdout",
     "output_type": "stream",
     "text": [
      "Failed requesting Last Thing on My Mind - Live\n",
      "Failed requesting That's the Way Love Goes - Live\n",
      "Failed requesting Momma Tried - Live\n",
      "Failed requesting Wide Eyed and Willing - Live\n",
      "Failed requesting 16th Avenue - Live\n",
      "Failed requesting Crazy Blue Eyes - Live\n",
      "Failed requesting I Wish We Had Heroes Like John Wayne Again - Live\n",
      "Failed requesting Black Coffee - Live\n"
     ]
    },
    {
     "name": "stderr",
     "output_type": "stream",
     "text": [
      "Processing David Frizzell_tracks.parquet:  20%|██        | 56/275 [00:01<00:06, 32.63it/s]"
     ]
    },
    {
     "name": "stdout",
     "output_type": "stream",
     "text": [
      "Failed requesting I Ain't No Angel - Live\n",
      "Failed requesting You're the Reason God Made Oklahoma - Live\n",
      "Failed requesting Be Love By Morning - Live\n",
      "Failed requesting Country Music Affair - Live\n",
      "Failed requesting I Love You A Thousand Ways - Live\n",
      "Failed requesting If You Got The Money Honey - Live\n",
      "Failed requesting Lost By Baby Blues - Live\n",
      "Failed requesting No Way Jose - Live\n"
     ]
    },
    {
     "name": "stderr",
     "output_type": "stream",
     "text": [
      "Processing David Frizzell_tracks.parquet:  23%|██▎       | 64/275 [00:02<00:06, 32.89it/s]"
     ]
    },
    {
     "name": "stdout",
     "output_type": "stream",
     "text": [
      "Failed requesting Ragtime Blues Guitar - Live\n",
      "Failed requesting When We Get Back To The Farm - Live\n",
      "Failed requesting The Journey\n",
      "Failed requesting Lil' Burro\n",
      "Failed requesting Troy the Mule-Headed Mule\n",
      "Failed requesting Peg-Leg Jake\n",
      "Failed requesting Ol' Stray\n"
     ]
    },
    {
     "name": "stderr",
     "output_type": "stream",
     "text": [
      "Processing David Frizzell_tracks.parquet:  26%|██▌       | 72/275 [00:02<00:05, 33.83it/s]"
     ]
    },
    {
     "name": "stdout",
     "output_type": "stream",
     "text": [
      "Failed requesting Bethlehem\n",
      "Failed requesting Justine\n",
      "Failed requesting Pete & Repete\n",
      "Failed requesting Ali Baba\n",
      "Failed requesting We Were There\n",
      "Failed requesting Country Music Affair\n",
      "Failed requesting It Will Be Love By Morning\n",
      "Failed requesting No Way, Jose\n"
     ]
    },
    {
     "name": "stderr",
     "output_type": "stream",
     "text": [
      "Processing David Frizzell_tracks.parquet:  29%|██▉       | 80/275 [00:02<00:05, 34.00it/s]"
     ]
    },
    {
     "name": "stdout",
     "output_type": "stream",
     "text": [
      "Failed requesting When We Get Back To The Farm\n",
      "Failed requesting I Love You A Thousand Ways\n",
      "Failed requesting If You Got The Money Honey\n",
      "Failed requesting Lost By Baby Blues\n",
      "Failed requesting Ragtime Blues Guitar\n",
      "Failed requesting Have I Told You Lately - Live\n",
      "Failed requesting I Wish We Had Heroes Like John Wayne Again - Live\n",
      "Failed requesting Home On The Range - Live\n"
     ]
    },
    {
     "name": "stderr",
     "output_type": "stream",
     "text": [
      "Processing David Frizzell_tracks.parquet:  32%|███▏      | 88/275 [00:02<00:05, 34.86it/s]"
     ]
    },
    {
     "name": "stdout",
     "output_type": "stream",
     "text": [
      "Failed requesting Don’t Fence Me In - Live\n",
      "Failed requesting Jingle Jangle Jingle (I've Got Spurs) - Live\n",
      "Failed requesting Ride Cowboy Ride - Live\n",
      "Failed requesting Along The Navajo Trail - Live\n",
      "Failed requesting The Nester - Live\n",
      "Failed requesting Back In The Saddle Again - Live\n"
     ]
    },
    {
     "name": "stderr",
     "output_type": "stream",
     "text": [
      "Processing David Frizzell_tracks.parquet:  33%|███▎      | 92/275 [00:02<00:06, 27.19it/s]"
     ]
    },
    {
     "name": "stdout",
     "output_type": "stream",
     "text": [
      "Failed requesting What Would Gene Autry Do - Live\n",
      "Failed requesting Red River Valley - Live\n",
      "Failed requesting The Wayward Wind - Live\n",
      "Failed requesting Waiting for a Train - Live\n",
      "Failed requesting Happy Trails - Live\n",
      "Failed requesting Roundup\n",
      "Failed requesting I’m Gonna Hire A Wino - Live\n"
     ]
    },
    {
     "name": "stderr",
     "output_type": "stream",
     "text": [
      "Processing David Frizzell_tracks.parquet:  36%|███▋      | 100/275 [00:03<00:05, 29.95it/s]"
     ]
    },
    {
     "name": "stdout",
     "output_type": "stream",
     "text": [
      "Failed requesting California Blues - Live\n",
      "Failed requesting I Never Go Around Mirrors / That’s The Way Love Goes - Live\n",
      "Failed requesting If You Got The Money - Live\n",
      "Failed requesting Between Love and Goodbye - Live\n",
      "Failed requesting Two Of A Kind - Live\n"
     ]
    },
    {
     "name": "stderr",
     "output_type": "stream",
     "text": [
      "Processing David Frizzell_tracks.parquet:  38%|███▊      | 104/275 [00:03<00:06, 26.40it/s]"
     ]
    },
    {
     "name": "stdout",
     "output_type": "stream",
     "text": [
      "Failed requesting That’ll be The Day - Live\n",
      "Failed requesting Johnny Cash Impersonation - Live\n",
      "Failed requesting 16th. Avenue - Live\n",
      "Failed requesting Crazy Blue Eyes - Live\n",
      "Failed requesting Way Back - Live\n",
      "Failed requesting You’re The Reason God Made Oklahoma - Live\n",
      "Failed requesting I'm Getting Good At Missing You - Live\n"
     ]
    },
    {
     "name": "stderr",
     "output_type": "stream",
     "text": [
      "Processing David Frizzell_tracks.parquet:  41%|████      | 112/275 [00:03<00:05, 30.17it/s]"
     ]
    },
    {
     "name": "stdout",
     "output_type": "stream",
     "text": [
      "Failed requesting Lonely Street - Live\n",
      "Failed requesting Happy Trails - Live\n",
      "Failed requesting Remember Me\n",
      "Failed requesting Rock Around With Ollie Vee\n",
      "Failed requesting Brown-eyed Handsome Man\n",
      "Failed requesting Peggy Sue\n",
      "Failed requesting Oh Boy\n",
      "Failed requesting That’ll Be The Day\n"
     ]
    },
    {
     "name": "stderr",
     "output_type": "stream",
     "text": [
      "Processing David Frizzell_tracks.parquet:  44%|████▎     | 120/275 [00:03<00:04, 32.09it/s]"
     ]
    },
    {
     "name": "stdout",
     "output_type": "stream",
     "text": [
      "Failed requesting Everyday\n",
      "Failed requesting Mailman Bring Me No More Blues\n",
      "Failed requesting Maybe Baby\n",
      "Failed requesting Rave On\n",
      "Failed requesting Think It Over\n",
      "Failed requesting Early In The Morning\n",
      "Failed requesting It’s So Easy\n",
      "Failed requesting Wishing\n"
     ]
    },
    {
     "name": "stderr",
     "output_type": "stream",
     "text": [
      "Processing David Frizzell_tracks.parquet:  47%|████▋     | 128/275 [00:04<00:04, 33.10it/s]"
     ]
    },
    {
     "name": "stdout",
     "output_type": "stream",
     "text": [
      "Failed requesting Learning The Game\n",
      "Failed requesting Drown in My Own Tears\n",
      "Failed requesting It Doesn’t Matter Anymore\n",
      "Failed requesting True Love Ways\n",
      "Failed requesting Maria Elena\n",
      "Failed requesting Walk Right Back\n",
      "Failed requesting Stay All Night\n"
     ]
    },
    {
     "name": "stderr",
     "output_type": "stream",
     "text": [
      "Processing David Frizzell_tracks.parquet:  49%|████▉     | 136/275 [00:04<00:04, 32.04it/s]"
     ]
    },
    {
     "name": "stdout",
     "output_type": "stream",
     "text": [
      "Failed requesting Cheatin Line\n",
      "Failed requesting Angel\n",
      "Failed requesting Warm Spanish Wine\n",
      "Failed requesting Lover's Don't Lie\n",
      "Failed requesting Momma's Arms\n",
      "Failed requesting The Good Book\n",
      "Failed requesting Before God Before You\n",
      "Failed requesting Me and You\n"
     ]
    },
    {
     "name": "stderr",
     "output_type": "stream",
     "text": [
      "Processing David Frizzell_tracks.parquet:  52%|█████▏    | 144/275 [00:04<00:03, 33.78it/s]"
     ]
    },
    {
     "name": "stdout",
     "output_type": "stream",
     "text": [
      "Failed requesting You’ve Just Been Robbed by Jesse James\n",
      "Failed requesting Where Her Heart Lies\n",
      "Failed requesting She Doesn’t Love Me Anymore\n",
      "Failed requesting In the Pine\n",
      "Failed requesting Lefty's Star Will Always Shine\n",
      "Failed requesting I Love You A Thousand Ways\n",
      "Failed requesting Always Late (With Your Kisses)\n",
      "Failed requesting I Want To Be With You Always\n"
     ]
    },
    {
     "name": "stderr",
     "output_type": "stream",
     "text": [
      "Processing David Frizzell_tracks.parquet:  55%|█████▌    | 152/275 [00:04<00:03, 33.83it/s]"
     ]
    },
    {
     "name": "stdout",
     "output_type": "stream",
     "text": [
      "Failed requesting Mom And Dad's Waltz\n",
      "Failed requesting The Long Black Veil\n",
      "Failed requesting Saginaw, Michigan\n",
      "Failed requesting She's Gone, Gone, Gone\n",
      "Failed requesting Watermelon Time In Georgia\n",
      "Failed requesting I Can't Get Over You To Save My Life\n",
      "Failed requesting I Never Go Around Mirrors\n",
      "Failed requesting That's The Way Love Goes\n"
     ]
    },
    {
     "name": "stderr",
     "output_type": "stream",
     "text": [
      "Processing David Frizzell_tracks.parquet:  57%|█████▋    | 156/275 [00:04<00:03, 34.66it/s]"
     ]
    },
    {
     "name": "stdout",
     "output_type": "stream",
     "text": [
      "Failed requesting Yesterday Just Passed My Way Again\n",
      "Failed requesting My Wishing Room\n",
      "Failed requesting Hello To Him (Goodbye To Me)\n",
      "Failed requesting If You've Got The Money, I've Got The Time\n"
     ]
    },
    {
     "name": "stderr",
     "output_type": "stream",
     "text": [
      "Processing David Frizzell_tracks.parquet:  58%|█████▊    | 160/275 [00:06<00:11,  9.59it/s]"
     ]
    },
    {
     "name": "stdout",
     "output_type": "stream",
     "text": [
      "Failed requesting Wedding Dress For Sale\n",
      "Failed requesting Warm Spanish Wine\n",
      "Failed requesting If You Got The Money, I’ve Got The Time\n",
      "Failed requesting Long Black Veil\n"
     ]
    },
    {
     "name": "stderr",
     "output_type": "stream",
     "text": [
      "Processing David Frizzell_tracks.parquet:  60%|█████▉    | 164/275 [00:07<00:17,  6.43it/s]"
     ]
    },
    {
     "name": "stdout",
     "output_type": "stream",
     "text": [
      "Failed requesting Music (Where did it come from?)\n"
     ]
    },
    {
     "name": "stderr",
     "output_type": "stream",
     "text": [
      "Processing David Frizzell_tracks.parquet:  63%|██████▎   | 172/275 [00:09<00:19,  5.26it/s]"
     ]
    },
    {
     "name": "stdout",
     "output_type": "stream",
     "text": [
      "Failed requesting Got To Get To Louisiana\n",
      "Failed requesting Someday\n",
      "Failed requesting Something ‘Bout You\n",
      "Failed requesting Lefty, Merle & Me\n",
      "Failed requesting Could It Be We Fell In Love Tonight\n",
      "Failed requesting No Regrets\n",
      "Failed requesting You Can’t Love Her\n",
      "Failed requesting Three Minutes (feat. Tess Frizzell)\n"
     ]
    },
    {
     "name": "stderr",
     "output_type": "stream",
     "text": [
      "Processing David Frizzell_tracks.parquet:  65%|██████▍   | 178/275 [00:11<00:27,  3.48it/s]"
     ]
    },
    {
     "name": "stdout",
     "output_type": "stream",
     "text": [
      "Failed requesting Reckless Wind\n"
     ]
    },
    {
     "name": "stderr",
     "output_type": "stream",
     "text": [
      "Processing David Frizzell_tracks.parquet:  65%|██████▌   | 180/275 [00:12<00:32,  2.93it/s]"
     ]
    },
    {
     "name": "stdout",
     "output_type": "stream",
     "text": [
      "Failed requesting Always Late - Live\n"
     ]
    },
    {
     "name": "stderr",
     "output_type": "stream",
     "text": [
      "Processing David Frizzell_tracks.parquet:  66%|██████▌   | 181/275 [00:13<00:40,  2.29it/s]"
     ]
    },
    {
     "name": "stdout",
     "output_type": "stream",
     "text": [
      "Failed requesting SaginawMichigan - Live\n"
     ]
    },
    {
     "name": "stderr",
     "output_type": "stream",
     "text": [
      "Processing David Frizzell_tracks.parquet:  68%|██████▊   | 187/275 [00:14<00:23,  3.70it/s]"
     ]
    },
    {
     "name": "stdout",
     "output_type": "stream",
     "text": [
      "Failed requesting If You Got the Money - Live\n",
      "Failed requesting Hey Good Lookin' - Live\n",
      "Failed requesting Jambalaya - Live\n",
      "Failed requesting I'm So Lonesome I Could Cry - Live\n",
      "Failed requesting Fly Trouble - Live\n",
      "Failed requesting I Can't Help It if I'm Still in Love With You - Live\n",
      "Failed requesting Your Cheatin' Heart - Live\n"
     ]
    },
    {
     "name": "stderr",
     "output_type": "stream",
     "text": [
      "Processing David Frizzell_tracks.parquet:  69%|██████▉   | 191/275 [00:15<00:14,  5.63it/s]"
     ]
    },
    {
     "name": "stdout",
     "output_type": "stream",
     "text": [
      "Failed requesting Always Late (With Your Kisses)\n"
     ]
    },
    {
     "name": "stderr",
     "output_type": "stream",
     "text": [
      "Processing David Frizzell_tracks.parquet:  70%|███████   | 193/275 [00:16<00:20,  3.93it/s]"
     ]
    },
    {
     "name": "stdout",
     "output_type": "stream",
     "text": [
      "Failed requesting Hello To Him (Goodbye To Me)\n",
      "Failed requesting I Can't Get Over You To Save My Life\n",
      "Failed requesting I Love You A Thousand Ways\n",
      "Failed requesting I Never Go Around Mirrors\n"
     ]
    },
    {
     "name": "stderr",
     "output_type": "stream",
     "text": [
      "Processing David Frizzell_tracks.parquet:  72%|███████▏  | 197/275 [00:17<00:20,  3.77it/s]"
     ]
    },
    {
     "name": "stdout",
     "output_type": "stream",
     "text": [
      "Failed requesting If You've Got The Money, I've Got The Time\n"
     ]
    },
    {
     "name": "stderr",
     "output_type": "stream",
     "text": [
      "Processing David Frizzell_tracks.parquet:  73%|███████▎  | 201/275 [00:18<00:19,  3.79it/s]"
     ]
    },
    {
     "name": "stdout",
     "output_type": "stream",
     "text": [
      "Failed requesting Mom And Dad's Waltz\n",
      "Failed requesting My Wishing Room\n",
      "Failed requesting Saginaw, Michigan\n"
     ]
    },
    {
     "name": "stderr",
     "output_type": "stream",
     "text": [
      "Processing David Frizzell_tracks.parquet:  74%|███████▍  | 203/275 [00:19<00:23,  3.01it/s]"
     ]
    },
    {
     "name": "stdout",
     "output_type": "stream",
     "text": [
      "Failed requesting That's The Way Love Goes\n"
     ]
    },
    {
     "name": "stderr",
     "output_type": "stream",
     "text": [
      "Processing David Frizzell_tracks.parquet:  75%|███████▍  | 205/275 [00:20<00:26,  2.59it/s]"
     ]
    },
    {
     "name": "stdout",
     "output_type": "stream",
     "text": [
      "Failed requesting Watermelon Time In Georgia\n"
     ]
    },
    {
     "name": "stderr",
     "output_type": "stream",
     "text": [
      "Processing David Frizzell_tracks.parquet:  77%|███████▋  | 211/275 [00:21<00:16,  3.98it/s]"
     ]
    },
    {
     "name": "stdout",
     "output_type": "stream",
     "text": [
      "Failed requesting I'm Gonna Hire A Wino To Decorate Our Home\n",
      "Failed requesting You're The Reason God Made Oklahoma\n",
      "Failed requesting 18 Wheels Hummin' Home Sweet Home\n",
      "Failed requesting I'm Thinking Tonight Of My Blue Eyes\n",
      "Failed requesting Lovesick Blues\n"
     ]
    },
    {
     "name": "stderr",
     "output_type": "stream",
     "text": [
      "Processing David Frizzell_tracks.parquet:  79%|███████▉  | 218/275 [00:28<00:42,  1.33it/s]"
     ]
    },
    {
     "name": "stdout",
     "output_type": "stream",
     "text": [
      "Failed requesting California Turnarounds\n"
     ]
    },
    {
     "name": "stderr",
     "output_type": "stream",
     "text": [
      "Processing David Frizzell_tracks.parquet:  81%|████████▏ | 224/275 [00:33<00:46,  1.09it/s]"
     ]
    },
    {
     "name": "stdout",
     "output_type": "stream",
     "text": [
      "Failed requesting Murder On Music Row\n"
     ]
    },
    {
     "name": "stderr",
     "output_type": "stream",
     "text": [
      "Processing David Frizzell_tracks.parquet:  84%|████████▍ | 231/275 [00:39<00:42,  1.03it/s]"
     ]
    },
    {
     "name": "stdout",
     "output_type": "stream",
     "text": [
      "Failed requesting Apartment No. 9\n"
     ]
    },
    {
     "name": "stderr",
     "output_type": "stream",
     "text": [
      "Processing David Frizzell_tracks.parquet:  85%|████████▌ | 234/275 [00:41<00:34,  1.19it/s]"
     ]
    },
    {
     "name": "stdout",
     "output_type": "stream",
     "text": [
      "Failed requesting It Takes Me All Night Long\n"
     ]
    },
    {
     "name": "stderr",
     "output_type": "stream",
     "text": [
      "Processing David Frizzell_tracks.parquet:  87%|████████▋ | 239/275 [00:42<00:14,  2.51it/s]"
     ]
    },
    {
     "name": "stdout",
     "output_type": "stream",
     "text": [
      "Failed requesting Run Like the Wind\n",
      "Failed requesting Confidentially\n",
      "Failed requesting Boogyin’ & Woogyin’\n"
     ]
    },
    {
     "name": "stderr",
     "output_type": "stream",
     "text": [
      "Processing David Frizzell_tracks.parquet:  89%|████████▉ | 245/275 [00:45<00:09,  3.31it/s]"
     ]
    },
    {
     "name": "stdout",
     "output_type": "stream",
     "text": [
      "Failed requesting One Memory at a Time\n",
      "Failed requesting American Nights\n",
      "Failed requesting I Ain’t Going If There Ain’t No Hank\n",
      "Failed requesting Distance and Time\n",
      "Failed requesting Let the Good Times Roll\n"
     ]
    },
    {
     "name": "stderr",
     "output_type": "stream",
     "text": [
      "Processing David Frizzell_tracks.parquet:  91%|█████████ | 249/275 [00:47<00:10,  2.39it/s]"
     ]
    },
    {
     "name": "stdout",
     "output_type": "stream",
     "text": [
      "Failed requesting If You Got The Money Honey - Live\n"
     ]
    },
    {
     "name": "stderr",
     "output_type": "stream",
     "text": [
      "Processing David Frizzell_tracks.parquet:  91%|█████████▏| 251/275 [00:49<00:14,  1.61it/s]"
     ]
    },
    {
     "name": "stdout",
     "output_type": "stream",
     "text": [
      "Failed requesting Ragtime Blues Guitar - Live\n",
      "Failed requesting I Love You A Thousand Ways - Live\n"
     ]
    },
    {
     "name": "stderr",
     "output_type": "stream",
     "text": [
      "Processing David Frizzell_tracks.parquet:  92%|█████████▏| 254/275 [00:50<00:10,  1.97it/s]"
     ]
    },
    {
     "name": "stdout",
     "output_type": "stream",
     "text": [
      "Failed requesting Be Love By Morning - Live\n"
     ]
    },
    {
     "name": "stderr",
     "output_type": "stream",
     "text": [
      "Processing David Frizzell_tracks.parquet:  93%|█████████▎| 256/275 [00:51<00:09,  1.94it/s]"
     ]
    },
    {
     "name": "stdout",
     "output_type": "stream",
     "text": [
      "Failed requesting Where Are You Spending Your Nights These Days\n"
     ]
    },
    {
     "name": "stderr",
     "output_type": "stream",
     "text": [
      "Processing David Frizzell_tracks.parquet:  96%|█████████▌| 263/275 [00:57<00:10,  1.12it/s]"
     ]
    },
    {
     "name": "stdout",
     "output_type": "stream",
     "text": [
      "Failed requesting She Wants You To Love Her\n",
      "Failed requesting We Won't Be Hearing \"Always Late\" Anymore\n"
     ]
    },
    {
     "name": "stderr",
     "output_type": "stream",
     "text": [
      "Processing David Frizzell_tracks.parquet:  97%|█████████▋| 266/275 [00:58<00:05,  1.63it/s]"
     ]
    },
    {
     "name": "stdout",
     "output_type": "stream",
     "text": [
      "Failed requesting As Soon As A Waltz Ain't 3/4 Time\n"
     ]
    },
    {
     "name": "stderr",
     "output_type": "stream",
     "text": [
      "Processing David Frizzell_tracks.parquet:  97%|█████████▋| 268/275 [00:59<00:04,  1.70it/s]"
     ]
    },
    {
     "name": "stdout",
     "output_type": "stream",
     "text": [
      "Failed requesting Maybe There's Love After You, After All\n"
     ]
    },
    {
     "name": "stderr",
     "output_type": "stream",
     "text": [
      "Processing David Frizzell_tracks.parquet:  99%|█████████▊| 271/275 [01:01<00:02,  1.52it/s]"
     ]
    },
    {
     "name": "stdout",
     "output_type": "stream",
     "text": [
      "Failed requesting She's Up To Her Old Tricks Again\n"
     ]
    },
    {
     "name": "stderr",
     "output_type": "stream",
     "text": [
      "Processing David Frizzell_tracks.parquet:  99%|█████████▉| 273/275 [01:03<00:01,  1.63it/s]"
     ]
    },
    {
     "name": "stdout",
     "output_type": "stream",
     "text": [
      "Failed requesting Single and Alone\n"
     ]
    },
    {
     "name": "stderr",
     "output_type": "stream",
     "text": [
      "Processing David Frizzell_tracks.parquet: 100%|██████████| 275/275 [01:04<00:00,  4.29it/s]\n",
      "Processing David Gilmour_tracks.parquet:   0%|          | 0/194 [00:00<?, ?it/s]"
     ]
    },
    {
     "name": "stdout",
     "output_type": "stream",
     "text": [
      "Failed requesting 5 A.M. - Live At Pompeii 2016\n"
     ]
    },
    {
     "name": "stderr",
     "output_type": "stream",
     "text": [
      "Processing David Gilmour_tracks.parquet:   6%|▌         | 11/194 [00:10<03:07,  1.02s/it]"
     ]
    },
    {
     "name": "stdout",
     "output_type": "stream",
     "text": [
      "Failed requesting One of These Days - Live At Pompeii 2016\n"
     ]
    },
    {
     "name": "stderr",
     "output_type": "stream",
     "text": [
      "Processing David Gilmour_tracks.parquet:  10%|█         | 20/194 [00:18<02:55,  1.01s/it]"
     ]
    },
    {
     "name": "stdout",
     "output_type": "stream",
     "text": [
      "Failed requesting 5 A.M.\n",
      "Failed requesting Rattle That Lock\n",
      "Failed requesting Faces of Stone\n"
     ]
    },
    {
     "name": "stderr",
     "output_type": "stream",
     "text": [
      "Processing David Gilmour_tracks.parquet:  13%|█▎        | 26/194 [00:21<02:01,  1.38it/s]"
     ]
    },
    {
     "name": "stdout",
     "output_type": "stream",
     "text": [
      "Failed requesting Beauty\n"
     ]
    },
    {
     "name": "stderr",
     "output_type": "stream",
     "text": [
      "Processing David Gilmour_tracks.parquet:  15%|█▍        | 29/194 [00:24<02:00,  1.37it/s]"
     ]
    },
    {
     "name": "stdout",
     "output_type": "stream",
     "text": [
      "Failed requesting And Then...\n"
     ]
    },
    {
     "name": "stderr",
     "output_type": "stream",
     "text": [
      "Processing David Gilmour_tracks.parquet:  18%|█▊        | 35/194 [00:29<02:25,  1.09it/s]"
     ]
    },
    {
     "name": "stdout",
     "output_type": "stream",
     "text": [
      "Failed requesting Speak to Me - Live In Gdansk\n"
     ]
    },
    {
     "name": "stderr",
     "output_type": "stream",
     "text": [
      "Processing David Gilmour_tracks.parquet:  22%|██▏       | 42/194 [00:30<00:47,  3.20it/s]"
     ]
    },
    {
     "name": "stdout",
     "output_type": "stream",
     "text": [
      "Failed requesting Breathe (In the Air) - Live In Gdansk\n",
      "Failed requesting Time - Live In Gdansk\n",
      "Failed requesting Time - Live In Gdansk\n",
      "Failed requesting Breathe (In the Air) [Reprise] - Live In Gdansk\n",
      "Failed requesting Breathe (In the Air) [Reprise] - Live In Gdansk\n",
      "Failed requesting Castellorizon - Live In Gdansk\n",
      "Failed requesting On an Island - Live In Gdansk\n",
      "Failed requesting On an Island - Live In Gdansk\n",
      "Failed requesting The Blue - Live In Gdansk\n"
     ]
    },
    {
     "name": "stderr",
     "output_type": "stream",
     "text": [
      "Processing David Gilmour_tracks.parquet:  27%|██▋       | 52/194 [00:30<00:16,  8.55it/s]"
     ]
    },
    {
     "name": "stdout",
     "output_type": "stream",
     "text": [
      "Failed requesting The Blue - Live In Gdansk\n",
      "Failed requesting Red Sky at Night - Live In Gdansk\n",
      "Failed requesting Red Sky at Night - Live In Gdansk\n",
      "Failed requesting This Heaven - Live In Gdansk\n",
      "Failed requesting This Heaven - Live In Gdansk\n",
      "Failed requesting Then I Close My Eyes - Live In Gdansk\n",
      "Failed requesting Then I Close My Eyes - Live In Gdansk\n",
      "Failed requesting Smile - Live In Gdansk\n",
      "Failed requesting Smile - Live In Gdansk\n"
     ]
    },
    {
     "name": "stderr",
     "output_type": "stream",
     "text": [
      "Processing David Gilmour_tracks.parquet:  31%|███       | 60/194 [00:30<00:09, 14.49it/s]"
     ]
    },
    {
     "name": "stdout",
     "output_type": "stream",
     "text": [
      "Failed requesting Take a Breath - Live In Gdansk\n",
      "Failed requesting Take a Breath - Live In Gdansk\n",
      "Failed requesting A Pocketful of Stones - Live In Gdansk\n",
      "Failed requesting A Pocketful of Stones - Live In Gdansk\n",
      "Failed requesting Where We Start - Live In Gdansk\n",
      "Failed requesting Where We Start - Live In Gdansk\n",
      "Failed requesting Shine On You Crazy Diamond - Live In Gdansk\n",
      "Failed requesting Shine On You Crazy Diamond - Live In Gdansk\n"
     ]
    },
    {
     "name": "stderr",
     "output_type": "stream",
     "text": [
      "Processing David Gilmour_tracks.parquet:  35%|███▌      | 68/194 [00:31<00:06, 20.34it/s]"
     ]
    },
    {
     "name": "stdout",
     "output_type": "stream",
     "text": [
      "Failed requesting Astronomy Domine - Live In Gdansk\n",
      "Failed requesting Astronomy Domine - Live In Gdansk\n",
      "Failed requesting Fat Old Sun - Live In Gdansk\n",
      "Failed requesting Fat Old Sun - Live In Gdansk\n",
      "Failed requesting High Hopes - Live In Gdansk\n",
      "Failed requesting High Hopes - Live In Gdansk\n",
      "Failed requesting Echoes - Live In Gdansk\n"
     ]
    },
    {
     "name": "stderr",
     "output_type": "stream",
     "text": [
      "Processing David Gilmour_tracks.parquet:  40%|███▉      | 77/194 [00:31<00:04, 28.21it/s]"
     ]
    },
    {
     "name": "stdout",
     "output_type": "stream",
     "text": [
      "Failed requesting Echoes - Live In Gdansk\n",
      "Failed requesting Wish You Were Here - Live In Gdansk\n",
      "Failed requesting Wish You Were Here - Live In Gdansk\n",
      "Failed requesting Speak to Me - Live In Gdansk\n",
      "Failed requesting Speak to Me - Live In Gdansk\n",
      "Failed requesting Breathe (In the Air) - Live In Gdansk\n",
      "Failed requesting Breathe (In the Air) - Live In Gdansk\n",
      "Failed requesting Time - Live In Gdansk\n",
      "Failed requesting Time - Live In Gdansk\n",
      "Failed requesting Breathe (In the Air) [Reprise] - Live In Gdansk\n"
     ]
    },
    {
     "name": "stderr",
     "output_type": "stream",
     "text": [
      "Processing David Gilmour_tracks.parquet:  45%|████▍     | 87/194 [00:31<00:03, 34.10it/s]"
     ]
    },
    {
     "name": "stdout",
     "output_type": "stream",
     "text": [
      "Failed requesting Breathe (In the Air) [Reprise] - Live In Gdansk\n",
      "Failed requesting On an Island - Live In Gdansk\n",
      "Failed requesting On an Island - Live In Gdansk\n",
      "Failed requesting The Blue - Live In Gdansk\n",
      "Failed requesting The Blue - Live In Gdansk\n",
      "Failed requesting Red Sky at Night - Live In Gdansk\n",
      "Failed requesting Red Sky at Night - Live In Gdansk\n",
      "Failed requesting This Heaven - Live In Gdansk\n",
      "Failed requesting This Heaven - Live In Gdansk\n",
      "Failed requesting Then I Close My Eyes - Live In Gdansk\n",
      "Failed requesting Then I Close My Eyes - Live In Gdansk\n"
     ]
    },
    {
     "name": "stderr",
     "output_type": "stream",
     "text": [
      "Processing David Gilmour_tracks.parquet:  59%|█████▉    | 115/194 [00:51<00:27,  2.85it/s]"
     ]
    },
    {
     "name": "stdout",
     "output_type": "stream",
     "text": [
      "Failed requesting Wish You Were Here - Live In Gdansk\n",
      "Failed requesting Castellorizon (with The Baltic Philharmonic Symphony Orchestra) - Live in Gdańsk\n",
      "Failed requesting Castellorizon\n",
      "Failed requesting Castellorizon\n",
      "Failed requesting On an Island\n"
     ]
    },
    {
     "name": "stderr",
     "output_type": "stream",
     "text": [
      "Processing David Gilmour_tracks.parquet:  61%|██████    | 118/194 [00:54<00:47,  1.61it/s]"
     ]
    },
    {
     "name": "stdout",
     "output_type": "stream",
     "text": [
      "Failed requesting Take a Breath\n"
     ]
    },
    {
     "name": "stderr",
     "output_type": "stream",
     "text": [
      "Processing David Gilmour_tracks.parquet:  63%|██████▎   | 122/194 [00:55<00:30,  2.35it/s]"
     ]
    },
    {
     "name": "stdout",
     "output_type": "stream",
     "text": [
      "Failed requesting Red Sky at Night\n",
      "Failed requesting Red Sky at Night\n",
      "Failed requesting This Heaven\n",
      "Failed requesting This Heaven\n",
      "Failed requesting Then I Close My Eyes\n"
     ]
    },
    {
     "name": "stderr",
     "output_type": "stream",
     "text": [
      "Processing David Gilmour_tracks.parquet:  65%|██████▍   | 126/194 [00:55<00:16,  4.22it/s]"
     ]
    },
    {
     "name": "stdout",
     "output_type": "stream",
     "text": [
      "Failed requesting Then I Close My Eyes\n"
     ]
    },
    {
     "name": "stderr",
     "output_type": "stream",
     "text": [
      "Processing David Gilmour_tracks.parquet:  67%|██████▋   | 130/194 [00:59<00:29,  2.16it/s]"
     ]
    },
    {
     "name": "stdout",
     "output_type": "stream",
     "text": [
      "Failed requesting A Pocketful of Stones\n"
     ]
    },
    {
     "name": "stderr",
     "output_type": "stream",
     "text": [
      "Processing David Gilmour_tracks.parquet:  68%|██████▊   | 132/194 [01:01<00:40,  1.55it/s]"
     ]
    },
    {
     "name": "stdout",
     "output_type": "stream",
     "text": [
      "Failed requesting Castellorizon\n",
      "Failed requesting Castellorizon\n"
     ]
    },
    {
     "name": "stderr",
     "output_type": "stream",
     "text": [
      "Processing David Gilmour_tracks.parquet:  70%|██████▉   | 135/194 [01:02<00:30,  1.92it/s]"
     ]
    },
    {
     "name": "stdout",
     "output_type": "stream",
     "text": [
      "Failed requesting On an Island\n"
     ]
    },
    {
     "name": "stderr",
     "output_type": "stream",
     "text": [
      "Processing David Gilmour_tracks.parquet:  73%|███████▎  | 141/194 [01:03<00:15,  3.36it/s]"
     ]
    },
    {
     "name": "stdout",
     "output_type": "stream",
     "text": [
      "Failed requesting The Blue\n",
      "Failed requesting Take a Breath\n",
      "Failed requesting Take a Breath\n",
      "Failed requesting Red Sky at Night\n",
      "Failed requesting Red Sky at Night\n",
      "Failed requesting This Heaven\n",
      "Failed requesting This Heaven\n",
      "Failed requesting Then I Close My Eyes\n"
     ]
    },
    {
     "name": "stderr",
     "output_type": "stream",
     "text": [
      "Processing David Gilmour_tracks.parquet:  78%|███████▊  | 151/194 [01:03<00:04,  8.68it/s]"
     ]
    },
    {
     "name": "stdout",
     "output_type": "stream",
     "text": [
      "Failed requesting Then I Close My Eyes\n",
      "Failed requesting Smile\n",
      "Failed requesting Smile\n",
      "Failed requesting A Pocketful of Stones\n",
      "Failed requesting A Pocketful of Stones\n",
      "Failed requesting Where We Start\n",
      "Failed requesting Where We Start\n",
      "Failed requesting Until We Sleep\n",
      "Failed requesting Murder\n"
     ]
    },
    {
     "name": "stderr",
     "output_type": "stream",
     "text": [
      "Processing David Gilmour_tracks.parquet:  82%|████████▏ | 160/194 [01:03<00:02, 15.13it/s]"
     ]
    },
    {
     "name": "stdout",
     "output_type": "stream",
     "text": [
      "Failed requesting Love On the Air\n",
      "Failed requesting Blue Light\n",
      "Failed requesting Out of the Blue\n",
      "Failed requesting All Lovers Are Deranged\n",
      "Failed requesting You Know I'm Right\n",
      "Failed requesting Cruise\n",
      "Failed requesting Let's Get Metaphysical\n",
      "Failed requesting Near The End\n",
      "Failed requesting Mihalis\n"
     ]
    },
    {
     "name": "stderr",
     "output_type": "stream",
     "text": [
      "Processing David Gilmour_tracks.parquet:  88%|████████▊ | 170/194 [01:04<00:01, 23.22it/s]"
     ]
    },
    {
     "name": "stdout",
     "output_type": "stream",
     "text": [
      "Failed requesting There's No Way Out of Here\n",
      "Failed requesting Cry From The Street\n",
      "Failed requesting So Far Away\n",
      "Failed requesting Short And Sweet\n",
      "Failed requesting Raise My Rent\n",
      "Failed requesting No Way\n",
      "Failed requesting Deafinitely\n",
      "Failed requesting I Can't Breathe Anymore\n",
      "Failed requesting Yes, I Have Ghosts\n"
     ]
    },
    {
     "name": "stderr",
     "output_type": "stream",
     "text": [
      "Processing David Gilmour_tracks.parquet:  90%|████████▉ | 174/194 [01:04<00:00, 25.94it/s]"
     ]
    },
    {
     "name": "stdout",
     "output_type": "stream",
     "text": [
      "Failed requesting One of These Days - Live At Pompeii 2016\n",
      "Failed requesting Rattle That Lock - Live At Pompeii 2016\n",
      "Failed requesting Today\n",
      "Failed requesting Rattle That Lock\n",
      "Failed requesting Shine On You Crazy Diamond (Parts 1-5) (feat. David Crosby & Graham Nash) - Live At The Royal Albert Hall\n"
     ]
    },
    {
     "name": "stderr",
     "output_type": "stream",
     "text": [
      "Processing David Gilmour_tracks.parquet:  94%|█████████▍| 182/194 [01:04<00:00, 28.21it/s]"
     ]
    },
    {
     "name": "stdout",
     "output_type": "stream",
     "text": [
      "Failed requesting Arnold Layne (feat. David Bowie) - Live From The Royal Albert Hall, May 2006\n",
      "Failed requesting Arnold Layne (feat. Richard Wright) - Live From The Royal Albert Hall, May 2006\n",
      "Failed requesting Dark Globe - Live From Clam Castle, Austria, July 2006\n",
      "Failed requesting Moon over Clare\n",
      "Failed requesting Watching the Sun Go Down\n",
      "Failed requesting Glasgow Town\n",
      "Failed requesting The Ferryman's Daughter\n",
      "Failed requesting The Ghost of Pagan Song\n",
      "Failed requesting Where Are You Now?\n"
     ]
    },
    {
     "name": "stderr",
     "output_type": "stream",
     "text": [
      "Processing David Gilmour_tracks.parquet: 100%|██████████| 194/194 [01:04<00:00, 33.99it/s]"
     ]
    },
    {
     "name": "stdout",
     "output_type": "stream",
     "text": [
      "Failed requesting Living on Love\n",
      "Failed requesting The Lake Isle of Innisfree\n",
      "Failed requesting Madrigalinda\n",
      "Failed requesting Down by the Harbour\n",
      "Failed requesting Rock Me\n",
      "Failed requesting Lover O' Lover\n",
      "Failed requesting Awaking Year\n",
      "Failed requesting Rock Me\n"
     ]
    },
    {
     "name": "stderr",
     "output_type": "stream",
     "text": [
      "Processing David Gilmour_tracks.parquet: 100%|██████████| 194/194 [01:04<00:00,  2.99it/s]\n",
      "Processing David Gray_tracks.parquet:   1%|▏         | 4/304 [00:00<00:07, 38.64it/s]"
     ]
    },
    {
     "name": "stdout",
     "output_type": "stream",
     "text": [
      "Failed requesting Skellig - Ben de Vries Calm Mix\n",
      "Failed requesting Laughing Gas - Ben de Vries Calm Mix\n",
      "Failed requesting All That We Asked For - Ben de Vries Calm Mix\n",
      "Failed requesting Skellig\n",
      "Failed requesting Dún Laoghaire\n",
      "Failed requesting Accumulates\n",
      "Failed requesting Heart and Soul\n",
      "Failed requesting Laughing Gas\n"
     ]
    },
    {
     "name": "stderr",
     "output_type": "stream",
     "text": [
      "Processing David Gray_tracks.parquet:   5%|▍         | 14/304 [00:00<00:07, 39.08it/s]"
     ]
    },
    {
     "name": "stdout",
     "output_type": "stream",
     "text": [
      "Failed requesting No False Gods\n",
      "Failed requesting Deep Water Swim\n",
      "Failed requesting Spiral Arms\n",
      "Failed requesting The White Owl\n",
      "Failed requesting Dares My Heart Be Free\n",
      "Failed requesting House With No Walls\n",
      "Failed requesting Can’t Hurt More Than This\n",
      "Failed requesting All That We Asked For\n"
     ]
    },
    {
     "name": "stderr",
     "output_type": "stream",
     "text": [
      "Processing David Gray_tracks.parquet:   8%|▊         | 23/304 [00:00<00:07, 39.15it/s]"
     ]
    },
    {
     "name": "stdout",
     "output_type": "stream",
     "text": [
      "Failed requesting Please Forgive Me - 2020 Remaster\n",
      "Failed requesting Babylon - 2020 Remaster\n",
      "Failed requesting My Oh My - 2020 Remaster\n",
      "Failed requesting We're Not Right - 2020 Remaster\n",
      "Failed requesting Nightblindness - 2020 Remaster\n",
      "Failed requesting Silver Lining - 2020 Remaster\n",
      "Failed requesting White Ladder - 2020 Remaster\n",
      "Failed requesting This Year's Love - 2020 Remaster\n"
     ]
    },
    {
     "name": "stderr",
     "output_type": "stream",
     "text": [
      "Processing David Gray_tracks.parquet:  11%|█         | 32/304 [00:00<00:06, 39.70it/s]"
     ]
    },
    {
     "name": "stdout",
     "output_type": "stream",
     "text": [
      "Failed requesting Sail Away - 2020 Remaster\n",
      "Failed requesting Say Hello, Wave Goodbye - 2020 Remaster\n",
      "Failed requesting Lights of London\n",
      "Failed requesting Over My Head\n",
      "Failed requesting Monday Morning\n",
      "Failed requesting Tired of Me\n",
      "Failed requesting Roots of Love\n",
      "Failed requesting Walking in Circles\n",
      "Failed requesting Through to Myself\n"
     ]
    },
    {
     "name": "stderr",
     "output_type": "stream",
     "text": [
      "Processing David Gray_tracks.parquet:  13%|█▎        | 40/304 [00:01<00:06, 39.68it/s]"
     ]
    },
    {
     "name": "stdout",
     "output_type": "stream",
     "text": [
      "Failed requesting Over My Head - Demo\n",
      "Failed requesting What on Earth - Demo\n",
      "Failed requesting Silver Lining - Demo\n",
      "Failed requesting The Sapling\n",
      "Failed requesting Gold in a Brass Age\n",
      "Failed requesting Furthering\n",
      "Failed requesting Ridiculous Heart\n",
      "Failed requesting It's Late\n",
      "Failed requesting A Tight Ship\n"
     ]
    },
    {
     "name": "stderr",
     "output_type": "stream",
     "text": [
      "Processing David Gray_tracks.parquet:  16%|█▌        | 48/304 [00:01<00:06, 38.86it/s]"
     ]
    },
    {
     "name": "stdout",
     "output_type": "stream",
     "text": [
      "Failed requesting Watching the Waves\n",
      "Failed requesting Hall of Mirrors\n",
      "Failed requesting Hurricane Season\n",
      "Failed requesting Mallory\n",
      "Failed requesting If 8 Were 9\n",
      "Failed requesting Back in the World\n",
      "Failed requesting As the Crow Flies\n",
      "Failed requesting Mutineers\n"
     ]
    },
    {
     "name": "stderr",
     "output_type": "stream",
     "text": [
      "Processing David Gray_tracks.parquet:  19%|█▉        | 57/304 [00:01<00:06, 39.51it/s]"
     ]
    },
    {
     "name": "stdout",
     "output_type": "stream",
     "text": [
      "Failed requesting Beautiful Agony\n",
      "Failed requesting Last Summer\n",
      "Failed requesting Snow In Vegas\n",
      "Failed requesting Cake and Eat It\n",
      "Failed requesting Birds Of The High Arctic\n",
      "Failed requesting The Incredible\n",
      "Failed requesting Girl Like You\n",
      "Failed requesting Gulls\n"
     ]
    },
    {
     "name": "stderr",
     "output_type": "stream",
     "text": [
      "Processing David Gray_tracks.parquet:  21%|██▏       | 65/304 [00:01<00:06, 38.35it/s]"
     ]
    },
    {
     "name": "stdout",
     "output_type": "stream",
     "text": [
      "Failed requesting Snow in Vegas\n",
      "Failed requesting Birds of the High Arctic - Live at the iTunes Festival\n",
      "Failed requesting Back in the World - Live at the iTunes Festival\n",
      "Failed requesting As the Crow Flies - Live at the iTunes Festival\n",
      "Failed requesting Mutineers - Live at the iTunes Festival\n",
      "Failed requesting Last Summer - Live at the iTunes Festival\n",
      "Failed requesting Beautiful Agony - Live at the iTunes Festival\n",
      "Failed requesting My Oh My - Live at the iTunes Festival\n"
     ]
    },
    {
     "name": "stderr",
     "output_type": "stream",
     "text": [
      "Processing David Gray_tracks.parquet:  24%|██▍       | 73/304 [00:01<00:05, 38.52it/s]"
     ]
    },
    {
     "name": "stdout",
     "output_type": "stream",
     "text": [
      "Failed requesting Fugitive - Live at the iTunes Festival\n",
      "Failed requesting Alibi - Live at the iTunes Festival\n",
      "Failed requesting Nemesis - Live at the iTunes Festival\n",
      "Failed requesting Gulls - Live at the iTunes Festival\n",
      "Failed requesting Shine - Live at the iTunes Festival\n",
      "Failed requesting Falling Free - Live at the iTunes Festival\n",
      "Failed requesting This Year's Love - Live at the iTunes Festival\n",
      "Failed requesting Sail Away - Live at the iTunes Festival\n"
     ]
    },
    {
     "name": "stderr",
     "output_type": "stream",
     "text": [
      "Processing David Gray_tracks.parquet:  25%|██▌       | 77/304 [00:01<00:05, 38.77it/s]"
     ]
    },
    {
     "name": "stdout",
     "output_type": "stream",
     "text": [
      "Failed requesting Silver Lining - Live at the iTunes Festival\n",
      "Failed requesting Please Forgive Me - Live at the iTunes Festival\n",
      "Failed requesting Babylon - Live at the iTunes Festival\n",
      "Failed requesting The One I Love - Live at the iTunes Festival\n",
      "Failed requesting Only the Wine\n",
      "Failed requesting Foundling\n",
      "Failed requesting Forgetting\n"
     ]
    },
    {
     "name": "stderr",
     "output_type": "stream",
     "text": [
      "Processing David Gray_tracks.parquet:  28%|██▊       | 85/304 [00:02<00:06, 35.24it/s]"
     ]
    },
    {
     "name": "stdout",
     "output_type": "stream",
     "text": [
      "Failed requesting Gossamer Thread\n",
      "Failed requesting The Old Chair\n",
      "Failed requesting In God's Name\n",
      "Failed requesting We Could Fall in Love Again Tonight\n",
      "Failed requesting Holding On\n",
      "Failed requesting When I Was in Your Heart\n",
      "Failed requesting A New Day at Midnight\n",
      "Failed requesting Davey Jones' Locker\n"
     ]
    },
    {
     "name": "stderr",
     "output_type": "stream",
     "text": [
      "Processing David Gray_tracks.parquet:  32%|███▏      | 97/304 [00:02<00:05, 37.38it/s]"
     ]
    },
    {
     "name": "stdout",
     "output_type": "stream",
     "text": [
      "Failed requesting Fixative\n",
      "Failed requesting Morning Theme\n",
      "Failed requesting The Dotted Line\n",
      "Failed requesting A Million Years\n",
      "Failed requesting Who's Singing Now\n",
      "Failed requesting Old Father Time\n",
      "Failed requesting Indeed I Will\n",
      "Failed requesting A Moment Changes Everything\n",
      "Failed requesting More to Me Now\n",
      "Failed requesting Only the Wine\n"
     ]
    },
    {
     "name": "stderr",
     "output_type": "stream",
     "text": [
      "Processing David Gray_tracks.parquet:  36%|███▌      | 109/304 [00:12<02:11,  1.48it/s]"
     ]
    },
    {
     "name": "stdout",
     "output_type": "stream",
     "text": [
      "Failed requesting Fugitive\n"
     ]
    },
    {
     "name": "stderr",
     "output_type": "stream",
     "text": [
      "Processing David Gray_tracks.parquet:  37%|███▋      | 113/304 [00:16<02:26,  1.31it/s]"
     ]
    },
    {
     "name": "stdout",
     "output_type": "stream",
     "text": [
      "Failed requesting Draw the Line\n",
      "Failed requesting Draw the Line\n"
     ]
    },
    {
     "name": "stderr",
     "output_type": "stream",
     "text": [
      "Processing David Gray_tracks.parquet:  41%|████      | 125/304 [00:26<03:02,  1.02s/it]"
     ]
    },
    {
     "name": "stdout",
     "output_type": "stream",
     "text": [
      "Failed requesting First Chance\n"
     ]
    },
    {
     "name": "stderr",
     "output_type": "stream",
     "text": [
      "Processing David Gray_tracks.parquet:  85%|████████▍ | 257/304 [02:42<00:48,  1.04s/it]"
     ]
    },
    {
     "name": "stdout",
     "output_type": "stream",
     "text": [
      "Failed requesting January Rain\n"
     ]
    },
    {
     "name": "stderr",
     "output_type": "stream",
     "text": [
      "Processing David Gray_tracks.parquet:  86%|████████▌ | 260/304 [02:44<00:37,  1.16it/s]"
     ]
    },
    {
     "name": "stdout",
     "output_type": "stream",
     "text": [
      "Failed requesting Wurlitzer\n"
     ]
    },
    {
     "name": "stderr",
     "output_type": "stream",
     "text": [
      "Processing David Gray_tracks.parquet: 100%|██████████| 304/304 [03:29<00:00,  1.45it/s]\n",
      "Processing David Grisman_tracks.parquet:   1%|          | 4/326 [00:00<00:09, 32.75it/s]"
     ]
    },
    {
     "name": "stdout",
     "output_type": "stream",
     "text": [
      "Failed requesting Mandolin Rag\n",
      "Failed requesting Cedar Hill\n",
      "Failed requesting Bluegrass Breakdown\n",
      "Failed requesting Whitehouse Blues\n",
      "Failed requesting Auld Lang Syne\n",
      "Failed requesting Cedar Hill 2\n"
     ]
    },
    {
     "name": "stderr",
     "output_type": "stream",
     "text": [
      "Processing David Grisman_tracks.parquet:   4%|▎         | 12/326 [00:00<00:09, 33.12it/s]"
     ]
    },
    {
     "name": "stdout",
     "output_type": "stream",
     "text": [
      "Failed requesting Fanny Hill\n",
      "Failed requesting Follow the Leader\n",
      "Failed requesting New York Ramble\n",
      "Failed requesting Opus 57\n",
      "Failed requesting Opus 38\n",
      "Failed requesting Little Sadie\n",
      "Failed requesting Out of Joint\n",
      "Failed requesting Sugar Hill Ramble\n"
     ]
    },
    {
     "name": "stderr",
     "output_type": "stream",
     "text": [
      "Processing David Grisman_tracks.parquet:   6%|▌         | 20/326 [00:01<00:28, 10.68it/s]"
     ]
    },
    {
     "name": "stdout",
     "output_type": "stream",
     "text": [
      "Failed requesting Fanny Hill 2\n",
      "Failed requesting Little Maggie\n",
      "Failed requesting Bluegrass Twist\n",
      "Failed requesting Shenandoah Breakdown\n",
      "Failed requesting The Prisoner Song\n",
      "Failed requesting Old Joe Clark\n",
      "Failed requesting Maybe You Will Change Your Mind\n"
     ]
    },
    {
     "name": "stderr",
     "output_type": "stream",
     "text": [
      "Processing David Grisman_tracks.parquet:   9%|▊         | 28/326 [00:01<00:16, 17.65it/s]"
     ]
    },
    {
     "name": "stdout",
     "output_type": "stream",
     "text": [
      "Failed requesting Pig In A Pen\n",
      "Failed requesting Fireball Mail\n",
      "Failed requesting You Don't Know My Mind\n",
      "Failed requesting Salt Creek\n",
      "Failed requesting On and On\n",
      "Failed requesting Freeborn Man\n",
      "Failed requesting Dusty MIller / Red Haired Boy\n",
      "Failed requesting Don't Give Your Heart To A Rambler\n"
     ]
    },
    {
     "name": "stderr",
     "output_type": "stream",
     "text": [
      "Processing David Grisman_tracks.parquet:  11%|█         | 36/326 [00:02<00:12, 23.83it/s]"
     ]
    },
    {
     "name": "stdout",
     "output_type": "stream",
     "text": [
      "Failed requesting Fretted Frivolity\n",
      "Failed requesting Late Last Night\n",
      "Failed requesting Cluck Old Hen\n",
      "Failed requesting 'Til the End of the World Rolls Round\n",
      "Failed requesting Back Up and Push\n",
      "Failed requesting Dawg's Rag - Live\n",
      "Failed requesting Dawg Daze - Live\n"
     ]
    },
    {
     "name": "stderr",
     "output_type": "stream",
     "text": [
      "Processing David Grisman_tracks.parquet:  13%|█▎        | 44/326 [00:02<00:09, 28.84it/s]"
     ]
    },
    {
     "name": "stdout",
     "output_type": "stream",
     "text": [
      "Failed requesting Albuquerque Turkey - Live\n",
      "Failed requesting Band Introductions - Live\n",
      "Failed requesting Minor Swing - Live\n",
      "Failed requesting Nuages - Live\n",
      "Failed requesting Mugavero - Live\n",
      "Failed requesting Pupville (Gypsygrass) - Live\n",
      "Failed requesting Telluride - Live\n",
      "Failed requesting Dawgology - Live\n"
     ]
    },
    {
     "name": "stderr",
     "output_type": "stream",
     "text": [
      "Processing David Grisman_tracks.parquet:  15%|█▍        | 48/326 [00:02<00:09, 29.02it/s]"
     ]
    },
    {
     "name": "stdout",
     "output_type": "stream",
     "text": [
      "Failed requesting 16/16 - Live\n",
      "Failed requesting Dawg's Bull - Live\n",
      "Failed requesting Intro\n",
      "Failed requesting Spud Boy\n",
      "Failed requesting Old Timey Art\n",
      "Failed requesting Little Bitty Town\n",
      "Failed requesting Dawg On A String\n"
     ]
    },
    {
     "name": "stderr",
     "output_type": "stream",
     "text": [
      "Processing David Grisman_tracks.parquet:  17%|█▋        | 56/326 [00:02<00:08, 32.28it/s]"
     ]
    },
    {
     "name": "stdout",
     "output_type": "stream",
     "text": [
      "Failed requesting Big Blue\n",
      "Failed requesting No End Of Love\n",
      "Failed requesting Blue Dawg\n",
      "Failed requesting Lobster Rolls\n",
      "Failed requesting Money Moves Up\n",
      "Failed requesting Funky Plunky\n",
      "Failed requesting Zaydeh's Waltz\n"
     ]
    },
    {
     "name": "stderr",
     "output_type": "stream",
     "text": [
      "Processing David Grisman_tracks.parquet:  20%|█▉        | 64/326 [00:02<00:07, 33.58it/s]"
     ]
    },
    {
     "name": "stdout",
     "output_type": "stream",
     "text": [
      "Failed requesting Super Grits\n",
      "Failed requesting Razzle Dazzle\n",
      "Failed requesting It's A Long Long Way To The Top\n",
      "Failed requesting Back Up and Push (Theme)\n",
      "Failed requesting She’s No Angel\n",
      "Failed requesting I’m Just Here to Get My Baby Out of Jail (feat. Jerry Garcia & Vassar Clements)\n"
     ]
    },
    {
     "name": "stderr",
     "output_type": "stream",
     "text": [
      "Processing David Grisman_tracks.parquet:  22%|██▏       | 73/326 [00:03<00:07, 34.15it/s]"
     ]
    },
    {
     "name": "stdout",
     "output_type": "stream",
     "text": [
      "Failed requesting The Fields Have Turned Brown (feat. Jerry Garcia & Vassar Clements)\n",
      "Failed requesting To Love and Live Together (feat. Jerry Garcia & Vassar Clements)\n",
      "Failed requesting I’m Blue, I’m Lonesome (feat. Jerry Garcia & Vassar Clements)\n",
      "Failed requesting Pidgeon Roost (feat. Jerry Garcia & Vassar Clements)\n",
      "Failed requesting Down Where the River Bends (feat. Jerry Garcia & Vassar Clements)\n",
      "Failed requesting Love Please Come Home (feat. Jerry Garcia & Vassar Clements)\n",
      "Failed requesting Letter From My Darlin (feat. Jerry Garcia & Vassar Clements)\n",
      "Failed requesting Is This My Destiny (feat. Jerry Garcia & Vassar Clements)\n"
     ]
    },
    {
     "name": "stderr",
     "output_type": "stream",
     "text": [
      "Processing David Grisman_tracks.parquet:  24%|██▎       | 77/326 [00:03<00:08, 27.89it/s]"
     ]
    },
    {
     "name": "stdout",
     "output_type": "stream",
     "text": [
      "Failed requesting Ashes of Love (feat. Jerry Garcia & Vassar Clements)\n",
      "Failed requesting Is It Too Late Now (feat. Jerry Garcia & Vassar Clements)\n",
      "Failed requesting Little Maggie (feat. Jerry Garcia & Vassar Clements)\n",
      "Failed requesting Will You Miss Me When I’m Gone (feat. Jerry Garcia & Vassar Clements)\n"
     ]
    },
    {
     "name": "stderr",
     "output_type": "stream",
     "text": [
      "Processing David Grisman_tracks.parquet:  25%|██▍       | 81/326 [00:03<00:08, 29.52it/s]"
     ]
    },
    {
     "name": "stdout",
     "output_type": "stream",
     "text": [
      "Failed requesting Back Up and Push (Theme) (feat. Jerry Garcia & Vassar Clements)\n",
      "Failed requesting On and On* (feat. Jerry Garcia & Vassar Clements)\n",
      "Failed requesting The Fields Have Turned Brown (feat. Jerry Garcia & Vassar Clements) - Alternate\n",
      "Failed requesting Introductions - Live\n",
      "Failed requesting Doc & Dawg - Live\n",
      "Failed requesting Blue Grass Stomp - Live\n",
      "Failed requesting Two Dollar Remarks - Live\n",
      "Failed requesting My Long Journey Home - Live\n"
     ]
    },
    {
     "name": "stderr",
     "output_type": "stream",
     "text": [
      "Processing David Grisman_tracks.parquet:  27%|██▋       | 89/326 [00:03<00:07, 32.62it/s]"
     ]
    },
    {
     "name": "stdout",
     "output_type": "stream",
     "text": [
      "Failed requesting Give Me Back My 15 Cents - Live\n",
      "Failed requesting Shady Grove - Live\n",
      "Failed requesting Hobo Bill's Last Ride - Live\n",
      "Failed requesting East Tennessee Blues/Beaumont Rag - Live\n",
      "Failed requesting Milk Cow Blues - Live\n",
      "Failed requesting East Bound Freight Train - Live\n",
      "Failed requesting Sleep Baby Sleep - Live\n"
     ]
    },
    {
     "name": "stderr",
     "output_type": "stream",
     "text": [
      "Processing David Grisman_tracks.parquet:  30%|██▉       | 97/326 [00:03<00:06, 34.87it/s]"
     ]
    },
    {
     "name": "stdout",
     "output_type": "stream",
     "text": [
      "Failed requesting Lulu Walls - Live\n",
      "Failed requesting Pigeon Roost - Live\n",
      "Failed requesting Used To Be - Live\n",
      "Failed requesting Ragtime Annie/Soldier's Joy - Live\n",
      "Failed requesting Introducing Richard Watson - Live\n",
      "Failed requesting Match Box Blues - Live\n"
     ]
    },
    {
     "name": "stderr",
     "output_type": "stream",
     "text": [
      "Processing David Grisman_tracks.parquet:  33%|███▎      | 106/326 [00:04<00:06, 33.60it/s]"
     ]
    },
    {
     "name": "stdout",
     "output_type": "stream",
     "text": [
      "Failed requesting St. James Infirmary - Live\n",
      "Failed requesting Changing Keys - Live\n",
      "Failed requesting Zorro's Last Ride\n",
      "Failed requesting Cinderella's Fella\n",
      "Failed requesting CGP & Dawg\n",
      "Failed requesting Farm & Fun Time\n",
      "Failed requesting Newly Wedding\n",
      "Failed requesting Sweet Georgia Brown\n"
     ]
    },
    {
     "name": "stderr",
     "output_type": "stream",
     "text": [
      "Processing David Grisman_tracks.parquet:  34%|███▎      | 110/326 [00:04<00:06, 34.67it/s]"
     ]
    },
    {
     "name": "stdout",
     "output_type": "stream",
     "text": [
      "Failed requesting Standing Rock\n",
      "Failed requesting Dawg's Waltz\n",
      "Failed requesting Tipsy Gypsy\n",
      "Failed requesting Tracy's Tune\n",
      "Failed requesting Port Townsend Blues\n",
      "Failed requesting Waltzing Matilda\n",
      "Failed requesting Intro Set 1 - Live\n"
     ]
    },
    {
     "name": "stderr",
     "output_type": "stream",
     "text": [
      "Processing David Grisman_tracks.parquet:  36%|███▌      | 118/326 [00:04<00:05, 35.76it/s]"
     ]
    },
    {
     "name": "stdout",
     "output_type": "stream",
     "text": [
      "Failed requesting Good Old Mountain Dew - Live\n",
      "Failed requesting 8Th Of January - Live\n",
      "Failed requesting Tone Poems Intro - Live\n",
      "Failed requesting I Don't Want Your Mandolins Mister - Live\n",
      "Failed requesting Sambino - Live\n",
      "Failed requesting Watson Blues - Live\n",
      "Failed requesting Ralph's Banjo Special - Live\n"
     ]
    },
    {
     "name": "stderr",
     "output_type": "stream",
     "text": [
      "Processing David Grisman_tracks.parquet:  39%|███▊      | 126/326 [00:04<00:05, 34.80it/s]"
     ]
    },
    {
     "name": "stdout",
     "output_type": "stream",
     "text": [
      "Failed requesting I Am A Pilgrim - Live\n",
      "Failed requesting Swing 42 - Live\n",
      "Failed requesting Wildwood Flower - Live\n",
      "Failed requesting Shenandoah - Live\n",
      "Failed requesting Opus 38 - Live\n",
      "Failed requesting Intro Set 2 - Live\n"
     ]
    },
    {
     "name": "stderr",
     "output_type": "stream",
     "text": [
      "Processing David Grisman_tracks.parquet:  40%|███▉      | 130/326 [00:04<00:06, 32.28it/s]"
     ]
    },
    {
     "name": "stdout",
     "output_type": "stream",
     "text": [
      "Failed requesting Antigue Mandolin - Live\n",
      "Failed requesting Turn Of The Century - Live\n",
      "Failed requesting Obanion's Intro - Live\n",
      "Failed requesting Obanion's Wake - Live\n",
      "Failed requesting Banks Of The Ohio - Live\n",
      "Failed requesting Dawg After Dark - Live\n",
      "Failed requesting Feast Here Tonight - Live Version\n"
     ]
    },
    {
     "name": "stderr",
     "output_type": "stream",
     "text": [
      "Processing David Grisman_tracks.parquet:  42%|████▏     | 138/326 [00:05<00:05, 32.50it/s]"
     ]
    },
    {
     "name": "stdout",
     "output_type": "stream",
     "text": [
      "Failed requesting Intros - Live Version\n",
      "Failed requesting Shackles & Chains - Live Version\n",
      "Failed requesting Meeting Up - Live Version\n",
      "Failed requesting East Virginia Blues - Live Version\n",
      "Failed requesting Bluegrass Rhythm - Live Version\n",
      "Failed requesting G-Run Blues - Live Version\n",
      "Failed requesting Del & Big Mon - Live Version\n",
      "Failed requesting Dark Hollow - Live Version\n"
     ]
    },
    {
     "name": "stderr",
     "output_type": "stream",
     "text": [
      "Processing David Grisman_tracks.parquet:  45%|████▍     | 146/326 [00:05<00:05, 33.13it/s]"
     ]
    },
    {
     "name": "stdout",
     "output_type": "stream",
     "text": [
      "Failed requesting Toy Heart - Live Version\n",
      "Failed requesting Remembering Brad - Live Version\n",
      "Failed requesting Bill Keith Medley: Salt Creek, Devil's Dream, Shenandoah Breakdown - Live Version\n",
      "Failed requesting Snow Dove - Live Version\n",
      "Failed requesting The Good Old 1950's - Live Version\n",
      "Failed requesting Country Boy Rock & Roll - Live Version\n",
      "Failed requesting Gotta Travel On - Live Version\n",
      "Failed requesting The Wild Side Of Life - Live Version\n"
     ]
    },
    {
     "name": "stderr",
     "output_type": "stream",
     "text": [
      "Processing David Grisman_tracks.parquet:  47%|████▋     | 154/326 [00:05<00:05, 32.64it/s]"
     ]
    },
    {
     "name": "stdout",
     "output_type": "stream",
     "text": [
      "Failed requesting Little Glass Of Wine - Live Version\n",
      "Failed requesting I Know What It Means To Be Lonesome - Live Version\n",
      "Failed requesting Del & Dawg - Live Version\n",
      "Failed requesting Doc & Dawg\n",
      "Failed requesting In The Pines\n",
      "Failed requesting Long Journey Home\n",
      "Failed requesting Step It Up and Go\n"
     ]
    },
    {
     "name": "stderr",
     "output_type": "stream",
     "text": [
      "Processing David Grisman_tracks.parquet:  50%|████▉     | 162/326 [00:05<00:04, 33.70it/s]"
     ]
    },
    {
     "name": "stdout",
     "output_type": "stream",
     "text": [
      "Failed requesting Deep River Blues\n",
      "Failed requesting Fiddle Tune Medley\n",
      "Failed requesting Cora Is Gone\n",
      "Failed requesting Stoney Creek\n",
      "Failed requesting Sleep Baby Sleep\n",
      "Failed requesting The Girl in the Blue Velvet Band\n",
      "Failed requesting Kentucky Waltz\n",
      "Failed requesting Black Mountain Rag\n"
     ]
    },
    {
     "name": "stderr",
     "output_type": "stream",
     "text": [
      "Processing David Grisman_tracks.parquet:  52%|█████▏    | 170/326 [00:06<00:04, 33.63it/s]"
     ]
    },
    {
     "name": "stdout",
     "output_type": "stream",
     "text": [
      "Failed requesting The Mayor Speaks\n",
      "Failed requesting Roll In My Sweet Baby's Arms\n",
      "Failed requesting The Greenville Tressle\n",
      "Failed requesting Train Whistle Blues\n",
      "Failed requesting Lonesome Moonlight Waltz\n",
      "Failed requesting I'll Never See My Home Again\n",
      "Failed requesting Ten Miles to Deep Gap\n",
      "Failed requesting In The Jailhouse Now\n"
     ]
    },
    {
     "name": "stderr",
     "output_type": "stream",
     "text": [
      "Processing David Grisman_tracks.parquet:  55%|█████▍    | 178/326 [00:06<00:04, 33.90it/s]"
     ]
    },
    {
     "name": "stdout",
     "output_type": "stream",
     "text": [
      "Failed requesting Muddy Roads (old-time)\n",
      "Failed requesting The Train That Carried My Gal\n",
      "Failed requesting The Lone Pilgrim\n",
      "Failed requesting Walkin' Boss\n",
      "Failed requesting Handsome Molly\n",
      "Failed requesting Willie Moore\n",
      "Failed requesting The Cuckoo Bird\n"
     ]
    },
    {
     "name": "stderr",
     "output_type": "stream",
     "text": [
      "Processing David Grisman_tracks.parquet:  56%|█████▌    | 182/326 [00:06<00:04, 32.47it/s]"
     ]
    },
    {
     "name": "stdout",
     "output_type": "stream",
     "text": [
      "Failed requesting I'll Rise When The Rooster Crows\n",
      "Failed requesting Omie Wise\n",
      "Failed requesting The Roving Gambler\n",
      "Failed requesting Crawdad\n",
      "Failed requesting Trouble In Mind\n",
      "Failed requesting Blue Ridge Mountain Blues\n"
     ]
    },
    {
     "name": "stderr",
     "output_type": "stream",
     "text": [
      "Processing David Grisman_tracks.parquet:  58%|█████▊    | 190/326 [00:06<00:04, 28.84it/s]"
     ]
    },
    {
     "name": "stdout",
     "output_type": "stream",
     "text": [
      "Failed requesting Shady Grove\n",
      "Failed requesting Your Long Journey\n",
      "Failed requesting Muddy Roads\n",
      "Failed requesting John Henry\n",
      "Failed requesting Walkin the Dawg\n",
      "Failed requesting Highway of Regret\n",
      "Failed requesting Save it, Save it\n"
     ]
    },
    {
     "name": "stderr",
     "output_type": "stream",
     "text": [
      "Processing David Grisman_tracks.parquet:  61%|██████    | 198/326 [00:07<00:03, 32.06it/s]"
     ]
    },
    {
     "name": "stdout",
     "output_type": "stream",
     "text": [
      "Failed requesting A Good Woman's Love\n",
      "Failed requesting Thinkg Tonight of my Blueeyes\n",
      "Failed requesting The Hit Parade of Love\n",
      "Failed requesting The Tennesse Waltz\n",
      "Failed requesting Come Back to me Little Darlin'\n",
      "Failed requesting I'm Waiting To Hear You Call Me Darling\n",
      "Failed requesting Unwanted Love\n",
      "Failed requesting We Can't Be Darlings Anymore\n"
     ]
    },
    {
     "name": "stderr",
     "output_type": "stream",
     "text": [
      "Processing David Grisman_tracks.parquet:  63%|██████▎   | 206/326 [00:07<00:03, 32.96it/s]"
     ]
    },
    {
     "name": "stdout",
     "output_type": "stream",
     "text": [
      "Failed requesting Cabin of Love\n",
      "Failed requesting Country Boy Rock & Roll\n",
      "Failed requesting Twenty Twemty Vision\n",
      "Failed requesting I'm Sitting on Top of the World\n",
      "Failed requesting New Muleskinner Blues\n",
      "Failed requesting Happy Birthday Bill Monroe\n"
     ]
    },
    {
     "name": "stderr",
     "output_type": "stream",
     "text": [
      "Processing David Grisman_tracks.parquet:  64%|██████▍   | 210/326 [00:07<00:03, 29.58it/s]"
     ]
    },
    {
     "name": "stdout",
     "output_type": "stream",
     "text": [
      "Failed requesting Uncle Pen\n",
      "Failed requesting I'm Rollin' On\n",
      "Failed requesting Kentucky Waltz\n",
      "Failed requesting On & On\n",
      "Failed requesting Watson Blues\n",
      "Failed requesting My Little Georgia Rose\n",
      "Failed requesting Wayfaring Stranger\n"
     ]
    },
    {
     "name": "stderr",
     "output_type": "stream",
     "text": [
      "Processing David Grisman_tracks.parquet:  67%|██████▋   | 218/326 [00:07<00:03, 31.24it/s]"
     ]
    },
    {
     "name": "stdout",
     "output_type": "stream",
     "text": [
      "Failed requesting In the Pines\n",
      "Failed requesting Roanoke\n",
      "Failed requesting Wicked Path of Sin\n",
      "Failed requesting Bluegrass Stomp\n",
      "Failed requesting Letter from My Darlin'\n",
      "Failed requesting B Natural\n",
      "Failed requesting Bury Me Beneath the Willow\n"
     ]
    },
    {
     "name": "stderr",
     "output_type": "stream",
     "text": [
      "Processing David Grisman_tracks.parquet:  69%|██████▉   | 226/326 [00:07<00:03, 32.22it/s]"
     ]
    },
    {
     "name": "stdout",
     "output_type": "stream",
     "text": [
      "Failed requesting Lonesome Moonlight Waltz\n",
      "Failed requesting John Henry\n",
      "Failed requesting Rawhide\n",
      "Failed requesting My Last Days on Earth\n",
      "Failed requesting Mugavero\n",
      "Failed requesting It Had To Be You\n",
      "Failed requesting Wigmore Intro\n",
      "Failed requesting Swing 42\n"
     ]
    },
    {
     "name": "stderr",
     "output_type": "stream",
     "text": [
      "Processing David Grisman_tracks.parquet:  72%|███████▏  | 234/326 [00:08<00:02, 33.11it/s]"
     ]
    },
    {
     "name": "stdout",
     "output_type": "stream",
     "text": [
      "Failed requesting Nuages\n",
      "Failed requesting Tone Poem Instruments\n",
      "Failed requesting Out Of Nowhere\n",
      "Failed requesting Lulu'S Back In Town\n",
      "Failed requesting Tenor Guitar Talk\n",
      "Failed requesting Tears\n",
      "Failed requesting Please\n",
      "Failed requesting Besame Mucho\n"
     ]
    },
    {
     "name": "stderr",
     "output_type": "stream",
     "text": [
      "Processing David Grisman_tracks.parquet:  74%|███████▍  | 242/326 [00:08<00:02, 32.82it/s]"
     ]
    },
    {
     "name": "stdout",
     "output_type": "stream",
     "text": [
      "Failed requesting Dawgmatisam\n",
      "Failed requesting Blue Moon\n",
      "Failed requesting Czardas\n",
      "Failed requesting Stompin At The Savoy\n",
      "Failed requesting Minor Swing\n",
      "Failed requesting Steppin' With Stephane\n",
      "Failed requesting Nick Lucas Intro\n"
     ]
    },
    {
     "name": "stderr",
     "output_type": "stream",
     "text": [
      "Processing David Grisman_tracks.parquet:  77%|███████▋  | 250/326 [00:08<00:02, 33.64it/s]"
     ]
    },
    {
     "name": "stdout",
     "output_type": "stream",
     "text": [
      "Failed requesting Teasin' The Frets\n",
      "Failed requesting Pizza Preamble\n",
      "Failed requesting Man of Constant Sorrow/Run Through\n",
      "Failed requesting Man of Constant Sorrow/Instrumental\n",
      "Failed requesting Always Late\n",
      "Failed requesting Man of Constant Sorrow 1\n",
      "Failed requesting Constant Patter\n",
      "Failed requesting Man of Constant Sorrow 2\n",
      "Failed requesting Louis Collins 1\n"
     ]
    },
    {
     "name": "stderr",
     "output_type": "stream",
     "text": [
      "Processing David Grisman_tracks.parquet:  80%|███████▉  | 260/326 [00:08<00:01, 37.15it/s]"
     ]
    },
    {
     "name": "stdout",
     "output_type": "stream",
     "text": [
      "Failed requesting Louis Collins 2\n",
      "Failed requesting Shady Grove\n",
      "Failed requesting Shady Grove 1/Incomplete\n",
      "Failed requesting Shady Jam\n",
      "Failed requesting Shady Grove 2\n",
      "Failed requesting Shady Grove 3\n",
      "Failed requesting Summertime/Run Through\n",
      "Failed requesting Guitar Space\n",
      "Failed requesting Summertime\n"
     ]
    },
    {
     "name": "stderr",
     "output_type": "stream",
     "text": [
      "Processing David Grisman_tracks.parquet:  81%|████████  | 264/326 [00:08<00:01, 37.73it/s]"
     ]
    },
    {
     "name": "stdout",
     "output_type": "stream",
     "text": [
      "Failed requesting Long Dark Veil/Run Through\n",
      "Failed requesting Long Dark Veil 1/Incomplete\n",
      "Failed requesting Rosa Lee McFall/Run Through\n",
      "Failed requesting Till There Was You\n",
      "Failed requesting Hello Young Lovers\n",
      "Failed requesting Wouldn't It Be Loverly?\n",
      "Failed requesting Stardust\n"
     ]
    },
    {
     "name": "stderr",
     "output_type": "stream",
     "text": [
      "Processing David Grisman_tracks.parquet:  83%|████████▎ | 272/326 [00:09<00:01, 35.59it/s]"
     ]
    },
    {
     "name": "stdout",
     "output_type": "stream",
     "text": [
      "Failed requesting April Showers\n",
      "Failed requesting Margie\n",
      "Failed requesting Where or When\n",
      "Failed requesting Flamingo\n",
      "Failed requesting As Time Goes By\n",
      "Failed requesting We Kiss In The Shadow\n",
      "Failed requesting For All We Know\n",
      "Failed requesting Georgia\n"
     ]
    },
    {
     "name": "stderr",
     "output_type": "stream",
     "text": [
      "Processing David Grisman_tracks.parquet:  87%|████████▋ | 284/326 [00:09<00:01, 36.26it/s]"
     ]
    },
    {
     "name": "stdout",
     "output_type": "stream",
     "text": [
      "Failed requesting These Foolish Things\n",
      "Failed requesting Someday My Prince Will Come\n",
      "Failed requesting I'm Satisfied\n",
      "Failed requesting Strings Of Your Heart\n",
      "Failed requesting Emd\n",
      "Failed requesting Deep Purple\n",
      "Failed requesting John Henry\n",
      "Failed requesting Walk Right Back\n"
     ]
    },
    {
     "name": "stderr",
     "output_type": "stream",
     "text": [
      "Processing David Grisman_tracks.parquet:  88%|████████▊ | 288/326 [00:09<00:01, 36.39it/s]"
     ]
    },
    {
     "name": "stdout",
     "output_type": "stream",
     "text": [
      "Failed requesting Passing Fantasy\n",
      "Failed requesting Coffee Blues\n",
      "Failed requesting Dawg's Waltz\n",
      "Failed requesting Lonely One In This Town\n",
      "Failed requesting It's Not Time Now\n",
      "Failed requesting Harmandola Blues\n",
      "Failed requesting Coconut Grove\n",
      "Failed requesting Jug Band Waltz\n",
      "Failed requesting Claire De Lune\n"
     ]
    },
    {
     "name": "stderr",
     "output_type": "stream",
     "text": [
      "Processing David Grisman_tracks.parquet:  91%|█████████ | 297/326 [00:09<00:00, 37.65it/s]"
     ]
    },
    {
     "name": "stdout",
     "output_type": "stream",
     "text": [
      "Failed requesting Black Orpheus\n",
      "Failed requesting September Song\n",
      "Failed requesting Sway With Me\n",
      "Failed requesting Dawg's Waltz\n",
      "Failed requesting Swing Gitan\n",
      "Failed requesting Tears\n",
      "Failed requesting Premier Guitar\n",
      "Failed requesting Autumn Leaves\n"
     ]
    },
    {
     "name": "stderr",
     "output_type": "stream",
     "text": [
      "Processing David Grisman_tracks.parquet:  94%|█████████▎| 305/326 [00:10<00:00, 36.72it/s]"
     ]
    },
    {
     "name": "stdout",
     "output_type": "stream",
     "text": [
      "Failed requesting Avinu Malkeinu\n",
      "Failed requesting Anim Zemiros\n",
      "Failed requesting Pischu Li\n",
      "Failed requesting Shabbos Ha Yom Lashem\n",
      "Failed requesting Mim'komkha\n",
      "Failed requesting New Shabbos Waltz\n",
      "Failed requesting Ya'aleh\n",
      "Failed requesting Oifen Pripitchik\n"
     ]
    },
    {
     "name": "stderr",
     "output_type": "stream",
     "text": [
      "Processing David Grisman_tracks.parquet:  96%|█████████▌| 313/326 [00:10<00:00, 35.86it/s]"
     ]
    },
    {
     "name": "stdout",
     "output_type": "stream",
     "text": [
      "Failed requesting Old Klezmer\n",
      "Failed requesting Yerushalyim Irkhah\n",
      "Failed requesting Yerushalyim Shel Zahav\n",
      "Failed requesting Lekha Dodi\n",
      "Failed requesting Ani Ma'amin\n",
      "Failed requesting Been All Around This World\n",
      "Failed requesting I'll Go Crazy\n"
     ]
    },
    {
     "name": "stderr",
     "output_type": "stream",
     "text": [
      "Processing David Grisman_tracks.parquet:  98%|█████████▊| 321/326 [00:10<00:00, 37.37it/s]"
     ]
    },
    {
     "name": "stdout",
     "output_type": "stream",
     "text": [
      "Failed requesting Take Me\n",
      "Failed requesting Handsome Cabin Boy Waltz\n",
      "Failed requesting The Ballad Of Frankie Lee And Judas Priest\n",
      "Failed requesting I'm Troubled\n",
      "Failed requesting Blue Yodel #9\n"
     ]
    },
    {
     "name": "stderr",
     "output_type": "stream",
     "text": [
      "Processing David Grisman_tracks.parquet: 100%|█████████▉| 325/326 [00:11<00:00,  9.85it/s]"
     ]
    },
    {
     "name": "stdout",
     "output_type": "stream",
     "text": [
      "Failed requesting I Ain't Never\n",
      "Failed requesting Sittin' Here In Limbo\n",
      "Failed requesting Dark As A Dungeon\n"
     ]
    },
    {
     "name": "stderr",
     "output_type": "stream",
     "text": [
      "Processing David Grisman_tracks.parquet: 100%|██████████| 326/326 [00:12<00:00, 25.69it/s]\n",
      "Processing David Grubbs_tracks.parquet:   4%|▎         | 4/110 [00:00<00:02, 35.51it/s]"
     ]
    },
    {
     "name": "stdout",
     "output_type": "stream",
     "text": [
      "Failed requesting na margem sul i\n",
      "Failed requesting na margem sul ii\n",
      "Failed requesting na margem sul iii\n",
      "Failed requesting na margem sul iv\n",
      "Failed requesting Translation from Unspecified\n",
      "Failed requesting Soixante Ooze\n",
      "Failed requesting Eira\n",
      "Failed requesting Nucleo do Dia\n"
     ]
    },
    {
     "name": "stderr",
     "output_type": "stream",
     "text": [
      "Processing David Grubbs_tracks.parquet:  11%|█         | 12/110 [00:00<00:02, 33.80it/s]"
     ]
    },
    {
     "name": "stdout",
     "output_type": "stream",
     "text": [
      "Failed requesting Molhe\n",
      "Failed requesting Aperto de Mao\n",
      "Failed requesting Vigario\n",
      "Failed requesting Failed Celestial Creatures\n",
      "Failed requesting The Forest Dictation\n",
      "Failed requesting Constellation of Sand\n",
      "Failed requesting Threadbare 1\n"
     ]
    },
    {
     "name": "stderr",
     "output_type": "stream",
     "text": [
      "Processing David Grubbs_tracks.parquet:  18%|█▊        | 20/110 [00:00<00:02, 35.82it/s]"
     ]
    },
    {
     "name": "stdout",
     "output_type": "stream",
     "text": [
      "Failed requesting Threadbare 2\n",
      "Failed requesting Threadbare 3\n",
      "Failed requesting Threadbare 4\n",
      "Failed requesting Slylight\n",
      "Failed requesting Creep Mission\n",
      "Failed requesting The Bonapartes of Baltimore\n",
      "Failed requesting Jeremiadaic\n",
      "Failed requesting Jack Dracula in a Bar\n"
     ]
    },
    {
     "name": "stderr",
     "output_type": "stream",
     "text": [
      "Processing David Grubbs_tracks.parquet:  25%|██▌       | 28/110 [00:00<00:02, 34.28it/s]"
     ]
    },
    {
     "name": "stdout",
     "output_type": "stream",
     "text": [
      "Failed requesting Return of the Creep\n",
      "Failed requesting The C In Certain\n",
      "Failed requesting How to Hear What's Less than Meets the Ear\n",
      "Failed requesting Cheery Eh\n",
      "Failed requesting Learned Astronomer\n",
      "Failed requesting Manifesto in Clear Language\n",
      "Failed requesting Nightfall in the Covered Cage\n"
     ]
    },
    {
     "name": "stderr",
     "output_type": "stream",
     "text": [
      "Processing David Grubbs_tracks.parquet:  33%|███▎      | 36/110 [00:01<00:02, 33.13it/s]"
     ]
    },
    {
     "name": "stdout",
     "output_type": "stream",
     "text": [
      "Failed requesting The Bonsai Waterfall\n",
      "Failed requesting Charm Offensive\n",
      "Failed requesting Brick Dust\n",
      "Failed requesting Cool Side of the PIllow\n",
      "Failed requesting The Distance, Cut\n",
      "Failed requesting Ambassador Extraordinaire\n",
      "Failed requesting The Headlock\n",
      "Failed requesting Foamy Originale\n"
     ]
    },
    {
     "name": "stderr",
     "output_type": "stream",
     "text": [
      "Processing David Grubbs_tracks.parquet:  36%|███▋      | 40/110 [00:01<00:02, 32.86it/s]"
     ]
    },
    {
     "name": "stdout",
     "output_type": "stream",
     "text": [
      "Failed requesting The Plain Where The Palace Stood\n",
      "Failed requesting I Started to Live When My Barber Died\n",
      "Failed requesting Ornamental Hermit\n",
      "Failed requesting First Salutation\n"
     ]
    },
    {
     "name": "stderr",
     "output_type": "stream",
     "text": [
      "Processing David Grubbs_tracks.parquet:  44%|████▎     | 48/110 [00:01<00:02, 28.65it/s]"
     ]
    },
    {
     "name": "stdout",
     "output_type": "stream",
     "text": [
      "Failed requesting Super-Adequate\n",
      "Failed requesting Second Salutation\n",
      "Failed requesting The Hesitation Waltz\n",
      "Failed requesting A View of the Mesa\n",
      "Failed requesting Abracadabrant\n",
      "Failed requesting Fugitive Colors\n",
      "Failed requesting Third Salutation\n",
      "Failed requesting Hermitage\n"
     ]
    },
    {
     "name": "stderr",
     "output_type": "stream",
     "text": [
      "Processing David Grubbs_tracks.parquet:  51%|█████     | 56/110 [00:01<00:01, 31.20it/s]"
     ]
    },
    {
     "name": "stdout",
     "output_type": "stream",
     "text": [
      "Failed requesting Nitrated Out\n",
      "Failed requesting City Rats on a Mountain Pass\n",
      "Failed requesting Onrushing Cloud\n",
      "Failed requesting Lightning Vault\n",
      "Failed requesting Gethsemani Night\n",
      "Failed requesting An Optimist Declines\n",
      "Failed requesting Holy Fool Music\n"
     ]
    },
    {
     "name": "stderr",
     "output_type": "stream",
     "text": [
      "Processing David Grubbs_tracks.parquet:  58%|█████▊    | 64/110 [00:01<00:01, 33.78it/s]"
     ]
    },
    {
     "name": "stdout",
     "output_type": "stream",
     "text": [
      "Failed requesting Storm Sequence\n",
      "Failed requesting Eyeglasses Of Kentucky\n",
      "Failed requesting The Not-So-Distant\n",
      "Failed requesting Knight Errant\n",
      "Failed requesting A Cold Apple\n",
      "Failed requesting Wave Generators\n",
      "Failed requesting Magnificence As Such\n",
      "Failed requesting The Neophyte\n"
     ]
    },
    {
     "name": "stderr",
     "output_type": "stream",
     "text": [
      "Processing David Grubbs_tracks.parquet:  62%|██████▏   | 68/110 [00:02<00:01, 31.00it/s]"
     ]
    },
    {
     "name": "stdout",
     "output_type": "stream",
     "text": [
      "Failed requesting Rosie Ruiz\n",
      "Failed requesting You'll Never Tame Me\n",
      "Failed requesting Your Neck In The Woods\n",
      "Failed requesting One Way Out Of The Maze\n",
      "Failed requesting Pangolin\n",
      "Failed requesting Hurricane Season\n"
     ]
    },
    {
     "name": "stderr",
     "output_type": "stream",
     "text": [
      "Processing David Grubbs_tracks.parquet:  69%|██████▉   | 76/110 [00:02<00:01, 30.91it/s]"
     ]
    },
    {
     "name": "stdout",
     "output_type": "stream",
     "text": [
      "Failed requesting Coda (Breathing)\n",
      "Failed requesting Part 1\n",
      "Failed requesting Part 2\n",
      "Failed requesting Part 3\n",
      "Failed requesting Part 4\n",
      "Failed requesting Transom\n",
      "Failed requesting Don't Think\n"
     ]
    },
    {
     "name": "stderr",
     "output_type": "stream",
     "text": [
      "Processing David Grubbs_tracks.parquet:  76%|███████▋  | 84/110 [00:02<00:00, 34.37it/s]"
     ]
    },
    {
     "name": "stdout",
     "output_type": "stream",
     "text": [
      "Failed requesting A Dream To Help Me Sleep\n",
      "Failed requesting The Nearer By and By\n",
      "Failed requesting I Did No Such Roaming\n",
      "Failed requesting Pinned To The Spot\n",
      "Failed requesting Aloft\n",
      "Failed requesting Precipice\n",
      "Failed requesting Crevasse\n",
      "Failed requesting Kentucky Karaoke\n"
     ]
    },
    {
     "name": "stderr",
     "output_type": "stream",
     "text": [
      "Processing David Grubbs_tracks.parquet:  84%|████████▎ | 92/110 [00:02<00:00, 35.56it/s]"
     ]
    },
    {
     "name": "stdout",
     "output_type": "stream",
     "text": [
      "Failed requesting Seagull And Eagull\n",
      "Failed requesting Whirlweek\n",
      "Failed requesting Stanwell Perpetual\n",
      "Failed requesting Gloriette\n",
      "Failed requesting A Shiver In The Timber\n",
      "Failed requesting Show Me Who To Love\n",
      "Failed requesting Pink Rambler\n",
      "Failed requesting Preface\n",
      "Failed requesting Two Shades Of Green\n"
     ]
    },
    {
     "name": "stderr",
     "output_type": "stream",
     "text": [
      "Processing David Grubbs_tracks.parquet:  91%|█████████ | 100/110 [00:03<00:00, 35.83it/s]"
     ]
    },
    {
     "name": "stdout",
     "output_type": "stream",
     "text": [
      "Failed requesting The Thicket\n",
      "Failed requesting Two Shades of Blue\n",
      "Failed requesting Fool Summons Train\n",
      "Failed requesting Orange Disaster\n",
      "Failed requesting Amleth's Gambit\n",
      "Failed requesting 40 Words On \"Worship\"\n",
      "Failed requesting Swami Vivekananda Way\n",
      "Failed requesting Buried In The Wall\n"
     ]
    },
    {
     "name": "stderr",
     "output_type": "stream",
     "text": [
      "Processing David Grubbs_tracks.parquet: 100%|██████████| 110/110 [00:03<00:00, 32.91it/s]"
     ]
    },
    {
     "name": "stdout",
     "output_type": "stream",
     "text": [
      "Failed requesting On \"Worship\"\n",
      "Failed requesting Translation from Unspecified - Excerpt\n",
      "Failed requesting Concordance\n",
      "Failed requesting Concordance - Excerpt\n",
      "Failed requesting Borough of Broken Umbrellas 1\n",
      "Failed requesting Borough of Broken Umbrellas 2\n",
      "Failed requesting Aux Noctambules\n"
     ]
    },
    {
     "name": "stderr",
     "output_type": "stream",
     "text": [
      "\n",
      "Processing David Guetta_tracks.parquet:   1%|          | 5/426 [00:00<00:10, 41.03it/s]"
     ]
    },
    {
     "name": "stdout",
     "output_type": "stream",
     "text": [
      "Failed requesting Don't Leave Me Alone (feat. Anne-Marie)\n",
      "Failed requesting Battle (feat. Faouzia)\n",
      "Failed requesting Flames\n",
      "Failed requesting Blame It on Love (feat. Madison Beer)\n",
      "Failed requesting Say My Name\n",
      "Failed requesting Goodbye (feat. Nicki Minaj & Willy William)\n",
      "Failed requesting I'm That Bitch (feat. Saweetie)\n",
      "Failed requesting Like I Do\n",
      "Failed requesting 2U\n"
     ]
    },
    {
     "name": "stderr",
     "output_type": "stream",
     "text": [
      "Processing David Guetta_tracks.parquet:   4%|▎         | 15/426 [00:00<00:09, 41.86it/s]"
     ]
    },
    {
     "name": "stdout",
     "output_type": "stream",
     "text": [
      "Failed requesting She Knows How to Love Me (feat. Jess Glynne & Stefflon Don)\n",
      "Failed requesting Motto (feat. Lil Uzi Vert, G-Eazy & Mally Mall)\n",
      "Failed requesting Drive - Edit\n",
      "Failed requesting Para que te quedes (feat. J. Balvin)\n",
      "Failed requesting Let It Be Me (feat. Ava Max)\n",
      "Failed requesting Light Headed\n",
      "Failed requesting Reach For Me\n",
      "Failed requesting Freedom\n",
      "Failed requesting Grenade\n"
     ]
    },
    {
     "name": "stderr",
     "output_type": "stream",
     "text": [
      "Processing David Guetta_tracks.parquet:   6%|▌         | 25/426 [00:00<00:09, 41.07it/s]"
     ]
    },
    {
     "name": "stdout",
     "output_type": "stream",
     "text": [
      "Failed requesting Inferno\n",
      "Failed requesting Overtone\n",
      "Failed requesting Dangerous (feat. Sam Martin)\n",
      "Failed requesting Dangerous (feat. Sam Martin)\n",
      "Failed requesting Dangerous (feat. Sam Martin)\n",
      "Failed requesting What I Did for Love (feat. Emeli Sandé)\n",
      "Failed requesting What I Did for Love (feat. Emeli Sandé)\n",
      "Failed requesting What I Did for Love (feat. Emeli Sandé)\n",
      "Failed requesting No Money No Love (feat. Elliphant & Ms. Dynamite)\n"
     ]
    },
    {
     "name": "stderr",
     "output_type": "stream",
     "text": [
      "Processing David Guetta_tracks.parquet:   8%|▊         | 35/426 [00:00<00:09, 41.64it/s]"
     ]
    },
    {
     "name": "stdout",
     "output_type": "stream",
     "text": [
      "Failed requesting No Money No Love (feat. Elliphant & Ms. Dynamite)\n",
      "Failed requesting No Money No Love (feat. Elliphant & Ms. Dynamite)\n",
      "Failed requesting Lovers on the Sun (feat. Sam Martin)\n",
      "Failed requesting Lovers on the Sun (feat. Sam Martin)\n",
      "Failed requesting Lovers on the Sun (feat. Sam Martin)\n",
      "Failed requesting Goodbye Friend (feat. The Script)\n",
      "Failed requesting Goodbye Friend (feat. The Script)\n",
      "Failed requesting Goodbye Friend (feat. The Script)\n",
      "Failed requesting Lift Me Up (feat. Nico & Vinz, Ladysmith Black Mambazo)\n",
      "Failed requesting Lift Me Up (feat. Nico & Vinz, Ladysmith Black Mambazo)\n"
     ]
    },
    {
     "name": "stderr",
     "output_type": "stream",
     "text": [
      "Processing David Guetta_tracks.parquet:   9%|▉         | 40/426 [00:00<00:10, 38.59it/s]"
     ]
    },
    {
     "name": "stdout",
     "output_type": "stream",
     "text": [
      "Failed requesting Lift Me Up (feat. Nico & Vinz, Ladysmith Black Mambazo)\n",
      "Failed requesting Listen (feat. John Legend)\n",
      "Failed requesting Listen (feat. John Legend)\n",
      "Failed requesting Listen (feat. John Legend)\n",
      "Failed requesting Bang My Head (feat. Sia)\n",
      "Failed requesting Bang My Head (feat. Sia)\n",
      "Failed requesting Bang My Head (feat. Sia)\n",
      "Failed requesting Yesterday (feat. Bebe Rexha)\n"
     ]
    },
    {
     "name": "stderr",
     "output_type": "stream",
     "text": [
      "Processing David Guetta_tracks.parquet:  12%|█▏        | 50/426 [00:01<00:09, 40.16it/s]"
     ]
    },
    {
     "name": "stdout",
     "output_type": "stream",
     "text": [
      "Failed requesting Yesterday (feat. Bebe Rexha)\n",
      "Failed requesting Yesterday (feat. Bebe Rexha)\n",
      "Failed requesting Hey Mama (feat. Nicki Minaj, Bebe Rexha & Afrojack)\n",
      "Failed requesting Hey Mama (feat. Nicki Minaj, Bebe Rexha & Afrojack)\n",
      "Failed requesting Hey Mama (feat. Nicki Minaj, Bebe Rexha & Afrojack)\n",
      "Failed requesting Sun Goes Down (feat. MAGIC! & Sonny Wilson)\n",
      "Failed requesting Sun Goes Down (feat. MAGIC! & Sonny Wilson)\n",
      "Failed requesting Sun Goes Down (feat. MAGIC! & Sonny Wilson)\n",
      "Failed requesting S.T.O.P (feat. Ryan Tedder)\n"
     ]
    },
    {
     "name": "stderr",
     "output_type": "stream",
     "text": [
      "Processing David Guetta_tracks.parquet:  14%|█▍        | 60/426 [00:01<00:08, 41.07it/s]"
     ]
    },
    {
     "name": "stdout",
     "output_type": "stream",
     "text": [
      "Failed requesting S.T.O.P (feat. Ryan Tedder)\n",
      "Failed requesting S.T.O.P (feat. Ryan Tedder)\n",
      "Failed requesting I'll Keep Loving You (feat. Birdy & Jaymes Young)\n",
      "Failed requesting I'll Keep Loving You (feat. Birdy & Jaymes Young)\n",
      "Failed requesting I'll Keep Loving You (feat. Birdy & Jaymes Young)\n",
      "Failed requesting The Whisperer (feat. Sia)\n",
      "Failed requesting The Whisperer (feat. Sia)\n",
      "Failed requesting The Whisperer (feat. Sia)\n",
      "Failed requesting Bang My Head (feat. Sia & Fetty Wap)\n",
      "Failed requesting Clap Your Hands\n"
     ]
    },
    {
     "name": "stderr",
     "output_type": "stream",
     "text": [
      "Processing David Guetta_tracks.parquet:  16%|█▋        | 70/426 [00:01<00:08, 41.50it/s]"
     ]
    },
    {
     "name": "stdout",
     "output_type": "stream",
     "text": [
      "Failed requesting Bad (feat. Vassy) - Radio Edit\n",
      "Failed requesting Bad (feat. Vassy) - Radio Edit\n",
      "Failed requesting Bad (feat. Vassy) - Radio Edit\n",
      "Failed requesting Shot Me Down (feat. Skylar Grey) - Radio Edit\n",
      "Failed requesting Shot Me Down (feat. Skylar Grey) - Radio Edit\n",
      "Failed requesting Shot Me Down (feat. Skylar Grey) - Radio Edit\n",
      "Failed requesting Blast Off - Radio Edit\n",
      "Failed requesting The Death of EDM (feat. Beardyman)\n",
      "Failed requesting Dangerous (feat. Sam Martin)\n"
     ]
    },
    {
     "name": "stderr",
     "output_type": "stream",
     "text": [
      "Processing David Guetta_tracks.parquet:  19%|█▉        | 80/426 [00:01<00:08, 42.31it/s]"
     ]
    },
    {
     "name": "stdout",
     "output_type": "stream",
     "text": [
      "Failed requesting Dangerous (feat. Sam Martin)\n",
      "Failed requesting Dangerous (feat. Sam Martin)\n",
      "Failed requesting What I Did for Love (feat. Emeli Sandé)\n",
      "Failed requesting What I Did for Love (feat. Emeli Sandé)\n",
      "Failed requesting What I Did for Love (feat. Emeli Sandé)\n",
      "Failed requesting No Money No Love (feat. Elliphant & Ms. Dynamite)\n",
      "Failed requesting No Money No Love (feat. Elliphant & Ms. Dynamite)\n",
      "Failed requesting No Money No Love (feat. Elliphant & Ms. Dynamite)\n",
      "Failed requesting Lovers on the Sun (feat. Sam Martin)\n"
     ]
    },
    {
     "name": "stderr",
     "output_type": "stream",
     "text": [
      "Processing David Guetta_tracks.parquet:  21%|██        | 90/426 [00:02<00:08, 41.84it/s]"
     ]
    },
    {
     "name": "stdout",
     "output_type": "stream",
     "text": [
      "Failed requesting Lovers on the Sun (feat. Sam Martin)\n",
      "Failed requesting Lovers on the Sun (feat. Sam Martin)\n",
      "Failed requesting Goodbye Friend (feat. The Script)\n",
      "Failed requesting Goodbye Friend (feat. The Script)\n",
      "Failed requesting Goodbye Friend (feat. The Script)\n",
      "Failed requesting Lift Me Up (feat. Nico & Vinz, Ladysmith Black Mambazo)\n",
      "Failed requesting Lift Me Up (feat. Nico & Vinz, Ladysmith Black Mambazo)\n",
      "Failed requesting Lift Me Up (feat. Nico & Vinz, Ladysmith Black Mambazo)\n",
      "Failed requesting Listen (feat. John Legend)\n"
     ]
    },
    {
     "name": "stderr",
     "output_type": "stream",
     "text": [
      "Processing David Guetta_tracks.parquet:  22%|██▏       | 95/426 [00:02<00:07, 42.42it/s]"
     ]
    },
    {
     "name": "stdout",
     "output_type": "stream",
     "text": [
      "Failed requesting Listen (feat. John Legend)\n",
      "Failed requesting Listen (feat. John Legend)\n",
      "Failed requesting Bang My Head (feat. Sia)\n",
      "Failed requesting Bang My Head (feat. Sia)\n",
      "Failed requesting Bang My Head (feat. Sia)\n",
      "Failed requesting Yesterday (feat. Bebe Rexha)\n",
      "Failed requesting Yesterday (feat. Bebe Rexha)\n",
      "Failed requesting Yesterday (feat. Bebe Rexha)\n",
      "Failed requesting Hey Mama (feat. Nicki Minaj, Bebe Rexha & Afrojack)\n"
     ]
    },
    {
     "name": "stderr",
     "output_type": "stream",
     "text": [
      "Processing David Guetta_tracks.parquet:  25%|██▍       | 105/426 [00:02<00:07, 41.63it/s]"
     ]
    },
    {
     "name": "stdout",
     "output_type": "stream",
     "text": [
      "Failed requesting Hey Mama (feat. Nicki Minaj, Bebe Rexha & Afrojack)\n",
      "Failed requesting Hey Mama (feat. Nicki Minaj, Bebe Rexha & Afrojack)\n",
      "Failed requesting Sun Goes Down (feat. MAGIC! & Sonny Wilson)\n",
      "Failed requesting Sun Goes Down (feat. MAGIC! & Sonny Wilson)\n",
      "Failed requesting Sun Goes Down (feat. MAGIC! & Sonny Wilson)\n",
      "Failed requesting S.T.O.P (feat. Ryan Tedder)\n",
      "Failed requesting S.T.O.P (feat. Ryan Tedder)\n",
      "Failed requesting S.T.O.P (feat. Ryan Tedder)\n"
     ]
    },
    {
     "name": "stderr",
     "output_type": "stream",
     "text": [
      "Processing David Guetta_tracks.parquet:  27%|██▋       | 115/426 [00:02<00:07, 41.92it/s]"
     ]
    },
    {
     "name": "stdout",
     "output_type": "stream",
     "text": [
      "Failed requesting I'll Keep Loving You (feat. Birdy & Jaymes Young)\n",
      "Failed requesting I'll Keep Loving You (feat. Birdy & Jaymes Young)\n",
      "Failed requesting I'll Keep Loving You (feat. Birdy & Jaymes Young)\n",
      "Failed requesting The Whisperer (feat. Sia)\n",
      "Failed requesting The Whisperer (feat. Sia)\n",
      "Failed requesting The Whisperer (feat. Sia)\n",
      "Failed requesting Bad (feat. Vassy) - Radio Edit\n",
      "Failed requesting Bad (feat. Vassy) - Radio Edit\n",
      "Failed requesting Bad (feat. Vassy) - Radio Edit\n"
     ]
    },
    {
     "name": "stderr",
     "output_type": "stream",
     "text": [
      "Processing David Guetta_tracks.parquet:  29%|██▉       | 125/426 [00:03<00:07, 39.01it/s]"
     ]
    },
    {
     "name": "stdout",
     "output_type": "stream",
     "text": [
      "Failed requesting Shot Me Down (feat. Skylar Grey) - Radio Edit\n",
      "Failed requesting Shot Me Down (feat. Skylar Grey) - Radio Edit\n",
      "Failed requesting Shot Me Down (feat. Skylar Grey) - Radio Edit\n",
      "Failed requesting Rise (feat. Skylar Grey)\n",
      "Failed requesting Rise (feat. Skylar Grey)\n",
      "Failed requesting Dangerous (feat. Sam Martin) - Robin Schulz Remix; Radio Edit\n",
      "Failed requesting Dangerous (feat. Sam Martin) - Robin Schulz Remix; Radio Edit\n",
      "Failed requesting Dangerous (feat. Sam Martin)\n"
     ]
    },
    {
     "name": "stderr",
     "output_type": "stream",
     "text": [
      "Processing David Guetta_tracks.parquet:  31%|███       | 130/426 [00:03<00:07, 39.73it/s]"
     ]
    },
    {
     "name": "stdout",
     "output_type": "stream",
     "text": [
      "Failed requesting Dangerous (feat. Sam Martin)\n",
      "Failed requesting Dangerous (feat. Sam Martin)\n",
      "Failed requesting What I Did for Love (feat. Emeli Sandé)\n",
      "Failed requesting What I Did for Love (feat. Emeli Sandé)\n",
      "Failed requesting What I Did for Love (feat. Emeli Sandé)\n",
      "Failed requesting No Money No Love (feat. Elliphant & Ms. Dynamite)\n",
      "Failed requesting No Money No Love (feat. Elliphant & Ms. Dynamite)\n",
      "Failed requesting No Money No Love (feat. Elliphant & Ms. Dynamite)\n",
      "Failed requesting Lovers on the Sun (feat. Sam Martin)\n"
     ]
    },
    {
     "name": "stderr",
     "output_type": "stream",
     "text": [
      "Processing David Guetta_tracks.parquet:  33%|███▎      | 140/426 [00:03<00:07, 40.85it/s]"
     ]
    },
    {
     "name": "stdout",
     "output_type": "stream",
     "text": [
      "Failed requesting Lovers on the Sun (feat. Sam Martin)\n",
      "Failed requesting Lovers on the Sun (feat. Sam Martin)\n",
      "Failed requesting Goodbye Friend (feat. The Script)\n",
      "Failed requesting Goodbye Friend (feat. The Script)\n",
      "Failed requesting Goodbye Friend (feat. The Script)\n",
      "Failed requesting Lift Me Up (feat. Nico & Vinz, Ladysmith Black Mambazo)\n",
      "Failed requesting Lift Me Up (feat. Nico & Vinz, Ladysmith Black Mambazo)\n",
      "Failed requesting Lift Me Up (feat. Nico & Vinz, Ladysmith Black Mambazo)\n",
      "Failed requesting Listen (feat. John Legend)\n"
     ]
    },
    {
     "name": "stderr",
     "output_type": "stream",
     "text": [
      "Processing David Guetta_tracks.parquet:  35%|███▌      | 150/426 [00:03<00:06, 41.63it/s]"
     ]
    },
    {
     "name": "stdout",
     "output_type": "stream",
     "text": [
      "Failed requesting Listen (feat. John Legend)\n",
      "Failed requesting Listen (feat. John Legend)\n",
      "Failed requesting Bang My Head (feat. Sia)\n",
      "Failed requesting Bang My Head (feat. Sia)\n",
      "Failed requesting Bang My Head (feat. Sia)\n",
      "Failed requesting Yesterday (feat. Bebe Rexha)\n",
      "Failed requesting Yesterday (feat. Bebe Rexha)\n",
      "Failed requesting Yesterday (feat. Bebe Rexha)\n",
      "Failed requesting Hey Mama (feat. Nicki Minaj, Bebe Rexha & Afrojack)\n"
     ]
    },
    {
     "name": "stderr",
     "output_type": "stream",
     "text": [
      "Processing David Guetta_tracks.parquet:  38%|███▊      | 160/426 [00:03<00:06, 42.33it/s]"
     ]
    },
    {
     "name": "stdout",
     "output_type": "stream",
     "text": [
      "Failed requesting Hey Mama (feat. Nicki Minaj, Bebe Rexha & Afrojack)\n",
      "Failed requesting Hey Mama (feat. Nicki Minaj, Bebe Rexha & Afrojack)\n",
      "Failed requesting Sun Goes Down (feat. MAGIC! & Sonny Wilson)\n",
      "Failed requesting Sun Goes Down (feat. MAGIC! & Sonny Wilson)\n",
      "Failed requesting Sun Goes Down (feat. MAGIC! & Sonny Wilson)\n",
      "Failed requesting S.T.O.P (feat. Ryan Tedder)\n",
      "Failed requesting S.T.O.P (feat. Ryan Tedder)\n",
      "Failed requesting S.T.O.P (feat. Ryan Tedder)\n",
      "Failed requesting I'll Keep Loving You (feat. Birdy & Jaymes Young)\n"
     ]
    },
    {
     "name": "stderr",
     "output_type": "stream",
     "text": [
      "Processing David Guetta_tracks.parquet:  39%|███▊      | 165/426 [00:04<00:06, 42.54it/s]"
     ]
    },
    {
     "name": "stdout",
     "output_type": "stream",
     "text": [
      "Failed requesting I'll Keep Loving You (feat. Birdy & Jaymes Young)\n",
      "Failed requesting I'll Keep Loving You (feat. Birdy & Jaymes Young)\n",
      "Failed requesting The Whisperer (feat. Sia)\n",
      "Failed requesting The Whisperer (feat. Sia)\n",
      "Failed requesting The Whisperer (feat. Sia)\n",
      "Failed requesting Bad (feat. Vassy) - Radio Edit\n",
      "Failed requesting Bad (feat. Vassy) - Radio Edit\n",
      "Failed requesting Bad (feat. Vassy) - Radio Edit\n",
      "Failed requesting Shot Me Down (feat. Skylar Grey) - Radio Edit\n"
     ]
    },
    {
     "name": "stderr",
     "output_type": "stream",
     "text": [
      "Processing David Guetta_tracks.parquet:  40%|███▉      | 170/426 [00:04<00:06, 42.30it/s]"
     ]
    },
    {
     "name": "stdout",
     "output_type": "stream",
     "text": [
      "Failed requesting Shot Me Down (feat. Skylar Grey) - Radio Edit\n",
      "Failed requesting Shot Me Down (feat. Skylar Grey) - Radio Edit\n"
     ]
    },
    {
     "name": "stderr",
     "output_type": "stream",
     "text": [
      "Processing David Guetta_tracks.parquet:  41%|████      | 175/426 [00:07<00:52,  4.80it/s]"
     ]
    },
    {
     "name": "stdout",
     "output_type": "stream",
     "text": [
      "Failed requesting Intro - Track by Track\n",
      "Failed requesting Dangerous - Track by Track\n"
     ]
    },
    {
     "name": "stderr",
     "output_type": "stream",
     "text": [
      "Processing David Guetta_tracks.parquet:  43%|████▎     | 182/426 [00:11<01:32,  2.64it/s]"
     ]
    },
    {
     "name": "stdout",
     "output_type": "stream",
     "text": [
      "Failed requesting Goodbye Friend - Track by Track\n",
      "Failed requesting Lift Me Up - Track by Track\n"
     ]
    },
    {
     "name": "stderr",
     "output_type": "stream",
     "text": [
      "Processing David Guetta_tracks.parquet:  43%|████▎     | 184/426 [00:12<01:37,  2.47it/s]"
     ]
    },
    {
     "name": "stdout",
     "output_type": "stream",
     "text": [
      "Failed requesting Bang My Head - Track by Track\n"
     ]
    },
    {
     "name": "stderr",
     "output_type": "stream",
     "text": [
      "Processing David Guetta_tracks.parquet:  45%|████▍     | 191/426 [00:13<01:01,  3.80it/s]"
     ]
    },
    {
     "name": "stdout",
     "output_type": "stream",
     "text": [
      "Failed requesting Hey Mama - Track by Track\n",
      "Failed requesting Sun Goes Down - Track by Track\n",
      "Failed requesting S.T.O.P - Track by Track\n",
      "Failed requesting I'll Keep Loving You - Track by Track\n",
      "Failed requesting The Whisperer - Track by Track\n"
     ]
    },
    {
     "name": "stderr",
     "output_type": "stream",
     "text": [
      "Processing David Guetta_tracks.parquet:  46%|████▋     | 198/426 [00:14<00:44,  5.09it/s]"
     ]
    },
    {
     "name": "stdout",
     "output_type": "stream",
     "text": [
      "Failed requesting Titanium (feat. Sia)\n",
      "Failed requesting Titanium (feat. Sia)\n",
      "Failed requesting Turn Me On (feat. Nicki Minaj)\n",
      "Failed requesting Turn Me On (feat. Nicki Minaj)\n",
      "Failed requesting Turn Me On (feat. Nicki Minaj)\n",
      "Failed requesting She Wolf (Falling to Pieces) [feat. Sia]\n",
      "Failed requesting She Wolf (Falling to Pieces) [feat. Sia]\n",
      "Failed requesting She Wolf (Falling to Pieces) [feat. Sia]\n",
      "Failed requesting Without You (feat. Usher)\n",
      "Failed requesting Without You (feat. Usher)\n"
     ]
    },
    {
     "name": "stderr",
     "output_type": "stream",
     "text": [
      "Processing David Guetta_tracks.parquet:  49%|████▉     | 208/426 [00:15<00:20, 10.46it/s]"
     ]
    },
    {
     "name": "stdout",
     "output_type": "stream",
     "text": [
      "Failed requesting Without You (feat. Usher)\n",
      "Failed requesting I Can Only Imagine (feat. Chris Brown & Lil Wayne)\n",
      "Failed requesting I Can Only Imagine (feat. Chris Brown & Lil Wayne)\n",
      "Failed requesting I Can Only Imagine (feat. Chris Brown & Lil Wayne)\n",
      "Failed requesting Play Hard (feat. Ne-Yo & Akon)\n",
      "Failed requesting Play Hard (feat. Ne-Yo & Akon)\n",
      "Failed requesting Play Hard (feat. Ne-Yo & Akon)\n",
      "Failed requesting Wild One Two (feat. David Guetta, Nicky Romero & Sia) - Compilation Edit\n",
      "Failed requesting Just One Last Time (feat. Taped Rai)\n"
     ]
    },
    {
     "name": "stderr",
     "output_type": "stream",
     "text": [
      "Processing David Guetta_tracks.parquet:  51%|█████     | 218/426 [00:15<00:11, 17.58it/s]"
     ]
    },
    {
     "name": "stdout",
     "output_type": "stream",
     "text": [
      "Failed requesting Just One Last Time (feat. Taped Rai)\n",
      "Failed requesting Just One Last Time (feat. Taped Rai)\n",
      "Failed requesting In My Head (feat. Nervo)\n",
      "Failed requesting In My Head (feat. Nervo)\n",
      "Failed requesting In My Head (feat. Nervo)\n",
      "Failed requesting Where Them Girls At (feat. Nicki Minaj & Flo Rida)\n",
      "Failed requesting Where Them Girls At (feat. Nicki Minaj & Flo Rida)\n",
      "Failed requesting Where Them Girls At (feat. Nicki Minaj & Flo Rida)\n",
      "Failed requesting Little Bad Girl (feat. Taio Cruz & Ludacris)\n",
      "Failed requesting Little Bad Girl (feat. Taio Cruz & Ludacris)\n"
     ]
    },
    {
     "name": "stderr",
     "output_type": "stream",
     "text": [
      "Processing David Guetta_tracks.parquet:  54%|█████▎    | 228/426 [00:15<00:07, 25.45it/s]"
     ]
    },
    {
     "name": "stdout",
     "output_type": "stream",
     "text": [
      "Failed requesting Little Bad Girl (feat. Taio Cruz & Ludacris)\n",
      "Failed requesting Sweat - Remix\n",
      "Failed requesting Sweat - Remix\n",
      "Failed requesting Sweat - Remix\n",
      "Failed requesting Sweat - Remix\n",
      "Failed requesting Crank It Up (feat. Akon)\n",
      "Failed requesting Crank It Up (feat. Akon)\n",
      "Failed requesting Crank It Up (feat. Akon)\n",
      "Failed requesting Nothing Really Matters (feat. will.i.am)\n",
      "Failed requesting Nothing Really Matters (feat. will.i.am)\n"
     ]
    },
    {
     "name": "stderr",
     "output_type": "stream",
     "text": [
      "Processing David Guetta_tracks.parquet:  56%|█████▌    | 238/426 [00:15<00:05, 31.97it/s]"
     ]
    },
    {
     "name": "stdout",
     "output_type": "stream",
     "text": [
      "Failed requesting Nothing Really Matters (feat. will.i.am)\n",
      "Failed requesting I Just Wanna F. (feat. Timbaland & Dev)\n",
      "Failed requesting I Just Wanna F. (feat. Timbaland & Dev)\n",
      "Failed requesting I Just Wanna F. (feat. Timbaland & Dev)\n",
      "Failed requesting Night of Your Life (feat. Jennifer Hudson)\n",
      "Failed requesting Night of Your Life (feat. Jennifer Hudson)\n",
      "Failed requesting Night of Your Life (feat. Jennifer Hudson)\n",
      "Failed requesting Repeat (feat. Jessie J)\n",
      "Failed requesting Repeat (feat. Jessie J)\n"
     ]
    },
    {
     "name": "stderr",
     "output_type": "stream",
     "text": [
      "Processing David Guetta_tracks.parquet:  57%|█████▋    | 243/426 [00:16<00:05, 33.73it/s]"
     ]
    },
    {
     "name": "stdout",
     "output_type": "stream",
     "text": [
      "Failed requesting Repeat (feat. Jessie J)\n",
      "Failed requesting Every Chance We Get We Run (feat. Tegan & Sara)\n",
      "Failed requesting Every Chance We Get We Run (feat. Tegan & Sara)\n",
      "Failed requesting Every Chance We Get We Run (feat. Tegan & Sara)\n",
      "Failed requesting Sunshine\n",
      "Failed requesting Sunshine\n",
      "Failed requesting Sunshine\n",
      "Failed requesting Lunar\n"
     ]
    },
    {
     "name": "stderr",
     "output_type": "stream",
     "text": [
      "Processing David Guetta_tracks.parquet:  58%|█████▊    | 248/426 [00:16<00:04, 35.76it/s]"
     ]
    },
    {
     "name": "stdout",
     "output_type": "stream",
     "text": [
      "Failed requesting Lunar\n",
      "Failed requesting Titanium (feat. Sia)\n",
      "Failed requesting Titanium (feat. Sia)\n"
     ]
    },
    {
     "name": "stderr",
     "output_type": "stream",
     "text": [
      "Processing David Guetta_tracks.parquet:  61%|██████    | 259/426 [00:23<01:09,  2.40it/s]"
     ]
    },
    {
     "name": "stdout",
     "output_type": "stream",
     "text": [
      "Failed requesting Without You (feat. Usher)\n",
      "Failed requesting Without You (feat. Usher)\n",
      "Failed requesting Without You (feat. Usher)\n"
     ]
    },
    {
     "name": "stderr",
     "output_type": "stream",
     "text": [
      "Processing David Guetta_tracks.parquet:  62%|██████▏   | 264/426 [00:26<01:24,  1.91it/s]"
     ]
    },
    {
     "name": "stdout",
     "output_type": "stream",
     "text": [
      "Failed requesting Play Hard (feat. Ne-Yo & Akon)\n"
     ]
    },
    {
     "name": "stderr",
     "output_type": "stream",
     "text": [
      "Processing David Guetta_tracks.parquet:  64%|██████▎   | 271/426 [00:27<00:47,  3.24it/s]"
     ]
    },
    {
     "name": "stdout",
     "output_type": "stream",
     "text": [
      "Failed requesting Play Hard (feat. Ne-Yo & Akon)\n",
      "Failed requesting Just One Last Time (feat. Taped Rai)\n",
      "Failed requesting Just One Last Time (feat. Taped Rai)\n",
      "Failed requesting Just One Last Time (feat. Taped Rai)\n",
      "Failed requesting In My Head (feat. Nervo)\n",
      "Failed requesting In My Head (feat. Nervo)\n",
      "Failed requesting In My Head (feat. Nervo)\n",
      "Failed requesting Where Them Girls At (feat. Nicki Minaj & Flo Rida)\n",
      "Failed requesting Where Them Girls At (feat. Nicki Minaj & Flo Rida)\n"
     ]
    },
    {
     "name": "stderr",
     "output_type": "stream",
     "text": [
      "Processing David Guetta_tracks.parquet:  66%|██████▌   | 281/426 [00:28<00:19,  7.27it/s]"
     ]
    },
    {
     "name": "stdout",
     "output_type": "stream",
     "text": [
      "Failed requesting Where Them Girls At (feat. Nicki Minaj & Flo Rida)\n",
      "Failed requesting Little Bad Girl (feat. Taio Cruz & Ludacris)\n",
      "Failed requesting Little Bad Girl (feat. Taio Cruz & Ludacris)\n",
      "Failed requesting Little Bad Girl (feat. Taio Cruz & Ludacris)\n",
      "Failed requesting Sweat - Remix\n",
      "Failed requesting Sweat - Remix\n",
      "Failed requesting Sweat - Remix\n",
      "Failed requesting Sweat - Remix\n",
      "Failed requesting Crank It Up (feat. Akon)\n",
      "Failed requesting Crank It Up (feat. Akon)\n"
     ]
    },
    {
     "name": "stderr",
     "output_type": "stream",
     "text": [
      "Processing David Guetta_tracks.parquet:  67%|██████▋   | 286/426 [00:29<00:23,  5.96it/s]"
     ]
    },
    {
     "name": "stdout",
     "output_type": "stream",
     "text": [
      "Failed requesting Nothing Really Matters (feat. will.i.am)\n"
     ]
    },
    {
     "name": "stderr",
     "output_type": "stream",
     "text": [
      "Processing David Guetta_tracks.parquet:  70%|██████▉   | 298/426 [00:35<00:41,  3.07it/s]"
     ]
    },
    {
     "name": "stdout",
     "output_type": "stream",
     "text": [
      "Failed requesting Night of Your Life (feat. Jennifer Hudson)\n",
      "Failed requesting Night of Your Life (feat. Jennifer Hudson)\n",
      "Failed requesting Repeat (feat. Jessie J)\n",
      "Failed requesting Repeat (feat. Jessie J)\n",
      "Failed requesting Repeat (feat. Jessie J)\n"
     ]
    },
    {
     "name": "stderr",
     "output_type": "stream",
     "text": [
      "Processing David Guetta_tracks.parquet:  72%|███████▏  | 307/426 [00:39<00:40,  2.93it/s]"
     ]
    },
    {
     "name": "stdout",
     "output_type": "stream",
     "text": [
      "Failed requesting Sunshine - Edit\n",
      "Failed requesting Lunar - Edit\n",
      "Failed requesting Sweat - Remix\n",
      "Failed requesting Sweat - Remix\n",
      "Failed requesting Sweat - Remix\n",
      "Failed requesting Sweat - Remix\n",
      "Failed requesting Where Them Girls At (feat. Nicki Minaj & Flo Rida)\n",
      "Failed requesting Little Bad Girl (feat. Taio Cruz & Ludacris)\n"
     ]
    },
    {
     "name": "stderr",
     "output_type": "stream",
     "text": [
      "Processing David Guetta_tracks.parquet:  74%|███████▍  | 315/426 [00:40<00:19,  5.63it/s]"
     ]
    },
    {
     "name": "stdout",
     "output_type": "stream",
     "text": [
      "Failed requesting Turn Me On (feat. Nicki Minaj)\n",
      "Failed requesting Without You (feat. Usher)\n",
      "Failed requesting Nothing Really Matters (feat. will.i.am)\n",
      "Failed requesting I Can Only Imagine (feat. Chris Brown & Lil Wayne)\n",
      "Failed requesting Crank It Up (feat. Akon)\n",
      "Failed requesting I Just Wanna F. (feat. Timbaland & Dev)\n"
     ]
    },
    {
     "name": "stderr",
     "output_type": "stream",
     "text": [
      "Processing David Guetta_tracks.parquet:  75%|███████▍  | 319/426 [00:40<00:13,  7.76it/s]"
     ]
    },
    {
     "name": "stdout",
     "output_type": "stream",
     "text": [
      "Failed requesting Lunar\n",
      "Failed requesting Night of Your Life (feat. Jennifer Hudson)\n",
      "Failed requesting Repeat (feat. Jessie J)\n",
      "Failed requesting Titanium (feat. Sia)\n"
     ]
    },
    {
     "name": "stderr",
     "output_type": "stream",
     "text": [
      "Processing David Guetta_tracks.parquet:  76%|███████▋  | 325/426 [00:41<00:14,  6.80it/s]"
     ]
    },
    {
     "name": "stdout",
     "output_type": "stream",
     "text": [
      "Failed requesting Little Bad Girl - Bonus Commentary\n",
      "Failed requesting Turn Me On - Bonus Commentary\n",
      "Failed requesting Sweat - Bonus Commentary\n",
      "Failed requesting Without You - Bonus Commentary\n",
      "Failed requesting Nothing Really Matters - Bonus Commentary\n"
     ]
    },
    {
     "name": "stderr",
     "output_type": "stream",
     "text": [
      "Processing David Guetta_tracks.parquet:  77%|███████▋  | 328/426 [00:42<00:20,  4.84it/s]"
     ]
    },
    {
     "name": "stdout",
     "output_type": "stream",
     "text": [
      "Failed requesting Crank It Up - Bonus Commentary\n"
     ]
    },
    {
     "name": "stderr",
     "output_type": "stream",
     "text": [
      "Processing David Guetta_tracks.parquet:  77%|███████▋  | 330/426 [00:44<00:36,  2.63it/s]"
     ]
    },
    {
     "name": "stdout",
     "output_type": "stream",
     "text": [
      "Failed requesting Repeat - Bonus Commentary\n"
     ]
    },
    {
     "name": "stderr",
     "output_type": "stream",
     "text": [
      "Processing David Guetta_tracks.parquet:  78%|███████▊  | 332/426 [00:45<00:39,  2.40it/s]"
     ]
    },
    {
     "name": "stdout",
     "output_type": "stream",
     "text": [
      "Failed requesting The Alphabeat - Bonus Commentary\n",
      "Failed requesting Lunar - Bonus Commentary\n",
      "Failed requesting Sunshine - Bonus Commentary\n"
     ]
    },
    {
     "name": "stderr",
     "output_type": "stream",
     "text": [
      "Processing David Guetta_tracks.parquet:  79%|███████▉  | 337/426 [00:47<00:39,  2.24it/s]"
     ]
    },
    {
     "name": "stdout",
     "output_type": "stream",
     "text": [
      "Failed requesting Toy Story - Bonus Commentary\n",
      "Failed requesting The Future - Bonus Commentary\n"
     ]
    },
    {
     "name": "stderr",
     "output_type": "stream",
     "text": [
      "Processing David Guetta_tracks.parquet:  92%|█████████▏| 392/426 [01:42<00:35,  1.04s/it]"
     ]
    },
    {
     "name": "stdout",
     "output_type": "stream",
     "text": [
      "Failed requesting Sunshine\n",
      "Failed requesting Sunshine\n",
      "Failed requesting Sunshine\n"
     ]
    },
    {
     "name": "stderr",
     "output_type": "stream",
     "text": [
      "Processing David Guetta_tracks.parquet:  94%|█████████▍| 401/426 [01:45<00:08,  3.05it/s]"
     ]
    },
    {
     "name": "stdout",
     "output_type": "stream",
     "text": [
      "Failed requesting Sunshine\n",
      "Failed requesting Sunshine\n",
      "Failed requesting Sunshine\n",
      "Failed requesting Lunar\n",
      "Failed requesting Lunar\n",
      "Failed requesting The Alphabeat\n"
     ]
    },
    {
     "name": "stderr",
     "output_type": "stream",
     "text": [
      "Processing David Guetta_tracks.parquet:  95%|█████████▍| 404/426 [01:46<00:07,  2.94it/s]"
     ]
    },
    {
     "name": "stdout",
     "output_type": "stream",
     "text": [
      "Failed requesting Metro Music\n",
      "Failed requesting Toy Story\n",
      "Failed requesting The Future\n"
     ]
    },
    {
     "name": "stderr",
     "output_type": "stream",
     "text": [
      "Processing David Guetta_tracks.parquet:  96%|█████████▌| 408/426 [01:47<00:05,  3.10it/s]"
     ]
    },
    {
     "name": "stdout",
     "output_type": "stream",
     "text": [
      "Failed requesting Paris\n",
      "Failed requesting Glasgow\n"
     ]
    },
    {
     "name": "stderr",
     "output_type": "stream",
     "text": [
      "Processing David Guetta_tracks.parquet: 100%|██████████| 426/426 [02:04<00:00,  3.43it/s]\n",
      "Processing David Holmes_tracks.parquet:   2%|▏         | 4/248 [00:00<00:07, 31.98it/s]"
     ]
    },
    {
     "name": "stdout",
     "output_type": "stream",
     "text": [
      "Failed requesting Welcome To Brexit Britain\n",
      "Failed requesting Meanwhile In Wuhan\n",
      "Failed requesting AstraZeneca\n",
      "Failed requesting Herd Immunity\n",
      "Failed requesting Care Homes Catastrophe\n"
     ]
    },
    {
     "name": "stderr",
     "output_type": "stream",
     "text": [
      "Processing David Holmes_tracks.parquet:   5%|▍         | 12/248 [00:00<00:08, 29.14it/s]"
     ]
    },
    {
     "name": "stdout",
     "output_type": "stream",
     "text": [
      "Failed requesting Why? Why? Why?\n",
      "Failed requesting Why Are They Not Testing?\n",
      "Failed requesting A Very Different Britain\n",
      "Failed requesting 15,000 Discharged from Care Homes\n",
      "Failed requesting No Morality\n",
      "Failed requesting National Health Service\n",
      "Failed requesting Test! Test! Test!\n",
      "Failed requesting Another Break at Chequers\n"
     ]
    },
    {
     "name": "stderr",
     "output_type": "stream",
     "text": [
      "Processing David Holmes_tracks.parquet:   8%|▊         | 20/248 [00:00<00:07, 32.26it/s]"
     ]
    },
    {
     "name": "stdout",
     "output_type": "stream",
     "text": [
      "Failed requesting Jobs for the Boys\n",
      "Failed requesting Forget About The Floods\n",
      "Failed requesting Human Too Human\n",
      "Failed requesting Failure of Leadership\n",
      "Failed requesting The Resistance\n",
      "Failed requesting Borsalino Enters the Room\n",
      "Failed requesting Morse Code\n",
      "Failed requesting The Siren Tower\n"
     ]
    },
    {
     "name": "stderr",
     "output_type": "stream",
     "text": [
      "Processing David Holmes_tracks.parquet:  11%|█▏        | 28/248 [00:01<00:08, 26.36it/s]"
     ]
    },
    {
     "name": "stdout",
     "output_type": "stream",
     "text": [
      "Failed requesting The 3 Specialists Faster\n",
      "Failed requesting Got the Blow\n",
      "Failed requesting The Plan\n",
      "Failed requesting Fabri Goes to Monte Carlo\n",
      "Failed requesting Lamberti\n",
      "Failed requesting The Weapons\n",
      "Failed requesting A Waiter with a Gun\n",
      "Failed requesting This Can Be Yours\n"
     ]
    },
    {
     "name": "stderr",
     "output_type": "stream",
     "text": [
      "Processing David Holmes_tracks.parquet:  13%|█▎        | 32/248 [00:01<00:07, 29.25it/s]"
     ]
    },
    {
     "name": "stdout",
     "output_type": "stream",
     "text": [
      "Failed requesting The Facists Arrive\n",
      "Failed requesting Did you Find Them?\n",
      "Failed requesting Pregnant\n",
      "Failed requesting 50-50\n",
      "Failed requesting 3 Days to the Heist\n",
      "Failed requesting Screw the Duce\n",
      "Failed requesting Give me a Black Eye\n"
     ]
    },
    {
     "name": "stderr",
     "output_type": "stream",
     "text": [
      "Processing David Holmes_tracks.parquet:  18%|█▊        | 44/248 [00:01<00:06, 31.89it/s]"
     ]
    },
    {
     "name": "stdout",
     "output_type": "stream",
     "text": [
      "Failed requesting No Sudden Move (Main Title Theme)\n",
      "Failed requesting Watkins Code Book Goes Missing\n",
      "Failed requesting You'll Figure It Out\n",
      "Failed requesting Wertz Goes to the Office\n",
      "Failed requesting I'll Call with Instructions\n",
      "Failed requesting Charley's Dead\n",
      "Failed requesting This Thing's Bigger Than Frank\n",
      "Failed requesting Hi, Clarisse\n",
      "Failed requesting Depends What You Think It Is\n"
     ]
    },
    {
     "name": "stderr",
     "output_type": "stream",
     "text": [
      "Processing David Holmes_tracks.parquet:  21%|██        | 52/248 [00:01<00:05, 35.17it/s]"
     ]
    },
    {
     "name": "stdout",
     "output_type": "stream",
     "text": [
      "Failed requesting Joe Finney Investigates\n",
      "Failed requesting Matt Wertz, Accounting\n",
      "Failed requesting This Is a Punch\n",
      "Failed requesting Don't Worry, I'm Not Gonna Bite\n",
      "Failed requesting Capelli Wants You Dead, Watkins Wants You Alive\n",
      "Failed requesting I Offer You an Olive Branch\n",
      "Failed requesting Vanessa Kills Frank\n",
      "Failed requesting They Got Everything They Need\n",
      "Failed requesting Humpty Dumpty Motel\n"
     ]
    },
    {
     "name": "stderr",
     "output_type": "stream",
     "text": [
      "Processing David Holmes_tracks.parquet:  24%|██▍       | 60/248 [00:01<00:05, 34.06it/s]"
     ]
    },
    {
     "name": "stdout",
     "output_type": "stream",
     "text": [
      "Failed requesting You Still Don't Remember Me, Do You?\n",
      "Failed requesting I Believe You Have Something of Mine\n",
      "Failed requesting Ordinary Love\n",
      "Failed requesting Mammogram\n",
      "Failed requesting Good Man\n",
      "Failed requesting Power Walking\n",
      "Failed requesting Peter And Steve\n"
     ]
    },
    {
     "name": "stderr",
     "output_type": "stream",
     "text": [
      "Processing David Holmes_tracks.parquet:  26%|██▌       | 64/248 [00:02<00:05, 35.18it/s]"
     ]
    },
    {
     "name": "stdout",
     "output_type": "stream",
     "text": [
      "Failed requesting To And Fro\n",
      "Failed requesting It'll Be Over In No Time\n",
      "Failed requesting Check Up\n",
      "Failed requesting Dreaming\n",
      "Failed requesting Mammogram Erased\n",
      "Failed requesting Chemotherapy\n"
     ]
    },
    {
     "name": "stderr",
     "output_type": "stream",
     "text": [
      "Processing David Holmes_tracks.parquet:  29%|██▉       | 72/248 [00:02<00:05, 31.65it/s]"
     ]
    },
    {
     "name": "stdout",
     "output_type": "stream",
     "text": [
      "Failed requesting More Power Walking\n",
      "Failed requesting Normal People\n",
      "Failed requesting Love\n",
      "Failed requesting Every Moment\n",
      "Failed requesting The Haircut\n",
      "Failed requesting Debbie\n",
      "Failed requesting MRI Again\n",
      "Failed requesting Isn't It So\n"
     ]
    },
    {
     "name": "stderr",
     "output_type": "stream",
     "text": [
      "Processing David Holmes_tracks.parquet:  32%|███▏      | 80/248 [00:02<00:05, 31.97it/s]"
     ]
    },
    {
     "name": "stdout",
     "output_type": "stream",
     "text": [
      "Failed requesting Theme From Mosaic\n",
      "Failed requesting Four Years Later\n",
      "Failed requesting That Is Most Definitely Him\n",
      "Failed requesting I've Instructed Them To Check The Dumpsters\n",
      "Failed requesting What I Want Is The Red Room\n",
      "Failed requesting Does It Matter Which Side Of Her Jaw Was Hit?\n",
      "Failed requesting I Don't Trust Her\n",
      "Failed requesting Olivia Lake\n"
     ]
    },
    {
     "name": "stderr",
     "output_type": "stream",
     "text": [
      "Processing David Holmes_tracks.parquet:  35%|███▌      | 88/248 [00:02<00:04, 34.52it/s]"
     ]
    },
    {
     "name": "stdout",
     "output_type": "stream",
     "text": [
      "Failed requesting Petra Enters The Red Room\n",
      "Failed requesting Body Removal\n",
      "Failed requesting Francis, I Need You To Focus\n",
      "Failed requesting Pull Over Joel, Just Pull Over!!\n",
      "Failed requesting Ask Clarence\n",
      "Failed requesting Deep Down You're Lonely\n",
      "Failed requesting Eric Neill Is Left Handed\n",
      "Failed requesting I Prefer Your Suspicion To Your Pity\n"
     ]
    },
    {
     "name": "stderr",
     "output_type": "stream",
     "text": [
      "Processing David Holmes_tracks.parquet:  39%|███▊      | 96/248 [00:03<00:04, 36.72it/s]"
     ]
    },
    {
     "name": "stdout",
     "output_type": "stream",
     "text": [
      "Failed requesting Sorry I Have No Comment\n",
      "Failed requesting Strange Shirt Found With Body\n",
      "Failed requesting I Know What I Have To Do\n",
      "Failed requesting Mosaic\n",
      "Failed requesting Great Father Spirit in the Sky\n",
      "Failed requesting The Reiki Healer from County Down\n",
      "Failed requesting It's a Long Way to Heaven\n",
      "Failed requesting Slythtovery\n",
      "Failed requesting Talking Judgement Day Blues\n"
     ]
    },
    {
     "name": "stderr",
     "output_type": "stream",
     "text": [
      "Processing David Holmes_tracks.parquet:  44%|████▍     | 109/248 [00:03<00:03, 38.83it/s]"
     ]
    },
    {
     "name": "stdout",
     "output_type": "stream",
     "text": [
      "Failed requesting Paradise of Replica\n",
      "Failed requesting Ru-Ru (Sleep Little Baby)\n",
      "Failed requesting It's in Every One of Us\n",
      "Failed requesting I'm Not in Love\n",
      "Failed requesting I Won't Hurt You\n",
      "Failed requesting Henry Mccullough\n",
      "Failed requesting Love as a Ghost\n",
      "Failed requesting Stereo Music for Acoustic Guitar, Buchla Music Box 100, Hewlett Packard Model 236 Oscillator, Electric Guitar and Computer, Pt. 1\n",
      "Failed requesting Into Forever\n"
     ]
    },
    {
     "name": "stderr",
     "output_type": "stream",
     "text": [
      "Processing David Holmes_tracks.parquet:  46%|████▌     | 114/248 [00:03<00:03, 38.35it/s]"
     ]
    },
    {
     "name": "stdout",
     "output_type": "stream",
     "text": [
      "Failed requesting Andrew Parsnip\n",
      "Failed requesting Gloomy Sunday\n",
      "Failed requesting Elsewhere Anchises\n",
      "Failed requesting Late Night Tales: David Holmes (God's Waiting Room Continuous Mix)\n",
      "Failed requesting Haywire\n",
      "Failed requesting Upstate NYC\n",
      "Failed requesting Barcelona\n",
      "Failed requesting Stakeout\n"
     ]
    },
    {
     "name": "stderr",
     "output_type": "stream",
     "text": [
      "Processing David Holmes_tracks.parquet:  49%|████▉     | 122/248 [00:03<00:03, 35.13it/s]"
     ]
    },
    {
     "name": "stdout",
     "output_type": "stream",
     "text": [
      "Failed requesting Let's Get Jiang\n",
      "Failed requesting Delivering Jiang\n",
      "Failed requesting Dublin\n",
      "Failed requesting Sniffing Around\n",
      "Failed requesting The Drive Rossbourgh\n",
      "Failed requesting Looking For Clues\n",
      "Failed requesting Jiang's Dead\n"
     ]
    },
    {
     "name": "stderr",
     "output_type": "stream",
     "text": [
      "Processing David Holmes_tracks.parquet:  52%|█████▏    | 130/248 [00:03<00:03, 33.86it/s]"
     ]
    },
    {
     "name": "stdout",
     "output_type": "stream",
     "text": [
      "Failed requesting Shot In The Face\n",
      "Failed requesting Dublin Chase\n",
      "Failed requesting Against All Odds\n",
      "Failed requesting Against All Odds - Pt. 2\n",
      "Failed requesting The Ship Comes In\n",
      "Failed requesting No Eye Dear\n",
      "Failed requesting Where's Kenneth\n"
     ]
    },
    {
     "name": "stderr",
     "output_type": "stream",
     "text": [
      "Processing David Holmes_tracks.parquet:  54%|█████▍    | 134/248 [00:04<00:03, 34.07it/s]"
     ]
    },
    {
     "name": "stdout",
     "output_type": "stream",
     "text": [
      "Failed requesting Haywire\n",
      "Failed requesting Upstate NYC\n",
      "Failed requesting Barcelona\n",
      "Failed requesting Stakeout\n",
      "Failed requesting Let's Get Jiang\n",
      "Failed requesting Delivering Jiang\n",
      "Failed requesting Dublin\n"
     ]
    },
    {
     "name": "stderr",
     "output_type": "stream",
     "text": [
      "Processing David Holmes_tracks.parquet:  57%|█████▋    | 142/248 [00:04<00:03, 34.01it/s]"
     ]
    },
    {
     "name": "stdout",
     "output_type": "stream",
     "text": [
      "Failed requesting Sniffing Around\n",
      "Failed requesting The Drive Rossbourgh\n",
      "Failed requesting Looking For Clues\n",
      "Failed requesting Jiang's Dead\n",
      "Failed requesting Shot In The Face\n",
      "Failed requesting Dublin Chase\n",
      "Failed requesting Against All Odds\n"
     ]
    },
    {
     "name": "stderr",
     "output_type": "stream",
     "text": [
      "Processing David Holmes_tracks.parquet:  60%|██████    | 150/248 [00:04<00:02, 34.19it/s]"
     ]
    },
    {
     "name": "stdout",
     "output_type": "stream",
     "text": [
      "Failed requesting Against All Odds - Pt. 2\n",
      "Failed requesting The Ship Comes In\n",
      "Failed requesting No Eye Dear\n",
      "Failed requesting Where's Kenneth\n",
      "Failed requesting I Heard Wonders\n",
      "Failed requesting Story Of The Ink\n",
      "Failed requesting Love Reign Over Me\n",
      "Failed requesting Theme/I.M.C\n"
     ]
    },
    {
     "name": "stderr",
     "output_type": "stream",
     "text": [
      "Processing David Holmes_tracks.parquet:  65%|██████▍   | 160/248 [00:04<00:02, 36.92it/s]"
     ]
    },
    {
     "name": "stdout",
     "output_type": "stream",
     "text": [
      "Failed requesting Holy Pictures\n",
      "Failed requesting Kill Her With Kindness\n",
      "Failed requesting Melanie\n",
      "Failed requesting Hey Maggy\n",
      "Failed requesting Birth\n",
      "Failed requesting The Ballad Of Sarah And Jack\n",
      "Failed requesting Live From The Peppermint Store\n",
      "Failed requesting Compared To What\n"
     ]
    },
    {
     "name": "stderr",
     "output_type": "stream",
     "text": [
      "Processing David Holmes_tracks.parquet:  68%|██████▊   | 168/248 [00:05<00:02, 36.83it/s]"
     ]
    },
    {
     "name": "stdout",
     "output_type": "stream",
     "text": [
      "Failed requesting Sick City\n",
      "Failed requesting Drexler's Apt. - Aftermath, Afternoon\n",
      "Failed requesting Bad Thing\n",
      "Failed requesting Voices, Siren, Rain\n",
      "Failed requesting Incite A Riot\n",
      "Failed requesting 69 Police\n",
      "Failed requesting Outrun\n",
      "Failed requesting Living Room\n"
     ]
    },
    {
     "name": "stderr",
     "output_type": "stream",
     "text": [
      "Processing David Holmes_tracks.parquet:  71%|███████   | 176/248 [00:05<00:01, 38.17it/s]"
     ]
    },
    {
     "name": "stdout",
     "output_type": "stream",
     "text": [
      "Failed requesting Happiness\n",
      "Failed requesting Slip Your Skin\n",
      "Failed requesting Zero Tolerance\n",
      "Failed requesting Commercial Break\n",
      "Failed requesting Hey Lisa\n",
      "Failed requesting Listen\n",
      "Failed requesting My Mate Paul\n",
      "Failed requesting Let's Get Killed\n",
      "Failed requesting Gritty Shaker\n"
     ]
    },
    {
     "name": "stderr",
     "output_type": "stream",
     "text": [
      "Processing David Holmes_tracks.parquet:  75%|███████▍  | 185/248 [00:05<00:01, 39.00it/s]"
     ]
    },
    {
     "name": "stdout",
     "output_type": "stream",
     "text": [
      "Failed requesting Head Rush On Lafayette\n",
      "Failed requesting Rodney Yates\n",
      "Failed requesting Radio 7\n",
      "Failed requesting The Parcus & Madder Show\n",
      "Failed requesting Slashers Revenge\n",
      "Failed requesting Freaknik\n",
      "Failed requesting Caddell Returns\n",
      "Failed requesting Don't Die Just Yet\n",
      "Failed requesting For You\n"
     ]
    },
    {
     "name": "stderr",
     "output_type": "stream",
     "text": [
      "Processing David Holmes_tracks.parquet:  78%|███████▊  | 193/248 [00:05<00:01, 38.48it/s]"
     ]
    },
    {
     "name": "stdout",
     "output_type": "stream",
     "text": [
      "Failed requesting No Mans Land\n",
      "Failed requesting No Mans Land\n",
      "Failed requesting Slash The Seats\n",
      "Failed requesting Slash The Seats\n",
      "Failed requesting Shake Ya Brain\n",
      "Failed requesting Shake Ya Brain\n",
      "Failed requesting Got Fucked Up Along the Way\n",
      "Failed requesting Got Fucked Up Along the Way\n"
     ]
    },
    {
     "name": "stderr",
     "output_type": "stream",
     "text": [
      "Processing David Holmes_tracks.parquet:  81%|████████▏ | 202/248 [00:05<00:01, 38.61it/s]"
     ]
    },
    {
     "name": "stdout",
     "output_type": "stream",
     "text": [
      "Failed requesting Gone\n",
      "Failed requesting Gone\n",
      "Failed requesting The Atom & You\n",
      "Failed requesting The Atom & You\n",
      "Failed requesting Minus 61 In Detroit\n",
      "Failed requesting Minus 61 In Detroit\n",
      "Failed requesting Inspired By Leyburn\n",
      "Failed requesting Inspired By Leyburn\n",
      "Failed requesting Coming Home To The Sun\n"
     ]
    },
    {
     "name": "stderr",
     "output_type": "stream",
     "text": [
      "Processing David Holmes_tracks.parquet:  85%|████████▌ | 212/248 [00:06<00:00, 40.66it/s]"
     ]
    },
    {
     "name": "stdout",
     "output_type": "stream",
     "text": [
      "Failed requesting Coming Home To The Sun\n",
      "Failed requesting No Mans Land\n",
      "Failed requesting No Mans Land\n",
      "Failed requesting Slash The Seats\n",
      "Failed requesting Slash The Seats\n",
      "Failed requesting Shake Ya Brain\n",
      "Failed requesting Shake Ya Brain\n",
      "Failed requesting Got Fucked Up Along the Way\n",
      "Failed requesting Got Fucked Up Along the Way\n"
     ]
    },
    {
     "name": "stderr",
     "output_type": "stream",
     "text": [
      "Processing David Holmes_tracks.parquet:  88%|████████▊ | 217/248 [00:06<00:00, 33.01it/s]"
     ]
    },
    {
     "name": "stdout",
     "output_type": "stream",
     "text": [
      "Failed requesting Gone\n",
      "Failed requesting Gone\n",
      "Failed requesting The Atom & You\n",
      "Failed requesting The Atom & You\n",
      "Failed requesting Minus 61 In Detroit\n"
     ]
    },
    {
     "name": "stderr",
     "output_type": "stream",
     "text": [
      "Processing David Holmes_tracks.parquet:  90%|████████▉ | 222/248 [00:06<00:00, 35.38it/s]"
     ]
    },
    {
     "name": "stdout",
     "output_type": "stream",
     "text": [
      "Failed requesting Minus 61 In Detroit\n",
      "Failed requesting Inspired By Leyburn\n",
      "Failed requesting Inspired By Leyburn\n",
      "Failed requesting Coming Home To The Sun\n",
      "Failed requesting Coming Home To The Sun\n",
      "Failed requesting Gone - First Night Without Charge\n",
      "Failed requesting Gone - The Kruder & Dorfmeister Session\n",
      "Failed requesting Mosh It\n",
      "Failed requesting Slash The Seats - Slash The Beats Mix\n"
     ]
    },
    {
     "name": "stderr",
     "output_type": "stream",
     "text": [
      "Processing David Holmes_tracks.parquet:  94%|█████████▎| 232/248 [00:06<00:00, 37.30it/s]"
     ]
    },
    {
     "name": "stdout",
     "output_type": "stream",
     "text": [
      "Failed requesting The Connecting Flight Syndrome\n",
      "Failed requesting Smoked Oak\n",
      "Failed requesting Gone - Alter Ego Decoding Gone / Part 2\n",
      "Failed requesting Gone - Second Night Without Charge\n",
      "Failed requesting Outta Sync - David Holmes Remix\n",
      "Failed requesting Outta Sync\n",
      "Failed requesting Welcome To Brexit Britain\n",
      "Failed requesting It's Over If We Run Out Of Love - Darren Emerson Huffa Remix\n"
     ]
    },
    {
     "name": "stderr",
     "output_type": "stream",
     "text": [
      "Processing David Holmes_tracks.parquet:  97%|█████████▋| 240/248 [00:06<00:00, 37.81it/s]"
     ]
    },
    {
     "name": "stdout",
     "output_type": "stream",
     "text": [
      "Failed requesting It's Over If We Run Out Of Love - Lovefingers and Heidi Lawden High Tide Mix\n",
      "Failed requesting It's Over If We Run Out Of Love - Lovefingers and Heidi Lawden Low Tide Mix\n",
      "Failed requesting It's Over If We Run Out Of Love - Working Men's Club Remix\n",
      "Failed requesting It's Over If We Run Out Of Love - Hardway Bros Remix\n",
      "Failed requesting It's Over If We Run Out Of Love - Hardway Bros Live At The SSL Dub\n",
      "Failed requesting It's Over If We Run Out Of Love\n",
      "Failed requesting It's Over If We Run Out Of Love\n",
      "Failed requesting Hope Is The Last Thing To Die - Daniel Avery Remix\n"
     ]
    },
    {
     "name": "stderr",
     "output_type": "stream",
     "text": [
      "Processing David Holmes_tracks.parquet: 100%|██████████| 248/248 [00:07<00:00, 34.74it/s]\n",
      "Processing David Houston_tracks.parquet:   0%|          | 0/264 [00:00<?, ?it/s]"
     ]
    },
    {
     "name": "stdout",
     "output_type": "stream",
     "text": [
      "Failed requesting Hope Is The Last Thing To Die - DIE HEXEN AND RUTH BATE REMIX\n",
      "Failed requesting Hope Is The Last Thing To Die - Extended Mix\n",
      "Failed requesting Hope Is The Last Thing To Die - Timmy Stewart's 11th Hour Mix\n",
      "Failed requesting Hope Is The Last Thing To Die\n",
      "Failed requesting Four Years Later\n",
      "Failed requesting For the Good Times\n",
      "Failed requesting Blue Skies\n"
     ]
    },
    {
     "name": "stderr",
     "output_type": "stream",
     "text": [
      "Processing David Houston_tracks.parquet:   3%|▎         | 8/264 [00:00<00:07, 32.09it/s]"
     ]
    },
    {
     "name": "stdout",
     "output_type": "stream",
     "text": [
      "Failed requesting Have You Ever Been Lonely\n",
      "Failed requesting Oh, How I Miss You Tonight\n",
      "Failed requesting September Song\n",
      "Failed requesting Teardrops in My Heart\n",
      "Failed requesting Thank God I'm a Country Boy\n",
      "Failed requesting Why Me\n",
      "Failed requesting You're My Best Friend\n"
     ]
    },
    {
     "name": "stderr",
     "output_type": "stream",
     "text": [
      "Processing David Houston_tracks.parquet:   5%|▍         | 12/264 [00:00<00:07, 33.08it/s]"
     ]
    },
    {
     "name": "stdout",
     "output_type": "stream",
     "text": [
      "Failed requesting Blue Prelude\n",
      "Failed requesting Hasta Luego\n",
      "Failed requesting I Ain't Goin' There No More\n",
      "Failed requesting One and Only\n",
      "Failed requesting Mountain of Love\n",
      "Failed requesting Chickashay\n"
     ]
    },
    {
     "name": "stderr",
     "output_type": "stream",
     "text": [
      "Processing David Houston_tracks.parquet:   8%|▊         | 20/264 [00:00<00:08, 27.29it/s]"
     ]
    },
    {
     "name": "stdout",
     "output_type": "stream",
     "text": [
      "Failed requesting A Loser's Cathedral\n",
      "Failed requesting One If for Him, Two If for Me\n",
      "Failed requesting Love Looks Good On You\n",
      "Failed requesting Sweet, Sweet Judy\n",
      "Failed requesting Rose-Colored Glasses\n",
      "Failed requesting Livin' In a House Full of Love\n",
      "Failed requesting Almost Persuaded\n",
      "Failed requesting Where Could I Go? (But to Her)\n"
     ]
    },
    {
     "name": "stderr",
     "output_type": "stream",
     "text": [
      "Processing David Houston_tracks.parquet:  11%|█         | 28/264 [00:00<00:07, 32.29it/s]"
     ]
    },
    {
     "name": "stdout",
     "output_type": "stream",
     "text": [
      "Failed requesting I'll Take My Chances with You\n",
      "Failed requesting You Mean the World to Me\n",
      "Failed requesting With One Exception\n",
      "Failed requesting My Elusive Dreams\n",
      "Failed requesting It's All Over\n",
      "Failed requesting Have a Little Faith\n",
      "Failed requesting Down to My Last I Love You\n",
      "Failed requesting Mountain of Love\n"
     ]
    },
    {
     "name": "stderr",
     "output_type": "stream",
     "text": [
      "Processing David Houston_tracks.parquet:  14%|█▎        | 36/264 [00:01<00:06, 32.88it/s]"
     ]
    },
    {
     "name": "stdout",
     "output_type": "stream",
     "text": [
      "Failed requesting Too Far Gone\n",
      "Failed requesting My Woman's Good to Me\n",
      "Failed requesting I do Swiming at Home\n",
      "Failed requesting Wonders of the Mine\n",
      "Failed requesting After Closing Time\n",
      "Failed requesting Secret Love\n",
      "Failed requesting I Can't Stop Loving You\n"
     ]
    },
    {
     "name": "stderr",
     "output_type": "stream",
     "text": [
      "Processing David Houston_tracks.parquet:  17%|█▋        | 44/264 [00:01<00:07, 31.42it/s]"
     ]
    },
    {
     "name": "stdout",
     "output_type": "stream",
     "text": [
      "Failed requesting I Fall to Pieces\n",
      "Failed requesting If I Ever Cross Your Mind\n",
      "Failed requesting Valley of Tears\n",
      "Failed requesting Empty Arms\n",
      "Failed requesting For Your Love\n",
      "Failed requesting Forever My Darling\n",
      "Failed requesting Since I Met You Baby\n"
     ]
    },
    {
     "name": "stderr",
     "output_type": "stream",
     "text": [
      "Processing David Houston_tracks.parquet:  20%|█▉        | 52/264 [00:01<00:06, 32.96it/s]"
     ]
    },
    {
     "name": "stdout",
     "output_type": "stream",
     "text": [
      "Failed requesting What Am I Living For\n",
      "Failed requesting Talk to Me\n",
      "Failed requesting Sea of Love\n",
      "Failed requesting We'll Sing in the Sunshine\n",
      "Failed requesting Blue Skies\n",
      "Failed requesting For the Good Times\n",
      "Failed requesting Have You Ever Been Lonely\n"
     ]
    },
    {
     "name": "stderr",
     "output_type": "stream",
     "text": [
      "Processing David Houston_tracks.parquet:  23%|██▎       | 60/264 [00:01<00:05, 34.45it/s]"
     ]
    },
    {
     "name": "stdout",
     "output_type": "stream",
     "text": [
      "Failed requesting Oh, How I Miss You Tonight\n",
      "Failed requesting Red River Valley\n",
      "Failed requesting September Song\n",
      "Failed requesting Teardrops in My Heart\n",
      "Failed requesting Thank God I'm a Country Boy\n",
      "Failed requesting Why Me\n",
      "Failed requesting You're My Best Friend\n",
      "Failed requesting Almost Persuaded\n"
     ]
    },
    {
     "name": "stderr",
     "output_type": "stream",
     "text": [
      "Processing David Houston_tracks.parquet:  24%|██▍       | 64/264 [00:02<00:06, 30.93it/s]"
     ]
    },
    {
     "name": "stdout",
     "output_type": "stream",
     "text": [
      "Failed requesting With One Exception\n",
      "Failed requesting With One Exception\n",
      "Failed requesting You Mean the World to Me\n",
      "Failed requesting Have a Little Faith\n",
      "Failed requesting Have a Little Faith\n",
      "Failed requesting Already Is Heaven\n",
      "Failed requesting Where Love Used to Live\n"
     ]
    },
    {
     "name": "stderr",
     "output_type": "stream",
     "text": [
      "Processing David Houston_tracks.parquet:  27%|██▋       | 72/264 [00:02<00:05, 33.14it/s]"
     ]
    },
    {
     "name": "stdout",
     "output_type": "stream",
     "text": [
      "Failed requesting Where Love Used to Live\n",
      "Failed requesting My Woman's Good to Me - Re-Recording\n",
      "Failed requesting My Woman's Good to Me - Re-Recording\n",
      "Failed requesting Baby Baby ( I Know You're a Lady)\n",
      "Failed requesting A Woman Always Knows\n",
      "Failed requesting A Woman Always Knows\n",
      "Failed requesting With One Exception\n"
     ]
    },
    {
     "name": "stderr",
     "output_type": "stream",
     "text": [
      "Processing David Houston_tracks.parquet:  31%|███       | 81/264 [00:02<00:05, 35.74it/s]"
     ]
    },
    {
     "name": "stdout",
     "output_type": "stream",
     "text": [
      "Failed requesting With One Exception\n",
      "Failed requesting Have a Little Faith\n",
      "Failed requesting Have a Little Faith\n",
      "Failed requesting Where Love Used to Live\n",
      "Failed requesting Where Love Used to Live\n",
      "Failed requesting A Woman Always Knows\n",
      "Failed requesting A Woman Always Knows\n"
     ]
    },
    {
     "name": "stderr",
     "output_type": "stream",
     "text": [
      "Processing David Houston_tracks.parquet:  32%|███▏      | 85/264 [00:02<00:05, 31.85it/s]"
     ]
    },
    {
     "name": "stdout",
     "output_type": "stream",
     "text": [
      "Failed requesting Mountain of Love\n",
      "Failed requesting Livin' In a House Full of Love\n",
      "Failed requesting Almost Persuaded\n",
      "Failed requesting A Loser's Cathedral\n",
      "Failed requesting You Mean the World to Me\n",
      "Failed requesting Already It's Heaven\n"
     ]
    },
    {
     "name": "stderr",
     "output_type": "stream",
     "text": [
      "Processing David Houston_tracks.parquet:  35%|███▍      | 92/264 [00:02<00:06, 28.46it/s]"
     ]
    },
    {
     "name": "stdout",
     "output_type": "stream",
     "text": [
      "Failed requesting My Woman's Good to Me\n",
      "Failed requesting I'm Down to My Last 'I Love You'\n",
      "Failed requesting I Do My Swinging at Home\n",
      "Failed requesting Wonders of the Wine\n",
      "Failed requesting After Closing Time (feat. Barbara Mandrell)\n",
      "Failed requesting Too Far Gone\n",
      "Failed requesting Valley of Tears\n"
     ]
    },
    {
     "name": "stderr",
     "output_type": "stream",
     "text": [
      "Processing David Houston_tracks.parquet:  38%|███▊      | 100/264 [00:03<00:05, 29.27it/s]"
     ]
    },
    {
     "name": "stdout",
     "output_type": "stream",
     "text": [
      "Failed requesting Empty Arms\n",
      "Failed requesting Empty Arms\n",
      "Failed requesting I Can't Stop Loving You\n",
      "Failed requesting I Fall to Pieces\n",
      "Failed requesting Mountain Of Love\n",
      "Failed requesting I'm Down To My Last \"I Love You\"\n",
      "Failed requesting I Do My Swinging At Home\n"
     ]
    },
    {
     "name": "stderr",
     "output_type": "stream",
     "text": [
      "Processing David Houston_tracks.parquet:  39%|███▉      | 104/264 [00:03<00:05, 31.16it/s]"
     ]
    },
    {
     "name": "stdout",
     "output_type": "stream",
     "text": [
      "Failed requesting Wonders Of The Wine\n",
      "Failed requesting My Womans Good To Me\n",
      "Failed requesting Too Far Gone\n",
      "Failed requesting After Closing Time\n",
      "Failed requesting I Fall To Pieces\n"
     ]
    },
    {
     "name": "stderr",
     "output_type": "stream",
     "text": [
      "Processing David Houston_tracks.parquet:  42%|████▏     | 112/264 [00:03<00:05, 28.28it/s]"
     ]
    },
    {
     "name": "stdout",
     "output_type": "stream",
     "text": [
      "Failed requesting Secret Love\n",
      "Failed requesting I Can't Stop Loving You\n",
      "Failed requesting Blue Skies\n",
      "Failed requesting For The Good Times\n",
      "Failed requesting Have You Ever Been Lonely\n",
      "Failed requesting Oh, How I Miss You Tonight\n",
      "Failed requesting Red River Valley\n"
     ]
    },
    {
     "name": "stderr",
     "output_type": "stream",
     "text": [
      "Processing David Houston_tracks.parquet:  45%|████▌     | 120/264 [00:03<00:04, 31.09it/s]"
     ]
    },
    {
     "name": "stdout",
     "output_type": "stream",
     "text": [
      "Failed requesting September Song\n",
      "Failed requesting Teardrops In My Heart\n",
      "Failed requesting Thank God I'm A Country Boy\n",
      "Failed requesting Why Me?\n",
      "Failed requesting You're My Best Friend\n",
      "Failed requesting A Loser's Cathedral\n",
      "Failed requesting A Woman Always Knows\n",
      "Failed requesting After Closing Time\n"
     ]
    },
    {
     "name": "stderr",
     "output_type": "stream",
     "text": [
      "Processing David Houston_tracks.parquet:  48%|████▊     | 128/264 [00:04<00:04, 32.28it/s]"
     ]
    },
    {
     "name": "stdout",
     "output_type": "stream",
     "text": [
      "Failed requesting Almost Persuaded\n",
      "Failed requesting Already It's Heaven\n",
      "Failed requesting Away In A Manger\n",
      "Failed requesting Baby, Baby (I Know You're A Lady)\n",
      "Failed requesting Church In The Wildwood (Re-Recording)\n",
      "Failed requesting Empty Arms\n",
      "Failed requesting For Your Love\n"
     ]
    },
    {
     "name": "stderr",
     "output_type": "stream",
     "text": [
      "Processing David Houston_tracks.parquet:  50%|█████     | 132/264 [00:04<00:04, 32.72it/s]"
     ]
    },
    {
     "name": "stdout",
     "output_type": "stream",
     "text": [
      "Failed requesting Pledging My Love\n",
      "Failed requesting Have A Little Faith\n",
      "Failed requesting I Do My Swinging At Home\n",
      "Failed requesting I'm Down To My Last \"I Love You\"\n",
      "Failed requesting If I Ever Cross Your Mind\n",
      "Failed requesting In The Garden\n",
      "Failed requesting Livin' In A House Full Of Love\n"
     ]
    },
    {
     "name": "stderr",
     "output_type": "stream",
     "text": [
      "Processing David Houston_tracks.parquet:  53%|█████▎    | 140/264 [00:04<00:03, 34.10it/s]"
     ]
    },
    {
     "name": "stdout",
     "output_type": "stream",
     "text": [
      "Failed requesting Mountain Of Love\n",
      "Failed requesting My Elusive Dreams\n",
      "Failed requesting My Woman's Good To Me\n",
      "Failed requesting My Woman's Good to Me - Re-Recording\n",
      "Failed requesting My Woman's Good to Me - Re-Recording\n",
      "Failed requesting I'm Down to My Last \"I Love You\" - Re-Recording\n",
      "Failed requesting Mountain of Love - Re-Recording\n",
      "Failed requesting Too Far Gone\n"
     ]
    },
    {
     "name": "stderr",
     "output_type": "stream",
     "text": [
      "Processing David Houston_tracks.parquet:  56%|█████▋    | 149/264 [00:04<00:03, 36.99it/s]"
     ]
    },
    {
     "name": "stdout",
     "output_type": "stream",
     "text": [
      "Failed requesting I Do My Swimming at Home\n",
      "Failed requesting Wonders of the Wine - Re-Recording\n",
      "Failed requesting After Closing Time - Re-Recording\n",
      "Failed requesting Secret Love\n",
      "Failed requesting I Can't Stop Loving You\n",
      "Failed requesting I Fall to Peces\n",
      "Failed requesting A Loser's Cathedral\n",
      "Failed requesting A Loser's Cathedral\n"
     ]
    },
    {
     "name": "stderr",
     "output_type": "stream",
     "text": [
      "Processing David Houston_tracks.parquet:  59%|█████▉    | 157/264 [00:05<00:08, 12.54it/s]"
     ]
    },
    {
     "name": "stdout",
     "output_type": "stream",
     "text": [
      "Failed requesting A Woman Always Knows\n",
      "Failed requesting After Closing Time\n",
      "Failed requesting After Closing Time\n",
      "Failed requesting Already It's Heaven\n",
      "Failed requesting Already It's Heaven\n",
      "Failed requesting Baby, Baby (I Know You're A Lady)\n"
     ]
    },
    {
     "name": "stderr",
     "output_type": "stream",
     "text": [
      "Processing David Houston_tracks.parquet:  62%|██████▏   | 163/264 [00:07<00:12,  8.17it/s]"
     ]
    },
    {
     "name": "stdout",
     "output_type": "stream",
     "text": [
      "Failed requesting Empty Arms\n",
      "Failed requesting For Your Love\n",
      "Failed requesting For Your Love\n",
      "Failed requesting Have A Little Faith\n"
     ]
    },
    {
     "name": "stderr",
     "output_type": "stream",
     "text": [
      "Processing David Houston_tracks.parquet:  64%|██████▍   | 170/264 [00:08<00:12,  7.43it/s]"
     ]
    },
    {
     "name": "stdout",
     "output_type": "stream",
     "text": [
      "Failed requesting I Do My Swinging At Home\n",
      "Failed requesting I Do My Swinging At Home\n",
      "Failed requesting If I Ever Cross Your Mind\n",
      "Failed requesting If I Ever Cross Your Mind\n",
      "Failed requesting I'm Down To My Last \"I Love You\"\n",
      "Failed requesting I'm Down To My Last \"I Love You\"\n"
     ]
    },
    {
     "name": "stderr",
     "output_type": "stream",
     "text": [
      "Processing David Houston_tracks.parquet:  66%|██████▌   | 173/264 [00:09<00:17,  5.10it/s]"
     ]
    },
    {
     "name": "stdout",
     "output_type": "stream",
     "text": [
      "Failed requesting Livin' In A House Full Of Love\n",
      "Failed requesting My Woman's Good To Me\n",
      "Failed requesting My Woman's Good To Me\n"
     ]
    },
    {
     "name": "stderr",
     "output_type": "stream",
     "text": [
      "Processing David Houston_tracks.parquet:  68%|██████▊   | 179/264 [00:10<00:15,  5.61it/s]"
     ]
    },
    {
     "name": "stdout",
     "output_type": "stream",
     "text": [
      "Failed requesting Sweet, Sweet Judy\n",
      "Failed requesting Sweet, Sweet Judy\n",
      "Failed requesting Too Far Gone\n",
      "Failed requesting Too Far Gone\n",
      "Failed requesting Valley Of Tears\n",
      "Failed requesting What Am I Living For\n",
      "Failed requesting With One Exception\n",
      "Failed requesting With One Exception\n"
     ]
    },
    {
     "name": "stderr",
     "output_type": "stream",
     "text": [
      "Processing David Houston_tracks.parquet:  71%|███████   | 187/264 [00:10<00:07, 10.39it/s]"
     ]
    },
    {
     "name": "stdout",
     "output_type": "stream",
     "text": [
      "Failed requesting Wonders Of The Wine\n",
      "Failed requesting Wonders Of The Wine\n",
      "Failed requesting I Love You, I Love You\n",
      "Failed requesting So Many Ways\n",
      "Failed requesting Secret Love\n",
      "Failed requesting I Love You More And More Every Day\n"
     ]
    },
    {
     "name": "stderr",
     "output_type": "stream",
     "text": [
      "Processing David Houston_tracks.parquet:  74%|███████▍  | 195/264 [00:11<00:04, 16.51it/s]"
     ]
    },
    {
     "name": "stdout",
     "output_type": "stream",
     "text": [
      "Failed requesting Maiden's Prayer\n",
      "Failed requesting Softer Than A Rose\n",
      "Failed requesting Who'll Turn Out The Lights (In Your World Tonight)\n",
      "Failed requesting No Tell Motel\n",
      "Failed requesting When A Man Loves A Woman\n",
      "Failed requesting Barroom Champagne\n",
      "Failed requesting She's All Woman\n",
      "Failed requesting Almost Persuaded\n"
     ]
    },
    {
     "name": "stderr",
     "output_type": "stream",
     "text": [
      "Processing David Houston_tracks.parquet:  77%|███████▋  | 203/264 [00:11<00:02, 22.35it/s]"
     ]
    },
    {
     "name": "stdout",
     "output_type": "stream",
     "text": [
      "Failed requesting Ain't That Loving You Baby\n",
      "Failed requesting Chickashay\n",
      "Failed requesting I'll Take You Home Again Kathleen\n",
      "Failed requesting Return To Me\n",
      "Failed requesting The Day That Love Walked In\n",
      "Failed requesting Unchained Melody\n",
      "Failed requesting We've Got Everything But Love\n",
      "Failed requesting Where Could I Go But To Her\n"
     ]
    },
    {
     "name": "stderr",
     "output_type": "stream",
     "text": [
      "Processing David Houston_tracks.parquet:  80%|███████▉  | 211/264 [00:11<00:01, 27.63it/s]"
     ]
    },
    {
     "name": "stdout",
     "output_type": "stream",
     "text": [
      "Failed requesting I Remember You\n",
      "Failed requesting Almost Persuaded\n",
      "Failed requesting Baby Baby (I Know You're A Lady)\n",
      "Failed requesting You Mean The World To Me\n",
      "Failed requesting With One Exception\n",
      "Failed requesting Mountain Of Love\n",
      "Failed requesting Already It's Heaven\n",
      "Failed requesting Have A Little Faith\n"
     ]
    },
    {
     "name": "stderr",
     "output_type": "stream",
     "text": [
      "Processing David Houston_tracks.parquet:  83%|████████▎ | 219/264 [00:11<00:01, 31.86it/s]"
     ]
    },
    {
     "name": "stdout",
     "output_type": "stream",
     "text": [
      "Failed requesting A Woman Always Knows\n",
      "Failed requesting Livin' In A House Full Of Love\n",
      "Failed requesting A Loser's Cathedral\n",
      "Failed requesting Empty Arms\n",
      "Failed requesting Empty Arms\n",
      "Failed requesting A Loser's Cathedral\n",
      "Failed requesting A Loser's Cathedral\n",
      "Failed requesting A Woman Always Knows\n",
      "Failed requesting A Woman Always Knows\n"
     ]
    },
    {
     "name": "stderr",
     "output_type": "stream",
     "text": [
      "Processing David Houston_tracks.parquet:  86%|████████▋ | 228/264 [00:12<00:01, 31.96it/s]"
     ]
    },
    {
     "name": "stdout",
     "output_type": "stream",
     "text": [
      "Failed requesting After Closing Time\n",
      "Failed requesting After Closing Time\n",
      "Failed requesting Already It's Heaven\n",
      "Failed requesting Already It's Heaven\n",
      "Failed requesting Baby, Baby (I Know You're A Lady)\n",
      "Failed requesting Baby, Baby (I Know You're A Lady)\n",
      "Failed requesting For Your Love\n"
     ]
    },
    {
     "name": "stderr",
     "output_type": "stream",
     "text": [
      "Processing David Houston_tracks.parquet:  90%|████████▉ | 237/264 [00:12<00:00, 36.01it/s]"
     ]
    },
    {
     "name": "stdout",
     "output_type": "stream",
     "text": [
      "Failed requesting For Your Love\n",
      "Failed requesting Have A Little Faith\n",
      "Failed requesting Have A Little Faith\n",
      "Failed requesting I Do My Swinging At Home\n",
      "Failed requesting I Do My Swinging At Home\n",
      "Failed requesting If I Ever Cross Your Mind\n",
      "Failed requesting If I Ever Cross Your Mind\n",
      "Failed requesting I'm Down To My Last \"I Love You\"\n"
     ]
    },
    {
     "name": "stderr",
     "output_type": "stream",
     "text": [
      "Processing David Houston_tracks.parquet:  91%|█████████▏| 241/264 [00:12<00:00, 36.76it/s]"
     ]
    },
    {
     "name": "stdout",
     "output_type": "stream",
     "text": [
      "Failed requesting I'm Down To My Last \"I Love You\"\n",
      "Failed requesting Livin' In A House Full Of Love\n",
      "Failed requesting Livin' In A House Full Of Love\n",
      "Failed requesting My Woman's Good To Me\n",
      "Failed requesting My Woman's Good To Me\n",
      "Failed requesting Sweet, Sweet Judy\n",
      "Failed requesting Sweet, Sweet Judy\n"
     ]
    },
    {
     "name": "stderr",
     "output_type": "stream",
     "text": [
      "Processing David Houston_tracks.parquet:  95%|█████████▍| 250/264 [00:12<00:00, 35.06it/s]"
     ]
    },
    {
     "name": "stdout",
     "output_type": "stream",
     "text": [
      "Failed requesting Too Far Gone\n",
      "Failed requesting Too Far Gone\n",
      "Failed requesting With One Exception\n",
      "Failed requesting With One Exception\n",
      "Failed requesting Wonders Of The Wine\n",
      "Failed requesting Wonders Of The Wine\n",
      "Failed requesting Since I Met You Baby\n",
      "Failed requesting Valley of Tears\n",
      "Failed requesting What Am I Living For?\n"
     ]
    },
    {
     "name": "stderr",
     "output_type": "stream",
     "text": [
      "Processing David Houston_tracks.parquet:  98%|█████████▊| 258/264 [00:12<00:00, 31.97it/s]"
     ]
    },
    {
     "name": "stdout",
     "output_type": "stream",
     "text": [
      "Failed requesting It Started All Over Again\n",
      "Failed requesting Barroom Champagne\n",
      "Failed requesting I Didn't Know She Was Loving Me Goodbye\n",
      "Failed requesting Almost Persuaded\n",
      "Failed requesting Love Is A Miracle\n",
      "Failed requesting Maiden's Prayer\n"
     ]
    },
    {
     "name": "stderr",
     "output_type": "stream",
     "text": [
      "Processing David Houston_tracks.parquet: 100%|██████████| 264/264 [00:13<00:00, 19.97it/s]\n",
      "Processing David Johansen_tracks.parquet:   0%|          | 0/291 [00:00<?, ?it/s]"
     ]
    },
    {
     "name": "stdout",
     "output_type": "stream",
     "text": [
      "Failed requesting Softer Than A Rose\n",
      "Failed requesting No Tell Motel\n",
      "Failed requesting I Hate To Tell Baby A Lie\n",
      "Failed requesting Touch My World\n",
      "Failed requesting Because\n",
      "Failed requesting Trombone Sonata: I. Allegro\n"
     ]
    },
    {
     "name": "stderr",
     "output_type": "stream",
     "text": [
      "Processing David Johansen_tracks.parquet:   3%|▎         | 8/291 [00:00<00:08, 34.55it/s]"
     ]
    },
    {
     "name": "stdout",
     "output_type": "stream",
     "text": [
      "Failed requesting Trombone Sonata: II. Andante\n",
      "Failed requesting Trombone Sonata: III. Scherzando - Coda\n",
      "Failed requesting Trombone Sonata (1957): I. Allegro vivo\n",
      "Failed requesting Trombone Sonata (1957): II. Andante sostenuto\n",
      "Failed requesting Trombone Sonata (1957): III. Allegro\n",
      "Failed requesting Trombone Sonata (1965): I. Allegro\n",
      "Failed requesting Trombone Sonata (1965): II. Adagio\n"
     ]
    },
    {
     "name": "stderr",
     "output_type": "stream",
     "text": [
      "Processing David Johansen_tracks.parquet:   4%|▍         | 12/291 [00:00<00:08, 31.16it/s]"
     ]
    },
    {
     "name": "stdout",
     "output_type": "stream",
     "text": [
      "Failed requesting Trombone Sonata (1965): III. Allegro moderato ma giusto\n",
      "Failed requesting Trombone Sonata: I. Allegro moderato maestoso\n",
      "Failed requesting Trombone Sonata: II. Allegro grazioso\n",
      "Failed requesting Trombone Sonata: III. Allegro pesante (Lied des Raufbolds)\n",
      "Failed requesting Trombone Sonata: IV. Allegro moderato maestoso\n",
      "Failed requesting Trombone Sonata: I. Moderato\n",
      "Failed requesting Trombone Sonata: II. Più mosso\n"
     ]
    },
    {
     "name": "stderr",
     "output_type": "stream",
     "text": [
      "Processing David Johansen_tracks.parquet:   7%|▋         | 20/291 [00:00<00:08, 31.63it/s]"
     ]
    },
    {
     "name": "stdout",
     "output_type": "stream",
     "text": [
      "Failed requesting Trombone Sonata: III. Più adagio\n",
      "Failed requesting Trombone Sonata: I. Allegro moderato\n",
      "Failed requesting Trombone Sonata: II. Moderato cantabile\n",
      "Failed requesting Trombone Sonata: III. Allegro marziale\n",
      "Failed requesting Cool Metro - Live 1978\n",
      "Failed requesting Looking For a Kiss - Live 1978\n",
      "Failed requesting Funky But Chic - Live 1978\n",
      "Failed requesting Donna - Live 1978\n"
     ]
    },
    {
     "name": "stderr",
     "output_type": "stream",
     "text": [
      "Processing David Johansen_tracks.parquet:  10%|▉         | 28/291 [00:00<00:08, 32.41it/s]"
     ]
    },
    {
     "name": "stdout",
     "output_type": "stream",
     "text": [
      "Failed requesting I'm a Lover - Live 1978\n",
      "Failed requesting Frenchette - Live 1978\n",
      "Failed requesting Reach Out I'll Be There - Live 1978\n",
      "Failed requesting Intro to In a Lonely Tenement - Live 1978\n",
      "Failed requesting In a Lonely Tenement - Live 1978\n",
      "Failed requesting Intro to Girls - Live 1978\n",
      "Failed requesting Girls - Live 1978\n",
      "Failed requesting Personality Crisis - Live 1978\n"
     ]
    },
    {
     "name": "stderr",
     "output_type": "stream",
     "text": [
      "Processing David Johansen_tracks.parquet:  12%|█▏        | 36/291 [00:01<00:07, 33.75it/s]"
     ]
    },
    {
     "name": "stdout",
     "output_type": "stream",
     "text": [
      "Failed requesting She Loves Strangers\n",
      "Failed requesting Bohemian Love Pad\n",
      "Failed requesting You Fool You\n",
      "Failed requesting My Obsession\n",
      "Failed requesting Marquesa de Sade\n",
      "Failed requesting Here Comes the Night\n",
      "Failed requesting Suspicion\n",
      "Failed requesting Party Tonight\n",
      "Failed requesting Havin' So Much Fun\n"
     ]
    },
    {
     "name": "stderr",
     "output_type": "stream",
     "text": [
      "Processing David Johansen_tracks.parquet:  15%|█▌        | 44/291 [00:01<00:06, 35.46it/s]"
     ]
    },
    {
     "name": "stdout",
     "output_type": "stream",
     "text": [
      "Failed requesting Rollin' Job\n",
      "Failed requesting Heart of Gold\n",
      "Failed requesting Here Comes The Night - Live - Single Version\n",
      "Failed requesting Furry's Blues\n",
      "Failed requesting I'll Go With Her\n",
      "Failed requesting Deep Blue Sea\n",
      "Failed requesting My Morphine\n"
     ]
    },
    {
     "name": "stderr",
     "output_type": "stream",
     "text": [
      "Processing David Johansen_tracks.parquet:  18%|█▊        | 52/291 [00:01<00:06, 34.68it/s]"
     ]
    },
    {
     "name": "stdout",
     "output_type": "stream",
     "text": [
      "Failed requesting Ham Hound Crave\n",
      "Failed requesting Let the Mermaids Flirt With Me\n",
      "Failed requesting I Can't Be Satisfied\n",
      "Failed requesting In Love Again\n",
      "Failed requesting Death Letter\n",
      "Failed requesting My Grandpa is Old Too\n",
      "Failed requesting Jailbird Love Song\n"
     ]
    },
    {
     "name": "stderr",
     "output_type": "stream",
     "text": [
      "Processing David Johansen_tracks.parquet:  21%|██        | 60/291 [00:01<00:06, 34.59it/s]"
     ]
    },
    {
     "name": "stdout",
     "output_type": "stream",
     "text": [
      "Failed requesting High Sheriff\n",
      "Failed requesting Kassie Jones\n",
      "Failed requesting The Last Kind Words\n",
      "Failed requesting We Gotta Get Out Of This Place/Don't Bring Me Down/It's My Life - Live at the Paradise Club, Boston, MA - February 1982\n",
      "Failed requesting Frenchette - Live at the Paradise Club, Boston, MA - February 1982\n",
      "Failed requesting Reach Out I'll Be There - Live at the Paradise Club, Boston, MA - February 1982\n",
      "Failed requesting Is This What I Get for Loving You - Live at the Paradise Club, Boston, MA - February 1982\n",
      "Failed requesting Donna - Live at the Paradise Club, Boston, MA - February 1982\n"
     ]
    },
    {
     "name": "stderr",
     "output_type": "stream",
     "text": [
      "Processing David Johansen_tracks.parquet:  23%|██▎       | 68/291 [00:01<00:06, 36.39it/s]"
     ]
    },
    {
     "name": "stdout",
     "output_type": "stream",
     "text": [
      "Failed requesting Build Me Up Buttercup - Live at the Paradise Club, Boston, MA - February 1982\n",
      "Failed requesting Melody - Live at the Paradise Club, Boston, MA - February 1982\n",
      "Failed requesting Funky But Chic - Live at the Paradise Club, Boston, MA - February 1982\n",
      "Failed requesting Bohemian Love Pad - Live at the Paradise Club, Boston, MA - February 1982\n",
      "Failed requesting Stranded In the Jungle - Live at the Paradise Club, Boston, MA - February 1982\n",
      "Failed requesting Personality Crises - Live at the Paradise Club, Boston, MA - February 1982\n",
      "Failed requesting Melody\n",
      "Failed requesting She\n"
     ]
    },
    {
     "name": "stderr",
     "output_type": "stream",
     "text": [
      "Processing David Johansen_tracks.parquet:  26%|██▌       | 76/291 [00:02<00:05, 36.20it/s]"
     ]
    },
    {
     "name": "stdout",
     "output_type": "stream",
     "text": [
      "Failed requesting Big City\n",
      "Failed requesting She Knew She Was Falling In Love\n",
      "Failed requesting Swaheto Woman\n",
      "Failed requesting Justine\n",
      "Failed requesting In Style\n",
      "Failed requesting You Touched Me Too\n",
      "Failed requesting Wreckless Crazy\n",
      "Failed requesting Flamingo Road\n"
     ]
    },
    {
     "name": "stderr",
     "output_type": "stream",
     "text": [
      "Processing David Johansen_tracks.parquet:  29%|██▉       | 84/291 [00:02<00:05, 34.80it/s]"
     ]
    },
    {
     "name": "stdout",
     "output_type": "stream",
     "text": [
      "Failed requesting Swaheto Woman - Single Version\n",
      "Failed requesting Funky But Chic\n",
      "Failed requesting Girls\n",
      "Failed requesting Pain In My Heart\n",
      "Failed requesting Not That Much\n",
      "Failed requesting Donna\n",
      "Failed requesting Cool Metro\n",
      "Failed requesting I'm A Lover\n"
     ]
    },
    {
     "name": "stderr",
     "output_type": "stream",
     "text": [
      "Processing David Johansen_tracks.parquet:  30%|███       | 88/291 [00:02<00:05, 35.11it/s]"
     ]
    },
    {
     "name": "stdout",
     "output_type": "stream",
     "text": [
      "Failed requesting Lonely Tenement\n",
      "Failed requesting Frenchette\n",
      "Failed requesting Sinking Ship\n",
      "Failed requesting Two More Bottles of Wine\n",
      "Failed requesting Two More Bottles of Wine\n",
      "Failed requesting Baby Come Closer\n"
     ]
    },
    {
     "name": "stderr",
     "output_type": "stream",
     "text": [
      "Processing David Johansen_tracks.parquet:  35%|███▍      | 101/291 [00:02<00:05, 35.42it/s]"
     ]
    },
    {
     "name": "stdout",
     "output_type": "stream",
     "text": [
      "Failed requesting Baby Come Closer\n",
      "Failed requesting Gonna California\n",
      "Failed requesting Gonna California\n",
      "Failed requesting Only Yourself to Lose\n",
      "Failed requesting Only Yourself to Lose\n",
      "Failed requesting Christopher\n",
      "Failed requesting Christopher\n",
      "Failed requesting Dixie Darling\n",
      "Failed requesting Dixie Darling\n"
     ]
    },
    {
     "name": "stderr",
     "output_type": "stream",
     "text": [
      "Processing David Johansen_tracks.parquet:  36%|███▋      | 106/291 [00:03<00:05, 36.79it/s]"
     ]
    },
    {
     "name": "stdout",
     "output_type": "stream",
     "text": [
      "Failed requesting California\n",
      "Failed requesting California\n",
      "Failed requesting Killer\n",
      "Failed requesting Killer\n",
      "Failed requesting Dry in the Sun\n",
      "Failed requesting Oh La La\n",
      "Failed requesting Oh La La\n",
      "Failed requesting Cocaine Cowboy\n"
     ]
    },
    {
     "name": "stderr",
     "output_type": "stream",
     "text": [
      "Processing David Johansen_tracks.parquet:  39%|███▉      | 114/291 [00:03<00:04, 36.33it/s]"
     ]
    },
    {
     "name": "stdout",
     "output_type": "stream",
     "text": [
      "Failed requesting Cocaine Cowboy\n",
      "Failed requesting How Do You Do (Children of the Most High)\n",
      "Failed requesting How Do You Do (Children of the Most High)\n",
      "Failed requesting Invisible Lady\n",
      "Failed requesting Invisible Lady\n",
      "Failed requesting I See My Days Go By\n",
      "Failed requesting I See My Days Go By\n",
      "Failed requesting Where Have All the Flowers Gone\n"
     ]
    },
    {
     "name": "stderr",
     "output_type": "stream",
     "text": [
      "Processing David Johansen_tracks.parquet:  42%|████▏     | 123/291 [00:03<00:04, 37.09it/s]"
     ]
    },
    {
     "name": "stdout",
     "output_type": "stream",
     "text": [
      "Failed requesting Where Have All the Flowers Gone\n",
      "Failed requesting Salt Showers\n",
      "Failed requesting Salt Showers\n",
      "Failed requesting Holy Commotion\n",
      "Failed requesting Holy Commotion\n",
      "Failed requesting Sail Away\n",
      "Failed requesting Sail Away\n",
      "Failed requesting Funky but Chic\n"
     ]
    },
    {
     "name": "stderr",
     "output_type": "stream",
     "text": [
      "Processing David Johansen_tracks.parquet:  45%|████▌     | 131/291 [00:04<00:12, 12.90it/s]"
     ]
    },
    {
     "name": "stdout",
     "output_type": "stream",
     "text": [
      "Failed requesting Just Look-Ah What You'll Be Missing\n",
      "Failed requesting Two More Bottles of Wine\n",
      "Failed requesting Two More Bottles of Wine\n",
      "Failed requesting Baby Come Closer\n",
      "Failed requesting Baby Come Closer\n",
      "Failed requesting Gonna California\n",
      "Failed requesting Gonna California\n",
      "Failed requesting Only Yourself to Lose\n"
     ]
    },
    {
     "name": "stderr",
     "output_type": "stream",
     "text": [
      "Processing David Johansen_tracks.parquet:  48%|████▊     | 139/291 [00:04<00:07, 19.31it/s]"
     ]
    },
    {
     "name": "stdout",
     "output_type": "stream",
     "text": [
      "Failed requesting Only Yourself to Lose\n",
      "Failed requesting Christopher\n",
      "Failed requesting Christopher\n",
      "Failed requesting Dixie Darling\n",
      "Failed requesting Dixie Darling\n",
      "Failed requesting California\n",
      "Failed requesting California\n",
      "Failed requesting Killer\n",
      "Failed requesting Killer\n"
     ]
    },
    {
     "name": "stderr",
     "output_type": "stream",
     "text": [
      "Processing David Johansen_tracks.parquet:  51%|█████     | 148/291 [00:05<00:05, 26.65it/s]"
     ]
    },
    {
     "name": "stdout",
     "output_type": "stream",
     "text": [
      "Failed requesting Oh La La\n",
      "Failed requesting Oh La La\n",
      "Failed requesting Cocaine Cowboy\n",
      "Failed requesting Cocaine Cowboy\n",
      "Failed requesting How Do You Do (Children of the Most High)\n",
      "Failed requesting How Do You Do (Children of the Most High)\n",
      "Failed requesting Invisible Lady\n",
      "Failed requesting Invisible Lady\n",
      "Failed requesting I See My Days Go By\n",
      "Failed requesting I See My Days Go By\n"
     ]
    },
    {
     "name": "stderr",
     "output_type": "stream",
     "text": [
      "Processing David Johansen_tracks.parquet:  54%|█████▍    | 158/291 [00:05<00:03, 33.42it/s]"
     ]
    },
    {
     "name": "stdout",
     "output_type": "stream",
     "text": [
      "Failed requesting Where Have All the Flowers Gone\n",
      "Failed requesting Where Have All the Flowers Gone\n",
      "Failed requesting Salt Showers\n",
      "Failed requesting Salt Showers\n",
      "Failed requesting Holy Commotion\n",
      "Failed requesting Holy Commotion\n",
      "Failed requesting Sail Away\n",
      "Failed requesting Sail Away\n",
      "Failed requesting Funky but Chic\n"
     ]
    },
    {
     "name": "stderr",
     "output_type": "stream",
     "text": [
      "Processing David Johansen_tracks.parquet:  57%|█████▋    | 166/291 [00:05<00:03, 35.44it/s]"
     ]
    },
    {
     "name": "stdout",
     "output_type": "stream",
     "text": [
      "Failed requesting Funky but Chic\n",
      "Failed requesting Dry in the Sun\n",
      "Failed requesting Just Look-Ah What You'll Be Missing\n",
      "Failed requesting Rider's Lullaby\n",
      "Failed requesting Centaurworld\n",
      "Failed requesting Spells For Days\n",
      "Failed requesting Hello Rainbow Road\n",
      "Failed requesting Fragile Things\n",
      "Failed requesting Taurnado\n"
     ]
    },
    {
     "name": "stderr",
     "output_type": "stream",
     "text": [
      "Processing David Johansen_tracks.parquet:  60%|██████    | 176/291 [00:05<00:02, 38.38it/s]"
     ]
    },
    {
     "name": "stdout",
     "output_type": "stream",
     "text": [
      "Failed requesting What If I Forget Your Face\n",
      "Failed requesting Making Friendships--BOATS!\n",
      "Failed requesting Frustration Tears\n",
      "Failed requesting The Key\n",
      "Failed requesting What You Need\n",
      "Failed requesting He Never Says Anything Nice\n",
      "Failed requesting Rider's Lullaby (Reprise)\n",
      "Failed requesting The Nowhere King\n",
      "Failed requesting Where Does Food Come From\n"
     ]
    },
    {
     "name": "stderr",
     "output_type": "stream",
     "text": [
      "Processing David Johansen_tracks.parquet:  64%|██████▍   | 186/291 [00:06<00:02, 39.38it/s]"
     ]
    },
    {
     "name": "stdout",
     "output_type": "stream",
     "text": [
      "Failed requesting It's Hidin' Time\n",
      "Failed requesting My Collection\n",
      "Failed requesting I Stealz So I Can Feelz\n",
      "Failed requesting Baby's First Spell\n",
      "Failed requesting The Underground\n",
      "Failed requesting My Sharona - Live\n",
      "Failed requesting Frankenstein - Live\n",
      "Failed requesting Fool for a Pretty Face (Hurt By Love) - Live\n"
     ]
    },
    {
     "name": "stderr",
     "output_type": "stream",
     "text": [
      "Processing David Johansen_tracks.parquet:  66%|██████▌   | 191/291 [00:06<00:03, 28.69it/s]"
     ]
    },
    {
     "name": "stdout",
     "output_type": "stream",
     "text": [
      "Failed requesting Burnin' for You - Live\n",
      "Failed requesting Let Your Love Flow - Live\n",
      "Failed requesting There Goes Another Love Song - Live\n",
      "Failed requesting Midnight Rendezvous (Live)\n",
      "Failed requesting Animals (Medley)\n",
      "Failed requesting Baby Hold On - Live\n",
      "Failed requesting Ventura Highway - Live\n"
     ]
    },
    {
     "name": "stderr",
     "output_type": "stream",
     "text": [
      "Processing David Johansen_tracks.parquet:  70%|██████▉   | 203/291 [00:06<00:02, 32.50it/s]"
     ]
    },
    {
     "name": "stdout",
     "output_type": "stream",
     "text": [
      "Failed requesting Long Cool Woman - Live\n",
      "Failed requesting Only You Know and I Know\n",
      "Failed requesting Panama Red - Live\n",
      "Failed requesting Chestnut Mare - Live\n",
      "Failed requesting Spooky - Rerecorded\n",
      "Failed requesting Rock and Roll, Hoochie Koo - Live\n",
      "Failed requesting Let It Ride - Live\n",
      "Failed requesting Rock & Roll Love Letter - Live\n"
     ]
    },
    {
     "name": "stderr",
     "output_type": "stream",
     "text": [
      "Processing David Johansen_tracks.parquet:  71%|███████   | 207/291 [00:06<00:02, 33.22it/s]"
     ]
    },
    {
     "name": "stdout",
     "output_type": "stream",
     "text": [
      "Failed requesting One Toke Over the Line (In Concert)\n",
      "Failed requesting You Are the Woman - Boulder Mix\n",
      "Failed requesting Baby Hold On - Live\n",
      "Failed requesting I'm Not Gonna Let It Bother Me - Live\n",
      "Failed requesting My Sharona - Live\n",
      "Failed requesting Sentimental Lady (Nashville Version)\n",
      "Failed requesting Dancin' In The Moonlight (Nashville Mix)\n"
     ]
    },
    {
     "name": "stderr",
     "output_type": "stream",
     "text": [
      "Processing David Johansen_tracks.parquet:  74%|███████▍  | 215/291 [00:07<00:02, 30.73it/s]"
     ]
    },
    {
     "name": "stdout",
     "output_type": "stream",
     "text": [
      "Failed requesting Precious and Few\n",
      "Failed requesting Don't Pull Your Love\n",
      "Failed requesting Happy Anniversary\n",
      "Failed requesting Angel Baby - 45 Version\n",
      "Failed requesting Mississippi Queen - Live\n",
      "Failed requesting I Don't Want to Go Home (In Concert)\n"
     ]
    },
    {
     "name": "stderr",
     "output_type": "stream",
     "text": [
      "Processing David Johansen_tracks.parquet:  75%|███████▌  | 219/291 [00:07<00:02, 29.36it/s]"
     ]
    },
    {
     "name": "stdout",
     "output_type": "stream",
     "text": [
      "Failed requesting Wasted Days and Wasted Nights - Live\n",
      "Failed requesting You Are the Woman (Live)\n",
      "Failed requesting Ain't No Woman (Like the One I've Got) [Live]\n",
      "Failed requesting When I Need You - Live\n",
      "Failed requesting All the Young Dudes - Live\n",
      "Failed requesting Animals Medley - Live\n"
     ]
    },
    {
     "name": "stderr",
     "output_type": "stream",
     "text": [
      "Processing David Johansen_tracks.parquet:  78%|███████▊  | 228/291 [00:07<00:01, 33.29it/s]"
     ]
    },
    {
     "name": "stdout",
     "output_type": "stream",
     "text": [
      "Failed requesting At Seventeen - Live\n",
      "Failed requesting Back It Up - Live\n",
      "Failed requesting Lady - Live\n",
      "Failed requesting Children of the Revolution\n",
      "Failed requesting Cosmic Dancer\n",
      "Failed requesting Jeepster\n",
      "Failed requesting Scenescof\n",
      "Failed requesting Life's a Gas\n"
     ]
    },
    {
     "name": "stderr",
     "output_type": "stream",
     "text": [
      "Processing David Johansen_tracks.parquet:  81%|████████  | 236/291 [00:07<00:01, 35.31it/s]"
     ]
    },
    {
     "name": "stdout",
     "output_type": "stream",
     "text": [
      "Failed requesting Solid Gold, Easy Action\n",
      "Failed requesting Dawn Storm\n",
      "Failed requesting Hippy Gumbo\n",
      "Failed requesting I Love to Boogie\n",
      "Failed requesting Beltane Walk\n",
      "Failed requesting Bang A Gong (Get It On)\n",
      "Failed requesting Diamond Meadows\n",
      "Failed requesting Ballrooms of Mars\n",
      "Failed requesting Main Man\n"
     ]
    },
    {
     "name": "stderr",
     "output_type": "stream",
     "text": [
      "Processing David Johansen_tracks.parquet:  85%|████████▍ | 246/291 [00:08<00:01, 37.56it/s]"
     ]
    },
    {
     "name": "stdout",
     "output_type": "stream",
     "text": [
      "Failed requesting Rock On\n",
      "Failed requesting The Street and Babe Shadow\n",
      "Failed requesting The Leopards\n",
      "Failed requesting Metal Guru\n",
      "Failed requesting Teenage Dream\n",
      "Failed requesting Organ Blues\n",
      "Failed requesting Funky Ceili (Bridie's Song)\n",
      "Failed requesting Celtic Rocker\n"
     ]
    },
    {
     "name": "stderr",
     "output_type": "stream",
     "text": [
      "Processing David Johansen_tracks.parquet:  86%|████████▌ | 250/291 [00:08<00:01, 34.31it/s]"
     ]
    },
    {
     "name": "stdout",
     "output_type": "stream",
     "text": [
      "Failed requesting St. Patrick's Day\n",
      "Failed requesting Maria's Wedding\n",
      "Failed requesting Salsa O'Keefe\n",
      "Failed requesting Culchie Prince\n",
      "Failed requesting Staten Island Baby\n",
      "Failed requesting The Reels\n"
     ]
    },
    {
     "name": "stderr",
     "output_type": "stream",
     "text": [
      "Processing David Johansen_tracks.parquet:  89%|████████▊ | 258/291 [00:08<00:00, 34.16it/s]"
     ]
    },
    {
     "name": "stdout",
     "output_type": "stream",
     "text": [
      "Failed requesting James Connolly\n",
      "Failed requesting Five Points\n",
      "Failed requesting Rockin' The Bronx\n",
      "Failed requesting Johnny Comes a'Courtin\n",
      "Failed requesting Izzy's Irish Rose\n",
      "Failed requesting Those Saints\n",
      "Failed requesting Paddy's Got a Brand New Reel\n"
     ]
    },
    {
     "name": "stderr",
     "output_type": "stream",
     "text": [
      "Processing David Johansen_tracks.parquet:  91%|█████████▏| 266/291 [00:08<00:00, 34.35it/s]"
     ]
    },
    {
     "name": "stdout",
     "output_type": "stream",
     "text": [
      "Failed requesting I Got Laid on James Joyce's Grave\n",
      "Failed requesting Three Complete American Novels - Re-Mixed and Re-Mastered\n",
      "Failed requesting Winners, Losers, Beggars, Choosers - Re-Mixed and Re-Mastered\n",
      "Failed requesting Doctor Calabash - Re-Mixed and Re-Mastered\n",
      "Failed requesting Blues Responsibility - Re-Mixed and Re-Mastered\n",
      "Failed requesting Saving Time - Re-Mixed and Re-Mastered\n",
      "Failed requesting Party Girls and Broken Poets - Re-Mixed and Re-Mastered\n",
      "Failed requesting Like a Rocket - Re-Mixed and Re-Mastered\n"
     ]
    },
    {
     "name": "stderr",
     "output_type": "stream",
     "text": [
      "Processing David Johansen_tracks.parquet:  94%|█████████▍| 274/291 [00:08<00:00, 35.70it/s]"
     ]
    },
    {
     "name": "stdout",
     "output_type": "stream",
     "text": [
      "Failed requesting Last Call - Re-Mixed and Re-Mastered\n",
      "Failed requesting Something New - Re-Mixed and Re-Mastered\n",
      "Failed requesting The Streets of New York - Re-Mixed and Re-Mastered\n",
      "Failed requesting In a Minute - Re-Mixed and Re-Mastered\n",
      "Failed requesting Everybody Knows - Re-Mixed and Re-Mastered\n",
      "Failed requesting The World Is Yours\n",
      "Failed requesting Personality Crisis\n",
      "Failed requesting No Good\n"
     ]
    },
    {
     "name": "stderr",
     "output_type": "stream",
     "text": [
      "Processing David Johansen_tracks.parquet:  97%|█████████▋| 283/291 [00:09<00:00, 34.62it/s]"
     ]
    },
    {
     "name": "stdout",
     "output_type": "stream",
     "text": [
      "Failed requesting Sugar Daddy - Theme from Vinyl\n",
      "Failed requesting Mama He Treats Your Daughter Mean\n",
      "Failed requesting Mr. Pitiful\n",
      "Failed requesting Suspicious Minds\n",
      "Failed requesting All the Way from Memphis\n",
      "Failed requesting Stranded in the Jungle\n",
      "Failed requesting I Like It Like That\n",
      "Failed requesting Cha Cha Twist\n",
      "Failed requesting It's Just Begun\n"
     ]
    },
    {
     "name": "stderr",
     "output_type": "stream",
     "text": [
      "Processing David Johansen_tracks.parquet: 100%|██████████| 291/291 [00:09<00:00, 31.24it/s]\n",
      "Processing David Kikoski_tracks.parquet:   0%|          | 0/131 [00:00<?, ?it/s]"
     ]
    },
    {
     "name": "stdout",
     "output_type": "stream",
     "text": [
      "Failed requesting Want Ads\n",
      "Failed requesting Hand Clapping Song\n",
      "Failed requesting Slippin' into Darkness\n",
      "Failed requesting Frankenstein\n",
      "Failed requesting Rotten Apple\n",
      "Failed requesting I Just Want to Make Love to You\n",
      "Failed requesting B Flat Tune\n"
     ]
    },
    {
     "name": "stderr",
     "output_type": "stream",
     "text": [
      "Processing David Kikoski_tracks.parquet:   6%|▌         | 8/131 [00:00<00:03, 34.88it/s]"
     ]
    },
    {
     "name": "stdout",
     "output_type": "stream",
     "text": [
      "Failed requesting E\n",
      "Failed requesting Fugue from \"The Endless Enigma\"\n",
      "Failed requesting Strength for Change\n",
      "Failed requesting Quartet #1\n",
      "Failed requesting Satellite\n",
      "Failed requesting Sure Thing\n",
      "Failed requesting Winnie's Garden\n"
     ]
    },
    {
     "name": "stderr",
     "output_type": "stream",
     "text": [
      "Processing David Kikoski_tracks.parquet:   9%|▉         | 12/131 [00:00<00:03, 34.91it/s]"
     ]
    },
    {
     "name": "stdout",
     "output_type": "stream",
     "text": [
      "Failed requesting Jean's Dream\n",
      "Failed requesting Peri\n",
      "Failed requesting Night & Day\n",
      "Failed requesting Games\n",
      "Failed requesting Blues for Jones\n",
      "Failed requesting I Remember Bu\n",
      "Failed requesting Red's Brazilian Fantasy\n"
     ]
    },
    {
     "name": "stderr",
     "output_type": "stream",
     "text": [
      "Processing David Kikoski_tracks.parquet:  12%|█▏        | 16/131 [00:00<00:03, 36.26it/s]"
     ]
    },
    {
     "name": "stdout",
     "output_type": "stream",
     "text": [
      "Failed requesting If I Were a Bell\n",
      "Failed requesting Phoenix Rising\n",
      "Failed requesting Kik It\n",
      "Failed requesting Wichita Lineman\n"
     ]
    },
    {
     "name": "stderr",
     "output_type": "stream",
     "text": [
      "Processing David Kikoski_tracks.parquet:  18%|█▊        | 24/131 [00:00<00:04, 24.74it/s]"
     ]
    },
    {
     "name": "stdout",
     "output_type": "stream",
     "text": [
      "Failed requesting If I Were a Bell\n",
      "Failed requesting Emily\n",
      "Failed requesting Love for Sale\n",
      "Failed requesting My One and Only Love\n",
      "Failed requesting Lazy Bird\n",
      "Failed requesting Willow Weep for Me\n",
      "Failed requesting Au Privave\n"
     ]
    },
    {
     "name": "stderr",
     "output_type": "stream",
     "text": [
      "Processing David Kikoski_tracks.parquet:  21%|██▏       | 28/131 [00:00<00:03, 27.16it/s]"
     ]
    },
    {
     "name": "stdout",
     "output_type": "stream",
     "text": [
      "Failed requesting Binge Watching\n",
      "Failed requesting Morning Glory\n",
      "Failed requesting H & H\n",
      "Failed requesting Switching Roles\n",
      "Failed requesting Mirror Mirror\n"
     ]
    },
    {
     "name": "stderr",
     "output_type": "stream",
     "text": [
      "Processing David Kikoski_tracks.parquet:  27%|██▋       | 35/131 [00:01<00:03, 25.87it/s]"
     ]
    },
    {
     "name": "stdout",
     "output_type": "stream",
     "text": [
      "Failed requesting Trinkle Tinkle\n",
      "Failed requesting Smoke Gets in Your Eyes\n",
      "Failed requesting Blues for Gerry\n",
      "Failed requesting 95 over B\n",
      "Failed requesting Final Destination\n",
      "Failed requesting Block C\n"
     ]
    },
    {
     "name": "stderr",
     "output_type": "stream",
     "text": [
      "Processing David Kikoski_tracks.parquet:  33%|███▎      | 43/131 [00:01<00:02, 30.08it/s]"
     ]
    },
    {
     "name": "stdout",
     "output_type": "stream",
     "text": [
      "Failed requesting Dizengoff\n",
      "Failed requesting Metrics\n",
      "Failed requesting The Jerk\n",
      "Failed requesting NYC Nights\n",
      "Failed requesting Funky Junky\n",
      "Failed requesting Second Phase\n",
      "Failed requesting 'S Wonderful\n",
      "Failed requesting Discipline\n"
     ]
    },
    {
     "name": "stderr",
     "output_type": "stream",
     "text": [
      "Processing David Kikoski_tracks.parquet:  39%|███▉      | 51/131 [00:01<00:02, 33.26it/s]"
     ]
    },
    {
     "name": "stdout",
     "output_type": "stream",
     "text": [
      "Failed requesting July\n",
      "Failed requesting Bright Soul\n",
      "Failed requesting Gloria's Step\n",
      "Failed requesting Uprising\n",
      "Failed requesting Opening\n",
      "Failed requesting The Gift\n",
      "Failed requesting I Love You\n",
      "Failed requesting Together\n"
     ]
    },
    {
     "name": "stderr",
     "output_type": "stream",
     "text": [
      "Processing David Kikoski_tracks.parquet:  45%|████▌     | 59/131 [00:01<00:02, 34.98it/s]"
     ]
    },
    {
     "name": "stdout",
     "output_type": "stream",
     "text": [
      "Failed requesting Grey Areas\n",
      "Failed requesting Blues on the Corner\n",
      "Failed requesting Old Folks\n",
      "Failed requesting Chance\n",
      "Failed requesting Doxy\n",
      "Failed requesting TBS\n",
      "Failed requesting Autumn Leaves\n",
      "Failed requesting Leaves\n"
     ]
    },
    {
     "name": "stderr",
     "output_type": "stream",
     "text": [
      "Processing David Kikoski_tracks.parquet:  52%|█████▏    | 68/131 [00:02<00:01, 36.72it/s]"
     ]
    },
    {
     "name": "stdout",
     "output_type": "stream",
     "text": [
      "Failed requesting In Your Own Sweet Way\n",
      "Failed requesting Detachement\n",
      "Failed requesting 7-4 Ballad\n",
      "Failed requesting Inner Urge\n",
      "Failed requesting Juriki\n",
      "Failed requesting Adorable You\n",
      "Failed requesting K's Blues\n",
      "Failed requesting Presage\n",
      "Failed requesting Tag Blues\n"
     ]
    },
    {
     "name": "stderr",
     "output_type": "stream",
     "text": [
      "Processing David Kikoski_tracks.parquet:  55%|█████▍    | 72/131 [00:02<00:01, 37.20it/s]"
     ]
    },
    {
     "name": "stdout",
     "output_type": "stream",
     "text": [
      "Failed requesting Oh No\n",
      "Failed requesting Cardboard\n",
      "Failed requesting Four In One\n",
      "Failed requesting A Noite Do Meu Bem\n",
      "Failed requesting Little Melonae\n",
      "Failed requesting Surf's Up\n"
     ]
    },
    {
     "name": "stderr",
     "output_type": "stream",
     "text": [
      "Processing David Kikoski_tracks.parquet:  64%|██████▍   | 84/131 [00:02<00:01, 35.31it/s]"
     ]
    },
    {
     "name": "stdout",
     "output_type": "stream",
     "text": [
      "Failed requesting Bird Feathers\n",
      "Failed requesting Muito A Vontade\n",
      "Failed requesting Waiting For G.M.\n",
      "Failed requesting Rose Part 1 And 2\n",
      "Failed requesting Water\n",
      "Failed requesting Games\n",
      "Failed requesting Almost Twilight\n",
      "Failed requesting Betrayal\n"
     ]
    },
    {
     "name": "stderr",
     "output_type": "stream",
     "text": [
      "Processing David Kikoski_tracks.parquet:  67%|██████▋   | 88/131 [00:02<00:01, 35.67it/s]"
     ]
    },
    {
     "name": "stdout",
     "output_type": "stream",
     "text": [
      "Failed requesting Blues In The Face\n",
      "Failed requesting Opportunity\n",
      "Failed requesting Immediacy\n",
      "Failed requesting Seventh Avenue\n",
      "Failed requesting Juriki\n",
      "Failed requesting Higher Grounds\n",
      "Failed requesting Litha\n",
      "Failed requesting Longing\n"
     ]
    },
    {
     "name": "stderr",
     "output_type": "stream",
     "text": [
      "Processing David Kikoski_tracks.parquet:  73%|███████▎  | 96/131 [00:02<00:00, 37.05it/s]"
     ]
    },
    {
     "name": "stdout",
     "output_type": "stream",
     "text": [
      "Failed requesting Touch Her Soft Lips and Part\n",
      "Failed requesting I Fall in Love Too Easily\n",
      "Failed requesting Dear John\n",
      "Failed requesting Land of Me\n",
      "Failed requesting Some Other Blues\n",
      "Failed requesting Softly, As In A Morning Sunrise\n",
      "Failed requesting Mirical\n"
     ]
    },
    {
     "name": "stderr",
     "output_type": "stream",
     "text": [
      "Processing David Kikoski_tracks.parquet:  79%|███████▉  | 104/131 [00:03<00:00, 36.64it/s]"
     ]
    },
    {
     "name": "stdout",
     "output_type": "stream",
     "text": [
      "Failed requesting Inner Trust\n",
      "Failed requesting You Don't What Love Is\n",
      "Failed requesting Two Lonely People\n",
      "Failed requesting Once Upon A Summertime\n",
      "Failed requesting We See\n",
      "Failed requesting Old Folks\n",
      "Failed requesting Winnie's Garden\n",
      "Failed requesting Old Devil Moon\n"
     ]
    },
    {
     "name": "stderr",
     "output_type": "stream",
     "text": [
      "Processing David Kikoski_tracks.parquet:  85%|████████▌ | 112/131 [00:03<00:00, 34.58it/s]"
     ]
    },
    {
     "name": "stdout",
     "output_type": "stream",
     "text": [
      "Failed requesting Peace\n",
      "Failed requesting Theme For Ernie\n",
      "Failed requesting B Flat Tune\n",
      "Failed requesting Fugue from \"The Endless Enigma\"\n",
      "Failed requesting Kik It\n",
      "Failed requesting Love for Sale\n",
      "Failed requesting Crosswind\n"
     ]
    },
    {
     "name": "stderr",
     "output_type": "stream",
     "text": [
      "Processing David Kikoski_tracks.parquet:  92%|█████████▏| 120/131 [00:03<00:00, 34.89it/s]"
     ]
    },
    {
     "name": "stdout",
     "output_type": "stream",
     "text": [
      "Failed requesting Blues for Vecna\n",
      "Failed requesting If I Were a Bell\n",
      "Failed requesting Juno\n",
      "Failed requesting Lemon & Tangerine\n",
      "Failed requesting Palatine Hill\n",
      "Failed requesting Gravity\n",
      "Failed requesting Request for Wisdom\n",
      "Failed requesting Blues for Vecna\n"
     ]
    },
    {
     "name": "stderr",
     "output_type": "stream",
     "text": [
      "Processing David Kikoski_tracks.parquet:  98%|█████████▊| 129/131 [00:03<00:00, 36.43it/s]"
     ]
    },
    {
     "name": "stdout",
     "output_type": "stream",
     "text": [
      "Failed requesting Mel's Vision\n",
      "Failed requesting Summer's End\n",
      "Failed requesting Four by Five\n",
      "Failed requesting Maritima\n",
      "Failed requesting Vesnianka\n",
      "Failed requesting Bird Food (Take 2)\n",
      "Failed requesting Balmoral Point\n",
      "Failed requesting Peggy's Blue Skylight\n",
      "Failed requesting Bird Food (Take 1 – Alternate Take)\n"
     ]
    },
    {
     "name": "stderr",
     "output_type": "stream",
     "text": [
      "Processing David Kikoski_tracks.parquet: 100%|██████████| 131/131 [00:03<00:00, 33.12it/s]\n",
      "Processing David Kilgour_tracks.parquet:   2%|▏         | 4/252 [00:00<00:06, 37.26it/s]"
     ]
    },
    {
     "name": "stdout",
     "output_type": "stream",
     "text": [
      "Failed requesting Entrance\n",
      "Failed requesting Smoke you right out of here\n",
      "Failed requesting Crawler\n",
      "Failed requesting Threads\n",
      "Failed requesting Coming in from nowhere now\n"
     ]
    },
    {
     "name": "stderr",
     "output_type": "stream",
     "text": [
      "Processing David Kilgour_tracks.parquet:   5%|▍         | 12/252 [00:00<00:07, 30.37it/s]"
     ]
    },
    {
     "name": "stdout",
     "output_type": "stream",
     "text": [
      "Failed requesting Spotlight\n",
      "Failed requesting Swan loop\n",
      "Failed requesting If you were here and I was there\n",
      "Failed requesting Looks like I’m running out\n",
      "Failed requesting Ngapara\n",
      "Failed requesting No No No\n",
      "Failed requesting No No No\n",
      "Failed requesting Fallaway\n",
      "Failed requesting Fallaway\n"
     ]
    },
    {
     "name": "stderr",
     "output_type": "stream",
     "text": [
      "Processing David Kilgour_tracks.parquet:   8%|▊         | 21/252 [00:00<00:06, 36.21it/s]"
     ]
    },
    {
     "name": "stdout",
     "output_type": "stream",
     "text": [
      "Failed requesting 1987\n",
      "Failed requesting 1987\n",
      "Failed requesting Filter\n",
      "Failed requesting Filter\n",
      "Failed requesting Beached\n",
      "Failed requesting Beached\n",
      "Failed requesting Nail in My Foot\n",
      "Failed requesting Nail in My Foot\n",
      "Failed requesting Waiting Round on You\n"
     ]
    },
    {
     "name": "stderr",
     "output_type": "stream",
     "text": [
      "Processing David Kilgour_tracks.parquet:  12%|█▏        | 30/252 [00:00<00:05, 37.87it/s]"
     ]
    },
    {
     "name": "stdout",
     "output_type": "stream",
     "text": [
      "Failed requesting Waiting Round on You\n",
      "Failed requesting Crazy\n",
      "Failed requesting Crazy\n",
      "Failed requesting Listen to the Rain\n",
      "Failed requesting Listen to the Rain\n",
      "Failed requesting Look at It\n",
      "Failed requesting Look at It\n",
      "Failed requesting Recollection\n",
      "Failed requesting Recollection\n"
     ]
    },
    {
     "name": "stderr",
     "output_type": "stream",
     "text": [
      "Processing David Kilgour_tracks.parquet:  15%|█▌        | 39/252 [00:01<00:05, 38.78it/s]"
     ]
    },
    {
     "name": "stdout",
     "output_type": "stream",
     "text": [
      "Failed requesting Never End\n",
      "Failed requesting Never End\n",
      "Failed requesting Winter\n",
      "Failed requesting Winter\n",
      "Failed requesting Look at It (El Speedo)\n",
      "Failed requesting Look at It (El Speedo)\n",
      "Failed requesting Filter - Demo\n",
      "Failed requesting Filter - Demo\n"
     ]
    },
    {
     "name": "stderr",
     "output_type": "stream",
     "text": [
      "Processing David Kilgour_tracks.parquet:  17%|█▋        | 44/252 [00:01<00:05, 38.68it/s]"
     ]
    },
    {
     "name": "stdout",
     "output_type": "stream",
     "text": [
      "Failed requesting Nail in My Foot - Demo\n",
      "Failed requesting Nail in My Foot - Demo\n",
      "Failed requesting Fallaway - Demo\n",
      "Failed requesting Beached - Demo\n",
      "Failed requesting Listen to the Rain - Demo\n",
      "Failed requesting Look at It - Demo\n",
      "Failed requesting Rainbows - And a Promise of Snow\n",
      "Failed requesting Maintrunk Country Road Song\n"
     ]
    },
    {
     "name": "stderr",
     "output_type": "stream",
     "text": [
      "Processing David Kilgour_tracks.parquet:  22%|██▏       | 56/252 [00:01<00:05, 37.33it/s]"
     ]
    },
    {
     "name": "stdout",
     "output_type": "stream",
     "text": [
      "Failed requesting The Seventh\n",
      "Failed requesting A New Plateau Song\n",
      "Failed requesting Wavesong\n",
      "Failed requesting Jerusalem Blues\n",
      "Failed requesting War History\n",
      "Failed requesting You House the Moon\n",
      "Failed requesting The Gunners Lament\n",
      "Failed requesting The Second Coming\n"
     ]
    },
    {
     "name": "stderr",
     "output_type": "stream",
     "text": [
      "Processing David Kilgour_tracks.parquet:  25%|██▌       | 64/252 [00:01<00:05, 36.56it/s]"
     ]
    },
    {
     "name": "stdout",
     "output_type": "stream",
     "text": [
      "Failed requesting To Be a House\n",
      "Failed requesting When Morning Comes\n",
      "Failed requesting Sara\n",
      "Failed requesting Left by Soft\n",
      "Failed requesting Way Down Here\n",
      "Failed requesting A Break in the Weather\n",
      "Failed requesting Steel Arrow\n",
      "Failed requesting Pop Song\n"
     ]
    },
    {
     "name": "stderr",
     "output_type": "stream",
     "text": [
      "Processing David Kilgour_tracks.parquet:  27%|██▋       | 68/252 [00:01<00:05, 36.45it/s]"
     ]
    },
    {
     "name": "stdout",
     "output_type": "stream",
     "text": [
      "Failed requesting Autumn Sun\n",
      "Failed requesting Theme\n",
      "Failed requesting Diamond Mine\n",
      "Failed requesting I'll Climb Back Up That Hill\n",
      "Failed requesting Could Be on My Way\n",
      "Failed requesting Purple Balloon\n",
      "Failed requesting Like Rain\n"
     ]
    },
    {
     "name": "stderr",
     "output_type": "stream",
     "text": [
      "Processing David Kilgour_tracks.parquet:  30%|███       | 76/252 [00:02<00:04, 37.45it/s]"
     ]
    },
    {
     "name": "stdout",
     "output_type": "stream",
     "text": [
      "Failed requesting Lose Myself in Sound\n",
      "Failed requesting Light Headed\n",
      "Failed requesting Christopher Columbus\n",
      "Failed requesting Crow\n",
      "Failed requesting Dropper\n",
      "Failed requesting Comin' On\n",
      "Failed requesting I Don't Want to Live Alone\n",
      "Failed requesting Down the Tubes\n",
      "Failed requesting Some Things You Don't Get Back\n"
     ]
    },
    {
     "name": "stderr",
     "output_type": "stream",
     "text": [
      "Processing David Kilgour_tracks.parquet:  34%|███▎      | 85/252 [00:02<00:04, 37.99it/s]"
     ]
    },
    {
     "name": "stdout",
     "output_type": "stream",
     "text": [
      "Failed requesting Intro\n",
      "Failed requesting Chord\n",
      "Failed requesting Every Time It Rains Like This\n",
      "Failed requesting I Throw You Flowers\n",
      "Failed requesting First One Hit\n",
      "Failed requesting Talking of the Weather\n",
      "Failed requesting Friend to Many\n",
      "Failed requesting They Are Clouds\n"
     ]
    },
    {
     "name": "stderr",
     "output_type": "stream",
     "text": [
      "Processing David Kilgour_tracks.parquet:  37%|███▋      | 93/252 [00:02<00:04, 35.96it/s]"
     ]
    },
    {
     "name": "stdout",
     "output_type": "stream",
     "text": [
      "Failed requesting River Plateau Song\n",
      "Failed requesting Return to Rangitoto\n",
      "Failed requesting A Summertime Blues for Tom\n",
      "Failed requesting Reprise\n",
      "Failed requesting Sun of God\n",
      "Failed requesting BBC World\n",
      "Failed requesting Under Cloud\n"
     ]
    },
    {
     "name": "stderr",
     "output_type": "stream",
     "text": [
      "Processing David Kilgour_tracks.parquet:  40%|████      | 101/252 [00:02<00:04, 33.26it/s]"
     ]
    },
    {
     "name": "stdout",
     "output_type": "stream",
     "text": [
      "Failed requesting Yenisei\n",
      "Failed requesting Wave of Love\n",
      "Failed requesting On Your Own\n",
      "Failed requesting I'm Gonna Get Better Lately\n",
      "Failed requesting I Cut My Heart Out Once\n",
      "Failed requesting We Really Can't Get Along\n"
     ]
    },
    {
     "name": "stderr",
     "output_type": "stream",
     "text": [
      "Processing David Kilgour_tracks.parquet:  42%|████▏     | 105/252 [00:02<00:04, 33.12it/s]"
     ]
    },
    {
     "name": "stdout",
     "output_type": "stream",
     "text": [
      "Failed requesting Too Long From Me\n",
      "Failed requesting Donna & Jeff\n",
      "Failed requesting Out of the Moment\n",
      "Failed requesting Today Is Gonna Be Mine\n",
      "Failed requesting Today Is Gonna Be Mine\n",
      "Failed requesting The Perfect Watch\n",
      "Failed requesting The Perfect Watch\n"
     ]
    },
    {
     "name": "stderr",
     "output_type": "stream",
     "text": [
      "Processing David Kilgour_tracks.parquet:  45%|████▌     | 114/252 [00:03<00:03, 34.90it/s]"
     ]
    },
    {
     "name": "stdout",
     "output_type": "stream",
     "text": [
      "Failed requesting All the Rest\n",
      "Failed requesting All the Rest\n",
      "Failed requesting Sept. 98\n",
      "Failed requesting Sept. 98\n",
      "Failed requesting Gold in Sound\n",
      "Failed requesting Gold in Sound\n",
      "Failed requesting Rocket\n",
      "Failed requesting Rocket\n"
     ]
    },
    {
     "name": "stderr",
     "output_type": "stream",
     "text": [
      "Processing David Kilgour_tracks.parquet:  49%|████▉     | 123/252 [00:03<00:03, 37.25it/s]"
     ]
    },
    {
     "name": "stdout",
     "output_type": "stream",
     "text": [
      "Failed requesting A Headful of Rolling Stones\n",
      "Failed requesting A Headful of Rolling Stones\n",
      "Failed requesting Blue Sky\n",
      "Failed requesting Blue Sky\n",
      "Failed requesting Gold in Sound\n",
      "Failed requesting Gold in Sound\n",
      "Failed requesting Rocket\n",
      "Failed requesting Rocket\n",
      "Failed requesting A Headful of Rolling Stones\n"
     ]
    },
    {
     "name": "stderr",
     "output_type": "stream",
     "text": [
      "Processing David Kilgour_tracks.parquet:  52%|█████▏    | 132/252 [00:03<00:03, 37.67it/s]"
     ]
    },
    {
     "name": "stdout",
     "output_type": "stream",
     "text": [
      "Failed requesting A Headful of Rolling Stones\n",
      "Failed requesting Blue Sky\n",
      "Failed requesting Blue Sky\n",
      "Failed requesting The Waltz\n",
      "Failed requesting Living in Space\n",
      "Failed requesting Frozen Orange\n",
      "Failed requesting Dogs Barking\n",
      "Failed requesting G-Maj 7\n"
     ]
    },
    {
     "name": "stderr",
     "output_type": "stream",
     "text": [
      "Processing David Kilgour_tracks.parquet:  56%|█████▌    | 141/252 [00:03<00:02, 39.26it/s]"
     ]
    },
    {
     "name": "stdout",
     "output_type": "stream",
     "text": [
      "Failed requesting Everybody’s on a Ride\n",
      "Failed requesting Rolling\n",
      "Failed requesting Today Is Gonna Be Mine\n",
      "Failed requesting Today Is Gonna Be Mine\n",
      "Failed requesting The Perfect Watch\n",
      "Failed requesting The Perfect Watch\n",
      "Failed requesting All the Rest\n",
      "Failed requesting All the Rest\n",
      "Failed requesting Sept. 98\n"
     ]
    },
    {
     "name": "stderr",
     "output_type": "stream",
     "text": [
      "Processing David Kilgour_tracks.parquet:  58%|█████▊    | 145/252 [00:04<00:03, 34.98it/s]"
     ]
    },
    {
     "name": "stdout",
     "output_type": "stream",
     "text": [
      "Failed requesting Sept. 98\n",
      "Failed requesting Slippery Slope\n",
      "Failed requesting Instra 2\n",
      "Failed requesting I Lost My Train\n",
      "Failed requesting Time to Run\n",
      "Failed requesting I Caught You\n",
      "Failed requesting Instra 2 Reprise\n"
     ]
    },
    {
     "name": "stderr",
     "output_type": "stream",
     "text": [
      "Processing David Kilgour_tracks.parquet:  63%|██████▎   | 158/252 [00:04<00:02, 37.95it/s]"
     ]
    },
    {
     "name": "stdout",
     "output_type": "stream",
     "text": [
      "Failed requesting Wooden Shed\n",
      "Failed requesting Which One\n",
      "Failed requesting Backwards Forwards\n",
      "Failed requesting No No No\n",
      "Failed requesting No No No\n",
      "Failed requesting Fallaway\n",
      "Failed requesting Fallaway\n",
      "Failed requesting 1987\n",
      "Failed requesting 1987\n"
     ]
    },
    {
     "name": "stderr",
     "output_type": "stream",
     "text": [
      "Processing David Kilgour_tracks.parquet:  65%|██████▍   | 163/252 [00:04<00:02, 38.44it/s]"
     ]
    },
    {
     "name": "stdout",
     "output_type": "stream",
     "text": [
      "Failed requesting Filter\n",
      "Failed requesting Filter\n",
      "Failed requesting Beached\n",
      "Failed requesting Beached\n",
      "Failed requesting Nail in My Foot\n",
      "Failed requesting Nail in My Foot\n",
      "Failed requesting Waiting Round on You\n",
      "Failed requesting Waiting Round on You\n"
     ]
    },
    {
     "name": "stderr",
     "output_type": "stream",
     "text": [
      "Processing David Kilgour_tracks.parquet:  66%|██████▋   | 167/252 [00:04<00:02, 38.01it/s]"
     ]
    },
    {
     "name": "stdout",
     "output_type": "stream",
     "text": [
      "Failed requesting Crazy\n",
      "Failed requesting Crazy\n",
      "Failed requesting Listen to the Rain\n",
      "Failed requesting Listen to the Rain\n",
      "Failed requesting Look at It\n"
     ]
    },
    {
     "name": "stderr",
     "output_type": "stream",
     "text": [
      "Processing David Kilgour_tracks.parquet:  69%|██████▉   | 175/252 [00:04<00:02, 32.66it/s]"
     ]
    },
    {
     "name": "stdout",
     "output_type": "stream",
     "text": [
      "Failed requesting Look at It\n",
      "Failed requesting Recollection\n",
      "Failed requesting Recollection\n",
      "Failed requesting Never End\n",
      "Failed requesting Never End\n",
      "Failed requesting Winter\n",
      "Failed requesting Winter\n",
      "Failed requesting Look at It (El Speedo)\n",
      "Failed requesting Look at It (El Speedo)\n"
     ]
    },
    {
     "name": "stderr",
     "output_type": "stream",
     "text": [
      "Processing David Kilgour_tracks.parquet:  73%|███████▎  | 185/252 [00:05<00:01, 36.73it/s]"
     ]
    },
    {
     "name": "stdout",
     "output_type": "stream",
     "text": [
      "Failed requesting Filter - Demo\n",
      "Failed requesting Filter - Demo\n",
      "Failed requesting Nail in My Foot - Demo\n",
      "Failed requesting Nail in My Foot - Demo\n",
      "Failed requesting Here Come the Cars\n",
      "Failed requesting Fine\n",
      "Failed requesting You Forget\n"
     ]
    },
    {
     "name": "stderr",
     "output_type": "stream",
     "text": [
      "Processing David Kilgour_tracks.parquet:  77%|███████▋  | 194/252 [00:05<00:01, 37.63it/s]"
     ]
    },
    {
     "name": "stdout",
     "output_type": "stream",
     "text": [
      "Failed requesting Shivering\n",
      "Failed requesting Spasm\n",
      "Failed requesting Splash Your Jewels\n",
      "Failed requesting Sometimes\n",
      "Failed requesting Kills All My Fun\n",
      "Failed requesting Spins You Round\n",
      "Failed requesting Blueprint\n",
      "Failed requesting Uplift\n",
      "Failed requesting Because It Was You\n"
     ]
    },
    {
     "name": "stderr",
     "output_type": "stream",
     "text": [
      "Processing David Kilgour_tracks.parquet:  80%|████████  | 202/252 [00:05<00:01, 32.81it/s]"
     ]
    },
    {
     "name": "stdout",
     "output_type": "stream",
     "text": [
      "Failed requesting Nothing - Volume 1\n",
      "Failed requesting When You Hit The Ground Running\n",
      "Failed requesting Christopher Columbus\n",
      "Failed requesting Shifting Sands\n",
      "Failed requesting Whakamoemiti\n",
      "Failed requesting A Bubbling New Dawn\n"
     ]
    },
    {
     "name": "stderr",
     "output_type": "stream",
     "text": [
      "Processing David Kilgour_tracks.parquet:  82%|████████▏ | 206/252 [00:05<00:01, 33.54it/s]"
     ]
    },
    {
     "name": "stdout",
     "output_type": "stream",
     "text": [
      "Failed requesting Light After the Dark\n",
      "Failed requesting First to See the Sun\n",
      "Failed requesting Cake of Light\n",
      "Failed requesting Blue Yellow\n",
      "Failed requesting Rose Mountain Dawn\n",
      "Failed requesting Always Beside Me\n",
      "Failed requesting When You Hit the Ground Running\n"
     ]
    },
    {
     "name": "stderr",
     "output_type": "stream",
     "text": [
      "Processing David Kilgour_tracks.parquet:  85%|████████▍ | 214/252 [00:05<00:01, 35.90it/s]"
     ]
    },
    {
     "name": "stdout",
     "output_type": "stream",
     "text": [
      "Failed requesting Bring the Light\n",
      "Failed requesting Sunrise\n",
      "Failed requesting Ra\n",
      "Failed requesting Look to the East\n",
      "Failed requesting The One\n",
      "Failed requesting Tourists for a Day\n",
      "Failed requesting Dawn Chorus\n",
      "Failed requesting In the Morning\n",
      "Failed requesting I'm Thankful to Be Here (Vicious World)\n"
     ]
    },
    {
     "name": "stderr",
     "output_type": "stream",
     "text": [
      "Processing David Kilgour_tracks.parquet:  88%|████████▊ | 222/252 [00:06<00:00, 35.28it/s]"
     ]
    },
    {
     "name": "stdout",
     "output_type": "stream",
     "text": [
      "Failed requesting Rise and Shine\n",
      "Failed requesting Esirnus\n",
      "Failed requesting Solstice\n",
      "Failed requesting Good Morning People\n",
      "Failed requesting Hug The Coast\n",
      "Failed requesting Inbetween Slices\n",
      "Failed requesting Dreamworld\n"
     ]
    },
    {
     "name": "stderr",
     "output_type": "stream",
     "text": [
      "Processing David Kilgour_tracks.parquet:  91%|█████████▏| 230/252 [00:06<00:00, 34.29it/s]"
     ]
    },
    {
     "name": "stdout",
     "output_type": "stream",
     "text": [
      "Failed requesting Fly Into My Dreams\n",
      "Failed requesting Thursday\n",
      "Failed requesting Some Kinda Blues\n",
      "Failed requesting You Are My Boy\n",
      "Failed requesting Rachel\n",
      "Failed requesting Ophinate\n",
      "Failed requesting Deep Down\n",
      "Failed requesting We Can Now Be Free\n"
     ]
    },
    {
     "name": "stderr",
     "output_type": "stream",
     "text": [
      "Processing David Kilgour_tracks.parquet:  94%|█████████▍| 238/252 [00:06<00:00, 34.51it/s]"
     ]
    },
    {
     "name": "stdout",
     "output_type": "stream",
     "text": [
      "Failed requesting I Love Everyone\n",
      "Failed requesting Sunday\n",
      "Failed requesting Scalding Creek\n",
      "Failed requesting Stabbing A Star\n",
      "Failed requesting Man Called Aerodynamics\n",
      "Failed requesting A Salty Salute\n",
      "Failed requesting My Valuable Hunting Knife\n",
      "Failed requesting Tractor Rape Chain\n"
     ]
    },
    {
     "name": "stderr",
     "output_type": "stream",
     "text": [
      "Processing David Kilgour_tracks.parquet:  98%|█████████▊| 247/252 [00:06<00:00, 36.47it/s]"
     ]
    },
    {
     "name": "stdout",
     "output_type": "stream",
     "text": [
      "Failed requesting Game of Pricks\n",
      "Failed requesting Echos Myron\n",
      "Failed requesting Buzzards and Dreadful Crows\n",
      "Failed requesting Smothered in Hugs\n",
      "Failed requesting Watch Me Jumpstart\n",
      "Failed requesting I Am Produced\n",
      "Failed requesting How Loft I Am?\n",
      "Failed requesting Gleemer\n"
     ]
    },
    {
     "name": "stderr",
     "output_type": "stream",
     "text": [
      "Processing David Kilgour_tracks.parquet: 100%|██████████| 252/252 [00:07<00:00, 35.95it/s]\n",
      "Processing David Lanz_tracks.parquet:   0%|          | 0/232 [00:00<?, ?it/s]"
     ]
    },
    {
     "name": "stdout",
     "output_type": "stream",
     "text": [
      "Failed requesting Everywhere with Helicopter\n",
      "Failed requesting I Am A Tree\n",
      "Failed requesting Hot Freaks\n",
      "Failed requesting Lettere D’amore\n",
      "Failed requesting Il Giardino Incantato (The Enchanted Garden)\n",
      "Failed requesting Aria\n",
      "Failed requesting Sonata\n",
      "Failed requesting Matters of the Heart\n"
     ]
    },
    {
     "name": "stderr",
     "output_type": "stream",
     "text": [
      "Processing David Lanz_tracks.parquet:   4%|▍         | 10/232 [00:00<00:05, 40.69it/s]"
     ]
    },
    {
     "name": "stdout",
     "output_type": "stream",
     "text": [
      "Failed requesting One More Night\n",
      "Failed requesting Alone\n",
      "Failed requesting Lover’s Bridge (Ponte Dell’amante)\n",
      "Failed requesting The Enchanted Garden (Il Giardino Incantato)\n",
      "Failed requesting Cosi Di Cuore (Matters of the Heart)\n",
      "Failed requesting My Aphrodite\n"
     ]
    },
    {
     "name": "stderr",
     "output_type": "stream",
     "text": [
      "Processing David Lanz_tracks.parquet:   8%|▊         | 19/232 [00:00<00:05, 35.55it/s]"
     ]
    },
    {
     "name": "stdout",
     "output_type": "stream",
     "text": [
      "Failed requesting Sol Dance\n",
      "Failed requesting Ponte Dell'amante\n",
      "Failed requesting Angels Falling\n",
      "Failed requesting Wonder Wave\n",
      "Failed requesting Rain Dancer Returns\n",
      "Failed requesting As Rivers Flow\n",
      "Failed requesting The Water Bearer\n",
      "Failed requesting Moonlight Lake\n"
     ]
    },
    {
     "name": "stderr",
     "output_type": "stream",
     "text": [
      "Processing David Lanz_tracks.parquet:  10%|▉         | 23/232 [00:00<00:06, 30.40it/s]"
     ]
    },
    {
     "name": "stdout",
     "output_type": "stream",
     "text": [
      "Failed requesting Neptune Dancing\n",
      "Failed requesting If I Could Write a Million Songs\n",
      "Failed requesting Helen Anaïs\n",
      "Failed requesting My Little Moonbeams\n",
      "Failed requesting Lovers' Waltz\n",
      "Failed requesting Love’s Return\n",
      "Failed requesting La Luna Dell’amante\n"
     ]
    },
    {
     "name": "stderr",
     "output_type": "stream",
     "text": [
      "Processing David Lanz_tracks.parquet:  12%|█▏        | 27/232 [00:00<00:06, 31.10it/s]"
     ]
    },
    {
     "name": "stdout",
     "output_type": "stream",
     "text": [
      "Failed requesting On Rainbow Way\n",
      "Failed requesting To Touch the Sky\n",
      "Failed requesting Rainlight\n",
      "Failed requesting I Hear You in a Song\n",
      "Failed requesting The Way Home\n"
     ]
    },
    {
     "name": "stderr",
     "output_type": "stream",
     "text": [
      "Processing David Lanz_tracks.parquet:  15%|█▌        | 35/232 [00:01<00:07, 27.14it/s]"
     ]
    },
    {
     "name": "stdout",
     "output_type": "stream",
     "text": [
      "Failed requesting Movements of the Heart\n",
      "Failed requesting White Horse\n",
      "Failed requesting In Moonlight\n",
      "Failed requesting Midnight Adagio (Amarie’s Theme)\n",
      "Failed requesting Here and Now\n",
      "Failed requesting I See You in the Stars\n",
      "Failed requesting The Wandering Path\n"
     ]
    },
    {
     "name": "stderr",
     "output_type": "stream",
     "text": [
      "Processing David Lanz_tracks.parquet:  19%|█▊        | 43/232 [00:01<00:06, 31.07it/s]"
     ]
    },
    {
     "name": "stdout",
     "output_type": "stream",
     "text": [
      "Failed requesting Conversation avec les Étoiles\n",
      "Failed requesting The River at Night\n",
      "Failed requesting Midnight Kiss\n",
      "Failed requesting Still Life #2\n",
      "Failed requesting Love Is Truth\n"
     ]
    },
    {
     "name": "stderr",
     "output_type": "stream",
     "text": [
      "Processing David Lanz_tracks.parquet:  20%|██        | 47/232 [00:01<00:06, 26.71it/s]"
     ]
    },
    {
     "name": "stdout",
     "output_type": "stream",
     "text": [
      "Failed requesting Marées de Matin\n",
      "Failed requesting French Blue\n",
      "Failed requesting Passages\n",
      "Failed requesting As Dreams Dance\n",
      "Failed requesting French Impressions\n",
      "Failed requesting Prières du soir\n",
      "Failed requesting Norwegian Rain\n",
      "Failed requesting The Approaching Storm\n"
     ]
    },
    {
     "name": "stderr",
     "output_type": "stream",
     "text": [
      "Processing David Lanz_tracks.parquet:  24%|██▎       | 55/232 [00:01<00:05, 29.57it/s]"
     ]
    },
    {
     "name": "stdout",
     "output_type": "stream",
     "text": [
      "Failed requesting Cloud Burst (Interlude)\n",
      "Failed requesting And Skies Opened Up\n",
      "Failed requesting Autumn Comes Winter\n",
      "Failed requesting Fjord Spring\n",
      "Failed requesting The Last Days of Summer\n",
      "Failed requesting A Child for All Seasons\n",
      "Failed requesting Sirkel Dans (Circle Dance)\n"
     ]
    },
    {
     "name": "stderr",
     "output_type": "stream",
     "text": [
      "Processing David Lanz_tracks.parquet:  27%|██▋       | 63/232 [00:02<00:05, 33.55it/s]"
     ]
    },
    {
     "name": "stdout",
     "output_type": "stream",
     "text": [
      "Failed requesting Troll-Dans (Troll-Dance)\n",
      "Failed requesting She Is... (Interlude)\n",
      "Failed requesting Kristina\n",
      "Failed requesting Adieu Sweet Mary\n",
      "Failed requesting Sunset over Nordland\n",
      "Failed requesting Aurora's Sunrise\n",
      "Failed requesting Waltz of the Northern Moon\n",
      "Failed requesting Painting the Sun\n",
      "Failed requesting Spanish Blue\n"
     ]
    },
    {
     "name": "stderr",
     "output_type": "stream",
     "text": [
      "Processing David Lanz_tracks.parquet:  31%|███▏      | 73/232 [00:02<00:04, 37.27it/s]"
     ]
    },
    {
     "name": "stdout",
     "output_type": "stream",
     "text": [
      "Failed requesting The Enchantment\n",
      "Failed requesting Her Solitude\n",
      "Failed requesting First Snow\n",
      "Failed requesting Turn Turn Turn (To Everything There Is a Season)\n",
      "Failed requesting Hymn\n",
      "Failed requesting Evening Song (Sanctuary Rose Rondo in G Minor, Pt. 1)\n",
      "Failed requesting Midnight Reverie (Sanctuary Rose Rondo in G Minor, Pt. 2)\n",
      "Failed requesting Daybreak Flower (Sanctuary Rose Rondo in G Minor, Pt. 3)\n",
      "Failed requesting Sleeping Dove\n"
     ]
    },
    {
     "name": "stderr",
     "output_type": "stream",
     "text": [
      "Processing David Lanz_tracks.parquet:  35%|███▌      | 82/232 [00:02<00:03, 38.61it/s]"
     ]
    },
    {
     "name": "stdout",
     "output_type": "stream",
     "text": [
      "Failed requesting The Soaring Heart\n",
      "Failed requesting The Promise\n",
      "Failed requesting Circles Round the Moon\n",
      "Failed requesting Falling\n",
      "Failed requesting Found by Love's Return\n",
      "Failed requesting Lady on the Shore\n",
      "Failed requesting Silhouette of Love\n",
      "Failed requesting Our Illusion\n",
      "Failed requesting Amore Eterno Redux\n"
     ]
    },
    {
     "name": "stderr",
     "output_type": "stream",
     "text": [
      "Processing David Lanz_tracks.parquet:  39%|███▉      | 90/232 [00:02<00:03, 38.25it/s]"
     ]
    },
    {
     "name": "stdout",
     "output_type": "stream",
     "text": [
      "Failed requesting Beatrice and Dante\n",
      "Failed requesting Waiting for the Sun\n",
      "Failed requesting So in Love\n",
      "Failed requesting Silver Threads (Without You)\n",
      "Failed requesting Winter’s Prelude\n",
      "Failed requesting Forever Christmas\n",
      "Failed requesting Snow Dance\n",
      "Failed requesting O Holy Night\n",
      "Failed requesting La Estrella De La Navidad\n"
     ]
    },
    {
     "name": "stderr",
     "output_type": "stream",
     "text": [
      "Processing David Lanz_tracks.parquet:  42%|████▏     | 98/232 [00:02<00:03, 38.07it/s]"
     ]
    },
    {
     "name": "stdout",
     "output_type": "stream",
     "text": [
      "Failed requesting Jubilate\n",
      "Failed requesting Sweet Winter Love\n",
      "Failed requesting What Is Christmas?\n",
      "Failed requesting Winter Star (How I Wonder)\n",
      "Failed requesting A Thousand Lights (Nu Tändas Tusen Juleljus)\n",
      "Failed requesting Sweet Winter Love (Instrumental)\n",
      "Failed requesting Silent Night\n",
      "Failed requesting What Is Christmas? (Instrumental)\n"
     ]
    },
    {
     "name": "stderr",
     "output_type": "stream",
     "text": [
      "Processing David Lanz_tracks.parquet:  46%|████▌     | 106/232 [00:03<00:03, 37.44it/s]"
     ]
    },
    {
     "name": "stdout",
     "output_type": "stream",
     "text": [
      "Failed requesting Heavenly Peace\n",
      "Failed requesting Love's Return\n",
      "Failed requesting La Luna dell' Amante\n",
      "Failed requesting On Rainbow Way\n",
      "Failed requesting To Touch the Sky\n",
      "Failed requesting Rainlight\n",
      "Failed requesting I Hear You in a Song\n",
      "Failed requesting The Way Home\n"
     ]
    },
    {
     "name": "stderr",
     "output_type": "stream",
     "text": [
      "Processing David Lanz_tracks.parquet:  50%|█████     | 116/232 [00:03<00:02, 38.93it/s]"
     ]
    },
    {
     "name": "stdout",
     "output_type": "stream",
     "text": [
      "Failed requesting Movements Of The Heart\n",
      "Failed requesting White Horse\n",
      "Failed requesting In Moonlight\n",
      "Failed requesting Midnight Adagio (Amarie's Theme)\n",
      "Failed requesting Here and Now\n",
      "Failed requesting I See You in the Stars\n",
      "Failed requesting Cristofori's Dream\n",
      "Failed requesting Spiral Dance\n",
      "Failed requesting Green Into Gold\n"
     ]
    },
    {
     "name": "stderr",
     "output_type": "stream",
     "text": [
      "Processing David Lanz_tracks.parquet:  54%|█████▍    | 126/232 [00:03<00:02, 39.48it/s]"
     ]
    },
    {
     "name": "stdout",
     "output_type": "stream",
     "text": [
      "Failed requesting Wings To Altair\n",
      "Failed requesting Summer's Child\n",
      "Failed requesting Free Fall\n",
      "Failed requesting A Whiter Shade of Pale\n",
      "Failed requesting Cristofori's Dream - Bonus: Live\n",
      "Failed requesting Seoul Improvisation - Bonus: Live\n",
      "Failed requesting Joy Noel Prelude\n"
     ]
    },
    {
     "name": "stderr",
     "output_type": "stream",
     "text": [
      "Processing David Lanz_tracks.parquet:  56%|█████▌    | 130/232 [00:03<00:02, 34.98it/s]"
     ]
    },
    {
     "name": "stdout",
     "output_type": "stream",
     "text": [
      "Failed requesting Happy Christmas (War Is Over)\n",
      "Failed requesting Coventry Carol\n",
      "Failed requesting Jingle Bells\n",
      "Failed requesting O'er the Fields\n",
      "Failed requesting Bring a Torch Jeanette Isabella\n",
      "Failed requesting Noel Nouvelet\n",
      "Failed requesting Good King Wenceslas\n",
      "Failed requesting On Christmas Morning\n"
     ]
    },
    {
     "name": "stderr",
     "output_type": "stream",
     "text": [
      "Processing David Lanz_tracks.parquet:  60%|█████▉    | 139/232 [00:04<00:02, 37.58it/s]"
     ]
    },
    {
     "name": "stdout",
     "output_type": "stream",
     "text": [
      "Failed requesting Angel in My Stocking\n",
      "Failed requesting Carol of the Bells\n",
      "Failed requesting A Distant Choir\n",
      "Failed requesting We Three Kings\n",
      "Failed requesting Angel De La Noche\n",
      "Failed requesting The Holly and the Ivy\n"
     ]
    },
    {
     "name": "stderr",
     "output_type": "stream",
     "text": [
      "Processing David Lanz_tracks.parquet:  63%|██████▎   | 147/232 [00:04<00:02, 34.82it/s]"
     ]
    },
    {
     "name": "stdout",
     "output_type": "stream",
     "text": [
      "Failed requesting Cristofori's Dream\n",
      "Failed requesting Spiral Dance\n",
      "Failed requesting Green Into Gold\n",
      "Failed requesting Wings to Altair\n",
      "Failed requesting Summer's Child\n",
      "Failed requesting Free Fall\n",
      "Failed requesting A Whiter Shade of Pale\n",
      "Failed requesting Cristofori's Dream (Live Orchestral Version)\n"
     ]
    },
    {
     "name": "stderr",
     "output_type": "stream",
     "text": [
      "Processing David Lanz_tracks.parquet:  65%|██████▌   | 151/232 [00:04<00:02, 35.36it/s]"
     ]
    },
    {
     "name": "stdout",
     "output_type": "stream",
     "text": [
      "Failed requesting Seoul Improvisation\n",
      "Failed requesting Prelude: Sunrise Follows Moon\n",
      "Failed requesting Here Comes The Sun\n",
      "Failed requesting Help!\n",
      "Failed requesting Mother Nature's Son\n",
      "Failed requesting For No One\n",
      "Failed requesting There's A Place\n"
     ]
    },
    {
     "name": "stderr",
     "output_type": "stream",
     "text": [
      "Processing David Lanz_tracks.parquet:  69%|██████▊   | 159/232 [00:04<00:02, 34.87it/s]"
     ]
    },
    {
     "name": "stdout",
     "output_type": "stream",
     "text": [
      "Failed requesting Please Please Me\n",
      "Failed requesting Penny Lane\n",
      "Failed requesting I Am The Walrus\n",
      "Failed requesting \"Sir George\" (Liverpool Farewell)\n",
      "Failed requesting Prelude: Sunrise Follows Moon\n",
      "Failed requesting Here Comes the Sun\n",
      "Failed requesting Help!\n",
      "Failed requesting Mother Nature's Son\n"
     ]
    },
    {
     "name": "stderr",
     "output_type": "stream",
     "text": [
      "Processing David Lanz_tracks.parquet:  72%|███████▏  | 167/232 [00:04<00:01, 34.51it/s]"
     ]
    },
    {
     "name": "stdout",
     "output_type": "stream",
     "text": [
      "Failed requesting For No One\n",
      "Failed requesting There's a Place\n",
      "Failed requesting Please Please Me\n",
      "Failed requesting Penny Lane\n",
      "Failed requesting I Am the Walrus\n",
      "Failed requesting Sir George\n"
     ]
    },
    {
     "name": "stderr",
     "output_type": "stream",
     "text": [
      "Processing David Lanz_tracks.parquet:  75%|███████▌  | 175/232 [00:05<00:01, 32.39it/s]"
     ]
    },
    {
     "name": "stdout",
     "output_type": "stream",
     "text": [
      "Failed requesting Prelude: Sunrise Follows Moon\n",
      "Failed requesting Here Comes the Sun (Feat. Gary Stroutsos, Walter Gray & Keith Lowe)\n",
      "Failed requesting Help! (Feat. Gary Stroutsos & Walter Gray)\n",
      "Failed requesting Mother Nature's Son (Feat. Gary Stroutsos & Keith Lowe)\n",
      "Failed requesting For No One (Feat. Gary Stroutsos, Walter Gray & Keith Lowe)\n",
      "Failed requesting There's a Place (Feat. Gary Stroutsos, Walter Gray & Keith Lowe)\n",
      "Failed requesting Please Please Me (Feat. Gary Stroutsos, Walter Gray & Keith Lowe)\n"
     ]
    },
    {
     "name": "stderr",
     "output_type": "stream",
     "text": [
      "Processing David Lanz_tracks.parquet:  79%|███████▉  | 183/232 [00:05<00:01, 33.60it/s]"
     ]
    },
    {
     "name": "stdout",
     "output_type": "stream",
     "text": [
      "Failed requesting Penny Lane (Feat. Keith Lowe)\n",
      "Failed requesting I Am the Walrus (Feat. Keith Lowe, Gary Stroutsos & Walter Gray)\n",
      "Failed requesting Sir George (Feat. Gary Stroutsos, Walter Gray, Keith Lowe)\n",
      "Failed requesting Liverpool (feat. Walter Gray & Gary Lanz)\n",
      "Failed requesting Things We Said Today (feat. Gary Stroutsos, Keith Lowe, Eric Eagle, David Revelli & Alonzo Davideo)\n",
      "Failed requesting Rain Eight Days A Week (feat. Gary Stroutsos, Keith Lowe, Larry Knechtel, Eric Eagle & David Revelli)\n",
      "Failed requesting Teatime for Rita (feat. Richard Olivier)\n",
      "Failed requesting Lovely Rita\n"
     ]
    },
    {
     "name": "stderr",
     "output_type": "stream",
     "text": [
      "Processing David Lanz_tracks.parquet:  82%|████████▏ | 191/232 [00:05<00:01, 35.14it/s]"
     ]
    },
    {
     "name": "stdout",
     "output_type": "stream",
     "text": [
      "Failed requesting Because I'm Only Sleeping (feat. Gary Stroutsos, Walter Gray,Keith Lowe, Eric Eagle & David Revelli)\n",
      "Failed requesting Norwegian Wood (feat. Gary Stroutsos, Eric Eagle & Keith Lowe)\n",
      "Failed requesting Yes It Is (feat. Gary Stroutsos & Walter Gray)\n",
      "Failed requesting London Skies A John Lennon Suite (feat. Gary Stroutsos, Walter Gray & James Reynolds)\n",
      "Failed requesting Lover's Tarot\n",
      "Failed requesting The Butterfly\n",
      "Failed requesting Ambient Plains\n"
     ]
    },
    {
     "name": "stderr",
     "output_type": "stream",
     "text": [
      "Processing David Lanz_tracks.parquet:  84%|████████▍ | 195/232 [00:05<00:01, 35.76it/s]"
     ]
    },
    {
     "name": "stdout",
     "output_type": "stream",
     "text": [
      "Failed requesting In Stillness\n",
      "Failed requesting A Song of Soul\n",
      "Failed requesting True Nature\n",
      "Failed requesting A Cup of Moonlight\n",
      "Failed requesting Along the Garden Wall\n",
      "Failed requesting Heaven and Earth\n",
      "Failed requesting Dreamer's Waltz\n"
     ]
    },
    {
     "name": "stderr",
     "output_type": "stream",
     "text": [
      "Processing David Lanz_tracks.parquet:  88%|████████▊ | 203/232 [00:05<00:00, 34.73it/s]"
     ]
    },
    {
     "name": "stdout",
     "output_type": "stream",
     "text": [
      "Failed requesting A Path With Heart - Previously Unreleased\n",
      "Failed requesting Where The Tall Tree Grows\n",
      "Failed requesting Still Life\n",
      "Failed requesting Nocturne\n",
      "Failed requesting Compassionata\n",
      "Failed requesting Sacred Road\n",
      "Failed requesting Take The High Road - Remastered\n",
      "Failed requesting On Our Way Home - Remastered\n"
     ]
    },
    {
     "name": "stderr",
     "output_type": "stream",
     "text": [
      "Processing David Lanz_tracks.parquet:  91%|█████████ | 211/232 [00:06<00:00, 34.58it/s]"
     ]
    },
    {
     "name": "stdout",
     "output_type": "stream",
     "text": [
      "Failed requesting Dreamer's Waltz - Remastered\n",
      "Failed requesting Brother Quixote - Remastered\n",
      "Failed requesting Where The Tall Tree Grows - Remastered\n",
      "Failed requesting The Long Goodbye - Remastered\n",
      "Failed requesting And The Road Goes On\n",
      "Failed requesting Serenada\n",
      "Failed requesting Satori\n",
      "Failed requesting Between Worlds\n"
     ]
    },
    {
     "name": "stderr",
     "output_type": "stream",
     "text": [
      "Processing David Lanz_tracks.parquet:  94%|█████████▍| 219/232 [00:06<00:00, 30.18it/s]"
     ]
    },
    {
     "name": "stdout",
     "output_type": "stream",
     "text": [
      "Failed requesting Blue Largo\n",
      "Failed requesting Spirit Romance\n",
      "Failed requesting Soliloquy\n",
      "Failed requesting A Distant Light\n",
      "Failed requesting Dreams Of Altair\n",
      "Failed requesting Contemplation\n"
     ]
    },
    {
     "name": "stderr",
     "output_type": "stream",
     "text": [
      "Processing David Lanz_tracks.parquet:  98%|█████████▊| 227/232 [00:06<00:00, 32.74it/s]"
     ]
    },
    {
     "name": "stdout",
     "output_type": "stream",
     "text": [
      "Failed requesting Compassion\n",
      "Failed requesting The Return\n",
      "Failed requesting Big Sur\n",
      "Failed requesting Kal-E-Fornia\n",
      "Failed requesting The Good Life\n",
      "Failed requesting Sorry Charlie\n",
      "Failed requesting Mood Swing\n",
      "Failed requesting Mystical\n"
     ]
    },
    {
     "name": "stderr",
     "output_type": "stream",
     "text": [
      "Processing David Lanz_tracks.parquet: 100%|██████████| 232/232 [00:06<00:00, 34.21it/s]\n",
      "Processing David Lee Roth_tracks.parquet:   0%|          | 0/86 [00:00<?, ?it/s]"
     ]
    },
    {
     "name": "stdout",
     "output_type": "stream",
     "text": [
      "Failed requesting It's The Way That I Feel\n",
      "Failed requesting Not A Moment Too Soon\n",
      "Failed requesting Fool's Magic\n",
      "Failed requesting A Song For Helen\n",
      "Failed requesting You Got The Blues, Not Me\n",
      "Failed requesting Made Up My Mind\n",
      "Failed requesting Stay While the Night Is Young\n",
      "Failed requesting Shoo Bop\n"
     ]
    },
    {
     "name": "stderr",
     "output_type": "stream",
     "text": [
      "Processing David Lee Roth_tracks.parquet:   9%|▉         | 8/86 [00:00<00:01, 39.42it/s]"
     ]
    },
    {
     "name": "stdout",
     "output_type": "stream",
     "text": [
      "Failed requesting She's Looking Good\n",
      "Failed requesting Soul Kitchen\n",
      "Failed requesting If 6 Was 9\n",
      "Failed requesting That Beatles Tune\n",
      "Failed requesting Medicine Man\n",
      "Failed requesting Thug Pop\n"
     ]
    },
    {
     "name": "stderr",
     "output_type": "stream",
     "text": [
      "Processing David Lee Roth_tracks.parquet:  20%|█▉        | 17/86 [00:07<00:44,  1.57it/s]"
     ]
    },
    {
     "name": "stdout",
     "output_type": "stream",
     "text": [
      "Failed requesting Experience - 2007 Remaster\n"
     ]
    },
    {
     "name": "stderr",
     "output_type": "stream",
     "text": [
      "Processing David Lee Roth_tracks.parquet:  65%|██████▌   | 56/86 [00:46<00:31,  1.04s/it]"
     ]
    },
    {
     "name": "stdout",
     "output_type": "stream",
     "text": [
      "Failed requesting Elephant Gun (Arma de Caza Mayor)\n"
     ]
    },
    {
     "name": "stderr",
     "output_type": "stream",
     "text": [
      "Processing David Lee Roth_tracks.parquet:  81%|████████▏ | 70/86 [01:00<00:16,  1.03s/it]"
     ]
    },
    {
     "name": "stdout",
     "output_type": "stream",
     "text": [
      "Failed requesting Ain't That Peculiar\n",
      "Failed requesting Unchained\n",
      "Failed requesting Everybody Wants Some!!\n"
     ]
    },
    {
     "name": "stderr",
     "output_type": "stream",
     "text": [
      "Processing David Lee Roth_tracks.parquet:  88%|████████▊ | 76/86 [01:01<00:04,  2.48it/s]"
     ]
    },
    {
     "name": "stdout",
     "output_type": "stream",
     "text": [
      "Failed requesting Ain't Talkin' 'bout Love\n",
      "Failed requesting Dance the Night Away\n"
     ]
    },
    {
     "name": "stderr",
     "output_type": "stream",
     "text": [
      "Processing David Lee Roth_tracks.parquet:  94%|█████████▍| 81/86 [01:06<00:04,  1.16it/s]"
     ]
    },
    {
     "name": "stdout",
     "output_type": "stream",
     "text": [
      "Failed requesting Ashley\n",
      "Failed requesting Easy Street\n"
     ]
    },
    {
     "name": "stderr",
     "output_type": "stream",
     "text": [
      "Processing David Lee Roth_tracks.parquet: 100%|██████████| 86/86 [01:10<00:00,  1.23it/s]\n",
      "Processing David Lynch_tracks.parquet:   0%|          | 0/237 [00:00<?, ?it/s]"
     ]
    },
    {
     "name": "stdout",
     "output_type": "stream",
     "text": [
      "Failed requesting Stalin Revisited\n"
     ]
    },
    {
     "name": "stderr",
     "output_type": "stream",
     "text": [
      "Processing David Lynch_tracks.parquet:   1%|          | 2/237 [00:01<02:05,  1.87it/s]"
     ]
    },
    {
     "name": "stdout",
     "output_type": "stream",
     "text": [
      "Failed requesting One Dog Bark\n"
     ]
    },
    {
     "name": "stderr",
     "output_type": "stream",
     "text": [
      "Processing David Lynch_tracks.parquet:   2%|▏         | 5/237 [00:03<02:38,  1.47it/s]"
     ]
    },
    {
     "name": "stdout",
     "output_type": "stream",
     "text": [
      "Failed requesting Jack Paints It Red\n"
     ]
    },
    {
     "name": "stderr",
     "output_type": "stream",
     "text": [
      "Processing David Lynch_tracks.parquet:   3%|▎         | 7/237 [00:04<02:21,  1.63it/s]"
     ]
    },
    {
     "name": "stdout",
     "output_type": "stream",
     "text": [
      "Failed requesting Frank 2000 Prelude\n",
      "Failed requesting Multi-Tempo Wind Boogie\n"
     ]
    },
    {
     "name": "stderr",
     "output_type": "stream",
     "text": [
      "Processing David Lynch_tracks.parquet:   6%|▌         | 14/237 [00:05<00:59,  3.75it/s]"
     ]
    },
    {
     "name": "stdout",
     "output_type": "stream",
     "text": [
      "Failed requesting Frank 2000\n",
      "Failed requesting Summer Night Noise\n",
      "Failed requesting Night (City Back Street)\n",
      "Failed requesting Night (A Landscape With Factory)\n",
      "Failed requesting Night (Interiors)\n",
      "Failed requesting Night (A Woman On A Dark Street Corner)\n"
     ]
    },
    {
     "name": "stderr",
     "output_type": "stream",
     "text": [
      "Processing David Lynch_tracks.parquet:  16%|█▋        | 39/237 [00:25<01:19,  2.48it/s]"
     ]
    },
    {
     "name": "stdout",
     "output_type": "stream",
     "text": [
      "Failed requesting The Big Dream - Commentary\n",
      "Failed requesting The Big Dream - Commentary\n",
      "Failed requesting Star Dream Girl - Commentary\n",
      "Failed requesting Star Dream Girl - Commentary\n",
      "Failed requesting Last Call - Commentary\n",
      "Failed requesting Last Call - Commentary\n",
      "Failed requesting Cold Wind Blowin' - Commentary\n",
      "Failed requesting Cold Wind Blowin' - Commentary\n"
     ]
    },
    {
     "name": "stderr",
     "output_type": "stream",
     "text": [
      "Processing David Lynch_tracks.parquet:  21%|██        | 50/237 [00:25<00:20,  9.20it/s]"
     ]
    },
    {
     "name": "stdout",
     "output_type": "stream",
     "text": [
      "Failed requesting The Ballad of Hollis Brown - Commentary\n",
      "Failed requesting The Ballad of Hollis Brown - Commentary\n",
      "Failed requesting Wishin' Well - Commentary\n",
      "Failed requesting Wishin' Well - Commentary\n",
      "Failed requesting Say It - Commentary\n",
      "Failed requesting Say It - Commentary\n",
      "Failed requesting We Rolled Together - Commentary\n",
      "Failed requesting We Rolled Together - Commentary\n"
     ]
    },
    {
     "name": "stderr",
     "output_type": "stream",
     "text": [
      "Processing David Lynch_tracks.parquet:  24%|██▍       | 58/237 [00:25<00:11, 16.27it/s]"
     ]
    },
    {
     "name": "stdout",
     "output_type": "stream",
     "text": [
      "Failed requesting Sun Can't Be Seen No More - Commentary\n",
      "Failed requesting Sun Can't Be Seen No More - Commentary\n",
      "Failed requesting I Want You - Commentary\n",
      "Failed requesting I Want You - Commentary\n",
      "Failed requesting The Line It Curves - Commentary\n",
      "Failed requesting The Line It Curves - Commentary\n",
      "Failed requesting Are You Sure - Commentary\n",
      "Failed requesting Are You Sure - Commentary\n",
      "Failed requesting I'm Waiting Here (Bonus Track) - Commentary\n",
      "Failed requesting I'm Waiting Here (Bonus Track) - Commentary\n"
     ]
    },
    {
     "name": "stderr",
     "output_type": "stream",
     "text": [
      "Processing David Lynch_tracks.parquet:  26%|██▌       | 62/237 [00:27<00:23,  7.60it/s]"
     ]
    },
    {
     "name": "stdout",
     "output_type": "stream",
     "text": [
      "Failed requesting The Big Dream\n",
      "Failed requesting Star Dream Girl\n"
     ]
    },
    {
     "name": "stderr",
     "output_type": "stream",
     "text": [
      "Processing David Lynch_tracks.parquet:  30%|██▉       | 71/237 [00:34<01:48,  1.53it/s]"
     ]
    },
    {
     "name": "stdout",
     "output_type": "stream",
     "text": [
      "Failed requesting Wishin' Well\n"
     ]
    },
    {
     "name": "stderr",
     "output_type": "stream",
     "text": [
      "Processing David Lynch_tracks.parquet:  32%|███▏      | 75/237 [00:37<02:04,  1.30it/s]"
     ]
    },
    {
     "name": "stdout",
     "output_type": "stream",
     "text": [
      "Failed requesting We Rolled Together\n"
     ]
    },
    {
     "name": "stderr",
     "output_type": "stream",
     "text": [
      "Processing David Lynch_tracks.parquet:  35%|███▌      | 83/237 [00:44<02:30,  1.02it/s]"
     ]
    },
    {
     "name": "stdout",
     "output_type": "stream",
     "text": [
      "Failed requesting Are You Sure\n",
      "Failed requesting Are You Sure\n"
     ]
    },
    {
     "name": "stderr",
     "output_type": "stream",
     "text": [
      "Processing David Lynch_tracks.parquet:  38%|███▊      | 90/237 [00:47<00:58,  2.50it/s]"
     ]
    },
    {
     "name": "stdout",
     "output_type": "stream",
     "text": [
      "Failed requesting The Big Dream - Commentary\n",
      "Failed requesting Star Dream Girl - Commentary\n",
      "Failed requesting Last Call - Commentary\n",
      "Failed requesting Cold Wind Blowin' - Commentary\n",
      "Failed requesting The Ballad of Hollis Brown - Commentary\n",
      "Failed requesting Wishin' Well - Commentary\n",
      "Failed requesting Say It - Commentary\n"
     ]
    },
    {
     "name": "stderr",
     "output_type": "stream",
     "text": [
      "Processing David Lynch_tracks.parquet:  40%|███▉      | 94/237 [00:47<00:32,  4.43it/s]"
     ]
    },
    {
     "name": "stdout",
     "output_type": "stream",
     "text": [
      "Failed requesting Sun Can't Be Seen No More - Commentary\n",
      "Failed requesting I Want You - Commentary\n",
      "Failed requesting I'm Waiting Here (Bonus Track) - Commentary\n"
     ]
    },
    {
     "name": "stderr",
     "output_type": "stream",
     "text": [
      "Processing David Lynch_tracks.parquet:  44%|████▍     | 105/237 [00:49<00:24,  5.43it/s]"
     ]
    },
    {
     "name": "stdout",
     "output_type": "stream",
     "text": [
      "Failed requesting Star Dream Girl\n",
      "Failed requesting Star Dream Girl\n",
      "Failed requesting Last Call\n",
      "Failed requesting Last Call\n",
      "Failed requesting Cold Wind Blowin'\n",
      "Failed requesting Cold Wind Blowin'\n",
      "Failed requesting The Ballad of Hollis Brown\n",
      "Failed requesting The Ballad of Hollis Brown\n"
     ]
    },
    {
     "name": "stderr",
     "output_type": "stream",
     "text": [
      "Processing David Lynch_tracks.parquet:  48%|████▊     | 114/237 [00:49<00:11, 10.95it/s]"
     ]
    },
    {
     "name": "stdout",
     "output_type": "stream",
     "text": [
      "Failed requesting Wishin' Well\n",
      "Failed requesting Wishin' Well\n",
      "Failed requesting Say It\n",
      "Failed requesting Say It\n",
      "Failed requesting We Rolled Together\n",
      "Failed requesting We Rolled Together\n",
      "Failed requesting Sun Can't Be Seen No More\n",
      "Failed requesting Sun Can't Be Seen No More\n",
      "Failed requesting I Want You\n",
      "Failed requesting I Want You\n"
     ]
    },
    {
     "name": "stderr",
     "output_type": "stream",
     "text": [
      "Processing David Lynch_tracks.parquet:  52%|█████▏    | 123/237 [00:49<00:06, 17.92it/s]"
     ]
    },
    {
     "name": "stdout",
     "output_type": "stream",
     "text": [
      "Failed requesting The Line It Curves\n",
      "Failed requesting The Line It Curves\n",
      "Failed requesting Are You Sure\n",
      "Failed requesting Are You Sure\n",
      "Failed requesting I'm Waiting Here - Bonus Track\n",
      "Failed requesting I'm Waiting Here - Bonus Track\n",
      "Failed requesting The Big Dream - Commentary\n",
      "Failed requesting The Big Dream - Commentary\n",
      "Failed requesting Star Dream Girl - Commentary\n"
     ]
    },
    {
     "name": "stderr",
     "output_type": "stream",
     "text": [
      "Processing David Lynch_tracks.parquet:  55%|█████▌    | 131/237 [00:50<00:04, 24.49it/s]"
     ]
    },
    {
     "name": "stdout",
     "output_type": "stream",
     "text": [
      "Failed requesting Star Dream Girl - Commentary\n",
      "Failed requesting Last Call - Commentary\n",
      "Failed requesting Last Call - Commentary\n",
      "Failed requesting Cold Wind Blowin' - Commentary\n",
      "Failed requesting Cold Wind Blowin' - Commentary\n",
      "Failed requesting The Ballad of Hollis Brown - Commentary\n",
      "Failed requesting The Ballad of Hollis Brown - Commentary\n",
      "Failed requesting Wishin' Well - Commentary\n",
      "Failed requesting Wishin' Well - Commentary\n"
     ]
    },
    {
     "name": "stderr",
     "output_type": "stream",
     "text": [
      "Processing David Lynch_tracks.parquet:  59%|█████▉    | 140/237 [00:50<00:03, 30.96it/s]"
     ]
    },
    {
     "name": "stdout",
     "output_type": "stream",
     "text": [
      "Failed requesting Say It - Commentary\n",
      "Failed requesting Say It - Commentary\n",
      "Failed requesting We Rolled Together - Commentary\n",
      "Failed requesting We Rolled Together - Commentary\n",
      "Failed requesting Sun Can't Be Seen No More - Commentary\n",
      "Failed requesting Sun Can't Be Seen No More - Commentary\n",
      "Failed requesting I Want You - Commentary\n",
      "Failed requesting I Want You - Commentary\n"
     ]
    },
    {
     "name": "stderr",
     "output_type": "stream",
     "text": [
      "Processing David Lynch_tracks.parquet:  63%|██████▎   | 149/237 [00:50<00:02, 34.91it/s]"
     ]
    },
    {
     "name": "stdout",
     "output_type": "stream",
     "text": [
      "Failed requesting The Line It Curves - Commentary\n",
      "Failed requesting The Line It Curves - Commentary\n",
      "Failed requesting Are You Sure - Commentary\n",
      "Failed requesting Are You Sure - Commentary\n",
      "Failed requesting I'm Waiting Here (Bonus Track) - Commentary\n",
      "Failed requesting I'm Waiting Here (Bonus Track) - Commentary\n",
      "Failed requesting Pinky's Dream\n",
      "Failed requesting Pinky's Dream\n"
     ]
    },
    {
     "name": "stderr",
     "output_type": "stream",
     "text": [
      "Processing David Lynch_tracks.parquet:  65%|██████▍   | 153/237 [00:50<00:02, 34.74it/s]"
     ]
    },
    {
     "name": "stdout",
     "output_type": "stream",
     "text": [
      "Failed requesting Good Day Today - Original\n",
      "Failed requesting So Glad\n",
      "Failed requesting So Glad\n"
     ]
    },
    {
     "name": "stderr",
     "output_type": "stream",
     "text": [
      "Processing David Lynch_tracks.parquet:  66%|██████▌   | 157/237 [00:51<00:08,  9.82it/s]"
     ]
    },
    {
     "name": "stdout",
     "output_type": "stream",
     "text": [
      "Failed requesting Noah's Ark\n",
      "Failed requesting Football Game\n",
      "Failed requesting Football Game\n"
     ]
    },
    {
     "name": "stderr",
     "output_type": "stream",
     "text": [
      "Processing David Lynch_tracks.parquet:  68%|██████▊   | 162/237 [00:55<00:22,  3.38it/s]"
     ]
    },
    {
     "name": "stdout",
     "output_type": "stream",
     "text": [
      "Failed requesting The Night Bell with Lightning\n",
      "Failed requesting The Night Bell with Lightning\n",
      "Failed requesting Stone's Gone Up\n",
      "Failed requesting Stone's Gone Up\n"
     ]
    },
    {
     "name": "stderr",
     "output_type": "stream",
     "text": [
      "Processing David Lynch_tracks.parquet:  70%|███████   | 166/237 [00:56<00:20,  3.45it/s]"
     ]
    },
    {
     "name": "stdout",
     "output_type": "stream",
     "text": [
      "Failed requesting Crazy Clown Time\n"
     ]
    },
    {
     "name": "stderr",
     "output_type": "stream",
     "text": [
      "Processing David Lynch_tracks.parquet:  71%|███████   | 168/237 [00:57<00:23,  2.96it/s]"
     ]
    },
    {
     "name": "stdout",
     "output_type": "stream",
     "text": [
      "Failed requesting These Are My Friends\n"
     ]
    },
    {
     "name": "stderr",
     "output_type": "stream",
     "text": [
      "Processing David Lynch_tracks.parquet:  75%|███████▌  | 178/237 [00:58<00:09,  6.00it/s]"
     ]
    },
    {
     "name": "stdout",
     "output_type": "stream",
     "text": [
      "Failed requesting Speed Roadster\n",
      "Failed requesting Movin' On\n",
      "Failed requesting Movin' On\n",
      "Failed requesting She Rise Up\n",
      "Failed requesting She Rise Up\n",
      "Failed requesting Sparkle Lounge Blues - Bonus Track\n",
      "Failed requesting Sparkle Lounge Blues - Bonus Track\n",
      "Failed requesting I Have a Radio - Bonus Track\n"
     ]
    },
    {
     "name": "stderr",
     "output_type": "stream",
     "text": [
      "Processing David Lynch_tracks.parquet:  77%|███████▋  | 182/237 [00:58<00:06,  8.37it/s]"
     ]
    },
    {
     "name": "stdout",
     "output_type": "stream",
     "text": [
      "Failed requesting I Have a Radio - Bonus Track\n",
      "Failed requesting I Know - Skream's Not so Ravey Remix\n",
      "Failed requesting Good Day Today - Underworld Classic Remix\n",
      "Failed requesting I Know - Sasha Remix\n",
      "Failed requesting Noah's Ark - Moby Remix\n",
      "Failed requesting Noah's Ark - Moby Remix\n",
      "Failed requesting Side A\n",
      "Failed requesting Side B\n",
      "Failed requesting In Heaven (Lady in the Radiator Song)\n"
     ]
    },
    {
     "name": "stderr",
     "output_type": "stream",
     "text": [
      "Processing David Lynch_tracks.parquet:  81%|████████  | 191/237 [00:58<00:03, 15.01it/s]"
     ]
    },
    {
     "name": "stdout",
     "output_type": "stream",
     "text": [
      "Failed requesting Pete’s Boogie (Previously Unreleased)\n",
      "Failed requesting Pinky's Dream\n",
      "Failed requesting Pinky's Dream\n",
      "Failed requesting So Glad\n",
      "Failed requesting So Glad\n",
      "Failed requesting Noah's Ark\n",
      "Failed requesting Noah's Ark\n",
      "Failed requesting Football Game\n",
      "Failed requesting Football Game\n"
     ]
    },
    {
     "name": "stderr",
     "output_type": "stream",
     "text": [
      "Processing David Lynch_tracks.parquet:  85%|████████▍ | 201/237 [00:59<00:01, 23.28it/s]"
     ]
    },
    {
     "name": "stdout",
     "output_type": "stream",
     "text": [
      "Failed requesting Strange and Unproductive Thinking\n",
      "Failed requesting Strange and Unproductive Thinking\n",
      "Failed requesting The Night Bell with Lightning\n",
      "Failed requesting The Night Bell with Lightning\n",
      "Failed requesting Stone's Gone Up\n",
      "Failed requesting Stone's Gone Up\n",
      "Failed requesting Crazy Clown Time\n",
      "Failed requesting Crazy Clown Time\n"
     ]
    },
    {
     "name": "stderr",
     "output_type": "stream",
     "text": [
      "Processing David Lynch_tracks.parquet:  89%|████████▉ | 211/237 [00:59<00:00, 30.45it/s]"
     ]
    },
    {
     "name": "stdout",
     "output_type": "stream",
     "text": [
      "Failed requesting These Are My Friends\n",
      "Failed requesting These Are My Friends\n",
      "Failed requesting Speed Roadster\n",
      "Failed requesting Speed Roadster\n",
      "Failed requesting Movin' On\n",
      "Failed requesting Movin' On\n",
      "Failed requesting She Rise Up\n",
      "Failed requesting She Rise Up\n",
      "Failed requesting Good Day Today\n"
     ]
    },
    {
     "name": "stderr",
     "output_type": "stream",
     "text": [
      "Processing David Lynch_tracks.parquet:  92%|█████████▏| 219/237 [00:59<00:00, 34.04it/s]"
     ]
    },
    {
     "name": "stdout",
     "output_type": "stream",
     "text": [
      "Failed requesting I Know\n",
      "Failed requesting Sparkle Lounge Blues - Bonus Track\n",
      "Failed requesting Sparkle Lounge Blues - Bonus Track\n",
      "Failed requesting I Have a Radio - Bonus Track\n",
      "Failed requesting I Have a Radio - Bonus Track\n",
      "Failed requesting Noah's Ark - Moby Remix\n",
      "Failed requesting Noah's Ark - Moby Remix\n",
      "Failed requesting Pinky's Dream\n",
      "Failed requesting Good Day Today\n"
     ]
    },
    {
     "name": "stderr",
     "output_type": "stream",
     "text": [
      "Processing David Lynch_tracks.parquet:  96%|█████████▌| 228/237 [00:59<00:00, 36.78it/s]"
     ]
    },
    {
     "name": "stdout",
     "output_type": "stream",
     "text": [
      "Failed requesting So Glad\n",
      "Failed requesting Noah's Ark\n",
      "Failed requesting Football Game\n",
      "Failed requesting I Know\n",
      "Failed requesting Strange and Unproductive Thinking\n",
      "Failed requesting The Night Bell with Lightning\n",
      "Failed requesting Stone's Gone Up\n",
      "Failed requesting Crazy Clown Time\n"
     ]
    },
    {
     "name": "stderr",
     "output_type": "stream",
     "text": [
      "Processing David Lynch_tracks.parquet: 100%|██████████| 237/237 [00:59<00:00,  3.95it/s]"
     ]
    },
    {
     "name": "stdout",
     "output_type": "stream",
     "text": [
      "Failed requesting These Are My Friends\n",
      "Failed requesting Speed Roadster\n",
      "Failed requesting Movin' On\n",
      "Failed requesting She Rise Up\n",
      "Failed requesting I Know - Skream's Not so Ravey Remix\n",
      "Failed requesting Good Day Today - Underworld Classic Remix\n",
      "Failed requesting I Know - Sasha Remix\n"
     ]
    },
    {
     "name": "stderr",
     "output_type": "stream",
     "text": [
      "\n",
      "Processing David Massengill_tracks.parquet:   1%|▏         | 4/318 [00:00<00:09, 32.96it/s]"
     ]
    },
    {
     "name": "stdout",
     "output_type": "stream",
     "text": [
      "Failed requesting Tree of Rhyme\n",
      "Failed requesting Saint Clare\n",
      "Failed requesting Little Dove\n",
      "Failed requesting Sojourner Truth (Ain't I a Woman?)\n",
      "Failed requesting Murder\n",
      "Failed requesting You Only Leave Your Heart Once\n",
      "Failed requesting Prisoner\n"
     ]
    },
    {
     "name": "stderr",
     "output_type": "stream",
     "text": [
      "Processing David Massengill_tracks.parquet:   4%|▍         | 12/318 [00:00<00:09, 33.49it/s]"
     ]
    },
    {
     "name": "stdout",
     "output_type": "stream",
     "text": [
      "Failed requesting The Last of the O'neills\n",
      "Failed requesting Rye Grass\n",
      "Failed requesting Houston Street\n",
      "Failed requesting Potter's Field\n",
      "Failed requesting Autumn\n",
      "Failed requesting Gossamer Thread\n",
      "Failed requesting Resolution\n"
     ]
    },
    {
     "name": "stderr",
     "output_type": "stream",
     "text": [
      "Processing David Massengill_tracks.parquet:   6%|▋         | 20/318 [00:00<00:08, 33.27it/s]"
     ]
    },
    {
     "name": "stdout",
     "output_type": "stream",
     "text": [
      "Failed requesting Forget-Me-Not\n",
      "Failed requesting Dublin Farewell\n",
      "Failed requesting The Tailor\n",
      "Failed requesting Down Where the Rabbits Run\n",
      "Failed requesting I Ought to Know\n",
      "Failed requesting Porto Limon\n",
      "Failed requesting Overture\n"
     ]
    },
    {
     "name": "stderr",
     "output_type": "stream",
     "text": [
      "Processing David Massengill_tracks.parquet:   8%|▊         | 24/318 [00:00<00:09, 31.79it/s]"
     ]
    },
    {
     "name": "stdout",
     "output_type": "stream",
     "text": [
      "Failed requesting This Is the Last Frontier\n",
      "Failed requesting Guilty / Johnny Behind-the-Deuce\n",
      "Failed requesting Sam Hall\n",
      "Failed requesting The Rose of Roscrae\n",
      "Failed requesting Hair Trigger Heart\n",
      "Failed requesting He'll Be Dead Before He Hits the Ground\n",
      "Failed requesting You Gotta Have a Dance / St. James Hospital\n"
     ]
    },
    {
     "name": "stderr",
     "output_type": "stream",
     "text": [
      "Processing David Massengill_tracks.parquet:  10%|█         | 32/318 [00:00<00:08, 31.96it/s]"
     ]
    },
    {
     "name": "stdout",
     "output_type": "stream",
     "text": [
      "Failed requesting Ain't No More Cane On the Brazos\n",
      "Failed requesting The Last Running\n",
      "Failed requesting Home On the Range / America\n",
      "Failed requesting Just a Closer Walk\n",
      "Failed requesting Cowboy Voices Beyond the Campfire\n"
     ]
    },
    {
     "name": "stderr",
     "output_type": "stream",
     "text": [
      "Processing David Massengill_tracks.parquet:  11%|█▏        | 36/318 [00:01<00:10, 27.14it/s]"
     ]
    },
    {
     "name": "stdout",
     "output_type": "stream",
     "text": [
      "Failed requesting He Wasn't a Bad Kid, When He Was Sober\n",
      "Failed requesting The Sidekick's Last Testament\n",
      "Failed requesting Johnny's Campfire Soliloquy, #1\n",
      "Failed requesting The Unfortunate Rake / The Streets of Laredo\n",
      "Failed requesting The Hands of Damien\n"
     ]
    },
    {
     "name": "stderr",
     "output_type": "stream",
     "text": [
      "Processing David Massengill_tracks.parquet:  14%|█▎        | 43/318 [00:01<00:10, 26.43it/s]"
     ]
    },
    {
     "name": "stdout",
     "output_type": "stream",
     "text": [
      "Failed requesting This Is the Last Frontier / Campfire Soliloquy, #2\n",
      "Failed requesting Carrickfergus / The Water Is Wide\n",
      "Failed requesting Christians and Pagans\n",
      "Failed requesting Haul off and Kiss Me\n",
      "Failed requesting If I Had Only Known\n",
      "Failed requesting I Always Told You the Truth\n",
      "Failed requesting Seventy-Five Septembers\n"
     ]
    },
    {
     "name": "stderr",
     "output_type": "stream",
     "text": [
      "Processing David Massengill_tracks.parquet:  16%|█▌        | 51/318 [00:01<00:08, 30.03it/s]"
     ]
    },
    {
     "name": "stdout",
     "output_type": "stream",
     "text": [
      "Failed requesting N.Y. 10/11/91\n",
      "Failed requesting Solitary Hero\n",
      "Failed requesting Sugar Pit\n",
      "Failed requesting Peaches and Cream\n",
      "Failed requesting Much at All\n",
      "Failed requesting Dandelion\n",
      "Failed requesting Her Melancholy Muse\n"
     ]
    },
    {
     "name": "stderr",
     "output_type": "stream",
     "text": [
      "Processing David Massengill_tracks.parquet:  17%|█▋        | 55/318 [00:01<00:10, 24.52it/s]"
     ]
    },
    {
     "name": "stdout",
     "output_type": "stream",
     "text": [
      "Failed requesting Las Mananitas\n",
      "Failed requesting Haunt Your Heart\n",
      "Failed requesting God Made Woman\n",
      "Failed requesting Time\n"
     ]
    },
    {
     "name": "stderr",
     "output_type": "stream",
     "text": [
      "Processing David Massengill_tracks.parquet:  18%|█▊        | 58/318 [00:04<00:53,  4.90it/s]"
     ]
    },
    {
     "name": "stdout",
     "output_type": "stream",
     "text": [
      "Failed requesting Longbed from Kenya\n"
     ]
    },
    {
     "name": "stderr",
     "output_type": "stream",
     "text": [
      "Processing David Massengill_tracks.parquet:  19%|█▉        | 62/318 [00:06<01:23,  3.07it/s]"
     ]
    },
    {
     "name": "stdout",
     "output_type": "stream",
     "text": [
      "Failed requesting What's Wrong with the Man Upstairs?\n",
      "Failed requesting Old Factory Town\n"
     ]
    },
    {
     "name": "stderr",
     "output_type": "stream",
     "text": [
      "Processing David Massengill_tracks.parquet:  22%|██▏       | 70/318 [00:09<01:15,  3.30it/s]"
     ]
    },
    {
     "name": "stdout",
     "output_type": "stream",
     "text": [
      "Failed requesting Geza's Wailing Ways\n",
      "Failed requesting Ragman!\n",
      "Failed requesting High Times\n",
      "Failed requesting Don't Ever Call Your Sweetheart by His Name\n",
      "Failed requesting Where Were You Last Night?\n",
      "Failed requesting Introduction to Corpo Gacile\n",
      "Failed requesting Corpo Gacile\n"
     ]
    },
    {
     "name": "stderr",
     "output_type": "stream",
     "text": [
      "Processing David Massengill_tracks.parquet:  25%|██▍       | 78/318 [00:09<00:31,  7.64it/s]"
     ]
    },
    {
     "name": "stdout",
     "output_type": "stream",
     "text": [
      "Failed requesting Kilkelly, Ireland\n",
      "Failed requesting Introduction to The Viking Rag\n",
      "Failed requesting The Viking Rag\n",
      "Failed requesting Forget-Me-Not\n",
      "Failed requesting Vacation\n"
     ]
    },
    {
     "name": "stderr",
     "output_type": "stream",
     "text": [
      "Processing David Massengill_tracks.parquet:  27%|██▋       | 85/318 [00:10<00:32,  7.15it/s]"
     ]
    },
    {
     "name": "stdout",
     "output_type": "stream",
     "text": [
      "Failed requesting Thirty Thousand Men\n",
      "Failed requesting I Was a Loner\n",
      "Failed requesting The Next Best Western\n",
      "Failed requesting Katie's Smile\n",
      "Failed requesting The Fool's Last Mile\n",
      "Failed requesting Phoney Phrench\n",
      "Failed requesting Balloons\n"
     ]
    },
    {
     "name": "stderr",
     "output_type": "stream",
     "text": [
      "Processing David Massengill_tracks.parquet:  28%|██▊       | 89/318 [00:11<00:23,  9.66it/s]"
     ]
    },
    {
     "name": "stdout",
     "output_type": "stream",
     "text": [
      "Failed requesting The Passing\n",
      "Failed requesting Drinkin' Alone\n",
      "Failed requesting The Flood\n",
      "Failed requesting Intro-Straight Life\n",
      "Failed requesting Straight Life, No Chaser\n",
      "Failed requesting What's Wrong with the Man Upstairs?\n",
      "Failed requesting The Widow's Lament\n"
     ]
    },
    {
     "name": "stderr",
     "output_type": "stream",
     "text": [
      "Processing David Massengill_tracks.parquet:  31%|███       | 97/318 [00:11<00:14, 14.87it/s]"
     ]
    },
    {
     "name": "stdout",
     "output_type": "stream",
     "text": [
      "Failed requesting Bill and Annie\n",
      "Failed requesting Carriage Horse\n",
      "Failed requesting Diamond Mines\n",
      "Failed requesting The Baby Sitter's Here\n",
      "Failed requesting Mineral Wells\n"
     ]
    },
    {
     "name": "stderr",
     "output_type": "stream",
     "text": [
      "Processing David Massengill_tracks.parquet:  32%|███▏      | 101/318 [00:11<00:12, 17.80it/s]"
     ]
    },
    {
     "name": "stdout",
     "output_type": "stream",
     "text": [
      "Failed requesting Howl at the Moon\n",
      "Failed requesting When the Tears Fall Down\n",
      "Failed requesting Ships\n",
      "Failed requesting Sweet Tooth\n",
      "Failed requesting Take Time to Know Her\n"
     ]
    },
    {
     "name": "stderr",
     "output_type": "stream",
     "text": [
      "Processing David Massengill_tracks.parquet:  34%|███▍      | 108/318 [00:11<00:10, 20.77it/s]"
     ]
    },
    {
     "name": "stdout",
     "output_type": "stream",
     "text": [
      "Failed requesting St. Mary's of Regret\n",
      "Failed requesting No Matter What Goes Right\n",
      "Failed requesting Dream a Dream\n",
      "Failed requesting Paperback Man\n",
      "Failed requesting Someone's Got to Pay / Injustice\n",
      "Failed requesting Troubled Mind\n",
      "Failed requesting Your Face\n"
     ]
    },
    {
     "name": "stderr",
     "output_type": "stream",
     "text": [
      "Processing David Massengill_tracks.parquet:  36%|███▋      | 116/318 [00:12<00:08, 24.99it/s]"
     ]
    },
    {
     "name": "stdout",
     "output_type": "stream",
     "text": [
      "Failed requesting Saving Grace\n",
      "Failed requesting Rider on a Orphan Train\n",
      "Failed requesting Driving\n",
      "Failed requesting Foolish Game\n",
      "Failed requesting Three Kinds of News\n",
      "Failed requesting Gillianna\n",
      "Failed requesting Cats of the Colosseum\n"
     ]
    },
    {
     "name": "stderr",
     "output_type": "stream",
     "text": [
      "Processing David Massengill_tracks.parquet:  39%|███▉      | 124/318 [00:12<00:06, 28.52it/s]"
     ]
    },
    {
     "name": "stdout",
     "output_type": "stream",
     "text": [
      "Failed requesting The Viennese Drinking Song\n",
      "Failed requesting Troubled Mind\n",
      "Failed requesting Losers\n",
      "Failed requesting Sex and Consequenses\n",
      "Failed requesting Dachau\n",
      "Failed requesting Blow 'em Away\n",
      "Failed requesting Last Chance Dance\n"
     ]
    },
    {
     "name": "stderr",
     "output_type": "stream",
     "text": [
      "Processing David Massengill_tracks.parquet:  40%|████      | 128/318 [00:12<00:06, 30.27it/s]"
     ]
    },
    {
     "name": "stdout",
     "output_type": "stream",
     "text": [
      "Failed requesting Hole in the Sky\n",
      "Failed requesting Rider on an Orphan Train\n",
      "Failed requesting Dyslexia\n",
      "Failed requesting Thin Ice\n",
      "Failed requesting Wedding Song\n",
      "Failed requesting Judy\n",
      "Failed requesting Hole in the Bucket\n",
      "Failed requesting Stones\n"
     ]
    },
    {
     "name": "stderr",
     "output_type": "stream",
     "text": [
      "Processing David Massengill_tracks.parquet:  43%|████▎     | 136/318 [00:12<00:05, 32.06it/s]"
     ]
    },
    {
     "name": "stdout",
     "output_type": "stream",
     "text": [
      "Failed requesting In So Deep\n",
      "Failed requesting Ying Chi Wu\n",
      "Failed requesting The Courier\n",
      "Failed requesting Fever La Lune\n",
      "Failed requesting Louisiana Rain\n",
      "Failed requesting Norman\n",
      "Failed requesting Paglia E Fieno\n"
     ]
    },
    {
     "name": "stderr",
     "output_type": "stream",
     "text": [
      "Processing David Massengill_tracks.parquet:  45%|████▌     | 144/318 [00:12<00:05, 31.63it/s]"
     ]
    },
    {
     "name": "stdout",
     "output_type": "stream",
     "text": [
      "Failed requesting The Eldorado Lounge\n",
      "Failed requesting Jesus, the Fugitive Prince\n",
      "Failed requesting Bewilderness\n",
      "Failed requesting L'Antinarciso\n",
      "Failed requesting Run on the Rocks\n",
      "Failed requesting Frankenstein's Got the Blues\n",
      "Failed requesting Metal Drums\n"
     ]
    },
    {
     "name": "stderr",
     "output_type": "stream",
     "text": [
      "Processing David Massengill_tracks.parquet:  48%|████▊     | 152/318 [00:13<00:05, 31.80it/s]"
     ]
    },
    {
     "name": "stdout",
     "output_type": "stream",
     "text": [
      "Failed requesting Hang My Hat\n",
      "Failed requesting From a Distance\n",
      "Failed requesting Home for the Holidays / The Boats Are Rolling Out\n",
      "Failed requesting Guinnevere\n",
      "Failed requesting Record Time\n",
      "Failed requesting Marie\n",
      "Failed requesting The Blue Whale\n"
     ]
    },
    {
     "name": "stderr",
     "output_type": "stream",
     "text": [
      "Processing David Massengill_tracks.parquet:  50%|█████     | 160/318 [00:13<00:04, 33.62it/s]"
     ]
    },
    {
     "name": "stdout",
     "output_type": "stream",
     "text": [
      "Failed requesting Fisherman\n",
      "Failed requesting Before the Country Moved to Town\n",
      "Failed requesting Shining Brow\n",
      "Failed requesting Blood Sings\n",
      "Failed requesting Man on a Ledge\n",
      "Failed requesting The Child\n",
      "Failed requesting I've Got Nothing to Hide\n",
      "Failed requesting In the Mirror\n"
     ]
    },
    {
     "name": "stderr",
     "output_type": "stream",
     "text": [
      "Processing David Massengill_tracks.parquet:  53%|█████▎    | 168/318 [00:13<00:04, 34.67it/s]"
     ]
    },
    {
     "name": "stdout",
     "output_type": "stream",
     "text": [
      "Failed requesting Back in the Depression\n",
      "Failed requesting Are You Happy Now?\n",
      "Failed requesting The Last Time\n",
      "Failed requesting The Garden State Stomp\n",
      "Failed requesting Rise from the Ruins\n",
      "Failed requesting Intro-Cowboy Kid\n",
      "Failed requesting The Code of Cowboy Kid\n",
      "Failed requesting The King is Dead\n"
     ]
    },
    {
     "name": "stderr",
     "output_type": "stream",
     "text": [
      "Processing David Massengill_tracks.parquet:  55%|█████▌    | 176/318 [00:13<00:04, 33.67it/s]"
     ]
    },
    {
     "name": "stdout",
     "output_type": "stream",
     "text": [
      "Failed requesting If I Ain't Falling\n",
      "Failed requesting Les Choses Les Plus Simples\n",
      "Failed requesting Follow Me Down\n",
      "Failed requesting The Burden\n",
      "Failed requesting Intro-A folksinger\n",
      "Failed requesting A Folksinger Earns Every Dime\n",
      "Failed requesting What Could I Add to That?\n"
     ]
    },
    {
     "name": "stderr",
     "output_type": "stream",
     "text": [
      "Processing David Massengill_tracks.parquet:  57%|█████▋    | 180/318 [00:13<00:03, 34.66it/s]"
     ]
    },
    {
     "name": "stdout",
     "output_type": "stream",
     "text": [
      "Failed requesting Flexible Man\n",
      "Failed requesting Where the Bottles Break\n",
      "Failed requesting Disenchanted\n",
      "Failed requesting Mother's Child\n",
      "Failed requesting On Two Wheels in the Rain\n",
      "Failed requesting Watertowers\n",
      "Failed requesting Future\n",
      "Failed requesting The Black Hole\n"
     ]
    },
    {
     "name": "stderr",
     "output_type": "stream",
     "text": [
      "Processing David Massengill_tracks.parquet:  59%|█████▉    | 188/318 [00:14<00:03, 33.55it/s]"
     ]
    },
    {
     "name": "stdout",
     "output_type": "stream",
     "text": [
      "Failed requesting Scarecrow\n",
      "Failed requesting Ain't it Almost\n",
      "Failed requesting By Your Eyes\n",
      "Failed requesting Bloods and Crips\n",
      "Failed requesting Sleep Will Come\n",
      "Failed requesting The Muse\n",
      "Failed requesting The Statue\n",
      "Failed requesting I Don't Know Her Very Well\n"
     ]
    },
    {
     "name": "stderr",
     "output_type": "stream",
     "text": [
      "Processing David Massengill_tracks.parquet:  62%|██████▏   | 196/318 [00:14<00:03, 33.39it/s]"
     ]
    },
    {
     "name": "stdout",
     "output_type": "stream",
     "text": [
      "Failed requesting The Places You Will Go\n",
      "Failed requesting Shoot the Ghost\n",
      "Failed requesting Whispers\n",
      "Failed requesting Let Them Go\n",
      "Failed requesting The Pinhead's Lullaby\n",
      "Failed requesting Florida Time\n",
      "Failed requesting Cafe Tango\n",
      "Failed requesting A Fever\n"
     ]
    },
    {
     "name": "stderr",
     "output_type": "stream",
     "text": [
      "Processing David Massengill_tracks.parquet:  63%|██████▎   | 200/318 [00:14<00:03, 33.71it/s]"
     ]
    },
    {
     "name": "stdout",
     "output_type": "stream",
     "text": [
      "Failed requesting Selling Out\n",
      "Failed requesting Rough Edges\n",
      "Failed requesting Three Monkeys\n"
     ]
    },
    {
     "name": "stderr",
     "output_type": "stream",
     "text": [
      "Processing David Massengill_tracks.parquet:  65%|██████▌   | 208/318 [00:15<00:09, 12.00it/s]"
     ]
    },
    {
     "name": "stdout",
     "output_type": "stream",
     "text": [
      "Failed requesting A Burning Leaf\n",
      "Failed requesting Away\n",
      "Failed requesting Mangled Savannah Waltz\n",
      "Failed requesting The Magic Kingdom (with apologies to Mr. Hensch, Senior vice president of Disney corporation)\n",
      "Failed requesting Now is the Dream\n",
      "Failed requesting Gravedigger\n",
      "Failed requesting Sunlight on the Window\n"
     ]
    },
    {
     "name": "stderr",
     "output_type": "stream",
     "text": [
      "Processing David Massengill_tracks.parquet:  68%|██████▊   | 216/318 [00:16<00:05, 17.63it/s]"
     ]
    },
    {
     "name": "stdout",
     "output_type": "stream",
     "text": [
      "Failed requesting Fun to Be Perfect\n",
      "Failed requesting Marian Rosen and I\n",
      "Failed requesting Don Quixote's Lullaby\n",
      "Failed requesting Row\n",
      "Failed requesting Real Life\n",
      "Failed requesting When the Lights Go Out\n",
      "Failed requesting Leaving Soweto\n"
     ]
    },
    {
     "name": "stderr",
     "output_type": "stream",
     "text": [
      "Processing David Massengill_tracks.parquet:  70%|███████   | 224/318 [00:16<00:04, 22.24it/s]"
     ]
    },
    {
     "name": "stdout",
     "output_type": "stream",
     "text": [
      "Failed requesting Long Black Wall\n",
      "Failed requesting Dead Egyptian Blues\n",
      "Failed requesting It's Still Raining in Paris\n",
      "Failed requesting One Cool Remove\n",
      "Failed requesting Carrie\n",
      "Failed requesting Sensitive New Age Guys\n",
      "Failed requesting Song of the Assasin\n"
     ]
    },
    {
     "name": "stderr",
     "output_type": "stream",
     "text": [
      "Processing David Massengill_tracks.parquet:  72%|███████▏  | 228/318 [00:16<00:03, 24.59it/s]"
     ]
    },
    {
     "name": "stdout",
     "output_type": "stream",
     "text": [
      "Failed requesting A Careless Man\n",
      "Failed requesting Sail On\n",
      "Failed requesting Where Has My True Love Gone\n",
      "Failed requesting Pearly Blues\n",
      "Failed requesting No Baby\n",
      "Failed requesting Legacy\n"
     ]
    },
    {
     "name": "stderr",
     "output_type": "stream",
     "text": [
      "Processing David Massengill_tracks.parquet:  74%|███████▍  | 236/318 [00:17<00:07, 11.25it/s]"
     ]
    },
    {
     "name": "stdout",
     "output_type": "stream",
     "text": [
      "Failed requesting Day is Done\n",
      "Failed requesting What Could I Add to That?\n",
      "Failed requesting My Two Cats\n",
      "Failed requesting Is It So Wrong to Feel So Good?\n",
      "Failed requesting Down the Dream\n",
      "Failed requesting I'm Wondering Why\n",
      "Failed requesting Children, Go Where I Send Thee\n"
     ]
    },
    {
     "name": "stderr",
     "output_type": "stream",
     "text": [
      "Processing David Massengill_tracks.parquet:  76%|███████▋  | 243/318 [00:17<00:04, 15.83it/s]"
     ]
    },
    {
     "name": "stdout",
     "output_type": "stream",
     "text": [
      "Failed requesting Number One in America\n",
      "Failed requesting The Marching Dream\n",
      "Failed requesting I Need You\n",
      "Failed requesting Godzilla\n",
      "Failed requesting Bawdy Songs: A Love Song / A Travel Tale / A Line on Brotherhood (Medley)\n",
      "Failed requesting Three Flights Up\n",
      "Failed requesting Before You Sing\n"
     ]
    },
    {
     "name": "stderr",
     "output_type": "stream",
     "text": [
      "Processing David Massengill_tracks.parquet:  79%|███████▉  | 251/318 [00:18<00:03, 22.30it/s]"
     ]
    },
    {
     "name": "stdout",
     "output_type": "stream",
     "text": [
      "Failed requesting Somebody to Do That For\n",
      "Failed requesting The World Turned Up-Side Down\n",
      "Failed requesting Problem Child\n",
      "Failed requesting Losers\n",
      "Failed requesting Down the Highway\n",
      "Failed requesting Moments\n",
      "Failed requesting Out of Luck\n",
      "Failed requesting Stranger with Your Hair\n"
     ]
    },
    {
     "name": "stderr",
     "output_type": "stream",
     "text": [
      "Processing David Massengill_tracks.parquet:  81%|████████▏ | 259/318 [00:18<00:02, 27.07it/s]"
     ]
    },
    {
     "name": "stdout",
     "output_type": "stream",
     "text": [
      "Failed requesting Should on You\n",
      "Failed requesting What Did You Do With The Money\n",
      "Failed requesting From My Hands\n",
      "Failed requesting La Chanson des Livreés\n",
      "Failed requesting Contrary Mary\n",
      "Failed requesting Diamond in the Rough\n",
      "Failed requesting Jive Town\n",
      "Failed requesting Number One in America\n"
     ]
    },
    {
     "name": "stderr",
     "output_type": "stream",
     "text": [
      "Processing David Massengill_tracks.parquet:  84%|████████▍ | 267/318 [00:18<00:01, 30.87it/s]"
     ]
    },
    {
     "name": "stdout",
     "output_type": "stream",
     "text": [
      "Failed requesting On the Avenue\n",
      "Failed requesting Old Factory Town\n",
      "Failed requesting Cabfare & Perfume\n",
      "Failed requesting Chocolates and Shame\n",
      "Failed requesting Let Me Take My Time\n"
     ]
    },
    {
     "name": "stderr",
     "output_type": "stream",
     "text": [
      "Processing David Massengill_tracks.parquet:  85%|████████▌ | 271/318 [00:18<00:01, 26.41it/s]"
     ]
    },
    {
     "name": "stdout",
     "output_type": "stream",
     "text": [
      "Failed requesting Water\n",
      "Failed requesting No Guarantee\n",
      "Failed requesting Knowing What I Know Now\n",
      "Failed requesting Ballad of a Ballgame\n",
      "Failed requesting My Name Joe\n",
      "Failed requesting Killkelly\n",
      "Failed requesting Railroad Bill\n",
      "Failed requesting Bonadea Intro\n"
     ]
    },
    {
     "name": "stderr",
     "output_type": "stream",
     "text": [
      "Processing David Massengill_tracks.parquet:  88%|████████▊ | 279/318 [00:19<00:01, 30.31it/s]"
     ]
    },
    {
     "name": "stdout",
     "output_type": "stream",
     "text": [
      "Failed requesting Bonadea\n",
      "Failed requesting I Know\n",
      "Failed requesting The Dollmaker's Secret\n",
      "Failed requesting Tinker's Coin\n",
      "Failed requesting Vacation\n",
      "Failed requesting Tinker's Coin\n",
      "Failed requesting Beyone\n"
     ]
    },
    {
     "name": "stderr",
     "output_type": "stream",
     "text": [
      "Processing David Massengill_tracks.parquet:  90%|█████████ | 287/318 [00:19<00:00, 31.70it/s]"
     ]
    },
    {
     "name": "stdout",
     "output_type": "stream",
     "text": [
      "Failed requesting Calypso\n",
      "Failed requesting Who Should Know\n",
      "Failed requesting Cockroaches On Parade\n",
      "Failed requesting Heart On Ice\n",
      "Failed requesting Henry the Accountant\n",
      "Failed requesting Nightbirds\n"
     ]
    },
    {
     "name": "stderr",
     "output_type": "stream",
     "text": [
      "Processing David Massengill_tracks.parquet:  92%|█████████▏| 291/318 [00:19<00:00, 29.77it/s]"
     ]
    },
    {
     "name": "stdout",
     "output_type": "stream",
     "text": [
      "Failed requesting Maria, There Will Be Time\n",
      "Failed requesting Goodnight\n",
      "Failed requesting Stop The War\n",
      "Failed requesting Great Storm Is Over\n",
      "Failed requesting Down in the Milltown\n",
      "Failed requesting Blue Hotel\n"
     ]
    },
    {
     "name": "stderr",
     "output_type": "stream",
     "text": [
      "Processing David Massengill_tracks.parquet:  94%|█████████▍| 299/318 [00:19<00:00, 30.48it/s]"
     ]
    },
    {
     "name": "stdout",
     "output_type": "stream",
     "text": [
      "Failed requesting A Married Man\n",
      "Failed requesting Summer Weddings\n",
      "Failed requesting I Had an Old Coat\n",
      "Failed requesting Al Cormier\n",
      "Failed requesting Wake Up\n",
      "Failed requesting Gary's Blues\n",
      "Failed requesting Out of This World\n"
     ]
    },
    {
     "name": "stderr",
     "output_type": "stream",
     "text": [
      "Processing David Massengill_tracks.parquet:  97%|█████████▋| 307/318 [00:19<00:00, 31.45it/s]"
     ]
    },
    {
     "name": "stdout",
     "output_type": "stream",
     "text": [
      "Failed requesting Rising Moon\n",
      "Failed requesting Il Volo Del Corvo\n",
      "Failed requesting Isn't it Good / Josh is in Love with a Dancer (medley)\n",
      "Failed requesting Temporary Song\n",
      "Failed requesting American\n",
      "Failed requesting Potter's Field\n",
      "Failed requesting An Oil Derrick Out by West Tulsa\n"
     ]
    },
    {
     "name": "stderr",
     "output_type": "stream",
     "text": [
      "Processing David Massengill_tracks.parquet:  98%|█████████▊| 311/318 [00:20<00:00, 31.94it/s]"
     ]
    },
    {
     "name": "stdout",
     "output_type": "stream",
     "text": [
      "Failed requesting Free Man\n",
      "Failed requesting I Am a Friend of the Foetus\n",
      "Failed requesting Nothing\n",
      "Failed requesting Chain of Love\n",
      "Failed requesting La Rosita de Broadway\n",
      "Failed requesting I Was Nixon's Plumber (or How I Cleaned the White House Toilets and Save America)\n",
      "Failed requesting Long Black Wall\n"
     ]
    },
    {
     "name": "stderr",
     "output_type": "stream",
     "text": [
      "Processing David Massengill_tracks.parquet: 100%|██████████| 318/318 [00:20<00:00, 15.68it/s]\n",
      "Processing David Mayfield_tracks.parquet:   0%|          | 0/81 [00:00<?, ?it/s]"
     ]
    },
    {
     "name": "stdout",
     "output_type": "stream",
     "text": [
      "Failed requesting Everything is Possible\n",
      "Failed requesting Nineteen Miles from Shoreham Town\n",
      "Failed requesting We Shall Stay Here\n",
      "Failed requesting Caution\n"
     ]
    },
    {
     "name": "stderr",
     "output_type": "stream",
     "text": [
      "Processing David Mayfield_tracks.parquet:   5%|▍         | 4/81 [00:00<00:02, 31.53it/s]"
     ]
    },
    {
     "name": "stdout",
     "output_type": "stream",
     "text": [
      "Failed requesting Ohio (It's Fake)\n",
      "Failed requesting The Man I'm Trying to Be\n",
      "Failed requesting Show\n",
      "Failed requesting The One I Hate\n",
      "Failed requesting Rain on My Parade\n",
      "Failed requesting My First Big Lie and How I Got out of It\n",
      "Failed requesting In Your Eyes\n"
     ]
    },
    {
     "name": "stderr",
     "output_type": "stream",
     "text": [
      "Processing David Mayfield_tracks.parquet:  15%|█▍        | 12/81 [00:00<00:02, 30.80it/s]"
     ]
    },
    {
     "name": "stdout",
     "output_type": "stream",
     "text": [
      "Failed requesting Ring out the Old\n",
      "Failed requesting Hangman\n",
      "Failed requesting Face the Storm\n",
      "Failed requesting Lazy Love\n",
      "Failed requesting The Slow Poison\n",
      "Failed requesting Ain't Workin'\n",
      "Failed requesting Never Did No Wanderin'\n"
     ]
    },
    {
     "name": "stderr",
     "output_type": "stream",
     "text": [
      "Processing David Mayfield_tracks.parquet:  25%|██▍       | 20/81 [00:00<00:01, 33.01it/s]"
     ]
    },
    {
     "name": "stdout",
     "output_type": "stream",
     "text": [
      "Failed requesting Blacksmith at Bull Run\n",
      "Failed requesting Depression\n",
      "Failed requesting Be Home\n",
      "Failed requesting You Can't Hurt Me, Like I Can\n",
      "Failed requesting Hannah Belle\n",
      "Failed requesting Up All Night\n",
      "Failed requesting Old Familiar Pain\n",
      "Failed requesting Since I've Lost You\n"
     ]
    },
    {
     "name": "stderr",
     "output_type": "stream",
     "text": [
      "Processing David Mayfield_tracks.parquet:  35%|███▍      | 28/81 [00:00<00:01, 33.79it/s]"
     ]
    },
    {
     "name": "stdout",
     "output_type": "stream",
     "text": [
      "Failed requesting A Stranger Says Hello\n",
      "Failed requesting Wicked Past and a Troubled Soul\n",
      "Failed requesting A New Leaf\n",
      "Failed requesting All of Me\n",
      "Failed requesting Just a Little Talk with Myself\n",
      "Failed requesting The Ride\n",
      "Failed requesting Goodbye, Love\n",
      "Failed requesting O'Connell Street\n"
     ]
    },
    {
     "name": "stderr",
     "output_type": "stream",
     "text": [
      "Processing David Mayfield_tracks.parquet:  44%|████▍     | 36/81 [00:01<00:01, 35.15it/s]"
     ]
    },
    {
     "name": "stdout",
     "output_type": "stream",
     "text": [
      "Failed requesting One Small Step\n",
      "Failed requesting Take Me Home, Country Roads\n",
      "Failed requesting When Johnny Comes Marching Home\n",
      "Failed requesting Shady Grove\n",
      "Failed requesting Song for Dani\n",
      "Failed requesting Bent to Fly\n",
      "Failed requesting Wheel Hoss\n",
      "Failed requesting Angeline the Baker / Welcome to Beijing\n"
     ]
    },
    {
     "name": "stderr",
     "output_type": "stream",
     "text": [
      "Processing David Mayfield_tracks.parquet:  54%|█████▍    | 44/81 [00:01<00:01, 34.59it/s]"
     ]
    },
    {
     "name": "stdout",
     "output_type": "stream",
     "text": [
      "Failed requesting Carry Me Back to Carolina (feat. Buddy Melton)\n",
      "Failed requesting Martha White, Lester and Earl (feat. Marty Raybon)\n",
      "Failed requesting No One but My Darlin’ (feat. John Cowan)\n",
      "Failed requesting Please Take Me Home (feat. Buddy Melton)\n",
      "Failed requesting Long Enough to Make Me Blue (feat. Larry Cordle)\n",
      "Failed requesting Short Order Time (feat. David Mayfield)\n",
      "Failed requesting Just Ain't (feat. Sam Bush)\n",
      "Failed requesting I'm Sorry Too (feat. Tim Stafford)\n"
     ]
    },
    {
     "name": "stderr",
     "output_type": "stream",
     "text": [
      "Processing David Mayfield_tracks.parquet:  64%|██████▍   | 52/81 [00:01<00:00, 33.99it/s]"
     ]
    },
    {
     "name": "stdout",
     "output_type": "stream",
     "text": [
      "Failed requesting I've Been Around Enough to Know (feat. John Schneider)\n",
      "Failed requesting You Live in a World All Your Own (feat. Jon Randall Stewart)\n",
      "Failed requesting What'll I Do? (feat. Sam Bush)\n",
      "Failed requesting I'll Be Going Home (feat. Buddy Melton)\n",
      "Failed requesting Rambling Door to Door\n",
      "Failed requesting On Christmas Eve\n",
      "Failed requesting La Rama\n"
     ]
    },
    {
     "name": "stderr",
     "output_type": "stream",
     "text": [
      "Processing David Mayfield_tracks.parquet:  74%|███████▍  | 60/81 [00:01<00:00, 31.72it/s]"
     ]
    },
    {
     "name": "stdout",
     "output_type": "stream",
     "text": [
      "Failed requesting Christmas Time Is Here\n",
      "Failed requesting The Brightest Star\n",
      "Failed requesting Fairytale of New York\n",
      "Failed requesting Next Christmas\n",
      "Failed requesting I Thank God\n",
      "Failed requesting Little Toy Trains\n",
      "Failed requesting Rebel Jesus\n"
     ]
    },
    {
     "name": "stderr",
     "output_type": "stream",
     "text": [
      "Processing David Mayfield_tracks.parquet:  84%|████████▍ | 68/81 [00:02<00:00, 33.54it/s]"
     ]
    },
    {
     "name": "stdout",
     "output_type": "stream",
     "text": [
      "Failed requesting I Wish I Could Talk Through My Guitar\n",
      "Failed requesting Rain Whispers\n",
      "Failed requesting Development\n",
      "Failed requesting Art of Motion\n",
      "Failed requesting Never Got to Pernanbucco\n",
      "Failed requesting Morning Wind\n",
      "Failed requesting Acoustica\n",
      "Failed requesting Gypsy Waltz\n"
     ]
    },
    {
     "name": "stderr",
     "output_type": "stream",
     "text": [
      "Processing David Mayfield_tracks.parquet:  89%|████████▉ | 72/81 [00:02<00:00, 33.09it/s]"
     ]
    },
    {
     "name": "stdout",
     "output_type": "stream",
     "text": [
      "Failed requesting Magic Jumping Beans\n",
      "Failed requesting Conversation Piece\n",
      "Failed requesting Renewal\n",
      "Failed requesting Wanderin'\n",
      "Failed requesting Light of Dreams part 1 Dreaming With Eyes Wide Open\n",
      "Failed requesting Runaway Horse\n",
      "Failed requesting El Cumbanchero\n"
     ]
    },
    {
     "name": "stderr",
     "output_type": "stream",
     "text": [
      "Processing David Mayfield_tracks.parquet: 100%|██████████| 81/81 [00:02<00:00, 33.27it/s]\n",
      "Processing David Mooney_tracks.parquet:   0%|          | 0/34 [00:00<?, ?it/s]"
     ]
    },
    {
     "name": "stdout",
     "output_type": "stream",
     "text": [
      "Failed requesting Bye Bye Blues\n",
      "Failed requesting Windy Bill\n",
      "Failed requesting Mr. Skippy Pants\n",
      "Failed requesting Kornflowers Jig\n",
      "Failed requesting The House of Love and Friendship\n",
      "Failed requesting She Moved through the Fair (arr. D. Mooney for choir)\n"
     ]
    },
    {
     "name": "stderr",
     "output_type": "stream",
     "text": [
      "Processing David Mooney_tracks.parquet:  12%|█▏        | 4/34 [00:00<00:00, 32.31it/s]"
     ]
    },
    {
     "name": "stdout",
     "output_type": "stream",
     "text": [
      "Failed requesting Beidh aonach amarach (arr. D. Mooney for choir)\n",
      "Failed requesting S i do Mhaimeo i (arr. D. Mooney for choir)\n",
      "Failed requesting Rakes of Mallow (arr. D. Mooney for choir)\n",
      "Failed requesting Phil the Fluther's Ball (arr. D. Mooney for choir)\n",
      "Failed requesting Down by the Salley Gardens (arr. D. Mooney for choir)\n",
      "Failed requesting Thugamar fein an Samradh Linn (arr. D. Mooney for choir)\n",
      "Failed requesting The Lark in the Clear Air (arr. D. Mooney for choir)\n"
     ]
    },
    {
     "name": "stderr",
     "output_type": "stream",
     "text": [
      "Processing David Mooney_tracks.parquet:  35%|███▌      | 12/34 [00:00<00:00, 31.73it/s]"
     ]
    },
    {
     "name": "stdout",
     "output_type": "stream",
     "text": [
      "Failed requesting Don Oiche ud I mBeithil (arr. D. Mooney for choir)\n",
      "Failed requesting Suantrai na Maigdhine (arr. D. Mooney for choir)\n",
      "Failed requesting Wexford Carol (arr. D. Mooney for choir)\n",
      "Failed requesting Oro 's e do bheatha 'bhaile (arr. D. Mooney for choir)\n",
      "Failed requesting Famine Lament (arr. D. Mooney for choir)\n",
      "Failed requesting Dulaman (arr. D. Mooney for choir)\n"
     ]
    },
    {
     "name": "stderr",
     "output_type": "stream",
     "text": [
      "Processing David Mooney_tracks.parquet:  59%|█████▉    | 20/34 [00:00<00:00, 32.19it/s]"
     ]
    },
    {
     "name": "stdout",
     "output_type": "stream",
     "text": [
      "Failed requesting The Coulin (arr. D. Mooney for choir)\n",
      "Failed requesting Ardaigh Cuain (arr. D. Mooney for choir)\n",
      "Failed requesting Silent O Moyle (arr. D. Mooney for choir)\n",
      "Failed requesting Derry Air (Danny Boy) (arr. D. Mooney for choir)\n",
      "Failed requesting The Cat's Ramble to the Child's Saucer (arr. D. Mooney for choir)\n",
      "Failed requesting Lord of the Dancing Day (arr. D. Mooney for choir)\n",
      "Failed requesting Blessed Be That Maid Marie\n"
     ]
    },
    {
     "name": "stderr",
     "output_type": "stream",
     "text": [
      "Processing David Mooney_tracks.parquet:  82%|████████▏ | 28/34 [00:00<00:00, 32.97it/s]"
     ]
    },
    {
     "name": "stdout",
     "output_type": "stream",
     "text": [
      "Failed requesting In the Bleak Midwinter\n",
      "Failed requesting God Rest You Merry, Gentlemen\n",
      "Failed requesting Dormi Jesu\n",
      "Failed requesting There Is No Rose I\n",
      "Failed requesting Deck the Hall\n",
      "Failed requesting O Holy Night\n",
      "Failed requesting The Wexford Carol\n"
     ]
    },
    {
     "name": "stderr",
     "output_type": "stream",
     "text": [
      "Processing David Mooney_tracks.parquet: 100%|██████████| 34/34 [00:01<00:00, 32.08it/s]\n",
      "Processing David Morales_tracks.parquet:   0%|          | 0/101 [00:00<?, ?it/s]"
     ]
    },
    {
     "name": "stdout",
     "output_type": "stream",
     "text": [
      "Failed requesting Make We Merry\n",
      "Failed requesting Suantraí Ár Slánaitheora\n",
      "Failed requesting Adam Lay Ybounden\n",
      "Failed requesting There Is No Rose II\n",
      "Failed requesting This Endris Night\n",
      "Failed requesting A Nywe Werk\n",
      "Failed requesting SPIRIT DANCE\n"
     ]
    },
    {
     "name": "stderr",
     "output_type": "stream",
     "text": [
      "Processing David Morales_tracks.parquet:   4%|▍         | 4/101 [00:00<00:03, 31.55it/s]"
     ]
    },
    {
     "name": "stdout",
     "output_type": "stream",
     "text": [
      "Failed requesting MI CASA\n",
      "Failed requesting NO FEAR\n",
      "Failed requesting MOVIN'\n",
      "Failed requesting VIRUS\n",
      "Failed requesting MENTAL RUBY\n",
      "Failed requesting DON'T BE ALARMED - Instrumental Mix\n",
      "Failed requesting TIME TRAVELLER\n"
     ]
    },
    {
     "name": "stderr",
     "output_type": "stream",
     "text": [
      "Processing David Morales_tracks.parquet:  12%|█▏        | 12/101 [00:00<00:02, 33.51it/s]"
     ]
    },
    {
     "name": "stdout",
     "output_type": "stream",
     "text": [
      "Failed requesting TIME TRAVELLER - Jana Sais Quoi Remix\n",
      "Failed requesting I Feel Love - Extended Mix\n",
      "Failed requesting Party in De Ghetto - Extended Mix\n",
      "Failed requesting Never Give Up - Extended Mix\n",
      "Failed requesting The Feels - Extended Mix\n",
      "Failed requesting Easy - Extended Mix\n",
      "Failed requesting Come Undone - Extended Digital Mix\n",
      "Failed requesting Can't Get Enough - Extended Mix\n"
     ]
    },
    {
     "name": "stderr",
     "output_type": "stream",
     "text": [
      "Processing David Morales_tracks.parquet:  20%|█▉        | 20/101 [00:00<00:02, 35.01it/s]"
     ]
    },
    {
     "name": "stdout",
     "output_type": "stream",
     "text": [
      "Failed requesting No Boundaries - Extended Mix\n",
      "Failed requesting What Can I Do - Extended Mix\n",
      "Failed requesting Hela - Extended Album Mix\n",
      "Failed requesting Come the Moment - Extended Mix\n",
      "Failed requesting Never Looking Back - Extended Mix\n",
      "Failed requesting Second Chance - Extended Mix\n",
      "Failed requesting I Can Dream - Extended Mix\n"
     ]
    },
    {
     "name": "stderr",
     "output_type": "stream",
     "text": [
      "Processing David Morales_tracks.parquet:  28%|██▊       | 28/101 [00:00<00:02, 32.73it/s]"
     ]
    },
    {
     "name": "stdout",
     "output_type": "stream",
     "text": [
      "Failed requesting Life Is a Song - Ol' Skool Extended Mix\n",
      "Failed requesting Basic\n",
      "Failed requesting Drip\n",
      "Failed requesting Drip - Instrumental\n",
      "Failed requesting In the Zone\n",
      "Failed requesting Moscow Mulski\n",
      "Failed requesting Psycho\n",
      "Failed requesting Techno\n"
     ]
    },
    {
     "name": "stderr",
     "output_type": "stream",
     "text": [
      "Processing David Morales_tracks.parquet:  36%|███▌      | 36/101 [00:01<00:01, 35.22it/s]"
     ]
    },
    {
     "name": "stdout",
     "output_type": "stream",
     "text": [
      "Failed requesting The Bonester\n",
      "Failed requesting The Dead Zone\n",
      "Failed requesting Tribe\n",
      "Failed requesting Special Kind of Love - Jazz-N-Groove Primetime Dub (Mixed)\n",
      "Failed requesting You Are The One - Da 12 (Mixed)\n",
      "Failed requesting I Luv You More - D’Ambrosio Club Mix (Mixed)\n",
      "Failed requesting Falling In & Out of Love - Tood Gee's Roots Vocal (Mixed)\n",
      "Failed requesting Freed - Deep Jazzy Mix (Mixed)\n"
     ]
    },
    {
     "name": "stderr",
     "output_type": "stream",
     "text": [
      "Processing David Morales_tracks.parquet:  44%|████▎     | 44/101 [00:01<00:01, 31.94it/s]"
     ]
    },
    {
     "name": "stdout",
     "output_type": "stream",
     "text": [
      "Failed requesting Soul Connection - Mixed\n",
      "Failed requesting Grass Cutter - 6:23 Club Mix (Mixed)\n",
      "Failed requesting A Better World - Blaze Dub (Mixed)\n",
      "Failed requesting What Goes Around Comes Around - Matty’s Soulflower Dub (Mixed)\n",
      "Failed requesting Glory Glory - Def Club Mix (Mixed)\n",
      "Failed requesting We R 1 - Shrine Horn Mix (Mixed)\n"
     ]
    },
    {
     "name": "stderr",
     "output_type": "stream",
     "text": [
      "Processing David Morales_tracks.parquet:  51%|█████▏    | 52/101 [00:01<00:01, 33.09it/s]"
     ]
    },
    {
     "name": "stdout",
     "output_type": "stream",
     "text": [
      "Failed requesting I Really Love\n",
      "Failed requesting What Do You Believe In\n",
      "Failed requesting Holiday\n",
      "Failed requesting Golden Era - David Morales Album Mix\n",
      "Failed requesting Planet Called Love\n",
      "Failed requesting Stay\n",
      "Failed requesting You Just Don't Love Me - Club Mix\n",
      "Failed requesting I Don't Belong Here\n"
     ]
    },
    {
     "name": "stderr",
     "output_type": "stream",
     "text": [
      "Processing David Morales_tracks.parquet:  55%|█████▌    | 56/101 [00:01<00:01, 31.97it/s]"
     ]
    },
    {
     "name": "stdout",
     "output_type": "stream",
     "text": [
      "Failed requesting Fall in Love Tonight\n",
      "Failed requesting Last Time\n",
      "Failed requesting 7 Days\n",
      "Failed requesting Keeper\n",
      "Failed requesting Here I Am\n",
      "Failed requesting Feels Good\n",
      "Failed requesting Holdin' On\n"
     ]
    },
    {
     "name": "stderr",
     "output_type": "stream",
     "text": [
      "Processing David Morales_tracks.parquet:  63%|██████▎   | 64/101 [00:01<00:01, 27.70it/s]"
     ]
    },
    {
     "name": "stdout",
     "output_type": "stream",
     "text": [
      "Failed requesting Can't Forget U\n",
      "Failed requesting U Came\n",
      "Failed requesting Better That U Leave\n",
      "Failed requesting How Would U Feel\n",
      "Failed requesting 2 Worlds Collide\n"
     ]
    },
    {
     "name": "stderr",
     "output_type": "stream",
     "text": [
      "Processing David Morales_tracks.parquet:  67%|██████▋   | 68/101 [00:02<00:01, 29.42it/s]"
     ]
    },
    {
     "name": "stdout",
     "output_type": "stream",
     "text": [
      "Failed requesting Lifted\n",
      "Failed requesting Take My Luv\n",
      "Failed requesting I Never Knew Her - Kaoz 6:23 Mix (Mixed)\n",
      "Failed requesting Reach 4 Freedom - DF's Vocal Mix (Mixed)\n",
      "Failed requesting Philadelphia - Original Demo & D.M. Experience (Mixed)\n",
      "Failed requesting Season of Love - Blaze Club Mix (Mixed)\n",
      "Failed requesting Mongobonix - From Beneath the Earth's Crust (Mixed)\n"
     ]
    },
    {
     "name": "stderr",
     "output_type": "stream",
     "text": [
      "Processing David Morales_tracks.parquet:  71%|███████▏  | 72/101 [00:02<00:00, 30.81it/s]"
     ]
    },
    {
     "name": "stdout",
     "output_type": "stream",
     "text": [
      "Failed requesting Brighter Days - Groovylizer’s Magic Interpretation (Mixed)\n",
      "Failed requesting President House - Hott 22 Vocal Remix (Mixed)\n",
      "Failed requesting R U Ready? - Sax Vocal Anthem (Mixed)\n"
     ]
    },
    {
     "name": "stderr",
     "output_type": "stream",
     "text": [
      "Processing David Morales_tracks.parquet:  75%|███████▌  | 76/101 [00:03<00:02,  9.41it/s]"
     ]
    },
    {
     "name": "stdout",
     "output_type": "stream",
     "text": [
      "Failed requesting House Music - Alternate Mix (Mixed)\n",
      "Failed requesting Sometimes - Angel’s Deep & Dark Dub (Mixed)\n",
      "Failed requesting Needin' U (I Needed U) - Radio Mix\n"
     ]
    },
    {
     "name": "stderr",
     "output_type": "stream",
     "text": [
      "Processing David Morales_tracks.parquet:  87%|████████▋ | 88/101 [00:08<00:03,  3.31it/s]"
     ]
    },
    {
     "name": "stdout",
     "output_type": "stream",
     "text": [
      "Failed requesting GIVE ME MORE\n",
      "Failed requesting The Love I Gave\n",
      "Failed requesting The Love I Gave - Instrumental Mix\n",
      "Failed requesting The Love I Gave - Edit\n",
      "Failed requesting Heartbeat\n",
      "Failed requesting Holding Me Touching Me\n",
      "Failed requesting Holding Me Touching Me - Extended Mix\n",
      "Failed requesting Hell Yeah - David Morales NYC Club Remix\n"
     ]
    },
    {
     "name": "stderr",
     "output_type": "stream",
     "text": [
      "Processing David Morales_tracks.parquet:  95%|█████████▌| 96/101 [00:08<00:00,  6.70it/s]"
     ]
    },
    {
     "name": "stdout",
     "output_type": "stream",
     "text": [
      "Failed requesting Hell Yeah - David Morales NYC Club Dub Remix\n",
      "Failed requesting Hell Yeah - David Morales NYC Club Instrumental Remix\n",
      "Failed requesting Hell Yeah - David Morales NYC Remix\n",
      "Failed requesting Make You Go Higher (David Morales Stereo Remix)\n",
      "Failed requesting Make You Go Higher (David Morales Stereo Remix Radio Edit)\n",
      "Failed requesting Needin' U (Jonas Blue Remix)\n"
     ]
    },
    {
     "name": "stderr",
     "output_type": "stream",
     "text": [
      "Processing David Morales_tracks.parquet: 100%|██████████| 101/101 [00:09<00:00, 11.09it/s]\n",
      "Processing David Murray_tracks.parquet:   3%|▎         | 4/136 [00:00<00:04, 31.50it/s]"
     ]
    },
    {
     "name": "stdout",
     "output_type": "stream",
     "text": [
      "Failed requesting Needin' U (Jonas Blue Extended Remix)\n",
      "Failed requesting Hot Dance - David Morales Red Zone Mix\n",
      "Failed requesting Hot Dance - Tonio Barrientos Mix\n",
      "Failed requesting Free For C.T.\n",
      "Failed requesting Silence\n",
      "Failed requesting Hurray For Herbie\n",
      "Failed requesting I Should Care\n"
     ]
    },
    {
     "name": "stderr",
     "output_type": "stream",
     "text": [
      "Processing David Murray_tracks.parquet:   6%|▌         | 8/136 [00:00<00:05, 24.67it/s]"
     ]
    },
    {
     "name": "stdout",
     "output_type": "stream",
     "text": [
      "Failed requesting Jean-Pierre\n",
      "Failed requesting All Too Soon\n",
      "Failed requesting Soul Eyes\n",
      "Failed requesting Seriana Promethea\n",
      "Failed requesting Necktar\n",
      "Failed requesting Metouka Sheli (Ballade for Adrienne)\n"
     ]
    },
    {
     "name": "stderr",
     "output_type": "stream",
     "text": [
      "Processing David Murray_tracks.parquet:   9%|▉         | 12/136 [00:00<00:04, 28.78it/s]"
     ]
    },
    {
     "name": "stdout",
     "output_type": "stream",
     "text": [
      "Failed requesting Rainbows for Julia\n",
      "Failed requesting Switchin' in the Kitchen\n",
      "Failed requesting Anita et Annita\n",
      "Failed requesting If You Want Me to Stay\n",
      "Failed requesting Am Gone Get Some\n",
      "Failed requesting Let The Flowers Grow\n"
     ]
    },
    {
     "name": "stderr",
     "output_type": "stream",
     "text": [
      "Processing David Murray_tracks.parquet:  18%|█▊        | 24/136 [00:00<00:03, 32.79it/s]"
     ]
    },
    {
     "name": "stdout",
     "output_type": "stream",
     "text": [
      "Failed requesting Old Folks\n",
      "Failed requesting Early Autumn\n",
      "Failed requesting The Summer Knows\n",
      "Failed requesting Tis Autumn\n",
      "Failed requesting A Beautiful Sight\n",
      "Failed requesting Summer Me, Winter Me\n",
      "Failed requesting A Dream Wish\n",
      "Failed requesting My One and Only Love\n",
      "Failed requesting Spring Can Really Hang You Up The Most\n"
     ]
    },
    {
     "name": "stderr",
     "output_type": "stream",
     "text": [
      "Processing David Murray_tracks.parquet:  24%|██▎       | 32/136 [00:01<00:03, 33.26it/s]"
     ]
    },
    {
     "name": "stdout",
     "output_type": "stream",
     "text": [
      "Failed requesting Everything Must Change\n",
      "Failed requesting Seasons Of Love\n",
      "Failed requesting How I Got Over\n",
      "Failed requesting Nobody Knows The Trouble I've Seen\n",
      "Failed requesting Jimaine's Creation\n",
      "Failed requesting Missionary\n",
      "Failed requesting Don't Know What I Would Do\n"
     ]
    },
    {
     "name": "stderr",
     "output_type": "stream",
     "text": [
      "Processing David Murray_tracks.parquet:  26%|██▋       | 36/136 [00:01<00:03, 33.13it/s]"
     ]
    },
    {
     "name": "stdout",
     "output_type": "stream",
     "text": [
      "Failed requesting Amazing Grace\n",
      "Failed requesting Blessed Assurance\n",
      "Failed requesting A Closer Walk With Thee\n",
      "Failed requesting Sleep\n",
      "Failed requesting Nacht für Nacht\n",
      "Failed requesting Hymn to Pan\n",
      "Failed requesting 3 Duetten, Op. 11: No. 2, Die Geisterinsel\n"
     ]
    },
    {
     "name": "stderr",
     "output_type": "stream",
     "text": [
      "Processing David Murray_tracks.parquet:  32%|███▏      | 44/136 [00:01<00:02, 33.57it/s]"
     ]
    },
    {
     "name": "stdout",
     "output_type": "stream",
     "text": [
      "Failed requesting Les langueurs\n",
      "Failed requesting Die Mitternacht war kalt, H-U 309\n",
      "Failed requesting Ich stand gelehnet an den Mast, H-U 284\n",
      "Failed requesting À travers bois, Op. 63\n",
      "Failed requesting Io mi distruggo\n",
      "Failed requesting Mosaics: No. 11, The Purple Moor\n",
      "Failed requesting À Lydie\n",
      "Failed requesting Horazische Ode\n"
     ]
    },
    {
     "name": "stderr",
     "output_type": "stream",
     "text": [
      "Processing David Murray_tracks.parquet:  38%|███▊      | 52/136 [00:01<00:02, 33.57it/s]"
     ]
    },
    {
     "name": "stdout",
     "output_type": "stream",
     "text": [
      "Failed requesting Cantate, ariette, e duetti, Op. 2: No. 19, Morso, e bacio dati in un tempo\n",
      "Failed requesting Songs of the Sea, Op. 10: No. 1, A Canadian Boat Song\n",
      "Failed requesting La Jota, VWV 4041\n",
      "Failed requesting 6 Mélodies et une havanaise variée: No. 7, Habañera, VWV 1019\n",
      "Failed requesting 12 Gesänge, Op. 3: No. 12, Hör' es klagt die Flöte\n",
      "Failed requesting 4 Romances: No. 3, Belle viens à moi\n",
      "Failed requesting Il ritrovo\n"
     ]
    },
    {
     "name": "stderr",
     "output_type": "stream",
     "text": [
      "Processing David Murray_tracks.parquet:  44%|████▍     | 60/136 [00:01<00:02, 33.06it/s]"
     ]
    },
    {
     "name": "stdout",
     "output_type": "stream",
     "text": [
      "Failed requesting O That We Two Were Maying\n",
      "Failed requesting Chelsea Bridge\n",
      "Failed requesting Polkla Dots and Moonbeams\n",
      "Failed requesting Star Eyes\n",
      "Failed requesting Body and Soul\n",
      "Failed requesting Tear for Two\n",
      "Failed requesting I'm in the Mood for Love\n"
     ]
    },
    {
     "name": "stderr",
     "output_type": "stream",
     "text": [
      "Processing David Murray_tracks.parquet:  50%|█████     | 68/136 [00:02<00:02, 33.74it/s]"
     ]
    },
    {
     "name": "stdout",
     "output_type": "stream",
     "text": [
      "Failed requesting Blues for Two\n",
      "Failed requesting La Vie En Rose\n",
      "Failed requesting Gwotet\n",
      "Failed requesting O' léonso\n",
      "Failed requesting Ouagadougou\n",
      "Failed requesting La Jwa\n",
      "Failed requesting Djolla Feeling\n",
      "Failed requesting Go To Jazz\n"
     ]
    },
    {
     "name": "stderr",
     "output_type": "stream",
     "text": [
      "Processing David Murray_tracks.parquet:  56%|█████▌    | 76/136 [00:02<00:01, 33.54it/s]"
     ]
    },
    {
     "name": "stdout",
     "output_type": "stream",
     "text": [
      "Failed requesting Ovwa\n",
      "Failed requesting Gwotet - Radio Edit\n",
      "Failed requesting Valley Talk\n",
      "Failed requesting Chazz (For Charles Mingus)\n",
      "Failed requesting As I Woke\n",
      "Failed requesting Strollin' (For Jean Michel Basquiat)\n",
      "Failed requesting Abel' s Blissed Out Blues\n"
     ]
    },
    {
     "name": "stderr",
     "output_type": "stream",
     "text": [
      "Processing David Murray_tracks.parquet:  59%|█████▉    | 80/136 [00:02<00:01, 32.64it/s]"
     ]
    },
    {
     "name": "stdout",
     "output_type": "stream",
     "text": [
      "Failed requesting Sharing\n",
      "Failed requesting As I Woke (2nd Version)\n",
      "Failed requesting Valley Talk (2nd version)\n",
      "Failed requesting Blue Monk\n",
      "Failed requesting Ask Me Now\n",
      "Failed requesting Presto V.H.\n",
      "Failed requesting Body&Soul\n",
      "Failed requesting Ellingtonia\n"
     ]
    },
    {
     "name": "stderr",
     "output_type": "stream",
     "text": [
      "Processing David Murray_tracks.parquet:  62%|██████▏   | 84/136 [00:02<00:01, 33.74it/s]"
     ]
    },
    {
     "name": "stdout",
     "output_type": "stream",
     "text": [
      "Failed requesting Bright Missisippi\n",
      "Failed requesting Ba-Lue Bolivar Ba-Lues\n",
      "Failed requesting Mr. Jelly Roll\n"
     ]
    },
    {
     "name": "stderr",
     "output_type": "stream",
     "text": [
      "Processing David Murray_tracks.parquet:  68%|██████▊   | 92/136 [00:02<00:01, 28.93it/s]"
     ]
    },
    {
     "name": "stdout",
     "output_type": "stream",
     "text": [
      "Failed requesting Kaiso\n",
      "Failed requesting Ballad for the Blackman\n",
      "Failed requesting Kush\n",
      "Failed requesting A Mirror of Youth\n",
      "Failed requesting Cycles and Seasons\n",
      "Failed requesting Blues for Memo\n",
      "Failed requesting Obe\n",
      "Failed requesting Citizens\n"
     ]
    },
    {
     "name": "stderr",
     "output_type": "stream",
     "text": [
      "Processing David Murray_tracks.parquet:  74%|███████▎  | 100/136 [00:03<00:01, 32.18it/s]"
     ]
    },
    {
     "name": "stdout",
     "output_type": "stream",
     "text": [
      "Failed requesting Positive Messages\n",
      "Failed requesting Red Summer\n",
      "Failed requesting Enlightenment\n",
      "Failed requesting Deep in Me\n",
      "Failed requesting Music of the Mind\n",
      "Failed requesting Forever Brothers\n",
      "Failed requesting Jas Van (For James VanDerzee) - Live at the Collegiate Theatre, London, August 1978\n",
      "Failed requesting Home - Live at the Collegiate Theatre, London, August 1978\n"
     ]
    },
    {
     "name": "stderr",
     "output_type": "stream",
     "text": [
      "Processing David Murray_tracks.parquet:  79%|███████▉  | 108/136 [00:03<00:00, 32.77it/s]"
     ]
    },
    {
     "name": "stdout",
     "output_type": "stream",
     "text": [
      "Failed requesting Secret of the Circle - Live at the Collegiate Theatre, London, August 1978\n",
      "Failed requesting Nairobia - Live at the Collegiate Theatre, London, August 1978\n",
      "Failed requesting Flowers for Albert - Live at the Collegiate Theatre, London, August 1978\n",
      "Failed requesting Murray's Steps - Live at the Collegiate Theatre, London, August 1978\n",
      "Failed requesting Conciõn de Amor en Español - Live at the Collegiate Theatre, London, August 1978\n",
      "Failed requesting Cherry – Sakura\n",
      "Failed requesting Cherry – Sakura\n"
     ]
    },
    {
     "name": "stderr",
     "output_type": "stream",
     "text": [
      "Processing David Murray_tracks.parquet:  85%|████████▌ | 116/136 [00:03<00:00, 32.06it/s]"
     ]
    },
    {
     "name": "stdout",
     "output_type": "stream",
     "text": [
      "Failed requesting A Very Long Letter\n",
      "Failed requesting Let's Cool One\n",
      "Failed requesting To A. P. Kern\n",
      "Failed requesting Stressology\n",
      "Failed requesting Nobuko\n",
      "Failed requesting Blues for David\n",
      "Failed requesting A Long March to Freedom\n"
     ]
    },
    {
     "name": "stderr",
     "output_type": "stream",
     "text": [
      "Processing David Murray_tracks.parquet:  91%|█████████ | 124/136 [00:03<00:00, 33.17it/s]"
     ]
    },
    {
     "name": "stdout",
     "output_type": "stream",
     "text": [
      "Failed requesting Cherry – Sakura\n",
      "Failed requesting Cherry – Sakura\n",
      "Failed requesting A Very Long Letter\n",
      "Failed requesting Let's Cool One\n",
      "Failed requesting To A. P. Kern\n",
      "Failed requesting Stressology\n",
      "Failed requesting Nobuko\n",
      "Failed requesting Blues for David\n"
     ]
    },
    {
     "name": "stderr",
     "output_type": "stream",
     "text": [
      "Processing David Murray_tracks.parquet:  97%|█████████▋| 132/136 [00:04<00:00, 34.01it/s]"
     ]
    },
    {
     "name": "stdout",
     "output_type": "stream",
     "text": [
      "Failed requesting A Long March to Freedom\n",
      "Failed requesting Mirror of Youth\n",
      "Failed requesting Barbara Allen\n",
      "Failed requesting Geri-Rigged\n",
      "Failed requesting The David, Geri & Terri Show\n",
      "Failed requesting The Nurturer\n",
      "Failed requesting Perfection\n",
      "Failed requesting D Special (Interlude)\n"
     ]
    },
    {
     "name": "stderr",
     "output_type": "stream",
     "text": [
      "Processing David Murray_tracks.parquet: 100%|██████████| 136/136 [00:04<00:00, 32.33it/s]\n",
      "Processing David Olney_tracks.parquet:   2%|▏         | 4/224 [00:00<00:06, 33.97it/s]"
     ]
    },
    {
     "name": "stdout",
     "output_type": "stream",
     "text": [
      "Failed requesting Samsara (For Wayne)\n",
      "Failed requesting For Fr. Peter O'brien\n",
      "Failed requesting Cycles and Seasons\n",
      "Failed requesting Crack in the Wall - Live\n",
      "Failed requesting Ice Cold Water - Live\n",
      "Failed requesting Wall - Live\n",
      "Failed requesting Innocent Heart - Live\n"
     ]
    },
    {
     "name": "stderr",
     "output_type": "stream",
     "text": [
      "Processing David Olney_tracks.parquet:   4%|▎         | 8/224 [00:00<00:06, 33.16it/s]"
     ]
    },
    {
     "name": "stdout",
     "output_type": "stream",
     "text": [
      "Failed requesting New York Mining Disaster 1941 / Roses - Live\n",
      "Failed requesting Caterpillar - Live\n",
      "Failed requesting This Side or the Other - Live\n",
      "Failed requesting Border Town - Live\n",
      "Failed requesting Ferris Wheel - Live\n",
      "Failed requesting Mountain Jackson - Live\n",
      "Failed requesting Slim Slammy - Live\n"
     ]
    },
    {
     "name": "stderr",
     "output_type": "stream",
     "text": [
      "Processing David Olney_tracks.parquet:   7%|▋         | 16/224 [00:00<00:06, 32.27it/s]"
     ]
    },
    {
     "name": "stdout",
     "output_type": "stream",
     "text": [
      "Failed requesting Sweet Sugaree - Live\n",
      "Failed requesting Everyday - Live\n",
      "Failed requesting Rex's Blues - Live\n",
      "Failed requesting Little Mustang / Deeper Well - Live\n",
      "Failed requesting Big Top (Tornado) - Live\n",
      "Failed requesting Train Wreck - Live\n",
      "Failed requesting Two Bit Hood - Live\n"
     ]
    },
    {
     "name": "stderr",
     "output_type": "stream",
     "text": [
      "Processing David Olney_tracks.parquet:  11%|█         | 24/224 [00:00<00:06, 30.69it/s]"
     ]
    },
    {
     "name": "stdout",
     "output_type": "stream",
     "text": [
      "Failed requesting Situation / Don't Try to Fight It - Live\n",
      "Failed requesting Always the Stranger / I Still Miss Someone - Live\n",
      "Failed requesting Evermore - Live\n",
      "Failed requesting A Dangerous Man - Live\n",
      "Failed requesting I Spy - Live\n",
      "Failed requesting No Business of Mine - Live\n",
      "Failed requesting Love Is - Live\n"
     ]
    },
    {
     "name": "stderr",
     "output_type": "stream",
     "text": [
      "Processing David Olney_tracks.parquet:  12%|█▎        | 28/224 [00:00<00:06, 31.58it/s]"
     ]
    },
    {
     "name": "stdout",
     "output_type": "stream",
     "text": [
      "Failed requesting Thing of Beauty - Live\n",
      "Failed requesting Speed of the Sound of Loneliness - Live\n",
      "Failed requesting Stand Tall / She's Not There - Live\n",
      "Failed requesting Take Me with You When You Go - Live\n",
      "Failed requesting For the Sake of the Song - Live\n",
      "Failed requesting The Station\n",
      "Failed requesting My Favorite Goodbye\n"
     ]
    },
    {
     "name": "stderr",
     "output_type": "stream",
     "text": [
      "Processing David Olney_tracks.parquet:  18%|█▊        | 40/224 [00:01<00:05, 33.10it/s]"
     ]
    },
    {
     "name": "stdout",
     "output_type": "stream",
     "text": [
      "Failed requesting My Last Dream of You\n",
      "Failed requesting Lie to Me, Angel\n",
      "Failed requesting Thank You Note\n",
      "Failed requesting Behind Your Smile\n",
      "Failed requesting Why Can't We Get This Right?\n",
      "Failed requesting Last Days of Rome\n",
      "Failed requesting Whispers And Sighs\n",
      "Failed requesting The World We Used to Know\n"
     ]
    },
    {
     "name": "stderr",
     "output_type": "stream",
     "text": [
      "Processing David Olney_tracks.parquet:  20%|█▉        | 44/224 [00:01<00:05, 32.87it/s]"
     ]
    },
    {
     "name": "stdout",
     "output_type": "stream",
     "text": [
      "Failed requesting Tennessee Moon\n",
      "Failed requesting The Great Manzini (Disappearing Act)\n",
      "Failed requesting Always The Stranger\n",
      "Failed requesting Wall\n",
      "Failed requesting Border Town\n",
      "Failed requesting I Spy\n",
      "Failed requesting Running From Love\n",
      "Failed requesting This Side Or The Other\n"
     ]
    },
    {
     "name": "stderr",
     "output_type": "stream",
     "text": [
      "Processing David Olney_tracks.parquet:  25%|██▌       | 56/224 [00:01<00:04, 34.08it/s]"
     ]
    },
    {
     "name": "stdout",
     "output_type": "stream",
     "text": [
      "Failed requesting Death Will Not Divide Us\n",
      "Failed requesting Open Your Heart (And Let Me In)\n",
      "Failed requesting Stand Tall\n",
      "Failed requesting She's Not There\n",
      "Failed requesting If They Ever Let Me Out\n",
      "Failed requesting Innocent Heart\n",
      "Failed requesting Don't Try To Fight It\n",
      "Failed requesting Ferris Wheel\n"
     ]
    },
    {
     "name": "stderr",
     "output_type": "stream",
     "text": [
      "Processing David Olney_tracks.parquet:  27%|██▋       | 60/224 [00:01<00:04, 35.23it/s]"
     ]
    },
    {
     "name": "stdout",
     "output_type": "stream",
     "text": [
      "Failed requesting Crack In The Wall\n",
      "Failed requesting Situation\n",
      "Failed requesting Sweet Sugaree\n",
      "Failed requesting Evermore\n",
      "Failed requesting Yesterday's News\n",
      "Failed requesting Big Top (Tornado)\n",
      "Failed requesting Upside Down (Live) [feat. Sergio Webb]\n"
     ]
    },
    {
     "name": "stderr",
     "output_type": "stream",
     "text": [
      "Processing David Olney_tracks.parquet:  30%|███       | 68/224 [00:02<00:04, 34.33it/s]"
     ]
    },
    {
     "name": "stdout",
     "output_type": "stream",
     "text": [
      "Failed requesting Wait Here For The Cops (Live) [feat. Sergio Webb]\n",
      "Failed requesting Jerusalem Tomorrow (Live) [feat. Sergio Webb]\n",
      "Failed requesting Women Across The River (Live) [feat. Sergio Webb]\n",
      "Failed requesting Learning The Game (Live) [feat. Sergio Webb]\n",
      "Failed requesting Lucky Star and Mister Moon (Live) [feat. Sergio Webb]\n",
      "Failed requesting Soldier Of Misfortune (Live) [feat. Sergio Webb]\n",
      "Failed requesting Titanic (Live) [feat. Sergio Webb]\n"
     ]
    },
    {
     "name": "stderr",
     "output_type": "stream",
     "text": [
      "Processing David Olney_tracks.parquet:  34%|███▍      | 76/224 [00:02<00:04, 33.95it/s]"
     ]
    },
    {
     "name": "stdout",
     "output_type": "stream",
     "text": [
      "Failed requesting Dillinger (Live) [feat. Sergio Webb]\n",
      "Failed requesting Hanging On The Old Barbed Wire / 1917 (Live) [feat. Sergio Webb]\n",
      "Failed requesting $20 Serenade (Live) [feat. Sergio Webb]\n",
      "Failed requesting Stonewall (Live) [feat. Sergio Webb]\n",
      "Failed requesting Little Sparrow (Live) [feat. Sergio Webb]\n",
      "Failed requesting Sweet Poison (Live) [feat. Sergio Webb]\n",
      "Failed requesting No Trace (Live) [feat. Sergio Webb]\n"
     ]
    },
    {
     "name": "stderr",
     "output_type": "stream",
     "text": [
      "Processing David Olney_tracks.parquet:  36%|███▌      | 80/224 [00:02<00:04, 33.30it/s]"
     ]
    },
    {
     "name": "stdout",
     "output_type": "stream",
     "text": [
      "Failed requesting If My Eyes Were Blind (Live) [feat. Sergio Webb]\n",
      "Failed requesting When the Deal Goes Down\n",
      "Failed requesting Little Bird (What I Do)\n",
      "Failed requesting Servant, Job\n",
      "Failed requesting Soldier of Misfortune\n",
      "Failed requesting Something in Blue\n"
     ]
    },
    {
     "name": "stderr",
     "output_type": "stream",
     "text": [
      "Processing David Olney_tracks.parquet:  39%|███▉      | 88/224 [00:02<00:05, 26.99it/s]"
     ]
    },
    {
     "name": "stdout",
     "output_type": "stream",
     "text": [
      "Failed requesting Scarecrow Man\n",
      "Failed requesting Why so Blue?\n",
      "Failed requesting Mister Stay at Home\n",
      "Failed requesting Roll This Stone\n",
      "Failed requesting No Trace\n",
      "Failed requesting Sad Saturday Night\n",
      "Failed requesting Big Blue Hole\n"
     ]
    },
    {
     "name": "stderr",
     "output_type": "stream",
     "text": [
      "Processing David Olney_tracks.parquet:  43%|████▎     | 96/224 [00:03<00:04, 30.05it/s]"
     ]
    },
    {
     "name": "stdout",
     "output_type": "stream",
     "text": [
      "Failed requesting Sweet Poison\n",
      "Failed requesting One Tough Town\n",
      "Failed requesting If I Were You\n",
      "Failed requesting Oh Yeah\n",
      "Failed requesting You Never Do / Postcard from Mexico\n",
      "Failed requesting I Only Have Eyes for You\n"
     ]
    },
    {
     "name": "stderr",
     "output_type": "stream",
     "text": [
      "Processing David Olney_tracks.parquet:  45%|████▍     | 100/224 [00:03<00:05, 24.67it/s]"
     ]
    },
    {
     "name": "stdout",
     "output_type": "stream",
     "text": [
      "Failed requesting How a Fire Moves\n",
      "Failed requesting No Lies\n",
      "Failed requesting Mister Vermeer\n",
      "Failed requesting Covington Girl\n",
      "Failed requesting Red Tail Hawk\n",
      "Failed requesting You Can Have Her\n"
     ]
    },
    {
     "name": "stderr",
     "output_type": "stream",
     "text": [
      "Processing David Olney_tracks.parquet:  48%|████▊     | 107/224 [00:03<00:04, 27.79it/s]"
     ]
    },
    {
     "name": "stdout",
     "output_type": "stream",
     "text": [
      "Failed requesting Girl up on a Hill\n",
      "Failed requesting A Long Time Ago\n",
      "Failed requesting Jama Ball\n",
      "Failed requesting We're All Innocent in Here\n",
      "Failed requesting Johnson City Blues\n",
      "Failed requesting Long Gone Daddy\n"
     ]
    },
    {
     "name": "stderr",
     "output_type": "stream",
     "text": [
      "Processing David Olney_tracks.parquet:  51%|█████     | 114/224 [00:03<00:03, 28.29it/s]"
     ]
    },
    {
     "name": "stdout",
     "output_type": "stream",
     "text": [
      "Failed requesting There Was a War\n",
      "Failed requesting You Never Do\n",
      "Failed requesting Smoke on Ice\n",
      "Failed requesting Look\n",
      "Failed requesting Walkin' Blue\n",
      "Failed requesting Lampshades\n",
      "Failed requesting Things Fall Apart\n"
     ]
    },
    {
     "name": "stderr",
     "output_type": "stream",
     "text": [
      "Processing David Olney_tracks.parquet:  54%|█████▍    | 122/224 [00:03<00:03, 30.40it/s]"
     ]
    },
    {
     "name": "stdout",
     "output_type": "stream",
     "text": [
      "Failed requesting Red Guitar\n",
      "Failed requesting Cruel Symphony\n",
      "Failed requesting The Beginning and the End\n",
      "Failed requesting Go Down, Dupree\n",
      "Failed requesting Another Place, Another Time\n",
      "Failed requesting Banks of the River (Interlude 1)\n",
      "Failed requesting Betty and Dupree\n",
      "Failed requesting My Family Owns This Town\n"
     ]
    },
    {
     "name": "stderr",
     "output_type": "stream",
     "text": [
      "Processing David Olney_tracks.parquet:  56%|█████▋    | 126/224 [00:04<00:03, 31.61it/s]"
     ]
    },
    {
     "name": "stdout",
     "output_type": "stream",
     "text": [
      "Failed requesting Banks of the River (Interlude 2)\n",
      "Failed requesting Gold Diamond Ring\n",
      "Failed requesting Banks of the River\n",
      "Failed requesting Jerusalem Tomorrow\n",
      "Failed requesting Brays\n",
      "Failed requesting Brains\n",
      "Failed requesting Flesh and Blood\n"
     ]
    },
    {
     "name": "stderr",
     "output_type": "stream",
     "text": [
      "Processing David Olney_tracks.parquet:  60%|█████▉    | 134/224 [00:04<00:02, 31.36it/s]"
     ]
    },
    {
     "name": "stdout",
     "output_type": "stream",
     "text": [
      "Failed requesting Barabbas\n",
      "Failed requesting A Soldier's Report\n",
      "Failed requesting Train Wreck\n",
      "Failed requesting Red Tail Hawk\n",
      "Failed requesting If I Were You\n"
     ]
    },
    {
     "name": "stderr",
     "output_type": "stream",
     "text": [
      "Processing David Olney_tracks.parquet:  62%|██████▏   | 138/224 [00:04<00:03, 27.67it/s]"
     ]
    },
    {
     "name": "stdout",
     "output_type": "stream",
     "text": [
      "Failed requesting Little Sparrow\n",
      "Failed requesting I've Got a Lot on My Mind\n",
      "Failed requesting Mister Vermeer\n",
      "Failed requesting Covington Girl\n",
      "Failed requesting Way Down Deep\n",
      "Failed requesting Hey Sha La La La\n",
      "Failed requesting Lucky Star and Mr. Moon\n"
     ]
    },
    {
     "name": "stderr",
     "output_type": "stream",
     "text": [
      "Processing David Olney_tracks.parquet:  65%|██████▌   | 146/224 [00:04<00:02, 29.79it/s]"
     ]
    },
    {
     "name": "stdout",
     "output_type": "stream",
     "text": [
      "Failed requesting You Never Know\n",
      "Failed requesting I Only Have Eyes for You\n",
      "Failed requesting The Moment I Tell You Goodbye\n",
      "Failed requesting You Can Call Me Diz\n",
      "Failed requesting Don't Need Shoes\n",
      "Failed requesting Precious Memories to Alma Dean\n",
      "Failed requesting Anybody Here Seen Elmer?\n"
     ]
    },
    {
     "name": "stderr",
     "output_type": "stream",
     "text": [
      "Processing David Olney_tracks.parquet:  69%|██████▉   | 154/224 [00:05<00:02, 31.60it/s]"
     ]
    },
    {
     "name": "stdout",
     "output_type": "stream",
     "text": [
      "Failed requesting The Cards Are Pitching Dizzy Dean Today\n",
      "Failed requesting Heaven's Game\n",
      "Failed requesting Brothers Dean\n",
      "Failed requesting The Gas House Gang\n",
      "Failed requesting True to My Pat\n",
      "Failed requesting Satch's Six Basic Rules\n",
      "Failed requesting Hall of Fame\n"
     ]
    },
    {
     "name": "stderr",
     "output_type": "stream",
     "text": [
      "Processing David Olney_tracks.parquet:  72%|███████▏  | 162/224 [00:05<00:01, 32.02it/s]"
     ]
    },
    {
     "name": "stdout",
     "output_type": "stream",
     "text": [
      "Failed requesting Intro/Whistle Blow\n",
      "Failed requesting Upside Down\n",
      "Failed requesting Wait Here for the Cops\n",
      "Failed requesting Sweet Poison\n",
      "Failed requesting Panama City\n",
      "Failed requesting Postcard from Mexico\n",
      "Failed requesting Intro of Band\n"
     ]
    },
    {
     "name": "stderr",
     "output_type": "stream",
     "text": [
      "Processing David Olney_tracks.parquet:  76%|███████▌  | 170/224 [00:05<00:01, 32.98it/s]"
     ]
    },
    {
     "name": "stdout",
     "output_type": "stream",
     "text": [
      "Failed requesting Titanic\n",
      "Failed requesting Oh Yeah\n",
      "Failed requesting One Tough Town\n",
      "Failed requesting Ukulele Waltz\n",
      "Failed requesting Who's the Dummy Now?\n",
      "Failed requesting Sunset on Sunset Boulevard\n",
      "Failed requesting Snake Song\n",
      "Failed requesting Kubla Khan\n"
     ]
    },
    {
     "name": "stderr",
     "output_type": "stream",
     "text": [
      "Processing David Olney_tracks.parquet:  79%|███████▉  | 178/224 [00:05<00:01, 33.22it/s]"
     ]
    },
    {
     "name": "stdout",
     "output_type": "stream",
     "text": [
      "Failed requesting Lee's Highway\n",
      "Failed requesting The Highway's Coming\n",
      "Failed requesting Whistle Blow\n",
      "Failed requesting Sweet Poison\n",
      "Failed requesting Who's The Dummy Now?\n",
      "Failed requesting Little Mustang\n",
      "Failed requesting No Lies\n"
     ]
    },
    {
     "name": "stderr",
     "output_type": "stream",
     "text": [
      "Processing David Olney_tracks.parquet:  81%|████████▏ | 182/224 [00:05<00:01, 32.32it/s]"
     ]
    },
    {
     "name": "stdout",
     "output_type": "stream",
     "text": [
      "Failed requesting Oh Yeah\n",
      "Failed requesting Snake Song\n",
      "Failed requesting Panama City\n",
      "Failed requesting Sweet Potato\n",
      "Failed requesting See How The Mighty Have Fallen\n",
      "Failed requesting One Tough Town\n",
      "Failed requesting Postcard From Mexico\n"
     ]
    },
    {
     "name": "stderr",
     "output_type": "stream",
     "text": [
      "Processing David Olney_tracks.parquet:  85%|████████▍ | 190/224 [00:06<00:01, 33.96it/s]"
     ]
    },
    {
     "name": "stdout",
     "output_type": "stream",
     "text": [
      "Failed requesting Rainbow's End\n",
      "Failed requesting Speak Memory\n",
      "Failed requesting Birds\n",
      "Failed requesting My Lovely Assistent\n",
      "Failed requesting I Washed My Hands in Muddy Waters\n",
      "Failed requesting The Song\n",
      "Failed requesting No One Knows What Love Is\n",
      "Failed requesting Two Kinds of Love\n"
     ]
    },
    {
     "name": "stderr",
     "output_type": "stream",
     "text": [
      "Processing David Olney_tracks.parquet:  88%|████████▊ | 198/224 [00:06<00:00, 34.49it/s]"
     ]
    },
    {
     "name": "stdout",
     "output_type": "stream",
     "text": [
      "Failed requesting Jerusalem Tomorrow\n",
      "Failed requesting Lenora\n",
      "Failed requesting Chained and Bound to the Wheel\n",
      "Failed requesting Vincent's Blues\n",
      "Failed requesting Upside Down / Gonna Wait Here for the Cops\n",
      "Failed requesting Revolution\n",
      "Failed requesting The Song\n"
     ]
    },
    {
     "name": "stderr",
     "output_type": "stream",
     "text": [
      "Processing David Olney_tracks.parquet:  92%|█████████▏| 206/224 [00:06<00:00, 33.56it/s]"
     ]
    },
    {
     "name": "stdout",
     "output_type": "stream",
     "text": [
      "Failed requesting Speak Memory\n",
      "Failed requesting Lenora\n",
      "Failed requesting No One Knows What Love Is\n",
      "Failed requesting My Lovely Assistant\n",
      "Failed requesting Light From Carolina\n",
      "Failed requesting All the Same To Me\n",
      "Failed requesting Ace of Spade Blues\n"
     ]
    },
    {
     "name": "stderr",
     "output_type": "stream",
     "text": [
      "Processing David Olney_tracks.parquet:  94%|█████████▍| 210/224 [00:06<00:00, 33.27it/s]"
     ]
    },
    {
     "name": "stdout",
     "output_type": "stream",
     "text": [
      "Failed requesting Oh Lord\n",
      "Failed requesting Birds\n",
      "Failed requesting Upside Down\n",
      "Failed requesting 30 Coins of Gold\n",
      "Failed requesting Running from Love\n",
      "Failed requesting Illegal Cargo\n",
      "Failed requesting Voices on the Water\n"
     ]
    },
    {
     "name": "stderr",
     "output_type": "stream",
     "text": [
      "Processing David Olney_tracks.parquet:  97%|█████████▋| 218/224 [00:06<00:00, 32.45it/s]"
     ]
    },
    {
     "name": "stdout",
     "output_type": "stream",
     "text": [
      "Failed requesting If My Eyes Were Blind\n",
      "Failed requesting Robert Ford and Jesse James\n",
      "Failed requesting Lean and Hungry Years\n",
      "Failed requesting All of the Love\n",
      "Failed requesting Contender\n",
      "Failed requesting Lazlo\n",
      "Failed requesting Camille\n"
     ]
    },
    {
     "name": "stderr",
     "output_type": "stream",
     "text": [
      "Processing David Olney_tracks.parquet: 100%|██████████| 224/224 [00:07<00:00, 31.40it/s]\n",
      "Processing David Poe_tracks.parquet:   3%|▎         | 4/157 [00:00<00:04, 35.81it/s]"
     ]
    },
    {
     "name": "stdout",
     "output_type": "stream",
     "text": [
      "Failed requesting Dillinger\n",
      "Failed requesting God Shaped Hole\n",
      "Failed requesting Snowin' on Raton\n",
      "Failed requesting People Clap Hands\n",
      "Failed requesting Post\n",
      "Failed requesting Everyone's Got a Camera\n",
      "Failed requesting Gun for a Mouth\n"
     ]
    },
    {
     "name": "stderr",
     "output_type": "stream",
     "text": [
      "Processing David Poe_tracks.parquet:   5%|▌         | 8/157 [00:00<00:04, 34.99it/s]"
     ]
    },
    {
     "name": "stdout",
     "output_type": "stream",
     "text": [
      "Failed requesting Cowboy Chords\n",
      "Failed requesting Change so Fast\n",
      "Failed requesting Analog\n",
      "Failed requesting The Years You Get\n",
      "Failed requesting Selfie\n",
      "Failed requesting Goodbye Ballerina\n",
      "Failed requesting No One Cares About Your Dreams\n"
     ]
    },
    {
     "name": "stderr",
     "output_type": "stream",
     "text": [
      "Processing David Poe_tracks.parquet:  10%|█         | 16/157 [00:00<00:04, 35.05it/s]"
     ]
    },
    {
     "name": "stdout",
     "output_type": "stream",
     "text": [
      "Failed requesting Time There is Still\n",
      "Failed requesting Honey Moon\n",
      "Failed requesting Lonely Like Me\n",
      "Failed requesting Let There Be No Longing\n",
      "Failed requesting Taffeta\n",
      "Failed requesting Wild One\n",
      "Failed requesting When I Fly\n",
      "Failed requesting World Above the World\n"
     ]
    },
    {
     "name": "stderr",
     "output_type": "stream",
     "text": [
      "Processing David Poe_tracks.parquet:  15%|█▌        | 24/157 [00:00<00:03, 34.10it/s]"
     ]
    },
    {
     "name": "stdout",
     "output_type": "stream",
     "text": [
      "Failed requesting Remember\n",
      "Failed requesting Thank You (Big Bloody Heart)\n",
      "Failed requesting The Devil\n",
      "Failed requesting These Are the Days\n",
      "Failed requesting The Music Box\n",
      "Failed requesting Like a Storm\n",
      "Failed requesting Joy\n"
     ]
    },
    {
     "name": "stderr",
     "output_type": "stream",
     "text": [
      "Processing David Poe_tracks.parquet:  20%|██        | 32/157 [00:00<00:03, 35.31it/s]"
     ]
    },
    {
     "name": "stdout",
     "output_type": "stream",
     "text": [
      "Failed requesting Not Enough Night\n",
      "Failed requesting Transformation\n",
      "Failed requesting New Friends\n",
      "Failed requesting Gasket 1: Land Static\n",
      "Failed requesting The Elephant\n",
      "Failed requesting Mangez La Femme! / Frame Chase\n",
      "Failed requesting Prologue\n"
     ]
    },
    {
     "name": "stderr",
     "output_type": "stream",
     "text": [
      "Processing David Poe_tracks.parquet:  23%|██▎       | 36/157 [00:01<00:03, 31.28it/s]"
     ]
    },
    {
     "name": "stdout",
     "output_type": "stream",
     "text": [
      "Failed requesting Gasket 2: Hunch Hands\n",
      "Failed requesting You're the Bomb\n",
      "Failed requesting So Beautiful\n",
      "Failed requesting Love is Red\n",
      "Failed requesting Wilderness\n",
      "Failed requesting Reunion\n",
      "Failed requesting Moon\n"
     ]
    },
    {
     "name": "stderr",
     "output_type": "stream",
     "text": [
      "Processing David Poe_tracks.parquet:  28%|██▊       | 44/157 [00:01<00:03, 33.55it/s]"
     ]
    },
    {
     "name": "stdout",
     "output_type": "stream",
     "text": [
      "Failed requesting Settlement\n",
      "Failed requesting You Got a Reputation\n",
      "Failed requesting Doxology (I Went Home for Christmas)\n",
      "Failed requesting Love Won't Last the Afternoon\n",
      "Failed requesting Ringer\n",
      "Failed requesting Echo Box\n",
      "Failed requesting Childbearing\n"
     ]
    },
    {
     "name": "stderr",
     "output_type": "stream",
     "text": [
      "Processing David Poe_tracks.parquet:  33%|███▎      | 52/157 [00:01<00:03, 28.52it/s]"
     ]
    },
    {
     "name": "stdout",
     "output_type": "stream",
     "text": [
      "Failed requesting The Late Song (Je Ne Suis Pas Mort)\n",
      "Failed requesting The Drifter\n",
      "Failed requesting Wear Your Best\n",
      "Failed requesting You're The Bomb\n",
      "Failed requesting Good Lonely\n",
      "Failed requesting Never I Will\n",
      "Failed requesting Deathwatch For A Living Legend\n",
      "Failed requesting Love Won't Last The Afternoon (Lullaby)\n"
     ]
    },
    {
     "name": "stderr",
     "output_type": "stream",
     "text": [
      "Processing David Poe_tracks.parquet:  38%|███▊      | 60/157 [00:01<00:03, 30.89it/s]"
     ]
    },
    {
     "name": "stdout",
     "output_type": "stream",
     "text": [
      "Failed requesting The Drifter - Quiet Version\n",
      "Failed requesting Telephone Song\n",
      "Failed requesting Blue Glass Fall\n",
      "Failed requesting California\n",
      "Failed requesting Moon\n",
      "Failed requesting Reunion\n",
      "Failed requesting Apartment\n"
     ]
    },
    {
     "name": "stderr",
     "output_type": "stream",
     "text": [
      "Processing David Poe_tracks.parquet:  43%|████▎     | 68/157 [00:02<00:02, 31.98it/s]"
     ]
    },
    {
     "name": "stdout",
     "output_type": "stream",
     "text": [
      "Failed requesting Silver Eyelashes\n",
      "Failed requesting Star\n",
      "Failed requesting Bloody\n",
      "Failed requesting Cop\n",
      "Failed requesting Settlement\n",
      "Failed requesting Telephone Song Excerpt\n",
      "Failed requesting Gun for a Mouth\n"
     ]
    },
    {
     "name": "stderr",
     "output_type": "stream",
     "text": [
      "Processing David Poe_tracks.parquet:  48%|████▊     | 76/157 [00:02<00:02, 32.56it/s]"
     ]
    },
    {
     "name": "stdout",
     "output_type": "stream",
     "text": [
      "Failed requesting What the President Said\n",
      "Failed requesting Laugh Till I Cry\n",
      "Failed requesting Buildings & Bridges\n",
      "Failed requesting Everyday Parade\n",
      "Failed requesting Come Out\n",
      "Failed requesting Cops On Horses\n",
      "Failed requesting The Copier\n",
      "Failed requesting Clean Bird\n"
     ]
    },
    {
     "name": "stderr",
     "output_type": "stream",
     "text": [
      "Processing David Poe_tracks.parquet:  51%|█████     | 80/157 [00:02<00:02, 32.28it/s]"
     ]
    },
    {
     "name": "stdout",
     "output_type": "stream",
     "text": [
      "Failed requesting Down Size\n",
      "Failed requesting Hotel Life\n",
      "Failed requesting Blue Glass Fall\n",
      "Failed requesting Apartment\n",
      "Failed requesting Toast\n",
      "Failed requesting The Pornographer\n",
      "Failed requesting Loves a Sinner\n"
     ]
    },
    {
     "name": "stderr",
     "output_type": "stream",
     "text": [
      "Processing David Poe_tracks.parquet:  56%|█████▌    | 88/157 [00:02<00:02, 32.47it/s]"
     ]
    },
    {
     "name": "stdout",
     "output_type": "stream",
     "text": [
      "Failed requesting You're the Bomb\n",
      "Failed requesting The Ballad of El Goodo - Live at the 40 Watt Club, Athens, GA\n",
      "Failed requesting Tell Her No - Live at Irving Plaza, New York, NY\n",
      "Failed requesting Blue Glass Fall - Single Version\n",
      "Failed requesting Closer to Heaven\n",
      "Failed requesting Wired Weird\n",
      "Failed requesting Got Your Message\n"
     ]
    },
    {
     "name": "stderr",
     "output_type": "stream",
     "text": [
      "Processing David Poe_tracks.parquet:  59%|█████▊    | 92/157 [00:02<00:01, 33.47it/s]"
     ]
    },
    {
     "name": "stdout",
     "output_type": "stream",
     "text": [
      "Failed requesting Transformation\n",
      "Failed requesting A Brighter Day\n",
      "Failed requesting Light the Fuse and Run\n",
      "Failed requesting Turn on and On\n",
      "Failed requesting Idle Hands\n"
     ]
    },
    {
     "name": "stderr",
     "output_type": "stream",
     "text": [
      "Processing David Poe_tracks.parquet:  64%|██████▎   | 100/157 [00:03<00:01, 30.64it/s]"
     ]
    },
    {
     "name": "stdout",
     "output_type": "stream",
     "text": [
      "Failed requesting Like the Poison\n",
      "Failed requesting A+b=y (1)\n",
      "Failed requesting Blue and Gold\n",
      "Failed requesting Can't Get over You\n",
      "Failed requesting Light It Up\n",
      "Failed requesting Wig On\n",
      "Failed requesting Counting Down\n",
      "Failed requesting Swoop Factor: 9000\n"
     ]
    },
    {
     "name": "stderr",
     "output_type": "stream",
     "text": [
      "Processing David Poe_tracks.parquet:  69%|██████▉   | 108/157 [00:03<00:01, 27.57it/s]"
     ]
    },
    {
     "name": "stdout",
     "output_type": "stream",
     "text": [
      "Failed requesting Jetpack Blues\n",
      "Failed requesting So Long\n",
      "Failed requesting Song for Mire\n",
      "Failed requesting Send It Through the Post\n",
      "Failed requesting Dexter Main Title - Instrumental\n",
      "Failed requesting Make Your Own Kind Of Music\n"
     ]
    },
    {
     "name": "stderr",
     "output_type": "stream",
     "text": [
      "Processing David Poe_tracks.parquet:  74%|███████▍  | 116/157 [00:03<00:01, 30.75it/s]"
     ]
    },
    {
     "name": "stdout",
     "output_type": "stream",
     "text": [
      "Failed requesting Lucky\n",
      "Failed requesting The Airport\n",
      "Failed requesting I Love Hann\n",
      "Failed requesting Saxon Escapes\n",
      "Failed requesting Vogel and Dexter\n",
      "Failed requesting I Love You Deb\n",
      "Failed requesting Deb's Risk\n",
      "Failed requesting Oliver\n"
     ]
    },
    {
     "name": "stderr",
     "output_type": "stream",
     "text": [
      "Processing David Poe_tracks.parquet:  76%|███████▋  | 120/157 [00:03<00:01, 31.93it/s]"
     ]
    },
    {
     "name": "stdout",
     "output_type": "stream",
     "text": [
      "Failed requesting Harrison is Born\n",
      "Failed requesting Dexter Grabs Saxon\n",
      "Failed requesting Vogel and Daniel / The Scar\n",
      "Failed requesting There Are No Monsters\n",
      "Failed requesting The Brain Surgeon\n",
      "Failed requesting Boat at the Hospital\n"
     ]
    },
    {
     "name": "stderr",
     "output_type": "stream",
     "text": [
      "Processing David Poe_tracks.parquet:  82%|████████▏ | 128/157 [00:04<00:00, 29.84it/s]"
     ]
    },
    {
     "name": "stdout",
     "output_type": "stream",
     "text": [
      "Failed requesting The Crash\n",
      "Failed requesting Something's Wrong\n",
      "Failed requesting Dexter Cleans Up\n",
      "Failed requesting Daniel\n",
      "Failed requesting Dreamland\n",
      "Failed requesting Neighbors\n",
      "Failed requesting Self and Sandwich\n"
     ]
    },
    {
     "name": "stderr",
     "output_type": "stream",
     "text": [
      "Processing David Poe_tracks.parquet:  87%|████████▋ | 136/157 [00:04<00:00, 30.41it/s]"
     ]
    },
    {
     "name": "stdout",
     "output_type": "stream",
     "text": [
      "Failed requesting Falling Short\n",
      "Failed requesting Partners\n",
      "Failed requesting Grace\n",
      "Failed requesting Fight the Good Fight\n",
      "Failed requesting The Sadness\n",
      "Failed requesting Oh La La\n",
      "Failed requesting Damages\n"
     ]
    },
    {
     "name": "stderr",
     "output_type": "stream",
     "text": [
      "Processing David Poe_tracks.parquet:  92%|█████████▏| 144/157 [00:04<00:00, 32.39it/s]"
     ]
    },
    {
     "name": "stdout",
     "output_type": "stream",
     "text": [
      "Failed requesting Fatal Attraction\n",
      "Failed requesting I Love Miniature Golf\n",
      "Failed requesting Appreciation\n",
      "Failed requesting Weird\n",
      "Failed requesting Freedom\n",
      "Failed requesting My Roots\n",
      "Failed requesting Insight\n"
     ]
    },
    {
     "name": "stderr",
     "output_type": "stream",
     "text": [
      "Processing David Poe_tracks.parquet:  94%|█████████▍| 148/157 [00:04<00:00, 32.81it/s]"
     ]
    },
    {
     "name": "stdout",
     "output_type": "stream",
     "text": [
      "Failed requesting Nobody's Fault but Mine (feat. Rhonda Toni)\n",
      "Failed requesting Inner Road Trip\n",
      "Failed requesting Proof\n",
      "Failed requesting Love Is Red\n",
      "Failed requesting White Limosine\n",
      "Failed requesting Born in the 70s\n",
      "Failed requesting Echo Park\n"
     ]
    },
    {
     "name": "stderr",
     "output_type": "stream",
     "text": [
      "Processing David Poe_tracks.parquet: 100%|██████████| 157/157 [00:05<00:00, 31.37it/s]\n"
     ]
    },
    {
     "name": "stdout",
     "output_type": "stream",
     "text": [
      "Failed requesting Laugh Until You Die\n",
      "Failed requesting Song for Everyone\n",
      "Failed requesting Relief\n",
      "Failed requesting Nothings Been Lost\n",
      "Failed requesting Shine\n"
     ]
    },
    {
     "name": "stderr",
     "output_type": "stream",
     "text": [
      "Processing David Ramirez_tracks.parquet:   4%|▍         | 4/91 [00:00<00:02, 39.01it/s]"
     ]
    },
    {
     "name": "stdout",
     "output_type": "stream",
     "text": [
      "Failed requesting Be Thou My Vision\n",
      "Failed requesting It Is Well With My Soul\n",
      "Failed requesting Because He Lives\n",
      "Failed requesting Come Thou Fount\n",
      "Failed requesting How Deep the Father's Love for Us\n",
      "Failed requesting I Surrender All\n",
      "Failed requesting Wonderful Savior\n",
      "Failed requesting Lover, Will You Lead Me?\n"
     ]
    },
    {
     "name": "stderr",
     "output_type": "stream",
     "text": [
      "Processing David Ramirez_tracks.parquet:  14%|█▍        | 13/91 [00:00<00:01, 39.49it/s]"
     ]
    },
    {
     "name": "stdout",
     "output_type": "stream",
     "text": [
      "Failed requesting Hell (feat. Sir Woman)\n",
      "Failed requesting I Wanna Live in Your Bedroom\n",
      "Failed requesting My Love is a Hurricane\n",
      "Failed requesting Hallelujah, Love is Real!\n",
      "Failed requesting Heaven\n",
      "Failed requesting Shine on Me\n",
      "Failed requesting Easy Does It\n",
      "Failed requesting Coast to Coast\n",
      "Failed requesting Prevail!\n"
     ]
    },
    {
     "name": "stderr",
     "output_type": "stream",
     "text": [
      "Processing David Ramirez_tracks.parquet:  20%|█▉        | 18/91 [00:00<00:01, 39.47it/s]"
     ]
    },
    {
     "name": "stdout",
     "output_type": "stream",
     "text": [
      "Failed requesting Twins\n",
      "Failed requesting People Call Who They Wanna Talk To\n"
     ]
    },
    {
     "name": "stderr",
     "output_type": "stream",
     "text": [
      "Processing David Ramirez_tracks.parquet:  34%|███▍      | 31/91 [00:08<00:23,  2.60it/s]"
     ]
    },
    {
     "name": "stdout",
     "output_type": "stream",
     "text": [
      "Failed requesting Communion (Commentary)\n",
      "Failed requesting Harder to Lie (Commentary)\n",
      "Failed requesting New Way of Living (Commentary)\n",
      "Failed requesting Rock and a Hard Place (Commentary)\n",
      "Failed requesting On Your Side (Commentary)\n",
      "Failed requesting How Do You Get 'Em Back (Commentary)\n",
      "Failed requesting Wild Bones (Commentary)\n"
     ]
    },
    {
     "name": "stderr",
     "output_type": "stream",
     "text": [
      "Processing David Ramirez_tracks.parquet:  38%|███▊      | 35/91 [00:09<00:14,  3.78it/s]"
     ]
    },
    {
     "name": "stdout",
     "output_type": "stream",
     "text": [
      "Failed requesting That Ain't Love (Commentary)\n",
      "Failed requesting Hold On (Commentary)\n",
      "Failed requesting Ball and Chain (Commentary)\n",
      "Failed requesting Communion\n"
     ]
    },
    {
     "name": "stderr",
     "output_type": "stream",
     "text": [
      "Processing David Ramirez_tracks.parquet:  45%|████▌     | 41/91 [00:11<00:16,  3.12it/s]"
     ]
    },
    {
     "name": "stdout",
     "output_type": "stream",
     "text": [
      "Failed requesting Rock and a Hard Place\n",
      "Failed requesting On Your Side\n",
      "Failed requesting How Do You Get 'Em Back\n",
      "Failed requesting Wild Bones\n"
     ]
    },
    {
     "name": "stderr",
     "output_type": "stream",
     "text": [
      "Processing David Ramirez_tracks.parquet:  62%|██████▏   | 56/91 [00:23<00:34,  1.01it/s]"
     ]
    },
    {
     "name": "stdout",
     "output_type": "stream",
     "text": [
      "Failed requesting God Bless\n"
     ]
    },
    {
     "name": "stderr",
     "output_type": "stream",
     "text": [
      "Processing David Ramirez_tracks.parquet:  65%|██████▍   | 59/91 [00:25<00:20,  1.59it/s]"
     ]
    },
    {
     "name": "stdout",
     "output_type": "stream",
     "text": [
      "Failed requesting Chapter One\n"
     ]
    },
    {
     "name": "stderr",
     "output_type": "stream",
     "text": [
      "Processing David Ramirez_tracks.parquet:  78%|███████▊  | 71/91 [00:34<00:09,  2.14it/s]"
     ]
    },
    {
     "name": "stdout",
     "output_type": "stream",
     "text": [
      "Failed requesting Goodnight\n",
      "Failed requesting This Christmas (I’ll Be Missing The Missis)\n",
      "Failed requesting Long Way Home\n",
      "Failed requesting Running On Empty\n"
     ]
    },
    {
     "name": "stderr",
     "output_type": "stream",
     "text": [
      "Processing David Ramirez_tracks.parquet:  90%|█████████ | 82/91 [00:40<00:03,  2.68it/s]"
     ]
    },
    {
     "name": "stdout",
     "output_type": "stream",
     "text": [
      "Failed requesting Dark Star\n",
      "Failed requesting Normal\n",
      "Failed requesting One Man Guy\n",
      "Failed requesting Hell (feat. Sir Woman)\n",
      "Failed requesting I Wanna Live in Your Bedroom\n",
      "Failed requesting Hallelujah, Love is Real!\n"
     ]
    },
    {
     "name": "stderr",
     "output_type": "stream",
     "text": [
      "Processing David Ramirez_tracks.parquet:  93%|█████████▎| 85/91 [00:41<00:02,  2.70it/s]"
     ]
    },
    {
     "name": "stdout",
     "output_type": "stream",
     "text": [
      "Failed requesting Hallelujah, Love is Real!\n"
     ]
    },
    {
     "name": "stderr",
     "output_type": "stream",
     "text": [
      "Processing David Ramirez_tracks.parquet: 100%|██████████| 91/91 [00:44<00:00,  2.06it/s]\n"
     ]
    },
    {
     "name": "stdout",
     "output_type": "stream",
     "text": [
      "Failed requesting Stone Age-Live in the Redd\n",
      "Failed requesting Time-Live in the Redd\n",
      "Failed requesting Communion-Live in the Redd\n"
     ]
    },
    {
     "name": "stderr",
     "output_type": "stream",
     "text": [
      "Processing David S. Ware_tracks.parquet:   3%|▎         | 4/127 [00:00<00:03, 31.25it/s]"
     ]
    },
    {
     "name": "stdout",
     "output_type": "stream",
     "text": [
      "Failed requesting Crossing Samsara part 1\n",
      "Failed requesting Crossing Samsara part 2\n",
      "Failed requesting Durga\n",
      "Failed requesting Reflection\n",
      "Failed requesting Namah\n",
      "Failed requesting Samsara (reprise)\n"
     ]
    },
    {
     "name": "stderr",
     "output_type": "stream",
     "text": [
      "Processing David S. Ware_tracks.parquet:   9%|▊         | 11/127 [00:00<00:04, 24.79it/s]"
     ]
    },
    {
     "name": "stdout",
     "output_type": "stream",
     "text": [
      "Failed requesting Tao Flow (Part 1)\n",
      "Failed requesting Tao Flow (Part 2)\n",
      "Failed requesting Encore\n",
      "Failed requesting 4Th Dimensional - Original Version\n",
      "Failed requesting 5Th Dimensional - Original Version\n",
      "Failed requesting 6Th Dimensional - Original Version\n"
     ]
    },
    {
     "name": "stderr",
     "output_type": "stream",
     "text": [
      "Processing David S. Ware_tracks.parquet:  12%|█▏        | 15/127 [00:00<00:04, 27.26it/s]"
     ]
    },
    {
     "name": "stdout",
     "output_type": "stream",
     "text": [
      "Failed requesting 7Th Dimensional - Original Version\n",
      "Failed requesting Minus Gravity 1\n",
      "Failed requesting Organica 1\n",
      "Failed requesting Minus Gravity 2\n",
      "Failed requesting Organica 2\n",
      "Failed requesting Methone\n",
      "Failed requesting Pallene\n"
     ]
    },
    {
     "name": "stderr",
     "output_type": "stream",
     "text": [
      "Processing David S. Ware_tracks.parquet:  18%|█▊        | 23/127 [00:00<00:03, 31.15it/s]"
     ]
    },
    {
     "name": "stdout",
     "output_type": "stream",
     "text": [
      "Failed requesting Anthe\n",
      "Failed requesting Peace Celestial\n",
      "Failed requesting Sweet Georgia Bright\n",
      "Failed requesting Theme Of Ages\n",
      "Failed requesting Surrendered\n",
      "Failed requesting Glorified Calypso\n",
      "Failed requesting African Drums\n",
      "Failed requesting Mikuro's Blues\n"
     ]
    },
    {
     "name": "stderr",
     "output_type": "stream",
     "text": [
      "Processing David S. Ware_tracks.parquet:  24%|██▍       | 31/127 [00:01<00:02, 33.78it/s]"
     ]
    },
    {
     "name": "stdout",
     "output_type": "stream",
     "text": [
      "Failed requesting Lexicon\n",
      "Failed requesting Logistic\n",
      "Failed requesting The Way We Were\n",
      "Failed requesting Quadrahex\n",
      "Failed requesting Estheticmetric\n",
      "Failed requesting Rapturelodic\n",
      "Failed requesting GODSPELIZED\n",
      "Failed requesting WISDOMSPHERE\n"
     ]
    },
    {
     "name": "stderr",
     "output_type": "stream",
     "text": [
      "Processing David S. Ware_tracks.parquet:  31%|███       | 39/127 [00:01<00:02, 34.68it/s]"
     ]
    },
    {
     "name": "stdout",
     "output_type": "stream",
     "text": [
      "Failed requesting INNER TEMPLE\n",
      "Failed requesting WISDOM THROUGH TIME\n",
      "Failed requesting THE STARGAZERS\n",
      "Failed requesting ETERNAL FACES OF BRAHM\n",
      "Failed requesting GODSPELIZED\n",
      "Failed requesting Canadian Sunset\n",
      "Failed requesting Inverse Alchemy\n"
     ]
    },
    {
     "name": "stderr",
     "output_type": "stream",
     "text": [
      "Processing David S. Ware_tracks.parquet:  37%|███▋      | 47/127 [00:01<00:02, 34.65it/s]"
     ]
    },
    {
     "name": "stdout",
     "output_type": "stream",
     "text": [
      "Failed requesting Tenderly\n",
      "Failed requesting Ideational Blue\n",
      "Failed requesting Cococana\n",
      "Failed requesting Tenderly\n",
      "Failed requesting Earthquation\n",
      "Failed requesting AUTUMN LEAVES\n",
      "Failed requesting EAST BROADWAY RUN DOWN\n"
     ]
    },
    {
     "name": "stderr",
     "output_type": "stream",
     "text": [
      "Processing David S. Ware_tracks.parquet:  43%|████▎     | 55/127 [00:01<00:02, 32.29it/s]"
     ]
    },
    {
     "name": "stdout",
     "output_type": "stream",
     "text": [
      "Failed requesting MYSTIC MARCH\n",
      "Failed requesting ANGEL EYES\n",
      "Failed requesting THIRD EAR RECITATION\n",
      "Failed requesting FREE FLOW DIALOGUE\n",
      "Failed requesting SENTIENT COMPASSION\n",
      "Failed requesting THE CHASE\n",
      "Failed requesting AUTUMN LEAVES\n"
     ]
    },
    {
     "name": "stderr",
     "output_type": "stream",
     "text": [
      "Processing David S. Ware_tracks.parquet:  46%|████▋     | 59/127 [00:01<00:02, 31.81it/s]"
     ]
    },
    {
     "name": "stdout",
     "output_type": "stream",
     "text": [
      "Failed requesting AQUARIAN SOUND\n",
      "Failed requesting THERE WILL NEVER BE ANOTHER YOU\n",
      "Failed requesting SAD EYES\n",
      "Failed requesting FLIGHT OF I\n",
      "Failed requesting YESTERDAYS\n",
      "Failed requesting INFI-RHYTHMS #1\n",
      "Failed requesting Butterfly - Boogie Island Mix\n"
     ]
    },
    {
     "name": "stderr",
     "output_type": "stream",
     "text": [
      "Processing David S. Ware_tracks.parquet:  53%|█████▎    | 67/127 [00:02<00:01, 31.94it/s]"
     ]
    },
    {
     "name": "stdout",
     "output_type": "stream",
     "text": [
      "Failed requesting Butterfly - Original\n",
      "Failed requesting Butterfly - Sunshine Mix\n",
      "Failed requesting Butterfly - Roots Rockers Mix\n",
      "Failed requesting Prayer\n",
      "Failed requesting Thematic Womb\n",
      "Failed requesting A Primary Piece #1\n",
      "Failed requesting A Primary Piece #2\n"
     ]
    },
    {
     "name": "stderr",
     "output_type": "stream",
     "text": [
      "Processing David S. Ware_tracks.parquet:  59%|█████▉    | 75/127 [00:02<00:01, 31.20it/s]"
     ]
    },
    {
     "name": "stdout",
     "output_type": "stream",
     "text": [
      "Failed requesting Prayer (alternate take)\n",
      "Failed requesting Cry\n",
      "Failed requesting Stop Time\n",
      "Failed requesting Ashimba\n",
      "Failed requesting Solo\n",
      "Failed requesting Precessional 1 - Live\n",
      "Failed requesting Precessional 2 - Live\n",
      "Failed requesting Precessional 3 - Live\n"
     ]
    },
    {
     "name": "stderr",
     "output_type": "stream",
     "text": [
      "Processing David S. Ware_tracks.parquet:  65%|██████▌   | 83/127 [00:02<00:01, 32.99it/s]"
     ]
    },
    {
     "name": "stdout",
     "output_type": "stream",
     "text": [
      "Failed requesting Book Of Krittika\n",
      "Failed requesting Wheel Of Life\n",
      "Failed requesting Celestial\n",
      "Failed requesting Desire Worlds\n",
      "Failed requesting Astral Earth\n",
      "Failed requesting Savaka\n",
      "Failed requesting Bardo\n"
     ]
    },
    {
     "name": "stderr",
     "output_type": "stream",
     "text": [
      "Processing David S. Ware_tracks.parquet:  72%|███████▏  | 91/127 [00:02<00:01, 33.11it/s]"
     ]
    },
    {
     "name": "stdout",
     "output_type": "stream",
     "text": [
      "Failed requesting Anagami\n",
      "Failed requesting Vata\n",
      "Failed requesting Crossing Samsara\n",
      "Failed requesting Nataraj\n",
      "Failed requesting Reflection\n",
      "Failed requesting Namah\n",
      "Failed requesting Antidromic\n"
     ]
    },
    {
     "name": "stderr",
     "output_type": "stream",
     "text": [
      "Processing David S. Ware_tracks.parquet:  78%|███████▊  | 99/127 [00:03<00:00, 33.37it/s]"
     ]
    },
    {
     "name": "stdout",
     "output_type": "stream",
     "text": [
      "Failed requesting Shakti\n",
      "Failed requesting #1 A\n",
      "Failed requesting #1 B\n",
      "Failed requesting #1 C\n",
      "Failed requesting #2 A\n",
      "Failed requesting #2 B\n",
      "Failed requesting #3\n"
     ]
    },
    {
     "name": "stderr",
     "output_type": "stream",
     "text": [
      "Processing David S. Ware_tracks.parquet:  81%|████████  | 103/127 [00:03<00:00, 30.14it/s]"
     ]
    },
    {
     "name": "stdout",
     "output_type": "stream",
     "text": [
      "Failed requesting #4 A\n",
      "Failed requesting #4 B\n",
      "Failed requesting #4 C\n",
      "Failed requesting #5\n",
      "Failed requesting #6 A\n",
      "Failed requesting #6 B\n"
     ]
    },
    {
     "name": "stderr",
     "output_type": "stream",
     "text": [
      "Processing David S. Ware_tracks.parquet:  87%|████████▋ | 111/127 [00:03<00:00, 32.68it/s]"
     ]
    },
    {
     "name": "stdout",
     "output_type": "stream",
     "text": [
      "Failed requesting Passage Wudang\n",
      "Failed requesting Shift\n",
      "Failed requesting Duality Is One\n",
      "Failed requesting Divination\n",
      "Failed requesting Crystal Palace\n",
      "Failed requesting Divination Unfathomable\n",
      "Failed requesting Ancestry Supramental\n",
      "Failed requesting Pygmy Suite\n"
     ]
    },
    {
     "name": "stderr",
     "output_type": "stream",
     "text": [
      "Processing David S. Ware_tracks.parquet:  94%|█████████▎| 119/127 [00:03<00:00, 34.03it/s]"
     ]
    },
    {
     "name": "stdout",
     "output_type": "stream",
     "text": [
      "Failed requesting The General\n",
      "Failed requesting Arc\n",
      "Failed requesting Little Indian\n",
      "Failed requesting Wild\n",
      "Failed requesting Thadius Star\n",
      "Failed requesting Melodica Chops\n",
      "Failed requesting Junk Magic\n",
      "Failed requesting A Darker Shade Of Bleak\n"
     ]
    },
    {
     "name": "stderr",
     "output_type": "stream",
     "text": [
      "Processing David S. Ware_tracks.parquet:  97%|█████████▋| 123/127 [00:03<00:00, 33.68it/s]"
     ]
    },
    {
     "name": "stdout",
     "output_type": "stream",
     "text": [
      "Failed requesting Shake It\n",
      "Failed requesting Transit Of Venus\n",
      "Failed requesting 4\n",
      "Failed requesting 30 Spokes\n",
      "Failed requesting Scrapbook\n",
      "Failed requesting Yesterdays\n"
     ]
    },
    {
     "name": "stderr",
     "output_type": "stream",
     "text": [
      "Processing David S. Ware_tracks.parquet: 100%|██████████| 127/127 [00:04<00:00, 31.58it/s]\n",
      "Processing David Sanborn_tracks.parquet:   2%|▏         | 7/310 [00:00<00:08, 34.15it/s]"
     ]
    },
    {
     "name": "stdout",
     "output_type": "stream",
     "text": [
      "Failed requesting トゥー・ブラザーズ\n",
      "Failed requesting オン・グリーン・ドルフィン・ストリート\n",
      "Failed requesting ヘビー・ハング\n",
      "Failed requesting ムーブ・イット\n",
      "Failed requesting スノッティ\n",
      "Failed requesting ピン・ポイント\n",
      "Failed requesting アフロ・キューバー\n",
      "Failed requesting First Tune on the Set\n"
     ]
    },
    {
     "name": "stderr",
     "output_type": "stream",
     "text": [
      "Processing David Sanborn_tracks.parquet:   5%|▍         | 15/310 [00:00<00:08, 36.70it/s]"
     ]
    },
    {
     "name": "stdout",
     "output_type": "stream",
     "text": [
      "Failed requesting Adina\n",
      "Failed requesting Squids\n",
      "Failed requesting Pastoral\n",
      "Failed requesting The Dipshit\n",
      "Failed requesting Above and Below\n",
      "Failed requesting Sozinho\n",
      "Failed requesting Rocks\n",
      "Failed requesting Threesome\n"
     ]
    },
    {
     "name": "stderr",
     "output_type": "stream",
     "text": [
      "Processing David Sanborn_tracks.parquet:   6%|▌         | 19/310 [00:00<00:08, 33.05it/s]"
     ]
    },
    {
     "name": "stdout",
     "output_type": "stream",
     "text": [
      "Failed requesting This Masquerade\n",
      "Failed requesting Run for Cover\n",
      "Failed requesting Rikke\n",
      "Failed requesting Bang Bang\n",
      "Failed requesting One Hundred Ways\n",
      "Failed requesting The Whisperer\n",
      "Failed requesting Hideaway\n"
     ]
    },
    {
     "name": "stderr",
     "output_type": "stream",
     "text": [
      "Processing David Sanborn_tracks.parquet:   9%|▊         | 27/310 [00:00<00:08, 35.23it/s]"
     ]
    },
    {
     "name": "stdout",
     "output_type": "stream",
     "text": [
      "Failed requesting Mamacita\n",
      "Failed requesting Slam\n",
      "Failed requesting Try a Little Tenderness\n",
      "Failed requesting As We Speak\n",
      "Failed requesting Chicago Song\n",
      "Failed requesting Indio\n",
      "Failed requesting Butterfat\n",
      "Failed requesting Heart Lake\n"
     ]
    },
    {
     "name": "stderr",
     "output_type": "stream",
     "text": [
      "Processing David Sanborn_tracks.parquet:  13%|█▎        | 39/310 [00:01<00:07, 36.32it/s]"
     ]
    },
    {
     "name": "stdout",
     "output_type": "stream",
     "text": [
      "Failed requesting Nobody Does It Better\n",
      "Failed requesting Rush Hour\n",
      "Failed requesting Theme from \"Love Is Not Enough\"\n",
      "Failed requesting Morning Salsa\n",
      "Failed requesting It's You\n",
      "Failed requesting Chicago Eddie\n",
      "Failed requesting Bye Bye Blackbird\n",
      "Failed requesting Sugar\n"
     ]
    },
    {
     "name": "stderr",
     "output_type": "stream",
     "text": [
      "Processing David Sanborn_tracks.parquet:  14%|█▍        | 43/310 [00:01<00:08, 30.44it/s]"
     ]
    },
    {
     "name": "stdout",
     "output_type": "stream",
     "text": [
      "Failed requesting All Blues\n",
      "Failed requesting At Last\n",
      "Failed requesting Shakin'\n",
      "Failed requesting A la verticale\n",
      "Failed requesting A la verticale\n"
     ]
    },
    {
     "name": "stderr",
     "output_type": "stream",
     "text": [
      "Processing David Sanborn_tracks.parquet:  16%|█▋        | 51/310 [00:01<00:08, 32.17it/s]"
     ]
    },
    {
     "name": "stdout",
     "output_type": "stream",
     "text": [
      "Failed requesting Ordinary People\n",
      "Failed requesting Ordinary People\n",
      "Failed requesting Drift\n",
      "Failed requesting Drift\n",
      "Failed requesting Can't Get Next to You (feat. Larry Braggs)\n",
      "Failed requesting Can't Get Next to You (feat. Larry Braggs)\n",
      "Failed requesting Oublie Moi\n",
      "Failed requesting Oublie Moi\n"
     ]
    },
    {
     "name": "stderr",
     "output_type": "stream",
     "text": [
      "Processing David Sanborn_tracks.parquet:  18%|█▊        | 56/310 [00:01<00:07, 34.86it/s]"
     ]
    },
    {
     "name": "stdout",
     "output_type": "stream",
     "text": [
      "Failed requesting Seven Days Seven Nights\n",
      "Failed requesting Seven Days Seven Nights\n",
      "Failed requesting Windmills of Your Mind (feat. Randy Crawford)\n",
      "Failed requesting Windmills of Your Mind (feat. Randy Crawford)\n",
      "Failed requesting Spanish Joint\n",
      "Failed requesting Spanish Joint\n",
      "Failed requesting Overture from The Manchurian Candidate\n",
      "Failed requesting Overture from The Manchurian Candidate\n",
      "Failed requesting Daydreamer\n"
     ]
    },
    {
     "name": "stderr",
     "output_type": "stream",
     "text": [
      "Processing David Sanborn_tracks.parquet:  21%|██        | 65/310 [00:01<00:06, 36.52it/s]"
     ]
    },
    {
     "name": "stdout",
     "output_type": "stream",
     "text": [
      "Failed requesting Little Church (Bonus Track)\n",
      "Failed requesting Little Church (Bonus Track)\n",
      "Failed requesting A la verticale\n",
      "Failed requesting A la verticale\n",
      "Failed requesting Ordinary People\n",
      "Failed requesting Ordinary People\n",
      "Failed requesting Drift\n",
      "Failed requesting Drift\n",
      "Failed requesting Can't Get Next to You (feat. Larry Braggs)\n"
     ]
    },
    {
     "name": "stderr",
     "output_type": "stream",
     "text": [
      "Processing David Sanborn_tracks.parquet:  24%|██▍       | 75/310 [00:02<00:05, 39.64it/s]"
     ]
    },
    {
     "name": "stdout",
     "output_type": "stream",
     "text": [
      "Failed requesting Can't Get Next to You (feat. Larry Braggs)\n",
      "Failed requesting Oublie Moi\n",
      "Failed requesting Oublie Moi\n",
      "Failed requesting Seven Days Seven Nights\n",
      "Failed requesting Seven Days Seven Nights\n",
      "Failed requesting Windmills of Your Mind (feat. Randy Crawford)\n"
     ]
    },
    {
     "name": "stderr",
     "output_type": "stream",
     "text": [
      "Processing David Sanborn_tracks.parquet:  27%|██▋       | 83/310 [00:03<00:17, 13.35it/s]"
     ]
    },
    {
     "name": "stdout",
     "output_type": "stream",
     "text": [
      "Failed requesting Spanish Joint\n",
      "Failed requesting Spanish Joint\n",
      "Failed requesting Overture from The Manchurian Candidate\n",
      "Failed requesting Overture from The Manchurian Candidate\n",
      "Failed requesting Little Church (Bonus Track)\n",
      "Failed requesting Little Church (Bonus Track)\n",
      "Failed requesting Delia\n",
      "Failed requesting Don Is\n"
     ]
    },
    {
     "name": "stderr",
     "output_type": "stream",
     "text": [
      "Processing David Sanborn_tracks.parquet:  28%|██▊       | 87/310 [00:03<00:14, 15.39it/s]"
     ]
    },
    {
     "name": "stdout",
     "output_type": "stream",
     "text": [
      "Failed requesting Hey Harold\n",
      "Failed requesting Little Flower\n",
      "Failed requesting Montara\n",
      "Failed requesting Teddy\n",
      "Failed requesting You\n",
      "Failed requesting You Better Not Go to College\n"
     ]
    },
    {
     "name": "stderr",
     "output_type": "stream",
     "text": [
      "Processing David Sanborn_tracks.parquet:  31%|███       | 95/310 [00:03<00:09, 21.74it/s]"
     ]
    },
    {
     "name": "stdout",
     "output_type": "stream",
     "text": [
      "Failed requesting Geste Humain\n",
      "Failed requesting Sofia\n",
      "Failed requesting Follow Me\n",
      "Failed requesting My Old Flame\n",
      "Failed requesting Another Time, Another Place\n",
      "Failed requesting Montezuma\n",
      "Failed requesting The Night Has A Thousand Eyes\n",
      "Failed requesting Genevieve\n"
     ]
    },
    {
     "name": "stderr",
     "output_type": "stream",
     "text": [
      "Processing David Sanborn_tracks.parquet:  33%|███▎      | 103/310 [00:03<00:07, 27.34it/s]"
     ]
    },
    {
     "name": "stdout",
     "output_type": "stream",
     "text": [
      "Failed requesting Deep in the Weeds\n",
      "Failed requesting Maputo\n",
      "Failed requesting The Whisperer\n",
      "Failed requesting Benjamin\n",
      "Failed requesting Lisa\n",
      "Failed requesting It's You\n",
      "Failed requesting Love Will Come Someday\n"
     ]
    },
    {
     "name": "stderr",
     "output_type": "stream",
     "text": [
      "Processing David Sanborn_tracks.parquet:  36%|███▌      | 112/310 [00:04<00:06, 32.99it/s]"
     ]
    },
    {
     "name": "stdout",
     "output_type": "stream",
     "text": [
      "Failed requesting As We Speak\n",
      "Failed requesting Hideaway - Live\n",
      "Failed requesting More Than Friends\n",
      "Failed requesting Maputo\n",
      "Failed requesting Since I Fell For You (feat. Al Jarreau)\n",
      "Failed requesting Chicago Song\n",
      "Failed requesting The Dream\n",
      "Failed requesting So Far Away\n",
      "Failed requesting Bang Bang\n"
     ]
    },
    {
     "name": "stderr",
     "output_type": "stream",
     "text": [
      "Processing David Sanborn_tracks.parquet:  39%|███▉      | 121/310 [00:04<00:05, 36.33it/s]"
     ]
    },
    {
     "name": "stdout",
     "output_type": "stream",
     "text": [
      "Failed requesting Missing You\n",
      "Failed requesting Back Again\n",
      "Failed requesting Rain on Christmas\n",
      "Failed requesting A Tear for Crystal\n",
      "Failed requesting Lotus Blossom\n",
      "Failed requesting The Water Is Wide\n",
      "Failed requesting Isn't She Lovely\n",
      "Failed requesting Isn't She Lovely\n",
      "Failed requesting Comin' Home Baby\n"
     ]
    },
    {
     "name": "stderr",
     "output_type": "stream",
     "text": [
      "Processing David Sanborn_tracks.parquet:  42%|████▏     | 129/310 [00:04<00:04, 37.56it/s]"
     ]
    },
    {
     "name": "stdout",
     "output_type": "stream",
     "text": [
      "Failed requesting Comin' Home Baby\n",
      "Failed requesting Senor Blues\n",
      "Failed requesting Senor Blues\n",
      "Failed requesting Sugar\n",
      "Failed requesting Sugar\n",
      "Failed requesting Don't Let Me Be Lonely Tonight\n",
      "Failed requesting Don't Let Me Be Lonely Tonight\n",
      "Failed requesting Tin Tin Deo\n",
      "Failed requesting Tin Tin Deo\n"
     ]
    },
    {
     "name": "stderr",
     "output_type": "stream",
     "text": [
      "Processing David Sanborn_tracks.parquet:  45%|████▍     | 138/310 [00:04<00:04, 37.77it/s]"
     ]
    },
    {
     "name": "stdout",
     "output_type": "stream",
     "text": [
      "Failed requesting Tequila\n",
      "Failed requesting Tequila\n",
      "Failed requesting St. Louis Blues\n",
      "Failed requesting St. Louis Blues\n",
      "Failed requesting I'm Gonna Move To The Outskirts Of Town\n",
      "Failed requesting I'm Gonna Move To The Outskirts Of Town\n",
      "Failed requesting The Peeper\n",
      "Failed requesting The Peeper\n"
     ]
    },
    {
     "name": "stderr",
     "output_type": "stream",
     "text": [
      "Processing David Sanborn_tracks.parquet:  47%|████▋     | 147/310 [00:05<00:04, 38.76it/s]"
     ]
    },
    {
     "name": "stdout",
     "output_type": "stream",
     "text": [
      "Failed requesting The Peeper\n",
      "Failed requesting The Peeper\n",
      "Failed requesting Hard Times\n",
      "Failed requesting Hard Times\n",
      "Failed requesting Hard Times\n",
      "Failed requesting Hard Times\n",
      "Failed requesting Brother Ray\n",
      "Failed requesting Brother Ray\n",
      "Failed requesting Hallelujah I Love Her So\n",
      "Failed requesting Hallelujah I Love Her So\n"
     ]
    },
    {
     "name": "stderr",
     "output_type": "stream",
     "text": [
      "Processing David Sanborn_tracks.parquet:  50%|█████     | 156/310 [00:05<00:03, 38.84it/s]"
     ]
    },
    {
     "name": "stdout",
     "output_type": "stream",
     "text": [
      "Failed requesting Hallelujah I Love Her So\n",
      "Failed requesting Hallelujah I Love Her So\n",
      "Failed requesting Please Send Me Someone To Love\n",
      "Failed requesting Please Send Me Someone To Love\n",
      "Failed requesting Smile\n",
      "Failed requesting Smile\n",
      "Failed requesting The Peeper\n",
      "Failed requesting The Peeper\n"
     ]
    },
    {
     "name": "stderr",
     "output_type": "stream",
     "text": [
      "Processing David Sanborn_tracks.parquet:  53%|█████▎    | 165/310 [00:05<00:03, 38.41it/s]"
     ]
    },
    {
     "name": "stdout",
     "output_type": "stream",
     "text": [
      "Failed requesting The Peeper\n",
      "Failed requesting The Peeper\n",
      "Failed requesting Hard Times\n",
      "Failed requesting Hard Times\n",
      "Failed requesting Hard Times\n",
      "Failed requesting Hard Times\n",
      "Failed requesting Hallelujah I Love Her So\n",
      "Failed requesting Hallelujah I Love Her So\n",
      "Failed requesting Hallelujah I Love Her So\n",
      "Failed requesting Hallelujah I Love Her So\n"
     ]
    },
    {
     "name": "stderr",
     "output_type": "stream",
     "text": [
      "Processing David Sanborn_tracks.parquet:  56%|█████▌    | 174/310 [00:05<00:03, 39.54it/s]"
     ]
    },
    {
     "name": "stdout",
     "output_type": "stream",
     "text": [
      "Failed requesting Only Everything (For Genevieve)\n",
      "Failed requesting Only Everything (For Genevieve)\n",
      "Failed requesting Only Everything (For Genevieve)\n",
      "Failed requesting Let The Good Times Roll\n",
      "Failed requesting Let The Good Times Roll\n",
      "Failed requesting Let The Good Times Roll\n",
      "Failed requesting Baby Won't You Please Come Home\n",
      "Failed requesting Baby Won't You Please Come Home\n",
      "Failed requesting Baby Won't You Please Come Home\n"
     ]
    },
    {
     "name": "stderr",
     "output_type": "stream",
     "text": [
      "Processing David Sanborn_tracks.parquet:  59%|█████▉    | 184/310 [00:05<00:03, 39.66it/s]"
     ]
    },
    {
     "name": "stdout",
     "output_type": "stream",
     "text": [
      "Failed requesting You've Changed\n",
      "Failed requesting You've Changed\n",
      "Failed requesting You've Changed\n",
      "Failed requesting Blues In The Night\n",
      "Failed requesting Blues In The Night\n",
      "Failed requesting Blues In The Night\n",
      "Failed requesting The Peeper\n",
      "Failed requesting The Peeper\n"
     ]
    },
    {
     "name": "stderr",
     "output_type": "stream",
     "text": [
      "Processing David Sanborn_tracks.parquet:  62%|██████▏   | 193/310 [00:06<00:02, 39.19it/s]"
     ]
    },
    {
     "name": "stdout",
     "output_type": "stream",
     "text": [
      "Failed requesting The Peeper\n",
      "Failed requesting The Peeper\n",
      "Failed requesting Hard Times\n",
      "Failed requesting Hard Times\n",
      "Failed requesting Hard Times\n",
      "Failed requesting Hard Times\n",
      "Failed requesting Hallelujah I Love Her So\n",
      "Failed requesting Hallelujah I Love Her So\n",
      "Failed requesting Hallelujah I Love Her So\n"
     ]
    },
    {
     "name": "stderr",
     "output_type": "stream",
     "text": [
      "Processing David Sanborn_tracks.parquet:  64%|██████▍   | 198/310 [00:06<00:02, 39.68it/s]"
     ]
    },
    {
     "name": "stdout",
     "output_type": "stream",
     "text": [
      "Failed requesting Hallelujah I Love Her So\n",
      "Failed requesting Only Everything (For Genevieve)\n",
      "Failed requesting Only Everything (For Genevieve)\n",
      "Failed requesting Only Everything (For Genevieve)\n",
      "Failed requesting Let The Good Times Roll\n",
      "Failed requesting Let The Good Times Roll\n",
      "Failed requesting Let The Good Times Roll\n",
      "Failed requesting Baby Won't You Please Come Home\n"
     ]
    },
    {
     "name": "stderr",
     "output_type": "stream",
     "text": [
      "Processing David Sanborn_tracks.parquet:  67%|██████▋   | 207/310 [00:06<00:02, 38.71it/s]"
     ]
    },
    {
     "name": "stdout",
     "output_type": "stream",
     "text": [
      "Failed requesting Baby Won't You Please Come Home\n",
      "Failed requesting Baby Won't You Please Come Home\n",
      "Failed requesting You've Changed\n",
      "Failed requesting You've Changed\n",
      "Failed requesting You've Changed\n",
      "Failed requesting Blues In The Night\n",
      "Failed requesting Blues In The Night\n",
      "Failed requesting Blues In The Night\n",
      "Failed requesting Davenport Blues\n"
     ]
    },
    {
     "name": "stderr",
     "output_type": "stream",
     "text": [
      "Processing David Sanborn_tracks.parquet:  70%|███████   | 217/310 [00:06<00:02, 39.52it/s]"
     ]
    },
    {
     "name": "stdout",
     "output_type": "stream",
     "text": [
      "Failed requesting The Peeper\n",
      "Failed requesting The Peeper\n",
      "Failed requesting The Peeper\n",
      "Failed requesting The Peeper\n",
      "Failed requesting Hard Times\n",
      "Failed requesting Hard Times\n",
      "Failed requesting Hard Times\n",
      "Failed requesting Hard Times\n",
      "Failed requesting Hallelujah I Love Her So\n"
     ]
    },
    {
     "name": "stderr",
     "output_type": "stream",
     "text": [
      "Processing David Sanborn_tracks.parquet:  73%|███████▎  | 227/310 [00:07<00:02, 40.85it/s]"
     ]
    },
    {
     "name": "stdout",
     "output_type": "stream",
     "text": [
      "Failed requesting Hallelujah I Love Her So\n",
      "Failed requesting Hallelujah I Love Her So\n",
      "Failed requesting Hallelujah I Love Her So\n",
      "Failed requesting Only Everything (For Genevieve)\n",
      "Failed requesting Only Everything (For Genevieve)\n",
      "Failed requesting Only Everything (For Genevieve)\n",
      "Failed requesting Let The Good Times Roll\n",
      "Failed requesting Let The Good Times Roll\n",
      "Failed requesting Let The Good Times Roll\n"
     ]
    },
    {
     "name": "stderr",
     "output_type": "stream",
     "text": [
      "Processing David Sanborn_tracks.parquet:  76%|███████▋  | 237/310 [00:07<00:01, 39.98it/s]"
     ]
    },
    {
     "name": "stdout",
     "output_type": "stream",
     "text": [
      "Failed requesting Baby Won't You Please Come Home\n",
      "Failed requesting Baby Won't You Please Come Home\n",
      "Failed requesting Baby Won't You Please Come Home\n",
      "Failed requesting You've Changed\n",
      "Failed requesting You've Changed\n",
      "Failed requesting You've Changed\n",
      "Failed requesting Blues In The Night\n",
      "Failed requesting Blues In The Night\n",
      "Failed requesting Blues In The Night\n"
     ]
    },
    {
     "name": "stderr",
     "output_type": "stream",
     "text": [
      "Processing David Sanborn_tracks.parquet:  80%|███████▉  | 247/310 [00:07<00:01, 40.01it/s]"
     ]
    },
    {
     "name": "stdout",
     "output_type": "stream",
     "text": [
      "Failed requesting Sometimes I Feel Like A Motherless Child\n",
      "Failed requesting Davenport Blues\n",
      "Failed requesting St. Louis Blues\n",
      "Failed requesting St. Louis Blues\n",
      "Failed requesting I'm Gonna Move To The Outskirts Of Town\n",
      "Failed requesting I'm Gonna Move To The Outskirts Of Town\n",
      "Failed requesting Brother Ray\n",
      "Failed requesting Brother Ray\n",
      "Failed requesting Please Send Me Someone To Love\n"
     ]
    },
    {
     "name": "stderr",
     "output_type": "stream",
     "text": [
      "Processing David Sanborn_tracks.parquet:  81%|████████▏ | 252/310 [00:07<00:01, 39.87it/s]"
     ]
    },
    {
     "name": "stdout",
     "output_type": "stream",
     "text": [
      "Failed requesting Please Send Me Someone To Love\n",
      "Failed requesting Basin Street Blues\n",
      "Failed requesting Stoney Lonesome\n",
      "Failed requesting I Believe To My Soul\n",
      "Failed requesting What Will I Tell My Heart?\n",
      "Failed requesting I've Got News For You\n",
      "Failed requesting Indio\n",
      "Failed requesting Smile\n"
     ]
    },
    {
     "name": "stderr",
     "output_type": "stream",
     "text": [
      "Processing David Sanborn_tracks.parquet:  85%|████████▌ | 265/310 [00:08<00:01, 39.82it/s]"
     ]
    },
    {
     "name": "stdout",
     "output_type": "stream",
     "text": [
      "Failed requesting Mamacita\n",
      "Failed requesting Herbs\n",
      "Failed requesting Concrete Boogie\n",
      "Failed requesting I Do It for Love\n",
      "Failed requesting Sophisticated Squaw\n",
      "Failed requesting 7th Ave.\n",
      "Failed requesting Senor Blues\n",
      "Failed requesting Senor Blues\n",
      "Failed requesting Don't Let Me Be Lonely Tonight\n"
     ]
    },
    {
     "name": "stderr",
     "output_type": "stream",
     "text": [
      "Processing David Sanborn_tracks.parquet:  87%|████████▋ | 270/310 [00:08<00:00, 40.58it/s]"
     ]
    },
    {
     "name": "stdout",
     "output_type": "stream",
     "text": [
      "Failed requesting Don't Let Me Be Lonely Tonight\n",
      "Failed requesting Tin Tin Deo\n",
      "Failed requesting Tin Tin Deo\n",
      "Failed requesting Smile\n",
      "Failed requesting Smile\n",
      "Failed requesting Enchantment\n"
     ]
    },
    {
     "name": "stderr",
     "output_type": "stream",
     "text": [
      "Processing David Sanborn_tracks.parquet:  89%|████████▊ | 275/310 [00:08<00:01, 34.14it/s]"
     ]
    },
    {
     "name": "stdout",
     "output_type": "stream",
     "text": [
      "Failed requesting The Ballad Of The Sad Young Men\n",
      "Failed requesting Another Time, Another Place\n",
      "Failed requesting Capetown Fringe\n",
      "Failed requesting Poinciana\n",
      "Failed requesting You Must Believe In Spring\n",
      "Failed requesting Sofia\n",
      "Failed requesting Isn't She Lovely\n",
      "Failed requesting Isn't She Lovely\n",
      "Failed requesting Comin' Home Baby\n"
     ]
    },
    {
     "name": "stderr",
     "output_type": "stream",
     "text": [
      "Processing David Sanborn_tracks.parquet:  92%|█████████▏| 285/310 [00:08<00:00, 37.33it/s]"
     ]
    },
    {
     "name": "stdout",
     "output_type": "stream",
     "text": [
      "Failed requesting Comin' Home Baby\n",
      "Failed requesting Sugar\n",
      "Failed requesting Sugar\n",
      "Failed requesting Tequila\n",
      "Failed requesting Tequila\n",
      "Failed requesting Cristo Redentor\n",
      "Failed requesting Harlem Nocturne\n",
      "Failed requesting Man From Mars\n"
     ]
    },
    {
     "name": "stderr",
     "output_type": "stream",
     "text": [
      "Processing David Sanborn_tracks.parquet:  95%|█████████▍| 293/310 [00:08<00:00, 34.99it/s]"
     ]
    },
    {
     "name": "stdout",
     "output_type": "stream",
     "text": [
      "Failed requesting Little Flower\n",
      "Failed requesting Spider B.\n",
      "Failed requesting Delia\n",
      "Failed requesting Corners (For Herbie)\n",
      "Failed requesting Daydreaming\n",
      "Failed requesting Trance\n",
      "Failed requesting Brother Ray\n",
      "Failed requesting Lisa\n"
     ]
    },
    {
     "name": "stderr",
     "output_type": "stream",
     "text": [
      "Processing David Sanborn_tracks.parquet:  97%|█████████▋| 301/310 [00:09<00:00, 36.70it/s]"
     ]
    },
    {
     "name": "stdout",
     "output_type": "stream",
     "text": [
      "Failed requesting When I'm with You\n",
      "Failed requesting Naked Moon\n",
      "Failed requesting Cane\n",
      "Failed requesting Ain't No Sunshine\n",
      "Failed requesting Miss You\n",
      "Failed requesting Relativity\n",
      "Failed requesting D.S.P.\n",
      "Failed requesting Rikke\n"
     ]
    },
    {
     "name": "stderr",
     "output_type": "stream",
     "text": [
      "Processing David Sanborn_tracks.parquet: 100%|██████████| 310/310 [00:09<00:00, 33.40it/s]\n",
      "Processing David Sancious_tracks.parquet:   0%|          | 0/161 [00:00<?, ?it/s]"
     ]
    },
    {
     "name": "stdout",
     "output_type": "stream",
     "text": [
      "Failed requesting Listen Here\n",
      "Failed requesting Spooky\n",
      "Failed requesting Missing You\n",
      "Failed requesting Rumpelstiltskin\n",
      "Failed requesting Infant Eyes\n",
      "Failed requesting Southern Exposure\n",
      "Failed requesting Eyes Wide Open\n"
     ]
    },
    {
     "name": "stderr",
     "output_type": "stream",
     "text": [
      "Processing David Sancious_tracks.parquet:   5%|▍         | 8/161 [00:00<00:04, 34.65it/s]"
     ]
    },
    {
     "name": "stdout",
     "output_type": "stream",
     "text": [
      "Failed requesting In the Middle of the Night\n",
      "Failed requesting Urban Psalm #3\n",
      "Failed requesting If\n",
      "Failed requesting Flip It\n",
      "Failed requesting The Treehouse\n",
      "Failed requesting December\n",
      "Failed requesting War in Heaven\n",
      "Failed requesting Run\n"
     ]
    },
    {
     "name": "stderr",
     "output_type": "stream",
     "text": [
      "Processing David Sancious_tracks.parquet:  10%|▉         | 16/161 [00:00<00:03, 36.63it/s]"
     ]
    },
    {
     "name": "stdout",
     "output_type": "stream",
     "text": [
      "Failed requesting Just as I Thought\n",
      "Failed requesting Again\n",
      "Failed requesting The Naked 1\n",
      "Failed requesting Valley of the Shadow\n",
      "Failed requesting Suite (For the End of an Age)\n",
      "Failed requesting Remember\n",
      "Failed requesting And Then She Said\n",
      "Failed requesting Again, Pt. II\n"
     ]
    },
    {
     "name": "stderr",
     "output_type": "stream",
     "text": [
      "Processing David Sancious_tracks.parquet:  15%|█▍        | 24/161 [00:00<00:03, 36.63it/s]"
     ]
    },
    {
     "name": "stdout",
     "output_type": "stream",
     "text": [
      "Failed requesting Sound of Love\n",
      "Failed requesting Move On\n",
      "Failed requesting Prelude #3\n",
      "Failed requesting On the Inside\n",
      "Failed requesting Fade Away\n",
      "Failed requesting Ever the Same\n",
      "Failed requesting Interlude\n",
      "Failed requesting Matter of Time\n"
     ]
    },
    {
     "name": "stderr",
     "output_type": "stream",
     "text": [
      "Processing David Sancious_tracks.parquet:  17%|█▋        | 28/161 [00:00<00:03, 35.99it/s]"
     ]
    },
    {
     "name": "stdout",
     "output_type": "stream",
     "text": [
      "Failed requesting Piktor's Metamorphosis\n",
      "Failed requesting Sky Church Hymn #9\n",
      "Failed requesting The Play and Display of the Heart\n",
      "Failed requesting Transformation (The Speed of Love)\n",
      "Failed requesting Suite Cassandra\n",
      "Failed requesting Come on If You Feel Up to It\n"
     ]
    },
    {
     "name": "stderr",
     "output_type": "stream",
     "text": [
      "Processing David Sancious_tracks.parquet:  22%|██▏       | 36/161 [00:01<00:04, 30.26it/s]"
     ]
    },
    {
     "name": "stdout",
     "output_type": "stream",
     "text": [
      "Failed requesting East India\n",
      "Failed requesting Dixie\n",
      "Failed requesting The Forest of Feelings\n",
      "Failed requesting Joyce #8\n",
      "Failed requesting Crystal Image\n",
      "Failed requesting One Time\n",
      "Failed requesting Further in the Forest of Feelings\n"
     ]
    },
    {
     "name": "stderr",
     "output_type": "stream",
     "text": [
      "Processing David Sancious_tracks.parquet:  27%|██▋       | 44/161 [00:01<00:03, 32.52it/s]"
     ]
    },
    {
     "name": "stdout",
     "output_type": "stream",
     "text": [
      "Failed requesting Promise of Light\n",
      "Failed requesting Electric World\n",
      "Failed requesting Seeking Peace\n",
      "Failed requesting In an Instant\n",
      "Failed requesting Finally Over\n",
      "Failed requesting A Matter of Time\n",
      "Failed requesting Take the Path\n"
     ]
    },
    {
     "name": "stderr",
     "output_type": "stream",
     "text": [
      "Processing David Sancious_tracks.parquet:  32%|███▏      | 52/161 [00:01<00:03, 33.81it/s]"
     ]
    },
    {
     "name": "stdout",
     "output_type": "stream",
     "text": [
      "Failed requesting All is Meant to Be\n",
      "Failed requesting Sounds of Silence\n",
      "Failed requesting Year of the Cat\n",
      "Failed requesting House of the Rising Sun\n",
      "Failed requesting In the Land of Grey and Pink\n",
      "Failed requesting Summer Breeze\n",
      "Failed requesting Fire and Rain\n",
      "Failed requesting The Weight\n"
     ]
    },
    {
     "name": "stderr",
     "output_type": "stream",
     "text": [
      "Processing David Sancious_tracks.parquet:  35%|███▍      | 56/161 [00:01<00:03, 34.71it/s]"
     ]
    },
    {
     "name": "stdout",
     "output_type": "stream",
     "text": [
      "Failed requesting Wild World\n",
      "Failed requesting It's Too Late\n",
      "Failed requesting The Times They Are A-Changin'\n",
      "Failed requesting Cocaine\n",
      "Failed requesting Lay Down Sally\n"
     ]
    },
    {
     "name": "stderr",
     "output_type": "stream",
     "text": [
      "Processing David Sancious_tracks.parquet:  40%|███▉      | 64/161 [00:01<00:03, 30.07it/s]"
     ]
    },
    {
     "name": "stdout",
     "output_type": "stream",
     "text": [
      "Failed requesting I Feel Free\n",
      "Failed requesting Sunshine of Your Love\n",
      "Failed requesting Let It Rain\n",
      "Failed requesting Wonderful Tonight\n",
      "Failed requesting Layla\n",
      "Failed requesting I Shot the Sheriff\n",
      "Failed requesting For Your Love\n"
     ]
    },
    {
     "name": "stderr",
     "output_type": "stream",
     "text": [
      "Processing David Sancious_tracks.parquet:  42%|████▏     | 68/161 [00:02<00:02, 31.06it/s]"
     ]
    },
    {
     "name": "stdout",
     "output_type": "stream",
     "text": [
      "Failed requesting Tears in Heaven\n",
      "Failed requesting White Room\n",
      "Failed requesting Can't Find My Way Home\n",
      "Failed requesting 21st Century Schizoid Man\n",
      "Failed requesting A Time and a Place\n",
      "Failed requesting The Sheriff\n"
     ]
    },
    {
     "name": "stderr",
     "output_type": "stream",
     "text": [
      "Processing David Sancious_tracks.parquet:  47%|████▋     | 76/161 [00:02<00:02, 29.84it/s]"
     ]
    },
    {
     "name": "stdout",
     "output_type": "stream",
     "text": [
      "Failed requesting C'est la vie\n",
      "Failed requesting From the Beginning\n",
      "Failed requesting Hoedown\n",
      "Failed requesting Still…You Turn Me On\n",
      "Failed requesting Lucky Man\n",
      "Failed requesting Fanfare for the Common Man\n",
      "Failed requesting Karn Evil #9: 1st Impression, Pt. 2\n",
      "Failed requesting On the Silent Wings of Freedom\n"
     ]
    },
    {
     "name": "stderr",
     "output_type": "stream",
     "text": [
      "Processing David Sancious_tracks.parquet:  52%|█████▏    | 84/161 [00:02<00:02, 32.79it/s]"
     ]
    },
    {
     "name": "stdout",
     "output_type": "stream",
     "text": [
      "Failed requesting Hold out Your Hand\n",
      "Failed requesting Onward\n",
      "Failed requesting South Side of the Sky\n",
      "Failed requesting The Fish\n",
      "Failed requesting The More We Live - Let Go\n",
      "Failed requesting Parallels\n",
      "Failed requesting Owner of a Lonely Heart\n",
      "Failed requesting Roundabout\n"
     ]
    },
    {
     "name": "stderr",
     "output_type": "stream",
     "text": [
      "Processing David Sancious_tracks.parquet:  55%|█████▍    | 88/161 [00:02<00:02, 33.43it/s]"
     ]
    },
    {
     "name": "stdout",
     "output_type": "stream",
     "text": [
      "Failed requesting Don't Kill the Whale\n",
      "Failed requesting The Technical Divide - Bonus\n"
     ]
    },
    {
     "name": "stderr",
     "output_type": "stream",
     "text": [
      "Processing David Sancious_tracks.parquet:  60%|█████▉    | 96/161 [00:03<00:05, 12.19it/s]"
     ]
    },
    {
     "name": "stdout",
     "output_type": "stream",
     "text": [
      "Failed requesting Joe Frazier Round 3\n",
      "Failed requesting Joe Frazier Round 2 (Remastered)\n",
      "Failed requesting Sly-Fi\n",
      "Failed requesting The Sequence of Events\n",
      "Failed requesting A Balsamic Reduction\n",
      "Failed requesting The Sanguine Penguin\n",
      "Failed requesting Masika\n"
     ]
    },
    {
     "name": "stderr",
     "output_type": "stream",
     "text": [
      "Processing David Sancious_tracks.parquet:  63%|██████▎   | 102/161 [00:04<00:03, 15.39it/s]"
     ]
    },
    {
     "name": "stdout",
     "output_type": "stream",
     "text": [
      "Failed requesting Dark Pools\n",
      "Failed requesting Rainbow Gravity\n",
      "Failed requesting Helicon\n",
      "Failed requesting Lawns\n",
      "Failed requesting Symbol Bells\n",
      "Failed requesting Magnu (Steven Wilson Mix)\n",
      "Failed requesting Riding You\n"
     ]
    },
    {
     "name": "stderr",
     "output_type": "stream",
     "text": [
      "Processing David Sancious_tracks.parquet:  68%|██████▊   | 110/161 [00:04<00:02, 21.70it/s]"
     ]
    },
    {
     "name": "stdout",
     "output_type": "stream",
     "text": [
      "Failed requesting Time Crypt\n",
      "Failed requesting Every Little Thing (Top Gear Session 1/12/1969)\n",
      "Failed requesting Buried Beneath\n",
      "Failed requesting Time Machine\n",
      "Failed requesting The Weight of the World (Billy Sherwood Mix)\n",
      "Failed requesting Just Another Day (Instrumental)\n",
      "Failed requesting Cut the Ties\n"
     ]
    },
    {
     "name": "stderr",
     "output_type": "stream",
     "text": [
      "Processing David Sancious_tracks.parquet:  73%|███████▎  | 118/161 [00:04<00:01, 27.49it/s]"
     ]
    },
    {
     "name": "stdout",
     "output_type": "stream",
     "text": [
      "Failed requesting Ponder the Mystery\n",
      "Failed requesting Ultima Thule Part 1 (7\" Version)\n",
      "Failed requesting On the Highway\n",
      "Failed requesting Show Me the Way\n",
      "Failed requesting At the Edge of the Middle\n",
      "Failed requesting Watching You\n",
      "Failed requesting The Technical Divide\n",
      "Failed requesting Following the Signs\n"
     ]
    },
    {
     "name": "stderr",
     "output_type": "stream",
     "text": [
      "Processing David Sancious_tracks.parquet:  78%|███████▊  | 126/161 [00:04<00:01, 30.80it/s]"
     ]
    },
    {
     "name": "stdout",
     "output_type": "stream",
     "text": [
      "Failed requesting Random Acts of Science\n",
      "Failed requesting The Flying Dutchman\n",
      "Failed requesting Are We to Believe?\n",
      "Failed requesting Random Acts of Science\n",
      "Failed requesting Stone Cold Infusion\n",
      "Failed requesting Molecular Breakdown\n",
      "Failed requesting Particle Accelerations\n",
      "Failed requesting At the Edge of the Middle\n"
     ]
    },
    {
     "name": "stderr",
     "output_type": "stream",
     "text": [
      "Processing David Sancious_tracks.parquet:  81%|████████  | 130/161 [00:05<00:00, 32.24it/s]"
     ]
    },
    {
     "name": "stdout",
     "output_type": "stream",
     "text": [
      "Failed requesting Atom Smashing\n",
      "Failed requesting In the Spirit Of…\n",
      "Failed requesting Breakfast in America\n",
      "Failed requesting Take the Long Way Home\n"
     ]
    },
    {
     "name": "stderr",
     "output_type": "stream",
     "text": [
      "Processing David Sancious_tracks.parquet:  86%|████████▌ | 138/161 [00:05<00:00, 28.97it/s]"
     ]
    },
    {
     "name": "stdout",
     "output_type": "stream",
     "text": [
      "Failed requesting The Logical Song\n",
      "Failed requesting Give a Little Bit\n",
      "Failed requesting It's Raining Again\n",
      "Failed requesting Crime of the Century\n",
      "Failed requesting Dreamer\n",
      "Failed requesting Goodbye Stranger\n",
      "Failed requesting Rudy\n",
      "Failed requesting Bloody Well Right\n"
     ]
    },
    {
     "name": "stderr",
     "output_type": "stream",
     "text": [
      "Processing David Sancious_tracks.parquet:  88%|████████▊ | 142/161 [00:05<00:00, 29.99it/s]"
     ]
    },
    {
     "name": "stdout",
     "output_type": "stream",
     "text": [
      "Failed requesting School\n",
      "Failed requesting Let the World Revolve\n",
      "Failed requesting Breakfast in America\n",
      "Failed requesting Take the Long Way Home\n",
      "Failed requesting The Logical Song\n",
      "Failed requesting Give a Little Bit\n",
      "Failed requesting It's Raining Again\n"
     ]
    },
    {
     "name": "stderr",
     "output_type": "stream",
     "text": [
      "Processing David Sancious_tracks.parquet:  93%|█████████▎| 150/161 [00:05<00:00, 32.07it/s]"
     ]
    },
    {
     "name": "stdout",
     "output_type": "stream",
     "text": [
      "Failed requesting Crime of the Century\n",
      "Failed requesting Dreamer\n",
      "Failed requesting Goodbye Stranger\n",
      "Failed requesting Rudy\n",
      "Failed requesting Bloody Well Right\n",
      "Failed requesting School\n",
      "Failed requesting Let the World Revolve\n"
     ]
    },
    {
     "name": "stderr",
     "output_type": "stream",
     "text": [
      "Processing David Sancious_tracks.parquet:  98%|█████████▊| 158/161 [00:05<00:00, 30.74it/s]"
     ]
    },
    {
     "name": "stdout",
     "output_type": "stream",
     "text": [
      "Failed requesting Breakfast in America (Instrumental Version)\n",
      "Failed requesting Take the Long Way Home (Instrumental Version)\n",
      "Failed requesting The Logical Song (Instrumental Version)\n",
      "Failed requesting Give a Little Bit (Instrumental Version)\n",
      "Failed requesting It's Raining Again (Instrumental Version)\n",
      "Failed requesting Crime of the Century (Instrumental Version)\n"
     ]
    },
    {
     "name": "stderr",
     "output_type": "stream",
     "text": [
      "Processing David Sancious_tracks.parquet: 100%|██████████| 161/161 [00:06<00:00, 26.44it/s]\n",
      "Processing David Sylvian_tracks.parquet:   2%|▏         | 4/168 [00:00<00:04, 35.15it/s]"
     ]
    },
    {
     "name": "stdout",
     "output_type": "stream",
     "text": [
      "Failed requesting Dreamer (Instrumental Version)\n",
      "Failed requesting Goodbye Stranger (Instrumental Version)\n",
      "Failed requesting Plight (The Spiraling of Winter Ghosts)\n",
      "Failed requesting Plight (The Spiraling of Winter Ghosts)\n",
      "Failed requesting Premonition (Giant Empty Iron Vessel)\n",
      "Failed requesting Premonition (Giant Empty Iron Vessel)\n",
      "Failed requesting Flux (A Big, Bright, Colourful World)\n"
     ]
    },
    {
     "name": "stderr",
     "output_type": "stream",
     "text": [
      "Processing David Sylvian_tracks.parquet:   7%|▋         | 12/168 [00:00<00:04, 36.02it/s]"
     ]
    },
    {
     "name": "stdout",
     "output_type": "stream",
     "text": [
      "Failed requesting Flux (A Big, Bright, Colourful World)\n",
      "Failed requesting Mutability (A New Beginning Is in the Offing)\n",
      "Failed requesting Mutability (A New Beginning Is in the Offing)\n",
      "Failed requesting Plight (The Spiraling of Winter Ghosts)\n",
      "Failed requesting Plight (The Spiraling of Winter Ghosts)\n",
      "Failed requesting Premonition (Giant Empty Iron Vessel)\n",
      "Failed requesting Premonition (Giant Empty Iron Vessel)\n",
      "Failed requesting Flux (A Big, Bright, Colourful World)\n"
     ]
    },
    {
     "name": "stderr",
     "output_type": "stream",
     "text": [
      "Processing David Sylvian_tracks.parquet:  10%|█         | 17/168 [00:00<00:04, 37.23it/s]"
     ]
    },
    {
     "name": "stdout",
     "output_type": "stream",
     "text": [
      "Failed requesting Flux (A Big, Bright, Colourful World)\n",
      "Failed requesting Mutability (A New Beginning Is in the Offing)\n",
      "Failed requesting Mutability (A New Beginning Is in the Offing)\n",
      "Failed requesting Saffron Laudanum\n",
      "Failed requesting Velvet Revolution\n",
      "Failed requesting Trauma Ward\n",
      "Failed requesting The Farther Away I Am (Minus 30 Degrees)\n",
      "Failed requesting Dark Pastoral\n"
     ]
    },
    {
     "name": "stderr",
     "output_type": "stream",
     "text": [
      "Processing David Sylvian_tracks.parquet:  15%|█▍        | 25/168 [00:00<00:03, 38.44it/s]"
     ]
    },
    {
     "name": "stdout",
     "output_type": "stream",
     "text": [
      "Failed requesting Telegraphed Mistakes\n",
      "Failed requesting Deceleration\n",
      "Failed requesting Ghosts - Remix\n",
      "Failed requesting Bamboo Houses - Remix\n",
      "Failed requesting Bamboo Music\n",
      "Failed requesting Forbidden Colours\n",
      "Failed requesting Red Guitar\n",
      "Failed requesting The Ink In The Well\n"
     ]
    },
    {
     "name": "stderr",
     "output_type": "stream",
     "text": [
      "Processing David Sylvian_tracks.parquet:  20%|██        | 34/168 [00:00<00:03, 37.37it/s]"
     ]
    },
    {
     "name": "stdout",
     "output_type": "stream",
     "text": [
      "Failed requesting Pulling Punches\n",
      "Failed requesting Taking The Veil\n",
      "Failed requesting Silver Moon\n",
      "Failed requesting Let The Happiness In\n",
      "Failed requesting Orpheus\n",
      "Failed requesting Waterfront\n",
      "Failed requesting Pop Song\n",
      "Failed requesting Blackwater\n"
     ]
    },
    {
     "name": "stderr",
     "output_type": "stream",
     "text": [
      "Processing David Sylvian_tracks.parquet:  25%|██▌       | 42/168 [00:01<00:03, 35.03it/s]"
     ]
    },
    {
     "name": "stdout",
     "output_type": "stream",
     "text": [
      "Failed requesting Every Colour You Are\n",
      "Failed requesting Heartbeat (Tainai Kaiki II) Returning To The Womb - Remix\n",
      "Failed requesting Jean The Birdman\n",
      "Failed requesting Alphabet Angel\n",
      "Failed requesting I Surrender\n",
      "Failed requesting Darkest Dreaming\n",
      "Failed requesting Small Metal Gods\n"
     ]
    },
    {
     "name": "stderr",
     "output_type": "stream",
     "text": [
      "Processing David Sylvian_tracks.parquet:  30%|██▉       | 50/168 [00:01<00:03, 36.34it/s]"
     ]
    },
    {
     "name": "stdout",
     "output_type": "stream",
     "text": [
      "Failed requesting The Rabbit Skinner\n",
      "Failed requesting Random Acts Of Senseless Violence\n",
      "Failed requesting The Greatest Living Englishman\n",
      "Failed requesting 125 Spheres\n",
      "Failed requesting Snow White In Appalachia\n",
      "Failed requesting Emily Dickinson\n",
      "Failed requesting The Department Of Dead Letters\n"
     ]
    },
    {
     "name": "stderr",
     "output_type": "stream",
     "text": [
      "Processing David Sylvian_tracks.parquet:  32%|███▏      | 54/168 [00:01<00:03, 31.22it/s]"
     ]
    },
    {
     "name": "stdout",
     "output_type": "stream",
     "text": [
      "Failed requesting Manafon\n",
      "Failed requesting When Loud Weather Buffeted Naoshima\n",
      "Failed requesting The Only Daughter - Remixed by Ryoji Ikeda\n",
      "Failed requesting Blemish - Remixed by Burnt Friedman\n",
      "Failed requesting The Heart Knows Better - Remixed by Sweet Billy Pilgrim\n",
      "Failed requesting A Fire In The Forest - Remixed by Readymade FC\n",
      "Failed requesting The Good Son - Remixed by Yoshihiro Hanno\n",
      "Failed requesting Late Night Shopping - Remixed by Burnt Friedman\n"
     ]
    },
    {
     "name": "stderr",
     "output_type": "stream",
     "text": [
      "Processing David Sylvian_tracks.parquet:  38%|███▊      | 63/168 [00:01<00:02, 35.36it/s]"
     ]
    },
    {
     "name": "stdout",
     "output_type": "stream",
     "text": [
      "Failed requesting How Little We Need To Be Happy - Remixed by Tatsuhiko Asano\n",
      "Failed requesting The Only Daughter - Remixed by Jan Bang And Erik Honoré\n",
      "Failed requesting Blemish - Remixed by Akira Rabelais\n",
      "Failed requesting Blemish\n",
      "Failed requesting The Good Son\n",
      "Failed requesting The Only Daughter\n",
      "Failed requesting The Heart Knows Better\n"
     ]
    },
    {
     "name": "stderr",
     "output_type": "stream",
     "text": [
      "Processing David Sylvian_tracks.parquet:  43%|████▎     | 72/168 [00:02<00:02, 35.33it/s]"
     ]
    },
    {
     "name": "stdout",
     "output_type": "stream",
     "text": [
      "Failed requesting She Is Not\n",
      "Failed requesting Late Night Shopping\n",
      "Failed requesting How Little We Need To Be Happy\n",
      "Failed requesting A Fire In The Forest\n",
      "Failed requesting God's Monkey\n",
      "Failed requesting Brightness Falls\n",
      "Failed requesting Every Color You Are\n",
      "Failed requesting Jean The Birdman\n",
      "Failed requesting Firepower\n"
     ]
    },
    {
     "name": "stderr",
     "output_type": "stream",
     "text": [
      "Processing David Sylvian_tracks.parquet:  48%|████▊     | 81/168 [00:02<00:02, 37.71it/s]"
     ]
    },
    {
     "name": "stdout",
     "output_type": "stream",
     "text": [
      "Failed requesting Damage\n",
      "Failed requesting Gone To Earth\n",
      "Failed requesting 20th Century Dreaming (A Shaman's Song)\n",
      "Failed requesting Wave\n",
      "Failed requesting Riverman\n",
      "Failed requesting Blinding Light of Heaven\n",
      "Failed requesting The First Day\n",
      "Failed requesting I Surrender\n",
      "Failed requesting The Scent Of Magnolia\n"
     ]
    },
    {
     "name": "stderr",
     "output_type": "stream",
     "text": [
      "Processing David Sylvian_tracks.parquet:  53%|█████▎    | 89/168 [00:02<00:02, 37.60it/s]"
     ]
    },
    {
     "name": "stdout",
     "output_type": "stream",
     "text": [
      "Failed requesting Dobro #1\n",
      "Failed requesting Midnight Sun\n",
      "Failed requesting Cover Me With Flowers\n",
      "Failed requesting Krishna Blue\n",
      "Failed requesting Albuquerque (Dobro #6)\n",
      "Failed requesting Thalheim\n",
      "Failed requesting Alphabet Angel\n",
      "Failed requesting God Man\n",
      "Failed requesting Café Europa\n"
     ]
    },
    {
     "name": "stderr",
     "output_type": "stream",
     "text": [
      "Processing David Sylvian_tracks.parquet:  59%|█████▉    | 99/168 [00:02<00:01, 38.60it/s]"
     ]
    },
    {
     "name": "stdout",
     "output_type": "stream",
     "text": [
      "Failed requesting Aparna And Nimisha (Dobro #5)\n",
      "Failed requesting Pollen Path\n",
      "Failed requesting The Shining Of Things\n",
      "Failed requesting Wanderlust\n",
      "Failed requesting All Of My Mother's Names (Summers With Amma)\n",
      "Failed requesting Praise (Pratah Smarami)\n",
      "Failed requesting Darkest Dreaming\n",
      "Failed requesting The Beekeeper's Apprentice\n"
     ]
    },
    {
     "name": "stderr",
     "output_type": "stream",
     "text": [
      "Processing David Sylvian_tracks.parquet:  64%|██████▎   | 107/168 [00:02<00:01, 38.83it/s]"
     ]
    },
    {
     "name": "stdout",
     "output_type": "stream",
     "text": [
      "Failed requesting Epiphany\n",
      "Failed requesting Approaching Silence\n",
      "Failed requesting I Surrender\n",
      "Failed requesting Dobro #1\n",
      "Failed requesting Midnight Sun\n",
      "Failed requesting Thalheim\n",
      "Failed requesting God Man\n",
      "Failed requesting Alphabet Angel\n",
      "Failed requesting Krishna Blue\n"
     ]
    },
    {
     "name": "stderr",
     "output_type": "stream",
     "text": [
      "Processing David Sylvian_tracks.parquet:  68%|██████▊   | 115/168 [00:03<00:01, 38.75it/s]"
     ]
    },
    {
     "name": "stdout",
     "output_type": "stream",
     "text": [
      "Failed requesting The Shining Of Things\n",
      "Failed requesting Café Europa\n",
      "Failed requesting Pollen Path\n",
      "Failed requesting All Of My Mother's Names (Summers With Amma)\n",
      "Failed requesting Wanderlust\n",
      "Failed requesting Praise (Pratah Smarami)\n",
      "Failed requesting Darkest Dreaming\n",
      "Failed requesting God's Monkey\n"
     ]
    },
    {
     "name": "stderr",
     "output_type": "stream",
     "text": [
      "Processing David Sylvian_tracks.parquet:  73%|███████▎  | 123/168 [00:03<00:01, 39.27it/s]"
     ]
    },
    {
     "name": "stdout",
     "output_type": "stream",
     "text": [
      "Failed requesting Jean The Birdman\n",
      "Failed requesting Firepower\n",
      "Failed requesting Brightness Falls\n",
      "Failed requesting 20th Century Dreaming (A Shaman's Song)\n",
      "Failed requesting Darshan (The Road To Graceland)\n",
      "Failed requesting Bringing Down The Light\n",
      "Failed requesting September\n",
      "Failed requesting The Boy With The Gun\n",
      "Failed requesting Maria\n"
     ]
    },
    {
     "name": "stderr",
     "output_type": "stream",
     "text": [
      "Processing David Sylvian_tracks.parquet:  79%|███████▊  | 132/168 [00:03<00:01, 34.23it/s]"
     ]
    },
    {
     "name": "stdout",
     "output_type": "stream",
     "text": [
      "Failed requesting Orpheus\n",
      "Failed requesting The Devil's Own\n",
      "Failed requesting When Poets Dreamed Of Angels\n",
      "Failed requesting Mother And Child\n",
      "Failed requesting Let The Happiness In\n"
     ]
    },
    {
     "name": "stderr",
     "output_type": "stream",
     "text": [
      "Processing David Sylvian_tracks.parquet:  84%|████████▍ | 141/168 [00:03<00:00, 35.01it/s]"
     ]
    },
    {
     "name": "stdout",
     "output_type": "stream",
     "text": [
      "Failed requesting Waterfront\n",
      "Failed requesting Promise (The Cult Of Eurydice)\n",
      "Failed requesting Taking The Veil\n",
      "Failed requesting Laughter And Forgetting\n",
      "Failed requesting Before The Bullfight\n",
      "Failed requesting Gone To Earth\n",
      "Failed requesting Wave\n",
      "Failed requesting River Man\n",
      "Failed requesting Silver Moon\n"
     ]
    },
    {
     "name": "stderr",
     "output_type": "stream",
     "text": [
      "Processing David Sylvian_tracks.parquet:  87%|████████▋ | 146/168 [00:03<00:00, 36.89it/s]"
     ]
    },
    {
     "name": "stdout",
     "output_type": "stream",
     "text": [
      "Failed requesting River Man - Remix\n",
      "Failed requesting Gone To Earth - Remix\n",
      "Failed requesting Camp Fire: Coyote Country - Remix\n",
      "Failed requesting The Healing Place\n",
      "Failed requesting Answered Prayers\n",
      "Failed requesting Where The Railroad Meets The Sea\n",
      "Failed requesting The Wooden Cross\n",
      "Failed requesting Silver Moon Over Sleeping Steeples\n"
     ]
    },
    {
     "name": "stderr",
     "output_type": "stream",
     "text": [
      "Processing David Sylvian_tracks.parquet:  93%|█████████▎| 156/168 [00:04<00:00, 38.79it/s]"
     ]
    },
    {
     "name": "stdout",
     "output_type": "stream",
     "text": [
      "Failed requesting Camp Fire: Coyote Country\n",
      "Failed requesting A Bird Of Prey Vanishes Into A Bright Blue Cloudless Sky\n",
      "Failed requesting Home\n",
      "Failed requesting Sunlight Seen Through Towering Trees\n",
      "Failed requesting Upon This Earth\n",
      "Failed requesting Words With The Shaman - Part 1 (Ancient Evening)\n",
      "Failed requesting Words With The Shaman - Part 2 (Incantation)\n",
      "Failed requesting Words With The Shaman - Part 3 (Awakening (Songs From The Treetops))\n",
      "Failed requesting Preparations For A Journey\n"
     ]
    },
    {
     "name": "stderr",
     "output_type": "stream",
     "text": [
      "Processing David Sylvian_tracks.parquet:  98%|█████████▊| 164/168 [00:04<00:00, 38.96it/s]"
     ]
    },
    {
     "name": "stdout",
     "output_type": "stream",
     "text": [
      "Failed requesting The Stigma Of Childhood (Kin)\n",
      "Failed requesting A Brief Conversation Ending In Divorce\n",
      "Failed requesting Steel Cathedrals\n",
      "Failed requesting Pulling Punches\n",
      "Failed requesting The Ink In The Well\n",
      "Failed requesting Nostalgia\n",
      "Failed requesting Red Guitar\n",
      "Failed requesting Weathered Wall\n",
      "Failed requesting Backwaters\n"
     ]
    },
    {
     "name": "stderr",
     "output_type": "stream",
     "text": [
      "Processing David Sylvian_tracks.parquet: 100%|██████████| 168/168 [00:04<00:00, 37.16it/s]\n",
      "Processing David Toop_tracks.parquet:   2%|▏         | 4/163 [00:00<00:04, 36.36it/s]"
     ]
    },
    {
     "name": "stdout",
     "output_type": "stream",
     "text": [
      "Failed requesting Brilliant Trees\n",
      "Failed requesting The Quietening Of Rocks\n",
      "Failed requesting Night Drive\n",
      "Failed requesting Witches Falls\n",
      "Failed requesting Small Holes In The Sky\n",
      "Failed requesting Leaving No Trace\n",
      "Failed requesting It's Winter Already\n"
     ]
    },
    {
     "name": "stderr",
     "output_type": "stream",
     "text": [
      "Processing David Toop_tracks.parquet:   7%|▋         | 12/163 [00:00<00:04, 36.45it/s]"
     ]
    },
    {
     "name": "stdout",
     "output_type": "stream",
     "text": [
      "Failed requesting You could touch him but he wasn’t there\n",
      "Failed requesting Tiny human figurines made from sand. If you held these to your ear, you heard soft sweet music\n",
      "Failed requesting A ghost travelling half a mile from its own shape\n",
      "Failed requesting For believing (you were a strange beautiful unearthly creature from a faraway planet)\n",
      "Failed requesting Smaller life spirits (that inhabit the joints)\n",
      "Failed requesting She fell asleep somewhere outside the world\n",
      "Failed requesting All I desire\n",
      "Failed requesting When I first came here (I thought I’d never get used to the trains; now when it’s quiet I get nervous)\n"
     ]
    },
    {
     "name": "stderr",
     "output_type": "stream",
     "text": [
      "Processing David Toop_tracks.parquet:  12%|█▏        | 20/163 [00:00<00:04, 35.51it/s]"
     ]
    },
    {
     "name": "stdout",
     "output_type": "stream",
     "text": [
      "Failed requesting Always she seemed to be listening to some foray in the blood, that had no known setting\n",
      "Failed requesting Some of them (to isolate themselves even further, beat their own ears until the tiny bones within were crushed)\n",
      "Failed requesting Possibly it was only the coming of certain indefinable hours\n",
      "Failed requesting Suddenly the world had dropped away\n",
      "Failed requesting Fox Spirits\n",
      "Failed requesting Wasp, recorded in Somerset, c. 1971\n",
      "Failed requesting Rain In the Face, long flute and frame drum, c. 1973 or 74\n",
      "Failed requesting Conversation with Syd Senior, 1979\n"
     ]
    },
    {
     "name": "stderr",
     "output_type": "stream",
     "text": [
      "Processing David Toop_tracks.parquet:  17%|█▋        | 28/163 [00:00<00:03, 34.91it/s]"
     ]
    },
    {
     "name": "stdout",
     "output_type": "stream",
     "text": [
      "Failed requesting Beijing sounds, recorded March 2005\n",
      "Failed requesting Rain In the Face, “Do the Bathosphere”, c. 1974\n",
      "Failed requesting Conversation with Derek Bailey, February 2003\n",
      "Failed requesting Flute Orchestra, 20.8.1972\n",
      "Failed requesting Chiang Mai, Thailand, blind group playing in the street.\n",
      "Failed requesting David Toop solo, Iklectik, London, 2017\n",
      "Failed requesting Conversation with Annabel Nicolson, c. 1992\n",
      "Failed requesting Rain In the Face, prepared guitar, drums, two-string fiddle, c. 1974\n"
     ]
    },
    {
     "name": "stderr",
     "output_type": "stream",
     "text": [
      "Processing David Toop_tracks.parquet:  22%|██▏       | 36/163 [00:01<00:04, 28.64it/s]"
     ]
    },
    {
     "name": "stdout",
     "output_type": "stream",
     "text": [
      "Failed requesting Sheep Wind Fence Flute, recorded on Dartmoor, 1971\n",
      "Failed requesting Chiang Mai bell rhythm and tuk tuk\n",
      "Failed requesting Conversation with Ornette Coleman, 13.9.1995\n",
      "Failed requesting Ano Syros bells, Greece, 2018\n",
      "Failed requesting Rain In the Face, ghost flute and cymbal, 1973\n",
      "Failed requesting Night frogs, La Sabana, Venezuela, 1978\n"
     ]
    },
    {
     "name": "stderr",
     "output_type": "stream",
     "text": [
      "Processing David Toop_tracks.parquet:  25%|██▍       | 40/163 [00:01<00:04, 29.59it/s]"
     ]
    },
    {
     "name": "stdout",
     "output_type": "stream",
     "text": [
      "Failed requesting Juliette Toop, “You Know That You and I”, circa 1995\n",
      "Failed requesting Boundary Music\n",
      "Failed requesting Boundary Music\n",
      "Failed requesting Off-World\n",
      "Failed requesting March of the Egos\n",
      "Failed requesting Suttle Sculpture, Pt. 1\n"
     ]
    },
    {
     "name": "stderr",
     "output_type": "stream",
     "text": [
      "Processing David Toop_tracks.parquet:  29%|██▉       | 48/163 [00:01<00:03, 31.82it/s]"
     ]
    },
    {
     "name": "stdout",
     "output_type": "stream",
     "text": [
      "Failed requesting Suttle Sculpture, Pt. 2\n",
      "Failed requesting Dry Keys Echo in the Dark and Humid Early Hours\n",
      "Failed requesting For a Language to Come\n",
      "Failed requesting Pieces of Wood and Iron, Phials of Odours\n",
      "Failed requesting Sea Slug\n",
      "Failed requesting Unspeakable Within It\n",
      "Failed requesting Compelled to Approach\n",
      "Failed requesting Ancestral Beings, Sightless by Their Own Dust\n"
     ]
    },
    {
     "name": "stderr",
     "output_type": "stream",
     "text": [
      "Processing David Toop_tracks.parquet:  34%|███▍      | 56/163 [00:01<00:03, 33.26it/s]"
     ]
    },
    {
     "name": "stdout",
     "output_type": "stream",
     "text": [
      "Failed requesting Setting Stones\n",
      "Failed requesting Human Skin and the Stone Steps\n",
      "Failed requesting Things Just Went Sour Gradually All at Once\n",
      "Failed requesting Invertebrate Drawings\n",
      "Failed requesting Tayari-Teri: Shamans Healing, Pt. 1\n",
      "Failed requesting Tayari-Teri: Shamans Healing, Pt. 2\n",
      "Failed requesting Tayari-Teri: Shamans Healing, Pt. 3\n"
     ]
    },
    {
     "name": "stderr",
     "output_type": "stream",
     "text": [
      "Processing David Toop_tracks.parquet:  39%|███▉      | 64/163 [00:01<00:03, 33.00it/s]"
     ]
    },
    {
     "name": "stdout",
     "output_type": "stream",
     "text": [
      "Failed requesting Torokoiwe: Solo Shama, First Chant\n",
      "Failed requesting Torokoiwe: Solo Shama, Second Chant\n",
      "Failed requesting Torokoiwe: Solo Shama, Second Chant, Pt. 2\n",
      "Failed requesting Caberima Night Insects, Birds and Moths, Pt. 1\n",
      "Failed requesting Mabutawi-Teri: Wayamou Duo Exchange\n",
      "Failed requesting Mabutawi-Teri: Young Women's Circle Song\n",
      "Failed requesting Cuntinamo: Piaruainai, Solo Shaman, Pt. 1\n",
      "Failed requesting Cuntinamo: Piaruainai, Solo Shaman, Pt. 2\n"
     ]
    },
    {
     "name": "stderr",
     "output_type": "stream",
     "text": [
      "Processing David Toop_tracks.parquet:  42%|████▏     | 68/163 [00:02<00:02, 32.83it/s]"
     ]
    },
    {
     "name": "stdout",
     "output_type": "stream",
     "text": [
      "Failed requesting Cuntinamo: Piaruainai, Solo Shaman, Pt. 3\n",
      "Failed requesting Mabutawi-Teri: Young Men Singing, Pt. 1\n",
      "Failed requesting Mabutawi-Teri: Young Men Singing, Pt. 2\n",
      "Failed requesting Mabutawi-Teri: Young Men Singing, Pt. 3\n",
      "Failed requesting Mabutawi-Teri: Young Men Singing, Pt. 4\n",
      "Failed requesting Mabutawi-Teri: Rain Song, Pt. 1\n",
      "Failed requesting Mabutawi-Teri: Rain Song, Pt. 2\n"
     ]
    },
    {
     "name": "stderr",
     "output_type": "stream",
     "text": [
      "Processing David Toop_tracks.parquet:  47%|████▋     | 76/163 [00:02<00:02, 33.36it/s]"
     ]
    },
    {
     "name": "stdout",
     "output_type": "stream",
     "text": [
      "Failed requesting Mabutawi-Teri: Rain Song, Pt. 3\n",
      "Failed requesting Mabutawi-Teri: Rain Song, Pt. 4\n",
      "Failed requesting 21st Floor Discotheque at 4am\n",
      "Failed requesting Dream Cargoes\n",
      "Failed requesting Nocturnal Service Shaft\n",
      "Failed requesting Empty Mall\n",
      "Failed requesting Automatic Security Procedures\n",
      "Failed requesting Disposal Chute Inoperative\n"
     ]
    },
    {
     "name": "stderr",
     "output_type": "stream",
     "text": [
      "Processing David Toop_tracks.parquet:  52%|█████▏    | 84/163 [00:02<00:02, 35.18it/s]"
     ]
    },
    {
     "name": "stdout",
     "output_type": "stream",
     "text": [
      "Failed requesting 37th Floor at Sunset\n",
      "Failed requesting Brand New\n",
      "Failed requesting Virtual Pet #1\n",
      "Failed requesting Air-Con Function\n",
      "Failed requesting Ventilation Shaft\n",
      "Failed requesting Watchtower Data\n",
      "Failed requesting Connection Not Enabled\n"
     ]
    },
    {
     "name": "stderr",
     "output_type": "stream",
     "text": [
      "Processing David Toop_tracks.parquet:  56%|█████▋    | 92/163 [00:02<00:01, 36.52it/s]"
     ]
    },
    {
     "name": "stdout",
     "output_type": "stream",
     "text": [
      "Failed requesting Tricyrtis Latifolia\n",
      "Failed requesting Koladé Spirit\n",
      "Failed requesting Soft Cavities\n",
      "Failed requesting Waxed Skin\n",
      "Failed requesting Apartment Thunder - Eros + sacrifice\n",
      "Failed requesting Raw Mouth Shape\n",
      "Failed requesting Silver Birds\n",
      "Failed requesting Soft Cavities\n"
     ]
    },
    {
     "name": "stderr",
     "output_type": "stream",
     "text": [
      "Processing David Toop_tracks.parquet:  61%|██████▏   | 100/163 [00:02<00:01, 35.42it/s]"
     ]
    },
    {
     "name": "stdout",
     "output_type": "stream",
     "text": [
      "Failed requesting Waxed Skin\n",
      "Failed requesting Apartment Thunder (Eros Sacrifice)\n",
      "Failed requesting Raw Mouth Shape\n",
      "Failed requesting Silver Birds\n",
      "Failed requesting Plume, Preceded By Far Off Inside\n",
      "Failed requesting Ll-Faced Doll - Aozameta Omozashi Ni Katadorare\n",
      "Failed requesting Gored Fig Sacs\n",
      "Failed requesting Blind Eel Priestess\n"
     ]
    },
    {
     "name": "stderr",
     "output_type": "stream",
     "text": [
      "Processing David Toop_tracks.parquet:  66%|██████▋   | 108/163 [00:03<00:01, 31.60it/s]"
     ]
    },
    {
     "name": "stdout",
     "output_type": "stream",
     "text": [
      "Failed requesting Poison Incense\n",
      "Failed requesting The Slapping Gun\n",
      "Failed requesting Life In The Folds\n",
      "Failed requesting Black Chamber\n",
      "Failed requesting An Arthropod Raising Its Head To See The Sirakami\n",
      "Failed requesting A Second Nature\n"
     ]
    },
    {
     "name": "stderr",
     "output_type": "stream",
     "text": [
      "Processing David Toop_tracks.parquet:  69%|██████▊   | 112/163 [00:03<00:01, 32.84it/s]"
     ]
    },
    {
     "name": "stdout",
     "output_type": "stream",
     "text": [
      "Failed requesting Utopia In Fiction Form\n",
      "Failed requesting Breathing Chaos\n",
      "Failed requesting Transluscent World\n",
      "Failed requesting Glass For Paper\n",
      "Failed requesting Seeds In Flight\n",
      "Failed requesting Smell Of Human Life\n"
     ]
    },
    {
     "name": "stderr",
     "output_type": "stream",
     "text": [
      "Processing David Toop_tracks.parquet:  74%|███████▎  | 120/163 [00:03<00:01, 32.04it/s]"
     ]
    },
    {
     "name": "stdout",
     "output_type": "stream",
     "text": [
      "Failed requesting Ceremony Viewed Through Iron Slit\n",
      "Failed requesting Sunless\n",
      "Failed requesting Haunted Gate\n",
      "Failed requesting Phantoms Keeping Watch\n",
      "Failed requesting Sleeping Powder\n",
      "Failed requesting Spirits Shimmered Among The Live People\n",
      "Failed requesting Written By Snakes\n"
     ]
    },
    {
     "name": "stderr",
     "output_type": "stream",
     "text": [
      "Processing David Toop_tracks.parquet:  79%|███████▊  | 128/163 [00:03<00:01, 33.61it/s]"
     ]
    },
    {
     "name": "stdout",
     "output_type": "stream",
     "text": [
      "Failed requesting Snapshots Of A Ghost\n",
      "Failed requesting Aether Talk\n",
      "Failed requesting Mixed Blood\n",
      "Failed requesting Ultra-Paste\n",
      "Failed requesting Pink Noir\n",
      "Failed requesting Almost Transparent Blue\n",
      "Failed requesting Sugar Frosted Charcoal Scene\n",
      "Failed requesting Mr Lullaby Should Have Rocked You\n"
     ]
    },
    {
     "name": "stderr",
     "output_type": "stream",
     "text": [
      "Processing David Toop_tracks.parquet:  83%|████████▎ | 136/163 [00:04<00:00, 35.57it/s]"
     ]
    },
    {
     "name": "stdout",
     "output_type": "stream",
     "text": [
      "Failed requesting Mamba Point\n",
      "Failed requesting Slow Loris Versus Poison Snail\n",
      "Failed requesting Lime Leaves\n",
      "Failed requesting Spore Divination\n",
      "Failed requesting Ceremony Behind Screens\n",
      "Failed requesting The Darkened Room\n",
      "Failed requesting Dream Fluid\n",
      "Failed requesting The Psychic\n"
     ]
    },
    {
     "name": "stderr",
     "output_type": "stream",
     "text": [
      "Processing David Toop_tracks.parquet:  88%|████████▊ | 144/163 [00:04<00:00, 33.11it/s]"
     ]
    },
    {
     "name": "stdout",
     "output_type": "stream",
     "text": [
      "Failed requesting Howler Monkey Shits and Roars\n",
      "Failed requesting Butoh-Porno\n",
      "Failed requesting Reverse World\n",
      "Failed requesting Mica Screen\n",
      "Failed requesting I Hear Voices\n",
      "Failed requesting Stigmata\n",
      "Failed requesting Marks and Social Purpose\n"
     ]
    },
    {
     "name": "stderr",
     "output_type": "stream",
     "text": [
      "Processing David Toop_tracks.parquet:  93%|█████████▎| 152/163 [00:04<00:00, 33.47it/s]"
     ]
    },
    {
     "name": "stdout",
     "output_type": "stream",
     "text": [
      "Failed requesting Mud _ Swifts _ Din _ Stench\n",
      "Failed requesting Concerning the Housing Situation in London\n",
      "Failed requesting Cosmopolitan Order of Birds\n",
      "Failed requesting The Experiment of Olgas Hand\n",
      "Failed requesting Ecstasy of a Bird Karma\n",
      "Failed requesting We Can Have a Good Time Without Snakes\n",
      "Failed requesting No Eletricity\n"
     ]
    },
    {
     "name": "stderr",
     "output_type": "stream",
     "text": [
      "Processing David Toop_tracks.parquet:  96%|█████████▌| 156/163 [00:04<00:00, 33.61it/s]"
     ]
    },
    {
     "name": "stdout",
     "output_type": "stream",
     "text": [
      "Failed requesting Hydrophone\n",
      "Failed requesting Metallophone\n",
      "Failed requesting The Centriphone\n",
      "Failed requesting Elastic Aerophone / Centriphone\n",
      "Failed requesting Do The Bathosphere\n",
      "Failed requesting The Divination Of The Bowhead Whale\n",
      "Failed requesting The Chairs Story\n",
      "Failed requesting Slow Loris Versus Poison Snail\n"
     ]
    },
    {
     "name": "stderr",
     "output_type": "stream",
     "text": [
      "Processing David Toop_tracks.parquet: 100%|██████████| 163/163 [00:04<00:00, 33.49it/s]\n",
      "Processing David Torn_tracks.parquet:   0%|          | 0/129 [00:00<?, ?it/s]"
     ]
    },
    {
     "name": "stdout",
     "output_type": "stream",
     "text": [
      "Failed requesting GARDEN OF SHADOWS AND LIGHT\n",
      "Failed requesting Dry Keys Echo in the Dark and Humid Early Hours\n",
      "Failed requesting Life on the Inside\n",
      "Failed requesting Awake in the Dark\n",
      "Failed requesting Ephemera\n",
      "Failed requesting Lock & Key\n"
     ]
    },
    {
     "name": "stderr",
     "output_type": "stream",
     "text": [
      "Processing David Torn_tracks.parquet:   6%|▌         | 8/129 [00:00<00:03, 32.30it/s]"
     ]
    },
    {
     "name": "stdout",
     "output_type": "stream",
     "text": [
      "Failed requesting Waxeater\n",
      "Failed requesting Lights Out\n",
      "Failed requesting Torus\n",
      "Failed requesting Final Flickers\n",
      "Failed requesting Eye Meddle\n",
      "Failed requesting Spartan, Before It Hit\n",
      "Failed requesting Soften The Blow\n"
     ]
    },
    {
     "name": "stderr",
     "output_type": "stream",
     "text": [
      "Processing David Torn_tracks.parquet:  12%|█▏        | 16/129 [00:00<00:03, 34.53it/s]"
     ]
    },
    {
     "name": "stdout",
     "output_type": "stream",
     "text": [
      "Failed requesting At Least There Was Nothing\n",
      "Failed requesting Spoke With Folks\n",
      "Failed requesting Ok, Shorty\n",
      "Failed requesting Was A Cave, There…\n",
      "Failed requesting Reaching Barely, Sparely Fraught\n",
      "Failed requesting I Could Almost See The Room\n",
      "Failed requesting Only Sky\n",
      "Failed requesting So Much What\n"
     ]
    },
    {
     "name": "stderr",
     "output_type": "stream",
     "text": [
      "Processing David Torn_tracks.parquet:  16%|█▌        | 20/129 [00:00<00:03, 34.60it/s]"
     ]
    },
    {
     "name": "stdout",
     "output_type": "stream",
     "text": [
      "Failed requesting A Goddamned Specific Unbalance\n",
      "Failed requesting at the mall\n",
      "Failed requesting in the forest\n",
      "Failed requesting I. lars is angry (with bianca) / II. the box arrives\n"
     ]
    },
    {
     "name": "stderr",
     "output_type": "stream",
     "text": [
      "Processing David Torn_tracks.parquet:  22%|██▏       | 28/129 [00:00<00:03, 29.75it/s]"
     ]
    },
    {
     "name": "stdout",
     "output_type": "stream",
     "text": [
      "Failed requesting mrs. gruener accepts him\n",
      "Failed requesting I. opening / II. still opening\n",
      "Failed requesting bowling with margo\n",
      "Failed requesting I. karin & the skirt / II. his parents' graves / III. snack break / IV. Lars\n",
      "Failed requesting karin accepts him\n",
      "Failed requesting I. lars, changing... / II. they actually touch\n",
      "Failed requesting bianca is dying\n",
      "Failed requesting I. the flowers... / II. goodbye kiss\n",
      "Failed requesting her funeral...\n"
     ]
    },
    {
     "name": "stderr",
     "output_type": "stream",
     "text": [
      "Processing David Torn_tracks.parquet:  28%|██▊       | 36/129 [00:01<00:02, 33.80it/s]"
     ]
    },
    {
     "name": "stdout",
     "output_type": "stream",
     "text": [
      "Failed requesting lars & margo\n",
      "Failed requesting where we started\n",
      "Failed requesting end credit suite\n",
      "Failed requesting L-O-V-E\n",
      "Failed requesting Ak\n",
      "Failed requesting Rest & Unrest\n",
      "Failed requesting Structural Functions Of Prezens\n",
      "Failed requesting Bulbs\n"
     ]
    },
    {
     "name": "stderr",
     "output_type": "stream",
     "text": [
      "Processing David Torn_tracks.parquet:  34%|███▍      | 44/129 [00:01<00:02, 33.94it/s]"
     ]
    },
    {
     "name": "stdout",
     "output_type": "stream",
     "text": [
      "Failed requesting Them Buried Standing\n",
      "Failed requesting Sink\n",
      "Failed requesting Neck-Deep In The Harrow...\n",
      "Failed requesting Ever More Other\n",
      "Failed requesting Ring For Endless Travel\n",
      "Failed requesting Miss Place, The Mist...\n",
      "Failed requesting Transmit Regardless\n"
     ]
    },
    {
     "name": "stderr",
     "output_type": "stream",
     "text": [
      "Processing David Torn_tracks.parquet:  40%|████      | 52/129 [00:01<00:02, 33.68it/s]"
     ]
    },
    {
     "name": "stdout",
     "output_type": "stream",
     "text": [
      "Failed requesting Dusk & Dawn\n",
      "Failed requesting Truth Is Beauty\n",
      "Failed requesting Father Alex's Mass\n",
      "Failed requesting Re-Aligned & Gone to Rome\n",
      "Failed requesting Aramaic Texts\n",
      "Failed requesting There Will Be No Inquiry\n",
      "Failed requesting Ask the Dying\n",
      "Failed requesting Nightengales\n"
     ]
    },
    {
     "name": "stderr",
     "output_type": "stream",
     "text": [
      "Processing David Torn_tracks.parquet:  47%|████▋     | 60/129 [00:01<00:02, 32.63it/s]"
     ]
    },
    {
     "name": "stdout",
     "output_type": "stream",
     "text": [
      "Failed requesting Building the Cathedral\n",
      "Failed requesting Trying to Understand\n",
      "Failed requesting The Death of Mara\n",
      "Failed requesting Their Final Union\n",
      "Failed requesting Hunting Eden\n",
      "Failed requesting Alex Is Another...'Other'\n",
      "Failed requesting Resolve, At All Costs\n"
     ]
    },
    {
     "name": "stderr",
     "output_type": "stream",
     "text": [
      "Processing David Torn_tracks.parquet:  53%|█████▎    | 68/129 [00:02<00:01, 32.84it/s]"
     ]
    },
    {
     "name": "stdout",
     "output_type": "stream",
     "text": [
      "Failed requesting Repulsion\n",
      "Failed requesting Sequel Why\n",
      "Failed requesting Reversion\n",
      "Failed requesting Quicksand\n",
      "Failed requesting Tonguefarmer\n",
      "Failed requesting Sequel Ex\n",
      "Failed requesting Spell Breaks With the Weather\n"
     ]
    },
    {
     "name": "stderr",
     "output_type": "stream",
     "text": [
      "Processing David Torn_tracks.parquet:  56%|█████▌    | 72/129 [00:02<00:01, 33.14it/s]"
     ]
    },
    {
     "name": "stdout",
     "output_type": "stream",
     "text": [
      "Failed requesting What Means Solid Traveller?\n",
      "Failed requesting Such Little Mirrors\n",
      "Failed requesting Tiny Burns A Bridge\n",
      "Failed requesting Gidya Hana\n",
      "Failed requesting Each Prince to His Kingdom Must Labor to Go\n",
      "Failed requesting Particle Bugs @ Purulia Station\n",
      "Failed requesting In The Sand Of This Day (I Will Not Be Free...)\n"
     ]
    },
    {
     "name": "stderr",
     "output_type": "stream",
     "text": [
      "Processing David Torn_tracks.parquet:  62%|██████▏   | 80/129 [00:02<00:01, 34.03it/s]"
     ]
    },
    {
     "name": "stdout",
     "output_type": "stream",
     "text": [
      "Failed requesting In The Sand Of This Day (…..'Til You Are Free….)\n",
      "Failed requesting Elsewhere Now Than Waving\n",
      "Failed requesting Pasha\n",
      "Failed requesting Seven Door #3\n",
      "Failed requesting The Entire Wish Spent Timing\n",
      "Failed requesting Trip Over God\n",
      "Failed requesting Dr. 8 The Bird You Sang\n",
      "Failed requesting Acosay Phodei Mojo\n"
     ]
    },
    {
     "name": "stderr",
     "output_type": "stream",
     "text": [
      "Processing David Torn_tracks.parquet:  69%|██████▉   | 89/129 [00:02<00:01, 35.15it/s]"
     ]
    },
    {
     "name": "stdout",
     "output_type": "stream",
     "text": [
      "Failed requesting Bust My Ass for Thinking\n",
      "Failed requesting Shofar\n",
      "Failed requesting Rollin’ And Tumblin’\n",
      "Failed requesting How Could I\n",
      "Failed requesting What Was Once...\n",
      "Failed requesting Thought of Many Georges\n",
      "Failed requesting And Well I Found No Bottom\n",
      "Failed requesting Time Bomb\n"
     ]
    },
    {
     "name": "stderr",
     "output_type": "stream",
     "text": [
      "Processing David Torn_tracks.parquet:  75%|███████▌  | 97/129 [00:02<00:00, 34.54it/s]"
     ]
    },
    {
     "name": "stdout",
     "output_type": "stream",
     "text": [
      "Failed requesting Lion of Boaz\n",
      "Failed requesting Voodoo Chile\n",
      "Failed requesting The Others\n",
      "Failed requesting Good Morning, Mr. Wonderful\n",
      "Failed requesting Diamond Mansions\n",
      "Failed requesting Brave Light of Sun\n",
      "Failed requesting Promise\n",
      "Failed requesting Taste of Roses\n"
     ]
    },
    {
     "name": "stderr",
     "output_type": "stream",
     "text": [
      "Processing David Torn_tracks.parquet:  81%|████████▏ | 105/129 [00:03<00:00, 35.03it/s]"
     ]
    },
    {
     "name": "stdout",
     "output_type": "stream",
     "text": [
      "Failed requesting Door X\n",
      "Failed requesting Honey Sweating\n",
      "Failed requesting Palms for Lester\n",
      "Failed requesting Open Letter To The Heart Of Diaphora\n",
      "Failed requesting Bandaged by Dreams\n",
      "Failed requesting Warrior Horsemen of the Spirit Thundering Over Hills of Doubt to a Place of Hope\n",
      "Failed requesting Snail Hair Dune\n",
      "Failed requesting This is the Abduction Scene\n"
     ]
    },
    {
     "name": "stderr",
     "output_type": "stream",
     "text": [
      "Processing David Torn_tracks.parquet:  85%|████████▌ | 110/129 [00:03<00:00, 31.31it/s]"
     ]
    },
    {
     "name": "stdout",
     "output_type": "stream",
     "text": [
      "Failed requesting Red Sleep\n",
      "Failed requesting Res Majuko\n",
      "Failed requesting City of the Dead\n",
      "Failed requesting Suyafhu Skin... Snapping The Hollow Reed\n",
      "Failed requesting The Mercury Grid\n",
      "Failed requesting 3 Minutes Of Pure Entertainment\n"
     ]
    },
    {
     "name": "stderr",
     "output_type": "stream",
     "text": [
      "Processing David Torn_tracks.parquet:  91%|█████████▏| 118/129 [00:03<00:00, 27.78it/s]"
     ]
    },
    {
     "name": "stdout",
     "output_type": "stream",
     "text": [
      "Failed requesting Previous Man\n",
      "Failed requesting Network Of Sparks: The Delicate Code\n",
      "Failed requesting Network Of Sparks: Egg Learns To Walk... Suyafhu Seal\n",
      "Failed requesting Before The Bitter Wind\n",
      "Failed requesting Best Laid Plans\n"
     ]
    },
    {
     "name": "stderr",
     "output_type": "stream",
     "text": [
      "Processing David Torn_tracks.parquet:  95%|█████████▌| 123/129 [00:03<00:00, 30.82it/s]"
     ]
    },
    {
     "name": "stdout",
     "output_type": "stream",
     "text": [
      "Failed requesting The Hum Of Its Parts\n",
      "Failed requesting Removable Tongue\n",
      "Failed requesting In The Fifth Direction\n",
      "Failed requesting Two-Face Flash\n",
      "Failed requesting Angle Of Incidents\n",
      "Failed requesting And Then There Were No Words…\n",
      "Failed requesting Silva Ignis\n",
      "Failed requesting Ave Maria\n"
     ]
    },
    {
     "name": "stderr",
     "output_type": "stream",
     "text": [
      "Processing David Torn_tracks.parquet: 100%|██████████| 129/129 [00:04<00:00, 30.05it/s]\n",
      "Processing David Wilcox_tracks.parquet:   0%|          | 0/249 [00:00<?, ?it/s]"
     ]
    },
    {
     "name": "stdout",
     "output_type": "stream",
     "text": [
      "Failed requesting O ignee Spiritus\n",
      "Failed requesting O Vis Eternitatis - Kodomo Remix\n",
      "Failed requesting Nunc Aperuit\n",
      "Failed requesting We Make the Way By Walking\n",
      "Failed requesting It's Alright\n",
      "Failed requesting Chain of Anger\n",
      "Failed requesting Land a Man On Earth\n"
     ]
    },
    {
     "name": "stderr",
     "output_type": "stream",
     "text": [
      "Processing David Wilcox_tracks.parquet:   3%|▎         | 8/249 [00:00<00:06, 35.13it/s]"
     ]
    },
    {
     "name": "stdout",
     "output_type": "stream",
     "text": [
      "Failed requesting He Saw the Water\n",
      "Failed requesting Everything I Think I Know, I Think\n",
      "Failed requesting The View From the Edge\n",
      "Failed requesting Santiago\n",
      "Failed requesting Forest Fire\n",
      "Failed requesting Helicopter\n",
      "Failed requesting One Fine Day\n",
      "Failed requesting Secret Well\n"
     ]
    },
    {
     "name": "stderr",
     "output_type": "stream",
     "text": [
      "Processing David Wilcox_tracks.parquet:   6%|▋         | 16/249 [00:00<00:07, 33.09it/s]"
     ]
    },
    {
     "name": "stdout",
     "output_type": "stream",
     "text": [
      "Failed requesting Infinity Pool\n",
      "Failed requesting Oil Talking to Ya\n",
      "Failed requesting Ocean Soul\n",
      "Failed requesting Tip of My Tongue\n",
      "Failed requesting We Came to Ride the Road\n",
      "Failed requesting Guilty by Degree\n",
      "Failed requesting Bail My Boat\n"
     ]
    },
    {
     "name": "stderr",
     "output_type": "stream",
     "text": [
      "Processing David Wilcox_tracks.parquet:  10%|▉         | 24/249 [00:00<00:06, 33.07it/s]"
     ]
    },
    {
     "name": "stdout",
     "output_type": "stream",
     "text": [
      "Failed requesting Drift\n",
      "Failed requesting It’ll Work on You\n",
      "Failed requesting Don’t Look Back\n",
      "Failed requesting The Sacrifice\n",
      "Failed requesting Single Candle\n",
      "Failed requesting End of the World (Again)\n",
      "Failed requesting Shark Man\n"
     ]
    },
    {
     "name": "stderr",
     "output_type": "stream",
     "text": [
      "Processing David Wilcox_tracks.parquet:  13%|█▎        | 32/249 [00:00<00:06, 32.66it/s]"
     ]
    },
    {
     "name": "stdout",
     "output_type": "stream",
     "text": [
      "Failed requesting Cast Off\n",
      "Failed requesting Dynamite in the Distance\n",
      "Failed requesting One Way to Find Out\n",
      "Failed requesting Little Fish\n",
      "Failed requesting Ireland\n",
      "Failed requesting Reverie\n",
      "Failed requesting Buster\n"
     ]
    },
    {
     "name": "stderr",
     "output_type": "stream",
     "text": [
      "Processing David Wilcox_tracks.parquet:  14%|█▍        | 36/249 [00:01<00:06, 32.73it/s]"
     ]
    },
    {
     "name": "stdout",
     "output_type": "stream",
     "text": [
      "Failed requesting Stones of Jerusalem\n",
      "Failed requesting Piece of Me\n",
      "Failed requesting We Call It Freedom\n",
      "Failed requesting Let the Wave Say\n",
      "Failed requesting Angeline\n",
      "Failed requesting Dream Again\n"
     ]
    },
    {
     "name": "stderr",
     "output_type": "stream",
     "text": [
      "Processing David Wilcox_tracks.parquet:  18%|█▊        | 44/249 [00:01<00:06, 30.76it/s]"
     ]
    },
    {
     "name": "stdout",
     "output_type": "stream",
     "text": [
      "Failed requesting Red Eye\n",
      "Failed requesting Open Hand\n",
      "Failed requesting How Long\n",
      "Failed requesting Winter at the Shore\n",
      "Failed requesting Modern World\n",
      "Failed requesting Outside Door\n",
      "Failed requesting Vow of Silence\n"
     ]
    },
    {
     "name": "stderr",
     "output_type": "stream",
     "text": [
      "Processing David Wilcox_tracks.parquet:  19%|█▉        | 48/249 [00:01<00:07, 25.98it/s]"
     ]
    },
    {
     "name": "stdout",
     "output_type": "stream",
     "text": [
      "Failed requesting Captain Wanker\n",
      "Failed requesting Beyond Belief\n",
      "Failed requesting Not from Here\n",
      "Failed requesting River Run Dry\n",
      "Failed requesting Right on Time\n"
     ]
    },
    {
     "name": "stderr",
     "output_type": "stream",
     "text": [
      "Processing David Wilcox_tracks.parquet:  22%|██▏       | 56/249 [00:01<00:06, 28.70it/s]"
     ]
    },
    {
     "name": "stdout",
     "output_type": "stream",
     "text": [
      "Failed requesting Forever Now\n",
      "Failed requesting Perfect Storm\n",
      "Failed requesting Three Brothers\n",
      "Failed requesting Plain View\n",
      "Failed requesting The Reason\n",
      "Failed requesting Reaper Sweepstakes\n",
      "Failed requesting Falling for It\n"
     ]
    },
    {
     "name": "stderr",
     "output_type": "stream",
     "text": [
      "Processing David Wilcox_tracks.parquet:  25%|██▌       | 63/249 [00:02<00:09, 19.78it/s]"
     ]
    },
    {
     "name": "stdout",
     "output_type": "stream",
     "text": [
      "Failed requesting To Love\n",
      "Failed requesting Little White Lie\n",
      "Failed requesting This Old Car\n",
      "Failed requesting Never Change\n",
      "Failed requesting No Telling Where\n",
      "Failed requesting The Crossings\n",
      "Failed requesting What You Whispered\n"
     ]
    },
    {
     "name": "stderr",
     "output_type": "stream",
     "text": [
      "Processing David Wilcox_tracks.parquet:  28%|██▊       | 70/249 [00:02<00:07, 23.48it/s]"
     ]
    },
    {
     "name": "stdout",
     "output_type": "stream",
     "text": [
      "Failed requesting Never Enough\n",
      "Failed requesting This Tattoo\n",
      "Failed requesting Guitar Shopping\n",
      "Failed requesting Soul Song\n",
      "Failed requesting Down Here\n",
      "Failed requesting Start With The Ending\n",
      "Failed requesting Rule Number One\n"
     ]
    },
    {
     "name": "stderr",
     "output_type": "stream",
     "text": [
      "Processing David Wilcox_tracks.parquet:  31%|███▏      | 78/249 [00:02<00:06, 27.86it/s]"
     ]
    },
    {
     "name": "stdout",
     "output_type": "stream",
     "text": [
      "Failed requesting Deeper Still\n",
      "Failed requesting The Inside Of My Head\n",
      "Failed requesting Get On\n",
      "Failed requesting Party of One\n",
      "Failed requesting Into One\n",
      "Failed requesting Same Shaker\n",
      "Failed requesting Vista\n"
     ]
    },
    {
     "name": "stderr",
     "output_type": "stream",
     "text": [
      "Processing David Wilcox_tracks.parquet:  35%|███▍      | 86/249 [00:03<00:05, 30.45it/s]"
     ]
    },
    {
     "name": "stdout",
     "output_type": "stream",
     "text": [
      "Failed requesting Wilford Brandon Hayes\n",
      "Failed requesting No Doubt About It\n",
      "Failed requesting Good Man\n",
      "Failed requesting Hard Part\n",
      "Failed requesting Let It Go\n",
      "Failed requesting Grateful for Her Beauty\n",
      "Failed requesting Miracle\n",
      "Failed requesting Everywhere\n"
     ]
    },
    {
     "name": "stderr",
     "output_type": "stream",
     "text": [
      "Processing David Wilcox_tracks.parquet:  36%|███▌      | 90/249 [00:03<00:05, 29.14it/s]"
     ]
    },
    {
     "name": "stdout",
     "output_type": "stream",
     "text": [
      "Failed requesting Coming Alive\n",
      "Failed requesting Great Big World\n",
      "Failed requesting How Did the Rose Ever Open\n",
      "Failed requesting The Breeze at Dawn\n",
      "Failed requesting Slicing Potatoes\n",
      "Failed requesting On a Day When the Wind Is Perfect\n",
      "Failed requesting Absolutely Clear\n"
     ]
    },
    {
     "name": "stderr",
     "output_type": "stream",
     "text": [
      "Processing David Wilcox_tracks.parquet:  39%|███▉      | 98/249 [00:03<00:04, 31.74it/s]"
     ]
    },
    {
     "name": "stdout",
     "output_type": "stream",
     "text": [
      "Failed requesting No One Knows His Name\n",
      "Failed requesting Some Seeds\n",
      "Failed requesting Farsi Intro\n",
      "Failed requesting Out Beyond Ideas\n",
      "Failed requesting You Who Knew Me\n",
      "Failed requesting Elephant Story\n",
      "Failed requesting Midnight\n"
     ]
    },
    {
     "name": "stderr",
     "output_type": "stream",
     "text": [
      "Processing David Wilcox_tracks.parquet:  43%|████▎     | 106/249 [00:03<00:04, 32.31it/s]"
     ]
    },
    {
     "name": "stdout",
     "output_type": "stream",
     "text": [
      "Failed requesting This We Have Now\n",
      "Failed requesting Trembling with Joy\n",
      "Failed requesting Shell Trick\n",
      "Failed requesting Three Things\n",
      "Failed requesting Awake My Dear\n",
      "Failed requesting Blow 'Em Away\n",
      "Failed requesting Johnny's Camaro\n"
     ]
    },
    {
     "name": "stderr",
     "output_type": "stream",
     "text": [
      "Processing David Wilcox_tracks.parquet:  46%|████▌     | 114/249 [00:03<00:04, 33.33it/s]"
     ]
    },
    {
     "name": "stdout",
     "output_type": "stream",
     "text": [
      "Failed requesting East Asheville Hardware\n",
      "Failed requesting Top of My Head\n",
      "Failed requesting Dangerous\n",
      "Failed requesting Roadside Art\n",
      "Failed requesting You Should See the Way It Feels\n",
      "Failed requesting Cold\n",
      "Failed requesting Catch Me If I Try\n"
     ]
    },
    {
     "name": "stderr",
     "output_type": "stream",
     "text": [
      "Processing David Wilcox_tracks.parquet:  47%|████▋     | 118/249 [00:04<00:04, 31.40it/s]"
     ]
    },
    {
     "name": "stdout",
     "output_type": "stream",
     "text": [
      "Failed requesting Down Inside Myself\n",
      "Failed requesting For Real\n",
      "Failed requesting Mango Story\n",
      "Failed requesting Mango\n",
      "Failed requesting Levi Blues\n",
      "Failed requesting Carpenter Story\n"
     ]
    },
    {
     "name": "stderr",
     "output_type": "stream",
     "text": [
      "Processing David Wilcox_tracks.parquet:  51%|█████     | 126/249 [00:04<00:03, 32.84it/s]"
     ]
    },
    {
     "name": "stdout",
     "output_type": "stream",
     "text": [
      "Failed requesting Fearless Love\n",
      "Failed requesting Boob Job\n",
      "Failed requesting Barbie\n",
      "Failed requesting After Your Orgasm\n",
      "Failed requesting Golden Day\n",
      "Failed requesting If It Wasn't for the Night\n",
      "Failed requesting Rise\n",
      "Failed requesting Last One Gone\n"
     ]
    },
    {
     "name": "stderr",
     "output_type": "stream",
     "text": [
      "Processing David Wilcox_tracks.parquet:  54%|█████▍    | 134/249 [00:04<00:03, 32.26it/s]"
     ]
    },
    {
     "name": "stdout",
     "output_type": "stream",
     "text": [
      "Failed requesting Out of the Question\n",
      "Failed requesting In This Stream\n",
      "Failed requesting Radio Men\n",
      "Failed requesting On to the Next\n",
      "Failed requesting City of Dreams\n",
      "Failed requesting Apple a Day\n",
      "Failed requesting Blue Horizon\n"
     ]
    },
    {
     "name": "stderr",
     "output_type": "stream",
     "text": [
      "Processing David Wilcox_tracks.parquet:  57%|█████▋    | 142/249 [00:04<00:03, 32.25it/s]"
     ]
    },
    {
     "name": "stdout",
     "output_type": "stream",
     "text": [
      "Failed requesting Ask for More\n",
      "Failed requesting Native Tounge\n",
      "Failed requesting Fall Away\n",
      "Failed requesting Rusty Old American Dream - Live\n",
      "Failed requesting The Terminal Tavern - Live\n",
      "Failed requesting Show the Way - Live\n",
      "Failed requesting Impact - Live\n",
      "Failed requesting Eye of the Hurricane - Live\n"
     ]
    },
    {
     "name": "stderr",
     "output_type": "stream",
     "text": [
      "Processing David Wilcox_tracks.parquet:  60%|██████    | 150/249 [00:05<00:02, 33.62it/s]"
     ]
    },
    {
     "name": "stdout",
     "output_type": "stream",
     "text": [
      "Failed requesting Two Roads Diverge - Live\n",
      "Failed requesting Hold It up to the Light - Live\n",
      "Failed requesting Waffle House - Live\n",
      "Failed requesting Start With the Ending - Live\n",
      "Failed requesting Get It out of the Way - Live\n",
      "Failed requesting Moe - Live\n",
      "Failed requesting Shiny Ride - Live\n"
     ]
    },
    {
     "name": "stderr",
     "output_type": "stream",
     "text": [
      "Processing David Wilcox_tracks.parquet:  63%|██████▎   | 158/249 [00:05<00:02, 35.33it/s]"
     ]
    },
    {
     "name": "stdout",
     "output_type": "stream",
     "text": [
      "Failed requesting Spin - Live\n",
      "Failed requesting No Far Away - Live\n",
      "Failed requesting Travelling Companion - Live\n",
      "Failed requesting Words Alone - Live\n",
      "Failed requesting Appreciating the Differences - Live\n",
      "Failed requesting Good Together - Live\n",
      "Failed requesting Metaphorical Reasons - Live\n",
      "Failed requesting That's What the Lonely Is For - Live\n"
     ]
    },
    {
     "name": "stderr",
     "output_type": "stream",
     "text": [
      "Processing David Wilcox_tracks.parquet:  65%|██████▌   | 162/249 [00:05<00:02, 35.07it/s]"
     ]
    },
    {
     "name": "stdout",
     "output_type": "stream",
     "text": [
      "Failed requesting What You Whispered\n",
      "Failed requesting This Tattoo\n",
      "Failed requesting Deeper Still\n",
      "Failed requesting Start With The Ending\n",
      "Failed requesting In The Broken Places\n",
      "Failed requesting The Inside Of My Head\n",
      "Failed requesting The Whisper Of The Wheels\n"
     ]
    },
    {
     "name": "stderr",
     "output_type": "stream",
     "text": [
      "Processing David Wilcox_tracks.parquet:  68%|██████▊   | 170/249 [00:05<00:02, 34.83it/s]"
     ]
    },
    {
     "name": "stdout",
     "output_type": "stream",
     "text": [
      "Failed requesting On Your Way Back Down\n",
      "Failed requesting Rule Number One\n",
      "Failed requesting When You're Ready\n",
      "Failed requesting Step Into Your Skin\n",
      "Failed requesting Guitar Shopping\n",
      "Failed requesting Soul Song\n"
     ]
    },
    {
     "name": "stderr",
     "output_type": "stream",
     "text": [
      "Processing David Wilcox_tracks.parquet:  71%|███████▏  | 178/249 [00:05<00:02, 32.06it/s]"
     ]
    },
    {
     "name": "stdout",
     "output_type": "stream",
     "text": [
      "Failed requesting Underneath\n",
      "Failed requesting Never Enough\n",
      "Failed requesting Down Here\n",
      "Failed requesting Spirit Wind\n",
      "Failed requesting Prisoner Of War\n",
      "Failed requesting Hometown\n",
      "Failed requesting All My Life\n",
      "Failed requesting Guilty Either Way\n"
     ]
    },
    {
     "name": "stderr",
     "output_type": "stream",
     "text": [
      "Processing David Wilcox_tracks.parquet:  75%|███████▍  | 186/249 [00:06<00:01, 32.92it/s]"
     ]
    },
    {
     "name": "stdout",
     "output_type": "stream",
     "text": [
      "Failed requesting Leaving You\n",
      "Failed requesting Young Man Dies\n",
      "Failed requesting Slipping Through My Fist\n",
      "Failed requesting Home Within Your Heart\n",
      "Failed requesting Sex And Music\n",
      "Failed requesting Show Me the Key\n",
      "Failed requesting Silent Prayer\n"
     ]
    },
    {
     "name": "stderr",
     "output_type": "stream",
     "text": [
      "Processing David Wilcox_tracks.parquet:  76%|███████▋  | 190/249 [00:06<00:01, 31.31it/s]"
     ]
    },
    {
     "name": "stdout",
     "output_type": "stream",
     "text": [
      "Failed requesting Western Ridge\n",
      "Failed requesting Glory\n",
      "Failed requesting Kindness\n",
      "Failed requesting Spin\n",
      "Failed requesting Tattered Old Kite\n",
      "Failed requesting Right Now\n"
     ]
    },
    {
     "name": "stderr",
     "output_type": "stream",
     "text": [
      "Processing David Wilcox_tracks.parquet:  80%|███████▉  | 198/249 [00:06<00:01, 32.05it/s]"
     ]
    },
    {
     "name": "stdout",
     "output_type": "stream",
     "text": [
      "Failed requesting Human Cannonball\n",
      "Failed requesting Secret Church\n",
      "Failed requesting Turning Point\n",
      "Failed requesting Waffle House\n",
      "Failed requesting New World\n",
      "Failed requesting Someday Soon\n",
      "Failed requesting That's What The Lonely Is For\n",
      "Failed requesting Show The Way\n"
     ]
    },
    {
     "name": "stderr",
     "output_type": "stream",
     "text": [
      "Processing David Wilcox_tracks.parquet:  83%|████████▎ | 206/249 [00:06<00:01, 33.11it/s]"
     ]
    },
    {
     "name": "stdout",
     "output_type": "stream",
     "text": [
      "Failed requesting Block Dog\n",
      "Failed requesting Break In The Cup\n",
      "Failed requesting It's The Same Old Song\n",
      "Failed requesting Farthest Shore\n",
      "Failed requesting Strong Chemistry\n",
      "Failed requesting Make It Look Easy\n",
      "Failed requesting Please Don't Call\n"
     ]
    },
    {
     "name": "stderr",
     "output_type": "stream",
     "text": [
      "Processing David Wilcox_tracks.parquet:  86%|████████▌ | 214/249 [00:07<00:01, 30.70it/s]"
     ]
    },
    {
     "name": "stdout",
     "output_type": "stream",
     "text": [
      "Failed requesting Big Mistake\n",
      "Failed requesting All The Roots Grow Deeper When It's Dry\n",
      "Failed requesting Hold It Up To The Light\n",
      "Failed requesting Missing You\n",
      "Failed requesting Burgundy Heart Shaped Medallion\n",
      "Failed requesting Farther To Fall\n",
      "Failed requesting Wildberry Pie\n"
     ]
    },
    {
     "name": "stderr",
     "output_type": "stream",
     "text": [
      "Processing David Wilcox_tracks.parquet:  91%|█████████ | 226/249 [00:18<00:16,  1.41it/s]"
     ]
    },
    {
     "name": "stdout",
     "output_type": "stream",
     "text": [
      "Failed requesting Language Of The Heart\n",
      "Failed requesting Rusty Old American Dream\n",
      "Failed requesting How Did You Find Me Here\n"
     ]
    },
    {
     "name": "stderr",
     "output_type": "stream",
     "text": [
      "Processing David Wilcox_tracks.parquet:  95%|█████████▍| 236/249 [00:25<00:11,  1.11it/s]"
     ]
    },
    {
     "name": "stdout",
     "output_type": "stream",
     "text": [
      "Failed requesting Nightshift Watchman\n"
     ]
    },
    {
     "name": "stderr",
     "output_type": "stream",
     "text": [
      "Processing David Wilcox_tracks.parquet: 100%|██████████| 249/249 [00:36<00:00,  6.86it/s]\n",
      "Processing David Wolfenberger_tracks.parquet:   0%|          | 0/73 [00:00<?, ?it/s]"
     ]
    },
    {
     "name": "stdout",
     "output_type": "stream",
     "text": [
      "Failed requesting Rest in Peace\n",
      "Failed requesting Killings Caught on Camera\n"
     ]
    },
    {
     "name": "stderr",
     "output_type": "stream",
     "text": [
      "Processing David Wolfenberger_tracks.parquet:   4%|▍         | 3/73 [00:00<00:02, 27.35it/s]"
     ]
    },
    {
     "name": "stdout",
     "output_type": "stream",
     "text": [
      "Failed requesting Ferris Wheel\n",
      "Failed requesting Halfway To Lonely\n",
      "Failed requesting Son Of Oserreich\n",
      "Failed requesting On The Road To Damascus\n",
      "Failed requesting Freezin' Walt Disney Blues\n",
      "Failed requesting Something's Gotta Give\n"
     ]
    },
    {
     "name": "stderr",
     "output_type": "stream",
     "text": [
      "Processing David Wolfenberger_tracks.parquet:  14%|█▎        | 10/73 [00:00<00:02, 27.68it/s]"
     ]
    },
    {
     "name": "stdout",
     "output_type": "stream",
     "text": [
      "Failed requesting Custer's Last Stand\n",
      "Failed requesting Something's Gotta Give\n",
      "Failed requesting Freezin' Walt Disney Blues\n",
      "Failed requesting Inconsolably Overjoyed\n",
      "Failed requesting Parking Lot Martyrs\n",
      "Failed requesting Vespa Girl\n",
      "Failed requesting See The Evening Star\n"
     ]
    },
    {
     "name": "stderr",
     "output_type": "stream",
     "text": [
      "Processing David Wolfenberger_tracks.parquet:  25%|██▍       | 18/73 [00:00<00:01, 31.14it/s]"
     ]
    },
    {
     "name": "stdout",
     "output_type": "stream",
     "text": [
      "Failed requesting Cicada Summer\n",
      "Failed requesting Ferris Wheel\n",
      "Failed requesting Portrait Of Narcissus\n",
      "Failed requesting The Wreck Election\n",
      "Failed requesting When Everything Is Over\n",
      "Failed requesting Sad, Lonely Rotten World\n",
      "Failed requesting Intro: Garrison's Gears\n",
      "Failed requesting Bury Me At Ivesdale\n"
     ]
    },
    {
     "name": "stderr",
     "output_type": "stream",
     "text": [
      "Processing David Wolfenberger_tracks.parquet:  36%|███▌      | 26/73 [00:00<00:01, 31.99it/s]"
     ]
    },
    {
     "name": "stdout",
     "output_type": "stream",
     "text": [
      "Failed requesting Halfway 'Round The World\n",
      "Failed requesting Rainy Weather\n",
      "Failed requesting You and Me and I Am\n",
      "Failed requesting 'Til April's Gone\n",
      "Failed requesting Intermission: Garrison's Gears\n",
      "Failed requesting The Blad It Cuts Both Ways\n",
      "Failed requesting Mi Amore\n"
     ]
    },
    {
     "name": "stderr",
     "output_type": "stream",
     "text": [
      "Processing David Wolfenberger_tracks.parquet:  47%|████▋     | 34/73 [00:01<00:01, 32.03it/s]"
     ]
    },
    {
     "name": "stdout",
     "output_type": "stream",
     "text": [
      "Failed requesting Paul\n",
      "Failed requesting Fairfax Girl (The Price of Life)\n",
      "Failed requesting Stealin' The Lines\n",
      "Failed requesting From A Field, July, 1975\n",
      "Failed requesting Thunderstorm\n",
      "Failed requesting Windmills\n",
      "Failed requesting Son Of Osterreich\n"
     ]
    },
    {
     "name": "stderr",
     "output_type": "stream",
     "text": [
      "Processing David Wolfenberger_tracks.parquet:  58%|█████▊    | 42/73 [00:01<00:00, 32.50it/s]"
     ]
    },
    {
     "name": "stdout",
     "output_type": "stream",
     "text": [
      "Failed requesting Avebury Circle\n",
      "Failed requesting Tentatively Vince Foster\n",
      "Failed requesting Notes From The Vault\n",
      "Failed requesting From Now On\n",
      "Failed requesting Apocalyptic Dream #13\n",
      "Failed requesting Goin' To Boston\n",
      "Failed requesting Custer's Last Stand\n",
      "Failed requesting Closing My Eyes\n"
     ]
    },
    {
     "name": "stderr",
     "output_type": "stream",
     "text": [
      "Processing David Wolfenberger_tracks.parquet:  63%|██████▎   | 46/73 [00:01<00:00, 32.28it/s]"
     ]
    },
    {
     "name": "stdout",
     "output_type": "stream",
     "text": [
      "Failed requesting Apocalyptic Dream #6\n",
      "Failed requesting From Now On (Reprise)\n",
      "Failed requesting Psalm 16 (In You I Have My Portion)\n",
      "Failed requesting I Took a Walk Through Snowy Wood\n",
      "Failed requesting Joy To The World\n",
      "Failed requesting We'll Be Waiting\n"
     ]
    },
    {
     "name": "stderr",
     "output_type": "stream",
     "text": [
      "Processing David Wolfenberger_tracks.parquet:  74%|███████▍  | 54/73 [00:01<00:00, 32.43it/s]"
     ]
    },
    {
     "name": "stdout",
     "output_type": "stream",
     "text": [
      "Failed requesting Oh Holy Night\n",
      "Failed requesting Twelfth Night\n",
      "Failed requesting God Rest You Merry, Gentlemen\n",
      "Failed requesting Silent Night\n",
      "Failed requesting Vespa Girl\n",
      "Failed requesting Something's Gotta Give\n",
      "Failed requesting Night of San Lorenzo\n"
     ]
    },
    {
     "name": "stderr",
     "output_type": "stream",
     "text": [
      "Processing David Wolfenberger_tracks.parquet:  85%|████████▍ | 62/73 [00:01<00:00, 31.36it/s]"
     ]
    },
    {
     "name": "stdout",
     "output_type": "stream",
     "text": [
      "Failed requesting Carey Me Home\n",
      "Failed requesting Inventor of Worlds\n",
      "Failed requesting Turquoise and Yellow\n",
      "Failed requesting Mumtaz (The Rising Sun)\n",
      "Failed requesting Eye\n",
      "Failed requesting Cold Virginia Mist\n",
      "Failed requesting Heaven on Earth\n"
     ]
    },
    {
     "name": "stderr",
     "output_type": "stream",
     "text": [
      "Processing David Wolfenberger_tracks.parquet:  96%|█████████▌| 70/73 [00:02<00:00, 33.90it/s]"
     ]
    },
    {
     "name": "stdout",
     "output_type": "stream",
     "text": [
      "Failed requesting Concrete Dog\n",
      "Failed requesting Half-Life\n",
      "Failed requesting Ready and Red-Eye\n",
      "Failed requesting Of Future Partridge Families (Back of the Bus)\n",
      "Failed requesting Oh Lord\n",
      "Failed requesting Mexican Queen\n",
      "Failed requesting So Much Sin\n",
      "Failed requesting Hard Alcohol\n",
      "Failed requesting Til Morning Comes\n"
     ]
    },
    {
     "name": "stderr",
     "output_type": "stream",
     "text": [
      "Processing David Wolfenberger_tracks.parquet: 100%|██████████| 73/73 [00:02<00:00, 31.89it/s]\n",
      "Processing David Yazbek_tracks.parquet:   3%|▎         | 4/157 [00:00<00:04, 37.11it/s]"
     ]
    },
    {
     "name": "stdout",
     "output_type": "stream",
     "text": [
      "Failed requesting Sunny Pasture\n",
      "Failed requesting Overture\n",
      "Failed requesting Waiting\n",
      "Failed requesting Welcome to Nowhere\n",
      "Failed requesting It Is What It Is\n",
      "Failed requesting The Beat of Your Heart\n",
      "Failed requesting Soraya\n",
      "Failed requesting Omar Sharif\n"
     ]
    },
    {
     "name": "stderr",
     "output_type": "stream",
     "text": [
      "Processing David Yazbek_tracks.parquet:   8%|▊         | 12/157 [00:00<00:03, 38.74it/s]"
     ]
    },
    {
     "name": "stdout",
     "output_type": "stream",
     "text": [
      "Failed requesting Haj-Butrus\n",
      "Failed requesting Papi Hears the Ocean\n",
      "Failed requesting Haled's Song About Love\n",
      "Failed requesting The Park\n",
      "Failed requesting Itgara'a\n",
      "Failed requesting Something Different\n",
      "Failed requesting Itzik's Lullaby\n",
      "Failed requesting Something Different (Reprise)\n",
      "Failed requesting Answer Me\n"
     ]
    },
    {
     "name": "stderr",
     "output_type": "stream",
     "text": [
      "Processing David Yazbek_tracks.parquet:  13%|█▎        | 21/157 [00:00<00:03, 39.64it/s]"
     ]
    },
    {
     "name": "stdout",
     "output_type": "stream",
     "text": [
      "Failed requesting The Concert\n",
      "Failed requesting Afifi\n",
      "Failed requesting Overture\n",
      "Failed requesting Madrid Is My Mama\n",
      "Failed requesting Lie to Me\n",
      "Failed requesting Lovesick\n",
      "Failed requesting Time Stood Still\n",
      "Failed requesting My Crazy Heart\n",
      "Failed requesting Model Behavior\n"
     ]
    },
    {
     "name": "stderr",
     "output_type": "stream",
     "text": [
      "Processing David Yazbek_tracks.parquet:  20%|█▉        | 31/157 [00:00<00:03, 38.96it/s]"
     ]
    },
    {
     "name": "stdout",
     "output_type": "stream",
     "text": [
      "Failed requesting Island\n",
      "Failed requesting The Microphone\n",
      "Failed requesting On the Verge\n",
      "Failed requesting Entr'acte\n",
      "Failed requesting Mother's Day\n",
      "Failed requesting Yesterday, Tomorrow and Today\n",
      "Failed requesting Tangled\n",
      "Failed requesting Invisible\n"
     ]
    },
    {
     "name": "stderr",
     "output_type": "stream",
     "text": [
      "Processing David Yazbek_tracks.parquet:  25%|██▌       | 40/157 [00:01<00:03, 36.90it/s]"
     ]
    },
    {
     "name": "stdout",
     "output_type": "stream",
     "text": [
      "Failed requesting Island - Reprise\n",
      "Failed requesting Shoes from Heaven\n",
      "Failed requesting My Crazy Heart - Original Show Opening\n",
      "Failed requesting Terrible Thing\n",
      "Failed requesting Monkey Baby Hanging on Chicken Wire\n",
      "Failed requesting A Blustery Wind\n",
      "Failed requesting The Traveler #1 (The Fecund Woods)\n",
      "Failed requesting Never Get Out of This\n"
     ]
    },
    {
     "name": "stderr",
     "output_type": "stream",
     "text": [
      "Processing David Yazbek_tracks.parquet:  31%|███       | 48/157 [00:01<00:03, 35.73it/s]"
     ]
    },
    {
     "name": "stdout",
     "output_type": "stream",
     "text": [
      "Failed requesting That Lucky Old Sun\n",
      "Failed requesting Bazooka Joe\n",
      "Failed requesting The Traveler #2 (He Stomps Rhythms Down to Hell)\n",
      "Failed requesting Steps of Another Man's House\n",
      "Failed requesting It Isn't Fair\n",
      "Failed requesting Eight Evil Men\n",
      "Failed requesting The Traveler #3 (Beside the Antifreeze Pond)\n",
      "Failed requesting Wasted\n"
     ]
    },
    {
     "name": "stderr",
     "output_type": "stream",
     "text": [
      "Processing David Yazbek_tracks.parquet:  33%|███▎      | 52/157 [00:01<00:02, 35.01it/s]"
     ]
    },
    {
     "name": "stdout",
     "output_type": "stream",
     "text": [
      "Failed requesting Industrial Love Song\n",
      "Failed requesting Strange Warm Day\n",
      "Failed requesting Monkey in the Middle\n",
      "Failed requesting Two Crows\n",
      "Failed requesting Muscleman\n",
      "Failed requesting The Wind\n",
      "Failed requesting Here Come the Ducks\n"
     ]
    },
    {
     "name": "stderr",
     "output_type": "stream",
     "text": [
      "Processing David Yazbek_tracks.parquet:  38%|███▊      | 60/157 [00:01<00:02, 33.61it/s]"
     ]
    },
    {
     "name": "stdout",
     "output_type": "stream",
     "text": [
      "Failed requesting Cowgirls Go to Santo Domingo\n",
      "Failed requesting Montgomery, Alabama\n",
      "Failed requesting Schmuck in a Vacuum\n",
      "Failed requesting Never Know\n",
      "Failed requesting Surface Tension\n",
      "Failed requesting Breeze off the River\n",
      "Failed requesting Mississippi Honeymoon\n"
     ]
    },
    {
     "name": "stderr",
     "output_type": "stream",
     "text": [
      "Processing David Yazbek_tracks.parquet:  43%|████▎     | 68/157 [00:01<00:02, 34.96it/s]"
     ]
    },
    {
     "name": "stdout",
     "output_type": "stream",
     "text": [
      "Failed requesting Overture\n",
      "Failed requesting Give Them What They Want\n",
      "Failed requesting What Was a Woman to Do\n",
      "Failed requesting Great Big Stuff\n",
      "Failed requesting Chimp in a Suit\n",
      "Failed requesting Oklahoma?\n",
      "Failed requesting All About Ruprecht\n",
      "Failed requesting Here I Am\n"
     ]
    },
    {
     "name": "stderr",
     "output_type": "stream",
     "text": [
      "Processing David Yazbek_tracks.parquet:  49%|████▉     | 77/157 [00:02<00:02, 37.37it/s]"
     ]
    },
    {
     "name": "stdout",
     "output_type": "stream",
     "text": [
      "Failed requesting Nothing Is Too Wonderful to Be True\n",
      "Failed requesting The Miracle\n",
      "Failed requesting Ruffhousin' Mit Shuffhausen\n",
      "Failed requesting Like Zis / Like Zat\n",
      "Failed requesting The More We Dance\n",
      "Failed requesting Love Is My Legs\n",
      "Failed requesting Love Sneaks In\n",
      "Failed requesting Son of Great Big Stuff\n"
     ]
    },
    {
     "name": "stderr",
     "output_type": "stream",
     "text": [
      "Processing David Yazbek_tracks.parquet:  54%|█████▍    | 85/157 [00:02<00:02, 31.69it/s]"
     ]
    },
    {
     "name": "stdout",
     "output_type": "stream",
     "text": [
      "Failed requesting A Message from John Lithgow\n",
      "Failed requesting The Reckoning\n",
      "Failed requesting Dirty Rotten Number\n",
      "Failed requesting Finale\n",
      "Failed requesting Montgomery, Alabama\n",
      "Failed requesting Strange Warm Day\n",
      "Failed requesting Everything You Want and Then Some\n"
     ]
    },
    {
     "name": "stderr",
     "output_type": "stream",
     "text": [
      "Processing David Yazbek_tracks.parquet:  57%|█████▋    | 89/157 [00:02<00:02, 32.92it/s]"
     ]
    },
    {
     "name": "stdout",
     "output_type": "stream",
     "text": [
      "Failed requesting Ultrasad (Julia's Great Year)\n",
      "Failed requesting The Cowgirls Go to Santo Domingo\n",
      "Failed requesting Two Crows\n",
      "Failed requesting Why Me?\n",
      "Failed requesting Muscleman\n"
     ]
    },
    {
     "name": "stderr",
     "output_type": "stream",
     "text": [
      "Processing David Yazbek_tracks.parquet:  62%|██████▏   | 97/157 [00:02<00:02, 27.87it/s]"
     ]
    },
    {
     "name": "stdout",
     "output_type": "stream",
     "text": [
      "Failed requesting Sandy Koufax\n",
      "Failed requesting A Million Miles\n",
      "Failed requesting Hi Ho\n",
      "Failed requesting Son of a Gun\n",
      "Failed requesting Welcome to My World\n",
      "Failed requesting Black Cowboys on the Beach\n",
      "Failed requesting Monkey in the Middle\n"
     ]
    },
    {
     "name": "stderr",
     "output_type": "stream",
     "text": [
      "Processing David Yazbek_tracks.parquet:  67%|██████▋   | 105/157 [00:03<00:01, 30.44it/s]"
     ]
    },
    {
     "name": "stdout",
     "output_type": "stream",
     "text": [
      "Failed requesting No More\n",
      "Failed requesting Tomorrow\n",
      "Failed requesting Fight the One-Armed Man\n",
      "Failed requesting Only Dreaming\n",
      "Failed requesting Surface Tension\n",
      "Failed requesting Pinnochio's Nose\n",
      "Failed requesting The Wind\n"
     ]
    },
    {
     "name": "stderr",
     "output_type": "stream",
     "text": [
      "Processing David Yazbek_tracks.parquet:  69%|██████▉   | 109/157 [00:03<00:01, 30.31it/s]"
     ]
    },
    {
     "name": "stdout",
     "output_type": "stream",
     "text": [
      "Failed requesting 666\n",
      "Failed requesting Mississippi Honeymoon\n",
      "Failed requesting You'll Still Love Me\n",
      "Failed requesting I Want It Now\n",
      "Failed requesting Schmuck in a Vacuum\n",
      "Failed requesting You Are Here\n",
      "Failed requesting Clean\n"
     ]
    },
    {
     "name": "stderr",
     "output_type": "stream",
     "text": [
      "Processing David Yazbek_tracks.parquet:  75%|███████▍  | 117/157 [00:03<00:01, 31.51it/s]"
     ]
    },
    {
     "name": "stdout",
     "output_type": "stream",
     "text": [
      "Failed requesting In Love with It\n",
      "Failed requesting Dancing Now\n",
      "Failed requesting One Layer Deeper\n",
      "Failed requesting Dig a Hole\n",
      "Failed requesting Never Know (Dogen's Heroes)\n",
      "Failed requesting Tool Calender Girl\n",
      "Failed requesting Here Come the Ducks\n",
      "Failed requesting Where in the World Is Carmen Sandiego? (Acapella Mix)\n"
     ]
    },
    {
     "name": "stderr",
     "output_type": "stream",
     "text": [
      "Processing David Yazbek_tracks.parquet:  80%|███████▉  | 125/157 [00:03<00:00, 33.27it/s]"
     ]
    },
    {
     "name": "stdout",
     "output_type": "stream",
     "text": [
      "Failed requesting Where in the World Is Carmen Sandiego? (Dance Mix)\n",
      "Failed requesting Where in the World Is Carmen Sandiego? (Funk Mix)\n",
      "Failed requesting Where in the World Is Carmen Sandiego? (Karaoke Mix)\n",
      "Failed requesting Where in the World Is Carmen Sandiego? (Instrumental Mix)\n",
      "Failed requesting Where in the World Is Carmen Sandiego? (Rock Mix)\n",
      "Failed requesting Sean Altman Has Done It Again\n",
      "Failed requesting Follow Me to Heaven\n",
      "Failed requesting Know Me\n"
     ]
    },
    {
     "name": "stderr",
     "output_type": "stream",
     "text": [
      "Processing David Yazbek_tracks.parquet:  85%|████████▍ | 133/157 [00:03<00:00, 35.63it/s]"
     ]
    },
    {
     "name": "stdout",
     "output_type": "stream",
     "text": [
      "Failed requesting One Two Buckle My Shoe\n",
      "Failed requesting Then Comes Lonely\n",
      "Failed requesting Posterior Hip Replacement\n",
      "Failed requesting Don't Fall in Love with Me\n",
      "Failed requesting You Suck\n",
      "Failed requesting Trying to Forget You\n",
      "Failed requesting Nighttime Knows\n",
      "Failed requesting David Yazbek Phone Message\n"
     ]
    },
    {
     "name": "stderr",
     "output_type": "stream",
     "text": [
      "Processing David Yazbek_tracks.parquet:  90%|████████▉ | 141/157 [00:04<00:00, 32.35it/s]"
     ]
    },
    {
     "name": "stdout",
     "output_type": "stream",
     "text": [
      "Failed requesting Left\n",
      "Failed requesting Everything Goes Better with Butter\n",
      "Failed requesting Come My Way\n",
      "Failed requesting Ruby Ruby\n",
      "Failed requesting Beautiful Liar\n",
      "Failed requesting Bones Wings & Thighs\n",
      "Failed requesting My Home\n"
     ]
    },
    {
     "name": "stderr",
     "output_type": "stream",
     "text": [
      "Processing David Yazbek_tracks.parquet:  92%|█████████▏| 145/157 [00:04<00:00, 33.09it/s]"
     ]
    },
    {
     "name": "stdout",
     "output_type": "stream",
     "text": [
      "Failed requesting I’d Like to Get to Know You But…\n",
      "Failed requesting Risk the Latter\n",
      "Failed requesting The Bag\n",
      "Failed requesting Bali Lied\n",
      "Failed requesting Immortal Rich\n",
      "Failed requesting Fight The One Armed Man\n"
     ]
    },
    {
     "name": "stderr",
     "output_type": "stream",
     "text": [
      "Processing David Yazbek_tracks.parquet:  97%|█████████▋| 153/157 [00:04<00:00, 31.01it/s]"
     ]
    },
    {
     "name": "stdout",
     "output_type": "stream",
     "text": [
      "Failed requesting God Head Pop\n",
      "Failed requesting Love Her Dearly\n",
      "Failed requesting Ghost Of My Dead Lover\n",
      "Failed requesting Stop That Girl\n",
      "Failed requesting Popular Girl\n",
      "Failed requesting The Love Policeman\n",
      "Failed requesting Bleeding Eyes\n"
     ]
    },
    {
     "name": "stderr",
     "output_type": "stream",
     "text": [
      "Processing David Yazbek_tracks.parquet: 100%|██████████| 157/157 [00:04<00:00, 33.58it/s]\n",
      "Processing David _Fathead_ Newman_tracks.parquet:   2%|▏         | 4/262 [00:00<00:08, 32.01it/s]"
     ]
    },
    {
     "name": "stdout",
     "output_type": "stream",
     "text": [
      "Failed requesting Welcome To My Parlour\n",
      "Failed requesting Unchain My Heart\n",
      "Failed requesting Unchain My Heart\n",
      "Failed requesting Skylark\n",
      "Failed requesting Skylark\n",
      "Failed requesting Skylark\n",
      "Failed requesting Lady Day\n"
     ]
    },
    {
     "name": "stderr",
     "output_type": "stream",
     "text": [
      "Processing David _Fathead_ Newman_tracks.parquet:   5%|▍         | 13/262 [00:00<00:06, 36.31it/s]"
     ]
    },
    {
     "name": "stdout",
     "output_type": "stream",
     "text": [
      "Failed requesting Lady Day\n",
      "Failed requesting Hello There\n",
      "Failed requesting Hello There\n",
      "Failed requesting Cousin Slim\n",
      "Failed requesting Cousin Slim\n",
      "Failed requesting Cousin Slim\n",
      "Failed requesting Summertime\n",
      "Failed requesting Deed I Do\n",
      "Failed requesting Batista's Groove\n"
     ]
    },
    {
     "name": "stderr",
     "output_type": "stream",
     "text": [
      "Processing David _Fathead_ Newman_tracks.parquet:   8%|▊         | 21/262 [00:00<00:06, 36.56it/s]"
     ]
    },
    {
     "name": "stdout",
     "output_type": "stream",
     "text": [
      "Failed requesting Esther's Melody\n",
      "Failed requesting Esther's Melody\n",
      "Failed requesting Esther's Melody\n",
      "Failed requesting When Your Lover Has Gone\n",
      "Failed requesting Congo Chant\n",
      "Failed requesting Congo Chant\n",
      "Failed requesting Congo Chant\n",
      "Failed requesting Night of Nisan\n"
     ]
    },
    {
     "name": "stderr",
     "output_type": "stream",
     "text": [
      "Processing David _Fathead_ Newman_tracks.parquet:  11%|█         | 29/262 [00:00<00:06, 36.87it/s]"
     ]
    },
    {
     "name": "stdout",
     "output_type": "stream",
     "text": [
      "Failed requesting Cellar Groove\n",
      "Failed requesting Lonely Avenue\n",
      "Failed requesting Scufflin'\n",
      "Failed requesting Scufflin'\n",
      "Failed requesting Alto Sauce\n",
      "Failed requesting Alto Sauce\n",
      "Failed requesting Skylark\n",
      "Failed requesting Skylark\n",
      "Failed requesting Skylark\n"
     ]
    },
    {
     "name": "stderr",
     "output_type": "stream",
     "text": [
      "Processing David _Fathead_ Newman_tracks.parquet:  15%|█▍        | 38/262 [00:01<00:05, 38.40it/s]"
     ]
    },
    {
     "name": "stdout",
     "output_type": "stream",
     "text": [
      "Failed requesting Cousin Slim\n",
      "Failed requesting Cousin Slim\n",
      "Failed requesting Cousin Slim\n",
      "Failed requesting Hard Times - Remaster\n",
      "Failed requesting Weird Beard - Remaster\n",
      "Failed requesting Willow Weep for Me - Remaster\n",
      "Failed requesting Bill for Bennie - Remaster\n",
      "Failed requesting Sweet Eyes - Remaster\n"
     ]
    },
    {
     "name": "stderr",
     "output_type": "stream",
     "text": [
      "Processing David _Fathead_ Newman_tracks.parquet:  18%|█▊        | 46/262 [00:01<00:05, 36.47it/s]"
     ]
    },
    {
     "name": "stdout",
     "output_type": "stream",
     "text": [
      "Failed requesting Fathead (Ray Charles Presents David Newman)\n",
      "Failed requesting Mean to Me - Remaster\n",
      "Failed requesting Tin Tin Deo - Remaster\n",
      "Failed requesting Wide Open Spaces (The Sound of Wide Open Spaces)\n",
      "Failed requesting They Can't Take That Away from Me (The Sound of Wide Open Spaces)\n",
      "Failed requesting Some Kinda Mean (The Sound of Wide Open Spaces)\n",
      "Failed requesting What's New? (The Sound of Wide Open Spaces)\n",
      "Failed requesting Figger-Ration (The Sound of Wide Open Spaces)\n"
     ]
    },
    {
     "name": "stderr",
     "output_type": "stream",
     "text": [
      "Processing David _Fathead_ Newman_tracks.parquet:  21%|██        | 54/262 [00:01<00:05, 36.97it/s]"
     ]
    },
    {
     "name": "stdout",
     "output_type": "stream",
     "text": [
      "Failed requesting Batista's Groove (Straight Ahead)\n",
      "Failed requesting Night of Nisan\n",
      "Failed requesting Night of Nisan\n",
      "Failed requesting Night of Nisan\n",
      "Failed requesting Summertime (Straight Ahead)\n",
      "Failed requesting Congo Chant (Straight Ahead)\n",
      "Failed requesting Unchain My Heart (Fathead Comes On)\n",
      "Failed requesting Wide Open Spaces\n"
     ]
    },
    {
     "name": "stderr",
     "output_type": "stream",
     "text": [
      "Processing David _Fathead_ Newman_tracks.parquet:  24%|██▎       | 62/262 [00:01<00:05, 35.59it/s]"
     ]
    },
    {
     "name": "stdout",
     "output_type": "stream",
     "text": [
      "Failed requesting They Can't Take That Away from Me\n",
      "Failed requesting Some Kinda Mean\n",
      "Failed requesting What's New?\n",
      "Failed requesting Figger-Ration\n",
      "Failed requesting New Delhi\n",
      "Failed requesting I Remember You\n",
      "Failed requesting Come Rain or Come Shine\n"
     ]
    },
    {
     "name": "stderr",
     "output_type": "stream",
     "text": [
      "Processing David _Fathead_ Newman_tracks.parquet:  27%|██▋       | 70/262 [00:01<00:05, 35.20it/s]"
     ]
    },
    {
     "name": "stdout",
     "output_type": "stream",
     "text": [
      "Failed requesting Pockets\n",
      "Failed requesting Pavanne\n",
      "Failed requesting Linda Serene\n",
      "Failed requesting Lost Tears\n",
      "Failed requesting Skylark\n",
      "Failed requesting Skylark\n",
      "Failed requesting Skylark\n",
      "Failed requesting Cousin Slim\n"
     ]
    },
    {
     "name": "stderr",
     "output_type": "stream",
     "text": [
      "Processing David _Fathead_ Newman_tracks.parquet:  30%|███       | 79/262 [00:02<00:04, 37.15it/s]"
     ]
    },
    {
     "name": "stdout",
     "output_type": "stream",
     "text": [
      "Failed requesting Cousin Slim\n",
      "Failed requesting Cousin Slim\n",
      "Failed requesting Congo Chant\n",
      "Failed requesting Congo Chant\n",
      "Failed requesting Congo Chant\n",
      "Failed requesting Night of Nisan\n",
      "Failed requesting Night of Nisan\n",
      "Failed requesting Night of Nisan\n"
     ]
    },
    {
     "name": "stderr",
     "output_type": "stream",
     "text": [
      "Processing David _Fathead_ Newman_tracks.parquet:  33%|███▎      | 87/262 [00:02<00:04, 37.72it/s]"
     ]
    },
    {
     "name": "stdout",
     "output_type": "stream",
     "text": [
      "Failed requesting Wide Open Spaces\n",
      "Failed requesting They Can't Take That Away from Me\n",
      "Failed requesting Some Kinda Mean\n",
      "Failed requesting What's New?\n",
      "Failed requesting Figger-ration\n",
      "Failed requesting Batista's Groove\n",
      "Failed requesting Summertime\n",
      "Failed requesting Song for the New Man\n",
      "Failed requesting Them That Got (I Ain't Got Nothing Yet)\n"
     ]
    },
    {
     "name": "stderr",
     "output_type": "stream",
     "text": [
      "Processing David _Fathead_ Newman_tracks.parquet:  36%|███▋      | 95/262 [00:02<00:04, 35.88it/s]"
     ]
    },
    {
     "name": "stdout",
     "output_type": "stream",
     "text": [
      "Failed requesting Willow Weep for Me\n",
      "Failed requesting Unspeakable Times\n",
      "Failed requesting Lonesome Head\n",
      "Failed requesting Naima\n",
      "Failed requesting Pharoah's Gold\n",
      "Failed requesting Asia Beat\n",
      "Failed requesting Georgia on My Mind\n",
      "Failed requesting Shakabu\n"
     ]
    },
    {
     "name": "stderr",
     "output_type": "stream",
     "text": [
      "Processing David _Fathead_ Newman_tracks.parquet:  38%|███▊      | 99/262 [00:02<00:04, 35.34it/s]"
     ]
    },
    {
     "name": "stdout",
     "output_type": "stream",
     "text": [
      "Failed requesting The Blessing\n",
      "Failed requesting It Had to Be You\n",
      "Failed requesting New York State of Mind\n",
      "Failed requesting Little Sonny's Tune\n",
      "Failed requesting Goldfinger\n",
      "Failed requesting Autumn in New York\n"
     ]
    },
    {
     "name": "stderr",
     "output_type": "stream",
     "text": [
      "Processing David _Fathead_ Newman_tracks.parquet:  41%|████      | 107/262 [00:03<00:04, 31.22it/s]"
     ]
    },
    {
     "name": "stdout",
     "output_type": "stream",
     "text": [
      "Failed requesting As Time Goes By\n",
      "Failed requesting Keep the Spirits Singing\n",
      "Failed requesting Unchain My Heart\n",
      "Failed requesting My Full House\n",
      "Failed requesting Fathead\n",
      "Failed requesting Summertime\n",
      "Failed requesting Yesterday\n"
     ]
    },
    {
     "name": "stderr",
     "output_type": "stream",
     "text": [
      "Processing David _Fathead_ Newman_tracks.parquet:  42%|████▏     | 111/262 [00:03<00:04, 32.57it/s]"
     ]
    },
    {
     "name": "stdout",
     "output_type": "stream",
     "text": [
      "Failed requesting Alto Sauce\n",
      "Failed requesting Congo Chant\n",
      "Failed requesting Weird Beard\n",
      "Failed requesting Sweet Eyes\n",
      "Failed requesting Hard Times\n",
      "Failed requesting Willow Weep For Me\n"
     ]
    },
    {
     "name": "stderr",
     "output_type": "stream",
     "text": [
      "Processing David _Fathead_ Newman_tracks.parquet:  45%|████▌     | 119/262 [00:03<00:04, 30.61it/s]"
     ]
    },
    {
     "name": "stdout",
     "output_type": "stream",
     "text": [
      "Failed requesting Chained No More\n",
      "Failed requesting Esther's Melody\n",
      "Failed requesting Night Of Nisan\n",
      "Failed requesting Shiloh\n",
      "Failed requesting Hello There\n",
      "Failed requesting Missy\n",
      "Failed requesting Skylark\n"
     ]
    },
    {
     "name": "stderr",
     "output_type": "stream",
     "text": [
      "Processing David _Fathead_ Newman_tracks.parquet:  48%|████▊     | 126/262 [00:03<00:04, 28.52it/s]"
     ]
    },
    {
     "name": "stdout",
     "output_type": "stream",
     "text": [
      "Failed requesting Unchain My Heart\n",
      "Failed requesting The Thirteenth Floor\n",
      "Failed requesting The Clincher\n",
      "Failed requesting Mean To Me\n",
      "Failed requesting Everything Must Change\n",
      "Failed requesting Mama Lou\n"
     ]
    },
    {
     "name": "stderr",
     "output_type": "stream",
     "text": [
      "Processing David _Fathead_ Newman_tracks.parquet:  51%|█████     | 133/262 [00:03<00:04, 30.43it/s]"
     ]
    },
    {
     "name": "stdout",
     "output_type": "stream",
     "text": [
      "Failed requesting Davey Blue\n",
      "Failed requesting Carnegie Blues\n",
      "Failed requesting Akua Ewie\n",
      "Failed requesting To The Holy Land\n",
      "Failed requesting Shana\n",
      "Failed requesting Blisters\n",
      "Failed requesting One For My Baby (And One More For the Road)\n",
      "Failed requesting To Love Again\n"
     ]
    },
    {
     "name": "stderr",
     "output_type": "stream",
     "text": [
      "Processing David _Fathead_ Newman_tracks.parquet:  54%|█████▍    | 141/262 [00:04<00:03, 33.70it/s]"
     ]
    },
    {
     "name": "stdout",
     "output_type": "stream",
     "text": [
      "Failed requesting Still Hard Times\n",
      "Failed requesting Please Send Me Someone To Love\n",
      "Failed requesting SKJ\n",
      "Failed requesting Someone to Watch over Me\n",
      "Failed requesting As Time Goes By\n",
      "Failed requesting Manha de Carnival\n",
      "Failed requesting Smile\n",
      "Failed requesting Romantic Night\n"
     ]
    },
    {
     "name": "stderr",
     "output_type": "stream",
     "text": [
      "Processing David _Fathead_ Newman_tracks.parquet:  57%|█████▋    | 149/262 [00:04<00:03, 33.44it/s]"
     ]
    },
    {
     "name": "stdout",
     "output_type": "stream",
     "text": [
      "Failed requesting Chelsea Bridge\n",
      "Failed requesting Whispers of Contentment\n",
      "Failed requesting The Blessing\n",
      "Failed requesting Hard Times\n",
      "Failed requesting Weird Beard\n",
      "Failed requesting Willow Weep For Me\n",
      "Failed requesting Bill For Bennie\n"
     ]
    },
    {
     "name": "stderr",
     "output_type": "stream",
     "text": [
      "Processing David _Fathead_ Newman_tracks.parquet:  60%|█████▉    | 157/262 [00:04<00:03, 33.77it/s]"
     ]
    },
    {
     "name": "stdout",
     "output_type": "stream",
     "text": [
      "Failed requesting Sweet Eyes\n",
      "Failed requesting Fathead\n",
      "Failed requesting Mean To Me\n",
      "Failed requesting Tin Tin Deo\n",
      "Failed requesting Diamondhead\n",
      "Failed requesting Can't We Be Friends?\n",
      "Failed requesting New York State of Mind\n",
      "Failed requesting Cedar's Blues\n"
     ]
    },
    {
     "name": "stderr",
     "output_type": "stream",
     "text": [
      "Processing David _Fathead_ Newman_tracks.parquet:  61%|██████▏   | 161/262 [00:04<00:03, 33.65it/s]"
     ]
    },
    {
     "name": "stdout",
     "output_type": "stream",
     "text": [
      "Failed requesting My Full House\n",
      "Failed requesting Skylark\n",
      "Failed requesting Star Eyes\n",
      "Failed requesting Mama-Lou\n",
      "Failed requesting It's You or No One\n"
     ]
    },
    {
     "name": "stderr",
     "output_type": "stream",
     "text": [
      "Processing David _Fathead_ Newman_tracks.parquet:  65%|██████▍   | 170/262 [00:05<00:03, 30.66it/s]"
     ]
    },
    {
     "name": "stdout",
     "output_type": "stream",
     "text": [
      "Failed requesting Esther's Melody\n",
      "Failed requesting Esther's Melody\n",
      "Failed requesting Esther's Melody\n",
      "Failed requesting Congo Chant\n",
      "Failed requesting Congo Chant\n",
      "Failed requesting Congo Chant\n",
      "Failed requesting Night of Nisan\n",
      "Failed requesting Night of Nisan\n",
      "Failed requesting Night of Nisan\n"
     ]
    },
    {
     "name": "stderr",
     "output_type": "stream",
     "text": [
      "Processing David _Fathead_ Newman_tracks.parquet:  68%|██████▊   | 179/262 [00:05<00:02, 33.06it/s]"
     ]
    },
    {
     "name": "stdout",
     "output_type": "stream",
     "text": [
      "Failed requesting Fathead - Remaster\n",
      "Failed requesting The Clincher\n",
      "Failed requesting Yesterday\n",
      "Failed requesting The Thirteenth Floor\n",
      "Failed requesting Chained No More\n",
      "Failed requesting Missy\n",
      "Failed requesting Missy\n"
     ]
    },
    {
     "name": "stderr",
     "output_type": "stream",
     "text": [
      "Processing David _Fathead_ Newman_tracks.parquet:  71%|███████▏  | 187/262 [00:05<00:02, 33.55it/s]"
     ]
    },
    {
     "name": "stdout",
     "output_type": "stream",
     "text": [
      "Failed requesting Shiloh\n",
      "Failed requesting Captain Buckles\n",
      "Failed requesting Pharaoh's Gold\n",
      "Failed requesting Pharaoh's Gold\n",
      "Failed requesting Girl Talk\n",
      "Failed requesting Life\n",
      "Failed requesting Alfie\n",
      "Failed requesting I Can't Get Started\n"
     ]
    },
    {
     "name": "stderr",
     "output_type": "stream",
     "text": [
      "Processing David _Fathead_ Newman_tracks.parquet:  73%|███████▎  | 191/262 [00:05<00:02, 33.31it/s]"
     ]
    },
    {
     "name": "stdout",
     "output_type": "stream",
     "text": [
      "Failed requesting Old Folks\n",
      "Failed requesting Autumn in New York\n",
      "Failed requesting Come Sunday\n",
      "Failed requesting What a Wonderful World\n",
      "Failed requesting Naima\n",
      "Failed requesting Goldfinger\n",
      "Failed requesting Pharoah's Gold\n"
     ]
    },
    {
     "name": "stderr",
     "output_type": "stream",
     "text": [
      "Processing David _Fathead_ Newman_tracks.parquet:  76%|███████▌  | 199/262 [00:05<00:01, 32.78it/s]"
     ]
    },
    {
     "name": "stdout",
     "output_type": "stream",
     "text": [
      "Failed requesting A Flower Is a Lovesome Thing\n",
      "Failed requesting Bu Bop Bass\n",
      "Failed requesting Here Comes Sonny Man\n",
      "Failed requesting It Was a Very Good Year\n",
      "Failed requesting Flankin\n",
      "Failed requesting Sneakin' In\n",
      "Failed requesting Suki Duki\n"
     ]
    },
    {
     "name": "stderr",
     "output_type": "stream",
     "text": [
      "Processing David _Fathead_ Newman_tracks.parquet:  79%|███████▉  | 207/262 [00:06<00:01, 33.35it/s]"
     ]
    },
    {
     "name": "stdout",
     "output_type": "stream",
     "text": [
      "Failed requesting Ain't Misbehavin\n",
      "Failed requesting Makin' Whopee\n",
      "Failed requesting Heads Up\n",
      "Failed requesting Old Folks\n",
      "Failed requesting Delilah\n",
      "Failed requesting Lover Man\n",
      "Failed requesting For Buster\n",
      "Failed requesting New York State of Mind\n"
     ]
    },
    {
     "name": "stderr",
     "output_type": "stream",
     "text": [
      "Processing David _Fathead_ Newman_tracks.parquet:  82%|████████▏ | 216/262 [00:06<00:01, 36.03it/s]"
     ]
    },
    {
     "name": "stdout",
     "output_type": "stream",
     "text": [
      "Failed requesting Unchain My Heart\n",
      "Failed requesting Unchain My Heart\n",
      "Failed requesting Lady Day\n",
      "Failed requesting Lady Day\n",
      "Failed requesting Hello There\n",
      "Failed requesting Hello There\n",
      "Failed requesting Esther's Melody\n",
      "Failed requesting Esther's Melody\n",
      "Failed requesting Esther's Melody\n"
     ]
    },
    {
     "name": "stderr",
     "output_type": "stream",
     "text": [
      "Processing David _Fathead_ Newman_tracks.parquet:  85%|████████▌ | 224/262 [00:06<00:01, 31.84it/s]"
     ]
    },
    {
     "name": "stdout",
     "output_type": "stream",
     "text": [
      "Failed requesting Scufflin'\n",
      "Failed requesting Scufflin'\n",
      "Failed requesting Alto Sauce\n",
      "Failed requesting Alto Sauce\n",
      "Failed requesting Cellar-Groove\n",
      "Failed requesting Old Devil Moon - Live at the Village Vanguard\n"
     ]
    },
    {
     "name": "stderr",
     "output_type": "stream",
     "text": [
      "Processing David _Fathead_ Newman_tracks.parquet:  89%|████████▊ | 232/262 [00:06<00:00, 32.42it/s]"
     ]
    },
    {
     "name": "stdout",
     "output_type": "stream",
     "text": [
      "Failed requesting Chenya - Live at the Village Vanguard\n",
      "Failed requesting Slippin' Down - Live at the Village Vanguard\n",
      "Failed requesting Wide Open Spaces - Live at the Village Vanguard\n",
      "Failed requesting Lonely Avenue - Live at the Village Vanguard\n",
      "Failed requesting Filthy McNasty - Live at the Village Vanguard\n",
      "Failed requesting Blues for Ball\n",
      "Failed requesting Hard Times\n"
     ]
    },
    {
     "name": "stderr",
     "output_type": "stream",
     "text": [
      "Processing David _Fathead_ Newman_tracks.parquet:  92%|█████████▏| 240/262 [00:07<00:00, 33.59it/s]"
     ]
    },
    {
     "name": "stdout",
     "output_type": "stream",
     "text": [
      "Failed requesting Baby Rae\n",
      "Failed requesting Song for the New Man\n",
      "Failed requesting Violet Don't Be Blue\n",
      "Failed requesting Foxy Brown\n",
      "Failed requesting Newmanism\n",
      "Failed requesting Sweet Tears\n",
      "Failed requesting Let Me Know\n",
      "Failed requesting Brandy\n"
     ]
    },
    {
     "name": "stderr",
     "output_type": "stream",
     "text": [
      "Processing David _Fathead_ Newman_tracks.parquet:  93%|█████████▎| 244/262 [00:07<00:00, 34.13it/s]"
     ]
    },
    {
     "name": "stdout",
     "output_type": "stream",
     "text": [
      "Failed requesting Hard Times\n",
      "Failed requesting The Holy Land\n",
      "Failed requesting Lady Day\n",
      "Failed requesting The Thirteenth Floor\n",
      "Failed requesting The Clincher\n",
      "Failed requesting I Wish You Love\n",
      "Failed requesting Missy\n",
      "Failed requesting Missy\n"
     ]
    },
    {
     "name": "stderr",
     "output_type": "stream",
     "text": [
      "Processing David _Fathead_ Newman_tracks.parquet:  96%|█████████▌| 252/262 [00:07<00:00, 30.98it/s]"
     ]
    },
    {
     "name": "stdout",
     "output_type": "stream",
     "text": [
      "Failed requesting Seems Like I Gotta Do Wrong\n",
      "Failed requesting You Can't Always Get What You Want\n",
      "Failed requesting Yes We Can\n",
      "Failed requesting Happy Times\n",
      "Failed requesting Drown in My Own Tears\n",
      "Failed requesting Freedom for the Stallion\n",
      "Failed requesting Pharaoh's Gold\n",
      "Failed requesting Pharaoh's Gold\n"
     ]
    },
    {
     "name": "stderr",
     "output_type": "stream",
     "text": [
      "Processing David _Fathead_ Newman_tracks.parquet: 100%|██████████| 262/262 [00:07<00:00, 33.78it/s]\n",
      "Processing Davy Graham_tracks.parquet:   0%|          | 0/321 [00:00<?, ?it/s]"
     ]
    },
    {
     "name": "stdout",
     "output_type": "stream",
     "text": [
      "Failed requesting Amazing Grace\n",
      "Failed requesting Sneakin' In\n",
      "Failed requesting Still Hard\n",
      "Failed requesting Front Money\n",
      "Failed requesting So Fine - So Fine\n",
      "Failed requesting Suki Duki\n",
      "Failed requesting Angi\n"
     ]
    },
    {
     "name": "stderr",
     "output_type": "stream",
     "text": [
      "Processing Davy Graham_tracks.parquet:   3%|▎         | 10/321 [00:00<00:08, 35.06it/s]"
     ]
    },
    {
     "name": "stdout",
     "output_type": "stream",
     "text": [
      "Failed requesting Angi\n",
      "Failed requesting Angi\n",
      "Failed requesting Angi\n",
      "Failed requesting Angi\n",
      "Failed requesting Take Five\n",
      "Failed requesting Take Five\n",
      "Failed requesting Take Five\n",
      "Failed requesting Take Five\n",
      "Failed requesting Mustapha\n"
     ]
    },
    {
     "name": "stderr",
     "output_type": "stream",
     "text": [
      "Processing Davy Graham_tracks.parquet:   4%|▍         | 14/321 [00:00<00:09, 31.90it/s]"
     ]
    },
    {
     "name": "stdout",
     "output_type": "stream",
     "text": [
      "Failed requesting 3/4 A.D.\n",
      "Failed requesting 3/4 A.D.\n",
      "Failed requesting 3/4 A.D.\n",
      "Failed requesting 3/4 A.D.\n",
      "Failed requesting Sunset Eyes\n",
      "Failed requesting She Moves Through the Fair\n"
     ]
    },
    {
     "name": "stderr",
     "output_type": "stream",
     "text": [
      "Processing Davy Graham_tracks.parquet:   7%|▋         | 22/321 [00:00<00:08, 34.23it/s]"
     ]
    },
    {
     "name": "stdout",
     "output_type": "stream",
     "text": [
      "Failed requesting Cry Me a River\n",
      "Failed requesting Exodus\n",
      "Failed requesting Suite in D minor\n",
      "Failed requesting Davy's Train Blues\n",
      "Failed requesting Hallelujah I Lover Her So\n",
      "Failed requesting Blue Monk\n",
      "Failed requesting Blue Monk\n",
      "Failed requesting Don't Stop the Carnival\n"
     ]
    },
    {
     "name": "stderr",
     "output_type": "stream",
     "text": [
      "Processing Davy Graham_tracks.parquet:   9%|▉         | 30/321 [00:00<00:08, 34.41it/s]"
     ]
    },
    {
     "name": "stdout",
     "output_type": "stream",
     "text": [
      "Failed requesting Sermonette\n",
      "Failed requesting Sermonette\n",
      "Failed requesting Sermonette\n",
      "Failed requesting Happy Meeting in Glory\n",
      "Failed requesting Happy Meeting in Glory\n",
      "Failed requesting How Long How Long Blues\n",
      "Failed requesting The Ruby & the Pearl\n",
      "Failed requesting The Ruby & the Pearl\n"
     ]
    },
    {
     "name": "stderr",
     "output_type": "stream",
     "text": [
      "Processing Davy Graham_tracks.parquet:  12%|█▏        | 38/321 [00:01<00:07, 35.45it/s]"
     ]
    },
    {
     "name": "stdout",
     "output_type": "stream",
     "text": [
      "Failed requesting The Ruby & the Pearl\n",
      "Failed requesting The Ruby & the Pearl\n",
      "Failed requesting Buffalo\n",
      "Failed requesting Yellow Bird\n",
      "Failed requesting Blues for Betty\n",
      "Failed requesting Blues for Betty\n",
      "Failed requesting Blues for Betty\n",
      "Failed requesting Take Five\n"
     ]
    },
    {
     "name": "stderr",
     "output_type": "stream",
     "text": [
      "Processing Davy Graham_tracks.parquet:  15%|█▍        | 48/321 [00:01<00:07, 38.89it/s]"
     ]
    },
    {
     "name": "stdout",
     "output_type": "stream",
     "text": [
      "Failed requesting Take Five\n",
      "Failed requesting Take Five\n",
      "Failed requesting Take Five\n",
      "Failed requesting Sermonette\n",
      "Failed requesting Sermonette\n",
      "Failed requesting Sermonette\n",
      "Failed requesting The Ruby & the Pearl\n",
      "Failed requesting The Ruby & the Pearl\n",
      "Failed requesting The Ruby & the Pearl\n"
     ]
    },
    {
     "name": "stderr",
     "output_type": "stream",
     "text": [
      "Processing Davy Graham_tracks.parquet:  17%|█▋        | 53/321 [00:01<00:06, 39.60it/s]"
     ]
    },
    {
     "name": "stdout",
     "output_type": "stream",
     "text": [
      "Failed requesting The Ruby & the Pearl\n",
      "Failed requesting Blues for Betty\n",
      "Failed requesting Blues for Betty\n",
      "Failed requesting Blues for Betty\n",
      "Failed requesting Cry Me a River\n",
      "Failed requesting Cry Me a River\n",
      "Failed requesting Buffalo\n",
      "Failed requesting Buffalo\n"
     ]
    },
    {
     "name": "stderr",
     "output_type": "stream",
     "text": [
      "Processing Davy Graham_tracks.parquet:  19%|█▉        | 61/321 [00:01<00:07, 32.70it/s]"
     ]
    },
    {
     "name": "stdout",
     "output_type": "stream",
     "text": [
      "Failed requesting Hallelujah I Love Her So\n",
      "Failed requesting Hallelujah I Love Her So\n",
      "Failed requesting Yellow Bird\n",
      "Failed requesting Yellow Bird\n",
      "Failed requesting Exodus\n"
     ]
    },
    {
     "name": "stderr",
     "output_type": "stream",
     "text": [
      "Processing Davy Graham_tracks.parquet:  21%|██▏       | 69/321 [00:01<00:07, 34.54it/s]"
     ]
    },
    {
     "name": "stdout",
     "output_type": "stream",
     "text": [
      "Failed requesting Exodus\n",
      "Failed requesting Sunset Eyes\n",
      "Failed requesting Sunset Eyes\n",
      "Failed requesting Don't Stop the Carnival\n",
      "Failed requesting Don't Stop the Carnival\n",
      "Failed requesting How Long, How Long Blues\n",
      "Failed requesting How Long, How Long Blues\n",
      "Failed requesting Flowers Never Bend With The Rainfall\n"
     ]
    },
    {
     "name": "stderr",
     "output_type": "stream",
     "text": [
      "Processing Davy Graham_tracks.parquet:  23%|██▎       | 73/321 [00:02<00:07, 31.53it/s]"
     ]
    },
    {
     "name": "stdout",
     "output_type": "stream",
     "text": [
      "Failed requesting Wilt Thou Unkind\n",
      "Failed requesting Blackbird\n",
      "Failed requesting Blues At Gino's\n",
      "Failed requesting Since I Fell For You\n",
      "Failed requesting Sonnymoon For Two\n",
      "Failed requesting Fingerbuster\n",
      "Failed requesting Here, There And Everywhere\n"
     ]
    },
    {
     "name": "stderr",
     "output_type": "stream",
     "text": [
      "Processing Davy Graham_tracks.parquet:  25%|██▌       | 81/321 [00:02<00:06, 34.42it/s]"
     ]
    },
    {
     "name": "stdout",
     "output_type": "stream",
     "text": [
      "Failed requesting Ramblin' Sailor\n",
      "Failed requesting Mary, Open The Door\n",
      "Failed requesting I Know My Love\n",
      "Failed requesting Charlie\n",
      "Failed requesting Bridge Over Troubled Water\n",
      "Failed requesting Little Man You've Had A Busy Day\n",
      "Failed requesting I'm A Freeborn Man (Of The Travelling People)\n"
     ]
    },
    {
     "name": "stderr",
     "output_type": "stream",
     "text": [
      "Processing Davy Graham_tracks.parquet:  28%|██▊       | 89/321 [00:02<00:06, 33.75it/s]"
     ]
    },
    {
     "name": "stdout",
     "output_type": "stream",
     "text": [
      "Failed requesting The Preacher\n",
      "Failed requesting All Of Me\n",
      "Failed requesting Afta\n",
      "Failed requesting On Green Dolphin Street\n",
      "Failed requesting Dallas Rag\n",
      "Failed requesting 'Round Midnight\n",
      "Failed requesting Worksong\n",
      "Failed requesting Joe, Joe, The Cannibal Kid\n"
     ]
    },
    {
     "name": "stderr",
     "output_type": "stream",
     "text": [
      "Processing Davy Graham_tracks.parquet:  31%|███       | 98/321 [00:02<00:06, 33.81it/s]"
     ]
    },
    {
     "name": "stdout",
     "output_type": "stream",
     "text": [
      "Failed requesting Everything's Fine Right Now\n",
      "Failed requesting A Mighty Fortress Is Our God (Eine Feste Burg Ist Unser Gott)\n",
      "Failed requesting Mother Nature's Son\n",
      "Failed requesting Grooveyard\n",
      "Failed requesting Forty Ton Parachute\n",
      "Failed requesting Nadu Silma\n",
      "Failed requesting Getting Better\n"
     ]
    },
    {
     "name": "stderr",
     "output_type": "stream",
     "text": [
      "Processing Davy Graham_tracks.parquet:  33%|███▎      | 106/321 [00:03<00:06, 33.59it/s]"
     ]
    },
    {
     "name": "stdout",
     "output_type": "stream",
     "text": [
      "Failed requesting Lotus Blossom\n",
      "Failed requesting I'm Ready\n",
      "Failed requesting Buhaina Chant\n",
      "Failed requesting Homeward Bound\n",
      "Failed requesting Love Is Pleasing\n",
      "Failed requesting Hornpipe For Harpsichord Played Upon Guitar\n",
      "Failed requesting Down Along The Cove\n",
      "Failed requesting Hoochie Coochie Man\n"
     ]
    },
    {
     "name": "stderr",
     "output_type": "stream",
     "text": [
      "Processing Davy Graham_tracks.parquet:  36%|███▌      | 114/321 [00:03<00:06, 33.81it/s]"
     ]
    },
    {
     "name": "stdout",
     "output_type": "stream",
     "text": [
      "Failed requesting Stan's Guitar\n",
      "Failed requesting Pretty Polly\n",
      "Failed requesting Bulgarian Dance\n",
      "Failed requesting I Am A Rock\n",
      "Failed requesting Oliver\n",
      "Failed requesting Both Sides Now\n",
      "Failed requesting Bad Boy Blues\n",
      "Failed requesting Tristano\n"
     ]
    },
    {
     "name": "stderr",
     "output_type": "stream",
     "text": [
      "Processing Davy Graham_tracks.parquet:  38%|███▊      | 122/321 [00:03<00:05, 34.15it/s]"
     ]
    },
    {
     "name": "stdout",
     "output_type": "stream",
     "text": [
      "Failed requesting Babe, It Ain't No Lie\n",
      "Failed requesting Bruton Town\n",
      "Failed requesting Sunshine Raga\n",
      "Failed requesting Freight Train Blues\n",
      "Failed requesting Jenra\n",
      "Failed requesting Electric Chair\n",
      "Failed requesting Good Morning Blues\n",
      "Failed requesting Beautiful City\n"
     ]
    },
    {
     "name": "stderr",
     "output_type": "stream",
     "text": [
      "Processing Davy Graham_tracks.parquet:  39%|███▉      | 126/321 [00:03<00:05, 33.75it/s]"
     ]
    },
    {
     "name": "stdout",
     "output_type": "stream",
     "text": [
      "Failed requesting Blue Raga\n",
      "Failed requesting No Preacher Blues\n",
      "Failed requesting The Fakir\n",
      "Failed requesting I'm Looking Through You\n",
      "Failed requesting Hummingbird\n",
      "Failed requesting Watermelon Man\n",
      "Failed requesting Stormy Monday\n"
     ]
    },
    {
     "name": "stderr",
     "output_type": "stream",
     "text": [
      "Processing Davy Graham_tracks.parquet:  42%|████▏     | 134/321 [00:03<00:05, 34.43it/s]"
     ]
    },
    {
     "name": "stdout",
     "output_type": "stream",
     "text": [
      "Failed requesting Money Honey\n",
      "Failed requesting Walkin' The Dog\n",
      "Failed requesting Fire In My Soul\n",
      "Failed requesting Lost Lover Blues\n",
      "Failed requesting Neighbor, Neighbor\n",
      "Failed requesting Jubilation\n",
      "Failed requesting Rags And Old Iron\n"
     ]
    },
    {
     "name": "stderr",
     "output_type": "stream",
     "text": [
      "Processing Davy Graham_tracks.parquet:  44%|████▍     | 142/321 [00:04<00:05, 33.77it/s]"
     ]
    },
    {
     "name": "stdout",
     "output_type": "stream",
     "text": [
      "Failed requesting Jelly Roll Baker\n",
      "Failed requesting Leaving Blues\n",
      "Failed requesting Cocaine\n",
      "Failed requesting Sally Free And Easy\n",
      "Failed requesting Black Is The Colour Of My True Love's Hair\n",
      "Failed requesting Rock Me Baby\n",
      "Failed requesting Seven Gipsies\n",
      "Failed requesting Ballad Of The Sad Young Men\n"
     ]
    },
    {
     "name": "stderr",
     "output_type": "stream",
     "text": [
      "Processing Davy Graham_tracks.parquet:  47%|████▋     | 152/321 [00:04<00:04, 37.11it/s]"
     ]
    },
    {
     "name": "stdout",
     "output_type": "stream",
     "text": [
      "Failed requesting Moanin'\n",
      "Failed requesting Skillet\n",
      "Failed requesting Ain't Nobody's Business If I Do\n",
      "Failed requesting Maajun (A Taste Of Tangier)\n",
      "Failed requesting I Can't Keep from Crying Sometimes\n",
      "Failed requesting Don't Think Twice, It's Alright\n",
      "Failed requesting My Babe\n",
      "Failed requesting Goin' Down Slow\n"
     ]
    },
    {
     "name": "stderr",
     "output_type": "stream",
     "text": [
      "Processing Davy Graham_tracks.parquet:  50%|████▉     | 160/321 [00:04<00:04, 34.92it/s]"
     ]
    },
    {
     "name": "stdout",
     "output_type": "stream",
     "text": [
      "Failed requesting She Moved Through The Fair\n",
      "Failed requesting Mustapha\n",
      "Failed requesting Better Git In Your Soul\n",
      "Failed requesting Blue Monk\n",
      "Failed requesting Blue Monk\n",
      "Failed requesting Nottamun Town\n",
      "Failed requesting Proud Maisrie\n",
      "Failed requesting The Cherry Tree Carol\n",
      "Failed requesting Hares On The Mountain\n",
      "Failed requesting Reynardine\n"
     ]
    },
    {
     "name": "stderr",
     "output_type": "stream",
     "text": [
      "Processing Davy Graham_tracks.parquet:  52%|█████▏    | 168/321 [00:05<00:12, 12.61it/s]"
     ]
    },
    {
     "name": "stdout",
     "output_type": "stream",
     "text": [
      "Failed requesting Rif Mountain\n",
      "Failed requesting Jane, Jane\n",
      "Failed requesting Love Is Pleasin'\n",
      "Failed requesting Boll Weevil, Holler\n",
      "Failed requesting Hori Horo\n",
      "Failed requesting Bad Girl\n"
     ]
    },
    {
     "name": "stderr",
     "output_type": "stream",
     "text": [
      "Processing Davy Graham_tracks.parquet:  55%|█████▍    | 176/321 [00:06<00:08, 17.96it/s]"
     ]
    },
    {
     "name": "stdout",
     "output_type": "stream",
     "text": [
      "Failed requesting Lord Gregory\n",
      "Failed requesting Grooveyard\n",
      "Failed requesting Dearest Dear\n",
      "Failed requesting Take Five\n",
      "Failed requesting Take Five\n",
      "Failed requesting Take Five\n",
      "Failed requesting Take Five\n",
      "Failed requesting Happy Meeting in Glory\n",
      "Failed requesting Happy Meeting in Glory\n",
      "Failed requesting The Ruby & the Pearl\n"
     ]
    },
    {
     "name": "stderr",
     "output_type": "stream",
     "text": [
      "Processing Davy Graham_tracks.parquet:  58%|█████▊    | 185/321 [00:06<00:05, 24.62it/s]"
     ]
    },
    {
     "name": "stdout",
     "output_type": "stream",
     "text": [
      "Failed requesting The Ruby & the Pearl\n",
      "Failed requesting The Ruby & the Pearl\n",
      "Failed requesting The Ruby & the Pearl\n",
      "Failed requesting Don't Stop the Carnival\n",
      "Failed requesting Sermonette\n",
      "Failed requesting How Long, How Long Blues\n",
      "Failed requesting Sunset Eyes\n"
     ]
    },
    {
     "name": "stderr",
     "output_type": "stream",
     "text": [
      "Processing Davy Graham_tracks.parquet:  60%|██████    | 193/321 [00:06<00:04, 28.78it/s]"
     ]
    },
    {
     "name": "stdout",
     "output_type": "stream",
     "text": [
      "Failed requesting Cry Me a River\n",
      "Failed requesting Buffalo\n",
      "Failed requesting Exodus\n",
      "Failed requesting Yellow Bird\n",
      "Failed requesting Blues for Betty\n",
      "Failed requesting Hallelujah, I Love Her So\n",
      "Failed requesting She Moved Thru' the Bizarre / Blue Raga\n",
      "Failed requesting Misirlou\n"
     ]
    },
    {
     "name": "stderr",
     "output_type": "stream",
     "text": [
      "Processing Davy Graham_tracks.parquet:  63%|██████▎   | 201/321 [00:06<00:03, 32.74it/s]"
     ]
    },
    {
     "name": "stdout",
     "output_type": "stream",
     "text": [
      "Failed requesting Hey! Bud Blues\n",
      "Failed requesting Anji\n",
      "Failed requesting Fingerbuster\n",
      "Failed requesting La Morena\n",
      "Failed requesting Suite in D Minor\n",
      "Failed requesting Take Five\n",
      "Failed requesting Take Five\n",
      "Failed requesting Take Five\n",
      "Failed requesting Take Five\n"
     ]
    },
    {
     "name": "stderr",
     "output_type": "stream",
     "text": [
      "Processing Davy Graham_tracks.parquet:  66%|██████▌   | 211/321 [00:07<00:02, 38.09it/s]"
     ]
    },
    {
     "name": "stdout",
     "output_type": "stream",
     "text": [
      "Failed requesting Sermonette\n",
      "Failed requesting Sermonette\n",
      "Failed requesting Sermonette\n",
      "Failed requesting The Ruby & the Pearl\n",
      "Failed requesting The Ruby & the Pearl\n",
      "Failed requesting The Ruby & the Pearl\n",
      "Failed requesting The Ruby & the Pearl\n",
      "Failed requesting Blues for Betty\n",
      "Failed requesting Blues for Betty\n"
     ]
    },
    {
     "name": "stderr",
     "output_type": "stream",
     "text": [
      "Processing Davy Graham_tracks.parquet:  67%|██████▋   | 216/321 [00:07<00:02, 38.79it/s]"
     ]
    },
    {
     "name": "stdout",
     "output_type": "stream",
     "text": [
      "Failed requesting Blues for Betty\n",
      "Failed requesting Cry Me a River\n",
      "Failed requesting Cry Me a River\n",
      "Failed requesting Buffalo\n",
      "Failed requesting Buffalo\n",
      "Failed requesting Hallelujah I Love Her So\n",
      "Failed requesting Hallelujah I Love Her So\n",
      "Failed requesting Yellow Bird\n"
     ]
    },
    {
     "name": "stderr",
     "output_type": "stream",
     "text": [
      "Processing Davy Graham_tracks.parquet:  70%|███████   | 225/321 [00:07<00:02, 38.72it/s]"
     ]
    },
    {
     "name": "stdout",
     "output_type": "stream",
     "text": [
      "Failed requesting Yellow Bird\n",
      "Failed requesting Exodus\n",
      "Failed requesting Exodus\n",
      "Failed requesting Sunset Eyes\n",
      "Failed requesting Sunset Eyes\n",
      "Failed requesting Don't Stop the Carnival\n",
      "Failed requesting Don't Stop the Carnival\n",
      "Failed requesting How Long, How Long Blues\n",
      "Failed requesting How Long, How Long Blues\n"
     ]
    },
    {
     "name": "stderr",
     "output_type": "stream",
     "text": [
      "Processing Davy Graham_tracks.parquet:  73%|███████▎  | 235/321 [00:07<00:02, 40.05it/s]"
     ]
    },
    {
     "name": "stdout",
     "output_type": "stream",
     "text": [
      "Failed requesting Angi\n",
      "Failed requesting Angi\n",
      "Failed requesting Angi\n",
      "Failed requesting Angi\n",
      "Failed requesting Angi\n"
     ]
    },
    {
     "name": "stderr",
     "output_type": "stream",
     "text": [
      "Processing Davy Graham_tracks.parquet:  75%|███████▍  | 240/321 [00:07<00:02, 34.03it/s]"
     ]
    },
    {
     "name": "stdout",
     "output_type": "stream",
     "text": [
      "Failed requesting 3/4 A.D.\n",
      "Failed requesting 3/4 A.D.\n",
      "Failed requesting 3/4 A.D.\n",
      "Failed requesting 3/4 A.D.\n",
      "Failed requesting Davy's Train Blues\n",
      "Failed requesting Davy's Train Blues\n",
      "Failed requesting Davy's Train Blues\n",
      "Failed requesting Davy's Train Blues\n"
     ]
    },
    {
     "name": "stderr",
     "output_type": "stream",
     "text": [
      "Processing Davy Graham_tracks.parquet:  78%|███████▊  | 249/321 [00:08<00:01, 36.77it/s]"
     ]
    },
    {
     "name": "stdout",
     "output_type": "stream",
     "text": [
      "Failed requesting Cry Me A River (1959 Live Broadcast Remastered)\n",
      "Failed requesting She Moves Through The Fair (1961 Live Broadcast Remastered)\n",
      "Failed requesting Angi\n",
      "Failed requesting Angi\n",
      "Failed requesting Angi\n",
      "Failed requesting Angi\n",
      "Failed requesting Angi\n",
      "Failed requesting 3/4 A.D.\n",
      "Failed requesting 3/4 A.D.\n"
     ]
    },
    {
     "name": "stderr",
     "output_type": "stream",
     "text": [
      "Processing Davy Graham_tracks.parquet:  81%|████████  | 259/321 [00:08<00:01, 39.11it/s]"
     ]
    },
    {
     "name": "stdout",
     "output_type": "stream",
     "text": [
      "Failed requesting 3/4 A.D.\n",
      "Failed requesting 3/4 A.D.\n",
      "Failed requesting Davy's Train Blues\n",
      "Failed requesting Davy's Train Blues\n",
      "Failed requesting Davy's Train Blues\n",
      "Failed requesting Davy's Train Blues\n",
      "Failed requesting Angi\n",
      "Failed requesting Angi\n",
      "Failed requesting Angi\n"
     ]
    },
    {
     "name": "stderr",
     "output_type": "stream",
     "text": [
      "Processing Davy Graham_tracks.parquet:  84%|████████▍ | 269/321 [00:08<00:01, 39.91it/s]"
     ]
    },
    {
     "name": "stdout",
     "output_type": "stream",
     "text": [
      "Failed requesting Angi\n",
      "Failed requesting Angi\n",
      "Failed requesting Davy's Train Blues\n",
      "Failed requesting Davy's Train Blues\n",
      "Failed requesting Davy's Train Blues\n",
      "Failed requesting Davy's Train Blues\n",
      "Failed requesting 3/4 AD\n",
      "Failed requesting Angi\n",
      "Failed requesting Angi\n"
     ]
    },
    {
     "name": "stderr",
     "output_type": "stream",
     "text": [
      "Processing Davy Graham_tracks.parquet:  85%|████████▌ | 274/321 [00:08<00:01, 32.34it/s]"
     ]
    },
    {
     "name": "stdout",
     "output_type": "stream",
     "text": [
      "Failed requesting Angi\n",
      "Failed requesting Angi\n",
      "Failed requesting Angi\n",
      "Failed requesting 3/4 A.D.\n"
     ]
    },
    {
     "name": "stderr",
     "output_type": "stream",
     "text": [
      "Processing Davy Graham_tracks.parquet:  87%|████████▋ | 279/321 [00:08<00:01, 34.55it/s]"
     ]
    },
    {
     "name": "stdout",
     "output_type": "stream",
     "text": [
      "Failed requesting 3/4 A.D.\n",
      "Failed requesting 3/4 A.D.\n",
      "Failed requesting 3/4 A.D.\n",
      "Failed requesting Davy's Train Blues\n",
      "Failed requesting Davy's Train Blues\n",
      "Failed requesting Davy's Train Blues\n",
      "Failed requesting Davy's Train Blues\n",
      "Failed requesting Spinning Wheel Blues\n",
      "Failed requesting Chicago Calling\n"
     ]
    },
    {
     "name": "stderr",
     "output_type": "stream",
     "text": [
      "Processing Davy Graham_tracks.parquet:  89%|████████▉ | 287/321 [00:09<00:00, 35.31it/s]"
     ]
    },
    {
     "name": "stdout",
     "output_type": "stream",
     "text": [
      "Failed requesting Sudden Life\n",
      "Failed requesting Save Me\n",
      "Failed requesting The Midnight Special\n",
      "Failed requesting Blues for Betty\n",
      "Failed requesting The Seventh Son\n",
      "Failed requesting Sunshine of Your Love\n",
      "Failed requesting Buying Time\n",
      "Failed requesting I'm Looking for a Woman\n"
     ]
    },
    {
     "name": "stderr",
     "output_type": "stream",
     "text": [
      "Processing Davy Graham_tracks.parquet:  93%|█████████▎| 297/321 [00:09<00:00, 34.54it/s]"
     ]
    },
    {
     "name": "stdout",
     "output_type": "stream",
     "text": [
      "Failed requesting Down and Out Blues\n",
      "Failed requesting St. Louis Blues\n",
      "Failed requesting Dust Pneumonia Blues\n",
      "Failed requesting Pigs Foots\n",
      "Failed requesting How Long, How Long Blues\n",
      "Failed requesting Fuzz Oriental Blues\n",
      "Failed requesting Got My Mojo Working\n"
     ]
    },
    {
     "name": "stderr",
     "output_type": "stream",
     "text": [
      "Processing Davy Graham_tracks.parquet:  95%|█████████▌| 305/321 [00:09<00:00, 36.08it/s]"
     ]
    },
    {
     "name": "stdout",
     "output_type": "stream",
     "text": [
      "Failed requesting A Shot of Rhythm & Blues\n",
      "Failed requesting T.L.T. Blues\n",
      "Failed requesting Jack Hammer Blues\n",
      "Failed requesting Proud Mary\n",
      "Failed requesting These Days\n",
      "Failed requesting The Way I Feel - Acoustic\n",
      "Failed requesting Sentimental Lady\n",
      "Failed requesting Nobody's Home To Go Home To\n",
      "Failed requesting Island In The Sun\n"
     ]
    },
    {
     "name": "stderr",
     "output_type": "stream",
     "text": [
      "Processing Davy Graham_tracks.parquet:  97%|█████████▋| 310/321 [00:09<00:00, 37.38it/s]"
     ]
    },
    {
     "name": "stdout",
     "output_type": "stream",
     "text": [
      "Failed requesting Universal Soldier\n",
      "Failed requesting Little Girl\n",
      "Failed requesting Help Me\n",
      "Failed requesting I Shall Be Released - Remastered 2000\n",
      "Failed requesting Endless Sleep\n",
      "Failed requesting A Good Year For The Wine\n",
      "Failed requesting Rags And Old Iron\n"
     ]
    },
    {
     "name": "stderr",
     "output_type": "stream",
     "text": [
      "Processing Davy Graham_tracks.parquet: 100%|██████████| 321/321 [00:10<00:00, 31.75it/s]\n",
      "Processing Dawn Richard_tracks.parquet:   0%|          | 0/136 [00:00<?, ?it/s]"
     ]
    },
    {
     "name": "stdout",
     "output_type": "stream",
     "text": [
      "Failed requesting Four Walls\n",
      "Failed requesting Polly\n",
      "Failed requesting Sweet Jane - Live From The Matrix, San Francisco, CA / 1969\n",
      "Failed requesting That's The Bag I'm In\n",
      "Failed requesting Green Green Grass Of Home\n",
      "Failed requesting Medley: Tomorrow Is A Long Time/Everybody's Takin'\n",
      "Failed requesting How Long\n"
     ]
    },
    {
     "name": "stderr",
     "output_type": "stream",
     "text": [
      "Processing Dawn Richard_tracks.parquet:   6%|▌         | 8/136 [00:00<00:03, 38.63it/s]"
     ]
    },
    {
     "name": "stdout",
     "output_type": "stream",
     "text": [
      "Failed requesting Coral\n",
      "Failed requesting Sandstone\n",
      "Failed requesting Indigo\n",
      "Failed requesting Vantablack\n",
      "Failed requesting Sienna\n",
      "Failed requesting Cerulean\n",
      "Failed requesting Opal\n",
      "Failed requesting Saffron\n",
      "Failed requesting Crimson\n"
     ]
    },
    {
     "name": "stderr",
     "output_type": "stream",
     "text": [
      "Processing Dawn Richard_tracks.parquet:  12%|█▎        | 17/136 [00:00<00:02, 39.70it/s]"
     ]
    },
    {
     "name": "stdout",
     "output_type": "stream",
     "text": [
      "Failed requesting Cobalt\n",
      "Failed requesting Umber\n",
      "Failed requesting King Creole (Intro)\n",
      "Failed requesting Nostalgia\n",
      "Failed requesting Boomerang\n",
      "Failed requesting Bussifame\n",
      "Failed requesting Pressure\n",
      "Failed requesting Pilot (a lude)\n"
     ]
    },
    {
     "name": "stderr",
     "output_type": "stream",
     "text": [
      "Processing Dawn Richard_tracks.parquet:  16%|█▌        | 22/136 [00:00<00:02, 39.82it/s]"
     ]
    },
    {
     "name": "stdout",
     "output_type": "stream",
     "text": [
      "Failed requesting Jacuzzi\n",
      "Failed requesting FiveOhFour (a lude)\n",
      "Failed requesting Voodoo (Intermission)\n",
      "Failed requesting Mornin | Streetlights\n",
      "Failed requesting Le Petit Morte (a lude)\n",
      "Failed requesting Radio Free\n",
      "Failed requesting The Potter\n",
      "Failed requesting Perfect Storm\n"
     ]
    },
    {
     "name": "stderr",
     "output_type": "stream",
     "text": [
      "Processing Dawn Richard_tracks.parquet:  22%|██▏       | 30/136 [00:00<00:02, 38.45it/s]"
     ]
    },
    {
     "name": "stdout",
     "output_type": "stream",
     "text": [
      "Failed requesting Voodoo (Outermission)\n",
      "Failed requesting SELFish (Outro)\n",
      "Failed requesting the nine (intro)\n",
      "Failed requesting new breed\n",
      "Failed requesting spaces\n",
      "Failed requesting dreams and converse\n",
      "Failed requesting shades\n",
      "Failed requesting jealousy\n"
     ]
    },
    {
     "name": "stderr",
     "output_type": "stream",
     "text": [
      "Processing Dawn Richard_tracks.parquet:  28%|██▊       | 38/136 [00:00<00:02, 37.78it/s]"
     ]
    },
    {
     "name": "stdout",
     "output_type": "stream",
     "text": [
      "Failed requesting vultures | wolves\n",
      "Failed requesting we, diamonds\n",
      "Failed requesting ketchup and po'boys (outro)\n",
      "Failed requesting Honest\n",
      "Failed requesting How I Get It\n",
      "Failed requesting Paint It Blue\n",
      "Failed requesting Baptize\n"
     ]
    },
    {
     "name": "stderr",
     "output_type": "stream",
     "text": [
      "Processing Dawn Richard_tracks.parquet:  34%|███▍      | 46/136 [00:01<00:02, 34.68it/s]"
     ]
    },
    {
     "name": "stdout",
     "output_type": "stream",
     "text": [
      "Failed requesting Baptize - Kingdom's Honest VTX\n",
      "Failed requesting How I Get It - Helix Remix\n",
      "Failed requesting Paint It Blue - Rizzla Remix\n",
      "Failed requesting How I Get It - Leonce Remix\n",
      "Failed requesting Honest - Helix Remix\n",
      "Failed requesting Paint It Blue - Ikonika Remix\n",
      "Failed requesting How I Get It - Byrell The Great Remix\n"
     ]
    },
    {
     "name": "stderr",
     "output_type": "stream",
     "text": [
      "Processing Dawn Richard_tracks.parquet:  40%|███▉      | 54/136 [00:01<00:02, 35.98it/s]"
     ]
    },
    {
     "name": "stdout",
     "output_type": "stream",
     "text": [
      "Failed requesting Honest - Divoli S'vere Remix\n",
      "Failed requesting How I Get It - Divoli S'vere Remix\n",
      "Failed requesting Baptize - Leonce Remix\n",
      "Failed requesting Redemption (Intro)\n",
      "Failed requesting Love Under Lights\n",
      "Failed requesting Black Crimes\n",
      "Failed requesting Voices\n",
      "Failed requesting LA\n",
      "Failed requesting Interim (Interlude)\n"
     ]
    },
    {
     "name": "stderr",
     "output_type": "stream",
     "text": [
      "Processing Dawn Richard_tracks.parquet:  46%|████▌     | 62/136 [00:01<00:01, 37.68it/s]"
     ]
    },
    {
     "name": "stdout",
     "output_type": "stream",
     "text": [
      "Failed requesting Renegades\n",
      "Failed requesting Lazarus\n",
      "Failed requesting Tyrants\n",
      "Failed requesting Vines (Interlude)\n",
      "Failed requesting Hey Nikki\n",
      "Failed requesting Sands\n",
      "Failed requesting Lilies (Interlude)\n",
      "Failed requesting The Louvre\n",
      "Failed requesting Valhalla (Outro)\n"
     ]
    },
    {
     "name": "stderr",
     "output_type": "stream",
     "text": [
      "Processing Dawn Richard_tracks.parquet:  51%|█████▏    | 70/136 [00:01<00:01, 37.93it/s]"
     ]
    },
    {
     "name": "stdout",
     "output_type": "stream",
     "text": [
      "Failed requesting Redemption (Intro)\n",
      "Failed requesting Love Under Lights\n",
      "Failed requesting Black Crimes\n",
      "Failed requesting Voices\n",
      "Failed requesting LA\n",
      "Failed requesting Interim (Interlude)\n",
      "Failed requesting Renegades\n",
      "Failed requesting Lazarus\n",
      "Failed requesting Tyrants\n"
     ]
    },
    {
     "name": "stderr",
     "output_type": "stream",
     "text": [
      "Processing Dawn Richard_tracks.parquet:  60%|██████    | 82/136 [00:02<00:01, 37.36it/s]"
     ]
    },
    {
     "name": "stdout",
     "output_type": "stream",
     "text": [
      "Failed requesting Vines (Interlude)\n",
      "Failed requesting Hey Nikki\n",
      "Failed requesting Sands\n",
      "Failed requesting Lilies (Interlude)\n",
      "Failed requesting The Louvre\n",
      "Failed requesting Valhalla (Outro)\n",
      "Failed requesting Hurricane\n",
      "Failed requesting Van Gogh\n"
     ]
    },
    {
     "name": "stderr",
     "output_type": "stream",
     "text": [
      "Processing Dawn Richard_tracks.parquet:  66%|██████▌   | 90/136 [00:02<00:01, 38.28it/s]"
     ]
    },
    {
     "name": "stdout",
     "output_type": "stream",
     "text": [
      "Failed requesting Noir (Intro)\n",
      "Failed requesting Calypso\n",
      "Failed requesting Blow\n",
      "Failed requesting Billie Jean\n",
      "Failed requesting Adderall / Sold (Outerlude)\n",
      "Failed requesting Swim Free\n",
      "Failed requesting Titans (Interlude)\n",
      "Failed requesting Warriors\n"
     ]
    },
    {
     "name": "stderr",
     "output_type": "stream",
     "text": [
      "Processing Dawn Richard_tracks.parquet:  69%|██████▉   | 94/136 [00:02<00:01, 38.57it/s]"
     ]
    },
    {
     "name": "stdout",
     "output_type": "stream",
     "text": [
      "Failed requesting Projection\n",
      "Failed requesting Castles\n",
      "Failed requesting Phoenix (feat. Aundrea Fimbres)\n",
      "Failed requesting Choices (Interlude)\n",
      "Failed requesting The Deep\n",
      "Failed requesting Blackheart (Outro)\n",
      "Failed requesting Intro (In the Hearts Tonight)\n",
      "Failed requesting Return of a Queen\n"
     ]
    },
    {
     "name": "stderr",
     "output_type": "stream",
     "text": [
      "Processing Dawn Richard_tracks.parquet:  78%|███████▊  | 106/136 [00:02<00:00, 37.26it/s]"
     ]
    },
    {
     "name": "stdout",
     "output_type": "stream",
     "text": [
      "Failed requesting Goliath\n",
      "Failed requesting Riot\n",
      "Failed requesting Gleaux\n",
      "Failed requesting Pretty Wicked Things\n",
      "Failed requesting Northern Lights\n",
      "Failed requesting Frequency\n",
      "Failed requesting Warfaire\n",
      "Failed requesting Tug of War\n"
     ]
    },
    {
     "name": "stderr",
     "output_type": "stream",
     "text": [
      "Processing Dawn Richard_tracks.parquet:  81%|████████  | 110/136 [00:02<00:00, 37.60it/s]"
     ]
    },
    {
     "name": "stdout",
     "output_type": "stream",
     "text": [
      "Failed requesting Ode to You\n",
      "Failed requesting 86\n",
      "Failed requesting In Your Eyes\n",
      "Failed requesting Break of Dawn\n",
      "Failed requesting [300]\n",
      "Failed requesting Goldenheart\n",
      "Failed requesting Sienna\n",
      "Failed requesting Cerulean\n"
     ]
    },
    {
     "name": "stderr",
     "output_type": "stream",
     "text": [
      "Processing Dawn Richard_tracks.parquet:  90%|████████▉ | 122/136 [00:03<00:00, 37.06it/s]"
     ]
    },
    {
     "name": "stdout",
     "output_type": "stream",
     "text": [
      "Failed requesting Opal\n",
      "Failed requesting Saffron\n",
      "Failed requesting Coral\n",
      "Failed requesting Sandstone\n",
      "Failed requesting Indigo\n",
      "Failed requesting Vantablack\n",
      "Failed requesting Walk In\n",
      "Failed requesting Pressure - Afriqua Remix\n"
     ]
    },
    {
     "name": "stderr",
     "output_type": "stream",
     "text": [
      "Processing Dawn Richard_tracks.parquet:  93%|█████████▎| 126/136 [00:03<00:00, 34.96it/s]"
     ]
    },
    {
     "name": "stdout",
     "output_type": "stream",
     "text": [
      "Failed requesting Loose Your Mind\n",
      "Failed requesting Boomerang - Suzi Analogue Remix\n",
      "Failed requesting Jacuzzi - J Rick Remix\n",
      "Failed requesting Bussifame - Felix Da Housecat x Dave The Hustler Remix\n",
      "Failed requesting U. - Junior Sanchez Remix\n",
      "Failed requesting FiveOhFour (a lude)\n",
      "Failed requesting Mornin | Streetlights\n",
      "Failed requesting Jacuzzi\n"
     ]
    },
    {
     "name": "stderr",
     "output_type": "stream",
     "text": [
      "Processing Dawn Richard_tracks.parquet: 100%|██████████| 136/136 [00:03<00:00, 36.83it/s]\n",
      "Processing Dayna Kurtz_tracks.parquet:   0%|          | 0/232 [00:00<?, ?it/s]"
     ]
    },
    {
     "name": "stdout",
     "output_type": "stream",
     "text": [
      "Failed requesting Pilot (a lude)\n",
      "Failed requesting Bussifame\n",
      "Failed requesting Mornin | Streetlights\n",
      "Failed requesting Jacuzzi\n",
      "Failed requesting Pilot (a lude)\n",
      "Failed requesting Bussifame\n"
     ]
    },
    {
     "name": "stderr",
     "output_type": "stream",
     "text": [
      "Processing Dayna Kurtz_tracks.parquet:   1%|▏         | 3/232 [00:00<00:07, 29.51it/s]"
     ]
    },
    {
     "name": "stdout",
     "output_type": "stream",
     "text": [
      "Failed requesting Another Black Feather - Live\n",
      "Failed requesting Somebody Leave a Light On - Live\n",
      "Failed requesting You're Not What I Need (But You're All That I Want) - Live\n",
      "Failed requesting Monroe - Live\n",
      "Failed requesting It's How You Hold Me - Live\n",
      "Failed requesting Reconsider Me - Live\n",
      "Failed requesting Venezuela - Live\n"
     ]
    },
    {
     "name": "stderr",
     "output_type": "stream",
     "text": [
      "Processing Dayna Kurtz_tracks.parquet:   5%|▍         | 11/232 [00:00<00:07, 31.26it/s]"
     ]
    },
    {
     "name": "stdout",
     "output_type": "stream",
     "text": [
      "Failed requesting Talking at the Same Time - Live\n",
      "Failed requesting Fred Astaire - Live\n",
      "Failed requesting I'll be a Liar - Live\n",
      "Failed requesting Billboards for Jesus - Live\n",
      "Failed requesting NOLA - Live\n",
      "Failed requesting If I go First - Live\n",
      "Failed requesting Raise the Last Glass - Live\n"
     ]
    },
    {
     "name": "stderr",
     "output_type": "stream",
     "text": [
      "Processing Dayna Kurtz_tracks.parquet:   8%|▊         | 19/232 [00:00<00:06, 33.74it/s]"
     ]
    },
    {
     "name": "stdout",
     "output_type": "stream",
     "text": [
      "Failed requesting I Look Good in Bad - Live\n",
      "Failed requesting Love Gets In the Way - Live\n",
      "Failed requesting It's How You Hold Me\n",
      "Failed requesting It's How You Hold Me\n",
      "Failed requesting You're Not What I Need (But You're All That I Want)\n",
      "Failed requesting You're Not What I Need (But You're All That I Want)\n",
      "Failed requesting Raise The Glass\n",
      "Failed requesting Raise The Glass\n"
     ]
    },
    {
     "name": "stderr",
     "output_type": "stream",
     "text": [
      "Processing Dayna Kurtz_tracks.parquet:  12%|█▏        | 27/232 [00:00<00:05, 35.49it/s]"
     ]
    },
    {
     "name": "stdout",
     "output_type": "stream",
     "text": [
      "Failed requesting If I Go First\n",
      "Failed requesting If I Go First\n",
      "Failed requesting Eat It Up\n",
      "Failed requesting Eat It Up\n",
      "Failed requesting Yes, You Win\n",
      "Failed requesting Yes, You Win\n",
      "Failed requesting Far Away Again\n",
      "Failed requesting Far Away Again\n"
     ]
    },
    {
     "name": "stderr",
     "output_type": "stream",
     "text": [
      "Processing Dayna Kurtz_tracks.parquet:  15%|█▌        | 35/232 [00:01<00:05, 36.00it/s]"
     ]
    },
    {
     "name": "stdout",
     "output_type": "stream",
     "text": [
      "Failed requesting A Few Confessions\n",
      "Failed requesting A Few Confessions\n",
      "Failed requesting The Hole\n",
      "Failed requesting The Hole\n",
      "Failed requesting You'll Always Live Inside Me\n",
      "Failed requesting You'll Always Live Inside Me\n",
      "Failed requesting Touchstone\n",
      "Failed requesting All Too Soom\n"
     ]
    },
    {
     "name": "stderr",
     "output_type": "stream",
     "text": [
      "Processing Dayna Kurtz_tracks.parquet:  19%|█▊        | 43/232 [00:01<00:05, 32.67it/s]"
     ]
    },
    {
     "name": "stdout",
     "output_type": "stream",
     "text": [
      "Failed requesting My Babe\n",
      "Failed requesting I Get the Blues When It Rains\n",
      "Failed requesting That How Strong My Love Is\n",
      "Failed requesting It's How You Hold Me\n",
      "Failed requesting It's How You Hold Me\n",
      "Failed requesting You're Not What I Need (But You're All That I Want)\n",
      "Failed requesting You're Not What I Need (But You're All That I Want)\n"
     ]
    },
    {
     "name": "stderr",
     "output_type": "stream",
     "text": [
      "Processing Dayna Kurtz_tracks.parquet:  22%|██▏       | 52/232 [00:01<00:05, 35.57it/s]"
     ]
    },
    {
     "name": "stdout",
     "output_type": "stream",
     "text": [
      "Failed requesting Raise The Glass\n",
      "Failed requesting Raise The Glass\n",
      "Failed requesting If I Go First\n",
      "Failed requesting If I Go First\n",
      "Failed requesting Eat It Up\n",
      "Failed requesting Eat It Up\n",
      "Failed requesting Yes, You Win\n",
      "Failed requesting Yes, You Win\n"
     ]
    },
    {
     "name": "stderr",
     "output_type": "stream",
     "text": [
      "Processing Dayna Kurtz_tracks.parquet:  26%|██▋       | 61/232 [00:01<00:04, 37.88it/s]"
     ]
    },
    {
     "name": "stdout",
     "output_type": "stream",
     "text": [
      "Failed requesting Far Away Again\n",
      "Failed requesting Far Away Again\n",
      "Failed requesting A Few Confessions\n",
      "Failed requesting A Few Confessions\n",
      "Failed requesting The Hole\n",
      "Failed requesting The Hole\n",
      "Failed requesting You'll Always Live Inside Me\n",
      "Failed requesting You'll Always Live Inside Me\n",
      "Failed requesting I Look Good in Bad\n"
     ]
    },
    {
     "name": "stderr",
     "output_type": "stream",
     "text": [
      "Processing Dayna Kurtz_tracks.parquet:  30%|██▉       | 69/232 [00:01<00:04, 36.62it/s]"
     ]
    },
    {
     "name": "stdout",
     "output_type": "stream",
     "text": [
      "Failed requesting So Glad\n",
      "Failed requesting Reconsider Me\n",
      "Failed requesting One More Kiss\n",
      "Failed requesting Same Time, Same Place\n",
      "Failed requesting If You Won't Dance With Me\n",
      "Failed requesting All I Ask Is Your Love\n",
      "Failed requesting Go Ahead On\n",
      "Failed requesting I'll Be A Liar\n",
      "Failed requesting I've Had My Moments\n",
      "Failed requesting Do I Love You\n"
     ]
    },
    {
     "name": "stderr",
     "output_type": "stream",
     "text": [
      "Processing Dayna Kurtz_tracks.parquet:  34%|███▎      | 78/232 [00:07<00:55,  2.76it/s]"
     ]
    },
    {
     "name": "stdout",
     "output_type": "stream",
     "text": [
      "Failed requesting I'll Close My Eyes\n"
     ]
    },
    {
     "name": "stderr",
     "output_type": "stream",
     "text": [
      "Processing Dayna Kurtz_tracks.parquet:  34%|███▍      | 80/232 [00:08<01:00,  2.51it/s]"
     ]
    },
    {
     "name": "stdout",
     "output_type": "stream",
     "text": [
      "Failed requesting Sweet Lotus Blossom\n"
     ]
    },
    {
     "name": "stderr",
     "output_type": "stream",
     "text": [
      "Processing Dayna Kurtz_tracks.parquet:  35%|███▌      | 82/232 [00:09<01:04,  2.33it/s]"
     ]
    },
    {
     "name": "stdout",
     "output_type": "stream",
     "text": [
      "Failed requesting Your Fool Again\n",
      "Failed requesting Your Fool Again\n"
     ]
    },
    {
     "name": "stderr",
     "output_type": "stream",
     "text": [
      "Processing Dayna Kurtz_tracks.parquet:  38%|███▊      | 89/232 [00:11<00:43,  3.29it/s]"
     ]
    },
    {
     "name": "stdout",
     "output_type": "stream",
     "text": [
      "Failed requesting Come In Out Of The Rain\n",
      "Failed requesting Come In Out Of The Rain\n",
      "Failed requesting Call Me Darling\n",
      "Failed requesting Take Me in Your Arms\n",
      "Failed requesting Do I Love You\n",
      "Failed requesting Do I Love You\n",
      "Failed requesting Don't Fuck Around With Love\n"
     ]
    },
    {
     "name": "stderr",
     "output_type": "stream",
     "text": [
      "Processing Dayna Kurtz_tracks.parquet:  40%|████      | 93/232 [00:12<00:40,  3.40it/s]"
     ]
    },
    {
     "name": "stdout",
     "output_type": "stream",
     "text": [
      "Failed requesting Not The Only Fool In Town\n",
      "Failed requesting Not The Only Fool In Town\n"
     ]
    },
    {
     "name": "stderr",
     "output_type": "stream",
     "text": [
      "Processing Dayna Kurtz_tracks.parquet:  41%|████▏     | 96/232 [00:13<00:42,  3.17it/s]"
     ]
    },
    {
     "name": "stdout",
     "output_type": "stream",
     "text": [
      "Failed requesting I'll Close My Eyes\n",
      "Failed requesting Sweet Lotus Blossom\n"
     ]
    },
    {
     "name": "stderr",
     "output_type": "stream",
     "text": [
      "Processing Dayna Kurtz_tracks.parquet:  43%|████▎     | 100/232 [00:15<00:55,  2.39it/s]"
     ]
    },
    {
     "name": "stdout",
     "output_type": "stream",
     "text": [
      "Failed requesting Your Fool Again\n"
     ]
    },
    {
     "name": "stderr",
     "output_type": "stream",
     "text": [
      "Processing Dayna Kurtz_tracks.parquet:  45%|████▌     | 105/232 [00:20<01:31,  1.39it/s]"
     ]
    },
    {
     "name": "stdout",
     "output_type": "stream",
     "text": [
      "Failed requesting Call Me Darling\n"
     ]
    },
    {
     "name": "stderr",
     "output_type": "stream",
     "text": [
      "Processing Dayna Kurtz_tracks.parquet:  50%|████▉     | 115/232 [00:21<00:23,  4.94it/s]"
     ]
    },
    {
     "name": "stdout",
     "output_type": "stream",
     "text": [
      "Failed requesting Invocation\n",
      "Failed requesting Good in '62\n",
      "Failed requesting Billboards for Jesus\n",
      "Failed requesting Are You Dancing With Her Tonight?\n",
      "Failed requesting Here Comes a Regular\n",
      "Failed requesting Don't Go Down\n",
      "Failed requesting Hanging Around My Boy\n",
      "Failed requesting Lou Lou Knows\n"
     ]
    },
    {
     "name": "stderr",
     "output_type": "stream",
     "text": [
      "Processing Dayna Kurtz_tracks.parquet:  50%|█████     | 117/232 [00:22<00:32,  3.57it/s]"
     ]
    },
    {
     "name": "stdout",
     "output_type": "stream",
     "text": [
      "Failed requesting Election Day\n",
      "Failed requesting From The Bottom Up\n"
     ]
    },
    {
     "name": "stderr",
     "output_type": "stream",
     "text": [
      "Processing Dayna Kurtz_tracks.parquet:  51%|█████▏    | 119/232 [00:23<00:38,  2.91it/s]"
     ]
    },
    {
     "name": "stdout",
     "output_type": "stream",
     "text": [
      "Failed requesting Nola\n"
     ]
    },
    {
     "name": "stderr",
     "output_type": "stream",
     "text": [
      "Processing Dayna Kurtz_tracks.parquet:  52%|█████▏    | 121/232 [00:24<00:43,  2.54it/s]"
     ]
    },
    {
     "name": "stdout",
     "output_type": "stream",
     "text": [
      "Failed requesting Venezuela\n",
      "Failed requesting Venezuela\n"
     ]
    },
    {
     "name": "stderr",
     "output_type": "stream",
     "text": [
      "Processing Dayna Kurtz_tracks.parquet:  53%|█████▎    | 124/232 [00:25<00:41,  2.62it/s]"
     ]
    },
    {
     "name": "stdout",
     "output_type": "stream",
     "text": [
      "Failed requesting Another Black Feather\n",
      "Failed requesting Banks Of The Edisto\n",
      "Failed requesting Banks Of The Edisto\n"
     ]
    },
    {
     "name": "stderr",
     "output_type": "stream",
     "text": [
      "Processing Dayna Kurtz_tracks.parquet:  70%|██████▉   | 162/232 [01:02<01:13,  1.05s/it]"
     ]
    },
    {
     "name": "stdout",
     "output_type": "stream",
     "text": [
      "Failed requesting I Belong to the Wind\n"
     ]
    },
    {
     "name": "stderr",
     "output_type": "stream",
     "text": [
      "Processing Dayna Kurtz_tracks.parquet:  81%|████████  | 187/232 [01:23<00:18,  2.48it/s]"
     ]
    },
    {
     "name": "stdout",
     "output_type": "stream",
     "text": [
      "Failed requesting Venezuela\n",
      "Failed requesting Chelsea Burns\n",
      "Failed requesting Scars From An Old Love\n",
      "Failed requesting It's Not Love (But It's Not Bad)\n",
      "Failed requesting Only The Lonely\n",
      "Failed requesting Mother Earth\n",
      "Failed requesting Let That Liar Alone\n"
     ]
    },
    {
     "name": "stderr",
     "output_type": "stream",
     "text": [
      "Processing Dayna Kurtz_tracks.parquet:  84%|████████▎ | 194/232 [01:23<00:06,  6.00it/s]"
     ]
    },
    {
     "name": "stdout",
     "output_type": "stream",
     "text": [
      "Failed requesting Go Away With Me\n",
      "Failed requesting Gone Away\n",
      "Failed requesting Postcards From Downtown\n",
      "Failed requesting That's a Pretty Good Love\n",
      "Failed requesting A Grade\n",
      "Failed requesting How Do I Stop\n",
      "Failed requesting I Need Somebody\n"
     ]
    },
    {
     "name": "stderr",
     "output_type": "stream",
     "text": [
      "Processing Dayna Kurtz_tracks.parquet:  87%|████████▋ | 202/232 [01:23<00:02, 12.18it/s]"
     ]
    },
    {
     "name": "stdout",
     "output_type": "stream",
     "text": [
      "Failed requesting Ice Cream Man\n",
      "Failed requesting Razorburn Blues\n",
      "Failed requesting You're Trouble\n",
      "Failed requesting Bigger in Texas\n",
      "Failed requesting Take My Advice\n",
      "Failed requesting Into My Arms\n",
      "Failed requesting Magical Spell\n",
      "Failed requesting Cost of Life\n"
     ]
    },
    {
     "name": "stderr",
     "output_type": "stream",
     "text": [
      "Processing Dayna Kurtz_tracks.parquet:  89%|████████▉ | 206/232 [01:23<00:01, 15.39it/s]"
     ]
    },
    {
     "name": "stdout",
     "output_type": "stream",
     "text": [
      "Failed requesting Particle and Wave\n",
      "Failed requesting Our Own Hands\n",
      "Failed requesting End of the World\n"
     ]
    },
    {
     "name": "stderr",
     "output_type": "stream",
     "text": [
      "Processing Dayna Kurtz_tracks.parquet:  92%|█████████▏| 213/232 [01:25<00:02,  9.37it/s]"
     ]
    },
    {
     "name": "stdout",
     "output_type": "stream",
     "text": [
      "Failed requesting Get Away\n",
      "Failed requesting The Eternal Refugee\n",
      "Failed requesting The Door\n",
      "Failed requesting World Without End\n",
      "Failed requesting Kindness\n",
      "Failed requesting Only the Lonely\n",
      "Failed requesting Now You Know\n"
     ]
    },
    {
     "name": "stderr",
     "output_type": "stream",
     "text": [
      "Processing Dayna Kurtz_tracks.parquet:  95%|█████████▍| 220/232 [01:25<00:00, 14.03it/s]"
     ]
    },
    {
     "name": "stdout",
     "output_type": "stream",
     "text": [
      "Failed requesting The Silent Will Soon Be Singing\n",
      "Failed requesting Home Is Always Moving\n",
      "Failed requesting Cortez the Killer\n",
      "Failed requesting The Sons of the Clouds\n",
      "Failed requesting Rearson to Run\n",
      "Failed requesting Peace of Mind\n"
     ]
    },
    {
     "name": "stderr",
     "output_type": "stream",
     "text": [
      "Processing Dayna Kurtz_tracks.parquet:  98%|█████████▊| 227/232 [01:26<00:00,  9.09it/s]"
     ]
    },
    {
     "name": "stdout",
     "output_type": "stream",
     "text": [
      "Failed requesting Sad and Beautiful World\n",
      "Failed requesting He's a King\n",
      "Failed requesting Cindy Lou\n",
      "Failed requesting Do Right Woman, Do Right Man\n",
      "Failed requesting You're Trouble\n",
      "Failed requesting A-Grade\n",
      "Failed requesting Anytime\n"
     ]
    },
    {
     "name": "stderr",
     "output_type": "stream",
     "text": [
      "Processing Dayna Kurtz_tracks.parquet: 100%|██████████| 232/232 [01:26<00:00,  2.68it/s]\n",
      "Processing Dayna Stephens_tracks.parquet:   0%|          | 0/166 [00:00<?, ?it/s]"
     ]
    },
    {
     "name": "stdout",
     "output_type": "stream",
     "text": [
      "Failed requesting One Night\n",
      "Failed requesting Dear Rachel Carson (If We Lose New Orleans) - Live\n",
      "Failed requesting Smoking Gun - Live\n"
     ]
    },
    {
     "name": "stderr",
     "output_type": "stream",
     "text": [
      "Processing Dayna Stephens_tracks.parquet:   5%|▍         | 8/166 [00:00<00:04, 34.75it/s]"
     ]
    },
    {
     "name": "stdout",
     "output_type": "stream",
     "text": [
      "Failed requesting Smoking Gun - Live\n",
      "Failed requesting Tarifa - Live\n",
      "Failed requesting Tarifa - Live\n",
      "Failed requesting Ran - Live\n",
      "Failed requesting Ran - Live\n",
      "Failed requesting Contagious - Live\n",
      "Failed requesting Contagious - Live\n",
      "Failed requesting Radio-Active Earworm - Live\n"
     ]
    },
    {
     "name": "stderr",
     "output_type": "stream",
     "text": [
      "Processing Dayna Stephens_tracks.parquet:  10%|▉         | 16/166 [00:00<00:04, 35.60it/s]"
     ]
    },
    {
     "name": "stdout",
     "output_type": "stream",
     "text": [
      "Failed requesting Radio-Active Earworm - Live\n",
      "Failed requesting Faith Leap - Live\n",
      "Failed requesting Faith Leap - Live\n",
      "Failed requesting Lesson One - Live\n",
      "Failed requesting Lesson One - Live\n",
      "Failed requesting Loosy Goosy - Live\n",
      "Failed requesting Planting Flowers - Live\n",
      "Failed requesting JFK International - Live\n"
     ]
    },
    {
     "name": "stderr",
     "output_type": "stream",
     "text": [
      "Processing Dayna Stephens_tracks.parquet:  14%|█▍        | 24/166 [00:00<00:03, 37.34it/s]"
     ]
    },
    {
     "name": "stdout",
     "output_type": "stream",
     "text": [
      "Failed requesting You Are Me Blues - Live\n",
      "Failed requesting The Beginning of an Endless Happy Monday - Live\n",
      "Failed requesting Blakonian Groove - Live\n",
      "Failed requesting Blakonian Groove - Live\n",
      "Failed requesting Smoking Gun - Live\n",
      "Failed requesting Smoking Gun - Live\n",
      "Failed requesting Tarifa - Live\n",
      "Failed requesting Tarifa - Live\n",
      "Failed requesting Ran - Live\n"
     ]
    },
    {
     "name": "stderr",
     "output_type": "stream",
     "text": [
      "Processing Dayna Stephens_tracks.parquet:  20%|██        | 34/166 [00:00<00:03, 40.06it/s]"
     ]
    },
    {
     "name": "stdout",
     "output_type": "stream",
     "text": [
      "Failed requesting Ran - Live\n",
      "Failed requesting Contagious - Live\n",
      "Failed requesting Contagious - Live\n",
      "Failed requesting Radio-Active Earworm - Live\n",
      "Failed requesting Radio-Active Earworm - Live\n",
      "Failed requesting Faith Leap - Live\n",
      "Failed requesting Faith Leap - Live\n",
      "Failed requesting Lesson One - Live\n",
      "Failed requesting Lesson One - Live\n",
      "Failed requesting Blakonian Groove - Live\n"
     ]
    },
    {
     "name": "stderr",
     "output_type": "stream",
     "text": [
      "Processing Dayna Stephens_tracks.parquet:  25%|██▌       | 42/166 [00:01<00:03, 36.38it/s]"
     ]
    },
    {
     "name": "stdout",
     "output_type": "stream",
     "text": [
      "Failed requesting Blakonian Groove - Live\n",
      "Failed requesting Loosey Goosey - Live\n",
      "Failed requesting Change of Heart\n",
      "Failed requesting Common Ancestors\n",
      "Failed requesting Check Point\n",
      "Failed requesting Just an Ordinary Girl\n",
      "Failed requesting U R Me Blues\n"
     ]
    },
    {
     "name": "stderr",
     "output_type": "stream",
     "text": [
      "Processing Dayna Stephens_tracks.parquet:  30%|███       | 50/166 [00:01<00:03, 35.40it/s]"
     ]
    },
    {
     "name": "stdout",
     "output_type": "stream",
     "text": [
      "Failed requesting Familiar Melody\n",
      "Failed requesting At Least 37th Cousins\n",
      "Failed requesting Emilie\n",
      "Failed requesting In a Garden\n",
      "Failed requesting Amber Is Falling\n",
      "Failed requesting Woodside Waltz\n",
      "Failed requesting We Had a Sister\n",
      "Failed requesting The Timbre of Gratitude\n"
     ]
    },
    {
     "name": "stderr",
     "output_type": "stream",
     "text": [
      "Processing Dayna Stephens_tracks.parquet:  35%|███▍      | 58/166 [00:01<00:03, 35.88it/s]"
     ]
    },
    {
     "name": "stdout",
     "output_type": "stream",
     "text": [
      "Failed requesting Isfahan\n",
      "Failed requesting Don't Mean a Thing at All\n",
      "Failed requesting Clouds\n",
      "Failed requesting Seems Like Yesterday\n",
      "Failed requesting Isn't That So?\n",
      "Failed requesting Blue in Green\n",
      "Failed requesting Uncle Jr.\n",
      "Failed requesting A New Beginning\n"
     ]
    },
    {
     "name": "stderr",
     "output_type": "stream",
     "text": [
      "Processing Dayna Stephens_tracks.parquet:  40%|███▉      | 66/166 [00:01<00:02, 35.77it/s]"
     ]
    },
    {
     "name": "stdout",
     "output_type": "stream",
     "text": [
      "Failed requesting New Day\n",
      "Failed requesting Contrafact\n",
      "Failed requesting Our World\n",
      "Failed requesting Walt's Waltz\n",
      "Failed requesting Blues up and Down\n",
      "Failed requesting Peace\n",
      "Failed requesting I Left My Heart in San Francisco\n",
      "Failed requesting Zingaro\n"
     ]
    },
    {
     "name": "stderr",
     "output_type": "stream",
     "text": [
      "Processing Dayna Stephens_tracks.parquet:  42%|████▏     | 70/166 [00:01<00:02, 35.50it/s]"
     ]
    },
    {
     "name": "stdout",
     "output_type": "stream",
     "text": [
      "Failed requesting The Good Life\n",
      "Failed requesting The Duke\n",
      "Failed requesting Brothers (from \"The Mission\")\n",
      "Failed requesting Deborah's Theme (from \"Once Upon a Time in America\")\n",
      "Failed requesting Oblivion\n",
      "Failed requesting Body and Soul\n"
     ]
    },
    {
     "name": "stderr",
     "output_type": "stream",
     "text": [
      "Processing Dayna Stephens_tracks.parquet:  47%|████▋     | 78/166 [00:02<00:02, 33.65it/s]"
     ]
    },
    {
     "name": "stdout",
     "output_type": "stream",
     "text": [
      "Failed requesting Two for the Road\n",
      "Failed requesting Moonglow\n",
      "Failed requesting Grapes (feat. Joe Cohn, Joe Bagg & Akira Tana)\n",
      "Failed requesting Wil's Way (feat. Wil Blades, Sam Dickey & Akira Tana)\n",
      "Failed requesting Blue in Green (feat. Joe Cohn, Joe Bagg & Akira Tana)\n",
      "Failed requesting New Day (feat. Wil Blades, Sam Dickey & Akira Tana)\n",
      "Failed requesting Sugar (feat. Joe Cohn, Joe Bagg & Akira Tana)\n",
      "Failed requesting The 101 (feat. Joe Cohn, Joe Bagg & Akira Tana)\n"
     ]
    },
    {
     "name": "stderr",
     "output_type": "stream",
     "text": [
      "Processing Dayna Stephens_tracks.parquet:  52%|█████▏    | 86/166 [00:02<00:02, 33.79it/s]"
     ]
    },
    {
     "name": "stdout",
     "output_type": "stream",
     "text": [
      "Failed requesting Begues Life (feat. Wil Blades, Sam Dickey & Akira Tana)\n",
      "Failed requesting Green Dolphin Street (feat. Wil Blades, Sam Dickey & Akira Tana)\n",
      "Failed requesting You Stepped Out of a Dream (feat. Joe Cohn, Joe Bagg & Akira Tana)\n",
      "Failed requesting Dah-Dot Dah\n",
      "Failed requesting Full Circle\n",
      "Failed requesting Nepenthetic\n",
      "Failed requesting Common Occurances\n"
     ]
    },
    {
     "name": "stderr",
     "output_type": "stream",
     "text": [
      "Processing Dayna Stephens_tracks.parquet:  54%|█████▍    | 90/166 [00:02<00:02, 33.16it/s]"
     ]
    },
    {
     "name": "stdout",
     "output_type": "stream",
     "text": [
      "Failed requesting A Walk In the Parc\n",
      "Failed requesting But Beautiful\n",
      "Failed requesting Wink Wink\n",
      "Failed requesting American Typhoon\n",
      "Failed requesting Impressions\n",
      "Failed requesting Dr. Wong's Bird Song\n"
     ]
    },
    {
     "name": "stderr",
     "output_type": "stream",
     "text": [
      "Processing Dayna Stephens_tracks.parquet:  60%|█████▉    | 99/166 [00:02<00:01, 33.93it/s]"
     ]
    },
    {
     "name": "stdout",
     "output_type": "stream",
     "text": [
      "Failed requesting Skylark\n",
      "Failed requesting Kwooked Stweet\n",
      "Failed requesting Radio-active Earworm\n",
      "Failed requesting De Pois Do Amor, O Vazio\n",
      "Failed requesting Loosy Goosy\n",
      "Failed requesting Black Narcissus\n",
      "Failed requesting Haden's Largo\n",
      "Failed requesting Hard-Boiled Wonderland\n"
     ]
    },
    {
     "name": "stderr",
     "output_type": "stream",
     "text": [
      "Processing Dayna Stephens_tracks.parquet:  64%|██████▍   | 107/166 [00:03<00:01, 34.49it/s]"
     ]
    },
    {
     "name": "stdout",
     "output_type": "stream",
     "text": [
      "Failed requesting The Elite\n",
      "Failed requesting Cartoon Element\n",
      "Failed requesting Intro (Incarnation)\n",
      "Failed requesting With Eyes Unclouded\n",
      "Failed requesting Microsorrows\n",
      "Failed requesting A World of Front Porches\n",
      "Failed requesting Translucency\n",
      "Failed requesting The Purpose\n"
     ]
    },
    {
     "name": "stderr",
     "output_type": "stream",
     "text": [
      "Processing Dayna Stephens_tracks.parquet:  69%|██████▉   | 115/166 [00:03<00:01, 34.64it/s]"
     ]
    },
    {
     "name": "stdout",
     "output_type": "stream",
     "text": [
      "Failed requesting III\n",
      "Failed requesting Layers (Detachment)\n",
      "Failed requesting Transmogrification\n",
      "Failed requesting With Eyes Unclouded\n",
      "Failed requesting A World of Front Porches\n",
      "Failed requesting Cyclic Episode / Eighty-One (feat. Dayna Stephens & Massimo Biolcati)\n",
      "Failed requesting N.O. (feat. Marcus Strickland & Massimo Biolcati)\n"
     ]
    },
    {
     "name": "stderr",
     "output_type": "stream",
     "text": [
      "Processing Dayna Stephens_tracks.parquet:  74%|███████▍  | 123/166 [00:03<00:01, 33.77it/s]"
     ]
    },
    {
     "name": "stdout",
     "output_type": "stream",
     "text": [
      "Failed requesting Footprints (feat. Massimo Biolcati & Marcus Strickland)\n",
      "Failed requesting Any-Versary Song (feat. Marcus Strickland & Massimo Biolcati)\n",
      "Failed requesting Drums Suite, Pt. I: Birth\n",
      "Failed requesting Drums Suite, Pt. II: Life\n",
      "Failed requesting Drums Suite, Pt. III: Rebirth\n",
      "Failed requesting Dear Old Stockholm (feat. Dayna Stephens & Massimo Biolcati)\n",
      "Failed requesting The World Rejoices (feat. Dayna Stephens & Massimo Biolcati)\n",
      "Failed requesting Folk Song (feat. Marcus Strickland)\n"
     ]
    },
    {
     "name": "stderr",
     "output_type": "stream",
     "text": [
      "Processing Dayna Stephens_tracks.parquet:  79%|███████▉  | 131/166 [00:03<00:01, 34.53it/s]"
     ]
    },
    {
     "name": "stdout",
     "output_type": "stream",
     "text": [
      "Failed requesting RR\n",
      "Failed requesting Expectation. Regret.\n",
      "Failed requesting Pendulum For NG\n",
      "Failed requesting Salt Point\n",
      "Failed requesting Petrichor\n",
      "Failed requesting Petty Thieves\n",
      "Failed requesting Shackleton's Cocoa\n",
      "Failed requesting Alice\n"
     ]
    },
    {
     "name": "stderr",
     "output_type": "stream",
     "text": [
      "Processing Dayna Stephens_tracks.parquet:  84%|████████▎ | 139/166 [00:03<00:00, 35.90it/s]"
     ]
    },
    {
     "name": "stdout",
     "output_type": "stream",
     "text": [
      "Failed requesting Cyclic Episode / Eighty-One (feat. Dayna Stephens & Massimo Biolcati)\n",
      "Failed requesting Pulse\n",
      "Failed requesting Shapeshifter\n",
      "Failed requesting Portal\n",
      "Failed requesting Between Now and Never\n",
      "Failed requesting Drop Spot\n",
      "Failed requesting Gateway\n",
      "Failed requesting Hyper Controller\n"
     ]
    },
    {
     "name": "stderr",
     "output_type": "stream",
     "text": [
      "Processing Dayna Stephens_tracks.parquet:  87%|████████▋ | 144/166 [00:04<00:00, 37.18it/s]"
     ]
    },
    {
     "name": "stdout",
     "output_type": "stream",
     "text": [
      "Failed requesting Lilac\n",
      "Failed requesting Threshold\n",
      "Failed requesting Destinesia\n",
      "Failed requesting Bang\n",
      "Failed requesting Sunflower\n",
      "Failed requesting Harlem Windmills\n",
      "Failed requesting Thinking Twinking\n"
     ]
    },
    {
     "name": "stderr",
     "output_type": "stream",
     "text": [
      "Processing Dayna Stephens_tracks.parquet:  92%|█████████▏| 152/166 [00:04<00:00, 33.59it/s]"
     ]
    },
    {
     "name": "stdout",
     "output_type": "stream",
     "text": [
      "Failed requesting Flawness\n",
      "Failed requesting Save That New Love\n",
      "Failed requesting A Rainy Day\n",
      "Failed requesting IIII Star\n",
      "Failed requesting Flow\n",
      "Failed requesting Paper Chase'n\n"
     ]
    },
    {
     "name": "stderr",
     "output_type": "stream",
     "text": [
      "Processing Dayna Stephens_tracks.parquet:  96%|█████████▋| 160/166 [00:04<00:00, 33.95it/s]"
     ]
    },
    {
     "name": "stdout",
     "output_type": "stream",
     "text": [
      "Failed requesting You Know You Owe Me Money\n",
      "Failed requesting After Sundown\n",
      "Failed requesting Click Clash\n",
      "Failed requesting Love Zone\n",
      "Failed requesting Elegy for an Undiscovered Species\n",
      "Failed requesting Two Ears Old\n",
      "Failed requesting In Three\n",
      "Failed requesting Expeditor\n"
     ]
    },
    {
     "name": "stderr",
     "output_type": "stream",
     "text": [
      "Processing Dayna Stephens_tracks.parquet: 100%|██████████| 166/166 [00:04<00:00, 34.87it/s]\n",
      "Processing Daz Dillinger_tracks.parquet:   0%|          | 0/270 [00:00<?, ?it/s]"
     ]
    },
    {
     "name": "stdout",
     "output_type": "stream",
     "text": [
      "Failed requesting Longing\n",
      "Failed requesting The Greater Fool\n",
      "Failed requesting Two Ears Old (reprise)\n",
      "Failed requesting Two Ears Old\n",
      "Failed requesting The Legacy (feat. RBX)\n",
      "Failed requesting Compton & Long Beach (feat. Big Pimpin' Delemond & Dalya Riley)\n",
      "Failed requesting 8 Ball Sipp'n\n",
      "Failed requesting Ridin (feat. Kid Capri)\n"
     ]
    },
    {
     "name": "stderr",
     "output_type": "stream",
     "text": [
      "Processing Daz Dillinger_tracks.parquet:   3%|▎         | 8/270 [00:00<00:06, 39.04it/s]"
     ]
    },
    {
     "name": "stdout",
     "output_type": "stream",
     "text": [
      "Failed requesting Just Like Gz (feat. Dalya Riley & Julio G)\n",
      "Failed requesting Pussi So Good\n",
      "Failed requesting What's the Bizznizz (feat. Kevin Slow Jammin James, Nonnie & Makloyd)\n",
      "Failed requesting Eazy\n",
      "Failed requesting Gangsta Memories (feat. Kokane)\n",
      "Failed requesting U R Not Who U R\n",
      "Failed requesting Make Beleive (feat. Baby Eazy-E)\n",
      "Failed requesting Rest N Peace (feat. Nhale & BEEFY LOC)\n",
      "Failed requesting LA LA x NY NY\n"
     ]
    },
    {
     "name": "stderr",
     "output_type": "stream",
     "text": [
      "Processing Daz Dillinger_tracks.parquet:   7%|▋         | 18/270 [00:00<00:06, 40.07it/s]"
     ]
    },
    {
     "name": "stdout",
     "output_type": "stream",
     "text": [
      "Failed requesting STFU\n",
      "Failed requesting Guidelines (feat. N.O.R.E & Kurupt)\n",
      "Failed requesting Startender\n",
      "Failed requesting Coast to Coast LUV (feat. Dusty G. Fuller)\n",
      "Failed requesting Guidelinez (Interlude)\n",
      "Failed requesting Monstaz (feat. M.O.P. & Smif-N-Wessun)\n",
      "Failed requesting We Ready (feat. Havoc)\n",
      "Failed requesting Extendo (feat. Conway The Machine)\n"
     ]
    },
    {
     "name": "stderr",
     "output_type": "stream",
     "text": [
      "Processing Daz Dillinger_tracks.parquet:  10%|█         | 27/270 [00:00<00:06, 39.74it/s]"
     ]
    },
    {
     "name": "stdout",
     "output_type": "stream",
     "text": [
      "Failed requesting Concrete Jungle\n",
      "Failed requesting Do that Shit (feat. Mistah F.A.B.)\n",
      "Failed requesting The Luv Changes (feat. Cheri Pye)\n",
      "Failed requesting Right Away (feat. Nine OD)\n",
      "Failed requesting Pigeons to the Palm Trees\n",
      "Failed requesting We Up (feat. Styles P, Curren$y & Nino Black)\n",
      "Failed requesting Nobody (feat. Choc Mic)\n",
      "Failed requesting Ghetto (feat.Mello Rymes)\n",
      "Failed requesting We Rollin\n"
     ]
    },
    {
     "name": "stderr",
     "output_type": "stream",
     "text": [
      "Processing Daz Dillinger_tracks.parquet:  13%|█▎        | 36/270 [00:00<00:05, 39.40it/s]"
     ]
    },
    {
     "name": "stdout",
     "output_type": "stream",
     "text": [
      "Failed requesting Dissolution of Marriage (feat. October London)\n",
      "Failed requesting Used 2 (feat.Eric Bellinger)\n",
      "Failed requesting Bottom Bitch (feat. Tenah Nassar)\n",
      "Failed requesting Nice & Slow\n",
      "Failed requesting Skip Skip (feat. Kokane & Snoop Dogg)\n",
      "Failed requesting Baby I Want U Bac (feat. Latoiya Williams)\n",
      "Failed requesting It Ain't Nuthin\n",
      "Failed requesting Im On It (feat. Soopafly)\n",
      "Failed requesting Let's Roll\n"
     ]
    },
    {
     "name": "stderr",
     "output_type": "stream",
     "text": [
      "Processing Daz Dillinger_tracks.parquet:  15%|█▌        | 41/270 [00:01<00:05, 40.23it/s]"
     ]
    },
    {
     "name": "stdout",
     "output_type": "stream",
     "text": [
      "Failed requesting Hood Girl (feat. Carlos McSwain)\n",
      "Failed requesting LA Here's to U (feat. Wynn Vaughn)\n",
      "Failed requesting Type of Girl\n",
      "Failed requesting Yo Nigga\n",
      "Failed requesting 1 Day At a Time\n",
      "Failed requesting Beaty Bopper\n"
     ]
    },
    {
     "name": "stderr",
     "output_type": "stream",
     "text": [
      "Processing Daz Dillinger_tracks.parquet:  19%|█▊        | 50/270 [00:01<00:07, 28.12it/s]"
     ]
    },
    {
     "name": "stdout",
     "output_type": "stream",
     "text": [
      "Failed requesting Bout That Work (feat. Coteezy)\n",
      "Failed requesting Burden (feat. Misha Fair)\n",
      "Failed requesting Money N tha Bank\n",
      "Failed requesting Blow a Bag\n",
      "Failed requesting What U Waitin 4 (feat. Shawty Redd)\n",
      "Failed requesting U Know Dat We On It (feat. Slimm Calhoun, K.B. & Backbone)\n",
      "Failed requesting Krossfaded (feat. Dead End Redd & Bossey)\n",
      "Failed requesting One Finger Wheelin (feat. Earlly Mac)\n",
      "Failed requesting Bang On Em (feat. John Floss)\n"
     ]
    },
    {
     "name": "stderr",
     "output_type": "stream",
     "text": [
      "Processing Daz Dillinger_tracks.parquet:  23%|██▎       | 62/270 [00:01<00:06, 34.09it/s]"
     ]
    },
    {
     "name": "stdout",
     "output_type": "stream",
     "text": [
      "Failed requesting I'm A Gangsta (feat. C. Struggs & Rubberband Smitty)\n",
      "Failed requesting We Do This All (feat. King Kamaal)\n",
      "Failed requesting Dat Nigga Daz is the Name\n",
      "Failed requesting My 9 Goes Pow\n",
      "Failed requesting Wake Up Every Morning (feat. Lee Major)\n",
      "Failed requesting Shout Out To My (feat. Cap 1 & 8 Ball)\n",
      "Failed requesting She Fs it Up (feat. Dennis Blaze & Trevis Romell)\n",
      "Failed requesting Steps of a Ruler (feat. Kenyattah Black, BKlyn Chance, Killah Priest & Billy Danze)\n",
      "Failed requesting Neva Get Enough (feat. Knoe Brown & Kaptin Fat)\n"
     ]
    },
    {
     "name": "stderr",
     "output_type": "stream",
     "text": [
      "Processing Daz Dillinger_tracks.parquet:  26%|██▌       | 70/270 [00:01<00:05, 35.90it/s]"
     ]
    },
    {
     "name": "stdout",
     "output_type": "stream",
     "text": [
      "Failed requesting Hard 'n the Paint\n",
      "Failed requesting Ready 4 Sum Action (feat. Kurupt)\n",
      "Failed requesting Bang Bang G Mix (feat. B-Legit & Big Gipp)\n",
      "Failed requesting Dazamataz\n",
      "Failed requesting Ain't the Same (feat. Kokane)\n",
      "Failed requesting Hard Life (feat. The Twinz & Shon Lawon)\n",
      "Failed requesting No One Duz It Better\n",
      "Failed requesting Niggaz Know (feat. G Perico)\n",
      "Failed requesting Succa Free\n"
     ]
    },
    {
     "name": "stderr",
     "output_type": "stream",
     "text": [
      "Processing Daz Dillinger_tracks.parquet:  29%|██▉       | 78/270 [00:02<00:05, 36.57it/s]"
     ]
    },
    {
     "name": "stdout",
     "output_type": "stream",
     "text": [
      "Failed requesting Fucc Dat Talk'n (feat. Willie Mammuth)\n",
      "Failed requesting Gang Streetz (feat. Jayo Felony)\n",
      "Failed requesting Hundid Years\n",
      "Failed requesting Ghetto Bird (feat. Freddie Gibbs & Tray Dee)\n",
      "Failed requesting Higher Than High (feat. Rah Lah & M-1)\n",
      "Failed requesting That's My Baby (feat. Nicole Wray)\n",
      "Failed requesting R U Single (feat. Suga Free & Lil C Style)\n",
      "Failed requesting This Is the Shit (feat. Soopafly)\n"
     ]
    },
    {
     "name": "stderr",
     "output_type": "stream",
     "text": [
      "Processing Daz Dillinger_tracks.parquet:  32%|███▏      | 86/270 [00:02<00:04, 37.55it/s]"
     ]
    },
    {
     "name": "stdout",
     "output_type": "stream",
     "text": [
      "Failed requesting I'm Feelin' You (feat. Rosilee)\n",
      "Failed requesting Curious (feat. Ray J)\n",
      "Failed requesting It's So On (feat. Latoiya Williams)\n",
      "Failed requesting Have U Eva\n",
      "Failed requesting N My System\n",
      "Failed requesting Six n'da Morning\n",
      "Failed requesting Pop Pop Bang\n",
      "Failed requesting Phenomonon\n",
      "Failed requesting Happy Birthday\n"
     ]
    },
    {
     "name": "stderr",
     "output_type": "stream",
     "text": [
      "Processing Daz Dillinger_tracks.parquet:  35%|███▍      | 94/270 [00:02<00:04, 38.42it/s]"
     ]
    },
    {
     "name": "stdout",
     "output_type": "stream",
     "text": [
      "Failed requesting Dic Walk\n",
      "Failed requesting N My Life Tyme\n",
      "Failed requesting Bestfriend\n",
      "Failed requesting Sho You Right\n",
      "Failed requesting What's Yo Pleasure\n",
      "Failed requesting It's Not a Secret\n",
      "Failed requesting Keep'a Nigga High\n",
      "Failed requesting We'll Miss U\n",
      "Failed requesting D.P.G. 4 Life - Intro\n"
     ]
    },
    {
     "name": "stderr",
     "output_type": "stream",
     "text": [
      "Processing Daz Dillinger_tracks.parquet:  39%|███▉      | 106/270 [00:02<00:04, 38.64it/s]"
     ]
    },
    {
     "name": "stdout",
     "output_type": "stream",
     "text": [
      "Failed requesting Drama\n",
      "Failed requesting Ain't That Somethin\n",
      "Failed requesting Bitch Bitch Bitch Make Me Rich\n",
      "Failed requesting Keep It Gangsta\n",
      "Failed requesting I Live Everyday Like I Could Die That Day\n",
      "Failed requesting Load Up\n",
      "Failed requesting Run Tha Streetz\n",
      "Failed requesting We Do This Fa Passion\n",
      "Failed requesting Redrum Galour\n"
     ]
    },
    {
     "name": "stderr",
     "output_type": "stream",
     "text": [
      "Processing Daz Dillinger_tracks.parquet:  41%|████      | 111/270 [00:03<00:04, 36.83it/s]"
     ]
    },
    {
     "name": "stdout",
     "output_type": "stream",
     "text": [
      "Failed requesting This Is Tha Life I Lead\n",
      "Failed requesting D.P.G. 4 Life (Outro) / Gangsta Prerogative / Think About It - Where Ya Headed?\n",
      "Failed requesting Keep It Gangsta - Remix\n",
      "Failed requesting Dillinger & Young Gotti - Intro\n",
      "Failed requesting Dipp Wit Me\n",
      "Failed requesting We Livin Gangsta Like\n",
      "Failed requesting Coastin\n",
      "Failed requesting We About to Get Fuck Up\n"
     ]
    },
    {
     "name": "stderr",
     "output_type": "stream",
     "text": [
      "Processing Daz Dillinger_tracks.parquet:  44%|████▍     | 120/270 [00:03<00:03, 38.47it/s]"
     ]
    },
    {
     "name": "stdout",
     "output_type": "stream",
     "text": [
      "Failed requesting Gitta Strippin\n",
      "Failed requesting Work Dat Pussy\n",
      "Failed requesting Party at My House\n",
      "Failed requesting You're Just a B.I.T.C.H.\n",
      "Failed requesting Treat Her Like a Lady\n",
      "Failed requesting At Night\n",
      "Failed requesting Best Run\n",
      "Failed requesting Shit Happenz\n"
     ]
    },
    {
     "name": "stderr",
     "output_type": "stream",
     "text": [
      "Processing Daz Dillinger_tracks.parquet:  48%|████▊     | 129/270 [00:03<00:03, 39.37it/s]"
     ]
    },
    {
     "name": "stdout",
     "output_type": "stream",
     "text": [
      "Failed requesting My Heart Don't Pump No Tear\n",
      "Failed requesting There's Someway Out\n",
      "Failed requesting Here We Are / Go Killem\n",
      "Failed requesting I'ma Gangsta\n",
      "Failed requesting How Many?\n",
      "Failed requesting C-Walkin' Cha Cha Cha\n",
      "Failed requesting D.P.G.\n",
      "Failed requesting Dillinger & Young Gotti - Intro\n",
      "Failed requesting Dipp Wit Me\n"
     ]
    },
    {
     "name": "stderr",
     "output_type": "stream",
     "text": [
      "Processing Daz Dillinger_tracks.parquet:  51%|█████     | 137/270 [00:03<00:03, 38.47it/s]"
     ]
    },
    {
     "name": "stdout",
     "output_type": "stream",
     "text": [
      "Failed requesting We Livin Gangsta Like\n",
      "Failed requesting Coastin\n",
      "Failed requesting We About to Get Fucc Up\n",
      "Failed requesting Gitta Strippin\n",
      "Failed requesting Party at My House\n",
      "Failed requesting Treat Her Like a Lady\n",
      "Failed requesting At Night\n",
      "Failed requesting Best Run\n",
      "Failed requesting Shit Happenz\n"
     ]
    },
    {
     "name": "stderr",
     "output_type": "stream",
     "text": [
      "Processing Daz Dillinger_tracks.parquet:  54%|█████▍    | 147/270 [00:04<00:03, 38.38it/s]"
     ]
    },
    {
     "name": "stdout",
     "output_type": "stream",
     "text": [
      "Failed requesting My Heart Don't Pump No Tear\n",
      "Failed requesting There's Someway Out\n",
      "Failed requesting Here We Are / Go Killem\n",
      "Failed requesting I'ma Gangsta\n",
      "Failed requesting How Many?\n",
      "Failed requesting C-Walkin' Cha Cha Cha\n",
      "Failed requesting D.P.G.\n",
      "Failed requesting Dillinger & Young Gotti - Outro\n"
     ]
    },
    {
     "name": "stderr",
     "output_type": "stream",
     "text": [
      "Processing Daz Dillinger_tracks.parquet:  57%|█████▋    | 155/270 [00:04<00:03, 37.50it/s]"
     ]
    },
    {
     "name": "stdout",
     "output_type": "stream",
     "text": [
      "Failed requesting D.P.G. 4 Life - Intro\n",
      "Failed requesting Drama\n",
      "Failed requesting Ain't That Somethin\n",
      "Failed requesting Keep It Gangsta\n",
      "Failed requesting I Live Everyday Like I Could Die That Day\n",
      "Failed requesting Load Up\n",
      "Failed requesting Run Tha Streetz\n",
      "Failed requesting We Do This Fa Passion\n",
      "Failed requesting Redrum Galour\n"
     ]
    },
    {
     "name": "stderr",
     "output_type": "stream",
     "text": [
      "Processing Daz Dillinger_tracks.parquet:  61%|██████    | 164/270 [00:04<00:02, 38.71it/s]"
     ]
    },
    {
     "name": "stdout",
     "output_type": "stream",
     "text": [
      "Failed requesting This Is Tha Life I Lead\n",
      "Failed requesting D.P.G. 4 Life - Outro\n",
      "Failed requesting Keep It Gangsta - Remix\n",
      "Failed requesting West Coast Gangsta Sh*t\n",
      "Failed requesting Stay Out The Way (feat. Snoop Dogg)\n",
      "Failed requesting Don't Call It A Comeback\n",
      "Failed requesting When The Sh*t Goes Down\n",
      "Failed requesting Late Nite\n",
      "Failed requesting Blam Blam\n"
     ]
    },
    {
     "name": "stderr",
     "output_type": "stream",
     "text": [
      "Processing Daz Dillinger_tracks.parquet:  64%|██████▎   | 172/270 [00:04<00:02, 39.21it/s]"
     ]
    },
    {
     "name": "stdout",
     "output_type": "stream",
     "text": [
      "Failed requesting Don't Get Wet\n",
      "Failed requesting Roll & Smoke\n",
      "Failed requesting What Cha Gone Do\n",
      "Failed requesting Time Will Prevail\n",
      "Failed requesting Dubs In The Air\n",
      "Failed requesting Alcohol & Drugs\n",
      "Failed requesting Moves I Make (feat. Butch Cassidy)\n"
     ]
    },
    {
     "name": "stderr",
     "output_type": "stream",
     "text": [
      "Processing Daz Dillinger_tracks.parquet:  67%|██████▋   | 180/270 [00:04<00:02, 36.06it/s]"
     ]
    },
    {
     "name": "stdout",
     "output_type": "stream",
     "text": [
      "Failed requesting Outro - Gangsta Talk\n",
      "Failed requesting Legendary\n",
      "Failed requesting GO'GO'GO' (feat. Curren$y, Styles P)\n",
      "Failed requesting I Love Rap Money (feat. Freddie Gibbs)\n",
      "Failed requesting I'll Be There (feat. 8-Ball, T-Mack)\n",
      "Failed requesting Haters Go Blind (feat. Bohagon, Drumma Boy)\n",
      "Failed requesting I'll Make 'M Say (feat. L Seven, BK)\n",
      "Failed requesting Mak'n Dem Dollaz (feat. Bossolo, Spice 1, Big Syke, Big2daBoy)\n"
     ]
    },
    {
     "name": "stderr",
     "output_type": "stream",
     "text": [
      "Processing Daz Dillinger_tracks.parquet:  70%|██████▉   | 188/270 [00:05<00:02, 36.52it/s]"
     ]
    },
    {
     "name": "stdout",
     "output_type": "stream",
     "text": [
      "Failed requesting Super Bros (feat. Soopafly, Kurupt, Snoop Dogg, Spank)\n",
      "Failed requesting Old School (feat. Sinful, Bigg Steele)\n",
      "Failed requesting We Outta Here (feat. Damani)\n",
      "Failed requesting Y.N.W.K.U. (youngn*ggaswillkillu)\n",
      "Failed requesting $treet Money\n",
      "Failed requesting 4 Tha Hood (feat. Schy Keeton, Mz. Jenise)\n",
      "Failed requesting 1 on 1\n",
      "Failed requesting Ryd'n\n"
     ]
    },
    {
     "name": "stderr",
     "output_type": "stream",
     "text": [
      "Processing Daz Dillinger_tracks.parquet:  71%|███████   | 192/270 [00:05<00:02, 36.15it/s]"
     ]
    },
    {
     "name": "stdout",
     "output_type": "stream",
     "text": [
      "Failed requesting Once Again\n",
      "Failed requesting Hold Up (feat. Crystal)\n",
      "Failed requesting Come Thru (feat. Schy Keeton)\n",
      "Failed requesting My B*tch\n",
      "Failed requesting Ball It Up (feat. Khujo)\n",
      "Failed requesting Goin Gorilla\n"
     ]
    },
    {
     "name": "stderr",
     "output_type": "stream",
     "text": [
      "Processing Daz Dillinger_tracks.parquet:  76%|███████▌  | 204/270 [00:05<00:01, 34.38it/s]"
     ]
    },
    {
     "name": "stdout",
     "output_type": "stream",
     "text": [
      "Failed requesting D-Boy Money (feat. 8 Ball, Gwop Nino)\n",
      "Failed requesting Witit Witit\n",
      "Failed requesting Ain't Tell'N What Goes On - Intro\n",
      "Failed requesting D.A.Z. (Destruction Adds Up To Zero)\n",
      "Failed requesting Set It Off\n",
      "Failed requesting Still Get'N Money\n",
      "Failed requesting G Spot\n",
      "Failed requesting Let's Get N2 Something\n"
     ]
    },
    {
     "name": "stderr",
     "output_type": "stream",
     "text": [
      "Processing Daz Dillinger_tracks.parquet:  77%|███████▋  | 208/270 [00:05<00:01, 34.96it/s]"
     ]
    },
    {
     "name": "stdout",
     "output_type": "stream",
     "text": [
      "Failed requesting My Homegirl\n",
      "Failed requesting I'm Cool On U\n",
      "Failed requesting You Know\n",
      "Failed requesting Iz You Ready 2 Die\n",
      "Failed requesting D.P.G. 4 L.I.F.E.\n",
      "Failed requesting No Hand Out's Or Favors\n",
      "Failed requesting Don't U Eva 4 Get\n",
      "Failed requesting Gott Damn\n"
     ]
    },
    {
     "name": "stderr",
     "output_type": "stream",
     "text": [
      "Processing Daz Dillinger_tracks.parquet:  80%|████████  | 217/270 [00:05<00:01, 36.96it/s]"
     ]
    },
    {
     "name": "stdout",
     "output_type": "stream",
     "text": [
      "Failed requesting I'm Hard\n",
      "Failed requesting N*ggaz Knooo\n",
      "Failed requesting Matter of Dayz\n",
      "Failed requesting X'sposed 2 Tha Game\n",
      "Failed requesting We Don't Die We Multiply\n",
      "Failed requesting Pussy Azz N*gga\n",
      "Failed requesting In Tha Caddilac\n",
      "Failed requesting Freeze\n"
     ]
    },
    {
     "name": "stderr",
     "output_type": "stream",
     "text": [
      "Processing Daz Dillinger_tracks.parquet:  83%|████████▎ | 225/270 [00:06<00:01, 36.47it/s]"
     ]
    },
    {
     "name": "stdout",
     "output_type": "stream",
     "text": [
      "Failed requesting Keep It Gangsta\n",
      "Failed requesting You Let Me Down\n",
      "Failed requesting Tell Me What You Got\n",
      "Failed requesting Life Stagez\n",
      "Failed requesting Nuthinz Gonna Stop Me\n",
      "Failed requesting 2nd To None\n",
      "Failed requesting Tear Drops\n",
      "Failed requesting In My Neighborhood\n"
     ]
    },
    {
     "name": "stderr",
     "output_type": "stream",
     "text": [
      "Processing Daz Dillinger_tracks.parquet:  87%|████████▋ | 234/270 [00:06<00:00, 36.01it/s]"
     ]
    },
    {
     "name": "stdout",
     "output_type": "stream",
     "text": [
      "Failed requesting Munchiez 4 Ya Love\n",
      "Failed requesting My #1 Girl\n",
      "Failed requesting Tha Baddest B*tch\n",
      "Failed requesting Meet Me @ Tha Strip Club\n",
      "Failed requesting Public Enemiez\n",
      "Failed requesting Intro Drum Beat\n",
      "Failed requesting Gotta Get These Beats Outta My Head\n"
     ]
    },
    {
     "name": "stderr",
     "output_type": "stream",
     "text": [
      "Processing Daz Dillinger_tracks.parquet:  90%|████████▉ | 242/270 [00:06<00:00, 34.71it/s]"
     ]
    },
    {
     "name": "stdout",
     "output_type": "stream",
     "text": [
      "Failed requesting Jungle Beats\n",
      "Failed requesting Clap To This\n",
      "Failed requesting The Snare Is Comin' Heavy\n",
      "Failed requesting Bass Roll Beat\n",
      "Failed requesting Interlude 1\n",
      "Failed requesting Start & Stop Beats\n",
      "Failed requesting Slow Down, Beat Man\n",
      "Failed requesting Heart Beat\n"
     ]
    },
    {
     "name": "stderr",
     "output_type": "stream",
     "text": [
      "Processing Daz Dillinger_tracks.parquet:  93%|█████████▎| 250/270 [00:06<00:00, 34.88it/s]"
     ]
    },
    {
     "name": "stdout",
     "output_type": "stream",
     "text": [
      "Failed requesting March To This Beat\n",
      "Failed requesting Interlude 2\n",
      "Failed requesting Snare 2 Hat\n",
      "Failed requesting The Bells Are Ringin'\n",
      "Failed requesting Roll The Beat\n",
      "Failed requesting Simple Beat\n",
      "Failed requesting Knock, Knock, Knock That Beat\n"
     ]
    },
    {
     "name": "stderr",
     "output_type": "stream",
     "text": [
      "Processing Daz Dillinger_tracks.parquet:  96%|█████████▌| 258/270 [00:07<00:00, 34.21it/s]"
     ]
    },
    {
     "name": "stdout",
     "output_type": "stream",
     "text": [
      "Failed requesting Fast Beats\n",
      "Failed requesting The Bells Are Ringin' Again\n",
      "Failed requesting Interlude 3\n",
      "Failed requesting Squeeze\n",
      "Failed requesting I'm From The Hood\n",
      "Failed requesting Only On Tha Leftside\n",
      "Failed requesting My Summer Vacation\n",
      "Failed requesting Meal Ticket\n"
     ]
    },
    {
     "name": "stderr",
     "output_type": "stream",
     "text": [
      "Processing Daz Dillinger_tracks.parquet:  97%|█████████▋| 262/270 [00:07<00:00, 33.97it/s]"
     ]
    },
    {
     "name": "stdout",
     "output_type": "stream",
     "text": [
      "Failed requesting I'm Tha Dopeman\n",
      "Failed requesting Blaze Up Tha Weed\n",
      "Failed requesting W-Ballz 187.4\n",
      "Failed requesting Dip Drop Stop Dip\n",
      "Failed requesting This How We Do It\n",
      "Failed requesting Do Yo Thang\n",
      "Failed requesting Thiz Weekend\n"
     ]
    },
    {
     "name": "stderr",
     "output_type": "stream",
     "text": [
      "Processing Daz Dillinger_tracks.parquet: 100%|██████████| 270/270 [00:07<00:00, 35.99it/s]\n",
      "Processing Dazz Band_tracks.parquet:   0%|          | 0/230 [00:00<?, ?it/s]"
     ]
    },
    {
     "name": "stdout",
     "output_type": "stream",
     "text": [
      "Failed requesting Me & My Cuzzin\n",
      "Failed requesting Regretz\n",
      "Failed requesting Who I Be\n",
      "Failed requesting My Wayz R Shady\n",
      "Failed requesting Thiz How We Live\n",
      "Failed requesting To the Roof\n",
      "Failed requesting Joystick\n"
     ]
    },
    {
     "name": "stderr",
     "output_type": "stream",
     "text": [
      "Processing Dazz Band_tracks.parquet:   3%|▎         | 8/230 [00:00<00:05, 37.31it/s]"
     ]
    },
    {
     "name": "stdout",
     "output_type": "stream",
     "text": [
      "Failed requesting Swoop (I'm Yours)\n",
      "Failed requesting Until You\n",
      "Failed requesting Rock With Me\n",
      "Failed requesting Straight out of School\n",
      "Failed requesting Now That I Have You\n",
      "Failed requesting Laughin' at You\n",
      "Failed requesting T. Mata\n",
      "Failed requesting Let It All Blow\n"
     ]
    },
    {
     "name": "stderr",
     "output_type": "stream",
     "text": [
      "Processing Dazz Band_tracks.parquet:   5%|▌         | 12/230 [00:00<00:05, 38.23it/s]"
     ]
    },
    {
     "name": "stdout",
     "output_type": "stream",
     "text": [
      "Failed requesting Keep You Comin' back for More\n",
      "Failed requesting She's the One\n",
      "Failed requesting Heartbeat\n",
      "Failed requesting Dream Girl\n",
      "Failed requesting Undercover Lover\n"
     ]
    },
    {
     "name": "stderr",
     "output_type": "stream",
     "text": [
      "Processing Dazz Band_tracks.parquet:   9%|▊         | 20/230 [00:00<00:06, 32.38it/s]"
     ]
    },
    {
     "name": "stdout",
     "output_type": "stream",
     "text": [
      "Failed requesting I've Been Waiting\n",
      "Failed requesting Main Attraction\n",
      "Failed requesting So Much Love\n",
      "Failed requesting Double ZZ\n",
      "Failed requesting Double ZZ\n",
      "Failed requesting Swoop - Live\n",
      "Failed requesting Swoop - Live\n"
     ]
    },
    {
     "name": "stderr",
     "output_type": "stream",
     "text": [
      "Processing Dazz Band_tracks.parquet:  10%|█         | 24/230 [00:00<00:06, 31.27it/s]"
     ]
    },
    {
     "name": "stdout",
     "output_type": "stream",
     "text": [
      "Failed requesting Joystick - Live\n",
      "Failed requesting Joystick - Live\n",
      "Failed requesting Keep It Live - Live\n",
      "Failed requesting Keep It Live - Live\n",
      "Failed requesting Knock Knock - Live\n"
     ]
    },
    {
     "name": "stderr",
     "output_type": "stream",
     "text": [
      "Processing Dazz Band_tracks.parquet:  15%|█▌        | 35/230 [00:04<00:36,  5.33it/s]"
     ]
    },
    {
     "name": "stdout",
     "output_type": "stream",
     "text": [
      "Failed requesting There I Go - Live\n",
      "Failed requesting There I Go - Live\n",
      "Failed requesting Let It All Blow - Live\n",
      "Failed requesting Let It All Blow - Live\n",
      "Failed requesting Let It Whip - Live\n",
      "Failed requesting Let It Whip - Live\n",
      "Failed requesting Double ZZ (Reprise)\n",
      "Failed requesting Double ZZ (Reprise)\n",
      "Failed requesting Swoop - Live\n"
     ]
    },
    {
     "name": "stderr",
     "output_type": "stream",
     "text": [
      "Processing Dazz Band_tracks.parquet:  19%|█▊        | 43/230 [00:04<00:19,  9.73it/s]"
     ]
    },
    {
     "name": "stdout",
     "output_type": "stream",
     "text": [
      "Failed requesting Knock Knock - Live\n",
      "Failed requesting Joystick - Live\n",
      "Failed requesting Let It Whip - Live\n",
      "Failed requesting Let It All Blow - Live\n",
      "Failed requesting There I Go - Live\n",
      "Failed requesting Keep It Live - Live\n",
      "Failed requesting Armando\n"
     ]
    },
    {
     "name": "stderr",
     "output_type": "stream",
     "text": [
      "Processing Dazz Band_tracks.parquet:  22%|██▏       | 50/230 [00:04<00:12, 14.79it/s]"
     ]
    },
    {
     "name": "stdout",
     "output_type": "stream",
     "text": [
      "Failed requesting Baby You Are Loved\n",
      "Failed requesting Back Home\n",
      "Failed requesting Disco Dazz - Live\n",
      "Failed requesting Friday Night\n",
      "Failed requesting I Believe n U\n",
      "Failed requesting Just Because\n",
      "Failed requesting Keep It Live\n"
     ]
    },
    {
     "name": "stderr",
     "output_type": "stream",
     "text": [
      "Processing Dazz Band_tracks.parquet:  25%|██▌       | 58/230 [00:04<00:08, 21.23it/s]"
     ]
    },
    {
     "name": "stdout",
     "output_type": "stream",
     "text": [
      "Failed requesting Love Company\n",
      "Failed requesting Rock Your World\n",
      "Failed requesting Sister Moon\n",
      "Failed requesting Strung Out\n",
      "Failed requesting Sunshine Summer\n",
      "Failed requesting Introduction\n",
      "Failed requesting Introduction\n",
      "Failed requesting Ain't Nuthin But A Jam\n"
     ]
    },
    {
     "name": "stderr",
     "output_type": "stream",
     "text": [
      "Processing Dazz Band_tracks.parquet:  29%|██▊       | 66/230 [00:05<00:06, 26.78it/s]"
     ]
    },
    {
     "name": "stdout",
     "output_type": "stream",
     "text": [
      "Failed requesting Ain't Nuthin But A Jam\n",
      "Failed requesting Swoop\n",
      "Failed requesting Swoop\n",
      "Failed requesting Disco Dazz\n",
      "Failed requesting Disco Dazz\n",
      "Failed requesting Joy Stick\n",
      "Failed requesting Joy Stick\n",
      "Failed requesting Heartbeat\n"
     ]
    },
    {
     "name": "stderr",
     "output_type": "stream",
     "text": [
      "Processing Dazz Band_tracks.parquet:  32%|███▏      | 74/230 [00:05<00:05, 31.02it/s]"
     ]
    },
    {
     "name": "stdout",
     "output_type": "stream",
     "text": [
      "Failed requesting Heartbeat\n",
      "Failed requesting Let It Whip\n",
      "Failed requesting Let It Whip\n",
      "Failed requesting Tryin' To Get My Groove On\n",
      "Failed requesting Dance With Somebody\n",
      "Failed requesting Under The Street Lights\n",
      "Failed requesting Give Me Just A Little Bit\n",
      "Failed requesting Fly Away\n"
     ]
    },
    {
     "name": "stderr",
     "output_type": "stream",
     "text": [
      "Processing Dazz Band_tracks.parquet:  36%|███▌      | 82/230 [00:05<00:04, 33.94it/s]"
     ]
    },
    {
     "name": "stdout",
     "output_type": "stream",
     "text": [
      "Failed requesting Lets Talk About Love\n",
      "Failed requesting Dazz\n",
      "Failed requesting It's Your Party\n",
      "Failed requesting Love Is A Bitch\n",
      "Failed requesting Nasty Boogie\n",
      "Failed requesting I Like You\n",
      "Failed requesting Ten Toes\n",
      "Failed requesting Dazz Mega Mix\n"
     ]
    },
    {
     "name": "stderr",
     "output_type": "stream",
     "text": [
      "Processing Dazz Band_tracks.parquet:  39%|███▉      | 90/230 [00:05<00:04, 30.78it/s]"
     ]
    },
    {
     "name": "stdout",
     "output_type": "stream",
     "text": [
      "Failed requesting Double ZZ\n",
      "Failed requesting Swoop - Bonus Track\n",
      "Failed requesting Joystick - Live\n",
      "Failed requesting Keep It Live - Live\n",
      "Failed requesting Knock Knock - Live\n",
      "Failed requesting Heartbeat\n"
     ]
    },
    {
     "name": "stderr",
     "output_type": "stream",
     "text": [
      "Processing Dazz Band_tracks.parquet:  43%|████▎     | 98/230 [00:05<00:04, 30.98it/s]"
     ]
    },
    {
     "name": "stdout",
     "output_type": "stream",
     "text": [
      "Failed requesting There I Go - Live\n",
      "Failed requesting Let It All Blow - Live\n",
      "Failed requesting Let It Whip - Live\n",
      "Failed requesting Double ZZ (Reprise)\n",
      "Failed requesting Burning Rubber\n",
      "Failed requesting Aquaboogie\n",
      "Failed requesting Love Rollercoaster (live)\n",
      "Failed requesting Introduction\n"
     ]
    },
    {
     "name": "stderr",
     "output_type": "stream",
     "text": [
      "Processing Dazz Band_tracks.parquet:  46%|████▌     | 106/230 [00:06<00:03, 32.16it/s]"
     ]
    },
    {
     "name": "stdout",
     "output_type": "stream",
     "text": [
      "Failed requesting Introduction\n",
      "Failed requesting Ain't Nuthin But A Jam\n",
      "Failed requesting Ain't Nuthin But A Jam\n",
      "Failed requesting Swoop\n",
      "Failed requesting Swoop\n",
      "Failed requesting Disco Dazz\n",
      "Failed requesting Disco Dazz\n",
      "Failed requesting Joy Stick\n"
     ]
    },
    {
     "name": "stderr",
     "output_type": "stream",
     "text": [
      "Processing Dazz Band_tracks.parquet:  50%|████▉     | 114/230 [00:06<00:03, 34.58it/s]"
     ]
    },
    {
     "name": "stdout",
     "output_type": "stream",
     "text": [
      "Failed requesting Joy Stick\n",
      "Failed requesting Heartbeat\n",
      "Failed requesting Heartbeat\n",
      "Failed requesting Let It Whip\n",
      "Failed requesting Let It Whip\n",
      "Failed requesting And I Mean\n",
      "Failed requesting Makin' Music\n",
      "Failed requesting Watcha Earn\n"
     ]
    },
    {
     "name": "stderr",
     "output_type": "stream",
     "text": [
      "Processing Dazz Band_tracks.parquet:  51%|█████▏    | 118/230 [00:06<00:03, 33.76it/s]"
     ]
    },
    {
     "name": "stdout",
     "output_type": "stream",
     "text": [
      "Failed requesting Pretty Woman\n",
      "Failed requesting Be About Lovin' You\n",
      "Failed requesting I Found Out About You\n",
      "Failed requesting Heavenly\n",
      "Failed requesting Spend The Night\n",
      "Failed requesting Party\n"
     ]
    },
    {
     "name": "stderr",
     "output_type": "stream",
     "text": [
      "Processing Dazz Band_tracks.parquet:  55%|█████▍    | 126/230 [00:06<00:03, 30.82it/s]"
     ]
    },
    {
     "name": "stdout",
     "output_type": "stream",
     "text": [
      "Failed requesting Funky Boys\n",
      "Failed requesting Double ZZ\n",
      "Failed requesting Swoop - Live\n",
      "Failed requesting Joystick - Live\n",
      "Failed requesting Keep It Live - Live\n",
      "Failed requesting Knock Knock - Live\n",
      "Failed requesting Heartbeat\n"
     ]
    },
    {
     "name": "stderr",
     "output_type": "stream",
     "text": [
      "Processing Dazz Band_tracks.parquet:  57%|█████▋    | 130/230 [00:06<00:03, 30.80it/s]"
     ]
    },
    {
     "name": "stdout",
     "output_type": "stream",
     "text": [
      "Failed requesting There I Go - Live\n",
      "Failed requesting Let It All Blow - Live\n",
      "Failed requesting Let It Whip - Live\n",
      "Failed requesting Double ZZ (Reprise)\n",
      "Failed requesting You Are My Starship\n",
      "Failed requesting What's Up In Your World\n"
     ]
    },
    {
     "name": "stderr",
     "output_type": "stream",
     "text": [
      "Processing Dazz Band_tracks.parquet:  60%|██████    | 138/230 [00:07<00:02, 30.85it/s]"
     ]
    },
    {
     "name": "stdout",
     "output_type": "stream",
     "text": [
      "Failed requesting Ain't Nuthin But A Jam Y'All\n",
      "Failed requesting Love Don't Make No Sense\n",
      "Failed requesting She's My Lady\n",
      "Failed requesting Girl You Got A Body\n",
      "Failed requesting Oh What A Night\n",
      "Failed requesting Do Poppa Do\n",
      "Failed requesting Get Off My Groove\n"
     ]
    },
    {
     "name": "stderr",
     "output_type": "stream",
     "text": [
      "Processing Dazz Band_tracks.parquet:  64%|██████▍   | 147/230 [00:07<00:02, 35.59it/s]"
     ]
    },
    {
     "name": "stdout",
     "output_type": "stream",
     "text": [
      "Failed requesting Nasty Boogie\n",
      "Failed requesting Double ZZ\n",
      "Failed requesting Double ZZ\n",
      "Failed requesting Swoop - Live\n",
      "Failed requesting Swoop - Live\n",
      "Failed requesting Joystick - Live\n",
      "Failed requesting Joystick - Live\n",
      "Failed requesting Keep It Live - Live\n",
      "Failed requesting Keep It Live - Live\n"
     ]
    },
    {
     "name": "stderr",
     "output_type": "stream",
     "text": [
      "Processing Dazz Band_tracks.parquet:  67%|██████▋   | 155/230 [00:07<00:02, 36.69it/s]"
     ]
    },
    {
     "name": "stdout",
     "output_type": "stream",
     "text": [
      "Failed requesting Knock Knock - Live\n",
      "Failed requesting Knock Knock - Live\n",
      "Failed requesting Heartbeat\n",
      "Failed requesting Heartbeat\n",
      "Failed requesting There I Go - Live\n",
      "Failed requesting There I Go - Live\n",
      "Failed requesting Let It All Blow - Live\n",
      "Failed requesting Let It All Blow - Live\n",
      "Failed requesting Let It Whip - Live\n"
     ]
    },
    {
     "name": "stderr",
     "output_type": "stream",
     "text": [
      "Processing Dazz Band_tracks.parquet:  71%|███████   | 163/230 [00:07<00:01, 36.73it/s]"
     ]
    },
    {
     "name": "stdout",
     "output_type": "stream",
     "text": [
      "Failed requesting Let It Whip - Live\n",
      "Failed requesting Double ZZ (Reprise)\n",
      "Failed requesting Double ZZ (Reprise)\n",
      "Failed requesting Let It Whip\n",
      "Failed requesting Heartbeat - Single Version\n",
      "Failed requesting Sooner Or Later\n",
      "Failed requesting Shake It Up\n"
     ]
    },
    {
     "name": "stderr",
     "output_type": "stream",
     "text": [
      "Processing Dazz Band_tracks.parquet:  74%|███████▍  | 171/230 [00:08<00:01, 35.33it/s]"
     ]
    },
    {
     "name": "stdout",
     "output_type": "stream",
     "text": [
      "Failed requesting I Believe In You\n",
      "Failed requesting Joystick - Single Version\n",
      "Failed requesting Shake What You Got\n",
      "Failed requesting Bad Girl\n",
      "Failed requesting Hot Spot\n",
      "Failed requesting So Much Love\n",
      "Failed requesting I'll Keep On Lovin' You\n"
     ]
    },
    {
     "name": "stderr",
     "output_type": "stream",
     "text": [
      "Processing Dazz Band_tracks.parquet:  78%|███████▊  | 179/230 [00:08<00:01, 34.16it/s]"
     ]
    },
    {
     "name": "stdout",
     "output_type": "stream",
     "text": [
      "Failed requesting Megamix\n",
      "Failed requesting Nasty Boogie\n",
      "Failed requesting There I Go\n",
      "Failed requesting Ten Toes Up\n",
      "Failed requesting Swoop (I'm Yours)\n",
      "Failed requesting Keep It Live (On The K.I.L.)\n",
      "Failed requesting A Love Song\n",
      "Failed requesting I Might As Well Forget About Loving You\n"
     ]
    },
    {
     "name": "stderr",
     "output_type": "stream",
     "text": [
      "Processing Dazz Band_tracks.parquet:  80%|███████▉  | 183/230 [00:08<00:01, 35.40it/s]"
     ]
    },
    {
     "name": "stdout",
     "output_type": "stream",
     "text": [
      "Failed requesting Knock! Knock!\n",
      "Failed requesting Heartbeat\n",
      "Failed requesting Let It Whip - Extended 7\" Mix\n",
      "Failed requesting Joystick - Extended 7'' Mix\n",
      "Failed requesting Let It All Blow - Alternate Master Mix Edit\n",
      "Failed requesting Let the Music Play\n"
     ]
    },
    {
     "name": "stderr",
     "output_type": "stream",
     "text": [
      "Processing Dazz Band_tracks.parquet:  83%|████████▎ | 192/230 [00:08<00:01, 32.30it/s]"
     ]
    },
    {
     "name": "stdout",
     "output_type": "stream",
     "text": [
      "Failed requesting Catchin' Up On Love\n",
      "Failed requesting When You Need Roses\n",
      "Failed requesting Bop Gun\n",
      "Failed requesting Sho' You Right\n",
      "Failed requesting Girl Got Body\n",
      "Failed requesting Do Poppa Do\n",
      "Failed requesting Downstairs Lounge\n",
      "Failed requesting Ride\n"
     ]
    },
    {
     "name": "stderr",
     "output_type": "stream",
     "text": [
      "Processing Dazz Band_tracks.parquet:  87%|████████▋ | 200/230 [00:09<00:00, 32.40it/s]"
     ]
    },
    {
     "name": "stdout",
     "output_type": "stream",
     "text": [
      "Failed requesting Summer Swim\n",
      "Failed requesting I Wanna Be With You\n",
      "Failed requesting The Things I'd Do\n",
      "Failed requesting Oh What a Night\n",
      "Failed requesting Anticipation\n",
      "Failed requesting Single Girls\n"
     ]
    },
    {
     "name": "stderr",
     "output_type": "stream",
     "text": [
      "Processing Dazz Band_tracks.parquet:  90%|█████████ | 208/230 [00:09<00:00, 31.90it/s]"
     ]
    },
    {
     "name": "stdout",
     "output_type": "stream",
     "text": [
      "Failed requesting Open Sesame\n",
      "Failed requesting One Time Lover\n",
      "Failed requesting Body Drum\n",
      "Failed requesting Huff and Puff\n",
      "Failed requesting All the Way\n",
      "Failed requesting Rock the Room\n",
      "Failed requesting Once in a Lifetime Love\n"
     ]
    },
    {
     "name": "stderr",
     "output_type": "stream",
     "text": [
      "Processing Dazz Band_tracks.parquet:  92%|█████████▏| 212/230 [00:09<00:00, 32.01it/s]"
     ]
    },
    {
     "name": "stdout",
     "output_type": "stream",
     "text": [
      "Failed requesting If Only You Were In My Shoes\n",
      "Failed requesting Hot Spot\n",
      "Failed requesting Paranoid\n",
      "Failed requesting All The Way\n",
      "Failed requesting S.C.L. & P. (Style, Class, Looks And Personality)\n",
      "Failed requesting She Used To Be My Girl\n",
      "Failed requesting When You Need Roses\n",
      "Failed requesting Slow Rap\n"
     ]
    },
    {
     "name": "stderr",
     "output_type": "stream",
     "text": [
      "Processing Dazz Band_tracks.parquet:  96%|█████████▌| 220/230 [00:09<00:00, 35.13it/s]"
     ]
    },
    {
     "name": "stdout",
     "output_type": "stream",
     "text": [
      "Failed requesting Hot Spot - Club Mix\n",
      "Failed requesting Heartbeat - 12\" Version\n",
      "Failed requesting Let It All Blow - Special Disco Remix\n",
      "Failed requesting Swoop (I'm Yours) - 12\" Version\n",
      "Failed requesting Joystick - Vocal 12\"\n",
      "Failed requesting Let It All Blow\n",
      "Failed requesting Keep You Comin' Back For More\n",
      "Failed requesting She's The One\n"
     ]
    },
    {
     "name": "stderr",
     "output_type": "stream",
     "text": [
      "Processing Dazz Band_tracks.parquet: 100%|██████████| 230/230 [00:09<00:00, 23.24it/s]\n",
      "Processing DC Talk_tracks.parquet:   0%|          | 0/224 [00:00<?, ?it/s]"
     ]
    },
    {
     "name": "stdout",
     "output_type": "stream",
     "text": [
      "Failed requesting Heartbeat\n",
      "Failed requesting Dream Girl\n",
      "Failed requesting Undercover Lover\n",
      "Failed requesting I've Been Waiting\n",
      "Failed requesting Main Attraction\n",
      "Failed requesting So Much Love\n"
     ]
    },
    {
     "name": "stderr",
     "output_type": "stream",
     "text": [
      "Processing DC Talk_tracks.parquet:   2%|▏         | 4/224 [00:00<00:06, 34.42it/s]"
     ]
    },
    {
     "name": "stdout",
     "output_type": "stream",
     "text": [
      "Failed requesting Say The Words - Live\n",
      "Failed requesting Luv Is A Verb - Live\n",
      "Failed requesting Word 2 The Father - Live\n",
      "Failed requesting That Kinda Girl - Live\n",
      "Failed requesting I Don't Want It - Live\n",
      "Failed requesting Things Of This World - Live\n",
      "Failed requesting Jesus Is Just Alright - Live\n"
     ]
    },
    {
     "name": "stderr",
     "output_type": "stream",
     "text": [
      "Processing DC Talk_tracks.parquet:   5%|▌         | 12/224 [00:00<00:06, 33.10it/s]"
     ]
    },
    {
     "name": "stdout",
     "output_type": "stream",
     "text": [
      "Failed requesting I Wish We'd All Been Ready - Live\n",
      "Failed requesting 40 - Live\n",
      "Failed requesting Walls - Live\n",
      "Failed requesting Time Is ... - Live\n",
      "Failed requesting Lean On Me - Live\n",
      "Failed requesting Socially Acceptable - Live\n",
      "Failed requesting Heavenbound - Live\n",
      "Failed requesting Free At Last - Live\n"
     ]
    },
    {
     "name": "stderr",
     "output_type": "stream",
     "text": [
      "Processing DC Talk_tracks.parquet:   9%|▉         | 20/224 [00:00<00:05, 35.36it/s]"
     ]
    },
    {
     "name": "stdout",
     "output_type": "stream",
     "text": [
      "Failed requesting Jesus Freak - Remastered 2013\n",
      "Failed requesting In The Light - Remastered 2013\n",
      "Failed requesting Supernatural - Live\n",
      "Failed requesting What If I Stumble? - Remastered 2013\n",
      "Failed requesting Colored People - Remastered 2013\n",
      "Failed requesting Consume Me - Remastered 2013\n"
     ]
    },
    {
     "name": "stderr",
     "output_type": "stream",
     "text": [
      "Processing DC Talk_tracks.parquet:  11%|█         | 24/224 [00:00<00:07, 28.15it/s]"
     ]
    },
    {
     "name": "stdout",
     "output_type": "stream",
     "text": [
      "Failed requesting Between You And Me - Remastered 2013\n",
      "Failed requesting Jesus Is Just Alright - Remastered 2013\n",
      "Failed requesting Dive - Live\n",
      "Failed requesting Into Jesus - Remastered 2013\n",
      "Failed requesting Mind's Eye - Remastered 2013\n",
      "Failed requesting Supernatural - Remastered 2013\n"
     ]
    },
    {
     "name": "stderr",
     "output_type": "stream",
     "text": [
      "Processing DC Talk_tracks.parquet:  14%|█▍        | 31/224 [00:04<00:51,  3.73it/s]"
     ]
    },
    {
     "name": "stdout",
     "output_type": "stream",
     "text": [
      "Failed requesting I Wish We'd All Been Ready - Live\n"
     ]
    },
    {
     "name": "stderr",
     "output_type": "stream",
     "text": [
      "Processing DC Talk_tracks.parquet:  16%|█▌        | 35/224 [00:07<01:24,  2.24it/s]"
     ]
    },
    {
     "name": "stdout",
     "output_type": "stream",
     "text": [
      "Failed requesting Red Letters - Remastered 2013\n",
      "Failed requesting Dive - Live\n"
     ]
    },
    {
     "name": "stderr",
     "output_type": "stream",
     "text": [
      "Processing DC Talk_tracks.parquet:  17%|█▋        | 37/224 [00:08<01:27,  2.15it/s]"
     ]
    },
    {
     "name": "stdout",
     "output_type": "stream",
     "text": [
      "Failed requesting Since I Met You - Live\n",
      "Failed requesting Godsend - Live\n"
     ]
    },
    {
     "name": "stderr",
     "output_type": "stream",
     "text": [
      "Processing DC Talk_tracks.parquet:  21%|██▏       | 48/224 [00:10<00:36,  4.80it/s]"
     ]
    },
    {
     "name": "stdout",
     "output_type": "stream",
     "text": [
      "Failed requesting Into Jesus - Live\n",
      "Failed requesting My Will - Live\n",
      "Failed requesting Wanna Be Loved - Live\n",
      "Failed requesting Supernatural - Live\n",
      "Failed requesting Red Letters - Live\n",
      "Failed requesting Intro - Remastered 2013\n",
      "Failed requesting It's Killing Me - Remastered 2013\n"
     ]
    },
    {
     "name": "stderr",
     "output_type": "stream",
     "text": [
      "Processing DC Talk_tracks.parquet:  24%|██▍       | 54/224 [00:11<00:31,  5.40it/s]"
     ]
    },
    {
     "name": "stdout",
     "output_type": "stream",
     "text": [
      "Failed requesting Consume Me - Remastered 2013\n",
      "Failed requesting My Friend (So Long) - Remastered 2013\n",
      "Failed requesting Fearless - Remastered 2013\n",
      "Failed requesting Godsend - Remastered 2013\n",
      "Failed requesting Wanna Be Loved - Remastered 2013\n",
      "Failed requesting The Truth - Remastered 2013\n",
      "Failed requesting Since I Met You - Remastered 2013\n",
      "Failed requesting Into Jesus - Remastered 2013\n"
     ]
    },
    {
     "name": "stderr",
     "output_type": "stream",
     "text": [
      "Processing DC Talk_tracks.parquet:  28%|██▊       | 63/224 [00:12<00:14, 11.43it/s]"
     ]
    },
    {
     "name": "stdout",
     "output_type": "stream",
     "text": [
      "Failed requesting Supernatural - Remastered 2013\n",
      "Failed requesting Red Letters - Remastered 2013\n",
      "Failed requesting There Is A Treason At Sea - Remastered 2013\n",
      "Failed requesting So Help Me God\n",
      "Failed requesting Colored People\n",
      "Failed requesting Jesus Freak\n",
      "Failed requesting What If I Stumble?\n",
      "Failed requesting Day By Day\n",
      "Failed requesting Mrs. Morgan - Remastered\n"
     ]
    },
    {
     "name": "stderr",
     "output_type": "stream",
     "text": [
      "Processing DC Talk_tracks.parquet:  32%|███▏      | 71/224 [00:12<00:08, 18.17it/s]"
     ]
    },
    {
     "name": "stdout",
     "output_type": "stream",
     "text": [
      "Failed requesting Between You And Me\n",
      "Failed requesting Like It, Love It, Need It\n",
      "Failed requesting Jesus Freak Reprise - Remastered\n",
      "Failed requesting In The Light - Remastered\n",
      "Failed requesting What Have We Become\n",
      "Failed requesting Mind's Eye\n",
      "Failed requesting Alas My Love (Poem)\n",
      "Failed requesting Intro\n",
      "Failed requesting It's Killing Me\n"
     ]
    },
    {
     "name": "stderr",
     "output_type": "stream",
     "text": [
      "Processing DC Talk_tracks.parquet:  36%|███▌      | 80/224 [00:12<00:05, 25.80it/s]"
     ]
    },
    {
     "name": "stdout",
     "output_type": "stream",
     "text": [
      "Failed requesting Dive\n",
      "Failed requesting Consume Me\n",
      "Failed requesting My Friend (So Long)\n",
      "Failed requesting Fearless\n",
      "Failed requesting Godsend\n",
      "Failed requesting So Help Me God\n",
      "Failed requesting Colored People\n",
      "Failed requesting Jesus Freak\n"
     ]
    },
    {
     "name": "stderr",
     "output_type": "stream",
     "text": [
      "Processing DC Talk_tracks.parquet:  39%|███▉      | 88/224 [00:12<00:04, 30.62it/s]"
     ]
    },
    {
     "name": "stdout",
     "output_type": "stream",
     "text": [
      "Failed requesting What If I Stumble?\n",
      "Failed requesting Day By Day\n",
      "Failed requesting Mrs. Morgan - Remastered\n",
      "Failed requesting Between You And Me\n",
      "Failed requesting Like It, Love It, Need It\n",
      "Failed requesting Jesus Freak Reprise - Remastered\n",
      "Failed requesting In The Light - Remastered\n",
      "Failed requesting What Have We Become\n"
     ]
    },
    {
     "name": "stderr",
     "output_type": "stream",
     "text": [
      "Processing DC Talk_tracks.parquet:  41%|████      | 92/224 [00:12<00:04, 32.41it/s]"
     ]
    },
    {
     "name": "stdout",
     "output_type": "stream",
     "text": [
      "Failed requesting Mind's Eye\n",
      "Failed requesting Alas My Love (Poem)\n",
      "Failed requesting So Help Me God - Savadocious Junk Yard Mix 1974\n",
      "Failed requesting Jesus Freak - The Savage Perspective Mix\n"
     ]
    },
    {
     "name": "stderr",
     "output_type": "stream",
     "text": [
      "Processing DC Talk_tracks.parquet:  43%|████▎     | 96/224 [00:13<00:13,  9.63it/s]"
     ]
    },
    {
     "name": "stdout",
     "output_type": "stream",
     "text": [
      "Failed requesting Between You And Me - Fab Remix\n",
      "Failed requesting Like It, Love It, Need It - dDubb Remix\n"
     ]
    },
    {
     "name": "stderr",
     "output_type": "stream",
     "text": [
      "Processing DC Talk_tracks.parquet:  46%|████▌     | 102/224 [00:18<00:47,  2.57it/s]"
     ]
    },
    {
     "name": "stdout",
     "output_type": "stream",
     "text": [
      "Failed requesting When DC Talks\n"
     ]
    },
    {
     "name": "stderr",
     "output_type": "stream",
     "text": [
      "Processing DC Talk_tracks.parquet:  47%|████▋     | 106/224 [00:21<01:05,  1.81it/s]"
     ]
    },
    {
     "name": "stdout",
     "output_type": "stream",
     "text": [
      "Failed requesting The Hardway\n",
      "Failed requesting That Kinda Girl\n"
     ]
    },
    {
     "name": "stderr",
     "output_type": "stream",
     "text": [
      "Processing DC Talk_tracks.parquet:  49%|████▊     | 109/224 [00:22<00:56,  2.03it/s]"
     ]
    },
    {
     "name": "stdout",
     "output_type": "stream",
     "text": [
      "Failed requesting Word 2 The Father\n",
      "Failed requesting Say The Words (Now) - Remix\n"
     ]
    },
    {
     "name": "stderr",
     "output_type": "stream",
     "text": [
      "Processing DC Talk_tracks.parquet:  50%|█████     | 112/224 [00:23<00:50,  2.22it/s]"
     ]
    },
    {
     "name": "stdout",
     "output_type": "stream",
     "text": [
      "Failed requesting Between You And Me\n"
     ]
    },
    {
     "name": "stderr",
     "output_type": "stream",
     "text": [
      "Processing DC Talk_tracks.parquet:  61%|██████    | 136/224 [00:47<01:31,  1.04s/it]"
     ]
    },
    {
     "name": "stdout",
     "output_type": "stream",
     "text": [
      "Failed requesting Free At Last 10th Anniversary Interview - Look Back-intro\n",
      "Failed requesting Free At Last 10th Anniversary Interview (Look Back-Luv Is A Verb)\n"
     ]
    },
    {
     "name": "stderr",
     "output_type": "stream",
     "text": [
      "Processing DC Talk_tracks.parquet:  97%|█████████▋| 217/224 [02:09<00:07,  1.04s/it]"
     ]
    },
    {
     "name": "stdout",
     "output_type": "stream",
     "text": [
      "Failed requesting I Wish We'd All Been Ready - Live\n"
     ]
    },
    {
     "name": "stderr",
     "output_type": "stream",
     "text": [
      "Processing DC Talk_tracks.parquet:  99%|█████████▉| 222/224 [02:13<00:01,  1.06it/s]"
     ]
    },
    {
     "name": "stdout",
     "output_type": "stream",
     "text": [
      "Failed requesting I Wish We'd All Been Ready - Live\n"
     ]
    },
    {
     "name": "stderr",
     "output_type": "stream",
     "text": [
      "Processing DC Talk_tracks.parquet: 100%|██████████| 224/224 [02:14<00:00,  1.66it/s]\n",
      "Processing DD_MM_YYYY_tracks.parquet:   6%|▋         | 4/64 [00:00<00:01, 30.52it/s]"
     ]
    },
    {
     "name": "stdout",
     "output_type": "stream",
     "text": [
      "Failed requesting Bronzage\n",
      "Failed requesting No Life\n",
      "Failed requesting \"They\"\n",
      "Failed requesting Infinity Skull Cube\n",
      "Failed requesting My Glasses\n",
      "Failed requesting Birdtown\n",
      "Failed requesting Sirius B\n",
      "Failed requesting Lismer\n"
     ]
    },
    {
     "name": "stderr",
     "output_type": "stream",
     "text": [
      "Processing DD_MM_YYYY_tracks.parquet:  19%|█▉        | 12/64 [00:00<00:01, 33.16it/s]"
     ]
    },
    {
     "name": "stdout",
     "output_type": "stream",
     "text": [
      "Failed requesting Real Eyes\n",
      "Failed requesting $50,000 Guitar Head\n",
      "Failed requesting I'm Still in the Walls\n",
      "Failed requesting Digital Haircut\n",
      "Failed requesting Super VGF\n",
      "Failed requesting 777\n"
     ]
    },
    {
     "name": "stderr",
     "output_type": "stream",
     "text": [
      "Processing DD_MM_YYYY_tracks.parquet:  31%|███▏      | 20/64 [00:00<00:01, 30.69it/s]"
     ]
    },
    {
     "name": "stdout",
     "output_type": "stream",
     "text": [
      "Failed requesting Are They Masks?\n",
      "Failed requesting Simple Life\n",
      "Failed requesting Imagine!\n",
      "Failed requesting White Lies\n",
      "Failed requesting Subjects\n",
      "Failed requesting Fort Drippy\n",
      "Failed requesting Nervous Symptoms\n"
     ]
    },
    {
     "name": "stderr",
     "output_type": "stream",
     "text": [
      "Processing DD_MM_YYYY_tracks.parquet:  38%|███▊      | 24/64 [00:00<00:01, 31.49it/s]"
     ]
    },
    {
     "name": "stdout",
     "output_type": "stream",
     "text": [
      "Failed requesting Sun Moon\n",
      "Failed requesting Batman Guitar Clock\n",
      "Failed requesting Coin Wash\n",
      "Failed requesting Twin Stars\n"
     ]
    },
    {
     "name": "stderr",
     "output_type": "stream",
     "text": [
      "Processing DD_MM_YYYY_tracks.parquet:  44%|████▍     | 28/64 [00:00<00:01, 25.85it/s]"
     ]
    },
    {
     "name": "stdout",
     "output_type": "stream",
     "text": [
      "Failed requesting Big Guy Was a Cat\n",
      "Failed requesting Gentle Dudes with Muscles\n",
      "Failed requesting As Clouds\n",
      "Failed requesting Objects\n",
      "Failed requesting Live Sex Acts\n",
      "Failed requesting Mr. T Cereal\n",
      "Failed requesting Davemunthier@gmail.COM\n"
     ]
    },
    {
     "name": "stderr",
     "output_type": "stream",
     "text": [
      "Processing DD_MM_YYYY_tracks.parquet:  56%|█████▋    | 36/64 [00:01<00:00, 29.34it/s]"
     ]
    },
    {
     "name": "stdout",
     "output_type": "stream",
     "text": [
      "Failed requesting Psychic Arts\n",
      "Failed requesting Sanitary America\n",
      "Failed requesting We're Not Perfect\n",
      "Failed requesting teenageartfagcancerclub\n",
      "Failed requesting Death and Taxes\n",
      "Failed requesting Culture Industry\n",
      "Failed requesting Innermission\n"
     ]
    },
    {
     "name": "stderr",
     "output_type": "stream",
     "text": [
      "Processing DD_MM_YYYY_tracks.parquet:  69%|██████▉   | 44/64 [00:01<00:00, 30.11it/s]"
     ]
    },
    {
     "name": "stdout",
     "output_type": "stream",
     "text": [
      "Failed requesting This Is Not Our War\n",
      "Failed requesting City Nights/warez your head @\n",
      "Failed requesting Blue Screen of Death\n",
      "Failed requesting Welcome to the Fortress of the Fluffy Love Cloud\n",
      "Failed requesting The Lost Toys\n",
      "Failed requesting So Cold\n",
      "Failed requesting Cancerboy on Hash\n"
     ]
    },
    {
     "name": "stderr",
     "output_type": "stream",
     "text": [
      "Processing DD_MM_YYYY_tracks.parquet:  75%|███████▌  | 48/64 [00:01<00:00, 31.07it/s]"
     ]
    },
    {
     "name": "stdout",
     "output_type": "stream",
     "text": [
      "Failed requesting Pretty Good Song\n",
      "Failed requesting Awake Infinity in an Ethereal Wasteland\n",
      "Failed requesting On Mountain Tops\n",
      "Failed requesting Believe/The Vision of Patt\n",
      "Failed requesting Bee, The Flight and Fall\n",
      "Failed requesting You Say It's Fascination\n"
     ]
    },
    {
     "name": "stderr",
     "output_type": "stream",
     "text": [
      "Processing DD_MM_YYYY_tracks.parquet:  88%|████████▊ | 56/64 [00:01<00:00, 30.20it/s]"
     ]
    },
    {
     "name": "stdout",
     "output_type": "stream",
     "text": [
      "Failed requesting Your Song, My Song\n",
      "Failed requesting Rhythm is Routine\n",
      "Failed requesting Division - Courtesy of Arts & Crafts International\n",
      "Failed requesting Impeach the President - Live @ SXSW 2007\n",
      "Failed requesting Cheer it On - Trey Told 'Em Mix\n",
      "Failed requesting Cinderella\n",
      "Failed requesting Simple Life - Courtesy of We are Busy Bodies\n"
     ]
    },
    {
     "name": "stderr",
     "output_type": "stream",
     "text": [
      "Processing DD_MM_YYYY_tracks.parquet: 100%|██████████| 64/64 [00:02<00:00, 30.55it/s]\n",
      "Processing De La Soul_tracks.parquet:   0%|          | 0/229 [00:00<?, ?it/s]"
     ]
    },
    {
     "name": "stdout",
     "output_type": "stream",
     "text": [
      "Failed requesting Chile\n",
      "Failed requesting Mr. Therapy Man - Courtesy of Coalition Entertainment Records Inc.\n",
      "Failed requesting On the Outside - Courtesy of Freedumb Records\n",
      "Failed requesting Happy\n",
      "Failed requesting Out on the Streets - Recorded live February 2007\n",
      "Failed requesting Opening Credits\n",
      "Failed requesting Pushin` Aside, Pushin` Along\n"
     ]
    },
    {
     "name": "stderr",
     "output_type": "stream",
     "text": [
      "Processing De La Soul_tracks.parquet:   3%|▎         | 8/229 [00:00<00:05, 37.22it/s]"
     ]
    },
    {
     "name": "stdout",
     "output_type": "stream",
     "text": [
      "Failed requesting The Work\n",
      "Failed requesting Small Disasters\n",
      "Failed requesting We Made It\n",
      "Failed requesting We Made It - Interlude\n",
      "Failed requesting Must B The Music\n",
      "Failed requesting Goon TV - Interlude\n",
      "Failed requesting The Book Of Life\n",
      "Failed requesting Clash Symphony\n"
     ]
    },
    {
     "name": "stderr",
     "output_type": "stream",
     "text": [
      "Processing De La Soul_tracks.parquet:   7%|▋         | 16/229 [00:00<00:05, 38.13it/s]"
     ]
    },
    {
     "name": "stdout",
     "output_type": "stream",
     "text": [
      "Failed requesting Pop Life\n",
      "Failed requesting Tennis\n",
      "Failed requesting The Top Chefs\n",
      "Failed requesting Backstage - Interlude\n",
      "Failed requesting Move `Em In, Move `Em Out\n",
      "Failed requesting Ending Credits\n",
      "Failed requesting Opening Credits - Instrumental Version\n",
      "Failed requesting Pushin' Aside, Pushin' Along - Instrumental Version\n"
     ]
    },
    {
     "name": "stderr",
     "output_type": "stream",
     "text": [
      "Processing De La Soul_tracks.parquet:  10%|█         | 24/229 [00:00<00:05, 38.14it/s]"
     ]
    },
    {
     "name": "stdout",
     "output_type": "stream",
     "text": [
      "Failed requesting The Work - Instrumental Version\n",
      "Failed requesting Small Disasters - Instrumental Version\n",
      "Failed requesting We Made It instru - Instrumental Version\n",
      "Failed requesting Must B The Music - Instrumental Version\n",
      "Failed requesting The Book Of Life instru - Instrumental Version\n",
      "Failed requesting Clash Symphony - Instrumental Version\n",
      "Failed requesting Pop Life - Instrumental Version\n",
      "Failed requesting Tennis - Instrumental Version\n",
      "Failed requesting The Top Chefs - Instrumental Version\n"
     ]
    },
    {
     "name": "stderr",
     "output_type": "stream",
     "text": [
      "Processing De La Soul_tracks.parquet:  14%|█▍        | 33/229 [00:00<00:04, 39.50it/s]"
     ]
    },
    {
     "name": "stdout",
     "output_type": "stream",
     "text": [
      "Failed requesting Move 'Em In, Move 'Em Out - Instrumental Version\n",
      "Failed requesting Genesis\n",
      "Failed requesting Royalty Capes\n",
      "Failed requesting Pain\n",
      "Failed requesting Pain\n",
      "Failed requesting Property of Spitkicker.com\n",
      "Failed requesting Memory of... (US)\n",
      "Failed requesting CBGBS\n",
      "Failed requesting CBGBS\n"
     ]
    },
    {
     "name": "stderr",
     "output_type": "stream",
     "text": [
      "Processing De La Soul_tracks.parquet:  18%|█▊        | 42/229 [00:01<00:04, 39.88it/s]"
     ]
    },
    {
     "name": "stdout",
     "output_type": "stream",
     "text": [
      "Failed requesting Lord Intended\n",
      "Failed requesting Snoopies\n",
      "Failed requesting Greyhounds\n",
      "Failed requesting Sexy Bitch\n",
      "Failed requesting Trainwreck\n",
      "Failed requesting Drawn\n",
      "Failed requesting Whoodeeni\n",
      "Failed requesting Nosed Up\n",
      "Failed requesting You Go Dave (A Goldblatt Presentation)\n"
     ]
    },
    {
     "name": "stderr",
     "output_type": "stream",
     "text": [
      "Processing De La Soul_tracks.parquet:  22%|██▏       | 50/229 [00:01<00:04, 39.15it/s]"
     ]
    },
    {
     "name": "stdout",
     "output_type": "stream",
     "text": [
      "Failed requesting Here in After\n",
      "Failed requesting Exodus\n",
      "Failed requesting Genesis - Instrumental\n",
      "Failed requesting Genesis - Instrumental\n",
      "Failed requesting Royalty Capes - Instrumental\n",
      "Failed requesting Royalty Capes - Instrumental\n",
      "Failed requesting Pain - Instrumental\n",
      "Failed requesting Property of Spitkicker.com - Instrumental\n",
      "Failed requesting Property of Spitkicker.com - Instrumental\n"
     ]
    },
    {
     "name": "stderr",
     "output_type": "stream",
     "text": [
      "Processing De La Soul_tracks.parquet:  26%|██▌       | 60/229 [00:01<00:04, 39.19it/s]"
     ]
    },
    {
     "name": "stdout",
     "output_type": "stream",
     "text": [
      "Failed requesting Memory of... (US) - Instrumental\n",
      "Failed requesting Memory of... (US) - Instrumental\n",
      "Failed requesting CBGBS - Instrumental\n",
      "Failed requesting Lord Intended - Instrumental\n",
      "Failed requesting Lord Intended - Instrumental\n",
      "Failed requesting Snoopies - Instrumental\n",
      "Failed requesting Snoopies - Instrumental\n",
      "Failed requesting Greyhounds - Instrumental\n",
      "Failed requesting Greyhounds - Instrumental\n"
     ]
    },
    {
     "name": "stderr",
     "output_type": "stream",
     "text": [
      "Processing De La Soul_tracks.parquet:  30%|███       | 69/229 [00:01<00:04, 39.59it/s]"
     ]
    },
    {
     "name": "stdout",
     "output_type": "stream",
     "text": [
      "Failed requesting Sexy Bitch - Instrumental\n",
      "Failed requesting Trainwreck - Instrumental\n",
      "Failed requesting Trainwreck - Instrumental\n",
      "Failed requesting Drawn - Instrumental\n",
      "Failed requesting Drawn - Instrumental\n",
      "Failed requesting Whoodeeni - Instrumental\n",
      "Failed requesting Whoodeeni - Instrumental\n",
      "Failed requesting Nosed Up - Instrumental\n",
      "Failed requesting Nosed Up - Instrumental\n"
     ]
    },
    {
     "name": "stderr",
     "output_type": "stream",
     "text": [
      "Processing De La Soul_tracks.parquet:  34%|███▎      | 77/229 [00:01<00:03, 39.25it/s]"
     ]
    },
    {
     "name": "stdout",
     "output_type": "stream",
     "text": [
      "Failed requesting Here in After - Instrumental\n",
      "Failed requesting Here in After - Instrumental\n",
      "Failed requesting Exodus - Instrumental\n",
      "Failed requesting Exodus - Instrumental\n",
      "Failed requesting Pain\n",
      "Failed requesting Pain\n",
      "Failed requesting CBGBS\n",
      "Failed requesting CBGBS\n",
      "Failed requesting Genesis - Instrumental\n"
     ]
    },
    {
     "name": "stderr",
     "output_type": "stream",
     "text": [
      "Processing De La Soul_tracks.parquet:  38%|███▊      | 87/229 [00:02<00:03, 40.45it/s]"
     ]
    },
    {
     "name": "stdout",
     "output_type": "stream",
     "text": [
      "Failed requesting Genesis - Instrumental\n",
      "Failed requesting Royalty Capes - Instrumental\n",
      "Failed requesting Royalty Capes - Instrumental\n",
      "Failed requesting Property of Spitkicker.com - Instrumental\n",
      "Failed requesting Property of Spitkicker.com - Instrumental\n",
      "Failed requesting Memory of... (US) - Instrumental\n",
      "Failed requesting Memory of... (US) - Instrumental\n",
      "Failed requesting Lord Intended - Instrumental\n",
      "Failed requesting Lord Intended - Instrumental\n"
     ]
    },
    {
     "name": "stderr",
     "output_type": "stream",
     "text": [
      "Processing De La Soul_tracks.parquet:  42%|████▏     | 97/229 [00:02<00:03, 41.03it/s]"
     ]
    },
    {
     "name": "stdout",
     "output_type": "stream",
     "text": [
      "Failed requesting Snoopies - Instrumental\n",
      "Failed requesting Snoopies - Instrumental\n",
      "Failed requesting Greyhounds - Instrumental\n",
      "Failed requesting Greyhounds - Instrumental\n",
      "Failed requesting Trainwreck - Instrumental\n",
      "Failed requesting Trainwreck - Instrumental\n",
      "Failed requesting Drawn - Instrumental\n",
      "Failed requesting Drawn - Instrumental\n",
      "Failed requesting Whoodeeni - Instrumental\n"
     ]
    },
    {
     "name": "stderr",
     "output_type": "stream",
     "text": [
      "Processing De La Soul_tracks.parquet:  45%|████▍     | 102/229 [00:02<00:03, 41.22it/s]"
     ]
    },
    {
     "name": "stdout",
     "output_type": "stream",
     "text": [
      "Failed requesting Whoodeeni - Instrumental\n",
      "Failed requesting Nosed Up - Instrumental\n",
      "Failed requesting Nosed Up - Instrumental\n",
      "Failed requesting Here in After - Instrumental\n",
      "Failed requesting Here in After - Instrumental\n",
      "Failed requesting Exodus - Instrumental\n",
      "Failed requesting Exodus - Instrumental\n"
     ]
    },
    {
     "name": "stderr",
     "output_type": "stream",
     "text": [
      "Processing De La Soul_tracks.parquet:  49%|████▉     | 112/229 [00:02<00:02, 39.01it/s]"
     ]
    },
    {
     "name": "stdout",
     "output_type": "stream",
     "text": [
      "Failed requesting Sexy Bitch (Instrumental Version)\n",
      "Failed requesting The Future\n",
      "Failed requesting Verbal Clap\n",
      "Failed requesting Much More (feat. Yummy)\n",
      "Failed requesting Shopping Bags (She Got from You)\n",
      "Failed requesting The Grind Date\n",
      "Failed requesting Church\n",
      "Failed requesting It's Like That (feat. Carl Thomas)\n",
      "Failed requesting He Comes (feat. Ghostface)\n"
     ]
    },
    {
     "name": "stderr",
     "output_type": "stream",
     "text": [
      "Processing De La Soul_tracks.parquet:  53%|█████▎    | 121/229 [00:03<00:02, 39.54it/s]"
     ]
    },
    {
     "name": "stdout",
     "output_type": "stream",
     "text": [
      "Failed requesting Days of Our Lives (feat. Common)\n",
      "Failed requesting Come On Down (feat. Flava Flav)\n",
      "Failed requesting No (feat. Butta Verses)\n",
      "Failed requesting Rock Co.Kane Flow (feat. MF Doom)\n",
      "Failed requesting Shoomp (feat. Sean Paul)\n",
      "Failed requesting Intro\n",
      "Failed requesting Bionix\n",
      "Failed requesting Baby Phat\n",
      "Failed requesting Simply\n"
     ]
    },
    {
     "name": "stderr",
     "output_type": "stream",
     "text": [
      "Processing De La Soul_tracks.parquet:  57%|█████▋    | 131/229 [00:03<00:02, 40.19it/s]"
     ]
    },
    {
     "name": "stdout",
     "output_type": "stream",
     "text": [
      "Failed requesting Simply Havin'\n",
      "Failed requesting Held Down\n",
      "Failed requesting Rev. Do Good #1\n",
      "Failed requesting Watch Out\n",
      "Failed requesting Special\n",
      "Failed requesting Rev. Do Good #2\n",
      "Failed requesting The Sauce\n",
      "Failed requesting Am I Worth You?\n",
      "Failed requesting Pawn Star\n"
     ]
    },
    {
     "name": "stderr",
     "output_type": "stream",
     "text": [
      "Processing De La Soul_tracks.parquet:  62%|██████▏   | 141/229 [00:03<00:02, 39.72it/s]"
     ]
    },
    {
     "name": "stdout",
     "output_type": "stream",
     "text": [
      "Failed requesting What We Do (For Love)\n",
      "Failed requesting Rev. Do Good #3\n",
      "Failed requesting Peer Pressure\n",
      "Failed requesting It's American\n",
      "Failed requesting Trying People\n",
      "Failed requesting Spitkicker.com/Say R.\n",
      "Failed requesting U Can Do (Life)\n",
      "Failed requesting My Writes\n"
     ]
    },
    {
     "name": "stderr",
     "output_type": "stream",
     "text": [
      "Processing De La Soul_tracks.parquet:  64%|██████▍   | 146/229 [00:03<00:02, 40.56it/s]"
     ]
    },
    {
     "name": "stdout",
     "output_type": "stream",
     "text": [
      "Failed requesting Oooh / Ghost Weed Skit 01\n",
      "Failed requesting Thru Ya City\n",
      "Failed requesting I. C. Y'all\n",
      "Failed requesting View\n",
      "Failed requesting Interluden\n",
      "Failed requesting Set the Mood / Ghost Weed Skit 02\n",
      "Failed requesting All Good?\n",
      "Failed requesting Declaration\n",
      "Failed requesting Squat!\n"
     ]
    },
    {
     "name": "stderr",
     "output_type": "stream",
     "text": [
      "Processing De La Soul_tracks.parquet:  68%|██████▊   | 156/229 [00:03<00:01, 40.39it/s]"
     ]
    },
    {
     "name": "stdout",
     "output_type": "stream",
     "text": [
      "Failed requesting Words from the Chief Rocker\n",
      "Failed requesting With Me / Ghost Weed Skit 03\n",
      "Failed requesting Copa (Cabanga)\n",
      "Failed requesting Foolin'\n",
      "Failed requesting The Art of Getting Jumped\n",
      "Failed requesting U Don't Wanna B.D.S.\n",
      "Failed requesting Intro\n",
      "Failed requesting Supa Emcees\n",
      "Failed requesting The Bizness\n"
     ]
    },
    {
     "name": "stderr",
     "output_type": "stream",
     "text": [
      "Processing De La Soul_tracks.parquet:  72%|███████▏  | 166/229 [00:04<00:01, 41.07it/s]"
     ]
    },
    {
     "name": "stdout",
     "output_type": "stream",
     "text": [
      "Failed requesting Yunonstop\n",
      "Failed requesting Wonce Again Long Island\n",
      "Failed requesting Dinninit\n",
      "Failed requesting Brakes\n",
      "Failed requesting Dog Eat Dog\n",
      "Failed requesting Baby, Baby, Baby, Baby, Ooh Baby\n",
      "Failed requesting Long Island Degrees\n",
      "Failed requesting Betta Listen\n",
      "Failed requesting Itzsoweezee (HOT)\n"
     ]
    },
    {
     "name": "stderr",
     "output_type": "stream",
     "text": [
      "Processing De La Soul_tracks.parquet:  77%|███████▋  | 176/229 [00:04<00:01, 40.48it/s]"
     ]
    },
    {
     "name": "stdout",
     "output_type": "stream",
     "text": [
      "Failed requesting 4 More\n",
      "Failed requesting Big Brother Beat\n",
      "Failed requesting Down Syndrome\n",
      "Failed requesting Pony Ride\n",
      "Failed requesting Stakes Is High\n",
      "Failed requesting Sunshine\n",
      "Failed requesting Intro\n",
      "Failed requesting Eye Patch\n",
      "Failed requesting En Focus\n"
     ]
    },
    {
     "name": "stderr",
     "output_type": "stream",
     "text": [
      "Processing De La Soul_tracks.parquet:  81%|████████  | 186/229 [00:04<00:01, 40.35it/s]"
     ]
    },
    {
     "name": "stdout",
     "output_type": "stream",
     "text": [
      "Failed requesting Patti Dooke\n",
      "Failed requesting I Be Blowin'\n",
      "Failed requesting Long Island Wildin' - Skit\n",
      "Failed requesting Ego Trippin' (Part Two)\n",
      "Failed requesting Paul's Revenge - Skit\n",
      "Failed requesting 3 Days Later\n",
      "Failed requesting Area\n",
      "Failed requesting I Am I Be\n",
      "Failed requesting In The Woods\n"
     ]
    },
    {
     "name": "stderr",
     "output_type": "stream",
     "text": [
      "Processing De La Soul_tracks.parquet:  83%|████████▎ | 191/229 [00:04<00:00, 40.62it/s]"
     ]
    },
    {
     "name": "stdout",
     "output_type": "stream",
     "text": [
      "Failed requesting Breakadawn\n",
      "Failed requesting Dave Has a Problem...Seriously - Skit\n",
      "Failed requesting Stone Age\n",
      "Failed requesting Intro\n",
      "Failed requesting Oodles of O's\n",
      "Failed requesting Talkin' Bout Hey Love\n",
      "Failed requesting Pease Porridge\n",
      "Failed requesting Skit 1\n",
      "Failed requesting Johnny's Dead AKA Vincent Mason (Live from the BK Lounge)\n"
     ]
    },
    {
     "name": "stderr",
     "output_type": "stream",
     "text": [
      "Processing De La Soul_tracks.parquet:  88%|████████▊ | 201/229 [00:05<00:00, 41.08it/s]"
     ]
    },
    {
     "name": "stdout",
     "output_type": "stream",
     "text": [
      "Failed requesting A Roller Skating Jam Named \"Saturdays\"\n",
      "Failed requesting WRMS' Dedication to the Bitty\n",
      "Failed requesting Bitties in the BK Lounge\n",
      "Failed requesting Skit 2\n",
      "Failed requesting My Brother's a Basehead\n",
      "Failed requesting Let, Let Me In\n",
      "Failed requesting Afro Connections at a Hi 5 (In the Eyes of the Hoodlum)\n",
      "Failed requesting Rap De Rap Show\n",
      "Failed requesting Millie Pulled a Pistol on Santa\n"
     ]
    },
    {
     "name": "stderr",
     "output_type": "stream",
     "text": [
      "Processing De La Soul_tracks.parquet:  92%|█████████▏| 211/229 [00:05<00:00, 39.94it/s]"
     ]
    },
    {
     "name": "stdout",
     "output_type": "stream",
     "text": [
      "Failed requesting Who Do U Worship?\n",
      "Failed requesting Skit 3\n",
      "Failed requesting Kicked Out the House\n",
      "Failed requesting Pass the Plugs\n",
      "Failed requesting Not Over Till the Fat Lady Plays the Demo\n",
      "Failed requesting Intro\n",
      "Failed requesting The Magic Number\n",
      "Failed requesting Change In Speak\n",
      "Failed requesting Cool Breeze on the Rocks - The Melted Version\n",
      "Failed requesting Can U Keep a Secret\n"
     ]
    },
    {
     "name": "stderr",
     "output_type": "stream",
     "text": [
      "Processing De La Soul_tracks.parquet:  97%|█████████▋| 221/229 [00:05<00:00, 41.22it/s]"
     ]
    },
    {
     "name": "stdout",
     "output_type": "stream",
     "text": [
      "Failed requesting Jenifa Taught Me (Derwin's Revenge)\n",
      "Failed requesting Ghetto Thang\n",
      "Failed requesting Transmitting Live from Mars\n",
      "Failed requesting Eye Know\n",
      "Failed requesting Take It Off\n",
      "Failed requesting A Little Bit of Soap\n",
      "Failed requesting Tread Water\n",
      "Failed requesting Potholes in My Lawn\n",
      "Failed requesting Say No Go\n",
      "Failed requesting Do as De La Does\n"
     ]
    },
    {
     "name": "stderr",
     "output_type": "stream",
     "text": [
      "Processing De La Soul_tracks.parquet: 100%|██████████| 229/229 [00:05<00:00, 39.98it/s]\n",
      "Processing De Lux_tracks.parquet:   0%|          | 0/51 [00:00<?, ?it/s]"
     ]
    },
    {
     "name": "stdout",
     "output_type": "stream",
     "text": [
      "Failed requesting Plug Tunin' (Last Chance to Comprehend)\n",
      "Failed requesting De La Orgee\n",
      "Failed requesting Buddy\n",
      "Failed requesting Description\n",
      "Failed requesting Me Myself and I\n",
      "Failed requesting They Call This Love\n",
      "Failed requesting Time To Say Goodnight\n"
     ]
    },
    {
     "name": "stderr",
     "output_type": "stream",
     "text": [
      "Processing De Lux_tracks.parquet:  16%|█▌        | 8/51 [00:00<00:01, 32.59it/s]"
     ]
    },
    {
     "name": "stdout",
     "output_type": "stream",
     "text": [
      "Failed requesting New Summers\n",
      "Failed requesting Validation\n",
      "Failed requesting Morning Misses Me\n",
      "Failed requesting All This Time\n",
      "Failed requesting Some Things Never Break\n",
      "Failed requesting What's Life\n",
      "Failed requesting Act Of Defiance\n"
     ]
    },
    {
     "name": "stderr",
     "output_type": "stream",
     "text": [
      "Processing De Lux_tracks.parquet:  31%|███▏      | 16/51 [00:00<00:01, 34.12it/s]"
     ]
    },
    {
     "name": "stdout",
     "output_type": "stream",
     "text": [
      "Failed requesting On and On (Till the End of Us)\n",
      "Failed requesting Belong To You\n",
      "Failed requesting The Final Breath You Take\n",
      "Failed requesting Do You Need A Release?\n",
      "Failed requesting 875 Dollars\n",
      "Failed requesting These Are Some of the Things That I Think About\n",
      "Failed requesting Smarter Harder Darker\n",
      "Failed requesting Cause for Concern\n"
     ]
    },
    {
     "name": "stderr",
     "output_type": "stream",
     "text": [
      "Processing De Lux_tracks.parquet:  39%|███▉      | 20/51 [00:00<00:00, 32.44it/s]"
     ]
    },
    {
     "name": "stdout",
     "output_type": "stream",
     "text": [
      "Failed requesting Writing Music for Money, To Write More Music\n",
      "Failed requesting Keyboards Cause We're Black and White\n",
      "Failed requesting Music Snob\n",
      "Failed requesting Guys Just Want to Have Pleasure\n",
      "Failed requesting Stratosphere Girl\n",
      "Failed requesting Poorn in the Nightmare\n"
     ]
    },
    {
     "name": "stderr",
     "output_type": "stream",
     "text": [
      "Processing De Lux_tracks.parquet:  55%|█████▍    | 28/51 [00:00<00:00, 31.00it/s]"
     ]
    },
    {
     "name": "stdout",
     "output_type": "stream",
     "text": [
      "Failed requesting La Threshold\n",
      "Failed requesting 30\n",
      "Failed requesting Living in an Open Place\n",
      "Failed requesting Center of L.U.B.\n",
      "Failed requesting Simba Simba Simba\n",
      "Failed requesting No One Really Cares Who You Are\n",
      "Failed requesting Oh Man the Future\n",
      "Failed requesting Conditions\n"
     ]
    },
    {
     "name": "stderr",
     "output_type": "stream",
     "text": [
      "Processing De Lux_tracks.parquet:  71%|███████   | 36/51 [00:01<00:00, 34.79it/s]"
     ]
    },
    {
     "name": "stdout",
     "output_type": "stream",
     "text": [
      "Failed requesting When Your Life Feels Like a Loss\n",
      "Failed requesting It's a Combination\n",
      "Failed requesting Someday Now\n",
      "Failed requesting Better at Making Time\n",
      "Failed requesting Moments\n",
      "Failed requesting I've Got to Make a Solid Statement (No More Likes and Ums)\n",
      "Failed requesting Love Is a Phase\n",
      "Failed requesting On the Day\n",
      "Failed requesting Make Space\n"
     ]
    },
    {
     "name": "stderr",
     "output_type": "stream",
     "text": [
      "Processing De Lux_tracks.parquet:  86%|████████▋ | 44/51 [00:01<00:00, 35.86it/s]"
     ]
    },
    {
     "name": "stdout",
     "output_type": "stream",
     "text": [
      "Failed requesting Sometimes Your Friends Are Not Your Friends\n",
      "Failed requesting Brighter End of Dark\n",
      "Failed requesting It All Works All the Time\n",
      "Failed requesting New Summers - Jason Bentley Remix\n",
      "Failed requesting They Call This Love\n",
      "Failed requesting Morning Misses Me\n",
      "Failed requesting New Summers\n"
     ]
    },
    {
     "name": "stderr",
     "output_type": "stream",
     "text": [
      "Processing De Lux_tracks.parquet: 100%|██████████| 51/51 [00:01<00:00, 33.18it/s]\n",
      "Processing De Novo Dahl_tracks.parquet:   0%|          | 0/46 [00:00<?, ?it/s]"
     ]
    },
    {
     "name": "stdout",
     "output_type": "stream",
     "text": [
      "Failed requesting Revolver - De Lux Remix\n",
      "Failed requesting Revolver\n",
      "Failed requesting Some Things Never Break\n",
      "Failed requesting On and On (Till the End of Us)\n",
      "Failed requesting Shout\n",
      "Failed requesting Shout\n"
     ]
    },
    {
     "name": "stderr",
     "output_type": "stream",
     "text": [
      "Processing De Novo Dahl_tracks.parquet:  15%|█▌        | 7/46 [00:00<00:01, 34.43it/s]"
     ]
    },
    {
     "name": "stdout",
     "output_type": "stream",
     "text": [
      "Failed requesting Heartbreaker\n",
      "Failed requesting Means to an End\n",
      "Failed requesting Make Some Sense\n",
      "Failed requesting Be Your Man\n",
      "Failed requesting Shakedown\n",
      "Failed requesting Marketplace\n",
      "Failed requesting Sky Is Falling\n",
      "Failed requesting Sky Is Falling\n"
     ]
    },
    {
     "name": "stderr",
     "output_type": "stream",
     "text": [
      "Processing De Novo Dahl_tracks.parquet:  24%|██▍       | 11/46 [00:00<00:00, 35.85it/s]"
     ]
    },
    {
     "name": "stdout",
     "output_type": "stream",
     "text": [
      "Failed requesting New Hero\n",
      "Failed requesting Wishful Thinking\n",
      "Failed requesting Subject of the Kill\n",
      "Failed requesting Been Kept Up\n"
     ]
    },
    {
     "name": "stderr",
     "output_type": "stream",
     "text": [
      "Processing De Novo Dahl_tracks.parquet:  43%|████▎     | 20/46 [00:03<00:06,  3.93it/s]"
     ]
    },
    {
     "name": "stdout",
     "output_type": "stream",
     "text": [
      "Failed requesting Listen Up\n",
      "Failed requesting I Woke Up Late\n",
      "Failed requesting The Funk\n",
      "Failed requesting Push Buttons\n"
     ]
    },
    {
     "name": "stderr",
     "output_type": "stream",
     "text": [
      "Processing De Novo Dahl_tracks.parquet:  52%|█████▏    | 24/46 [00:03<00:03,  6.00it/s]"
     ]
    },
    {
     "name": "stdout",
     "output_type": "stream",
     "text": [
      "Failed requesting Ryan Patrick Huseman Darrow\n",
      "Failed requesting Piggy's Adventure\n",
      "Failed requesting Be Your Man\n",
      "Failed requesting End Of Time\n",
      "Failed requesting Rub You Wrong\n",
      "Failed requesting Conquest at Midnight\n",
      "Failed requesting Monday Morning\n"
     ]
    },
    {
     "name": "stderr",
     "output_type": "stream",
     "text": [
      "Processing De Novo Dahl_tracks.parquet:  70%|██████▉   | 32/46 [00:04<00:01, 11.37it/s]"
     ]
    },
    {
     "name": "stdout",
     "output_type": "stream",
     "text": [
      "Failed requesting Cowboy and the Frenchman\n",
      "Failed requesting Sexy Come Lately\n",
      "Failed requesting New Belief\n",
      "Failed requesting Magic\n",
      "Failed requesting Sexy Mr. Falcon Jive Master\n",
      "Failed requesting Pop Her Stop Her\n",
      "Failed requesting I Broke A Plate\n"
     ]
    },
    {
     "name": "stderr",
     "output_type": "stream",
     "text": [
      "Processing De Novo Dahl_tracks.parquet:  89%|████████▉ | 41/46 [00:04<00:00, 18.77it/s]"
     ]
    },
    {
     "name": "stdout",
     "output_type": "stream",
     "text": [
      "Failed requesting Speed Racer\n",
      "Failed requesting Shout\n",
      "Failed requesting Shout\n",
      "Failed requesting Sky Is Falling\n",
      "Failed requesting Sky Is Falling\n",
      "Failed requesting Sexy Come Lately\n",
      "Failed requesting Sexy Mr. Falcon Jive Mister\n",
      "Failed requesting Dance Like David\n"
     ]
    },
    {
     "name": "stderr",
     "output_type": "stream",
     "text": [
      "Processing De Novo Dahl_tracks.parquet: 100%|██████████| 46/46 [00:04<00:00, 10.10it/s]\n",
      "Processing Deacon Blue_tracks.parquet:   0%|          | 0/180 [00:00<?, ?it/s]"
     ]
    },
    {
     "name": "stdout",
     "output_type": "stream",
     "text": [
      "Failed requesting Dance Like David Bason\n",
      "Failed requesting Shout - Popple Mix\n",
      "Failed requesting Crap Your Pants Say Shout\n"
     ]
    },
    {
     "name": "stderr",
     "output_type": "stream",
     "text": [
      "Processing Deacon Blue_tracks.parquet:   2%|▏         | 4/180 [00:00<00:05, 33.46it/s]"
     ]
    },
    {
     "name": "stdout",
     "output_type": "stream",
     "text": [
      "Failed requesting Riding on the Tide of Love\n",
      "Failed requesting Nothing's Changed\n",
      "Failed requesting Send a Note Out\n",
      "Failed requesting She Loved the Snow\n",
      "Failed requesting Not Gonna Be That Girl\n",
      "Failed requesting Look Up\n",
      "Failed requesting Time\n"
     ]
    },
    {
     "name": "stderr",
     "output_type": "stream",
     "text": [
      "Processing Deacon Blue_tracks.parquet:   7%|▋         | 12/180 [00:00<00:05, 33.37it/s]"
     ]
    },
    {
     "name": "stdout",
     "output_type": "stream",
     "text": [
      "Failed requesting It's Still Early\n",
      "Failed requesting City of Love\n",
      "Failed requesting Hit Me Where It Hurts\n",
      "Failed requesting Weight of the World\n",
      "Failed requesting Take Me\n",
      "Failed requesting In Our Room\n",
      "Failed requesting Intervals\n"
     ]
    },
    {
     "name": "stderr",
     "output_type": "stream",
     "text": [
      "Processing Deacon Blue_tracks.parquet:  11%|█         | 20/180 [00:00<00:04, 33.37it/s]"
     ]
    },
    {
     "name": "stdout",
     "output_type": "stream",
     "text": [
      "Failed requesting Keeping My Faith Alive\n",
      "Failed requesting A Walk in the Woods\n",
      "Failed requesting Come on In\n",
      "Failed requesting Wonderful\n",
      "Failed requesting On Love\n",
      "Failed requesting Come Awake - Live\n",
      "Failed requesting Gone - Live\n",
      "Failed requesting Your Town - Live\n"
     ]
    },
    {
     "name": "stderr",
     "output_type": "stream",
     "text": [
      "Processing Deacon Blue_tracks.parquet:  16%|█▌        | 28/180 [00:00<00:04, 33.01it/s]"
     ]
    },
    {
     "name": "stdout",
     "output_type": "stream",
     "text": [
      "Failed requesting Bethlehem Begins - Live\n",
      "Failed requesting Raintown - Live\n",
      "Failed requesting Chocolate Girl - Live\n",
      "Failed requesting The Outsiders - Live\n",
      "Failed requesting Your Swaying Arms - Live\n",
      "Failed requesting This Is a Love Song - Live\n",
      "Failed requesting Real Gone Kid - Live\n"
     ]
    },
    {
     "name": "stderr",
     "output_type": "stream",
     "text": [
      "Processing Deacon Blue_tracks.parquet:  18%|█▊        | 32/180 [00:00<00:04, 33.05it/s]"
     ]
    },
    {
     "name": "stdout",
     "output_type": "stream",
     "text": [
      "Failed requesting The Believers - Live\n",
      "Failed requesting Cover from the Sky - Live\n",
      "Failed requesting Birds - Live\n",
      "Failed requesting Town to Be Blamed - Live\n",
      "Failed requesting Delivery Man - Live\n"
     ]
    },
    {
     "name": "stderr",
     "output_type": "stream",
     "text": [
      "Processing Deacon Blue_tracks.parquet:  22%|██▏       | 40/180 [00:01<00:05, 25.43it/s]"
     ]
    },
    {
     "name": "stdout",
     "output_type": "stream",
     "text": [
      "Failed requesting The Hipsters - Live\n",
      "Failed requesting Loaded - Live\n",
      "Failed requesting Wages Day - Live\n",
      "Failed requesting Fergus Sings the Blues - Live\n",
      "Failed requesting That's What We Can Do - Live\n",
      "Failed requesting The Believers\n",
      "Failed requesting This Is a Love Song\n"
     ]
    },
    {
     "name": "stderr",
     "output_type": "stream",
     "text": [
      "Processing Deacon Blue_tracks.parquet:  27%|██▋       | 48/180 [00:01<00:04, 29.27it/s]"
     ]
    },
    {
     "name": "stdout",
     "output_type": "stream",
     "text": [
      "Failed requesting I Will and I Won't\n",
      "Failed requesting Meteors\n",
      "Failed requesting Gone\n",
      "Failed requesting What I Left Out\n",
      "Failed requesting A Boy\n",
      "Failed requesting Birds\n",
      "Failed requesting You Can't Know Everything\n",
      "Failed requesting Delivery Man\n"
     ]
    },
    {
     "name": "stderr",
     "output_type": "stream",
     "text": [
      "Processing Deacon Blue_tracks.parquet:  32%|███▏      | 57/180 [00:01<00:03, 33.40it/s]"
     ]
    },
    {
     "name": "stdout",
     "output_type": "stream",
     "text": [
      "Failed requesting Come Awake\n",
      "Failed requesting B Boy\n",
      "Failed requesting Bethlehem Begins\n",
      "Failed requesting For John Muir\n",
      "Failed requesting A New House\n",
      "Failed requesting An Ocean\n",
      "Failed requesting The Living\n",
      "Failed requesting I Wish I Was a Girl Like You\n",
      "Failed requesting Win\n"
     ]
    },
    {
     "name": "stderr",
     "output_type": "stream",
     "text": [
      "Processing Deacon Blue_tracks.parquet:  37%|███▋      | 66/180 [00:02<00:03, 36.60it/s]"
     ]
    },
    {
     "name": "stdout",
     "output_type": "stream",
     "text": [
      "Failed requesting Wild\n",
      "Failed requesting March\n",
      "Failed requesting Our New Land\n",
      "Failed requesting I Remember Every Single Kiss\n",
      "Failed requesting I'll Never Fall in Love Again\n",
      "Failed requesting The Look Of Love\n",
      "Failed requesting Are You There (With Another Girl)?\n",
      "Failed requesting Message To Michael\n",
      "Failed requesting I Was Right And You Were Wrong\n"
     ]
    },
    {
     "name": "stderr",
     "output_type": "stream",
     "text": [
      "Processing Deacon Blue_tracks.parquet:  39%|███▉      | 71/180 [00:02<00:02, 37.85it/s]"
     ]
    },
    {
     "name": "stdout",
     "output_type": "stream",
     "text": [
      "Failed requesting Bound to Love\n",
      "Failed requesting Still in the Mood\n",
      "Failed requesting Fergus Sings The Blues - Live\n",
      "Failed requesting Loaded - Live\n",
      "Failed requesting Chocolate Girl - Live\n",
      "Failed requesting Beautiful Stranger\n",
      "Failed requesting Waves Of Sorrow - Piano And Vocal Version\n",
      "Failed requesting Bethlehem's Gate - Piano And Vocal Version\n"
     ]
    },
    {
     "name": "stderr",
     "output_type": "stream",
     "text": [
      "Processing Deacon Blue_tracks.parquet:  44%|████▍     | 79/180 [00:02<00:02, 35.99it/s]"
     ]
    },
    {
     "name": "stdout",
     "output_type": "stream",
     "text": [
      "Failed requesting I Was Right And You Were Wrong - Extended Mix\n",
      "Failed requesting Mexico Rain\n",
      "Failed requesting Goin' Back - Live\n",
      "Failed requesting Wages Day - Piano Version\n",
      "Failed requesting Love Hurts\n",
      "Failed requesting Jesus Do Your Hands Still Feel The Rain\n",
      "Failed requesting Christmas & Glasgow\n"
     ]
    },
    {
     "name": "stderr",
     "output_type": "stream",
     "text": [
      "Processing Deacon Blue_tracks.parquet:  48%|████▊     | 87/180 [00:02<00:02, 34.73it/s]"
     ]
    },
    {
     "name": "stdout",
     "output_type": "stream",
     "text": [
      "Failed requesting Here I Am in London Town\n",
      "Failed requesting The Hipsters\n",
      "Failed requesting Stars\n",
      "Failed requesting Turn\n",
      "Failed requesting The Rest\n",
      "Failed requesting The Outsiders\n",
      "Failed requesting That's What We Can Do\n"
     ]
    },
    {
     "name": "stderr",
     "output_type": "stream",
     "text": [
      "Processing Deacon Blue_tracks.parquet:  53%|█████▎    | 96/180 [00:02<00:02, 36.56it/s]"
     ]
    },
    {
     "name": "stdout",
     "output_type": "stream",
     "text": [
      "Failed requesting She'll Understand\n",
      "Failed requesting Laura (From Memory)\n",
      "Failed requesting It Will End in Tears\n",
      "Failed requesting Is There No Way Back to You\n",
      "Failed requesting Dignity\n",
      "Failed requesting Real Gone Kid\n",
      "Failed requesting Wages Day\n",
      "Failed requesting Fergus Sings The Blues\n",
      "Failed requesting Twist and Shout\n"
     ]
    },
    {
     "name": "stderr",
     "output_type": "stream",
     "text": [
      "Processing Deacon Blue_tracks.parquet:  59%|█████▉    | 106/180 [00:03<00:01, 38.79it/s]"
     ]
    },
    {
     "name": "stdout",
     "output_type": "stream",
     "text": [
      "Failed requesting Bigger Than Dynamite\n",
      "Failed requesting Your Swaying Arms\n",
      "Failed requesting Your Town\n",
      "Failed requesting I'll Never Fall in Love Again\n",
      "Failed requesting Chocolate Girl\n",
      "Failed requesting When Will You (Make My Telephone Ring)?\n",
      "Failed requesting Love And Regret\n",
      "Failed requesting I Was Right And You Were Wrong\n",
      "Failed requesting Loaded\n"
     ]
    },
    {
     "name": "stderr",
     "output_type": "stream",
     "text": [
      "Processing Deacon Blue_tracks.parquet:  62%|██████▏   | 111/180 [00:03<00:01, 39.42it/s]"
     ]
    },
    {
     "name": "stdout",
     "output_type": "stream",
     "text": [
      "Failed requesting Queen Of The New Year\n",
      "Failed requesting Only Tender Love\n",
      "Failed requesting Cover from the Sky\n",
      "Failed requesting Haunted\n",
      "Failed requesting The One About Loneliness\n",
      "Failed requesting Born In A Storm - Remastered 2005\n",
      "Failed requesting Raintown - Remastered 2005\n",
      "Failed requesting Ragman - Remastered 2005\n"
     ]
    },
    {
     "name": "stderr",
     "output_type": "stream",
     "text": [
      "Processing Deacon Blue_tracks.parquet:  66%|██████▌   | 119/180 [00:03<00:01, 37.61it/s]"
     ]
    },
    {
     "name": "stdout",
     "output_type": "stream",
     "text": [
      "Failed requesting He Looks Like Spencer Tracy Now - Remastered 2005\n",
      "Failed requesting Loaded - Remastered 2005\n",
      "Failed requesting When Will You (Make My Telephone Ring) - Remastered 2005\n",
      "Failed requesting Chocolate Girl - Remastered 2005\n",
      "Failed requesting Dignity - Remastered 2005\n",
      "Failed requesting The Very Thing - Remastered 2005\n",
      "Failed requesting Love's Great Fears - Remastered 2005\n"
     ]
    },
    {
     "name": "stderr",
     "output_type": "stream",
     "text": [
      "Processing Deacon Blue_tracks.parquet:  71%|███████   | 127/180 [00:03<00:01, 37.45it/s]"
     ]
    },
    {
     "name": "stdout",
     "output_type": "stream",
     "text": [
      "Failed requesting Town To Be Blamed - Remastered 2005\n",
      "Failed requesting Born In A Storm - Live Glasgow Art School '86\n",
      "Failed requesting Raintown - Live At The Marquee '86\n",
      "Failed requesting Ragman - Demo Version\n",
      "Failed requesting He Looks Like Spencer Tracy Now - Live At The Marquee '86\n",
      "Failed requesting Loaded - Demo Version\n",
      "Failed requesting When Will You (Make My Telephone Ring) - Air Studios Vocal Mix\n"
     ]
    },
    {
     "name": "stderr",
     "output_type": "stream",
     "text": [
      "Processing Deacon Blue_tracks.parquet:  75%|███████▌  | 135/180 [00:03<00:01, 37.29it/s]"
     ]
    },
    {
     "name": "stdout",
     "output_type": "stream",
     "text": [
      "Failed requesting Chocolate Girl - Live At The Marquee '86\n",
      "Failed requesting Dignity - Live at the Marquee '86\n",
      "Failed requesting The Very Thing - (BBC Session for Radio 1's Mark Goodier Show) [Live]\n",
      "Failed requesting Born in a Storm\n",
      "Failed requesting Raintown\n",
      "Failed requesting Ragman\n",
      "Failed requesting He Looks Like Spencer Tracy Now\n",
      "Failed requesting Loaded\n",
      "Failed requesting When Will You (Make My Telephone Ring)?\n"
     ]
    },
    {
     "name": "stderr",
     "output_type": "stream",
     "text": [
      "Processing Deacon Blue_tracks.parquet:  81%|████████  | 145/180 [00:04<00:00, 39.04it/s]"
     ]
    },
    {
     "name": "stdout",
     "output_type": "stream",
     "text": [
      "Failed requesting Chocolate Girl\n",
      "Failed requesting Dignity\n",
      "Failed requesting The Very Thing\n",
      "Failed requesting Love's Great Fears\n",
      "Failed requesting Town to Be Blamed\n",
      "Failed requesting Riches\n",
      "Failed requesting Kings Of The Western World\n",
      "Failed requesting Queen Of The New Year\n"
     ]
    },
    {
     "name": "stderr",
     "output_type": "stream",
     "text": [
      "Processing Deacon Blue_tracks.parquet:  85%|████████▌ | 153/180 [00:04<00:00, 35.47it/s]"
     ]
    },
    {
     "name": "stdout",
     "output_type": "stream",
     "text": [
      "Failed requesting Wages Day\n",
      "Failed requesting Real Gone Kid\n",
      "Failed requesting Love And Regret\n",
      "Failed requesting Circus Lights\n",
      "Failed requesting This Changing Light\n",
      "Failed requesting Sad Loved Girl\n",
      "Failed requesting Rae\n",
      "Failed requesting Out There\n"
     ]
    },
    {
     "name": "stderr",
     "output_type": "stream",
     "text": [
      "Processing Deacon Blue_tracks.parquet:  90%|█████████ | 162/180 [00:04<00:00, 35.67it/s]"
     ]
    },
    {
     "name": "stdout",
     "output_type": "stream",
     "text": [
      "Failed requesting This Train Will Take You Anywhere\n",
      "Failed requesting Everytime You Sleep\n",
      "Failed requesting Now That You're Here\n",
      "Failed requesting Silverlake\n",
      "Failed requesting A Is for Astronaut\n",
      "Failed requesting You Lie So Beautifully Still\n",
      "Failed requesting Homesick\n",
      "Failed requesting Even Higher Ground\n",
      "Failed requesting I Am Born\n"
     ]
    },
    {
     "name": "stderr",
     "output_type": "stream",
     "text": [
      "Processing Deacon Blue_tracks.parquet:  94%|█████████▍| 170/180 [00:04<00:00, 34.88it/s]"
     ]
    },
    {
     "name": "stdout",
     "output_type": "stream",
     "text": [
      "Failed requesting Love Hurts\n",
      "Failed requesting Jesus Do Your Hands Still Feel The Rain\n",
      "Failed requesting The Very Thing\n",
      "Failed requesting The Day That Jackie Jumped the Jail\n",
      "Failed requesting Love And Regret\n",
      "Failed requesting Christmas & Glasgow\n",
      "Failed requesting The Wildness\n",
      "Failed requesting When You Are Young\n"
     ]
    },
    {
     "name": "stderr",
     "output_type": "stream",
     "text": [
      "Processing Deacon Blue_tracks.parquet:  99%|█████████▉| 179/180 [00:05<00:00, 37.25it/s]"
     ]
    },
    {
     "name": "stdout",
     "output_type": "stream",
     "text": [
      "Failed requesting Love's Great Fears\n",
      "Failed requesting Chocolate Girl\n",
      "Failed requesting Plastic Shoes\n",
      "Failed requesting A Brighter Star Than You Will Shine\n",
      "Failed requesting Beautiful Stranger\n",
      "Failed requesting All I Want\n",
      "Failed requesting When Will You (Make My Telephone Ring)?\n",
      "Failed requesting Walking Back Home\n",
      "Failed requesting I'll Never Fall in Love Again\n"
     ]
    },
    {
     "name": "stderr",
     "output_type": "stream",
     "text": [
      "Processing Deacon Blue_tracks.parquet: 100%|██████████| 180/180 [00:05<00:00, 34.85it/s]\n",
      "Processing Dead Boys_tracks.parquet:   1%|▏         | 4/282 [00:00<00:07, 35.67it/s]"
     ]
    },
    {
     "name": "stdout",
     "output_type": "stream",
     "text": [
      "Failed requesting Sonic Reducer - live\n",
      "Failed requesting Sonic Reducer - live\n",
      "Failed requesting All This And More - live\n",
      "Failed requesting All This And More - live\n",
      "Failed requesting Caught With The Meat In Your Mouth - live\n",
      "Failed requesting Caught With The Meat In Your Mouth - live\n",
      "Failed requesting I Won't Look Back - live\n",
      "Failed requesting I Won't Look Back - live\n"
     ]
    },
    {
     "name": "stderr",
     "output_type": "stream",
     "text": [
      "Processing Dead Boys_tracks.parquet:   4%|▍         | 12/282 [00:00<00:08, 33.70it/s]"
     ]
    },
    {
     "name": "stdout",
     "output_type": "stream",
     "text": [
      "Failed requesting Not Anymore - live\n",
      "Failed requesting Not Anymore - live\n",
      "Failed requesting What Love Is - live\n",
      "Failed requesting What Love Is - live\n"
     ]
    },
    {
     "name": "stderr",
     "output_type": "stream",
     "text": [
      "Processing Dead Boys_tracks.parquet:   6%|▌         | 16/282 [00:00<00:09, 28.79it/s]"
     ]
    },
    {
     "name": "stdout",
     "output_type": "stream",
     "text": [
      "Failed requesting Flame Thrower Love - live\n",
      "Failed requesting Flame Thrower Love - live\n",
      "Failed requesting Son Of Sam - live\n",
      "Failed requesting Son Of Sam - live\n",
      "Failed requesting Down In Flames - live\n",
      "Failed requesting Down In Flames - live\n",
      "Failed requesting Search And Destroy - live\n",
      "Failed requesting Search And Destroy - live\n"
     ]
    },
    {
     "name": "stderr",
     "output_type": "stream",
     "text": [
      "Processing Dead Boys_tracks.parquet:  10%|▉         | 28/282 [00:00<00:07, 33.42it/s]"
     ]
    },
    {
     "name": "stdout",
     "output_type": "stream",
     "text": [
      "Failed requesting Sonic Reducer\n",
      "Failed requesting Ain't It Fun\n",
      "Failed requesting 3rd Generation Nation\n",
      "Failed requesting All This and More\n",
      "Failed requesting What Love Is\n",
      "Failed requesting Caught with the Meat In Your Mouth\n",
      "Failed requesting Ain't Nothing to Do\n",
      "Failed requesting Not Anymore\n",
      "Failed requesting Down In Flames\n"
     ]
    },
    {
     "name": "stderr",
     "output_type": "stream",
     "text": [
      "Processing Dead Boys_tracks.parquet:  13%|█▎        | 36/282 [00:01<00:06, 35.84it/s]"
     ]
    },
    {
     "name": "stdout",
     "output_type": "stream",
     "text": [
      "Failed requesting I Need Lunch\n",
      "Failed requesting I Won't Look Back\n",
      "Failed requesting High Tension Wire\n",
      "Failed requesting Flame Thrower Love\n",
      "Failed requesting Big City\n",
      "Failed requesting Calling On You\n",
      "Failed requesting Son of Sam\n",
      "Failed requesting Dead and Alive\n",
      "Failed requesting Hey Little Girl - Live\n"
     ]
    },
    {
     "name": "stderr",
     "output_type": "stream",
     "text": [
      "Processing Dead Boys_tracks.parquet:  16%|█▌        | 44/282 [00:01<00:06, 36.48it/s]"
     ]
    },
    {
     "name": "stdout",
     "output_type": "stream",
     "text": [
      "Failed requesting I Don't Wanna Be No Catholic Boy\n",
      "Failed requesting Tell Me\n",
      "Failed requesting Sonic Reducer (Rerecorded)\n",
      "Failed requesting All This and More (Rerecorded)\n",
      "Failed requesting What Love Is (Rerecorded)\n",
      "Failed requesting Not Anymore (Rerecorded)\n",
      "Failed requesting Ain't Nothin' to Do (Rerecorded)\n"
     ]
    },
    {
     "name": "stderr",
     "output_type": "stream",
     "text": [
      "Processing Dead Boys_tracks.parquet:  18%|█▊        | 52/282 [00:01<00:06, 35.13it/s]"
     ]
    },
    {
     "name": "stdout",
     "output_type": "stream",
     "text": [
      "Failed requesting Caught with the Meat in Your Mouth (Rerecorded)\n",
      "Failed requesting I Need Lunch (Rerecorded)\n",
      "Failed requesting High Tension Wire (Rerecorded)\n",
      "Failed requesting Down in Flames (Rerecorded)\n",
      "Failed requesting Sonic Reducer\n",
      "Failed requesting All This and More\n",
      "Failed requesting Caught with Meat in Your Mouth\n",
      "Failed requesting I'm Calling on You\n"
     ]
    },
    {
     "name": "stderr",
     "output_type": "stream",
     "text": [
      "Processing Dead Boys_tracks.parquet:  21%|██▏       | 60/282 [00:01<00:06, 36.67it/s]"
     ]
    },
    {
     "name": "stdout",
     "output_type": "stream",
     "text": [
      "Failed requesting I Wont Look Back\n",
      "Failed requesting What Love Is\n",
      "Failed requesting I Need Lunch\n",
      "Failed requesting Aint Nothing to Do\n",
      "Failed requesting Down in Flames\n",
      "Failed requesting Son of Sam\n",
      "Failed requesting Search and Destroy\n",
      "Failed requesting Aint It Fun\n"
     ]
    },
    {
     "name": "stderr",
     "output_type": "stream",
     "text": [
      "Processing Dead Boys_tracks.parquet:  24%|██▍       | 68/282 [00:01<00:05, 36.85it/s]"
     ]
    },
    {
     "name": "stdout",
     "output_type": "stream",
     "text": [
      "Failed requesting Tell Me\n",
      "Failed requesting 3rd Generation Nation\n",
      "Failed requesting Catholic Boy\n",
      "Failed requesting Detention Home\n",
      "Failed requesting 3rd Generation Nation\n",
      "Failed requesting All This & More\n",
      "Failed requesting Caught With The Meat In Your Mouth\n",
      "Failed requesting Tell Me\n"
     ]
    },
    {
     "name": "stderr",
     "output_type": "stream",
     "text": [
      "Processing Dead Boys_tracks.parquet:  27%|██▋       | 76/282 [00:02<00:05, 37.86it/s]"
     ]
    },
    {
     "name": "stdout",
     "output_type": "stream",
     "text": [
      "Failed requesting Catholic Boy\n",
      "Failed requesting I Won't Look Back\n",
      "Failed requesting Ain't It Fun\n",
      "Failed requesting What Love Is\n",
      "Failed requesting Ain't Nothing To Do\n",
      "Failed requesting I Need Lunch\n",
      "Failed requesting Son Of Sam\n",
      "Failed requesting Sonic Reducer\n",
      "Failed requesting 3rd Generation Nation\n"
     ]
    },
    {
     "name": "stderr",
     "output_type": "stream",
     "text": [
      "Processing Dead Boys_tracks.parquet:  30%|██▉       | 84/282 [00:02<00:05, 38.05it/s]"
     ]
    },
    {
     "name": "stdout",
     "output_type": "stream",
     "text": [
      "Failed requesting I Won't Look Back\n",
      "Failed requesting I Don't Wanna Be No Catholic Boy\n",
      "Failed requesting Flame Thrower Love\n",
      "Failed requesting Son of Sam\n",
      "Failed requesting Tell Me\n",
      "Failed requesting Big City\n",
      "Failed requesting Calling on You\n",
      "Failed requesting Dead and Alive\n",
      "Failed requesting Ain't It Fun\n"
     ]
    },
    {
     "name": "stderr",
     "output_type": "stream",
     "text": [
      "Processing Dead Boys_tracks.parquet:  31%|███       | 88/282 [00:02<00:05, 38.17it/s]"
     ]
    },
    {
     "name": "stdout",
     "output_type": "stream",
     "text": [
      "Failed requesting Sonic Reducer - live\n",
      "Failed requesting Sonic Reducer - live\n",
      "Failed requesting All This And More - live\n",
      "Failed requesting All This And More - live\n",
      "Failed requesting Caught With The Meat In Your Mouth - live\n"
     ]
    },
    {
     "name": "stderr",
     "output_type": "stream",
     "text": [
      "Processing Dead Boys_tracks.parquet:  33%|███▎      | 93/282 [00:03<00:18, 10.35it/s]"
     ]
    },
    {
     "name": "stdout",
     "output_type": "stream",
     "text": [
      "Failed requesting I Won't Look Back - live\n"
     ]
    },
    {
     "name": "stderr",
     "output_type": "stream",
     "text": [
      "Processing Dead Boys_tracks.parquet:  35%|███▌      | 99/282 [00:06<00:48,  3.74it/s]"
     ]
    },
    {
     "name": "stdout",
     "output_type": "stream",
     "text": [
      "Failed requesting What Love Is - live\n",
      "Failed requesting What Love Is - live\n"
     ]
    },
    {
     "name": "stderr",
     "output_type": "stream",
     "text": [
      "Processing Dead Boys_tracks.parquet:  37%|███▋      | 103/282 [00:09<01:18,  2.27it/s]"
     ]
    },
    {
     "name": "stdout",
     "output_type": "stream",
     "text": [
      "Failed requesting Son Of Sam - live\n",
      "Failed requesting Down In Flames - live\n"
     ]
    },
    {
     "name": "stderr",
     "output_type": "stream",
     "text": [
      "Processing Dead Boys_tracks.parquet:  40%|████      | 114/282 [00:11<00:30,  5.52it/s]"
     ]
    },
    {
     "name": "stdout",
     "output_type": "stream",
     "text": [
      "Failed requesting Search And Destroy - live\n",
      "Failed requesting Search And Destroy - live\n",
      "Failed requesting Sonic Reducer\n",
      "Failed requesting Sonic Reducer\n",
      "Failed requesting All This and More\n",
      "Failed requesting All This and More\n",
      "Failed requesting What Love Is\n",
      "Failed requesting Not Anymore\n",
      "Failed requesting Ain't Nothin' to Do\n"
     ]
    },
    {
     "name": "stderr",
     "output_type": "stream",
     "text": [
      "Processing Dead Boys_tracks.parquet:  43%|████▎     | 122/282 [00:11<00:15, 10.35it/s]"
     ]
    },
    {
     "name": "stdout",
     "output_type": "stream",
     "text": [
      "Failed requesting Caught with the Meat in Your Mouth\n",
      "Failed requesting Hey Little Girl - Live Version\n",
      "Failed requesting I Need Lunch\n",
      "Failed requesting High Tension Wire\n",
      "Failed requesting Down in Flames\n",
      "Failed requesting Not Anymore / Ain't Nothin' to Do (Medley)\n",
      "Failed requesting Thrash Unreal\n",
      "Failed requesting Burnout\n"
     ]
    },
    {
     "name": "stderr",
     "output_type": "stream",
     "text": [
      "Processing Dead Boys_tracks.parquet:  46%|████▋     | 131/282 [00:11<00:08, 17.64it/s]"
     ]
    },
    {
     "name": "stdout",
     "output_type": "stream",
     "text": [
      "Failed requesting Freaks\n",
      "Failed requesting Coral Fang\n",
      "Failed requesting Welcome Back Riders\n",
      "Failed requesting Sonic Reducer\n",
      "Failed requesting Take It Off\n",
      "Failed requesting Revolution\n",
      "Failed requesting Pitiful\n",
      "Failed requesting Weeds\n",
      "Failed requesting Rise Above\n"
     ]
    },
    {
     "name": "stderr",
     "output_type": "stream",
     "text": [
      "Processing Dead Boys_tracks.parquet:  49%|████▉     | 139/282 [00:11<00:05, 24.37it/s]"
     ]
    },
    {
     "name": "stdout",
     "output_type": "stream",
     "text": [
      "Failed requesting I Write Sins Not Tragedies\n",
      "Failed requesting Urban Discipline\n",
      "Failed requesting Heaven Is a Halfpipe (If I Die)\n",
      "Failed requesting Blitzkrieg Bop\n",
      "Failed requesting Youth of the Nation\n",
      "Failed requesting Song 2 - 2012 Remaster\n",
      "Failed requesting Semi-Charmed Life\n",
      "Failed requesting The Pros and Cons of Breathing\n",
      "Failed requesting Look What Happened\n"
     ]
    },
    {
     "name": "stderr",
     "output_type": "stream",
     "text": [
      "Processing Dead Boys_tracks.parquet:  52%|█████▏    | 147/282 [00:12<00:04, 28.51it/s]"
     ]
    },
    {
     "name": "stdout",
     "output_type": "stream",
     "text": [
      "Failed requesting Marquee Moon (Edit)\n",
      "Failed requesting Brass in Pocket - 2006 Remaster\n",
      "Failed requesting Psycho Killer - 2005 Remaster\n",
      "Failed requesting Sheena Is a Punk Rocker (Single Version)\n",
      "Failed requesting Disorder - Remix\n",
      "Failed requesting No More Heroes - Radio Edit\n",
      "Failed requesting Wuthering Heights\n",
      "Failed requesting God Save the Queen\n"
     ]
    },
    {
     "name": "stderr",
     "output_type": "stream",
     "text": [
      "Processing Dead Boys_tracks.parquet:  54%|█████▎    | 151/282 [00:12<00:05, 23.81it/s]"
     ]
    },
    {
     "name": "stdout",
     "output_type": "stream",
     "text": [
      "Failed requesting Just What I Needed\n",
      "Failed requesting She's Lost Control - 2007 Remastered\n",
      "Failed requesting Boys Don't Cry\n",
      "Failed requesting (I Can't Get No) Satisfaction\n"
     ]
    },
    {
     "name": "stderr",
     "output_type": "stream",
     "text": [
      "Processing Dead Boys_tracks.parquet:  55%|█████▍    | 155/282 [00:12<00:05, 21.38it/s]"
     ]
    },
    {
     "name": "stdout",
     "output_type": "stream",
     "text": [
      "Failed requesting Top of the Pops (7\" Version)\n",
      "Failed requesting 2-4-6-8 Motorway\n",
      "Failed requesting Blank Generation\n",
      "Failed requesting Rock Lobster (Single Version)\n"
     ]
    },
    {
     "name": "stderr",
     "output_type": "stream",
     "text": [
      "Processing Dead Boys_tracks.parquet:  58%|█████▊    | 163/282 [00:12<00:04, 26.30it/s]"
     ]
    },
    {
     "name": "stdout",
     "output_type": "stream",
     "text": [
      "Failed requesting Sweet Jane\n",
      "Failed requesting Know Your Product\n",
      "Failed requesting (What's So Funny 'bout) Peace Love and Understanding\n",
      "Failed requesting Alternative Ulster\n",
      "Failed requesting Suspect Device\n",
      "Failed requesting Beat Your Heart Out\n",
      "Failed requesting Peace Frog\n",
      "Failed requesting Motorhead\n"
     ]
    },
    {
     "name": "stderr",
     "output_type": "stream",
     "text": [
      "Processing Dead Boys_tracks.parquet:  59%|█████▉    | 167/282 [00:12<00:04, 27.47it/s]"
     ]
    },
    {
     "name": "stdout",
     "output_type": "stream",
     "text": [
      "Failed requesting Bloodstains\n",
      "Failed requesting Anarchy In the U.K.\n",
      "Failed requesting Blitzkrieg Bop\n",
      "Failed requesting Virgins\n",
      "Failed requesting Sweet Willy Rollbar\n",
      "Failed requesting Deadly Sinners\n",
      "Failed requesting End of the World\n"
     ]
    },
    {
     "name": "stderr",
     "output_type": "stream",
     "text": [
      "Processing Dead Boys_tracks.parquet:  62%|██████▏   | 175/282 [00:13<00:03, 29.59it/s]"
     ]
    },
    {
     "name": "stdout",
     "output_type": "stream",
     "text": [
      "Failed requesting Midlife Crisis\n",
      "Failed requesting Rock 'N' Roll High School\n",
      "Failed requesting Soul Brother #1\n",
      "Failed requesting Holidays In the Sun\n",
      "Failed requesting Break On Through (To the Other Side)\n",
      "Failed requesting Top Billin'\n",
      "Failed requesting 1970\n"
     ]
    },
    {
     "name": "stderr",
     "output_type": "stream",
     "text": [
      "Processing Dead Boys_tracks.parquet:  65%|██████▍   | 183/282 [00:13<00:03, 32.57it/s]"
     ]
    },
    {
     "name": "stdout",
     "output_type": "stream",
     "text": [
      "Failed requesting That's Why They Call It a Union\n",
      "Failed requesting Sonic Reducer\n",
      "Failed requesting All This and More\n",
      "Failed requesting All This and More\n",
      "Failed requesting Blitzkrieg Bop - 2016 Remaster\n",
      "Failed requesting The Upwards War and the Down Turned Cycle\n",
      "Failed requesting Rip It Up\n",
      "Failed requesting 1970 - 2005 Remaster\n",
      "Failed requesting White Wedding\n"
     ]
    },
    {
     "name": "stderr",
     "output_type": "stream",
     "text": [
      "Processing Dead Boys_tracks.parquet:  68%|██████▊   | 193/282 [00:13<00:02, 35.57it/s]"
     ]
    },
    {
     "name": "stdout",
     "output_type": "stream",
     "text": [
      "Failed requesting Dog Eat Dog\n",
      "Failed requesting Death Voices\n",
      "Failed requesting Bodies\n",
      "Failed requesting Dismantle Me\n",
      "Failed requesting The Curse of Curves\n",
      "Failed requesting The Hump\n"
     ]
    },
    {
     "name": "stderr",
     "output_type": "stream",
     "text": [
      "Processing Dead Boys_tracks.parquet:  70%|██████▉   | 197/282 [00:13<00:02, 29.64it/s]"
     ]
    },
    {
     "name": "stdout",
     "output_type": "stream",
     "text": [
      "Failed requesting Liar Liar (Burn in Hell)\n",
      "Failed requesting Ice Cold Ice\n",
      "Failed requesting Fisticuffs\n",
      "Failed requesting A Sharp Is a Flat\n",
      "Failed requesting Lost in Space\n",
      "Failed requesting Too Young to Die\n",
      "Failed requesting Somebody's Gonna Get Their Head Kicked in Tonight\n"
     ]
    },
    {
     "name": "stderr",
     "output_type": "stream",
     "text": [
      "Processing Dead Boys_tracks.parquet:  73%|███████▎  | 205/282 [00:14<00:02, 30.61it/s]"
     ]
    },
    {
     "name": "stdout",
     "output_type": "stream",
     "text": [
      "Failed requesting I'm An Upstart - Live\n",
      "Failed requesting You Can't Put Your Arms Round a Memory\n",
      "Failed requesting I Want You Around (Ed Stasium Version)\n",
      "Failed requesting All Times Through Paradise\n",
      "Failed requesting Drive\n",
      "Failed requesting Hardly Getting Over It\n"
     ]
    },
    {
     "name": "stderr",
     "output_type": "stream",
     "text": [
      "Processing Dead Boys_tracks.parquet:  74%|███████▍  | 209/282 [00:14<00:02, 29.76it/s]"
     ]
    },
    {
     "name": "stdout",
     "output_type": "stream",
     "text": [
      "Failed requesting Answering Machine\n",
      "Failed requesting You Tore Me Down\n",
      "Failed requesting Memories Are Made of This\n",
      "Failed requesting I Found a Reason\n",
      "Failed requesting Danny Says\n"
     ]
    },
    {
     "name": "stderr",
     "output_type": "stream",
     "text": [
      "Processing Dead Boys_tracks.parquet:  77%|███████▋  | 217/282 [00:14<00:02, 29.14it/s]"
     ]
    },
    {
     "name": "stdout",
     "output_type": "stream",
     "text": [
      "Failed requesting Betrayal Takes Two\n",
      "Failed requesting Turn the Tide\n",
      "Failed requesting Alone with You\n",
      "Failed requesting Guiding Light\n",
      "Failed requesting I Shall Be Released\n",
      "Failed requesting Misty Eyes\n"
     ]
    },
    {
     "name": "stderr",
     "output_type": "stream",
     "text": [
      "Processing Dead Boys_tracks.parquet:  78%|███████▊  | 220/282 [00:15<00:07,  8.76it/s]"
     ]
    },
    {
     "name": "stdout",
     "output_type": "stream",
     "text": [
      "Failed requesting Everywhere I Go\n",
      "Failed requesting Hey Boys\n",
      "Failed requesting Sonic Reducer\n"
     ]
    },
    {
     "name": "stderr",
     "output_type": "stream",
     "text": [
      "Processing Dead Boys_tracks.parquet:  79%|███████▉  | 223/282 [00:17<00:15,  3.80it/s]"
     ]
    },
    {
     "name": "stdout",
     "output_type": "stream",
     "text": [
      "Failed requesting Psycho Killer - 2005 Remaster\n",
      "Failed requesting Brass in Pocket - 2006 Remaster\n"
     ]
    },
    {
     "name": "stderr",
     "output_type": "stream",
     "text": [
      "Processing Dead Boys_tracks.parquet:  81%|████████  | 228/282 [00:19<00:18,  2.96it/s]"
     ]
    },
    {
     "name": "stdout",
     "output_type": "stream",
     "text": [
      "Failed requesting Sheena Is a Punk Rocker - 2017 Remaster\n"
     ]
    },
    {
     "name": "stderr",
     "output_type": "stream",
     "text": [
      "Processing Dead Boys_tracks.parquet:  81%|████████  | 229/282 [00:20<00:22,  2.35it/s]"
     ]
    },
    {
     "name": "stdout",
     "output_type": "stream",
     "text": [
      "Failed requesting Blank Generation - 2013 Remaster\n",
      "Failed requesting Down on the Street - 2005 Remaster\n"
     ]
    },
    {
     "name": "stderr",
     "output_type": "stream",
     "text": [
      "Processing Dead Boys_tracks.parquet:  82%|████████▏ | 232/282 [00:21<00:20,  2.48it/s]"
     ]
    },
    {
     "name": "stdout",
     "output_type": "stream",
     "text": [
      "Failed requesting Just What I Needed\n",
      "Failed requesting Homicide\n",
      "Failed requesting You Can't Put Your Arms Round a Memory\n",
      "Failed requesting Sweet Jane - Full Length Version; 2015 Remaster\n"
     ]
    },
    {
     "name": "stderr",
     "output_type": "stream",
     "text": [
      "Processing Dead Boys_tracks.parquet:  84%|████████▍ | 237/282 [00:23<00:14,  3.09it/s]"
     ]
    },
    {
     "name": "stdout",
     "output_type": "stream",
     "text": [
      "Failed requesting See No Evil\n"
     ]
    },
    {
     "name": "stderr",
     "output_type": "stream",
     "text": [
      "Processing Dead Boys_tracks.parquet:  85%|████████▍ | 239/282 [00:24<00:15,  2.70it/s]"
     ]
    },
    {
     "name": "stdout",
     "output_type": "stream",
     "text": [
      "Failed requesting Top of the Pops (7\" Version)\n"
     ]
    },
    {
     "name": "stderr",
     "output_type": "stream",
     "text": [
      "Processing Dead Boys_tracks.parquet:  85%|████████▌ | 241/282 [00:25<00:16,  2.45it/s]"
     ]
    },
    {
     "name": "stdout",
     "output_type": "stream",
     "text": [
      "Failed requesting She's No Angel - 2009 Remaster\n"
     ]
    },
    {
     "name": "stderr",
     "output_type": "stream",
     "text": [
      "Processing Dead Boys_tracks.parquet:  89%|████████▉ | 252/282 [00:35<00:30,  1.02s/it]"
     ]
    },
    {
     "name": "stdout",
     "output_type": "stream",
     "text": [
      "Failed requesting Tusk - 2018 Remaster\n"
     ]
    },
    {
     "name": "stderr",
     "output_type": "stream",
     "text": [
      "Processing Dead Boys_tracks.parquet:  90%|█████████ | 255/282 [00:37<00:23,  1.16it/s]"
     ]
    },
    {
     "name": "stdout",
     "output_type": "stream",
     "text": [
      "Failed requesting Sweet Jane\n"
     ]
    },
    {
     "name": "stderr",
     "output_type": "stream",
     "text": [
      "Processing Dead Boys_tracks.parquet: 100%|██████████| 282/282 [01:05<00:00,  4.33it/s]\n",
      "Processing Dead Can Dance_tracks.parquet:   1%|          | 3/395 [00:00<00:16, 24.07it/s]"
     ]
    },
    {
     "name": "stdout",
     "output_type": "stream",
     "text": [
      "Failed requesting Nierika - Live from Théâtre St-Denis, Montreal, QC. October 4th, 2005\n",
      "Failed requesting Babylon - Live from Théâtre St-Denis, Montreal, QC. October 2nd, 2005\n",
      "Failed requesting Compassion - Live from Théâtre St-Denis, Montreal, QC. October 2nd, 2005\n"
     ]
    },
    {
     "name": "stderr",
     "output_type": "stream",
     "text": [
      "Processing Dead Can Dance_tracks.parquet:   2%|▏         | 6/395 [00:01<01:30,  4.31it/s]"
     ]
    },
    {
     "name": "stdout",
     "output_type": "stream",
     "text": [
      "Failed requesting The Love That Cannot Be - Live from Massey Hall, Toronto, ON. October 1st, 2005\n",
      "Failed requesting The Lotus Eaters - Live from The Music Center at Strathmore, North Bethesda, MD. October 10th, 2005\n",
      "Failed requesting Crescent - Live from The Music Center at Strathmore, North Bethesda, MD. October 10th, 2005\n",
      "Failed requesting Minus Sanctus - Live from Massey Hall, Toronto, ON. October 1st, 2005\n",
      "Failed requesting Saltarello - Live from Orpheum Theatre, Boston, MA. October 5th, 2005\n"
     ]
    },
    {
     "name": "stderr",
     "output_type": "stream",
     "text": [
      "Processing Dead Can Dance_tracks.parquet:   3%|▎         | 11/395 [00:03<02:27,  2.61it/s]"
     ]
    },
    {
     "name": "stdout",
     "output_type": "stream",
     "text": [
      "Failed requesting Dreams Made Flesh - Live from Théâtre St-Denis, Montreal, QC. October 2nd, 2005\n"
     ]
    },
    {
     "name": "stderr",
     "output_type": "stream",
     "text": [
      "Processing Dead Can Dance_tracks.parquet:   4%|▎         | 14/395 [00:05<03:26,  1.85it/s]"
     ]
    },
    {
     "name": "stdout",
     "output_type": "stream",
     "text": [
      "Failed requesting Sanvean - Live from Paramount Theatre, Seattle, WA. September 18th, 2005\n"
     ]
    },
    {
     "name": "stderr",
     "output_type": "stream",
     "text": [
      "Processing Dead Can Dance_tracks.parquet:   4%|▍         | 17/395 [00:07<04:01,  1.57it/s]"
     ]
    },
    {
     "name": "stdout",
     "output_type": "stream",
     "text": [
      "Failed requesting Salem's Lot - Live from Paramount Theatre, Seattle, WA. September 17th, 2005\n"
     ]
    },
    {
     "name": "stderr",
     "output_type": "stream",
     "text": [
      "Processing Dead Can Dance_tracks.parquet:   5%|▌         | 20/395 [00:09<04:18,  1.45it/s]"
     ]
    },
    {
     "name": "stdout",
     "output_type": "stream",
     "text": [
      "Failed requesting Nierika - Live from Prins Willem Alexander zaal, The Hague, Netherlands. March 12th, 2005\n"
     ]
    },
    {
     "name": "stderr",
     "output_type": "stream",
     "text": [
      "Processing Dead Can Dance_tracks.parquet:   6%|▌         | 22/395 [00:10<03:55,  1.58it/s]"
     ]
    },
    {
     "name": "stdout",
     "output_type": "stream",
     "text": [
      "Failed requesting Minus Sanctus - Live from Prins Willem Alexander zaal, The Hague, Netherlands. March 12th, 2005\n"
     ]
    },
    {
     "name": "stderr",
     "output_type": "stream",
     "text": [
      "Processing Dead Can Dance_tracks.parquet:   6%|▌         | 24/395 [00:11<03:42,  1.67it/s]"
     ]
    },
    {
     "name": "stdout",
     "output_type": "stream",
     "text": [
      "Failed requesting The Lotus Eaters - Live from Prins Willem Alexander zaal, The Hague, Netherlands. March 12th, 2005\n",
      "Failed requesting Crescent - Live from Prins Willem Alexander zaal, The Hague, Netherlands. March 12th, 2005\n",
      "Failed requesting The Love That Cannot Be - Live from Prins Willem Alexander zaal, The Hague, Netherlands. March 12th, 2005\n"
     ]
    },
    {
     "name": "stderr",
     "output_type": "stream",
     "text": [
      "Processing Dead Can Dance_tracks.parquet:   9%|▊         | 34/395 [00:15<01:56,  3.09it/s]"
     ]
    },
    {
     "name": "stdout",
     "output_type": "stream",
     "text": [
      "Failed requesting Saltarello - Live from Prins Willem Alexander zaal, The Hague, Netherlands. March 12th, 2005\n",
      "Failed requesting Dreams Made Flesh - Live from Prins Willem Alexander zaal, The Hague, Netherlands. March 12th, 2005\n",
      "Failed requesting Babylon - Live from Prins Willem Alexander zaal, The Hague, Netherlands. March 12th, 2005\n",
      "Failed requesting Yamyinar - Live from Prins Willem Alexander zaal, The Hague, Netherlands. March 12th, 2005\n"
     ]
    },
    {
     "name": "stderr",
     "output_type": "stream",
     "text": [
      "Processing Dead Can Dance_tracks.parquet:   9%|▉         | 36/395 [00:17<03:04,  1.95it/s]"
     ]
    },
    {
     "name": "stdout",
     "output_type": "stream",
     "text": [
      "Failed requesting Sanvean - Live from Prins Willem Alexander zaal, The Hague, Netherlands. March 12th, 2005\n"
     ]
    },
    {
     "name": "stderr",
     "output_type": "stream",
     "text": [
      "Processing Dead Can Dance_tracks.parquet:  10%|█         | 41/395 [00:18<02:01,  2.92it/s]"
     ]
    },
    {
     "name": "stdout",
     "output_type": "stream",
     "text": [
      "Failed requesting Salem's Lot - Live from Prins Willem Alexander zaal, The Hague, Netherlands. March 12th, 2005\n",
      "Failed requesting Hymn for the Fallen - Live from Prins Willem Alexander zaal, The Hague, Netherlands. March 12th, 2005\n",
      "Failed requesting Nierika - Live from Théâtre St-Denis, Montreal, QC. October 4th, 2005\n",
      "Failed requesting Babylon - Live from Théâtre St-Denis, Montreal, QC. October 4th, 2005\n",
      "Failed requesting Compassion - Live from Théâtre St-Denis, Montreal, QC. October 4th, 2005\n"
     ]
    },
    {
     "name": "stderr",
     "output_type": "stream",
     "text": [
      "Processing Dead Can Dance_tracks.parquet:  12%|█▏        | 48/395 [00:19<01:17,  4.49it/s]"
     ]
    },
    {
     "name": "stdout",
     "output_type": "stream",
     "text": [
      "Failed requesting The Love That Cannot Be - Live from Théâtre St-Denis, Montreal, QC. October 4th, 2005\n",
      "Failed requesting The Lotus Eaters - Live from Théâtre St-Denis, Montreal, QC. October 4th, 2005\n",
      "Failed requesting Crescent - Live from Théâtre St-Denis, Montreal, QC. October 4th, 2005\n",
      "Failed requesting Minus Sanctus - Live from Théâtre St-Denis, Montreal, QC. October 4th, 2005\n",
      "Failed requesting Saltarello - Live from Théâtre St-Denis, Montreal, QC. October 4th, 2005\n",
      "Failed requesting The Wind That Shakes the Barley - Live from Théâtre St-Denis, Montreal, QC. October 4th, 2005\n",
      "Failed requesting Dreams Made Flesh - Live from Théâtre St-Denis, Montreal, QC. October 4th, 2005\n"
     ]
    },
    {
     "name": "stderr",
     "output_type": "stream",
     "text": [
      "Processing Dead Can Dance_tracks.parquet:  13%|█▎        | 52/395 [00:19<00:52,  6.57it/s]"
     ]
    },
    {
     "name": "stdout",
     "output_type": "stream",
     "text": [
      "Failed requesting I Can See Now - Live from Théâtre St-Denis, Montreal, QC. October 4th, 2005\n"
     ]
    },
    {
     "name": "stderr",
     "output_type": "stream",
     "text": [
      "Processing Dead Can Dance_tracks.parquet:  14%|█▍        | 55/395 [00:20<01:12,  4.71it/s]"
     ]
    },
    {
     "name": "stdout",
     "output_type": "stream",
     "text": [
      "Failed requesting Sanvean - Live from Théâtre St-Denis, Montreal, QC. October 4th, 2005\n",
      "Failed requesting Rakim - Live from Théâtre St-Denis, Montreal, QC. October 4th, 2005\n",
      "Failed requesting Black Sun - Live from Théâtre St-Denis, Montreal, QC. October 4th, 2005\n",
      "Failed requesting Salem's Lot - Live from Théâtre St-Denis, Montreal, QC. October 4th, 2005\n"
     ]
    },
    {
     "name": "stderr",
     "output_type": "stream",
     "text": [
      "Processing Dead Can Dance_tracks.parquet:  15%|█▌        | 61/395 [00:23<01:36,  3.48it/s]"
     ]
    },
    {
     "name": "stdout",
     "output_type": "stream",
     "text": [
      "Failed requesting Hymn for the Fallen - Live from Théâtre St-Denis, Montreal, QC. October 4th, 2005\n",
      "Failed requesting Nierika - Live from The Forum, London, UK. April 7th, 2005\n",
      "Failed requesting Babylon - Live from The Forum, London, UK. April 7th, 2005\n",
      "Failed requesting Yamyinar - Live from The Forum, London, UK. April 7th, 2005\n"
     ]
    },
    {
     "name": "stderr",
     "output_type": "stream",
     "text": [
      "Processing Dead Can Dance_tracks.parquet:  17%|█▋        | 68/395 [00:24<01:04,  5.04it/s]"
     ]
    },
    {
     "name": "stdout",
     "output_type": "stream",
     "text": [
      "Failed requesting The Love That Cannot Be - Live from The Forum, London, UK. April 7th, 2005\n",
      "Failed requesting The Lotus Eaters - Live from The Forum, London, UK. April 7th, 2005\n",
      "Failed requesting Crescent - Live from The Forum, London, UK. April 7th, 2005\n",
      "Failed requesting Minus Sanctus - Live from The Forum, London, UK. April 7th, 2005\n",
      "Failed requesting Saltarello - Live from The Forum, London, UK. April 7th, 2005\n",
      "Failed requesting The Wind That Shakes the Barley - Live from The Forum, London, UK. April 7th, 2005\n"
     ]
    },
    {
     "name": "stderr",
     "output_type": "stream",
     "text": [
      "Processing Dead Can Dance_tracks.parquet:  19%|█▊        | 74/395 [00:25<00:59,  5.39it/s]"
     ]
    },
    {
     "name": "stdout",
     "output_type": "stream",
     "text": [
      "Failed requesting Dreams Made Flesh - Live from The Forum, London, UK. April 7th, 2005\n",
      "Failed requesting I Can See Now - Live from The Forum, London, UK. April 7th, 2005\n",
      "Failed requesting American Dreaming - Live from The Forum, London, UK. April 7th, 2005\n",
      "Failed requesting Sanvean - Live from The Forum, London, UK. April 7th, 2005\n",
      "Failed requesting Rakim - Live from The Forum, London, UK. April 7th, 2005\n",
      "Failed requesting Black Sun - Live from The Forum, London, UK. April 7th, 2005\n"
     ]
    },
    {
     "name": "stderr",
     "output_type": "stream",
     "text": [
      "Processing Dead Can Dance_tracks.parquet:  21%|██        | 82/395 [00:25<00:29, 10.67it/s]"
     ]
    },
    {
     "name": "stdout",
     "output_type": "stream",
     "text": [
      "Failed requesting Salem's Lot - Live from The Forum, London, UK. April 7th, 2005\n",
      "Failed requesting Yulunga - Live from The Forum, London, UK. April 7th, 2005\n",
      "Failed requesting Severance - Live from The Forum, London, UK. April 7th, 2005\n",
      "Failed requesting Nierika - Live from Paramount Theatre, Seattle, WA. September 18th, 2005\n",
      "Failed requesting Babylon - Live from Paramount Theatre, Seattle, WA. September 18th, 2005\n",
      "Failed requesting Compassion - Live from Paramount Theatre, Seattle, WA. September 18th, 2005\n",
      "Failed requesting The Ubiquitous Mr. Lovegrove - Live from Paramount Theatre, Seattle, WA. September 18th, 2005\n",
      "Failed requesting The Love That Cannot Be - Live from Paramount Theatre, Seattle, WA. September 18th, 2005\n"
     ]
    },
    {
     "name": "stderr",
     "output_type": "stream",
     "text": [
      "Processing Dead Can Dance_tracks.parquet:  23%|██▎       | 89/395 [00:26<00:19, 15.94it/s]"
     ]
    },
    {
     "name": "stdout",
     "output_type": "stream",
     "text": [
      "Failed requesting The Lotus Eaters - Live from Paramount Theatre, Seattle, WA. September 18th, 2005\n",
      "Failed requesting Crescent - Live from Paramount Theatre, Seattle, WA. September 18th, 2005\n",
      "Failed requesting Minus Sanctus - Live from Paramount Theatre, Seattle, WA. September 18th, 2005\n",
      "Failed requesting Saltarello - Live from Paramount Theatre, Seattle, WA. September 18th, 2005\n",
      "Failed requesting The Wind That Shakes the Barley - Live from Paramount Theatre, Seattle, WA. September 18th, 2005\n",
      "Failed requesting How Fortunate the Man with None - Live from Paramount Theatre, Seattle, WA. September 18th, 2005\n",
      "Failed requesting Dreams Made Flesh - Live from Paramount Theatre, Seattle, WA. September 18th, 2005\n"
     ]
    },
    {
     "name": "stderr",
     "output_type": "stream",
     "text": [
      "Processing Dead Can Dance_tracks.parquet:  25%|██▍       | 98/395 [00:26<00:12, 23.40it/s]"
     ]
    },
    {
     "name": "stdout",
     "output_type": "stream",
     "text": [
      "Failed requesting I Can See Now - Live from Paramount Theatre, Seattle, WA. September 18th, 2005\n",
      "Failed requesting American Dreaming - Live from Paramount Theatre, Seattle, WA. September 18th, 2005\n",
      "Failed requesting Sanvean - Live from Paramount Theatre, Seattle, WA. September 18th, 2005\n",
      "Failed requesting Rakim - Live from Paramount Theatre, Seattle, WA. September 18th, 2005\n",
      "Failed requesting Black Sun - Live from Paramount Theatre, Seattle, WA. September 18th, 2005\n",
      "Failed requesting Salem's Lot - Live from Paramount Theatre, Seattle, WA. September 18th, 2005\n",
      "Failed requesting Severance - Live from Paramount Theatre, Seattle, WA. September 18th, 2005\n",
      "Failed requesting Hymn for the Fallen - Live from Paramount Theatre, Seattle, WA. September 18th, 2005\n"
     ]
    },
    {
     "name": "stderr",
     "output_type": "stream",
     "text": [
      "Processing Dead Can Dance_tracks.parquet:  27%|██▋       | 106/395 [00:26<00:10, 28.32it/s]"
     ]
    },
    {
     "name": "stdout",
     "output_type": "stream",
     "text": [
      "Failed requesting Nierika - Live from Barbican Theatre, London. April 6th, 2005\n",
      "Failed requesting Babylon - Live from Barbican Theatre, London. April 6th, 2005\n",
      "Failed requesting Yamyinar - Live from Barbican Theatre, London. April 6th, 2005\n",
      "Failed requesting The Ubiquitous Mr. Lovegrove - Live from Barbican Theatre, London. April 6th, 2005\n",
      "Failed requesting The Love That Cannot Be - Live from Barbican Theatre, London. April 6th, 2005\n",
      "Failed requesting The Lotus Eaters - Live from Barbican Theatre, London. April 6th, 2005\n",
      "Failed requesting Crescent - Live from Barbican Theatre, London. April 6th, 2005\n",
      "Failed requesting Minus Sanctus - Live from Barbican Theatre, London. April 6th, 2005\n"
     ]
    },
    {
     "name": "stderr",
     "output_type": "stream",
     "text": [
      "Processing Dead Can Dance_tracks.parquet:  28%|██▊       | 110/395 [00:26<00:09, 30.19it/s]"
     ]
    },
    {
     "name": "stdout",
     "output_type": "stream",
     "text": [
      "Failed requesting Saltarello - Live from Barbican Theatre, London. April 6th, 2005\n",
      "Failed requesting The Wind That Shakes the Barley - Live from Barbican Theatre, London. April 6th, 2005\n",
      "Failed requesting How Fortunate the Man with None - Live from Barbican Theatre, London. April 6th, 2005\n",
      "Failed requesting Dreams Made Flesh - Live from Barbican Theatre, London. April 6th, 2005\n",
      "Failed requesting I Can See Now - Live from Barbican Theatre, London. April 6th, 2005\n"
     ]
    },
    {
     "name": "stderr",
     "output_type": "stream",
     "text": [
      "Processing Dead Can Dance_tracks.parquet:  30%|██▉       | 118/395 [00:26<00:10, 27.03it/s]"
     ]
    },
    {
     "name": "stdout",
     "output_type": "stream",
     "text": [
      "Failed requesting American Dreaming - Live from Barbican Theatre, London. April 6th, 2005\n",
      "Failed requesting Sanvean - Live from Barbican Theatre, London. April 6th, 2005\n",
      "Failed requesting Rakim - Live from Barbican Theatre, London. April 6th, 2005\n",
      "Failed requesting Salem's Lot - Live from Barbican Theatre, London. April 6th, 2005\n",
      "Failed requesting Yulunga - Live from Barbican Theatre, London. April 6th, 2005\n",
      "Failed requesting Severance - Live from Barbican Theatre, London. April 6th, 2005\n",
      "Failed requesting Hymn for the Fallen - Live from Barbican Theatre, London. April 6th, 2005\n",
      "Failed requesting Nierika - Live from Auditorium Theatre, Chicago, IL. October 12th, 2005\n"
     ]
    },
    {
     "name": "stderr",
     "output_type": "stream",
     "text": [
      "Processing Dead Can Dance_tracks.parquet:  32%|███▏      | 126/395 [00:27<00:09, 29.45it/s]"
     ]
    },
    {
     "name": "stdout",
     "output_type": "stream",
     "text": [
      "Failed requesting Babylon - Live from Auditorium Theatre, Chicago, IL. October 12th, 2005\n",
      "Failed requesting Compassion - Live from Auditorium Theatre, Chicago, IL. October 12th, 2005\n",
      "Failed requesting The Ubiquitous Mr. Lovegrove - Live from Auditorium Theatre, Chicago, IL. October 12th, 2005\n",
      "Failed requesting The Love That Cannot Be - Live from Auditorium Theatre, Chicago, IL. October 12th, 2005\n",
      "Failed requesting The Lotus Eaters - Live from Auditorium Theatre, Chicago, IL. October 12th, 2005\n",
      "Failed requesting Crescent - Live from Auditorium Theatre, Chicago, IL. October 12th, 2005\n",
      "Failed requesting Minus Sanctus - Live from Auditorium Theatre, Chicago, IL. October 12th, 2005\n"
     ]
    },
    {
     "name": "stderr",
     "output_type": "stream",
     "text": [
      "Processing Dead Can Dance_tracks.parquet:  34%|███▍      | 134/395 [00:27<00:08, 32.22it/s]"
     ]
    },
    {
     "name": "stdout",
     "output_type": "stream",
     "text": [
      "Failed requesting Saltarello - Live from Auditorium Theatre, Chicago, IL. October 12th, 2005\n",
      "Failed requesting The Wind That Shakes the Barley - Live from Auditorium Theatre, Chicago, IL. October 12th, 2005\n",
      "Failed requesting How Fortunate the Man with None - Live from Auditorium Theatre, Chicago, IL. October 12th, 2005\n",
      "Failed requesting Dreams Made Flesh - Live from Auditorium Theatre, Chicago, IL. October 12th, 2005\n",
      "Failed requesting I Can See Now - Live from Auditorium Theatre, Chicago, IL. October 12th, 2005\n",
      "Failed requesting American Dreaming - Live from Auditorium Theatre, Chicago, IL. October 12th, 2005\n",
      "Failed requesting Sanvean - Live from Auditorium Theatre, Chicago, IL. October 12th, 2005\n",
      "Failed requesting Rakim - Live from Auditorium Theatre, Chicago, IL. October 12th, 2005\n",
      "Failed requesting Black Sun - Live from Auditorium Theatre, Chicago, IL. October 12th, 2005\n"
     ]
    },
    {
     "name": "stderr",
     "output_type": "stream",
     "text": [
      "Processing Dead Can Dance_tracks.parquet:  36%|███▌      | 143/395 [00:27<00:07, 34.10it/s]"
     ]
    },
    {
     "name": "stdout",
     "output_type": "stream",
     "text": [
      "Failed requesting Salem's Lot - Live from Auditorium Theatre, Chicago, IL. October 12th, 2005\n",
      "Failed requesting Yulunga - Live from Auditorium Theatre, Chicago, IL. October 12th, 2005\n",
      "Failed requesting Severance - Live from Auditorium Theatre, Chicago, IL. October 12th, 2005\n",
      "Failed requesting Nierika - Live from Münchner Philharmoniker, Munich, Germany. March 27th, 2005\n",
      "Failed requesting Babylon - Live from Münchner Philharmoniker, Munich, Germany. March 27th, 2005\n",
      "Failed requesting Yamyinar - Live from Münchner Philharmoniker, Munich, Germany. March 27th, 2005\n",
      "Failed requesting The Ubiquitous Mr. Lovegrove - Live from Münchner Philharmoniker, Munich, Germany. March 27th, 2005\n",
      "Failed requesting The Love That Cannot Be - Live from Münchner Philharmoniker, Munich, Germany. March 27th, 2005\n"
     ]
    },
    {
     "name": "stderr",
     "output_type": "stream",
     "text": [
      "Processing Dead Can Dance_tracks.parquet:  38%|███▊      | 151/395 [00:27<00:06, 35.12it/s]"
     ]
    },
    {
     "name": "stdout",
     "output_type": "stream",
     "text": [
      "Failed requesting The Lotus Eaters - Live from Münchner Philharmoniker, Munich, Germany. March 27th, 2005\n",
      "Failed requesting Crescent - Live from Münchner Philharmoniker, Munich, Germany. March 27th, 2005\n",
      "Failed requesting Minus Sanctus - Live from Münchner Philharmoniker, Munich, Germany. March 27th, 2005\n",
      "Failed requesting Saltarello - Live from Münchner Philharmoniker, Munich, Germany. March 27th, 2005\n",
      "Failed requesting The Wind That Shakes the Barley - Live from Münchner Philharmoniker, Munich, Germany. March 27th, 2005\n",
      "Failed requesting How Fortunate the Man with None - Live from Münchner Philharmoniker, Munich, Germany. March 27th, 2005\n",
      "Failed requesting Dreams Made Flesh - Live from Münchner Philharmoniker, Munich, Germany. March 27th, 2005\n",
      "Failed requesting I Can See Now - Live from Münchner Philharmoniker, Munich, Germany. March 27th, 2005\n",
      "Failed requesting American Dreaming - Live from Münchner Philharmoniker, Munich, Germany. March 27th, 2005\n"
     ]
    },
    {
     "name": "stderr",
     "output_type": "stream",
     "text": [
      "Processing Dead Can Dance_tracks.parquet:  40%|████      | 159/395 [00:28<00:06, 34.50it/s]"
     ]
    },
    {
     "name": "stdout",
     "output_type": "stream",
     "text": [
      "Failed requesting Sanvean - Live from Münchner Philharmoniker, Munich, Germany. March 27th, 2005\n",
      "Failed requesting Rakim - Live from Münchner Philharmoniker, Munich, Germany. March 27th, 2005\n",
      "Failed requesting Black Sun - Live from Münchner Philharmoniker, Munich, Germany. March 27th, 2005\n",
      "Failed requesting Salem's Lot - Live from Münchner Philharmoniker, Munich, Germany. March 27th, 2005\n",
      "Failed requesting Yulunga - Live from Münchner Philharmoniker, Munich, Germany. March 27th, 2005\n",
      "Failed requesting Severance - Live from Münchner Philharmoniker, Munich, Germany. March 27th, 2005\n",
      "Failed requesting Nierika - Live from Kölner Philharmonie, Cologne, Germany. March 26th, 2005\n"
     ]
    },
    {
     "name": "stderr",
     "output_type": "stream",
     "text": [
      "Processing Dead Can Dance_tracks.parquet:  42%|████▏     | 167/395 [00:28<00:06, 34.67it/s]"
     ]
    },
    {
     "name": "stdout",
     "output_type": "stream",
     "text": [
      "Failed requesting Babylon - Live from Kölner Philharmonie, Cologne, Germany. March 26th, 2005\n",
      "Failed requesting Yamyinar - Live from Kölner Philharmonie, Cologne, Germany. March 26th, 2005\n",
      "Failed requesting The Ubiquitous Mr. Lovegrove - Live from Kölner Philharmonie, Cologne, Germany. March 26th, 2005\n",
      "Failed requesting The Love That Cannot Be - Live from Kölner Philharmonie, Cologne, Germany. March 26th, 2005\n",
      "Failed requesting The Lotus Eaters - Live from Kölner Philharmonie, Cologne, Germany. March 26th, 2005\n",
      "Failed requesting Crescent - Live from Kölner Philharmonie, Cologne, Germany. March 26th, 2005\n",
      "Failed requesting Minus Sanctus - Live from Kölner Philharmonie, Cologne, Germany. March 26th, 2005\n",
      "Failed requesting Saltarello - Live from Kölner Philharmonie, Cologne, Germany. March 26th, 2005\n"
     ]
    },
    {
     "name": "stderr",
     "output_type": "stream",
     "text": [
      "Processing Dead Can Dance_tracks.parquet:  44%|████▍     | 175/395 [00:28<00:06, 36.39it/s]"
     ]
    },
    {
     "name": "stdout",
     "output_type": "stream",
     "text": [
      "Failed requesting The Wind That Shakes the Barley - Live from Kölner Philharmonie, Cologne, Germany. March 26th, 2005\n",
      "Failed requesting How Fortunate the Man with None - Live from Kölner Philharmonie, Cologne, Germany. March 26th, 2005\n",
      "Failed requesting Dreams Made Flesh - Live from Kölner Philharmonie, Cologne, Germany. March 26th, 2005\n",
      "Failed requesting I Can See Now - Live from Kölner Philharmonie, Cologne, Germany. March 26th, 2005\n",
      "Failed requesting American Dreaming - Live from Kölner Philharmonie, Cologne, Germany. March 26th, 2005\n",
      "Failed requesting Sanvean - Live from Kölner Philharmonie, Cologne, Germany. March 26th, 2005\n",
      "Failed requesting Rakim - Live from Kölner Philharmonie, Cologne, Germany. March 26th, 2005\n",
      "Failed requesting Black Sun - Live from Kölner Philharmonie, Cologne, Germany. March 26th, 2005\n"
     ]
    },
    {
     "name": "stderr",
     "output_type": "stream",
     "text": [
      "Processing Dead Can Dance_tracks.parquet:  46%|████▋     | 183/395 [00:28<00:06, 33.24it/s]"
     ]
    },
    {
     "name": "stdout",
     "output_type": "stream",
     "text": [
      "Failed requesting Salem's Lot - Live from Kölner Philharmonie, Cologne, Germany. March 26th, 2005\n",
      "Failed requesting Yulunga - Live from Kölner Philharmonie, Cologne, Germany. March 26th, 2005\n",
      "Failed requesting Severance - Live from Kölner Philharmonie, Cologne, Germany. March 26th, 2005\n",
      "Failed requesting Nierika - Live from The Music Center at Strathmore, North Bethesda, MD. October 10th, 2005\n",
      "Failed requesting Babylon - Live from The Music Center at Strathmore, North Bethesda, MD. October 10th, 2005\n",
      "Failed requesting Compassion - Live from The Music Center at Strathmore, North Bethesda, MD. October 10th, 2005\n",
      "Failed requesting The Ubiquitous Mr. Lovegrove - Live from The Music Center at Strathmore, North Bethesda, MD. October 10th, 2005\n"
     ]
    },
    {
     "name": "stderr",
     "output_type": "stream",
     "text": [
      "Processing Dead Can Dance_tracks.parquet:  48%|████▊     | 191/395 [00:29<00:05, 34.45it/s]"
     ]
    },
    {
     "name": "stdout",
     "output_type": "stream",
     "text": [
      "Failed requesting The Love That Cannot Be - Live from The Music Center at Strathmore, North Bethesda, MD. October 10th, 2005\n",
      "Failed requesting The Lotus Eaters - Live from The Music Center at Strathmore, North Bethesda, MD. October 10th, 2005\n",
      "Failed requesting Crescent - Live from The Music Center at Strathmore, North Bethesda, MD. October 10th, 2005\n",
      "Failed requesting Minus Sanctus - Live from The Music Center at Strathmore, North Bethesda, MD. October 10th, 2005\n",
      "Failed requesting Saltarello - Live from The Music Center at Strathmore, North Bethesda, MD. October 10th, 2005\n",
      "Failed requesting The Wind That Shakes the Barley - Live from The Music Center at Strathmore, North Bethesda, MD. October 10th, 2005\n",
      "Failed requesting How Fortunate the Man with None - Live from The Music Center at Strathmore, North Bethesda, MD. October 10th, 2005\n",
      "Failed requesting Dreams Made Flesh - Live from The Music Center at Strathmore, North Bethesda, MD. October 10th, 2005\n"
     ]
    },
    {
     "name": "stderr",
     "output_type": "stream",
     "text": [
      "Processing Dead Can Dance_tracks.parquet:  50%|█████     | 199/395 [00:29<00:05, 35.11it/s]"
     ]
    },
    {
     "name": "stdout",
     "output_type": "stream",
     "text": [
      "Failed requesting I Can See Now - Live from The Music Center at Strathmore, North Bethesda, MD. October 10th, 2005\n",
      "Failed requesting American Dreaming - Live from The Music Center at Strathmore, North Bethesda, MD. October 10th, 2005\n",
      "Failed requesting Sanvean - Live from The Music Center at Strathmore, North Bethesda, MD. October 10th, 2005\n",
      "Failed requesting Black Sun - Live from The Music Center at Strathmore, North Bethesda, MD. October 10th, 2005\n",
      "Failed requesting Salem's Lot - Live from The Music Center at Strathmore, North Bethesda, MD. October 10th, 2005\n",
      "Failed requesting Yulunga - Live from The Music Center at Strathmore, North Bethesda, MD. October 10th, 2005\n",
      "Failed requesting Severance - Live from The Music Center at Strathmore, North Bethesda, MD. October 10th, 2005\n",
      "Failed requesting Hymn for the Fallen - Live from The Music Center at Strathmore, North Bethesda, MD. October 10th, 2005\n"
     ]
    },
    {
     "name": "stderr",
     "output_type": "stream",
     "text": [
      "Processing Dead Can Dance_tracks.parquet:  52%|█████▏    | 207/395 [00:29<00:05, 34.26it/s]"
     ]
    },
    {
     "name": "stdout",
     "output_type": "stream",
     "text": [
      "Failed requesting Nierika - Live from Teatro Dal Verme, Milan, Italy. March 24th, 2005\n",
      "Failed requesting Babylon - Live from Teatro Dal Verme, Milan, Italy. March 24th, 2005\n",
      "Failed requesting Yamyinar - Live from Teatro Dal Verme, Milan, Italy. March 24th, 2005\n",
      "Failed requesting The Ubiquitous Mr. Lovegrove - Live from Teatro Dal Verme, Milan, Italy. March 24th, 2005\n",
      "Failed requesting The Love That Cannot Be - Live from Teatro Dal Verme, Milan, Italy. March 24th, 2005\n",
      "Failed requesting Crescent - Live from Teatro Dal Verme, Milan, Italy. March 24th, 2005\n",
      "Failed requesting Minus Sanctus - Live from Teatro Dal Verme, Milan, Italy. March 24th, 2005\n"
     ]
    },
    {
     "name": "stderr",
     "output_type": "stream",
     "text": [
      "Processing Dead Can Dance_tracks.parquet:  54%|█████▍    | 215/395 [00:29<00:05, 32.16it/s]"
     ]
    },
    {
     "name": "stdout",
     "output_type": "stream",
     "text": [
      "Failed requesting Saltarello - Live from Teatro Dal Verme, Milan, Italy. March 24th, 2005\n",
      "Failed requesting The Wind That Shakes the Barley - Live from Teatro Dal Verme, Milan, Italy. March 24th, 2005\n",
      "Failed requesting How Fortunate the Man with None - Live from Teatro Dal Verme, Milan, Italy. March 24th, 2005\n",
      "Failed requesting Dreams Made Flesh - Live from Teatro Dal Verme, Milan, Italy. March 24th, 2005\n",
      "Failed requesting I Can See Now - Live from Teatro Dal Verme, Milan, Italy. March 24th, 2005\n",
      "Failed requesting American Dreaming - Live from Teatro Dal Verme, Milan, Italy. March 24th, 2005\n",
      "Failed requesting Sanvean - Live from Teatro Dal Verme, Milan, Italy. March 24th, 2005\n",
      "Failed requesting Rakim - Live from Teatro Dal Verme, Milan, Italy. March 24th, 2005\n"
     ]
    },
    {
     "name": "stderr",
     "output_type": "stream",
     "text": [
      "Processing Dead Can Dance_tracks.parquet:  56%|█████▌    | 220/395 [00:29<00:05, 33.91it/s]"
     ]
    },
    {
     "name": "stdout",
     "output_type": "stream",
     "text": [
      "Failed requesting Salem's Lot - Live from Teatro Dal Verme, Milan, Italy. March 24th, 2005\n",
      "Failed requesting Yulunga - Live from Teatro Dal Verme, Milan, Italy. March 24th, 2005\n",
      "Failed requesting Severance - Live from Teatro Dal Verme, Milan, Italy. March 24th, 2005\n",
      "Failed requesting Hymn for the Fallen - Live from Teatro Dal Verme, Milan, Italy. March 24th, 2005\n",
      "Failed requesting Nierika - Live from Auditori Forum, Barcelona, Spain. March 22nd, 2005\n",
      "Failed requesting Babylon - Live from Auditori Forum, Barcelona, Spain. March 22nd, 2005\n",
      "Failed requesting Yamyinar - Live from Auditori Forum, Barcelona, Spain. March 22nd, 2005\n"
     ]
    },
    {
     "name": "stderr",
     "output_type": "stream",
     "text": [
      "Processing Dead Can Dance_tracks.parquet:  58%|█████▊    | 228/395 [00:30<00:04, 33.89it/s]"
     ]
    },
    {
     "name": "stdout",
     "output_type": "stream",
     "text": [
      "Failed requesting The Ubiquitous Mr. Lovegrove - Live from Auditori Forum, Barcelona, Spain. March 22nd, 2005\n",
      "Failed requesting The Love That Cannot Be - Live from Auditori Forum, Barcelona, Spain. March 22nd, 2005\n",
      "Failed requesting The Lotus Eaters - Live from Auditori Forum, Barcelona, Spain. March 22nd, 2005\n",
      "Failed requesting Crescent - Live from Auditori Forum, Barcelona, Spain. March 22nd, 2005\n",
      "Failed requesting Minus Sanctus - Live from Auditori Forum, Barcelona, Spain. March 22nd, 2005\n",
      "Failed requesting Saltarello - Live from Auditori Forum, Barcelona, Spain. March 22nd, 2005\n",
      "Failed requesting The Wind That Shakes the Barley - Live from Auditori Forum, Barcelona, Spain. March 22nd, 2005\n"
     ]
    },
    {
     "name": "stderr",
     "output_type": "stream",
     "text": [
      "Processing Dead Can Dance_tracks.parquet:  60%|█████▉    | 236/395 [00:30<00:04, 33.75it/s]"
     ]
    },
    {
     "name": "stdout",
     "output_type": "stream",
     "text": [
      "Failed requesting How Fortunate the Man with None - Live from Auditori Forum, Barcelona, Spain. March 22nd, 2005\n",
      "Failed requesting Dreams Made Flesh - Live from Auditori Forum, Barcelona, Spain. March 22nd, 2005\n",
      "Failed requesting I Can See Now - Live from Auditori Forum, Barcelona, Spain. March 22nd, 2005\n",
      "Failed requesting American Dreaming - Live from Auditori Forum, Barcelona, Spain. March 22nd, 2005\n",
      "Failed requesting Sanvean - Live from Auditori Forum, Barcelona, Spain. March 22nd, 2005\n",
      "Failed requesting Rakim - Live from Auditori Forum, Barcelona, Spain. March 22nd, 2005\n",
      "Failed requesting Black Sun - Live from Auditori Forum, Barcelona, Spain. March 22nd, 2005\n",
      "Failed requesting Salem's Lot - Live from Auditori Forum, Barcelona, Spain. March 22nd, 2005\n"
     ]
    },
    {
     "name": "stderr",
     "output_type": "stream",
     "text": [
      "Processing Dead Can Dance_tracks.parquet:  62%|██████▏   | 244/395 [00:30<00:04, 35.07it/s]"
     ]
    },
    {
     "name": "stdout",
     "output_type": "stream",
     "text": [
      "Failed requesting Yulunga - Live from Auditori Forum, Barcelona, Spain. March 22nd, 2005\n",
      "Failed requesting Hymn for the Fallen - Live from Auditori Forum, Barcelona, Spain. March 22nd, 2005\n",
      "Failed requesting Nierika - Live from Orpheum Theatre, Boston, MA. October 5th, 2005\n",
      "Failed requesting Babylon - Live from Orpheum Theatre, Boston, MA. October 5th, 2005\n",
      "Failed requesting Compassion - Live from Orpheum Theatre, Boston, MA. October 5th, 2005\n",
      "Failed requesting The Ubiquitous Mr. Lovegrove - Live from Orpheum Theatre, Boston, MA. October 5th, 2005\n",
      "Failed requesting The Love That Cannot Be - Live from Orpheum Theatre, Boston, MA. October 5th, 2005\n",
      "Failed requesting The Lotus Eaters - Live from Orpheum Theatre, Boston, MA. October 5th, 2005\n"
     ]
    },
    {
     "name": "stderr",
     "output_type": "stream",
     "text": [
      "Processing Dead Can Dance_tracks.parquet:  64%|██████▍   | 252/395 [00:30<00:04, 34.43it/s]"
     ]
    },
    {
     "name": "stdout",
     "output_type": "stream",
     "text": [
      "Failed requesting Crescent - Live from Orpheum Theatre, Boston, MA. October 5th, 2005\n",
      "Failed requesting Minus Sanctus - Live from Orpheum Theatre, Boston, MA. October 5th, 2005\n",
      "Failed requesting Saltarello - Live from Orpheum Theatre, Boston, MA. October 5th, 2005\n",
      "Failed requesting The Wind That Shakes the Barley - Live from Orpheum Theatre, Boston, MA. October 5th, 2005\n",
      "Failed requesting How Fortunate the Man with None - Live from Orpheum Theatre, Boston, MA. October 5th, 2005\n",
      "Failed requesting I Can See Now - Live from Orpheum Theatre, Boston, MA. October 5th, 2005\n",
      "Failed requesting American Dreaming - Live from Orpheum Theatre, Boston, MA. October 5th, 2005\n"
     ]
    },
    {
     "name": "stderr",
     "output_type": "stream",
     "text": [
      "Processing Dead Can Dance_tracks.parquet:  65%|██████▍   | 256/395 [00:30<00:04, 33.01it/s]"
     ]
    },
    {
     "name": "stdout",
     "output_type": "stream",
     "text": [
      "Failed requesting Rakim - Live from Orpheum Theatre, Boston, MA. October 5th, 2005\n",
      "Failed requesting Black Sun - Live from Orpheum Theatre, Boston, MA. October 5th, 2005\n",
      "Failed requesting Yulunga - Live from Orpheum Theatre, Boston, MA. October 5th, 2005\n",
      "Failed requesting Severance - Live from Orpheum Theatre, Boston, MA. October 5th, 2005\n",
      "Failed requesting Nierika - Live from Teatro Lope De Vega, Madrid, Spain. March 21st, 2005\n",
      "Failed requesting Babylon - Live from Teatro Lope De Vega, Madrid, Spain. March 21st, 2005\n",
      "Failed requesting Yamyinar - Live from Teatro Lope De Vega, Madrid, Spain. March 21st, 2005\n"
     ]
    },
    {
     "name": "stderr",
     "output_type": "stream",
     "text": [
      "Processing Dead Can Dance_tracks.parquet:  67%|██████▋   | 264/395 [00:31<00:03, 33.18it/s]"
     ]
    },
    {
     "name": "stdout",
     "output_type": "stream",
     "text": [
      "Failed requesting The Ubiquitous Mr. Lovegrove - Live from Teatro Lope De Vega, Madrid, Spain. March 21st, 2005\n",
      "Failed requesting The Love That Cannot Be - Live from Teatro Lope De Vega, Madrid, Spain. March 21st, 2005\n",
      "Failed requesting The Lotus Eaters - Live from Teatro Lope De Vega, Madrid, Spain. March 21st, 2005\n",
      "Failed requesting Crescent - Live from Teatro Lope De Vega, Madrid, Spain. March 21st, 2005\n",
      "Failed requesting Minus Sanctus - Live from Teatro Lope De Vega, Madrid, Spain. March 21st, 2005\n",
      "Failed requesting Saltarello - Live from Teatro Lope De Vega, Madrid, Spain. March 21st, 2005\n",
      "Failed requesting The Wind That Shakes the Barley - Live from Teatro Lope De Vega, Madrid, Spain. March 21st, 2005\n"
     ]
    },
    {
     "name": "stderr",
     "output_type": "stream",
     "text": [
      "Processing Dead Can Dance_tracks.parquet:  69%|██████▉   | 272/395 [00:31<00:03, 34.40it/s]"
     ]
    },
    {
     "name": "stdout",
     "output_type": "stream",
     "text": [
      "Failed requesting Dreams Made Flesh - Live from Teatro Lope De Vega, Madrid, Spain. March 21st, 2005\n",
      "Failed requesting I Can See Now - Live from Teatro Lope De Vega, Madrid, Spain. March 21st, 2005\n",
      "Failed requesting American Dreaming - Live from Teatro Lope De Vega, Madrid, Spain. March 21st, 2005\n",
      "Failed requesting Sanvean - Live from Teatro Lope De Vega, Madrid, Spain. March 21st, 2005\n",
      "Failed requesting Rakim - Live from Teatro Lope De Vega, Madrid, Spain. March 21st, 2005\n",
      "Failed requesting Black Sun - Live from Teatro Lope De Vega, Madrid, Spain. March 21st, 2005\n",
      "Failed requesting Salem's Lot - Live from Teatro Lope De Vega, Madrid, Spain. March 21st, 2005\n",
      "Failed requesting Yulunga - Live from Teatro Lope De Vega, Madrid, Spain. March 21st, 2005\n"
     ]
    },
    {
     "name": "stderr",
     "output_type": "stream",
     "text": [
      "Processing Dead Can Dance_tracks.parquet:  71%|███████   | 280/395 [00:31<00:03, 35.31it/s]"
     ]
    },
    {
     "name": "stdout",
     "output_type": "stream",
     "text": [
      "Failed requesting Hymn for the Fallen - Live from Teatro Lope De Vega, Madrid, Spain. March 21st, 2005\n",
      "Failed requesting Nierika - Live from Paleis voor Schone Kunsten, Brussels, Belgium. March 17th, 2005\n",
      "Failed requesting Babylon - Live from Paleis voor Schone Kunsten, Brussels, Belgium. March 17th, 2005\n",
      "Failed requesting Yamyinar - Live from Paleis voor Schone Kunsten, Brussels, Belgium. March 17th, 2005\n",
      "Failed requesting The Ubiquitous Mr. Lovegrove - Live from Paleis voor Schone Kunsten, Brussels, Belgium. March 17th, 2005\n",
      "Failed requesting The Love That Cannot Be - Live from Paleis voor Schone Kunsten, Brussels, Belgium. March 17th, 2005\n",
      "Failed requesting The Lotus Eaters - Live from Paleis voor Schone Kunsten, Brussels, Belgium. March 17th, 2005\n",
      "Failed requesting Crescent - Live from Paleis voor Schone Kunsten, Brussels, Belgium. March 17th, 2005\n"
     ]
    },
    {
     "name": "stderr",
     "output_type": "stream",
     "text": [
      "Processing Dead Can Dance_tracks.parquet:  73%|███████▎  | 288/395 [00:31<00:03, 33.52it/s]"
     ]
    },
    {
     "name": "stdout",
     "output_type": "stream",
     "text": [
      "Failed requesting Minus Sanctus - Live from Paleis voor Schone Kunsten, Brussels, Belgium. March 17th, 2005\n",
      "Failed requesting Saltarello - Live from Paleis voor Schone Kunsten, Brussels, Belgium. March 17th, 2005\n",
      "Failed requesting The Wind That Shakes the Barley - Live from Paleis voor Schone Kunsten, Brussels, Belgium. March 17th, 2005\n",
      "Failed requesting How Fortunate the Man with None - Live from Paleis voor Schone Kunsten, Brussels, Belgium. March 17th, 2005\n",
      "Failed requesting Dreams Made Flesh - Live from Paleis voor Schone Kunsten, Brussels, Belgium. March 17th, 2005\n",
      "Failed requesting I Can See Now - Live from Paleis voor Schone Kunsten, Brussels, Belgium. March 17th, 2005\n",
      "Failed requesting American Dreaming - Live from Paleis voor Schone Kunsten, Brussels, Belgium. March 17th, 2005\n"
     ]
    },
    {
     "name": "stderr",
     "output_type": "stream",
     "text": [
      "Processing Dead Can Dance_tracks.parquet:  75%|███████▍  | 296/395 [00:32<00:02, 33.65it/s]"
     ]
    },
    {
     "name": "stdout",
     "output_type": "stream",
     "text": [
      "Failed requesting Sanvean - Live from Paleis voor Schone Kunsten, Brussels, Belgium. March 17th, 2005\n",
      "Failed requesting Rakim - Live from Paleis voor Schone Kunsten, Brussels, Belgium. March 17th, 2005\n",
      "Failed requesting Black Sun - Live from Paleis voor Schone Kunsten, Brussels, Belgium. March 17th, 2005\n",
      "Failed requesting Salem's Lot - Live from Paleis voor Schone Kunsten, Brussels, Belgium. March 17th, 2005\n",
      "Failed requesting Yulunga - Live from Paleis voor Schone Kunsten, Brussels, Belgium. March 17th, 2005\n",
      "Failed requesting Severance - Live from Paleis voor Schone Kunsten, Brussels, Belgium. March 17th, 2005\n",
      "Failed requesting Nierika - Live from Théâtre St-Denis, Montreal, QC. October 2nd, 2005\n"
     ]
    },
    {
     "name": "stderr",
     "output_type": "stream",
     "text": [
      "Processing Dead Can Dance_tracks.parquet:  77%|███████▋  | 304/395 [00:32<00:02, 35.82it/s]"
     ]
    },
    {
     "name": "stdout",
     "output_type": "stream",
     "text": [
      "Failed requesting Babylon - Live from Théâtre St-Denis, Montreal, QC. October 2nd, 2005\n",
      "Failed requesting Compassion - Live from Théâtre St-Denis, Montreal, QC. October 2nd, 2005\n",
      "Failed requesting The Ubiquitous Mr. Lovegrove - Live from Théâtre St-Denis, Montreal, QC. October 2nd, 2005\n",
      "Failed requesting The Love That Cannot Be - Live from Théâtre St-Denis, Montreal, QC. October 2nd, 2005\n",
      "Failed requesting The Lotus Eaters - Live from Théâtre St-Denis, Montreal, QC. October 2nd, 2005\n",
      "Failed requesting Crescent - Live from Théâtre St-Denis, Montreal, QC. October 2nd, 2005\n",
      "Failed requesting Minus Sanctus - Live from Théâtre St-Denis, Montreal, QC. October 2nd, 2005\n",
      "Failed requesting Saltarello - Live from Théâtre St-Denis, Montreal, QC. October 2nd, 2005\n",
      "Failed requesting The Wind That Shakes the Barley - Live from Théâtre St-Denis, Montreal, QC. October 2nd, 2005\n"
     ]
    },
    {
     "name": "stderr",
     "output_type": "stream",
     "text": [
      "Processing Dead Can Dance_tracks.parquet:  79%|███████▉  | 312/395 [00:32<00:02, 34.41it/s]"
     ]
    },
    {
     "name": "stdout",
     "output_type": "stream",
     "text": [
      "Failed requesting How Fortunate the Man with None - Live from Théâtre St-Denis, Montreal, QC. October 2nd, 2005\n",
      "Failed requesting Dreams Made Flesh - Live from Théâtre St-Denis, Montreal, QC. October 2nd, 2005\n",
      "Failed requesting I Can See Now - Live from Théâtre St-Denis, Montreal, QC. October 2nd, 2005\n",
      "Failed requesting American Dreaming - Live from Théâtre St-Denis, Montreal, QC. October 2nd, 2005\n",
      "Failed requesting Sanvean - Live from Théâtre St-Denis, Montreal, QC. October 2nd, 2005\n",
      "Failed requesting Rakim - Live from Théâtre St-Denis, Montreal, QC. October 2nd, 2005\n",
      "Failed requesting Black Sun - Live from Théâtre St-Denis, Montreal, QC. October 2nd, 2005\n"
     ]
    },
    {
     "name": "stderr",
     "output_type": "stream",
     "text": [
      "Processing Dead Can Dance_tracks.parquet:  80%|████████  | 316/395 [00:32<00:02, 34.70it/s]"
     ]
    },
    {
     "name": "stdout",
     "output_type": "stream",
     "text": [
      "Failed requesting Salem's Lot - Live from Théâtre St-Denis, Montreal, QC. October 2nd, 2005\n",
      "Failed requesting Yulunga - Live from Théâtre St-Denis, Montreal, QC. October 2nd, 2005\n",
      "Failed requesting Severance - Live from Théâtre St-Denis, Montreal, QC. October 2nd, 2005\n",
      "Failed requesting Nierika - Live from Lille Grand Palais, Lille, France. March 16th, 2005\n",
      "Failed requesting Babylon - Live from Lille Grand Palais, Lille, France. March 16th, 2005\n",
      "Failed requesting Yamyinar - Live from Lille Grand Palais, Lille, France. March 16th, 2005\n",
      "Failed requesting The Ubiquitous Mr. Lovegrove - Live from Lille Grand Palais, Lille, France. March 16th, 2005\n",
      "Failed requesting The Love That Cannot Be - Live from Lille Grand Palais, Lille, France. March 16th, 2005\n"
     ]
    },
    {
     "name": "stderr",
     "output_type": "stream",
     "text": [
      "Processing Dead Can Dance_tracks.parquet:  82%|████████▏ | 324/395 [00:32<00:02, 34.57it/s]"
     ]
    },
    {
     "name": "stdout",
     "output_type": "stream",
     "text": [
      "Failed requesting The Lotus Eaters - Live from Lille Grand Palais, Lille, France. March 16th, 2005\n",
      "Failed requesting Crescent - Live from Lille Grand Palais, Lille, France. March 16th, 2005\n",
      "Failed requesting Minus Sanctus - Live from Lille Grand Palais, Lille, France. March 16th, 2005\n",
      "Failed requesting Saltarello - Live from Lille Grand Palais, Lille, France. March 16th, 2005\n",
      "Failed requesting The Wind That Shakes the Barley - Live from Lille Grand Palais, Lille, France. March 16th, 2005\n",
      "Failed requesting Deams Made Flesh - Live from Lille Grand Palais, Lille, France. March 16th, 2005\n"
     ]
    },
    {
     "name": "stderr",
     "output_type": "stream",
     "text": [
      "Processing Dead Can Dance_tracks.parquet:  84%|████████▍ | 332/395 [00:33<00:01, 34.32it/s]"
     ]
    },
    {
     "name": "stdout",
     "output_type": "stream",
     "text": [
      "Failed requesting I Can See Now - Live from Lille Grand Palais, Lille, France. March 16th, 2005\n",
      "Failed requesting American Dreaming - Live from Lille Grand Palais, Lille, France. March 16th, 2005\n",
      "Failed requesting Sanvean - Live from Lille Grand Palais, Lille, France. March 16th, 2005\n",
      "Failed requesting Rakim - Live from Lille Grand Palais, Lille, France. March 16th, 2005\n",
      "Failed requesting Black Sun - Live from Lille Grand Palais, Lille, France. March 16th, 2005\n",
      "Failed requesting Salem's Lot - Live from Lille Grand Palais, Lille, France. March 16th, 2005\n",
      "Failed requesting Yulunga - Live from Lille Grand Palais, Lille, France. March 16th, 2005\n",
      "Failed requesting Severance - Live from Lille Grand Palais, Lille, France. March 16th, 2005\n"
     ]
    },
    {
     "name": "stderr",
     "output_type": "stream",
     "text": [
      "Processing Dead Can Dance_tracks.parquet:  86%|████████▌ | 340/395 [00:33<00:01, 34.16it/s]"
     ]
    },
    {
     "name": "stdout",
     "output_type": "stream",
     "text": [
      "Failed requesting Hymn for the Fallen - Live from Lille Grand Palais, Lille, France. March 16th, 2005\n",
      "Failed requesting Nierika - Live from Palais des Congres, Paris, France. March 14th, 2005\n",
      "Failed requesting Babylon - Live from Palais des Congres, Paris, France. March 14th, 2005\n",
      "Failed requesting Yamyinar - Live from Palais des Congres, Paris, France. March 14th, 2005\n",
      "Failed requesting The Ubiquitous Mr. Lovegrove - Live from Palais des Congres, Paris, France. March 14th, 2005\n",
      "Failed requesting The Love That Cannot Be - Live from Palais des Congres, Paris, France. March 14th, 2005\n",
      "Failed requesting The Lotus Eaters - Live from Palais des Congres, Paris, France. March 14th, 2005\n",
      "Failed requesting Crescent - Live from Palais des Congres, Paris, France. March 14th, 2005\n"
     ]
    },
    {
     "name": "stderr",
     "output_type": "stream",
     "text": [
      "Processing Dead Can Dance_tracks.parquet:  87%|████████▋ | 344/395 [00:33<00:01, 34.82it/s]"
     ]
    },
    {
     "name": "stdout",
     "output_type": "stream",
     "text": [
      "Failed requesting Minus Sanctus - Live from Palais des Congres, Paris, France. March 14th, 2005\n",
      "Failed requesting Saltarello - Live from Palais des Congres, Paris, France. March 14th, 2005\n",
      "Failed requesting The Wind That Shakes the Barley - Live from Palais des Congres, Paris, France. March 14th, 2005\n",
      "Failed requesting Dreams Made Flesh - Live from Palais des Congres, Paris, France. March 14th, 2005\n"
     ]
    },
    {
     "name": "stderr",
     "output_type": "stream",
     "text": [
      "Processing Dead Can Dance_tracks.parquet:  89%|████████▉ | 352/395 [00:35<00:05,  7.41it/s]"
     ]
    },
    {
     "name": "stdout",
     "output_type": "stream",
     "text": [
      "Failed requesting American Dreaming - Live from Palais des Congres, Paris, France. March 14th, 2005\n",
      "Failed requesting Sanvean - Live from Palais des Congres, Paris, France. March 14th, 2005\n",
      "Failed requesting Rakim - Live from Palais des Congres, Paris, France. March 14th, 2005\n",
      "Failed requesting Black Sun - Live from Palais des Congres, Paris, France. March 14th, 2005\n",
      "Failed requesting Salem's Lot - Live from Palais des Congres, Paris, France. March 14th, 2005\n",
      "Failed requesting Yulunga - Live from Palais des Congres, Paris, France. March 14th, 2005\n"
     ]
    },
    {
     "name": "stderr",
     "output_type": "stream",
     "text": [
      "Processing Dead Can Dance_tracks.parquet:  90%|████████▉ | 355/395 [00:36<00:07,  5.24it/s]"
     ]
    },
    {
     "name": "stdout",
     "output_type": "stream",
     "text": [
      "Failed requesting Nierika - Live from Massey Hall, Toronto, ON. October 1st, 2005\n",
      "Failed requesting Babylon - Live from Massey Hall, Toronto, ON. October 1st, 2005\n",
      "Failed requesting Compassion - Live from Massey Hall, Toronto, ON. October 1st, 2005\n"
     ]
    },
    {
     "name": "stderr",
     "output_type": "stream",
     "text": [
      "Processing Dead Can Dance_tracks.parquet:  93%|█████████▎| 367/395 [00:38<00:03,  8.38it/s]"
     ]
    },
    {
     "name": "stdout",
     "output_type": "stream",
     "text": [
      "Failed requesting The Love That Cannot Be - Live from Massey Hall, Toronto, ON. October 1st, 2005\n",
      "Failed requesting Crescent - Live from Massey Hall, Toronto, ON. October 1st, 2005\n",
      "Failed requesting Minus Sanctus - Live from Massey Hall, Toronto, ON. October 1st, 2005\n",
      "Failed requesting Saltarello - Live from Massey Hall, Toronto, ON. October 1st, 2005\n",
      "Failed requesting The Wind That Shakes the Barley - Live from Massey Hall, Toronto, ON. October 1st, 2005\n",
      "Failed requesting How Fortunate the Man with None - Live from Massey Hall, Toronto, ON. October 1st, 2005\n",
      "Failed requesting Dreams Made Flesh - Live from Massey Hall, Toronto, ON. October 1st, 2005\n",
      "Failed requesting I Can See Now - Live from Massey Hall, Toronto, ON. October 1st, 2005\n"
     ]
    },
    {
     "name": "stderr",
     "output_type": "stream",
     "text": [
      "Processing Dead Can Dance_tracks.parquet:  95%|█████████▍| 375/395 [00:38<00:01, 13.95it/s]"
     ]
    },
    {
     "name": "stdout",
     "output_type": "stream",
     "text": [
      "Failed requesting American Dreaming - Live from Massey Hall, Toronto, ON. October 1st, 2005\n",
      "Failed requesting Sanvean - Live from Massey Hall, Toronto, ON. October 1st, 2005\n",
      "Failed requesting Rakim - Live from Massey Hall, Toronto, ON. October 1st, 2005\n",
      "Failed requesting Black Sun - Live from Massey Hall, Toronto, ON. October 1st, 2005\n",
      "Failed requesting Salem's Lot - Live from Massey Hall, Toronto, ON. October 1st, 2005\n",
      "Failed requesting Yulunga - Live from Massey Hall, Toronto, ON. October 1st, 2005\n",
      "Failed requesting Severance - Live from Massey Hall, Toronto, ON. October 1st, 2005\n",
      "Failed requesting Hymn for the Fallen - Live from Massey Hall, Toronto, ON. October 1st, 2005\n"
     ]
    },
    {
     "name": "stderr",
     "output_type": "stream",
     "text": [
      "Processing Dead Can Dance_tracks.parquet:  96%|█████████▌| 379/395 [00:38<00:00, 16.79it/s]"
     ]
    },
    {
     "name": "stdout",
     "output_type": "stream",
     "text": [
      "Failed requesting Nierika - Live from Olympia Theatre, Dublin, Ireland. March 10th, 2005\n",
      "Failed requesting Rakim - Live from Olympia Theatre, Dublin, Ireland. March 10th, 2005\n",
      "Failed requesting Minus Sanctus - Live from Olympia Theatre, Dublin, Ireland. March 10th, 2005\n",
      "Failed requesting The Ubiquitous Mr. Lovegrove - Live from Olympia Theatre, Dublin, Ireland. March 10th, 2005\n",
      "Failed requesting The Lotus Eaters - Live from Olympia Theatre, Dublin, Ireland. March 10th, 2005\n",
      "Failed requesting Crescent - Live from Olympia Theatre, Dublin, Ireland. March 10th, 2005\n",
      "Failed requesting The Love That Cannot Be - Live from Olympia Theatre, Dublin, Ireland. March 10th, 2005\n"
     ]
    },
    {
     "name": "stderr",
     "output_type": "stream",
     "text": [
      "Processing Dead Can Dance_tracks.parquet:  98%|█████████▊| 387/395 [00:38<00:00, 22.32it/s]"
     ]
    },
    {
     "name": "stdout",
     "output_type": "stream",
     "text": [
      "Failed requesting Black Sun - Live from Olympia Theatre, Dublin, Ireland. March 10th, 2005\n",
      "Failed requesting The Wind That Shakes the Barley - Live from Olympia Theatre, Dublin, Ireland. March 10th, 2005\n",
      "Failed requesting Saltarello - Live from Olympia Theatre, Dublin, Ireland. March 10th, 2005\n",
      "Failed requesting Dreams Made Flesh - Live from Olympia Theatre, Dublin, Ireland. March 10th, 2005\n",
      "Failed requesting Babylon - Live from Olympia Theatre, Dublin, Ireland. March 10th, 2005\n",
      "Failed requesting Yamyinar - Live from Olympia Theatre, Dublin, Ireland. March 10th, 2005\n",
      "Failed requesting I Can See Now - Live from Olympia Theatre, Dublin, Ireland. March 10th, 2005\n",
      "Failed requesting American Dreaming - Live from Olympia Theatre, Dublin, Ireland. March 10th, 2005\n"
     ]
    },
    {
     "name": "stderr",
     "output_type": "stream",
     "text": [
      "Processing Dead Can Dance_tracks.parquet: 100%|██████████| 395/395 [00:39<00:00, 10.12it/s]\n",
      "Processing Dead Confederate_tracks.parquet:   0%|          | 0/60 [00:00<?, ?it/s]"
     ]
    },
    {
     "name": "stdout",
     "output_type": "stream",
     "text": [
      "Failed requesting Sanvean - Live from Olympia Theatre, Dublin, Ireland. March 10th, 2005\n",
      "Failed requesting Yulunga - Live from Olympia Theatre, Dublin, Ireland. March 10th, 2005\n",
      "Failed requesting Salem's Lot - Live from Olympia Theatre, Dublin, Ireland. March 10th, 2005\n",
      "Failed requesting Severance - Live from Olympia Theatre, Dublin, Ireland. March 10th, 2005\n",
      "Failed requesting Hymn for the Fallen - Live from Olympia Theatre, Dublin, Ireland. March 10th, 2005\n"
     ]
    },
    {
     "name": "stderr",
     "output_type": "stream",
     "text": [
      "Processing Dead Confederate_tracks.parquet:   8%|▊         | 5/60 [00:00<00:02, 23.52it/s]"
     ]
    },
    {
     "name": "stdout",
     "output_type": "stream",
     "text": [
      "Failed requesting Slow Poisons\n",
      "Failed requesting Vacations\n",
      "Failed requesting Bleed-Through\n",
      "Failed requesting In The Marrow\n",
      "Failed requesting Best Of The Worst\n",
      "Failed requesting Dead Poetry\n",
      "Failed requesting Big City Life\n"
     ]
    },
    {
     "name": "stderr",
     "output_type": "stream",
     "text": [
      "Processing Dead Confederate_tracks.parquet:  22%|██▏       | 13/60 [00:00<00:01, 28.31it/s]"
     ]
    },
    {
     "name": "stdout",
     "output_type": "stream",
     "text": [
      "Failed requesting Winter Waters\n",
      "Failed requesting Took A Bad Hand (Bonus Track)\n",
      "Failed requesting Slave To Slavery\n",
      "Failed requesting We Married Money\n",
      "Failed requesting First Fires\n",
      "Failed requesting Godfather\n",
      "Failed requesting Second Split\n"
     ]
    },
    {
     "name": "stderr",
     "output_type": "stream",
     "text": [
      "Processing Dead Confederate_tracks.parquet:  35%|███▌      | 21/60 [00:00<00:01, 32.71it/s]"
     ]
    },
    {
     "name": "stdout",
     "output_type": "stream",
     "text": [
      "Failed requesting Getaway\n",
      "Failed requesting Golden Gifts\n",
      "Failed requesting In The Dark\n",
      "Failed requesting Run From The Gun\n",
      "Failed requesting Father Figure\n",
      "Failed requesting Quiet Kid\n",
      "Failed requesting By Design\n",
      "Failed requesting Mob Scene\n"
     ]
    },
    {
     "name": "stderr",
     "output_type": "stream",
     "text": [
      "Processing Dead Confederate_tracks.parquet:  48%|████▊     | 29/60 [00:00<00:00, 33.19it/s]"
     ]
    },
    {
     "name": "stdout",
     "output_type": "stream",
     "text": [
      "Failed requesting Semi Thought\n",
      "Failed requesting Giving It All Away\n",
      "Failed requesting Sugar\n",
      "Failed requesting Shocked To Realize\n",
      "Failed requesting I Need A Joke\n",
      "Failed requesting I Need A Joke\n",
      "Failed requesting Deaf To The Subtle Sound\n",
      "Failed requesting Heavy Petting\n"
     ]
    },
    {
     "name": "stderr",
     "output_type": "stream",
     "text": [
      "Processing Dead Confederate_tracks.parquet:  62%|██████▏   | 37/60 [00:01<00:00, 36.15it/s]"
     ]
    },
    {
     "name": "stdout",
     "output_type": "stream",
     "text": [
      "Failed requesting The Rat\n",
      "Failed requesting Goner\n",
      "Failed requesting It Was A Rose\n",
      "Failed requesting Yer Circus\n",
      "Failed requesting All The Angels\n",
      "Failed requesting Start Me Laughing\n",
      "Failed requesting The News Underneath\n",
      "Failed requesting Flesh Colored Canvas\n",
      "Failed requesting Wrecking Ball\n"
     ]
    },
    {
     "name": "stderr",
     "output_type": "stream",
     "text": [
      "Processing Dead Confederate_tracks.parquet:  75%|███████▌  | 45/60 [00:01<00:00, 36.13it/s]"
     ]
    },
    {
     "name": "stdout",
     "output_type": "stream",
     "text": [
      "Failed requesting Get Out\n",
      "Failed requesting Get Out\n",
      "Failed requesting Tortured Artist Saint\n",
      "Failed requesting Tortured Artist Saint\n",
      "Failed requesting Shadow The Walls\n",
      "Failed requesting Shadow The Walls\n",
      "Failed requesting I Need A Joke\n",
      "Failed requesting I Need A Joke\n"
     ]
    },
    {
     "name": "stderr",
     "output_type": "stream",
     "text": [
      "Processing Dead Confederate_tracks.parquet:  90%|█████████ | 54/60 [00:01<00:00, 36.39it/s]"
     ]
    },
    {
     "name": "stdout",
     "output_type": "stream",
     "text": [
      "Failed requesting Giving It All Away - Single Edit\n",
      "Failed requesting The Rat - Radio Edit\n",
      "Failed requesting Memorial Day Night\n",
      "Failed requesting Memorial Day Night\n",
      "Failed requesting Get Out\n",
      "Failed requesting Get Out\n",
      "Failed requesting Tortured Artist Saint\n",
      "Failed requesting Tortured Artist Saint\n"
     ]
    },
    {
     "name": "stderr",
     "output_type": "stream",
     "text": [
      "Processing Dead Confederate_tracks.parquet: 100%|██████████| 60/60 [00:01<00:00, 33.44it/s]\n",
      "Processing Dead Kennedys_tracks.parquet:   0%|          | 0/405 [00:00<?, ?it/s]"
     ]
    },
    {
     "name": "stdout",
     "output_type": "stream",
     "text": [
      "Failed requesting Shadow The Walls\n",
      "Failed requesting Shadow The Walls\n",
      "Failed requesting Memorial Day Night\n",
      "Failed requesting Memorial Day Night\n",
      "Failed requesting The Rat\n",
      "Failed requesting Kill The Poor - 2022 Mix\n",
      "Failed requesting Kill The Poor - 2022 Mix\n"
     ]
    },
    {
     "name": "stderr",
     "output_type": "stream",
     "text": [
      "Processing Dead Kennedys_tracks.parquet:   2%|▏         | 8/405 [00:00<00:10, 36.46it/s]"
     ]
    },
    {
     "name": "stdout",
     "output_type": "stream",
     "text": [
      "Failed requesting Kill The Poor - 2022 Mix\n",
      "Failed requesting Forward To Death - 2022 Mix\n",
      "Failed requesting Forward To Death - 2022 Mix\n",
      "Failed requesting When Ya Get Drafted - 2022 Mix\n",
      "Failed requesting When Ya Get Drafted - 2022 Mix\n",
      "Failed requesting Let's Lynch The Landlord - 2022 Mix\n",
      "Failed requesting Let's Lynch The Landlord - 2022 Mix\n",
      "Failed requesting Drug Me - 2022 Mix\n"
     ]
    },
    {
     "name": "stderr",
     "output_type": "stream",
     "text": [
      "Processing Dead Kennedys_tracks.parquet:   4%|▍         | 16/405 [00:00<00:10, 37.22it/s]"
     ]
    },
    {
     "name": "stdout",
     "output_type": "stream",
     "text": [
      "Failed requesting Drug Me - 2022 Mix\n",
      "Failed requesting Your Emotions - 2022 Mix\n",
      "Failed requesting Your Emotions - 2022 Mix\n",
      "Failed requesting Chemical Warfare - 2022 Mix\n",
      "Failed requesting Chemical Warfare - 2022 Mix\n",
      "Failed requesting Chemical Warfare - 2022 Mix\n",
      "Failed requesting California Über Alles - 2022 Mix\n",
      "Failed requesting California Über Alles - 2022 Mix\n"
     ]
    },
    {
     "name": "stderr",
     "output_type": "stream",
     "text": [
      "Processing Dead Kennedys_tracks.parquet:   6%|▌         | 24/405 [00:00<00:10, 36.18it/s]"
     ]
    },
    {
     "name": "stdout",
     "output_type": "stream",
     "text": [
      "Failed requesting I Kill Children - 2022 Mix\n",
      "Failed requesting I Kill Children - 2022 Mix\n",
      "Failed requesting Stealing People's Mail - 2022 Mix\n",
      "Failed requesting Stealing People's Mail - 2022 Mix\n",
      "Failed requesting Funland At The Beach - 2022 Mix\n",
      "Failed requesting Funland At The Beach - 2022 Mix\n",
      "Failed requesting Ill In The Head - 2022 Mix\n",
      "Failed requesting Ill In The Head - 2022 Mix\n"
     ]
    },
    {
     "name": "stderr",
     "output_type": "stream",
     "text": [
      "Processing Dead Kennedys_tracks.parquet:   8%|▊         | 32/405 [00:00<00:10, 36.51it/s]"
     ]
    },
    {
     "name": "stdout",
     "output_type": "stream",
     "text": [
      "Failed requesting Holiday In Cambodia - 2022 Mix\n",
      "Failed requesting Holiday In Cambodia - 2022 Mix\n",
      "Failed requesting Viva Las Vegas - 2022 Mix\n",
      "Failed requesting Viva Las Vegas - 2022 Mix\n",
      "Failed requesting Bleed for Me - Live\n",
      "Failed requesting When Ya Get Drafted - Live\n",
      "Failed requesting Chemical Warfare - Live\n",
      "Failed requesting Ill in the Head - Live\n"
     ]
    },
    {
     "name": "stderr",
     "output_type": "stream",
     "text": [
      "Processing Dead Kennedys_tracks.parquet:  10%|▉         | 40/405 [00:01<00:10, 35.06it/s]"
     ]
    },
    {
     "name": "stdout",
     "output_type": "stream",
     "text": [
      "Failed requesting Straight A's - Live\n",
      "Failed requesting California Über Alles - Live\n",
      "Failed requesting Police Truck - Live\n",
      "Failed requesting Stealing People's Mail - Live\n",
      "Failed requesting Drug Me - Live\n",
      "Failed requesting Holiday in Cambodia - Live\n",
      "Failed requesting Too Drunk to Fuck - Live\n"
     ]
    },
    {
     "name": "stderr",
     "output_type": "stream",
     "text": [
      "Processing Dead Kennedys_tracks.parquet:  12%|█▏        | 48/405 [00:01<00:09, 36.23it/s]"
     ]
    },
    {
     "name": "stdout",
     "output_type": "stream",
     "text": [
      "Failed requesting The Last Time - Live\n",
      "Failed requesting Man with the Dogs\n",
      "Failed requesting Kepone Kids\n",
      "Failed requesting Forward to Death\n",
      "Failed requesting Kill the Poor\n",
      "Failed requesting Your Emotions\n",
      "Failed requesting Dreadlocks of the Suburbs\n",
      "Failed requesting I Kill Children\n"
     ]
    },
    {
     "name": "stderr",
     "output_type": "stream",
     "text": [
      "Processing Dead Kennedys_tracks.parquet:  14%|█▍        | 57/405 [00:01<00:09, 37.58it/s]"
     ]
    },
    {
     "name": "stdout",
     "output_type": "stream",
     "text": [
      "Failed requesting Cold Fish\n",
      "Failed requesting Holiday in Cambodia\n",
      "Failed requesting Kidnap\n",
      "Failed requesting Mutations of Today\n",
      "Failed requesting Rawhide\n",
      "Failed requesting California Über Alles\n",
      "Failed requesting Moral Majority - Live at the Paradiso\n",
      "Failed requesting I Am the Owl - Live at the Paradiso\n",
      "Failed requesting Life Sentence - Live at the Paradiso\n"
     ]
    },
    {
     "name": "stderr",
     "output_type": "stream",
     "text": [
      "Processing Dead Kennedys_tracks.parquet:  15%|█▌        | 61/405 [00:01<00:09, 37.85it/s]"
     ]
    },
    {
     "name": "stdout",
     "output_type": "stream",
     "text": [
      "Failed requesting Police Truck - Live at the Paradiso\n",
      "Failed requesting Riot - Live at the Paradiso\n",
      "Failed requesting Bleed for Us - Live at the Paradiso\n",
      "Failed requesting Holiday in Cambodia - Live at the Paradiso\n",
      "Failed requesting Let's Lynch the Landlord - Live at the Paradiso\n",
      "Failed requesting Chemical Warfare - Live at the Paradiso\n",
      "Failed requesting Nazi Punks Fuck Off - Live at the Paradiso\n"
     ]
    },
    {
     "name": "stderr",
     "output_type": "stream",
     "text": [
      "Processing Dead Kennedys_tracks.parquet:  17%|█▋        | 69/405 [00:01<00:10, 32.78it/s]"
     ]
    },
    {
     "name": "stdout",
     "output_type": "stream",
     "text": [
      "Failed requesting Kill the Poor - Live at the Paradiso\n",
      "Failed requesting We've Got a Bigger Problem Now - Live at the Paradiso\n",
      "Failed requesting Too Drunk to Fuck - Live at the Paradiso\n",
      "Failed requesting Skateboard Talk + Intro - Live at Alabama Halle\n",
      "Failed requesting Man with the Dogs - Live at Alabama Halle\n",
      "Failed requesting Foreward to Death - Live at Alabama Halle\n",
      "Failed requesting Kepone Factory - Live at Alabama Halle\n"
     ]
    },
    {
     "name": "stderr",
     "output_type": "stream",
     "text": [
      "Processing Dead Kennedys_tracks.parquet:  19%|█▉        | 78/405 [00:02<00:09, 36.13it/s]"
     ]
    },
    {
     "name": "stdout",
     "output_type": "stream",
     "text": [
      "Failed requesting Life Sentence - Live at Alabama Halle\n",
      "Failed requesting Trust Your Mechanic - Live at Alabama Halle\n",
      "Failed requesting Moral Majority - Live at Alabama Halle\n",
      "Failed requesting California Über Alles\n",
      "Failed requesting Police Truck\n",
      "Failed requesting Kill The Poor\n",
      "Failed requesting Holiday In Cambodia\n",
      "Failed requesting Nazi Punks Fuck Off\n",
      "Failed requesting Too Drunk To Fuck\n"
     ]
    },
    {
     "name": "stderr",
     "output_type": "stream",
     "text": [
      "Processing Dead Kennedys_tracks.parquet:  21%|██        | 86/405 [00:02<00:08, 35.75it/s]"
     ]
    },
    {
     "name": "stdout",
     "output_type": "stream",
     "text": [
      "Failed requesting Viva Las Vegas\n",
      "Failed requesting Moon Over Marin\n",
      "Failed requesting Halloween\n",
      "Failed requesting MTV Get Off The Air\n",
      "Failed requesting Soup Is Good Food (Live)\n",
      "Failed requesting Jock-O-Rama (Live)\n",
      "Failed requesting Introduction by DJ Johnny Walker\n",
      "Failed requesting Kill the Poor\n"
     ]
    },
    {
     "name": "stderr",
     "output_type": "stream",
     "text": [
      "Processing Dead Kennedys_tracks.parquet:  23%|██▎       | 95/405 [00:02<00:08, 37.82it/s]"
     ]
    },
    {
     "name": "stdout",
     "output_type": "stream",
     "text": [
      "Failed requesting Back In Rhodesia\n",
      "Failed requesting Man With The Dogs\n",
      "Failed requesting Gaslight\n",
      "Failed requesting California Uber Alles\n",
      "Failed requesting Ill In the Head\n",
      "Failed requesting Straight A's\n",
      "Failed requesting Short Songs\n",
      "Failed requesting Holiday In Cambodia\n",
      "Failed requesting Police Truck\n"
     ]
    },
    {
     "name": "stderr",
     "output_type": "stream",
     "text": [
      "Processing Dead Kennedys_tracks.parquet:  26%|██▌       | 104/405 [00:02<00:07, 38.15it/s]"
     ]
    },
    {
     "name": "stdout",
     "output_type": "stream",
     "text": [
      "Failed requesting Forward To Death\n",
      "Failed requesting Have I the Right\n",
      "Failed requesting Back in the USSR\n",
      "Failed requesting Viva Las Vegas\n",
      "Failed requesting Introduction\n",
      "Failed requesting Police Truck\n",
      "Failed requesting Kill the Poor\n",
      "Failed requesting Holiday In Cambodia\n"
     ]
    },
    {
     "name": "stderr",
     "output_type": "stream",
     "text": [
      "Processing Dead Kennedys_tracks.parquet:  28%|██▊       | 112/405 [00:03<00:07, 38.78it/s]"
     ]
    },
    {
     "name": "stdout",
     "output_type": "stream",
     "text": [
      "Failed requesting Moon Over Marin\n",
      "Failed requesting California Uber Alles\n",
      "Failed requesting MTV-Get Off the Air\n",
      "Failed requesting Too Drunk to Fuck\n",
      "Failed requesting Goons of Hazzard\n",
      "Failed requesting This Could Be Anywhere\n",
      "Failed requesting Forward To Death\n",
      "Failed requesting I Am The Owl\n",
      "Failed requesting Hellnation\n"
     ]
    },
    {
     "name": "stderr",
     "output_type": "stream",
     "text": [
      "Processing Dead Kennedys_tracks.parquet:  30%|██▉       | 120/405 [00:03<00:07, 38.80it/s]"
     ]
    },
    {
     "name": "stdout",
     "output_type": "stream",
     "text": [
      "Failed requesting Riot\n",
      "Failed requesting Advice From Christmas Past\n",
      "Failed requesting Government Flu\n",
      "Failed requesting Terminal Preppie\n",
      "Failed requesting Trust Your Mechanic\n",
      "Failed requesting Well Paid Scientist\n",
      "Failed requesting Buzzbomb\n",
      "Failed requesting Forest Fire\n",
      "Failed requesting Halloween\n"
     ]
    },
    {
     "name": "stderr",
     "output_type": "stream",
     "text": [
      "Processing Dead Kennedys_tracks.parquet:  32%|███▏      | 129/405 [00:03<00:07, 39.42it/s]"
     ]
    },
    {
     "name": "stdout",
     "output_type": "stream",
     "text": [
      "Failed requesting Winnebago Warrior\n",
      "Failed requesting Riot\n",
      "Failed requesting Bleed for Me\n",
      "Failed requesting I am the Owl\n",
      "Failed requesting Dead End\n",
      "Failed requesting Moon Over Marin\n",
      "Failed requesting Religious Vomit\n",
      "Failed requesting Moral Majority\n",
      "Failed requesting Hyperactive Child\n"
     ]
    },
    {
     "name": "stderr",
     "output_type": "stream",
     "text": [
      "Processing Dead Kennedys_tracks.parquet:  34%|███▍      | 137/405 [00:03<00:06, 39.55it/s]"
     ]
    },
    {
     "name": "stdout",
     "output_type": "stream",
     "text": [
      "Failed requesting Kepone Factory\n",
      "Failed requesting Dog Bite\n",
      "Failed requesting Nazi Punks Fuck Off\n",
      "Failed requesting Police Truck\n",
      "Failed requesting Police Truck\n",
      "Failed requesting Police Truck\n",
      "Failed requesting Too Drunk to Fuck\n",
      "Failed requesting Too Drunk to Fuck\n"
     ]
    },
    {
     "name": "stderr",
     "output_type": "stream",
     "text": [
      "Processing Dead Kennedys_tracks.parquet:  36%|███▋      | 147/405 [00:03<00:06, 40.21it/s]"
     ]
    },
    {
     "name": "stdout",
     "output_type": "stream",
     "text": [
      "Failed requesting Too Drunk to Fuck\n",
      "Failed requesting California Uber Alles\n",
      "Failed requesting The Man with the Dogs\n",
      "Failed requesting Insight\n",
      "Failed requesting Insight\n",
      "Failed requesting Insight\n",
      "Failed requesting Life Sentence\n",
      "Failed requesting A Child and His Lawnmower\n",
      "Failed requesting Holiday in Cambodia\n"
     ]
    },
    {
     "name": "stderr",
     "output_type": "stream",
     "text": [
      "Processing Dead Kennedys_tracks.parquet:  39%|███▉      | 157/405 [00:04<00:06, 40.07it/s]"
     ]
    },
    {
     "name": "stdout",
     "output_type": "stream",
     "text": [
      "Failed requesting Holiday in Cambodia\n",
      "Failed requesting Holiday in Cambodia\n",
      "Failed requesting Holiday in Cambodia\n",
      "Failed requesting I Fought the Law\n",
      "Failed requesting Saturday Night Holocaust\n",
      "Failed requesting Pull My Strings\n",
      "Failed requesting Short Songs\n",
      "Failed requesting Straight A's\n",
      "Failed requesting Kinky Sex Makes the World Go 'Round\n"
     ]
    },
    {
     "name": "stderr",
     "output_type": "stream",
     "text": [
      "Processing Dead Kennedys_tracks.parquet:  43%|████▎     | 174/405 [00:14<01:24,  2.75it/s]"
     ]
    },
    {
     "name": "stdout",
     "output_type": "stream",
     "text": [
      "Failed requesting The Great Wall\n",
      "Failed requesting Shrink\n",
      "Failed requesting Triumph of the Swill\n",
      "Failed requesting Macho Insecurity\n",
      "Failed requesting I Spy\n"
     ]
    },
    {
     "name": "stderr",
     "output_type": "stream",
     "text": [
      "Processing Dead Kennedys_tracks.parquet:  43%|████▎     | 176/405 [00:16<01:53,  2.02it/s]"
     ]
    },
    {
     "name": "stdout",
     "output_type": "stream",
     "text": [
      "Failed requesting Do the Slag\n"
     ]
    },
    {
     "name": "stderr",
     "output_type": "stream",
     "text": [
      "Processing Dead Kennedys_tracks.parquet:  44%|████▍     | 178/405 [00:17<01:54,  1.98it/s]"
     ]
    },
    {
     "name": "stdout",
     "output_type": "stream",
     "text": [
      "Failed requesting Gone With My Mind\n",
      "Failed requesting Anarchy For Sale\n"
     ]
    },
    {
     "name": "stderr",
     "output_type": "stream",
     "text": [
      "Processing Dead Kennedys_tracks.parquet:  79%|███████▉  | 321/405 [02:44<01:27,  1.04s/it]"
     ]
    }
   ],
   "source": [
    "with open('path_1.json', 'r') as f:\n",
    "    paths = json.load(f)\n",
    "for path in paths:\n",
    "    filename = os.path.basename(path)\n",
    "\n",
    "    output_file_path = f'results/{filename}'\n",
    "\n",
    "    if os.path.exists(output_file_path):\n",
    "        print(f\"Parquet file already exists for {filename}, skipping...\")\n",
    "        continue\n",
    "\n",
    "    if os.path.isfile(path):\n",
    "        artist_df = pd.read_parquet(path)\n",
    "        artist_df['bag_of_words'] = None\n",
    "\n",
    "        for i, r in tqdm(artist_df.iterrows(), total=len(artist_df), desc=f\"Processing {filename}\"):\n",
    "            sp_lyrics = sp.get_lyrics(r['track_id'])\n",
    "            if sp_lyrics:\n",
    "                lyrics = \"\"\n",
    "\n",
    "                for x in sp_lyrics['lyrics']['lines']:\n",
    "                    lyrics += ' ' + x['words']\n",
    "\n",
    "                lyrics = lyrics.lower()\n",
    "                words = lyrics.split()\n",
    "                bag_of_words = Counter(words)\n",
    "                artist_df.at[i, 'bag_of_words'] = bag_of_words\n",
    "                time.sleep(1)\n",
    "            else:\n",
    "                print(f'Failed requesting {r[\"track_name\"]}')\n",
    "\n",
    "\n",
    "    artist_df.to_parquet(f'results/{filename}')\n",
    "\n"
   ]
  }
 ],
 "metadata": {
  "kernelspec": {
   "display_name": "Python 3",
   "language": "python",
   "name": "python3"
  },
  "language_info": {
   "codemirror_mode": {
    "name": "ipython",
    "version": 3
   },
   "file_extension": ".py",
   "mimetype": "text/x-python",
   "name": "python",
   "nbconvert_exporter": "python",
   "pygments_lexer": "ipython3",
   "version": "3.8.10"
  },
  "orig_nbformat": 4
 },
 "nbformat": 4,
 "nbformat_minor": 2
}
