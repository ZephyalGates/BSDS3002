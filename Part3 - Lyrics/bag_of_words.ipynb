{
 "cells": [
  {
   "cell_type": "code",
   "execution_count": 44,
   "metadata": {},
   "outputs": [],
   "source": [
    "import requests\n",
    "from bs4 import BeautifulSoup\n",
    "import pandas as pd\n",
    "import os\n",
    "import re\n",
    "from collections import Counter\n",
    "from syrics.api import Spotify\n",
    "from tqdm import tqdm\n",
    "import time\n",
    "import json"
   ]
  },
  {
   "cell_type": "code",
   "execution_count": 45,
   "metadata": {},
   "outputs": [],
   "source": [
    "sp = Spotify(\"AQDNUdw04pOvll6grA-CwnJqomQbNrEu8bnLYzMIDVIIpYhxCR9SnqgBEwcsc18J2IquWtHmIhtZE-TJkwqOtgcs-KPb8eR8mCf3QZ5MOGcRtPloxMW9ShcohEzPQAIP29abxGuTruJ9igSFrvRqVwvRttT8mwe6\")"
   ]
  },
  {
   "cell_type": "code",
   "execution_count": 46,
   "metadata": {},
   "outputs": [
    {
     "name": "stderr",
     "output_type": "stream",
     "text": [
      "Processing 3LW_tracks.parquet:   0%|          | 0/258 [00:00<?, ?it/s]"
     ]
    },
    {
     "name": "stdout",
     "output_type": "stream",
     "text": [
      "Parquet file already exists for !!!_tracks.parquet, skipping...\n",
      "Parquet file already exists for $uicideboy$_tracks.parquet, skipping...\n",
      "Parquet file already exists for '68 Comeback_tracks.parquet, skipping...\n",
      "Parquet file already exists for 'Til Tuesday_tracks.parquet, skipping...\n",
      "Parquet file already exists for ...And You Will Know Us by the Trail of Dead_tracks.parquet, skipping...\n",
      "Parquet file already exists for 10 Years_tracks.parquet, skipping...\n",
      "Parquet file already exists for 10,000 Maniacs_tracks.parquet, skipping...\n",
      "Parquet file already exists for 10cc_tracks.parquet, skipping...\n",
      "Parquet file already exists for 112_tracks.parquet, skipping...\n",
      "Parquet file already exists for 12 Rounds_tracks.parquet, skipping...\n",
      "Parquet file already exists for 12 Stones_tracks.parquet, skipping...\n",
      "Parquet file already exists for 1208_tracks.parquet, skipping...\n",
      "Parquet file already exists for 1349_tracks.parquet, skipping...\n",
      "Parquet file already exists for 13th Floor Elevators_tracks.parquet, skipping...\n",
      "Parquet file already exists for 16 Horsepower_tracks.parquet, skipping...\n",
      "Parquet file already exists for 1910 Fruitgum Company_tracks.parquet, skipping...\n",
      "Parquet file already exists for 1990s_tracks.parquet, skipping...\n",
      "Parquet file already exists for 2 Chainz_tracks.parquet, skipping...\n",
      "Parquet file already exists for 2 Skinnee J's_tracks.parquet, skipping...\n",
      "Parquet file already exists for 24-7 Spyz_tracks.parquet, skipping...\n",
      "Parquet file already exists for 24hrs_tracks.parquet, skipping...\n",
      "Parquet file already exists for 28 North_tracks.parquet, skipping...\n",
      "Parquet file already exists for 2Pac_tracks.parquet, skipping...\n",
      "Parquet file already exists for 3 Doors Down_tracks.parquet, skipping...\n",
      "Parquet file already exists for 311_tracks.parquet, skipping...\n",
      "Parquet file already exists for 33Hz_tracks.parquet, skipping...\n",
      "Parquet file already exists for 3LAU_tracks.parquet, skipping...\n"
     ]
    },
    {
     "name": "stderr",
     "output_type": "stream",
     "text": [
      "Processing 3LW_tracks.parquet:   1%|          | 2/258 [00:02<04:28,  1.05s/it]"
     ]
    },
    {
     "name": "stdout",
     "output_type": "stream",
     "text": [
      "Failed requesting Christmas Party (featuring Treach of Naughty By Nature)\n"
     ]
    },
    {
     "name": "stderr",
     "output_type": "stream",
     "text": [
      "Processing 3LW_tracks.parquet:   4%|▍         | 10/258 [00:09<04:09,  1.00s/it]"
     ]
    },
    {
     "name": "stdout",
     "output_type": "stream",
     "text": [
      "Failed requesting I Do (Wanna Get Close To You) (featuring Loon)\n"
     ]
    },
    {
     "name": "stderr",
     "output_type": "stream",
     "text": [
      "Processing 3LW_tracks.parquet:  10%|█         | 26/258 [00:25<04:00,  1.04s/it]"
     ]
    },
    {
     "name": "stdout",
     "output_type": "stream",
     "text": [
      "Failed requesting Playas Gon' Play\n",
      "Failed requesting Playas Gon' Play\n"
     ]
    },
    {
     "name": "stderr",
     "output_type": "stream",
     "text": [
      "Processing 3LW_tracks.parquet:  17%|█▋        | 44/258 [00:41<03:41,  1.03s/it]"
     ]
    },
    {
     "name": "stdout",
     "output_type": "stream",
     "text": [
      "Failed requesting I Do (Wanna Get Close to You)\n"
     ]
    },
    {
     "name": "stderr",
     "output_type": "stream",
     "text": [
      "Processing 3LW_tracks.parquet:  19%|█▉        | 49/258 [00:45<03:17,  1.06it/s]"
     ]
    },
    {
     "name": "stdout",
     "output_type": "stream",
     "text": [
      "Failed requesting I Do (Wanna Get Close To You) (featuring Loon)\n"
     ]
    },
    {
     "name": "stderr",
     "output_type": "stream",
     "text": [
      "Processing 3LW_tracks.parquet:  21%|██        | 54/258 [00:50<03:08,  1.08it/s]"
     ]
    },
    {
     "name": "stdout",
     "output_type": "stream",
     "text": [
      "Failed requesting Feels Good (Don't Worry Bout a Thing) [Kelly G Club Mix Instrumental)\n",
      "Failed requesting Rah Rah\n"
     ]
    },
    {
     "name": "stderr",
     "output_type": "stream",
     "text": [
      "Processing 3LW_tracks.parquet:  24%|██▎       | 61/258 [00:55<02:56,  1.12it/s]"
     ]
    },
    {
     "name": "stdout",
     "output_type": "stream",
     "text": [
      "Failed requesting Playas Gon' Play\n",
      "Failed requesting Playas Gon' Play - Instrumental\n",
      "Failed requesting Playas Gon' Play - A cappella\n"
     ]
    },
    {
     "name": "stderr",
     "output_type": "stream",
     "text": [
      "Processing 3LW_tracks.parquet:  26%|██▌       | 66/258 [00:57<01:58,  1.62it/s]"
     ]
    },
    {
     "name": "stdout",
     "output_type": "stream",
     "text": [
      "Failed requesting Same OL' Freak\n"
     ]
    },
    {
     "name": "stderr",
     "output_type": "stream",
     "text": [
      "Processing 3LW_tracks.parquet:  31%|███       | 79/258 [01:10<03:03,  1.02s/it]"
     ]
    },
    {
     "name": "stdout",
     "output_type": "stream",
     "text": [
      "Failed requesting What Christmas Means to Me - from \"The Best Man Holiday Original Motion Picture Soundtrack\"\n"
     ]
    },
    {
     "name": "stderr",
     "output_type": "stream",
     "text": [
      "Processing 3LW_tracks.parquet:  38%|███▊      | 97/258 [01:27<02:46,  1.04s/it]"
     ]
    },
    {
     "name": "stdout",
     "output_type": "stream",
     "text": [
      "Failed requesting Happiness\n",
      "Failed requesting Happiness\n"
     ]
    },
    {
     "name": "stderr",
     "output_type": "stream",
     "text": [
      "Processing 3LW_tracks.parquet:  40%|███▉      | 103/258 [01:31<02:14,  1.16it/s]"
     ]
    },
    {
     "name": "stdout",
     "output_type": "stream",
     "text": [
      "Failed requesting Ice Box\n",
      "Failed requesting Ice Box\n"
     ]
    },
    {
     "name": "stderr",
     "output_type": "stream",
     "text": [
      "Processing 3LW_tracks.parquet:  45%|████▍     | 115/258 [01:40<01:21,  1.76it/s]"
     ]
    },
    {
     "name": "stdout",
     "output_type": "stream",
     "text": [
      "Failed requesting 1 Thing\n",
      "Failed requesting 1 Thing\n"
     ]
    },
    {
     "name": "stderr",
     "output_type": "stream",
     "text": [
      "Processing 3LW_tracks.parquet:  50%|████▉     | 128/258 [01:53<02:13,  1.03s/it]"
     ]
    },
    {
     "name": "stdout",
     "output_type": "stream",
     "text": [
      "Failed requesting You Ruin Me\n",
      "Failed requesting Lady Marmalade\n",
      "Failed requesting Shake It\n"
     ]
    },
    {
     "name": "stderr",
     "output_type": "stream",
     "text": [
      "Processing 3LW_tracks.parquet:  52%|█████▏    | 134/258 [01:57<01:32,  1.34it/s]"
     ]
    },
    {
     "name": "stdout",
     "output_type": "stream",
     "text": [
      "Failed requesting Step by Step\n"
     ]
    },
    {
     "name": "stderr",
     "output_type": "stream",
     "text": [
      "Processing 3LW_tracks.parquet:  53%|█████▎    | 136/258 [01:58<01:21,  1.50it/s]"
     ]
    },
    {
     "name": "stdout",
     "output_type": "stream",
     "text": [
      "Failed requesting Freedom\n"
     ]
    },
    {
     "name": "stderr",
     "output_type": "stream",
     "text": [
      "Processing 3LW_tracks.parquet:  55%|█████▌    | 143/258 [02:04<01:46,  1.08it/s]"
     ]
    },
    {
     "name": "stdout",
     "output_type": "stream",
     "text": [
      "Failed requesting Jump\n",
      "Failed requesting MC's Act Like They Don't Know\n",
      "Failed requesting It Takes Two\n"
     ]
    },
    {
     "name": "stderr",
     "output_type": "stream",
     "text": [
      "Processing 3LW_tracks.parquet:  61%|██████    | 157/258 [02:16<01:42,  1.01s/it]"
     ]
    },
    {
     "name": "stdout",
     "output_type": "stream",
     "text": [
      "Failed requesting Ice Box\n",
      "Failed requesting Ice Box\n"
     ]
    },
    {
     "name": "stderr",
     "output_type": "stream",
     "text": [
      "Processing 3LW_tracks.parquet:  66%|██████▌   | 170/258 [02:27<01:30,  1.02s/it]"
     ]
    },
    {
     "name": "stdout",
     "output_type": "stream",
     "text": [
      "Failed requesting Pretty Wings\n"
     ]
    },
    {
     "name": "stderr",
     "output_type": "stream",
     "text": [
      "Processing 3LW_tracks.parquet:  71%|███████   | 183/258 [02:36<00:29,  2.52it/s]"
     ]
    },
    {
     "name": "stdout",
     "output_type": "stream",
     "text": [
      "Failed requesting How You Gonna Act Like That\n",
      "Failed requesting How You Gonna Act Like That\n",
      "Failed requesting When I See U\n",
      "Failed requesting When I See U\n",
      "Failed requesting Happiness\n",
      "Failed requesting Happiness\n",
      "Failed requesting 1 Thing\n"
     ]
    },
    {
     "name": "stderr",
     "output_type": "stream",
     "text": [
      "Processing 3LW_tracks.parquet:  72%|███████▏  | 187/258 [02:36<00:15,  4.49it/s]"
     ]
    },
    {
     "name": "stdout",
     "output_type": "stream",
     "text": [
      "Failed requesting 1 Thing\n"
     ]
    },
    {
     "name": "stderr",
     "output_type": "stream",
     "text": [
      "Processing 3LW_tracks.parquet:  76%|███████▌  | 195/258 [02:40<00:21,  2.88it/s]"
     ]
    },
    {
     "name": "stdout",
     "output_type": "stream",
     "text": [
      "Failed requesting How You Gonna Act Like That\n",
      "Failed requesting How You Gonna Act Like That\n",
      "Failed requesting When I See U\n",
      "Failed requesting When I See U\n"
     ]
    },
    {
     "name": "stderr",
     "output_type": "stream",
     "text": [
      "Processing 3LW_tracks.parquet:  78%|███████▊  | 201/258 [02:46<00:43,  1.31it/s]"
     ]
    },
    {
     "name": "stdout",
     "output_type": "stream",
     "text": [
      "Failed requesting Stole\n"
     ]
    },
    {
     "name": "stderr",
     "output_type": "stream",
     "text": [
      "Processing 3LW_tracks.parquet:  80%|███████▉  | 206/258 [02:50<00:45,  1.15it/s]"
     ]
    },
    {
     "name": "stdout",
     "output_type": "stream",
     "text": [
      "Failed requesting Too Close\n"
     ]
    },
    {
     "name": "stderr",
     "output_type": "stream",
     "text": [
      "Processing 3LW_tracks.parquet:  81%|████████▏ | 210/258 [02:53<00:41,  1.17it/s]"
     ]
    },
    {
     "name": "stdout",
     "output_type": "stream",
     "text": [
      "Failed requesting Playas Gon' Play\n",
      "Failed requesting Playas Gon' Play\n",
      "Failed requesting Turn Up the Music\n"
     ]
    },
    {
     "name": "stderr",
     "output_type": "stream",
     "text": [
      "Processing 3LW_tracks.parquet:  88%|████████▊ | 227/258 [03:08<00:31,  1.03s/it]"
     ]
    },
    {
     "name": "stdout",
     "output_type": "stream",
     "text": [
      "Failed requesting Hood Boy (feat. Big Boi) - Radio Edit\n"
     ]
    },
    {
     "name": "stderr",
     "output_type": "stream",
     "text": [
      "Processing 3LW_tracks.parquet:  91%|█████████▏| 236/258 [03:16<00:22,  1.01s/it]"
     ]
    },
    {
     "name": "stdout",
     "output_type": "stream",
     "text": [
      "Failed requesting Hit 'Em Up Style (Oops!)\n"
     ]
    },
    {
     "name": "stderr",
     "output_type": "stream",
     "text": [
      "Processing 3LW_tracks.parquet:  95%|█████████▍| 244/258 [03:24<00:14,  1.00s/it]"
     ]
    },
    {
     "name": "stdout",
     "output_type": "stream",
     "text": [
      "Failed requesting Happiness\n"
     ]
    },
    {
     "name": "stderr",
     "output_type": "stream",
     "text": [
      "Processing 3LW_tracks.parquet:  96%|█████████▌| 248/258 [03:27<00:08,  1.11it/s]"
     ]
    },
    {
     "name": "stdout",
     "output_type": "stream",
     "text": [
      "Failed requesting 1 Thing\n"
     ]
    },
    {
     "name": "stderr",
     "output_type": "stream",
     "text": [
      "Processing 3LW_tracks.parquet:  98%|█████████▊| 253/258 [03:31<00:04,  1.10it/s]"
     ]
    },
    {
     "name": "stdout",
     "output_type": "stream",
     "text": [
      "Failed requesting Hold My Hand (with Akon)\n",
      "Failed requesting Stole\n"
     ]
    },
    {
     "name": "stderr",
     "output_type": "stream",
     "text": [
      "Processing 3LW_tracks.parquet: 100%|██████████| 258/258 [03:34<00:00,  1.20it/s]\n",
      "Processing 3OH!3_tracks.parquet:   0%|          | 0/152 [00:00<?, ?it/s]"
     ]
    },
    {
     "name": "stdout",
     "output_type": "stream",
     "text": [
      "Failed requesting LAST BREATH\n",
      "Failed requesting I'M SO SAD\n",
      "Failed requesting MAYNE ON A LEASH\n"
     ]
    },
    {
     "name": "stderr",
     "output_type": "stream",
     "text": [
      "Processing 3OH!3_tracks.parquet:   5%|▌         | 8/152 [00:01<00:19,  7.40it/s]"
     ]
    },
    {
     "name": "stdout",
     "output_type": "stream",
     "text": [
      "Failed requesting MI CASA\n",
      "Failed requesting POUND TOWN (feat. Nathaniel Motte and Sean Foreman of 3OH!3)\n",
      "Failed requesting SKID MARKS\n",
      "Failed requesting ABCs\n",
      "Failed requesting VAMPIRE'S DIET (with Bert McCracken of The Used)\n",
      "Failed requesting TACO TUESDAY\n",
      "Failed requesting LONELY MACHINES (feat. 100 gecs)\n"
     ]
    },
    {
     "name": "stderr",
     "output_type": "stream",
     "text": [
      "Processing 3OH!3_tracks.parquet:  11%|█         | 16/152 [00:01<00:08, 15.88it/s]"
     ]
    },
    {
     "name": "stdout",
     "output_type": "stream",
     "text": [
      "Failed requesting FIRE IN THE HEAVENS\n",
      "Failed requesting HEAR ME NOW\n",
      "Failed requesting MAD AT YOU\n",
      "Failed requesting FREAK YOUR MIND\n",
      "Failed requesting GIVE ME SOMETHING TO REMEMBER\n",
      "Failed requesting 7-11\n",
      "Failed requesting BASMF\n"
     ]
    },
    {
     "name": "stderr",
     "output_type": "stream",
     "text": [
      "Processing 3OH!3_tracks.parquet:  13%|█▎        | 20/152 [00:01<00:06, 19.32it/s]"
     ]
    },
    {
     "name": "stdout",
     "output_type": "stream",
     "text": [
      "Failed requesting MY DICK\n",
      "Failed requesting INSIDE BOY\n",
      "Failed requesting CLAUSTROPHOBIA\n",
      "Failed requesting HOLOGRAM\n",
      "Failed requesting OMENS\n"
     ]
    },
    {
     "name": "stderr",
     "output_type": "stream",
     "text": [
      "Processing 3OH!3_tracks.parquet:  16%|█▌        | 24/152 [00:02<00:16,  7.72it/s]"
     ]
    },
    {
     "name": "stdout",
     "output_type": "stream",
     "text": [
      "Failed requesting YOU'RE GONNA LOVE THIS\n"
     ]
    },
    {
     "name": "stderr",
     "output_type": "stream",
     "text": [
      "Processing 3OH!3_tracks.parquet:  18%|█▊        | 27/152 [00:04<00:35,  3.54it/s]"
     ]
    },
    {
     "name": "stdout",
     "output_type": "stream",
     "text": [
      "Failed requesting YOUNGBLOOD\n",
      "Failed requesting LIVE FOR THE WEEKEND\n",
      "Failed requesting BACK TO LIFE\n"
     ]
    },
    {
     "name": "stderr",
     "output_type": "stream",
     "text": [
      "Processing 3OH!3_tracks.parquet:  20%|██        | 31/152 [00:05<00:34,  3.54it/s]"
     ]
    },
    {
     "name": "stdout",
     "output_type": "stream",
     "text": [
      "Failed requesting TWO GIRLFRIENDS\n",
      "Failed requesting DO OR DIE\n"
     ]
    },
    {
     "name": "stderr",
     "output_type": "stream",
     "text": [
      "Processing 3OH!3_tracks.parquet:  22%|██▏       | 34/152 [00:07<00:35,  3.29it/s]"
     ]
    },
    {
     "name": "stdout",
     "output_type": "stream",
     "text": [
      "Failed requesting GO FUCK YOURSELF\n"
     ]
    },
    {
     "name": "stderr",
     "output_type": "stream",
     "text": [
      "Processing 3OH!3_tracks.parquet:  24%|██▍       | 37/152 [00:09<00:50,  2.29it/s]"
     ]
    },
    {
     "name": "stdout",
     "output_type": "stream",
     "text": [
      "Failed requesting OMENS\n"
     ]
    },
    {
     "name": "stderr",
     "output_type": "stream",
     "text": [
      "Processing 3OH!3_tracks.parquet:  26%|██▌       | 39/152 [00:10<00:52,  2.15it/s]"
     ]
    },
    {
     "name": "stdout",
     "output_type": "stream",
     "text": [
      "Failed requesting YOU'RE GONNA LOVE THIS\n"
     ]
    },
    {
     "name": "stderr",
     "output_type": "stream",
     "text": [
      "Processing 3OH!3_tracks.parquet:  28%|██▊       | 42/152 [00:12<01:03,  1.74it/s]"
     ]
    },
    {
     "name": "stdout",
     "output_type": "stream",
     "text": [
      "Failed requesting YOUNGBLOOD\n",
      "Failed requesting LIVE FOR THE WEEKEND\n",
      "Failed requesting BACK TO LIFE\n"
     ]
    },
    {
     "name": "stderr",
     "output_type": "stream",
     "text": [
      "Processing 3OH!3_tracks.parquet:  33%|███▎      | 50/152 [00:13<00:27,  3.75it/s]"
     ]
    },
    {
     "name": "stdout",
     "output_type": "stream",
     "text": [
      "Failed requesting TWO GIRLFRIENDS\n",
      "Failed requesting DO OR DIE\n",
      "Failed requesting Beaumont\n",
      "Failed requesting Beaumont\n",
      "Failed requesting I Can Do Anything\n",
      "Failed requesting I Can Do Anything\n",
      "Failed requesting My First Kiss (feat. Ke$ha)\n",
      "Failed requesting My First Kiss (feat. Ke$ha)\n"
     ]
    },
    {
     "name": "stderr",
     "output_type": "stream",
     "text": [
      "Processing 3OH!3_tracks.parquet:  39%|███▉      | 60/152 [00:13<00:10,  8.99it/s]"
     ]
    },
    {
     "name": "stdout",
     "output_type": "stream",
     "text": [
      "Failed requesting Déjà Vu\n",
      "Failed requesting Déjà Vu\n",
      "Failed requesting We Are Young\n",
      "Failed requesting We Are Young\n",
      "Failed requesting Touchin on My\n",
      "Failed requesting Touchin on My\n",
      "Failed requesting House Party\n",
      "Failed requesting House Party\n",
      "Failed requesting R.I.P.\n"
     ]
    },
    {
     "name": "stderr",
     "output_type": "stream",
     "text": [
      "Processing 3OH!3_tracks.parquet:  45%|████▍     | 68/152 [00:14<00:05, 14.40it/s]"
     ]
    },
    {
     "name": "stdout",
     "output_type": "stream",
     "text": [
      "Failed requesting R.I.P.\n",
      "Failed requesting I Know How to Say\n",
      "Failed requesting I Know How to Say\n",
      "Failed requesting Double Vision\n",
      "Failed requesting Double Vision\n",
      "Failed requesting I'm Not the One\n",
      "Failed requesting I'm Not the One\n",
      "Failed requesting Streets of Gold\n"
     ]
    },
    {
     "name": "stderr",
     "output_type": "stream",
     "text": [
      "Processing 3OH!3_tracks.parquet:  50%|█████     | 76/152 [00:14<00:03, 19.98it/s]"
     ]
    },
    {
     "name": "stdout",
     "output_type": "stream",
     "text": [
      "Failed requesting Streets of Gold\n",
      "Failed requesting See You Go\n",
      "Failed requesting See You Go\n",
      "Failed requesting Love 2012\n",
      "Failed requesting Love 2012\n",
      "Failed requesting DONTTRUSTME\n",
      "Failed requesting DONTTRUSTME\n",
      "Failed requesting STARSTRUKK (feat. Katy Perry)\n"
     ]
    },
    {
     "name": "stderr",
     "output_type": "stream",
     "text": [
      "Processing 3OH!3_tracks.parquet:  56%|█████▌    | 85/152 [00:14<00:02, 27.66it/s]"
     ]
    },
    {
     "name": "stdout",
     "output_type": "stream",
     "text": [
      "Failed requesting STARSTRUKK (feat. Katy Perry)\n",
      "Failed requesting My First Kiss - Chuckie Remix\n",
      "Failed requesting My First Kiss - Skeet Remix\n",
      "Failed requesting DONTTRUSTME\n",
      "Failed requesting Beaumont\n",
      "Failed requesting Beaumont\n",
      "Failed requesting I Can Do Anything\n",
      "Failed requesting I Can Do Anything\n",
      "Failed requesting My First Kiss (feat. Ke$ha)\n"
     ]
    },
    {
     "name": "stderr",
     "output_type": "stream",
     "text": [
      "Processing 3OH!3_tracks.parquet:  61%|██████    | 92/152 [00:15<00:05, 10.17it/s]"
     ]
    },
    {
     "name": "stdout",
     "output_type": "stream",
     "text": [
      "Failed requesting Déjà Vu\n",
      "Failed requesting Déjà Vu\n",
      "Failed requesting We Are Young\n",
      "Failed requesting We Are Young\n",
      "Failed requesting Touchin on My\n",
      "Failed requesting Touchin on My\n"
     ]
    },
    {
     "name": "stderr",
     "output_type": "stream",
     "text": [
      "Processing 3OH!3_tracks.parquet:  69%|██████▉   | 105/152 [00:17<00:03, 12.14it/s]"
     ]
    },
    {
     "name": "stdout",
     "output_type": "stream",
     "text": [
      "Failed requesting House Party\n",
      "Failed requesting R.I.P.\n",
      "Failed requesting R.I.P.\n",
      "Failed requesting I Know How to Say\n",
      "Failed requesting I Know How to Say\n",
      "Failed requesting Double Vision\n",
      "Failed requesting Double Vision\n",
      "Failed requesting I'm Not the One\n",
      "Failed requesting I'm Not the One\n"
     ]
    },
    {
     "name": "stderr",
     "output_type": "stream",
     "text": [
      "Processing 3OH!3_tracks.parquet:  72%|███████▏  | 109/152 [00:17<00:02, 14.89it/s]"
     ]
    },
    {
     "name": "stdout",
     "output_type": "stream",
     "text": [
      "Failed requesting Streets of Gold\n",
      "Failed requesting Streets of Gold\n",
      "Failed requesting See You Go\n",
      "Failed requesting See You Go\n",
      "Failed requesting Love 2012\n",
      "Failed requesting Love 2012\n",
      "Failed requesting My First Kiss - Innerpartysystem Remix\n"
     ]
    },
    {
     "name": "stderr",
     "output_type": "stream",
     "text": [
      "Processing 3OH!3_tracks.parquet:  78%|███████▊  | 119/152 [00:17<00:01, 23.12it/s]"
     ]
    },
    {
     "name": "stdout",
     "output_type": "stream",
     "text": [
      "Failed requesting STARSTRUKK (feat. Katy Perry)\n",
      "Failed requesting STARSTRUKK (feat. Katy Perry)\n",
      "Failed requesting TAPP\n",
      "Failed requesting PUNKBITCH\n",
      "Failed requesting DONTTRUSTME\n",
      "Failed requesting CHOKECHAIN\n",
      "Failed requesting IMNOTYOURBOYFRIENDBABY\n",
      "Failed requesting ICANTDOITALONE\n"
     ]
    },
    {
     "name": "stderr",
     "output_type": "stream",
     "text": [
      "Processing 3OH!3_tracks.parquet:  84%|████████▍ | 128/152 [00:17<00:00, 28.45it/s]"
     ]
    },
    {
     "name": "stdout",
     "output_type": "stream",
     "text": [
      "Failed requesting STARSTRUKK\n",
      "Failed requesting RICHMAN\n",
      "Failed requesting PHOTOFINNISH\n",
      "Failed requesting STILLAROUND\n",
      "Failed requesting HOLLERTILYOUPASSOUT\n",
      "Failed requesting COLORADOSUNRISE\n",
      "Failed requesting DONTTRUSTME (feat. Kid Cudi) - Benny Blanco Remix\n",
      "Failed requesting STILLAROUND - BigMix Remix\n",
      "Failed requesting DONTTRUSTME\n",
      "Failed requesting DONTTRUSTME\n"
     ]
    },
    {
     "name": "stderr",
     "output_type": "stream",
     "text": [
      "Processing 3OH!3_tracks.parquet:  91%|█████████ | 138/152 [00:18<00:00, 34.38it/s]"
     ]
    },
    {
     "name": "stdout",
     "output_type": "stream",
     "text": [
      "Failed requesting TAPP\n",
      "Failed requesting PUNKBITCH\n",
      "Failed requesting CHOKECHAIN\n",
      "Failed requesting IMNOTYOURBOYFRIENDBABY\n",
      "Failed requesting ICANTDOITALONE\n",
      "Failed requesting STARSTRUKK\n",
      "Failed requesting RICHMAN\n",
      "Failed requesting PHOTOFINNISH\n",
      "Failed requesting STILLAROUND\n"
     ]
    },
    {
     "name": "stderr",
     "output_type": "stream",
     "text": [
      "Processing 3OH!3_tracks.parquet:  94%|█████████▍| 143/152 [00:18<00:00, 36.07it/s]"
     ]
    },
    {
     "name": "stdout",
     "output_type": "stream",
     "text": [
      "Failed requesting HOLLERTILYOUPASSOUT\n",
      "Failed requesting COLORADOSUNRISE\n",
      "Failed requesting Electroshock\n",
      "Failed requesting Neatfreak47\n",
      "Failed requesting Don't Dance\n",
      "Failed requesting Say'dem Up\n",
      "Failed requesting Dragon Backpack\n",
      "Failed requesting Hott\n",
      "Failed requesting I'm Not Comin to Your Party Girl\n"
     ]
    },
    {
     "name": "stderr",
     "output_type": "stream",
     "text": [
      "Processing 3OH!3_tracks.parquet: 100%|██████████| 152/152 [00:18<00:00,  8.26it/s]\n",
      "Processing 3rd Bass_tracks.parquet:   0%|          | 0/450 [00:00<?, ?it/s]"
     ]
    },
    {
     "name": "stdout",
     "output_type": "stream",
     "text": [
      "Failed requesting Hornz\n",
      "Failed requesting VAMPIRE'S DIET (with Bert McCracken of The Used)\n",
      "Failed requesting LIGHTS DOWN LOW\n",
      "Failed requesting WASTE IT ON ME\n",
      "Failed requesting The Merchant Of Grooves\n"
     ]
    },
    {
     "name": "stderr",
     "output_type": "stream",
     "text": [
      "Processing 3rd Bass_tracks.parquet:   1%|          | 3/450 [00:00<00:17, 25.99it/s]"
     ]
    },
    {
     "name": "stdout",
     "output_type": "stream",
     "text": [
      "Failed requesting Derelicts Of Dialect\n",
      "Failed requesting Ace In The Hole\n",
      "Failed requesting French Toast\n",
      "Failed requesting Portrait Of The Artist As A Hood\n",
      "Failed requesting Pop Goes The Weasel\n",
      "Failed requesting Sea Vessel Soliloquy\n"
     ]
    },
    {
     "name": "stderr",
     "output_type": "stream",
     "text": [
      "Processing 3rd Bass_tracks.parquet:   3%|▎         | 15/450 [00:00<00:11, 36.75it/s]"
     ]
    },
    {
     "name": "stdout",
     "output_type": "stream",
     "text": [
      "Failed requesting Daddy Rich In The Land Of 1210\n",
      "Failed requesting Word To The Third\n",
      "Failed requesting Herbalz In Your Mouth\n",
      "Failed requesting Al'z A-B-Cee'z\n",
      "Failed requesting No Master Plan No Master Race\n",
      "Failed requesting Come In\n",
      "Failed requesting No Static At All\n",
      "Failed requesting Eye Jammie\n"
     ]
    },
    {
     "name": "stderr",
     "output_type": "stream",
     "text": [
      "Processing 3rd Bass_tracks.parquet:   4%|▍         | 20/450 [00:00<00:11, 38.37it/s]"
     ]
    },
    {
     "name": "stdout",
     "output_type": "stream",
     "text": [
      "Failed requesting Microphone Techniques\n",
      "Failed requesting Problem Child\n",
      "Failed requesting 3 Strikes 5000\n",
      "Failed requesting Kick Em In The Grill\n",
      "Failed requesting Green Eggs And Swine\n",
      "Failed requesting The Gas Face - Remix\n",
      "Failed requesting The Cactus - Remix\n",
      "Failed requesting Wordz Of Wizdom - Club Remix\n"
     ]
    },
    {
     "name": "stderr",
     "output_type": "stream",
     "text": [
      "Processing 3rd Bass_tracks.parquet:   6%|▌         | 28/450 [00:00<00:11, 37.15it/s]"
     ]
    },
    {
     "name": "stdout",
     "output_type": "stream",
     "text": [
      "Failed requesting 3 Strikes 5000 (Vocal) - Single Version\n",
      "Failed requesting Brooklyn-Queens - Remix\n",
      "Failed requesting Product Of The Environment - Remix\n",
      "Failed requesting Steppin' To The A.M. - Remix\n",
      "Failed requesting Stymie's Theme\n",
      "Failed requesting Sons Of 3rd Bass\n",
      "Failed requesting Russell Rush\n",
      "Failed requesting The Gas Face\n"
     ]
    },
    {
     "name": "stderr",
     "output_type": "stream",
     "text": [
      "Processing 3rd Bass_tracks.parquet:   8%|▊         | 38/450 [00:01<00:10, 39.11it/s]"
     ]
    },
    {
     "name": "stdout",
     "output_type": "stream",
     "text": [
      "Failed requesting Monte Hall\n",
      "Failed requesting Oval Office\n",
      "Failed requesting Hoods\n",
      "Failed requesting Soul In The Hole\n",
      "Failed requesting Triple Stage Darkness\n",
      "Failed requesting M.C. Disagree\n",
      "Failed requesting Wordz Of Wizdom\n",
      "Failed requesting Product Of The Environment\n",
      "Failed requesting Desert Boots\n"
     ]
    },
    {
     "name": "stderr",
     "output_type": "stream",
     "text": [
      "Processing 3rd Bass_tracks.parquet:  11%|█         | 48/450 [00:01<00:10, 39.69it/s]"
     ]
    },
    {
     "name": "stdout",
     "output_type": "stream",
     "text": [
      "Failed requesting The Cactus\n",
      "Failed requesting Jim Backus\n",
      "Failed requesting Flippin' Off The Wall Like Lucy Ball\n",
      "Failed requesting Brooklyn-Queens\n",
      "Failed requesting Steppin' To The A.M.\n",
      "Failed requesting Episode #3\n",
      "Failed requesting Who's On Third\n",
      "Failed requesting Stymie's Theme\n",
      "Failed requesting Stymie's Theme\n"
     ]
    },
    {
     "name": "stderr",
     "output_type": "stream",
     "text": [
      "Processing 3rd Bass_tracks.parquet:  12%|█▏        | 55/450 [00:02<00:31, 12.39it/s]"
     ]
    },
    {
     "name": "stdout",
     "output_type": "stream",
     "text": [
      "Failed requesting Sons Of 3rd Bass\n",
      "Failed requesting Russell Rush\n",
      "Failed requesting Russell Rush\n",
      "Failed requesting The Gas Face\n",
      "Failed requesting The Gas Face\n"
     ]
    },
    {
     "name": "stderr",
     "output_type": "stream",
     "text": [
      "Processing 3rd Bass_tracks.parquet:  14%|█▍        | 63/450 [00:02<00:21, 17.62it/s]"
     ]
    },
    {
     "name": "stdout",
     "output_type": "stream",
     "text": [
      "Failed requesting Monte Hall\n",
      "Failed requesting Monte Hall\n",
      "Failed requesting Oval Office\n",
      "Failed requesting Oval Office\n",
      "Failed requesting Hoods\n",
      "Failed requesting Hoods\n",
      "Failed requesting Soul In The Hole\n",
      "Failed requesting Soul In The Hole\n",
      "Failed requesting Triple Stage Darkness\n"
     ]
    },
    {
     "name": "stderr",
     "output_type": "stream",
     "text": [
      "Processing 3rd Bass_tracks.parquet:  16%|█▌        | 72/450 [00:03<00:14, 25.34it/s]"
     ]
    },
    {
     "name": "stdout",
     "output_type": "stream",
     "text": [
      "Failed requesting Triple Stage Darkness\n",
      "Failed requesting M.C. Disagree\n",
      "Failed requesting M.C. Disagree\n",
      "Failed requesting Wordz Of Wizdom\n",
      "Failed requesting Wordz Of Wizdom\n",
      "Failed requesting Product Of The Environment\n",
      "Failed requesting Product Of The Environment\n",
      "Failed requesting Desert Boots\n"
     ]
    },
    {
     "name": "stderr",
     "output_type": "stream",
     "text": [
      "Processing 3rd Bass_tracks.parquet:  17%|█▋        | 76/450 [00:03<00:13, 28.04it/s]"
     ]
    },
    {
     "name": "stdout",
     "output_type": "stream",
     "text": [
      "Failed requesting Desert Boots\n",
      "Failed requesting The Cactus\n",
      "Failed requesting The Cactus\n",
      "Failed requesting Jim Backus\n",
      "Failed requesting Jim Backus\n"
     ]
    },
    {
     "name": "stderr",
     "output_type": "stream",
     "text": [
      "Processing 3rd Bass_tracks.parquet:  19%|█▉        | 85/450 [00:03<00:12, 29.53it/s]"
     ]
    },
    {
     "name": "stdout",
     "output_type": "stream",
     "text": [
      "Failed requesting Flippin' Off The Wall Like Lucy Ball\n",
      "Failed requesting Flippin' Off The Wall Like Lucy Ball\n",
      "Failed requesting Brooklyn-Queens\n",
      "Failed requesting Brooklyn-Queens\n",
      "Failed requesting Steppin' To The A.M.\n",
      "Failed requesting Steppin' To The A.M.\n",
      "Failed requesting Steppin' To The A.M.\n",
      "Failed requesting Steppin' To The A.M.\n",
      "Failed requesting Episode #3\n"
     ]
    },
    {
     "name": "stderr",
     "output_type": "stream",
     "text": [
      "Processing 3rd Bass_tracks.parquet:  20%|█▉        | 89/450 [00:03<00:14, 25.50it/s]"
     ]
    },
    {
     "name": "stdout",
     "output_type": "stream",
     "text": [
      "Failed requesting Episode #3\n",
      "Failed requesting Who's On Third\n",
      "Failed requesting Who's On Third\n",
      "Failed requesting Stymie's Theme\n"
     ]
    },
    {
     "name": "stderr",
     "output_type": "stream",
     "text": [
      "Processing 3rd Bass_tracks.parquet:  22%|██▏       | 99/450 [00:03<00:10, 33.15it/s]"
     ]
    },
    {
     "name": "stdout",
     "output_type": "stream",
     "text": [
      "Failed requesting Stymie's Theme\n",
      "Failed requesting Sons Of 3rd Bass\n",
      "Failed requesting Sons Of 3rd Bass\n",
      "Failed requesting Russell Rush\n",
      "Failed requesting Russell Rush\n",
      "Failed requesting The Gas Face\n",
      "Failed requesting The Gas Face\n",
      "Failed requesting Monte Hall\n",
      "Failed requesting Monte Hall\n"
     ]
    },
    {
     "name": "stderr",
     "output_type": "stream",
     "text": [
      "Processing 3rd Bass_tracks.parquet:  23%|██▎       | 104/450 [00:03<00:09, 35.77it/s]"
     ]
    },
    {
     "name": "stdout",
     "output_type": "stream",
     "text": [
      "Failed requesting Oval Office\n",
      "Failed requesting Oval Office\n",
      "Failed requesting Hoods\n",
      "Failed requesting Hoods\n",
      "Failed requesting Soul In The Hole\n",
      "Failed requesting Soul In The Hole\n",
      "Failed requesting Triple Stage Darkness\n",
      "Failed requesting Triple Stage Darkness\n",
      "Failed requesting M.C. Disagree\n"
     ]
    },
    {
     "name": "stderr",
     "output_type": "stream",
     "text": [
      "Processing 3rd Bass_tracks.parquet:  25%|██▌       | 114/450 [00:04<00:08, 39.62it/s]"
     ]
    },
    {
     "name": "stdout",
     "output_type": "stream",
     "text": [
      "Failed requesting M.C. Disagree\n",
      "Failed requesting Wordz Of Wizdom\n",
      "Failed requesting Wordz Of Wizdom\n",
      "Failed requesting Product Of The Environment\n",
      "Failed requesting Product Of The Environment\n",
      "Failed requesting Desert Boots\n",
      "Failed requesting Desert Boots\n",
      "Failed requesting The Cactus\n",
      "Failed requesting The Cactus\n"
     ]
    },
    {
     "name": "stderr",
     "output_type": "stream",
     "text": [
      "Processing 3rd Bass_tracks.parquet:  28%|██▊       | 124/450 [00:04<00:07, 41.51it/s]"
     ]
    },
    {
     "name": "stdout",
     "output_type": "stream",
     "text": [
      "Failed requesting Jim Backus\n",
      "Failed requesting Jim Backus\n",
      "Failed requesting Flippin' Off The Wall Like Lucy Ball\n",
      "Failed requesting Flippin' Off The Wall Like Lucy Ball\n",
      "Failed requesting Brooklyn-Queens\n",
      "Failed requesting Brooklyn-Queens\n",
      "Failed requesting Steppin' To The A.M.\n",
      "Failed requesting Steppin' To The A.M.\n",
      "Failed requesting Steppin' To The A.M.\n",
      "Failed requesting Steppin' To The A.M.\n"
     ]
    },
    {
     "name": "stderr",
     "output_type": "stream",
     "text": [
      "Processing 3rd Bass_tracks.parquet:  30%|██▉       | 134/450 [00:04<00:07, 42.35it/s]"
     ]
    },
    {
     "name": "stdout",
     "output_type": "stream",
     "text": [
      "Failed requesting Episode #3\n",
      "Failed requesting Episode #3\n",
      "Failed requesting Who's On Third\n",
      "Failed requesting Who's On Third\n",
      "Failed requesting Steppin' To The A.M.\n",
      "Failed requesting The Gas Face\n",
      "Failed requesting Brooklyn-Queens\n",
      "Failed requesting Sons Of 3rd Bass\n"
     ]
    },
    {
     "name": "stderr",
     "output_type": "stream",
     "text": [
      "Processing 3rd Bass_tracks.parquet:  32%|███▏      | 143/450 [00:04<00:08, 37.96it/s]"
     ]
    },
    {
     "name": "stdout",
     "output_type": "stream",
     "text": [
      "Failed requesting Wordz Of Wizdom\n",
      "Failed requesting Product Of The Environment - Remix\n",
      "Failed requesting Pop Goes The Weasel\n",
      "Failed requesting Derelicts Of Dialect\n",
      "Failed requesting 3rd Bass Theme A.K.A. Portrait Of The Artist As A Hood - Remix\n",
      "Failed requesting No Static At All\n",
      "Failed requesting Herbalz In Your Mouth\n",
      "Failed requesting Regulate\n"
     ]
    },
    {
     "name": "stderr",
     "output_type": "stream",
     "text": [
      "Processing 3rd Bass_tracks.parquet:  34%|███▎      | 151/450 [00:05<00:08, 34.59it/s]"
     ]
    },
    {
     "name": "stdout",
     "output_type": "stream",
     "text": [
      "Failed requesting Ruff Ryders' Anthem\n",
      "Failed requesting Phenomenon\n",
      "Failed requesting Da Joint\n",
      "Failed requesting Bring The Pain\n",
      "Failed requesting Slam\n",
      "Failed requesting Smoke Buddah\n",
      "Failed requesting I Need Love\n",
      "Failed requesting Don't Believe The Hype\n"
     ]
    },
    {
     "name": "stderr",
     "output_type": "stream",
     "text": [
      "Processing 3rd Bass_tracks.parquet:  34%|███▍      | 155/450 [00:05<00:08, 35.69it/s]"
     ]
    },
    {
     "name": "stdout",
     "output_type": "stream",
     "text": [
      "Failed requesting Children's Story\n",
      "Failed requesting Symphony 2000\n",
      "Failed requesting Throw Ya Gunz\n",
      "Failed requesting Party Up\n",
      "Failed requesting Back To The Grill\n",
      "Failed requesting Rock The Bells\n",
      "Failed requesting Hip Hop Junkies\n",
      "Failed requesting Time 4 Sumaksion\n"
     ]
    },
    {
     "name": "stderr",
     "output_type": "stream",
     "text": [
      "Processing 3rd Bass_tracks.parquet:  36%|███▌      | 163/450 [00:05<00:07, 36.23it/s]"
     ]
    },
    {
     "name": "stdout",
     "output_type": "stream",
     "text": [
      "Failed requesting Check N' Me Out\n",
      "Failed requesting The Gas Face\n",
      "Failed requesting Tie Goes To The Runner\n",
      "Failed requesting Steppin' To The A.M.\n",
      "Failed requesting Steppin' To The A.M.\n",
      "Failed requesting Steppin' To The A.M.\n",
      "Failed requesting Steppin' To The A.M.\n",
      "Failed requesting Mama Said Knock You Out\n"
     ]
    },
    {
     "name": "stderr",
     "output_type": "stream",
     "text": [
      "Processing 3rd Bass_tracks.parquet:  38%|███▊      | 172/450 [00:05<00:07, 35.92it/s]"
     ]
    },
    {
     "name": "stdout",
     "output_type": "stream",
     "text": [
      "Failed requesting Mama Said Knock You Out\n",
      "Failed requesting Regulate\n",
      "Failed requesting I Got 5 On It\n",
      "Failed requesting Ms. Fat Booty\n",
      "Failed requesting Paid In Full\n",
      "Failed requesting Full Clip\n",
      "Failed requesting When I B On Tha Mic\n",
      "Failed requesting Children's Story\n"
     ]
    },
    {
     "name": "stderr",
     "output_type": "stream",
     "text": [
      "Processing 3rd Bass_tracks.parquet:  40%|████      | 182/450 [00:06<00:06, 39.79it/s]"
     ]
    },
    {
     "name": "stdout",
     "output_type": "stream",
     "text": [
      "Failed requesting Children's Story\n",
      "Failed requesting Bust A Move\n",
      "Failed requesting Bust A Move\n",
      "Failed requesting You Gots To Chill\n",
      "Failed requesting You Gots To Chill\n",
      "Failed requesting Push It\n",
      "Failed requesting Push It\n",
      "Failed requesting Push It\n",
      "Failed requesting Let's Get It Started\n",
      "Failed requesting Let's Get It Started\n"
     ]
    },
    {
     "name": "stderr",
     "output_type": "stream",
     "text": [
      "Processing 3rd Bass_tracks.parquet:  43%|████▎     | 192/450 [00:06<00:06, 40.85it/s]"
     ]
    },
    {
     "name": "stdout",
     "output_type": "stream",
     "text": [
      "Failed requesting Wild Thing\n",
      "Failed requesting Hey Young World\n",
      "Failed requesting I Ain't No Joke\n",
      "Failed requesting Rock The Bells\n",
      "Failed requesting Nothin'\n",
      "Failed requesting Nothin'\n",
      "Failed requesting Oh Boy\n",
      "Failed requesting Oh Boy\n"
     ]
    },
    {
     "name": "stderr",
     "output_type": "stream",
     "text": [
      "Processing 3rd Bass_tracks.parquet:  44%|████▍     | 197/450 [00:06<00:06, 37.35it/s]"
     ]
    },
    {
     "name": "stdout",
     "output_type": "stream",
     "text": [
      "Failed requesting Livin' It Up\n",
      "Failed requesting There She Goes\n",
      "Failed requesting I'm Free - Remastered\n",
      "Failed requesting Come Home - Flood Mix\n",
      "Failed requesting Welcome To The Terrordome\n"
     ]
    },
    {
     "name": "stderr",
     "output_type": "stream",
     "text": [
      "Processing 3rd Bass_tracks.parquet:  46%|████▌     | 205/450 [00:06<00:08, 30.52it/s]"
     ]
    },
    {
     "name": "stdout",
     "output_type": "stream",
     "text": [
      "Failed requesting The Boomin' System\n",
      "Failed requesting Wash Your Face In My Sink\n",
      "Failed requesting Pop Goes The Weasel\n",
      "Failed requesting More Than Words Can Say - Edit\n",
      "Failed requesting Rhythm Nation\n",
      "Failed requesting Opposites Attract\n",
      "Failed requesting Unchained Melody\n"
     ]
    },
    {
     "name": "stderr",
     "output_type": "stream",
     "text": [
      "Processing 3rd Bass_tracks.parquet:  46%|████▋     | 209/450 [00:06<00:07, 30.22it/s]"
     ]
    },
    {
     "name": "stdout",
     "output_type": "stream",
     "text": [
      "Failed requesting Release Me\n",
      "Failed requesting Janie's Got A Gun - Single Version\n",
      "Failed requesting Something To Believe In - Remastered\n",
      "Failed requesting Children Of The Night\n",
      "Failed requesting Just Came Back\n",
      "Failed requesting Close To You\n",
      "Failed requesting Woman In Chains\n"
     ]
    },
    {
     "name": "stderr",
     "output_type": "stream",
     "text": [
      "Processing 3rd Bass_tracks.parquet:  48%|████▊     | 217/450 [00:07<00:07, 30.56it/s]"
     ]
    },
    {
     "name": "stdout",
     "output_type": "stream",
     "text": [
      "Failed requesting No Rain\n",
      "Failed requesting Black Hole Sun\n",
      "Failed requesting Straight Outta Compton - Remastered 2002\n",
      "Failed requesting Don't Believe The Hype\n",
      "Failed requesting Push It\n",
      "Failed requesting Children's Story\n",
      "Failed requesting Paid In Full\n",
      "Failed requesting Rock The Bells\n"
     ]
    },
    {
     "name": "stderr",
     "output_type": "stream",
     "text": [
      "Processing 3rd Bass_tracks.parquet:  50%|█████     | 226/450 [00:07<00:06, 34.98it/s]"
     ]
    },
    {
     "name": "stdout",
     "output_type": "stream",
     "text": [
      "Failed requesting Buffalo Gals\n",
      "Failed requesting Bust A Move\n",
      "Failed requesting You Gots To Chill\n",
      "Failed requesting The Gas Face\n",
      "Failed requesting Boyz-N-The-Hood\n",
      "Failed requesting The Breaks\n",
      "Failed requesting I Got A Man\n",
      "Failed requesting Let's Get It Started\n",
      "Failed requesting I Ain't No Joke\n"
     ]
    },
    {
     "name": "stderr",
     "output_type": "stream",
     "text": [
      "Processing 3rd Bass_tracks.parquet:  52%|█████▏    | 235/450 [00:07<00:05, 36.79it/s]"
     ]
    },
    {
     "name": "stdout",
     "output_type": "stream",
     "text": [
      "Failed requesting I'm Bad\n",
      "Failed requesting F***k Tha Police\n",
      "Failed requesting Wild Thing\n",
      "Failed requesting The Dream Team Is In The House!\n",
      "Failed requesting Coolin' In Cali - Radio Edit\n",
      "Failed requesting Push It - Radio Version\n",
      "Failed requesting Don't Believe The Hype\n"
     ]
    },
    {
     "name": "stderr",
     "output_type": "stream",
     "text": [
      "Processing 3rd Bass_tracks.parquet:  54%|█████▍    | 243/450 [00:07<00:05, 35.37it/s]"
     ]
    },
    {
     "name": "stdout",
     "output_type": "stream",
     "text": [
      "Failed requesting Walk This Way - Live\n",
      "Failed requesting Basketball\n",
      "Failed requesting Magic Johnson - Remastered\n",
      "Failed requesting Rock The Bells\n",
      "Failed requesting Rapture\n",
      "Failed requesting Paid In Full\n",
      "Failed requesting Children's Story\n",
      "Failed requesting My Definition Of A Boombastic Jazz Style\n"
     ]
    },
    {
     "name": "stderr",
     "output_type": "stream",
     "text": [
      "Processing 3rd Bass_tracks.parquet:  56%|█████▌    | 252/450 [00:08<00:05, 36.48it/s]"
     ]
    },
    {
     "name": "stdout",
     "output_type": "stream",
     "text": [
      "Failed requesting Fight The Power - From \"Do The Right Thing\" Soundtrack\n",
      "Failed requesting Express Yourself\n",
      "Failed requesting Party Hearty - Do The Right Thing/Soundtrack Version\n",
      "Failed requesting Atomic Dog\n",
      "Failed requesting Wild Wild West\n",
      "Failed requesting The Gas Face\n",
      "Failed requesting Let's Get It Started\n",
      "Failed requesting Pump That Bass/LIVE\n",
      "Failed requesting New Jack Swing\n",
      "Failed requesting Teddy's Jam\n",
      "Failed requesting Ruff Ryders' Anthem\n"
     ]
    },
    {
     "name": "stderr",
     "output_type": "stream",
     "text": [
      "Processing 3rd Bass_tracks.parquet:  58%|█████▊    | 259/450 [00:11<00:45,  4.18it/s]"
     ]
    },
    {
     "name": "stdout",
     "output_type": "stream",
     "text": [
      "Failed requesting Symphony 2000\n",
      "Failed requesting Daddy's Little Girl\n",
      "Failed requesting Tonight's Da Night\n"
     ]
    },
    {
     "name": "stderr",
     "output_type": "stream",
     "text": [
      "Processing 3rd Bass_tracks.parquet:  59%|█████▊    | 264/450 [00:13<00:59,  3.13it/s]"
     ]
    },
    {
     "name": "stdout",
     "output_type": "stream",
     "text": [
      "Failed requesting Hip Hop Junkies\n"
     ]
    },
    {
     "name": "stderr",
     "output_type": "stream",
     "text": [
      "Processing 3rd Bass_tracks.parquet:  59%|█████▉    | 266/450 [00:14<01:07,  2.74it/s]"
     ]
    },
    {
     "name": "stdout",
     "output_type": "stream",
     "text": [
      "Failed requesting This Is How We Do It\n"
     ]
    },
    {
     "name": "stderr",
     "output_type": "stream",
     "text": [
      "Processing 3rd Bass_tracks.parquet:  60%|██████    | 271/450 [00:15<00:48,  3.71it/s]"
     ]
    },
    {
     "name": "stdout",
     "output_type": "stream",
     "text": [
      "Failed requesting Check N' Me Out\n",
      "Failed requesting Headbanger\n",
      "Failed requesting Throw Ya Gunz\n",
      "Failed requesting Slippin'\n"
     ]
    },
    {
     "name": "stderr",
     "output_type": "stream",
     "text": [
      "Processing 3rd Bass_tracks.parquet:  62%|██████▏   | 278/450 [00:16<00:32,  5.22it/s]"
     ]
    },
    {
     "name": "stdout",
     "output_type": "stream",
     "text": [
      "Failed requesting Smoke Buddah\n",
      "Failed requesting Bring The Pain\n",
      "Failed requesting Steppin' To The A.M.\n",
      "Failed requesting Steppin' To The A.M.\n",
      "Failed requesting Steppin' To The A.M.\n",
      "Failed requesting Steppin' To The A.M.\n",
      "Failed requesting Children's Story\n",
      "Failed requesting Children's Story\n",
      "Failed requesting Bust A Move\n"
     ]
    },
    {
     "name": "stderr",
     "output_type": "stream",
     "text": [
      "Processing 3rd Bass_tracks.parquet:  64%|██████▍   | 287/450 [00:17<00:15, 10.84it/s]"
     ]
    },
    {
     "name": "stdout",
     "output_type": "stream",
     "text": [
      "Failed requesting Bust A Move\n",
      "Failed requesting You Gots To Chill\n",
      "Failed requesting You Gots To Chill\n",
      "Failed requesting Push It\n",
      "Failed requesting Push It\n",
      "Failed requesting Push It\n",
      "Failed requesting Let's Get It Started\n",
      "Failed requesting Let's Get It Started\n",
      "Failed requesting Nothin'\n",
      "Failed requesting Nothin'\n"
     ]
    },
    {
     "name": "stderr",
     "output_type": "stream",
     "text": [
      "Processing 3rd Bass_tracks.parquet:  66%|██████▌   | 297/450 [00:17<00:08, 18.95it/s]"
     ]
    },
    {
     "name": "stdout",
     "output_type": "stream",
     "text": [
      "Failed requesting Oh Boy\n",
      "Failed requesting Oh Boy\n",
      "Failed requesting Buffalo Gals\n",
      "Failed requesting Straight Outta Compton\n",
      "Failed requesting Straight Outta Compton\n",
      "Failed requesting Boyz-N-The-Hood\n",
      "Failed requesting The Overweight Lovers In The House\n",
      "Failed requesting Know How\n",
      "Failed requesting Ride Wit Me\n"
     ]
    },
    {
     "name": "stderr",
     "output_type": "stream",
     "text": [
      "Processing 3rd Bass_tracks.parquet:  68%|██████▊   | 307/450 [00:17<00:05, 27.13it/s]"
     ]
    },
    {
     "name": "stdout",
     "output_type": "stream",
     "text": [
      "Failed requesting GO!\n",
      "Failed requesting Who's That Girl?\n",
      "Failed requesting Lean Back\n",
      "Failed requesting Drop It Like It's Hot\n",
      "Failed requesting Country Grammar (Hot Shit)\n",
      "Failed requesting Magnolia\n",
      "Failed requesting The Gas Face - Instrumental\n",
      "Failed requesting Sophisticated Bitch - Instrumental\n",
      "Failed requesting Public Enemy No. 1 - Instrumental\n"
     ]
    },
    {
     "name": "stderr",
     "output_type": "stream",
     "text": [
      "Processing 3rd Bass_tracks.parquet:  70%|███████   | 316/450 [00:17<00:04, 31.12it/s]"
     ]
    },
    {
     "name": "stdout",
     "output_type": "stream",
     "text": [
      "Failed requesting Bring The Noise - No Noise Instrumental\n",
      "Failed requesting Around The Way Girl - Instrumental\n",
      "Failed requesting Gold Digger - E&P Remix Instrumental\n",
      "Failed requesting 3 Strikes 5000 - Instrumental\n",
      "Failed requesting Revolutionary Generation - Instrumental\n",
      "Failed requesting War At 33 1/3 - Instrumental\n",
      "Failed requesting Can't Truss It - Instrumental\n",
      "Failed requesting Shut Em Down - Rock Mixx Instrumental\n",
      "Failed requesting Pop Goes The Weasel - Instrumental\n"
     ]
    },
    {
     "name": "stderr",
     "output_type": "stream",
     "text": [
      "Processing 3rd Bass_tracks.parquet:  72%|███████▏  | 326/450 [00:18<00:03, 35.23it/s]"
     ]
    },
    {
     "name": "stdout",
     "output_type": "stream",
     "text": [
      "Failed requesting I Shouldn't Have Done It - Instrumental\n",
      "Failed requesting Rampage - Remix / Instrumental\n",
      "Failed requesting Rampage - Hardcore To The Head Mix / Instrumental\n",
      "Failed requesting It's A Boy - Instrumental\n",
      "Failed requesting It's A Boy - Remix Instrumental\n",
      "Failed requesting 3rd Bass Theme A.K.A. Portrait Of The Artist As A Hood - Remix Instrumental\n",
      "Failed requesting Crossover - Instrumental\n",
      "Failed requesting Crossover - Trunk Mix (Instrumental)\n",
      "Failed requesting Mama Said Knock You Out\n"
     ]
    },
    {
     "name": "stderr",
     "output_type": "stream",
     "text": [
      "Processing 3rd Bass_tracks.parquet:  75%|███████▍  | 336/450 [00:18<00:02, 39.60it/s]"
     ]
    },
    {
     "name": "stdout",
     "output_type": "stream",
     "text": [
      "Failed requesting Mama Said Knock You Out\n",
      "Failed requesting Push It\n",
      "Failed requesting Push It\n",
      "Failed requesting Push It\n",
      "Failed requesting Straight Outta Compton\n",
      "Failed requesting Straight Outta Compton\n",
      "Failed requesting Mentirosa\n",
      "Failed requesting Buffalo Stance\n",
      "Failed requesting Back To Life\n",
      "Failed requesting Funky Cold Medina\n"
     ]
    },
    {
     "name": "stderr",
     "output_type": "stream",
     "text": [
      "Processing 3rd Bass_tracks.parquet:  76%|███████▌  | 341/450 [00:18<00:02, 40.84it/s]"
     ]
    },
    {
     "name": "stdout",
     "output_type": "stream",
     "text": [
      "Failed requesting Good Vibrations\n",
      "Failed requesting Ruff Ryders' Anthem\n",
      "Failed requesting Poison\n",
      "Failed requesting Ice Ice Baby\n",
      "Failed requesting Let's Talk About Sex\n",
      "Failed requesting U Can't Touch This\n",
      "Failed requesting Mr. Wendal\n"
     ]
    },
    {
     "name": "stderr",
     "output_type": "stream",
     "text": [
      "Processing 3rd Bass_tracks.parquet:  78%|███████▊  | 350/450 [00:18<00:02, 34.88it/s]"
     ]
    },
    {
     "name": "stdout",
     "output_type": "stream",
     "text": [
      "Failed requesting It Was A Good Day\n",
      "Failed requesting On & On\n",
      "Failed requesting Da Rockwilder\n",
      "Failed requesting Now That We Found Love\n",
      "Failed requesting La Raza\n",
      "Failed requesting People Everyday\n",
      "Failed requesting COMMANDO\n",
      "Failed requesting Häller ut allt (Shota)\n",
      "Failed requesting Mexico\n"
     ]
    },
    {
     "name": "stderr",
     "output_type": "stream",
     "text": [
      "Processing 3rd Bass_tracks.parquet:  80%|███████▉  | 358/450 [00:18<00:02, 36.35it/s]"
     ]
    },
    {
     "name": "stdout",
     "output_type": "stream",
     "text": [
      "Failed requesting For The Night\n",
      "Failed requesting Woah\n",
      "Failed requesting Deep Reverence\n",
      "Failed requesting ROCKSTAR\n",
      "Failed requesting Lemonade - Remix\n",
      "Failed requesting Gamora\n",
      "Failed requesting VIVA\n",
      "Failed requesting Bandit\n",
      "Failed requesting Pussy Talk\n"
     ]
    },
    {
     "name": "stderr",
     "output_type": "stream",
     "text": [
      "Processing 3rd Bass_tracks.parquet:  82%|████████▏ | 368/450 [00:19<00:02, 39.11it/s]"
     ]
    },
    {
     "name": "stdout",
     "output_type": "stream",
     "text": [
      "Failed requesting Tequila Shots\n",
      "Failed requesting hot girl bummer\n",
      "Failed requesting SAD!\n",
      "Failed requesting En Stund\n",
      "Failed requesting Falling\n",
      "Failed requesting ROONEY\n",
      "Failed requesting Wishing Well\n",
      "Failed requesting Blueberry Faygo\n",
      "Failed requesting Halfway Home\n"
     ]
    },
    {
     "name": "stderr",
     "output_type": "stream",
     "text": [
      "Processing 3rd Bass_tracks.parquet:  84%|████████▎ | 376/450 [00:19<00:02, 32.94it/s]"
     ]
    },
    {
     "name": "stdout",
     "output_type": "stream",
     "text": [
      "Failed requesting Stuntastic\n",
      "Failed requesting You Ain't No DJ - Album Version (Edited)\n",
      "Failed requesting Peepin' Me - Album Version (Edited)\n",
      "Failed requesting Bubbalicious\n",
      "Failed requesting Jealousy\n",
      "Failed requesting Sally - Album Version (Edited)\n",
      "Failed requesting Lock Me Down\n"
     ]
    },
    {
     "name": "stderr",
     "output_type": "stream",
     "text": [
      "Processing 3rd Bass_tracks.parquet:  85%|████████▌ | 384/450 [00:19<00:02, 31.74it/s]"
     ]
    },
    {
     "name": "stdout",
     "output_type": "stream",
     "text": [
      "Failed requesting What Cha Workin' Wit\n",
      "Failed requesting Dangerous\n",
      "Failed requesting Forever and Ever\n",
      "Failed requesting Give Em What They Askin For - Album Version (Edited)\n",
      "Failed requesting She's Hot - Album Version (Edited)\n",
      "Failed requesting Bar Tap - Album Version (Edited)\n",
      "Failed requesting Doin' My Job\n"
     ]
    },
    {
     "name": "stderr",
     "output_type": "stream",
     "text": [
      "Processing 3rd Bass_tracks.parquet:  86%|████████▌ | 388/450 [00:19<00:02, 24.72it/s]"
     ]
    },
    {
     "name": "stdout",
     "output_type": "stream",
     "text": [
      "Failed requesting There's Pleasure in It\n",
      "Failed requesting Real Sh**t - Album Version (Edited)\n",
      "Failed requesting Hit Da Road Jack\n",
      "Failed requesting Pop Goes The Weasel - Radio Edit\n",
      "Failed requesting Ride It Out\n",
      "Failed requesting He Got Game - From \"He Got Game\"\n"
     ]
    },
    {
     "name": "stderr",
     "output_type": "stream",
     "text": [
      "Processing 3rd Bass_tracks.parquet:  88%|████████▊ | 396/450 [00:20<00:01, 30.08it/s]"
     ]
    },
    {
     "name": "stdout",
     "output_type": "stream",
     "text": [
      "Failed requesting The Breaks\n",
      "Failed requesting 1-900 L.L. Cool J\n",
      "Failed requesting I Ain't No Joke\n",
      "Failed requesting U Blow My Mind\n",
      "Failed requesting Straight Outta Compton - Remastered 2002\n"
     ]
    },
    {
     "name": "stderr",
     "output_type": "stream",
     "text": [
      "Processing 3rd Bass_tracks.parquet:  90%|█████████ | 405/450 [00:21<00:03, 12.85it/s]"
     ]
    },
    {
     "name": "stdout",
     "output_type": "stream",
     "text": [
      "Failed requesting Bust A Move\n",
      "Failed requesting Wild Thing\n",
      "Failed requesting Get On Up\n",
      "Failed requesting Push It\n",
      "Failed requesting No Shame In My Game\n",
      "Failed requesting Super Agent - From The \"He Got Game\" Soundtrack\n",
      "Failed requesting Regulate - Remix Version\n",
      "Failed requesting Don't Be Cruel - Radio Edit\n",
      "Failed requesting I Got 5 On It\n",
      "Failed requesting Paid In Full\n",
      "Failed requesting Thank You\n"
     ]
    },
    {
     "name": "stderr",
     "output_type": "stream",
     "text": [
      "Processing 3rd Bass_tracks.parquet:  91%|█████████ | 409/450 [00:22<00:05,  7.44it/s]"
     ]
    },
    {
     "name": "stdout",
     "output_type": "stream",
     "text": [
      "Failed requesting Fight The Power\n",
      "Failed requesting Regulate\n",
      "Failed requesting Shadowboxin'\n"
     ]
    },
    {
     "name": "stderr",
     "output_type": "stream",
     "text": [
      "Processing 3rd Bass_tracks.parquet:  93%|█████████▎| 417/450 [00:23<00:04,  7.50it/s]"
     ]
    },
    {
     "name": "stdout",
     "output_type": "stream",
     "text": [
      "Failed requesting Bad Meets Evil\n",
      "Failed requesting Party Up\n",
      "Failed requesting Don't Sweat The Technique\n",
      "Failed requesting Alwayz Into Somethin'\n"
     ]
    },
    {
     "name": "stderr",
     "output_type": "stream",
     "text": [
      "Processing 3rd Bass_tracks.parquet:  94%|█████████▍| 423/450 [00:24<00:04,  6.57it/s]"
     ]
    },
    {
     "name": "stdout",
     "output_type": "stream",
     "text": [
      "Failed requesting Mama Said Knock You Out\n",
      "Failed requesting Slam\n",
      "Failed requesting I Got 5 On It\n",
      "Failed requesting Rebirth Of Slick (Cool Like Dat)\n",
      "Failed requesting Da Rockwilder\n"
     ]
    },
    {
     "name": "stderr",
     "output_type": "stream",
     "text": [
      "Processing 3rd Bass_tracks.parquet:  95%|█████████▍| 427/450 [00:25<00:02,  8.99it/s]"
     ]
    },
    {
     "name": "stdout",
     "output_type": "stream",
     "text": [
      "Failed requesting Time 4 Sumaksion\n",
      "Failed requesting I'll Be\n",
      "Failed requesting Proceed\n",
      "Failed requesting Ya Playin' Yaself\n",
      "Failed requesting Back That Azz Up\n",
      "Failed requesting The Choice Is Yours (Revisited)\n",
      "Failed requesting Pop Goes The Weasel\n"
     ]
    },
    {
     "name": "stderr",
     "output_type": "stream",
     "text": [
      "Processing 3rd Bass_tracks.parquet:  96%|█████████▌| 431/450 [00:25<00:01, 11.85it/s]"
     ]
    },
    {
     "name": "stdout",
     "output_type": "stream",
     "text": [
      "Failed requesting Straight Outta Compton - Remastered 2002\n",
      "Failed requesting Bust A Move\n",
      "Failed requesting Children's Story\n",
      "Failed requesting Paid In Full\n"
     ]
    },
    {
     "name": "stderr",
     "output_type": "stream",
     "text": [
      "Processing 3rd Bass_tracks.parquet:  97%|█████████▋| 435/450 [00:26<00:02,  6.94it/s]"
     ]
    },
    {
     "name": "stdout",
     "output_type": "stream",
     "text": [
      "Failed requesting You Gots To Chill\n"
     ]
    },
    {
     "name": "stderr",
     "output_type": "stream",
     "text": [
      "Processing 3rd Bass_tracks.parquet:  97%|█████████▋| 438/450 [00:28<00:03,  3.53it/s]"
     ]
    },
    {
     "name": "stdout",
     "output_type": "stream",
     "text": [
      "Failed requesting You Can Call Me Crazy\n"
     ]
    },
    {
     "name": "stderr",
     "output_type": "stream",
     "text": [
      "Processing 3rd Bass_tracks.parquet:  98%|█████████▊| 440/450 [00:29<00:03,  3.02it/s]"
     ]
    },
    {
     "name": "stdout",
     "output_type": "stream",
     "text": [
      "Failed requesting You Can't Stop The Rain\n",
      "Failed requesting Let's Get It Started\n"
     ]
    },
    {
     "name": "stderr",
     "output_type": "stream",
     "text": [
      "Processing 3rd Bass_tracks.parquet: 100%|█████████▉| 448/450 [00:30<00:00,  4.73it/s]"
     ]
    },
    {
     "name": "stdout",
     "output_type": "stream",
     "text": [
      "Failed requesting A Fly Girl\n",
      "Failed requesting Drink It Up\n",
      "Failed requesting World's Famous\n",
      "Failed requesting Quiet On Tha Set - Remastered 2002\n",
      "Failed requesting Mona Lisa\n",
      "Failed requesting Got More Rhymes\n"
     ]
    },
    {
     "name": "stderr",
     "output_type": "stream",
     "text": [
      "Processing 3rd Bass_tracks.parquet: 100%|██████████| 450/450 [00:31<00:00, 14.18it/s]\n",
      "Processing 3rd Faze_tracks.parquet:   0%|          | 0/14 [00:00<?, ?it/s]"
     ]
    },
    {
     "name": "stdout",
     "output_type": "stream",
     "text": [
      "Failed requesting World of Make Believe\n"
     ]
    },
    {
     "name": "stderr",
     "output_type": "stream",
     "text": [
      "Processing 3rd Faze_tracks.parquet:  14%|█▍        | 2/14 [00:01<00:06,  1.87it/s]"
     ]
    },
    {
     "name": "stdout",
     "output_type": "stream",
     "text": [
      "Failed requesting If Ever You Feel the Need\n",
      "Failed requesting Over You\n"
     ]
    },
    {
     "name": "stderr",
     "output_type": "stream",
     "text": [
      "Processing 3rd Faze_tracks.parquet:  36%|███▌      | 5/14 [00:02<00:03,  2.39it/s]"
     ]
    },
    {
     "name": "stdout",
     "output_type": "stream",
     "text": [
      "Failed requesting Chameleon\n"
     ]
    },
    {
     "name": "stderr",
     "output_type": "stream",
     "text": [
      "Processing 3rd Faze_tracks.parquet:  50%|█████     | 7/14 [00:03<00:03,  2.16it/s]"
     ]
    },
    {
     "name": "stdout",
     "output_type": "stream",
     "text": [
      "Failed requesting Throw the Roses\n",
      "Failed requesting They Don't Know You\n"
     ]
    },
    {
     "name": "stderr",
     "output_type": "stream",
     "text": [
      "Processing 3rd Faze_tracks.parquet: 100%|██████████| 14/14 [00:08<00:00,  1.65it/s]\n",
      "Processing 4 Non Blondes_tracks.parquet:   3%|▎         | 12/357 [00:12<05:57,  1.04s/it]"
     ]
    },
    {
     "name": "stdout",
     "output_type": "stream",
     "text": [
      "Failed requesting Mighty Lady - Live 1993\n"
     ]
    },
    {
     "name": "stderr",
     "output_type": "stream",
     "text": [
      "Processing 4 Non Blondes_tracks.parquet:   4%|▍         | 14/357 [00:13<04:35,  1.25it/s]"
     ]
    },
    {
     "name": "stdout",
     "output_type": "stream",
     "text": [
      "Failed requesting Down On Your Face - Live 1993\n",
      "Failed requesting Interview - Live 1993\n"
     ]
    },
    {
     "name": "stderr",
     "output_type": "stream",
     "text": [
      "Processing 4 Non Blondes_tracks.parquet:  10%|█         | 36/357 [00:34<05:32,  1.03s/it]"
     ]
    },
    {
     "name": "stdout",
     "output_type": "stream",
     "text": [
      "Failed requesting Racket Stimulator\n"
     ]
    },
    {
     "name": "stderr",
     "output_type": "stream",
     "text": [
      "Processing 4 Non Blondes_tracks.parquet:  13%|█▎        | 46/357 [00:43<05:17,  1.02s/it]"
     ]
    },
    {
     "name": "stdout",
     "output_type": "stream",
     "text": [
      "Failed requesting Don't Call Me Up\n"
     ]
    },
    {
     "name": "stderr",
     "output_type": "stream",
     "text": [
      "Processing 4 Non Blondes_tracks.parquet:  31%|███       | 110/357 [01:49<04:15,  1.04s/it]"
     ]
    },
    {
     "name": "stdout",
     "output_type": "stream",
     "text": [
      "Failed requesting Mit'm Radl in die Stadt - Stereoact Remix\n"
     ]
    },
    {
     "name": "stderr",
     "output_type": "stream",
     "text": [
      "Processing 4 Non Blondes_tracks.parquet:  35%|███▌      | 126/357 [02:04<03:59,  1.04s/it]"
     ]
    },
    {
     "name": "stdout",
     "output_type": "stream",
     "text": [
      "Failed requesting Gemini\n"
     ]
    },
    {
     "name": "stderr",
     "output_type": "stream",
     "text": [
      "Processing 4 Non Blondes_tracks.parquet:  39%|███▉      | 141/357 [02:15<01:26,  2.51it/s]"
     ]
    },
    {
     "name": "stdout",
     "output_type": "stream",
     "text": [
      "Failed requesting Pierre\n",
      "Failed requesting What Are You Hungry For?\n",
      "Failed requesting 24 Hours\n",
      "Failed requesting teabag in the sink\n"
     ]
    },
    {
     "name": "stderr",
     "output_type": "stream",
     "text": [
      "Processing 4 Non Blondes_tracks.parquet:  40%|████      | 144/357 [02:18<02:24,  1.48it/s]"
     ]
    },
    {
     "name": "stdout",
     "output_type": "stream",
     "text": [
      "Failed requesting People Like Us\n"
     ]
    },
    {
     "name": "stderr",
     "output_type": "stream",
     "text": [
      "Processing 4 Non Blondes_tracks.parquet:  42%|████▏     | 150/357 [02:23<03:04,  1.12it/s]"
     ]
    },
    {
     "name": "stdout",
     "output_type": "stream",
     "text": [
      "Failed requesting Shining Star - From 'Minions: The Rise of Gru' Soundtrack\n",
      "Failed requesting Kind Of Love\n"
     ]
    },
    {
     "name": "stderr",
     "output_type": "stream",
     "text": [
      "Processing 4 Non Blondes_tracks.parquet:  43%|████▎     | 154/357 [02:25<02:22,  1.43it/s]"
     ]
    },
    {
     "name": "stdout",
     "output_type": "stream",
     "text": [
      "Failed requesting Stars Are Falling\n"
     ]
    },
    {
     "name": "stderr",
     "output_type": "stream",
     "text": [
      "Processing 4 Non Blondes_tracks.parquet:  44%|████▎     | 156/357 [02:26<02:08,  1.56it/s]"
     ]
    },
    {
     "name": "stdout",
     "output_type": "stream",
     "text": [
      "Failed requesting Back In Town\n"
     ]
    },
    {
     "name": "stderr",
     "output_type": "stream",
     "text": [
      "Processing 4 Non Blondes_tracks.parquet:  45%|████▌     | 162/357 [02:31<02:51,  1.13it/s]"
     ]
    },
    {
     "name": "stdout",
     "output_type": "stream",
     "text": [
      "Failed requesting too far\n"
     ]
    },
    {
     "name": "stderr",
     "output_type": "stream",
     "text": [
      "Processing 4 Non Blondes_tracks.parquet:  47%|████▋     | 169/357 [02:38<03:03,  1.02it/s]"
     ]
    },
    {
     "name": "stdout",
     "output_type": "stream",
     "text": [
      "Failed requesting Bleed\n"
     ]
    },
    {
     "name": "stderr",
     "output_type": "stream",
     "text": [
      "Processing 4 Non Blondes_tracks.parquet:  48%|████▊     | 171/357 [02:39<02:25,  1.28it/s]"
     ]
    },
    {
     "name": "stdout",
     "output_type": "stream",
     "text": [
      "Failed requesting Every Breath You Take - Live\n"
     ]
    },
    {
     "name": "stderr",
     "output_type": "stream",
     "text": [
      "Processing 4 Non Blondes_tracks.parquet:  49%|████▊     | 174/357 [02:41<02:19,  1.31it/s]"
     ]
    },
    {
     "name": "stdout",
     "output_type": "stream",
     "text": [
      "Failed requesting Ya Svoboden / I Am Free\n"
     ]
    },
    {
     "name": "stderr",
     "output_type": "stream",
     "text": [
      "Processing 4 Non Blondes_tracks.parquet:  52%|█████▏    | 185/357 [02:51<02:54,  1.01s/it]"
     ]
    },
    {
     "name": "stdout",
     "output_type": "stream",
     "text": [
      "Failed requesting Loca\n"
     ]
    },
    {
     "name": "stderr",
     "output_type": "stream",
     "text": [
      "Processing 4 Non Blondes_tracks.parquet:  57%|█████▋    | 203/357 [03:09<02:39,  1.04s/it]"
     ]
    },
    {
     "name": "stdout",
     "output_type": "stream",
     "text": [
      "Failed requesting All Around Me\n"
     ]
    },
    {
     "name": "stderr",
     "output_type": "stream",
     "text": [
      "Processing 4 Non Blondes_tracks.parquet:  65%|██████▍   | 231/357 [03:37<02:11,  1.04s/it]"
     ]
    },
    {
     "name": "stdout",
     "output_type": "stream",
     "text": [
      "Failed requesting Dancing Queen - From 'Mamma Mia!' Original Motion Picture Soundtrack\n"
     ]
    },
    {
     "name": "stderr",
     "output_type": "stream",
     "text": [
      "Processing 4 Non Blondes_tracks.parquet:  82%|████████▏ | 291/357 [04:38<01:08,  1.04s/it]"
     ]
    },
    {
     "name": "stdout",
     "output_type": "stream",
     "text": [
      "Failed requesting Dancing Queen - From 'Mamma Mia!' Original Motion Picture Soundtrack\n"
     ]
    },
    {
     "name": "stderr",
     "output_type": "stream",
     "text": [
      "Processing 4 Non Blondes_tracks.parquet:  87%|████████▋ | 312/357 [04:59<00:46,  1.03s/it]"
     ]
    },
    {
     "name": "stdout",
     "output_type": "stream",
     "text": [
      "Failed requesting If You Could Only See\n",
      "Failed requesting Tubthumping\n"
     ]
    },
    {
     "name": "stderr",
     "output_type": "stream",
     "text": [
      "Processing 4 Non Blondes_tracks.parquet: 100%|██████████| 357/357 [05:44<00:00,  1.04it/s]\n",
      "Processing 45 Grave_tracks.parquet:   0%|          | 0/399 [00:00<?, ?it/s]"
     ]
    },
    {
     "name": "stdout",
     "output_type": "stream",
     "text": [
      "Failed requesting Pick Your Poison\n"
     ]
    },
    {
     "name": "stderr",
     "output_type": "stream",
     "text": [
      "Processing 45 Grave_tracks.parquet:   1%|          | 4/399 [00:01<01:42,  3.87it/s]"
     ]
    },
    {
     "name": "stdout",
     "output_type": "stream",
     "text": [
      "Failed requesting Child of Fear\n",
      "Failed requesting Akira\n",
      "Failed requesting A Desert Dream\n",
      "Failed requesting Lucky 214\n"
     ]
    },
    {
     "name": "stderr",
     "output_type": "stream",
     "text": [
      "Processing 45 Grave_tracks.parquet:   2%|▏         | 8/399 [00:01<00:44,  8.86it/s]"
     ]
    },
    {
     "name": "stdout",
     "output_type": "stream",
     "text": [
      "Failed requesting Highway 666\n",
      "Failed requesting Johnny\n",
      "Failed requesting Sorceress\n",
      "Failed requesting Winds of Change\n",
      "Failed requesting Introduction\n"
     ]
    },
    {
     "name": "stderr",
     "output_type": "stream",
     "text": [
      "Processing 45 Grave_tracks.parquet:   5%|▌         | 21/399 [00:02<00:31, 12.03it/s]"
     ]
    },
    {
     "name": "stdout",
     "output_type": "stream",
     "text": [
      "Failed requesting Violent World\n",
      "Failed requesting Bobby\n",
      "Failed requesting Aku Aku\n",
      "Failed requesting Party Time\n",
      "Failed requesting Surf Bat\n",
      "Failed requesting Gangsta Rap\n",
      "Failed requesting Wax\n",
      "Failed requesting F#*ked By The Devil\n",
      "Failed requesting R2D2 Is Buddah\n"
     ]
    },
    {
     "name": "stderr",
     "output_type": "stream",
     "text": [
      "Processing 45 Grave_tracks.parquet:   6%|▋         | 25/399 [00:02<00:24, 15.33it/s]"
     ]
    },
    {
     "name": "stdout",
     "output_type": "stream",
     "text": [
      "Failed requesting Sleep In Safety\n",
      "Failed requesting How Does He Fly\n",
      "Failed requesting Black Cross\n",
      "Failed requesting Akira Raideen\n",
      "Failed requesting B’wana Devil\n",
      "Failed requesting Bonus Studio Track: Evil (7” Alt. Version)\n",
      "Failed requesting Bonus Studio Track: Party Time (7” Alt. Version)\n"
     ]
    },
    {
     "name": "stderr",
     "output_type": "stream",
     "text": [
      "Processing 45 Grave_tracks.parquet:   9%|▊         | 34/399 [00:02<00:15, 23.36it/s]"
     ]
    },
    {
     "name": "stdout",
     "output_type": "stream",
     "text": [
      "Failed requesting Insurance from God\n",
      "Failed requesting Take Five\n",
      "Failed requesting Bad Love\n",
      "Failed requesting My Type\n",
      "Failed requesting Dream Hits\n",
      "Failed requesting Consumers\n",
      "Failed requesting Sheila\n",
      "Failed requesting Sorceress\n",
      "Failed requesting Death March\n"
     ]
    },
    {
     "name": "stderr",
     "output_type": "stream",
     "text": [
      "Processing 45 Grave_tracks.parquet:  11%|█         | 43/399 [00:03<00:11, 29.81it/s]"
     ]
    },
    {
     "name": "stdout",
     "output_type": "stream",
     "text": [
      "Failed requesting Journey's End\n",
      "Failed requesting Fucked by the Devil\n",
      "Failed requesting Evil\n",
      "Failed requesting Party Time\n",
      "Failed requesting Black Cross\n",
      "Failed requesting Wax\n",
      "Failed requesting Akira Raideen\n",
      "Failed requesting Insurance from God\n",
      "Failed requesting Evil\n"
     ]
    },
    {
     "name": "stderr",
     "output_type": "stream",
     "text": [
      "Processing 45 Grave_tracks.parquet:  13%|█▎        | 52/399 [00:03<00:10, 34.64it/s]"
     ]
    },
    {
     "name": "stdout",
     "output_type": "stream",
     "text": [
      "Failed requesting Partytime\n",
      "Failed requesting Violent World\n",
      "Failed requesting Slice O' Life\n",
      "Failed requesting Phantoms\n",
      "Failed requesting Dream Hits Ii\n",
      "Failed requesting Bad Love\n",
      "Failed requesting Surf Bat\n",
      "Failed requesting Riboflavin\n",
      "Failed requesting Procession\n"
     ]
    },
    {
     "name": "stderr",
     "output_type": "stream",
     "text": [
      "Processing 45 Grave_tracks.parquet:  16%|█▌        | 62/399 [00:03<00:08, 37.62it/s]"
     ]
    },
    {
     "name": "stdout",
     "output_type": "stream",
     "text": [
      "Failed requesting 45 Grave\n",
      "Failed requesting School's Out\n",
      "Failed requesting School's Out\n",
      "Failed requesting School's Out\n",
      "Failed requesting Partytime\n",
      "Failed requesting Party Time - Re-Recorded - 2022 Mix\n",
      "Failed requesting Evil - Re-Recorded - 2022 Mix\n",
      "Failed requesting Evil\n"
     ]
    },
    {
     "name": "stderr",
     "output_type": "stream",
     "text": [
      "Processing 45 Grave_tracks.parquet:  18%|█▊        | 70/399 [00:03<00:08, 37.53it/s]"
     ]
    },
    {
     "name": "stdout",
     "output_type": "stream",
     "text": [
      "Failed requesting Party Time\n",
      "Failed requesting Surf Bat\n",
      "Failed requesting Procession (Live)\n",
      "Failed requesting The Killing Moon\n",
      "Failed requesting A Forest\n",
      "Failed requesting Disorder - Remix\n",
      "Failed requesting Lucretia My Reflection - 2018 Remaster\n",
      "Failed requesting SPIT IN MY FACE!\n",
      "Failed requesting House of Wolves\n"
     ]
    },
    {
     "name": "stderr",
     "output_type": "stream",
     "text": [
      "Processing 45 Grave_tracks.parquet:  20%|█▉        | 78/399 [00:04<00:08, 37.03it/s]"
     ]
    },
    {
     "name": "stdout",
     "output_type": "stream",
     "text": [
      "Failed requesting Blood // Water\n",
      "Failed requesting Let's Kill Tonight\n",
      "Failed requesting Golden Brown\n",
      "Failed requesting Love You to Death\n",
      "Failed requesting Falling\n",
      "Failed requesting Skeletons\n",
      "Failed requesting Psycho Killer - 2005 Remaster\n",
      "Failed requesting Trouble's Coming\n"
     ]
    },
    {
     "name": "stderr",
     "output_type": "stream",
     "text": [
      "Processing 45 Grave_tracks.parquet:  22%|██▏       | 87/399 [00:04<00:08, 37.49it/s]"
     ]
    },
    {
     "name": "stdout",
     "output_type": "stream",
     "text": [
      "Failed requesting Evil\n",
      "Failed requesting Shadowplay - 2007 Remaster\n",
      "Failed requesting Helena\n",
      "Failed requesting This Corrosion\n",
      "Failed requesting Strung Out Johnny\n",
      "Failed requesting Route 66 (Get Your Kicks On)\n",
      "Failed requesting The Killing Moon\n",
      "Failed requesting Welcome to the Black Parade\n",
      "Failed requesting Heaven Knows I'm Miserable Now\n"
     ]
    },
    {
     "name": "stderr",
     "output_type": "stream",
     "text": [
      "Processing 45 Grave_tracks.parquet:  24%|██▍       | 96/399 [00:04<00:08, 37.15it/s]"
     ]
    },
    {
     "name": "stdout",
     "output_type": "stream",
     "text": [
      "Failed requesting Monster\n",
      "Failed requesting Cemetery Gates\n",
      "Failed requesting The Sound of Silence\n",
      "Failed requesting Stigmata\n",
      "Failed requesting Temple of Love (1992)\n",
      "Failed requesting Ashes to Ashes\n",
      "Failed requesting Ceremony (Version 1)\n",
      "Failed requesting American Gothic\n"
     ]
    },
    {
     "name": "stderr",
     "output_type": "stream",
     "text": [
      "Processing 45 Grave_tracks.parquet:  26%|██▌       | 104/399 [00:04<00:07, 37.21it/s]"
     ]
    },
    {
     "name": "stdout",
     "output_type": "stream",
     "text": [
      "Failed requesting Little Monster\n",
      "Failed requesting Love You to Death\n",
      "Failed requesting Afterlife\n",
      "Failed requesting Down with the Sickness\n",
      "Failed requesting Shadowplay - 2007 Remaster\n",
      "Failed requesting Party Time\n",
      "Failed requesting Roses for the Dead\n",
      "Failed requesting Daniel\n",
      "Failed requesting Nowhere Girl\n"
     ]
    },
    {
     "name": "stderr",
     "output_type": "stream",
     "text": [
      "Processing 45 Grave_tracks.parquet:  28%|██▊       | 112/399 [00:05<00:08, 35.17it/s]"
     ]
    },
    {
     "name": "stdout",
     "output_type": "stream",
     "text": [
      "Failed requesting Fast In My Car\n",
      "Failed requesting Sister Blister\n",
      "Failed requesting Scrap\n",
      "Failed requesting Back from the Dead\n",
      "Failed requesting Rubber & Glue\n",
      "Failed requesting We Oughta Be Drinkin'\n",
      "Failed requesting Get Your Shit Together\n"
     ]
    },
    {
     "name": "stderr",
     "output_type": "stream",
     "text": [
      "Processing 45 Grave_tracks.parquet:  30%|███       | 120/399 [00:05<00:08, 34.60it/s]"
     ]
    },
    {
     "name": "stdout",
     "output_type": "stream",
     "text": [
      "Failed requesting Coral Fang\n",
      "Failed requesting Six Times a Day\n",
      "Failed requesting Bad Boys Get Spanked - 2006 Remastered Version\n",
      "Failed requesting Rock Bottom Blues\n",
      "Failed requesting Pennywhore\n",
      "Failed requesting Party Time\n",
      "Failed requesting Take Me to the Backseat\n",
      "Failed requesting Ragweed\n"
     ]
    },
    {
     "name": "stderr",
     "output_type": "stream",
     "text": [
      "Processing 45 Grave_tracks.parquet:  32%|███▏      | 128/399 [00:05<00:07, 35.39it/s]"
     ]
    },
    {
     "name": "stdout",
     "output_type": "stream",
     "text": [
      "Failed requesting Yemaya\n",
      "Failed requesting Nine Times to Live\n",
      "Failed requesting Toytown\n",
      "Failed requesting Bite Me\n",
      "Failed requesting One Kiss Left\n",
      "Failed requesting You Can Leave Your Hat On\n",
      "Failed requesting St Elmo's Fire (Anniversary Edition)\n",
      "Failed requesting Breakaway\n"
     ]
    },
    {
     "name": "stderr",
     "output_type": "stream",
     "text": [
      "Processing 45 Grave_tracks.parquet:  34%|███▍      | 137/399 [00:05<00:08, 31.64it/s]"
     ]
    },
    {
     "name": "stdout",
     "output_type": "stream",
     "text": [
      "Failed requesting Lost In the Shadows (From \"The Lost Boys\")\n",
      "Failed requesting We Don't Need Another Hero (Thunderdome)\n",
      "Failed requesting Arthur's Theme (Best That You Can Do)\n",
      "Failed requesting Stand by Me\n",
      "Failed requesting Nothing's Gonna Stop Us Now\n",
      "Failed requesting La Bamba\n",
      "Failed requesting True - 2003 Remaster\n",
      "Failed requesting Werewolves of London\n",
      "Failed requesting Werewolves of London\n"
     ]
    },
    {
     "name": "stderr",
     "output_type": "stream",
     "text": [
      "Processing 45 Grave_tracks.parquet:  37%|███▋      | 147/399 [00:06<00:06, 37.03it/s]"
     ]
    },
    {
     "name": "stdout",
     "output_type": "stream",
     "text": [
      "Failed requesting Werewolves of London\n",
      "Failed requesting Wind Beneath My Wings\n",
      "Failed requesting Shake It Up - 2017 Remaster\n",
      "Failed requesting Shake It Up - 2017 Remaster\n",
      "Failed requesting Water Fountain (Love Theme from \"Secret of My Success\")\n",
      "Failed requesting This Must Be the Place (Naive Melody) - Live\n",
      "Failed requesting Blitzkrieg Bop - 2016 Remaster\n",
      "Failed requesting Blitzkrieg Bop - 2016 Remaster\n",
      "Failed requesting Never Ending Story\n"
     ]
    },
    {
     "name": "stderr",
     "output_type": "stream",
     "text": [
      "Processing 45 Grave_tracks.parquet:  38%|███▊      | 152/399 [00:06<00:06, 38.18it/s]"
     ]
    },
    {
     "name": "stdout",
     "output_type": "stream",
     "text": [
      "Failed requesting Please, Please, Please Let Me Get What I Want\n",
      "Failed requesting I Like It Like That - Pt. 1\n",
      "Failed requesting Peter Gunn Theme\n",
      "Failed requesting School's Out\n",
      "Failed requesting School's Out\n",
      "Failed requesting School's Out\n"
     ]
    },
    {
     "name": "stderr",
     "output_type": "stream",
     "text": [
      "Processing 45 Grave_tracks.parquet:  42%|████▏     | 167/399 [00:23<03:31,  1.10it/s]"
     ]
    },
    {
     "name": "stdout",
     "output_type": "stream",
     "text": [
      "Failed requesting Fortune Teller\n",
      "Failed requesting Trouble\n"
     ]
    },
    {
     "name": "stderr",
     "output_type": "stream",
     "text": [
      "Processing 45 Grave_tracks.parquet:  43%|████▎     | 171/399 [00:24<02:21,  1.61it/s]"
     ]
    },
    {
     "name": "stdout",
     "output_type": "stream",
     "text": [
      "Failed requesting My Generation\n"
     ]
    },
    {
     "name": "stderr",
     "output_type": "stream",
     "text": [
      "Processing 45 Grave_tracks.parquet:  46%|████▋     | 185/399 [00:39<03:43,  1.04s/it]"
     ]
    },
    {
     "name": "stdout",
     "output_type": "stream",
     "text": [
      "Failed requesting Booby Trap\n"
     ]
    },
    {
     "name": "stderr",
     "output_type": "stream",
     "text": [
      "Processing 45 Grave_tracks.parquet:  47%|████▋     | 188/399 [00:41<03:05,  1.14it/s]"
     ]
    },
    {
     "name": "stdout",
     "output_type": "stream",
     "text": [
      "Failed requesting What's the Point\n",
      "Failed requesting What Gives You the Idea You're So Amazing Baby?\n"
     ]
    },
    {
     "name": "stderr",
     "output_type": "stream",
     "text": [
      "Processing 45 Grave_tracks.parquet:  52%|█████▏    | 208/399 [01:00<03:18,  1.04s/it]"
     ]
    },
    {
     "name": "stdout",
     "output_type": "stream",
     "text": [
      "Failed requesting Tower of Fire\n"
     ]
    },
    {
     "name": "stderr",
     "output_type": "stream",
     "text": [
      "Processing 45 Grave_tracks.parquet:  53%|█████▎    | 210/399 [01:01<02:32,  1.24it/s]"
     ]
    },
    {
     "name": "stdout",
     "output_type": "stream",
     "text": [
      "Failed requesting Into the Dungeon\n"
     ]
    },
    {
     "name": "stderr",
     "output_type": "stream",
     "text": [
      "Processing 45 Grave_tracks.parquet:  54%|█████▍    | 217/399 [01:07<02:54,  1.04it/s]"
     ]
    },
    {
     "name": "stdout",
     "output_type": "stream",
     "text": [
      "Failed requesting Seven Roads (Second Version)\n"
     ]
    },
    {
     "name": "stderr",
     "output_type": "stream",
     "text": [
      "Processing 45 Grave_tracks.parquet:  55%|█████▌    | 220/399 [01:10<02:29,  1.20it/s]"
     ]
    },
    {
     "name": "stdout",
     "output_type": "stream",
     "text": [
      "Failed requesting He's Coming\n"
     ]
    },
    {
     "name": "stderr",
     "output_type": "stream",
     "text": [
      "Processing 45 Grave_tracks.parquet:  56%|█████▌    | 222/399 [01:11<02:06,  1.40it/s]"
     ]
    },
    {
     "name": "stdout",
     "output_type": "stream",
     "text": [
      "Failed requesting No Hearts\n"
     ]
    },
    {
     "name": "stderr",
     "output_type": "stream",
     "text": [
      "Processing 45 Grave_tracks.parquet:  57%|█████▋    | 227/399 [01:12<01:05,  2.64it/s]"
     ]
    },
    {
     "name": "stdout",
     "output_type": "stream",
     "text": [
      "Failed requesting I'm Gonna Leave You\n",
      "Failed requesting Night On the Town\n",
      "Failed requesting Fire In the Night\n"
     ]
    },
    {
     "name": "stderr",
     "output_type": "stream",
     "text": [
      "Processing 45 Grave_tracks.parquet:  57%|█████▋    | 229/399 [01:13<01:11,  2.39it/s]"
     ]
    },
    {
     "name": "stdout",
     "output_type": "stream",
     "text": [
      "Failed requesting Daughter of the Sun\n"
     ]
    },
    {
     "name": "stderr",
     "output_type": "stream",
     "text": [
      "Processing 45 Grave_tracks.parquet:  58%|█████▊    | 230/399 [01:14<01:34,  1.80it/s]"
     ]
    },
    {
     "name": "stdout",
     "output_type": "stream",
     "text": [
      "Failed requesting War and Misery\n"
     ]
    },
    {
     "name": "stderr",
     "output_type": "stream",
     "text": [
      "Processing 45 Grave_tracks.parquet:  59%|█████▉    | 235/399 [01:18<02:14,  1.22it/s]"
     ]
    },
    {
     "name": "stdout",
     "output_type": "stream",
     "text": [
      "Failed requesting This Corrosion (12\" Version)\n"
     ]
    },
    {
     "name": "stderr",
     "output_type": "stream",
     "text": [
      "Processing 45 Grave_tracks.parquet:  60%|█████▉    | 239/399 [01:21<02:15,  1.18it/s]"
     ]
    },
    {
     "name": "stdout",
     "output_type": "stream",
     "text": [
      "Failed requesting My Dark Place Alone\n"
     ]
    },
    {
     "name": "stderr",
     "output_type": "stream",
     "text": [
      "Processing 45 Grave_tracks.parquet:  61%|██████    | 243/399 [01:25<02:13,  1.17it/s]"
     ]
    },
    {
     "name": "stdout",
     "output_type": "stream",
     "text": [
      "Failed requesting Creation\n"
     ]
    },
    {
     "name": "stderr",
     "output_type": "stream",
     "text": [
      "Processing 45 Grave_tracks.parquet:  61%|██████▏   | 245/399 [01:26<01:51,  1.39it/s]"
     ]
    },
    {
     "name": "stdout",
     "output_type": "stream",
     "text": [
      "Failed requesting Six (Edit)\n"
     ]
    },
    {
     "name": "stderr",
     "output_type": "stream",
     "text": [
      "Processing 45 Grave_tracks.parquet:  62%|██████▏   | 248/399 [01:28<01:50,  1.36it/s]"
     ]
    },
    {
     "name": "stdout",
     "output_type": "stream",
     "text": [
      "Failed requesting Binge and Purge\n"
     ]
    },
    {
     "name": "stderr",
     "output_type": "stream",
     "text": [
      "Processing 45 Grave_tracks.parquet:  70%|███████   | 281/399 [02:01<02:02,  1.04s/it]"
     ]
    },
    {
     "name": "stdout",
     "output_type": "stream",
     "text": [
      "Failed requesting The Witch Queen of New Orleans\n",
      "Failed requesting The Witch Queen of New Orleans\n"
     ]
    },
    {
     "name": "stderr",
     "output_type": "stream",
     "text": [
      "Processing 45 Grave_tracks.parquet:  71%|███████▏  | 285/399 [02:03<01:24,  1.35it/s]"
     ]
    },
    {
     "name": "stdout",
     "output_type": "stream",
     "text": [
      "Failed requesting Grim Reaper\n",
      "Failed requesting Grim Reaper\n"
     ]
    },
    {
     "name": "stderr",
     "output_type": "stream",
     "text": [
      "Processing 45 Grave_tracks.parquet:  72%|███████▏  | 289/399 [02:05<01:11,  1.54it/s]"
     ]
    },
    {
     "name": "stdout",
     "output_type": "stream",
     "text": [
      "Failed requesting Halloween\n",
      "Failed requesting Halloween\n"
     ]
    },
    {
     "name": "stderr",
     "output_type": "stream",
     "text": [
      "Processing 45 Grave_tracks.parquet:  73%|███████▎  | 293/399 [02:07<01:05,  1.63it/s]"
     ]
    },
    {
     "name": "stdout",
     "output_type": "stream",
     "text": [
      "Failed requesting Cas-Ta-Spellome\n",
      "Failed requesting Cas-Ta-Spellome\n"
     ]
    },
    {
     "name": "stderr",
     "output_type": "stream",
     "text": [
      "Processing 45 Grave_tracks.parquet:  76%|███████▌  | 303/399 [02:16<01:34,  1.01it/s]"
     ]
    },
    {
     "name": "stdout",
     "output_type": "stream",
     "text": [
      "Failed requesting I'm Afraid to Go Home\n",
      "Failed requesting I'm Afraid to Go Home\n"
     ]
    },
    {
     "name": "stderr",
     "output_type": "stream",
     "text": [
      "Processing 45 Grave_tracks.parquet:  79%|███████▉  | 315/399 [02:22<00:32,  2.59it/s]"
     ]
    },
    {
     "name": "stdout",
     "output_type": "stream",
     "text": [
      "Failed requesting Casting My Spell\n",
      "Failed requesting Casting My Spell\n",
      "Failed requesting Magic in the Moonlight - 2003 Remaster; Single Edit\n",
      "Failed requesting Magic in the Moonlight - 2003 Remaster; Single Edit\n"
     ]
    },
    {
     "name": "stderr",
     "output_type": "stream",
     "text": [
      "Processing 45 Grave_tracks.parquet:  81%|████████▏ | 325/399 [02:33<01:14,  1.00s/it]"
     ]
    },
    {
     "name": "stdout",
     "output_type": "stream",
     "text": [
      "Failed requesting Mistress of Pain\n",
      "Failed requesting My Home Sweet Homicide\n"
     ]
    },
    {
     "name": "stderr",
     "output_type": "stream",
     "text": [
      "Processing 45 Grave_tracks.parquet:  82%|████████▏ | 328/399 [02:34<00:46,  1.53it/s]"
     ]
    },
    {
     "name": "stdout",
     "output_type": "stream",
     "text": [
      "Failed requesting Frankenstein\n"
     ]
    },
    {
     "name": "stderr",
     "output_type": "stream",
     "text": [
      "Processing 45 Grave_tracks.parquet:  83%|████████▎ | 332/399 [02:37<00:51,  1.30it/s]"
     ]
    },
    {
     "name": "stdout",
     "output_type": "stream",
     "text": [
      "Failed requesting Comic with Rats Now\n",
      "Failed requesting Journey's End\n",
      "Failed requesting Black Daze\n"
     ]
    },
    {
     "name": "stderr",
     "output_type": "stream",
     "text": [
      "Processing 45 Grave_tracks.parquet:  84%|████████▍ | 337/399 [02:39<00:36,  1.70it/s]"
     ]
    },
    {
     "name": "stdout",
     "output_type": "stream",
     "text": [
      "Failed requesting Werewolves of London\n",
      "Failed requesting Cry Wolf\n"
     ]
    },
    {
     "name": "stderr",
     "output_type": "stream",
     "text": [
      "Processing 45 Grave_tracks.parquet:  85%|████████▌ | 340/399 [02:40<00:29,  2.02it/s]"
     ]
    },
    {
     "name": "stdout",
     "output_type": "stream",
     "text": [
      "Failed requesting Hungry Like the Wolf - 2009 Remaster\n"
     ]
    },
    {
     "name": "stderr",
     "output_type": "stream",
     "text": [
      "Processing 45 Grave_tracks.parquet:  86%|████████▌ | 342/399 [02:41<00:28,  1.99it/s]"
     ]
    },
    {
     "name": "stdout",
     "output_type": "stream",
     "text": [
      "Failed requesting The Witch Queen of New Orleans\n",
      "Failed requesting The Witch Queen of New Orleans\n",
      "Failed requesting Raise The Dead\n"
     ]
    },
    {
     "name": "stderr",
     "output_type": "stream",
     "text": [
      "Processing 45 Grave_tracks.parquet:  87%|████████▋ | 346/399 [02:42<00:21,  2.47it/s]"
     ]
    },
    {
     "name": "stdout",
     "output_type": "stream",
     "text": [
      "Failed requesting Grim Reaper\n",
      "Failed requesting Grim Reaper\n"
     ]
    },
    {
     "name": "stderr",
     "output_type": "stream",
     "text": [
      "Processing 45 Grave_tracks.parquet:  88%|████████▊ | 350/399 [02:45<00:23,  2.09it/s]"
     ]
    },
    {
     "name": "stdout",
     "output_type": "stream",
     "text": [
      "Failed requesting Halloween\n",
      "Failed requesting Halloween\n"
     ]
    },
    {
     "name": "stderr",
     "output_type": "stream",
     "text": [
      "Processing 45 Grave_tracks.parquet:  89%|████████▊ | 354/399 [02:47<00:23,  1.90it/s]"
     ]
    },
    {
     "name": "stdout",
     "output_type": "stream",
     "text": [
      "Failed requesting Cas-Ta-Spellome\n",
      "Failed requesting Cas-Ta-Spellome\n"
     ]
    },
    {
     "name": "stderr",
     "output_type": "stream",
     "text": [
      "Processing 45 Grave_tracks.parquet:  90%|████████▉ | 358/399 [02:49<00:22,  1.81it/s]"
     ]
    },
    {
     "name": "stdout",
     "output_type": "stream",
     "text": [
      "Failed requesting Zombies Ate My Neighbors\n"
     ]
    },
    {
     "name": "stderr",
     "output_type": "stream",
     "text": [
      "Processing 45 Grave_tracks.parquet:  90%|█████████ | 361/399 [02:51<00:24,  1.57it/s]"
     ]
    },
    {
     "name": "stdout",
     "output_type": "stream",
     "text": [
      "Failed requesting Vampire - 2002 Remaster\n",
      "Failed requesting Monster Mash\n"
     ]
    },
    {
     "name": "stderr",
     "output_type": "stream",
     "text": [
      "Processing 45 Grave_tracks.parquet:  92%|█████████▏| 367/399 [02:52<00:10,  2.99it/s]"
     ]
    },
    {
     "name": "stdout",
     "output_type": "stream",
     "text": [
      "Failed requesting I'm Afraid to Go Home\n",
      "Failed requesting I'm Afraid to Go Home\n",
      "Failed requesting Devil Woman\n"
     ]
    },
    {
     "name": "stderr",
     "output_type": "stream",
     "text": [
      "Processing 45 Grave_tracks.parquet:  94%|█████████▍| 376/399 [02:57<00:08,  2.83it/s]"
     ]
    },
    {
     "name": "stdout",
     "output_type": "stream",
     "text": [
      "Failed requesting Casting My Spell\n",
      "Failed requesting Casting My Spell\n",
      "Failed requesting Magic in the Moonlight - 2003 Remaster; Single Edit\n",
      "Failed requesting Magic in the Moonlight - 2003 Remaster; Single Edit\n"
     ]
    },
    {
     "name": "stderr",
     "output_type": "stream",
     "text": [
      "Processing 45 Grave_tracks.parquet: 100%|██████████| 399/399 [03:21<00:00,  1.98it/s]\n",
      "Processing 4hero_tracks.parquet:   2%|▏         | 3/144 [00:00<00:08, 17.53it/s]"
     ]
    },
    {
     "name": "stdout",
     "output_type": "stream",
     "text": [
      "Failed requesting Universal Love\n",
      "Failed requesting Why Don't You Talk?\n",
      "Failed requesting Conceptions\n",
      "Failed requesting Planeteria\n",
      "Failed requesting Third Stream\n"
     ]
    },
    {
     "name": "stderr",
     "output_type": "stream",
     "text": [
      "Processing 4hero_tracks.parquet:   7%|▋         | 10/144 [00:00<00:05, 22.67it/s]"
     ]
    },
    {
     "name": "stdout",
     "output_type": "stream",
     "text": [
      "Failed requesting Give In\n",
      "Failed requesting Blank Cells\n",
      "Failed requesting Sophia\n",
      "Failed requesting Cosmic Tree\n",
      "Failed requesting People Always Criticise Us\n"
     ]
    },
    {
     "name": "stderr",
     "output_type": "stream",
     "text": [
      "Processing 4hero_tracks.parquet:  10%|▉         | 14/144 [00:00<00:04, 26.57it/s]"
     ]
    },
    {
     "name": "stdout",
     "output_type": "stream",
     "text": [
      "Failed requesting Humans\n",
      "Failed requesting Star Chasers\n",
      "Failed requesting Universal Love - 4hero Remix\n",
      "Failed requesting Better Place - 4hero Remix\n",
      "Failed requesting Journey From The Light - 4hero Remix\n",
      "Failed requesting Students Of The Future\n",
      "Failed requesting Cookin' Up Yer Brain\n",
      "Failed requesting In The Shadow - 4hero Remix\n"
     ]
    },
    {
     "name": "stderr",
     "output_type": "stream",
     "text": [
      "Processing 4hero_tracks.parquet:  15%|█▌        | 22/144 [00:00<00:03, 32.49it/s]"
     ]
    },
    {
     "name": "stdout",
     "output_type": "stream",
     "text": [
      "Failed requesting Universal Love - Goldie Remix\n",
      "Failed requesting Kirk's Back\n",
      "Failed requesting Rising Son - Instrumental\n",
      "Failed requesting Better Place - Original\n"
     ]
    },
    {
     "name": "stderr",
     "output_type": "stream",
     "text": [
      "Processing 4hero_tracks.parquet:  22%|██▏       | 31/144 [00:04<00:21,  5.33it/s]"
     ]
    },
    {
     "name": "stdout",
     "output_type": "stream",
     "text": [
      "Failed requesting Sink or Swim (No Choice for Me)\n",
      "Failed requesting Give In\n",
      "Failed requesting Play With the Changes\n",
      "Failed requesting Something in the Way\n",
      "Failed requesting Stoke Up the Fire\n",
      "Failed requesting The Awakening\n"
     ]
    },
    {
     "name": "stderr",
     "output_type": "stream",
     "text": [
      "Processing 4hero_tracks.parquet:  26%|██▋       | 38/144 [00:05<00:17,  6.02it/s]"
     ]
    },
    {
     "name": "stdout",
     "output_type": "stream",
     "text": [
      "Failed requesting Superwoman (Where Were You When I Needed You?)\n",
      "Failed requesting Why Don't You Talk?\n",
      "Failed requesting Bed of Roses\n",
      "Failed requesting Gonna Give It Up (Wanna Quit)\n",
      "Failed requesting Dedication to the Horse\n",
      "Failed requesting Conceptions\n"
     ]
    },
    {
     "name": "stderr",
     "output_type": "stream",
     "text": [
      "Processing 4hero_tracks.parquet:  32%|███▏      | 46/144 [00:06<00:14,  6.96it/s]"
     ]
    },
    {
     "name": "stdout",
     "output_type": "stream",
     "text": [
      "Failed requesting Golden Solitude\n",
      "Failed requesting Twothesme\n",
      "Failed requesting Another Day\n",
      "Failed requesting Hold It Down\n",
      "Failed requesting Unique\n",
      "Failed requesting Something Nothing\n",
      "Failed requesting Ways Of Thought\n",
      "Failed requesting Eight\n"
     ]
    },
    {
     "name": "stderr",
     "output_type": "stream",
     "text": [
      "Processing 4hero_tracks.parquet:  35%|███▍      | 50/144 [00:06<00:10,  9.19it/s]"
     ]
    },
    {
     "name": "stdout",
     "output_type": "stream",
     "text": [
      "Failed requesting Blank Cells\n",
      "Failed requesting Twelve Tribes\n",
      "Failed requesting 2-Bs-74638\n"
     ]
    },
    {
     "name": "stderr",
     "output_type": "stream",
     "text": [
      "Processing 4hero_tracks.parquet:  40%|███▉      | 57/144 [00:07<00:10,  7.93it/s]"
     ]
    },
    {
     "name": "stdout",
     "output_type": "stream",
     "text": [
      "Failed requesting The Day Of The Greys\n",
      "Failed requesting Planetaria - Hefner Remix\n",
      "Failed requesting We Who Are Not As Others - Jazzanova Remix\n",
      "Failed requesting Mathematical Probability - Mustang Remix\n",
      "Failed requesting Escape That - New Sector Movements Selekshan 2 Sector Rub Remix\n",
      "Failed requesting Escape That - Off-World Remix\n",
      "Failed requesting Dauntless - Restless Soul South Pacific Remix\n"
     ]
    },
    {
     "name": "stderr",
     "output_type": "stream",
     "text": [
      "Processing 4hero_tracks.parquet:  42%|████▏     | 61/144 [00:07<00:07, 10.56it/s]"
     ]
    },
    {
     "name": "stdout",
     "output_type": "stream",
     "text": [
      "Failed requesting Star Chasers - Masters At Work Main Mix\n",
      "Failed requesting Star Chasers - Masters At Work Main Mix\n",
      "Failed requesting Starchasers - Azymuth Remix\n",
      "Failed requesting The Action - Shawn J Period Remix\n",
      "Failed requesting We Who Are Not As Others - Alpha Omega Mix\n"
     ]
    },
    {
     "name": "stderr",
     "output_type": "stream",
     "text": [
      "Processing 4hero_tracks.parquet:  44%|████▍     | 64/144 [00:08<00:06, 11.94it/s]"
     ]
    },
    {
     "name": "stdout",
     "output_type": "stream",
     "text": [
      "Failed requesting We Who Are Not As Others - Sonar Circle Remix\n"
     ]
    },
    {
     "name": "stderr",
     "output_type": "stream",
     "text": [
      "Processing 4hero_tracks.parquet:  47%|████▋     | 67/144 [00:09<00:12,  6.33it/s]"
     ]
    },
    {
     "name": "stdout",
     "output_type": "stream",
     "text": [
      "Failed requesting Golden Age Of Life\n",
      "Failed requesting Planetaria (A Theme From A Dream)\n",
      "Failed requesting Third Stream\n",
      "Failed requesting Wormholes\n"
     ]
    },
    {
     "name": "stderr",
     "output_type": "stream",
     "text": [
      "Processing 4hero_tracks.parquet:  51%|█████▏    | 74/144 [00:10<00:10,  6.69it/s]"
     ]
    },
    {
     "name": "stdout",
     "output_type": "stream",
     "text": [
      "Failed requesting Mother Solar Pt.1\n",
      "Failed requesting Spirits In Transit - Edit\n",
      "Failed requesting Greys\n",
      "Failed requesting The Action\n"
     ]
    },
    {
     "name": "stderr",
     "output_type": "stream",
     "text": [
      "Processing 4hero_tracks.parquet:  56%|█████▋    | 81/144 [00:12<00:12,  4.85it/s]"
     ]
    },
    {
     "name": "stdout",
     "output_type": "stream",
     "text": [
      "Failed requesting Normal Changing World\n",
      "Failed requesting Universal Reprise\n",
      "Failed requesting We Who Are Not As Others - Album Version (Edited)\n",
      "Failed requesting Humans\n",
      "Failed requesting Pegasus 51 - Edit\n",
      "Failed requesting Three Thousand And Five - Edit\n",
      "Failed requesting De-Sci-Fer\n",
      "Failed requesting All Dressed Up - 4 Hero Remix\n"
     ]
    },
    {
     "name": "stderr",
     "output_type": "stream",
     "text": [
      "Processing 4hero_tracks.parquet:  59%|█████▉    | 85/144 [00:12<00:08,  6.74it/s]"
     ]
    },
    {
     "name": "stdout",
     "output_type": "stream",
     "text": [
      "Failed requesting Look Inside - Izmabad Remix\n",
      "Failed requesting Look Inside - Daz-I-Kue Remix\n",
      "Failed requesting Look Inside - Nu:Tone Remix\n",
      "Failed requesting Look Inside - Extended DJ Mix\n"
     ]
    },
    {
     "name": "stderr",
     "output_type": "stream",
     "text": [
      "Processing 4hero_tracks.parquet:  65%|██████▍   | 93/144 [00:13<00:07,  7.23it/s]"
     ]
    },
    {
     "name": "stdout",
     "output_type": "stream",
     "text": [
      "Failed requesting Look Inside - Daz-I-Kue Dub\n",
      "Failed requesting Look Inside - Izmabad Radio Edit\n",
      "Failed requesting Morning Child - Radio Edit\n",
      "Failed requesting Morning Child - Daddy G Remix\n",
      "Failed requesting Morning Child - L.A.O.S. D&B Mix\n"
     ]
    },
    {
     "name": "stderr",
     "output_type": "stream",
     "text": [
      "Processing 4hero_tracks.parquet:  69%|██████▉   | 100/144 [00:16<00:08,  5.04it/s]"
     ]
    },
    {
     "name": "stdout",
     "output_type": "stream",
     "text": [
      "Failed requesting Morning Child - Instrumental\n",
      "Failed requesting Morning Child - Daddy G Remix Instrumental\n",
      "Failed requesting Morning Child - Landau Orchestra Remix Instrumental\n",
      "Failed requesting Star Chasers - Masters At Work Main Mix\n",
      "Failed requesting Star Chasers - Masters At Work Main Mix\n",
      "Failed requesting Star Chasers - Nu Yorican Dub\n",
      "Failed requesting Star Chasers - Masters At Work Caught Up Mix\n"
     ]
    },
    {
     "name": "stderr",
     "output_type": "stream",
     "text": [
      "Processing 4hero_tracks.parquet:  75%|███████▌  | 108/144 [00:16<00:03,  9.35it/s]"
     ]
    },
    {
     "name": "stdout",
     "output_type": "stream",
     "text": [
      "Failed requesting Star Chasers - Bonus Beats\n",
      "Failed requesting Grow the Forest - Part 1 - 4Hero\n",
      "Failed requesting Grow the Forest - Part 2 - Atjazz\n",
      "Failed requesting Grow the Forest - Part 3 - Osunlade\n",
      "Failed requesting Grow the Forest - Part 4 - Beanfield\n",
      "Failed requesting Grow the Forest - Part 5 - Okvsho\n",
      "Failed requesting Grow the Forest - Part 6 - Lexx\n",
      "Failed requesting Grow the Forest - Part 7 - Rebecca Vasmant\n"
     ]
    },
    {
     "name": "stderr",
     "output_type": "stream",
     "text": [
      "Processing 4hero_tracks.parquet:  81%|████████  | 116/144 [00:16<00:01, 14.35it/s]"
     ]
    },
    {
     "name": "stdout",
     "output_type": "stream",
     "text": [
      "Failed requesting Grow the Forest - Part 8 - Pablo Color\n",
      "Failed requesting Grow the Forest - Part 9 - Jazzanova\n",
      "Failed requesting Grow the Forest - Part 10 - Melodiesinfonie\n",
      "Failed requesting Grow the Forest - Part 11 - DJ Spinna\n",
      "Failed requesting Grow the Forest - Part 12 - 4Hero\n",
      "Failed requesting Grow the Forest - Part 13 - Jimi Jules\n",
      "Failed requesting Grow the Forest - Part 14 - Rainer Trueby & Quintin Copper\n",
      "Failed requesting Grow the Forest - Part 15 - Velmondo\n"
     ]
    },
    {
     "name": "stderr",
     "output_type": "stream",
     "text": [
      "Processing 4hero_tracks.parquet:  86%|████████▌ | 124/144 [00:16<00:00, 21.07it/s]"
     ]
    },
    {
     "name": "stdout",
     "output_type": "stream",
     "text": [
      "Failed requesting Grow the Forest - Part 16 - Fred Und Luna\n",
      "Failed requesting Grow the Forest - Part 17 - Andrea Oliva\n",
      "Failed requesting Grow the Forest - Part 18 - Roman Flügel\n",
      "Failed requesting Grow the Forest - Part 19 - Gigi Masin\n",
      "Failed requesting Grow the Forest - Part 20 - Matthew Herbert\n",
      "Failed requesting Elysian\n",
      "Failed requesting Arteries\n",
      "Failed requesting I Know\n"
     ]
    },
    {
     "name": "stderr",
     "output_type": "stream",
     "text": [
      "Processing 4hero_tracks.parquet:  92%|█████████▏| 132/144 [00:17<00:00, 27.27it/s]"
     ]
    },
    {
     "name": "stdout",
     "output_type": "stream",
     "text": [
      "Failed requesting Nabi\n",
      "Failed requesting You've Gone - Alternate Mix\n",
      "Failed requesting Deep - Vibes Mix\n",
      "Failed requesting Ain't Nobody - 12\" Mix\n",
      "Failed requesting Em Trancoso\n",
      "Failed requesting Time Million\n",
      "Failed requesting Starchild\n",
      "Failed requesting Breathe\n",
      "Failed requesting Solstice\n"
     ]
    },
    {
     "name": "stderr",
     "output_type": "stream",
     "text": [
      "Processing 4hero_tracks.parquet: 100%|██████████| 144/144 [00:17<00:00,  8.32it/s]"
     ]
    },
    {
     "name": "stdout",
     "output_type": "stream",
     "text": [
      "Failed requesting Love on a Real Train\n",
      "Failed requesting Warehouse Rock - Timmy Stewart's Sunrise Reprise\n",
      "Failed requesting Sea Dreamin'\n",
      "Failed requesting Doing What\n",
      "Failed requesting Langsame Marmelade - Roaming Soundtrack\n",
      "Failed requesting Palau\n",
      "Failed requesting Hercules - North Street West 'holyvoodou' Dub\n",
      "Failed requesting From Little Seeds We Grow - 4hero Folk Soul Remix\n"
     ]
    },
    {
     "name": "stderr",
     "output_type": "stream",
     "text": [
      "\n",
      "Processing 5 Chinese Brothers_tracks.parquet:   8%|▊         | 9/108 [00:00<00:02, 40.32it/s]"
     ]
    },
    {
     "name": "stdout",
     "output_type": "stream",
     "text": [
      "Failed requesting Let's Kill Saturday Night\n",
      "Failed requesting It's A Secret\n",
      "Failed requesting Three Cool Guys\n",
      "Failed requesting My Love For You Has Turned to Hate\n",
      "Failed requesting Marionette\n",
      "Failed requesting Look At It Rain\n",
      "Failed requesting That's What I Would Do\n",
      "Failed requesting Product of Dysfunction\n",
      "Failed requesting I'm Not Finished Yet\n"
     ]
    },
    {
     "name": "stderr",
     "output_type": "stream",
     "text": [
      "Processing 5 Chinese Brothers_tracks.parquet:  13%|█▎        | 14/108 [00:00<00:02, 40.47it/s]"
     ]
    },
    {
     "name": "stdout",
     "output_type": "stream",
     "text": [
      "Failed requesting Midnight At The Liberty\n",
      "Failed requesting Big Boots\n",
      "Failed requesting Blue Boy\n",
      "Failed requesting I Call My Pain By Your Name\n",
      "Failed requesting I Call See\n",
      "Failed requesting The Boy From New York City, the Girl From Tennessee\n",
      "Failed requesting Make the Rafters Ring\n",
      "Failed requesting Rockin\\' in the Manger\n"
     ]
    },
    {
     "name": "stderr",
     "output_type": "stream",
     "text": [
      "Processing 5 Chinese Brothers_tracks.parquet:  21%|██▏       | 23/108 [00:00<00:02, 34.99it/s]"
     ]
    },
    {
     "name": "stdout",
     "output_type": "stream",
     "text": [
      "Failed requesting And To All a Good Night\n",
      "Failed requesting Making Angels in the Sand\n",
      "Failed requesting Honky Tonk Christmas\n",
      "Failed requesting Missing Miss December\n",
      "Failed requesting Dear Santa\n",
      "Failed requesting Age-Old Story\n",
      "Failed requesting Christmas on Interstate 80\n"
     ]
    },
    {
     "name": "stderr",
     "output_type": "stream",
     "text": [
      "Processing 5 Chinese Brothers_tracks.parquet:  25%|██▌       | 27/108 [00:00<00:02, 32.65it/s]"
     ]
    },
    {
     "name": "stdout",
     "output_type": "stream",
     "text": [
      "Failed requesting The Fruitcake Song\n",
      "Failed requesting O Little Town of Bethlehem\n",
      "Failed requesting Dept. Store Santa Claus Strike\n",
      "Failed requesting Christmas in Manhattan\n",
      "Failed requesting The Avalanche Song\n",
      "Failed requesting Nothing But Time\n",
      "Failed requesting A Lot of Nights\n"
     ]
    },
    {
     "name": "stderr",
     "output_type": "stream",
     "text": [
      "Processing 5 Chinese Brothers_tracks.parquet:  32%|███▏      | 35/108 [00:01<00:02, 32.56it/s]"
     ]
    },
    {
     "name": "stdout",
     "output_type": "stream",
     "text": [
      "Failed requesting My Friend\n",
      "Failed requesting Like a Mole In the Ground\n",
      "Failed requesting Trust Me\n",
      "Failed requesting Mr. Williams\n",
      "Failed requesting Amazing Delores\n",
      "Failed requesting You Are Where You Want to Be\n",
      "Failed requesting Couldn't Fall In Love\n"
     ]
    },
    {
     "name": "stderr",
     "output_type": "stream",
     "text": [
      "Processing 5 Chinese Brothers_tracks.parquet:  40%|███▉      | 43/108 [00:01<00:01, 32.99it/s]"
     ]
    },
    {
     "name": "stdout",
     "output_type": "stream",
     "text": [
      "Failed requesting Pit Stop\n",
      "Failed requesting Walk Away\n",
      "Failed requesting Faith In Something Bigger\n",
      "Failed requesting If I Ain't Falling\n",
      "Failed requesting Baltimore\n",
      "Failed requesting She's A Waitress (And I'm In Love)\n",
      "Failed requesting Stop Talking\n"
     ]
    },
    {
     "name": "stderr",
     "output_type": "stream",
     "text": [
      "Processing 5 Chinese Brothers_tracks.parquet:  47%|████▋     | 51/108 [00:01<00:01, 33.02it/s]"
     ]
    },
    {
     "name": "stdout",
     "output_type": "stream",
     "text": [
      "Failed requesting My Dad's Face\n",
      "Failed requesting These Dreams\n",
      "Failed requesting Alone Together\n",
      "Failed requesting Paul Cezanne\n",
      "Failed requesting Claudine\n",
      "Failed requesting Don't Regret\n",
      "Failed requesting The Real Fast Car\n"
     ]
    },
    {
     "name": "stderr",
     "output_type": "stream",
     "text": [
      "Processing 5 Chinese Brothers_tracks.parquet:  51%|█████     | 55/108 [00:01<00:01, 29.33it/s]"
     ]
    },
    {
     "name": "stdout",
     "output_type": "stream",
     "text": [
      "Failed requesting All I Need\n",
      "Failed requesting I Always Knew\n",
      "Failed requesting Williamsburg\n",
      "Failed requesting Jack Worships Janey\n",
      "Failed requesting Intro-Cowboy Kid\n",
      "Failed requesting The Code of Cowboy Kid\n"
     ]
    },
    {
     "name": "stderr",
     "output_type": "stream",
     "text": [
      "Processing 5 Chinese Brothers_tracks.parquet:  58%|█████▊    | 63/108 [00:01<00:01, 29.19it/s]"
     ]
    },
    {
     "name": "stdout",
     "output_type": "stream",
     "text": [
      "Failed requesting The King is Dead\n",
      "Failed requesting If I Ain't Falling\n",
      "Failed requesting Les Choses Les Plus Simples\n",
      "Failed requesting Follow Me Down\n",
      "Failed requesting The Burden\n",
      "Failed requesting Intro-A folksinger\n",
      "Failed requesting A Folksinger Earns Every Dime\n",
      "Failed requesting What Could I Add to That?\n"
     ]
    },
    {
     "name": "stderr",
     "output_type": "stream",
     "text": [
      "Processing 5 Chinese Brothers_tracks.parquet:  66%|██████▌   | 71/108 [00:02<00:01, 28.86it/s]"
     ]
    },
    {
     "name": "stdout",
     "output_type": "stream",
     "text": [
      "Failed requesting Flexible Man\n",
      "Failed requesting Where the Bottles Break\n",
      "Failed requesting Disenchanted\n",
      "Failed requesting Mother's Child\n",
      "Failed requesting On Two Wheels in the Rain\n",
      "Failed requesting Watertowers\n"
     ]
    },
    {
     "name": "stderr",
     "output_type": "stream",
     "text": [
      "Processing 5 Chinese Brothers_tracks.parquet:  73%|███████▎  | 79/108 [00:02<00:00, 30.14it/s]"
     ]
    },
    {
     "name": "stdout",
     "output_type": "stream",
     "text": [
      "Failed requesting Future\n",
      "Failed requesting Baltimore\n",
      "Failed requesting Take Me to Juarez\n",
      "Failed requesting Wake Up!\n",
      "Failed requesting I'll Cry Tonight\n",
      "Failed requesting Your Hair\n",
      "Failed requesting Swimming to the Other Side\n"
     ]
    },
    {
     "name": "stderr",
     "output_type": "stream",
     "text": [
      "Processing 5 Chinese Brothers_tracks.parquet:  77%|███████▋  | 83/108 [00:02<00:00, 31.24it/s]"
     ]
    },
    {
     "name": "stdout",
     "output_type": "stream",
     "text": [
      "Failed requesting The TVA Waltz\n",
      "Failed requesting Sparrow's Point\n",
      "Failed requesting Rodeo Weddings and Rockabilly Lives\n",
      "Failed requesting Cool Conception\n",
      "Failed requesting Missing Keys\n",
      "Failed requesting The World of Tomorrow\n",
      "Failed requesting Teacher of the Game\n"
     ]
    },
    {
     "name": "stderr",
     "output_type": "stream",
     "text": [
      "Processing 5 Chinese Brothers_tracks.parquet:  84%|████████▍ | 91/108 [00:02<00:00, 32.91it/s]"
     ]
    },
    {
     "name": "stdout",
     "output_type": "stream",
     "text": [
      "Failed requesting The Phenomenology Sing-Along\n",
      "Failed requesting Fall in Montreal\n",
      "Failed requesting Momentary Lapse of Taste\n",
      "Failed requesting Tracey\n",
      "Failed requesting Ghost of a Girl\n",
      "Failed requesting Whiskey and Rain\n",
      "Failed requesting Drive All Night\n"
     ]
    },
    {
     "name": "stderr",
     "output_type": "stream",
     "text": [
      "Processing 5 Chinese Brothers_tracks.parquet:  92%|█████████▏| 99/108 [00:03<00:00, 33.18it/s]"
     ]
    },
    {
     "name": "stdout",
     "output_type": "stream",
     "text": [
      "Failed requesting Fishing Trip\n",
      "Failed requesting Memory of You\n",
      "Failed requesting I Always Knew\n",
      "Failed requesting Motel Room Dreams\n",
      "Failed requesting Dime Store Nickel\n",
      "Failed requesting Routine Day in Paradise\n",
      "Failed requesting Blue to White\n"
     ]
    },
    {
     "name": "stderr",
     "output_type": "stream",
     "text": [
      "Processing 5 Chinese Brothers_tracks.parquet:  95%|█████████▌| 103/108 [00:03<00:00, 33.06it/s]"
     ]
    },
    {
     "name": "stdout",
     "output_type": "stream",
     "text": [
      "Failed requesting The Huge Grey Blob\n",
      "Failed requesting On My Block\n",
      "Failed requesting All of Her Girlfriends are Brain Dead\n",
      "Failed requesting Temporary Road\n",
      "Failed requesting When the Country Moved to Town\n",
      "Failed requesting Blackbird\n",
      "Failed requesting Stephen Foster\n"
     ]
    },
    {
     "name": "stderr",
     "output_type": "stream",
     "text": [
      "Processing 5 Chinese Brothers_tracks.parquet: 100%|██████████| 108/108 [00:03<00:00, 32.27it/s]\n",
      "Processing 5 Seconds of Summer_tracks.parquet:   0%|          | 0/252 [00:00<?, ?it/s]"
     ]
    },
    {
     "name": "stdout",
     "output_type": "stream",
     "text": [
      "Failed requesting Irregular Heart\n",
      "Failed requesting COMPLETE MESS\n",
      "Failed requesting Easy For You To Say\n",
      "Failed requesting Bad Omens\n"
     ]
    },
    {
     "name": "stderr",
     "output_type": "stream",
     "text": [
      "Processing 5 Seconds of Summer_tracks.parquet:   2%|▏         | 4/252 [00:01<01:08,  3.60it/s]"
     ]
    },
    {
     "name": "stdout",
     "output_type": "stream",
     "text": [
      "Failed requesting Take My Hand - Joshua Tree Version\n",
      "Failed requesting CAROUSEL\n",
      "Failed requesting Older (feat. Sierra Deaton)\n"
     ]
    },
    {
     "name": "stderr",
     "output_type": "stream",
     "text": [
      "Processing 5 Seconds of Summer_tracks.parquet:   3%|▎         | 8/252 [00:02<01:07,  3.60it/s]"
     ]
    },
    {
     "name": "stdout",
     "output_type": "stream",
     "text": [
      "Failed requesting You Don't Go To Parties\n"
     ]
    },
    {
     "name": "stderr",
     "output_type": "stream",
     "text": [
      "Processing 5 Seconds of Summer_tracks.parquet:   4%|▍         | 10/252 [00:03<01:25,  2.83it/s]"
     ]
    },
    {
     "name": "stdout",
     "output_type": "stream",
     "text": [
      "Failed requesting Caramel\n",
      "Failed requesting Best Friends\n",
      "Failed requesting Bleach\n"
     ]
    },
    {
     "name": "stderr",
     "output_type": "stream",
     "text": [
      "Processing 5 Seconds of Summer_tracks.parquet:   8%|▊         | 19/252 [00:04<00:43,  5.39it/s]"
     ]
    },
    {
     "name": "stdout",
     "output_type": "stream",
     "text": [
      "Failed requesting Moodswings\n",
      "Failed requesting Flatline\n",
      "Failed requesting Emotions\n",
      "Failed requesting Bloodhound\n",
      "Failed requesting TEARS!\n"
     ]
    },
    {
     "name": "stderr",
     "output_type": "stream",
     "text": [
      "Processing 5 Seconds of Summer_tracks.parquet:  10%|█         | 26/252 [00:05<00:35,  6.36it/s]"
     ]
    },
    {
     "name": "stdout",
     "output_type": "stream",
     "text": [
      "Failed requesting No Shame\n",
      "Failed requesting Old Me\n",
      "Failed requesting Easier\n",
      "Failed requesting Teeth\n",
      "Failed requesting Wildflower\n",
      "Failed requesting Best Years\n",
      "Failed requesting Not In The Same Way\n",
      "Failed requesting Lover Of Mine\n"
     ]
    },
    {
     "name": "stderr",
     "output_type": "stream",
     "text": [
      "Processing 5 Seconds of Summer_tracks.parquet:  12%|█▏        | 29/252 [00:06<00:47,  4.73it/s]"
     ]
    },
    {
     "name": "stdout",
     "output_type": "stream",
     "text": [
      "Failed requesting Lonely Heart\n",
      "Failed requesting High\n",
      "Failed requesting Kill My Time\n"
     ]
    },
    {
     "name": "stderr",
     "output_type": "stream",
     "text": [
      "Processing 5 Seconds of Summer_tracks.parquet:  14%|█▍        | 35/252 [00:08<01:03,  3.44it/s]"
     ]
    },
    {
     "name": "stdout",
     "output_type": "stream",
     "text": [
      "Failed requesting fuck, i'm lonely (with Anne-Marie)\n",
      "Failed requesting Severed\n",
      "Failed requesting Swim Home\n",
      "Failed requesting Another Summer Night Without You\n",
      "Failed requesting Miss U\n"
     ]
    },
    {
     "name": "stderr",
     "output_type": "stream",
     "text": [
      "Processing 5 Seconds of Summer_tracks.parquet:  18%|█▊        | 45/252 [00:11<00:46,  4.43it/s]"
     ]
    },
    {
     "name": "stdout",
     "output_type": "stream",
     "text": [
      "Failed requesting Young Forever\n",
      "Failed requesting All That (feat. Jeremih)\n",
      "Failed requesting This Baby Don’t Cry\n",
      "Failed requesting Walk Forever By My Side\n",
      "Failed requesting SLAVES OF FEAR\n",
      "Failed requesting All Your Life\n"
     ]
    },
    {
     "name": "stderr",
     "output_type": "stream",
     "text": [
      "Processing 5 Seconds of Summer_tracks.parquet:  20%|█▉        | 50/252 [00:14<01:26,  2.33it/s]"
     ]
    },
    {
     "name": "stdout",
     "output_type": "stream",
     "text": [
      "Failed requesting Intro - Live\n"
     ]
    },
    {
     "name": "stderr",
     "output_type": "stream",
     "text": [
      "Processing 5 Seconds of Summer_tracks.parquet:  22%|██▏       | 56/252 [00:19<02:32,  1.29it/s]"
     ]
    },
    {
     "name": "stdout",
     "output_type": "stream",
     "text": [
      "Failed requesting More - Live\n"
     ]
    },
    {
     "name": "stderr",
     "output_type": "stream",
     "text": [
      "Processing 5 Seconds of Summer_tracks.parquet:  23%|██▎       | 59/252 [00:21<02:26,  1.32it/s]"
     ]
    },
    {
     "name": "stdout",
     "output_type": "stream",
     "text": [
      "Failed requesting Ghost Of You - Live\n",
      "Failed requesting Amnesia - Live\n",
      "Failed requesting The Only Reason - Live\n",
      "Failed requesting Lie To Me - Live\n"
     ]
    },
    {
     "name": "stderr",
     "output_type": "stream",
     "text": [
      "Processing 5 Seconds of Summer_tracks.parquet:  26%|██▌       | 66/252 [00:24<01:54,  1.63it/s]"
     ]
    },
    {
     "name": "stdout",
     "output_type": "stream",
     "text": [
      "Failed requesting Jet Black Heart - Live\n"
     ]
    },
    {
     "name": "stderr",
     "output_type": "stream",
     "text": [
      "Processing 5 Seconds of Summer_tracks.parquet:  29%|██▉       | 73/252 [00:31<02:44,  1.09it/s]"
     ]
    },
    {
     "name": "stdout",
     "output_type": "stream",
     "text": [
      "Failed requesting Valentine\n"
     ]
    },
    {
     "name": "stderr",
     "output_type": "stream",
     "text": [
      "Processing 5 Seconds of Summer_tracks.parquet:  31%|███▏      | 79/252 [00:32<01:00,  2.85it/s]"
     ]
    },
    {
     "name": "stdout",
     "output_type": "stream",
     "text": [
      "Failed requesting Moving Along\n",
      "Failed requesting If Walls Could Talk\n",
      "Failed requesting Better Man\n",
      "Failed requesting More\n",
      "Failed requesting Why Won’t You Love Me\n"
     ]
    },
    {
     "name": "stderr",
     "output_type": "stream",
     "text": [
      "Processing 5 Seconds of Summer_tracks.parquet:  32%|███▏      | 81/252 [00:33<01:08,  2.49it/s]"
     ]
    },
    {
     "name": "stdout",
     "output_type": "stream",
     "text": [
      "Failed requesting Empty Wallets\n"
     ]
    },
    {
     "name": "stderr",
     "output_type": "stream",
     "text": [
      "Processing 5 Seconds of Summer_tracks.parquet:  33%|███▎      | 83/252 [00:34<01:13,  2.28it/s]"
     ]
    },
    {
     "name": "stdout",
     "output_type": "stream",
     "text": [
      "Failed requesting Monster Among Men\n",
      "Failed requesting Meet You There\n",
      "Failed requesting Babylon\n"
     ]
    },
    {
     "name": "stderr",
     "output_type": "stream",
     "text": [
      "Processing 5 Seconds of Summer_tracks.parquet: 100%|██████████| 252/252 [03:26<00:00,  1.22it/s]\n",
      "Processing 5 Young Men_tracks.parquet:  35%|███▌      | 6/17 [00:02<00:02,  3.84it/s]"
     ]
    },
    {
     "name": "stdout",
     "output_type": "stream",
     "text": [
      "Failed requesting One Chance\n",
      "Failed requesting Forgive Me Girl\n",
      "Failed requesting Hustlers 4 Life (Interlude)\n",
      "Failed requesting Everyday Hustler (feat. Raekwon)\n",
      "Failed requesting Come Home with Me\n"
     ]
    },
    {
     "name": "stderr",
     "output_type": "stream",
     "text": [
      "Processing 5 Young Men_tracks.parquet:  71%|███████   | 12/17 [00:03<00:00,  5.20it/s]"
     ]
    },
    {
     "name": "stdout",
     "output_type": "stream",
     "text": [
      "Failed requesting A Woman's Got to Have It\n",
      "Failed requesting Thinking of You\n",
      "Failed requesting The Testimony (Interlude)\n",
      "Failed requesting Rain (feat. 5 Young Men)\n",
      "Failed requesting Lady Sunshine\n"
     ]
    },
    {
     "name": "stderr",
     "output_type": "stream",
     "text": [
      "Processing 5 Young Men_tracks.parquet: 100%|██████████| 17/17 [00:05<00:00,  3.07it/s]\n",
      "Processing 50 Cent_tracks.parquet:   0%|          | 0/149 [00:00<?, ?it/s]"
     ]
    },
    {
     "name": "stdout",
     "output_type": "stream",
     "text": [
      "Failed requesting Outro\n",
      "Failed requesting You're a Big Girl Now\n"
     ]
    },
    {
     "name": "stderr",
     "output_type": "stream",
     "text": [
      "Processing 50 Cent_tracks.parquet:   1%|          | 1/149 [00:01<02:33,  1.04s/it]"
     ]
    },
    {
     "name": "stdout",
     "output_type": "stream",
     "text": [
      "Failed requesting Kill A Nigga Skit\n"
     ]
    },
    {
     "name": "stderr",
     "output_type": "stream",
     "text": [
      "Processing 50 Cent_tracks.parquet:   3%|▎         | 4/149 [00:03<01:55,  1.26it/s]"
     ]
    },
    {
     "name": "stdout",
     "output_type": "stream",
     "text": [
      "Failed requesting Emotional\n",
      "Failed requesting No More Games\n"
     ]
    },
    {
     "name": "stderr",
     "output_type": "stream",
     "text": [
      "Processing 50 Cent_tracks.parquet:   5%|▌         | 8/149 [00:05<01:31,  1.54it/s]"
     ]
    },
    {
     "name": "stdout",
     "output_type": "stream",
     "text": [
      "Failed requesting Check Cleared\n",
      "Failed requesting GOD Pt. 3\n"
     ]
    },
    {
     "name": "stderr",
     "output_type": "stream",
     "text": [
      "Processing 50 Cent_tracks.parquet:   9%|▉         | 14/149 [00:09<01:44,  1.29it/s]"
     ]
    },
    {
     "name": "stdout",
     "output_type": "stream",
     "text": [
      "Failed requesting Ho's Ho's\n"
     ]
    },
    {
     "name": "stderr",
     "output_type": "stream",
     "text": [
      "Processing 50 Cent_tracks.parquet:  11%|█         | 16/149 [00:10<01:30,  1.47it/s]"
     ]
    },
    {
     "name": "stdout",
     "output_type": "stream",
     "text": [
      "Failed requesting Gon Pay Me\n"
     ]
    },
    {
     "name": "stderr",
     "output_type": "stream",
     "text": [
      "Processing 50 Cent_tracks.parquet:  13%|█▎        | 20/149 [00:13<01:41,  1.27it/s]"
     ]
    },
    {
     "name": "stdout",
     "output_type": "stream",
     "text": [
      "Failed requesting Hold On\n"
     ]
    },
    {
     "name": "stderr",
     "output_type": "stream",
     "text": [
      "Processing 50 Cent_tracks.parquet:  23%|██▎       | 35/149 [00:28<01:57,  1.03s/it]"
     ]
    },
    {
     "name": "stdout",
     "output_type": "stream",
     "text": [
      "Failed requesting Psycho\n"
     ]
    },
    {
     "name": "stderr",
     "output_type": "stream",
     "text": [
      "Processing 50 Cent_tracks.parquet:  36%|███▌      | 54/149 [00:46<01:38,  1.04s/it]"
     ]
    },
    {
     "name": "stdout",
     "output_type": "stream",
     "text": [
      "Failed requesting Why They Look Like That\n"
     ]
    },
    {
     "name": "stderr",
     "output_type": "stream",
     "text": [
      "Processing 50 Cent_tracks.parquet:  41%|████      | 61/149 [00:53<01:27,  1.01it/s]"
     ]
    },
    {
     "name": "stdout",
     "output_type": "stream",
     "text": [
      "Failed requesting G-Unit Radio\n"
     ]
    },
    {
     "name": "stderr",
     "output_type": "stream",
     "text": [
      "Processing 50 Cent_tracks.parquet:  50%|█████     | 75/149 [01:06<01:17,  1.05s/it]"
     ]
    },
    {
     "name": "stdout",
     "output_type": "stream",
     "text": [
      "Failed requesting Peep Show\n"
     ]
    },
    {
     "name": "stderr",
     "output_type": "stream",
     "text": [
      "Processing 50 Cent_tracks.parquet:  61%|██████    | 91/149 [01:22<01:00,  1.04s/it]"
     ]
    },
    {
     "name": "stdout",
     "output_type": "stream",
     "text": [
      "Failed requesting Patiently Waiting - Album Version (Edited)\n"
     ]
    },
    {
     "name": "stderr",
     "output_type": "stream",
     "text": [
      "Processing 50 Cent_tracks.parquet:  72%|███████▏  | 108/149 [01:39<00:42,  1.04s/it]"
     ]
    },
    {
     "name": "stdout",
     "output_type": "stream",
     "text": [
      "Failed requesting In Da Hood - Single Version (Edit)\n"
     ]
    },
    {
     "name": "stderr",
     "output_type": "stream",
     "text": [
      "Processing 50 Cent_tracks.parquet:  77%|███████▋  | 114/149 [01:44<00:33,  1.03it/s]"
     ]
    },
    {
     "name": "stdout",
     "output_type": "stream",
     "text": [
      "Failed requesting GATman And Robbin\n"
     ]
    },
    {
     "name": "stderr",
     "output_type": "stream",
     "text": [
      "Processing 50 Cent_tracks.parquet:  88%|████████▊ | 131/149 [02:01<00:18,  1.04s/it]"
     ]
    },
    {
     "name": "stdout",
     "output_type": "stream",
     "text": [
      "Failed requesting Patiently Waiting\n"
     ]
    },
    {
     "name": "stderr",
     "output_type": "stream",
     "text": [
      "Processing 50 Cent_tracks.parquet: 100%|██████████| 149/149 [02:18<00:00,  1.07it/s]\n",
      "Processing 50 Foot Wave_tracks.parquet:   4%|▍         | 4/89 [00:00<00:02, 35.03it/s]"
     ]
    },
    {
     "name": "stdout",
     "output_type": "stream",
     "text": [
      "Failed requesting Staring into the Sun\n",
      "Failed requesting Hog Child\n",
      "Failed requesting Fly Down South\n",
      "Failed requesting Black Pearl\n",
      "Failed requesting Broken Sugar\n",
      "Failed requesting Blush\n",
      "Failed requesting Double Barrel\n",
      "Failed requesting Medicine Rush\n"
     ]
    },
    {
     "name": "stderr",
     "output_type": "stream",
     "text": [
      "Processing 50 Foot Wave_tracks.parquet:  13%|█▎        | 12/89 [00:00<00:02, 34.05it/s]"
     ]
    },
    {
     "name": "stdout",
     "output_type": "stream",
     "text": [
      "Failed requesting Honeysuckle\n",
      "Failed requesting Power + Light\n",
      "Failed requesting Skeleton Key\n",
      "Failed requesting Broke\n",
      "Failed requesting Wax\n",
      "Failed requesting Sun Dog Coma\n"
     ]
    },
    {
     "name": "stderr",
     "output_type": "stream",
     "text": [
      "Processing 50 Foot Wave_tracks.parquet:  53%|█████▎    | 47/89 [00:30<00:16,  2.48it/s]"
     ]
    },
    {
     "name": "stdout",
     "output_type": "stream",
     "text": [
      "Failed requesting In The Air - Live In Seattle\n",
      "Failed requesting El Dorado - Live In Seattle\n",
      "Failed requesting Hog Child\n",
      "Failed requesting Staring into the Sun\n",
      "Failed requesting Staring into the Sun\n",
      "Failed requesting Bath White\n"
     ]
    },
    {
     "name": "stderr",
     "output_type": "stream",
     "text": [
      "Processing 50 Foot Wave_tracks.parquet:  61%|██████    | 54/89 [00:30<00:05,  6.41it/s]"
     ]
    },
    {
     "name": "stdout",
     "output_type": "stream",
     "text": [
      "Failed requesting God's Not a Dick\n",
      "Failed requesting Human\n",
      "Failed requesting Ratted Out\n",
      "Failed requesting St. Christopher\n",
      "Failed requesting Sun Salute\n",
      "Failed requesting Hot Pink, Distorted\n"
     ]
    },
    {
     "name": "stderr",
     "output_type": "stream",
     "text": [
      "Processing 50 Foot Wave_tracks.parquet: 100%|██████████| 89/89 [01:06<00:00,  1.34it/s]\n",
      "Processing 54-40_tracks.parquet:   2%|▏         | 6/244 [00:02<01:02,  3.81it/s]"
     ]
    },
    {
     "name": "stdout",
     "output_type": "stream",
     "text": [
      "Failed requesting Sublime Like Me\n",
      "Failed requesting Sublime Like Me\n",
      "Failed requesting Keep on Walking\n",
      "Failed requesting Keep on Walking\n",
      "Failed requesting Dream We Spoke Of\n",
      "Failed requesting Dream We Spoke Of\n",
      "Failed requesting Hold My Kiss\n",
      "Failed requesting Hold My Kiss\n"
     ]
    },
    {
     "name": "stderr",
     "output_type": "stream",
     "text": [
      "Processing 54-40_tracks.parquet:   6%|▌         | 14/244 [00:02<00:21, 10.86it/s]"
     ]
    },
    {
     "name": "stdout",
     "output_type": "stream",
     "text": [
      "Failed requesting How's Your Day Going\n",
      "Failed requesting How's Your Day Going\n",
      "Failed requesting Can't Hide My Love\n",
      "Failed requesting Can't Hide My Love\n",
      "Failed requesting Sucker for Your Love\n",
      "Failed requesting Sucker for Your Love\n",
      "Failed requesting She Calls Us One\n"
     ]
    },
    {
     "name": "stderr",
     "output_type": "stream",
     "text": [
      "Processing 54-40_tracks.parquet:   9%|▉         | 22/244 [00:02<00:11, 18.61it/s]"
     ]
    },
    {
     "name": "stdout",
     "output_type": "stream",
     "text": [
      "Failed requesting She Calls Us One\n",
      "Failed requesting Sometimes It's Not OK\n",
      "Failed requesting Sometimes It's Not OK\n",
      "Failed requesting Life Goes On\n",
      "Failed requesting Life Goes On\n"
     ]
    },
    {
     "name": "stderr",
     "output_type": "stream",
     "text": [
      "Processing 54-40_tracks.parquet:  11%|█         | 26/244 [00:04<00:47,  4.60it/s]"
     ]
    },
    {
     "name": "stdout",
     "output_type": "stream",
     "text": [
      "Failed requesting Sublime Like Me\n",
      "Failed requesting Sublime Like Me\n",
      "Failed requesting Keep on Walking\n",
      "Failed requesting Keep on Walking\n",
      "Failed requesting Dream We Spoke Of\n"
     ]
    },
    {
     "name": "stderr",
     "output_type": "stream",
     "text": [
      "Processing 54-40_tracks.parquet:  14%|█▎        | 33/244 [00:05<00:25,  8.12it/s]"
     ]
    },
    {
     "name": "stdout",
     "output_type": "stream",
     "text": [
      "Failed requesting Dream We Spoke Of\n",
      "Failed requesting Hold My Kiss\n",
      "Failed requesting Hold My Kiss\n",
      "Failed requesting How's Your Day Going\n",
      "Failed requesting How's Your Day Going\n",
      "Failed requesting Can't Hide My Love\n",
      "Failed requesting Can't Hide My Love\n",
      "Failed requesting Sucker for Your Love\n"
     ]
    },
    {
     "name": "stderr",
     "output_type": "stream",
     "text": [
      "Processing 54-40_tracks.parquet:  17%|█▋        | 41/244 [00:05<00:14, 13.94it/s]"
     ]
    },
    {
     "name": "stdout",
     "output_type": "stream",
     "text": [
      "Failed requesting Sucker for Your Love\n",
      "Failed requesting She Calls Us One\n",
      "Failed requesting She Calls Us One\n",
      "Failed requesting Sometimes It's Not OK\n",
      "Failed requesting Sometimes It's Not OK\n"
     ]
    },
    {
     "name": "stderr",
     "output_type": "stream",
     "text": [
      "Processing 54-40_tracks.parquet:  20%|██        | 49/244 [00:05<00:10, 18.89it/s]"
     ]
    },
    {
     "name": "stdout",
     "output_type": "stream",
     "text": [
      "Failed requesting Life Goes On\n",
      "Failed requesting Life Goes On\n",
      "Failed requesting Ocean Pearl\n",
      "Failed requesting She La\n",
      "Failed requesting Since When\n",
      "Failed requesting One Day In Your Life\n",
      "Failed requesting Baby Ran\n",
      "Failed requesting I Go Blind\n"
     ]
    },
    {
     "name": "stderr",
     "output_type": "stream",
     "text": [
      "Processing 54-40_tracks.parquet:  23%|██▎       | 57/244 [00:05<00:07, 24.38it/s]"
     ]
    },
    {
     "name": "stdout",
     "output_type": "stream",
     "text": [
      "Failed requesting One Gun\n",
      "Failed requesting Crossing A Canyon\n",
      "Failed requesting Casual Viewin'\n",
      "Failed requesting Lies To Me\n",
      "Failed requesting Let Me Be Your Wheel\n",
      "Failed requesting Lost In The City\n",
      "Failed requesting Feast of Ida\n"
     ]
    },
    {
     "name": "stderr",
     "output_type": "stream",
     "text": [
      "Processing 54-40_tracks.parquet:  25%|██▌       | 61/244 [00:05<00:07, 24.50it/s]"
     ]
    },
    {
     "name": "stdout",
     "output_type": "stream",
     "text": [
      "Failed requesting Long Distance Moan\n",
      "Failed requesting Little By Little\n",
      "Failed requesting Worry No More\n",
      "Failed requesting Love Machine\n",
      "Failed requesting Good Man Feeling Bad\n",
      "Failed requesting This Is The Way The World Ends\n",
      "Failed requesting The Chant\n",
      "Failed requesting Snap\n"
     ]
    },
    {
     "name": "stderr",
     "output_type": "stream",
     "text": [
      "Processing 54-40_tracks.parquet:  28%|██▊       | 69/244 [00:06<00:06, 28.50it/s]"
     ]
    },
    {
     "name": "stdout",
     "output_type": "stream",
     "text": [
      "Failed requesting The Scare Of Meaning Less\n",
      "Failed requesting Northern Soul\n",
      "Failed requesting Where Did The Money Go\n",
      "Failed requesting One Hundred Songs\n",
      "Failed requesting Shade Grows\n",
      "Failed requesting Moonbeach\n",
      "Failed requesting The Wind Down\n"
     ]
    },
    {
     "name": "stderr",
     "output_type": "stream",
     "text": [
      "Processing 54-40_tracks.parquet:  32%|███▏      | 77/244 [00:06<00:05, 30.94it/s]"
     ]
    },
    {
     "name": "stdout",
     "output_type": "stream",
     "text": [
      "Failed requesting To Face Your Eyes\n",
      "Failed requesting Lucky\n",
      "Failed requesting Easy To Love\n",
      "Failed requesting Can't Get Enough\n",
      "Failed requesting Golden Sun\n",
      "Failed requesting Stopline\n",
      "Failed requesting This Is Here This Is Now\n",
      "Failed requesting All About Love\n"
     ]
    },
    {
     "name": "stderr",
     "output_type": "stream",
     "text": [
      "Processing 54-40_tracks.parquet:  35%|███▍      | 85/244 [00:06<00:04, 31.88it/s]"
     ]
    },
    {
     "name": "stdout",
     "output_type": "stream",
     "text": [
      "Failed requesting Blue Plate Special\n",
      "Failed requesting Beautiful Self\n",
      "Failed requesting Calling You Out\n",
      "Failed requesting Another Kiss\n",
      "Failed requesting On The Road Home\n",
      "Failed requesting Ride\n",
      "Failed requesting Animal In Pain\n"
     ]
    },
    {
     "name": "stderr",
     "output_type": "stream",
     "text": [
      "Processing 54-40_tracks.parquet:  38%|███▊      | 93/244 [00:06<00:04, 32.75it/s]"
     ]
    },
    {
     "name": "stdout",
     "output_type": "stream",
     "text": [
      "Failed requesting Take Me Out\n",
      "Failed requesting Hope To Hell I Haven't Died\n",
      "Failed requesting Not Enough To Make you Happy\n",
      "Failed requesting Who Is Sylvia\n",
      "Failed requesting Broken Girl\n",
      "Failed requesting Goodbye Flatland\n",
      "Failed requesting Secret\n",
      "Failed requesting Giants\n"
     ]
    },
    {
     "name": "stderr",
     "output_type": "stream",
     "text": [
      "Processing 54-40_tracks.parquet:  41%|████▏     | 101/244 [00:07<00:04, 31.02it/s]"
     ]
    },
    {
     "name": "stdout",
     "output_type": "stream",
     "text": [
      "Failed requesting Seventeen On\n",
      "Failed requesting Wish I Knew\n",
      "Failed requesting Casual Viewin'\n",
      "Failed requesting Unbend\n",
      "Failed requesting Blue Sky\n",
      "Failed requesting Sunday Girl\n",
      "Failed requesting Roll Up Rule\n"
     ]
    },
    {
     "name": "stderr",
     "output_type": "stream",
     "text": [
      "Processing 54-40_tracks.parquet:  45%|████▍     | 109/244 [00:07<00:04, 32.98it/s]"
     ]
    },
    {
     "name": "stdout",
     "output_type": "stream",
     "text": [
      "Failed requesting She's A Jones\n",
      "Failed requesting It's Alright\n",
      "Failed requesting Watching You\n",
      "Failed requesting Say My Name\n",
      "Failed requesting Speak What You Feel\n",
      "Failed requesting Someone's Mind\n",
      "Failed requesting You The One\n",
      "Failed requesting Big You Up\n"
     ]
    },
    {
     "name": "stderr",
     "output_type": "stream",
     "text": [
      "Processing 54-40_tracks.parquet:  48%|████▊     | 117/244 [00:07<00:03, 34.07it/s]"
     ]
    },
    {
     "name": "stdout",
     "output_type": "stream",
     "text": [
      "Failed requesting Castles\n",
      "Failed requesting She-La\n",
      "Failed requesting Ocean Pearl\n",
      "Failed requesting Nice To Luv You - Live\n",
      "Failed requesting Lies To Me\n",
      "Failed requesting Since When - Live\n",
      "Failed requesting Assoholic\n",
      "Failed requesting Baby Ran\n"
     ]
    },
    {
     "name": "stderr",
     "output_type": "stream",
     "text": [
      "Processing 54-40_tracks.parquet:  51%|█████     | 125/244 [00:07<00:03, 36.11it/s]"
     ]
    },
    {
     "name": "stdout",
     "output_type": "stream",
     "text": [
      "Failed requesting Music Man\n",
      "Failed requesting Love You All\n",
      "Failed requesting One Gun\n",
      "Failed requesting One Day In Your Life\n",
      "Failed requesting Miss You\n",
      "Failed requesting Radio Luv Song\n",
      "Failed requesting I Go Blind - Live\n",
      "Failed requesting Crossing A Canyon\n",
      "Failed requesting I Could Give You More\n"
     ]
    },
    {
     "name": "stderr",
     "output_type": "stream",
     "text": [
      "Processing 54-40_tracks.parquet:  55%|█████▍    | 133/244 [00:08<00:03, 36.60it/s]"
     ]
    },
    {
     "name": "stdout",
     "output_type": "stream",
     "text": [
      "Failed requesting Laughing\n",
      "Failed requesting She-La\n",
      "Failed requesting Ocean Pearl\n",
      "Failed requesting In Your Image\n",
      "Failed requesting Lost and Lazy\n",
      "Failed requesting Since When\n",
      "Failed requesting I Could Give You More\n",
      "Failed requesting You Should Come Over\n"
     ]
    },
    {
     "name": "stderr",
     "output_type": "stream",
     "text": [
      "Processing 54-40_tracks.parquet:  58%|█████▊    | 141/244 [00:08<00:02, 36.20it/s]"
     ]
    },
    {
     "name": "stdout",
     "output_type": "stream",
     "text": [
      "Failed requesting Runaway John\n",
      "Failed requesting Pay for Living\n",
      "Failed requesting Angel in my Bed\n",
      "Failed requesting Playground\n",
      "Failed requesting Greatest Mistake\n",
      "Failed requesting Stormy\n",
      "Failed requesting Last People on Earth\n",
      "Failed requesting Set the Fire\n"
     ]
    },
    {
     "name": "stderr",
     "output_type": "stream",
     "text": [
      "Processing 54-40_tracks.parquet:  61%|██████    | 149/244 [00:08<00:02, 31.82it/s]"
     ]
    },
    {
     "name": "stdout",
     "output_type": "stream",
     "text": [
      "Failed requesting A Big Idea\n",
      "Failed requesting What to Do Now\n",
      "Failed requesting Sound of Truth\n",
      "Failed requesting Around the Bend\n",
      "Failed requesting One Place Set\n",
      "Failed requesting Cha Cha\n",
      "Failed requesting Lost My Mind\n"
     ]
    },
    {
     "name": "stderr",
     "output_type": "stream",
     "text": [
      "Processing 54-40_tracks.parquet:  64%|██████▍   | 157/244 [00:08<00:02, 33.01it/s]"
     ]
    },
    {
     "name": "stdout",
     "output_type": "stream",
     "text": [
      "Failed requesting Broken Pieces\n",
      "Failed requesting Yank\n",
      "Failed requesting He's Got\n",
      "Failed requesting Vows Sobs Tears & Kisses\n",
      "Failed requesting Selection\n",
      "Failed requesting Re-in Living\n",
      "Failed requesting Lawrence - Jamming With\n"
     ]
    },
    {
     "name": "stderr",
     "output_type": "stream",
     "text": [
      "Processing 54-40_tracks.parquet:  66%|██████▌   | 161/244 [00:08<00:02, 32.36it/s]"
     ]
    },
    {
     "name": "stdout",
     "output_type": "stream",
     "text": [
      "Failed requesting Set the Fire\n",
      "Failed requesting A Big Idea\n",
      "Failed requesting What to Do Now\n",
      "Failed requesting Sound of Truth\n",
      "Failed requesting Around the Bend\n",
      "Failed requesting One Place Set\n",
      "Failed requesting Cha Cha\n"
     ]
    },
    {
     "name": "stderr",
     "output_type": "stream",
     "text": [
      "Processing 54-40_tracks.parquet:  69%|██████▉   | 169/244 [00:09<00:02, 31.50it/s]"
     ]
    },
    {
     "name": "stdout",
     "output_type": "stream",
     "text": [
      "Failed requesting Lost My Hand\n",
      "Failed requesting Broken Pieces\n",
      "Failed requesting Yank\n",
      "Failed requesting He's Got\n",
      "Failed requesting Vows Sobs Tears & Kisses\n",
      "Failed requesting Selection\n",
      "Failed requesting Re-in-Living\n"
     ]
    },
    {
     "name": "stderr",
     "output_type": "stream",
     "text": [
      "Processing 54-40_tracks.parquet:  73%|███████▎  | 177/244 [00:09<00:02, 28.03it/s]"
     ]
    },
    {
     "name": "stdout",
     "output_type": "stream",
     "text": [
      "Failed requesting Jamming With Lawrence\n",
      "Failed requesting Cheer Up Peru\n",
      "Failed requesting Stick To Milly\n",
      "Failed requesting Love You All\n",
      "Failed requesting Crossing a Canyon\n",
      "Failed requesting Hooked On Bliss\n"
     ]
    },
    {
     "name": "stderr",
     "output_type": "stream",
     "text": [
      "Processing 54-40_tracks.parquet:  74%|███████▍  | 181/244 [00:09<00:02, 29.34it/s]"
     ]
    },
    {
     "name": "stdout",
     "output_type": "stream",
     "text": [
      "Failed requesting Couldn't Be Sorry\n",
      "Failed requesting This Is My Haircut\n",
      "Failed requesting Desperately Seeking Anyone\n",
      "Failed requesting Frankl's Revenge\n",
      "Failed requesting I Love Candy\n",
      "Failed requesting Cry A Little\n",
      "Failed requesting Lies To Me\n",
      "Failed requesting Blame Your Parents\n"
     ]
    },
    {
     "name": "stderr",
     "output_type": "stream",
     "text": [
      "Processing 54-40_tracks.parquet:  77%|███████▋  | 189/244 [00:09<00:01, 33.48it/s]"
     ]
    },
    {
     "name": "stdout",
     "output_type": "stream",
     "text": [
      "Failed requesting Radio Luv Song\n",
      "Failed requesting Assoholic\n",
      "Failed requesting Daisy\n",
      "Failed requesting Once a Killer\n",
      "Failed requesting Punk Grass\n",
      "Failed requesting Lucy\n",
      "Failed requesting Beyond the Outsider\n"
     ]
    },
    {
     "name": "stderr",
     "output_type": "stream",
     "text": [
      "Processing 54-40_tracks.parquet:  81%|████████  | 197/244 [00:10<00:01, 33.60it/s]"
     ]
    },
    {
     "name": "stdout",
     "output_type": "stream",
     "text": [
      "Failed requesting Don't Listen to That\n",
      "Failed requesting Ocean Pearl\n",
      "Failed requesting Higher\n",
      "Failed requesting Friends End\n",
      "Failed requesting What Buddy Was\n",
      "Failed requesting Save Yourself\n",
      "Failed requesting She-La\n"
     ]
    },
    {
     "name": "stderr",
     "output_type": "stream",
     "text": [
      "Processing 54-40_tracks.parquet:  84%|████████▍ | 205/244 [00:10<00:01, 33.58it/s]"
     ]
    },
    {
     "name": "stdout",
     "output_type": "stream",
     "text": [
      "Failed requesting Music Man\n",
      "Failed requesting Nice To Luv You\n",
      "Failed requesting Lovers & Losers\n",
      "Failed requesting We Are We Pretend\n",
      "Failed requesting Apollo & Me\n",
      "Failed requesting Faithful\n",
      "Failed requesting Inside The Horn\n"
     ]
    },
    {
     "name": "stderr",
     "output_type": "stream",
     "text": [
      "Processing 54-40_tracks.parquet:  87%|████████▋ | 213/244 [00:10<00:00, 33.42it/s]"
     ]
    },
    {
     "name": "stdout",
     "output_type": "stream",
     "text": [
      "Failed requesting You Don't Get Away (That Easy)\n",
      "Failed requesting Book\n",
      "Failed requesting Dear Dear\n",
      "Failed requesting Music Loop - Untitled\n",
      "Failed requesting Social Work\n",
      "Failed requesting Here in My House\n",
      "Failed requesting Kissfolk\n"
     ]
    },
    {
     "name": "stderr",
     "output_type": "stream",
     "text": [
      "Processing 54-40_tracks.parquet:  89%|████████▉ | 217/244 [00:10<00:00, 33.90it/s]"
     ]
    },
    {
     "name": "stdout",
     "output_type": "stream",
     "text": [
      "Failed requesting Over My Head\n",
      "Failed requesting Miss You\n",
      "Failed requesting Baby Have Some Faith\n",
      "Failed requesting Fight for Love\n",
      "Failed requesting Laughing\n",
      "Failed requesting Walk Talk Madly\n",
      "Failed requesting Where Is My Heart\n",
      "Failed requesting Journey\n"
     ]
    },
    {
     "name": "stderr",
     "output_type": "stream",
     "text": [
      "Processing 54-40_tracks.parquet:  94%|█████████▍| 229/244 [00:11<00:00, 35.00it/s]"
     ]
    },
    {
     "name": "stdout",
     "output_type": "stream",
     "text": [
      "Failed requesting One Day in Your Life\n",
      "Failed requesting Get Back Down\n",
      "Failed requesting Walk in Line\n",
      "Failed requesting Standing in the Way\n",
      "Failed requesting Everyday\n",
      "Failed requesting What's in a Name\n",
      "Failed requesting One Gun\n",
      "Failed requesting Come Here\n"
     ]
    },
    {
     "name": "stderr",
     "output_type": "stream",
     "text": [
      "Processing 54-40_tracks.parquet:  95%|█████████▌| 233/244 [00:11<00:00, 36.18it/s]"
     ]
    },
    {
     "name": "stdout",
     "output_type": "stream",
     "text": [
      "Failed requesting Because of You\n",
      "Failed requesting Open Fire\n",
      "Failed requesting All the Love Is Gone\n",
      "Failed requesting Show Me\n",
      "Failed requesting Baby Ran\n",
      "Failed requesting I Wanna Know\n",
      "Failed requesting I Go Blind\n",
      "Failed requesting Being Fooled\n"
     ]
    },
    {
     "name": "stderr",
     "output_type": "stream",
     "text": [
      "Processing 54-40_tracks.parquet: 100%|██████████| 244/244 [00:11<00:00, 21.33it/s]\n"
     ]
    },
    {
     "name": "stdout",
     "output_type": "stream",
     "text": [
      "Failed requesting Take My Hand\n",
      "Failed requesting Grace and Beauty\n",
      "Failed requesting Me Island\n",
      "Failed requesting Holy Cow\n",
      "Failed requesting Alcohol Heart\n",
      "Failed requesting 54.40\n",
      "Failed requesting Embassy Supreme\n"
     ]
    },
    {
     "name": "stderr",
     "output_type": "stream",
     "text": [
      "Processing 5ive Style_tracks.parquet:  18%|█▊        | 4/22 [00:00<00:00, 36.53it/s]"
     ]
    },
    {
     "name": "stdout",
     "output_type": "stream",
     "text": [
      "Failed requesting Mythical Numbers\n",
      "Failed requesting Marmy the Count\n",
      "Failed requesting Father Time\n",
      "Failed requesting The Lost Oar\n",
      "Failed requesting Here We Go\n",
      "Failed requesting Pledge Drive\n",
      "Failed requesting Wrong About You\n",
      "Failed requesting Hit the Decks\n"
     ]
    },
    {
     "name": "stderr",
     "output_type": "stream",
     "text": [
      "Processing 5ive Style_tracks.parquet:  55%|█████▍    | 12/22 [00:00<00:00, 36.76it/s]"
     ]
    },
    {
     "name": "stdout",
     "output_type": "stream",
     "text": [
      "Failed requesting The Fancy Dance in Jeremy's Pants\n",
      "Failed requesting Sailor Girl Song\n",
      "Failed requesting Pet the Cow\n",
      "Failed requesting Playful Sounds for Hostile Grounds (Reprise)\n",
      "Failed requesting Deep Marsh\n",
      "Failed requesting Hard Afro Rubalon\n",
      "Failed requesting Once Around the Park\n"
     ]
    },
    {
     "name": "stderr",
     "output_type": "stream",
     "text": [
      "Processing 5ive Style_tracks.parquet: 100%|██████████| 22/22 [00:00<00:00, 37.68it/s]\n",
      "Processing 5th Ward Boyz_tracks.parquet:   0%|          | 0/257 [00:00<?, ?it/s]"
     ]
    },
    {
     "name": "stdout",
     "output_type": "stream",
     "text": [
      "Failed requesting Round Up\n",
      "Failed requesting I Told Ya\n",
      "Failed requesting Outta Space Canoe Race\n",
      "Failed requesting Apple Pie\n",
      "Failed requesting Waiting On the Eclipse\n",
      "Failed requesting Freddy Flakeout\n",
      "Failed requesting Sure Is Hot\n",
      "Failed requesting Intro\n"
     ]
    },
    {
     "name": "stderr",
     "output_type": "stream",
     "text": [
      "Processing 5th Ward Boyz_tracks.parquet:   3%|▎         | 8/257 [00:00<00:06, 36.69it/s]"
     ]
    },
    {
     "name": "stdout",
     "output_type": "stream",
     "text": [
      "Failed requesting Ho\n",
      "Failed requesting Studio Gangster\n",
      "Failed requesting Down Azz Zaggin\n",
      "Failed requesting Pleeze\n",
      "Failed requesting Bringing Hats\n",
      "Failed requesting 5th of Ghetto\n",
      "Failed requesting Same Ole\n",
      "Failed requesting Blood, Sweat & Glory\n",
      "Failed requesting Gotta Be Down to Die\n"
     ]
    },
    {
     "name": "stderr",
     "output_type": "stream",
     "text": [
      "Processing 5th Ward Boyz_tracks.parquet:   6%|▌         | 16/257 [00:00<00:06, 36.73it/s]"
     ]
    },
    {
     "name": "stdout",
     "output_type": "stream",
     "text": [
      "Failed requesting Undercover Gangstas\n",
      "Failed requesting Ghetto Curse Words\n",
      "Failed requesting Punks and Guns\n",
      "Failed requesting Thanks for the Blessing\n",
      "Failed requesting Outro\n",
      "Failed requesting Hot Sh*t\n",
      "Failed requesting Studio Gangster\n"
     ]
    },
    {
     "name": "stderr",
     "output_type": "stream",
     "text": [
      "Processing 5th Ward Boyz_tracks.parquet:   8%|▊         | 20/257 [00:00<00:07, 30.33it/s]"
     ]
    },
    {
     "name": "stdout",
     "output_type": "stream",
     "text": [
      "Failed requesting Down Azz Zaggin\n",
      "Failed requesting Bringing Hats\n",
      "Failed requesting Ghetto Curse Words\n",
      "Failed requesting Thanks for the Blessing\n",
      "Failed requesting B*tch Pleeze\n",
      "Failed requesting Same Ole Sh*t\n",
      "Failed requesting Gotta Be Down to Die\n"
     ]
    },
    {
     "name": "stderr",
     "output_type": "stream",
     "text": [
      "Processing 5th Ward Boyz_tracks.parquet:  11%|█         | 28/257 [00:00<00:07, 31.98it/s]"
     ]
    },
    {
     "name": "stdout",
     "output_type": "stream",
     "text": [
      "Failed requesting 5th of Ghetto\n",
      "Failed requesting Blood, Sweat & Glory\n",
      "Failed requesting Punks and Guns\n",
      "Failed requesting Undercover Gangstas\n",
      "Failed requesting Murda Raw\n",
      "Failed requesting Concrete Hell Pt. 2\n",
      "Failed requesting Need to Move Some\n"
     ]
    },
    {
     "name": "stderr",
     "output_type": "stream",
     "text": [
      "Processing 5th Ward Boyz_tracks.parquet:  14%|█▍        | 36/257 [00:01<00:07, 29.85it/s]"
     ]
    },
    {
     "name": "stdout",
     "output_type": "stream",
     "text": [
      "Failed requesting Yeah\n",
      "Failed requesting I Like\n",
      "Failed requesting Mind on Money\n",
      "Failed requesting I Make Doe\n",
      "Failed requesting On Both Knees\n",
      "Failed requesting Freestyle\n"
     ]
    },
    {
     "name": "stderr",
     "output_type": "stream",
     "text": [
      "Processing 5th Ward Boyz_tracks.parquet:  16%|█▌        | 40/257 [00:01<00:06, 31.36it/s]"
     ]
    },
    {
     "name": "stdout",
     "output_type": "stream",
     "text": [
      "Failed requesting Don't Give a F*ck\n",
      "Failed requesting Hit a Lick\n",
      "Failed requesting And What\n",
      "Failed requesting Right Now\n",
      "Failed requesting Lovin' This\n",
      "Failed requesting Hedpusefingtip'nlips\n"
     ]
    },
    {
     "name": "stderr",
     "output_type": "stream",
     "text": [
      "Processing 5th Ward Boyz_tracks.parquet:  19%|█▊        | 48/257 [00:02<00:17, 11.74it/s]"
     ]
    },
    {
     "name": "stdout",
     "output_type": "stream",
     "text": [
      "Failed requesting Buckin'\n",
      "Failed requesting Fear No Man\n",
      "Failed requesting Til They Kill Me\n",
      "Failed requesting Skit\n",
      "Failed requesting Act a Donkey\n",
      "Failed requesting Thug & Dangerous\n",
      "Failed requesting Another Ho\n",
      "Failed requesting All the Same\n"
     ]
    },
    {
     "name": "stderr",
     "output_type": "stream",
     "text": [
      "Processing 5th Ward Boyz_tracks.parquet:  22%|██▏       | 56/257 [00:02<00:11, 17.87it/s]"
     ]
    },
    {
     "name": "stdout",
     "output_type": "stream",
     "text": [
      "Failed requesting P Poppin\n",
      "Failed requesting P.W.A.\n",
      "Failed requesting Rhyme or Crime\n",
      "Failed requesting S.A. Partner\n",
      "Failed requesting Situations\n",
      "Failed requesting Concrete Hell\n",
      "Failed requesting Death Is Calling\n"
     ]
    },
    {
     "name": "stderr",
     "output_type": "stream",
     "text": [
      "Processing 5th Ward Boyz_tracks.parquet:  25%|██▍       | 64/257 [00:02<00:08, 22.90it/s]"
     ]
    },
    {
     "name": "stdout",
     "output_type": "stream",
     "text": [
      "Failed requesting Raisin Cain\n",
      "Failed requesting Swing Wide\n",
      "Failed requesting Skit\n",
      "Failed requesting Step into My Hood\n",
      "Failed requesting One Night Stand\n",
      "Failed requesting The Streets\n"
     ]
    },
    {
     "name": "stderr",
     "output_type": "stream",
     "text": [
      "Processing 5th Ward Boyz_tracks.parquet:  26%|██▋       | 68/257 [00:03<00:07, 24.29it/s]"
     ]
    },
    {
     "name": "stdout",
     "output_type": "stream",
     "text": [
      "Failed requesting Fifth Ward\n",
      "Failed requesting Dirty\n",
      "Failed requesting Busta Free\n",
      "Failed requesting Your Life\n",
      "Failed requesting Lo Life in the Street\n",
      "Failed requesting Gangsta Funk\n",
      "Failed requesting Ghetto Curse Words\n"
     ]
    },
    {
     "name": "stderr",
     "output_type": "stream",
     "text": [
      "Processing 5th Ward Boyz_tracks.parquet:  30%|██▉       | 76/257 [00:03<00:06, 28.26it/s]"
     ]
    },
    {
     "name": "stdout",
     "output_type": "stream",
     "text": [
      "Failed requesting Underground G's\n",
      "Failed requesting Once Again It's On\n",
      "Failed requesting Skit\n",
      "Failed requesting Same Ol'\n",
      "Failed requesting Reason\n",
      "Failed requesting Funk Outro\n",
      "Failed requesting Once Again It's On\n"
     ]
    },
    {
     "name": "stderr",
     "output_type": "stream",
     "text": [
      "Processing 5th Ward Boyz_tracks.parquet:  33%|███▎      | 84/257 [00:03<00:05, 30.42it/s]"
     ]
    },
    {
     "name": "stdout",
     "output_type": "stream",
     "text": [
      "Failed requesting Lo Life In The Street\n",
      "Failed requesting Gangsta Funk\n",
      "Failed requesting Ghetto Curse Words\n",
      "Failed requesting Underground G's\n",
      "Failed requesting Same Ol'\n",
      "Failed requesting Reason\n",
      "Failed requesting Funk Outro\n",
      "Failed requesting Lo Life In The Street (Chopped&Screwed)\n"
     ]
    },
    {
     "name": "stderr",
     "output_type": "stream",
     "text": [
      "Processing 5th Ward Boyz_tracks.parquet:  36%|███▌      | 92/257 [00:03<00:05, 32.03it/s]"
     ]
    },
    {
     "name": "stdout",
     "output_type": "stream",
     "text": [
      "Failed requesting Gangsta Funk (Chopped&Screwed)\n",
      "Failed requesting Ghetto Curse Words (Chopped&Screwed)\n",
      "Failed requesting Underground G's (Chopped&Screwed)\n",
      "Failed requesting Once Again It's On (Chopped&Screwed)\n",
      "Failed requesting Skit (Chopped&Screwed)\n",
      "Failed requesting Same Ol' (Chopped&Screwed)\n",
      "Failed requesting Reason (Chopped&Screwed)\n"
     ]
    },
    {
     "name": "stderr",
     "output_type": "stream",
     "text": [
      "Processing 5th Ward Boyz_tracks.parquet:  39%|███▉      | 100/257 [00:04<00:04, 33.12it/s]"
     ]
    },
    {
     "name": "stdout",
     "output_type": "stream",
     "text": [
      "Failed requesting Funk Outro (Chopped&Screwed)\n",
      "Failed requesting P.W.A.\n",
      "Failed requesting Hustlin'\n",
      "Failed requesting I Know\n",
      "Failed requesting Skit\n",
      "Failed requesting Hollyhood\n",
      "Failed requesting Heat\n"
     ]
    },
    {
     "name": "stderr",
     "output_type": "stream",
     "text": [
      "Processing 5th Ward Boyz_tracks.parquet:  42%|████▏     | 108/257 [00:04<00:04, 33.92it/s]"
     ]
    },
    {
     "name": "stdout",
     "output_type": "stream",
     "text": [
      "Failed requesting Don't Nuttin Change\n",
      "Failed requesting Mama's Praying\n",
      "Failed requesting Live Your Life\n",
      "Failed requesting Big Faces\n",
      "Failed requesting F**k Strugglin'\n",
      "Failed requesting Til the World Blow Up\n",
      "Failed requesting Somethin' to Ride To\n",
      "Failed requesting Gangsta S**t\n"
     ]
    },
    {
     "name": "stderr",
     "output_type": "stream",
     "text": [
      "Processing 5th Ward Boyz_tracks.parquet:  45%|████▌     | 116/257 [00:04<00:04, 32.84it/s]"
     ]
    },
    {
     "name": "stdout",
     "output_type": "stream",
     "text": [
      "Failed requesting PWA Intro\n",
      "Failed requesting Pussy Poppin’\n",
      "Failed requesting Jealous\n",
      "Failed requesting Get Wit U\n",
      "Failed requesting Act a Donkey\n",
      "Failed requesting Til’ They Kill Me\n",
      "Failed requesting Buckin’\n",
      "Failed requesting Hedpusefingtip’nlips\n"
     ]
    },
    {
     "name": "stderr",
     "output_type": "stream",
     "text": [
      "Processing 5th Ward Boyz_tracks.parquet:  47%|████▋     | 120/257 [00:04<00:04, 31.02it/s]"
     ]
    },
    {
     "name": "stdout",
     "output_type": "stream",
     "text": [
      "Failed requesting See Us Ball\n",
      "Failed requesting That’s My CD\n",
      "Failed requesting Rhyme or Crime\n",
      "Failed requesting Fear No Man\n",
      "Failed requesting Thug & Dangerous\n",
      "Failed requesting PWA\n"
     ]
    },
    {
     "name": "stderr",
     "output_type": "stream",
     "text": [
      "Processing 5th Ward Boyz_tracks.parquet:  50%|████▉     | 128/257 [00:05<00:04, 29.53it/s]"
     ]
    },
    {
     "name": "stdout",
     "output_type": "stream",
     "text": [
      "Failed requesting Anotha Ho\n",
      "Failed requesting Immortal 2k\n",
      "Failed requesting All the Same\n",
      "Failed requesting S.A. Partner\n",
      "Failed requesting OG Intro\n",
      "Failed requesting Gangsta Shit\n",
      "Failed requesting Hustlin’\n",
      "Failed requesting Live Your life\n"
     ]
    },
    {
     "name": "stderr",
     "output_type": "stream",
     "text": [
      "Processing 5th Ward Boyz_tracks.parquet:  53%|█████▎    | 136/257 [00:05<00:04, 28.69it/s]"
     ]
    },
    {
     "name": "stdout",
     "output_type": "stream",
     "text": [
      "Failed requesting Big Faces\n",
      "Failed requesting I Know\n",
      "Failed requesting Heat\n",
      "Failed requesting Got II Be Down II Die\n",
      "Failed requesting Live Remote\n"
     ]
    },
    {
     "name": "stderr",
     "output_type": "stream",
     "text": [
      "Processing 5th Ward Boyz_tracks.parquet:  54%|█████▍    | 140/257 [00:05<00:03, 29.87it/s]"
     ]
    },
    {
     "name": "stdout",
     "output_type": "stream",
     "text": [
      "Failed requesting Fuck Strugglin’\n",
      "Failed requesting Hollywood\n",
      "Failed requesting Somethin’ to Ride To\n",
      "Failed requesting Don’t Nuttin Change\n",
      "Failed requesting P.W.A.\n",
      "Failed requesting Till the World Blow Up\n",
      "Failed requesting Mama’s Praying\n",
      "Failed requesting Dirty\n"
     ]
    },
    {
     "name": "stderr",
     "output_type": "stream",
     "text": [
      "Processing 5th Ward Boyz_tracks.parquet:  58%|█████▊    | 148/257 [00:05<00:03, 31.59it/s]"
     ]
    },
    {
     "name": "stdout",
     "output_type": "stream",
     "text": [
      "Failed requesting Concrete Hell\n",
      "Failed requesting Wake Up\n",
      "Failed requesting Situations\n",
      "Failed requesting 5th Ward\n",
      "Failed requesting The Streets\n",
      "Failed requesting My Life\n",
      "Failed requesting Your Life\n"
     ]
    },
    {
     "name": "stderr",
     "output_type": "stream",
     "text": [
      "Processing 5th Ward Boyz_tracks.parquet:  61%|██████    | 157/257 [00:05<00:02, 35.41it/s]"
     ]
    },
    {
     "name": "stdout",
     "output_type": "stream",
     "text": [
      "Failed requesting Death Is Calling\n",
      "Failed requesting Raising Cain\n",
      "Failed requesting Swing Wide\n",
      "Failed requesting Busta Free\n",
      "Failed requesting One Night Stand\n",
      "Failed requesting Step into My Hood\n",
      "Failed requesting Another Level\n",
      "Failed requesting Pwa Plus Freestyle\n",
      "Failed requesting Situation\n"
     ]
    },
    {
     "name": "stderr",
     "output_type": "stream",
     "text": [
      "Processing 5th Ward Boyz_tracks.parquet:  64%|██████▍   | 165/257 [00:06<00:02, 34.14it/s]"
     ]
    },
    {
     "name": "stdout",
     "output_type": "stream",
     "text": [
      "Failed requesting Swing Wide\n",
      "Failed requesting Reason\n",
      "Failed requesting Skit\n",
      "Failed requesting Gangsta Funk\n",
      "Failed requesting Ho Sh*t\n",
      "Failed requesting Concrete Hell\n",
      "Failed requesting Hustlin\n",
      "Failed requesting Hollyhood\n"
     ]
    },
    {
     "name": "stderr",
     "output_type": "stream",
     "text": [
      "Processing 5th Ward Boyz_tracks.parquet:  67%|██████▋   | 173/257 [00:06<00:02, 34.12it/s]"
     ]
    },
    {
     "name": "stdout",
     "output_type": "stream",
     "text": [
      "Failed requesting Thanks for the Blessing\n",
      "Failed requesting Pu**y Poppin\n",
      "Failed requesting Freestyle\n",
      "Failed requesting Got 2 Be Down 2 Die\n",
      "Failed requesting Studio Gangsta\n",
      "Failed requesting Reason\n",
      "Failed requesting Pwa\n",
      "Failed requesting Heat\n"
     ]
    },
    {
     "name": "stderr",
     "output_type": "stream",
     "text": [
      "Processing 5th Ward Boyz_tracks.parquet:  70%|███████   | 181/257 [00:06<00:02, 34.19it/s]"
     ]
    },
    {
     "name": "stdout",
     "output_type": "stream",
     "text": [
      "Failed requesting Swing Wide\n",
      "Failed requesting Gangsta Funk\n",
      "Failed requesting Concrete Hell\n",
      "Failed requesting Got 2 Be Down 2 Die\n",
      "Failed requesting Situation\n",
      "Failed requesting Your Life\n",
      "Failed requesting Pussy Poppin\n"
     ]
    },
    {
     "name": "stderr",
     "output_type": "stream",
     "text": [
      "Processing 5th Ward Boyz_tracks.parquet:  74%|███████▎  | 189/257 [00:06<00:01, 34.74it/s]"
     ]
    },
    {
     "name": "stdout",
     "output_type": "stream",
     "text": [
      "Failed requesting Jealous\n",
      "Failed requesting Ho Shit\n",
      "Failed requesting Same Ole Shit\n",
      "Failed requesting Hustlin\n",
      "Failed requesting Studio Gangsta\n",
      "Failed requesting Hollyhood\n",
      "Failed requesting Thanks for the Blessing\n",
      "Failed requesting The Giant Is Awake\n"
     ]
    },
    {
     "name": "stderr",
     "output_type": "stream",
     "text": [
      "Processing 5th Ward Boyz_tracks.parquet:  77%|███████▋  | 197/257 [00:07<00:01, 34.41it/s]"
     ]
    },
    {
     "name": "stdout",
     "output_type": "stream",
     "text": [
      "Failed requesting One City Under God\n",
      "Failed requesting Bow Down\n",
      "Failed requesting Make A Change\n",
      "Failed requesting I'm Yours\n",
      "Failed requesting So Far To Go\n",
      "Failed requesting One Touch\n",
      "Failed requesting The Rain\n"
     ]
    },
    {
     "name": "stderr",
     "output_type": "stream",
     "text": [
      "Processing 5th Ward Boyz_tracks.parquet:  78%|███████▊  | 201/257 [00:07<00:01, 31.97it/s]"
     ]
    },
    {
     "name": "stdout",
     "output_type": "stream",
     "text": [
      "Failed requesting Youth Are Listening\n",
      "Failed requesting Jesus Worked It Out\n",
      "Failed requesting Can't Tell You Why\n",
      "Failed requesting God Ain't Mad At Ya\n",
      "Failed requesting Taking Over\n",
      "Failed requesting Give Him Praise\n",
      "Failed requesting Mama Can You Hear Me\n"
     ]
    },
    {
     "name": "stderr",
     "output_type": "stream",
     "text": [
      "Processing 5th Ward Boyz_tracks.parquet:  81%|████████▏ | 209/257 [00:07<00:01, 33.35it/s]"
     ]
    },
    {
     "name": "stdout",
     "output_type": "stream",
     "text": [
      "Failed requesting For His Glory\n",
      "Failed requesting Can You Save Me\n",
      "Failed requesting Tomorrow\n",
      "Failed requesting After Da Ride\n",
      "Failed requesting Watch Them Boyz\n",
      "Failed requesting We Be Rolling\n"
     ]
    },
    {
     "name": "stderr",
     "output_type": "stream",
     "text": [
      "Processing 5th Ward Boyz_tracks.parquet:  84%|████████▍ | 217/257 [00:07<00:01, 30.45it/s]"
     ]
    },
    {
     "name": "stdout",
     "output_type": "stream",
     "text": [
      "Failed requesting Life Ain't No Game\n",
      "Failed requesting Lost in a Generation\n",
      "Failed requesting Platinum or Gold\n",
      "Failed requesting Bout Fedi\n",
      "Failed requesting Skit #1\n",
      "Failed requesting Here We Go Again\n",
      "Failed requesting Untold Story\n"
     ]
    },
    {
     "name": "stderr",
     "output_type": "stream",
     "text": [
      "Processing 5th Ward Boyz_tracks.parquet:  86%|████████▌ | 221/257 [00:07<00:01, 30.03it/s]"
     ]
    },
    {
     "name": "stdout",
     "output_type": "stream",
     "text": [
      "Failed requesting Shake Something\n",
      "Failed requesting All Them Haters\n",
      "Failed requesting Skit #2\n",
      "Failed requesting Millineum Don's\n",
      "Failed requesting G in Your Life\n",
      "Failed requesting Where the Weed At\n",
      "Failed requesting Intro\n"
     ]
    },
    {
     "name": "stderr",
     "output_type": "stream",
     "text": [
      "Processing 5th Ward Boyz_tracks.parquet:  91%|█████████ | 233/257 [00:08<00:00, 33.59it/s]"
     ]
    },
    {
     "name": "stdout",
     "output_type": "stream",
     "text": [
      "Failed requesting I Got 5 On It (feat. Numskull & Michael Marshall)\n",
      "Failed requesting Playa Hater (feat. Numskull & Teddy)\n",
      "Failed requesting Broke Hos (feat. Numskull)\n",
      "Failed requesting I Got 5 On It (Remix) (feat. Dru Down, Numskull, Richie Rich, E-40, Shock-G & Spice-1)\n",
      "Failed requesting Jus Mee & U (feat. Numskull & Raphael Saadiq)\n",
      "Failed requesting Funkin Over Nuthin (feat. Numskull, Too $hort & Harm)\n",
      "Failed requesting Baby Mamma (feat. Numskull)\n",
      "Failed requesting Hypnotize (feat. Numskull & RedMan)\n"
     ]
    },
    {
     "name": "stderr",
     "output_type": "stream",
     "text": [
      "Processing 5th Ward Boyz_tracks.parquet:  92%|█████████▏| 237/257 [00:08<00:00, 34.04it/s]"
     ]
    },
    {
     "name": "stdout",
     "output_type": "stream",
     "text": [
      "Failed requesting Highest N*ggaz In The Industry (feat. E-40, Numskull & B-Legit)\n",
      "Failed requesting Mobb Sh*t (feat. Swoop-G, Cydal, Numskull & 3xKrazy)\n",
      "Failed requesting In My Nature (feat. Numskull, EightBall & MJG)\n",
      "Failed requesting Godzilla\n",
      "Failed requesting City Of Dope\n",
      "Failed requesting Still Ballin\n",
      "Failed requesting Stallion (feat. Tech N9ne & MC Ren)\n"
     ]
    },
    {
     "name": "stderr",
     "output_type": "stream",
     "text": [
      "Processing 5th Ward Boyz_tracks.parquet:  95%|█████████▌| 245/257 [00:08<00:00, 32.14it/s]"
     ]
    },
    {
     "name": "stdout",
     "output_type": "stream",
     "text": [
      "Failed requesting Fallin\n",
      "Failed requesting Father Like Son\n",
      "Failed requesting It's In My Blood II (feat. DMG)\n",
      "Failed requesting Rolex Rules\n",
      "Failed requesting Mary Jane\n",
      "Failed requesting I's a Playa\n",
      "Failed requesting Bring Em Out\n"
     ]
    },
    {
     "name": "stderr",
     "output_type": "stream",
     "text": [
      "Processing 5th Ward Boyz_tracks.parquet:  98%|█████████▊| 253/257 [00:08<00:00, 34.06it/s]"
     ]
    },
    {
     "name": "stdout",
     "output_type": "stream",
     "text": [
      "Failed requesting Somebody Elses Wife\n",
      "Failed requesting Gangsta Put Me Down\n",
      "Failed requesting Pu**y Like Dope\n",
      "Failed requesting Pop It for Pimp\n",
      "Failed requesting F**k Faces\n",
      "Failed requesting Pwa\n",
      "Failed requesting Playa Like Me and You\n",
      "Failed requesting Love Me\n"
     ]
    },
    {
     "name": "stderr",
     "output_type": "stream",
     "text": [
      "Processing 5th Ward Boyz_tracks.parquet: 100%|██████████| 257/257 [00:08<00:00, 28.93it/s]\n",
      "Processing 69 Boyz_tracks.parquet:   0%|          | 0/208 [00:00<?, ?it/s]"
     ]
    },
    {
     "name": "stdout",
     "output_type": "stream",
     "text": [
      "Failed requesting I Can't Leave Drank Alone\n",
      "Failed requesting Who's Your Daddy\n",
      "Failed requesting Intro\n",
      "Failed requesting Gone Lil Mama\n",
      "Failed requesting How We Roll\n",
      "Failed requesting Hands Down 85\n"
     ]
    },
    {
     "name": "stderr",
     "output_type": "stream",
     "text": [
      "Processing 69 Boyz_tracks.parquet:   4%|▍         | 9/208 [00:00<00:05, 37.41it/s]"
     ]
    },
    {
     "name": "stdout",
     "output_type": "stream",
     "text": [
      "Failed requesting She's Addicted\n",
      "Failed requesting Imma Lie\n",
      "Failed requesting Y.H. Make Me Sick\n",
      "Failed requesting Imma Ho\n",
      "Failed requesting Ya Heard Me\n",
      "Failed requesting Speed On\n",
      "Failed requesting She Scared\n",
      "Failed requesting Hood Rat\n"
     ]
    },
    {
     "name": "stderr",
     "output_type": "stream",
     "text": [
      "Processing 69 Boyz_tracks.parquet:   8%|▊         | 17/208 [00:00<00:05, 37.39it/s]"
     ]
    },
    {
     "name": "stdout",
     "output_type": "stream",
     "text": [
      "Failed requesting Pass The Puddie Intro\n",
      "Failed requesting Pass The Puddie\n",
      "Failed requesting Chill In Da Ville - Remix\n",
      "Failed requesting Joy\n",
      "Failed requesting Exstacy\n",
      "Failed requesting Stick It Inn\n",
      "Failed requesting Look Like\n",
      "Failed requesting Pop Dat Thang\n"
     ]
    },
    {
     "name": "stderr",
     "output_type": "stream",
     "text": [
      "Processing 69 Boyz_tracks.parquet:  10%|█         | 21/208 [00:00<00:05, 37.36it/s]"
     ]
    },
    {
     "name": "stdout",
     "output_type": "stream",
     "text": [
      "Failed requesting Intro\n",
      "Failed requesting Roll wit It\n",
      "Failed requesting Sticky\n",
      "Failed requesting Get on Your Feet\n",
      "Failed requesting Freak You Down 2 da Bass\n"
     ]
    },
    {
     "name": "stderr",
     "output_type": "stream",
     "text": [
      "Processing 69 Boyz_tracks.parquet:  14%|█▍        | 30/208 [00:00<00:05, 33.18it/s]"
     ]
    },
    {
     "name": "stdout",
     "output_type": "stream",
     "text": [
      "Failed requesting What's a Catch 22?\n",
      "Failed requesting Catch 22\n",
      "Failed requesting Backseat (feat. Sir Prise & 69 Boyz)\n",
      "Failed requesting Da Set Intro\n",
      "Failed requesting Da Set, Pt. 2 (feat. About 2)\n",
      "Failed requesting Roll Call Intro\n",
      "Failed requesting Roll Call\n",
      "Failed requesting Strip Club Intro\n",
      "Failed requesting Strip Club Luv\n"
     ]
    },
    {
     "name": "stderr",
     "output_type": "stream",
     "text": [
      "Processing 69 Boyz_tracks.parquet:  19%|█▉        | 39/208 [00:01<00:04, 36.76it/s]"
     ]
    },
    {
     "name": "stdout",
     "output_type": "stream",
     "text": [
      "Failed requesting Do You Want It Intro\n",
      "Failed requesting Do You Want It, Baby? (feat. About 2)\n",
      "Failed requesting Beep-Beep\n",
      "Failed requesting Wasn't Me (feat. Da Knit Witz)\n",
      "Failed requesting Wilbert\n",
      "Failed requesting ICU\n",
      "Failed requesting Prayer\n",
      "Failed requesting Request Line #1\n"
     ]
    },
    {
     "name": "stderr",
     "output_type": "stream",
     "text": [
      "Processing 69 Boyz_tracks.parquet:  23%|██▎       | 47/208 [00:01<00:04, 36.22it/s]"
     ]
    },
    {
     "name": "stdout",
     "output_type": "stream",
     "text": [
      "Failed requesting Round & Round\n",
      "Failed requesting What Cha Gona Do\n",
      "Failed requesting Ain't No Party\n",
      "Failed requesting Down Low Intro\n",
      "Failed requesting Down Low\n",
      "Failed requesting Shoop Shoop\n",
      "Failed requesting Survival Of Da Fittest\n",
      "Failed requesting Role Model Intro\n"
     ]
    },
    {
     "name": "stderr",
     "output_type": "stream",
     "text": [
      "Processing 69 Boyz_tracks.parquet:  26%|██▋       | 55/208 [00:01<00:04, 35.02it/s]"
     ]
    },
    {
     "name": "stdout",
     "output_type": "stream",
     "text": [
      "Failed requesting Role Model\n",
      "Failed requesting Request Line #2\n",
      "Failed requesting Shout\n",
      "Failed requesting Roll Wit Me\n",
      "Failed requesting Deville\n",
      "Failed requesting Holla At Cha\n",
      "Failed requesting \"E-Chill\" Groove\n",
      "Failed requesting Round & Round Inst.\n"
     ]
    },
    {
     "name": "stderr",
     "output_type": "stream",
     "text": [
      "Processing 69 Boyz_tracks.parquet:  30%|███       | 63/208 [00:01<00:04, 35.11it/s]"
     ]
    },
    {
     "name": "stdout",
     "output_type": "stream",
     "text": [
      "Failed requesting Land 69\n",
      "Failed requesting Caller #10\n",
      "Failed requesting Da Train\n",
      "Failed requesting Loose Booty\n",
      "Failed requesting Kitty-Kitty\n",
      "Failed requesting Puddin' Tame\n",
      "Failed requesting Da Set\n",
      "Failed requesting Hennessy (Featuring Booty Man)\n"
     ]
    },
    {
     "name": "stderr",
     "output_type": "stream",
     "text": [
      "Processing 69 Boyz_tracks.parquet:  35%|███▌      | 73/208 [00:02<00:03, 38.49it/s]"
     ]
    },
    {
     "name": "stdout",
     "output_type": "stream",
     "text": [
      "Failed requesting Survival Of Da Fittest\n",
      "Failed requesting Hump N' Ya Back\n",
      "Failed requesting Get Together\n",
      "Failed requesting Tootsee Roll\n",
      "Failed requesting Da Mote\n",
      "Failed requesting Ding Dong Song\n",
      "Failed requesting Teenie Weenie\n",
      "Failed requesting 10 Chicken Wings & A Bottle Of Dom\n",
      "Failed requesting Ease On Down Da Road\n"
     ]
    },
    {
     "name": "stderr",
     "output_type": "stream",
     "text": [
      "Processing 69 Boyz_tracks.parquet:  39%|███▉      | 82/208 [00:02<00:03, 39.26it/s]"
     ]
    },
    {
     "name": "stdout",
     "output_type": "stream",
     "text": [
      "Failed requesting Booty Drop\n",
      "Failed requesting All Men R Dawgs (Featuring Big Tyme)\n",
      "Failed requesting Buddy-Buddy\n",
      "Failed requesting 777 Radio\n",
      "Failed requesting Burn Rubber Radio\n",
      "Failed requesting Booty Radio\n",
      "Failed requesting 777 Club\n",
      "Failed requesting Burn Rubber Club\n"
     ]
    },
    {
     "name": "stderr",
     "output_type": "stream",
     "text": [
      "Processing 69 Boyz_tracks.parquet:  44%|████▍     | 91/208 [00:02<00:03, 34.66it/s]"
     ]
    },
    {
     "name": "stdout",
     "output_type": "stream",
     "text": [
      "Failed requesting Booty Club\n",
      "Failed requesting LP Mix / Sampler\n",
      "Failed requesting Tootsee Roll Radio Quiet Storm Mix\n",
      "Failed requesting Tootsee Roll Radio Set It Off Mix\n",
      "Failed requesting Tootsee Roll Set It Off Dance Version\n",
      "Failed requesting Tootsee Roll Quiet Storm Club Remix\n",
      "Failed requesting Tootsee Roll Set It Off Club Mix\n",
      "Failed requesting Tootsee Roll LP Version\n"
     ]
    },
    {
     "name": "stderr",
     "output_type": "stream",
     "text": [
      "Processing 69 Boyz_tracks.parquet:  46%|████▌     | 95/208 [00:02<00:03, 34.01it/s]"
     ]
    },
    {
     "name": "stdout",
     "output_type": "stream",
     "text": [
      "Failed requesting Hoopz (I Feel a Hoop Coming On)\n",
      "Failed requesting GrownZone\n",
      "Failed requesting Whoop (I Feel a Whoop Coming On)\n",
      "Failed requesting Get Busy\n",
      "Failed requesting Junk in the Trunk\n",
      "Failed requesting Milfs\n"
     ]
    },
    {
     "name": "stderr",
     "output_type": "stream",
     "text": [
      "Processing 69 Boyz_tracks.parquet:  50%|████▉     | 103/208 [00:02<00:03, 32.78it/s]"
     ]
    },
    {
     "name": "stdout",
     "output_type": "stream",
     "text": [
      "Failed requesting U da 1 (Gyrl)\n",
      "Failed requesting How We Roll\n",
      "Failed requesting How We Roll - Instrumental\n",
      "Failed requesting How We Roll - Swiff Remix\n",
      "Failed requesting How We Roll - Swiff Screwed Up Remix\n",
      "Failed requesting How We Roll - DJ Jamie Remix\n",
      "Failed requesting Tootsee Roll Rap Version\n"
     ]
    },
    {
     "name": "stderr",
     "output_type": "stream",
     "text": [
      "Processing 69 Boyz_tracks.parquet:  53%|█████▎    | 111/208 [00:03<00:02, 35.36it/s]"
     ]
    },
    {
     "name": "stdout",
     "output_type": "stream",
     "text": [
      "Failed requesting 199Quad Album Sampler\n",
      "Failed requesting Tootsee Roll Dance Version\n",
      "Failed requesting Tootseemental\n",
      "Failed requesting Hump N' Ya Back\n",
      "Failed requesting Juicy\n",
      "Failed requesting New Jack Hustler (Nino's Theme) - 2014 Remaster\n",
      "Failed requesting Hot Boyz\n",
      "Failed requesting All About the Benjamins\n",
      "Failed requesting Shimmy Shimmy Ya\n"
     ]
    },
    {
     "name": "stderr",
     "output_type": "stream",
     "text": [
      "Processing 69 Boyz_tracks.parquet:  57%|█████▋    | 119/208 [00:03<00:02, 35.66it/s]"
     ]
    },
    {
     "name": "stdout",
     "output_type": "stream",
     "text": [
      "Failed requesting Crush On You\n",
      "Failed requesting Adrenaline Rush\n",
      "Failed requesting It's All About the Benjamins - Remix\n",
      "Failed requesting Put Your Hands Where My Eyes Could See\n",
      "Failed requesting Just a Friend\n",
      "Failed requesting Get Money\n",
      "Failed requesting Only You - Bad Boy Remix\n",
      "Failed requesting I Wish\n"
     ]
    },
    {
     "name": "stderr",
     "output_type": "stream",
     "text": [
      "Processing 69 Boyz_tracks.parquet:  59%|█████▉    | 123/208 [00:03<00:02, 35.60it/s]"
     ]
    },
    {
     "name": "stdout",
     "output_type": "stream",
     "text": [
      "Failed requesting Informer\n",
      "Failed requesting Here Comes Kane, Scoob and Scrap\n",
      "Failed requesting Mistadobalina\n",
      "Failed requesting Dollars Make Sense\n",
      "Failed requesting Flava in Ya Ear\n"
     ]
    },
    {
     "name": "stderr",
     "output_type": "stream",
     "text": [
      "Processing 69 Boyz_tracks.parquet:  61%|██████    | 127/208 [00:03<00:02, 29.87it/s]"
     ]
    },
    {
     "name": "stdout",
     "output_type": "stream",
     "text": [
      "Failed requesting Capital Punishment In America\n",
      "Failed requesting The Difference\n",
      "Failed requesting This Christmas\n"
     ]
    },
    {
     "name": "stderr",
     "output_type": "stream",
     "text": [
      "Processing 69 Boyz_tracks.parquet:  63%|██████▎   | 131/208 [00:04<00:08,  9.29it/s]"
     ]
    },
    {
     "name": "stdout",
     "output_type": "stream",
     "text": [
      "Failed requesting Christmas Blues\n",
      "Failed requesting Alone for Christmas\n"
     ]
    },
    {
     "name": "stderr",
     "output_type": "stream",
     "text": [
      "Processing 69 Boyz_tracks.parquet:  65%|██████▌   | 136/208 [00:08<00:28,  2.49it/s]"
     ]
    },
    {
     "name": "stdout",
     "output_type": "stream",
     "text": [
      "Failed requesting Silent Night - Happy Holiday Mix\n",
      "Failed requesting St. Brick Intro\n"
     ]
    },
    {
     "name": "stderr",
     "output_type": "stream",
     "text": [
      "Processing 69 Boyz_tracks.parquet:  67%|██████▋   | 139/208 [00:10<00:26,  2.56it/s]"
     ]
    },
    {
     "name": "stdout",
     "output_type": "stream",
     "text": [
      "Failed requesting Chimney\n"
     ]
    },
    {
     "name": "stderr",
     "output_type": "stream",
     "text": [
      "Processing 69 Boyz_tracks.parquet:  72%|███████▏  | 149/208 [00:11<00:11,  5.36it/s]"
     ]
    },
    {
     "name": "stdout",
     "output_type": "stream",
     "text": [
      "Failed requesting Ain’t a Lonely Christmas Song\n",
      "Failed requesting The First Noel\n",
      "Failed requesting All I Want for Christmas\n",
      "Failed requesting Santa Claus Is Coming to Town\n",
      "Failed requesting What You Want for Christmas\n",
      "Failed requesting On My Way\n",
      "Failed requesting Santa Baby\n",
      "Failed requesting Real Talk\n"
     ]
    },
    {
     "name": "stderr",
     "output_type": "stream",
     "text": [
      "Processing 69 Boyz_tracks.parquet:  75%|███████▌  | 156/208 [00:12<00:08,  6.07it/s]"
     ]
    },
    {
     "name": "stdout",
     "output_type": "stream",
     "text": [
      "Failed requesting Mrs. Davis\n",
      "Failed requesting Money Bag\n",
      "Failed requesting Way Bigger\n",
      "Failed requesting The Cool\n",
      "Failed requesting Cinderella\n",
      "Failed requesting See Red\n",
      "Failed requesting Cool Off\n",
      "Failed requesting Fall Thru\n"
     ]
    },
    {
     "name": "stderr",
     "output_type": "stream",
     "text": [
      "Processing 69 Boyz_tracks.parquet:  79%|███████▉  | 164/208 [00:12<00:03, 11.09it/s]"
     ]
    },
    {
     "name": "stdout",
     "output_type": "stream",
     "text": [
      "Failed requesting Feelin' Like Diddy\n",
      "Failed requesting Get Money\n",
      "Failed requesting Big Lyfe\n",
      "Failed requesting Kacey Talk\n",
      "Failed requesting LIKE THIS\n",
      "Failed requesting Made It Happen\n",
      "Failed requesting Million While You Young\n",
      "Failed requesting Grrrls\n"
     ]
    },
    {
     "name": "stderr",
     "output_type": "stream",
     "text": [
      "Processing 69 Boyz_tracks.parquet:  83%|████████▎ | 173/208 [00:13<00:01, 18.55it/s]"
     ]
    },
    {
     "name": "stdout",
     "output_type": "stream",
     "text": [
      "Failed requesting Money Mitch\n",
      "Failed requesting Pissed\n",
      "Failed requesting They Don't Know\n",
      "Failed requesting What Cha Gonna Do? (The Anthem)\n",
      "Failed requesting Murda Talk\n",
      "Failed requesting Knuck If You Buck\n",
      "Failed requesting Sucker for Pain\n",
      "Failed requesting Get Ur Freak On\n"
     ]
    },
    {
     "name": "stderr",
     "output_type": "stream",
     "text": [
      "Processing 69 Boyz_tracks.parquet:  86%|████████▌ | 178/208 [00:13<00:01, 22.61it/s]"
     ]
    },
    {
     "name": "stdout",
     "output_type": "stream",
     "text": [
      "Failed requesting Hypnotize\n",
      "Failed requesting Word Around Town\n",
      "Failed requesting Raw U Out\n",
      "Failed requesting Wake up In the Sky\n",
      "Failed requesting When We Party\n",
      "Failed requesting Codeine Dreaming\n",
      "Failed requesting Sticky\n",
      "Failed requesting 2 Hands\n"
     ]
    },
    {
     "name": "stderr",
     "output_type": "stream",
     "text": [
      "Processing 69 Boyz_tracks.parquet:  89%|████████▉ | 186/208 [00:13<00:00, 27.87it/s]"
     ]
    },
    {
     "name": "stdout",
     "output_type": "stream",
     "text": [
      "Failed requesting Bluegrass Stain'd\n",
      "Failed requesting Round & Round\n",
      "Failed requesting Work Hard, Play Hard\n",
      "Failed requesting Joey Bats\n",
      "Failed requesting Jet Life\n",
      "Failed requesting Sitting Pretty\n",
      "Failed requesting Kick, Push\n",
      "Failed requesting Hot Boyz\n"
     ]
    },
    {
     "name": "stderr",
     "output_type": "stream",
     "text": [
      "Processing 69 Boyz_tracks.parquet:  93%|█████████▎| 194/208 [00:13<00:00, 30.69it/s]"
     ]
    },
    {
     "name": "stdout",
     "output_type": "stream",
     "text": [
      "Failed requesting Woo Hah!! Got You All in Check\n",
      "Failed requesting WHATS POPPIN\n",
      "Failed requesting Brooklyn Zoo\n",
      "Failed requesting Hard in da Paint\n",
      "Failed requesting All About the Benjamins\n",
      "Failed requesting Hypnotize\n",
      "Failed requesting Numb / Encore\n",
      "Failed requesting Woah! - Radio Edit\n"
     ]
    },
    {
     "name": "stderr",
     "output_type": "stream",
     "text": [
      "Processing 69 Boyz_tracks.parquet:  97%|█████████▋| 202/208 [00:13<00:00, 32.48it/s]"
     ]
    },
    {
     "name": "stdout",
     "output_type": "stream",
     "text": [
      "Failed requesting Bet I\n",
      "Failed requesting My House\n",
      "Failed requesting Shine\n",
      "Failed requesting Knuck If You Buck\n",
      "Failed requesting Get Down Low\n",
      "Failed requesting Feel So Good\n",
      "Failed requesting Playin' Games\n"
     ]
    },
    {
     "name": "stderr",
     "output_type": "stream",
     "text": [
      "Processing 69 Boyz_tracks.parquet: 100%|██████████| 208/208 [00:14<00:00, 14.81it/s]\n",
      "Processing 7 Year Bitch_tracks.parquet:   0%|          | 0/314 [00:00<?, ?it/s]"
     ]
    },
    {
     "name": "stdout",
     "output_type": "stream",
     "text": [
      "Failed requesting Summer Jam Summer Jam\n",
      "Failed requesting Get On Your Feet\n",
      "Failed requesting The Breaks\n",
      "Failed requesting The History of My Future\n",
      "Failed requesting Crying Shame\n"
     ]
    },
    {
     "name": "stderr",
     "output_type": "stream",
     "text": [
      "Processing 7 Year Bitch_tracks.parquet:   3%|▎         | 8/314 [00:00<00:08, 35.62it/s]"
     ]
    },
    {
     "name": "stdout",
     "output_type": "stream",
     "text": [
      "Failed requesting Disillusion\n",
      "Failed requesting Deep in the Heart\n",
      "Failed requesting The Midst\n",
      "Failed requesting 24,900 Miles Per Hour\n",
      "Failed requesting Whoopie Cat\n",
      "Failed requesting Miss Understood\n",
      "Failed requesting Sore Subject\n",
      "Failed requesting Rest My Head\n",
      "Failed requesting 2nd Hand\n"
     ]
    },
    {
     "name": "stderr",
     "output_type": "stream",
     "text": [
      "Processing 7 Year Bitch_tracks.parquet:   5%|▌         | 16/314 [00:00<00:08, 33.88it/s]"
     ]
    },
    {
     "name": "stdout",
     "output_type": "stream",
     "text": [
      "Failed requesting Jack\n",
      "Failed requesting The Scratch\n",
      "Failed requesting Hip Like Junk\n",
      "Failed requesting M.I.A.\n",
      "Failed requesting Derailed\n",
      "Failed requesting Cats Meow\n",
      "Failed requesting Rock A Bye\n",
      "Failed requesting It's Too Late\n"
     ]
    },
    {
     "name": "stderr",
     "output_type": "stream",
     "text": [
      "Processing 7 Year Bitch_tracks.parquet:   8%|▊         | 26/314 [00:00<00:07, 38.33it/s]"
     ]
    },
    {
     "name": "stdout",
     "output_type": "stream",
     "text": [
      "Failed requesting Damn Good And Well\n",
      "Failed requesting Kiss My Ass Goodbye\n",
      "Failed requesting Icy Blue\n",
      "Failed requesting Get Lit\n",
      "Failed requesting Chow Down\n",
      "Failed requesting Tired Of Nothing\n",
      "Failed requesting Knot\n",
      "Failed requesting In Lust You Trust\n",
      "Failed requesting Sink\n",
      "Failed requesting Gun\n"
     ]
    },
    {
     "name": "stderr",
     "output_type": "stream",
     "text": [
      "Processing 7 Year Bitch_tracks.parquet:  11%|█▏        | 36/314 [00:00<00:07, 39.26it/s]"
     ]
    },
    {
     "name": "stdout",
     "output_type": "stream",
     "text": [
      "Failed requesting Lorna\n",
      "Failed requesting You Smell Lonely\n",
      "Failed requesting No Fucking War\n",
      "Failed requesting Dead Men Don't Rape\n",
      "Failed requesting 8-Ball Deluxe\n",
      "Failed requesting Can We Laugh Now ?\n",
      "Failed requesting Interstate Love Song\n",
      "Failed requesting Hand in My Pocket\n",
      "Failed requesting Under the Bridge\n"
     ]
    },
    {
     "name": "stderr",
     "output_type": "stream",
     "text": [
      "Processing 7 Year Bitch_tracks.parquet:  14%|█▍        | 44/314 [00:01<00:06, 39.49it/s]"
     ]
    },
    {
     "name": "stdout",
     "output_type": "stream",
     "text": [
      "Failed requesting When I Come Around\n",
      "Failed requesting Been Caught Stealing\n",
      "Failed requesting Semi-Charmed Life\n",
      "Failed requesting Pretend We're Dead\n",
      "Failed requesting Suck You Dry\n",
      "Failed requesting Pets\n",
      "Failed requesting Song 2 - 2012 Remaster\n",
      "Failed requesting In the Meantime\n",
      "Failed requesting Digging the Grave\n"
     ]
    },
    {
     "name": "stderr",
     "output_type": "stream",
     "text": [
      "Processing 7 Year Bitch_tracks.parquet:  17%|█▋        | 52/314 [00:01<00:06, 39.51it/s]"
     ]
    },
    {
     "name": "stdout",
     "output_type": "stream",
     "text": [
      "Failed requesting No Fronts\n",
      "Failed requesting Mudshovel\n",
      "Failed requesting Martin Scorcese\n",
      "Failed requesting Slide\n",
      "Failed requesting Effervescent Smile\n",
      "Failed requesting One Week\n",
      "Failed requesting He's My Thing\n",
      "Failed requesting Zodiac Sign\n"
     ]
    },
    {
     "name": "stderr",
     "output_type": "stream",
     "text": [
      "Processing 7 Year Bitch_tracks.parquet:  18%|█▊        | 56/314 [00:02<00:26,  9.76it/s]"
     ]
    },
    {
     "name": "stdout",
     "output_type": "stream",
     "text": [
      "Failed requesting Epic - Radio Edit\n",
      "Failed requesting Vampires\n"
     ]
    },
    {
     "name": "stderr",
     "output_type": "stream",
     "text": [
      "Processing 7 Year Bitch_tracks.parquet:  22%|██▏       | 68/314 [00:13<03:02,  1.34it/s]"
     ]
    },
    {
     "name": "stdout",
     "output_type": "stream",
     "text": [
      "Failed requesting Siren\n",
      "Failed requesting Hannah Jane\n",
      "Failed requesting Jeannie Needs a Shooter\n"
     ]
    },
    {
     "name": "stderr",
     "output_type": "stream",
     "text": [
      "Processing 7 Year Bitch_tracks.parquet:  23%|██▎       | 72/314 [00:14<02:05,  1.93it/s]"
     ]
    },
    {
     "name": "stdout",
     "output_type": "stream",
     "text": [
      "Failed requesting The Saddest Song\n"
     ]
    },
    {
     "name": "stderr",
     "output_type": "stream",
     "text": [
      "Processing 7 Year Bitch_tracks.parquet:  24%|██▎       | 74/314 [00:15<02:04,  1.92it/s]"
     ]
    },
    {
     "name": "stdout",
     "output_type": "stream",
     "text": [
      "Failed requesting A.K.A. Driver\n"
     ]
    },
    {
     "name": "stderr",
     "output_type": "stream",
     "text": [
      "Processing 7 Year Bitch_tracks.parquet:  26%|██▋       | 83/314 [00:23<03:41,  1.04it/s]"
     ]
    },
    {
     "name": "stdout",
     "output_type": "stream",
     "text": [
      "Failed requesting Six Times a Day\n"
     ]
    },
    {
     "name": "stderr",
     "output_type": "stream",
     "text": [
      "Processing 7 Year Bitch_tracks.parquet:  27%|██▋       | 85/314 [00:24<02:57,  1.29it/s]"
     ]
    },
    {
     "name": "stdout",
     "output_type": "stream",
     "text": [
      "Failed requesting Rock Bottom Blues\n"
     ]
    },
    {
     "name": "stderr",
     "output_type": "stream",
     "text": [
      "Processing 7 Year Bitch_tracks.parquet:  28%|██▊       | 88/314 [00:26<02:51,  1.32it/s]"
     ]
    },
    {
     "name": "stdout",
     "output_type": "stream",
     "text": [
      "Failed requesting Take Me to the Backseat\n"
     ]
    },
    {
     "name": "stderr",
     "output_type": "stream",
     "text": [
      "Processing 7 Year Bitch_tracks.parquet:  29%|██▉       | 91/314 [00:28<02:47,  1.33it/s]"
     ]
    },
    {
     "name": "stdout",
     "output_type": "stream",
     "text": [
      "Failed requesting Nine Times to Live\n",
      "Failed requesting Toytown\n"
     ]
    },
    {
     "name": "stderr",
     "output_type": "stream",
     "text": [
      "Processing 7 Year Bitch_tracks.parquet:  30%|██▉       | 94/314 [00:29<02:04,  1.76it/s]"
     ]
    },
    {
     "name": "stdout",
     "output_type": "stream",
     "text": [
      "Failed requesting One Kiss Left\n"
     ]
    },
    {
     "name": "stderr",
     "output_type": "stream",
     "text": [
      "Processing 7 Year Bitch_tracks.parquet:  35%|███▌      | 111/314 [00:46<03:30,  1.04s/it]"
     ]
    },
    {
     "name": "stdout",
     "output_type": "stream",
     "text": [
      "Failed requesting Bitter Wine\n"
     ]
    },
    {
     "name": "stderr",
     "output_type": "stream",
     "text": [
      "Processing 7 Year Bitch_tracks.parquet:  36%|███▌      | 113/314 [00:47<02:41,  1.24it/s]"
     ]
    },
    {
     "name": "stdout",
     "output_type": "stream",
     "text": [
      "Failed requesting Tuna In the Brine\n"
     ]
    },
    {
     "name": "stderr",
     "output_type": "stream",
     "text": [
      "Processing 7 Year Bitch_tracks.parquet:  37%|███▋      | 116/314 [00:49<02:33,  1.29it/s]"
     ]
    },
    {
     "name": "stdout",
     "output_type": "stream",
     "text": [
      "Failed requesting Endtapes\n"
     ]
    },
    {
     "name": "stderr",
     "output_type": "stream",
     "text": [
      "Processing 7 Year Bitch_tracks.parquet:  38%|███▊      | 120/314 [00:52<02:39,  1.21it/s]"
     ]
    },
    {
     "name": "stdout",
     "output_type": "stream",
     "text": [
      "Failed requesting Me, Myself and I\n"
     ]
    },
    {
     "name": "stderr",
     "output_type": "stream",
     "text": [
      "Processing 7 Year Bitch_tracks.parquet:  39%|███▉      | 122/314 [00:54<02:15,  1.41it/s]"
     ]
    },
    {
     "name": "stdout",
     "output_type": "stream",
     "text": [
      "Failed requesting Altar Boy\n"
     ]
    },
    {
     "name": "stderr",
     "output_type": "stream",
     "text": [
      "Processing 7 Year Bitch_tracks.parquet:  41%|████      | 128/314 [00:59<02:49,  1.10it/s]"
     ]
    },
    {
     "name": "stdout",
     "output_type": "stream",
     "text": [
      "Failed requesting Breed\n"
     ]
    },
    {
     "name": "stderr",
     "output_type": "stream",
     "text": [
      "Processing 7 Year Bitch_tracks.parquet:  53%|█████▎    | 165/314 [01:36<02:34,  1.04s/it]"
     ]
    },
    {
     "name": "stdout",
     "output_type": "stream",
     "text": [
      "Failed requesting Nothing Left to Lose\n",
      "Failed requesting All the Girls Are Crazy\n"
     ]
    },
    {
     "name": "stderr",
     "output_type": "stream",
     "text": [
      "Processing 7 Year Bitch_tracks.parquet:  54%|█████▎    | 168/314 [01:37<01:36,  1.51it/s]"
     ]
    },
    {
     "name": "stdout",
     "output_type": "stream",
     "text": [
      "Failed requesting Sailor Song\n",
      "Failed requesting Shoot Your Gun\n",
      "Failed requesting Cool Beans\n"
     ]
    },
    {
     "name": "stderr",
     "output_type": "stream",
     "text": [
      "Processing 7 Year Bitch_tracks.parquet:  55%|█████▌    | 174/314 [01:41<01:29,  1.56it/s]"
     ]
    },
    {
     "name": "stdout",
     "output_type": "stream",
     "text": [
      "Failed requesting First\n"
     ]
    },
    {
     "name": "stderr",
     "output_type": "stream",
     "text": [
      "Processing 7 Year Bitch_tracks.parquet:  61%|██████▏   | 193/314 [01:59<02:05,  1.04s/it]"
     ]
    },
    {
     "name": "stdout",
     "output_type": "stream",
     "text": [
      "Failed requesting The Criminal\n"
     ]
    },
    {
     "name": "stderr",
     "output_type": "stream",
     "text": [
      "Processing 7 Year Bitch_tracks.parquet:  63%|██████▎   | 199/314 [02:01<00:41,  2.74it/s]"
     ]
    },
    {
     "name": "stdout",
     "output_type": "stream",
     "text": [
      "Failed requesting Da Ya Think I'm Sexy?\n",
      "Failed requesting I Need\n",
      "Failed requesting Creeper Weed\n",
      "Failed requesting Till Death Do Us Party\n",
      "Failed requesting Get It to Go\n"
     ]
    },
    {
     "name": "stderr",
     "output_type": "stream",
     "text": [
      "Processing 7 Year Bitch_tracks.parquet:  64%|██████▍   | 201/314 [02:02<00:46,  2.41it/s]"
     ]
    },
    {
     "name": "stdout",
     "output_type": "stream",
     "text": [
      "Failed requesting Mr. Pride\n"
     ]
    },
    {
     "name": "stderr",
     "output_type": "stream",
     "text": [
      "Processing 7 Year Bitch_tracks.parquet:  65%|██████▍   | 203/314 [02:03<00:49,  2.22it/s]"
     ]
    },
    {
     "name": "stdout",
     "output_type": "stream",
     "text": [
      "Failed requesting Raise a Little Hell\n"
     ]
    },
    {
     "name": "stderr",
     "output_type": "stream",
     "text": [
      "Processing 7 Year Bitch_tracks.parquet:  65%|██████▌   | 205/314 [02:04<00:51,  2.11it/s]"
     ]
    },
    {
     "name": "stdout",
     "output_type": "stream",
     "text": [
      "Failed requesting She's My Marijuana\n"
     ]
    },
    {
     "name": "stderr",
     "output_type": "stream",
     "text": [
      "Processing 7 Year Bitch_tracks.parquet:  67%|██████▋   | 210/314 [02:08<01:18,  1.32it/s]"
     ]
    },
    {
     "name": "stdout",
     "output_type": "stream",
     "text": [
      "Failed requesting The Kid Don't Look Pretty\n"
     ]
    },
    {
     "name": "stderr",
     "output_type": "stream",
     "text": [
      "Processing 7 Year Bitch_tracks.parquet:  68%|██████▊   | 214/314 [02:11<01:22,  1.22it/s]"
     ]
    },
    {
     "name": "stdout",
     "output_type": "stream",
     "text": [
      "Failed requesting Fast & Hard\n"
     ]
    },
    {
     "name": "stderr",
     "output_type": "stream",
     "text": [
      "Processing 7 Year Bitch_tracks.parquet:  69%|██████▉   | 217/314 [02:13<01:15,  1.28it/s]"
     ]
    },
    {
     "name": "stdout",
     "output_type": "stream",
     "text": [
      "Failed requesting Seven Roads (Second Version)\n"
     ]
    },
    {
     "name": "stderr",
     "output_type": "stream",
     "text": [
      "Processing 7 Year Bitch_tracks.parquet:  70%|███████   | 220/314 [02:15<01:11,  1.31it/s]"
     ]
    },
    {
     "name": "stdout",
     "output_type": "stream",
     "text": [
      "Failed requesting He's Coming\n"
     ]
    },
    {
     "name": "stderr",
     "output_type": "stream",
     "text": [
      "Processing 7 Year Bitch_tracks.parquet:  71%|███████   | 222/314 [02:16<01:02,  1.48it/s]"
     ]
    },
    {
     "name": "stdout",
     "output_type": "stream",
     "text": [
      "Failed requesting No Hearts\n"
     ]
    },
    {
     "name": "stderr",
     "output_type": "stream",
     "text": [
      "Processing 7 Year Bitch_tracks.parquet:  71%|███████▏  | 224/314 [02:18<00:56,  1.60it/s]"
     ]
    },
    {
     "name": "stdout",
     "output_type": "stream",
     "text": [
      "Failed requesting I'm Gonna Leave You\n",
      "Failed requesting Night On the Town\n",
      "Failed requesting Fire In the Night\n"
     ]
    },
    {
     "name": "stderr",
     "output_type": "stream",
     "text": [
      "Processing 7 Year Bitch_tracks.parquet:  73%|███████▎  | 228/314 [02:19<00:38,  2.21it/s]"
     ]
    },
    {
     "name": "stdout",
     "output_type": "stream",
     "text": [
      "Failed requesting Daughter of the Sun\n"
     ]
    },
    {
     "name": "stderr",
     "output_type": "stream",
     "text": [
      "Processing 7 Year Bitch_tracks.parquet:  73%|███████▎  | 230/314 [02:20<00:39,  2.11it/s]"
     ]
    },
    {
     "name": "stdout",
     "output_type": "stream",
     "text": [
      "Failed requesting War and Misery\n"
     ]
    },
    {
     "name": "stderr",
     "output_type": "stream",
     "text": [
      "Processing 7 Year Bitch_tracks.parquet:  76%|███████▌  | 238/314 [02:27<01:09,  1.09it/s]"
     ]
    },
    {
     "name": "stdout",
     "output_type": "stream",
     "text": [
      "Failed requesting Blind\n"
     ]
    },
    {
     "name": "stderr",
     "output_type": "stream",
     "text": [
      "Processing 7 Year Bitch_tracks.parquet:  77%|███████▋  | 243/314 [02:31<01:05,  1.09it/s]"
     ]
    },
    {
     "name": "stdout",
     "output_type": "stream",
     "text": [
      "Failed requesting What I Didn't Know\n"
     ]
    },
    {
     "name": "stderr",
     "output_type": "stream",
     "text": [
      "Processing 7 Year Bitch_tracks.parquet:  78%|███████▊  | 245/314 [02:32<00:51,  1.33it/s]"
     ]
    },
    {
     "name": "stdout",
     "output_type": "stream",
     "text": [
      "Failed requesting Spaceman\n"
     ]
    },
    {
     "name": "stderr",
     "output_type": "stream",
     "text": [
      "Processing 7 Year Bitch_tracks.parquet:  83%|████████▎ | 261/314 [02:48<00:56,  1.07s/it]"
     ]
    },
    {
     "name": "stdout",
     "output_type": "stream",
     "text": [
      "Failed requesting Bad News\n",
      "Failed requesting Sea Engines\n",
      "Failed requesting Oh Lord\n"
     ]
    },
    {
     "name": "stderr",
     "output_type": "stream",
     "text": [
      "Processing 7 Year Bitch_tracks.parquet:  84%|████████▍ | 265/314 [02:49<00:28,  1.75it/s]"
     ]
    },
    {
     "name": "stdout",
     "output_type": "stream",
     "text": [
      "Failed requesting Down in Flames\n"
     ]
    },
    {
     "name": "stderr",
     "output_type": "stream",
     "text": [
      "Processing 7 Year Bitch_tracks.parquet:  88%|████████▊ | 276/314 [03:00<00:38,  1.00s/it]"
     ]
    },
    {
     "name": "stdout",
     "output_type": "stream",
     "text": [
      "Failed requesting You Blues\n"
     ]
    },
    {
     "name": "stderr",
     "output_type": "stream",
     "text": [
      "Processing 7 Year Bitch_tracks.parquet:  91%|█████████ | 286/314 [03:09<00:28,  1.02s/it]"
     ]
    },
    {
     "name": "stdout",
     "output_type": "stream",
     "text": [
      "Failed requesting Bill\n"
     ]
    },
    {
     "name": "stderr",
     "output_type": "stream",
     "text": [
      "Processing 7 Year Bitch_tracks.parquet:  92%|█████████▏| 288/314 [03:10<00:20,  1.25it/s]"
     ]
    },
    {
     "name": "stdout",
     "output_type": "stream",
     "text": [
      "Failed requesting UV Light\n"
     ]
    },
    {
     "name": "stderr",
     "output_type": "stream",
     "text": [
      "Processing 7 Year Bitch_tracks.parquet:  93%|█████████▎| 292/314 [03:13<00:18,  1.20it/s]"
     ]
    },
    {
     "name": "stdout",
     "output_type": "stream",
     "text": [
      "Failed requesting The Girl He First Met\n"
     ]
    },
    {
     "name": "stderr",
     "output_type": "stream",
     "text": [
      "Processing 7 Year Bitch_tracks.parquet: 100%|██████████| 314/314 [03:35<00:00,  1.46it/s]\n",
      "Processing 808 State_tracks.parquet:   2%|▏         | 3/174 [00:00<00:06, 28.34it/s]"
     ]
    },
    {
     "name": "stdout",
     "output_type": "stream",
     "text": [
      "Failed requesting Tokyo Tokyo\n",
      "Failed requesting Skylon\n",
      "Failed requesting Cannonball Waltz\n",
      "Failed requesting The Ludwig Question\n",
      "Failed requesting Huronic\n"
     ]
    },
    {
     "name": "stderr",
     "output_type": "stream",
     "text": [
      "Processing 808 State_tracks.parquet:   6%|▌         | 10/174 [00:00<00:05, 32.36it/s]"
     ]
    },
    {
     "name": "stdout",
     "output_type": "stream",
     "text": [
      "Failed requesting Landau\n",
      "Failed requesting Westland\n",
      "Failed requesting Trinity\n",
      "Failed requesting Ujala\n",
      "Failed requesting Carbonade\n",
      "Failed requesting Pulcenta\n",
      "Failed requesting Angol Argol\n",
      "Failed requesting Bushy Bushy\n"
     ]
    },
    {
     "name": "stderr",
     "output_type": "stream",
     "text": [
      "Processing 808 State_tracks.parquet:  10%|█         | 18/174 [00:00<00:04, 34.50it/s]"
     ]
    },
    {
     "name": "stdout",
     "output_type": "stream",
     "text": [
      "Failed requesting 13 13\n",
      "Failed requesting Crab Claw\n",
      "Failed requesting Eastern Standard\n",
      "Failed requesting Atlas 7\n",
      "Failed requesting Kabuki Disco\n",
      "Failed requesting Lemon - Fritz Von Runte Steppah Design\n",
      "Failed requesting Olympic (Tokyo 1993)\n",
      "Failed requesting Swimperial\n"
     ]
    },
    {
     "name": "stderr",
     "output_type": "stream",
     "text": [
      "Processing 808 State_tracks.parquet:  15%|█▍        | 26/174 [00:00<00:04, 32.36it/s]"
     ]
    },
    {
     "name": "stdout",
     "output_type": "stream",
     "text": [
      "Failed requesting Argento Nastro\n",
      "Failed requesting Colony (Revisited)\n",
      "Failed requesting Flutronic - Update\n",
      "Failed requesting Psalm\n",
      "Failed requesting Shellfish\n",
      "Failed requesting Rotator\n"
     ]
    },
    {
     "name": "stderr",
     "output_type": "stream",
     "text": [
      "Processing 808 State_tracks.parquet:  17%|█▋        | 30/174 [00:00<00:04, 32.82it/s]"
     ]
    },
    {
     "name": "stdout",
     "output_type": "stream",
     "text": [
      "Failed requesting 606\n",
      "Failed requesting Chompsumwong\n",
      "Failed requesting Wheatstraw\n",
      "Failed requesting Boogieman\n",
      "Failed requesting Roundbum Mary\n",
      "Failed requesting Lemonsoul\n",
      "Failed requesting Suntower\n"
     ]
    },
    {
     "name": "stderr",
     "output_type": "stream",
     "text": [
      "Processing 808 State_tracks.parquet:  22%|██▏       | 39/174 [00:01<00:03, 35.61it/s]"
     ]
    },
    {
     "name": "stdout",
     "output_type": "stream",
     "text": [
      "Failed requesting Dissadis\n",
      "Failed requesting Bent\n",
      "Failed requesting Soulflex\n",
      "Failed requesting Crossword\n",
      "Failed requesting Lungfoo\n",
      "Failed requesting Slowboat\n",
      "Failed requesting YoYo\n",
      "Failed requesting Quincy's Lunch\n",
      "Failed requesting Long Orange (Testa)\n"
     ]
    },
    {
     "name": "stderr",
     "output_type": "stream",
     "text": [
      "Processing 808 State_tracks.parquet:  27%|██▋       | 47/174 [00:01<00:03, 32.56it/s]"
     ]
    },
    {
     "name": "stdout",
     "output_type": "stream",
     "text": [
      "Failed requesting Brown Sauce\n",
      "Failed requesting Doctors & Nurses\n",
      "Failed requesting Relay\n",
      "Failed requesting Long Orange\n",
      "Failed requesting Kong King\n",
      "Failed requesting The Ten Ten\n"
     ]
    },
    {
     "name": "stderr",
     "output_type": "stream",
     "text": [
      "Processing 808 State_tracks.parquet:  32%|███▏      | 55/174 [00:01<00:03, 34.86it/s]"
     ]
    },
    {
     "name": "stdout",
     "output_type": "stream",
     "text": [
      "Failed requesting Cassius\n",
      "Failed requesting Hooked\n",
      "Failed requesting Fuzz Nasty\n",
      "Failed requesting Villains and Nerds\n",
      "Failed requesting Quincy's Lunch (Pwl Long)\n",
      "Failed requesting Banacheq\n",
      "Failed requesting Intro\n",
      "Failed requesting Bird\n"
     ]
    },
    {
     "name": "stderr",
     "output_type": "stream",
     "text": [
      "Processing 808 State_tracks.parquet:  34%|███▍      | 59/174 [00:03<00:20,  5.60it/s]"
     ]
    },
    {
     "name": "stdout",
     "output_type": "stream",
     "text": [
      "Failed requesting Black Dartangnon\n",
      "Failed requesting Joyrider\n"
     ]
    },
    {
     "name": "stderr",
     "output_type": "stream",
     "text": [
      "Processing 808 State_tracks.parquet:  40%|████      | 70/174 [00:05<00:12,  8.31it/s]"
     ]
    },
    {
     "name": "stdout",
     "output_type": "stream",
     "text": [
      "Failed requesting Balboa\n",
      "Failed requesting Kohoutek\n",
      "Failed requesting Mooz\n",
      "Failed requesting Jerusahat\n",
      "Failed requesting Banacheq\n",
      "Failed requesting Cübik - Live in Tokyo, 1993\n",
      "Failed requesting Yakuza\n",
      "Failed requesting Lemon - Rhythm Device Mix\n"
     ]
    },
    {
     "name": "stderr",
     "output_type": "stream",
     "text": [
      "Processing 808 State_tracks.parquet:  42%|████▏     | 73/174 [00:05<00:09, 10.15it/s]"
     ]
    },
    {
     "name": "stdout",
     "output_type": "stream",
     "text": [
      "Failed requesting 20:20 - Stormin' Norman Sax Mix\n",
      "Failed requesting La Donna Bionica\n",
      "Failed requesting Repa Repo - Live at Wembley Conference Centre, London, 1992\n",
      "Failed requesting Diana\n",
      "Failed requesting Fear\n",
      "Failed requesting King Quill\n"
     ]
    },
    {
     "name": "stderr",
     "output_type": "stream",
     "text": [
      "Processing 808 State_tracks.parquet:  46%|████▌     | 80/174 [00:05<00:06, 15.45it/s]"
     ]
    },
    {
     "name": "stdout",
     "output_type": "stream",
     "text": [
      "Failed requesting Jackson Fraction\n",
      "Failed requesting Control - 1989\n",
      "Failed requesting Plan 9\n",
      "Failed requesting Moses\n",
      "Failed requesting Contrique\n",
      "Failed requesting 10x10\n",
      "Failed requesting One In Ten - Edit\n",
      "Failed requesting Europa\n"
     ]
    },
    {
     "name": "stderr",
     "output_type": "stream",
     "text": [
      "Processing 808 State_tracks.parquet:  52%|█████▏    | 90/174 [00:05<00:03, 24.68it/s]"
     ]
    },
    {
     "name": "stdout",
     "output_type": "stream",
     "text": [
      "Failed requesting Orbit\n",
      "Failed requesting Black Morpheus\n",
      "Failed requesting Southern Cross\n",
      "Failed requesting Nimbus\n",
      "Failed requesting Colony\n",
      "Failed requesting Timebomb\n",
      "Failed requesting Stormin Norman\n",
      "Failed requesting Sexy Dancer\n",
      "Failed requesting Sexy Synthesizer\n"
     ]
    },
    {
     "name": "stderr",
     "output_type": "stream",
     "text": [
      "Processing 808 State_tracks.parquet:  57%|█████▋    | 99/174 [00:05<00:02, 31.07it/s]"
     ]
    },
    {
     "name": "stdout",
     "output_type": "stream",
     "text": [
      "Failed requesting San Francisco\n",
      "Failed requesting Spanish Heart\n",
      "Failed requesting Leo Leo\n",
      "Failed requesting Qmart\n",
      "Failed requesting Nephatiti\n",
      "Failed requesting Lift\n",
      "Failed requesting Ooops\n",
      "Failed requesting Empire\n",
      "Failed requesting In Yer Face\n",
      "Failed requesting Cübik\n"
     ]
    },
    {
     "name": "stderr",
     "output_type": "stream",
     "text": [
      "Processing 808 State_tracks.parquet:  63%|██████▎   | 109/174 [00:06<00:01, 35.91it/s]"
     ]
    },
    {
     "name": "stdout",
     "output_type": "stream",
     "text": [
      "Failed requesting Lambrusco Cowboy\n",
      "Failed requesting Techno Bell\n",
      "Failed requesting Olympic\n",
      "Failed requesting The Only Rhyme That Bites\n",
      "Failed requesting This Ain't No Fantasy\n",
      "Failed requesting Dance Yourself to Death\n",
      "Failed requesting Own Worst Enemy\n",
      "Failed requesting The North At Its Heights\n",
      "Failed requesting Tunes Splits The Atom\n"
     ]
    },
    {
     "name": "stderr",
     "output_type": "stream",
     "text": [
      "Processing 808 State_tracks.parquet:  66%|██████▌   | 114/174 [00:06<00:01, 37.16it/s]"
     ]
    },
    {
     "name": "stdout",
     "output_type": "stream",
     "text": [
      "Failed requesting Mancunian Blues\n",
      "Failed requesting The Sequel\n",
      "Failed requesting Primary Rhyming\n",
      "Failed requesting Dub At Its Heights\n",
      "Failed requesting The Only Rhyme That Bites - Optical Mix\n",
      "Failed requesting The Only Rhyme That Bites - Ugly As Sin Mix\n"
     ]
    },
    {
     "name": "stderr",
     "output_type": "stream",
     "text": [
      "Processing 808 State_tracks.parquet:  71%|███████▏  | 124/174 [00:06<00:01, 35.08it/s]"
     ]
    },
    {
     "name": "stdout",
     "output_type": "stream",
     "text": [
      "Failed requesting Dance Yourself To Death - Dust Brothers Club Mix\n",
      "Failed requesting Pump\n",
      "Failed requesting More\n",
      "Failed requesting The Only Rhyme That Bites - 808’s Instrumental\n",
      "Failed requesting Dance Yourself To Death - Original 909 Mix\n",
      "Failed requesting Tunes Splits the Atom - Creamatomic Instrumental\n",
      "Failed requesting Pacific 202\n",
      "Failed requesting Boneyween\n",
      "Failed requesting Ancodia\n"
     ]
    },
    {
     "name": "stderr",
     "output_type": "stream",
     "text": [
      "Processing 808 State_tracks.parquet:  77%|███████▋  | 134/174 [00:06<00:01, 37.86it/s]"
     ]
    },
    {
     "name": "stdout",
     "output_type": "stream",
     "text": [
      "Failed requesting Kinky National\n",
      "Failed requesting Cobra Bora\n",
      "Failed requesting Cübik\n",
      "Failed requesting Magical Dream\n",
      "Failed requesting 808080808\n",
      "Failed requesting Revenge Of The Girlie Men\n",
      "Failed requesting Donkey Doctor\n",
      "Failed requesting Sunrise\n",
      "Failed requesting State To State\n"
     ]
    },
    {
     "name": "stderr",
     "output_type": "stream",
     "text": [
      "Processing 808 State_tracks.parquet:  80%|███████▉  | 139/174 [00:06<00:00, 38.68it/s]"
     ]
    },
    {
     "name": "stdout",
     "output_type": "stream",
     "text": [
      "Failed requesting Magical Dream\n",
      "Failed requesting Ancodia\n",
      "Failed requesting Cobra Bora\n",
      "Failed requesting Pacific 202\n",
      "Failed requesting Donkey Doctor\n",
      "Failed requesting 808080808\n"
     ]
    },
    {
     "name": "stderr",
     "output_type": "stream",
     "text": [
      "Processing 808 State_tracks.parquet:  84%|████████▍ | 147/174 [00:07<00:00, 32.99it/s]"
     ]
    },
    {
     "name": "stdout",
     "output_type": "stream",
     "text": [
      "Failed requesting Sunrise\n",
      "Failed requesting The Fat Shadow - Pointy Head Mix\n",
      "Failed requesting The Only Rhyme That Bites - 808:99 Remix\n",
      "Failed requesting The Only Rhyme That Bites - Optical Mix\n",
      "Failed requesting The Only Rhyme That Bites - 808’s Instrumental\n",
      "Failed requesting The Only Rhyme That Bytes - 808's Recut\n",
      "Failed requesting Pump\n",
      "Failed requesting More\n"
     ]
    },
    {
     "name": "stderr",
     "output_type": "stream",
     "text": [
      "Processing 808 State_tracks.parquet:  89%|████████▉ | 155/174 [00:07<00:00, 34.63it/s]"
     ]
    },
    {
     "name": "stdout",
     "output_type": "stream",
     "text": [
      "Failed requesting Pump - FON Mix\n",
      "Failed requesting Relay - FON Mix\n",
      "Failed requesting Cobra Bora - Tribal Gathering Mix\n",
      "Failed requesting Dance Yourself To Death - Dust Brothers Club Mix\n",
      "Failed requesting Dance Yourself To Death - Dust Brothers Club Mix Instrumental\n",
      "Failed requesting Dance Yourself To Death - Dust Brothers Instrumental\n",
      "Failed requesting Dance Yourself To Death - Dust Brothers Versamental\n",
      "Failed requesting Primary Rhyming - 7\" Mix\n"
     ]
    },
    {
     "name": "stderr",
     "output_type": "stream",
     "text": [
      "Processing 808 State_tracks.parquet:  94%|█████████▎| 163/174 [00:07<00:00, 33.76it/s]"
     ]
    },
    {
     "name": "stdout",
     "output_type": "stream",
     "text": [
      "Failed requesting Primary Rhyming - Extended Mix\n",
      "Failed requesting Primary Rhyming - Instrumental Mix\n",
      "Failed requesting Dub At Its Heights\n",
      "Failed requesting Tunes Splits The Atom - Creamatomic Alternative\n",
      "Failed requesting Tunes Splits The Atom - Creamatomic Alternative Instrumental\n",
      "Failed requesting Tunes Splits The Atom - Cool Atom Alternative\n",
      "Failed requesting Tunes Splits The Atom - Cool Atom Alternative Instrumental\n",
      "Failed requesting The Only Rhyme That Bites - 7\" Mix\n"
     ]
    },
    {
     "name": "stderr",
     "output_type": "stream",
     "text": [
      "Processing 808 State_tracks.parquet:  98%|█████████▊| 171/174 [00:07<00:00, 34.12it/s]"
     ]
    },
    {
     "name": "stdout",
     "output_type": "stream",
     "text": [
      "Failed requesting The Only Rhyme That Bytes - Extended Mix\n",
      "Failed requesting The Only Rhyme That Bites - Extended Mix\n",
      "Failed requesting The Only Rhyme That Bytes - 7\" Mix\n",
      "Failed requesting Tunes Splits The Atom - Rap\n",
      "Failed requesting Dance Yourself To Death - Marley Mix\n",
      "Failed requesting Tunes Splits The Atom - Zero Gravity Mix\n",
      "Failed requesting Tunes Splits The Atom\n",
      "Failed requesting Death04 - 808 State Remix\n"
     ]
    },
    {
     "name": "stderr",
     "output_type": "stream",
     "text": [
      "Processing 808 State_tracks.parquet: 100%|██████████| 174/174 [00:07<00:00, 21.84it/s]\n",
      "Processing 8Ball & MJG_tracks.parquet:   1%|          | 3/263 [00:00<00:10, 25.69it/s]"
     ]
    },
    {
     "name": "stdout",
     "output_type": "stream",
     "text": [
      "Failed requesting Tha Business\n",
      "Failed requesting Fuck Niggas\n",
      "Failed requesting It's Music\n",
      "Failed requesting Super Bowl Big\n",
      "Failed requesting Celebrate\n",
      "Failed requesting Blow it Out\n",
      "Failed requesting Real Down Bitch\n"
     ]
    },
    {
     "name": "stderr",
     "output_type": "stream",
     "text": [
      "Processing 8Ball & MJG_tracks.parquet:   4%|▍         | 11/263 [00:00<00:07, 32.63it/s]"
     ]
    },
    {
     "name": "stdout",
     "output_type": "stream",
     "text": [
      "Failed requesting Don't Stop\n",
      "Failed requesting Real Quick\n",
      "Failed requesting Greed\n",
      "Failed requesting Puttin in Work\n",
      "Failed requesting Ain't Gotta Tell Ya\n",
      "Failed requesting Already\n",
      "Failed requesting At Last\n"
     ]
    },
    {
     "name": "stderr",
     "output_type": "stream",
     "text": [
      "Processing 8Ball & MJG_tracks.parquet:   7%|▋         | 19/263 [00:00<00:07, 34.02it/s]"
     ]
    },
    {
     "name": "stdout",
     "output_type": "stream",
     "text": [
      "Failed requesting Get Yo Ass Up\n",
      "Failed requesting Ballin on You - Bonus Track\n",
      "Failed requesting Ya'll Ain't Ready\n",
      "Failed requesting Pimp Tight\n",
      "Failed requesting Get Yo Ass Up\n",
      "Failed requesting The Truth\n",
      "Failed requesting Get You a Hoe\n",
      "Failed requesting High Like an Eagle\n"
     ]
    },
    {
     "name": "stderr",
     "output_type": "stream",
     "text": [
      "Processing 8Ball & MJG_tracks.parquet:  10%|█         | 27/263 [00:00<00:06, 33.74it/s]"
     ]
    },
    {
     "name": "stdout",
     "output_type": "stream",
     "text": [
      "Failed requesting Big Stakes\n",
      "Failed requesting At Last\n",
      "Failed requesting My Life, This Way\n",
      "Failed requesting I Still Lay It Down\n",
      "Failed requesting I Tried\n",
      "Failed requesting Whatever I Wanna Do\n",
      "Failed requesting Small Town Girl\n",
      "Failed requesting It Ain't Over\n"
     ]
    },
    {
     "name": "stderr",
     "output_type": "stream",
     "text": [
      "Processing 8Ball & MJG_tracks.parquet:  13%|█▎        | 35/263 [00:01<00:06, 34.88it/s]"
     ]
    },
    {
     "name": "stdout",
     "output_type": "stream",
     "text": [
      "Failed requesting Puttin in Work - Instrumental Bonus Track\n",
      "Failed requesting Ain't Gotta Tell Ya - Instrumental Bonus Track\n",
      "Failed requesting Blunts & Broads - Instrumental Bonus Track\n",
      "Failed requesting 9mm (Live)\n",
      "Failed requesting Comin out Hard (Live)\n",
      "Failed requesting Don't Want Drama (Live)\n",
      "Failed requesting Lay It Down (Live)\n"
     ]
    },
    {
     "name": "stderr",
     "output_type": "stream",
     "text": [
      "Processing 8Ball & MJG_tracks.parquet:  16%|█▋        | 43/263 [00:01<00:06, 32.82it/s]"
     ]
    },
    {
     "name": "stdout",
     "output_type": "stream",
     "text": [
      "Failed requesting Life Goes on (Live)\n",
      "Failed requesting Mr. Bigg (Live)\n",
      "Failed requesting My Homeboy's Girlfriend (Live)\n",
      "Failed requesting Paid Dues (Live)\n",
      "Failed requesting Pimp Hard (Live)\n",
      "Failed requesting Relax & Take Notes (Live)\n",
      "Failed requesting Space Age Pimpin' (Live)\n",
      "Failed requesting Take a Picture (Bonus Track)\n"
     ]
    },
    {
     "name": "stderr",
     "output_type": "stream",
     "text": [
      "Processing 8Ball & MJG_tracks.parquet:  19%|█▉        | 51/263 [00:01<00:06, 33.36it/s]"
     ]
    },
    {
     "name": "stdout",
     "output_type": "stream",
     "text": [
      "Failed requesting Tha Business\n",
      "Failed requesting Fuck Niggas\n",
      "Failed requesting It's Music\n",
      "Failed requesting Super Bowl Big\n",
      "Failed requesting Celebrate\n",
      "Failed requesting Blow it Out\n",
      "Failed requesting Real Down Bitch\n"
     ]
    },
    {
     "name": "stderr",
     "output_type": "stream",
     "text": [
      "Processing 8Ball & MJG_tracks.parquet:  22%|██▏       | 59/263 [00:01<00:05, 34.31it/s]"
     ]
    },
    {
     "name": "stdout",
     "output_type": "stream",
     "text": [
      "Failed requesting Don't Stop\n",
      "Failed requesting Real Quick\n",
      "Failed requesting Greed\n",
      "Failed requesting Puttin in Work\n",
      "Failed requesting Ain't Gotta Tell Ya\n",
      "Failed requesting Already\n",
      "Failed requesting At Last\n",
      "Failed requesting Get Yo Ass Up\n"
     ]
    },
    {
     "name": "stderr",
     "output_type": "stream",
     "text": [
      "Processing 8Ball & MJG_tracks.parquet:  25%|██▌       | 67/263 [00:01<00:05, 34.08it/s]"
     ]
    },
    {
     "name": "stdout",
     "output_type": "stream",
     "text": [
      "Failed requesting Ballin on You\n",
      "Failed requesting Tha Business\n",
      "Failed requesting It's Music\n",
      "Failed requesting Super Bowl Big\n",
      "Failed requesting Celebrate\n",
      "Failed requesting Blow It Out\n",
      "Failed requesting Real Down Bitch\n",
      "Failed requesting Don't Stop\n"
     ]
    },
    {
     "name": "stderr",
     "output_type": "stream",
     "text": [
      "Processing 8Ball & MJG_tracks.parquet:  29%|██▊       | 75/263 [00:02<00:05, 36.07it/s]"
     ]
    },
    {
     "name": "stdout",
     "output_type": "stream",
     "text": [
      "Failed requesting Real Quick\n",
      "Failed requesting Greed\n",
      "Failed requesting Puttin in Work\n",
      "Failed requesting Ain't Gotta Tell Ya\n",
      "Failed requesting Already\n",
      "Failed requesting Fuck Niggas\n",
      "Failed requesting Blunts & Broads (Bonus Track) - Acapella\n",
      "Failed requesting Blunts & Broads - Instrumental\n"
     ]
    },
    {
     "name": "stderr",
     "output_type": "stream",
     "text": [
      "Processing 8Ball & MJG_tracks.parquet:  32%|███▏      | 83/263 [00:02<00:04, 36.45it/s]"
     ]
    },
    {
     "name": "stdout",
     "output_type": "stream",
     "text": [
      "Failed requesting Ya'll Ain't Ready\n",
      "Failed requesting Pimp Tight\n",
      "Failed requesting Get Yo Ass Up\n",
      "Failed requesting Long Distance Intro - Smoked & Chopped\n",
      "Failed requesting Lick’em Up Shot - Smoked & Chopped\n",
      "Failed requesting Crumbz 2 Brixx - Smoked & Chopped\n",
      "Failed requesting Players Night Out - Smoked & Chopped\n",
      "Failed requesting Sesshead Funk Junky - Smoked & Chopped\n"
     ]
    },
    {
     "name": "stderr",
     "output_type": "stream",
     "text": [
      "Processing 8Ball & MJG_tracks.parquet:  33%|███▎      | 87/263 [00:02<00:04, 36.44it/s]"
     ]
    },
    {
     "name": "stdout",
     "output_type": "stream",
     "text": [
      "Failed requesting So What U Sayin’ - Smoked & Chopped\n",
      "Failed requesting No Sellout - Smoked & Chopped\n",
      "Failed requesting Lay It Down - Smoked & Chopped\n",
      "Failed requesting Another Day in tha Hood - Smoked & Chopped\n",
      "Failed requesting No Mercy - Smoked & Chopped\n",
      "Failed requesting On Tha Outside Lookin’ In - Smoked & Chopped\n",
      "Failed requesting Break-A-Bitch College - Smoked & Chopped\n",
      "Failed requesting Intro - Smoked & Chopped\n"
     ]
    },
    {
     "name": "stderr",
     "output_type": "stream",
     "text": [
      "Processing 8Ball & MJG_tracks.parquet:  38%|███▊      | 100/263 [00:02<00:04, 38.15it/s]"
     ]
    },
    {
     "name": "stdout",
     "output_type": "stream",
     "text": [
      "Failed requesting 9 Little Millimeta Boys - Smoked & Chopped\n",
      "Failed requesting The First Episode - Smoked & Chopped\n",
      "Failed requesting Armed Robbery - Smoked & Chopped\n",
      "Failed requesting Pimps - Smoked & Chopped\n",
      "Failed requesting Comin’ Out Hard - Smoked & Chopped\n",
      "Failed requesting Mr. Big - Smoked & Chopped\n",
      "Failed requesting Nigga’s Like Us - Smoked & Chopped\n",
      "Failed requesting Pimps in the House - Smoked & Chopped\n"
     ]
    },
    {
     "name": "stderr",
     "output_type": "stream",
     "text": [
      "Processing 8Ball & MJG_tracks.parquet:  40%|███▉      | 104/263 [00:02<00:04, 36.11it/s]"
     ]
    },
    {
     "name": "stdout",
     "output_type": "stream",
     "text": [
      "Failed requesting Bigger Vision\n",
      "Failed requesting Polo & Fresh J’s\n",
      "Failed requesting No Room\n",
      "Failed requesting Roll Up, Poe Up\n",
      "Failed requesting Uncle Ball\n",
      "Failed requesting Slap\n",
      "Failed requesting Drop\n"
     ]
    },
    {
     "name": "stderr",
     "output_type": "stream",
     "text": [
      "Processing 8Ball & MJG_tracks.parquet:  43%|████▎     | 112/263 [00:03<00:04, 36.14it/s]"
     ]
    },
    {
     "name": "stdout",
     "output_type": "stream",
     "text": [
      "Failed requesting Las Nite\n",
      "Failed requesting Neva Luv Again\n",
      "Failed requesting Ratchet\n",
      "Failed requesting Not Ready\n",
      "Failed requesting In This World\n"
     ]
    },
    {
     "name": "stderr",
     "output_type": "stream",
     "text": [
      "Processing 8Ball & MJG_tracks.parquet:  44%|████▍     | 116/263 [00:03<00:04, 29.89it/s]"
     ]
    },
    {
     "name": "stdout",
     "output_type": "stream",
     "text": [
      "Failed requesting Indestructible (feat. Keelyn Ellis)\n",
      "Failed requesting This That (feat. Singa)\n",
      "Failed requesting We Buy Gold (feat. MJG & Big Krit)\n",
      "Failed requesting GoThatAWay (feat. LC)\n",
      "Failed requesting Don't Bring Me Down (feat. 2 Chainz)\n",
      "Failed requesting Good Girl Bad Girl\n",
      "Failed requesting Touch\n",
      "Failed requesting The Price (feat. Ebony Love)\n"
     ]
    },
    {
     "name": "stderr",
     "output_type": "stream",
     "text": [
      "Processing 8Ball & MJG_tracks.parquet:  48%|████▊     | 125/263 [00:03<00:04, 33.82it/s]"
     ]
    },
    {
     "name": "stdout",
     "output_type": "stream",
     "text": [
      "Failed requesting Life's Quest (feat. Angie Stone)\n",
      "Failed requesting Lucky's Theme Song\n",
      "Failed requesting You'll Never Know\n",
      "Failed requesting Good Days (feat. Slim)\n",
      "Failed requesting It's Going Down\n",
      "Failed requesting Bring It Back\n",
      "Failed requesting I Don't Give A F***\n",
      "Failed requesting Ten Toes Down\n"
     ]
    },
    {
     "name": "stderr",
     "output_type": "stream",
     "text": [
      "Processing 8Ball & MJG_tracks.parquet:  51%|█████     | 134/263 [00:03<00:03, 36.97it/s]"
     ]
    },
    {
     "name": "stdout",
     "output_type": "stream",
     "text": [
      "Failed requesting F*** You Mean\n",
      "Failed requesting We Come From\n",
      "Failed requesting She's So Fine\n",
      "Failed requesting Grinding\n",
      "Failed requesting Spotlight\n",
      "Failed requesting Right Now\n",
      "Failed requesting What They Do\n",
      "Failed requesting Billy \"Truth Be Told\"\n",
      "Failed requesting Life Goes On\n"
     ]
    },
    {
     "name": "stderr",
     "output_type": "stream",
     "text": [
      "Processing 8Ball & MJG_tracks.parquet:  54%|█████▍    | 143/263 [00:04<00:03, 38.15it/s]"
     ]
    },
    {
     "name": "stdout",
     "output_type": "stream",
     "text": [
      "Failed requesting Still Remain\n",
      "Failed requesting Intro\n",
      "Failed requesting Never Gon Stop Up\n",
      "Failed requesting Hater\n",
      "Failed requesting Get This Money\n",
      "Failed requesting They Don't Like It\n",
      "Failed requesting SetUpShop\n",
      "Failed requesting Oh Yeah\n"
     ]
    },
    {
     "name": "stderr",
     "output_type": "stream",
     "text": [
      "Processing 8Ball & MJG_tracks.parquet:  57%|█████▋    | 151/263 [00:04<00:03, 35.31it/s]"
     ]
    },
    {
     "name": "stdout",
     "output_type": "stream",
     "text": [
      "Failed requesting Dollaz\n",
      "Failed requesting Derty On Purpose\n",
      "Failed requesting Hooo!!\n",
      "Failed requesting Stickin2MyFingaz\n",
      "Failed requesting Karma\n",
      "Failed requesting Intro\n",
      "Failed requesting On The Grind\n",
      "Failed requesting Candy Paint\n"
     ]
    },
    {
     "name": "stderr",
     "output_type": "stream",
     "text": [
      "Processing 8Ball & MJG_tracks.parquet:  60%|██████    | 159/263 [00:04<00:02, 36.65it/s]"
     ]
    },
    {
     "name": "stdout",
     "output_type": "stream",
     "text": [
      "Failed requesting Checkin Messages (Skit #1)\n",
      "Failed requesting Er' Body Kno Me\n",
      "Failed requesting Tutti Frutti\n",
      "Failed requesting Checkin Messages (Skit #2)\n",
      "Failed requesting Get Doe\n",
      "Failed requesting Checkin Messages (Skit #3)\n",
      "Failed requesting Clap\n",
      "Failed requesting On The Grind (Remix)\n",
      "Failed requesting Checkin Messages (Skit #4)\n"
     ]
    },
    {
     "name": "stderr",
     "output_type": "stream",
     "text": [
      "Processing 8Ball & MJG_tracks.parquet:  63%|██████▎   | 167/263 [00:04<00:02, 35.08it/s]"
     ]
    },
    {
     "name": "stdout",
     "output_type": "stream",
     "text": [
      "Failed requesting Soulsaver\n",
      "Failed requesting Dig It\n",
      "Failed requesting Rooftops\n",
      "Failed requesting Trust Me\n",
      "Failed requesting 21st Century Man\n",
      "Failed requesting Handfuls\n",
      "Failed requesting My 55\n",
      "Failed requesting Lets Get Dead\n"
     ]
    },
    {
     "name": "stderr",
     "output_type": "stream",
     "text": [
      "Processing 8Ball & MJG_tracks.parquet:  67%|██████▋   | 175/263 [00:05<00:02, 35.45it/s]"
     ]
    },
    {
     "name": "stdout",
     "output_type": "stream",
     "text": [
      "Failed requesting MN8\n",
      "Failed requesting None of the Above\n",
      "Failed requesting Thinking of You\n",
      "Failed requesting Welcome\n",
      "Failed requesting Gangsta Luv (Feat. Tela, MJG & Gino)\n",
      "Failed requesting Getting It In (Feat. MJG & Yo Gotti)\n",
      "Failed requesting Smoke Somethin' (Feat. Kaz, Lord T & Eloise)\n",
      "Failed requesting My Whole Life (Feat. Gangsta Blak)\n"
     ]
    },
    {
     "name": "stderr",
     "output_type": "stream",
     "text": [
      "Processing 8Ball & MJG_tracks.parquet:  70%|██████▉   | 183/263 [00:05<00:02, 34.11it/s]"
     ]
    },
    {
     "name": "stdout",
     "output_type": "stream",
     "text": [
      "Failed requesting Set Up Shop (Feat. Criminal Mane & Nasty Nardo)\n",
      "Failed requesting Good (Feat. Gangsta Boo & La Chat)\n",
      "Failed requesting Get Gone (Feat. Devius & Da Volunteers)\n",
      "Failed requesting Dollaz (Feat. Kingpin Skinny Pimp, PB Memphis & Dee Jay)\n",
      "Failed requesting This Ain't (Feat. MJG, Project Pat, Young D & Juicy J)\n",
      "Failed requesting So Thick (Feat. Kinfolk Thugs)\n",
      "Failed requesting Stickin2MyFingaz (Feat. MJG, Al Kapone & Sir Vince)\n"
     ]
    },
    {
     "name": "stderr",
     "output_type": "stream",
     "text": [
      "Processing 8Ball & MJG_tracks.parquet:  73%|███████▎  | 191/263 [00:05<00:02, 33.62it/s]"
     ]
    },
    {
     "name": "stdout",
     "output_type": "stream",
     "text": [
      "Failed requesting In The Town (Feat. Big Ammo & Mac E)\n",
      "Failed requesting 100% (Feat. Yung Key)\n",
      "Failed requesting Don't Worry (Feat. Devius & MJG)\n",
      "Failed requesting Love Spoken (Feat. El Hakim the Poet)\n",
      "Failed requesting Pass The Rock\n",
      "Failed requesting Street Dreams\n",
      "Failed requesting Err Body Kno Me\n"
     ]
    },
    {
     "name": "stderr",
     "output_type": "stream",
     "text": [
      "Processing 8Ball & MJG_tracks.parquet:  76%|███████▌  | 199/263 [00:05<00:01, 33.56it/s]"
     ]
    },
    {
     "name": "stdout",
     "output_type": "stream",
     "text": [
      "Failed requesting Get' Em Up\n",
      "Failed requesting Boom Baboom\n",
      "Failed requesting Ice Cream\n",
      "Failed requesting Beat The Brakes\n",
      "Failed requesting Never Fold\n",
      "Failed requesting Money Machine\n",
      "Failed requesting Clap\n",
      "Failed requesting Hustle Hard\n"
     ]
    },
    {
     "name": "stderr",
     "output_type": "stream",
     "text": [
      "Processing 8Ball & MJG_tracks.parquet:  79%|███████▊  | 207/263 [00:05<00:01, 33.82it/s]"
     ]
    },
    {
     "name": "stdout",
     "output_type": "stream",
     "text": [
      "Failed requesting Promise\n",
      "Failed requesting Bonus Track\n",
      "Failed requesting M Gang\n",
      "Failed requesting Purple Stuff\n",
      "Failed requesting Swervin'\n",
      "Failed requesting Time2hitdaclub\n",
      "Failed requesting Clear It Out\n",
      "Failed requesting Battle Field\n"
     ]
    },
    {
     "name": "stderr",
     "output_type": "stream",
     "text": [
      "Processing 8Ball & MJG_tracks.parquet:  82%|████████▏ | 215/263 [00:06<00:01, 35.71it/s]"
     ]
    },
    {
     "name": "stdout",
     "output_type": "stream",
     "text": [
      "Failed requesting Sit Back\n",
      "Failed requesting Anotha Level\n",
      "Failed requesting This Aint That\n",
      "Failed requesting Yo Bitch\n",
      "Failed requesting The Greatest\n",
      "Failed requesting Light Up Tha Bomb\n",
      "Failed requesting M Gang\n",
      "Failed requesting Purple Stuff\n"
     ]
    },
    {
     "name": "stderr",
     "output_type": "stream",
     "text": [
      "Processing 8Ball & MJG_tracks.parquet:  83%|████████▎ | 219/263 [00:06<00:01, 36.26it/s]"
     ]
    },
    {
     "name": "stdout",
     "output_type": "stream",
     "text": [
      "Failed requesting Swervin'\n",
      "Failed requesting Time2hitdaclub\n",
      "Failed requesting Da Fight\n",
      "Failed requesting Clear It Out\n",
      "Failed requesting Barney Phife\n"
     ]
    },
    {
     "name": "stderr",
     "output_type": "stream",
     "text": [
      "Processing 8Ball & MJG_tracks.parquet:  86%|████████▋ | 227/263 [00:06<00:01, 28.57it/s]"
     ]
    },
    {
     "name": "stdout",
     "output_type": "stream",
     "text": [
      "Failed requesting Battle Field\n",
      "Failed requesting Let It Be Known\n",
      "Failed requesting Sit Back\n",
      "Failed requesting Anotha Level\n",
      "Failed requesting This Aint That\n",
      "Failed requesting Yo Bitch\n",
      "Failed requesting The Greatest\n"
     ]
    },
    {
     "name": "stderr",
     "output_type": "stream",
     "text": [
      "Processing 8Ball & MJG_tracks.parquet:  89%|████████▉ | 235/263 [00:06<00:00, 31.78it/s]"
     ]
    },
    {
     "name": "stdout",
     "output_type": "stream",
     "text": [
      "Failed requesting Light Up Tha Bomb\n",
      "Failed requesting Intro\n",
      "Failed requesting Yes\n",
      "Failed requesting Cromey 24's\n",
      "Failed requesting Gangsta Walk\n",
      "Failed requesting Nuthin But Anna\n",
      "Failed requesting Get Money\n",
      "Failed requesting Pimp Dem H*ez\n"
     ]
    },
    {
     "name": "stderr",
     "output_type": "stream",
     "text": [
      "Processing 8Ball & MJG_tracks.parquet:  92%|█████████▏| 243/263 [00:07<00:00, 33.18it/s]"
     ]
    },
    {
     "name": "stdout",
     "output_type": "stream",
     "text": [
      "Failed requesting Skit\n",
      "Failed requesting 7 Days\n",
      "Failed requesting Shiny Stones\n",
      "Failed requesting Cadillac Pimpin\n",
      "Failed requesting Peep My Campaign\n",
      "Failed requesting I Got It 4 Cheap\n",
      "Failed requesting Hate 2 See Me\n",
      "Failed requesting Ahhight Na\n"
     ]
    },
    {
     "name": "stderr",
     "output_type": "stream",
     "text": [
      "Processing 8Ball & MJG_tracks.parquet:  95%|█████████▌| 251/263 [00:07<00:00, 34.90it/s]"
     ]
    },
    {
     "name": "stdout",
     "output_type": "stream",
     "text": [
      "Failed requesting Outro\n",
      "Failed requesting Big Baby\n",
      "Failed requesting Greese & Pieces\n",
      "Failed requesting U Can't F*k Wit It\n",
      "Failed requesting N****s & B****s\n",
      "Failed requesting Keep On Pimpin\n",
      "Failed requesting Down And Dirty\n",
      "Failed requesting Kill Em All\n"
     ]
    },
    {
     "name": "stderr",
     "output_type": "stream",
     "text": [
      "Processing 8Ball & MJG_tracks.parquet:  98%|█████████▊| 259/263 [00:07<00:00, 36.23it/s]"
     ]
    },
    {
     "name": "stdout",
     "output_type": "stream",
     "text": [
      "Failed requesting G-type\n",
      "Failed requesting All In A Day\n",
      "Failed requesting F**k Wit Me\n",
      "Failed requesting Big Trick\n",
      "Failed requesting 2 All My N****s\n",
      "Failed requesting Like Me\n",
      "Failed requesting Top Notch\n",
      "Failed requesting Buc Wid It\n",
      "Failed requesting Something 2 Say\n"
     ]
    },
    {
     "name": "stderr",
     "output_type": "stream",
     "text": [
      "Processing 8Ball & MJG_tracks.parquet: 100%|██████████| 263/263 [00:07<00:00, 34.45it/s]\n",
      "Processing 90 Day Men_tracks.parquet:  11%|█         | 4/36 [00:00<00:00, 37.09it/s]"
     ]
    },
    {
     "name": "stdout",
     "output_type": "stream",
     "text": [
      "Failed requesting Big Baby Out\n",
      "Failed requesting 2 Much\n",
      "Failed requesting Even Time Ghost Can't Stop Wagner\n",
      "Failed requesting When Your Luck Runs Out\n",
      "Failed requesting Chronological Disorder\n",
      "Failed requesting Sequel\n",
      "Failed requesting Too Late Or Too Dead\n",
      "Failed requesting Silver And Snow\n"
     ]
    },
    {
     "name": "stderr",
     "output_type": "stream",
     "text": [
      "Processing 90 Day Men_tracks.parquet:  36%|███▌      | 13/36 [00:00<00:00, 38.38it/s]"
     ]
    },
    {
     "name": "stdout",
     "output_type": "stream",
     "text": [
      "Failed requesting Night Birds\n",
      "Failed requesting I've Got Designs On You\n",
      "Failed requesting Last Night, A DJ Saved My Life\n",
      "Failed requesting Saint Theresa In Ecstasy\n",
      "Failed requesting We Blame Chicago\n",
      "Failed requesting Alligator\n",
      "Failed requesting A National Car Crash\n",
      "Failed requesting Even Time Ghost Can't Stop Wagner\n"
     ]
    },
    {
     "name": "stderr",
     "output_type": "stream",
     "text": [
      "Processing 90 Day Men_tracks.parquet:  47%|████▋     | 17/36 [00:00<00:00, 35.49it/s]"
     ]
    },
    {
     "name": "stdout",
     "output_type": "stream",
     "text": [
      "Failed requesting When Your Luck Runs Out\n",
      "Failed requesting Too Late Or Too Dead\n",
      "Failed requesting Harlequin's Chassis\n",
      "Failed requesting Eyes In The Road\n",
      "Failed requesting From One Prima Donna To Another\n",
      "Failed requesting Studio Track Four\n",
      "Failed requesting Methodist\n"
     ]
    },
    {
     "name": "stderr",
     "output_type": "stream",
     "text": [
      "Processing 90 Day Men_tracks.parquet:  81%|████████  | 29/36 [00:00<00:00, 35.31it/s]"
     ]
    },
    {
     "name": "stdout",
     "output_type": "stream",
     "text": [
      "Failed requesting My Trip To Venus\n",
      "Failed requesting Sink Potemken\n",
      "Failed requesting Streamlines And Breadwinners\n",
      "Failed requesting Sweater Queen\n",
      "Failed requesting Hey, Citronella!\n",
      "Failed requesting Bred in Kentucky\n",
      "Failed requesting Bad Houses\n",
      "Failed requesting Get in the Riv\n",
      "Failed requesting Sweater Queen\n",
      "Failed requesting Lady\n",
      "Failed requesting Suddenly, Everyone's a Smoker\n"
     ]
    },
    {
     "name": "stderr",
     "output_type": "stream",
     "text": [
      "Processing 90 Day Men_tracks.parquet: 100%|██████████| 36/36 [00:01<00:00, 31.09it/s]\n",
      "Processing 95 South_tracks.parquet:   0%|          | 0/96 [00:00<?, ?it/s]"
     ]
    },
    {
     "name": "stdout",
     "output_type": "stream",
     "text": [
      "Failed requesting Understand\n",
      "Failed requesting Lone Tree Point\n",
      "Failed requesting Minnesota Fats\n",
      "Failed requesting Streamlines and Breadwinners\n",
      "Failed requesting Tightwork\n",
      "Failed requesting Wet-N-Wild\n"
     ]
    },
    {
     "name": "stderr",
     "output_type": "stream",
     "text": [
      "Processing 95 South_tracks.parquet:   8%|▊         | 8/96 [00:00<00:02, 35.14it/s]"
     ]
    },
    {
     "name": "stdout",
     "output_type": "stream",
     "text": [
      "Failed requesting Skit: Everything Fré\n",
      "Failed requesting Boon-Key Drop\n",
      "Failed requesting Tightwork (Dat's Dat Sshhh) (feat. 10 K.A.N'S)\n",
      "Failed requesting Hooked\n",
      "Failed requesting Don't Call Me\n",
      "Failed requesting Like So\n",
      "Failed requesting Ms. Got Dat Booty\n",
      "Failed requesting Down Low\n"
     ]
    },
    {
     "name": "stderr",
     "output_type": "stream",
     "text": [
      "Processing 95 South_tracks.parquet:  17%|█▋        | 16/96 [00:00<00:02, 35.49it/s]"
     ]
    },
    {
     "name": "stdout",
     "output_type": "stream",
     "text": [
      "Failed requesting Wrong Place, Wrong Time\n",
      "Failed requesting Skit: Friday Night\n",
      "Failed requesting Dr. Boom\n",
      "Failed requesting Cool Ade - Extended Mix\n",
      "Failed requesting Trickin' 2Nite\n",
      "Failed requesting Bass Check II\n",
      "Failed requesting Whoot, There It Is (Ultimix)\n",
      "Failed requesting Hump Wit It\n"
     ]
    },
    {
     "name": "stderr",
     "output_type": "stream",
     "text": [
      "Processing 95 South_tracks.parquet:  26%|██▌       | 25/96 [00:00<00:01, 38.10it/s]"
     ]
    },
    {
     "name": "stdout",
     "output_type": "stream",
     "text": [
      "Failed requesting Booty Hop\n",
      "Failed requesting Whoot, There It Is\n",
      "Failed requesting Bring out da Ho's\n",
      "Failed requesting Do It Baby\n",
      "Failed requesting This Is a Test\n",
      "Failed requesting 60 Seconds\n",
      "Failed requesting Let's Go to My Room\n",
      "Failed requesting Shouts Out\n",
      "Failed requesting One Time\n"
     ]
    },
    {
     "name": "stderr",
     "output_type": "stream",
     "text": [
      "Processing 95 South_tracks.parquet:  34%|███▍      | 33/96 [00:00<00:01, 37.12it/s]"
     ]
    },
    {
     "name": "stdout",
     "output_type": "stream",
     "text": [
      "Failed requesting K-Knock in da House/We Got da Bass\n",
      "Failed requesting Shake Rattle N' Roll\n",
      "Failed requesting Booty Man Battle\n",
      "Failed requesting Da Kinda Bass\n",
      "Failed requesting 95 South in da House\n",
      "Failed requesting So Clear\n",
      "Failed requesting Ghetto Style\n",
      "Failed requesting Bassfoyoace\n"
     ]
    },
    {
     "name": "stderr",
     "output_type": "stream",
     "text": [
      "Processing 95 South_tracks.parquet:  43%|████▎     | 41/96 [00:01<00:01, 36.57it/s]"
     ]
    },
    {
     "name": "stdout",
     "output_type": "stream",
     "text": [
      "Failed requesting Quad City Funk\n",
      "Failed requesting All The Way Down\n",
      "Failed requesting Rodeo\n",
      "Failed requesting Wine & Dine\n",
      "Failed requesting One Mo' Gen\n",
      "Failed requesting Trip 2 The Geto\n",
      "Failed requesting I Tell U What\n",
      "Failed requesting Ride Out\n",
      "Failed requesting Freak Ya' Down\n"
     ]
    },
    {
     "name": "stderr",
     "output_type": "stream",
     "text": [
      "Processing 95 South_tracks.parquet:  51%|█████     | 49/96 [00:01<00:01, 32.06it/s]"
     ]
    },
    {
     "name": "stdout",
     "output_type": "stream",
     "text": [
      "Failed requesting Heiny Heiny\n",
      "Failed requesting Break It On Down\n",
      "Failed requesting Down South\n",
      "Failed requesting Cowboy Mix\n",
      "Failed requesting After Party\n",
      "Failed requesting Ridin in My Chevy\n"
     ]
    },
    {
     "name": "stderr",
     "output_type": "stream",
     "text": [
      "Processing 95 South_tracks.parquet:  59%|█████▉    | 57/96 [00:01<00:01, 32.51it/s]"
     ]
    },
    {
     "name": "stdout",
     "output_type": "stream",
     "text": [
      "Failed requesting Radio Remix\n",
      "Failed requesting TV Mix\n",
      "Failed requesting Instrumental\n",
      "Failed requesting No Fade Mix\n",
      "Failed requesting Freak Ya Down\n",
      "Failed requesting Club Mix\n",
      "Failed requesting Cowboy Mix\n",
      "Failed requesting Instrumental\n"
     ]
    },
    {
     "name": "stderr",
     "output_type": "stream",
     "text": [
      "Processing 95 South_tracks.parquet:  64%|██████▎   | 61/96 [00:01<00:01, 32.52it/s]"
     ]
    },
    {
     "name": "stdout",
     "output_type": "stream",
     "text": [
      "Failed requesting Cowboy Instrumental\n",
      "Failed requesting Sampler\n",
      "Failed requesting Hump Wit It - Radio\n",
      "Failed requesting Hump Wit It - Ultimix Radio\n",
      "Failed requesting Hump Wit It - Ultimix Party\n",
      "Failed requesting Hump Wit It - Shouts out Mix\n",
      "Failed requesting Hump Wit It - Instrumental\n"
     ]
    },
    {
     "name": "stderr",
     "output_type": "stream",
     "text": [
      "Processing 95 South_tracks.parquet:  72%|███████▏  | 69/96 [00:01<00:00, 33.42it/s]"
     ]
    },
    {
     "name": "stdout",
     "output_type": "stream",
     "text": [
      "Failed requesting Whoot, There It Is - Radio Mix\n",
      "Failed requesting Whoot, There It Is - Ultimix Radio\n",
      "Failed requesting Whoot, There It Is - Ultimix Club\n",
      "Failed requesting Whoot, There It Is - Club Style\n",
      "Failed requesting Whoot, There It Is - Radio Style\n",
      "Failed requesting Whoot, There It Is\n",
      "Failed requesting Up! - Main\n"
     ]
    },
    {
     "name": "stderr",
     "output_type": "stream",
     "text": [
      "Processing 95 South_tracks.parquet:  80%|████████  | 77/96 [00:02<00:00, 32.33it/s]"
     ]
    },
    {
     "name": "stdout",
     "output_type": "stream",
     "text": [
      "Failed requesting Up! - Instrumental\n",
      "Failed requesting Up! - Acappella\n",
      "Failed requesting Luke Intro\n",
      "Failed requesting Freak Shorty\n",
      "Failed requesting Girls Talking Shit\n",
      "Failed requesting Slippery When Wet\n",
      "Failed requesting Trigger & Luke\n"
     ]
    },
    {
     "name": "stderr",
     "output_type": "stream",
     "text": [
      "Processing 95 South_tracks.parquet:  89%|████████▊ | 85/96 [00:02<00:00, 35.15it/s]"
     ]
    },
    {
     "name": "stdout",
     "output_type": "stream",
     "text": [
      "Failed requesting Creepin\n",
      "Failed requesting Fucks Up Bishops Credit\n",
      "Failed requesting Get Rowdy\n",
      "Failed requesting Chief vs. Luke\n",
      "Failed requesting Baby Be Mine\n",
      "Failed requesting Tear It Up\n",
      "Failed requesting Talkin' Bout\n",
      "Failed requesting Lucky Gets Lucky\n"
     ]
    },
    {
     "name": "stderr",
     "output_type": "stream",
     "text": [
      "Processing 95 South_tracks.parquet:  97%|█████████▋| 93/96 [00:02<00:00, 35.14it/s]"
     ]
    },
    {
     "name": "stdout",
     "output_type": "stream",
     "text": [
      "Failed requesting Lovin' You\n",
      "Failed requesting Holla At Jay Ski\n",
      "Failed requesting Can I Holla\n",
      "Failed requesting Shawna & Tracy Fight\n",
      "Failed requesting Ain't Spending Nothing\n",
      "Failed requesting Hoe Surprise\n",
      "Failed requesting Strokin'\n",
      "Failed requesting The Bomb Has Dropped Extended Mi\n"
     ]
    },
    {
     "name": "stderr",
     "output_type": "stream",
     "text": [
      "Processing 95 South_tracks.parquet: 100%|██████████| 96/96 [00:02<00:00, 34.61it/s]\n",
      "Processing 98 Mute_tracks.parquet:   3%|▎         | 4/115 [00:00<00:02, 37.74it/s]"
     ]
    },
    {
     "name": "stdout",
     "output_type": "stream",
     "text": [
      "Failed requesting Instrumental\n",
      "Failed requesting Something In The Water\n",
      "Failed requesting Bullet For You\n",
      "Failed requesting M.A.D.\n",
      "Failed requesting True To Yourself\n",
      "Failed requesting They Say\n",
      "Failed requesting Where Did It All Go Wrong\n",
      "Failed requesting Ultimate High\n"
     ]
    },
    {
     "name": "stderr",
     "output_type": "stream",
     "text": [
      "Processing 98 Mute_tracks.parquet:  10%|█         | 12/115 [00:00<00:02, 37.46it/s]"
     ]
    },
    {
     "name": "stdout",
     "output_type": "stream",
     "text": [
      "Failed requesting Injection\n",
      "Failed requesting Not Enough\n",
      "Failed requesting Man Of The Hour\n",
      "Failed requesting Small Minds\n",
      "Failed requesting End Of Time\n",
      "Failed requesting Same Old Song And Dance\n",
      "Failed requesting Slow Motion Riot\n",
      "Failed requesting Could This Be\n"
     ]
    },
    {
     "name": "stderr",
     "output_type": "stream",
     "text": [
      "Processing 98 Mute_tracks.parquet:  17%|█▋        | 20/115 [00:00<00:02, 37.29it/s]"
     ]
    },
    {
     "name": "stdout",
     "output_type": "stream",
     "text": [
      "Failed requesting Hit You Back\n",
      "Failed requesting Fight Of Your Life\n",
      "Failed requesting If We Quit\n",
      "Failed requesting Send In The Clowns\n",
      "Failed requesting Survive\n",
      "Failed requesting Judge & Jury\n",
      "Failed requesting Crack\n",
      "Failed requesting Simpler Days\n"
     ]
    },
    {
     "name": "stderr",
     "output_type": "stream",
     "text": [
      "Processing 98 Mute_tracks.parquet:  24%|██▍       | 28/115 [00:00<00:02, 32.42it/s]"
     ]
    },
    {
     "name": "stdout",
     "output_type": "stream",
     "text": [
      "Failed requesting Never Forget\n",
      "Failed requesting You Can't Lose\n",
      "Failed requesting Count On Me\n",
      "Failed requesting Wounds\n",
      "Failed requesting It's Your Move\n",
      "Failed requesting Ask Yourself\n",
      "Failed requesting How Do You Feel Now?\n"
     ]
    },
    {
     "name": "stderr",
     "output_type": "stream",
     "text": [
      "Processing 98 Mute_tracks.parquet:  31%|███▏      | 36/115 [00:01<00:02, 34.76it/s]"
     ]
    },
    {
     "name": "stdout",
     "output_type": "stream",
     "text": [
      "Failed requesting Election Year\n",
      "Failed requesting Breakdown\n",
      "Failed requesting Shine\n",
      "Failed requesting Great Expectations\n",
      "Failed requesting Hangman\n",
      "Failed requesting Growing Old\n",
      "Failed requesting Perfect Sense\n",
      "Failed requesting Slander\n",
      "Failed requesting Short Fuse\n"
     ]
    },
    {
     "name": "stderr",
     "output_type": "stream",
     "text": [
      "Processing 98 Mute_tracks.parquet:  38%|███▊      | 44/115 [00:01<00:01, 36.37it/s]"
     ]
    },
    {
     "name": "stdout",
     "output_type": "stream",
     "text": [
      "Failed requesting Open Your Eyes\n",
      "Failed requesting Picture This\n",
      "Failed requesting Watch Over Me...\n",
      "Failed requesting Wrong\n",
      "Failed requesting A.C.A.B.\n",
      "Failed requesting Dreams\n",
      "Failed requesting Another Boring Day\n",
      "Failed requesting Painkiller\n"
     ]
    },
    {
     "name": "stderr",
     "output_type": "stream",
     "text": [
      "Processing 98 Mute_tracks.parquet:  45%|████▌     | 52/115 [00:01<00:01, 36.61it/s]"
     ]
    },
    {
     "name": "stdout",
     "output_type": "stream",
     "text": [
      "Failed requesting Answers\n",
      "Failed requesting Them\n",
      "Failed requesting Better Days Ahead\n",
      "Failed requesting Ground Zero\n",
      "Failed requesting Young Americans\n",
      "Failed requesting Beauty Queen\n",
      "Failed requesting Don't\n",
      "Failed requesting Fair Game\n"
     ]
    },
    {
     "name": "stderr",
     "output_type": "stream",
     "text": [
      "Processing 98 Mute_tracks.parquet:  52%|█████▏    | 60/115 [00:01<00:01, 36.53it/s]"
     ]
    },
    {
     "name": "stdout",
     "output_type": "stream",
     "text": [
      "Failed requesting Last Laugh\n",
      "Failed requesting Fingers Crossed\n",
      "Failed requesting Wayfarer\n",
      "Failed requesting Up For Sale\n",
      "Failed requesting The World\n",
      "Failed requesting Black City\n",
      "Failed requesting Olympia, WA\n"
     ]
    },
    {
     "name": "stderr",
     "output_type": "stream",
     "text": [
      "Processing 98 Mute_tracks.parquet:  60%|██████    | 69/115 [00:01<00:01, 37.97it/s]"
     ]
    },
    {
     "name": "stdout",
     "output_type": "stream",
     "text": [
      "Failed requesting Addicts Of Communication\n",
      "Failed requesting Hooray For Me\n",
      "Failed requesting The Something Special\n",
      "Failed requesting God Knows\n",
      "Failed requesting The Defense\n",
      "Failed requesting The End\n",
      "Failed requesting Heroes From Our Past\n",
      "Failed requesting Bob\n",
      "Failed requesting Wasted Words\n"
     ]
    },
    {
     "name": "stderr",
     "output_type": "stream",
     "text": [
      "Processing 98 Mute_tracks.parquet:  69%|██████▊   | 79/115 [00:02<00:00, 39.69it/s]"
     ]
    },
    {
     "name": "stdout",
     "output_type": "stream",
     "text": [
      "Failed requesting Love To Be Hated\n",
      "Failed requesting Outside Looking In\n",
      "Failed requesting M.A.D.\n",
      "Failed requesting My Girlfriend\n",
      "Failed requesting Pump Up The Valuum\n",
      "Failed requesting Problematic\n",
      "Failed requesting No Cigar\n",
      "Failed requesting Smash It Up!\n",
      "Failed requesting Close Minded\n"
     ]
    },
    {
     "name": "stderr",
     "output_type": "stream",
     "text": [
      "Processing 98 Mute_tracks.parquet:  73%|███████▎  | 84/115 [00:02<00:00, 39.81it/s]"
     ]
    },
    {
     "name": "stdout",
     "output_type": "stream",
     "text": [
      "Failed requesting Poison\n",
      "Failed requesting Secure Horizons\n",
      "Failed requesting Panic\n",
      "Failed requesting Better Be Women\n",
      "Failed requesting Slow Motion Riot\n",
      "Failed requesting We Have To Figure It Out Tonight\n",
      "Failed requesting Guilty By Association\n",
      "Failed requesting Hold It Down\n"
     ]
    },
    {
     "name": "stderr",
     "output_type": "stream",
     "text": [
      "Processing 98 Mute_tracks.parquet:  81%|████████  | 93/115 [00:02<00:00, 40.45it/s]"
     ]
    },
    {
     "name": "stdout",
     "output_type": "stream",
     "text": [
      "Failed requesting Happy\n",
      "Failed requesting Refused Are Fucking Dead - Bomba Je Remix\n",
      "Failed requesting Lookin' Out For #1\n",
      "Failed requesting 1.80 Down\n",
      "Failed requesting Good Rats\n",
      "Failed requesting Kid\n",
      "Failed requesting What Ever\n",
      "Failed requesting Fight It\n",
      "Failed requesting Second Best\n"
     ]
    },
    {
     "name": "stderr",
     "output_type": "stream",
     "text": [
      "Processing 98 Mute_tracks.parquet:  90%|████████▉ | 103/115 [00:02<00:00, 41.18it/s]"
     ]
    },
    {
     "name": "stdout",
     "output_type": "stream",
     "text": [
      "Failed requesting Faster Than The World\n",
      "Failed requesting 1998\n",
      "Failed requesting The Will The Message\n",
      "Failed requesting Hopeless Romantic\n",
      "Failed requesting The Getaway\n",
      "Failed requesting Think The World\n",
      "Failed requesting Snap Decision\n",
      "Failed requesting Generator\n",
      "Failed requesting I Will Deny\n"
     ]
    },
    {
     "name": "stderr",
     "output_type": "stream",
     "text": [
      "Processing 98 Mute_tracks.parquet: 100%|██████████| 115/115 [00:03<00:00, 38.17it/s]"
     ]
    },
    {
     "name": "stdout",
     "output_type": "stream",
     "text": [
      "Failed requesting Let's Do This\n",
      "Failed requesting It's My Life\n",
      "Failed requesting Weakend Revolution\n",
      "Failed requesting Summerholiday vs. Punkroutine\n",
      "Failed requesting They Always Come Back\n",
      "Failed requesting Twisted\n",
      "Failed requesting Don't Panic\n",
      "Failed requesting Big In Japan\n",
      "Failed requesting Someone To Love?\n"
     ]
    },
    {
     "name": "stderr",
     "output_type": "stream",
     "text": [
      "\n",
      "Processing 9th Wonder_tracks.parquet:   2%|▏         | 5/288 [00:00<00:06, 41.33it/s]"
     ]
    },
    {
     "name": "stdout",
     "output_type": "stream",
     "text": [
      "Failed requesting Workin' (feat. Amber Navran & King Draft)\n",
      "Failed requesting Keep On (feat. Amber Navran)\n",
      "Failed requesting Take A Look (feat. Amber Navran)\n",
      "Failed requesting I Remember You (feat. Amber Navran & King Draft)\n",
      "Failed requesting Take My Time (feat. Amber Navran & The Musalini)\n",
      "Failed requesting Be Mine (feat. Amber Navran & Swank)\n",
      "Failed requesting Be Alone!!!!\n",
      "Failed requesting HereToChop!!!\n",
      "Failed requesting MarchingSoul!!!\n"
     ]
    },
    {
     "name": "stderr",
     "output_type": "stream",
     "text": [
      "Processing 9th Wonder_tracks.parquet:   5%|▌         | 15/288 [00:00<00:06, 40.89it/s]"
     ]
    },
    {
     "name": "stdout",
     "output_type": "stream",
     "text": [
      "Failed requesting BobbyOhSoul!!!!!\n",
      "Failed requesting TempTationSoul!!!!\n",
      "Failed requesting BreakJointSoul!!!\n",
      "Failed requesting BringItDown!!!!!\n",
      "Failed requesting BunnyBounceSoul!!!\n",
      "Failed requesting ChiChopSoul!!!!!\n",
      "Failed requesting ChiLightSoul!!!\n",
      "Failed requesting CrackinBounce!!!!\n",
      "Failed requesting CurtGoodSoul!!!\n"
     ]
    },
    {
     "name": "stderr",
     "output_type": "stream",
     "text": [
      "Processing 9th Wonder_tracks.parquet:   9%|▊         | 25/288 [00:00<00:06, 41.87it/s]"
     ]
    },
    {
     "name": "stdout",
     "output_type": "stream",
     "text": [
      "Failed requesting DannyBigSoul!!!\n",
      "Failed requesting JustWhenYouSoul!!!\n",
      "Failed requesting Remain!!! (feat. The Jack Moves)\n",
      "Failed requesting I Saw You!!! (feat. Jalisa)\n",
      "Failed requesting Waste My Time!!!\n",
      "Failed requesting Lust 4 U!!!\n",
      "Failed requesting All Good!!! (feat. Datsunn)\n",
      "Failed requesting The Chase!!!\n",
      "Failed requesting Know I!!!\n"
     ]
    },
    {
     "name": "stderr",
     "output_type": "stream",
     "text": [
      "Processing 9th Wonder_tracks.parquet:  10%|█         | 30/288 [00:00<00:06, 40.42it/s]"
     ]
    },
    {
     "name": "stdout",
     "output_type": "stream",
     "text": [
      "Failed requesting DontHurtSoul!!!\n",
      "Failed requesting BeenChanged!!!\n",
      "Failed requesting 704Chop!!!\n",
      "Failed requesting AndYouToo!!!\n",
      "Failed requesting LilSpinnaNightBag!!!\n",
      "Failed requesting TriedEverythang!!!\n",
      "Failed requesting InMotionJam!!!\n",
      "Failed requesting BeSuperStar!!!\n"
     ]
    },
    {
     "name": "stderr",
     "output_type": "stream",
     "text": [
      "Processing 9th Wonder_tracks.parquet:  14%|█▍        | 40/288 [00:00<00:06, 40.50it/s]"
     ]
    },
    {
     "name": "stdout",
     "output_type": "stream",
     "text": [
      "Failed requesting AbyssJam!!!\n",
      "Failed requesting GunClappaLove!!!\n",
      "Failed requesting MissinYouJam!!!\n",
      "Failed requesting TabunaJammy!!!\n",
      "Failed requesting Sheneneh!!!\n",
      "Failed requesting Summer League (feat. Planet Asia)\n",
      "Failed requesting Skyview\n",
      "Failed requesting Been A Minute\n",
      "Failed requesting Paid In Full\n"
     ]
    },
    {
     "name": "stderr",
     "output_type": "stream",
     "text": [
      "Processing 9th Wonder_tracks.parquet:  17%|█▋        | 50/288 [00:01<00:05, 40.56it/s]"
     ]
    },
    {
     "name": "stdout",
     "output_type": "stream",
     "text": [
      "Failed requesting Don Music (feat. 38 Spesh)\n",
      "Failed requesting Cat Daddy\n",
      "Failed requesting Deja Vu\n",
      "Failed requesting Sun Child\n",
      "Failed requesting Tunnel Vision (feat. Izzy Hott)\n",
      "Failed requesting Miami Vice (feat. Ice Lord)\n",
      "Failed requesting Sincerely (feat. King Draft & Swank)\n",
      "Failed requesting Call Me Sometime (feat. Heather Victoria)\n",
      "Failed requesting ReachLove!!!!\n"
     ]
    },
    {
     "name": "stderr",
     "output_type": "stream",
     "text": [
      "Processing 9th Wonder_tracks.parquet:  20%|██        | 59/288 [00:01<00:05, 39.35it/s]"
     ]
    },
    {
     "name": "stdout",
     "output_type": "stream",
     "text": [
      "Failed requesting ListenToMe!!!!\n",
      "Failed requesting MsDiva!!!!\n",
      "Failed requesting WooHoo!!!!\n",
      "Failed requesting AgainSoul!!!!\n",
      "Failed requesting ComplainSoul!!!\n",
      "Failed requesting BeWithYou!!!!\n",
      "Failed requesting SomethingFlip!!!!\n",
      "Failed requesting ShinyShine!!!!\n",
      "Failed requesting You're The One For Me (feat. Heather Victoria & GQ) - Remix\n"
     ]
    },
    {
     "name": "stderr",
     "output_type": "stream",
     "text": [
      "Processing 9th Wonder_tracks.parquet:  23%|██▎       | 67/288 [00:01<00:05, 38.90it/s]"
     ]
    },
    {
     "name": "stdout",
     "output_type": "stream",
     "text": [
      "Failed requesting PushSoul!!!!\n",
      "Failed requesting OutOfTownSoul!!!!\n",
      "Failed requesting BillionDollars!!!!\n",
      "Failed requesting Mas4Soul!!!!\n",
      "Failed requesting InTheMorning!!!!\n",
      "Failed requesting SpeedySoul!!!!\n",
      "Failed requesting JourneySoul!!!!\n",
      "Failed requesting NowSoul!!!!\n",
      "Failed requesting DegreeSoul!!!!\n"
     ]
    },
    {
     "name": "stderr",
     "output_type": "stream",
     "text": [
      "Processing 9th Wonder_tracks.parquet:  26%|██▋       | 76/288 [00:01<00:05, 39.32it/s]"
     ]
    },
    {
     "name": "stdout",
     "output_type": "stream",
     "text": [
      "Failed requesting ONE TIME! (feat. Ian Kelly)\n",
      "Failed requesting THIS YEAR! (feat. Ian Kelly)\n",
      "Failed requesting BREAKMONEY! (feat. Ian Kelly)\n",
      "Failed requesting EBONY! (feat. Ian Kelly)\n",
      "Failed requesting EVERYNIGHT! (feat. Ian Kelly)\n",
      "Failed requesting AMLOURSOUL!!!\n",
      "Failed requesting CALDERAJAM!!!!!\n",
      "Failed requesting BURDENSOUL!!!\n"
     ]
    },
    {
     "name": "stderr",
     "output_type": "stream",
     "text": [
      "Processing 9th Wonder_tracks.parquet:  29%|██▉       | 84/288 [00:02<00:05, 38.29it/s]"
     ]
    },
    {
     "name": "stdout",
     "output_type": "stream",
     "text": [
      "Failed requesting ASHERTOYOU!!!!\n",
      "Failed requesting CINDERELLASOUL!!!\n",
      "Failed requesting CHRONIUMSOUL!!!\n",
      "Failed requesting CHARLYSOUL!!!!\n",
      "Failed requesting DOWNLOWSOUL!!!\n",
      "Failed requesting DIDNTGOSOUL!!!!\n",
      "Failed requesting DADDYSREVENGE\n",
      "Failed requesting E40CHILD!!!!!!\n",
      "Failed requesting DOYOUBELIEVESOUL!!!!!\n"
     ]
    },
    {
     "name": "stderr",
     "output_type": "stream",
     "text": [
      "Processing 9th Wonder_tracks.parquet:  33%|███▎      | 94/288 [00:02<00:04, 39.61it/s]"
     ]
    },
    {
     "name": "stdout",
     "output_type": "stream",
     "text": [
      "Failed requesting EBONYWOMAN!!!!!!!\n",
      "Failed requesting EARLYHERESOUL!!!\n",
      "Failed requesting FIRESOUL!!!!!\n",
      "Failed requesting Sleepless Nights (feat. Buddy, Reuben Vincent & Phoelix)\n",
      "Failed requesting Love You Bad (feat. Malaya & Phoelix)\n",
      "Failed requesting From My Heart And My Soul (feat. Tarriona Tank Ball & Phoelix)\n"
     ]
    },
    {
     "name": "stderr",
     "output_type": "stream",
     "text": [
      "Processing 9th Wonder_tracks.parquet:  34%|███▍      | 98/288 [00:05<00:43,  4.34it/s]"
     ]
    },
    {
     "name": "stdout",
     "output_type": "stream",
     "text": [
      "Failed requesting LUV U (feat. Snoop Dogg & Alex Isley)\n"
     ]
    },
    {
     "name": "stderr",
     "output_type": "stream",
     "text": [
      "Processing 9th Wonder_tracks.parquet:  38%|███▊      | 108/288 [00:10<00:59,  3.03it/s]"
     ]
    },
    {
     "name": "stdout",
     "output_type": "stream",
     "text": [
      "Failed requesting Freeze Tag (feat. Phoelix)\n",
      "Failed requesting LUV U\n",
      "Failed requesting WonderLoveSoul!!!!\n",
      "Failed requesting 9th9thMatic!!!!\n",
      "Failed requesting AStarSoul!!!!\n",
      "Failed requesting IndyNightSoul!!!!\n",
      "Failed requesting IJustWannaBe!!!!\n",
      "Failed requesting BlackDiamondAndPearls!!!!\n",
      "Failed requesting BlicketyBlank!!!!\n"
     ]
    },
    {
     "name": "stderr",
     "output_type": "stream",
     "text": [
      "Processing 9th Wonder_tracks.parquet:  39%|███▉      | 112/288 [00:10<00:41,  4.22it/s]"
     ]
    },
    {
     "name": "stdout",
     "output_type": "stream",
     "text": [
      "Failed requesting BlueFroSoul!!!!\n"
     ]
    },
    {
     "name": "stderr",
     "output_type": "stream",
     "text": [
      "Processing 9th Wonder_tracks.parquet:  42%|████▏     | 120/288 [00:12<00:29,  5.63it/s]"
     ]
    },
    {
     "name": "stdout",
     "output_type": "stream",
     "text": [
      "Failed requesting BreadWonderSoul!!!!\n",
      "Failed requesting BoatRockerSoul!!!!\n",
      "Failed requesting MyGenerationSoul!!!!\n",
      "Failed requesting Too Late\n",
      "Failed requesting JustMoveOnSoul!!!!\n",
      "Failed requesting FirstTime!!!!\n",
      "Failed requesting TakeCareSoul!!!!\n",
      "Failed requesting LettingGoSoul!!!!\n",
      "Failed requesting YotaMusicSoul!!!!\n"
     ]
    },
    {
     "name": "stderr",
     "output_type": "stream",
     "text": [
      "Processing 9th Wonder_tracks.parquet:  45%|████▍     | 129/288 [00:12<00:15, 10.52it/s]"
     ]
    },
    {
     "name": "stdout",
     "output_type": "stream",
     "text": [
      "Failed requesting Control\n",
      "Failed requesting FastQuickSoul!!!!\n",
      "Failed requesting The Hulk\n",
      "Failed requesting Cancun '08 (feat. Pookie Blow & $ilkMoney)\n",
      "Failed requesting My Hero (feat. Heather Victoria)\n",
      "Failed requesting Ga$ Station Gucci Belt\n",
      "Failed requesting Unicorn Glitter\n",
      "Failed requesting High Noon (feat. Rapsody & Reuben Vincent)\n",
      "Failed requesting Night Shift\n"
     ]
    },
    {
     "name": "stderr",
     "output_type": "stream",
     "text": [
      "Processing 9th Wonder_tracks.parquet:  48%|████▊     | 138/288 [00:12<00:08, 16.91it/s]"
     ]
    },
    {
     "name": "stdout",
     "output_type": "stream",
     "text": [
      "Failed requesting Give Me a Reason\n",
      "Failed requesting Super Cojo Bros. (feat. GQ & Cojo)\n",
      "Failed requesting Fuck Them\n",
      "Failed requesting Tony Robbins Pocketbook\n",
      "Failed requesting SIN\n",
      "Failed requesting The Battle\n",
      "Failed requesting God Black / Black God\n",
      "Failed requesting How To Rob With Rob\n",
      "Failed requesting Get Naked (feat. Problem)\n"
     ]
    },
    {
     "name": "stderr",
     "output_type": "stream",
     "text": [
      "Processing 9th Wonder_tracks.parquet:  51%|█████     | 147/288 [00:12<00:05, 23.85it/s]"
     ]
    },
    {
     "name": "stdout",
     "output_type": "stream",
     "text": [
      "Failed requesting The Shutters (feat. Reuben Vincent & Bad Lucc)\n",
      "Failed requesting Wait... Back It Up\n",
      "Failed requesting If This Should End\n",
      "Failed requesting Walk Like a God (feat. Rapsody & Propaganda)\n",
      "Failed requesting Otha Fish\n",
      "Failed requesting Murs SuperStar\n",
      "Failed requesting ForLoveSoul!!!!\n",
      "Failed requesting ItsMeSoul!!!!\n",
      "Failed requesting ForFanSoul!!!!\n"
     ]
    },
    {
     "name": "stderr",
     "output_type": "stream",
     "text": [
      "Processing 9th Wonder_tracks.parquet:  54%|█████▍    | 155/288 [00:13<00:04, 28.29it/s]"
     ]
    },
    {
     "name": "stdout",
     "output_type": "stream",
     "text": [
      "Failed requesting CantStopBoogie!!!\n",
      "Failed requesting SuperFamFunk!!!!\n",
      "Failed requesting To Jersey (feat. King Draft & Swank)\n",
      "Failed requesting DramaBoogie!\n",
      "Failed requesting PeanutButterSoul!!!!!\n",
      "Failed requesting TakeItBackSoul!!!!\n",
      "Failed requesting 3rdChildhoodBoogie\n",
      "Failed requesting WalkWithMeFunk!!!!!\n",
      "Failed requesting So Familiar (feat. King Draft & Swank)\n"
     ]
    },
    {
     "name": "stderr",
     "output_type": "stream",
     "text": [
      "Processing 9th Wonder_tracks.parquet:  57%|█████▋    | 164/288 [00:13<00:03, 32.78it/s]"
     ]
    },
    {
     "name": "stdout",
     "output_type": "stream",
     "text": [
      "Failed requesting ManyChangesSoul!!!!\n",
      "Failed requesting CoastinSoul!!!!!\n",
      "Failed requesting JustusUsSoul!!!!\n",
      "Failed requesting KillerFunk!!!!\n",
      "Failed requesting ThatThumpJam!!!!\n",
      "Failed requesting RightTouchJam!!!!\n",
      "Failed requesting Whole Life (feat. King Draft & Swank)\n",
      "Failed requesting BonBonSoul!!!\n"
     ]
    },
    {
     "name": "stderr",
     "output_type": "stream",
     "text": [
      "Processing 9th Wonder_tracks.parquet:  60%|██████    | 173/288 [00:13<00:03, 36.09it/s]"
     ]
    },
    {
     "name": "stdout",
     "output_type": "stream",
     "text": [
      "Failed requesting SheChoseMe!!!!\n",
      "Failed requesting MsBetty!!!\n",
      "Failed requesting FonkyLala!!!\n",
      "Failed requesting HeavenFour!!!\n",
      "Failed requesting INeverKnew!!!\n",
      "Failed requesting FindingDeo!!!\n",
      "Failed requesting EarlyJam!!!\n",
      "Failed requesting GirlUFine!!!\n",
      "Failed requesting MellowSmoove!!!\n"
     ]
    },
    {
     "name": "stderr",
     "output_type": "stream",
     "text": [
      "Processing 9th Wonder_tracks.parquet:  64%|██████▎   | 183/288 [00:13<00:02, 38.61it/s]"
     ]
    },
    {
     "name": "stdout",
     "output_type": "stream",
     "text": [
      "Failed requesting UncleBobby!!!\n",
      "Failed requesting ChunkySoul!!!\n",
      "Failed requesting TownBidness!!!\n",
      "Failed requesting CloserToo!!!\n",
      "Failed requesting YoYoBoogie!!!\n",
      "Failed requesting BobbiSoul!!\n",
      "Failed requesting AhhMan!!!\n",
      "Failed requesting LoveKills!!!\n"
     ]
    },
    {
     "name": "stderr",
     "output_type": "stream",
     "text": [
      "Processing 9th Wonder_tracks.parquet:  65%|██████▌   | 188/288 [00:13<00:02, 39.85it/s]"
     ]
    },
    {
     "name": "stdout",
     "output_type": "stream",
     "text": [
      "Failed requesting CouldMeetYou!!!\n",
      "Failed requesting GlassOfOj!!!\n",
      "Failed requesting FatAlbertAndRudy!!!\n",
      "Failed requesting Base for Your Face\n",
      "Failed requesting A King's Life\n",
      "Failed requesting Whitty Jam\n",
      "Failed requesting Baby Cry\n",
      "Failed requesting Ways I Love\n",
      "Failed requesting Want Baby\n"
     ]
    },
    {
     "name": "stderr",
     "output_type": "stream",
     "text": [
      "Processing 9th Wonder_tracks.parquet:  69%|██████▉   | 198/288 [00:14<00:02, 38.31it/s]"
     ]
    },
    {
     "name": "stdout",
     "output_type": "stream",
     "text": [
      "Failed requesting Basement Love\n",
      "Failed requesting The Gambler\n",
      "Failed requesting Bird on a Wire\n",
      "Failed requesting Tender Love\n",
      "Failed requesting Caine Asia\n",
      "Failed requesting Tell Me Inside\n",
      "Failed requesting E M Dirty\n",
      "Failed requesting Tao Tao Love\n"
     ]
    },
    {
     "name": "stderr",
     "output_type": "stream",
     "text": [
      "Processing 9th Wonder_tracks.parquet:  72%|███████▏  | 206/288 [00:14<00:02, 38.19it/s]"
     ]
    },
    {
     "name": "stdout",
     "output_type": "stream",
     "text": [
      "Failed requesting Friends Chop\n",
      "Failed requesting Gilly Chop\n",
      "Failed requesting Star Star Bass\n",
      "Failed requesting Heard Anymore\n",
      "Failed requesting Hold on 2 U\n",
      "Failed requesting Smooth Love\n",
      "Failed requesting Which Side Are You On (feat. Tef Poe & Kendra Ross)\n",
      "Failed requesting Every Ghetto (feat. Rapsody)\n"
     ]
    },
    {
     "name": "stderr",
     "output_type": "stream",
     "text": [
      "Processing 9th Wonder_tracks.parquet:  73%|███████▎  | 211/288 [00:14<00:01, 38.86it/s]"
     ]
    },
    {
     "name": "stdout",
     "output_type": "stream",
     "text": [
      "Failed requesting Pay Ya Dues (feat. Problem & Bad Lucc)\n",
      "Failed requesting Lo-Fi (feat. NIKO IS)\n",
      "Failed requesting Prego (feat. Pharoahe Monch & Slug)\n",
      "Failed requesting Life Ahead of Me (feat. Rapsody)\n"
     ]
    },
    {
     "name": "stderr",
     "output_type": "stream",
     "text": [
      "Processing 9th Wonder_tracks.parquet:  76%|███████▋  | 220/288 [00:15<00:04, 13.91it/s]"
     ]
    },
    {
     "name": "stdout",
     "output_type": "stream",
     "text": [
      "Failed requesting Don't Be Afraid (feat. Rapsody, Problem & Bad Lucc)\n",
      "Failed requesting These Waters (feat. K'Valentine, NIKO IS, Chris Rob & Jessica Care Moore)\n",
      "Failed requesting King Shit (feat. NIKO IS & GQ)\n",
      "Failed requesting Bangers (feat. MK Asante & Halo)\n",
      "Failed requesting Technicolor Easels (feat. NIKO IS)\n",
      "Failed requesting Understand (feat. Brother Ali & Planet Asia)\n",
      "Failed requesting Get Together (Instrumental)\n",
      "Failed requesting Whatuptho (Instrumental)\n",
      "Failed requesting Funeral for a Killer (Instrumental)\n"
     ]
    },
    {
     "name": "stderr",
     "output_type": "stream",
     "text": [
      "Processing 9th Wonder_tracks.parquet:  79%|███████▉  | 228/288 [00:15<00:03, 19.89it/s]"
     ]
    },
    {
     "name": "stdout",
     "output_type": "stream",
     "text": [
      "Failed requesting Baby Girl (Holding Hands) (Instrumental)\n",
      "Failed requesting Walk Like a Woman (Instrumental)\n",
      "Failed requesting Tale of Two Cities (Instrumental)\n",
      "Failed requesting Dance With Me (Instrumental)\n",
      "Failed requesting Better Way (Instrumental)\n",
      "Failed requesting Wherever You Are (Instrumental)\n",
      "Failed requesting It's over (Instrumental)\n"
     ]
    },
    {
     "name": "stderr",
     "output_type": "stream",
     "text": [
      "Processing 9th Wonder_tracks.parquet:  81%|████████  | 232/288 [00:17<00:06,  8.62it/s]"
     ]
    },
    {
     "name": "stdout",
     "output_type": "stream",
     "text": [
      "Failed requesting What I Gotta Say\n",
      "Failed requesting Stop Rapping\n",
      "Failed requesting Crazy\n"
     ]
    },
    {
     "name": "stderr",
     "output_type": "stream",
     "text": [
      "Processing 9th Wonder_tracks.parquet:  82%|████████▏ | 235/288 [00:18<00:09,  5.54it/s]"
     ]
    },
    {
     "name": "stdout",
     "output_type": "stream",
     "text": [
      "Failed requesting SAM\n",
      "Failed requesting Pat Em Down\n"
     ]
    },
    {
     "name": "stderr",
     "output_type": "stream",
     "text": [
      "Processing 9th Wonder_tracks.parquet:  83%|████████▎ | 240/288 [00:21<00:18,  2.62it/s]"
     ]
    },
    {
     "name": "stdout",
     "output_type": "stream",
     "text": [
      "Failed requesting You\n"
     ]
    },
    {
     "name": "stderr",
     "output_type": "stream",
     "text": [
      "Processing 9th Wonder_tracks.parquet:  86%|████████▌ | 247/288 [00:22<00:10,  4.09it/s]"
     ]
    },
    {
     "name": "stdout",
     "output_type": "stream",
     "text": [
      "Failed requesting Get Together (feat. Rapsody)\n",
      "Failed requesting Whatuptho\n",
      "Failed requesting Funeral for a Killer\n",
      "Failed requesting Baby Girl (Holding Hands)\n",
      "Failed requesting Walk Like a Woman\n",
      "Failed requesting Tale of Two Cities\n",
      "Failed requesting Dance With Me\n",
      "Failed requesting Better Way\n"
     ]
    },
    {
     "name": "stderr",
     "output_type": "stream",
     "text": [
      "Processing 9th Wonder_tracks.parquet:  89%|████████▉ | 256/288 [00:22<00:03,  8.41it/s]"
     ]
    },
    {
     "name": "stdout",
     "output_type": "stream",
     "text": [
      "Failed requesting Wherever You Are\n",
      "Failed requesting It's Over\n",
      "Failed requesting LetMeRideSoul!!!!!\n",
      "Failed requesting GotToCollectSoul!!\n",
      "Failed requesting Impressknowsoul!!!\n",
      "Failed requesting KissoonSoul!!!!!!!\n",
      "Failed requesting ClearlysInside!!!!\n",
      "Failed requesting Fredathump!!!\n",
      "Failed requesting CurtchopTruth!!!\n"
     ]
    },
    {
     "name": "stderr",
     "output_type": "stream",
     "text": [
      "Processing 9th Wonder_tracks.parquet:  92%|█████████▏| 266/288 [00:23<00:01, 15.39it/s]"
     ]
    },
    {
     "name": "stdout",
     "output_type": "stream",
     "text": [
      "Failed requesting MakesNoSoul!!!!\n",
      "Failed requesting LawdieWonderSoul!!!\n",
      "Failed requesting WindyJamSoul!!!!!!\n",
      "Failed requesting BeCarefulSoul!!!\n",
      "Failed requesting ImABeastSoul!!!!\n",
      "Failed requesting TheAnimalSoul!!!!!\n",
      "Failed requesting WeGoneItTooSoul!!!\n",
      "Failed requesting YouSeeItSoul!!!\n",
      "Failed requesting Payneawaysoul!!\n"
     ]
    },
    {
     "name": "stderr",
     "output_type": "stream",
     "text": [
      "Processing 9th Wonder_tracks.parquet:  94%|█████████▍| 270/288 [00:23<00:01, 17.06it/s]"
     ]
    },
    {
     "name": "stdout",
     "output_type": "stream",
     "text": [
      "Failed requesting WhenLoveIsNew!!!!!!!!!\n",
      "Failed requesting JustMyThoughtsSoul!!!!\n",
      "Failed requesting WallaWallaJammin!!!\n",
      "Failed requesting BuddahJamSoul!!!\n",
      "Failed requesting Make It Big Ft. Khrysis\n"
     ]
    },
    {
     "name": "stderr",
     "output_type": "stream",
     "text": [
      "Processing 9th Wonder_tracks.parquet:  97%|█████████▋| 279/288 [00:23<00:00, 24.33it/s]"
     ]
    },
    {
     "name": "stdout",
     "output_type": "stream",
     "text": [
      "Failed requesting Band Practice Pt 2. Ft. Phonte & Median\n",
      "Failed requesting Enjoy (West Coastin') ft. Warren G, Murs & Kendrick Lamar\n",
      "Failed requesting Streets of Music Ft. Tanya Morgan & Enigma of Actual Proof\n",
      "Failed requesting Hearing the Melody Ft. Skyzoo, Fashawn & King Mez\n",
      "Failed requesting Loyalty Ft. Masta Killa & Halo\n",
      "Failed requesting Now I'm Being Cool Ft. Mela Machinko & Median\n",
      "Failed requesting Never Stop Loving You Ft. Terrace Martin & Talib Kweli\n",
      "Failed requesting Piranhas Ft. Blu & Sundown of Actual Proof\n",
      "Failed requesting Peanut Butter & Jelly Ft. Marsha Ambrosius\n",
      "Failed requesting One Night Ft. Terrace Martin, Phonte & Bird and the Midnight Falcons\n"
     ]
    },
    {
     "name": "stderr",
     "output_type": "stream",
     "text": [
      "Processing 9th Wonder_tracks.parquet: 100%|██████████| 288/288 [00:23<00:00, 12.16it/s]"
     ]
    },
    {
     "name": "stdout",
     "output_type": "stream",
     "text": [
      "Failed requesting Your Smile Ft. Holly Weerd & Thee Tom Hardy\n",
      "Failed requesting No Pretending Ft. Raekwon & Big Remo\n",
      "Failed requesting 20 Feet Tall (Remix) Ft. Erykah Badu & Rapsody\n",
      "Failed requesting That's Love Ft. Mac Miller & Heather Victoria\n",
      "Failed requesting A Star U R Ft. Terrace Martin, Problem & Gq\n"
     ]
    },
    {
     "name": "stderr",
     "output_type": "stream",
     "text": [
      "\n",
      "Processing A Certain Ratio_tracks.parquet:   6%|▌         | 8/138 [00:00<00:03, 38.30it/s]"
     ]
    },
    {
     "name": "stdout",
     "output_type": "stream",
     "text": [
      "Failed requesting Samo\n",
      "Failed requesting Waiting on a Train (feat. Ellen Beth Abdi & Chunky)\n",
      "Failed requesting 1982\n",
      "Failed requesting A Trip in Hulme\n",
      "Failed requesting Tombo in M3\n",
      "Failed requesting Constant Curve (feat. Ellen Beth Abdi & Emperor Machine)\n",
      "Failed requesting Afro Dizzy (feat. Ellen Beth Abdi)\n",
      "Failed requesting Holy Smoke\n",
      "Failed requesting Tier 3\n"
     ]
    },
    {
     "name": "stderr",
     "output_type": "stream",
     "text": [
      "Processing A Certain Ratio_tracks.parquet:  12%|█▏        | 16/138 [00:00<00:03, 36.88it/s]"
     ]
    },
    {
     "name": "stdout",
     "output_type": "stream",
     "text": [
      "Failed requesting Ballad of ACR\n",
      "Failed requesting Down & Dirty - Mr Dan Remix\n",
      "Failed requesting Friends Around Us - Lou Hayter Remix\n",
      "Failed requesting Bouncy Bouncy - Chop & Drop LoneLady Mix\n",
      "Failed requesting Yo Yo Gimix - The Orielles Remix\n",
      "Failed requesting Supafreak - Massey Mix\n",
      "Failed requesting Always in Love - Skream Remix\n",
      "Failed requesting Family - Finger Tip Mix Suite\n"
     ]
    },
    {
     "name": "stderr",
     "output_type": "stream",
     "text": [
      "Processing A Certain Ratio_tracks.parquet:  17%|█▋        | 24/138 [00:00<00:03, 35.66it/s]"
     ]
    },
    {
     "name": "stdout",
     "output_type": "stream",
     "text": [
      "Failed requesting Get A Grip - Maps Remix\n",
      "Failed requesting Berlin - Cosmodelica Remix\n",
      "Failed requesting What's Wrong - SYT DMT Mix\n",
      "Failed requesting Taxi Guy - Number Rework\n",
      "Failed requesting Always in Love - Muddy Feet Remix\n",
      "Failed requesting Friends Around Us - The Lounge Society Remix\n",
      "Failed requesting All Night Party\n",
      "Failed requesting The Thin Boys\n"
     ]
    },
    {
     "name": "stderr",
     "output_type": "stream",
     "text": [
      "Processing A Certain Ratio_tracks.parquet:  23%|██▎       | 32/138 [00:00<00:02, 37.47it/s]"
     ]
    },
    {
     "name": "stdout",
     "output_type": "stream",
     "text": [
      "Failed requesting Blown Away\n",
      "Failed requesting Son And Heir\n",
      "Failed requesting Waterline\n",
      "Failed requesting Funaezekea\n",
      "Failed requesting Abracadubra\n",
      "Failed requesting Sommadub\n",
      "Failed requesting Guess Who? - 12\" Version\n",
      "Failed requesting Tumba Rumba\n"
     ]
    },
    {
     "name": "stderr",
     "output_type": "stream",
     "text": [
      "Processing A Certain Ratio_tracks.parquet:  26%|██▌       | 36/138 [00:01<00:03, 29.90it/s]"
     ]
    },
    {
     "name": "stdout",
     "output_type": "stream",
     "text": [
      "Failed requesting Knife Slits Water - 12\" Version\n",
      "Failed requesting Kether Hot Knives - Mix In Special\n",
      "Failed requesting I Need Someone Tonight\n",
      "Failed requesting Don't You Worry 'Bout a Thing\n",
      "Failed requesting Life's a Scream\n",
      "Failed requesting There's Only This\n",
      "Failed requesting Si fermir o grido - Touch Cassette Version\n"
     ]
    },
    {
     "name": "stderr",
     "output_type": "stream",
     "text": [
      "Processing A Certain Ratio_tracks.parquet:  32%|███▏      | 44/138 [00:01<00:02, 32.56it/s]"
     ]
    },
    {
     "name": "stdout",
     "output_type": "stream",
     "text": [
      "Failed requesting Brazilia 6.10\n",
      "Failed requesting Sounds Like Something Dirty\n",
      "Failed requesting The Runner - Greetings Four Version\n",
      "Failed requesting Do The Du - The Graveyard\n",
      "Failed requesting Wild Party - 12\" Version\n",
      "Failed requesting Flight - 12\" Version\n",
      "Failed requesting And Then Again - 12\" Version\n",
      "Failed requesting Forced Laugh\n"
     ]
    },
    {
     "name": "stderr",
     "output_type": "stream",
     "text": [
      "Processing A Certain Ratio_tracks.parquet:  38%|███▊      | 52/138 [00:01<00:02, 34.57it/s]"
     ]
    },
    {
     "name": "stdout",
     "output_type": "stream",
     "text": [
      "Failed requesting Wonder Y\n",
      "Failed requesting Mickey Way\n",
      "Failed requesting 27 Forever - 7\" Version\n",
      "Failed requesting Won't Stop Loving You - 7\" Bernard Sumner Mix\n",
      "Failed requesting Good Together - 12\" Version\n",
      "Failed requesting Be What You Wanna Be - 12\" Version\n",
      "Failed requesting Shack Up - 7\" Version\n"
     ]
    },
    {
     "name": "stderr",
     "output_type": "stream",
     "text": [
      "Processing A Certain Ratio_tracks.parquet:  43%|████▎     | 60/138 [00:01<00:02, 34.79it/s]"
     ]
    },
    {
     "name": "stdout",
     "output_type": "stream",
     "text": [
      "Failed requesting The Fox - US 12\" Version\n",
      "Failed requesting Knife Slits Water - 7\" Version\n",
      "Failed requesting Si firmir o grido\n",
      "Failed requesting Dirty Boy (feat. Barry Adamson) - Single Edit\n",
      "Failed requesting Make It Happen\n",
      "Failed requesting Do The Du - The Graveyard\n",
      "Failed requesting Faceless - The Graveyard\n",
      "Failed requesting Crippled Child - The Graveyard\n"
     ]
    },
    {
     "name": "stderr",
     "output_type": "stream",
     "text": [
      "Processing A Certain Ratio_tracks.parquet:  49%|████▉     | 68/138 [00:01<00:01, 35.99it/s]"
     ]
    },
    {
     "name": "stdout",
     "output_type": "stream",
     "text": [
      "Failed requesting Choir - The Graveyard\n",
      "Failed requesting Flight (The Graveyard)\n",
      "Failed requesting I Fail - The Graveyard\n",
      "Failed requesting Strain - The Graveyard\n",
      "Failed requesting All Night Party - The Ballroom\n",
      "Failed requesting Oceans - The Ballroom\n",
      "Failed requesting Choir - The Ballroom\n",
      "Failed requesting The Fox - The Ballroom\n"
     ]
    },
    {
     "name": "stderr",
     "output_type": "stream",
     "text": [
      "Processing A Certain Ratio_tracks.parquet:  55%|█████▌    | 76/138 [00:02<00:01, 36.22it/s]"
     ]
    },
    {
     "name": "stdout",
     "output_type": "stream",
     "text": [
      "Failed requesting Suspect - The Ballroom\n",
      "Failed requesting Flight - The Ballroom\n",
      "Failed requesting Genotype-Phenotype - The Ballroom\n",
      "Failed requesting I Feel Light\n",
      "Failed requesting Down, Down, Down\n",
      "Failed requesting Everything Is Good\n",
      "Failed requesting Way to Escape\n",
      "Failed requesting Rialto 2006\n"
     ]
    },
    {
     "name": "stderr",
     "output_type": "stream",
     "text": [
      "Processing A Certain Ratio_tracks.parquet:  61%|██████    | 84/138 [00:02<00:01, 33.54it/s]"
     ]
    },
    {
     "name": "stdout",
     "output_type": "stream",
     "text": [
      "Failed requesting Mind Made Up\n",
      "Failed requesting Teri\n",
      "Failed requesting Bird to the Ground\n",
      "Failed requesting Starlight\n",
      "Failed requesting Which Is Reality?\n",
      "Failed requesting Skunk\n",
      "Failed requesting Very Busy Man\n"
     ]
    },
    {
     "name": "stderr",
     "output_type": "stream",
     "text": [
      "Processing A Certain Ratio_tracks.parquet:  67%|██████▋   | 92/138 [00:02<00:01, 30.83it/s]"
     ]
    },
    {
     "name": "stdout",
     "output_type": "stream",
     "text": [
      "Failed requesting Listen to the Sound\n",
      "Failed requesting Listen to the Sound\n",
      "Failed requesting Some Day\n",
      "Failed requesting Some Day\n",
      "Failed requesting Your on Your Own\n",
      "Failed requesting Your on Your Own\n"
     ]
    },
    {
     "name": "stderr",
     "output_type": "stream",
     "text": [
      "Processing A Certain Ratio_tracks.parquet:  70%|██████▉   | 96/138 [00:02<00:01, 31.79it/s]"
     ]
    },
    {
     "name": "stdout",
     "output_type": "stream",
     "text": [
      "Failed requesting Waiting for You\n",
      "Failed requesting Waiting for You\n",
      "Failed requesting Yeah Boy\n",
      "Failed requesting Yeah Boy\n",
      "Failed requesting Sister Brother\n",
      "Failed requesting Sister Brother\n",
      "Failed requesting Desire\n",
      "Failed requesting Desire\n"
     ]
    },
    {
     "name": "stderr",
     "output_type": "stream",
     "text": [
      "Processing A Certain Ratio_tracks.parquet:  78%|███████▊  | 108/138 [00:03<00:00, 34.36it/s]"
     ]
    },
    {
     "name": "stdout",
     "output_type": "stream",
     "text": [
      "Failed requesting Samba 123\n",
      "Failed requesting Samba 123\n",
      "Failed requesting Pole\n",
      "Failed requesting Pole\n",
      "Failed requesting Do Du Beep\n",
      "Failed requesting Do Du Beep\n",
      "Failed requesting Golden Balls\n",
      "Failed requesting Golden Balls\n"
     ]
    },
    {
     "name": "stderr",
     "output_type": "stream",
     "text": [
      "Processing A Certain Ratio_tracks.parquet:  81%|████████  | 112/138 [00:03<00:00, 35.45it/s]"
     ]
    },
    {
     "name": "stdout",
     "output_type": "stream",
     "text": [
      "Failed requesting Funk Off\n",
      "Failed requesting Funk Off\n",
      "Failed requesting Groov(E)\n",
      "Failed requesting Groov(E)\n",
      "Failed requesting Listen to the Sound\n",
      "Failed requesting Listen to the Sound\n",
      "Failed requesting Some Day\n",
      "Failed requesting Some Day\n"
     ]
    },
    {
     "name": "stderr",
     "output_type": "stream",
     "text": [
      "Processing A Certain Ratio_tracks.parquet:  90%|████████▉ | 124/138 [00:03<00:00, 36.88it/s]"
     ]
    },
    {
     "name": "stdout",
     "output_type": "stream",
     "text": [
      "Failed requesting Your on Your Own\n",
      "Failed requesting Your on Your Own\n",
      "Failed requesting Waiting for You\n",
      "Failed requesting Waiting for You\n",
      "Failed requesting Yeah Boy\n",
      "Failed requesting Yeah Boy\n",
      "Failed requesting Sister Brother\n",
      "Failed requesting Sister Brother\n"
     ]
    },
    {
     "name": "stderr",
     "output_type": "stream",
     "text": [
      "Processing A Certain Ratio_tracks.parquet:  93%|█████████▎| 128/138 [00:03<00:00, 36.29it/s]"
     ]
    },
    {
     "name": "stdout",
     "output_type": "stream",
     "text": [
      "Failed requesting Desire\n",
      "Failed requesting Desire\n",
      "Failed requesting Samba 123\n",
      "Failed requesting Samba 123\n",
      "Failed requesting Pole\n",
      "Failed requesting Pole\n",
      "Failed requesting Do Du Beep\n",
      "Failed requesting Do Du Beep\n"
     ]
    },
    {
     "name": "stderr",
     "output_type": "stream",
     "text": [
      "Processing A Certain Ratio_tracks.parquet: 100%|██████████| 138/138 [00:03<00:00, 35.14it/s]\n",
      "Processing A Girl Called Eddy_tracks.parquet:   0%|          | 0/86 [00:00<?, ?it/s]"
     ]
    },
    {
     "name": "stdout",
     "output_type": "stream",
     "text": [
      "Failed requesting Golden Balls\n",
      "Failed requesting Golden Balls\n",
      "Failed requesting Funk Off\n",
      "Failed requesting Funk Off\n",
      "Failed requesting Groov(E)\n",
      "Failed requesting Groov(E)\n",
      "Failed requesting Been Around\n",
      "Failed requesting Big Mouth\n"
     ]
    },
    {
     "name": "stderr",
     "output_type": "stream",
     "text": [
      "Processing A Girl Called Eddy_tracks.parquet:  10%|█         | 9/86 [00:00<00:01, 39.89it/s]"
     ]
    },
    {
     "name": "stdout",
     "output_type": "stream",
     "text": [
      "Failed requesting Jody\n",
      "Failed requesting Jody\n",
      "Failed requesting Charity Shop Window\n",
      "Failed requesting Someone’s Gonna Break Your Heart\n",
      "Failed requesting Someone’s Gonna Break Your Heart\n",
      "Failed requesting Not That Sentimental Anymore\n",
      "Failed requesting Two Hearts\n",
      "Failed requesting Lucky Jack (20-1)\n",
      "Failed requesting Come To The Palisades!\n"
     ]
    },
    {
     "name": "stderr",
     "output_type": "stream",
     "text": [
      "Processing A Girl Called Eddy_tracks.parquet:  16%|█▋        | 14/86 [00:00<00:01, 40.20it/s]"
     ]
    },
    {
     "name": "stdout",
     "output_type": "stream",
     "text": [
      "Failed requesting Finest Actor\n",
      "Failed requesting NY Man\n",
      "Failed requesting Pale Blue Moon (Bonus Track)\n",
      "Failed requesting Tears All Over Town\n",
      "Failed requesting Kathleen\n",
      "Failed requesting Girls Can Really Tear You Up Inside\n",
      "Failed requesting The Long Goodbye\n",
      "Failed requesting Somebody Hurt You\n"
     ]
    },
    {
     "name": "stderr",
     "output_type": "stream",
     "text": [
      "Processing A Girl Called Eddy_tracks.parquet:  28%|██▊       | 24/86 [00:00<00:01, 35.61it/s]"
     ]
    },
    {
     "name": "stdout",
     "output_type": "stream",
     "text": [
      "Failed requesting People Used to Dream About The Future\n",
      "Failed requesting Heartache\n",
      "Failed requesting Life Thru The Same Lens\n",
      "Failed requesting Did You See The Moon Tonight\n",
      "Failed requesting Little Bird\n",
      "Failed requesting Golden\n"
     ]
    },
    {
     "name": "stderr",
     "output_type": "stream",
     "text": [
      "Processing A Girl Called Eddy_tracks.parquet:  33%|███▎      | 28/86 [00:02<00:10,  5.64it/s]"
     ]
    },
    {
     "name": "stdout",
     "output_type": "stream",
     "text": [
      "Failed requesting Someone’s Gonna Break Your Heart\n",
      "Failed requesting Someone’s Gonna Break Your Heart\n",
      "Failed requesting Finest Actor\n"
     ]
    },
    {
     "name": "stderr",
     "output_type": "stream",
     "text": [
      "Processing A Girl Called Eddy_tracks.parquet:  43%|████▎     | 37/86 [00:05<00:09,  5.18it/s]"
     ]
    },
    {
     "name": "stdout",
     "output_type": "stream",
     "text": [
      "Failed requesting Someone’s Gonna Break Your Heart\n",
      "Failed requesting Heartache\n",
      "Failed requesting The Soundtrack of Your Life\n",
      "Failed requesting Girls Can Really Tear You Up Inside\n",
      "Failed requesting The Same Old Tears\n",
      "Failed requesting Fading...\n",
      "Failed requesting Always on Time\n",
      "Failed requesting Good 2 Yourself\n"
     ]
    },
    {
     "name": "stderr",
     "output_type": "stream",
     "text": [
      "Processing A Girl Called Eddy_tracks.parquet:  52%|█████▏    | 45/86 [00:05<00:04,  9.73it/s]"
     ]
    },
    {
     "name": "stdout",
     "output_type": "stream",
     "text": [
      "Failed requesting Sitter\n",
      "Failed requesting Mr Rock Star\n",
      "Failed requesting Scoop\n",
      "Failed requesting Sticky Situation\n",
      "Failed requesting Hummingbird\n",
      "Failed requesting Birds of Paradise\n"
     ]
    },
    {
     "name": "stderr",
     "output_type": "stream",
     "text": [
      "Processing A Girl Called Eddy_tracks.parquet:  56%|█████▌    | 48/86 [00:06<00:06,  5.89it/s]"
     ]
    },
    {
     "name": "stdout",
     "output_type": "stream",
     "text": [
      "Failed requesting Blood Money\n"
     ]
    },
    {
     "name": "stderr",
     "output_type": "stream",
     "text": [
      "Processing A Girl Called Eddy_tracks.parquet:  64%|██████▍   | 55/86 [00:08<00:06,  4.60it/s]"
     ]
    },
    {
     "name": "stdout",
     "output_type": "stream",
     "text": [
      "Failed requesting I'm Sorry\n",
      "Failed requesting Victim\n",
      "Failed requesting One of Us Must Lose\n",
      "Failed requesting Monk's Robes\n",
      "Failed requesting Falling Man\n",
      "Failed requesting Avenue Bliss\n",
      "Failed requesting Real Silence\n",
      "Failed requesting Black Stars\n"
     ]
    },
    {
     "name": "stderr",
     "output_type": "stream",
     "text": [
      "Processing A Girl Called Eddy_tracks.parquet:  73%|███████▎  | 63/86 [00:08<00:02,  8.68it/s]"
     ]
    },
    {
     "name": "stdout",
     "output_type": "stream",
     "text": [
      "Failed requesting Pa Pa Power\n",
      "Failed requesting Get Well Soon\n",
      "Failed requesting Tenderness\n",
      "Failed requesting Second Door\n",
      "Failed requesting Frostbiter\n",
      "Failed requesting Tears All Over Town\n",
      "Failed requesting Same Thing\n",
      "Failed requesting First Sign of Spring\n"
     ]
    },
    {
     "name": "stderr",
     "output_type": "stream",
     "text": [
      "Processing A Girl Called Eddy_tracks.parquet:  83%|████████▎ | 71/86 [00:09<00:01, 14.24it/s]"
     ]
    },
    {
     "name": "stdout",
     "output_type": "stream",
     "text": [
      "Failed requesting That Old Black Hole\n",
      "Failed requesting Places\n",
      "Failed requesting Killing Time\n",
      "Failed requesting Trash Core\n",
      "Failed requesting Fairweather Friend\n",
      "Failed requesting Lazy\n",
      "Failed requesting Softly - Part 1\n"
     ]
    },
    {
     "name": "stderr",
     "output_type": "stream",
     "text": [
      "Processing A Girl Called Eddy_tracks.parquet:  92%|█████████▏| 79/86 [00:09<00:00, 20.50it/s]"
     ]
    },
    {
     "name": "stdout",
     "output_type": "stream",
     "text": [
      "Failed requesting Fun Fair\n",
      "Failed requesting You're Not Mine\n",
      "Failed requesting Trust Your Buddy\n",
      "Failed requesting Take My Hand\n",
      "Failed requesting Fairweather Friend\n",
      "Failed requesting Lazy\n",
      "Failed requesting Talk To Me\n",
      "Failed requesting Die Cast\n"
     ]
    },
    {
     "name": "stderr",
     "output_type": "stream",
     "text": [
      "Processing A Girl Called Eddy_tracks.parquet: 100%|██████████| 86/86 [00:09<00:00,  9.05it/s]"
     ]
    },
    {
     "name": "stdout",
     "output_type": "stream",
     "text": [
      "Failed requesting Tears\n",
      "Failed requesting Places\n",
      "Failed requesting Softly - Part 2\n",
      "Failed requesting Photographs\n",
      "Failed requesting Trust Your Buddy\n"
     ]
    },
    {
     "name": "stderr",
     "output_type": "stream",
     "text": [
      "\n",
      "Processing A Global Threat_tracks.parquet:   5%|▌         | 4/74 [00:00<00:01, 35.80it/s]"
     ]
    },
    {
     "name": "stdout",
     "output_type": "stream",
     "text": [
      "Failed requesting Agt Crew\n",
      "Failed requesting Scalped by Pop\n",
      "Failed requesting Keep Dancing\n",
      "Failed requesting Cut-Ups\n",
      "Failed requesting Some Nerve\n"
     ]
    },
    {
     "name": "stderr",
     "output_type": "stream",
     "text": [
      "Processing A Global Threat_tracks.parquet:  11%|█         | 8/74 [00:00<00:02, 22.98it/s]"
     ]
    },
    {
     "name": "stdout",
     "output_type": "stream",
     "text": [
      "Failed requesting Stuck in the Skull\n",
      "Failed requesting The Running Man\n",
      "Failed requesting Making Enemies\n",
      "Failed requesting Free Will\n"
     ]
    },
    {
     "name": "stderr",
     "output_type": "stream",
     "text": [
      "Processing A Global Threat_tracks.parquet:  20%|██        | 15/74 [00:00<00:02, 24.99it/s]"
     ]
    },
    {
     "name": "stdout",
     "output_type": "stream",
     "text": [
      "Failed requesting Set Up\n",
      "Failed requesting One Way Street\n",
      "Failed requesting Not a Dime to Drop\n",
      "Failed requesting Friendly Fire\n",
      "Failed requesting Channel 34\n",
      "Failed requesting Everything Is Wonderful\n",
      "Failed requesting Not Those Kids\n",
      "Failed requesting I Don't Want It All\n",
      "Failed requesting Agt Crew (Outro)\n",
      "Failed requesting Here We Are\n"
     ]
    },
    {
     "name": "stderr",
     "output_type": "stream",
     "text": [
      "Processing A Global Threat_tracks.parquet:  27%|██▋       | 20/74 [00:01<00:06,  8.29it/s]"
     ]
    },
    {
     "name": "stdout",
     "output_type": "stream",
     "text": [
      "Failed requesting Lab Rat\n"
     ]
    },
    {
     "name": "stderr",
     "output_type": "stream",
     "text": [
      "Processing A Global Threat_tracks.parquet:  42%|████▏     | 31/74 [00:12<00:39,  1.10it/s]"
     ]
    },
    {
     "name": "stdout",
     "output_type": "stream",
     "text": [
      "Failed requesting D.F.\n"
     ]
    },
    {
     "name": "stderr",
     "output_type": "stream",
     "text": [
      "Processing A Global Threat_tracks.parquet:  58%|█████▊    | 43/74 [00:23<00:32,  1.05s/it]"
     ]
    },
    {
     "name": "stdout",
     "output_type": "stream",
     "text": [
      "Failed requesting Where The Money's Gone\n",
      "Failed requesting Filthy Greedy Guilty\n",
      "Failed requesting ...Until We Die\n"
     ]
    },
    {
     "name": "stderr",
     "output_type": "stream",
     "text": [
      "Processing A Global Threat_tracks.parquet:  70%|███████   | 52/74 [00:30<00:20,  1.08it/s]"
     ]
    },
    {
     "name": "stdout",
     "output_type": "stream",
     "text": [
      "Failed requesting Live for Now\n"
     ]
    },
    {
     "name": "stderr",
     "output_type": "stream",
     "text": [
      "Processing A Global Threat_tracks.parquet:  74%|███████▍  | 55/74 [00:32<00:15,  1.20it/s]"
     ]
    },
    {
     "name": "stdout",
     "output_type": "stream",
     "text": [
      "Failed requesting This Town\n",
      "Failed requesting Kids Will Revolt\n"
     ]
    },
    {
     "name": "stderr",
     "output_type": "stream",
     "text": [
      "Processing A Global Threat_tracks.parquet:  78%|███████▊  | 58/74 [00:33<00:09,  1.68it/s]"
     ]
    },
    {
     "name": "stdout",
     "output_type": "stream",
     "text": [
      "Failed requesting American Culture\n",
      "Failed requesting What's Left Now?\n"
     ]
    },
    {
     "name": "stderr",
     "output_type": "stream",
     "text": [
      "Processing A Global Threat_tracks.parquet:  82%|████████▏ | 61/74 [00:34<00:06,  2.01it/s]"
     ]
    },
    {
     "name": "stdout",
     "output_type": "stream",
     "text": [
      "Failed requesting False Patriot\n"
     ]
    },
    {
     "name": "stderr",
     "output_type": "stream",
     "text": [
      "Processing A Global Threat_tracks.parquet:  89%|████████▉ | 66/74 [00:35<00:02,  3.03it/s]"
     ]
    },
    {
     "name": "stdout",
     "output_type": "stream",
     "text": [
      "Failed requesting A Global Threat\n",
      "Failed requesting The Blueshirts\n",
      "Failed requesting City's Failure\n",
      "Failed requesting Follow the Leader (Conformity)\n",
      "Failed requesting Anti War\n",
      "Failed requesting The Way It Is\n"
     ]
    },
    {
     "name": "stderr",
     "output_type": "stream",
     "text": [
      "Processing A Global Threat_tracks.parquet:  95%|█████████▍| 70/74 [00:36<00:01,  3.22it/s]"
     ]
    },
    {
     "name": "stdout",
     "output_type": "stream",
     "text": [
      "Failed requesting This Town\n"
     ]
    },
    {
     "name": "stderr",
     "output_type": "stream",
     "text": [
      "Processing A Global Threat_tracks.parquet:  97%|█████████▋| 72/74 [00:37<00:00,  2.76it/s]"
     ]
    },
    {
     "name": "stdout",
     "output_type": "stream",
     "text": [
      "Failed requesting Maine Punx & Kids Will Revolt\n"
     ]
    },
    {
     "name": "stderr",
     "output_type": "stream",
     "text": [
      "Processing A Global Threat_tracks.parquet: 100%|██████████| 74/74 [00:38<00:00,  1.90it/s]\n",
      "Processing A Guy Called Gerald_tracks.parquet:   2%|▏         | 4/246 [00:00<00:06, 35.74it/s]"
     ]
    },
    {
     "name": "stdout",
     "output_type": "stream",
     "text": [
      "Failed requesting Thu The Diehold - Original Mix\n",
      "Failed requesting Testacorta - Original Mix\n",
      "Failed requesting Virata Rupa - Original Mix\n",
      "Failed requesting How Long Is Now - Original Mix\n",
      "Failed requesting Groove of the Ghetto - Original Mix\n",
      "Failed requesting 202 - Original Mix\n"
     ]
    },
    {
     "name": "stderr",
     "output_type": "stream",
     "text": [
      "Processing A Guy Called Gerald_tracks.parquet:   6%|▌         | 14/246 [00:03<00:51,  4.48it/s]"
     ]
    },
    {
     "name": "stdout",
     "output_type": "stream",
     "text": [
      "Failed requesting Nuts - Drum N Bass Mix\n",
      "Failed requesting Field of Dreams\n",
      "Failed requesting Field of Dreams\n",
      "Failed requesting Love for the Phoenix - X-Port Version\n",
      "Failed requesting Love for the Phoenix - X-Port Version\n",
      "Failed requesting PositiveNoise - Rising Mix\n",
      "Failed requesting PositiveNoise - Rising Mix\n"
     ]
    },
    {
     "name": "stderr",
     "output_type": "stream",
     "text": [
      "Processing A Guy Called Gerald_tracks.parquet:   9%|▉         | 22/246 [00:03<00:22,  9.76it/s]"
     ]
    },
    {
     "name": "stdout",
     "output_type": "stream",
     "text": [
      "Failed requesting Chic Psychedelic - X-Port Version\n",
      "Failed requesting Chic Psychedelic - X-Port Version\n",
      "Failed requesting Manik Shamanik - Live Version\n",
      "Failed requesting Manik Shamanik - Live Version\n",
      "Failed requesting Hinotori\n",
      "Failed requesting Hinotori\n",
      "Failed requesting Alpha Wave - Plastikman Acid House Remix\n",
      "Failed requesting Alpha Wave - Plastikman Acid House Remix\n"
     ]
    },
    {
     "name": "stderr",
     "output_type": "stream",
     "text": [
      "Processing A Guy Called Gerald_tracks.parquet:  12%|█▏        | 29/246 [00:03<00:14, 15.38it/s]"
     ]
    },
    {
     "name": "stdout",
     "output_type": "stream",
     "text": [
      "Failed requesting On the Seventh Night - Boom 2010 Remix\n",
      "Failed requesting On the Seventh Night - Boom 2010 Remix\n",
      "Failed requesting Ring of Fire - Volcaniq Mix\n",
      "Failed requesting Ring of Fire - Volcaniq Mix\n",
      "Failed requesting Batis - System 7 Remix\n",
      "Failed requesting Batis - System 7 Remix\n",
      "Failed requesting Borobudur - The Art of Chill Mix\n"
     ]
    },
    {
     "name": "stderr",
     "output_type": "stream",
     "text": [
      "Processing A Guy Called Gerald_tracks.parquet:  15%|█▌        | 37/246 [00:04<00:09, 22.06it/s]"
     ]
    },
    {
     "name": "stdout",
     "output_type": "stream",
     "text": [
      "Failed requesting Borobudur - The Art of Chill Mix\n",
      "Failed requesting Field of Dreams - Funky Gong Remix\n",
      "Failed requesting Field of Dreams - Funky Gong Remix\n",
      "Failed requesting Field of Dreams - Asteroidnos Remix\n",
      "Failed requesting Field of Dreams - Asteroidnos Remix\n",
      "Failed requesting Field of Dreams - Ree.K Remix\n",
      "Failed requesting Field of Dreams - Ree.K Remix\n",
      "Failed requesting Field of Dreams - Video edit\n"
     ]
    },
    {
     "name": "stderr",
     "output_type": "stream",
     "text": [
      "Processing A Guy Called Gerald_tracks.parquet:  18%|█▊        | 45/246 [00:04<00:07, 27.94it/s]"
     ]
    },
    {
     "name": "stdout",
     "output_type": "stream",
     "text": [
      "Failed requesting Field of Dreams - Video edit\n",
      "Failed requesting Field of Dreams - Ubar Tmar Remix\n",
      "Failed requesting Field of Dreams - Ubar Tmar Remix\n",
      "Failed requesting Field of Dreams - Artman Remix\n",
      "Failed requesting Field of Dreams - Artman Remix\n",
      "Failed requesting Field of Dreams\n",
      "Failed requesting Field of Dreams\n",
      "Failed requesting Love for the Phoenix - X-Port Version\n"
     ]
    },
    {
     "name": "stderr",
     "output_type": "stream",
     "text": [
      "Processing A Guy Called Gerald_tracks.parquet:  22%|██▏       | 55/246 [00:04<00:05, 34.67it/s]"
     ]
    },
    {
     "name": "stdout",
     "output_type": "stream",
     "text": [
      "Failed requesting Love for the Phoenix - X-Port Version\n",
      "Failed requesting PositiveNoise - Rising Mix\n",
      "Failed requesting PositiveNoise - Rising Mix\n",
      "Failed requesting Chic Psychedelic - X-Port Version\n",
      "Failed requesting Chic Psychedelic - X-Port Version\n",
      "Failed requesting Manik Shamanik - Live Version\n",
      "Failed requesting Manik Shamanik - Live Version\n",
      "Failed requesting Hinotori\n",
      "Failed requesting Hinotori\n"
     ]
    },
    {
     "name": "stderr",
     "output_type": "stream",
     "text": [
      "Processing A Guy Called Gerald_tracks.parquet:  26%|██▌       | 64/246 [00:04<00:04, 37.64it/s]"
     ]
    },
    {
     "name": "stdout",
     "output_type": "stream",
     "text": [
      "Failed requesting Alpha Wave - Plastikman Acid House Remix\n",
      "Failed requesting Alpha Wave - Plastikman Acid House Remix\n",
      "Failed requesting On the Seventh Night - Boom 2010 Remix\n",
      "Failed requesting On the Seventh Night - Boom 2010 Remix\n",
      "Failed requesting Ring of Fire - Volcaniq Mix\n",
      "Failed requesting Ring of Fire - Volcaniq Mix\n",
      "Failed requesting Batis - System 7 Remix\n",
      "Failed requesting Batis - System 7 Remix\n",
      "Failed requesting Borobudur - The Art of Chill Mix\n"
     ]
    },
    {
     "name": "stderr",
     "output_type": "stream",
     "text": [
      "Processing A Guy Called Gerald_tracks.parquet:  30%|███       | 74/246 [00:05<00:04, 39.03it/s]"
     ]
    },
    {
     "name": "stdout",
     "output_type": "stream",
     "text": [
      "Failed requesting Borobudur - The Art of Chill Mix\n",
      "Failed requesting Field of Dreams - Funky Gong Remix\n",
      "Failed requesting Field of Dreams - Funky Gong Remix\n",
      "Failed requesting Field of Dreams - Asteroidnos Remix\n",
      "Failed requesting Field of Dreams - Asteroidnos Remix\n",
      "Failed requesting Field of Dreams - Ree.K Remix\n",
      "Failed requesting Field of Dreams - Ree.K Remix\n",
      "Failed requesting Field of Dreams - Video edit\n",
      "Failed requesting Field of Dreams - Video edit\n"
     ]
    },
    {
     "name": "stderr",
     "output_type": "stream",
     "text": [
      "Processing A Guy Called Gerald_tracks.parquet:  32%|███▏      | 79/246 [00:05<00:04, 37.90it/s]"
     ]
    },
    {
     "name": "stdout",
     "output_type": "stream",
     "text": [
      "Failed requesting Field of Dreams - Ubar Tmar Remix\n",
      "Failed requesting Field of Dreams - Ubar Tmar Remix\n",
      "Failed requesting Field of Dreams - Artman Remix\n",
      "Failed requesting Field of Dreams - Artman Remix\n",
      "Failed requesting Jack the Box\n",
      "Failed requesting The Acid Flex\n",
      "Failed requesting Attack of the 303\n",
      "Failed requesting Inter Funk\n"
     ]
    },
    {
     "name": "stderr",
     "output_type": "stream",
     "text": [
      "Processing A Guy Called Gerald_tracks.parquet:  36%|███▌      | 88/246 [00:05<00:04, 38.81it/s]"
     ]
    },
    {
     "name": "stdout",
     "output_type": "stream",
     "text": [
      "Failed requesting Everything in Time\n",
      "Failed requesting Gilles et John\n",
      "Failed requesting Rat Trap\n",
      "Failed requesting TR - Rhythm\n",
      "Failed requesting Angles\n",
      "Failed requesting Unlocked\n",
      "Failed requesting Wave Subarctic\n",
      "Failed requesting Nite Trippin\n",
      "Failed requesting Peli Peli\n"
     ]
    },
    {
     "name": "stderr",
     "output_type": "stream",
     "text": [
      "Processing A Guy Called Gerald_tracks.parquet:  39%|███▉      | 96/246 [00:05<00:03, 37.78it/s]"
     ]
    },
    {
     "name": "stdout",
     "output_type": "stream",
     "text": [
      "Failed requesting Get It On\n",
      "Failed requesting Thanks Daddy For The Groove\n",
      "Failed requesting Wasting My Time\n",
      "Failed requesting Tenderness\n",
      "Failed requesting Under The Line\n",
      "Failed requesting Always\n",
      "Failed requesting Tutto Gas\n",
      "Failed requesting Pandora Peaks\n"
     ]
    },
    {
     "name": "stderr",
     "output_type": "stream",
     "text": [
      "Processing A Guy Called Gerald_tracks.parquet:  42%|████▏     | 104/246 [00:05<00:03, 35.93it/s]"
     ]
    },
    {
     "name": "stdout",
     "output_type": "stream",
     "text": [
      "Failed requesting Mathemagix\n",
      "Failed requesting Florence Shuffle\n",
      "Failed requesting Crash point\n",
      "Failed requesting After Calling\n",
      "Failed requesting Niglo\n",
      "Failed requesting Solstice\n",
      "Failed requesting Kafi Lied\n"
     ]
    },
    {
     "name": "stderr",
     "output_type": "stream",
     "text": [
      "Processing A Guy Called Gerald_tracks.parquet:  46%|████▌     | 112/246 [00:06<00:03, 36.30it/s]"
     ]
    },
    {
     "name": "stdout",
     "output_type": "stream",
     "text": [
      "Failed requesting Peace\n",
      "Failed requesting Verbos - Nico Stojan Remix\n",
      "Failed requesting Zebra\n",
      "Failed requesting Miami Rice - Lee Jones Remix\n",
      "Failed requesting Spherical Aberration - Jiggler Remix\n",
      "Failed requesting Millions Of Particles\n",
      "Failed requesting Sundowner - Radio Edit\n",
      "Failed requesting Ocean Above\n"
     ]
    },
    {
     "name": "stderr",
     "output_type": "stream",
     "text": [
      "Processing A Guy Called Gerald_tracks.parquet:  47%|████▋     | 116/246 [00:06<00:04, 30.56it/s]"
     ]
    },
    {
     "name": "stdout",
     "output_type": "stream",
     "text": [
      "Failed requesting Dalek Head\n",
      "Failed requesting The Wizard Sails Alone\n",
      "Failed requesting Little Raver\n",
      "Failed requesting DoJoo\n",
      "Failed requesting Siel Fiction\n"
     ]
    },
    {
     "name": "stderr",
     "output_type": "stream",
     "text": [
      "Processing A Guy Called Gerald_tracks.parquet:  50%|█████     | 124/246 [00:06<00:03, 32.25it/s]"
     ]
    },
    {
     "name": "stdout",
     "output_type": "stream",
     "text": [
      "Failed requesting Thalassa\n",
      "Failed requesting The Misery - Nu & Pauli Vs Acid Remix\n",
      "Failed requesting Getting Higher\n",
      "Failed requesting You & Me & Everything\n",
      "Failed requesting King Of The Beat (Remix)\n",
      "Failed requesting Deadlines\n",
      "Failed requesting Open Mind\n"
     ]
    },
    {
     "name": "stderr",
     "output_type": "stream",
     "text": [
      "Processing A Guy Called Gerald_tracks.parquet:  54%|█████▍    | 133/246 [00:06<00:03, 35.03it/s]"
     ]
    },
    {
     "name": "stdout",
     "output_type": "stream",
     "text": [
      "Failed requesting Ride The Mindway\n",
      "Failed requesting Infinite Power\n",
      "Failed requesting Interstellar\n",
      "Failed requesting Don't Blow Your Top\n",
      "Failed requesting Escape\n",
      "Failed requesting Psyche Out\n",
      "Failed requesting Emarceva\n",
      "Failed requesting Plastic Smile - Kotelett & Zadak's I Think Smile Rmx\n"
     ]
    },
    {
     "name": "stderr",
     "output_type": "stream",
     "text": [
      "Processing A Guy Called Gerald_tracks.parquet:  57%|█████▋    | 141/246 [00:06<00:02, 35.48it/s]"
     ]
    },
    {
     "name": "stdout",
     "output_type": "stream",
     "text": [
      "Failed requesting Father Of Birds\n",
      "Failed requesting I Want To Sleep\n",
      "Failed requesting Under The Bridge\n",
      "Failed requesting Terminal\n",
      "Failed requesting Falling - D.Diggler's Cleptomania Rmx\n",
      "Failed requesting Big Mind\n",
      "Failed requesting When I Wake Up (Part Two)\n",
      "Failed requesting Jump In The Water\n"
     ]
    },
    {
     "name": "stderr",
     "output_type": "stream",
     "text": [
      "Processing A Guy Called Gerald_tracks.parquet:  61%|██████    | 149/246 [00:07<00:02, 35.54it/s]"
     ]
    },
    {
     "name": "stdout",
     "output_type": "stream",
     "text": [
      "Failed requesting Bright Eyes, Dirty Hair - Acid Pauli & NU Rmx\n",
      "Failed requesting Tracknard - The Mekanism Remix\n",
      "Failed requesting Black Door\n",
      "Failed requesting Faint\n",
      "Failed requesting Raw Stuff - Marco Marset's Dub Funk Mix\n",
      "Failed requesting Misted\n",
      "Failed requesting Go Loose - SoKool Rmx\n",
      "Failed requesting Rumble\n"
     ]
    },
    {
     "name": "stderr",
     "output_type": "stream",
     "text": [
      "Processing A Guy Called Gerald_tracks.parquet:  62%|██████▏   | 153/246 [00:07<00:02, 35.39it/s]"
     ]
    },
    {
     "name": "stdout",
     "output_type": "stream",
     "text": [
      "Failed requesting The O\n",
      "Failed requesting Stay In Love - Acid Pauli's Bone Drone Remix\n",
      "Failed requesting Planet 7 - James Holden Remix\n",
      "Failed requesting Space Bird - Dubfire Deep Space Remix\n",
      "Failed requesting Passion\n",
      "Failed requesting Sirenes - System 7.1 Remix\n",
      "Failed requesting AlphaWave - Plastikman Acid House Remix\n"
     ]
    },
    {
     "name": "stderr",
     "output_type": "stream",
     "text": [
      "Processing A Guy Called Gerald_tracks.parquet:  65%|██████▌   | 161/246 [00:07<00:02, 28.81it/s]"
     ]
    },
    {
     "name": "stdout",
     "output_type": "stream",
     "text": [
      "Failed requesting PositiveNoise - Carl Craig Remix\n",
      "Failed requesting PositiveNoise - A. Mochi Remix\n",
      "Failed requesting Interstate - Doc Scott Remix\n",
      "Failed requesting Space Bird - Liquid Soul Remix\n",
      "Failed requesting Planet 7 - Son Kite Remix\n",
      "Failed requesting High Plains Drifter - Voyager Remix\n"
     ]
    },
    {
     "name": "stderr",
     "output_type": "stream",
     "text": [
      "Processing A Guy Called Gerald_tracks.parquet:  67%|██████▋   | 165/246 [00:07<00:03, 26.85it/s]"
     ]
    },
    {
     "name": "stdout",
     "output_type": "stream",
     "text": [
      "Failed requesting AlphaWave - Bananadance Remix\n",
      "Failed requesting AlphaWave - System 7 2000 Remix\n",
      "Failed requesting Eclipse - System 7 Club Remix\n",
      "Failed requesting Chihiro 61298 - Evan Marc Remix\n",
      "Failed requesting Sunburst - Atahualpa Mix\n",
      "Failed requesting Stay\n"
     ]
    },
    {
     "name": "stderr",
     "output_type": "stream",
     "text": [
      "Processing A Guy Called Gerald_tracks.parquet:  70%|███████   | 173/246 [00:08<00:02, 27.34it/s]"
     ]
    },
    {
     "name": "stdout",
     "output_type": "stream",
     "text": [
      "Failed requesting Sunrize\n",
      "Failed requesting Put the Man Out\n",
      "Failed requesting Voices\n",
      "Failed requesting Thu the Diehold\n",
      "Failed requesting The Legend of Neglect\n",
      "Failed requesting Testacorta\n",
      "Failed requesting Virata Rupa\n",
      "Failed requesting Dry Scream\n"
     ]
    },
    {
     "name": "stderr",
     "output_type": "stream",
     "text": [
      "Processing A Guy Called Gerald_tracks.parquet:  75%|███████▌  | 185/246 [00:08<00:01, 31.89it/s]"
     ]
    },
    {
     "name": "stdout",
     "output_type": "stream",
     "text": [
      "Failed requesting Quanto Tempo Ci Rimane - Fabio's Consolation Edit\n",
      "Failed requesting Dirty Vibes\n",
      "Failed requesting Dark Clouds\n",
      "Failed requesting Mind Free\n",
      "Failed requesting Tramonto Techno\n",
      "Failed requesting From Somewhere Else\n",
      "Failed requesting Hinterland\n",
      "Failed requesting Bosconi Stallions Mixed - Continuous DJ Mix\n"
     ]
    },
    {
     "name": "stderr",
     "output_type": "stream",
     "text": [
      "Processing A Guy Called Gerald_tracks.parquet:  77%|███████▋  | 189/246 [00:08<00:01, 29.71it/s]"
     ]
    },
    {
     "name": "stdout",
     "output_type": "stream",
     "text": [
      "Failed requesting CN Tower\n",
      "Failed requesting Brain Express\n",
      "Failed requesting Pink\n",
      "Failed requesting Smoke Machine - Bruno Pronsato's Easy On the Eyes Remix\n",
      "Failed requesting Time to Jak\n",
      "Failed requesting The Magic Number\n",
      "Failed requesting Corbera\n"
     ]
    },
    {
     "name": "stderr",
     "output_type": "stream",
     "text": [
      "Processing A Guy Called Gerald_tracks.parquet:  80%|████████  | 197/246 [00:08<00:01, 31.67it/s]"
     ]
    },
    {
     "name": "stdout",
     "output_type": "stream",
     "text": [
      "Failed requesting Simulator\n",
      "Failed requesting Wireless - Frank Martiniq Remix\n",
      "Failed requesting Apparence\n",
      "Failed requesting La Sepia\n",
      "Failed requesting Exploder\n",
      "Failed requesting Spooky Boutique\n",
      "Failed requesting Time to Jak\n"
     ]
    },
    {
     "name": "stderr",
     "output_type": "stream",
     "text": [
      "Processing A Guy Called Gerald_tracks.parquet:  83%|████████▎ | 205/246 [00:09<00:01, 30.65it/s]"
     ]
    },
    {
     "name": "stdout",
     "output_type": "stream",
     "text": [
      "Failed requesting Superbrand\n",
      "Failed requesting Jubeliane\n",
      "Failed requesting Messenger Vox\n",
      "Failed requesting Frequenztraeger - Pan-Pot Remix\n",
      "Failed requesting Taster\n",
      "Failed requesting Second Skin\n",
      "Failed requesting H-Babe\n"
     ]
    },
    {
     "name": "stderr",
     "output_type": "stream",
     "text": [
      "Processing A Guy Called Gerald_tracks.parquet:  87%|████████▋ | 213/246 [00:09<00:01, 32.81it/s]"
     ]
    },
    {
     "name": "stdout",
     "output_type": "stream",
     "text": [
      "Failed requesting Tomahawk Chop!\n",
      "Failed requesting Expander - Carsten Jost Remix\n",
      "Failed requesting Positivenoise - Carl Craig Remix\n",
      "Failed requesting PositiveNoise (A.Mochi remix)\n",
      "Failed requesting PositiveNoise (Original Club Mix)\n",
      "Failed requesting PositiveNoise\n",
      "Failed requesting PositiveNoise\n",
      "Failed requesting Funky Gong\n"
     ]
    },
    {
     "name": "stderr",
     "output_type": "stream",
     "text": [
      "Processing A Guy Called Gerald_tracks.parquet:  90%|████████▉ | 221/246 [00:09<00:00, 33.75it/s]"
     ]
    },
    {
     "name": "stdout",
     "output_type": "stream",
     "text": [
      "Failed requesting Funky Gong\n",
      "Failed requesting Berimbau\n",
      "Failed requesting Berimbau\n",
      "Failed requesting The Mind Boggles\n",
      "Failed requesting The Mind Boggles\n",
      "Failed requesting At Last\n",
      "Failed requesting At Last\n",
      "Failed requesting E-Fusion\n"
     ]
    },
    {
     "name": "stderr",
     "output_type": "stream",
     "text": [
      "Processing A Guy Called Gerald_tracks.parquet:  93%|█████████▎| 229/246 [00:09<00:00, 33.55it/s]"
     ]
    },
    {
     "name": "stdout",
     "output_type": "stream",
     "text": [
      "Failed requesting E-Fusion\n",
      "Failed requesting Dolphin Smack - System 7 Remix\n",
      "Failed requesting I Seem to Be a Verb\n",
      "Failed requesting I Seem to Be a Verb\n",
      "Failed requesting Plasmatic Park\n",
      "Failed requesting Plasmatic Park\n",
      "Failed requesting Chiringuito - UP Remix\n",
      "Failed requesting PositiveNoise\n"
     ]
    },
    {
     "name": "stderr",
     "output_type": "stream",
     "text": [
      "Processing A Guy Called Gerald_tracks.parquet:  96%|█████████▋| 237/246 [00:09<00:00, 36.28it/s]"
     ]
    },
    {
     "name": "stdout",
     "output_type": "stream",
     "text": [
      "Failed requesting PositiveNoise\n",
      "Failed requesting Funky Gong\n",
      "Failed requesting Funky Gong\n",
      "Failed requesting Berimbau\n",
      "Failed requesting Berimbau\n",
      "Failed requesting The Mind Boggles\n",
      "Failed requesting The Mind Boggles\n",
      "Failed requesting At Last\n",
      "Failed requesting At Last\n"
     ]
    },
    {
     "name": "stderr",
     "output_type": "stream",
     "text": [
      "Processing A Guy Called Gerald_tracks.parquet: 100%|██████████| 246/246 [00:10<00:00, 23.99it/s]\n",
      "Processing A Number Of Names_tracks.parquet:   0%|          | 0/19 [00:00<?, ?it/s]"
     ]
    },
    {
     "name": "stdout",
     "output_type": "stream",
     "text": [
      "Failed requesting E-Fusion\n",
      "Failed requesting E-Fusion\n",
      "Failed requesting I Seem to Be a Verb\n",
      "Failed requesting I Seem to Be a Verb\n",
      "Failed requesting Plasmatic Park\n",
      "Failed requesting Plasmatic Park\n",
      "Failed requesting Dolphin Smack (System 7 remix)\n",
      "Failed requesting Shari Vari - Original Mix\n"
     ]
    },
    {
     "name": "stderr",
     "output_type": "stream",
     "text": [
      "Processing A Number Of Names_tracks.parquet:  11%|█         | 2/19 [00:01<00:09,  1.88it/s]"
     ]
    },
    {
     "name": "stdout",
     "output_type": "stream",
     "text": [
      "Failed requesting Shari Vari - DJ Godfather Ghetto Tech Mix\n"
     ]
    },
    {
     "name": "stderr",
     "output_type": "stream",
     "text": [
      "Processing A Number Of Names_tracks.parquet:  79%|███████▉  | 15/19 [00:09<00:01,  2.60it/s]"
     ]
    },
    {
     "name": "stdout",
     "output_type": "stream",
     "text": [
      "Failed requesting Sharivari 2013 - Aux 88 Digital Mix\n",
      "Failed requesting Sharivari 2013 - Aux 88 Smooth Techno Mix\n",
      "Failed requesting Sharivari 2013 - Aux 88 Mad Scientist Festival DJ Mix\n",
      "Failed requesting Sharivari 2013 - Blaktony's Deep Baked Rmx\n",
      "Failed requesting Coast 2 Coast (Mixed by Quentin Harris)\n",
      "Failed requesting Rock Like This\n",
      "Failed requesting Snowfall on a Rose Bush\n",
      "Failed requesting Detroit Parties Rock Like This - Acapella\n"
     ]
    },
    {
     "name": "stderr",
     "output_type": "stream",
     "text": [
      "Processing A Number Of Names_tracks.parquet: 100%|██████████| 19/19 [00:09<00:00,  1.97it/s]\n",
      "Processing A Perfect Circle_tracks.parquet:   1%|          | 1/194 [00:01<03:20,  1.04s/it]"
     ]
    },
    {
     "name": "stdout",
     "output_type": "stream",
     "text": [
      "Failed requesting Disillusioned\n",
      "Failed requesting The Contrarian\n"
     ]
    },
    {
     "name": "stderr",
     "output_type": "stream",
     "text": [
      "Processing A Perfect Circle_tracks.parquet:   4%|▍         | 8/194 [00:06<02:46,  1.11it/s]"
     ]
    },
    {
     "name": "stdout",
     "output_type": "stream",
     "text": [
      "Failed requesting DLB\n"
     ]
    },
    {
     "name": "stderr",
     "output_type": "stream",
     "text": [
      "Processing A Perfect Circle_tracks.parquet:  10%|█         | 20/194 [00:17<03:01,  1.04s/it]"
     ]
    },
    {
     "name": "stdout",
     "output_type": "stream",
     "text": [
      "Failed requesting Reholder (Live)\n"
     ]
    },
    {
     "name": "stderr",
     "output_type": "stream",
     "text": [
      "Processing A Perfect Circle_tracks.parquet:  18%|█▊        | 34/194 [00:31<02:45,  1.04s/it]"
     ]
    },
    {
     "name": "stdout",
     "output_type": "stream",
     "text": [
      "Failed requesting Peace, Love, and Understanding (Live)\n",
      "Failed requesting When the Levee Breaks (Live)\n"
     ]
    },
    {
     "name": "stderr",
     "output_type": "stream",
     "text": [
      "Processing A Perfect Circle_tracks.parquet:  19%|█▉        | 37/194 [00:32<01:43,  1.52it/s]"
     ]
    },
    {
     "name": "stdout",
     "output_type": "stream",
     "text": [
      "Failed requesting 3 Libras Remix (Live)\n"
     ]
    },
    {
     "name": "stderr",
     "output_type": "stream",
     "text": [
      "Processing A Perfect Circle_tracks.parquet:  21%|██        | 41/194 [00:35<01:58,  1.29it/s]"
     ]
    },
    {
     "name": "stdout",
     "output_type": "stream",
     "text": [
      "Failed requesting Passive (Live)\n"
     ]
    },
    {
     "name": "stderr",
     "output_type": "stream",
     "text": [
      "Processing A Perfect Circle_tracks.parquet:  28%|██▊       | 54/194 [00:48<02:24,  1.03s/it]"
     ]
    },
    {
     "name": "stdout",
     "output_type": "stream",
     "text": [
      "Failed requesting Counting Bodies Like Sheep To The Rhythm Of The War Drums\n"
     ]
    },
    {
     "name": "stderr",
     "output_type": "stream",
     "text": [
      "Processing A Perfect Circle_tracks.parquet:  75%|███████▍  | 145/194 [02:18<00:23,  2.10it/s]"
     ]
    },
    {
     "name": "stdout",
     "output_type": "stream",
     "text": [
      "Failed requesting The Hollow - Commentary\n",
      "Failed requesting Judith - Commentary\n",
      "Failed requesting Orestes - Commentary\n"
     ]
    },
    {
     "name": "stderr",
     "output_type": "stream",
     "text": [
      "Processing A Perfect Circle_tracks.parquet:  77%|███████▋  | 150/194 [02:19<00:12,  3.50it/s]"
     ]
    },
    {
     "name": "stdout",
     "output_type": "stream",
     "text": [
      "Failed requesting Weak And Powerless - Commentary\n",
      "Failed requesting The Noose - Commentary\n",
      "Failed requesting The Outsider - Commentary\n",
      "Failed requesting Blue - Commentary\n",
      "Failed requesting When The Levee Breaks - Commentary\n",
      "Failed requesting Imagine - Commentary\n",
      "Failed requesting Counting Bodies Like Sheep To The Rhythm Of The War Drums - Commentary\n"
     ]
    },
    {
     "name": "stderr",
     "output_type": "stream",
     "text": [
      "Processing A Perfect Circle_tracks.parquet:  79%|███████▉  | 154/194 [02:20<00:06,  5.80it/s]"
     ]
    },
    {
     "name": "stdout",
     "output_type": "stream",
     "text": [
      "Failed requesting Passive - Commentary\n"
     ]
    },
    {
     "name": "stderr",
     "output_type": "stream",
     "text": [
      "Processing A Perfect Circle_tracks.parquet:  81%|████████  | 157/194 [02:21<00:08,  4.28it/s]"
     ]
    },
    {
     "name": "stdout",
     "output_type": "stream",
     "text": [
      "Failed requesting The Hollow - Commentary\n",
      "Failed requesting Rose - Commentary\n",
      "Failed requesting Judith - Commentary\n",
      "Failed requesting Orestes - Commentary\n"
     ]
    },
    {
     "name": "stderr",
     "output_type": "stream",
     "text": [
      "Processing A Perfect Circle_tracks.parquet:  85%|████████▍ | 164/194 [02:22<00:05,  5.50it/s]"
     ]
    },
    {
     "name": "stdout",
     "output_type": "stream",
     "text": [
      "Failed requesting The Package - Commentary\n",
      "Failed requesting Weak And Powerless - Commentary\n",
      "Failed requesting The Noose - Commentary\n",
      "Failed requesting The Outsider - Commentary\n",
      "Failed requesting Blue - Commentary\n",
      "Failed requesting Imagine - Commentary\n",
      "Failed requesting Passive - Commentary\n"
     ]
    },
    {
     "name": "stderr",
     "output_type": "stream",
     "text": [
      "Processing A Perfect Circle_tracks.parquet:  87%|████████▋ | 168/194 [02:23<00:05,  4.64it/s]"
     ]
    },
    {
     "name": "stdout",
     "output_type": "stream",
     "text": [
      "Failed requesting Counting Bodies Like Sheep To The Rhythm Of The War Drums - Commentary\n",
      "Failed requesting When The Levee Breaks - Commentary\n"
     ]
    },
    {
     "name": "stderr",
     "output_type": "stream",
     "text": [
      "Processing A Perfect Circle_tracks.parquet:  88%|████████▊ | 171/194 [02:24<00:05,  3.90it/s]"
     ]
    },
    {
     "name": "stdout",
     "output_type": "stream",
     "text": [
      "Failed requesting 3 Libras - Live/Commentary\n"
     ]
    },
    {
     "name": "stderr",
     "output_type": "stream",
     "text": [
      "Processing A Perfect Circle_tracks.parquet:  91%|█████████ | 177/194 [02:25<00:03,  4.85it/s]"
     ]
    },
    {
     "name": "stdout",
     "output_type": "stream",
     "text": [
      "Failed requesting Fiddle And The Drum - Live/Commentary\n",
      "Failed requesting How Do I Say Goodbye\n",
      "Failed requesting Losing My Religion\n",
      "Failed requesting Happier Than Ever\n"
     ]
    },
    {
     "name": "stderr",
     "output_type": "stream",
     "text": [
      "Processing A Perfect Circle_tracks.parquet:  92%|█████████▏| 179/194 [02:27<00:05,  2.62it/s]"
     ]
    }
   ],
   "source": [
    "with open('path_0.json', 'r') as f:\n",
    "    paths = json.load(f)\n",
    "for path in paths:\n",
    "    filename = os.path.basename(path)\n",
    "\n",
    "    output_file_path = f'results/{filename}'\n",
    "\n",
    "    if os.path.exists(output_file_path):\n",
    "        print(f\"Parquet file already exists for {filename}, skipping...\")\n",
    "        continue\n",
    "\n",
    "    if os.path.isfile(path):\n",
    "        artist_df = pd.read_parquet(path)\n",
    "        artist_df['bag_of_words'] = None\n",
    "\n",
    "        for i, r in tqdm(artist_df.iterrows(), total=len(artist_df), desc=f\"Processing {filename}\"):\n",
    "            sp_lyrics = sp.get_lyrics(r['track_id'])\n",
    "            if sp_lyrics:\n",
    "                lyrics = \"\"\n",
    "\n",
    "                for x in sp_lyrics['lyrics']['lines']:\n",
    "                    lyrics += ' ' + x['words']\n",
    "\n",
    "                lyrics = lyrics.lower()\n",
    "                words = lyrics.split()\n",
    "                bag_of_words = Counter(words)\n",
    "                artist_df.at[i, 'bag_of_words'] = bag_of_words\n",
    "                time.sleep(1)\n",
    "            else:\n",
    "                print(f'Failed requesting {r[\"track_name\"]}')\n",
    "\n",
    "    artist_df.to_parquet(f'results/{filename}')\n",
    "\n"
   ]
  }
 ],
 "metadata": {
  "kernelspec": {
   "display_name": "Python 3",
   "language": "python",
   "name": "python3"
  },
  "language_info": {
   "codemirror_mode": {
    "name": "ipython",
    "version": 3
   },
   "file_extension": ".py",
   "mimetype": "text/x-python",
   "name": "python",
   "nbconvert_exporter": "python",
   "pygments_lexer": "ipython3",
   "version": "3.8.10"
  },
  "orig_nbformat": 4
 },
 "nbformat": 4,
 "nbformat_minor": 2
}
