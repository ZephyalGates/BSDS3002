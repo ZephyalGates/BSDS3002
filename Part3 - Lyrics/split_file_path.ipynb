{
 "cells": [
  {
   "cell_type": "code",
   "execution_count": 10,
   "metadata": {},
   "outputs": [],
   "source": [
    "import os\n",
    "import json"
   ]
  },
  {
   "cell_type": "code",
   "execution_count": 4,
   "metadata": {},
   "outputs": [],
   "source": [
    "folder_path = r\"Z:\\BSDS3002_GP_GIT\\BSDS3002\\Part3 - Tracks\\results\""
   ]
  },
  {
   "cell_type": "code",
   "execution_count": 8,
   "metadata": {},
   "outputs": [],
   "source": [
    "file_list = os.listdir(folder_path)\n",
    "subfolder_size = len(file_list) // 5\n",
    "folder_chunks = [os.path.join(folder_path, f) for f in file_list]\n",
    "folder_chunks = [folder_chunks[i:i+subfolder_size] for i in range(0, len(folder_chunks), subfolder_size)]\n",
    "if len(folder_chunks) > 5:\n",
    "    last_subfolder = folder_chunks.pop()\n",
    "    folder_chunks[-1].extend(last_subfolder)"
   ]
  },
  {
   "cell_type": "code",
   "execution_count": 9,
   "metadata": {},
   "outputs": [
    {
     "name": "stdout",
     "output_type": "stream",
     "text": [
      "1913\n",
      "1913\n",
      "1913\n",
      "1913\n",
      "1917\n"
     ]
    }
   ],
   "source": [
    "for x in folder_chunks:\n",
    "    print(len(x))"
   ]
  },
  {
   "cell_type": "code",
   "execution_count": 18,
   "metadata": {},
   "outputs": [],
   "source": [
    "for i, r in enumerate(folder_chunks):\n",
    "    paths = r\n",
    "    with open(f\"path_{i}.json\", \"w\") as f:\n",
    "        json.dump(paths, f)"
   ]
  },
  {
   "cell_type": "code",
   "execution_count": 20,
   "metadata": {},
   "outputs": [
    {
     "name": "stdout",
     "output_type": "stream",
     "text": [
      "Z:\\BSDS3002_GP_GIT\\BSDS3002\\Part3 - Tracks\\results\\!!!_tracks.parquet\n"
     ]
    }
   ],
   "source": [
    "with open('path_0.json', 'r') as f:\n",
    "    path = json.load(f)\n",
    "print(path[0])"
   ]
  }
 ],
 "metadata": {
  "kernelspec": {
   "display_name": "Python 3",
   "language": "python",
   "name": "python3"
  },
  "language_info": {
   "codemirror_mode": {
    "name": "ipython",
    "version": 3
   },
   "file_extension": ".py",
   "mimetype": "text/x-python",
   "name": "python",
   "nbconvert_exporter": "python",
   "pygments_lexer": "ipython3",
   "version": "3.8.10"
  },
  "orig_nbformat": 4
 },
 "nbformat": 4,
 "nbformat_minor": 2
}
