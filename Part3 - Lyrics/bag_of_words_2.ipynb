{
 "cells": [
  {
   "cell_type": "code",
   "execution_count": 17,
   "metadata": {},
   "outputs": [],
   "source": [
    "import requests\n",
    "from bs4 import BeautifulSoup\n",
    "import pandas as pd\n",
    "import os\n",
    "import re\n",
    "from collections import Counter\n",
    "from syrics.api import Spotify\n",
    "from tqdm import tqdm\n",
    "import time\n",
    "import json"
   ]
  },
  {
   "cell_type": "code",
   "execution_count": 18,
   "metadata": {},
   "outputs": [],
   "source": [
    "sp = Spotify(\"AQC2w72YZTke8Q2HnKD61kVohX5ImNDwKN3kxgIm0NvV9AlUQOODOSisRN05mHpon1_r4qBKA35kTWxFzeG8Bdx-LHFMUR-0-LBnoU1qU3lzg5re4UqR11Nsfp8mGVC0mCiwDm4DtK7rGTHtUQOC0Qo3sDQmp-ZTFJBr0pOl6f7jJUkmcsOITOubGuWE43WaVnSqhF0KBbtsq_YkxqpUKpNnol9C\")"
   ]
  },
  {
   "cell_type": "code",
   "execution_count": 19,
   "metadata": {},
   "outputs": [
    {
     "name": "stderr",
     "output_type": "stream",
     "text": [
      "Processing Jeremy Enigk_tracks.parquet:   0%|          | 0/78 [00:00<?, ?it/s]"
     ]
    },
    {
     "name": "stdout",
     "output_type": "stream",
     "text": [
      "Parquet file already exists for Jazzanova_tracks.parquet, skipping...\n",
      "Parquet file already exists for Jazze Pha_tracks.parquet, skipping...\n",
      "Parquet file already exists for Jazzy Jay_tracks.parquet, skipping...\n",
      "Parquet file already exists for Jazzyfatnastees_tracks.parquet, skipping...\n",
      "Parquet file already exists for Jean Cocteau_tracks.parquet, skipping...\n",
      "Parquet file already exists for Jean Grae_tracks.parquet, skipping...\n",
      "Parquet file already exists for Jean Ritchie_tracks.parquet, skipping...\n",
      "Parquet file already exists for Jean Shepard_tracks.parquet, skipping...\n",
      "Parquet file already exists for Jean Sibelius_tracks.parquet, skipping...\n",
      "Parquet file already exists for Jean-Jacques Perrey_tracks.parquet, skipping...\n",
      "Parquet file already exists for Jean-Luc Ponty_tracks.parquet, skipping...\n",
      "Parquet file already exists for Jean-Paul Bourelly_tracks.parquet, skipping...\n",
      "Parquet file already exists for Jeanne Jolly_tracks.parquet, skipping...\n",
      "Parquet file already exists for Jeannie C. Riley_tracks.parquet, skipping...\n",
      "Parquet file already exists for Jeff Beck_tracks.parquet, skipping...\n",
      "Parquet file already exists for Jeff Berlin_tracks.parquet, skipping...\n",
      "Parquet file already exists for Jeff Buckley_tracks.parquet, skipping...\n",
      "Parquet file already exists for Jeff Greinke_tracks.parquet, skipping...\n",
      "Parquet file already exists for Jeff Hanson_tracks.parquet, skipping...\n",
      "Parquet file already exists for Jeff Mangum_tracks.parquet, skipping...\n",
      "Parquet file already exists for Jeff Mills_tracks.parquet, skipping...\n",
      "Parquet file already exists for Jeff Parker_tracks.parquet, skipping...\n",
      "Parquet file already exists for Jeff _Tain_ Watts_tracks.parquet, skipping...\n",
      "Parquet file already exists for Jefferson Airplane_tracks.parquet, skipping...\n",
      "Parquet file already exists for Jeffree Star_tracks.parquet, skipping...\n",
      "Parquet file already exists for Jeffrey Gaines_tracks.parquet, skipping...\n",
      "Parquet file already exists for Jeffrey Lee Pierce_tracks.parquet, skipping...\n",
      "Parquet file already exists for Jeffrey Lewis_tracks.parquet, skipping...\n",
      "Parquet file already exists for Jeffrey Osborne_tracks.parquet, skipping...\n",
      "Parquet file already exists for Jega_tracks.parquet, skipping...\n",
      "Parquet file already exists for Jello Biafra_tracks.parquet, skipping...\n",
      "Parquet file already exists for Jelly Roll Morton_tracks.parquet, skipping...\n",
      "Parquet file already exists for Jellyfish_tracks.parquet, skipping...\n",
      "Parquet file already exists for Jennifer Batten_tracks.parquet, skipping...\n",
      "Parquet file already exists for Jennifer Holliday_tracks.parquet, skipping...\n",
      "Parquet file already exists for Jennifer Hudson_tracks.parquet, skipping...\n",
      "Parquet file already exists for Jennifer Kimball_tracks.parquet, skipping...\n",
      "Parquet file already exists for Jennifer Knapp_tracks.parquet, skipping...\n",
      "Parquet file already exists for Jennifer Lopez_tracks.parquet, skipping...\n",
      "Parquet file already exists for Jennifer Love Hewitt_tracks.parquet, skipping...\n",
      "Parquet file already exists for Jennifer O'Connor_tracks.parquet, skipping...\n",
      "Parquet file already exists for Jennifer Paige_tracks.parquet, skipping...\n",
      "Parquet file already exists for Jenny Lewis_tracks.parquet, skipping...\n",
      "Parquet file already exists for Jens Lekman_tracks.parquet, skipping...\n",
      "Parquet file already exists for Jeremih_tracks.parquet, skipping...\n",
      "Parquet file already exists for Jeremy Camp_tracks.parquet, skipping...\n"
     ]
    },
    {
     "name": "stderr",
     "output_type": "stream",
     "text": [
      "Processing Jeremy Enigk_tracks.parquet:   3%|▎         | 2/78 [00:02<01:19,  1.05s/it]"
     ]
    },
    {
     "name": "stdout",
     "output_type": "stream",
     "text": [
      "Failed requesting Amazing Worlds\n"
     ]
    },
    {
     "name": "stderr",
     "output_type": "stream",
     "text": [
      "Processing Jeremy Enigk_tracks.parquet:   5%|▌         | 4/78 [00:03<00:53,  1.38it/s]"
     ]
    },
    {
     "name": "stdout",
     "output_type": "stream",
     "text": [
      "Failed requesting Ancient Road\n"
     ]
    },
    {
     "name": "stderr",
     "output_type": "stream",
     "text": [
      "Processing Jeremy Enigk_tracks.parquet:   8%|▊         | 6/78 [00:04<00:45,  1.57it/s]"
     ]
    },
    {
     "name": "stdout",
     "output_type": "stream",
     "text": [
      "Failed requesting Sacred Fire\n",
      "Failed requesting Onaroll\n",
      "Failed requesting I Am Revolution\n"
     ]
    },
    {
     "name": "stderr",
     "output_type": "stream",
     "text": [
      "Processing Jeremy Enigk_tracks.parquet:  26%|██▌       | 20/78 [00:15<00:58,  1.01s/it]"
     ]
    },
    {
     "name": "stdout",
     "output_type": "stream",
     "text": [
      "Failed requesting Vale Oso\n"
     ]
    },
    {
     "name": "stderr",
     "output_type": "stream",
     "text": [
      "Processing Jeremy Enigk_tracks.parquet:  31%|███       | 24/78 [00:18<00:48,  1.11it/s]"
     ]
    },
    {
     "name": "stdout",
     "output_type": "stream",
     "text": [
      "Failed requesting Tatseo Show\n"
     ]
    },
    {
     "name": "stderr",
     "output_type": "stream",
     "text": [
      "Processing Jeremy Enigk_tracks.parquet:  38%|███▊      | 30/78 [00:24<00:45,  1.05it/s]"
     ]
    },
    {
     "name": "stdout",
     "output_type": "stream",
     "text": [
      "Failed requesting Wolrd Waits\n",
      "Failed requesting A New Beginning\n"
     ]
    },
    {
     "name": "stderr",
     "output_type": "stream",
     "text": [
      "Processing Jeremy Enigk_tracks.parquet:  47%|████▋     | 37/78 [00:29<00:36,  1.11it/s]"
     ]
    },
    {
     "name": "stdout",
     "output_type": "stream",
     "text": [
      "Failed requesting Wayward Love\n"
     ]
    },
    {
     "name": "stderr",
     "output_type": "stream",
     "text": [
      "Processing Jeremy Enigk_tracks.parquet:  56%|█████▋    | 44/78 [00:35<00:33,  1.03it/s]"
     ]
    },
    {
     "name": "stdout",
     "output_type": "stream",
     "text": [
      "Failed requesting Lizard\n"
     ]
    },
    {
     "name": "stderr",
     "output_type": "stream",
     "text": [
      "Processing Jeremy Enigk_tracks.parquet:  59%|█████▉    | 46/78 [00:36<00:24,  1.29it/s]"
     ]
    },
    {
     "name": "stdout",
     "output_type": "stream",
     "text": [
      "Failed requesting Call Me Steam\n"
     ]
    },
    {
     "name": "stderr",
     "output_type": "stream",
     "text": [
      "Processing Jeremy Enigk_tracks.parquet:  88%|████████▊ | 69/78 [00:54<00:02,  3.32it/s]"
     ]
    },
    {
     "name": "stdout",
     "output_type": "stream",
     "text": [
      "Failed requesting Symptoms\n",
      "Failed requesting Every Right Makes A Wrong\n",
      "Failed requesting The Water\n",
      "Failed requesting We Lived Thru The End\n",
      "Failed requesting Once Was\n",
      "Failed requesting Campos\n",
      "Failed requesting Monster\n"
     ]
    },
    {
     "name": "stderr",
     "output_type": "stream",
     "text": [
      "Processing Jeremy Enigk_tracks.parquet:  97%|█████████▋| 76/78 [00:54<00:00,  7.94it/s]"
     ]
    },
    {
     "name": "stdout",
     "output_type": "stream",
     "text": [
      "Failed requesting Kno\n",
      "Failed requesting Imagine Nation\n",
      "Failed requesting I Know It, I Never Knew It\n",
      "Failed requesting Symptoms\n",
      "Failed requesting Once Was\n",
      "Failed requesting Imagine Nation\n"
     ]
    },
    {
     "name": "stderr",
     "output_type": "stream",
     "text": [
      "Processing Jeremy Enigk_tracks.parquet: 100%|██████████| 78/78 [00:55<00:00,  1.39it/s]\n",
      "Processing Jeremy Zucker_tracks.parquet:   3%|▎         | 2/63 [00:02<01:03,  1.04s/it]"
     ]
    },
    {
     "name": "stdout",
     "output_type": "stream",
     "text": [
      "Failed requesting Cry with you\n",
      "Failed requesting I can't look at you\n"
     ]
    },
    {
     "name": "stderr",
     "output_type": "stream",
     "text": [
      "Processing Jeremy Zucker_tracks.parquet: 100%|██████████| 63/63 [01:03<00:00,  1.01s/it]\n",
      "Processing Jeri Southern_tracks.parquet:   0%|          | 0/286 [00:00<?, ?it/s]"
     ]
    },
    {
     "name": "stdout",
     "output_type": "stream",
     "text": [
      "Failed requesting Don't Look at Me That Way\n"
     ]
    },
    {
     "name": "stderr",
     "output_type": "stream",
     "text": [
      "Processing Jeri Southern_tracks.parquet:   2%|▏         | 5/286 [00:04<04:22,  1.07it/s]"
     ]
    },
    {
     "name": "stdout",
     "output_type": "stream",
     "text": [
      "Failed requesting Why Shouldn't I?\n"
     ]
    },
    {
     "name": "stderr",
     "output_type": "stream",
     "text": [
      "Processing Jeri Southern_tracks.parquet:   3%|▎         | 8/286 [00:06<03:47,  1.22it/s]"
     ]
    },
    {
     "name": "stdout",
     "output_type": "stream",
     "text": [
      "Failed requesting Which\n"
     ]
    },
    {
     "name": "stderr",
     "output_type": "stream",
     "text": [
      "Processing Jeri Southern_tracks.parquet:   3%|▎         | 10/286 [00:07<03:12,  1.44it/s]"
     ]
    },
    {
     "name": "stdout",
     "output_type": "stream",
     "text": [
      "Failed requesting It's Bad for Me\n",
      "Failed requesting Weren't We Fools\n",
      "Failed requesting Down with Love\n"
     ]
    },
    {
     "name": "stderr",
     "output_type": "stream",
     "text": [
      "Processing Jeri Southern_tracks.parquet:   5%|▌         | 15/286 [00:09<02:32,  1.78it/s]"
     ]
    },
    {
     "name": "stdout",
     "output_type": "stream",
     "text": [
      "Failed requesting Who Wants to Fall in Love\n"
     ]
    },
    {
     "name": "stderr",
     "output_type": "stream",
     "text": [
      "Processing Jeri Southern_tracks.parquet:   7%|▋         | 21/286 [00:10<01:20,  3.29it/s]"
     ]
    },
    {
     "name": "stdout",
     "output_type": "stream",
     "text": [
      "Failed requesting Ridin' High\n",
      "Failed requesting Mademoiselle De Paris / Under Paris Skies\n",
      "Failed requesting Porgy\n",
      "Failed requesting I'm In Love Again\n",
      "Failed requesting You're The Cause Of It All\n"
     ]
    },
    {
     "name": "stderr",
     "output_type": "stream",
     "text": [
      "Processing Jeri Southern_tracks.parquet:  10%|▉         | 28/286 [00:13<01:07,  3.82it/s]"
     ]
    },
    {
     "name": "stdout",
     "output_type": "stream",
     "text": [
      "Failed requesting Baby, Did You Hear?\n",
      "Failed requesting Give Me Time\n",
      "Failed requesting What Good Am I Without You\n",
      "Failed requesting What Good Am I Without You\n"
     ]
    },
    {
     "name": "stderr",
     "output_type": "stream",
     "text": [
      "Processing Jeri Southern_tracks.parquet:  12%|█▏        | 35/286 [00:14<00:46,  5.38it/s]"
     ]
    },
    {
     "name": "stdout",
     "output_type": "stream",
     "text": [
      "Failed requesting Something I Dreamed Last Night\n",
      "Failed requesting Something I Dreamed Last Night\n",
      "Failed requesting Something I Dreamed Last Night\n",
      "Failed requesting When I Fall In Love\n",
      "Failed requesting When I Fall In Love\n",
      "Failed requesting When I Fall In Love\n",
      "Failed requesting A Mighty Pretty Waltz\n",
      "Failed requesting Forgive And Forget\n"
     ]
    },
    {
     "name": "stderr",
     "output_type": "stream",
     "text": [
      "Processing Jeri Southern_tracks.parquet:  13%|█▎        | 38/286 [00:14<00:35,  7.00it/s]"
     ]
    },
    {
     "name": "stdout",
     "output_type": "stream",
     "text": [
      "Failed requesting The Ruby And The Pearl\n"
     ]
    },
    {
     "name": "stderr",
     "output_type": "stream",
     "text": [
      "Processing Jeri Southern_tracks.parquet:  16%|█▌        | 45/286 [00:15<00:34,  6.93it/s]"
     ]
    },
    {
     "name": "stdout",
     "output_type": "stream",
     "text": [
      "Failed requesting Querida\n",
      "Failed requesting Weep For The Boy\n",
      "Failed requesting Just Got To Have Him Around\n",
      "Failed requesting I Saw You Again\n",
      "Failed requesting Call Me Tonight\n",
      "Failed requesting You Said\n",
      "Failed requesting Speak Softly To Me\n",
      "Failed requesting When I Fall In Love\n"
     ]
    },
    {
     "name": "stderr",
     "output_type": "stream",
     "text": [
      "Processing Jeri Southern_tracks.parquet:  17%|█▋        | 49/286 [00:15<00:24,  9.60it/s]"
     ]
    },
    {
     "name": "stdout",
     "output_type": "stream",
     "text": [
      "Failed requesting When I Fall In Love\n",
      "Failed requesting When I Fall In Love\n",
      "Failed requesting Mad About The Boy\n",
      "Failed requesting Mad About The Boy\n",
      "Failed requesting Crazy He Calls Me\n"
     ]
    },
    {
     "name": "stderr",
     "output_type": "stream",
     "text": [
      "Processing Jeri Southern_tracks.parquet:  19%|█▉        | 55/286 [00:17<00:53,  4.30it/s]"
     ]
    },
    {
     "name": "stdout",
     "output_type": "stream",
     "text": [
      "Failed requesting Porgy\n"
     ]
    },
    {
     "name": "stderr",
     "output_type": "stream",
     "text": [
      "Processing Jeri Southern_tracks.parquet:  21%|██▏       | 61/286 [00:18<00:43,  5.15it/s]"
     ]
    },
    {
     "name": "stdout",
     "output_type": "stream",
     "text": [
      "Failed requesting Smoke Gets In Your Eyes\n",
      "Failed requesting Ridin' High\n",
      "Failed requesting All In Fun\n",
      "Failed requesting All In Fun\n",
      "Failed requesting Someone To Watch Over Me\n"
     ]
    },
    {
     "name": "stderr",
     "output_type": "stream",
     "text": [
      "Processing Jeri Southern_tracks.parquet:  23%|██▎       | 65/286 [00:21<01:05,  3.35it/s]"
     ]
    },
    {
     "name": "stdout",
     "output_type": "stream",
     "text": [
      "Failed requesting That Ole Devil Called Love\n",
      "Failed requesting I Remember You\n",
      "Failed requesting All Too Soon\n",
      "Failed requesting Little Girl Blue\n",
      "Failed requesting Autumn In New York\n",
      "Failed requesting Can I Forget You?\n"
     ]
    },
    {
     "name": "stderr",
     "output_type": "stream",
     "text": [
      "Processing Jeri Southern_tracks.parquet:  27%|██▋       | 77/286 [00:21<00:19, 10.45it/s]"
     ]
    },
    {
     "name": "stdout",
     "output_type": "stream",
     "text": [
      "Failed requesting I'll Never Be the Same\n",
      "Failed requesting Coffee, Cigarettes and Memories\n",
      "Failed requesting You Make Me Feel So Young\n",
      "Failed requesting Spring Will Be a Little Late This Year\n",
      "Failed requesting Ev'ry Time We Say Goodbye\n",
      "Failed requesting When I Fall in Love\n",
      "Failed requesting You're Nearer\n",
      "Failed requesting The Very Thought of You\n"
     ]
    },
    {
     "name": "stderr",
     "output_type": "stream",
     "text": [
      "Processing Jeri Southern_tracks.parquet:  28%|██▊       | 81/286 [00:21<00:15, 13.58it/s]"
     ]
    },
    {
     "name": "stdout",
     "output_type": "stream",
     "text": [
      "Failed requesting No Moon at All\n",
      "Failed requesting I Hadn't Anyone Till You\n",
      "Failed requesting I Don't Know Where to Turn\n",
      "Failed requesting Remind Me\n",
      "Failed requesting Dancing on the Ceiling\n",
      "Failed requesting All in Fun\n",
      "Failed requesting He Was Too Good to Me\n"
     ]
    },
    {
     "name": "stderr",
     "output_type": "stream",
     "text": [
      "Processing Jeri Southern_tracks.parquet:  31%|███       | 89/286 [00:21<00:09, 20.28it/s]"
     ]
    },
    {
     "name": "stdout",
     "output_type": "stream",
     "text": [
      "Failed requesting I Remember You\n",
      "Failed requesting It's Delovely\n",
      "Failed requesting An Occasional Man\n",
      "Failed requesting Smoke Gets in Your Eyes\n",
      "Failed requesting Close as Pages in a Book\n",
      "Failed requesting Prelude to a Kiss\n",
      "Failed requesting Cross My Heart\n"
     ]
    },
    {
     "name": "stderr",
     "output_type": "stream",
     "text": [
      "Processing Jeri Southern_tracks.parquet:  34%|███▍      | 97/286 [00:22<00:07, 24.59it/s]"
     ]
    },
    {
     "name": "stdout",
     "output_type": "stream",
     "text": [
      "Failed requesting I Don't Want to Walk Without You\n",
      "Failed requesting Please Be Kind\n",
      "Failed requesting Trust in Me\n",
      "Failed requesting Try a Little Tenderness\n",
      "Failed requesting You're Mine You\n",
      "Failed requesting Speak Low\n",
      "Failed requesting Hold Me\n"
     ]
    },
    {
     "name": "stderr",
     "output_type": "stream",
     "text": [
      "Processing Jeri Southern_tracks.parquet:  35%|███▌      | 101/286 [00:22<00:06, 26.86it/s]"
     ]
    },
    {
     "name": "stdout",
     "output_type": "stream",
     "text": [
      "Failed requesting Close to You\n",
      "Failed requesting Close as Pages in a Book\n",
      "Failed requesting The Touch of Your Lips\n",
      "Failed requesting Coffee, Cigarettes and Memories\n",
      "Failed requesting Spring Will Be a Little Late This Year\n",
      "Failed requesting This Time the Dream's on Me\n",
      "Failed requesting Detour Ahead\n"
     ]
    },
    {
     "name": "stderr",
     "output_type": "stream",
     "text": [
      "Processing Jeri Southern_tracks.parquet:  38%|███▊      | 109/286 [00:22<00:06, 29.28it/s]"
     ]
    },
    {
     "name": "stdout",
     "output_type": "stream",
     "text": [
      "Failed requesting The Song Is Ended\n",
      "Failed requesting Yesterdays\n",
      "Failed requesting Deep in a Dream\n",
      "Failed requesting I'm Stepping out with a Memory Tonight\n",
      "Failed requesting Maybe It's Because I Love You Too Much\n",
      "Failed requesting Yesterday's Gardenias\n",
      "Failed requesting I Must Have that Man\n"
     ]
    },
    {
     "name": "stderr",
     "output_type": "stream",
     "text": [
      "Processing Jeri Southern_tracks.parquet:  41%|████      | 117/286 [00:22<00:05, 30.49it/s]"
     ]
    },
    {
     "name": "stdout",
     "output_type": "stream",
     "text": [
      "Failed requesting I'll Never Be the Same\n",
      "Failed requesting You Forgot Your Gloves\n",
      "Failed requesting My Ideal\n",
      "Failed requesting I've Got Five Dollars\n",
      "Failed requesting All Too Soon\n",
      "Failed requesting If I Had You\n",
      "Failed requesting What's My Name\n"
     ]
    },
    {
     "name": "stderr",
     "output_type": "stream",
     "text": [
      "Processing Jeri Southern_tracks.parquet:  44%|████▎     | 125/286 [00:22<00:05, 31.26it/s]"
     ]
    },
    {
     "name": "stdout",
     "output_type": "stream",
     "text": [
      "Failed requesting My Old Flame\n",
      "Failed requesting Am I Blue\n",
      "Failed requesting No Moon at All\n",
      "Failed requesting Romance in the Dark\n",
      "Failed requesting It Must Be True\n",
      "Failed requesting Everything but You\n",
      "Failed requesting Don't Look at Me That Way\n"
     ]
    },
    {
     "name": "stderr",
     "output_type": "stream",
     "text": [
      "Processing Jeri Southern_tracks.parquet:  47%|████▋     | 133/286 [00:23<00:04, 31.98it/s]"
     ]
    },
    {
     "name": "stdout",
     "output_type": "stream",
     "text": [
      "Failed requesting Get Out of Town\n",
      "Failed requesting Looking at You\n",
      "Failed requesting It's All Right with Me\n",
      "Failed requesting Let's Fly Away\n",
      "Failed requesting Why Shouldn't I ?\n",
      "Failed requesting You're the Top\n",
      "Failed requesting After You\n",
      "Failed requesting Which\n"
     ]
    },
    {
     "name": "stderr",
     "output_type": "stream",
     "text": [
      "Processing Jeri Southern_tracks.parquet:  48%|████▊     | 137/286 [00:23<00:04, 32.64it/s]"
     ]
    },
    {
     "name": "stdout",
     "output_type": "stream",
     "text": [
      "Failed requesting I Concentrate on You\n",
      "Failed requesting It's Bad for Me\n",
      "Failed requesting Weren't We Fools\n",
      "Failed requesting Down with Love\n",
      "Failed requesting Crazy He Calls Me\n"
     ]
    },
    {
     "name": "stderr",
     "output_type": "stream",
     "text": [
      "Processing Jeri Southern_tracks.parquet:  49%|████▉     | 141/286 [00:24<00:15,  9.34it/s]"
     ]
    },
    {
     "name": "stdout",
     "output_type": "stream",
     "text": [
      "Failed requesting Who Wants to Fall in Love\n"
     ]
    },
    {
     "name": "stderr",
     "output_type": "stream",
     "text": [
      "Processing Jeri Southern_tracks.parquet:  52%|█████▏    | 148/286 [00:25<00:17,  7.95it/s]"
     ]
    },
    {
     "name": "stdout",
     "output_type": "stream",
     "text": [
      "Failed requesting Ridin' High\n",
      "Failed requesting He Reminds Me of You\n",
      "Failed requesting Porgy\n",
      "Failed requesting Are These Really Mine\n",
      "Failed requesting Isn't This a Lovely Day\n",
      "Failed requesting Warm Kiss\n"
     ]
    },
    {
     "name": "stderr",
     "output_type": "stream",
     "text": [
      "Processing Jeri Southern_tracks.parquet:  54%|█████▍    | 155/286 [00:26<00:17,  7.35it/s]"
     ]
    },
    {
     "name": "stdout",
     "output_type": "stream",
     "text": [
      "Failed requesting Miss Johnson Phoned Again Today\n",
      "Failed requesting The Very Thought of You\n",
      "Failed requesting All in Fun\n",
      "Failed requesting Nobody's Heart\n",
      "Failed requesting You're Nearer\n",
      "Failed requesting The Cabin\n",
      "Failed requesting Mad about the Boy\n"
     ]
    },
    {
     "name": "stderr",
     "output_type": "stream",
     "text": [
      "Processing Jeri Southern_tracks.parquet:  57%|█████▋    | 162/286 [00:27<00:10, 11.92it/s]"
     ]
    },
    {
     "name": "stdout",
     "output_type": "stream",
     "text": [
      "Failed requesting Ev'ry Time We Say Goodbye\n",
      "Failed requesting I'm in Love wwith the Honorable Mr. So-And-So\n",
      "Failed requesting It Never Entered My Mind\n",
      "Failed requesting Let's Stay Young Forever\n",
      "Failed requesting Who Can I Turn To\n",
      "Failed requesting I'll Take Romance\n",
      "Failed requesting Let's Fall In Love\n"
     ]
    },
    {
     "name": "stderr",
     "output_type": "stream",
     "text": [
      "Processing Jeri Southern_tracks.parquet:  59%|█████▉    | 170/286 [00:27<00:06, 17.79it/s]"
     ]
    },
    {
     "name": "stdout",
     "output_type": "stream",
     "text": [
      "Failed requesting One Day I Wrote His Name Upon the Sand\n",
      "Failed requesting I'll Wear The Green Willow\n",
      "Failed requesting It's De-Lovely\n",
      "Failed requesting My Letters\n",
      "Failed requesting Too Marvelous For Words\n",
      "Failed requesting The Gypsy in My Soul\n",
      "Failed requesting Debonair\n"
     ]
    },
    {
     "name": "stderr",
     "output_type": "stream",
     "text": [
      "Processing Jeri Southern_tracks.parquet:  62%|██████▏   | 178/286 [00:27<00:04, 24.66it/s]"
     ]
    },
    {
     "name": "stdout",
     "output_type": "stream",
     "text": [
      "Failed requesting I Don't Know Where to Turn\n",
      "Failed requesting I Hadn't Anyone Till You\n",
      "Failed requesting Scarlet Ribbons (For Her Hair)\n",
      "Failed requesting Smoke Gets In Your Eyes\n",
      "Failed requesting Smoke Gets In Your Eyes\n",
      "Failed requesting Someone To Watch Over Me\n",
      "Failed requesting Someone To Watch Over Me\n",
      "Failed requesting Can I Forget You\n",
      "Failed requesting Little Girl Blue\n"
     ]
    },
    {
     "name": "stderr",
     "output_type": "stream",
     "text": [
      "Processing Jeri Southern_tracks.parquet:  65%|██████▌   | 186/286 [00:27<00:03, 29.19it/s]"
     ]
    },
    {
     "name": "stdout",
     "output_type": "stream",
     "text": [
      "Failed requesting I Remember You\n",
      "Failed requesting He Was Too Good To Me\n",
      "Failed requesting You're Driving Me Crazy\n",
      "Failed requesting You Make Me Feel so Young\n",
      "Failed requesting Autumn in New York\n",
      "Failed requesting My Ship\n",
      "Failed requesting No More\n",
      "Failed requesting Let Me Love You\n"
     ]
    },
    {
     "name": "stderr",
     "output_type": "stream",
     "text": [
      "Processing Jeri Southern_tracks.parquet:  67%|██████▋   | 191/286 [00:27<00:02, 32.49it/s]"
     ]
    },
    {
     "name": "stdout",
     "output_type": "stream",
     "text": [
      "Failed requesting You Better Go Now\n",
      "Failed requesting You Better Go Now\n",
      "Failed requesting What Good Am I Without You\n",
      "Failed requesting What Good Am I Without You\n",
      "Failed requesting Something I Dreamed Last Night\n",
      "Failed requesting Something I Dreamed Last Night\n",
      "Failed requesting Something I Dreamed Last Night\n",
      "Failed requesting When I Fall In Love\n",
      "Failed requesting When I Fall In Love\n"
     ]
    },
    {
     "name": "stderr",
     "output_type": "stream",
     "text": [
      "Processing Jeri Southern_tracks.parquet:  70%|██████▉   | 200/286 [00:28<00:02, 36.15it/s]"
     ]
    },
    {
     "name": "stdout",
     "output_type": "stream",
     "text": [
      "Failed requesting When I Fall In Love\n",
      "Failed requesting Give Me Time\n",
      "Failed requesting The Man That Got Away\n",
      "Failed requesting Just Got to Have Him Around\n",
      "Failed requesting Daancing on the Ceiling\n",
      "Failed requesting Speak Softly to Me\n",
      "Failed requesting I Thought Of You Last Night\n"
     ]
    },
    {
     "name": "stderr",
     "output_type": "stream",
     "text": [
      "Processing Jeri Southern_tracks.parquet:  73%|███████▎  | 208/286 [00:28<00:02, 34.99it/s]"
     ]
    },
    {
     "name": "stdout",
     "output_type": "stream",
     "text": [
      "Failed requesting That Ole Devil Called Love\n",
      "Failed requesting Remind Me\n",
      "Failed requesting Music, Maestro Please\n",
      "Failed requesting Robins and Roses\n",
      "Failed requesting Without a Word of Warning\n",
      "Failed requesting Ungrateful Heart\n",
      "Failed requesting The Things I Love\n"
     ]
    },
    {
     "name": "stderr",
     "output_type": "stream",
     "text": [
      "Processing Jeri Southern_tracks.parquet:  76%|███████▌  | 216/286 [00:28<00:02, 33.70it/s]"
     ]
    },
    {
     "name": "stdout",
     "output_type": "stream",
     "text": [
      "Failed requesting Where or When\n",
      "Failed requesting Until the Real Thing Comes Along\n",
      "Failed requesting Shake Down the Stars\n",
      "Failed requesting Have You Forgotten Too Soon\n",
      "Failed requesting When the Sun Comes out\n",
      "Failed requesting Isn't It Romantic\n",
      "Failed requesting Two Sleepy People\n",
      "Failed requesting It's D'lovely - Remastered\n"
     ]
    },
    {
     "name": "stderr",
     "output_type": "stream",
     "text": [
      "Processing Jeri Southern_tracks.parquet:  78%|███████▊  | 224/286 [00:30<00:08,  7.27it/s]"
     ]
    },
    {
     "name": "stdout",
     "output_type": "stream",
     "text": [
      "Failed requesting An Occasional Man - Remastered\n",
      "Failed requesting You Better Go Now 2 - Remastered\n",
      "Failed requesting I've Got Five Dollars - Remastered\n",
      "Failed requesting Mad About the Boy - Remastered\n",
      "Failed requesting Everything but You - Remastered\n",
      "Failed requesting It Must Be True - Remastered\n",
      "Failed requesting Come by Sunday - Remastered\n"
     ]
    },
    {
     "name": "stderr",
     "output_type": "stream",
     "text": [
      "Processing Jeri Southern_tracks.parquet:  81%|████████  | 232/286 [00:31<00:04, 12.00it/s]"
     ]
    },
    {
     "name": "stdout",
     "output_type": "stream",
     "text": [
      "Failed requesting I Remember You - Remastered\n",
      "Failed requesting When I Fall in Love - Remastered\n",
      "Failed requesting Gipsy in My Soul - Remastered\n",
      "Failed requesting We're Not Children Anymore - Remastered\n",
      "Failed requesting Life Does the Girl a Favour - Remastered\n",
      "Failed requesting September in the Rain - Remastered\n",
      "Failed requesting Married I Can Always Get - Remastered\n"
     ]
    },
    {
     "name": "stderr",
     "output_type": "stream",
     "text": [
      "Processing Jeri Southern_tracks.parquet:  84%|████████▍ | 240/286 [00:31<00:02, 17.30it/s]"
     ]
    },
    {
     "name": "stdout",
     "output_type": "stream",
     "text": [
      "Failed requesting I Hadn't Anyone Till You - Remastered\n",
      "Failed requesting Something I Dreamed Last Night - Remastered\n",
      "Failed requesting He Was Too Good to Me - Remastered\n",
      "Failed requesting Nothing at All\n",
      "Failed requesting Don't Explain\n",
      "Failed requesting Kiss and Run\n",
      "Failed requesting A Lot of Livin' Out-A Life\n"
     ]
    },
    {
     "name": "stderr",
     "output_type": "stream",
     "text": [
      "Processing Jeri Southern_tracks.parquet:  85%|████████▌ | 244/286 [00:31<00:02, 18.08it/s]"
     ]
    },
    {
     "name": "stdout",
     "output_type": "stream",
     "text": [
      "Failed requesting Do I Love You Because You're Beautiful ?\n",
      "Failed requesting Who Am I to Say ?\n",
      "Failed requesting Fire Down Below\n",
      "Failed requesting How Did He Look ?\n",
      "Failed requesting Miss Johnson Phoned Again Today\n",
      "Failed requesting The Very Thought of You\n"
     ]
    },
    {
     "name": "stderr",
     "output_type": "stream",
     "text": [
      "Processing Jeri Southern_tracks.parquet:  88%|████████▊ | 251/286 [00:31<00:01, 21.42it/s]"
     ]
    },
    {
     "name": "stdout",
     "output_type": "stream",
     "text": [
      "Failed requesting Just for Fun\n",
      "Failed requesting Cabin\n",
      "Failed requesting Mad About the Boy\n",
      "Failed requesting Ev'rytime We Say Goodbye\n",
      "Failed requesting The Honourable Mr. So-and-So\n",
      "Failed requesting Who Can I Turn To ?\n"
     ]
    },
    {
     "name": "stderr",
     "output_type": "stream",
     "text": [
      "Processing Jeri Southern_tracks.parquet:  91%|█████████ | 260/286 [00:32<00:00, 29.47it/s]"
     ]
    },
    {
     "name": "stdout",
     "output_type": "stream",
     "text": [
      "Failed requesting Something I Dreamed Last Night\n",
      "Failed requesting Something I Dreamed Last Night\n",
      "Failed requesting Something I Dreamed Last Night\n",
      "Failed requesting Mad About The Boy\n",
      "Failed requesting Mad About The Boy\n",
      "Failed requesting Ev'ry Time We Say Goodbye\n",
      "Failed requesting Ev'ry Time We Say Goodbye\n",
      "Failed requesting All In Fun\n",
      "Failed requesting All In Fun\n"
     ]
    },
    {
     "name": "stderr",
     "output_type": "stream",
     "text": [
      "Processing Jeri Southern_tracks.parquet:  94%|█████████▍| 269/286 [00:32<00:00, 33.56it/s]"
     ]
    },
    {
     "name": "stdout",
     "output_type": "stream",
     "text": [
      "Failed requesting I'm In Love With The Honorable Mr. So-And-So\n",
      "Failed requesting I Thought Of You Last Night\n",
      "Failed requesting It Never Entered My Mind\n",
      "Failed requesting Let's Stay Young Forever\n",
      "Failed requesting Miss Johnson Phoned Again Today\n",
      "Failed requesting Nobody's Heart\n",
      "Failed requesting The Cabin\n",
      "Failed requesting The Very Thought Of You\n"
     ]
    },
    {
     "name": "stderr",
     "output_type": "stream",
     "text": [
      "Processing Jeri Southern_tracks.parquet:  97%|█████████▋| 277/286 [00:32<00:00, 34.01it/s]"
     ]
    },
    {
     "name": "stdout",
     "output_type": "stream",
     "text": [
      "Failed requesting Who Can I Turn To\n",
      "Failed requesting You're Nearer\n",
      "Failed requesting Coffee Cigarettes and Memories\n",
      "Failed requesting Spring Will Be a Little Late This Year\n",
      "Failed requesting This Time the Dreams On Me Blues\n",
      "Failed requesting Detour Ahead\n",
      "Failed requesting The Song Is Ended\n",
      "Failed requesting Yesterdays\n"
     ]
    },
    {
     "name": "stderr",
     "output_type": "stream",
     "text": [
      "Processing Jeri Southern_tracks.parquet:  98%|█████████▊| 281/286 [00:32<00:00, 33.62it/s]"
     ]
    },
    {
     "name": "stdout",
     "output_type": "stream",
     "text": [
      "Failed requesting Deep in a Dream\n",
      "Failed requesting Im Stepping Out With a Memory Ton\n",
      "Failed requesting Maybe Its Because I Love You Too\n",
      "Failed requesting Yesterdays Gardenias\n",
      "Failed requesting I Must Have That Man\n",
      "Failed requesting Ill Never Be the Same\n",
      "Failed requesting Give Me Time\n"
     ]
    },
    {
     "name": "stderr",
     "output_type": "stream",
     "text": [
      "Processing Jeri Southern_tracks.parquet: 100%|██████████| 286/286 [00:32<00:00,  8.69it/s]\n",
      "Processing Jermaine Dupri_tracks.parquet:   0%|          | 0/66 [00:00<?, ?it/s]"
     ]
    },
    {
     "name": "stdout",
     "output_type": "stream",
     "text": [
      "Failed requesting What Good Am I Without You\n",
      "Failed requesting LP Intro - Interlude\n",
      "Failed requesting Welcome to Atlanta (feat. Ludacris)\n",
      "Failed requesting Money, Hoes & Power (feat. UGK, Pimpin' Ken & Manuel Seal)\n",
      "Failed requesting The Dream (Interlude) (feat. Wanda Sykes)\n"
     ]
    },
    {
     "name": "stderr",
     "output_type": "stream",
     "text": [
      "Processing Jermaine Dupri_tracks.parquet:  18%|█▊        | 12/66 [00:00<00:01, 36.92it/s]"
     ]
    },
    {
     "name": "stdout",
     "output_type": "stream",
     "text": [
      "Failed requesting Get Some (feat. Usher, Boo & Gotti & R.O.C.)\n",
      "Failed requesting Hate (Interlude)\n",
      "Failed requesting Hate Blood (feat. Freeway & Jadakiss)\n",
      "Failed requesting Ballin' Out of Control (feat. Nate Dogg)\n",
      "Failed requesting Supafly (feat. Bilal)\n",
      "Failed requesting Instructions Interlude\n",
      "Failed requesting Rules of the Game (feat. Manish Man)\n",
      "Failed requesting Prada Bag (Interlude)\n"
     ]
    },
    {
     "name": "stderr",
     "output_type": "stream",
     "text": [
      "Processing Jermaine Dupri_tracks.parquet:  30%|███       | 20/66 [00:00<00:01, 37.38it/s]"
     ]
    },
    {
     "name": "stdout",
     "output_type": "stream",
     "text": [
      "Failed requesting Whatever (feat. Nate Dogg, R.O.C., Tigah, Skeeter Rock, Trey Lorenz & Katrina)\n",
      "Failed requesting Let's Talk About It (feat. Clipse)\n",
      "Failed requesting Yours & Mine (feat. Jagged Edge)\n",
      "Failed requesting Jazzy Hoe's Part 2 (feat. Kurupt, Too $hort, Field Mob, Backbone & Eddie Cain)\n",
      "Failed requesting Hot Mama (Interlude)\n",
      "Failed requesting You Bring the Freak Out of Me (feat. Da Brat & Kandi)\n",
      "Failed requesting The Next Morning - Interlude\n",
      "Failed requesting Rock with Me (feat. Xscape)\n"
     ]
    },
    {
     "name": "stderr",
     "output_type": "stream",
     "text": [
      "Processing Jermaine Dupri_tracks.parquet:  38%|███▊      | 25/66 [00:00<00:01, 38.61it/s]"
     ]
    },
    {
     "name": "stdout",
     "output_type": "stream",
     "text": [
      "Failed requesting LP Intro - Interlude\n",
      "Failed requesting Welcome to Atlanta (feat. Ludacris)\n",
      "Failed requesting Money, Hoes & Power (feat. UGK, Pimpin' Ken & Manuel Seal)\n",
      "Failed requesting The Dream (Interlude) (feat. Wanda Sykes)\n",
      "Failed requesting Get Some (feat. Usher, Boo & Gotti & R.O.C.)\n",
      "Failed requesting Hate (Interlude)\n",
      "Failed requesting Hate Blood (feat. Freeway & Jadakiss)\n",
      "Failed requesting Ballin' Out of Control (feat. Nate Dogg)\n",
      "Failed requesting Supafly (feat. Bilal)\n"
     ]
    },
    {
     "name": "stderr",
     "output_type": "stream",
     "text": [
      "Processing Jermaine Dupri_tracks.parquet:  52%|█████▏    | 34/66 [00:00<00:00, 39.46it/s]"
     ]
    },
    {
     "name": "stdout",
     "output_type": "stream",
     "text": [
      "Failed requesting Instructions Interlude\n",
      "Failed requesting Rules of the Game (feat. Manish Man)\n",
      "Failed requesting Prada Bag (Interlude)\n",
      "Failed requesting Whatever (feat. Nate Dogg, R.O.C., Tigah, Skeeter Rock, Trey Lorenz & Katrina)\n",
      "Failed requesting Let's Talk About It (feat. Clipse)\n",
      "Failed requesting Yours & Mine (feat. Jagged Edge)\n",
      "Failed requesting Jazzy Hoe's Part 2 (feat. Kurupt, Too $hort, Field Mob, Backbone & Eddie Cain)\n",
      "Failed requesting Hot Mama (Interlude)\n",
      "Failed requesting You Bring the Freak Out of Me (feat. Da Brat & Kandi)\n"
     ]
    },
    {
     "name": "stderr",
     "output_type": "stream",
     "text": [
      "Processing Jermaine Dupri_tracks.parquet:  65%|██████▌   | 43/66 [00:01<00:00, 40.03it/s]"
     ]
    },
    {
     "name": "stdout",
     "output_type": "stream",
     "text": [
      "Failed requesting The Next Morning - Interlude\n",
      "Failed requesting Rock with Me (feat. Xscape)\n",
      "Failed requesting Intro / Turn It Out (feat. Nas)\n",
      "Failed requesting Money Ain't a Thang (feat. Jay-Z)\n",
      "Failed requesting Get Your Shit Right (feat. DMX & Mad Rapper)\n",
      "Failed requesting Fresh (feat. Slick Rick)\n",
      "Failed requesting Sweetheart (feat. Mariah Carey)\n",
      "Failed requesting Jazzy Hoes (feat. Eightball, Too $hort, Mr. Black & YoungBloodZ)\n"
     ]
    },
    {
     "name": "stderr",
     "output_type": "stream",
     "text": [
      "Processing Jermaine Dupri_tracks.parquet:  79%|███████▉  | 52/66 [00:01<00:00, 39.44it/s]"
     ]
    },
    {
     "name": "stdout",
     "output_type": "stream",
     "text": [
      "Failed requesting Don't Hate On Me (feat. Da Brat & Krayzie Bone)\n",
      "Failed requesting Going Home with Me (feat. Keith Sweat & R.O.C.)\n",
      "Failed requesting You Get Dealt Wit (feat. Mase & Lil' Kim)\n",
      "Failed requesting The Party Continues (feat. Da Brat & Usher) - Video Version\n",
      "Failed requesting All That's Got to Go (feat. Da Brat & LaTocha Scott)\n",
      "Failed requesting Protector's of 1472 (feat. Snoop Dogg, R.O.C. & Warren G)\n"
     ]
    },
    {
     "name": "stderr",
     "output_type": "stream",
     "text": [
      "Processing Jermaine Dupri_tracks.parquet:  85%|████████▍ | 56/66 [00:01<00:00, 32.79it/s]"
     ]
    },
    {
     "name": "stdout",
     "output_type": "stream",
     "text": [
      "Failed requesting Lay You Down (feat. Trina & Tamara Powell)\n",
      "Failed requesting Three the Hard Way (feat. Mr. Black & R.O.C.)\n",
      "Failed requesting Never Fall Off\n",
      "Failed requesting Essence Fest\n",
      "Failed requesting College Park\n",
      "Failed requesting Hell Yeah\n",
      "Failed requesting Hell Yeah - Radio Edit\n"
     ]
    },
    {
     "name": "stderr",
     "output_type": "stream",
     "text": [
      "Processing Jermaine Dupri_tracks.parquet: 100%|██████████| 66/66 [00:01<00:00, 36.66it/s]\n",
      "Processing Jermaine Jackson_tracks.parquet:   0%|          | 0/247 [00:00<?, ?it/s]"
     ]
    },
    {
     "name": "stdout",
     "output_type": "stream",
     "text": [
      "Failed requesting Da B Side (feat. The Notorious B.I.G.)\n",
      "Failed requesting Let's Get Married (feat. Kanye West) - Reception Remix\n",
      "Failed requesting Level Up\n",
      "Failed requesting Alessandro Michele\n",
      "Failed requesting F U Pay Me\n",
      "Failed requesting Foes\n",
      "Failed requesting WYA (Where You At?)\n"
     ]
    },
    {
     "name": "stderr",
     "output_type": "stream",
     "text": [
      "Processing Jermaine Jackson_tracks.parquet:   2%|▏         | 4/247 [00:00<00:07, 34.37it/s]"
     ]
    },
    {
     "name": "stdout",
     "output_type": "stream",
     "text": [
      "Failed requesting When the Rain Begins to Fall (Live)\n",
      "Failed requesting From Our Little House in Gary, Indiana to the Motown Audition\n",
      "Failed requesting From the Jackson 5 to Getting Married With Berry Gordy's Daughter\n",
      "Failed requesting First Time You Love (Live)\n",
      "Failed requesting From the Jackson 5's Fame and Tour to the I Wish You Love Album\n",
      "Failed requesting I've Got You Under My Skin (Live)\n",
      "Failed requesting Jermaine Jackson Introduces David Serero On Stage\n"
     ]
    },
    {
     "name": "stderr",
     "output_type": "stream",
     "text": [
      "Processing Jermaine Jackson_tracks.parquet:   5%|▍         | 12/247 [00:00<00:06, 34.52it/s]"
     ]
    },
    {
     "name": "stdout",
     "output_type": "stream",
     "text": [
      "Failed requesting Autumn Leaves & Les Feuilles Mortes (Live) [feat. David Serero]\n",
      "Failed requesting Leaving Motown and Splitting With the Brothers\n",
      "Failed requesting I'm My Brothers Keeper (Live)\n",
      "Failed requesting Motown 25th Anniversary and the Thriller Album\n",
      "Failed requesting Do What You Do (Live)\n",
      "Failed requesting From Michael Jackson's False Allegations to This Is It and Tribute to My Parents\n",
      "Failed requesting Oh Mother (Live)\n",
      "Failed requesting Michael Jackson's Tragic Death\n"
     ]
    },
    {
     "name": "stderr",
     "output_type": "stream",
     "text": [
      "Processing Jermaine Jackson_tracks.parquet:   8%|▊         | 20/247 [00:00<00:06, 36.69it/s]"
     ]
    },
    {
     "name": "stdout",
     "output_type": "stream",
     "text": [
      "Failed requesting Smile (Live)\n",
      "Failed requesting Medley Jackson Five: I Want You Back / ABC / The Love You Save / I'll Be There\n",
      "Failed requesting Blame It On the Boogie (Live)\n",
      "Failed requesting Rock With You (Live)\n",
      "Failed requesting Can You Feel It / Scream / Wanna Be Startin' Somethin' (Live)\n",
      "Failed requesting I've Got the World On a String\n",
      "Failed requesting I've Got You Under My Skin\n",
      "Failed requesting I Wish You Love\n",
      "Failed requesting Autumn Leaves (Les Feuilles Mortes) [feat. David Serero]\n"
     ]
    },
    {
     "name": "stderr",
     "output_type": "stream",
     "text": [
      "Processing Jermaine Jackson_tracks.parquet:  11%|█▏        | 28/247 [00:00<00:05, 37.97it/s]"
     ]
    },
    {
     "name": "stdout",
     "output_type": "stream",
     "text": [
      "Failed requesting Can't Take My Eyes Off You\n",
      "Failed requesting But Not for Me\n",
      "Failed requesting My Funny Valentine\n",
      "Failed requesting Almost Like Being in Love\n",
      "Failed requesting All the Things You Are\n",
      "Failed requesting Ek Ladki\n",
      "Failed requesting Let's Go To Mumbai City\n",
      "Failed requesting Mehfooz\n"
     ]
    },
    {
     "name": "stderr",
     "output_type": "stream",
     "text": [
      "Processing Jermaine Jackson_tracks.parquet:  15%|█▌        | 38/247 [00:01<00:05, 39.73it/s]"
     ]
    },
    {
     "name": "stdout",
     "output_type": "stream",
     "text": [
      "Failed requesting Tu Salaamat Rahe\n",
      "Failed requesting Dekha Tujhe\n",
      "Failed requesting Sharmili\n",
      "Failed requesting Laila\n",
      "Failed requesting Chalo\n",
      "Failed requesting Let's Go To Mumbai City - Remix\n",
      "Failed requesting Let's Get Serious - Single Version\n",
      "Failed requesting That's How Love Goes\n",
      "Failed requesting That's How Love Goes\n"
     ]
    },
    {
     "name": "stderr",
     "output_type": "stream",
     "text": [
      "Processing Jermaine Jackson_tracks.parquet:  19%|█▉        | 47/247 [00:01<00:04, 40.18it/s]"
     ]
    },
    {
     "name": "stdout",
     "output_type": "stream",
     "text": [
      "Failed requesting I'm In A Different World\n",
      "Failed requesting I'm In A Different World\n",
      "Failed requesting If You Don't Love Me\n",
      "Failed requesting The Bigger You Love The Harder You Fall\n",
      "Failed requesting Let's Be Young Tonight\n",
      "Failed requesting Strong Love\n",
      "Failed requesting Git Up & Dance\n",
      "Failed requesting Got To Get To You Girl\n"
     ]
    },
    {
     "name": "stderr",
     "output_type": "stream",
     "text": [
      "Processing Jermaine Jackson_tracks.parquet:  23%|██▎       | 57/247 [00:01<00:05, 37.53it/s]"
     ]
    },
    {
     "name": "stdout",
     "output_type": "stream",
     "text": [
      "Failed requesting Je Vous Aime Beaucomp (I Love You)\n",
      "Failed requesting You Gave Me Something To Believe In\n",
      "Failed requesting Isn't She Lovely\n",
      "Failed requesting Burnin' Hot\n",
      "Failed requesting Burnin' Hot\n",
      "Failed requesting All Because Of You\n",
      "Failed requesting Can I Change My Mind\n",
      "Failed requesting I'm Just Too Shy\n",
      "Failed requesting Signed, Sealed, Delivered, I'm Yours\n"
     ]
    },
    {
     "name": "stderr",
     "output_type": "stream",
     "text": [
      "Processing Jermaine Jackson_tracks.parquet:  27%|██▋       | 66/247 [00:01<00:04, 38.47it/s]"
     ]
    },
    {
     "name": "stdout",
     "output_type": "stream",
     "text": [
      "Failed requesting I Can't Take No More\n",
      "Failed requesting I'm My Brothers Keeper\n",
      "Failed requesting Let Me Tickle Your Fancy\n",
      "Failed requesting Let Me Tickle Your Fancy\n",
      "Failed requesting Daddy's Home\n",
      "Failed requesting Daddy's Home\n",
      "Failed requesting Daddy's Home\n",
      "Failed requesting Let's Get Serious\n",
      "Failed requesting Dynamite\n"
     ]
    },
    {
     "name": "stderr",
     "output_type": "stream",
     "text": [
      "Processing Jermaine Jackson_tracks.parquet:  30%|██▉       | 74/247 [00:01<00:04, 38.78it/s]"
     ]
    },
    {
     "name": "stdout",
     "output_type": "stream",
     "text": [
      "Failed requesting Dynamite\n",
      "Failed requesting Dynamite\n",
      "Failed requesting Do What You Do\n",
      "Failed requesting Do What You Do\n",
      "Failed requesting I Think It's Love\n",
      "Failed requesting I Think It's Love\n",
      "Failed requesting I Think It's Love\n",
      "Failed requesting Don't Take It Personal\n",
      "Failed requesting Don't Take It Personal\n"
     ]
    },
    {
     "name": "stderr",
     "output_type": "stream",
     "text": [
      "Processing Jermaine Jackson_tracks.parquet:  34%|███▎      | 83/247 [00:02<00:04, 39.41it/s]"
     ]
    },
    {
     "name": "stdout",
     "output_type": "stream",
     "text": [
      "Failed requesting Don't Take It Personal\n",
      "Failed requesting Two Ships\n",
      "Failed requesting Two Ships\n",
      "Failed requesting I'd Like to Get to Know You\n",
      "Failed requesting I'd Like to Get to Know You\n",
      "Failed requesting I'd Like to Get to Know You\n",
      "Failed requesting (Closest Thing To) Perfect\n",
      "Failed requesting (Closest Thing To) Perfect\n"
     ]
    },
    {
     "name": "stderr",
     "output_type": "stream",
     "text": [
      "Processing Jermaine Jackson_tracks.parquet:  37%|███▋      | 91/247 [00:02<00:04, 38.65it/s]"
     ]
    },
    {
     "name": "stdout",
     "output_type": "stream",
     "text": [
      "Failed requesting Do You Remember Me\n",
      "Failed requesting Do You Remember Me\n",
      "Failed requesting Do You Remember Me\n",
      "Failed requesting You Said, You Said - Extended Remix\n",
      "Failed requesting You Said, You Said - Extended Remix\n",
      "Failed requesting Dynamite\n",
      "Failed requesting Dynamite\n",
      "Failed requesting Dynamite\n",
      "Failed requesting Do What You Do\n"
     ]
    },
    {
     "name": "stderr",
     "output_type": "stream",
     "text": [
      "Processing Jermaine Jackson_tracks.parquet:  38%|███▊      | 95/247 [00:02<00:04, 32.65it/s]"
     ]
    },
    {
     "name": "stdout",
     "output_type": "stream",
     "text": [
      "Failed requesting Do What You Do\n",
      "Failed requesting I Think It's Love\n"
     ]
    },
    {
     "name": "stderr",
     "output_type": "stream",
     "text": [
      "Processing Jermaine Jackson_tracks.parquet:  42%|████▏     | 104/247 [00:04<00:17,  8.04it/s]"
     ]
    },
    {
     "name": "stdout",
     "output_type": "stream",
     "text": [
      "Failed requesting Don't Take It Personal\n",
      "Failed requesting Don't Take It Personal\n",
      "Failed requesting Don't Take It Personal\n",
      "Failed requesting I'd Like to Get to Know You\n",
      "Failed requesting I'd Like to Get to Know You\n",
      "Failed requesting I'd Like to Get to Know You\n",
      "Failed requesting (Closest Thing To) Perfect\n",
      "Failed requesting (Closest Thing To) Perfect\n",
      "Failed requesting Do You Remember Me\n",
      "Failed requesting Do You Remember Me\n"
     ]
    },
    {
     "name": "stderr",
     "output_type": "stream",
     "text": [
      "Processing Jermaine Jackson_tracks.parquet:  46%|████▌     | 114/247 [00:05<00:09, 14.34it/s]"
     ]
    },
    {
     "name": "stdout",
     "output_type": "stream",
     "text": [
      "Failed requesting Do You Remember Me\n",
      "Failed requesting I Hear Heartbeat\n",
      "Failed requesting I Hear Heartbeat\n",
      "Failed requesting Sweetest Sweetest\n",
      "Failed requesting Sweetest Sweetest\n",
      "Failed requesting Give a Little Love\n",
      "Failed requesting Give a Little Love\n",
      "Failed requesting You Said, You Said - Extended Remix\n",
      "Failed requesting You Said, You Said - Extended Remix\n"
     ]
    },
    {
     "name": "stderr",
     "output_type": "stream",
     "text": [
      "Processing Jermaine Jackson_tracks.parquet:  50%|████▉     | 123/247 [00:05<00:05, 21.04it/s]"
     ]
    },
    {
     "name": "stdout",
     "output_type": "stream",
     "text": [
      "Failed requesting You Said, You Said\n",
      "Failed requesting Rebel (With A Cause)\n",
      "Failed requesting I Dream, I Dream - Prelude\n",
      "Failed requesting I Dream, I Dream\n",
      "Failed requesting We're Making Whoopee\n",
      "Failed requesting Treat You Right (feat. Babyface)\n",
      "Failed requesting Word to the Badd! - Prelude\n",
      "Failed requesting Word to the Badd!! - Original Version\n"
     ]
    },
    {
     "name": "stderr",
     "output_type": "stream",
     "text": [
      "Processing Jermaine Jackson_tracks.parquet:  53%|█████▎    | 132/247 [00:05<00:04, 27.48it/s]"
     ]
    },
    {
     "name": "stdout",
     "output_type": "stream",
     "text": [
      "Failed requesting A Lovers Holiday\n",
      "Failed requesting Secrets\n",
      "Failed requesting True Lovers\n",
      "Failed requesting Don't You Deserve Someone\n",
      "Failed requesting Word to the Badd!!\n",
      "Failed requesting I Dream, I Dream - Remix Extended Version\n",
      "Failed requesting Don't Take It Personal\n",
      "Failed requesting Don't Take It Personal\n"
     ]
    },
    {
     "name": "stderr",
     "output_type": "stream",
     "text": [
      "Processing Jermaine Jackson_tracks.parquet:  55%|█████▌    | 137/247 [00:05<00:03, 31.24it/s]"
     ]
    },
    {
     "name": "stdout",
     "output_type": "stream",
     "text": [
      "Failed requesting Don't Take It Personal\n",
      "Failed requesting Two Ships\n",
      "Failed requesting Two Ships\n",
      "Failed requesting I'd Like to Get to Know You\n",
      "Failed requesting I'd Like to Get to Know You\n",
      "Failed requesting I'd Like to Get to Know You\n",
      "Failed requesting Climb Out\n",
      "Failed requesting Make It Easy on Love\n",
      "Failed requesting So Right\n"
     ]
    },
    {
     "name": "stderr",
     "output_type": "stream",
     "text": [
      "Processing Jermaine Jackson_tracks.parquet:  60%|█████▉    | 147/247 [00:05<00:02, 35.39it/s]"
     ]
    },
    {
     "name": "stdout",
     "output_type": "stream",
     "text": [
      "Failed requesting Rise to the Occasion\n",
      "Failed requesting (C'mon) Feel The Need\n",
      "Failed requesting Next to You\n",
      "Failed requesting Don't Make Me Wait\n",
      "Failed requesting Don't Take It Personal - Extended Version\n",
      "Failed requesting Don't Take It Personal - Jazzy Instrumental\n",
      "Failed requesting I'd Like To Get To Know You - 7\" version\n",
      "Failed requesting Two Ships (In The Night) - Instrumental Remix Version\n",
      "Failed requesting Two Ships (In The Night) - Late Night Turbulence Mix\n"
     ]
    },
    {
     "name": "stderr",
     "output_type": "stream",
     "text": [
      "Processing Jermaine Jackson_tracks.parquet:  64%|██████▎   | 157/247 [00:06<00:02, 38.52it/s]"
     ]
    },
    {
     "name": "stdout",
     "output_type": "stream",
     "text": [
      "Failed requesting Two Ships (In the Night) - Extended Remix\n",
      "Failed requesting I Think It's Love\n",
      "Failed requesting I Think It's Love\n",
      "Failed requesting I Think It's Love\n",
      "Failed requesting Do You Remember Me\n",
      "Failed requesting Do You Remember Me\n",
      "Failed requesting Do You Remember Me\n",
      "Failed requesting I Hear Heartbeat\n",
      "Failed requesting I Hear Heartbeat\n"
     ]
    },
    {
     "name": "stderr",
     "output_type": "stream",
     "text": [
      "Processing Jermaine Jackson_tracks.parquet:  68%|██████▊   | 167/247 [00:06<00:02, 39.52it/s]"
     ]
    },
    {
     "name": "stdout",
     "output_type": "stream",
     "text": [
      "Failed requesting Give a Little Love\n",
      "Failed requesting Give a Little Love\n",
      "Failed requesting Lonely Won't Leave Me Alone\n",
      "Failed requesting Precious Moments\n",
      "Failed requesting Our Love Story\n",
      "Failed requesting If You Say My Eyes Are Beautiful (with Jermaine Jackson)\n",
      "Failed requesting Voices in the Dark\n",
      "Failed requesting Words into Action\n",
      "Failed requesting Closest Thing to Perfect - Extended Version\n"
     ]
    },
    {
     "name": "stderr",
     "output_type": "stream",
     "text": [
      "Processing Jermaine Jackson_tracks.parquet:  70%|██████▉   | 172/247 [00:06<00:02, 36.94it/s]"
     ]
    },
    {
     "name": "stdout",
     "output_type": "stream",
     "text": [
      "Failed requesting I Think It's Love - Extended Remix\n",
      "Failed requesting Do You Remember Me - Michael Omartian Remix\n",
      "Failed requesting Do You Remember Me - Jellybean Remix\n",
      "Failed requesting Do You Remember Me - Bruce Forest Remix\n",
      "Failed requesting Dynamite\n",
      "Failed requesting Dynamite\n",
      "Failed requesting Dynamite\n",
      "Failed requesting Sweetest Sweetest\n"
     ]
    },
    {
     "name": "stderr",
     "output_type": "stream",
     "text": [
      "Processing Jermaine Jackson_tracks.parquet:  74%|███████▎  | 182/247 [00:06<00:01, 39.43it/s]"
     ]
    },
    {
     "name": "stdout",
     "output_type": "stream",
     "text": [
      "Failed requesting Sweetest Sweetest\n",
      "Failed requesting Tell Me I'm Not Dreaming (Too Good to Be True) (with Michael Jackson)\n",
      "Failed requesting Escape from the Planet of the Ant Men\n",
      "Failed requesting When the Rain Begins to Fall\n",
      "Failed requesting Come to Me (One Way or Another)\n",
      "Failed requesting Do What You Do\n",
      "Failed requesting Take Good Care of My Heart (with Jermaine Jackson)\n",
      "Failed requesting Some Things Are Private\n",
      "Failed requesting Oh Mother\n",
      "Failed requesting Sweetest, Sweetest - Special US Remix\n"
     ]
    },
    {
     "name": "stderr",
     "output_type": "stream",
     "text": [
      "Processing Jermaine Jackson_tracks.parquet:  78%|███████▊  | 192/247 [00:06<00:01, 39.87it/s]"
     ]
    },
    {
     "name": "stdout",
     "output_type": "stream",
     "text": [
      "Failed requesting Come to Me (One Way or Another) - 12\" Remix Version\n",
      "Failed requesting Do What You Do - 12\" Remix Version\n",
      "Failed requesting Dynamite - 12\" Version\n",
      "Failed requesting When the Rain Begins to Fall - 12\" Vocal Version with Breakdown\n",
      "Failed requesting Burnin' Hot\n",
      "Failed requesting Burnin' Hot\n",
      "Failed requesting Let's Get Serious\n",
      "Failed requesting Let's Get Serious\n",
      "Failed requesting Where Are You Now\n"
     ]
    },
    {
     "name": "stderr",
     "output_type": "stream",
     "text": [
      "Processing Jermaine Jackson_tracks.parquet:  82%|████████▏ | 202/247 [00:07<00:01, 39.50it/s]"
     ]
    },
    {
     "name": "stdout",
     "output_type": "stream",
     "text": [
      "Failed requesting You Got To Hurry Girl\n",
      "Failed requesting We Can Put It Back Together\n",
      "Failed requesting You're Supposed To Keep Your Love For Me\n",
      "Failed requesting Feelin' Free\n",
      "Failed requesting That's How Love Goes\n",
      "Failed requesting That's How Love Goes\n",
      "Failed requesting I'm In A Different World\n",
      "Failed requesting I'm In A Different World\n"
     ]
    },
    {
     "name": "stderr",
     "output_type": "stream",
     "text": [
      "Processing Jermaine Jackson_tracks.parquet:  85%|████████▌ | 211/247 [00:07<00:00, 39.18it/s]"
     ]
    },
    {
     "name": "stdout",
     "output_type": "stream",
     "text": [
      "Failed requesting Daddy's Home\n",
      "Failed requesting Daddy's Home\n",
      "Failed requesting Daddy's Home\n",
      "Failed requesting Homeward Bound\n",
      "Failed requesting Take Me In Your Arms (Rock Me A Little While)\n",
      "Failed requesting I Only Have Eyes For You\n",
      "Failed requesting I Let Love Pass Me By\n",
      "Failed requesting Live It Up\n",
      "Failed requesting If You Were My Woman\n"
     ]
    },
    {
     "name": "stderr",
     "output_type": "stream",
     "text": [
      "Processing Jermaine Jackson_tracks.parquet:  87%|████████▋ | 215/247 [00:07<00:00, 32.47it/s]"
     ]
    },
    {
     "name": "stdout",
     "output_type": "stream",
     "text": [
      "Failed requesting Ain't That Peculiar\n",
      "Failed requesting Save Tomorrow - Radio Edit\n",
      "Failed requesting Save Tomorrow - European Radio Mix\n",
      "Failed requesting Save Tomorrow - Extended Mix\n",
      "Failed requesting Save Tomorrow - Short Edit\n",
      "Failed requesting Save Tomorrow - Extended Instrumental\n",
      "Failed requesting You Like Me Don't You (Remix)\n"
     ]
    },
    {
     "name": "stderr",
     "output_type": "stream",
     "text": [
      "Processing Jermaine Jackson_tracks.parquet:  90%|█████████ | 223/247 [00:07<00:00, 32.10it/s]"
     ]
    },
    {
     "name": "stdout",
     "output_type": "stream",
     "text": [
      "Failed requesting Autumn Leaves (Les Feuilles Mortes)\n",
      "Failed requesting Blame It On The Boogie\n",
      "Failed requesting This Is It\n",
      "Failed requesting Living Your Dream - Radio Edit\n",
      "Failed requesting Living Your Dream - Superiorz Club Dream Mix\n",
      "Failed requesting Living Your Dream - DJ Harrycane's Beach Mix\n",
      "Failed requesting Living Your Dream - Superiorz Radio Edit\n"
     ]
    },
    {
     "name": "stderr",
     "output_type": "stream",
     "text": [
      "Processing Jermaine Jackson_tracks.parquet:  94%|█████████▎| 231/247 [00:08<00:00, 34.57it/s]"
     ]
    },
    {
     "name": "stdout",
     "output_type": "stream",
     "text": [
      "Failed requesting Living Your Dream - Tha Groove Junkeez' Electro Mix\n",
      "Failed requesting Living Your Dream - X-Mas Edit\n",
      "Failed requesting Living Your Dream - Instrumental\n",
      "Failed requesting Let Me Tickle Your Fancy\n",
      "Failed requesting Let Me Tickle Your Fancy\n",
      "Failed requesting Daddy's Home\n",
      "Failed requesting Daddy's Home\n",
      "Failed requesting Daddy's Home\n",
      "Failed requesting Let's Get Serious\n"
     ]
    },
    {
     "name": "stderr",
     "output_type": "stream",
     "text": [
      "Processing Jermaine Jackson_tracks.parquet:  97%|█████████▋| 240/247 [00:08<00:00, 36.32it/s]"
     ]
    },
    {
     "name": "stdout",
     "output_type": "stream",
     "text": [
      "Failed requesting Let's Get Serious\n",
      "Failed requesting Dynamite - 7\" Version\n",
      "Failed requesting Do What You Do - 7\" Version\n",
      "Failed requesting Tell Me I'm Not Dreaming (Too Good to Be True) (with Michael Jackson)\n",
      "Failed requesting When the Rain Begins to Fall\n",
      "Failed requesting Take Good Care of My Heart (with Jermaine Jackson)\n",
      "Failed requesting (Closest Thing To) Perfect\n",
      "Failed requesting I Think It's Love\n"
     ]
    },
    {
     "name": "stderr",
     "output_type": "stream",
     "text": [
      "Processing Jermaine Jackson_tracks.parquet: 100%|██████████| 247/247 [00:08<00:00, 28.86it/s]\n",
      "Processing Jermaine Stewart_tracks.parquet:   0%|          | 0/323 [00:00<?, ?it/s]"
     ]
    },
    {
     "name": "stdout",
     "output_type": "stream",
     "text": [
      "Failed requesting Do You Remember Me - 7\" Version\n",
      "Failed requesting Whatcha Doin'\n",
      "Failed requesting Don't Take It Personal\n",
      "Failed requesting You Said, You Said\n",
      "Failed requesting We Don't Have To Take Our Clothes Off\n",
      "Failed requesting Dance Floor\n",
      "Failed requesting Jody\n"
     ]
    },
    {
     "name": "stderr",
     "output_type": "stream",
     "text": [
      "Processing Jermaine Stewart_tracks.parquet:   3%|▎         | 10/323 [00:00<00:07, 40.93it/s]"
     ]
    },
    {
     "name": "stdout",
     "output_type": "stream",
     "text": [
      "Failed requesting Versatile\n",
      "Failed requesting Frantic Romantic\n",
      "Failed requesting Don't Ever Leave Me\n",
      "Failed requesting Out To Punish\n",
      "Failed requesting Moonlight Carnival\n",
      "Failed requesting Give Your Love To Me\n",
      "Failed requesting The Word Is Out\n",
      "Failed requesting We Don't Have To - Special Extended Version\n",
      "Failed requesting Brilliance\n",
      "Failed requesting The Word Is Out - West Mix / Extended Version\n"
     ]
    },
    {
     "name": "stderr",
     "output_type": "stream",
     "text": [
      "Processing Jermaine Stewart_tracks.parquet:   6%|▌         | 19/323 [00:00<00:09, 31.08it/s]"
     ]
    },
    {
     "name": "stdout",
     "output_type": "stream",
     "text": [
      "Failed requesting Jody - Dance Version\n",
      "Failed requesting Dance Floor - Extended Version\n",
      "Failed requesting Gone Are Those Days\n",
      "Failed requesting Places\n",
      "Failed requesting Imagine We're In Love\n",
      "Failed requesting Attention\n",
      "Failed requesting Search\n",
      "Failed requesting Lifestyle\n"
     ]
    },
    {
     "name": "stderr",
     "output_type": "stream",
     "text": [
      "Processing Jermaine Stewart_tracks.parquet:   7%|▋         | 23/323 [00:00<00:09, 33.29it/s]"
     ]
    },
    {
     "name": "stdout",
     "output_type": "stream",
     "text": [
      "Failed requesting Love You Til\n",
      "Failed requesting Your So Fine\n",
      "Failed requesting Up To Love\n",
      "Failed requesting Don't Wait For The Boys\n",
      "Failed requesting Believe In Me\n"
     ]
    },
    {
     "name": "stderr",
     "output_type": "stream",
     "text": [
      "Processing Jermaine Stewart_tracks.parquet:  10%|▉         | 31/323 [00:00<00:09, 30.20it/s]"
     ]
    },
    {
     "name": "stdout",
     "output_type": "stream",
     "text": [
      "Failed requesting Better Than Him\n",
      "Failed requesting Tren De Amor\n",
      "Failed requesting Set Me Free\n",
      "Failed requesting State Of My Heart\n",
      "Failed requesting I’d Rather Be With You\n",
      "Failed requesting Every Woman Wants To\n",
      "Failed requesting Lies\n",
      "Failed requesting One Lover\n"
     ]
    },
    {
     "name": "stderr",
     "output_type": "stream",
     "text": [
      "Processing Jermaine Stewart_tracks.parquet:  12%|█▏        | 40/323 [00:01<00:08, 34.28it/s]"
     ]
    },
    {
     "name": "stdout",
     "output_type": "stream",
     "text": [
      "Failed requesting Call Me Before You Come\n",
      "Failed requesting Gourmet Love\n",
      "Failed requesting Please Say You Will\n",
      "Failed requesting Betty Blue\n",
      "Failed requesting Holes In My Jeans\n",
      "Failed requesting Don't Talk Dirty To Me\n",
      "Failed requesting Say It Again\n",
      "Failed requesting Get Lucky\n",
      "Failed requesting Got To Be Love\n"
     ]
    },
    {
     "name": "stderr",
     "output_type": "stream",
     "text": [
      "Processing Jermaine Stewart_tracks.parquet:  15%|█▌        | 49/323 [00:01<00:07, 36.93it/s]"
     ]
    },
    {
     "name": "stdout",
     "output_type": "stream",
     "text": [
      "Failed requesting Dress It Up\n",
      "Failed requesting Don't Have Sex With Your Ex\n",
      "Failed requesting Is It Really Love?\n",
      "Failed requesting Call It A Miracle\n",
      "Failed requesting Eyes\n",
      "Failed requesting My House\n",
      "Failed requesting She's A Teaser\n",
      "Failed requesting My Body\n",
      "Failed requesting The Word Is Out\n"
     ]
    },
    {
     "name": "stderr",
     "output_type": "stream",
     "text": [
      "Processing Jermaine Stewart_tracks.parquet:  18%|█▊        | 57/323 [00:01<00:07, 36.48it/s]"
     ]
    },
    {
     "name": "stdout",
     "output_type": "stream",
     "text": [
      "Failed requesting I Like It\n",
      "Failed requesting In Love Again\n",
      "Failed requesting Debbie\n",
      "Failed requesting Reasons Why\n",
      "Failed requesting Get Over It\n",
      "Failed requesting Month Of Mondays\n",
      "Failed requesting You\n",
      "Failed requesting Spies\n"
     ]
    },
    {
     "name": "stderr",
     "output_type": "stream",
     "text": [
      "Processing Jermaine Stewart_tracks.parquet:  20%|██        | 66/323 [00:01<00:06, 38.07it/s]"
     ]
    },
    {
     "name": "stdout",
     "output_type": "stream",
     "text": [
      "Failed requesting Brilliance\n",
      "Failed requesting We Don't Have To Take Our Clothes Off - Extended\n",
      "Failed requesting We Don't Have To Take Our Clothes Off\n",
      "Failed requesting Brilliance\n",
      "Failed requesting I Want You Back\n",
      "Failed requesting I Can't Help Myself (Sugar Pie, Honey Bunch)\n",
      "Failed requesting The Way You Do The Things You Do\n",
      "Failed requesting Ain't No Mountain High Enough - Mono Version\n",
      "Failed requesting Mr. Big Stuff\n",
      "Failed requesting Nowhere To Run\n"
     ]
    },
    {
     "name": "stderr",
     "output_type": "stream",
     "text": [
      "Processing Jermaine Stewart_tracks.parquet:  23%|██▎       | 75/323 [00:02<00:06, 36.38it/s]"
     ]
    },
    {
     "name": "stdout",
     "output_type": "stream",
     "text": [
      "Failed requesting Brick House\n",
      "Failed requesting Ladies Night\n",
      "Failed requesting Higher Ground\n",
      "Failed requesting (Love Is Like A) Heat Wave - Single Version\n",
      "Failed requesting ABC\n",
      "Failed requesting Tainted Love - Single Version\n",
      "Failed requesting I'm Coming Out\n"
     ]
    },
    {
     "name": "stderr",
     "output_type": "stream",
     "text": [
      "Processing Jermaine Stewart_tracks.parquet:  24%|██▍       | 79/323 [00:02<00:06, 36.38it/s]"
     ]
    },
    {
     "name": "stdout",
     "output_type": "stream",
     "text": [
      "Failed requesting Bad Girls\n",
      "Failed requesting You're The First, The Last, My Everything - Single Version\n",
      "Failed requesting I Heard It Through The Grapevine\n",
      "Failed requesting Wouldn't It Be Nice - Stereo / Remastered 2012\n",
      "Failed requesting California Soul\n",
      "Failed requesting I'll Take You There\n"
     ]
    },
    {
     "name": "stderr",
     "output_type": "stream",
     "text": [
      "Processing Jermaine Stewart_tracks.parquet:  27%|██▋       | 88/323 [00:02<00:06, 34.18it/s]"
     ]
    },
    {
     "name": "stdout",
     "output_type": "stream",
     "text": [
      "Failed requesting Upside Down\n",
      "Failed requesting Celebration\n",
      "Failed requesting Tainted Love\n",
      "Failed requesting Livin' On A Prayer\n",
      "Failed requesting Walking On Sunshine\n",
      "Failed requesting Funkytown - Single Version\n",
      "Failed requesting The Boys Of Summer\n"
     ]
    },
    {
     "name": "stderr",
     "output_type": "stream",
     "text": [
      "Processing Jermaine Stewart_tracks.parquet:  30%|███       | 97/323 [00:02<00:06, 36.69it/s]"
     ]
    },
    {
     "name": "stdout",
     "output_type": "stream",
     "text": [
      "Failed requesting You Give Love A Bad Name\n",
      "Failed requesting Come On Eileen\n",
      "Failed requesting Start Me Up - Remastered 2009\n",
      "Failed requesting Free Fallin'\n",
      "Failed requesting Don't You Want Me\n",
      "Failed requesting Centerfold\n",
      "Failed requesting Wanted Dead Or Alive\n",
      "Failed requesting I Won't Back Down\n",
      "Failed requesting Everybody Wants To Rule The World\n"
     ]
    },
    {
     "name": "stderr",
     "output_type": "stream",
     "text": [
      "Processing Jermaine Stewart_tracks.parquet:  33%|███▎      | 106/323 [00:03<00:05, 38.34it/s]"
     ]
    },
    {
     "name": "stdout",
     "output_type": "stream",
     "text": [
      "Failed requesting Karma Chameleon - Remastered 2002\n",
      "Failed requesting Every Little Thing She Does Is Magic - Remastered 2003\n",
      "Failed requesting Don't You (Forget About Me) - Remastered 2001\n",
      "Failed requesting Hit Me With Your Best Shot\n",
      "Failed requesting Runaway\n",
      "Failed requesting Whatcha Gonna Do With My Lovin'\n",
      "Failed requesting Twist And Shout\n",
      "Failed requesting Keep On Movin'\n"
     ]
    },
    {
     "name": "stderr",
     "output_type": "stream",
     "text": [
      "Processing Jermaine Stewart_tracks.parquet:  35%|███▌      | 114/323 [00:03<00:05, 37.44it/s]"
     ]
    },
    {
     "name": "stdout",
     "output_type": "stream",
     "text": [
      "Failed requesting Hit Me With Your Best Shot\n",
      "Failed requesting Make It Easy On Me\n",
      "Failed requesting Ain't Nothin' Goin' On But The Rent\n",
      "Failed requesting Just Another Dream - 7” US Mix\n",
      "Failed requesting Girl Next Door - Single Version\n",
      "Failed requesting Say It Again\n",
      "Failed requesting State Of Attraction\n",
      "Failed requesting Montego Bay\n"
     ]
    },
    {
     "name": "stderr",
     "output_type": "stream",
     "text": [
      "Processing Jermaine Stewart_tracks.parquet:  37%|███▋      | 118/323 [00:03<00:06, 33.90it/s]"
     ]
    },
    {
     "name": "stdout",
     "output_type": "stream",
     "text": [
      "Failed requesting My Fantasy - Extended Version\n",
      "Failed requesting Too Late For Mama\n",
      "Failed requesting Love Injection\n",
      "Failed requesting Set Your Body Free\n",
      "Failed requesting Rhythm Of The Night - From \"The Last Dragon\" Soundtrack\n",
      "Failed requesting I Can Dream About You - From \"Streets Of Fire\" Soundtrack\n",
      "Failed requesting Upside Down\n"
     ]
    },
    {
     "name": "stderr",
     "output_type": "stream",
     "text": [
      "Processing Jermaine Stewart_tracks.parquet:  39%|███▉      | 126/323 [00:03<00:05, 35.46it/s]"
     ]
    },
    {
     "name": "stdout",
     "output_type": "stream",
     "text": [
      "Failed requesting Celebration\n",
      "Failed requesting Got To Give It Up - Pt. 1\n",
      "Failed requesting All Night Long (All Night) - Single Version\n",
      "Failed requesting Don't Dream It's Over\n",
      "Failed requesting We Don't Have To Take Our Clothes Off\n",
      "Failed requesting Back To Life\n",
      "Failed requesting Higher Love - Single Version\n"
     ]
    },
    {
     "name": "stderr",
     "output_type": "stream",
     "text": [
      "Processing Jermaine Stewart_tracks.parquet:  41%|████▏     | 134/323 [00:03<00:06, 29.53it/s]"
     ]
    },
    {
     "name": "stdout",
     "output_type": "stream",
     "text": [
      "Failed requesting Good Life\n",
      "Failed requesting I Think We're Alone Now\n",
      "Failed requesting Get Down On It - Single Version\n",
      "Failed requesting End Of The Line\n",
      "Failed requesting Every Little Thing She Does Is Magic - Remastered 2003\n",
      "Failed requesting Slave To Love - Remastered 1999\n",
      "Failed requesting Together In Electric Dreams\n"
     ]
    },
    {
     "name": "stderr",
     "output_type": "stream",
     "text": [
      "Processing Jermaine Stewart_tracks.parquet:  43%|████▎     | 138/323 [00:05<00:19,  9.38it/s]"
     ]
    },
    {
     "name": "stdout",
     "output_type": "stream",
     "text": [
      "Failed requesting Everybody Wants To Rule The World\n"
     ]
    },
    {
     "name": "stderr",
     "output_type": "stream",
     "text": [
      "Processing Jermaine Stewart_tracks.parquet:  45%|████▍     | 145/323 [00:12<01:44,  1.71it/s]"
     ]
    },
    {
     "name": "stdout",
     "output_type": "stream",
     "text": [
      "Failed requesting Teardrops - Single Version\n",
      "Failed requesting The Boys Of Summer\n"
     ]
    },
    {
     "name": "stderr",
     "output_type": "stream",
     "text": [
      "Processing Jermaine Stewart_tracks.parquet:  46%|████▋     | 150/323 [00:15<01:53,  1.53it/s]"
     ]
    },
    {
     "name": "stdout",
     "output_type": "stream",
     "text": [
      "Failed requesting Come On Eileen\n",
      "Failed requesting Hip To Be Square\n"
     ]
    },
    {
     "name": "stderr",
     "output_type": "stream",
     "text": [
      "Processing Jermaine Stewart_tracks.parquet:  49%|████▉     | 158/323 [00:21<02:25,  1.14it/s]"
     ]
    },
    {
     "name": "stdout",
     "output_type": "stream",
     "text": [
      "Failed requesting Somebody's Watching Me - Single Version\n"
     ]
    },
    {
     "name": "stderr",
     "output_type": "stream",
     "text": [
      "Processing Jermaine Stewart_tracks.parquet:  50%|████▉     | 160/323 [00:22<01:59,  1.36it/s]"
     ]
    },
    {
     "name": "stdout",
     "output_type": "stream",
     "text": [
      "Failed requesting The Heat Is On - From \"Beverly Hills Cop\" Soundtrack\n"
     ]
    },
    {
     "name": "stderr",
     "output_type": "stream",
     "text": [
      "Processing Jermaine Stewart_tracks.parquet:  51%|█████     | 165/323 [00:26<02:16,  1.16it/s]"
     ]
    },
    {
     "name": "stdout",
     "output_type": "stream",
     "text": [
      "Failed requesting (I Just) Died In Your Arms\n"
     ]
    },
    {
     "name": "stderr",
     "output_type": "stream",
     "text": [
      "Processing Jermaine Stewart_tracks.parquet:  52%|█████▏    | 168/323 [00:29<02:03,  1.25it/s]"
     ]
    },
    {
     "name": "stdout",
     "output_type": "stream",
     "text": [
      "Failed requesting Lover's Moon\n",
      "Failed requesting Lady\n"
     ]
    },
    {
     "name": "stderr",
     "output_type": "stream",
     "text": [
      "Processing Jermaine Stewart_tracks.parquet:  53%|█████▎    | 172/323 [00:31<01:40,  1.50it/s]"
     ]
    },
    {
     "name": "stdout",
     "output_type": "stream",
     "text": [
      "Failed requesting Don't Let Them Stop the Music Now\n"
     ]
    },
    {
     "name": "stderr",
     "output_type": "stream",
     "text": [
      "Processing Jermaine Stewart_tracks.parquet:  55%|█████▌    | 179/323 [00:37<02:14,  1.07it/s]"
     ]
    },
    {
     "name": "stdout",
     "output_type": "stream",
     "text": [
      "Failed requesting Call On Me\n"
     ]
    },
    {
     "name": "stderr",
     "output_type": "stream",
     "text": [
      "Processing Jermaine Stewart_tracks.parquet:  56%|█████▋    | 182/323 [00:39<01:56,  1.21it/s]"
     ]
    },
    {
     "name": "stdout",
     "output_type": "stream",
     "text": [
      "Failed requesting The Boys Of Summer\n"
     ]
    },
    {
     "name": "stderr",
     "output_type": "stream",
     "text": [
      "Processing Jermaine Stewart_tracks.parquet:  58%|█████▊    | 186/323 [00:42<01:55,  1.19it/s]"
     ]
    },
    {
     "name": "stdout",
     "output_type": "stream",
     "text": [
      "Failed requesting Shake A Leg\n"
     ]
    },
    {
     "name": "stderr",
     "output_type": "stream",
     "text": [
      "Processing Jermaine Stewart_tracks.parquet:  59%|█████▉    | 190/323 [00:45<01:53,  1.18it/s]"
     ]
    },
    {
     "name": "stdout",
     "output_type": "stream",
     "text": [
      "Failed requesting Teardrops\n"
     ]
    },
    {
     "name": "stderr",
     "output_type": "stream",
     "text": [
      "Processing Jermaine Stewart_tracks.parquet:  60%|█████▉    | 193/323 [00:48<01:43,  1.26it/s]"
     ]
    },
    {
     "name": "stdout",
     "output_type": "stream",
     "text": [
      "Failed requesting C'est La Vie\n"
     ]
    },
    {
     "name": "stderr",
     "output_type": "stream",
     "text": [
      "Processing Jermaine Stewart_tracks.parquet:  60%|██████    | 195/323 [00:49<01:28,  1.45it/s]"
     ]
    },
    {
     "name": "stdout",
     "output_type": "stream",
     "text": [
      "Failed requesting Bullet\n"
     ]
    },
    {
     "name": "stderr",
     "output_type": "stream",
     "text": [
      "Processing Jermaine Stewart_tracks.parquet:  68%|██████▊   | 220/323 [01:14<01:46,  1.03s/it]"
     ]
    },
    {
     "name": "stdout",
     "output_type": "stream",
     "text": [
      "Failed requesting The Lover In Me\n"
     ]
    },
    {
     "name": "stderr",
     "output_type": "stream",
     "text": [
      "Processing Jermaine Stewart_tracks.parquet:  69%|██████▉   | 223/323 [01:16<01:26,  1.16it/s]"
     ]
    },
    {
     "name": "stdout",
     "output_type": "stream",
     "text": [
      "Failed requesting (I Just) Died In Your Arms\n"
     ]
    },
    {
     "name": "stderr",
     "output_type": "stream",
     "text": [
      "Processing Jermaine Stewart_tracks.parquet:  72%|███████▏  | 234/323 [01:26<01:32,  1.04s/it]"
     ]
    },
    {
     "name": "stdout",
     "output_type": "stream",
     "text": [
      "Failed requesting What's My Scene - 2005 Remaster\n",
      "Failed requesting Super Freak\n"
     ]
    },
    {
     "name": "stderr",
     "output_type": "stream",
     "text": [
      "Processing Jermaine Stewart_tracks.parquet:  75%|███████▍  | 241/323 [01:31<01:14,  1.10it/s]"
     ]
    },
    {
     "name": "stdout",
     "output_type": "stream",
     "text": [
      "Failed requesting Somebody's Watching Me\n"
     ]
    },
    {
     "name": "stderr",
     "output_type": "stream",
     "text": [
      "Processing Jermaine Stewart_tracks.parquet:  76%|███████▌  | 246/323 [01:36<01:10,  1.10it/s]"
     ]
    },
    {
     "name": "stdout",
     "output_type": "stream",
     "text": [
      "Failed requesting I'm Ready (If You're Ready)\n"
     ]
    },
    {
     "name": "stderr",
     "output_type": "stream",
     "text": [
      "Processing Jermaine Stewart_tracks.parquet:  80%|████████  | 259/323 [01:48<01:06,  1.03s/it]"
     ]
    },
    {
     "name": "stdout",
     "output_type": "stream",
     "text": [
      "Failed requesting Shangri-La\n"
     ]
    },
    {
     "name": "stderr",
     "output_type": "stream",
     "text": [
      "Processing Jermaine Stewart_tracks.parquet:  85%|████████▍ | 274/323 [02:03<00:50,  1.03s/it]"
     ]
    },
    {
     "name": "stdout",
     "output_type": "stream",
     "text": [
      "Failed requesting Axel F - From \"Beverly Hills Cop\" Soundtrack\n"
     ]
    },
    {
     "name": "stderr",
     "output_type": "stream",
     "text": [
      "Processing Jermaine Stewart_tracks.parquet:  91%|█████████ | 293/323 [02:21<00:31,  1.04s/it]"
     ]
    },
    {
     "name": "stdout",
     "output_type": "stream",
     "text": [
      "Failed requesting Axel F\n"
     ]
    },
    {
     "name": "stderr",
     "output_type": "stream",
     "text": [
      "Processing Jermaine Stewart_tracks.parquet:  93%|█████████▎| 299/323 [02:27<00:23,  1.03it/s]"
     ]
    },
    {
     "name": "stdout",
     "output_type": "stream",
     "text": [
      "Failed requesting An Englishman In New York - Single Version\n",
      "Failed requesting You Keep Me Hangin On\n"
     ]
    },
    {
     "name": "stderr",
     "output_type": "stream",
     "text": [
      "Processing Jermaine Stewart_tracks.parquet:  93%|█████████▎| 302/323 [02:28<00:13,  1.56it/s]"
     ]
    },
    {
     "name": "stdout",
     "output_type": "stream",
     "text": [
      "Failed requesting Breakout\n"
     ]
    },
    {
     "name": "stderr",
     "output_type": "stream",
     "text": [
      "Processing Jermaine Stewart_tracks.parquet:  95%|█████████▍| 306/323 [02:31<00:12,  1.31it/s]"
     ]
    },
    {
     "name": "stdout",
     "output_type": "stream",
     "text": [
      "Failed requesting Bustin' Out (On Funk)\n"
     ]
    },
    {
     "name": "stderr",
     "output_type": "stream",
     "text": [
      "Processing Jermaine Stewart_tracks.parquet:  98%|█████████▊| 316/323 [02:40<00:07,  1.00s/it]"
     ]
    },
    {
     "name": "stdout",
     "output_type": "stream",
     "text": [
      "Failed requesting Do You Love What You Feel\n"
     ]
    },
    {
     "name": "stderr",
     "output_type": "stream",
     "text": [
      "Processing Jermaine Stewart_tracks.parquet: 100%|██████████| 323/323 [02:46<00:00,  1.94it/s]\n",
      "Processing Jerome Harris_tracks.parquet:   2%|▏         | 4/202 [00:00<00:05, 34.37it/s]"
     ]
    },
    {
     "name": "stdout",
     "output_type": "stream",
     "text": [
      "Failed requesting Iron Man\n",
      "Failed requesting G. W.\n",
      "Failed requesting Out to Lunch\n",
      "Failed requesting Emanation\n",
      "Failed requesting Mandrake\n",
      "Failed requesting 245/Les\n",
      "Failed requesting Far Cry\n"
     ]
    },
    {
     "name": "stderr",
     "output_type": "stream",
     "text": [
      "Processing Jerome Harris_tracks.parquet:   6%|▌         | 12/202 [00:00<00:05, 35.34it/s]"
     ]
    },
    {
     "name": "stdout",
     "output_type": "stream",
     "text": [
      "Failed requesting Hidden in Plain View\n",
      "Failed requesting Miss Ann\n",
      "Failed requesting Ricky's Bossa\n",
      "Failed requesting Fer\n",
      "Failed requesting The Wonder\n",
      "Failed requesting That Red Clay\n",
      "Failed requesting The Essence of You\n",
      "Failed requesting The Stockholm Stomp\n"
     ]
    },
    {
     "name": "stderr",
     "output_type": "stream",
     "text": [
      "Processing Jerome Harris_tracks.parquet:  10%|▉         | 20/202 [00:00<00:05, 34.82it/s]"
     ]
    },
    {
     "name": "stdout",
     "output_type": "stream",
     "text": [
      "Failed requesting Angel Face\n",
      "Failed requesting Paris Fringe\n",
      "Failed requesting Can't Wait to See You\n",
      "Failed requesting Paul's Scene\n",
      "Failed requesting Frustration\n",
      "Failed requesting Mabulala\n",
      "Failed requesting Little Motor People\n"
     ]
    },
    {
     "name": "stderr",
     "output_type": "stream",
     "text": [
      "Processing Jerome Harris_tracks.parquet:  14%|█▍        | 28/202 [00:00<00:05, 33.71it/s]"
     ]
    },
    {
     "name": "stdout",
     "output_type": "stream",
     "text": [
      "Failed requesting Scarecrow Shakedown\n",
      "Failed requesting Long Walk\n",
      "Failed requesting Bernie Alap\n",
      "Failed requesting Angels and Mud\n",
      "Failed requesting Cayuga\n",
      "Failed requesting Cayuga\n",
      "Failed requesting Jersey Devil\n"
     ]
    },
    {
     "name": "stderr",
     "output_type": "stream",
     "text": [
      "Processing Jerome Harris_tracks.parquet:  16%|█▌        | 32/202 [00:00<00:05, 32.36it/s]"
     ]
    },
    {
     "name": "stdout",
     "output_type": "stream",
     "text": [
      "Failed requesting Waterburg Trio\n",
      "Failed requesting Scream\n",
      "Failed requesting Somewhere Over the Rainbow\n",
      "Failed requesting North Country Square Dance (Square Dance All Night)\n",
      "Failed requesting Krakky's Rainbow Polka\n",
      "Failed requesting Bella's Calypso (Bella Suit Son Cœur)\n",
      "Failed requesting Jammin' with Socalled\n"
     ]
    },
    {
     "name": "stderr",
     "output_type": "stream",
     "text": [
      "Processing Jerome Harris_tracks.parquet:  20%|█▉        | 40/202 [00:01<00:04, 32.83it/s]"
     ]
    },
    {
     "name": "stdout",
     "output_type": "stream",
     "text": [
      "Failed requesting Mazel Tov Cocktail Party\n",
      "Failed requesting I'm a Poor Wayfaring Stranger\n",
      "Failed requesting Drum and Hornpipe: Poll Ha'penny\n",
      "Failed requesting Wedding on the Cyclone\n",
      "Failed requesting The Happy Hour Crew Theme Song\n",
      "Failed requesting Dear Friend\n",
      "Failed requesting Zuli\n"
     ]
    },
    {
     "name": "stderr",
     "output_type": "stream",
     "text": [
      "Processing Jerome Harris_tracks.parquet:  24%|██▍       | 48/202 [00:01<00:04, 33.41it/s]"
     ]
    },
    {
     "name": "stdout",
     "output_type": "stream",
     "text": [
      "Failed requesting Julius Hemphill band introduction (1)\n",
      "Failed requesting At Harmony\n",
      "Failed requesting Air Rings\n",
      "Failed requesting Dimples: The Fat Lady on Parade\n",
      "Failed requesting Syntax\n",
      "Failed requesting Tightenin'\n",
      "Failed requesting Slang\n",
      "Failed requesting Unknown Title\n"
     ]
    },
    {
     "name": "stderr",
     "output_type": "stream",
     "text": [
      "Processing Jerome Harris_tracks.parquet:  28%|██▊       | 56/202 [00:01<00:04, 34.30it/s]"
     ]
    },
    {
     "name": "stdout",
     "output_type": "stream",
     "text": [
      "Failed requesting Rhapsody\n",
      "Failed requesting Downstairs\n",
      "Failed requesting Opener\n",
      "Failed requesting #4\n",
      "Failed requesting #3—Improvisation—#2\n",
      "Failed requesting Collective Improvisation\n",
      "Failed requesting Dogon A.D.\n",
      "Failed requesting Parchment\n"
     ]
    },
    {
     "name": "stderr",
     "output_type": "stream",
     "text": [
      "Processing Jerome Harris_tracks.parquet:  32%|███▏      | 64/202 [00:01<00:03, 35.02it/s]"
     ]
    },
    {
     "name": "stdout",
     "output_type": "stream",
     "text": [
      "Failed requesting Mingus Gold: Nostalgia in Times Square\n",
      "Failed requesting Mingus Gold: Alice’s Wonderland\n",
      "Failed requesting The Hive\n",
      "Failed requesting White Bay\n",
      "Failed requesting Live at IBeam\n",
      "Failed requesting Lubricity\n",
      "Failed requesting The New Preventers\n"
     ]
    },
    {
     "name": "stderr",
     "output_type": "stream",
     "text": [
      "Processing Jerome Harris_tracks.parquet:  36%|███▌      | 72/202 [00:02<00:03, 34.60it/s]"
     ]
    },
    {
     "name": "stdout",
     "output_type": "stream",
     "text": [
      "Failed requesting Burning on a Sea of Ghosts\n",
      "Failed requesting Steve Apirana\n",
      "Failed requesting Canna Indica\n",
      "Failed requesting Poyi 1 - Duet in Two Moments\n",
      "Failed requesting Two Protons\n",
      "Failed requesting Keriak8\n",
      "Failed requesting Embers\n"
     ]
    },
    {
     "name": "stderr",
     "output_type": "stream",
     "text": [
      "Processing Jerome Harris_tracks.parquet:  40%|███▉      | 80/202 [00:02<00:03, 33.29it/s]"
     ]
    },
    {
     "name": "stdout",
     "output_type": "stream",
     "text": [
      "Failed requesting Refraction Etude\n",
      "Failed requesting Lower Orbits\n",
      "Failed requesting Rung Regeneration #1\n",
      "Failed requesting 60 Harvests\n",
      "Failed requesting A Start of an End\n",
      "Failed requesting The Ice Box\n",
      "Failed requesting Escape Plan\n",
      "Failed requesting Second Prelude\n"
     ]
    },
    {
     "name": "stderr",
     "output_type": "stream",
     "text": [
      "Processing Jerome Harris_tracks.parquet:  42%|████▏     | 84/202 [00:02<00:03, 33.12it/s]"
     ]
    },
    {
     "name": "stdout",
     "output_type": "stream",
     "text": [
      "Failed requesting Spectre I\n",
      "Failed requesting The Only Blues\n",
      "Failed requesting Passage\n",
      "Failed requesting Spectre II\n",
      "Failed requesting Nasty\n",
      "Failed requesting Leavin' on Your Mind\n",
      "Failed requesting Spectre III\n"
     ]
    },
    {
     "name": "stderr",
     "output_type": "stream",
     "text": [
      "Processing Jerome Harris_tracks.parquet:  46%|████▌     | 92/202 [00:02<00:03, 31.07it/s]"
     ]
    },
    {
     "name": "stdout",
     "output_type": "stream",
     "text": [
      "Failed requesting War Orphans\n",
      "Failed requesting Poison Doll\n",
      "Failed requesting Prelude: Agbekor Translations\n",
      "Failed requesting A Trumpet in the Morning\n",
      "Failed requesting Blues for Peace\n",
      "Failed requesting Rundowns and Turnbacks\n"
     ]
    },
    {
     "name": "stderr",
     "output_type": "stream",
     "text": [
      "Processing Jerome Harris_tracks.parquet:  50%|████▉     | 100/202 [00:03<00:03, 31.44it/s]"
     ]
    },
    {
     "name": "stdout",
     "output_type": "stream",
     "text": [
      "Failed requesting M Variations (Melody for Madeleine)\n",
      "Failed requesting Postlude: Agbekor Translations\n",
      "Failed requesting Cruise Control (feat. Jerome harris)\n",
      "Failed requesting Bad Man (feat. Jeremy Steig)\n",
      "Failed requesting Jungle Boat Ride\n",
      "Failed requesting Rain On a Cruel World (feat. Jeremy Steig)\n",
      "Failed requesting Voodoo Queen\n"
     ]
    },
    {
     "name": "stderr",
     "output_type": "stream",
     "text": [
      "Processing Jerome Harris_tracks.parquet:  51%|█████▏    | 104/202 [00:03<00:03, 25.70it/s]"
     ]
    },
    {
     "name": "stdout",
     "output_type": "stream",
     "text": [
      "Failed requesting Full Wing (feat. Jeremy Steig)\n",
      "Failed requesting Chant of the Wode (feat. Dan Wall)\n",
      "Failed requesting Love Light (feat. Leni Stern)\n"
     ]
    },
    {
     "name": "stderr",
     "output_type": "stream",
     "text": [
      "Processing Jerome Harris_tracks.parquet:  55%|█████▍    | 111/202 [00:03<00:03, 28.14it/s]"
     ]
    },
    {
     "name": "stdout",
     "output_type": "stream",
     "text": [
      "Failed requesting Love Potion, Wild Herb and Perfumed Smoke (Live) [feat. Daina Shukis, Zamal Zabir, Jeremy Steig, Bill Washer & Jerome Harris]\n",
      "Failed requesting Poison Doll (Live) [feat. Daina Shukis, Jeremy Steig, Kamal Zabir, Bill Washer & Jerome Harris]\n",
      "Failed requesting Just Like Old Times (Live) [feat. Daina Shukis, Jerome Harris, Kamal Zabir, Jeremy Steig & Bill Washer]\n",
      "Failed requesting News Rap (Live) [feat. Daina Shukis, Jeremy Steig, Jerome Harris, Kamal Zabir & Bill Washer]\n",
      "Failed requesting Letter to the President (Live) [feat. Daina Shukis, Kamal Zabir, Jeremy Steig, Jerome Harris & Bill Washer]\n",
      "Failed requesting The First Time I Saw You Baby (Live) [feat. Daina Shukis, Paul Ramsey, Lee Finklestein & Butch Cambell]\n",
      "Failed requesting Sex Goddess (Live) [feat. Daina Shukis, Paul Ramsey, Lee Finklestein & Butch Cambell]\n",
      "Failed requesting Drive In (Live) [feat. Daina Shukis, Paul Ramsey, Butch Cambell & Lee Finklestein]\n"
     ]
    },
    {
     "name": "stderr",
     "output_type": "stream",
     "text": [
      "Processing Jerome Harris_tracks.parquet:  57%|█████▋    | 115/202 [00:03<00:02, 29.05it/s]"
     ]
    },
    {
     "name": "stdout",
     "output_type": "stream",
     "text": [
      "Failed requesting Baby Be My Chauffeur (Live) [feat. Daina Shukis, Butch Cambell, Paul Ramsey & Lee Finklestein]\n",
      "Failed requesting Movie Show (Live) [feat. Daina Shukis, Butch Cambell, Paul Ramsey & Lee Finklestein]\n",
      "Failed requesting Flight of the Fly\n",
      "Failed requesting Toni\n",
      "Failed requesting Twelve\n",
      "Failed requesting Aluminum Baby\n",
      "Failed requesting Fadism\n"
     ]
    },
    {
     "name": "stderr",
     "output_type": "stream",
     "text": [
      "Processing Jerome Harris_tracks.parquet:  61%|██████    | 123/202 [00:03<00:02, 30.83it/s]"
     ]
    },
    {
     "name": "stdout",
     "output_type": "stream",
     "text": [
      "Failed requesting Gaeta\n",
      "Failed requesting Inch by Inch, Yard Byard\n",
      "Failed requesting St. Mark's Place Among the Sewers\n",
      "Failed requesting Strolling Along\n",
      "Failed requesting Garr\n",
      "Failed requesting Ode to Charlie Parker\n"
     ]
    },
    {
     "name": "stderr",
     "output_type": "stream",
     "text": [
      "Processing Jerome Harris_tracks.parquet:  65%|██████▍   | 131/202 [00:04<00:02, 31.68it/s]"
     ]
    },
    {
     "name": "stdout",
     "output_type": "stream",
     "text": [
      "Failed requesting Dolphy\n",
      "Failed requesting Cayuga\n",
      "Failed requesting Cayuga\n",
      "Failed requesting Crew Cut\n",
      "Failed requesting Easy's Pocket\n",
      "Failed requesting Treats with a Blind Dog\n",
      "Failed requesting Joker's Ace\n"
     ]
    },
    {
     "name": "stderr",
     "output_type": "stream",
     "text": [
      "Processing Jerome Harris_tracks.parquet:  69%|██████▉   | 139/202 [00:04<00:01, 32.41it/s]"
     ]
    },
    {
     "name": "stdout",
     "output_type": "stream",
     "text": [
      "Failed requesting Open Gate\n",
      "Failed requesting Necklace\n",
      "Failed requesting Jb\n",
      "Failed requesting Sapphire\n",
      "Failed requesting Sapphire Blue\n",
      "Failed requesting Bright Size Life\n",
      "Failed requesting Phase Dance\n",
      "Failed requesting New Chautauqua\n"
     ]
    },
    {
     "name": "stderr",
     "output_type": "stream",
     "text": [
      "Processing Jerome Harris_tracks.parquet:  73%|███████▎  | 147/202 [00:04<00:01, 34.30it/s]"
     ]
    },
    {
     "name": "stdout",
     "output_type": "stream",
     "text": [
      "Failed requesting Airstream\n",
      "Failed requesting Every Day (I Thank You)\n",
      "Failed requesting It's For You\n",
      "Failed requesting Are You Going With Me? - Live\n",
      "Failed requesting The First Circle\n",
      "Failed requesting Lonely Woman\n",
      "Failed requesting How's Never\n",
      "Failed requesting You I Love\n"
     ]
    },
    {
     "name": "stderr",
     "output_type": "stream",
     "text": [
      "Processing Jerome Harris_tracks.parquet:  77%|███████▋  | 155/202 [00:04<00:01, 33.35it/s]"
     ]
    },
    {
     "name": "stdout",
     "output_type": "stream",
     "text": [
      "Failed requesting Inception (Life Cycle)\n",
      "Failed requesting The Balance\n",
      "Failed requesting Equality\n",
      "Failed requesting Nemesis\n",
      "Failed requesting Shifting Sands\n",
      "Failed requesting Four Winds\n",
      "Failed requesting Prime Directive\n"
     ]
    },
    {
     "name": "stderr",
     "output_type": "stream",
     "text": [
      "Processing Jerome Harris_tracks.parquet:  79%|███████▊  | 159/202 [00:04<00:01, 33.46it/s]"
     ]
    },
    {
     "name": "stdout",
     "output_type": "stream",
     "text": [
      "Failed requesting Homecoming\n",
      "Failed requesting Conference Of The Birds\n",
      "Failed requesting Third World Anthem\n",
      "Failed requesting Jack In\n",
      "Failed requesting Feebles, Fables And Ferns\n",
      "Failed requesting Overture - Communion\n",
      "Failed requesting How's Never\n"
     ]
    },
    {
     "name": "stderr",
     "output_type": "stream",
     "text": [
      "Processing Jerome Harris_tracks.parquet:  83%|████████▎ | 167/202 [00:05<00:01, 34.26it/s]"
     ]
    },
    {
     "name": "stdout",
     "output_type": "stream",
     "text": [
      "Failed requesting Silver Hollow\n",
      "Failed requesting Picture 5\n",
      "Failed requesting Picture 6\n",
      "Failed requesting Quality Time\n",
      "Failed requesting Piano Solo\n",
      "Failed requesting Storm Warning\n",
      "Failed requesting Bass Solo\n"
     ]
    },
    {
     "name": "stderr",
     "output_type": "stream",
     "text": [
      "Processing Jerome Harris_tracks.parquet:  87%|████████▋ | 175/202 [00:05<00:00, 34.41it/s]"
     ]
    },
    {
     "name": "stdout",
     "output_type": "stream",
     "text": [
      "Failed requesting Obsession\n",
      "Failed requesting Drum Solo\n",
      "Failed requesting Time Factor\n",
      "Failed requesting Guitar Solo\n",
      "Failed requesting A Time For Love\n",
      "Failed requesting Time Out\n",
      "Failed requesting Overtime\n",
      "Failed requesting Welcome Blessing\n"
     ]
    },
    {
     "name": "stderr",
     "output_type": "stream",
     "text": [
      "Processing Jerome Harris_tracks.parquet:  91%|█████████ | 183/202 [00:05<00:00, 36.67it/s]"
     ]
    },
    {
     "name": "stdout",
     "output_type": "stream",
     "text": [
      "Failed requesting Free Above Sea\n",
      "Failed requesting Priestesses Of The Mist\n",
      "Failed requesting Jack In\n",
      "Failed requesting From The Heart / C.M.A.\n",
      "Failed requesting Svantetic\n",
      "Failed requesting Gorrión\n",
      "Failed requesting Morning\n",
      "Failed requesting Tale Of Saverio\n",
      "Failed requesting Hyperborean / Patch Of Light\n"
     ]
    },
    {
     "name": "stderr",
     "output_type": "stream",
     "text": [
      "Processing Jerome Harris_tracks.parquet:  95%|█████████▍| 191/202 [00:05<00:00, 30.34it/s]"
     ]
    },
    {
     "name": "stdout",
     "output_type": "stream",
     "text": [
      "Failed requesting Morning Heavy Song\n",
      "Failed requesting Creature Talk\n",
      "Failed requesting Desolation Sound\n",
      "Failed requesting Motherless Child\n",
      "Failed requesting Past Present\n"
     ]
    },
    {
     "name": "stderr",
     "output_type": "stream",
     "text": [
      "Processing Jerome Harris_tracks.parquet:  99%|█████████▊| 199/202 [00:06<00:00, 32.79it/s]"
     ]
    },
    {
     "name": "stdout",
     "output_type": "stream",
     "text": [
      "Failed requesting Siegfried And Roy\n",
      "Failed requesting Free Above Sea\n",
      "Failed requesting Sleep Safe And Warm - Version 2\n",
      "Failed requesting Nothing Ever Was, Anyway (Version 1)\n",
      "Failed requesting Third Stone from The Sun\n",
      "Failed requesting Greenhouse\n",
      "Failed requesting Pali Gap\n",
      "Failed requesting It's Still Like It Wouldn't Be Yesterday\n"
     ]
    },
    {
     "name": "stderr",
     "output_type": "stream",
     "text": [
      "Processing Jerome Harris_tracks.parquet: 100%|██████████| 202/202 [00:06<00:00, 32.77it/s]\n",
      "Processing Jerome Kern_tracks.parquet:   0%|          | 0/270 [00:00<?, ?it/s]"
     ]
    },
    {
     "name": "stdout",
     "output_type": "stream",
     "text": [
      "Failed requesting Tycho\n",
      "Failed requesting Purple Haze\n",
      "Failed requesting Voodoo Child (Slight Return)\n",
      "Failed requesting This Song Is You\n",
      "Failed requesting How'd You Like to Spoon with Me?\n",
      "Failed requesting The Land Where the Good Songs Go\n"
     ]
    },
    {
     "name": "stderr",
     "output_type": "stream",
     "text": [
      "Processing Jerome Kern_tracks.parquet:   3%|▎         | 8/270 [00:00<00:07, 36.10it/s]"
     ]
    },
    {
     "name": "stdout",
     "output_type": "stream",
     "text": [
      "Failed requesting All the Things You Are\n",
      "Failed requesting She Didn't Say Yes\n",
      "Failed requesting The Folks Who Live on the Hill\n",
      "Failed requesting Pick Yourself Up\n",
      "Failed requesting You Couldn't Be Cuter\n",
      "Failed requesting Shimmy with Me\n",
      "Failed requesting They All Look Alike\n",
      "Failed requesting The Song Is You / I've Told Every Little Star\n"
     ]
    },
    {
     "name": "stderr",
     "output_type": "stream",
     "text": [
      "Processing Jerome Kern_tracks.parquet:   6%|▌         | 16/270 [00:00<00:06, 36.51it/s]"
     ]
    },
    {
     "name": "stdout",
     "output_type": "stream",
     "text": [
      "Failed requesting I'll Be Hard to Handle\n",
      "Failed requesting Smoke Gets in Your Eyes\n",
      "Failed requesting Yesterdays\n",
      "Failed requesting I Won't Dance\n",
      "Failed requesting I'm Old Fashioned\n",
      "Failed requesting Dearly Beloved\n",
      "Failed requesting Pick Yourself Up\n",
      "Failed requesting She Didn't Say Yes\n"
     ]
    },
    {
     "name": "stderr",
     "output_type": "stream",
     "text": [
      "Processing Jerome Kern_tracks.parquet:   9%|▉         | 24/270 [00:00<00:06, 35.47it/s]"
     ]
    },
    {
     "name": "stdout",
     "output_type": "stream",
     "text": [
      "Failed requesting The Folks Who Live on the Hill\n",
      "Failed requesting Long Ago and Far Away\n",
      "Failed requesting Lovely to Look At / Just Let Me Look At You\n",
      "Failed requesting Remind Me\n",
      "Failed requesting The Last Time I Saw Paris\n",
      "Failed requesting Ol' Man River\n",
      "Failed requesting Why Was I Born?\n"
     ]
    },
    {
     "name": "stderr",
     "output_type": "stream",
     "text": [
      "Processing Jerome Kern_tracks.parquet:  12%|█▏        | 32/270 [00:00<00:06, 34.03it/s]"
     ]
    },
    {
     "name": "stdout",
     "output_type": "stream",
     "text": [
      "Failed requesting Bill / Can't Help Lovin' Dat Man of Mine\n",
      "Failed requesting All the Things You Are / They Didn't Believe Me\n",
      "Failed requesting A Commemoration Symphony to Stephen Foster: I. Quasi adagio - Arr. and Orch. by Robert Russell Bennett\n",
      "Failed requesting A Commemoration Symphony to Stephen Foster: II. Cantabile - Arr. and Orch. by Robert Russell Bennett\n",
      "Failed requesting A Commemoration Symphony to Stephen Foster: III. Allegretto - Arr. and Orch. by Robert Russell Bennett\n",
      "Failed requesting A Commemoration Symphony to Stephen Foster: IV. Allegro quasi recitativo - Arr. and Orch. by Robert Russell Bennett\n",
      "Failed requesting A Symphonic Story of Jerome Kern\n"
     ]
    },
    {
     "name": "stderr",
     "output_type": "stream",
     "text": [
      "Processing Jerome Kern_tracks.parquet:  15%|█▍        | 40/270 [00:01<00:06, 34.11it/s]"
     ]
    },
    {
     "name": "stdout",
     "output_type": "stream",
     "text": [
      "Failed requesting Sally: Act I: I. Opening\n",
      "Failed requesting Sally: Act I: II. \"The Nighttime\"\n",
      "Failed requesting Sally: Act I: III.\"Ah, glamourpuss…On with the Dance\n",
      "Failed requesting Sally: Act I: IV.\"Good evening!\"\n",
      "Failed requesting Sally: Act I: V. \"Joan of Arc\"\n",
      "Failed requesting Sally: Act I: VI. \"Your Highness!\"\n",
      "Failed requesting Sally: Act I: VII. \"Look for the Silver Lining\"\n",
      "Failed requesting Sally: Act I: VIII. \"Hello, Sally…Look for the Silver Lining\"\n"
     ]
    },
    {
     "name": "stderr",
     "output_type": "stream",
     "text": [
      "Processing Jerome Kern_tracks.parquet:  18%|█▊        | 48/270 [00:01<00:06, 35.25it/s]"
     ]
    },
    {
     "name": "stdout",
     "output_type": "stream",
     "text": [
      "Failed requesting Sally: Act I: IX. \"Now what's this?\"\n",
      "Failed requesting Sally: Act I: X. \"Dear Little Girl\"\n",
      "Failed requesting Sally: Act I: XI. \"Hello?\"\n",
      "Failed requesting Sally: Act II: XII. \"So, Rosie\"\n",
      "Failed requesting Sally: Act II: XIII. \"To a Celebration\"\n",
      "Failed requesting Sally: Act II: XIV. \"Mme. Nockerova…A Wild Rose\"\n",
      "Failed requesting Sally: Act II: XV. \"The Schnitza-Komisski\"\n",
      "Failed requesting Sally: Act II: XVI. \"Mme. Nockerova…Whip-poor-wil\"\n"
     ]
    },
    {
     "name": "stderr",
     "output_type": "stream",
     "text": [
      "Processing Jerome Kern_tracks.parquet:  21%|██        | 56/270 [00:01<00:05, 35.99it/s]"
     ]
    },
    {
     "name": "stdout",
     "output_type": "stream",
     "text": [
      "Failed requesting Sally: Act II: XVII. \"Rosie, there you are\"\n",
      "Failed requesting Sally: Act II: XVIII. \"The Lorelei\"\n",
      "Failed requesting Sally: Act II: XIX. \"Pardon me!\"\n",
      "Failed requesting Sally: Act II: XX. \"Church ’Round the Corner\"\n",
      "Failed requesting Change Partners\n",
      "Failed requesting I've Got My Love To Keep Me Warm\n",
      "Failed requesting The Way You Look Tonight\n",
      "Failed requesting Cheek To Cheek\n"
     ]
    },
    {
     "name": "stderr",
     "output_type": "stream",
     "text": [
      "Processing Jerome Kern_tracks.parquet:  24%|██▎       | 64/270 [00:01<00:05, 36.72it/s]"
     ]
    },
    {
     "name": "stdout",
     "output_type": "stream",
     "text": [
      "Failed requesting I Won't Dance\n",
      "Failed requesting All The Things You Are\n",
      "Failed requesting White Christmas\n",
      "Failed requesting Puttin' On The Ritz\n",
      "Failed requesting They Say It's Wonderfull\n",
      "Failed requesting Alexander's Ragtime Band\n",
      "Failed requesting Old Man River\n",
      "Failed requesting The Song Is You\n"
     ]
    },
    {
     "name": "stderr",
     "output_type": "stream",
     "text": [
      "Processing Jerome Kern_tracks.parquet:  27%|██▋       | 72/270 [00:02<00:05, 36.22it/s]"
     ]
    },
    {
     "name": "stdout",
     "output_type": "stream",
     "text": [
      "Failed requesting A Tribute To Irving Berlin\n",
      "Failed requesting Dearly Beloved\n",
      "Failed requesting Who\n",
      "Failed requesting A Fine Romance\n",
      "Failed requesting Smoke Gets In Your Eyes\n",
      "Failed requesting All Full of Talk (From \"Miss Springtime\")\n",
      "Failed requesting Honeymoon Inn (From \"Have a Heart\")\n",
      "Failed requesting Polly Believed in Preparedness (From \"Have a Heart\")\n"
     ]
    },
    {
     "name": "stderr",
     "output_type": "stream",
     "text": [
      "Processing Jerome Kern_tracks.parquet:  30%|██▉       | 80/270 [00:02<00:05, 34.72it/s]"
     ]
    },
    {
     "name": "stdout",
     "output_type": "stream",
     "text": [
      "Failed requesting Have a Heart (From \"Have a Heart\")\n",
      "Failed requesting Napoleon (From \"Have a Heart\")\n",
      "Failed requesting Bright Lights (From \"Have a Heart\")\n",
      "Failed requesting An Old-Fashioned Wife (From \"Oh Boy!\")\n",
      "Failed requesting We're Going to Be Pals (From \"Oh Boy!\")\n",
      "Failed requesting Ain't It a Grand and Glorious Feeling (From \"Oh Boy!\")\n",
      "Failed requesting Poor Prune (From \"Leave It to Jane\")\n",
      "Failed requesting The Siren's Song (From \"Leave It to Jane\")\n"
     ]
    },
    {
     "name": "stderr",
     "output_type": "stream",
     "text": [
      "Processing Jerome Kern_tracks.parquet:  33%|███▎      | 88/270 [00:02<00:05, 34.49it/s]"
     ]
    },
    {
     "name": "stdout",
     "output_type": "stream",
     "text": [
      "Failed requesting The Sun Shines Brighter (From \"Leave It to Jane\")\n",
      "Failed requesting Bungalow in Quogue (From \"The Riviera Girl\")\n",
      "Failed requesting The Picture I Want to See (From \"Miss 1917\")\n",
      "Failed requesting I'm the Old Man in the Moon (From \"Miss 1917\")\n",
      "Failed requesting Moon Song (From \"Oh Lady! Lady!!\")\n",
      "Failed requesting Our Little Nest (From \"Oh Lady! Lady!!\")\n",
      "Failed requesting Bill (From \"Oh Lady! Lady!!\")\n",
      "Failed requesting Joan of Arc (From \"Sally\")\n"
     ]
    },
    {
     "name": "stderr",
     "output_type": "stream",
     "text": [
      "Processing Jerome Kern_tracks.parquet:  34%|███▍      | 92/270 [00:02<00:05, 30.47it/s]"
     ]
    },
    {
     "name": "stdout",
     "output_type": "stream",
     "text": [
      "Failed requesting The Church 'round the Corner (From \"Sally\")\n",
      "Failed requesting Ol' Man River\n",
      "Failed requesting Make Believe\n",
      "Failed requesting Bill\n",
      "Failed requesting Life Upon the Wicked Stage\n"
     ]
    },
    {
     "name": "stderr",
     "output_type": "stream",
     "text": [
      "Processing Jerome Kern_tracks.parquet:  37%|███▋      | 100/270 [00:02<00:05, 31.41it/s]"
     ]
    },
    {
     "name": "stdout",
     "output_type": "stream",
     "text": [
      "Failed requesting You Are Love\n",
      "Failed requesting Can't Help Lovin Dat Man of Mine\n",
      "Failed requesting I Might Fall Back On You\n",
      "Failed requesting Why Do I Love You - Seven Brides For Seven Brothers\n",
      "Failed requesting Pagan Love Song\n",
      "Failed requesting The Right Place for a Girl\n",
      "Failed requesting You're Devastating\n"
     ]
    },
    {
     "name": "stderr",
     "output_type": "stream",
     "text": [
      "Processing Jerome Kern_tracks.parquet:  39%|███▊      | 104/270 [00:03<00:05, 32.68it/s]"
     ]
    },
    {
     "name": "stdout",
     "output_type": "stream",
     "text": [
      "Failed requesting The Girl That I Marry\n",
      "Failed requesting They Say It's Wonderful\n",
      "Failed requesting Smoke Gets in Your Eyes (from \"Lovely to Look At\") - 2006 Remaster\n",
      "Failed requesting All Of A Sudden) My Heart Sings\n",
      "Failed requesting Always\n",
      "Failed requesting Jealousy\n"
     ]
    },
    {
     "name": "stderr",
     "output_type": "stream",
     "text": [
      "Processing Jerome Kern_tracks.parquet:  41%|████▏     | 112/270 [00:03<00:05, 28.49it/s]"
     ]
    },
    {
     "name": "stdout",
     "output_type": "stream",
     "text": [
      "Failed requesting Yesterdays\n",
      "Failed requesting They Didn't Believe Me\n",
      "Failed requesting Overture\n",
      "Failed requesting Make Believe\n",
      "Failed requesting Ol' Man River\n",
      "Failed requesting Can't Help Lovin' Dat Man\n"
     ]
    },
    {
     "name": "stderr",
     "output_type": "stream",
     "text": [
      "Processing Jerome Kern_tracks.parquet:  45%|████▍     | 121/270 [00:03<00:04, 33.83it/s]"
     ]
    },
    {
     "name": "stdout",
     "output_type": "stream",
     "text": [
      "Failed requesting Life Upon The Wicked Stage\n",
      "Failed requesting You Are Love\n",
      "Failed requesting I Might Fall Back On You\n",
      "Failed requesting Why Do I Love You\n",
      "Failed requesting I Still Suits Me\n",
      "Failed requesting Bill\n",
      "Failed requesting Finale\n",
      "Failed requesting You're Devastating\n",
      "Failed requesting I'll Be Hard To Handle\n"
     ]
    },
    {
     "name": "stderr",
     "output_type": "stream",
     "text": [
      "Processing Jerome Kern_tracks.parquet:  46%|████▋     | 125/270 [00:03<00:04, 33.47it/s]"
     ]
    },
    {
     "name": "stdout",
     "output_type": "stream",
     "text": [
      "Failed requesting Lafayette\n",
      "Failed requesting The Touch Of Your Hand\n",
      "Failed requesting Lovely to Look At\n",
      "Failed requesting Smoke Gets In Your Eyes\n"
     ]
    },
    {
     "name": "stderr",
     "output_type": "stream",
     "text": [
      "Processing Jerome Kern_tracks.parquet:  49%|████▉     | 133/270 [00:04<00:11, 12.31it/s]"
     ]
    },
    {
     "name": "stdout",
     "output_type": "stream",
     "text": [
      "Failed requesting Music in the Air: The song is you (arr. L. Mayorga)\n",
      "Failed requesting Roberta: Act II: Lovely to Look At - Swing Time: The Way You Look Tonight (arr. L. Mayorga)\n",
      "Failed requesting Roberta: Let's Begin (arr. L. Mayorga)\n",
      "Failed requesting April Fooled Me (arr. L. Mayorga)\n",
      "Failed requesting Swing Time: Medley (arr. L. Mayorga)\n",
      "Failed requesting Show Boat: You Are Love (arr. L. Mayorga)\n",
      "Failed requesting Can't Help Singing: Californ-I-Ay (arr. L. Mayorga)\n",
      "Failed requesting I Dream too much: I Dream too much (arr. L. Mayorga)\n"
     ]
    },
    {
     "name": "stderr",
     "output_type": "stream",
     "text": [
      "Processing Jerome Kern_tracks.parquet:  51%|█████     | 137/270 [00:05<00:09, 14.44it/s]"
     ]
    },
    {
     "name": "stdout",
     "output_type": "stream",
     "text": [
      "Failed requesting High, Wide and Handsome: The Folks who Live on the Hill (arr. L. Mayorga)\n",
      "Failed requesting Roberta: Smoke Gets In Your Eyes (arr. L. Mayorga)\n",
      "Failed requesting I Have Seen (arr. L. Mayorga)\n",
      "Failed requesting Very Warm for May: All the Things You Are (arr. L. Mayorga)\n",
      "Failed requesting Miss 1917: Go, Little Boat (arr. L. Mayorga)\n",
      "Failed requesting Roberta: Yesterdays (arr. L. Mayorga)\n"
     ]
    },
    {
     "name": "stderr",
     "output_type": "stream",
     "text": [
      "Processing Jerome Kern_tracks.parquet:  54%|█████▎    | 145/270 [00:05<00:05, 20.84it/s]"
     ]
    },
    {
     "name": "stdout",
     "output_type": "stream",
     "text": [
      "Failed requesting Day Dreaming (arr. L. Mayorga)\n",
      "Failed requesting The Red Petticoat: The Ragtime Restaurant (arr. L. Mayorga)\n",
      "Failed requesting I'll Follow Your Smile (arr. L. Mayorga)\n",
      "Failed requesting Cover Girl: Long Ago and Far Away (arr. L. Mayorga)\n",
      "Failed requesting High, Wide and Handsome: Can I forget you (arr. L. Mayorga)\n",
      "Failed requesting The Girl from Utah: They Didn't Believe Me (arr. L. Mayorga)\n",
      "Failed requesting The Ragtime Restaurant\n"
     ]
    },
    {
     "name": "stderr",
     "output_type": "stream",
     "text": [
      "Processing Jerome Kern_tracks.parquet:  57%|█████▋    | 153/270 [00:05<00:04, 25.70it/s]"
     ]
    },
    {
     "name": "stdout",
     "output_type": "stream",
     "text": [
      "Failed requesting Babes in the Wood\n",
      "Failed requesting Drift With Me\n",
      "Failed requesting I'm So Busy\n",
      "Failed requesting Till the Clouds Roll By\n",
      "Failed requesting Whip-Poor-Will\n",
      "Failed requesting The Bullfrog Patrol\n",
      "Failed requesting I Want to Be There\n",
      "Failed requesting Wishing Well Scene\n"
     ]
    },
    {
     "name": "stderr",
     "output_type": "stream",
     "text": [
      "Processing Jerome Kern_tracks.parquet:  60%|█████▉    | 161/270 [00:05<00:03, 30.08it/s]"
     ]
    },
    {
     "name": "stdout",
     "output_type": "stream",
     "text": [
      "Failed requesting She Didn't say 'Yes'\n",
      "Failed requesting Every little while\n",
      "Failed requesting In Egern of the Tegern See\n",
      "Failed requesting Kern: Music in the Air, Act 2: \"The Song Is You\" (Bruno Mahler)\n",
      "Failed requesting Kern: Roberta, Act 2: \"Smoke Gets in Your Eyes\"\n",
      "Failed requesting The Folks Who Live On the Hill\n",
      "Failed requesting Heaven In My Arms\n"
     ]
    },
    {
     "name": "stderr",
     "output_type": "stream",
     "text": [
      "Processing Jerome Kern_tracks.parquet:  63%|██████▎   | 169/270 [00:06<00:03, 31.11it/s]"
     ]
    },
    {
     "name": "stdout",
     "output_type": "stream",
     "text": [
      "Failed requesting The Last Time I Saw Paris\n",
      "Failed requesting Harlem Boogie-Woogie\n",
      "Failed requesting Biographies: Jerome Kern the Man and the Music\n",
      "Failed requesting Biographies: Jerome Kern the Man and the Music\n",
      "Failed requesting The Cabaret Girl: Act One: Overture/Introduction\n",
      "Failed requesting The Cabaret Girl: Act One: Chorus: \"Love song is ended\"\n",
      "Failed requesting The Cabaret Girl: Act One: Dialogue: \"Hello, Yes?\"\n",
      "Failed requesting The Cabaret Girl: Act One: Song: \"You want the best seats\"\n"
     ]
    },
    {
     "name": "stderr",
     "output_type": "stream",
     "text": [
      "Processing Jerome Kern_tracks.parquet:  66%|██████▌   | 177/270 [00:06<00:02, 31.24it/s]"
     ]
    },
    {
     "name": "stdout",
     "output_type": "stream",
     "text": [
      "Failed requesting The Cabaret Girl: Act One: Dialogue: \"Miss Simmons!\"\n",
      "Failed requesting The Cabaret Girl: Act One: Duet: \"Mr. Gripps, I've just been thinking\"\n",
      "Failed requesting The Cabaret Girl: Act One: Dialogue: \"Good morning, Miss Dix\"\n",
      "Failed requesting The Cabaret Girl: Act One: Song: \"There she stood\"\n",
      "Failed requesting The Cabaret Girl: Act One: Dialogue: \"Are you all being attended to?\"\n",
      "Failed requesting The Cabaret Girl: Act One: Duet: \"Journey's End\"\n",
      "Failed requesting The Cabaret Girl: Act One: Dialogue: \"Well, Signor Felosi\"\n"
     ]
    },
    {
     "name": "stderr",
     "output_type": "stream",
     "text": [
      "Processing Jerome Kern_tracks.parquet:  67%|██████▋   | 181/270 [00:06<00:02, 31.95it/s]"
     ]
    },
    {
     "name": "stdout",
     "output_type": "stream",
     "text": [
      "Failed requesting The Cabaret Girl: Act One: Sextet \"Whoop-de-doodle-do\"\n",
      "Failed requesting The Cabaret Girl: Act One: Dialogue: \"I want to see Mr. Gravvins\"\n",
      "Failed requesting The Cabaret Girl: Act One: Scene: \"Dancing Time\"\n",
      "Failed requesting The Cabaret Girl: Act One: Duet \"Dancing Time\"\n",
      "Failed requesting The Cabaret Girl: Act One: Dialogue: \"Great news, boys!\"\n",
      "Failed requesting The Cabaret Girl: Act One: Finale: \"My little place\"\n",
      "Failed requesting The Cabaret Girl: Act Two: Opening: \"The Pergola Patrol\"\n"
     ]
    },
    {
     "name": "stderr",
     "output_type": "stream",
     "text": [
      "Processing Jerome Kern_tracks.parquet:  70%|███████   | 189/270 [00:06<00:02, 32.40it/s]"
     ]
    },
    {
     "name": "stdout",
     "output_type": "stream",
     "text": [
      "Failed requesting The Cabaret Girl: Act Two: Dialogue: \"Ah, well!\"\n",
      "Failed requesting The Cabaret Girl: Act Two: Scene: \"Praise for our zeal\"\n",
      "Failed requesting I'm Old-Fashioned\n",
      "Failed requesting Look For The Silver Lining\n",
      "Failed requesting The Folks Who Live On The Hill\n",
      "Failed requesting Yesterdays\n",
      "Failed requesting Long Ago - And Far Away\n",
      "Failed requesting Don't Ever Leave Me\n"
     ]
    },
    {
     "name": "stderr",
     "output_type": "stream",
     "text": [
      "Processing Jerome Kern_tracks.parquet:  73%|███████▎  | 197/270 [00:06<00:02, 27.08it/s]"
     ]
    },
    {
     "name": "stdout",
     "output_type": "stream",
     "text": [
      "Failed requesting The Song Is You\n",
      "Failed requesting Can I Forget You - Smoke Gets In Your Eyes\n",
      "Failed requesting Make Believe\n",
      "Failed requesting All The Things You Are\n"
     ]
    },
    {
     "name": "stderr",
     "output_type": "stream",
     "text": [
      "Processing Jerome Kern_tracks.parquet:  74%|███████▍  | 201/270 [00:07<00:02, 28.52it/s]"
     ]
    },
    {
     "name": "stdout",
     "output_type": "stream",
     "text": [
      "Failed requesting Show Boat Medley (arr. F. Stride): Showboat Medley\n",
      "Failed requesting Lady Be Good!: The Last Time I Saw Paris (arr. F. Stride): The Last Time I Saw Paris\n",
      "Failed requesting Roberta (arr. F. Stride): I Won't Dance\n",
      "Failed requesting You Were Never Lovelier: I'm old fashioned (arr. F. Stride): I'm Old Fashioned\n",
      "Failed requesting Roberta\n",
      "Failed requesting High, Wide And Handsome: The Folks who Live on the Hill (arr. F. Stride): The Folks Who Live on the Hill\n",
      "Failed requesting Sunny: Who? (arr. F. Stride): Who?\n",
      "Failed requesting Swing Time: The Way You Look Tonight (arr. F. Stride): The Way You Look Tonight\n"
     ]
    },
    {
     "name": "stderr",
     "output_type": "stream",
     "text": [
      "Processing Jerome Kern_tracks.parquet:  77%|███████▋  | 209/270 [00:07<00:01, 31.14it/s]"
     ]
    },
    {
     "name": "stdout",
     "output_type": "stream",
     "text": [
      "Failed requesting Music in the Air (arr. F. Stride): I've Told Every Little Star\n",
      "Failed requesting Very Warm for May: All the Things You Are (arr. F. Stride): All the Things You Are\n",
      "Failed requesting Music in the Air (arr. F. Stride): The Song is You\n",
      "Failed requesting Can't Help Singing (from \"Can't Help Singing\")\n",
      "Failed requesting Till the Clouds Roll By (from \"Oh, Boy!\")\n",
      "Failed requesting Smoke Gets In Your Eyes (from \"Roberta\")\n",
      "Failed requesting Who? (from \"Sunny\")\n"
     ]
    },
    {
     "name": "stderr",
     "output_type": "stream",
     "text": [
      "Processing Jerome Kern_tracks.parquet:  80%|████████  | 217/270 [00:07<00:01, 30.23it/s]"
     ]
    },
    {
     "name": "stdout",
     "output_type": "stream",
     "text": [
      "Failed requesting They Didn't Believe Me (from \"The Girl from Utah\")\n",
      "Failed requesting Make Believe (from \"Showboat\")\n",
      "Failed requesting The Last Time I Saw Paris (from \"Lady Be Good\")\n",
      "Failed requesting Can I Forget You? (from \"High, Wide and Handsome\")\n",
      "Failed requesting Look for the Silver Lining (from \"Sally\")\n",
      "Failed requesting I'm Old Fashioned (from \"You Were Never Lovelier\")\n"
     ]
    },
    {
     "name": "stderr",
     "output_type": "stream",
     "text": [
      "Processing Jerome Kern_tracks.parquet:  82%|████████▏ | 221/270 [00:07<00:01, 31.01it/s]"
     ]
    },
    {
     "name": "stdout",
     "output_type": "stream",
     "text": [
      "Failed requesting Dearly Beloved (from \"You Were Never Lovelier\")\n",
      "Failed requesting Ol' Man River (from \"Showboat\")\n",
      "Failed requesting This Song Is You\n",
      "Failed requesting How'd You Like to Spoon with Me?\n",
      "Failed requesting The Land Where the Good Songs Go\n",
      "Failed requesting All the Things You Are\n"
     ]
    },
    {
     "name": "stderr",
     "output_type": "stream",
     "text": [
      "Processing Jerome Kern_tracks.parquet:  85%|████████▍ | 229/270 [00:07<00:01, 31.01it/s]"
     ]
    },
    {
     "name": "stdout",
     "output_type": "stream",
     "text": [
      "Failed requesting The Folks Who Live on the Hill\n",
      "Failed requesting She Didn't Say Yes\n",
      "Failed requesting Pick Yourself Up\n",
      "Failed requesting You Couldn't Be Cuter\n",
      "Failed requesting Shimmy with Me\n",
      "Failed requesting They All Look Alike\n",
      "Failed requesting There It Is Again\n"
     ]
    },
    {
     "name": "stderr",
     "output_type": "stream",
     "text": [
      "Processing Jerome Kern_tracks.parquet:  88%|████████▊ | 237/270 [00:08<00:01, 32.42it/s]"
     ]
    },
    {
     "name": "stdout",
     "output_type": "stream",
     "text": [
      "Failed requesting Remind Me\n",
      "Failed requesting In Love in Vain\n",
      "Failed requesting Make Believe\n",
      "Failed requesting Ol' Man River\n",
      "Failed requesting You Are Love\n",
      "Failed requesting I Won't Dance\n",
      "Failed requesting The Last Time I Saw Paris\n",
      "Failed requesting Long Ago\n"
     ]
    },
    {
     "name": "stderr",
     "output_type": "stream",
     "text": [
      "Processing Jerome Kern_tracks.parquet:  89%|████████▉ | 241/270 [00:08<00:00, 31.38it/s]"
     ]
    },
    {
     "name": "stdout",
     "output_type": "stream",
     "text": [
      "Failed requesting They Didn't Believe Me\n",
      "Failed requesting A Commemoration Symphony: First Movement - Quasi Adagio\n",
      "Failed requesting A Commemoration Symphony: Second Movement - Cantabile\n",
      "Failed requesting A Commemoration Symphony: Third Movement - Allegretto\n"
     ]
    },
    {
     "name": "stderr",
     "output_type": "stream",
     "text": [
      "Processing Jerome Kern_tracks.parquet:  92%|█████████▏| 248/270 [00:08<00:00, 24.75it/s]"
     ]
    },
    {
     "name": "stdout",
     "output_type": "stream",
     "text": [
      "Failed requesting A Commemoration Symphony: Fourth Movement - Allegro Quasi Recitativo\n",
      "Failed requesting A Symphonic Story Of Jerome Kern\n",
      "Failed requesting The Carousel Waltz\n",
      "Failed requesting Slaughter On 10th Avenue\n",
      "Failed requesting Pops Hoe-Down\n",
      "Failed requesting Mark Twain Suite\n",
      "Failed requesting American Fantasia\n"
     ]
    },
    {
     "name": "stderr",
     "output_type": "stream",
     "text": [
      "Processing Jerome Kern_tracks.parquet:  95%|█████████▍| 256/270 [00:08<00:00, 27.82it/s]"
     ]
    },
    {
     "name": "stdout",
     "output_type": "stream",
     "text": [
      "Failed requesting The Stars & Stripes Forever\n",
      "Failed requesting Love Is Here to Stay, Love Walked In\n",
      "Failed requesting Nice Work If You Can Get It\n",
      "Failed requesting Foggy Day, Strike Up the Band\n",
      "Failed requesting Alabama Jubilee\n",
      "Failed requesting The Demons Charleston\n",
      "Failed requesting Blakes Blues\n"
     ]
    },
    {
     "name": "stderr",
     "output_type": "stream",
     "text": [
      "Processing Jerome Kern_tracks.parquet:  98%|█████████▊| 264/270 [00:09<00:00, 31.23it/s]"
     ]
    },
    {
     "name": "stdout",
     "output_type": "stream",
     "text": [
      "Failed requesting Parece Mentire\n",
      "Failed requesting Crazy For The Hot\n",
      "Failed requesting Bei Mir Bist Du Schon\n",
      "Failed requesting Hello Ma, I Done It Again\n",
      "Failed requesting She's A Lady Of Honour\n",
      "Failed requesting Ritz Hotel\n",
      "Failed requesting Tuxedo Junction\n",
      "Failed requesting Kuky\n"
     ]
    },
    {
     "name": "stderr",
     "output_type": "stream",
     "text": [
      "Processing Jerome Kern_tracks.parquet: 100%|██████████| 270/270 [00:09<00:00, 28.84it/s]\n",
      "Processing Jerry Butler_tracks.parquet:   0%|          | 0/631 [00:00<?, ?it/s]"
     ]
    },
    {
     "name": "stdout",
     "output_type": "stream",
     "text": [
      "Failed requesting Bum, Bum, Bum\n",
      "Failed requesting I'm Happy\n",
      "Failed requesting Rhythm At The Club\n",
      "Failed requesting Red Bank Boogie\n",
      "Failed requesting Byas Jump\n",
      "Failed requesting The Boll Weevil Song (Remastered 2014)\n"
     ]
    },
    {
     "name": "stderr",
     "output_type": "stream",
     "text": [
      "Processing Jerry Butler_tracks.parquet:   1%|          | 6/631 [00:00<00:28, 21.96it/s]"
     ]
    },
    {
     "name": "stdout",
     "output_type": "stream",
     "text": [
      "Failed requesting Honey Babe (Remastered 2014)\n",
      "Failed requesting Careless Love (Remastered 2014)\n",
      "Failed requesting My Last Dollar (Remastered 2014)\n",
      "Failed requesting Key to the Highway (Remastered 2014)\n",
      "Failed requesting Frankie and Johnny (Remastered 2014)\n"
     ]
    },
    {
     "name": "stderr",
     "output_type": "stream",
     "text": [
      "Processing Jerry Butler_tracks.parquet:   2%|▏         | 10/631 [00:00<00:22, 27.99it/s]"
     ]
    },
    {
     "name": "stdout",
     "output_type": "stream",
     "text": [
      "Failed requesting The Intoxicated Rat (Remastered 2014)\n",
      "Failed requesting Johnny-O (Remastered 2014)\n",
      "Failed requesting It's My Lazy Day (Remastered 2014)\n",
      "Failed requesting Child of the Engineer (Remastered 2014)\n",
      "Failed requesting For Your Precious Love - live\n",
      "Failed requesting For Your Precious Love - live\n",
      "Failed requesting Moon River\n"
     ]
    },
    {
     "name": "stderr",
     "output_type": "stream",
     "text": [
      "Processing Jerry Butler_tracks.parquet:   3%|▎         | 18/631 [00:00<00:20, 29.71it/s]"
     ]
    },
    {
     "name": "stdout",
     "output_type": "stream",
     "text": [
      "Failed requesting Moon River\n",
      "Failed requesting He Will Break Your Heart\n",
      "Failed requesting He Will Break Your Heart\n",
      "Failed requesting I Stand Accused\n",
      "Failed requesting I Stand Accused\n",
      "Failed requesting I'm A-Telling You\n",
      "Failed requesting I'm A-Telling You\n",
      "Failed requesting Make It Easy on Yourself\n",
      "Failed requesting Make It Easy on Yourself\n"
     ]
    },
    {
     "name": "stderr",
     "output_type": "stream",
     "text": [
      "Processing Jerry Butler_tracks.parquet:   5%|▍         | 31/631 [00:00<00:16, 36.46it/s]"
     ]
    },
    {
     "name": "stdout",
     "output_type": "stream",
     "text": [
      "Failed requesting Make It Easy on Yourself\n",
      "Failed requesting Need to Belong to Somebody (Remastered 2014)\n",
      "Failed requesting Whatever You Want\n",
      "Failed requesting Whatever You Want\n",
      "Failed requesting Givin' Up on Love\n",
      "Failed requesting Givin' Up on Love\n",
      "Failed requesting It's Too Late\n",
      "Failed requesting It's Too Late\n",
      "Failed requesting Duke of Earl\n"
     ]
    },
    {
     "name": "stderr",
     "output_type": "stream",
     "text": [
      "Processing Jerry Butler_tracks.parquet:   6%|▌         | 35/631 [00:01<00:16, 35.57it/s]"
     ]
    },
    {
     "name": "stdout",
     "output_type": "stream",
     "text": [
      "Failed requesting Daddy's Home (Remastered 2014)\n",
      "Failed requesting You Threw A Lucky Punch\n",
      "Failed requesting Just Be True To Me\n",
      "Failed requesting I Fooled You This Time\n",
      "Failed requesting Nothing Can Stop Me\n",
      "Failed requesting What Now\n",
      "Failed requesting Man's Temptation\n"
     ]
    },
    {
     "name": "stderr",
     "output_type": "stream",
     "text": [
      "Processing Jerry Butler_tracks.parquet:   7%|▋         | 43/631 [00:01<00:16, 36.51it/s]"
     ]
    },
    {
     "name": "stdout",
     "output_type": "stream",
     "text": [
      "Failed requesting Rainbow '65 - Full Version\n",
      "Failed requesting You Can't Hurt Me\n",
      "Failed requesting God Bless Our Love (Remastered 2014)\n",
      "Failed requesting Nite Owl (Remastered 2014)\n",
      "Failed requesting For Your Precious Love\n",
      "Failed requesting For Your Precious Love\n"
     ]
    },
    {
     "name": "stderr",
     "output_type": "stream",
     "text": [
      "Processing Jerry Butler_tracks.parquet:   7%|▋         | 47/631 [00:03<01:47,  5.44it/s]"
     ]
    },
    {
     "name": "stdout",
     "output_type": "stream",
     "text": [
      "Failed requesting For Your Precious Love\n"
     ]
    },
    {
     "name": "stderr",
     "output_type": "stream",
     "text": [
      "Processing Jerry Butler_tracks.parquet:   8%|▊         | 50/631 [00:05<03:04,  3.15it/s]"
     ]
    },
    {
     "name": "stdout",
     "output_type": "stream",
     "text": [
      "Failed requesting For Your Precious Love\n",
      "Failed requesting Message To Martha\n",
      "Failed requesting Message To Martha\n",
      "Failed requesting Need To Belong\n"
     ]
    },
    {
     "name": "stderr",
     "output_type": "stream",
     "text": [
      "Processing Jerry Butler_tracks.parquet:   9%|▉         | 56/631 [00:07<03:19,  2.88it/s]"
     ]
    },
    {
     "name": "stdout",
     "output_type": "stream",
     "text": [
      "Failed requesting Moon River (Remastered 2014)\n"
     ]
    },
    {
     "name": "stderr",
     "output_type": "stream",
     "text": [
      "Processing Jerry Butler_tracks.parquet:   9%|▉         | 58/631 [00:08<03:41,  2.58it/s]"
     ]
    },
    {
     "name": "stdout",
     "output_type": "stream",
     "text": [
      "Failed requesting He Will Break Your Heart\n"
     ]
    },
    {
     "name": "stderr",
     "output_type": "stream",
     "text": [
      "Processing Jerry Butler_tracks.parquet:   9%|▉         | 59/631 [00:09<04:30,  2.12it/s]"
     ]
    },
    {
     "name": "stdout",
     "output_type": "stream",
     "text": [
      "Failed requesting He Will Break Your Heart\n"
     ]
    },
    {
     "name": "stderr",
     "output_type": "stream",
     "text": [
      "Processing Jerry Butler_tracks.parquet:  10%|▉         | 61/631 [00:11<04:38,  2.05it/s]"
     ]
    },
    {
     "name": "stdout",
     "output_type": "stream",
     "text": [
      "Failed requesting He Will Break Your Heart\n"
     ]
    },
    {
     "name": "stderr",
     "output_type": "stream",
     "text": [
      "Processing Jerry Butler_tracks.parquet:  10%|▉         | 63/631 [00:12<04:43,  2.00it/s]"
     ]
    },
    {
     "name": "stdout",
     "output_type": "stream",
     "text": [
      "Failed requesting He Will Break Your Heart\n",
      "Failed requesting He Will Break Your Heart\n",
      "Failed requesting He Will Break Your Heart\n"
     ]
    },
    {
     "name": "stderr",
     "output_type": "stream",
     "text": [
      "Processing Jerry Butler_tracks.parquet:  11%|█         | 70/631 [00:16<06:12,  1.51it/s]"
     ]
    },
    {
     "name": "stdout",
     "output_type": "stream",
     "text": [
      "Failed requesting Giving Up On Love\n"
     ]
    },
    {
     "name": "stderr",
     "output_type": "stream",
     "text": [
      "Processing Jerry Butler_tracks.parquet:  12%|█▏        | 76/631 [00:21<08:17,  1.12it/s]"
     ]
    },
    {
     "name": "stdout",
     "output_type": "stream",
     "text": [
      "Failed requesting For Your Precious Love\n"
     ]
    },
    {
     "name": "stderr",
     "output_type": "stream",
     "text": [
      "Processing Jerry Butler_tracks.parquet:  14%|█▍        | 89/631 [00:24<01:45,  5.12it/s]"
     ]
    },
    {
     "name": "stdout",
     "output_type": "stream",
     "text": [
      "Failed requesting I Need Your Love\n",
      "Failed requesting Don't Leave Me\n",
      "Failed requesting Sweet Was The Wine\n",
      "Failed requesting Come Back My Love\n",
      "Failed requesting Come Back My Love\n",
      "Failed requesting Come Back My Love\n",
      "Failed requesting Come Back My Love\n",
      "Failed requesting Come Back My Love\n",
      "Failed requesting Love Me\n"
     ]
    },
    {
     "name": "stderr",
     "output_type": "stream",
     "text": [
      "Processing Jerry Butler_tracks.parquet:  15%|█▍        | 94/631 [00:25<01:06,  8.13it/s]"
     ]
    },
    {
     "name": "stdout",
     "output_type": "stream",
     "text": [
      "Failed requesting Love Me\n",
      "Failed requesting Love Me\n",
      "Failed requesting The Gift Of Love\n",
      "Failed requesting The Gift Of Love\n",
      "Failed requesting At The County Fair (Chu-Chu Cha)\n",
      "Failed requesting Lost Without You\n",
      "Failed requesting One By One\n",
      "Failed requesting Lovely One\n"
     ]
    },
    {
     "name": "stderr",
     "output_type": "stream",
     "text": [
      "Processing Jerry Butler_tracks.parquet:  16%|█▌        | 102/631 [00:25<00:37, 14.02it/s]"
     ]
    },
    {
     "name": "stdout",
     "output_type": "stream",
     "text": [
      "Failed requesting Senorita I Love You\n",
      "Failed requesting Hold Me My Darling\n",
      "Failed requesting Rainbow Valley\n",
      "Failed requesting Rainbow Valley\n",
      "Failed requesting Rainbow Valley\n",
      "Failed requesting Couldn't Go To Sleep\n",
      "Failed requesting Couldn't Go To Sleep\n"
     ]
    },
    {
     "name": "stderr",
     "output_type": "stream",
     "text": [
      "Processing Jerry Butler_tracks.parquet:  18%|█▊        | 113/631 [00:29<02:02,  4.23it/s]"
     ]
    },
    {
     "name": "stdout",
     "output_type": "stream",
     "text": [
      "Failed requesting That You Love Me\n",
      "Failed requesting A New Love\n",
      "Failed requesting A Lonely Soldier\n",
      "Failed requesting A Lonely Soldier\n",
      "Failed requesting A Lonely Soldier\n",
      "Failed requesting A Lonely Soldier\n",
      "Failed requesting A Lonely Soldier\n",
      "Failed requesting A Lonely Soldier\n"
     ]
    },
    {
     "name": "stderr",
     "output_type": "stream",
     "text": [
      "Processing Jerry Butler_tracks.parquet:  19%|█▊        | 117/631 [00:29<01:27,  5.86it/s]"
     ]
    },
    {
     "name": "stdout",
     "output_type": "stream",
     "text": [
      "Failed requesting I Found A Love\n",
      "Failed requesting He Will Break Your Heart\n",
      "Failed requesting He Will Break Your Heart\n",
      "Failed requesting He Will Break Your Heart\n"
     ]
    },
    {
     "name": "stderr",
     "output_type": "stream",
     "text": [
      "Processing Jerry Butler_tracks.parquet:  19%|█▉        | 121/631 [00:30<01:43,  4.91it/s]"
     ]
    },
    {
     "name": "stdout",
     "output_type": "stream",
     "text": [
      "Failed requesting He Will Break Your Heart\n"
     ]
    },
    {
     "name": "stderr",
     "output_type": "stream",
     "text": [
      "Processing Jerry Butler_tracks.parquet:  19%|█▉        | 123/631 [00:31<02:13,  3.80it/s]"
     ]
    },
    {
     "name": "stdout",
     "output_type": "stream",
     "text": [
      "Failed requesting He Will Break Your Heart\n"
     ]
    },
    {
     "name": "stderr",
     "output_type": "stream",
     "text": [
      "Processing Jerry Butler_tracks.parquet:  21%|██        | 132/631 [00:34<01:45,  4.71it/s]"
     ]
    },
    {
     "name": "stdout",
     "output_type": "stream",
     "text": [
      "Failed requesting Come Back My Love\n",
      "Failed requesting Come Back My Love\n",
      "Failed requesting Come Back My Love\n",
      "Failed requesting Come Back My Love\n",
      "Failed requesting Come Back My Love\n",
      "Failed requesting Love Me\n",
      "Failed requesting Love Me\n"
     ]
    },
    {
     "name": "stderr",
     "output_type": "stream",
     "text": [
      "Processing Jerry Butler_tracks.parquet:  22%|██▏       | 139/631 [00:35<01:24,  5.86it/s]"
     ]
    },
    {
     "name": "stdout",
     "output_type": "stream",
     "text": [
      "Failed requesting Couldn't Go To Sleep\n",
      "Failed requesting Couldn't Go To Sleep\n",
      "Failed requesting Find Another Girl\n",
      "Failed requesting Find Another Girl\n",
      "Failed requesting The Gift of Love\n",
      "Failed requesting The Gift of Love\n",
      "Failed requesting Moon River\n",
      "Failed requesting Moon River\n"
     ]
    },
    {
     "name": "stderr",
     "output_type": "stream",
     "text": [
      "Processing Jerry Butler_tracks.parquet:  23%|██▎       | 147/631 [00:35<00:45, 10.68it/s]"
     ]
    },
    {
     "name": "stdout",
     "output_type": "stream",
     "text": [
      "Failed requesting Moon River\n",
      "Failed requesting You Can Run (But You Can't Hide)\n",
      "Failed requesting One By One\n",
      "Failed requesting You've Come Home\n",
      "Failed requesting Shorty's Got to Go\n",
      "Failed requesting I'm the One\n",
      "Failed requesting You Go Right Through Me\n",
      "Failed requesting You Go Right Through Me\n"
     ]
    },
    {
     "name": "stderr",
     "output_type": "stream",
     "text": [
      "Processing Jerry Butler_tracks.parquet:  25%|██▍       | 155/631 [00:35<00:28, 16.98it/s]"
     ]
    },
    {
     "name": "stdout",
     "output_type": "stream",
     "text": [
      "Failed requesting Isle Of Sirens\n",
      "Failed requesting Have a Good Time\n",
      "Failed requesting September Song\n",
      "Failed requesting September Song\n",
      "Failed requesting September Song\n",
      "Failed requesting Chi Town\n",
      "Failed requesting Chi Town\n",
      "Failed requesting Thanks to You\n"
     ]
    },
    {
     "name": "stderr",
     "output_type": "stream",
     "text": [
      "Processing Jerry Butler_tracks.parquet:  26%|██▌       | 163/631 [00:35<00:20, 23.10it/s]"
     ]
    },
    {
     "name": "stdout",
     "output_type": "stream",
     "text": [
      "Failed requesting Thanks to You\n",
      "Failed requesting When Trouble Calls\n",
      "Failed requesting I Need Your Love\n",
      "Failed requesting Good Times\n",
      "Failed requesting Let It Be Me\n",
      "Failed requesting Make It Easy On Yourself\n",
      "Failed requesting Smile, Tho' Your Heart Is Aching\n",
      "Failed requesting Moon River\n"
     ]
    },
    {
     "name": "stderr",
     "output_type": "stream",
     "text": [
      "Processing Jerry Butler_tracks.parquet:  27%|██▋       | 171/631 [00:36<00:16, 28.40it/s]"
     ]
    },
    {
     "name": "stdout",
     "output_type": "stream",
     "text": [
      "Failed requesting He Will Break Your Heart\n",
      "Failed requesting Need To Belong\n",
      "Failed requesting You Can Run (But You Can't Hide)\n",
      "Failed requesting You Can Run (But You Can't Hide)\n",
      "Failed requesting The Wicked Man\n",
      "Failed requesting Giving Up On Love\n",
      "Failed requesting Love Me\n",
      "Failed requesting The Light That Went Out\n"
     ]
    },
    {
     "name": "stderr",
     "output_type": "stream",
     "text": [
      "Processing Jerry Butler_tracks.parquet:  28%|██▊       | 179/631 [00:36<00:14, 30.91it/s]"
     ]
    },
    {
     "name": "stdout",
     "output_type": "stream",
     "text": [
      "Failed requesting For Your Precious Love\n",
      "Failed requesting Aware Of Love\n",
      "Failed requesting A Lonely Soldier\n",
      "Failed requesting Whatever You Want\n",
      "Failed requesting I Stand Accused\n",
      "Failed requesting Is This True Love\n",
      "Failed requesting Find Another Girl\n",
      "Failed requesting Thanks To You\n"
     ]
    },
    {
     "name": "stderr",
     "output_type": "stream",
     "text": [
      "Processing Jerry Butler_tracks.parquet:  30%|██▉       | 187/631 [00:36<00:13, 33.02it/s]"
     ]
    },
    {
     "name": "stdout",
     "output_type": "stream",
     "text": [
      "Failed requesting Find Another Girl\n",
      "Failed requesting He Will Break Your Heart\n",
      "Failed requesting If You Let Me\n",
      "Failed requesting Come Back, My Love\n",
      "Failed requesting Rainbow Valley\n",
      "Failed requesting September Song\n",
      "Failed requesting For Your Precious Love\n",
      "Failed requesting Don't Take Your Love from Me\n"
     ]
    },
    {
     "name": "stderr",
     "output_type": "stream",
     "text": [
      "Processing Jerry Butler_tracks.parquet:  31%|███       | 195/631 [00:36<00:12, 33.79it/s]"
     ]
    },
    {
     "name": "stdout",
     "output_type": "stream",
     "text": [
      "Failed requesting Isle of Sirens\n",
      "Failed requesting The Challenge\n",
      "Failed requesting Lost\n",
      "Failed requesting You Can Run (But You Can't Hide)\n",
      "Failed requesting The Gift of Love\n",
      "Failed requesting A Lonely Soldier\n",
      "Failed requesting I Was Wrong\n"
     ]
    },
    {
     "name": "stderr",
     "output_type": "stream",
     "text": [
      "Processing Jerry Butler_tracks.parquet:  32%|███▏      | 203/631 [00:37<00:12, 35.00it/s]"
     ]
    },
    {
     "name": "stdout",
     "output_type": "stream",
     "text": [
      "Failed requesting Moon River\n",
      "Failed requesting O Holy Night\n",
      "Failed requesting Chi Town\n",
      "Failed requesting Thanks to You\n",
      "Failed requesting You Go Right Through Me\n",
      "Failed requesting For Your Precious Love\n",
      "Failed requesting For Your Precious Love\n",
      "Failed requesting For Your Precious Love\n"
     ]
    },
    {
     "name": "stderr",
     "output_type": "stream",
     "text": [
      "Processing Jerry Butler_tracks.parquet:  33%|███▎      | 210/631 [00:42<02:42,  2.59it/s]"
     ]
    },
    {
     "name": "stdout",
     "output_type": "stream",
     "text": [
      "Failed requesting Message To Martha\n",
      "Failed requesting Message To Martha\n"
     ]
    },
    {
     "name": "stderr",
     "output_type": "stream",
     "text": [
      "Processing Jerry Butler_tracks.parquet:  36%|███▌      | 228/631 [00:58<06:51,  1.02s/it]"
     ]
    },
    {
     "name": "stdout",
     "output_type": "stream",
     "text": [
      "Failed requesting Giving Up On Love\n",
      "Failed requesting Giving Up On Love\n",
      "Failed requesting Find Another Girl\n"
     ]
    },
    {
     "name": "stderr",
     "output_type": "stream",
     "text": [
      "Processing Jerry Butler_tracks.parquet:  37%|███▋      | 232/631 [01:00<03:41,  1.80it/s]"
     ]
    },
    {
     "name": "stdout",
     "output_type": "stream",
     "text": [
      "Failed requesting Moon River\n",
      "Failed requesting I Stand Accused\n",
      "Failed requesting Let It Be Me\n"
     ]
    },
    {
     "name": "stderr",
     "output_type": "stream",
     "text": [
      "Processing Jerry Butler_tracks.parquet:  38%|███▊      | 237/631 [01:02<03:22,  1.95it/s]"
     ]
    },
    {
     "name": "stdout",
     "output_type": "stream",
     "text": [
      "Failed requesting High Heel Sneakers\n"
     ]
    },
    {
     "name": "stderr",
     "output_type": "stream",
     "text": [
      "Processing Jerry Butler_tracks.parquet:  38%|███▊      | 241/631 [01:05<04:30,  1.44it/s]"
     ]
    },
    {
     "name": "stdout",
     "output_type": "stream",
     "text": [
      "Failed requesting Portrait of My Love\n"
     ]
    },
    {
     "name": "stderr",
     "output_type": "stream",
     "text": [
      "Processing Jerry Butler_tracks.parquet:  39%|███▊      | 243/631 [01:06<04:06,  1.57it/s]"
     ]
    },
    {
     "name": "stdout",
     "output_type": "stream",
     "text": [
      "Failed requesting I'm Going Back To School\n"
     ]
    },
    {
     "name": "stderr",
     "output_type": "stream",
     "text": [
      "Processing Jerry Butler_tracks.parquet:  42%|████▏     | 262/631 [01:25<06:22,  1.04s/it]"
     ]
    },
    {
     "name": "stdout",
     "output_type": "stream",
     "text": [
      "Failed requesting It's Too Late\n",
      "Failed requesting It's Too Late\n"
     ]
    },
    {
     "name": "stderr",
     "output_type": "stream",
     "text": [
      "Processing Jerry Butler_tracks.parquet:  42%|████▏     | 265/631 [01:26<04:01,  1.52it/s]"
     ]
    },
    {
     "name": "stdout",
     "output_type": "stream",
     "text": [
      "Failed requesting Honey Babe\n"
     ]
    },
    {
     "name": "stderr",
     "output_type": "stream",
     "text": [
      "Processing Jerry Butler_tracks.parquet:  42%|████▏     | 268/631 [01:28<04:13,  1.43it/s]"
     ]
    },
    {
     "name": "stdout",
     "output_type": "stream",
     "text": [
      "Failed requesting Key to the Highway\n"
     ]
    },
    {
     "name": "stderr",
     "output_type": "stream",
     "text": [
      "Processing Jerry Butler_tracks.parquet:  43%|████▎     | 274/631 [01:29<01:57,  3.04it/s]"
     ]
    },
    {
     "name": "stdout",
     "output_type": "stream",
     "text": [
      "Failed requesting The Intoxicated Rat\n",
      "Failed requesting Johnny-O\n",
      "Failed requesting It's My Lazy Day\n",
      "Failed requesting Child of the Engineer\n"
     ]
    },
    {
     "name": "stderr",
     "output_type": "stream",
     "text": [
      "Processing Jerry Butler_tracks.parquet:  47%|████▋     | 295/631 [01:47<02:13,  2.51it/s]"
     ]
    },
    {
     "name": "stdout",
     "output_type": "stream",
     "text": [
      "Failed requesting A Lonely Soldier\n",
      "Failed requesting A Lonely Soldier\n",
      "Failed requesting A Lonely Soldier\n",
      "Failed requesting A Lonely Soldier\n",
      "Failed requesting A Lonely Soldier\n",
      "Failed requesting A Lonely Soldier\n"
     ]
    },
    {
     "name": "stderr",
     "output_type": "stream",
     "text": [
      "Processing Jerry Butler_tracks.parquet:  47%|████▋     | 298/631 [01:48<02:08,  2.60it/s]"
     ]
    },
    {
     "name": "stdout",
     "output_type": "stream",
     "text": [
      "Failed requesting Whatever You Want\n",
      "Failed requesting Whatever You Want\n"
     ]
    },
    {
     "name": "stderr",
     "output_type": "stream",
     "text": [
      "Processing Jerry Butler_tracks.parquet:  48%|████▊     | 305/631 [01:49<01:16,  4.26it/s]"
     ]
    },
    {
     "name": "stdout",
     "output_type": "stream",
     "text": [
      "Failed requesting You Can Run (But You Can't Hide)\n",
      "Failed requesting Thanks to You\n",
      "Failed requesting A Lonely Soldier\n",
      "Failed requesting A Lonely Soldier\n",
      "Failed requesting A Lonely Soldier\n",
      "Failed requesting A Lonely Soldier\n",
      "Failed requesting A Lonely Soldier\n"
     ]
    },
    {
     "name": "stderr",
     "output_type": "stream",
     "text": [
      "Processing Jerry Butler_tracks.parquet:  49%|████▉     | 310/631 [01:49<00:46,  6.84it/s]"
     ]
    },
    {
     "name": "stdout",
     "output_type": "stream",
     "text": [
      "Failed requesting A Lonely Soldier\n",
      "Failed requesting The Gift of Love\n",
      "Failed requesting The Gift of Love\n"
     ]
    },
    {
     "name": "stderr",
     "output_type": "stream",
     "text": [
      "Processing Jerry Butler_tracks.parquet:  50%|████▉     | 315/631 [01:52<01:47,  2.93it/s]"
     ]
    },
    {
     "name": "stdout",
     "output_type": "stream",
     "text": [
      "Failed requesting You Go Right Through Me\n",
      "Failed requesting You Go Right Through Me\n"
     ]
    },
    {
     "name": "stderr",
     "output_type": "stream",
     "text": [
      "Processing Jerry Butler_tracks.parquet:  51%|█████     | 323/631 [01:56<01:34,  3.28it/s]"
     ]
    },
    {
     "name": "stdout",
     "output_type": "stream",
     "text": [
      "Failed requesting Chi Town\n",
      "Failed requesting Chi Town\n",
      "Failed requesting Thanks to You\n",
      "Failed requesting Thanks to You\n",
      "Failed requesting Come Back, My Love\n"
     ]
    },
    {
     "name": "stderr",
     "output_type": "stream",
     "text": [
      "Processing Jerry Butler_tracks.parquet:  52%|█████▏    | 327/631 [01:59<02:45,  1.84it/s]"
     ]
    },
    {
     "name": "stdout",
     "output_type": "stream",
     "text": [
      "Failed requesting If You Let Me\n",
      "Failed requesting Rainbow Valley\n"
     ]
    },
    {
     "name": "stderr",
     "output_type": "stream",
     "text": [
      "Processing Jerry Butler_tracks.parquet:  53%|█████▎    | 334/631 [02:00<01:28,  3.36it/s]"
     ]
    },
    {
     "name": "stdout",
     "output_type": "stream",
     "text": [
      "Failed requesting Don't Take Your Love from Me\n",
      "Failed requesting Don't Take Your Love from Me\n",
      "Failed requesting The Challenge\n",
      "Failed requesting Lost\n",
      "Failed requesting No End or Time\n",
      "Failed requesting Isle of Sirens\n",
      "Failed requesting I Was Wrong\n"
     ]
    },
    {
     "name": "stderr",
     "output_type": "stream",
     "text": [
      "Processing Jerry Butler_tracks.parquet:  54%|█████▍    | 342/631 [02:00<00:40,  7.14it/s]"
     ]
    },
    {
     "name": "stdout",
     "output_type": "stream",
     "text": [
      "Failed requesting A Lonely Soldier\n",
      "Failed requesting Thanks to You\n",
      "Failed requesting Sweet Was the Wine\n",
      "Failed requesting Butterfly\n",
      "Failed requesting After the Laughter\n",
      "Failed requesting The Lights Went Out\n"
     ]
    },
    {
     "name": "stderr",
     "output_type": "stream",
     "text": [
      "Processing Jerry Butler_tracks.parquet:  55%|█████▌    | 349/631 [02:01<00:24, 11.40it/s]"
     ]
    },
    {
     "name": "stdout",
     "output_type": "stream",
     "text": [
      "Failed requesting I Found a Love\n",
      "Failed requesting Where Do I Turn\n",
      "Failed requesting Aware of Love\n",
      "Failed requesting When Trouble Calls\n",
      "Failed requesting When Trouble Calls\n",
      "Failed requesting Without Your Love\n",
      "Failed requesting Couldn't Go to Sleep\n",
      "Failed requesting Couldn't Go to Sleep\n"
     ]
    },
    {
     "name": "stderr",
     "output_type": "stream",
     "text": [
      "Processing Jerry Butler_tracks.parquet:  56%|█████▋    | 356/631 [02:02<00:32,  8.48it/s]"
     ]
    },
    {
     "name": "stdout",
     "output_type": "stream",
     "text": [
      "Failed requesting The Wicked Man\n",
      "Failed requesting I See a Fool\n",
      "Failed requesting I See a Fool\n",
      "Failed requesting Love Me\n",
      "Failed requesting One by One\n",
      "Failed requesting One by One\n",
      "Failed requesting Is This True Love\n"
     ]
    },
    {
     "name": "stderr",
     "output_type": "stream",
     "text": [
      "Processing Jerry Butler_tracks.parquet:  57%|█████▋    | 360/631 [02:02<00:24, 11.19it/s]"
     ]
    },
    {
     "name": "stdout",
     "output_type": "stream",
     "text": [
      "Failed requesting Find Another Girl\n",
      "Failed requesting He Will Break Your Heart\n",
      "Failed requesting He Will Break Your Heart\n"
     ]
    },
    {
     "name": "stderr",
     "output_type": "stream",
     "text": [
      "Processing Jerry Butler_tracks.parquet:  58%|█████▊    | 363/631 [02:03<00:43,  6.13it/s]"
     ]
    },
    {
     "name": "stdout",
     "output_type": "stream",
     "text": [
      "Failed requesting He Will Break Your Heart\n",
      "Failed requesting He Will Break Your Heart\n",
      "Failed requesting He Will Break Your Heart\n",
      "Failed requesting He Will Break Your Heart\n"
     ]
    },
    {
     "name": "stderr",
     "output_type": "stream",
     "text": [
      "Processing Jerry Butler_tracks.parquet:  58%|█████▊    | 368/631 [02:04<00:49,  5.35it/s]"
     ]
    },
    {
     "name": "stdout",
     "output_type": "stream",
     "text": [
      "Failed requesting He Will Break Your Heart\n"
     ]
    },
    {
     "name": "stderr",
     "output_type": "stream",
     "text": [
      "Processing Jerry Butler_tracks.parquet:  59%|█████▉    | 375/631 [02:05<00:41,  6.24it/s]"
     ]
    },
    {
     "name": "stdout",
     "output_type": "stream",
     "text": [
      "Failed requesting A Lonely Soldier\n",
      "Failed requesting A Lonely Soldier\n",
      "Failed requesting A Lonely Soldier\n",
      "Failed requesting A Lonely Soldier\n",
      "Failed requesting A Lonely Soldier\n",
      "Failed requesting A Lonely Soldier\n",
      "Failed requesting The Gift of Love\n",
      "Failed requesting Teardrops from My Eyes\n"
     ]
    },
    {
     "name": "stderr",
     "output_type": "stream",
     "text": [
      "Processing Jerry Butler_tracks.parquet:  61%|██████    | 383/631 [02:06<00:22, 10.83it/s]"
     ]
    },
    {
     "name": "stdout",
     "output_type": "stream",
     "text": [
      "Failed requesting Give Me Your Love\n",
      "Failed requesting Have a Good Time\n",
      "Failed requesting Thanks to You\n",
      "Failed requesting Sweet Was the Wine\n",
      "Failed requesting Butterfly\n",
      "Failed requesting After the Laughter\n",
      "Failed requesting The Lights Went Out\n",
      "Failed requesting The Lights Went Out\n"
     ]
    },
    {
     "name": "stderr",
     "output_type": "stream",
     "text": [
      "Processing Jerry Butler_tracks.parquet:  61%|██████▏   | 387/631 [02:06<00:17, 13.64it/s]"
     ]
    },
    {
     "name": "stdout",
     "output_type": "stream",
     "text": [
      "Failed requesting The Lights Went Out\n",
      "Failed requesting I Found a Love\n",
      "Failed requesting Make It Easy on Yourself\n",
      "Failed requesting Make It Easy on Yourself\n"
     ]
    },
    {
     "name": "stderr",
     "output_type": "stream",
     "text": [
      "Processing Jerry Butler_tracks.parquet:  62%|██████▏   | 391/631 [02:07<00:32,  7.37it/s]"
     ]
    },
    {
     "name": "stdout",
     "output_type": "stream",
     "text": [
      "Failed requesting Need To Belong\n",
      "Failed requesting Need To Belong\n",
      "Failed requesting Need To Belong\n"
     ]
    },
    {
     "name": "stderr",
     "output_type": "stream",
     "text": [
      "Processing Jerry Butler_tracks.parquet:  63%|██████▎   | 395/631 [02:08<00:41,  5.64it/s]"
     ]
    },
    {
     "name": "stdout",
     "output_type": "stream",
     "text": [
      "Failed requesting He Will Break Your Heart\n"
     ]
    },
    {
     "name": "stderr",
     "output_type": "stream",
     "text": [
      "Processing Jerry Butler_tracks.parquet:  63%|██████▎   | 397/631 [02:09<00:55,  4.18it/s]"
     ]
    },
    {
     "name": "stdout",
     "output_type": "stream",
     "text": [
      "Failed requesting He Will Break Your Heart\n"
     ]
    },
    {
     "name": "stderr",
     "output_type": "stream",
     "text": [
      "Processing Jerry Butler_tracks.parquet:  64%|██████▍   | 404/631 [02:10<00:41,  5.49it/s]"
     ]
    },
    {
     "name": "stdout",
     "output_type": "stream",
     "text": [
      "Failed requesting He Will Break Your Heart\n",
      "Failed requesting He Will Break Your Heart\n",
      "Failed requesting He Will Break Your Heart\n",
      "Failed requesting He Will Break Your Heart\n",
      "Failed requesting Whatever You Want\n",
      "Failed requesting Whatever You Want\n",
      "Failed requesting Whatever You Want\n",
      "Failed requesting For Your Precious Love\n"
     ]
    },
    {
     "name": "stderr",
     "output_type": "stream",
     "text": [
      "Processing Jerry Butler_tracks.parquet:  65%|██████▌   | 412/631 [02:10<00:21, 10.09it/s]"
     ]
    },
    {
     "name": "stdout",
     "output_type": "stream",
     "text": [
      "Failed requesting Moon River\n",
      "Failed requesting Find Another Girl\n",
      "Failed requesting I'm Telling You\n",
      "Failed requesting You Can Run (But You Can't Hid)\n",
      "Failed requesting The Wishing Star (Theme from Taras Bulba)\n",
      "Failed requesting For Your Precious Love\n",
      "Failed requesting For Your Precious Love\n",
      "Failed requesting For Your Precious Love\n"
     ]
    },
    {
     "name": "stderr",
     "output_type": "stream",
     "text": [
      "Processing Jerry Butler_tracks.parquet:  67%|██████▋   | 422/631 [02:11<00:11, 18.22it/s]"
     ]
    },
    {
     "name": "stdout",
     "output_type": "stream",
     "text": [
      "Failed requesting For Your Precious Love\n",
      "Failed requesting For Your Precious Love\n",
      "Failed requesting For Your Precious Love\n",
      "Failed requesting For Your Precious Love\n",
      "Failed requesting For Your Precious Love\n",
      "Failed requesting He Will Break Your Heart\n",
      "Failed requesting He Will Break Your Heart\n",
      "Failed requesting He Will Break Your Heart\n",
      "Failed requesting He Will Break Your Heart\n"
     ]
    },
    {
     "name": "stderr",
     "output_type": "stream",
     "text": [
      "Processing Jerry Butler_tracks.parquet:  68%|██████▊   | 432/631 [02:11<00:07, 26.69it/s]"
     ]
    },
    {
     "name": "stdout",
     "output_type": "stream",
     "text": [
      "Failed requesting He Will Break Your Heart\n",
      "Failed requesting He Will Break Your Heart\n",
      "Failed requesting He Will Break Your Heart\n",
      "Failed requesting He Will Break Your Heart\n",
      "Failed requesting He Will Break Your Heart\n",
      "Failed requesting Come Back My Love\n",
      "Failed requesting Come Back My Love\n",
      "Failed requesting Come Back My Love\n",
      "Failed requesting Come Back My Love\n"
     ]
    },
    {
     "name": "stderr",
     "output_type": "stream",
     "text": [
      "Processing Jerry Butler_tracks.parquet:  70%|███████   | 442/631 [02:11<00:05, 33.08it/s]"
     ]
    },
    {
     "name": "stdout",
     "output_type": "stream",
     "text": [
      "Failed requesting Come Back My Love\n",
      "Failed requesting The Gift Of Love\n",
      "Failed requesting The Gift Of Love\n",
      "Failed requesting A Lonely Soldier\n",
      "Failed requesting A Lonely Soldier\n",
      "Failed requesting A Lonely Soldier\n",
      "Failed requesting A Lonely Soldier\n",
      "Failed requesting A Lonely Soldier\n",
      "Failed requesting A Lonely Soldier\n"
     ]
    },
    {
     "name": "stderr",
     "output_type": "stream",
     "text": [
      "Processing Jerry Butler_tracks.parquet:  71%|███████   | 447/631 [02:11<00:05, 35.14it/s]"
     ]
    },
    {
     "name": "stdout",
     "output_type": "stream",
     "text": [
      "Failed requesting September Song\n",
      "Failed requesting September Song\n",
      "Failed requesting September Song\n",
      "Failed requesting Don't Take Your Love from Me\n",
      "Failed requesting Don't Take Your Love from Me\n",
      "Failed requesting If You Let Me - Remastered\n",
      "Failed requesting The Challenge - Remastered\n"
     ]
    },
    {
     "name": "stderr",
     "output_type": "stream",
     "text": [
      "Processing Jerry Butler_tracks.parquet:  72%|███████▏  | 452/631 [02:11<00:05, 31.58it/s]"
     ]
    },
    {
     "name": "stdout",
     "output_type": "stream",
     "text": [
      "Failed requesting Chi Town - Remastered\n",
      "Failed requesting Rainbow Valley - Remastered\n",
      "Failed requesting Lost - Remastered\n",
      "Failed requesting No End or Time - Remastered\n",
      "Failed requesting You Go Right Through Me - Remastered\n",
      "Failed requesting Teardrops from My Eyes - Remastered\n"
     ]
    },
    {
     "name": "stderr",
     "output_type": "stream",
     "text": [
      "Processing Jerry Butler_tracks.parquet:  73%|███████▎  | 460/631 [02:12<00:05, 33.09it/s]"
     ]
    },
    {
     "name": "stdout",
     "output_type": "stream",
     "text": [
      "Failed requesting Give Me Your Love - Remastered\n",
      "Failed requesting Have a Good Time - Remastered\n",
      "Failed requesting Thanks to You - Remastered\n",
      "Failed requesting Sweet Was the Wine - Remastered\n",
      "Failed requesting Butterfly - Remastered\n",
      "Failed requesting For Your Precious Love\n",
      "Failed requesting For Your Precious Love\n",
      "Failed requesting For Your Precious Love\n",
      "Failed requesting For Your Precious Love\n"
     ]
    },
    {
     "name": "stderr",
     "output_type": "stream",
     "text": [
      "Processing Jerry Butler_tracks.parquet:  74%|███████▍  | 470/631 [02:12<00:04, 38.15it/s]"
     ]
    },
    {
     "name": "stdout",
     "output_type": "stream",
     "text": [
      "Failed requesting For Your Precious Love\n",
      "Failed requesting For Your Precious Love\n",
      "Failed requesting For Your Precious Love\n",
      "Failed requesting For Your Precious Love\n",
      "Failed requesting He Will Break Your Heart\n",
      "Failed requesting He Will Break Your Heart\n",
      "Failed requesting He Will Break Your Heart\n",
      "Failed requesting He Will Break Your Heart\n",
      "Failed requesting He Will Break Your Heart\n",
      "Failed requesting He Will Break Your Heart\n"
     ]
    },
    {
     "name": "stderr",
     "output_type": "stream",
     "text": [
      "Processing Jerry Butler_tracks.parquet:  76%|███████▌  | 480/631 [02:12<00:03, 40.89it/s]"
     ]
    },
    {
     "name": "stdout",
     "output_type": "stream",
     "text": [
      "Failed requesting He Will Break Your Heart\n",
      "Failed requesting He Will Break Your Heart\n",
      "Failed requesting He Will Break Your Heart\n",
      "Failed requesting Make It Easy On Yourself\n",
      "Failed requesting Make It Easy On Yourself\n",
      "Failed requesting Make It Easy On Yourself\n",
      "Failed requesting Make It Easy On Yourself\n",
      "Failed requesting Come Back My Love\n",
      "Failed requesting Come Back My Love\n",
      "Failed requesting Come Back My Love\n"
     ]
    },
    {
     "name": "stderr",
     "output_type": "stream",
     "text": [
      "Processing Jerry Butler_tracks.parquet:  78%|███████▊  | 490/631 [02:12<00:03, 42.36it/s]"
     ]
    },
    {
     "name": "stdout",
     "output_type": "stream",
     "text": [
      "Failed requesting Come Back My Love\n",
      "Failed requesting Come Back My Love\n",
      "Failed requesting Love Me\n",
      "Failed requesting Love Me\n",
      "Failed requesting Love Me\n",
      "Failed requesting Rainbow Valley\n",
      "Failed requesting Rainbow Valley\n",
      "Failed requesting Rainbow Valley\n",
      "Failed requesting I Was Wrong\n"
     ]
    },
    {
     "name": "stderr",
     "output_type": "stream",
     "text": [
      "Processing Jerry Butler_tracks.parquet:  78%|███████▊  | 495/631 [02:12<00:03, 42.44it/s]"
     ]
    },
    {
     "name": "stdout",
     "output_type": "stream",
     "text": [
      "Failed requesting I Was Wrong\n",
      "Failed requesting I Was Wrong\n",
      "Failed requesting I Was Wrong\n",
      "Failed requesting A Lonely Soldier\n",
      "Failed requesting A Lonely Soldier\n",
      "Failed requesting A Lonely Soldier\n",
      "Failed requesting A Lonely Soldier\n"
     ]
    },
    {
     "name": "stderr",
     "output_type": "stream",
     "text": [
      "Processing Jerry Butler_tracks.parquet:  80%|████████  | 505/631 [02:13<00:03, 39.46it/s]"
     ]
    },
    {
     "name": "stdout",
     "output_type": "stream",
     "text": [
      "Failed requesting A Lonely Soldier\n",
      "Failed requesting A Lonely Soldier\n",
      "Failed requesting Moon River\n",
      "Failed requesting Moon River\n",
      "Failed requesting Moon River\n",
      "Failed requesting You Can Run (But You Can't Hide)\n",
      "Failed requesting You Can Run (But You Can't Hide)\n",
      "Failed requesting When Trouble Calls\n"
     ]
    },
    {
     "name": "stderr",
     "output_type": "stream",
     "text": [
      "Processing Jerry Butler_tracks.parquet:  82%|████████▏ | 515/631 [02:13<00:02, 39.61it/s]"
     ]
    },
    {
     "name": "stdout",
     "output_type": "stream",
     "text": [
      "Failed requesting When Trouble Calls\n",
      "Failed requesting Couldn't Go to Sleep\n",
      "Failed requesting Couldn't Go to Sleep\n",
      "Failed requesting I See a Fool\n",
      "Failed requesting I See a Fool\n",
      "Failed requesting One by One\n",
      "Failed requesting One by One\n",
      "Failed requesting The Lights Went Out\n",
      "Failed requesting The Lights Went Out\n"
     ]
    },
    {
     "name": "stderr",
     "output_type": "stream",
     "text": [
      "Processing Jerry Butler_tracks.parquet:  82%|████████▏ | 520/631 [02:13<00:02, 38.82it/s]"
     ]
    },
    {
     "name": "stdout",
     "output_type": "stream",
     "text": [
      "Failed requesting The Lights Went Out\n",
      "Failed requesting No End or Time\n",
      "Failed requesting Teardrops from My Eyes\n",
      "Failed requesting I'm Telling You\n",
      "Failed requesting Sweet Was the Wine\n",
      "Failed requesting It's Too Late\n",
      "Failed requesting The Lights Went Out\n"
     ]
    },
    {
     "name": "stderr",
     "output_type": "stream",
     "text": [
      "Processing Jerry Butler_tracks.parquet:  84%|████████▎ | 528/631 [02:13<00:02, 35.35it/s]"
     ]
    },
    {
     "name": "stdout",
     "output_type": "stream",
     "text": [
      "Failed requesting Give Me Your Love\n",
      "Failed requesting I Found a Love\n",
      "Failed requesting Find Another Girl\n",
      "Failed requesting Without Your Love\n",
      "Failed requesting Teardrops from My Eyes\n",
      "Failed requesting Thanks to You\n",
      "Failed requesting I'm a Telling You\n",
      "Failed requesting Love Me\n"
     ]
    },
    {
     "name": "stderr",
     "output_type": "stream",
     "text": [
      "Processing Jerry Butler_tracks.parquet:  85%|████████▍ | 536/631 [02:13<00:02, 35.65it/s]"
     ]
    },
    {
     "name": "stdout",
     "output_type": "stream",
     "text": [
      "Failed requesting He Will Break Your Heart\n",
      "Failed requesting Aware of Love\n",
      "Failed requesting One by One\n",
      "Failed requesting Whatever You Want\n",
      "Failed requesting Whatever You Want\n",
      "Failed requesting Whatever You Want\n",
      "Failed requesting Moon River\n"
     ]
    },
    {
     "name": "stderr",
     "output_type": "stream",
     "text": [
      "Processing Jerry Butler_tracks.parquet:  86%|████████▌ | 544/631 [02:14<00:02, 33.64it/s]"
     ]
    },
    {
     "name": "stdout",
     "output_type": "stream",
     "text": [
      "Failed requesting Aware Of Love\n",
      "Failed requesting Giving Up On Love\n",
      "Failed requesting He Will Break Your Heart\n",
      "Failed requesting It's Too Late\n",
      "Failed requesting Theme From \"Taras Bulba\" (The Wishing Star)\n",
      "Failed requesting Need to Belong\n",
      "Failed requesting Find Another Girl\n",
      "Failed requesting Good Times\n"
     ]
    },
    {
     "name": "stderr",
     "output_type": "stream",
     "text": [
      "Processing Jerry Butler_tracks.parquet:  87%|████████▋ | 548/631 [02:14<00:02, 33.62it/s]"
     ]
    },
    {
     "name": "stdout",
     "output_type": "stream",
     "text": [
      "Failed requesting For Your Precious Love\n",
      "Failed requesting Sweet Was The Wine\n",
      "Failed requesting Make It Easy On Yourself\n",
      "Failed requesting I Stand Accused\n",
      "Failed requesting I'm a Telling You\n"
     ]
    },
    {
     "name": "stderr",
     "output_type": "stream",
     "text": [
      "Processing Jerry Butler_tracks.parquet:  88%|████████▊ | 556/631 [02:14<00:02, 31.18it/s]"
     ]
    },
    {
     "name": "stdout",
     "output_type": "stream",
     "text": [
      "Failed requesting Thanks To You.wav\n",
      "Failed requesting For Your Precious Love\n",
      "Failed requesting For Your Precious Love\n",
      "Failed requesting For Your Precious Love\n",
      "Failed requesting For Your Precious Love\n",
      "Failed requesting For Your Precious Love\n",
      "Failed requesting For Your Precious Love\n",
      "Failed requesting For Your Precious Love\n",
      "Failed requesting For Your Precious Love\n"
     ]
    },
    {
     "name": "stderr",
     "output_type": "stream",
     "text": [
      "Processing Jerry Butler_tracks.parquet:  90%|████████▉ | 566/631 [02:14<00:01, 37.43it/s]"
     ]
    },
    {
     "name": "stdout",
     "output_type": "stream",
     "text": [
      "Failed requesting He Will Break Your Heart\n",
      "Failed requesting He Will Break Your Heart\n",
      "Failed requesting He Will Break Your Heart\n",
      "Failed requesting He Will Break Your Heart\n",
      "Failed requesting He Will Break Your Heart\n",
      "Failed requesting He Will Break Your Heart\n",
      "Failed requesting He Will Break Your Heart\n",
      "Failed requesting He Will Break Your Heart\n",
      "Failed requesting He Will Break Your Heart\n"
     ]
    },
    {
     "name": "stderr",
     "output_type": "stream",
     "text": [
      "Processing Jerry Butler_tracks.parquet:  91%|█████████ | 575/631 [02:15<00:01, 36.42it/s]"
     ]
    },
    {
     "name": "stdout",
     "output_type": "stream",
     "text": [
      "Failed requesting After the Laughter\n",
      "Failed requesting Dont Take Your Love from Me\n",
      "Failed requesting I'm a Telling You\n",
      "Failed requesting Butterfly\n",
      "Failed requesting Give Me Your Love\n",
      "Failed requesting I See a Fool\n",
      "Failed requesting Lost\n",
      "Failed requesting Sweet Was the Wine\n"
     ]
    },
    {
     "name": "stderr",
     "output_type": "stream",
     "text": [
      "Processing Jerry Butler_tracks.parquet:  92%|█████████▏| 579/631 [02:16<00:05, 10.23it/s]"
     ]
    },
    {
     "name": "stdout",
     "output_type": "stream",
     "text": [
      "Failed requesting Couldnt Go to Sleep\n",
      "Failed requesting Have a Good Time\n",
      "Failed requesting A Lonely Soldier\n"
     ]
    },
    {
     "name": "stderr",
     "output_type": "stream",
     "text": [
      "Processing Jerry Butler_tracks.parquet:  92%|█████████▏| 583/631 [02:17<00:07,  6.67it/s]"
     ]
    },
    {
     "name": "stdout",
     "output_type": "stream",
     "text": [
      "Failed requesting Is It True Love\n",
      "Failed requesting Without Your Love\n"
     ]
    },
    {
     "name": "stderr",
     "output_type": "stream",
     "text": [
      "Processing Jerry Butler_tracks.parquet:  93%|█████████▎| 586/631 [02:18<00:09,  4.99it/s]"
     ]
    },
    {
     "name": "stdout",
     "output_type": "stream",
     "text": [
      "Failed requesting One by One\n"
     ]
    },
    {
     "name": "stderr",
     "output_type": "stream",
     "text": [
      "Processing Jerry Butler_tracks.parquet:  94%|█████████▍| 593/631 [02:19<00:06,  5.99it/s]"
     ]
    },
    {
     "name": "stdout",
     "output_type": "stream",
     "text": [
      "Failed requesting For Your Precious Love\n",
      "Failed requesting For Your Precious Love\n",
      "Failed requesting For Your Precious Love\n",
      "Failed requesting For Your Precious Love\n",
      "Failed requesting For Your Precious Love\n",
      "Failed requesting For Your Precious Love\n"
     ]
    },
    {
     "name": "stderr",
     "output_type": "stream",
     "text": [
      "Processing Jerry Butler_tracks.parquet:  96%|█████████▌| 603/631 [02:22<00:05,  4.69it/s]"
     ]
    },
    {
     "name": "stdout",
     "output_type": "stream",
     "text": [
      "Failed requesting He Will Break Your Heart\n",
      "Failed requesting He Will Break Your Heart\n",
      "Failed requesting He Will Break Your Heart\n",
      "Failed requesting He Will Break Your Heart\n",
      "Failed requesting He Will Break Your Heart\n",
      "Failed requesting He Will Break Your Heart\n",
      "Failed requesting He Will Break Your Heart\n",
      "Failed requesting He Will Break Your Heart\n",
      "Failed requesting Come Back My Love\n",
      "Failed requesting Come Back My Love\n"
     ]
    },
    {
     "name": "stderr",
     "output_type": "stream",
     "text": [
      "Processing Jerry Butler_tracks.parquet:  97%|█████████▋| 613/631 [02:23<00:01,  9.80it/s]"
     ]
    },
    {
     "name": "stdout",
     "output_type": "stream",
     "text": [
      "Failed requesting Come Back My Love\n",
      "Failed requesting Come Back My Love\n",
      "Failed requesting Come Back My Love\n",
      "Failed requesting Rainbow Valley\n",
      "Failed requesting Rainbow Valley\n",
      "Failed requesting Rainbow Valley\n",
      "Failed requesting I Was Wrong\n",
      "Failed requesting I Was Wrong\n",
      "Failed requesting I Was Wrong\n"
     ]
    },
    {
     "name": "stderr",
     "output_type": "stream",
     "text": [
      "Processing Jerry Butler_tracks.parquet:  99%|█████████▊| 622/631 [02:23<00:00, 15.87it/s]"
     ]
    },
    {
     "name": "stdout",
     "output_type": "stream",
     "text": [
      "Failed requesting I Was Wrong\n",
      "Failed requesting The Lights Went Out\n",
      "Failed requesting The Lights Went Out\n",
      "Failed requesting The Lights Went Out\n",
      "Failed requesting If You Let Me\n",
      "Failed requesting Give Me Your Love\n"
     ]
    },
    {
     "name": "stderr",
     "output_type": "stream",
     "text": [
      "Processing Jerry Butler_tracks.parquet:  99%|█████████▉| 626/631 [02:23<00:00, 16.90it/s]"
     ]
    },
    {
     "name": "stdout",
     "output_type": "stream",
     "text": [
      "Failed requesting Lost\n",
      "Failed requesting Listen\n",
      "Failed requesting Moody Woman\n",
      "Failed requesting One Night Affair\n",
      "Failed requesting I'm Telling You\n",
      "Failed requesting Never Give You Up\n"
     ]
    },
    {
     "name": "stderr",
     "output_type": "stream",
     "text": [
      "Processing Jerry Butler_tracks.parquet: 100%|██████████| 631/631 [02:23<00:00,  4.39it/s]\n",
      "Processing Jerry Cantrell_tracks.parquet:   0%|          | 0/223 [00:00<?, ?it/s]"
     ]
    },
    {
     "name": "stdout",
     "output_type": "stream",
     "text": [
      "Failed requesting I Dig You Baby\n",
      "Failed requesting The Challenge\n",
      "Failed requesting Hey, Western Union Man\n"
     ]
    },
    {
     "name": "stderr",
     "output_type": "stream",
     "text": [
      "Processing Jerry Cantrell_tracks.parquet:   2%|▏         | 4/223 [00:00<00:05, 37.01it/s]"
     ]
    },
    {
     "name": "stdout",
     "output_type": "stream",
     "text": [
      "Failed requesting Atone\n",
      "Failed requesting Brighten\n",
      "Failed requesting Prism of Doubt\n",
      "Failed requesting Black Hearts and Evil Done\n",
      "Failed requesting Siren Song\n",
      "Failed requesting Had to Know\n",
      "Failed requesting Nobody Breaks You\n",
      "Failed requesting Dismembered\n",
      "Failed requesting Goodbye\n"
     ]
    },
    {
     "name": "stderr",
     "output_type": "stream",
     "text": [
      "Processing Jerry Cantrell_tracks.parquet:   6%|▌         | 13/223 [00:00<00:06, 32.37it/s]"
     ]
    },
    {
     "name": "stdout",
     "output_type": "stream",
     "text": [
      "Failed requesting Psychotic Break\n",
      "Failed requesting Bargain Basement Howard Hughes\n",
      "Failed requesting Owned\n",
      "Failed requesting Angel Eyes\n",
      "Failed requesting Solitude\n",
      "Failed requesting Mother's Spinning in Her Grave (Glass Dick Jones)\n"
     ]
    },
    {
     "name": "stderr",
     "output_type": "stream",
     "text": [
      "Processing Jerry Cantrell_tracks.parquet:  10%|█         | 23/223 [00:00<00:05, 37.35it/s]"
     ]
    },
    {
     "name": "stdout",
     "output_type": "stream",
     "text": [
      "Failed requesting Hellbound\n",
      "Failed requesting Spiderbite\n",
      "Failed requesting Pro False Idol\n",
      "Failed requesting Feel the Void\n",
      "Failed requesting Locked On\n",
      "Failed requesting Gone\n",
      "Failed requesting Castaway\n",
      "Failed requesting Chemical Tribe\n",
      "Failed requesting What It Takes\n"
     ]
    },
    {
     "name": "stderr",
     "output_type": "stream",
     "text": [
      "Processing Jerry Cantrell_tracks.parquet:  13%|█▎        | 28/223 [00:00<00:05, 38.91it/s]"
     ]
    },
    {
     "name": "stdout",
     "output_type": "stream",
     "text": [
      "Failed requesting Dying Inside\n",
      "Failed requesting Siddhartha\n",
      "Failed requesting Hurts Don't It?\n",
      "Failed requesting She Was My Girl\n",
      "Failed requesting Pig Charmer\n",
      "Failed requesting Pig Charmer\n",
      "Failed requesting Psychotic Break\n",
      "Failed requesting Bargain Basement Howard Hughes\n",
      "Failed requesting Anger Rising\n"
     ]
    },
    {
     "name": "stderr",
     "output_type": "stream",
     "text": [
      "Processing Jerry Cantrell_tracks.parquet:  17%|█▋        | 38/223 [00:00<00:04, 39.91it/s]"
     ]
    },
    {
     "name": "stdout",
     "output_type": "stream",
     "text": [
      "Failed requesting Angel Eyes\n",
      "Failed requesting Solitude\n",
      "Failed requesting Mother's Spinning in Her Grave (Glass Dick Jones)\n",
      "Failed requesting Hellbound\n",
      "Failed requesting Give It a Name\n",
      "Failed requesting Castaway\n",
      "Failed requesting She Was My Girl\n",
      "Failed requesting Chemical Tribe\n",
      "Failed requesting Spiderbite\n"
     ]
    },
    {
     "name": "stderr",
     "output_type": "stream",
     "text": [
      "Processing Jerry Cantrell_tracks.parquet:  19%|█▉        | 43/223 [00:01<00:04, 40.17it/s]"
     ]
    },
    {
     "name": "stdout",
     "output_type": "stream",
     "text": [
      "Failed requesting Locked On\n",
      "Failed requesting Gone\n",
      "Failed requesting Dickeye\n",
      "Failed requesting Cut You In\n",
      "Failed requesting My Song\n"
     ]
    },
    {
     "name": "stderr",
     "output_type": "stream",
     "text": [
      "Processing Jerry Cantrell_tracks.parquet:  22%|██▏       | 48/223 [00:02<00:15, 11.46it/s]"
     ]
    },
    {
     "name": "stdout",
     "output_type": "stream",
     "text": [
      "Failed requesting Breaks My Back\n"
     ]
    },
    {
     "name": "stderr",
     "output_type": "stream",
     "text": [
      "Processing Jerry Cantrell_tracks.parquet:  23%|██▎       | 51/223 [00:03<00:25,  6.88it/s]"
     ]
    },
    {
     "name": "stdout",
     "output_type": "stream",
     "text": [
      "Failed requesting Devil By His Side\n"
     ]
    },
    {
     "name": "stderr",
     "output_type": "stream",
     "text": [
      "Processing Jerry Cantrell_tracks.parquet:  26%|██▋       | 59/223 [00:11<01:46,  1.54it/s]"
     ]
    },
    {
     "name": "stdout",
     "output_type": "stream",
     "text": [
      "Failed requesting Setting Sun\n"
     ]
    },
    {
     "name": "stderr",
     "output_type": "stream",
     "text": [
      "Processing Jerry Cantrell_tracks.parquet:  31%|███       | 69/223 [00:20<02:31,  1.02it/s]"
     ]
    },
    {
     "name": "stdout",
     "output_type": "stream",
     "text": [
      "Failed requesting Ghosts Along the Mississippi\n"
     ]
    },
    {
     "name": "stderr",
     "output_type": "stream",
     "text": [
      "Processing Jerry Cantrell_tracks.parquet:  32%|███▏      | 71/223 [00:22<02:01,  1.25it/s]"
     ]
    },
    {
     "name": "stdout",
     "output_type": "stream",
     "text": [
      "Failed requesting A Shogun Named Marcus\n",
      "Failed requesting Just Bought the Farm\n"
     ]
    },
    {
     "name": "stderr",
     "output_type": "stream",
     "text": [
      "Processing Jerry Cantrell_tracks.parquet:  44%|████▍     | 99/223 [00:49<02:08,  1.04s/it]"
     ]
    },
    {
     "name": "stdout",
     "output_type": "stream",
     "text": [
      "Failed requesting Bitter Wine\n"
     ]
    },
    {
     "name": "stderr",
     "output_type": "stream",
     "text": [
      "Processing Jerry Cantrell_tracks.parquet:  45%|████▌     | 101/223 [00:50<01:38,  1.24it/s]"
     ]
    },
    {
     "name": "stdout",
     "output_type": "stream",
     "text": [
      "Failed requesting Tuna In the Brine\n"
     ]
    },
    {
     "name": "stderr",
     "output_type": "stream",
     "text": [
      "Processing Jerry Cantrell_tracks.parquet:  47%|████▋     | 104/223 [00:52<01:32,  1.29it/s]"
     ]
    },
    {
     "name": "stdout",
     "output_type": "stream",
     "text": [
      "Failed requesting Hollywood\n"
     ]
    },
    {
     "name": "stderr",
     "output_type": "stream",
     "text": [
      "Processing Jerry Cantrell_tracks.parquet:  53%|█████▎    | 118/223 [01:05<01:47,  1.03s/it]"
     ]
    },
    {
     "name": "stdout",
     "output_type": "stream",
     "text": [
      "Failed requesting Spacegrass\n"
     ]
    },
    {
     "name": "stderr",
     "output_type": "stream",
     "text": [
      "Processing Jerry Cantrell_tracks.parquet:  57%|█████▋    | 126/223 [01:13<01:37,  1.00s/it]"
     ]
    },
    {
     "name": "stdout",
     "output_type": "stream",
     "text": [
      "Failed requesting Fathers and Songs\n",
      "Failed requesting Swan Song\n"
     ]
    },
    {
     "name": "stderr",
     "output_type": "stream",
     "text": [
      "Processing Jerry Cantrell_tracks.parquet:  59%|█████▊    | 131/223 [01:16<01:13,  1.25it/s]"
     ]
    },
    {
     "name": "stdout",
     "output_type": "stream",
     "text": [
      "Failed requesting Asteroid\n"
     ]
    },
    {
     "name": "stderr",
     "output_type": "stream",
     "text": [
      "Processing Jerry Cantrell_tracks.parquet:  60%|██████    | 134/223 [01:18<01:08,  1.30it/s]"
     ]
    },
    {
     "name": "stdout",
     "output_type": "stream",
     "text": [
      "Failed requesting Image\n"
     ]
    },
    {
     "name": "stderr",
     "output_type": "stream",
     "text": [
      "Processing Jerry Cantrell_tracks.parquet:  62%|██████▏   | 139/223 [01:22<01:13,  1.14it/s]"
     ]
    },
    {
     "name": "stdout",
     "output_type": "stream",
     "text": [
      "Failed requesting Who the Fuck Is God\n"
     ]
    },
    {
     "name": "stderr",
     "output_type": "stream",
     "text": [
      "Processing Jerry Cantrell_tracks.parquet:  67%|██████▋   | 149/223 [01:31<01:14,  1.01s/it]"
     ]
    },
    {
     "name": "stdout",
     "output_type": "stream",
     "text": [
      "Failed requesting Move In Silence\n"
     ]
    },
    {
     "name": "stderr",
     "output_type": "stream",
     "text": [
      "Processing Jerry Cantrell_tracks.parquet:  73%|███████▎  | 162/223 [01:44<01:02,  1.03s/it]"
     ]
    },
    {
     "name": "stdout",
     "output_type": "stream",
     "text": [
      "Failed requesting Drowning\n"
     ]
    },
    {
     "name": "stderr",
     "output_type": "stream",
     "text": [
      "Processing Jerry Cantrell_tracks.parquet:  77%|███████▋  | 172/223 [01:46<00:12,  4.23it/s]"
     ]
    },
    {
     "name": "stdout",
     "output_type": "stream",
     "text": [
      "Failed requesting Don't You\n",
      "Failed requesting Savin' Me\n",
      "Failed requesting Monster\n",
      "Failed requesting Mad Season\n",
      "Failed requesting Not the Doctor\n",
      "Failed requesting Me and My Mulón\n",
      "Failed requesting When Angels Fly Away\n"
     ]
    },
    {
     "name": "stderr",
     "output_type": "stream",
     "text": [
      "Processing Jerry Cantrell_tracks.parquet:  79%|███████▉  | 176/223 [01:46<00:07,  6.66it/s]"
     ]
    },
    {
     "name": "stdout",
     "output_type": "stream",
     "text": [
      "Failed requesting The Energy\n",
      "Failed requesting Desperately Wanting\n",
      "Failed requesting Headful of Ghosts\n",
      "Failed requesting Não reclame mais\n",
      "Failed requesting Crystal Baller\n",
      "Failed requesting Piel\n",
      "Failed requesting Anger Rising\n"
     ]
    },
    {
     "name": "stderr",
     "output_type": "stream",
     "text": [
      "Processing Jerry Cantrell_tracks.parquet:  83%|████████▎ | 184/223 [01:47<00:03, 12.56it/s]"
     ]
    },
    {
     "name": "stdout",
     "output_type": "stream",
     "text": [
      "Failed requesting Without You\n",
      "Failed requesting Plasma\n",
      "Failed requesting Fiesta del fuego\n",
      "Failed requesting Red Eyes\n",
      "Failed requesting Plush\n",
      "Failed requesting Pretend We're Dead\n",
      "Failed requesting Cumbersome\n"
     ]
    },
    {
     "name": "stderr",
     "output_type": "stream",
     "text": [
      "Processing Jerry Cantrell_tracks.parquet:  86%|████████▌ | 192/223 [01:47<00:01, 18.82it/s]"
     ]
    },
    {
     "name": "stdout",
     "output_type": "stream",
     "text": [
      "Failed requesting The People That We Love\n",
      "Failed requesting Red Eye Angel\n",
      "Failed requesting Today, Is a Good Day\n",
      "Failed requesting Angel Eyes\n",
      "Failed requesting Little Friend\n",
      "Failed requesting Sweet '69\n",
      "Failed requesting Wait\n"
     ]
    },
    {
     "name": "stderr",
     "output_type": "stream",
     "text": [
      "Processing Jerry Cantrell_tracks.parquet:  88%|████████▊ | 196/223 [01:47<00:01, 21.69it/s]"
     ]
    },
    {
     "name": "stdout",
     "output_type": "stream",
     "text": [
      "Failed requesting Desperately Wanting\n",
      "Failed requesting Long Day\n",
      "Failed requesting The Energy\n",
      "Failed requesting Happens All the Time\n",
      "Failed requesting Anything\n",
      "Failed requesting Pure Rock Fury\n",
      "Failed requesting Cursed Female\n"
     ]
    },
    {
     "name": "stderr",
     "output_type": "stream",
     "text": [
      "Processing Jerry Cantrell_tracks.parquet:  91%|█████████▏| 204/223 [01:47<00:00, 25.97it/s]"
     ]
    },
    {
     "name": "stdout",
     "output_type": "stream",
     "text": [
      "Failed requesting You\n",
      "Failed requesting Above Me\n",
      "Failed requesting Miss Understood\n",
      "Failed requesting Figure It Out\n",
      "Failed requesting Rise\n",
      "Failed requesting Absolute Zero\n"
     ]
    },
    {
     "name": "stderr",
     "output_type": "stream",
     "text": [
      "Processing Jerry Cantrell_tracks.parquet:  95%|█████████▌| 212/223 [01:48<00:00, 30.06it/s]"
     ]
    },
    {
     "name": "stdout",
     "output_type": "stream",
     "text": [
      "Failed requesting Caffeine\n",
      "Failed requesting Mudshovel\n",
      "Failed requesting Black Shuck\n",
      "Failed requesting Hail to the King\n",
      "Failed requesting Burn\n",
      "Failed requesting Backwoods Gold\n",
      "Failed requesting Fugitive\n",
      "Failed requesting If It Wasn't for You\n"
     ]
    },
    {
     "name": "stderr",
     "output_type": "stream",
     "text": [
      "Processing Jerry Cantrell_tracks.parquet:  99%|█████████▉| 221/223 [01:48<00:00, 34.66it/s]"
     ]
    },
    {
     "name": "stdout",
     "output_type": "stream",
     "text": [
      "Failed requesting I'm Not Okay (I Promise)\n",
      "Failed requesting Rehab\n",
      "Failed requesting Naked Sunday\n",
      "Failed requesting Time to Burn\n",
      "Failed requesting Bullet\n",
      "Failed requesting Burn It to the Ground\n",
      "Failed requesting Hellbound\n",
      "Failed requesting N.O.\n"
     ]
    },
    {
     "name": "stderr",
     "output_type": "stream",
     "text": [
      "Processing Jerry Cantrell_tracks.parquet: 100%|██████████| 223/223 [01:48<00:00,  2.06it/s]\n"
     ]
    },
    {
     "name": "stdout",
     "output_type": "stream",
     "text": [
      "Failed requesting Beat Yourself Blind\n"
     ]
    },
    {
     "name": "stderr",
     "output_type": "stream",
     "text": [
      "Processing Jerry Douglas_tracks.parquet:   1%|▏         | 3/239 [00:00<00:08, 26.63it/s]"
     ]
    },
    {
     "name": "stdout",
     "output_type": "stream",
     "text": [
      "Failed requesting Long Black Electric Cadillac\n",
      "Failed requesting Mississippi Phone Booth\n",
      "Failed requesting The Music Is Hot\n",
      "Failed requesting All The Lilacs In Ohio\n",
      "Failed requesting I’m In Asheville\n",
      "Failed requesting Light Of The Burning Sun\n",
      "Failed requesting Little Goodnight\n"
     ]
    },
    {
     "name": "stderr",
     "output_type": "stream",
     "text": [
      "Processing Jerry Douglas_tracks.parquet:   5%|▌         | 12/239 [00:00<00:06, 35.65it/s]"
     ]
    },
    {
     "name": "stdout",
     "output_type": "stream",
     "text": [
      "Failed requesting Buddy Boy\n",
      "Failed requesting Changes In My Mind\n",
      "Failed requesting Keen Rambler\n",
      "Failed requesting Sweet Dream\n",
      "Failed requesting Another Morning - Live\n",
      "Failed requesting From Ankara To Ismir - Live\n",
      "Failed requesting My Pet Frog - Live\n",
      "Failed requesting Emphysema Two Step - Live\n"
     ]
    },
    {
     "name": "stderr",
     "output_type": "stream",
     "text": [
      "Processing Jerry Douglas_tracks.parquet:   8%|▊         | 20/239 [00:00<00:06, 34.79it/s]"
     ]
    },
    {
     "name": "stdout",
     "output_type": "stream",
     "text": [
      "Failed requesting Edgar Meyer Solo - Live\n",
      "Failed requesting Distance/Winter's Edge - Live\n",
      "Failed requesting Paddy On The Turnpike - Live\n",
      "Failed requesting Mark O'Connor Solo - Live\n",
      "Failed requesting Sanctuary - Live\n",
      "Failed requesting A New Day/Grant's Corner - Live\n",
      "Failed requesting Unfolding - Live\n",
      "Failed requesting A Bowl Of Bula - Live\n"
     ]
    },
    {
     "name": "stderr",
     "output_type": "stream",
     "text": [
      "Processing Jerry Douglas_tracks.parquet:  10%|█         | 24/239 [00:00<00:06, 34.99it/s]"
     ]
    },
    {
     "name": "stdout",
     "output_type": "stream",
     "text": [
      "Failed requesting Plasma/Boil Them Cabbage Down - Live\n",
      "Failed requesting Cincinnati Rag - Live\n"
     ]
    },
    {
     "name": "stderr",
     "output_type": "stream",
     "text": [
      "Processing Jerry Douglas_tracks.parquet:  13%|█▎        | 32/239 [00:02<00:18, 11.01it/s]"
     ]
    },
    {
     "name": "stdout",
     "output_type": "stream",
     "text": [
      "Failed requesting It Don't Bring You\n",
      "Failed requesting On a Monday\n",
      "Failed requesting The Diamond Ring\n",
      "Failed requesting Kimberley's Waltz\n",
      "Failed requesting Jubilee\n",
      "Failed requesting Like I Used to Do\n",
      "Failed requesting He Gradh Ho Gradh\n",
      "Failed requesting She Thinks I Still Care\n"
     ]
    },
    {
     "name": "stderr",
     "output_type": "stream",
     "text": [
      "Processing Jerry Douglas_tracks.parquet:  17%|█▋        | 40/239 [00:02<00:11, 17.46it/s]"
     ]
    },
    {
     "name": "stdout",
     "output_type": "stream",
     "text": [
      "Failed requesting No Directions Home/ Bright Star over Sark\n",
      "Failed requesting Jock Stewart\n",
      "Failed requesting Hallowell\n",
      "Failed requesting I Wish I Was in Belfast Town\n",
      "Failed requesting Sad the Piping' Piping Set\n",
      "Failed requesting Gone to Fortingall/ Wired to the Moon\n",
      "Failed requesting Transcendental Reunion\n",
      "Failed requesting My Heart's Tonight in Ireland/ West Clare Reel\n",
      "Failed requesting Hug Air A'Bhonaid Mhòir (Celebrate the Big Bonnet)\n"
     ]
    },
    {
     "name": "stderr",
     "output_type": "stream",
     "text": [
      "Processing Jerry Douglas_tracks.parquet:  21%|██        | 49/239 [00:02<00:07, 25.40it/s]"
     ]
    },
    {
     "name": "stdout",
     "output_type": "stream",
     "text": [
      "Failed requesting Loch Katrine's Lady\n",
      "Failed requesting Letter in the Mail\n",
      "Failed requesting Oh Mama\n",
      "Failed requesting Craigie Hill\n",
      "Failed requesting Delilah\n",
      "Failed requesting Father Dermot\n",
      "Failed requesting Liberty's Sweet Shore\n",
      "Failed requesting Chi Mi Bhuam (I See from Me)\n",
      "Failed requesting Jute Mill Song\n"
     ]
    },
    {
     "name": "stderr",
     "output_type": "stream",
     "text": [
      "Processing Jerry Douglas_tracks.parquet:  24%|██▍       | 57/239 [00:02<00:06, 30.04it/s]"
     ]
    },
    {
     "name": "stdout",
     "output_type": "stream",
     "text": [
      "Failed requesting Silver Threads Among The Gold\n",
      "Failed requesting North\n",
      "Failed requesting Till There Was You / Moon River\n",
      "Failed requesting Dobro Heaven\n",
      "Failed requesting Sunrise Serenade\n",
      "Failed requesting The Perils Of Private Mulvaney\n",
      "Failed requesting The Three Bells\n",
      "Failed requesting For Buddy\n"
     ]
    },
    {
     "name": "stderr",
     "output_type": "stream",
     "text": [
      "Processing Jerry Douglas_tracks.parquet:  27%|██▋       | 65/239 [00:02<00:05, 32.64it/s]"
     ]
    },
    {
     "name": "stdout",
     "output_type": "stream",
     "text": [
      "Failed requesting The Message\n",
      "Failed requesting Panhandle Rag\n",
      "Failed requesting I’m Using My Bible For A Roadmap\n",
      "Failed requesting 'Shetland Set': The Lament for the Sailor Who Fell from the Masthead / The Scalloway Lasses / The Watle O'it\n",
      "Failed requesting My Girl's Waiting for Me\n",
      "Failed requesting I Have a Need for Solitude\n",
      "Failed requesting Don't Know What I Was Thinking\n",
      "Failed requesting Aragon Mill\n"
     ]
    },
    {
     "name": "stderr",
     "output_type": "stream",
     "text": [
      "Processing Jerry Douglas_tracks.parquet:  31%|███       | 73/239 [00:03<00:05, 33.03it/s]"
     ]
    },
    {
     "name": "stdout",
     "output_type": "stream",
     "text": [
      "Failed requesting Halloween Rehearsal\n",
      "Failed requesting Shotgun Down the Avalanche\n",
      "Failed requesting Smeorach Chlann Domhnaill (The Mavis of Clan Donald)\n",
      "Failed requesting Whistling the Esperanza\n",
      "Failed requesting Isle of Malachy\n",
      "Failed requesting Wee Michael's March / Poodle Girl / Boys of the Puddle\n",
      "Failed requesting Bright Sunny South\n"
     ]
    },
    {
     "name": "stderr",
     "output_type": "stream",
     "text": [
      "Processing Jerry Douglas_tracks.parquet:  34%|███▍      | 81/239 [00:03<00:04, 34.85it/s]"
     ]
    },
    {
     "name": "stdout",
     "output_type": "stream",
     "text": [
      "Failed requesting Never Tire of the Road\n",
      "Failed requesting Down by the Sally Gardens\n",
      "Failed requesting Waiting for the Federals\n",
      "Failed requesting September When It Comes\n",
      "Failed requesting God Knows When\n",
      "Failed requesting Jolie Blonde\n",
      "Failed requesting Who Knows Where the Time Goes\n",
      "Failed requesting Nach Truagh\n"
     ]
    },
    {
     "name": "stderr",
     "output_type": "stream",
     "text": [
      "Processing Jerry Douglas_tracks.parquet:  37%|███▋      | 89/239 [00:03<00:04, 37.07it/s]"
     ]
    },
    {
     "name": "stdout",
     "output_type": "stream",
     "text": [
      "Failed requesting Bachelor's Walk\n",
      "Failed requesting There's Always Sunday\n",
      "Failed requesting He Got All the Whiskey\n",
      "Failed requesting Marriage Made in Hollywood\n",
      "Failed requesting A Simple Life\n",
      "Failed requesting Evangeline\n",
      "Failed requesting Road to Aberdeen\n",
      "Failed requesting Puirt a Beul Set\n"
     ]
    },
    {
     "name": "stderr",
     "output_type": "stream",
     "text": [
      "Processing Jerry Douglas_tracks.parquet:  41%|████      | 97/239 [00:03<00:03, 37.45it/s]"
     ]
    },
    {
     "name": "stdout",
     "output_type": "stream",
     "text": [
      "Failed requesting Bonaparte's Retreat\n",
      "Failed requesting Always Will\n",
      "Failed requesting Eunice Two-step\n",
      "Failed requesting Les veuves de la coulée (The Widow's of the Creek)\n",
      "Failed requesting Arther McBride and the Sergeant\n",
      "Failed requesting Sanseptique Set (Domhnall Dubh an Domhnallaich) / Sanseptique / Thoir a Nall Aillean Thugam\n",
      "Failed requesting God Speed\n",
      "Failed requesting Solid Air\n"
     ]
    },
    {
     "name": "stderr",
     "output_type": "stream",
     "text": [
      "Processing Jerry Douglas_tracks.parquet:  44%|████▍     | 105/239 [00:04<00:03, 37.51it/s]"
     ]
    },
    {
     "name": "stdout",
     "output_type": "stream",
     "text": [
      "Failed requesting Blue Train\n",
      "Failed requesting Magic Foot\n",
      "Failed requesting Storms Are On the Ocean\n",
      "Failed requesting Seven Year Ache\n",
      "Failed requesting My Father's Son\n",
      "Failed requesting Passing the Bar\n",
      "Failed requesting Footsteps Fall\n",
      "Failed requesting Ae Fond Kiss\n",
      "Failed requesting Big Country\n"
     ]
    },
    {
     "name": "stderr",
     "output_type": "stream",
     "text": [
      "Processing Jerry Douglas_tracks.parquet:  47%|████▋     | 113/239 [00:04<00:03, 37.40it/s]"
     ]
    },
    {
     "name": "stdout",
     "output_type": "stream",
     "text": [
      "Failed requesting Don't Ever Let Nobody Drag Your Spirit Down\n",
      "Failed requesting Western Highway\n",
      "Failed requesting Clear Blue Eyes\n",
      "Failed requesting A New Day Medley: A New Day/North\n",
      "Failed requesting The Ballad of Stringbean and Estelle\n",
      "Failed requesting Lonesome Moonlight Waltz\n",
      "Failed requesting Run Away\n",
      "Failed requesting Lios Na Banriona (Fort of the Fairy Queen)/The Cross Reel\n"
     ]
    },
    {
     "name": "stderr",
     "output_type": "stream",
     "text": [
      "Processing Jerry Douglas_tracks.parquet:  51%|█████     | 121/239 [00:04<00:03, 36.91it/s]"
     ]
    },
    {
     "name": "stdout",
     "output_type": "stream",
     "text": [
      "Failed requesting Reul Àlainn A' Chuain (Star of the Sea)\n",
      "Failed requesting Flying Circus/Windchime Dance\n",
      "Failed requesting Waterbound\n",
      "Failed requesting A Lewis Summer\n",
      "Failed requesting When at Last\n",
      "Failed requesting Galileo (Someone Like You)\n",
      "Failed requesting Dimming of the Day\n",
      "Failed requesting On A Monday\n"
     ]
    },
    {
     "name": "stderr",
     "output_type": "stream",
     "text": [
      "Processing Jerry Douglas_tracks.parquet:  54%|█████▍    | 129/239 [00:04<00:02, 37.21it/s]"
     ]
    },
    {
     "name": "stdout",
     "output_type": "stream",
     "text": [
      "Failed requesting Something You Got feat. Eric Clapton\n",
      "Failed requesting So Here We Are\n",
      "Failed requesting The Boxer feat. Mumford & Sons and Paul Simon\n",
      "Failed requesting Duke and Cookie\n",
      "Failed requesting High Blood Pressure feat. Keb' Mo'\n",
      "Failed requesting Gone To Fortingall\n",
      "Failed requesting Right On Time feat. Marc Cohn\n",
      "Failed requesting American Tune/Spain\n"
     ]
    },
    {
     "name": "stderr",
     "output_type": "stream",
     "text": [
      "Processing Jerry Douglas_tracks.parquet:  57%|█████▋    | 137/239 [00:04<00:02, 36.76it/s]"
     ]
    },
    {
     "name": "stdout",
     "output_type": "stream",
     "text": [
      "Failed requesting Frozen Fields feat. Alison Krauss & Union Station\n",
      "Failed requesting King Silkie\n",
      "Failed requesting Bourbon & Rosewater\n",
      "Failed requesting Gypsies from Rajasthan\n",
      "Failed requesting Overtones & Stained Glass\n",
      "Failed requesting Bent Notes of the Bauls\n",
      "Failed requesting Many Miles from Home\n",
      "Failed requesting Resurrection\n"
     ]
    },
    {
     "name": "stderr",
     "output_type": "stream",
     "text": [
      "Processing Jerry Douglas_tracks.parquet:  61%|██████    | 145/239 [00:05<00:02, 37.64it/s]"
     ]
    },
    {
     "name": "stdout",
     "output_type": "stream",
     "text": [
      "Failed requesting Desert Winds\n",
      "Failed requesting Mississippi Mud\n",
      "Failed requesting Unionhouse Branch\n",
      "Failed requesting Belfast to Boston\n",
      "Failed requesting Work Song\n",
      "Failed requesting O Nach Eisdeadh Tu 'n Sgeul Le Aire\n",
      "Failed requesting Lily Dale\n",
      "Failed requesting Down in the Willow Garden\n"
     ]
    },
    {
     "name": "stderr",
     "output_type": "stream",
     "text": [
      "Processing Jerry Douglas_tracks.parquet:  64%|██████▍   | 153/239 [00:05<00:02, 38.11it/s]"
     ]
    },
    {
     "name": "stdout",
     "output_type": "stream",
     "text": [
      "Failed requesting Carrickfergus\n",
      "Failed requesting The Pleasant Beggar\n",
      "Failed requesting Erin's Lovely Home\n",
      "Failed requesting Mo Ghruagach Dhonn\n",
      "Failed requesting Muireann's Jig\n",
      "Failed requesting Secret Life of Roses\n",
      "Failed requesting Mary Rogers/ Siún Ní Dhuibhir\n",
      "Failed requesting Caledonia\n"
     ]
    },
    {
     "name": "stderr",
     "output_type": "stream",
     "text": [
      "Processing Jerry Douglas_tracks.parquet:  66%|██████▌   | 157/239 [00:05<00:02, 36.76it/s]"
     ]
    },
    {
     "name": "stdout",
     "output_type": "stream",
     "text": [
      "Failed requesting Black, Black, Black\n",
      "Failed requesting Fiddle Blast: The Teetotaller / Lorn MacDonald's Reel / High Road to Linton\n",
      "Failed requesting Man of Constant Sorrow\n",
      "Failed requesting Bleeding All Over You\n"
     ]
    },
    {
     "name": "stderr",
     "output_type": "stream",
     "text": [
      "Processing Jerry Douglas_tracks.parquet:  69%|██████▉   | 165/239 [00:05<00:02, 30.46it/s]"
     ]
    },
    {
     "name": "stdout",
     "output_type": "stream",
     "text": [
      "Failed requesting Glide\n",
      "Failed requesting Ged a Shéol Mi Air M'Aineol\n",
      "Failed requesting Millworker\n",
      "Failed requesting Mo Nĺon Ó\n",
      "Failed requesting Flatwater Fran\n",
      "Failed requesting Motherless Children\n",
      "Failed requesting Lassie wi' the Lint-White Locks\n",
      "Failed requesting O'Farrell's Farewell to Limerick (The Bride's Delight) / Oot East by the Vong\n",
      "Failed requesting The King's Shilling\n"
     ]
    },
    {
     "name": "stderr",
     "output_type": "stream",
     "text": [
      "Processing Jerry Douglas_tracks.parquet:  73%|███████▎  | 174/239 [00:05<00:01, 34.54it/s]"
     ]
    },
    {
     "name": "stdout",
     "output_type": "stream",
     "text": [
      "Failed requesting Màili Dhomm\n",
      "Failed requesting How She Does It\n",
      "Failed requesting Jewels of the Ocean (set)\n",
      "Failed requesting The First Noel\n",
      "Failed requesting God Rest Ye Merry Gentlemen\n",
      "Failed requesting All Through The Night\n",
      "Failed requesting New Years Eve\n",
      "Failed requesting Do You Hear What I Hear?\n"
     ]
    },
    {
     "name": "stderr",
     "output_type": "stream",
     "text": [
      "Processing Jerry Douglas_tracks.parquet:  76%|███████▌  | 182/239 [00:06<00:01, 36.24it/s]"
     ]
    },
    {
     "name": "stdout",
     "output_type": "stream",
     "text": [
      "Failed requesting Santa Claus Is Coming To Town\n",
      "Failed requesting In The Bleak Midwinter\n",
      "Failed requesting Christmas Time Is Here\n",
      "Failed requesting Oh Holy Night\n",
      "Failed requesting Mary Did You Know\n",
      "Failed requesting Maui\n",
      "Failed requesting Beautiful Star Of Bethlehem\n",
      "Failed requesting Bounce\n"
     ]
    },
    {
     "name": "stderr",
     "output_type": "stream",
     "text": [
      "Processing Jerry Douglas_tracks.parquet:  79%|███████▉  | 190/239 [00:06<00:01, 36.89it/s]"
     ]
    },
    {
     "name": "stdout",
     "output_type": "stream",
     "text": [
      "Failed requesting Glide\n",
      "Failed requesting A Marriage Made In Hollywood\n",
      "Failed requesting Route Irish\n",
      "Failed requesting Sway Sur Rue Royale\n",
      "Failed requesting Unfolding\n",
      "Failed requesting Long Hard Road (A Sharecropper's Dream)\n",
      "Failed requesting Home Sweet Home\n",
      "Failed requesting Two Small Cars In Rome\n"
     ]
    },
    {
     "name": "stderr",
     "output_type": "stream",
     "text": [
      "Processing Jerry Douglas_tracks.parquet:  83%|████████▎ | 198/239 [00:06<00:01, 36.08it/s]"
     ]
    },
    {
     "name": "stdout",
     "output_type": "stream",
     "text": [
      "Failed requesting Trouble On Alum\n",
      "Failed requesting Pushed Too Far\n",
      "Failed requesting Big Bug Shuffle\n",
      "Failed requesting Why Don't You Go Back To The Woods\n",
      "Failed requesting The Hymn Of Ordinary Motion\n",
      "Failed requesting From Ankara To Izmir\n",
      "Failed requesting The Travels Of Mr. Hulot\n",
      "Failed requesting Big Sciota\n"
     ]
    },
    {
     "name": "stderr",
     "output_type": "stream",
     "text": [
      "Processing Jerry Douglas_tracks.parquet:  86%|████████▌ | 206/239 [00:06<00:00, 37.26it/s]"
     ]
    },
    {
     "name": "stdout",
     "output_type": "stream",
     "text": [
      "Failed requesting Squeezy Pig\n",
      "Failed requesting Monkey Bay\n",
      "Failed requesting The Years Between\n",
      "Failed requesting Open The Present\n",
      "Failed requesting Here On Earth\n",
      "Failed requesting She Makes Me Want To Sing (feat. Derek Trucks)\n",
      "Failed requesting Who's Your Uncle (feat. Béla Fleck, Sam Bush)\n",
      "Failed requesting Back In Love (feat. Alison Krauss)\n"
     ]
    },
    {
     "name": "stderr",
     "output_type": "stream",
     "text": [
      "Processing Jerry Douglas_tracks.parquet:  90%|████████▉ | 214/239 [00:07<00:00, 37.79it/s]"
     ]
    },
    {
     "name": "stdout",
     "output_type": "stream",
     "text": [
      "Failed requesting A Remark You Made\n",
      "Failed requesting The Best Kept Secret\n",
      "Failed requesting Lil Ro Ro (feat. Bill Frisell)\n",
      "Failed requesting Swing Blues #1 (feat. John Fogerty)\n",
      "Failed requesting Snow's First Fall\n",
      "Failed requesting Ya Ya\n",
      "Failed requesting You Are My Flower\n",
      "Failed requesting Sir Aly B\n",
      "Failed requesting Little Martha\n"
     ]
    },
    {
     "name": "stderr",
     "output_type": "stream",
     "text": [
      "Processing Jerry Douglas_tracks.parquet:  93%|█████████▎| 222/239 [00:07<00:00, 29.01it/s]"
     ]
    },
    {
     "name": "stdout",
     "output_type": "stream",
     "text": [
      "Failed requesting Patrick Meets The Brickbats\n",
      "Failed requesting Footsteps Fall\n",
      "Failed requesting Monkey Let The Hogs Out\n",
      "Failed requesting Lookout For Hope\n",
      "Failed requesting Cave Bop\n"
     ]
    },
    {
     "name": "stderr",
     "output_type": "stream",
     "text": [
      "Processing Jerry Douglas_tracks.parquet:  96%|█████████▌| 230/239 [00:07<00:00, 31.60it/s]"
     ]
    },
    {
     "name": "stdout",
     "output_type": "stream",
     "text": [
      "Failed requesting Senia's Lament\n",
      "Failed requesting The Wild Rumpus\n",
      "Failed requesting The Sinking Ship\n",
      "Failed requesting In The Sweet By And By\n",
      "Failed requesting The Suit\n",
      "Failed requesting Things In Life\n",
      "Failed requesting Turkish Taffee\n",
      "Failed requesting Passing The Bar\n"
     ]
    },
    {
     "name": "stderr",
     "output_type": "stream",
     "text": [
      "Processing Jerry Douglas_tracks.parquet: 100%|█████████▉| 238/239 [00:07<00:00, 33.38it/s]"
     ]
    },
    {
     "name": "stdout",
     "output_type": "stream",
     "text": [
      "Failed requesting Don't Take Your Guns To Town\n",
      "Failed requesting A Tribute To Peador O'Donnell\n",
      "Failed requesting Takarasaka\n",
      "Failed requesting Follow On\n",
      "Failed requesting Like It Is\n",
      "Failed requesting The Ride\n",
      "Failed requesting The Tv Doctor\n"
     ]
    },
    {
     "name": "stderr",
     "output_type": "stream",
     "text": [
      "Processing Jerry Douglas_tracks.parquet: 100%|██████████| 239/239 [00:07<00:00, 30.50it/s]\n",
      "Processing Jerry Galante_tracks.parquet:   5%|▌         | 4/75 [00:00<00:02, 31.35it/s]"
     ]
    },
    {
     "name": "stdout",
     "output_type": "stream",
     "text": [
      "Failed requesting For Those Who've Gone Clear\n",
      "Failed requesting Amor De Habitación\n",
      "Failed requesting La Dicha De Tenerte\n",
      "Failed requesting Entregate\n",
      "Failed requesting La Dueña De Mi Vida\n"
     ]
    },
    {
     "name": "stderr",
     "output_type": "stream",
     "text": [
      "Processing Jerry Galante_tracks.parquet:  11%|█         | 8/75 [00:00<00:02, 24.05it/s]"
     ]
    },
    {
     "name": "stdout",
     "output_type": "stream",
     "text": [
      "Failed requesting Cuando Florezcan Las Amapolas\n",
      "Failed requesting Si Yo Pudiera\n",
      "Failed requesting Solo Para El\n",
      "Failed requesting El Rey De La Rumba\n",
      "Failed requesting La Dicha De Tenerte\n",
      "Failed requesting No Se Lo Que Le Pasa A Mi Negra\n",
      "Failed requesting Tu y Yo\n"
     ]
    },
    {
     "name": "stderr",
     "output_type": "stream",
     "text": [
      "Processing Jerry Galante_tracks.parquet:  21%|██▏       | 16/75 [00:00<00:02, 28.61it/s]"
     ]
    },
    {
     "name": "stdout",
     "output_type": "stream",
     "text": [
      "Failed requesting Amor A Lo Bien\n",
      "Failed requesting Pienso En Ti\n",
      "Failed requesting Beforivale Al Tambo\n",
      "Failed requesting Atrévete\n",
      "Failed requesting Ay El Amor\n",
      "Failed requesting Mas Que Enamorado\n",
      "Failed requesting Sin Reservas\n"
     ]
    },
    {
     "name": "stderr",
     "output_type": "stream",
     "text": [
      "Processing Jerry Galante_tracks.parquet:  32%|███▏      | 24/75 [00:00<00:01, 31.06it/s]"
     ]
    },
    {
     "name": "stdout",
     "output_type": "stream",
     "text": [
      "Failed requesting Se Prendió El Rumbon\n",
      "Failed requesting Quiero Quedarte En Ti\n",
      "Failed requesting Nadie Manda El Corazón\n",
      "Failed requesting Te Voy A Arrancar De Mi\n",
      "Failed requesting Mujer Latina\n",
      "Failed requesting Miel y Sal\n",
      "Failed requesting Cumbia Apreta\n",
      "Failed requesting Como Pantera\n"
     ]
    },
    {
     "name": "stderr",
     "output_type": "stream",
     "text": [
      "Processing Jerry Galante_tracks.parquet:  43%|████▎     | 32/75 [00:01<00:01, 32.33it/s]"
     ]
    },
    {
     "name": "stdout",
     "output_type": "stream",
     "text": [
      "Failed requesting Estoy Enamorado\n",
      "Failed requesting Mi Felicidad\n",
      "Failed requesting El Recuerdo De Tu Amor\n",
      "Failed requesting Mi Pequeña\n",
      "Failed requesting Pal Bailador\n",
      "Failed requesting Amanece y No Te Tengo\n",
      "Failed requesting Fenomenal\n"
     ]
    },
    {
     "name": "stderr",
     "output_type": "stream",
     "text": [
      "Processing Jerry Galante_tracks.parquet:  53%|█████▎    | 40/75 [00:01<00:01, 33.93it/s]"
     ]
    },
    {
     "name": "stdout",
     "output_type": "stream",
     "text": [
      "Failed requesting Nadie Puede Amarte Más\n",
      "Failed requesting He Renunciado\n",
      "Failed requesting Olvidalo\n",
      "Failed requesting Mi Montuno\n",
      "Failed requesting Dejame Intentar\n",
      "Failed requesting Lo Vieron\n",
      "Failed requesting Con El Amor No Se Puede Jugar\n",
      "Failed requesting Pal Bailador\n",
      "Failed requesting Solo Tu\n"
     ]
    },
    {
     "name": "stderr",
     "output_type": "stream",
     "text": [
      "Processing Jerry Galante_tracks.parquet:  64%|██████▍   | 48/75 [00:01<00:00, 34.35it/s]"
     ]
    },
    {
     "name": "stdout",
     "output_type": "stream",
     "text": [
      "Failed requesting Mueve La Cadera\n",
      "Failed requesting Tu Eres Lo Maximo\n",
      "Failed requesting Se Prendio El Rumbon\n",
      "Failed requesting Estoy Enamorado\n",
      "Failed requesting Solo Tu Cariño\n",
      "Failed requesting Yo Buscare\n",
      "Failed requesting Recuerdos\n",
      "Failed requesting Mi Felicidad\n"
     ]
    },
    {
     "name": "stderr",
     "output_type": "stream",
     "text": [
      "Processing Jerry Galante_tracks.parquet:  75%|███████▍  | 56/75 [00:01<00:00, 33.91it/s]"
     ]
    },
    {
     "name": "stdout",
     "output_type": "stream",
     "text": [
      "Failed requesting Te Falto El Amor\n",
      "Failed requesting Tu Eres Lo Máximo\n",
      "Failed requesting Llegó El Galante\n",
      "Failed requesting Loco Amor\n",
      "Failed requesting Intentemoslo De Nuevo\n",
      "Failed requesting Voy A Inventar Para Tí\n",
      "Failed requesting Si Estoy Aquí\n",
      "Failed requesting No Volverte A Ver\n"
     ]
    },
    {
     "name": "stderr",
     "output_type": "stream",
     "text": [
      "Processing Jerry Galante_tracks.parquet:  85%|████████▌ | 64/75 [00:02<00:00, 31.64it/s]"
     ]
    },
    {
     "name": "stdout",
     "output_type": "stream",
     "text": [
      "Failed requesting Y Me Olvide De Ti\n",
      "Failed requesting Galante Boogaloo\n",
      "Failed requesting La Pagarás\n",
      "Failed requesting Luna\n",
      "Failed requesting Con el Amor no se Puede Jugar\n",
      "Failed requesting Mi Felicidad\n",
      "Failed requesting No Puedo Olvidarla\n"
     ]
    },
    {
     "name": "stderr",
     "output_type": "stream",
     "text": [
      "Processing Jerry Galante_tracks.parquet:  91%|█████████ | 68/75 [00:02<00:00, 30.49it/s]"
     ]
    },
    {
     "name": "stdout",
     "output_type": "stream",
     "text": [
      "Failed requesting Olvidalo\n",
      "Failed requesting Te Faltó el Amor\n",
      "Failed requesting Ay el Amor\n",
      "Failed requesting Con el Amor No Se Puede Jugar\n",
      "Failed requesting Con el Amor No Se Juega\n",
      "Failed requesting Solo Tu Cariño\n"
     ]
    },
    {
     "name": "stderr",
     "output_type": "stream",
     "text": [
      "Processing Jerry Galante_tracks.parquet: 100%|██████████| 75/75 [00:02<00:00, 31.43it/s]\n",
      "Processing Jerry Garcia Band_tracks.parquet:   0%|          | 0/300 [00:00<?, ?it/s]"
     ]
    },
    {
     "name": "stdout",
     "output_type": "stream",
     "text": [
      "Failed requesting Al Paso\n",
      "Failed requesting Corazón Espinado\n",
      "Failed requesting La Ultima Noche\n",
      "Failed requesting Pal Bailador\n",
      "Failed requesting How Sweet It Is (To Be Loved By You) - Live\n",
      "Failed requesting Stop That Train - Live\n",
      "Failed requesting The Maker - Live\n"
     ]
    },
    {
     "name": "stderr",
     "output_type": "stream",
     "text": [
      "Processing Jerry Garcia Band_tracks.parquet:   3%|▎         | 9/300 [00:00<00:07, 39.98it/s]"
     ]
    },
    {
     "name": "stdout",
     "output_type": "stream",
     "text": [
      "Failed requesting You Never Can Tell [C'est La Vie] - Live\n",
      "Failed requesting The Night They Drove Old Dixie Down - Live\n",
      "Failed requesting Lay Down Sally - Live\n",
      "Failed requesting Deal - Live\n",
      "Failed requesting Shining Star - Live\n",
      "Failed requesting And It Stoned Me - Live\n",
      "Failed requesting Ain't No Bread in the Breadbox - Live\n",
      "Failed requesting (What A) Wonderful World - Live\n",
      "Failed requesting Tore Up Over You - Live\n"
     ]
    },
    {
     "name": "stderr",
     "output_type": "stream",
     "text": [
      "Processing Jerry Garcia Band_tracks.parquet:   6%|▌         | 17/300 [00:00<00:07, 39.37it/s]"
     ]
    },
    {
     "name": "stdout",
     "output_type": "stream",
     "text": [
      "Failed requesting Waiting for a Miracle - Live\n",
      "Failed requesting My Sisters and Brothers - Live\n",
      "Failed requesting Tangled Up in Blue - Live\n",
      "Failed requesting Werewolves of London - Live\n",
      "Failed requesting Sugaree - Live\n",
      "Failed requesting They Love Each Other - Live\n",
      "Failed requesting Catfish John - Live\n",
      "Failed requesting Midnight Moonlight - Live\n",
      "Failed requesting How Sweet It Is (To Be Loved By You) - Live\n"
     ]
    },
    {
     "name": "stderr",
     "output_type": "stream",
     "text": [
      "Processing Jerry Garcia Band_tracks.parquet:   9%|▉         | 27/300 [00:00<00:06, 39.96it/s]"
     ]
    },
    {
     "name": "stdout",
     "output_type": "stream",
     "text": [
      "Failed requesting Friend of the Devil - Live\n",
      "Failed requesting Russian Lullaby - Live\n",
      "Failed requesting Tore Up Over You - Live\n",
      "Failed requesting I'll Take a Melody - Live\n",
      "Failed requesting After Midnight - Live\n",
      "Failed requesting Stir It Up - Live\n",
      "Failed requesting Mystery Train - Live\n",
      "Failed requesting The Way You Do The Things You Do - Live\n"
     ]
    },
    {
     "name": "stderr",
     "output_type": "stream",
     "text": [
      "Processing Jerry Garcia Band_tracks.parquet:  12%|█▏        | 35/300 [00:00<00:06, 38.92it/s]"
     ]
    },
    {
     "name": "stdout",
     "output_type": "stream",
     "text": [
      "Failed requesting Mighty High - Live\n",
      "Failed requesting How Sweet It Is (To Be Loved By You) - Live\n",
      "Failed requesting Struggling Man - Live\n",
      "Failed requesting He Ain't Give You None - Live\n",
      "Failed requesting Simple Twist of Fate - Live\n",
      "Failed requesting Lay Down Sally - Live\n",
      "Failed requesting The Night They Drove Old Dixie Down - Live\n",
      "Failed requesting My Sisters and Brothers - Live\n",
      "Failed requesting Deal - Live\n"
     ]
    },
    {
     "name": "stderr",
     "output_type": "stream",
     "text": [
      "Processing Jerry Garcia Band_tracks.parquet:  15%|█▍        | 44/300 [00:01<00:06, 39.33it/s]"
     ]
    },
    {
     "name": "stdout",
     "output_type": "stream",
     "text": [
      "Failed requesting The Way You Do The Things You Do - Live\n",
      "Failed requesting Waiting for a Miracle - Live\n",
      "Failed requesting Shining Star - Live\n",
      "Failed requesting Ain't No Bread in the Breadbox - Live\n",
      "Failed requesting Don't Let Go - Live\n",
      "Failed requesting That Lucky Old Sun - Live\n",
      "Failed requesting Bright Side of the Road - Live\n",
      "Failed requesting (What A) Wonderful World - Live\n"
     ]
    },
    {
     "name": "stderr",
     "output_type": "stream",
     "text": [
      "Processing Jerry Garcia Band_tracks.parquet:  18%|█▊        | 53/300 [00:01<00:06, 39.16it/s]"
     ]
    },
    {
     "name": "stdout",
     "output_type": "stream",
     "text": [
      "Failed requesting Cats Under the Stars - Live\n",
      "Failed requesting They Love Each Other - Live\n",
      "Failed requesting Let It Rock - Live\n",
      "Failed requesting I Shall Be Released - Live\n",
      "Failed requesting Someday Baby - Live\n",
      "Failed requesting Dear Prudence - Live\n",
      "Failed requesting Let's Spend the Night Together - Live\n",
      "Failed requesting How Sweet It Is (To Be Loved By You) - Live\n"
     ]
    },
    {
     "name": "stderr",
     "output_type": "stream",
     "text": [
      "Processing Jerry Garcia Band_tracks.parquet:  20%|██        | 61/300 [00:01<00:06, 38.27it/s]"
     ]
    },
    {
     "name": "stdout",
     "output_type": "stream",
     "text": [
      "Failed requesting Knockin' on Heaven's Door - Live\n",
      "Failed requesting Think - Live\n",
      "Failed requesting Waiting for a Miracle - Live\n",
      "Failed requesting Evangeline - Live\n",
      "Failed requesting The Night They Drove Old Dixie Down - Live\n",
      "Failed requesting Tangled Up in Blue - Live\n",
      "Failed requesting Cats Under the Stars - Live\n",
      "Failed requesting Mission in the Rain - Live\n",
      "Failed requesting That's What Love Will Make You Do - Live\n"
     ]
    },
    {
     "name": "stderr",
     "output_type": "stream",
     "text": [
      "Processing Jerry Garcia Band_tracks.parquet:  22%|██▏       | 65/300 [00:01<00:06, 37.78it/s]"
     ]
    },
    {
     "name": "stdout",
     "output_type": "stream",
     "text": [
      "Failed requesting Simple Twist of Fate - Live\n",
      "Failed requesting Ain't No Bread in the Breadbox - Live\n",
      "Failed requesting My Sisters and Brothers - Live\n",
      "Failed requesting Deal - Live\n",
      "Failed requesting The Way You Do The Things You Do - Live\n"
     ]
    },
    {
     "name": "stderr",
     "output_type": "stream",
     "text": [
      "Processing Jerry Garcia Band_tracks.parquet:  24%|██▍       | 73/300 [00:01<00:07, 31.48it/s]"
     ]
    },
    {
     "name": "stdout",
     "output_type": "stream",
     "text": [
      "Failed requesting He Ain't Give You None - Live\n",
      "Failed requesting Dear Prudence - Live\n",
      "Failed requesting When the Hunter Gets Captured by the Game - Live\n",
      "Failed requesting Don't Let Go - Live\n",
      "Failed requesting Midnight Moonlight - Live\n",
      "Failed requesting How Sweet It Is (To Be Loved By You) - Live at French's Camp, Piercy, CA, 8/29/1987\n",
      "Failed requesting Forever Young - Live at French's Camp, Piercy, CA, 8/29/1987\n"
     ]
    },
    {
     "name": "stderr",
     "output_type": "stream",
     "text": [
      "Processing Jerry Garcia Band_tracks.parquet:  27%|██▋       | 81/300 [00:02<00:06, 33.63it/s]"
     ]
    },
    {
     "name": "stdout",
     "output_type": "stream",
     "text": [
      "Failed requesting Get Out of My Life Woman - Live at French's Camp, Piercy, CA, 8/29/1987\n",
      "Failed requesting Run for the Roses - Live at French's Camp, Piercy, CA, 8/29/1987\n",
      "Failed requesting And It Stoned Me - Live at French's Camp, Piercy, CA, 8/29/1987\n",
      "Failed requesting My Sisters and Brothers - Live at French's Camp, Piercy, CA, 8/29/1987\n",
      "Failed requesting Deal - Live at French's Camp, Piercy, CA, 8/29/1987\n",
      "Failed requesting The Harder They Come - Live at French's Camp, Piercy, CA, 8/29/1987\n",
      "Failed requesting I Shall Be Released - Live at French's Camp, Piercy, CA, 8/29/1987\n",
      "Failed requesting Think - Live at French's Camp, Piercy, CA, 8/29/1987\n",
      "Failed requesting Evangeline - Live at French's Camp, Piercy, CA, 8/29/1987\n"
     ]
    },
    {
     "name": "stderr",
     "output_type": "stream",
     "text": [
      "Processing Jerry Garcia Band_tracks.parquet:  28%|██▊       | 85/300 [00:03<00:22,  9.53it/s]"
     ]
    },
    {
     "name": "stdout",
     "output_type": "stream",
     "text": [
      "Failed requesting Let It Rock - Live at French's Camp, Piercy, CA, 8/29/1987\n"
     ]
    },
    {
     "name": "stderr",
     "output_type": "stream",
     "text": [
      "Processing Jerry Garcia Band_tracks.parquet:  29%|██▉       | 88/300 [00:04<00:35,  5.95it/s]"
     ]
    },
    {
     "name": "stdout",
     "output_type": "stream",
     "text": [
      "Failed requesting Tangled Up in Blue - Live at French's Camp, Piercy, CA, 8/29/1987\n"
     ]
    },
    {
     "name": "stderr",
     "output_type": "stream",
     "text": [
      "Processing Jerry Garcia Band_tracks.parquet:  31%|███▏      | 94/300 [00:11<02:49,  1.22it/s]"
     ]
    },
    {
     "name": "stdout",
     "output_type": "stream",
     "text": [
      "Failed requesting How Sweet It Is (To Be Loved By You) - Live\n",
      "Failed requesting They Love Each Other - Live\n",
      "Failed requesting Tough Mama - Live\n",
      "Failed requesting Like a Road Leading Home - Live\n"
     ]
    },
    {
     "name": "stderr",
     "output_type": "stream",
     "text": [
      "Processing Jerry Garcia Band_tracks.parquet:  33%|███▎      | 98/300 [00:12<01:34,  2.14it/s]"
     ]
    },
    {
     "name": "stdout",
     "output_type": "stream",
     "text": [
      "Failed requesting Run for the Roses - Live\n"
     ]
    },
    {
     "name": "stderr",
     "output_type": "stream",
     "text": [
      "Processing Jerry Garcia Band_tracks.parquet:  35%|███▌      | 106/300 [00:22<03:25,  1.06s/it]"
     ]
    },
    {
     "name": "stdout",
     "output_type": "stream",
     "text": [
      "Failed requesting Tears of Rage - Live\n"
     ]
    },
    {
     "name": "stderr",
     "output_type": "stream",
     "text": [
      "Processing Jerry Garcia Band_tracks.parquet:  36%|███▌      | 108/300 [00:23<02:38,  1.21it/s]"
     ]
    },
    {
     "name": "stdout",
     "output_type": "stream",
     "text": [
      "Failed requesting Waiting for a Miracle - Live\n"
     ]
    },
    {
     "name": "stderr",
     "output_type": "stream",
     "text": [
      "Processing Jerry Garcia Band_tracks.parquet:  37%|███▋      | 110/300 [00:25<02:15,  1.40it/s]"
     ]
    },
    {
     "name": "stdout",
     "output_type": "stream",
     "text": [
      "Failed requesting Tangled Up in Blue - Live\n"
     ]
    },
    {
     "name": "stderr",
     "output_type": "stream",
     "text": [
      "Processing Jerry Garcia Band_tracks.parquet:  39%|███▉      | 117/300 [00:31<02:52,  1.06it/s]"
     ]
    },
    {
     "name": "stdout",
     "output_type": "stream",
     "text": [
      "Failed requesting Down Home - 40th Anniversary Edition\n"
     ]
    },
    {
     "name": "stderr",
     "output_type": "stream",
     "text": [
      "Processing Jerry Garcia Band_tracks.parquet:  40%|████      | 121/300 [00:34<02:37,  1.13it/s]"
     ]
    },
    {
     "name": "stdout",
     "output_type": "stream",
     "text": [
      "Failed requesting Lay Down Sally\n"
     ]
    },
    {
     "name": "stderr",
     "output_type": "stream",
     "text": [
      "Processing Jerry Garcia Band_tracks.parquet:  41%|████▏     | 124/300 [00:36<02:21,  1.24it/s]"
     ]
    },
    {
     "name": "stdout",
     "output_type": "stream",
     "text": [
      "Failed requesting Money Honey\n"
     ]
    },
    {
     "name": "stderr",
     "output_type": "stream",
     "text": [
      "Processing Jerry Garcia Band_tracks.parquet:  44%|████▎     | 131/300 [00:38<01:00,  2.80it/s]"
     ]
    },
    {
     "name": "stdout",
     "output_type": "stream",
     "text": [
      "Failed requesting Bright Side of the Road\n",
      "Failed requesting Waiting for a Miracle\n",
      "Failed requesting Think\n",
      "Failed requesting Shining Star\n"
     ]
    },
    {
     "name": "stderr",
     "output_type": "stream",
     "text": [
      "Processing Jerry Garcia Band_tracks.parquet:  44%|████▍     | 133/300 [00:40<01:31,  1.82it/s]"
     ]
    },
    {
     "name": "stdout",
     "output_type": "stream",
     "text": [
      "Failed requesting Tangled Up in Blue\n"
     ]
    },
    {
     "name": "stderr",
     "output_type": "stream",
     "text": [
      "Processing Jerry Garcia Band_tracks.parquet:  46%|████▌     | 137/300 [00:43<01:55,  1.41it/s]"
     ]
    },
    {
     "name": "stdout",
     "output_type": "stream",
     "text": [
      "Failed requesting Who Was John? - Live\n"
     ]
    },
    {
     "name": "stderr",
     "output_type": "stream",
     "text": [
      "Processing Jerry Garcia Band_tracks.parquet:  46%|████▋     | 139/300 [00:45<01:44,  1.54it/s]"
     ]
    },
    {
     "name": "stdout",
     "output_type": "stream",
     "text": [
      "Failed requesting Stir It Up - Live\n"
     ]
    },
    {
     "name": "stderr",
     "output_type": "stream",
     "text": [
      "Processing Jerry Garcia Band_tracks.parquet:  48%|████▊     | 143/300 [00:48<02:03,  1.27it/s]"
     ]
    },
    {
     "name": "stdout",
     "output_type": "stream",
     "text": [
      "Failed requesting Don't Let Go - Live\n",
      "Failed requesting Strange Man - Live\n"
     ]
    },
    {
     "name": "stderr",
     "output_type": "stream",
     "text": [
      "Processing Jerry Garcia Band_tracks.parquet:  49%|████▊     | 146/300 [00:49<01:29,  1.72it/s]"
     ]
    },
    {
     "name": "stdout",
     "output_type": "stream",
     "text": [
      "Failed requesting Mighty High - Live\n"
     ]
    },
    {
     "name": "stderr",
     "output_type": "stream",
     "text": [
      "Processing Jerry Garcia Band_tracks.parquet:  50%|█████     | 150/300 [00:52<01:50,  1.36it/s]"
     ]
    },
    {
     "name": "stdout",
     "output_type": "stream",
     "text": [
      "Failed requesting Tangled Up In Blue - Live\n"
     ]
    },
    {
     "name": "stderr",
     "output_type": "stream",
     "text": [
      "Processing Jerry Garcia Band_tracks.parquet:  51%|█████     | 152/300 [00:53<01:37,  1.51it/s]"
     ]
    },
    {
     "name": "stdout",
     "output_type": "stream",
     "text": [
      "Failed requesting Mystery Train - Live\n"
     ]
    },
    {
     "name": "stderr",
     "output_type": "stream",
     "text": [
      "Processing Jerry Garcia Band_tracks.parquet:  53%|█████▎    | 160/300 [00:56<00:50,  2.78it/s]"
     ]
    },
    {
     "name": "stdout",
     "output_type": "stream",
     "text": [
      "Failed requesting Opening Announcement - Live\n",
      "Failed requesting Deep Elem Blues - Live\n",
      "Failed requesting I'm Troubled - Live\n",
      "Failed requesting Spike Driver Blues - Live\n",
      "Failed requesting Band Introductions - Live\n",
      "Failed requesting Blue Yodel #9 - Live\n",
      "Failed requesting Short Life of Trouble - Live\n",
      "Failed requesting If I Lose - Live\n"
     ]
    },
    {
     "name": "stderr",
     "output_type": "stream",
     "text": [
      "Processing Jerry Garcia Band_tracks.parquet:  56%|█████▌    | 168/300 [00:57<00:18,  7.04it/s]"
     ]
    },
    {
     "name": "stdout",
     "output_type": "stream",
     "text": [
      "Failed requesting I'm Here to Get My Baby Out of Jail - Live\n",
      "Failed requesting Oh Babe It Ain't No Lie - Live\n",
      "Failed requesting Drifting Too Far from the Shore - Live\n",
      "Failed requesting Ragged but Right - Live\n",
      "Failed requesting Opening Announcement (Evening) - Live\n",
      "Failed requesting I've Been All Around This World - Live\n",
      "Failed requesting Ballad Of Casey Jones - Live\n"
     ]
    },
    {
     "name": "stderr",
     "output_type": "stream",
     "text": [
      "Processing Jerry Garcia Band_tracks.parquet:  59%|█████▊    | 176/300 [00:57<00:09, 12.93it/s]"
     ]
    },
    {
     "name": "stdout",
     "output_type": "stream",
     "text": [
      "Failed requesting Blue Yodel #9 (Evening) - Live\n",
      "Failed requesting I'm Troubled (Evening) - Live\n",
      "Failed requesting Rosa Lee McFall - Live\n",
      "Failed requesting Band Introductions (Evening) - Live\n",
      "Failed requesting Diamond Joe - Live\n"
     ]
    },
    {
     "name": "stderr",
     "output_type": "stream",
     "text": [
      "Processing Jerry Garcia Band_tracks.parquet:  61%|██████    | 183/300 [00:58<00:13,  8.86it/s]"
     ]
    },
    {
     "name": "stdout",
     "output_type": "stream",
     "text": [
      "Failed requesting Mother Nature's Son - Live\n",
      "Failed requesting It Ain't No Use (feat. Matthew Kelly) - Live\n",
      "Failed requesting God Save The Queen - Live\n",
      "Failed requesting They Love Each Other (feat. Matthew Kelly) - Live\n",
      "Failed requesting Pig's Boogie (feat. Matthew Kelly) - Live\n",
      "Failed requesting New Year's Countdown (feat. Bob Weir, Mickey Hart & Matthew Kelly) - Live\n",
      "Failed requesting How Sweet It Is (To Be Loved by You) [feat. Bob Weir, Mickey Hart & Matthew Kelly] - Live\n",
      "Failed requesting Catfish John (feat. Bob Weir, Mickey Hart & Matthew Kelly) - Live\n"
     ]
    },
    {
     "name": "stderr",
     "output_type": "stream",
     "text": [
      "Processing Jerry Garcia Band_tracks.parquet:  64%|██████▎   | 191/300 [00:58<00:07, 15.13it/s]"
     ]
    },
    {
     "name": "stdout",
     "output_type": "stream",
     "text": [
      "Failed requesting Mystery Train -> (feat. Bob Weir, Mickey Hart & Matthew Kelly) - Live\n",
      "Failed requesting Drums / New Year's Jam -> (feat. Bob Weir, Mickey Hart & Matthew Kelly) - Live\n",
      "Failed requesting Mystery Train (feat. Bob Weir, Mickey Hart & Matthew Kelly) - Live\n",
      "Failed requesting Tore Up Over You (feat. Bob Weir, Mickey Hart & Matthew Kelly) - Live\n",
      "Failed requesting Tuning (feat. Bob Weir, Mickey Hart & Matthew Kelly) - Live\n",
      "Failed requesting C.C.Rider (feat. Bob Weir, Mickey Hart & Matthew Kelly) - Live\n",
      "Failed requesting (I'm A) Road Runner (feat. Bob Weir, Mickey Hart & Matthew Kelly) - Live\n",
      "Failed requesting How Sweet It Is (To Be Loved By You) - Live\n",
      "Failed requesting Catfish John - Live\n"
     ]
    },
    {
     "name": "stderr",
     "output_type": "stream",
     "text": [
      "Processing Jerry Garcia Band_tracks.parquet:  65%|██████▌   | 195/300 [00:59<00:14,  7.46it/s]"
     ]
    },
    {
     "name": "stdout",
     "output_type": "stream",
     "text": [
      "Failed requesting I Second That Emotion - Live\n"
     ]
    },
    {
     "name": "stderr",
     "output_type": "stream",
     "text": [
      "Processing Jerry Garcia Band_tracks.parquet:  67%|██████▋   | 202/300 [01:01<00:13,  7.23it/s]"
     ]
    },
    {
     "name": "stdout",
     "output_type": "stream",
     "text": [
      "Failed requesting The Harder They Come - Live\n",
      "Failed requesting Mission In The Rain - Live\n",
      "Failed requesting Cats Under The Stars - Live\n",
      "Failed requesting Gomorrah - Live\n",
      "Failed requesting Mystery Train - Live\n",
      "Failed requesting Love In The Afternoon - Live\n",
      "Failed requesting I'll Be With Thee - Live\n",
      "Failed requesting Midnight Moonlight - Live\n"
     ]
    },
    {
     "name": "stderr",
     "output_type": "stream",
     "text": [
      "Processing Jerry Garcia Band_tracks.parquet:  70%|███████   | 210/300 [01:01<00:07, 12.58it/s]"
     ]
    },
    {
     "name": "stdout",
     "output_type": "stream",
     "text": [
      "Failed requesting Festival - Live\n",
      "Failed requesting Fever - Live\n",
      "Failed requesting KC Moan - Live\n",
      "Failed requesting Desolation Row - Live\n",
      "Failed requesting Looks Like Rain - Live\n",
      "Failed requesting The Winners - Live\n",
      "Failed requesting Victim Or The Crime - Live\n"
     ]
    },
    {
     "name": "stderr",
     "output_type": "stream",
     "text": [
      "Processing Jerry Garcia Band_tracks.parquet:  71%|███████▏  | 214/300 [01:01<00:05, 15.27it/s]"
     ]
    },
    {
     "name": "stdout",
     "output_type": "stream",
     "text": [
      "Failed requesting Wasserman Bass Improvisation No. 1 - Live\n",
      "Failed requesting Throwing Stones - Live\n",
      "Failed requesting Cats Under The Stars - Live\n",
      "Failed requesting They Love Each Other - Live\n",
      "Failed requesting Waiting For A Miracle - Live\n",
      "Failed requesting Run For The Roses - Live\n",
      "Failed requesting Like A Road - Live\n"
     ]
    },
    {
     "name": "stderr",
     "output_type": "stream",
     "text": [
      "Processing Jerry Garcia Band_tracks.parquet:  74%|███████▍  | 223/300 [01:01<00:03, 21.73it/s]"
     ]
    },
    {
     "name": "stdout",
     "output_type": "stream",
     "text": [
      "Failed requesting My Sisters And Brothers - Live\n",
      "Failed requesting Deal - Live\n",
      "Failed requesting Tuning - Live\n",
      "Failed requesting The Harder They Come - Live\n",
      "Failed requesting Mission In The Rain - Live\n",
      "Failed requesting Forever Young - Live\n",
      "Failed requesting How Sweet It Is (To Be Loved By You) - Live\n",
      "Failed requesting Stop That Train - Live\n"
     ]
    },
    {
     "name": "stderr",
     "output_type": "stream",
     "text": [
      "Processing Jerry Garcia Band_tracks.parquet:  77%|███████▋  | 231/300 [01:02<00:02, 27.32it/s]"
     ]
    },
    {
     "name": "stdout",
     "output_type": "stream",
     "text": [
      "Failed requesting Forever Young - Live\n",
      "Failed requesting Run For The Roses - Live\n",
      "Failed requesting That's What Love Will Make You Do - Live\n",
      "Failed requesting My Sisters And Brothers - Live\n",
      "Failed requesting Tears Of Rage - Live\n",
      "Failed requesting Deal - Live\n"
     ]
    },
    {
     "name": "stderr",
     "output_type": "stream",
     "text": [
      "Processing Jerry Garcia Band_tracks.parquet:  78%|███████▊  | 235/300 [01:04<00:13,  5.00it/s]"
     ]
    },
    {
     "name": "stdout",
     "output_type": "stream",
     "text": [
      "Failed requesting Waiting For A Miracle - Live\n"
     ]
    },
    {
     "name": "stderr",
     "output_type": "stream",
     "text": [
      "Processing Jerry Garcia Band_tracks.parquet:  79%|███████▉  | 238/300 [01:06<00:19,  3.11it/s]"
     ]
    },
    {
     "name": "stdout",
     "output_type": "stream",
     "text": [
      "Failed requesting Think - Live\n"
     ]
    },
    {
     "name": "stderr",
     "output_type": "stream",
     "text": [
      "Processing Jerry Garcia Band_tracks.parquet:  80%|████████  | 240/300 [01:07<00:21,  2.77it/s]"
     ]
    },
    {
     "name": "stdout",
     "output_type": "stream",
     "text": [
      "Failed requesting Tangled Up In Blue - Live\n"
     ]
    },
    {
     "name": "stderr",
     "output_type": "stream",
     "text": [
      "Processing Jerry Garcia Band_tracks.parquet:  81%|████████  | 243/300 [01:09<00:27,  2.08it/s]"
     ]
    },
    {
     "name": "stdout",
     "output_type": "stream",
     "text": [
      "Failed requesting How Sweet It Is - Live\n"
     ]
    },
    {
     "name": "stderr",
     "output_type": "stream",
     "text": [
      "Processing Jerry Garcia Band_tracks.parquet:  83%|████████▎ | 249/300 [01:10<00:14,  3.44it/s]"
     ]
    },
    {
     "name": "stdout",
     "output_type": "stream",
     "text": [
      "Failed requesting Sitting In Limbo - Live\n",
      "Failed requesting That's All Right - Live\n",
      "Failed requesting Deal - Live\n",
      "Failed requesting Mission In The Rain - Live\n",
      "Failed requesting That's What Love Will Make You Do - Live\n",
      "Failed requesting Russian Lullaby - Live\n",
      "Failed requesting The Harder They Come - Live\n",
      "Failed requesting Tiger Rose (feat. Robert Hunter) - Live\n"
     ]
    },
    {
     "name": "stderr",
     "output_type": "stream",
     "text": [
      "Processing Jerry Garcia Band_tracks.parquet:  86%|████████▌ | 257/300 [01:11<00:05,  7.64it/s]"
     ]
    },
    {
     "name": "stdout",
     "output_type": "stream",
     "text": [
      "Failed requesting Promintory Rider (feat. Robert Hunter) - Live\n",
      "Failed requesting Midnight Moonlight - Live\n",
      "Failed requesting Dear Prudence - Live\n",
      "Failed requesting Let It Rock - Live\n",
      "Failed requesting Tore Up Over You - Live\n",
      "Failed requesting Friend Of The Devil - Live\n",
      "Failed requesting They Love Each Other - Live\n",
      "Failed requesting It's Too Late - Live\n"
     ]
    },
    {
     "name": "stderr",
     "output_type": "stream",
     "text": [
      "Processing Jerry Garcia Band_tracks.parquet:  89%|████████▉ | 267/300 [01:11<00:02, 15.08it/s]"
     ]
    },
    {
     "name": "stdout",
     "output_type": "stream",
     "text": [
      "Failed requesting Pig's Boogie - Live\n",
      "Failed requesting Band Introductions - Live\n",
      "Failed requesting Sitting In Limbo - Live\n",
      "Failed requesting (I'm A) Road Runner - Live\n",
      "Failed requesting Sugaree - Live\n",
      "Failed requesting I'll Take A Melody - Live\n",
      "Failed requesting That's What Love Will Make You Do - Live\n",
      "Failed requesting Lady Sleeps - Live\n"
     ]
    },
    {
     "name": "stderr",
     "output_type": "stream",
     "text": [
      "Processing Jerry Garcia Band_tracks.parquet:  92%|█████████▏| 275/300 [01:11<00:01, 18.87it/s]"
     ]
    },
    {
     "name": "stdout",
     "output_type": "stream",
     "text": [
      "Failed requesting Ain't No Use - Live\n",
      "Failed requesting Let's Spend The Night Together - Live\n",
      "Failed requesting Edward, The Mad Shirt Grinder - Live\n",
      "Failed requesting Mystery Train - Live\n",
      "Failed requesting Catfish John - Live\n",
      "Failed requesting I Second That Emotion - Live\n",
      "Failed requesting Mission in the Rain - Live\n",
      "Failed requesting Don't Let Go - Live\n"
     ]
    },
    {
     "name": "stderr",
     "output_type": "stream",
     "text": [
      "Processing Jerry Garcia Band_tracks.parquet:  94%|█████████▍| 283/300 [01:11<00:00, 24.60it/s]"
     ]
    },
    {
     "name": "stdout",
     "output_type": "stream",
     "text": [
      "Failed requesting Tore up Over You - Live\n",
      "Failed requesting Simple Twist of Fate - Live\n",
      "Failed requesting The Way You Do the Things You Do - Live\n",
      "Failed requesting Let Me Roll It - Live\n",
      "Failed requesting Gomorrah - Live\n",
      "Failed requesting I'll Be With Thee - Live\n",
      "Failed requesting Lonesome and a Long Way From Home - Live\n",
      "Failed requesting How Sweet It Is (feat. Bruce Hornsby) - Live\n"
     ]
    },
    {
     "name": "stderr",
     "output_type": "stream",
     "text": [
      "Processing Jerry Garcia Band_tracks.parquet:  97%|█████████▋| 292/300 [01:12<00:00, 30.90it/s]"
     ]
    },
    {
     "name": "stdout",
     "output_type": "stream",
     "text": [
      "Failed requesting He Ain't Give You None (feat. Bruce Hornsby) - Live\n",
      "Failed requesting You Never Can Tell (C'est La Vie) [feat. Bruce Hornsby] - Live\n",
      "Failed requesting Run For The Roses (feat. Bruce Hornsby) - Live\n",
      "Failed requesting The Night They Drove Old Dixie Down (feat. Bruce Hornsby) - Live\n",
      "Failed requesting I Second That Emotion (feat. Bruce Hornsby) - Live\n",
      "Failed requesting My Sisters And My Brothers (feat. Bruce Hornsby) - Live\n",
      "Failed requesting Ain't No Bread In The Breadbox (feat. Bruce Hornsby) - Live\n",
      "Failed requesting Bright Side Of The Road (feat. Bruce Hornsby) - Live\n",
      "Failed requesting Shining Star (feat. Bruce Hornsby) - Live\n"
     ]
    },
    {
     "name": "stderr",
     "output_type": "stream",
     "text": [
      "Processing Jerry Garcia Band_tracks.parquet: 100%|██████████| 300/300 [01:12<00:00,  4.15it/s]"
     ]
    },
    {
     "name": "stdout",
     "output_type": "stream",
     "text": [
      "Failed requesting Waiting For A Miracle (feat. Bruce Hornsby) - Live\n",
      "Failed requesting Think (feat. Bruce Hornsby) - Live\n",
      "Failed requesting I Shall Be Released (feat. Bruce Hornsby) - Live\n",
      "Failed requesting Don't Let Go (feat. Bruce Hornsby) - Live\n",
      "Failed requesting Midnight Moonlight (feat. Bruce Hornsby) - Live\n",
      "Failed requesting What A Wonderful World (Encore) [feat. Bruce Hornsby] - Live\n"
     ]
    },
    {
     "name": "stderr",
     "output_type": "stream",
     "text": [
      "\n",
      "Processing Jerry Garcia_tracks.parquet:   2%|▏         | 4/234 [00:00<00:05, 38.72it/s]"
     ]
    },
    {
     "name": "stdout",
     "output_type": "stream",
     "text": [
      "Failed requesting Deal - LP Giobbi & Le Chev Remix\n",
      "Failed requesting Bird Song - LP Giobbi & Le Chev Remix\n",
      "Failed requesting Sugaree - LP Giobbi Remix\n",
      "Failed requesting Loser - LP Giobbi Remix\n",
      "Failed requesting Late for Supper - LP Giobbi & Le Chev Remix\n",
      "Failed requesting To Lay Me Down - LP Giobbi Remix\n",
      "Failed requesting An Odd Little Place - LP Giobbi & DJ Tennis Remix\n",
      "Failed requesting The Wheel - LP Giobbi Remix\n",
      "Failed requesting Neighbor, Neighbor - Live\n"
     ]
    },
    {
     "name": "stderr",
     "output_type": "stream",
     "text": [
      "Processing Jerry Garcia_tracks.parquet:   6%|▌         | 14/234 [00:00<00:05, 39.57it/s]"
     ]
    },
    {
     "name": "stdout",
     "output_type": "stream",
     "text": [
      "Failed requesting Valdez in the Country - Live\n",
      "Failed requesting The Harder They Come - Live\n",
      "Failed requesting You Can Leave Your Hat On - Live\n",
      "Failed requesting That's A Touch I Like - Live\n",
      "Failed requesting Freedom Jazz Dance - Live\n",
      "Failed requesting Tough Mama - Live\n",
      "Failed requesting Wondering Why -> - Live\n",
      "Failed requesting People Make The World Go Round - Live\n"
     ]
    },
    {
     "name": "stderr",
     "output_type": "stream",
     "text": [
      "Processing Jerry Garcia_tracks.parquet:   9%|▉         | 22/234 [00:00<00:05, 35.98it/s]"
     ]
    },
    {
     "name": "stdout",
     "output_type": "stream",
     "text": [
      "Failed requesting Mystery Train - Live\n",
      "Failed requesting How sweet It Is (To Be Loved By You) - Live\n",
      "Failed requesting When I Paint My Masterpiece - Live\n",
      "Failed requesting Russian Lullaby - Live\n",
      "Failed requesting The Harder They Come - Live\n",
      "Failed requesting Tiger Rose - Live\n",
      "Failed requesting Promontory Rider - Live\n"
     ]
    },
    {
     "name": "stderr",
     "output_type": "stream",
     "text": [
      "Processing Jerry Garcia_tracks.parquet:  13%|█▎        | 30/234 [00:00<00:05, 36.46it/s]"
     ]
    },
    {
     "name": "stdout",
     "output_type": "stream",
     "text": [
      "Failed requesting Dear Prudence - Live\n",
      "Failed requesting Midnight Moonlight - Live\n",
      "Failed requesting Man-Child - Live\n",
      "Failed requesting One Kind Favor - Live\n",
      "Failed requesting I Know It's a Sin - Live\n",
      "Failed requesting I Was Made to Love Her - Live\n",
      "Failed requesting Keystone Korner Jam - Live\n",
      "Failed requesting The Night They Drove Old Dixie Down - Live\n"
     ]
    },
    {
     "name": "stderr",
     "output_type": "stream",
     "text": [
      "Processing Jerry Garcia_tracks.parquet:  16%|█▌        | 38/234 [00:01<00:05, 33.16it/s]"
     ]
    },
    {
     "name": "stdout",
     "output_type": "stream",
     "text": [
      "Failed requesting Save Mother Earth - Live\n",
      "Failed requesting That's All Right - Live\n",
      "Failed requesting The Wall Song - Live\n",
      "Failed requesting Mystery Train - Live\n",
      "Failed requesting It Takes A Lot To Laugh, It Takes A Train To Cry - Live\n",
      "Failed requesting Expressway To Your Heart - Live\n",
      "Failed requesting That's The Touch I Like - Live\n"
     ]
    },
    {
     "name": "stderr",
     "output_type": "stream",
     "text": [
      "Processing Jerry Garcia_tracks.parquet:  20%|█▉        | 46/234 [00:01<00:05, 34.73it/s]"
     ]
    },
    {
     "name": "stdout",
     "output_type": "stream",
     "text": [
      "Failed requesting Save Mother Earth - Live\n",
      "Failed requesting Imagine Instrumental - Live\n",
      "Failed requesting That's All Right Mama - Live\n",
      "Failed requesting Who's Loving You Tonight - Live\n",
      "Failed requesting When I Paint My Masterpiece - Live\n",
      "Failed requesting I Was Made To Love Her - Live\n",
      "Failed requesting Lonely Avenue - Live\n",
      "Failed requesting How Sweet It Is - Live\n"
     ]
    },
    {
     "name": "stderr",
     "output_type": "stream",
     "text": [
      "Processing Jerry Garcia_tracks.parquet:  23%|██▎       | 54/234 [00:01<00:05, 34.54it/s]"
     ]
    },
    {
     "name": "stdout",
     "output_type": "stream",
     "text": [
      "Failed requesting Intro - Tom Donahue (Live) - Remastered\n",
      "Failed requesting Someday Baby (Live) - Remastered\n",
      "Failed requesting My Funny Valentine (Live) - Remastered\n",
      "Failed requesting That's All Right (Live) - Remastered\n",
      "Failed requesting It's Too Late (Live) - Remastered\n",
      "Failed requesting Finders Keepers (Live) - Remastered\n",
      "Failed requesting Break - Tom Donahue (Live) - Remastered\n",
      "Failed requesting I Second That Motion (Live) - Remastered\n"
     ]
    },
    {
     "name": "stderr",
     "output_type": "stream",
     "text": [
      "Processing Jerry Garcia_tracks.parquet:  25%|██▍       | 58/234 [00:01<00:05, 34.37it/s]"
     ]
    },
    {
     "name": "stdout",
     "output_type": "stream",
     "text": [
      "Failed requesting Georgia On My Mind (Live) - Remastered\n",
      "Failed requesting Positively 4th Street (Live) - Remastered\n",
      "Failed requesting How Sweet It Is (To Be Loved By You) (Live) - Remastered\n",
      "Failed requesting Deep Elem Blues - Live\n",
      "Failed requesting Little Sadie - Live\n",
      "Failed requesting Friend of the Devil - Live\n",
      "Failed requesting Oh Babe, It Ain't No Lie - Live\n"
     ]
    },
    {
     "name": "stderr",
     "output_type": "stream",
     "text": [
      "Processing Jerry Garcia_tracks.parquet:  29%|██▊       | 67/234 [00:01<00:04, 36.87it/s]"
     ]
    },
    {
     "name": "stdout",
     "output_type": "stream",
     "text": [
      "Failed requesting When I Paint My Masterpiece - Live\n",
      "Failed requesting Run for the Roses - Live\n",
      "Failed requesting Dire Wolf - Live\n",
      "Failed requesting Simple Twist of Fate - Live\n",
      "Failed requesting Spike Driver Blues - Live\n",
      "Failed requesting Bird Song - Live\n",
      "Failed requesting Ripple - Live\n",
      "Failed requesting Goodnight Irene - Live\n"
     ]
    },
    {
     "name": "stderr",
     "output_type": "stream",
     "text": [
      "Processing Jerry Garcia_tracks.parquet:  32%|███▏      | 75/234 [00:02<00:04, 37.52it/s]"
     ]
    },
    {
     "name": "stdout",
     "output_type": "stream",
     "text": [
      "Failed requesting Band Introductions\n",
      "Failed requesting Roving Gambler\n",
      "Failed requesting Ground Speed\n",
      "Failed requesting Pig In A Pen\n",
      "Failed requesting Standing In The Need Of Prayer\n",
      "Failed requesting Flint Hill Special\n",
      "Failed requesting Nine Pound Hammer\n",
      "Failed requesting Handsome Molly\n"
     ]
    },
    {
     "name": "stderr",
     "output_type": "stream",
     "text": [
      "Processing Jerry Garcia_tracks.parquet:  36%|███▌      | 84/234 [00:02<00:03, 39.29it/s]"
     ]
    },
    {
     "name": "stdout",
     "output_type": "stream",
     "text": [
      "Failed requesting Clinch Mountain Backstep\n",
      "Failed requesting Think Of What You've Done\n",
      "Failed requesting Cripple Creek\n",
      "Failed requesting All The Good Times Have Past And Gone\n",
      "Failed requesting Billy Grimes, The Rover\n",
      "Failed requesting Paddy On The Turnpike (Boys, My Money's All Gone)\n",
      "Failed requesting Run Mountain\n",
      "Failed requesting Sugar Baby\n",
      "Failed requesting Sitting On Top Of The World\n"
     ]
    },
    {
     "name": "stderr",
     "output_type": "stream",
     "text": [
      "Processing Jerry Garcia_tracks.parquet:  40%|███▉      | 93/234 [00:02<00:03, 38.76it/s]"
     ]
    },
    {
     "name": "stdout",
     "output_type": "stream",
     "text": [
      "Failed requesting Hi-Heel Sneakers\n",
      "Failed requesting Keepers - Previously Unreleased Take\n",
      "Failed requesting The Harder They Come\n",
      "Failed requesting It Takes A Lot To Laugh, It Takes A Train To Cry - Previously Unreleased Take\n",
      "Failed requesting It's Too Late (She's Gone)\n",
      "Failed requesting My Funny Valentine - Previously Unreleased Take\n",
      "Failed requesting Mystery Train\n",
      "Failed requesting I Second That Emotion\n"
     ]
    },
    {
     "name": "stderr",
     "output_type": "stream",
     "text": [
      "Processing Jerry Garcia_tracks.parquet:  41%|████▏     | 97/234 [00:02<00:03, 37.82it/s]"
     ]
    },
    {
     "name": "stdout",
     "output_type": "stream",
     "text": [
      "Failed requesting Someday Baby\n",
      "Failed requesting Merl's Tune\n",
      "Failed requesting It Ain't No Use\n"
     ]
    },
    {
     "name": "stderr",
     "output_type": "stream",
     "text": [
      "Processing Jerry Garcia_tracks.parquet:  45%|████▍     | 105/234 [00:03<00:10, 12.50it/s]"
     ]
    },
    {
     "name": "stdout",
     "output_type": "stream",
     "text": [
      "Failed requesting How Sweet It Is (To Be Loved By You) - Previously Unreleased Take\n",
      "Failed requesting It Takes A Lot To Laugh, It Takes A Train To Cry\n",
      "Failed requesting Keepers\n",
      "Failed requesting One Kind Favor\n",
      "Failed requesting That's All Right, Mama\n",
      "Failed requesting The Harder They Come - Previously Unreleased Take\n",
      "Failed requesting My Funny Valentine\n",
      "Failed requesting Money Honey\n"
     ]
    },
    {
     "name": "stderr",
     "output_type": "stream",
     "text": [
      "Processing Jerry Garcia_tracks.parquet:  48%|████▊     | 113/234 [00:04<00:06, 18.25it/s]"
     ]
    },
    {
     "name": "stdout",
     "output_type": "stream",
     "text": [
      "Failed requesting Pizza Preamble\n",
      "Failed requesting Man of Constant Sorrow/Run Through\n",
      "Failed requesting Man of Constant Sorrow/Instrumental\n",
      "Failed requesting Always Late\n",
      "Failed requesting Man of Constant Sorrow 1\n",
      "Failed requesting Constant Patter\n",
      "Failed requesting Man of Constant Sorrow 2\n",
      "Failed requesting Louis Collins 1\n",
      "Failed requesting Louis Collins 2\n"
     ]
    },
    {
     "name": "stderr",
     "output_type": "stream",
     "text": [
      "Processing Jerry Garcia_tracks.parquet:  52%|█████▏    | 122/234 [00:04<00:04, 25.52it/s]"
     ]
    },
    {
     "name": "stdout",
     "output_type": "stream",
     "text": [
      "Failed requesting Shady Grove\n",
      "Failed requesting Shady Grove 1/Incomplete\n",
      "Failed requesting Shady Jam\n",
      "Failed requesting Shady Grove 2\n",
      "Failed requesting Shady Grove 3\n",
      "Failed requesting Summertime/Run Through\n",
      "Failed requesting Guitar Space\n",
      "Failed requesting Summertime\n",
      "Failed requesting Long Dark Veil/Run Through\n"
     ]
    },
    {
     "name": "stderr",
     "output_type": "stream",
     "text": [
      "Processing Jerry Garcia_tracks.parquet:  54%|█████▍    | 126/234 [00:04<00:03, 28.27it/s]"
     ]
    },
    {
     "name": "stdout",
     "output_type": "stream",
     "text": [
      "Failed requesting Long Dark Veil 1/Incomplete\n",
      "Failed requesting Rosa Lee McFall/Run Through\n",
      "Failed requesting Been All Around This World\n"
     ]
    },
    {
     "name": "stderr",
     "output_type": "stream",
     "text": [
      "Processing Jerry Garcia_tracks.parquet:  56%|█████▌    | 130/234 [00:05<00:11,  9.42it/s]"
     ]
    },
    {
     "name": "stdout",
     "output_type": "stream",
     "text": [
      "Failed requesting Take Me\n",
      "Failed requesting Handsome Cabin Boy Waltz\n"
     ]
    },
    {
     "name": "stderr",
     "output_type": "stream",
     "text": [
      "Processing Jerry Garcia_tracks.parquet:  59%|█████▉    | 138/234 [00:06<00:11,  8.69it/s]"
     ]
    },
    {
     "name": "stdout",
     "output_type": "stream",
     "text": [
      "Failed requesting I'm Troubled\n",
      "Failed requesting Blue Yodel #9\n",
      "Failed requesting Nine Pound Hammer\n",
      "Failed requesting I Ain't Never\n",
      "Failed requesting Sittin' Here In Limbo\n",
      "Failed requesting Dark As A Dungeon\n",
      "Failed requesting Drink Up And Go Home\n",
      "Failed requesting Intro\n",
      "Failed requesting Grateful Dawg\n"
     ]
    },
    {
     "name": "stderr",
     "output_type": "stream",
     "text": [
      "Processing Jerry Garcia_tracks.parquet:  62%|██████▏   | 145/234 [00:07<00:07, 12.08it/s]"
     ]
    },
    {
     "name": "stdout",
     "output_type": "stream",
     "text": [
      "Failed requesting Wayfaring Stranger - Bill Monroe And His Blue Grass Boys\n",
      "Failed requesting Sweet Sunny South\n",
      "Failed requesting Old And In The Way Intro - Peter Rowan\n",
      "Failed requesting Pig In A Pen - Old And In The Way\n",
      "Failed requesting Dawg's Waltz\n",
      "Failed requesting Sitting Here In Limbo\n"
     ]
    },
    {
     "name": "stderr",
     "output_type": "stream",
     "text": [
      "Processing Jerry Garcia_tracks.parquet:  66%|██████▌   | 154/234 [00:07<00:04, 19.83it/s]"
     ]
    },
    {
     "name": "stdout",
     "output_type": "stream",
     "text": [
      "Failed requesting Off To Sea Once More - Ewan Maccoll\n",
      "Failed requesting Off To Sea Once More\n",
      "Failed requesting Jenny Jenkins\n",
      "Failed requesting Arabia\n",
      "Failed requesting The Thrill Is Gone\n",
      "Failed requesting Friend Of The Devil\n",
      "Failed requesting Grateful Dawg - Studio\n",
      "Failed requesting Free Flight - Live\n",
      "Failed requesting Space Funk - Live\n"
     ]
    },
    {
     "name": "stderr",
     "output_type": "stream",
     "text": [
      "Processing Jerry Garcia_tracks.parquet:  69%|██████▉   | 162/234 [00:07<00:02, 25.51it/s]"
     ]
    },
    {
     "name": "stdout",
     "output_type": "stream",
     "text": [
      "Failed requesting All for Life - Live\n",
      "Failed requesting Venutian Blues - Live\n",
      "Failed requesting So What (Miles Davis) Take 1, 3/8/91\n",
      "Failed requesting Bag's Groove (Milt Jackson) Take 5, 11/24/92\n",
      "Failed requesting Milestones (Miles Davis) Take 5, 6/2/92\n",
      "Failed requesting 16/16 (David Grisman) Take 3, 11/24/92\n",
      "Failed requesting So What (Miles Davis) Take 1, 12/6/90\n",
      "Failed requesting Bag's Groove (Milt Jackson) Take 1, 6/4/92\n"
     ]
    },
    {
     "name": "stderr",
     "output_type": "stream",
     "text": [
      "Processing Jerry Garcia_tracks.parquet:  73%|███████▎  | 171/234 [00:07<00:02, 31.14it/s]"
     ]
    },
    {
     "name": "stdout",
     "output_type": "stream",
     "text": [
      "Failed requesting Milestones (Miles Davis) Take 3, 6/2/92\n",
      "Failed requesting So What (Miles Davis) Take 1, 6/4/92\n",
      "Failed requesting Shady Grove\n",
      "Failed requesting Stealin'\n",
      "Failed requesting Off To Sea Once More\n",
      "Failed requesting The Sweet Sunny South\n",
      "Failed requesting Louis Collins\n",
      "Failed requesting Fair Ellender\n",
      "Failed requesting Jackaroo\n"
     ]
    },
    {
     "name": "stderr",
     "output_type": "stream",
     "text": [
      "Processing Jerry Garcia_tracks.parquet:  76%|███████▋  | 179/234 [00:08<00:01, 34.80it/s]"
     ]
    },
    {
     "name": "stdout",
     "output_type": "stream",
     "text": [
      "Failed requesting Casey Jones\n",
      "Failed requesting Dreadful Wind And Rain\n",
      "Failed requesting I Truly Understand\n",
      "Failed requesting The Handsome Cabin Boy\n",
      "Failed requesting Whiskey In The Jar\n",
      "Failed requesting Down In The Valley\n",
      "Failed requesting Jenny Jenkins\n",
      "Failed requesting Freight Train\n",
      "Failed requesting A Horse Named Bill\n"
     ]
    },
    {
     "name": "stderr",
     "output_type": "stream",
     "text": [
      "Processing Jerry Garcia_tracks.parquet:  80%|███████▉  | 187/234 [00:08<00:01, 36.52it/s]"
     ]
    },
    {
     "name": "stdout",
     "output_type": "stream",
     "text": [
      "Failed requesting Three Men Went A-hunting\n",
      "Failed requesting When First Unto This Country\n",
      "Failed requesting Arkansas Traveler\n",
      "Failed requesting Hopalong Peter\n",
      "Failed requesting Teddy Bears' Picnic\n",
      "Failed requesting There Ain't No Bugs On Me\n",
      "Failed requesting The Miller's Will\n",
      "Failed requesting Hot Corn, Cold Corn\n"
     ]
    },
    {
     "name": "stderr",
     "output_type": "stream",
     "text": [
      "Processing Jerry Garcia_tracks.parquet:  83%|████████▎ | 195/234 [00:08<00:01, 32.96it/s]"
     ]
    },
    {
     "name": "stdout",
     "output_type": "stream",
     "text": [
      "Failed requesting A Shenandoah Lullaby\n",
      "Failed requesting The Thrill Is Gone\n",
      "Failed requesting Grateful Dawg\n",
      "Failed requesting Two Soldiers\n",
      "Failed requesting Friend Of The Devil\n",
      "Failed requesting Russian Lullaby\n",
      "Failed requesting Dawg's Waltz\n"
     ]
    },
    {
     "name": "stderr",
     "output_type": "stream",
     "text": [
      "Processing Jerry Garcia_tracks.parquet:  87%|████████▋ | 204/234 [00:08<00:00, 34.18it/s]"
     ]
    },
    {
     "name": "stdout",
     "output_type": "stream",
     "text": [
      "Failed requesting Walkin' Boss\n",
      "Failed requesting Rockin' Chair\n",
      "Failed requesting Arabia\n",
      "Failed requesting The Thrill Is Gone\n",
      "Failed requesting Rockin' Chair\n",
      "Failed requesting So What\n",
      "Failed requesting Off To Sea Once More\n"
     ]
    },
    {
     "name": "stderr",
     "output_type": "stream",
     "text": [
      "Processing Jerry Garcia_tracks.parquet:  91%|█████████ | 212/234 [00:08<00:00, 35.28it/s]"
     ]
    },
    {
     "name": "stdout",
     "output_type": "stream",
     "text": [
      "Failed requesting Friend Of The Devil\n",
      "Failed requesting Dawg's Waltz\n",
      "Failed requesting Russian Lullaby\n",
      "Failed requesting Arabia\n",
      "Failed requesting Ripple\n",
      "Failed requesting Deep Elem Blues - Live\n",
      "Failed requesting Little Sadie - Live\n",
      "Failed requesting Friend Of The Devil - Live\n"
     ]
    },
    {
     "name": "stderr",
     "output_type": "stream",
     "text": [
      "Processing Jerry Garcia_tracks.parquet:  92%|█████████▏| 216/234 [00:09<00:00, 33.88it/s]"
     ]
    },
    {
     "name": "stdout",
     "output_type": "stream",
     "text": [
      "Failed requesting When I Paint My Masterpiece - Live\n",
      "Failed requesting Spike Driver Blues - Live\n",
      "Failed requesting Run For The Roses - Live\n",
      "Failed requesting Dire Wolf - Live\n",
      "Failed requesting Jack A Roe - Live\n",
      "Failed requesting Oh Babe, It Ain't No Lie - Live\n",
      "Failed requesting Bird Song - Live\n",
      "Failed requesting Ripple - Live\n"
     ]
    },
    {
     "name": "stderr",
     "output_type": "stream",
     "text": [
      "Processing Jerry Garcia_tracks.parquet:  96%|█████████▌| 225/234 [00:09<00:00, 36.34it/s]"
     ]
    },
    {
     "name": "stdout",
     "output_type": "stream",
     "text": [
      "Failed requesting Goodnight Irene - Live\n",
      "Failed requesting Run For The Roses\n",
      "Failed requesting I Saw Her Standing There\n",
      "Failed requesting Without Love\n",
      "Failed requesting Midnight Getaway\n",
      "Failed requesting Leave The Little Girl Alone\n",
      "Failed requesting Valerie\n",
      "Failed requesting Knockin' On Heaven's Door\n"
     ]
    },
    {
     "name": "stderr",
     "output_type": "stream",
     "text": [
      "Processing Jerry Garcia_tracks.parquet: 100%|██████████| 234/234 [00:09<00:00, 24.55it/s]\n",
      "Processing Jerry Goldsmith_tracks.parquet:   0%|          | 0/330 [00:00<?, ?it/s]"
     ]
    },
    {
     "name": "stdout",
     "output_type": "stream",
     "text": [
      "Failed requesting Fennario - Bonus Track\n",
      "Failed requesting Alabama Getaway - Bonus Track\n",
      "Failed requesting Tangled up in Blue - Bonus Track\n",
      "Failed requesting Simple Twist of Fate - Bonus Track\n",
      "Failed requesting Dear Prudence - Bonus Track\n",
      "Failed requesting Valerie (Alternate Mix) - Bonus Track\n"
     ]
    },
    {
     "name": "stderr",
     "output_type": "stream",
     "text": [
      "Processing Jerry Goldsmith_tracks.parquet:   1%|          | 4/330 [00:00<00:08, 37.93it/s]"
     ]
    },
    {
     "name": "stdout",
     "output_type": "stream",
     "text": [
      "Failed requesting Night Work (Main Title)\n",
      "Failed requesting The Window / Home Delivery\n",
      "Failed requesting The Raven\n",
      "Failed requesting Nocturnal Feeders\n",
      "Failed requesting Good Neighbors\n",
      "Failed requesting Let's Go\n",
      "Failed requesting Bad Karma\n",
      "Failed requesting The Sentinel\n"
     ]
    },
    {
     "name": "stderr",
     "output_type": "stream",
     "text": [
      "Processing Jerry Goldsmith_tracks.parquet:   4%|▎         | 12/330 [00:00<00:08, 36.57it/s]"
     ]
    },
    {
     "name": "stdout",
     "output_type": "stream",
     "text": [
      "Failed requesting My Neighborhood\n",
      "Failed requesting The Garage\n",
      "Failed requesting Spare Key\n",
      "Failed requesting The Note\n",
      "Failed requesting Devil Worship\n",
      "Failed requesting The Dream\n",
      "Failed requesting The Note No. 2\n",
      "Failed requesting This Is Walter\n"
     ]
    },
    {
     "name": "stderr",
     "output_type": "stream",
     "text": [
      "Processing Jerry Goldsmith_tracks.parquet:   6%|▋         | 21/330 [00:00<00:08, 37.32it/s]"
     ]
    },
    {
     "name": "stdout",
     "output_type": "stream",
     "text": [
      "Failed requesting Snooping Around\n",
      "Failed requesting I'm OK\n",
      "Failed requesting Solid Floors / Ask Him\n",
      "Failed requesting What's In The Cellar\n",
      "Failed requesting Matinee - Main Title\n",
      "Failed requesting Coming Attractions (Main Title Pt. 2)\n",
      "Failed requesting Brother To Brother\n",
      "Failed requesting Mobilization\n"
     ]
    },
    {
     "name": "stderr",
     "output_type": "stream",
     "text": [
      "Processing Jerry Goldsmith_tracks.parquet:   9%|▉         | 29/330 [00:00<00:08, 35.95it/s]"
     ]
    },
    {
     "name": "stdout",
     "output_type": "stream",
     "text": [
      "Failed requesting Practice\n",
      "Failed requesting Hold On\n",
      "Failed requesting Shopping Cart\n",
      "Failed requesting Harvey and Real People\n",
      "Failed requesting The Scam\n",
      "Failed requesting Half Way Home\n",
      "Failed requesting Get A Job\n",
      "Failed requesting The Timetable\n"
     ]
    },
    {
     "name": "stderr",
     "output_type": "stream",
     "text": [
      "Processing Jerry Goldsmith_tracks.parquet:  11%|█         | 37/330 [00:01<00:08, 35.89it/s]"
     ]
    },
    {
     "name": "stdout",
     "output_type": "stream",
     "text": [
      "Failed requesting The Nightmare\n",
      "Failed requesting Showtime\n",
      "Failed requesting Locked In\n",
      "Failed requesting The Wrong Business\n",
      "Failed requesting What Are You Doing?\n",
      "Failed requesting The Big Knife\n",
      "Failed requesting Help\n",
      "Failed requesting This Is it\n",
      "Failed requesting Overture\n"
     ]
    },
    {
     "name": "stderr",
     "output_type": "stream",
     "text": [
      "Processing Jerry Goldsmith_tracks.parquet:  14%|█▎        | 45/330 [00:01<00:07, 35.93it/s]"
     ]
    },
    {
     "name": "stdout",
     "output_type": "stream",
     "text": [
      "Failed requesting Main Title and Klingon Battle\n",
      "Failed requesting Total Logic\n",
      "Failed requesting Floating Office\n",
      "Failed requesting The Enterprise\n",
      "Failed requesting Malfunction\n",
      "Failed requesting The Crew Briefing\n",
      "Failed requesting Leaving Drydock (Film Version)\n"
     ]
    },
    {
     "name": "stderr",
     "output_type": "stream",
     "text": [
      "Processing Jerry Goldsmith_tracks.parquet:  16%|█▌        | 53/330 [00:01<00:07, 37.83it/s]"
     ]
    },
    {
     "name": "stdout",
     "output_type": "stream",
     "text": [
      "Failed requesting Captain’s Log – Warp One\n",
      "Failed requesting No Goodbyes\n",
      "Failed requesting Spock’s Arrival\n",
      "Failed requesting Captain’s Log – Warp Seven\n",
      "Failed requesting Meet V’ger\n",
      "Failed requesting The Cloud (Film Version)\n",
      "Failed requesting V’ger Flyover (Film Version)\n",
      "Failed requesting The Force Field\n",
      "Failed requesting Micro Exam\n"
     ]
    },
    {
     "name": "stderr",
     "output_type": "stream",
     "text": [
      "Processing Jerry Goldsmith_tracks.parquet:  18%|█▊        | 61/330 [00:01<00:07, 37.09it/s]"
     ]
    },
    {
     "name": "stdout",
     "output_type": "stream",
     "text": [
      "Failed requesting Games\n",
      "Failed requesting Spock Walk (Film Version)\n",
      "Failed requesting System Inoperative\n",
      "Failed requesting Prologue - From Black Patch\n",
      "Failed requesting Player Piano (Main Titles) - From Black Patch\n",
      "Failed requesting Carl Meets Helen - From Black Patch\n",
      "Failed requesting Welcome Home - From Black Patch\n"
     ]
    },
    {
     "name": "stderr",
     "output_type": "stream",
     "text": [
      "Processing Jerry Goldsmith_tracks.parquet:  21%|██        | 69/330 [00:01<00:07, 36.57it/s]"
     ]
    },
    {
     "name": "stdout",
     "output_type": "stream",
     "text": [
      "Failed requesting Clay Meets Helen - From Black Patch\n",
      "Failed requesting Love Reunited - From Black Patch\n",
      "Failed requesting Hank Gives Up - From Black Patch\n",
      "Failed requesting Lock Up - From Black Patch\n",
      "Failed requesting The Fight - From Black Patch\n",
      "Failed requesting Discovery - From Black Patch\n",
      "Failed requesting Town Gossip - From Black Patch\n",
      "Failed requesting The Gift - From Black Patch\n"
     ]
    },
    {
     "name": "stderr",
     "output_type": "stream",
     "text": [
      "Processing Jerry Goldsmith_tracks.parquet:  23%|██▎       | 77/330 [00:02<00:06, 36.30it/s]"
     ]
    },
    {
     "name": "stdout",
     "output_type": "stream",
     "text": [
      "Failed requesting Mixed Emotions - From Black Patch\n",
      "Failed requesting Carl's Love - From Black Patch\n",
      "Failed requesting The Gun - From Black Patch\n",
      "Failed requesting Tough Guy - From Black Patch\n",
      "Failed requesting The Showdown - From Black Patch\n",
      "Failed requesting The Duel - From Black Patch\n",
      "Failed requesting Finale (Extended Version) - From Black Patch\n"
     ]
    },
    {
     "name": "stderr",
     "output_type": "stream",
     "text": [
      "Processing Jerry Goldsmith_tracks.parquet:  26%|██▌       | 85/330 [00:02<00:07, 34.73it/s]"
     ]
    },
    {
     "name": "stdout",
     "output_type": "stream",
     "text": [
      "Failed requesting Finale (Film Version) - From Black Patch\n",
      "Failed requesting Main Title\n",
      "Failed requesting A Real Dog No. 1\n",
      "Failed requesting The Warehouse\n",
      "Failed requesting A Real Dog No. 2\n",
      "Failed requesting Here I Come - Part I\n",
      "Failed requesting Here I Come - Part II\n"
     ]
    },
    {
     "name": "stderr",
     "output_type": "stream",
     "text": [
      "Processing Jerry Goldsmith_tracks.parquet:  28%|██▊       | 93/330 [00:02<00:06, 35.09it/s]"
     ]
    },
    {
     "name": "stdout",
     "output_type": "stream",
     "text": [
      "Failed requesting Getting Acquainted - Part I\n",
      "Failed requesting Getting Acquainted - Part II\n",
      "Failed requesting Surprise Visit\n",
      "Failed requesting A Broken Limb\n",
      "Failed requesting Stay In My Life\n",
      "Failed requesting Main Title\n",
      "Failed requesting Escape\n"
     ]
    },
    {
     "name": "stderr",
     "output_type": "stream",
     "text": [
      "Processing Jerry Goldsmith_tracks.parquet:  29%|██▉       | 97/330 [00:02<00:07, 30.00it/s]"
     ]
    },
    {
     "name": "stdout",
     "output_type": "stream",
     "text": [
      "Failed requesting So Long Boy\n",
      "Failed requesting Company Man\n",
      "Failed requesting The Meeting\n",
      "Failed requesting Jake, The Barber\n",
      "Failed requesting Wanted For Murder\n"
     ]
    },
    {
     "name": "stderr",
     "output_type": "stream",
     "text": [
      "Processing Jerry Goldsmith_tracks.parquet:  32%|███▏      | 105/330 [00:03<00:07, 29.83it/s]"
     ]
    },
    {
     "name": "stdout",
     "output_type": "stream",
     "text": [
      "Failed requesting New Suit\n",
      "Failed requesting Slow Draw\n",
      "Failed requesting Special Delivery\n",
      "Failed requesting Bitter Thoughts\n",
      "Failed requesting Goodbye\n",
      "Failed requesting Broken Fence\n",
      "Failed requesting Friendly Advice\n"
     ]
    },
    {
     "name": "stderr",
     "output_type": "stream",
     "text": [
      "Processing Jerry Goldsmith_tracks.parquet:  34%|███▍      | 113/330 [00:03<00:06, 33.31it/s]"
     ]
    },
    {
     "name": "stdout",
     "output_type": "stream",
     "text": [
      "Failed requesting Showdown\n",
      "Failed requesting Trackdown\n",
      "Failed requesting The Ride Home / End Title\n",
      "Failed requesting Down In The Valley\n",
      "Failed requesting Sweet Betsy From Pike\n",
      "Failed requesting Skip To My Lou\n",
      "Failed requesting The Parachutes\n",
      "Failed requesting Parachute Attack\n",
      "Failed requesting The Motorcade\n"
     ]
    },
    {
     "name": "stderr",
     "output_type": "stream",
     "text": [
      "Processing Jerry Goldsmith_tracks.parquet:  35%|███▌      | 117/330 [00:03<00:06, 32.40it/s]"
     ]
    },
    {
     "name": "stdout",
     "output_type": "stream",
     "text": [
      "Failed requesting Guided Tour\n",
      "Failed requesting No Security\n",
      "Failed requesting Gibbs Fires\n",
      "Failed requesting The Hijacking - Part One & Two\n",
      "Failed requesting Empty Capsule\n",
      "Failed requesting Empty Hall, Downstairs, Hanging About\n",
      "Failed requesting Terms\n"
     ]
    },
    {
     "name": "stderr",
     "output_type": "stream",
     "text": [
      "Processing Jerry Goldsmith_tracks.parquet:  38%|███▊      | 125/330 [00:03<00:05, 34.30it/s]"
     ]
    },
    {
     "name": "stdout",
     "output_type": "stream",
     "text": [
      "Failed requesting Stalking The Plane\n",
      "Failed requesting Empty Rooms\n",
      "Failed requesting Get To Work\n",
      "Failed requesting K.V. & The Hostages\n",
      "Failed requesting NSA Is Shot\n",
      "Failed requesting Mother Russia\n",
      "Failed requesting Marshall On Phone\n",
      "Failed requesting Target Air Force One\n"
     ]
    },
    {
     "name": "stderr",
     "output_type": "stream",
     "text": [
      "Processing Jerry Goldsmith_tracks.parquet:  42%|████▏     | 137/330 [00:03<00:05, 34.79it/s]"
     ]
    },
    {
     "name": "stdout",
     "output_type": "stream",
     "text": [
      "Failed requesting Plane On The Ground\n",
      "Failed requesting Marshall's Plan\n",
      "Failed requesting The Drawing\n",
      "Failed requesting No Problem\n",
      "Failed requesting The River\n",
      "Failed requesting Picture Party\n",
      "Failed requesting A Little Joke\n",
      "Failed requesting The Family\n"
     ]
    },
    {
     "name": "stderr",
     "output_type": "stream",
     "text": [
      "Processing Jerry Goldsmith_tracks.parquet:  43%|████▎     | 141/330 [00:04<00:05, 35.76it/s]"
     ]
    },
    {
     "name": "stdout",
     "output_type": "stream",
     "text": [
      "Failed requesting Papa's Death\n",
      "Failed requesting Papa's Gone\n",
      "Failed requesting Baby and Monkeys\n",
      "Failed requesting Food Time\n",
      "Failed requesting No Play\n",
      "Failed requesting Where's Baby?\n",
      "Failed requesting The Cave\n",
      "Failed requesting Baby's Gone\n"
     ]
    },
    {
     "name": "stderr",
     "output_type": "stream",
     "text": [
      "Processing Jerry Goldsmith_tracks.parquet:  45%|████▌     | 149/330 [00:04<00:05, 34.35it/s]"
     ]
    },
    {
     "name": "stdout",
     "output_type": "stream",
     "text": [
      "Failed requesting The Captive\n",
      "Failed requesting Mother Is Free\n",
      "Failed requesting Baby's Alive\n",
      "Failed requesting Native Funeral\n",
      "Failed requesting Kaleri Night Party\n",
      "Failed requesting Back Stabber\n",
      "Failed requesting Rod Open Season 2\n",
      "Failed requesting Main Title Second Season\n"
     ]
    },
    {
     "name": "stderr",
     "output_type": "stream",
     "text": [
      "Processing Jerry Goldsmith_tracks.parquet:  49%|████▉     | 161/330 [00:04<00:04, 36.47it/s]"
     ]
    },
    {
     "name": "stdout",
     "output_type": "stream",
     "text": [
      "Failed requesting Back There\n",
      "Failed requesting The Big Tall Wish\n",
      "Failed requesting The Invaders\n",
      "Failed requesting Dust\n",
      "Failed requesting Jazz Theme 1\n",
      "Failed requesting Jazz Theme 2\n",
      "Failed requesting Nervous Man in a $4.00 Room\n",
      "Failed requesting End Title Second Season\n",
      "Failed requesting Main Title\n"
     ]
    },
    {
     "name": "stderr",
     "output_type": "stream",
     "text": [
      "Processing Jerry Goldsmith_tracks.parquet:  50%|█████     | 165/330 [00:04<00:05, 31.48it/s]"
     ]
    },
    {
     "name": "stdout",
     "output_type": "stream",
     "text": [
      "Failed requesting The Prisoner\n",
      "Failed requesting Get Me Out\n",
      "Failed requesting The Exterminator\n",
      "Failed requesting Where's the Water?\n"
     ]
    },
    {
     "name": "stderr",
     "output_type": "stream",
     "text": [
      "Processing Jerry Goldsmith_tracks.parquet:  52%|█████▏    | 173/330 [00:05<00:05, 30.68it/s]"
     ]
    },
    {
     "name": "stdout",
     "output_type": "stream",
     "text": [
      "Failed requesting The Fuse\n",
      "Failed requesting Bandits Ho\n",
      "Failed requesting Smoke Signals\n",
      "Failed requesting The River\n",
      "Failed requesting Unlucky Lover\n",
      "Failed requesting River Crossing\n",
      "Failed requesting The Aftermath\n",
      "Failed requesting Lassiter Remembers/The Lance\n"
     ]
    },
    {
     "name": "stderr",
     "output_type": "stream",
     "text": [
      "Processing Jerry Goldsmith_tracks.parquet:  54%|█████▎    | 177/330 [00:05<00:04, 32.14it/s]"
     ]
    },
    {
     "name": "stdout",
     "output_type": "stream",
     "text": [
      "Failed requesting Wall of Fire\n",
      "Failed requesting Lonely Indian\n",
      "Failed requesting Cantina\n",
      "Failed requesting A Change of Luck\n",
      "Failed requesting The Captive\n",
      "Failed requesting The Big Deal\n",
      "Failed requesting Chief Bloodshirt\n"
     ]
    },
    {
     "name": "stderr",
     "output_type": "stream",
     "text": [
      "Processing Jerry Goldsmith_tracks.parquet:  56%|█████▌    | 185/330 [00:05<00:04, 32.21it/s]"
     ]
    },
    {
     "name": "stdout",
     "output_type": "stream",
     "text": [
      "Failed requesting A New Home (From \"Playhouse 90: Marriage of Strangers\")\n",
      "Failed requesting Wedding Dinner (From \"Playhouse 90: Marriage of Strangers\")\n",
      "Failed requesting The Pearls / Caught in the Act (From \"Perry Mason: The Case of the Blushing Pearls\")\n",
      "Failed requesting Inquest / Poolside / Jewelry Store (From \"Perry Mason: The Case of the Blushing Pearls\")\n",
      "Failed requesting New Client (From \"Perry Mason: The Case of the Blushing Pearls\")\n",
      "Failed requesting Dead Man (From \"Perry Mason: The Case of the Blushing Pearls\")\n",
      "Failed requesting Missing Page / Private Eye / Gentle Warning (From \"Perry Mason: The Case of the Blushing Pearls\")\n"
     ]
    },
    {
     "name": "stderr",
     "output_type": "stream",
     "text": [
      "Processing Jerry Goldsmith_tracks.parquet:  58%|█████▊    | 193/330 [00:05<00:04, 33.40it/s]"
     ]
    },
    {
     "name": "stdout",
     "output_type": "stream",
     "text": [
      "Failed requesting Another Gentle Warning / The Arrest (From \"Perry Mason: The Case of the Blushing Pearls\")\n",
      "Failed requesting Confession / New Testimony (From \"Perry Mason: The Case of the Blushing Pearls\")\n",
      "Failed requesting Fake Pearls / Fire (From \"Perry Mason: The Case of the Blushing Pearls\")\n",
      "Failed requesting Guilty Party (From \"Perry Mason: The Case of the Blushing Pearls\")\n",
      "Failed requesting Tea House (From \"Perry Mason: The Case of the Blushing Pearls\")\n",
      "Failed requesting Winter Dreams (From \"Playhouse 90: Tomorrow\")\n",
      "Failed requesting Tomorrow / Every Night the Sun Goes Down / Jackson Fentry / Saw Mill / The Woman / The War Room / Morning / The Decision / The Farm / Fentry Comes Back / The Denial / The Visit (From \"Playhouse 90: Tomorrow\")\n",
      "Failed requesting The New Arrival (From \"Playhouse 90: Tomorrow\")\n"
     ]
    },
    {
     "name": "stderr",
     "output_type": "stream",
     "text": [
      "Processing Jerry Goldsmith_tracks.parquet:  61%|██████    | 201/330 [00:05<00:03, 34.97it/s]"
     ]
    },
    {
     "name": "stdout",
     "output_type": "stream",
     "text": [
      "Failed requesting The Villagers (From \"Cbs Production Music Library\")\n",
      "Failed requesting The Camp (From \"Cbs Production Music Library\")\n",
      "Failed requesting The Camp at Night (From \"Cbs Production Music Library\")\n",
      "Failed requesting Quiet Night (From \"Cbs Production Music Library\")\n",
      "Failed requesting Village Death (From \"Cbs Production Music Library\")\n",
      "Failed requesting Main Title\n"
     ]
    },
    {
     "name": "stderr",
     "output_type": "stream",
     "text": [
      "Processing Jerry Goldsmith_tracks.parquet:  63%|██████▎   | 209/330 [00:06<00:03, 32.77it/s]"
     ]
    },
    {
     "name": "stdout",
     "output_type": "stream",
     "text": [
      "Failed requesting Last Thoughts\n",
      "Failed requesting Thoughts Again\n",
      "Failed requesting Ask The Doctor\n",
      "Failed requesting Accepting Reality\n",
      "Failed requesting Don't Miss The Bus\n",
      "Failed requesting Intro/The Girl With Ribbons In Her Hair\n",
      "Failed requesting The Kibbutz\n",
      "Failed requesting Chiribim\n"
     ]
    },
    {
     "name": "stderr",
     "output_type": "stream",
     "text": [
      "Processing Jerry Goldsmith_tracks.parquet:  65%|██████▍   | 213/330 [00:06<00:03, 32.99it/s]"
     ]
    },
    {
     "name": "stdout",
     "output_type": "stream",
     "text": [
      "Failed requesting Sleepy Boy\n",
      "Failed requesting No Information\n",
      "Failed requesting The Old City\n",
      "Failed requesting A New Friend\n",
      "Failed requesting A Sin Against God\n",
      "Failed requesting The Legend\n"
     ]
    },
    {
     "name": "stderr",
     "output_type": "stream",
     "text": [
      "Processing Jerry Goldsmith_tracks.parquet:  67%|██████▋   | 221/330 [00:06<00:03, 27.72it/s]"
     ]
    },
    {
     "name": "stdout",
     "output_type": "stream",
     "text": [
      "Failed requesting Main Theme (From \"Rudy\")\n",
      "Failed requesting Main Theme (From \"Dennis the Menace\")\n",
      "Failed requesting Main Title (From \"The Waltons\")\n",
      "Failed requesting When You've Gone (From \"Babe\")\n",
      "Failed requesting Main Theme (From \"100 Rifles\")\n"
     ]
    },
    {
     "name": "stderr",
     "output_type": "stream",
     "text": [
      "Processing Jerry Goldsmith_tracks.parquet:  68%|██████▊   | 225/330 [00:06<00:03, 29.96it/s]"
     ]
    },
    {
     "name": "stdout",
     "output_type": "stream",
     "text": [
      "Failed requesting Love Theme (From \"Forever Young\")\n",
      "Failed requesting Main Theme (From \"Warning Shot\")\n",
      "Failed requesting The World Only Lovers See (From \"The Chairman\")\n",
      "Failed requesting Main Theme (From \"Morituri\")\n",
      "Failed requesting Love Theme (From \"The Prize\")\n",
      "Failed requesting Main Theme (From \"Coma\")\n",
      "Failed requesting Main Theme (From \"The Edge\")\n"
     ]
    },
    {
     "name": "stderr",
     "output_type": "stream",
     "text": [
      "Processing Jerry Goldsmith_tracks.parquet:  71%|███████   | 233/330 [00:06<00:02, 33.04it/s]"
     ]
    },
    {
     "name": "stdout",
     "output_type": "stream",
     "text": [
      "Failed requesting Main Theme (From \"The Other\")\n",
      "Failed requesting Resolution (From \"Runaway\")\n",
      "Failed requesting Main Theme (From \"Explorers\")\n",
      "Failed requesting Ilia's Theme (From \"Star Trek: The Motion Picture\")\n",
      "Failed requesting Main Theme (From \"Justine\")\n",
      "Failed requesting Love Theme (From \"The Sand Pebbles\")\n",
      "Failed requesting Free As the Wind (From \"Papillon\")\n",
      "Failed requesting Love Theme (From \"In Harm's Way\")\n"
     ]
    },
    {
     "name": "stderr",
     "output_type": "stream",
     "text": [
      "Processing Jerry Goldsmith_tracks.parquet:  73%|███████▎  | 241/330 [00:07<00:02, 31.05it/s]"
     ]
    },
    {
     "name": "stdout",
     "output_type": "stream",
     "text": [
      "Failed requesting Prelude\n",
      "Failed requesting Main Title\n",
      "Failed requesting The Lonely and the Brave\n",
      "Failed requesting Welcome Home\n",
      "Failed requesting The Tooth\n",
      "Failed requesting Adios Amigo\n",
      "Failed requesting Going to Town\n"
     ]
    },
    {
     "name": "stderr",
     "output_type": "stream",
     "text": [
      "Processing Jerry Goldsmith_tracks.parquet:  75%|███████▌  | 249/330 [00:07<00:02, 32.87it/s]"
     ]
    },
    {
     "name": "stdout",
     "output_type": "stream",
     "text": [
      "Failed requesting Bar Room Brawl\n",
      "Failed requesting That Dog\n",
      "Failed requesting No Surprise / Escape\n",
      "Failed requesting Worlds Apart\n",
      "Failed requesting Sleeping Child / Goodbyes\n",
      "Failed requesting On the Run\n",
      "Failed requesting Way Above the Foothills\n"
     ]
    },
    {
     "name": "stderr",
     "output_type": "stream",
     "text": [
      "Processing Jerry Goldsmith_tracks.parquet:  78%|███████▊  | 257/330 [00:07<00:02, 34.28it/s]"
     ]
    },
    {
     "name": "stdout",
     "output_type": "stream",
     "text": [
      "Failed requesting Resting Up\n",
      "Failed requesting Sudden Intrusion\n",
      "Failed requesting Closing In\n",
      "Failed requesting Anxious Moment\n",
      "Failed requesting Surprised Sadist\n",
      "Failed requesting Minus Whisky / Hard-Gained Ground\n",
      "Failed requesting Main Title\n",
      "Failed requesting A New Year\n"
     ]
    },
    {
     "name": "stderr",
     "output_type": "stream",
     "text": [
      "Processing Jerry Goldsmith_tracks.parquet:  80%|████████  | 265/330 [00:07<00:01, 34.19it/s]"
     ]
    },
    {
     "name": "stdout",
     "output_type": "stream",
     "text": [
      "Failed requesting Out of Work\n",
      "Failed requesting A Game of Pool\n",
      "Failed requesting Catherine\n",
      "Failed requesting No Hate\n",
      "Failed requesting The Sign\n",
      "Failed requesting No Break / The Job\n",
      "Failed requesting Protection / The Crises\n"
     ]
    },
    {
     "name": "stderr",
     "output_type": "stream",
     "text": [
      "Processing Jerry Goldsmith_tracks.parquet:  83%|████████▎ | 273/330 [00:08<00:01, 35.17it/s]"
     ]
    },
    {
     "name": "stdout",
     "output_type": "stream",
     "text": [
      "Failed requesting Desolation\n",
      "Failed requesting Destitute Man\n",
      "Failed requesting Get Away / Main Title\n",
      "Failed requesting Road Block\n",
      "Failed requesting Motel\n",
      "Failed requesting The Facts\n",
      "Failed requesting Medley #1\n",
      "Failed requesting Tennis Shoes\n"
     ]
    },
    {
     "name": "stderr",
     "output_type": "stream",
     "text": [
      "Processing Jerry Goldsmith_tracks.parquet:  84%|████████▍ | 277/330 [00:08<00:01, 29.90it/s]"
     ]
    },
    {
     "name": "stdout",
     "output_type": "stream",
     "text": [
      "Failed requesting The Shoes\n",
      "Failed requesting Medley #2\n",
      "Failed requesting You Can't Stay\n",
      "Failed requesting Taxicab\n",
      "Failed requesting Waiting\n",
      "Failed requesting Search\n"
     ]
    },
    {
     "name": "stderr",
     "output_type": "stream",
     "text": [
      "Processing Jerry Goldsmith_tracks.parquet:  86%|████████▋ | 285/330 [00:08<00:01, 32.54it/s]"
     ]
    },
    {
     "name": "stdout",
     "output_type": "stream",
     "text": [
      "Failed requesting Track Down\n",
      "Failed requesting End of the Road\n",
      "Failed requesting Finale\n",
      "Failed requesting Welcome To The Philippines / The Observers / The Sniper\n",
      "Failed requesting The Night Before\n",
      "Failed requesting The Mafia Marines\n",
      "Failed requesting The Hostage\n",
      "Failed requesting The Mission Begins\n"
     ]
    },
    {
     "name": "stderr",
     "output_type": "stream",
     "text": [
      "Processing Jerry Goldsmith_tracks.parquet:  89%|████████▉ | 293/330 [00:08<00:01, 32.43it/s]"
     ]
    },
    {
     "name": "stdout",
     "output_type": "stream",
     "text": [
      "Failed requesting The Rope Trick\n",
      "Failed requesting Night Flight\n",
      "Failed requesting The Ring / Not Thirsty\n",
      "Failed requesting The Archer\n",
      "Failed requesting Coffee Break\n",
      "Failed requesting Just A Little More / No Victories / End Title\n",
      "Failed requesting Main Title\n"
     ]
    },
    {
     "name": "stderr",
     "output_type": "stream",
     "text": [
      "Processing Jerry Goldsmith_tracks.parquet:  90%|█████████ | 297/330 [00:08<00:01, 29.76it/s]"
     ]
    },
    {
     "name": "stdout",
     "output_type": "stream",
     "text": [
      "Failed requesting The Trap\n",
      "Failed requesting El Jefe\n",
      "Failed requesting The Bait\n",
      "Failed requesting Ambushed\n",
      "Failed requesting Sabinas\n",
      "Failed requesting Dee's Proposal\n",
      "Failed requesting Across the River\n"
     ]
    },
    {
     "name": "stderr",
     "output_type": "stream",
     "text": [
      "Processing Jerry Goldsmith_tracks.parquet:  92%|█████████▏| 305/330 [00:09<00:00, 29.89it/s]"
     ]
    },
    {
     "name": "stdout",
     "output_type": "stream",
     "text": [
      "Failed requesting A Bad Day for Hanging\n",
      "Failed requesting A Better Way\n",
      "Failed requesting The World Only Lovers See - Orchestral\n",
      "Failed requesting The Chairman Main Title\n",
      "Failed requesting Goodbye For Now\n",
      "Failed requesting A Late Visitor\n",
      "Failed requesting The Marketplace\n"
     ]
    },
    {
     "name": "stderr",
     "output_type": "stream",
     "text": [
      "Processing Jerry Goldsmith_tracks.parquet:  95%|█████████▍| 313/330 [00:09<00:00, 29.87it/s]"
     ]
    },
    {
     "name": "stdout",
     "output_type": "stream",
     "text": [
      "Failed requesting The Tour\n",
      "Failed requesting Soong Chu\n",
      "Failed requesting The Red Guard\n",
      "Failed requesting Hathaway's Farewell\n",
      "Failed requesting Escape\n",
      "Failed requesting Fire Fight\n",
      "Failed requesting The Fence\n"
     ]
    },
    {
     "name": "stderr",
     "output_type": "stream",
     "text": [
      "Processing Jerry Goldsmith_tracks.parquet:  97%|█████████▋| 321/330 [00:09<00:00, 32.77it/s]"
     ]
    },
    {
     "name": "stdout",
     "output_type": "stream",
     "text": [
      "Failed requesting End Title\n",
      "Failed requesting The World That Only Lovers See - For Solo Piano\n",
      "Failed requesting The World That Only Lovers See\n",
      "Failed requesting End Title (From \"Star Trek: First Contact\")\n",
      "Failed requesting Main Title (From \"Capricorn One\")\n",
      "Failed requesting Main Title (From \"The Illustrated Man\")\n",
      "Failed requesting The Clothes Snatchers (From \"Planet Of The Apes\")\n",
      "Failed requesting The Hunt (From \"Planet Of The Apes\")\n"
     ]
    },
    {
     "name": "stderr",
     "output_type": "stream",
     "text": [
      "Processing Jerry Goldsmith_tracks.parquet: 100%|██████████| 330/330 [00:09<00:00, 33.46it/s]\n",
      "Processing Jerry Gonzalez_tracks.parquet:   0%|          | 0/203 [00:00<?, ?it/s]"
     ]
    },
    {
     "name": "stdout",
     "output_type": "stream",
     "text": [
      "Failed requesting The Mission (From \"The Sum Of All Fears\")\n",
      "Failed requesting End Title (From \"The Swarm\")\n",
      "Failed requesting End Title: Carol Anne's Theme (From \"Poltergeist\")\n",
      "Failed requesting Suite (From \"Gremlins\")\n",
      "Failed requesting Suite (From \"The Omen\")\n",
      "Failed requesting Main Title (From \"Total Recall\")\n",
      "Failed requesting End Title (From \"The Final Conflict\")\n",
      "Failed requesting Someday My Prints will Come (Back from the FBI)\n"
     ]
    },
    {
     "name": "stderr",
     "output_type": "stream",
     "text": [
      "Processing Jerry Gonzalez_tracks.parquet:   4%|▍         | 9/203 [00:00<00:05, 38.50it/s]"
     ]
    },
    {
     "name": "stdout",
     "output_type": "stream",
     "text": [
      "Failed requesting Resolution\n",
      "Failed requesting Equipoise\n",
      "Failed requesting Tenderly\n",
      "Failed requesting Obsesion\n",
      "Failed requesting Love for Sale\n",
      "Failed requesting In a Sentimental Mood\n",
      "Failed requesting Avisale a mi contrario\n",
      "Failed requesting Hubo Un Lugar\n",
      "Failed requesting Rosa Para Julia\n"
     ]
    },
    {
     "name": "stderr",
     "output_type": "stream",
     "text": [
      "Processing Jerry Gonzalez_tracks.parquet:   6%|▋         | 13/203 [00:00<00:06, 28.86it/s]"
     ]
    },
    {
     "name": "stdout",
     "output_type": "stream",
     "text": [
      "Failed requesting En El Coraz?n De Pescader?as\n",
      "Failed requesting Gitanos De La Cava\n",
      "Failed requesting Pirata De Luc?a\n",
      "Failed requesting Donnali\n",
      "Failed requesting Monk'S Soniquete\n"
     ]
    },
    {
     "name": "stderr",
     "output_type": "stream",
     "text": [
      "Processing Jerry Gonzalez_tracks.parquet:  10%|█         | 21/203 [00:00<00:05, 31.65it/s]"
     ]
    },
    {
     "name": "stdout",
     "output_type": "stream",
     "text": [
      "Failed requesting Al Abordaje\n",
      "Failed requesting Obsesion\n",
      "Failed requesting Familia Se Reunion\n",
      "Failed requesting Samba La Pamela\n",
      "Failed requesting Por Mis Hermanos\n",
      "Failed requesting I Didn't Know What Time It Was\n"
     ]
    },
    {
     "name": "stderr",
     "output_type": "stream",
     "text": [
      "Processing Jerry Gonzalez_tracks.parquet:  12%|█▏        | 25/203 [00:00<00:06, 26.78it/s]"
     ]
    },
    {
     "name": "stdout",
     "output_type": "stream",
     "text": [
      "Failed requesting Reminiscing\n",
      "Failed requesting Hasta Manana\n",
      "Failed requesting Songo Festividad\n",
      "Failed requesting Fly By Night\n",
      "Failed requesting Pamela's Holiday\n",
      "Failed requesting I Mean You\n",
      "Failed requesting Amor Casi Imposible\n"
     ]
    },
    {
     "name": "stderr",
     "output_type": "stream",
     "text": [
      "Processing Jerry Gonzalez_tracks.parquet:  16%|█▋        | 33/203 [00:01<00:05, 30.91it/s]"
     ]
    },
    {
     "name": "stdout",
     "output_type": "stream",
     "text": [
      "Failed requesting Straight no Chaser\n",
      "Failed requesting Amstel\n",
      "Failed requesting Someday my Prince Will Come\n",
      "Failed requesting Para ti\n",
      "Failed requesting Summertime\n",
      "Failed requesting Monk's Dream\n",
      "Failed requesting Siempre Junto a ti\n",
      "Failed requesting Domino\n"
     ]
    },
    {
     "name": "stderr",
     "output_type": "stream",
     "text": [
      "Processing Jerry Gonzalez_tracks.parquet:  20%|██        | 41/203 [00:01<00:05, 31.70it/s]"
     ]
    },
    {
     "name": "stdout",
     "output_type": "stream",
     "text": [
      "Failed requesting Blue Monk\n",
      "Failed requesting Rush & Hustle\n",
      "Failed requesting My Shining Hour\n",
      "Failed requesting The Hooptie\n",
      "Failed requesting Pamela's Holiday\n",
      "Failed requesting Gonna Take You Out\n",
      "Failed requesting Urban Lullaby\n"
     ]
    },
    {
     "name": "stderr",
     "output_type": "stream",
     "text": [
      "Processing Jerry Gonzalez_tracks.parquet:  24%|██▍       | 49/203 [00:01<00:04, 33.41it/s]"
     ]
    },
    {
     "name": "stdout",
     "output_type": "stream",
     "text": [
      "Failed requesting Saga Of A Carrot\n",
      "Failed requesting Rush & Hustle\n",
      "Failed requesting My Shining Hour\n",
      "Failed requesting The Hooptie\n",
      "Failed requesting Pamela's Holiday\n",
      "Failed requesting Gonna Take You Out\n",
      "Failed requesting Urban Lullaby\n",
      "Failed requesting Saga Of A Carrot\n"
     ]
    },
    {
     "name": "stderr",
     "output_type": "stream",
     "text": [
      "Processing Jerry Gonzalez_tracks.parquet:  28%|██▊       | 57/203 [00:01<00:04, 33.30it/s]"
     ]
    },
    {
     "name": "stdout",
     "output_type": "stream",
     "text": [
      "Failed requesting Obsesion\n",
      "Failed requesting Verdad Amarga\n",
      "Failed requesting Interior Motive\n",
      "Failed requesting Summertime\n",
      "Failed requesting Los Pingaleros\n",
      "Failed requesting Stardust\n",
      "Failed requesting El Toro\n"
     ]
    },
    {
     "name": "stderr",
     "output_type": "stream",
     "text": [
      "Processing Jerry Gonzalez_tracks.parquet:  30%|███       | 61/203 [00:01<00:04, 34.58it/s]"
     ]
    },
    {
     "name": "stdout",
     "output_type": "stream",
     "text": [
      "Failed requesting Moliendo Caf?\n",
      "Failed requesting Corcovado\n",
      "Failed requesting To Wisdom The Prize\n",
      "Failed requesting Night Fall\n",
      "Failed requesting Fe Fi Fi Fum\n",
      "Failed requesting Let'S Call This\n",
      "Failed requesting When I Fall In Love\n"
     ]
    },
    {
     "name": "stderr",
     "output_type": "stream",
     "text": [
      "Processing Jerry Gonzalez_tracks.parquet:  34%|███▍      | 69/203 [00:02<00:04, 33.31it/s]"
     ]
    },
    {
     "name": "stdout",
     "output_type": "stream",
     "text": [
      "Failed requesting \"81\"\n",
      "Failed requesting Earthdance\n",
      "Failed requesting Los Roncos\n",
      "Failed requesting Monk'S Mood\n",
      "Failed requesting Bye-Ya\n",
      "Failed requesting Nutty\n",
      "Failed requesting Little Rootie Tootie\n",
      "Failed requesting Misterioso\n"
     ]
    },
    {
     "name": "stderr",
     "output_type": "stream",
     "text": [
      "Processing Jerry Gonzalez_tracks.parquet:  38%|███▊      | 77/203 [00:02<00:03, 34.32it/s]"
     ]
    },
    {
     "name": "stdout",
     "output_type": "stream",
     "text": [
      "Failed requesting Ugly Beauty\n",
      "Failed requesting Reflections\n",
      "Failed requesting Jackie-Ing\n",
      "Failed requesting Agueybana Zemi\n",
      "Failed requesting Nefertiti\n",
      "Failed requesting Yo Ya Me Cure\n",
      "Failed requesting The Lucy Theme\n"
     ]
    },
    {
     "name": "stderr",
     "output_type": "stream",
     "text": [
      "Processing Jerry Gonzalez_tracks.parquet:  42%|████▏     | 85/203 [00:02<00:03, 33.86it/s]"
     ]
    },
    {
     "name": "stdout",
     "output_type": "stream",
     "text": [
      "Failed requesting Evidence\n",
      "Failed requesting Baba Fieden Orisha\n",
      "Failed requesting Caravan\n",
      "Failed requesting Introduction by Jerry Gonzalez\n",
      "Failed requesting Elegua\n",
      "Failed requesting Bebop\n",
      "Failed requesting Rio Esta Hondo\n",
      "Failed requesting Guiro Apache\n"
     ]
    },
    {
     "name": "stderr",
     "output_type": "stream",
     "text": [
      "Processing Jerry Gonzalez_tracks.parquet:  46%|████▌     | 93/203 [00:02<00:03, 33.76it/s]"
     ]
    },
    {
     "name": "stdout",
     "output_type": "stream",
     "text": [
      "Failed requesting Parisian Thoroughfare\n",
      "Failed requesting Wawina Era Wo\n",
      "Failed requesting Tu Padre Te da un Consejo\n",
      "Failed requesting Una Copita de Cardamomo\n",
      "Failed requesting Respeto Ya No Hay\n"
     ]
    },
    {
     "name": "stderr",
     "output_type": "stream",
     "text": [
      "Processing Jerry Gonzalez_tracks.parquet:  48%|████▊     | 97/203 [00:03<00:03, 28.69it/s]"
     ]
    },
    {
     "name": "stdout",
     "output_type": "stream",
     "text": [
      "Failed requesting Cuando Pienso en Ti\n",
      "Failed requesting A la Lima y al Limon\n",
      "Failed requesting La Gitana de Zaragoza\n",
      "Failed requesting Flores Le Traigo\n",
      "Failed requesting Mis Siete Caracoles\n",
      "Failed requesting Vente a Casa Patas\n",
      "Failed requesting Me Falta el Aire\n",
      "Failed requesting Todo Tiene Su Tiempo\n"
     ]
    },
    {
     "name": "stderr",
     "output_type": "stream",
     "text": [
      "Processing Jerry Gonzalez_tracks.parquet:  52%|█████▏    | 105/203 [00:03<00:03, 28.10it/s]"
     ]
    },
    {
     "name": "stdout",
     "output_type": "stream",
     "text": [
      "Failed requesting A Lo Juan Antonio Salazar\n",
      "Failed requesting Al Maestro Camaron\n",
      "Failed requesting 14 Manzanita de Mi Alma\n",
      "Failed requesting Songo Festividad\n",
      "Failed requesting Plena Plenty\n",
      "Failed requesting Beneficient\n",
      "Failed requesting Wendell's Abakua\n"
     ]
    },
    {
     "name": "stderr",
     "output_type": "stream",
     "text": [
      "Processing Jerry Gonzalez_tracks.parquet:  56%|█████▌    | 113/203 [00:03<00:03, 29.92it/s]"
     ]
    },
    {
     "name": "stdout",
     "output_type": "stream",
     "text": [
      "Failed requesting Negro Con Leche (The Bomba)\n",
      "Failed requesting Danis's Bounce\n",
      "Failed requesting Hometown\n",
      "Failed requesting Familia Se Reunion\n",
      "Failed requesting Samba La Pamela\n",
      "Failed requesting Hasta Manana\n",
      "Failed requesting Ancestors\n"
     ]
    },
    {
     "name": "stderr",
     "output_type": "stream",
     "text": [
      "Processing Jerry Gonzalez_tracks.parquet:  60%|█████▉    | 121/203 [00:03<00:02, 30.79it/s]"
     ]
    },
    {
     "name": "stdout",
     "output_type": "stream",
     "text": [
      "Failed requesting Khalil's Promise\n",
      "Failed requesting How Do We End All This Madness\n",
      "Failed requesting Marcus Garvey\n",
      "Failed requesting Catumbela\n",
      "Failed requesting Ibiza Sunrise\n",
      "Failed requesting Bajando del Mirador\n",
      "Failed requesting Te Lo Juro Yo\n"
     ]
    },
    {
     "name": "stderr",
     "output_type": "stream",
     "text": [
      "Processing Jerry Gonzalez_tracks.parquet:  62%|██████▏   | 125/203 [00:03<00:02, 31.53it/s]"
     ]
    },
    {
     "name": "stdout",
     "output_type": "stream",
     "text": [
      "Failed requesting Billie Jean\n",
      "Failed requesting Nuevo Planeta\n",
      "Failed requesting Bulerías de Aranjuez\n",
      "Failed requesting Oblivion\n",
      "Failed requesting El Albéitar\n",
      "Failed requesting Gnossienne 4\n",
      "Failed requesting Dime Tú\n"
     ]
    },
    {
     "name": "stderr",
     "output_type": "stream",
     "text": [
      "Processing Jerry Gonzalez_tracks.parquet:  66%|██████▌   | 133/203 [00:04<00:02, 32.21it/s]"
     ]
    },
    {
     "name": "stdout",
     "output_type": "stream",
     "text": [
      "Failed requesting Orgium\n",
      "Failed requesting Éufrates\n",
      "Failed requesting El Cairo Latino\n",
      "Failed requesting La Bikina\n",
      "Failed requesting Titonete\n",
      "Failed requesting Cigana\n",
      "Failed requesting Peteneras del Padecer\n",
      "Failed requesting Duende y Aché\n"
     ]
    },
    {
     "name": "stderr",
     "output_type": "stream",
     "text": [
      "Processing Jerry Gonzalez_tracks.parquet:  69%|██████▉   | 141/203 [00:04<00:01, 32.16it/s]"
     ]
    },
    {
     "name": "stdout",
     "output_type": "stream",
     "text": [
      "Failed requesting Eviva Samba\n",
      "Failed requesting Vente pa' Madrid\n",
      "Failed requesting Nubes de Colores\n",
      "Failed requesting Adiós Tristeza\n",
      "Failed requesting Y Yo Qué Culpa Tengo\n",
      "Failed requesting Medias Sevillanas\n",
      "Failed requesting Lo Bueno y Lo Malo\n"
     ]
    },
    {
     "name": "stderr",
     "output_type": "stream",
     "text": [
      "Processing Jerry Gonzalez_tracks.parquet:  73%|███████▎  | 149/203 [00:04<00:01, 35.38it/s]"
     ]
    },
    {
     "name": "stdout",
     "output_type": "stream",
     "text": [
      "Failed requesting Quiero Estar Contigo\n",
      "Failed requesting Ya No Quiero Tu Querer\n",
      "Failed requesting Mundi\n",
      "Failed requesting Al Niño Miguel\n",
      "Failed requesting Me Llama\n",
      "Failed requesting Camarón\n",
      "Failed requesting Bulería Negra del Gastor\n",
      "Failed requesting José Monge Cruz\n"
     ]
    },
    {
     "name": "stderr",
     "output_type": "stream",
     "text": [
      "Processing Jerry Gonzalez_tracks.parquet:  77%|███████▋  | 157/203 [00:04<00:01, 34.65it/s]"
     ]
    },
    {
     "name": "stdout",
     "output_type": "stream",
     "text": [
      "Failed requesting Manuel\n",
      "Failed requesting Jeta\n",
      "Failed requesting ¡Viva Cai!\n",
      "Failed requesting Monasterio de Sal\n",
      "Failed requesting Puñaíto de Alfileres\n",
      "Failed requesting Amores\n",
      "Failed requesting El Paso I\n"
     ]
    },
    {
     "name": "stderr",
     "output_type": "stream",
     "text": [
      "Processing Jerry Gonzalez_tracks.parquet:  79%|███████▉  | 161/203 [00:05<00:01, 30.12it/s]"
     ]
    },
    {
     "name": "stdout",
     "output_type": "stream",
     "text": [
      "Failed requesting La Moruna\n",
      "Failed requesting 41 Grados\n",
      "Failed requesting La Pacheca\n",
      "Failed requesting Rumba Apalaoossa\n",
      "Failed requesting Mesteño\n"
     ]
    },
    {
     "name": "stderr",
     "output_type": "stream",
     "text": [
      "Processing Jerry Gonzalez_tracks.parquet:  83%|████████▎ | 169/203 [00:05<00:01, 30.39it/s]"
     ]
    },
    {
     "name": "stdout",
     "output_type": "stream",
     "text": [
      "Failed requesting Alboroque\n",
      "Failed requesting Viaje por Soleá\n",
      "Failed requesting El Paso Il\n",
      "Failed requesting Para Mi Amigo Paco\n",
      "Failed requesting Cayos Reales (Vámonos)\n",
      "Failed requesting Aguas De Funk (Vámonos)\n",
      "Failed requesting Al Gran Paco\n"
     ]
    },
    {
     "name": "stderr",
     "output_type": "stream",
     "text": [
      "Processing Jerry Gonzalez_tracks.parquet:  87%|████████▋ | 177/203 [00:05<00:00, 30.10it/s]"
     ]
    },
    {
     "name": "stdout",
     "output_type": "stream",
     "text": [
      "Failed requesting Alma De Lucía\n",
      "Failed requesting La Otra Orilla\n",
      "Failed requesting ¡Vámonos, Jorge!\n",
      "Failed requesting Paco\n",
      "Failed requesting Al Otro Lado Del Agua\n",
      "Failed requesting Julia Amelia\n",
      "Failed requesting Amparo\n"
     ]
    },
    {
     "name": "stderr",
     "output_type": "stream",
     "text": [
      "Processing Jerry Gonzalez_tracks.parquet:  89%|████████▉ | 181/203 [00:05<00:00, 31.22it/s]"
     ]
    },
    {
     "name": "stdout",
     "output_type": "stream",
     "text": [
      "Failed requesting ¡Vámonos, Hermano!\n",
      "Failed requesting De Perdidos al Río - Strings\n",
      "Failed requesting Primera Y Última Vez\n",
      "Failed requesting Her Song\n",
      "Failed requesting Vámonos - Live In Spain / 2010\n",
      "Failed requesting Zapatito (feat. Diego Guerrero & Jeff Ballard) - Bulería\n",
      "Failed requesting Chulo Miguel (feat. Rubén de Rosario & Sergio Martínez) - Bolero\n"
     ]
    },
    {
     "name": "stderr",
     "output_type": "stream",
     "text": [
      "Processing Jerry Gonzalez_tracks.parquet:  93%|█████████▎| 189/203 [00:05<00:00, 32.14it/s]"
     ]
    },
    {
     "name": "stdout",
     "output_type": "stream",
     "text": [
      "Failed requesting Y Tú También (feat. Santi Ibarretx & Dave Samuels) - Bulería\n",
      "Failed requesting En el Humo (feat. Norman Hogue & Pablo Baez) - Rumba\n",
      "Failed requesting Cora Cora (feat. Victor Mendoza & Raul Rodríguez) - Bulería\n",
      "Failed requesting El Rio (feat. Rubén Heredia, \"Mushogitano\" & Pablo Martín Caminero) - Jaleo\n",
      "Failed requesting El Faro (feat. Jerry González & Agustín Carbonell \"El Bola\") - Rumba\n",
      "Failed requesting De Madrugada en el Tito`s (feat. Javier Colina & Juan Grande) - Bulería\n",
      "Failed requesting Surcos (feat. Juan Peña \"El Chispa\") - Bulería\n"
     ]
    },
    {
     "name": "stderr",
     "output_type": "stream",
     "text": [
      "Processing Jerry Gonzalez_tracks.parquet:  97%|█████████▋| 197/203 [00:06<00:00, 33.97it/s]"
     ]
    },
    {
     "name": "stdout",
     "output_type": "stream",
     "text": [
      "Failed requesting Al Despertar (feat. Diego Guerrero & Enric Monfort) - Bulería\n",
      "Failed requesting Huellas (feat. Niño Josele & Toni Cuenca) - Fandango\n",
      "Failed requesting Los Juncos (feat. Mati González & Richard Sprince) - Rumba\n",
      "Failed requesting Puerta del Sol Expresso (feat. Gil Goldstein & Paquete) - Zambra\n",
      "Failed requesting Sanlúcar-Mojácar (feat. Othello Molineaux & Carles Benavent) - Bulería\n",
      "Failed requesting Cometas (feat. Antonio Serrano & Luis Balaguer) - Tanguito\n",
      "Failed requesting Maid Marian (feat. David Pastor & Josemi Carmona) - Bulería\n",
      "Failed requesting Chungalí (feat. Antonio Restucci & Pedro Sanz) - Rumba\n"
     ]
    },
    {
     "name": "stderr",
     "output_type": "stream",
     "text": [
      "Processing Jerry Gonzalez_tracks.parquet: 100%|██████████| 203/203 [00:06<00:00, 32.18it/s]\n",
      "Processing Jerry Jeff Walker_tracks.parquet:   2%|▏         | 4/260 [00:00<00:06, 39.91it/s]"
     ]
    },
    {
     "name": "stdout",
     "output_type": "stream",
     "text": [
      "Failed requesting Una Noche en el Aku (feat. Juan Diego) - Bulería\n",
      "Failed requesting A Tu Mare Rosa (feat. Juan Diego) - Cantiña\n",
      "Failed requesting Amparito Roca (feat. Niño Josele) - Pasodoble\n",
      "Failed requesting Gypsy Songman\n",
      "Failed requesting Mr. Bojangles\n",
      "Failed requesting Little Bird\n",
      "Failed requesting I Makes Money (Money Don't Make Me)\n",
      "Failed requesting Round and Round\n",
      "Failed requesting I Keep Changin'\n",
      "Failed requesting Maybe Mexico\n",
      "Failed requesting Broken Toys\n"
     ]
    },
    {
     "name": "stderr",
     "output_type": "stream",
     "text": [
      "Processing Jerry Jeff Walker_tracks.parquet:   3%|▎         | 9/260 [00:01<00:38,  6.48it/s]"
     ]
    },
    {
     "name": "stdout",
     "output_type": "stream",
     "text": [
      "Failed requesting My Old Man\n",
      "Failed requesting Help Me Now\n"
     ]
    },
    {
     "name": "stderr",
     "output_type": "stream",
     "text": [
      "Processing Jerry Jeff Walker_tracks.parquet:   5%|▌         | 14/260 [00:03<01:16,  3.23it/s]"
     ]
    },
    {
     "name": "stdout",
     "output_type": "stream",
     "text": [
      "Failed requesting About Her Eyes\n"
     ]
    },
    {
     "name": "stderr",
     "output_type": "stream",
     "text": [
      "Processing Jerry Jeff Walker_tracks.parquet:   9%|▉         | 24/260 [00:13<03:53,  1.01it/s]"
     ]
    },
    {
     "name": "stdout",
     "output_type": "stream",
     "text": [
      "Failed requesting Till I Gain Control Again - Live 1977\n",
      "Failed requesting Key to the Highway - Live 1977\n"
     ]
    },
    {
     "name": "stderr",
     "output_type": "stream",
     "text": [
      "Processing Jerry Jeff Walker_tracks.parquet:  10%|█         | 27/260 [00:14<02:31,  1.54it/s]"
     ]
    },
    {
     "name": "stdout",
     "output_type": "stream",
     "text": [
      "Failed requesting We Were Crazy Then - Live 1977\n",
      "Failed requesting Ain't Got No Home - Live 1977\n"
     ]
    },
    {
     "name": "stderr",
     "output_type": "stream",
     "text": [
      "Processing Jerry Jeff Walker_tracks.parquet:  15%|█▌        | 40/260 [00:18<00:45,  4.82it/s]"
     ]
    },
    {
     "name": "stdout",
     "output_type": "stream",
     "text": [
      "Failed requesting Dixie/Battle Hymn of the Republic - Live 1977\n",
      "Failed requesting Will The Circle Be Unbroken - Live 1977\n",
      "Failed requesting That's Why I Play\n",
      "Failed requesting California Song\n",
      "Failed requesting Because of You\n",
      "Failed requesting My Favorite Picture of You\n",
      "Failed requesting Somethin' Bout a Boat\n",
      "Failed requesting But for the Time\n"
     ]
    },
    {
     "name": "stderr",
     "output_type": "stream",
     "text": [
      "Processing Jerry Jeff Walker_tracks.parquet:  17%|█▋        | 44/260 [00:18<00:30,  7.19it/s]"
     ]
    },
    {
     "name": "stdout",
     "output_type": "stream",
     "text": [
      "Failed requesting Ballad of Honest Sam\n",
      "Failed requesting South Coast\n",
      "Failed requesting Rain Song\n",
      "Failed requesting Old Shep\n",
      "Failed requesting Old New Mexico\n",
      "Failed requesting Little Bird\n"
     ]
    },
    {
     "name": "stderr",
     "output_type": "stream",
     "text": [
      "Processing Jerry Jeff Walker_tracks.parquet:  18%|█▊        | 47/260 [00:19<00:43,  4.89it/s]"
     ]
    },
    {
     "name": "stdout",
     "output_type": "stream",
     "text": [
      "Failed requesting Up Against the Wall Redneck Mother\n"
     ]
    },
    {
     "name": "stderr",
     "output_type": "stream",
     "text": [
      "Processing Jerry Jeff Walker_tracks.parquet:  20%|█▉        | 51/260 [00:21<01:10,  2.98it/s]"
     ]
    },
    {
     "name": "stdout",
     "output_type": "stream",
     "text": [
      "Failed requesting Mr. Bojangles\n",
      "Failed requesting Hands On the Wheel\n"
     ]
    },
    {
     "name": "stderr",
     "output_type": "stream",
     "text": [
      "Processing Jerry Jeff Walker_tracks.parquet:  20%|██        | 53/260 [00:22<01:19,  2.60it/s]"
     ]
    },
    {
     "name": "stdout",
     "output_type": "stream",
     "text": [
      "Failed requesting L. A. Freeway\n",
      "Failed requesting I Like to Sleep Late In the Morning\n",
      "Failed requesting Gettin' By\n"
     ]
    },
    {
     "name": "stderr",
     "output_type": "stream",
     "text": [
      "Processing Jerry Jeff Walker_tracks.parquet:  23%|██▎       | 61/260 [00:23<00:44,  4.48it/s]"
     ]
    },
    {
     "name": "stdout",
     "output_type": "stream",
     "text": [
      "Failed requesting Desperados Waiting for a Train\n",
      "Failed requesting Rockin' Chair\n",
      "Failed requesting Pissin' In The Wind\n",
      "Failed requesting Takin' It As It Comes\n"
     ]
    },
    {
     "name": "stderr",
     "output_type": "stream",
     "text": [
      "Processing Jerry Jeff Walker_tracks.parquet:  26%|██▌       | 67/260 [00:30<02:12,  1.45it/s]"
     ]
    },
    {
     "name": "stdout",
     "output_type": "stream",
     "text": [
      "Failed requesting Mr. Bojangles\n"
     ]
    },
    {
     "name": "stderr",
     "output_type": "stream",
     "text": [
      "Processing Jerry Jeff Walker_tracks.parquet:  33%|███▎      | 86/260 [00:44<01:09,  2.50it/s]"
     ]
    },
    {
     "name": "stdout",
     "output_type": "stream",
     "text": [
      "Failed requesting Driftin' Way of Life\n",
      "Failed requesting Moon Child\n",
      "Failed requesting Tonight I Think I'm Gonna Go Downtown\n",
      "Failed requesting The Poet Is Not In Today\n",
      "Failed requesting Dare Of An Angel\n"
     ]
    },
    {
     "name": "stderr",
     "output_type": "stream",
     "text": [
      "Processing Jerry Jeff Walker_tracks.parquet:  34%|███▍      | 88/260 [00:45<01:15,  2.27it/s]"
     ]
    },
    {
     "name": "stdout",
     "output_type": "stream",
     "text": [
      "Failed requesting Down In Belize\n",
      "Failed requesting Caribbean Moon\n",
      "Failed requesting What True Love Is All About\n"
     ]
    },
    {
     "name": "stderr",
     "output_type": "stream",
     "text": [
      "Processing Jerry Jeff Walker_tracks.parquet:  37%|███▋      | 96/260 [00:47<00:37,  4.34it/s]"
     ]
    },
    {
     "name": "stdout",
     "output_type": "stream",
     "text": [
      "Failed requesting The Vows\n",
      "Failed requesting Back Home Again\n",
      "Failed requesting Driftin' Way Of Life\n",
      "Failed requesting Louise\n",
      "Failed requesting Mr. Bojangles\n",
      "Failed requesting Trying To Live Right\n",
      "Failed requesting Lost Sea Shanty\n",
      "Failed requesting Fading Lady\n"
     ]
    },
    {
     "name": "stderr",
     "output_type": "stream",
     "text": [
      "Processing Jerry Jeff Walker_tracks.parquet:  40%|████      | 104/260 [00:47<00:17,  8.91it/s]"
     ]
    },
    {
     "name": "stdout",
     "output_type": "stream",
     "text": [
      "Failed requesting No Roots In Ramblin'\n",
      "Failed requesting Morning Song To Sally\n",
      "Failed requesting Dust On My Boots\n",
      "Failed requesting North Cumberland Blues\n",
      "Failed requesting It Don't Matter\n",
      "Failed requesting Little Old Town Called New Orleans\n",
      "Failed requesting Texas On My Mind\n"
     ]
    },
    {
     "name": "stderr",
     "output_type": "stream",
     "text": [
      "Processing Jerry Jeff Walker_tracks.parquet:  43%|████▎     | 112/260 [00:47<00:09, 15.10it/s]"
     ]
    },
    {
     "name": "stdout",
     "output_type": "stream",
     "text": [
      "Failed requesting The Cape\n",
      "Failed requesting Alright Guy\n",
      "Failed requesting Where Was I\n",
      "Failed requesting Candles and Cut Flowers\n",
      "Failed requesting Every Drop Of Water\n",
      "Failed requesting Let The Ponies Run\n",
      "Failed requesting She Made Herself A Promise\n",
      "Failed requesting The Other Jerry Jeff\n"
     ]
    },
    {
     "name": "stderr",
     "output_type": "stream",
     "text": [
      "Processing Jerry Jeff Walker_tracks.parquet:  46%|████▌     | 120/260 [00:47<00:06, 21.45it/s]"
     ]
    },
    {
     "name": "stdout",
     "output_type": "stream",
     "text": [
      "Failed requesting Dang Me\n",
      "Failed requesting Down The Road\n",
      "Failed requesting Gypsy Songman\n",
      "Failed requesting Pass It On\n",
      "Failed requesting Got Lucky Last Night\n",
      "Failed requesting Railroad Lady\n",
      "Failed requesting Jaded Lover\n",
      "Failed requesting Long Afternoons\n"
     ]
    },
    {
     "name": "stderr",
     "output_type": "stream",
     "text": [
      "Processing Jerry Jeff Walker_tracks.parquet:  48%|████▊     | 124/260 [00:47<00:05, 24.50it/s]"
     ]
    },
    {
     "name": "stdout",
     "output_type": "stream",
     "text": [
      "Failed requesting Cadillac Cowboy\n",
      "Failed requesting Charlie Dunn\n",
      "Failed requesting Driftin' Way Of Life\n",
      "Failed requesting David & Me\n",
      "Failed requesting Mr. Bojangles\n"
     ]
    },
    {
     "name": "stderr",
     "output_type": "stream",
     "text": [
      "Processing Jerry Jeff Walker_tracks.parquet:  50%|████▉     | 129/260 [00:49<00:13,  9.39it/s]"
     ]
    },
    {
     "name": "stdout",
     "output_type": "stream",
     "text": [
      "Failed requesting Hands On The Wheel\n",
      "Failed requesting Borderline\n"
     ]
    },
    {
     "name": "stderr",
     "output_type": "stream",
     "text": [
      "Processing Jerry Jeff Walker_tracks.parquet:  52%|█████▏    | 134/260 [00:51<00:29,  4.29it/s]"
     ]
    },
    {
     "name": "stdout",
     "output_type": "stream",
     "text": [
      "Failed requesting Django's Lullaby\n"
     ]
    },
    {
     "name": "stderr",
     "output_type": "stream",
     "text": [
      "Processing Jerry Jeff Walker_tracks.parquet:  55%|█████▌    | 144/260 [00:57<00:40,  2.84it/s]"
     ]
    },
    {
     "name": "stdout",
     "output_type": "stream",
     "text": [
      "Failed requesting Last Night I Fell In Love Again\n",
      "Failed requesting The Man He Used To Be\n",
      "Failed requesting Curly and Lil\n",
      "Failed requesting The Dutchman\n",
      "Failed requesting To The Artist\n",
      "Failed requesting Hill Country Rain\n"
     ]
    },
    {
     "name": "stderr",
     "output_type": "stream",
     "text": [
      "Processing Jerry Jeff Walker_tracks.parquet:  57%|█████▋    | 147/260 [00:58<00:40,  2.79it/s]"
     ]
    },
    {
     "name": "stdout",
     "output_type": "stream",
     "text": [
      "Failed requesting It's Always You\n"
     ]
    },
    {
     "name": "stderr",
     "output_type": "stream",
     "text": [
      "Processing Jerry Jeff Walker_tracks.parquet:  59%|█████▉    | 154/260 [01:00<00:29,  3.56it/s]"
     ]
    },
    {
     "name": "stdout",
     "output_type": "stream",
     "text": [
      "Failed requesting My Funny Valentine\n",
      "Failed requesting Takin' A Chance On Love\n",
      "Failed requesting Everything Happens To Me\n",
      "Failed requesting In The Wee Small Hours\n"
     ]
    },
    {
     "name": "stderr",
     "output_type": "stream",
     "text": [
      "Processing Jerry Jeff Walker_tracks.parquet:  62%|██████▏   | 160/260 [01:03<00:28,  3.48it/s]"
     ]
    },
    {
     "name": "stdout",
     "output_type": "stream",
     "text": [
      "Failed requesting There Will Never Be Another You\n",
      "Failed requesting Time After Time\n",
      "Failed requesting I Get Along Without You Very Well\n",
      "Failed requesting Look For The Silver Lining\n"
     ]
    },
    {
     "name": "stderr",
     "output_type": "stream",
     "text": [
      "Processing Jerry Jeff Walker_tracks.parquet:  65%|██████▍   | 168/260 [01:06<00:26,  3.43it/s]"
     ]
    },
    {
     "name": "stdout",
     "output_type": "stream",
     "text": [
      "Failed requesting I Feel Like Hank Williams Tonight\n",
      "Failed requesting Man With The Big Hat\n",
      "Failed requesting Quiet Faith Of Man\n",
      "Failed requesting Little Bird\n",
      "Failed requesting Woman In Texas\n"
     ]
    },
    {
     "name": "stderr",
     "output_type": "stream",
     "text": [
      "Processing Jerry Jeff Walker_tracks.parquet:  68%|██████▊   | 176/260 [01:10<00:30,  2.73it/s]"
     ]
    },
    {
     "name": "stdout",
     "output_type": "stream",
     "text": [
      "Failed requesting Blue Mood\n",
      "Failed requesting Lucky Man\n",
      "Failed requesting I'm All Through Throwing Good Love After Bad\n",
      "Failed requesting Rockin' On The River\n",
      "Failed requesting Nolan Ryan (He's A Hero To Us All)\n",
      "Failed requesting Flowers In The Snow\n",
      "Failed requesting If I'd Loved You Then\n"
     ]
    },
    {
     "name": "stderr",
     "output_type": "stream",
     "text": [
      "Processing Jerry Jeff Walker_tracks.parquet:  71%|███████   | 184/260 [01:10<00:12,  5.96it/s]"
     ]
    },
    {
     "name": "stdout",
     "output_type": "stream",
     "text": [
      "Failed requesting Detour\n",
      "Failed requesting Down In Texas\n",
      "Failed requesting Life On The Road\n",
      "Failed requesting Love Changes Everything\n",
      "Failed requesting Manny's Hat Song\n",
      "Failed requesting He Was A Friend Of Mine\n",
      "Failed requesting Higher Ground\n"
     ]
    },
    {
     "name": "stderr",
     "output_type": "stream",
     "text": [
      "Processing Jerry Jeff Walker_tracks.parquet:  74%|███████▍  | 192/260 [01:11<00:06, 10.87it/s]"
     ]
    },
    {
     "name": "stdout",
     "output_type": "stream",
     "text": [
      "Failed requesting Bad Girl\n",
      "Failed requesting Life's Too Short\n",
      "Failed requesting Long Old Dusty Road\n",
      "Failed requesting Let 'er Go\n",
      "Failed requesting Last Song\n",
      "Failed requesting Getting' By\n",
      "Failed requesting Viva Luckenbach\n",
      "Failed requesting What I Like About Texas\n"
     ]
    },
    {
     "name": "stderr",
     "output_type": "stream",
     "text": [
      "Processing Jerry Jeff Walker_tracks.parquet:  77%|███████▋  | 201/260 [01:11<00:03, 18.27it/s]"
     ]
    },
    {
     "name": "stdout",
     "output_type": "stream",
     "text": [
      "Failed requesting Some Phone Numbers\n",
      "Failed requesting I'll Be Here In The Morning\n",
      "Failed requesting I Makes Money (Money Don't Make Me)\n",
      "Failed requesting Keep Texas Beautiful\n",
      "Failed requesting The Gift\n",
      "Failed requesting Little Man\n",
      "Failed requesting Gonzo Compadres\n",
      "Failed requesting Movin' On\n",
      "Failed requesting Too Old to Change\n"
     ]
    },
    {
     "name": "stderr",
     "output_type": "stream",
     "text": [
      "Processing Jerry Jeff Walker_tracks.parquet:  81%|████████  | 210/260 [01:11<00:01, 25.99it/s]"
     ]
    },
    {
     "name": "stdout",
     "output_type": "stream",
     "text": [
      "Failed requesting I Ain't Living Long Like This\n",
      "Failed requesting I'll Be Your San Antone Rose\n",
      "Failed requesting Old Nashville Cowboy\n",
      "Failed requesting Hands on the Wheel\n",
      "Failed requesting Cross the Borderline\n",
      "Failed requesting Mountains of Mexico\n",
      "Failed requesting Then Came the Children\n",
      "Failed requesting Northeast Texas Woman\n",
      "Failed requesting Me and Bobby McGee\n"
     ]
    },
    {
     "name": "stderr",
     "output_type": "stream",
     "text": [
      "Processing Jerry Jeff Walker_tracks.parquet:  84%|████████▍ | 219/260 [01:11<00:01, 31.66it/s]"
     ]
    },
    {
     "name": "stdout",
     "output_type": "stream",
     "text": [
      "Failed requesting Come Away To Belize With Me\n",
      "Failed requesting Barefootin'\n",
      "Failed requesting Gringo In Belize\n",
      "Failed requesting Champagne Don't Hurt Me Baby\n",
      "Failed requesting Wanted For Love\n",
      "Failed requesting Boats To Build\n",
      "Failed requesting Sloop John B.\n",
      "Failed requesting Rhythm Of The Rain\n",
      "Failed requesting Fred Neil Medley\n"
     ]
    },
    {
     "name": "stderr",
     "output_type": "stream",
     "text": [
      "Processing Jerry Jeff Walker_tracks.parquet:  86%|████████▌ | 223/260 [01:11<00:01, 31.04it/s]"
     ]
    },
    {
     "name": "stdout",
     "output_type": "stream",
     "text": [
      "Failed requesting The Moon Is Still Over Her Shoulder\n",
      "Failed requesting Cowboy Boots & Bathin' Suits\n",
      "Failed requesting Those Were The Days\n"
     ]
    },
    {
     "name": "stderr",
     "output_type": "stream",
     "text": [
      "Processing Jerry Jeff Walker_tracks.parquet:  87%|████████▋ | 227/260 [01:12<00:01, 26.60it/s]"
     ]
    },
    {
     "name": "stdout",
     "output_type": "stream",
     "text": [
      "Failed requesting Rhythm Of The Rain (Bonus Out Take)\n",
      "Failed requesting I'll Be Home for Christmas\n",
      "Failed requesting I'm Dreaming of a White Christmas\n",
      "Failed requesting Santa Claus Is Coming to Town\n",
      "Failed requesting The Christmas Song (Chestnuts Roasting...)\n",
      "Failed requesting Medley: Here Comes Santa Claus / Up on the Housetop\n"
     ]
    },
    {
     "name": "stderr",
     "output_type": "stream",
     "text": [
      "Processing Jerry Jeff Walker_tracks.parquet:  90%|█████████ | 234/260 [01:14<00:04,  5.91it/s]"
     ]
    },
    {
     "name": "stdout",
     "output_type": "stream",
     "text": [
      "Failed requesting Walking in a Winter Wonderland\n",
      "Failed requesting Frosty the Snowman\n",
      "Failed requesting Jingle Bell Rock\n",
      "Failed requesting The Twelve Days of Christmas\n"
     ]
    },
    {
     "name": "stderr",
     "output_type": "stream",
     "text": [
      "Processing Jerry Jeff Walker_tracks.parquet:  93%|█████████▎| 242/260 [01:20<00:11,  1.59it/s]"
     ]
    },
    {
     "name": "stdout",
     "output_type": "stream",
     "text": [
      "Failed requesting Up Against The Wall, Red Neck\n"
     ]
    },
    {
     "name": "stderr",
     "output_type": "stream",
     "text": [
      "Processing Jerry Jeff Walker_tracks.parquet:  99%|█████████▉| 257/260 [01:35<00:03,  1.03s/it]"
     ]
    },
    {
     "name": "stdout",
     "output_type": "stream",
     "text": [
      "Failed requesting Comfort and Crazy\n"
     ]
    },
    {
     "name": "stderr",
     "output_type": "stream",
     "text": [
      "Processing Jerry Jeff Walker_tracks.parquet: 100%|██████████| 260/260 [01:37<00:00,  2.67it/s]\n",
      "Processing Jerry Lee Lewis_tracks.parquet:   3%|▎         | 13/412 [00:10<03:06,  2.14it/s]"
     ]
    },
    {
     "name": "stdout",
     "output_type": "stream",
     "text": [
      "Failed requesting Kapitel 1 - Jerry Lee Lewis - Sie nannten ihn the Killer (Biografie)\n",
      "Failed requesting Kapitel 2 - Jerry Lee Lewis - Sie nannten ihn the Killer (Biografie)\n",
      "Failed requesting Kapitel 3 - Jerry Lee Lewis - Sie nannten ihn the Killer (Biografie)\n",
      "Failed requesting Kapitel 4 - Jerry Lee Lewis - Sie nannten ihn the Killer (Biografie)\n",
      "Failed requesting Kapitel 5 - Jerry Lee Lewis - Sie nannten ihn the Killer (Biografie)\n",
      "Failed requesting Kapitel 6 - Jerry Lee Lewis - Sie nannten ihn the Killer (Biografie)\n",
      "Failed requesting Kapitel 7 - Jerry Lee Lewis - Sie nannten ihn the Killer (Biografie)\n"
     ]
    },
    {
     "name": "stderr",
     "output_type": "stream",
     "text": [
      "Processing Jerry Lee Lewis_tracks.parquet:   5%|▌         | 21/412 [00:10<00:58,  6.68it/s]"
     ]
    },
    {
     "name": "stdout",
     "output_type": "stream",
     "text": [
      "Failed requesting Kapitel 8 - Jerry Lee Lewis - Sie nannten ihn the Killer (Biografie)\n",
      "Failed requesting Kapitel 9 - Jerry Lee Lewis - Sie nannten ihn the Killer (Biografie)\n",
      "Failed requesting Kapitel 10 - Jerry Lee Lewis - Sie nannten ihn the Killer (Biografie)\n",
      "Failed requesting Kapitel 11 - Jerry Lee Lewis - Sie nannten ihn the Killer (Biografie)\n",
      "Failed requesting Kapitel 12 - Jerry Lee Lewis - Sie nannten ihn the Killer (Biografie)\n",
      "Failed requesting Kapitel 13 - Jerry Lee Lewis - Sie nannten ihn the Killer (Biografie)\n",
      "Failed requesting Kapitel 14 - Jerry Lee Lewis - Sie nannten ihn the Killer (Biografie)\n"
     ]
    },
    {
     "name": "stderr",
     "output_type": "stream",
     "text": [
      "Processing Jerry Lee Lewis_tracks.parquet:   7%|▋         | 29/412 [00:10<00:30, 12.68it/s]"
     ]
    },
    {
     "name": "stdout",
     "output_type": "stream",
     "text": [
      "Failed requesting Kapitel 15 - Jerry Lee Lewis - Sie nannten ihn the Killer (Biografie)\n",
      "Failed requesting Kapitel 16 - Jerry Lee Lewis - Sie nannten ihn the Killer (Biografie)\n",
      "Failed requesting Kapitel 17 - Jerry Lee Lewis - Sie nannten ihn the Killer (Biografie)\n",
      "Failed requesting Kapitel 18 - Jerry Lee Lewis - Sie nannten ihn the Killer (Biografie)\n",
      "Failed requesting Kapitel 19 - Jerry Lee Lewis - Sie nannten ihn the Killer (Biografie)\n",
      "Failed requesting Kapitel 20 - Jerry Lee Lewis - Sie nannten ihn the Killer (Biografie)\n"
     ]
    },
    {
     "name": "stderr",
     "output_type": "stream",
     "text": [
      "Processing Jerry Lee Lewis_tracks.parquet:   8%|▊         | 32/412 [00:12<00:59,  6.37it/s]"
     ]
    },
    {
     "name": "stdout",
     "output_type": "stream",
     "text": [
      "Failed requesting Friday Nights - Remastered 2022\n",
      "Failed requesting Whole Lotta Shakin' Going On - Remastered 2022\n",
      "Failed requesting Born To Lose - Remastered 2022\n"
     ]
    },
    {
     "name": "stderr",
     "output_type": "stream",
     "text": [
      "Processing Jerry Lee Lewis_tracks.parquet:   8%|▊         | 35/412 [00:13<01:20,  4.66it/s]"
     ]
    },
    {
     "name": "stdout",
     "output_type": "stream",
     "text": [
      "Failed requesting I'm Feeling Sorry - Remastered 2022\n"
     ]
    },
    {
     "name": "stderr",
     "output_type": "stream",
     "text": [
      "Processing Jerry Lee Lewis_tracks.parquet:   9%|▉         | 39/412 [00:15<02:06,  2.95it/s]"
     ]
    },
    {
     "name": "stdout",
     "output_type": "stream",
     "text": [
      "Failed requesting Sail Away - Remastered 2022\n"
     ]
    },
    {
     "name": "stderr",
     "output_type": "stream",
     "text": [
      "Processing Jerry Lee Lewis_tracks.parquet:  10%|▉         | 40/412 [00:16<02:43,  2.28it/s]"
     ]
    },
    {
     "name": "stdout",
     "output_type": "stream",
     "text": [
      "Failed requesting Turn Around - Remastered 2022\n"
     ]
    },
    {
     "name": "stderr",
     "output_type": "stream",
     "text": [
      "Processing Jerry Lee Lewis_tracks.parquet:  10%|█         | 42/412 [00:17<02:52,  2.15it/s]"
     ]
    },
    {
     "name": "stdout",
     "output_type": "stream",
     "text": [
      "Failed requesting Great Balls Of Fire - Remastered 2022\n"
     ]
    },
    {
     "name": "stderr",
     "output_type": "stream",
     "text": [
      "Processing Jerry Lee Lewis_tracks.parquet:  11%|█▏        | 47/412 [00:18<01:54,  3.19it/s]"
     ]
    },
    {
     "name": "stdout",
     "output_type": "stream",
     "text": [
      "Failed requesting Crazy Arms\n",
      "Failed requesting End Of The Road\n",
      "Failed requesting Born To Lose\n",
      "Failed requesting Silver Threads Among The Gold\n"
     ]
    },
    {
     "name": "stderr",
     "output_type": "stream",
     "text": [
      "Processing Jerry Lee Lewis_tracks.parquet:  12%|█▏        | 50/412 [00:20<02:54,  2.08it/s]"
     ]
    },
    {
     "name": "stdout",
     "output_type": "stream",
     "text": [
      "Failed requesting Deep Elem Blues\n"
     ]
    },
    {
     "name": "stderr",
     "output_type": "stream",
     "text": [
      "Processing Jerry Lee Lewis_tracks.parquet:  14%|█▎        | 56/412 [00:21<01:37,  3.64it/s]"
     ]
    },
    {
     "name": "stdout",
     "output_type": "stream",
     "text": [
      "Failed requesting Honey Hush\n",
      "Failed requesting Crawdad Song\n",
      "Failed requesting Dixie\n",
      "Failed requesting Marines’ Hymn\n"
     ]
    },
    {
     "name": "stderr",
     "output_type": "stream",
     "text": [
      "Processing Jerry Lee Lewis_tracks.parquet:  15%|█▌        | 63/412 [00:29<04:42,  1.23it/s]"
     ]
    },
    {
     "name": "stdout",
     "output_type": "stream",
     "text": [
      "Failed requesting If The World Keeps On Turning (I'll Keep On Loving You)\n"
     ]
    },
    {
     "name": "stderr",
     "output_type": "stream",
     "text": [
      "Processing Jerry Lee Lewis_tracks.parquet:  17%|█▋        | 70/412 [00:35<05:27,  1.04it/s]"
     ]
    },
    {
     "name": "stdout",
     "output_type": "stream",
     "text": [
      "Failed requesting Everybody's Leaving Town - Live\n"
     ]
    },
    {
     "name": "stderr",
     "output_type": "stream",
     "text": [
      "Processing Jerry Lee Lewis_tracks.parquet:  18%|█▊        | 76/412 [00:40<05:21,  1.05it/s]"
     ]
    },
    {
     "name": "stdout",
     "output_type": "stream",
     "text": [
      "Failed requesting Great Balls Of Fire\n"
     ]
    },
    {
     "name": "stderr",
     "output_type": "stream",
     "text": [
      "Processing Jerry Lee Lewis_tracks.parquet:  20%|██        | 83/412 [00:46<05:22,  1.02it/s]"
     ]
    },
    {
     "name": "stdout",
     "output_type": "stream",
     "text": [
      "Failed requesting It All Depends on You\n"
     ]
    },
    {
     "name": "stderr",
     "output_type": "stream",
     "text": [
      "Processing Jerry Lee Lewis_tracks.parquet:  21%|██        | 85/412 [00:47<04:15,  1.28it/s]"
     ]
    },
    {
     "name": "stdout",
     "output_type": "stream",
     "text": [
      "Failed requesting Me and Bobby McGee - Live\n"
     ]
    },
    {
     "name": "stderr",
     "output_type": "stream",
     "text": [
      "Processing Jerry Lee Lewis_tracks.parquet:  34%|███▎      | 139/412 [01:43<04:44,  1.04s/it]"
     ]
    },
    {
     "name": "stdout",
     "output_type": "stream",
     "text": [
      "Failed requesting Rock & Roll Time\n"
     ]
    },
    {
     "name": "stderr",
     "output_type": "stream",
     "text": [
      "Processing Jerry Lee Lewis_tracks.parquet:  37%|███▋      | 151/412 [01:54<04:29,  1.03s/it]"
     ]
    },
    {
     "name": "stdout",
     "output_type": "stream",
     "text": [
      "Failed requesting Bad, Bad Leroy Brown\n",
      "Failed requesting Ragged But Right\n"
     ]
    },
    {
     "name": "stderr",
     "output_type": "stream",
     "text": [
      "Processing Jerry Lee Lewis_tracks.parquet:  37%|███▋      | 154/412 [01:55<02:50,  1.52it/s]"
     ]
    },
    {
     "name": "stdout",
     "output_type": "stream",
     "text": [
      "Failed requesting Johnny B. Goode / Carol\n"
     ]
    },
    {
     "name": "stderr",
     "output_type": "stream",
     "text": [
      "Processing Jerry Lee Lewis_tracks.parquet:  39%|███▉      | 161/412 [01:57<01:26,  2.90it/s]"
     ]
    },
    {
     "name": "stdout",
     "output_type": "stream",
     "text": [
      "Failed requesting Pass Me Not, O Gentle Savior\n",
      "Failed requesting Music! Music! Music! / Canadian Sunset\n",
      "Failed requesting Lovin' Cajun Style\n",
      "Failed requesting Beautiful Dreamer\n"
     ]
    },
    {
     "name": "stderr",
     "output_type": "stream",
     "text": [
      "Processing Jerry Lee Lewis_tracks.parquet:  50%|█████     | 207/412 [02:45<03:33,  1.04s/it]"
     ]
    },
    {
     "name": "stdout",
     "output_type": "stream",
     "text": [
      "Failed requesting Intro\n"
     ]
    },
    {
     "name": "stderr",
     "output_type": "stream",
     "text": [
      "Processing Jerry Lee Lewis_tracks.parquet:  52%|█████▏    | 216/412 [02:54<03:18,  1.01s/it]"
     ]
    },
    {
     "name": "stdout",
     "output_type": "stream",
     "text": [
      "Failed requesting She Even Woke Me Up to Say Goodbye\n"
     ]
    },
    {
     "name": "stderr",
     "output_type": "stream",
     "text": [
      "Processing Jerry Lee Lewis_tracks.parquet:  56%|█████▌    | 230/412 [03:07<03:08,  1.04s/it]"
     ]
    },
    {
     "name": "stdout",
     "output_type": "stream",
     "text": [
      "Failed requesting Baby (You've Got What It Takes)\n"
     ]
    },
    {
     "name": "stderr",
     "output_type": "stream",
     "text": [
      "Processing Jerry Lee Lewis_tracks.parquet:  57%|█████▋    | 234/412 [03:10<02:41,  1.10it/s]"
     ]
    },
    {
     "name": "stdout",
     "output_type": "stream",
     "text": [
      "Failed requesting Pen And Paper\n",
      "Failed requesting I Can Still Hear The Music In The Restroom - Single Version\n",
      "Failed requesting Secret Places\n"
     ]
    },
    {
     "name": "stderr",
     "output_type": "stream",
     "text": [
      "Processing Jerry Lee Lewis_tracks.parquet:  58%|█████▊    | 239/412 [03:12<01:47,  1.61it/s]"
     ]
    },
    {
     "name": "stdout",
     "output_type": "stream",
     "text": [
      "Failed requesting Before the Snow Flies\n"
     ]
    },
    {
     "name": "stderr",
     "output_type": "stream",
     "text": [
      "Processing Jerry Lee Lewis_tracks.parquet:  99%|█████████▉| 409/412 [06:09<00:03,  1.04s/it]"
     ]
    },
    {
     "name": "stdout",
     "output_type": "stream",
     "text": [
      "Failed requesting Hello Josephine\n"
     ]
    },
    {
     "name": "stderr",
     "output_type": "stream",
     "text": [
      "Processing Jerry Lee Lewis_tracks.parquet: 100%|██████████| 412/412 [06:11<00:00,  1.11it/s]\n",
      "Processing Jerry Leiber_tracks.parquet:   1%|          | 4/334 [00:00<00:10, 32.67it/s]"
     ]
    },
    {
     "name": "stdout",
     "output_type": "stream",
     "text": [
      "Failed requesting Hound Dog\n",
      "Failed requesting Falling in Love with Love\n",
      "Failed requesting People (From \"Funny Girl\")\n",
      "Failed requesting Mack the Knife\n",
      "Failed requesting Day After Day\n",
      "Failed requesting Dolce Far Niente (From \"the Unsinkable Molly Brown\")\n"
     ]
    },
    {
     "name": "stderr",
     "output_type": "stream",
     "text": [
      "Processing Jerry Leiber_tracks.parquet:   4%|▎         | 12/334 [00:00<00:09, 33.58it/s]"
     ]
    },
    {
     "name": "stdout",
     "output_type": "stream",
     "text": [
      "Failed requesting Musica Proibita\n",
      "Failed requesting I (Who Have Nothing)\n",
      "Failed requesting Stranger in Paradise (From \"Kismet\")\n",
      "Failed requesting One by One the Roses Died\n",
      "Failed requesting Dear Friend (From \"She Loves Me\")\n",
      "Failed requesting Amore Mia\n",
      "Failed requesting 'a Vucchella\n"
     ]
    },
    {
     "name": "stderr",
     "output_type": "stream",
     "text": [
      "Processing Jerry Leiber_tracks.parquet:   6%|▋         | 21/334 [00:07<02:48,  1.86it/s]"
     ]
    },
    {
     "name": "stdout",
     "output_type": "stream",
     "text": [
      "Failed requesting It's Not Unusual\n"
     ]
    },
    {
     "name": "stderr",
     "output_type": "stream",
     "text": [
      "Processing Jerry Leiber_tracks.parquet:  11%|█         | 37/334 [00:20<02:00,  2.47it/s]"
     ]
    },
    {
     "name": "stdout",
     "output_type": "stream",
     "text": [
      "Failed requesting Cougar Mountain March - Live\n",
      "Failed requesting Hudson River Suite - Live\n",
      "Failed requesting Sparks - Live\n",
      "Failed requesting Enter the Heroes - Live\n",
      "Failed requesting Fantasia for Strings - Live\n",
      "Failed requesting Andante and Alla Breve (Arr. M. Hellem) - Live\n"
     ]
    },
    {
     "name": "stderr",
     "output_type": "stream",
     "text": [
      "Processing Jerry Leiber_tracks.parquet:  12%|█▏        | 39/334 [00:20<01:27,  3.38it/s]"
     ]
    },
    {
     "name": "stdout",
     "output_type": "stream",
     "text": [
      "Failed requesting The Carson Suite - Live\n",
      "Failed requesting Stand By Me (Arr. L. Moore) - Live\n",
      "Failed requesting Everything I Do (I Do It For You)\n"
     ]
    },
    {
     "name": "stderr",
     "output_type": "stream",
     "text": [
      "Processing Jerry Leiber_tracks.parquet:  13%|█▎        | 43/334 [00:21<01:23,  3.47it/s]"
     ]
    },
    {
     "name": "stdout",
     "output_type": "stream",
     "text": [
      "Failed requesting Evergreen\n",
      "Failed requesting Arthur's Theme (The Best That You Can Do)\n"
     ]
    },
    {
     "name": "stderr",
     "output_type": "stream",
     "text": [
      "Processing Jerry Leiber_tracks.parquet:  15%|█▌        | 51/334 [00:22<00:52,  5.37it/s]"
     ]
    },
    {
     "name": "stdout",
     "output_type": "stream",
     "text": [
      "Failed requesting Unchained Melody\n",
      "Failed requesting Stand By Me\n",
      "Failed requesting Chariot's Of Fire\n",
      "Failed requesting My Girl\n",
      "Failed requesting Over The Rainbow\n",
      "Failed requesting Hero (Wind Beneath My Wings)\n",
      "Failed requesting People\n",
      "Failed requesting Summertime\n"
     ]
    },
    {
     "name": "stderr",
     "output_type": "stream",
     "text": [
      "Processing Jerry Leiber_tracks.parquet:  16%|█▋        | 55/334 [00:22<00:37,  7.54it/s]"
     ]
    },
    {
     "name": "stdout",
     "output_type": "stream",
     "text": [
      "Failed requesting Some Enchanted Evening (South Pacific)\n"
     ]
    },
    {
     "name": "stderr",
     "output_type": "stream",
     "text": [
      "Processing Jerry Leiber_tracks.parquet:  19%|█▊        | 62/334 [00:24<00:40,  6.76it/s]"
     ]
    },
    {
     "name": "stdout",
     "output_type": "stream",
     "text": [
      "Failed requesting Lucy in the Sky with Diamonds: Pliés 1\n",
      "Failed requesting Stand by Me: Pliés 2\n",
      "Failed requesting While My Guitar Gently Weeps: Tendus 1\n",
      "Failed requesting I Heard It Through the Grapevine: Tendus 2\n",
      "Failed requesting So What: Tendus 3\n",
      "Failed requesting Lady Madonna: Glissés 1\n",
      "Failed requesting All You Need Is Love: Glissés 2\n"
     ]
    },
    {
     "name": "stderr",
     "output_type": "stream",
     "text": [
      "Processing Jerry Leiber_tracks.parquet:  21%|██        | 70/334 [00:24<00:21, 12.15it/s]"
     ]
    },
    {
     "name": "stdout",
     "output_type": "stream",
     "text": [
      "Failed requesting Take Five: Jetés\n",
      "Failed requesting Are You Lonesome Tonight: Ronds de jambe à terre\n",
      "Failed requesting Something: Fondus\n",
      "Failed requesting I Want You Back: Frappés\n",
      "Failed requesting Respect: Petits battements\n",
      "Failed requesting Can't Help Falling in Love With You: Ronds de jambe en l'air\n",
      "Failed requesting Georgia on My Mind: Adage\n",
      "Failed requesting House of the Rising Sun: Grands battements\n",
      "Failed requesting I'm a Believer: Port de bras 1\n"
     ]
    },
    {
     "name": "stderr",
     "output_type": "stream",
     "text": [
      "Processing Jerry Leiber_tracks.parquet:  23%|██▎       | 78/334 [00:24<00:13, 19.03it/s]"
     ]
    },
    {
     "name": "stdout",
     "output_type": "stream",
     "text": [
      "Failed requesting Scarborough Fair: Port de bras 2\n",
      "Failed requesting Get Back: Centre Practice\n",
      "Failed requesting Let's Twist Again: Pirouettes 1\n",
      "Failed requesting Can't Take My Eyes Off You: Pirouettes 2\n",
      "Failed requesting The Lark Ascending\n",
      "Failed requesting Clarinet Concerto in A Major, K. 622: 2. Adagio\n",
      "Failed requesting Piano Concerto No. 5 in E-Flat Major, Op. 73 \"Emperor\": 2. Adagio un poco mosso\n",
      "Failed requesting Adagio for Strings, Op. 11 - (Platoon)\n"
     ]
    },
    {
     "name": "stderr",
     "output_type": "stream",
     "text": [
      "Processing Jerry Leiber_tracks.parquet:  26%|██▌       | 86/334 [00:24<00:10, 24.55it/s]"
     ]
    },
    {
     "name": "stdout",
     "output_type": "stream",
     "text": [
      "Failed requesting Piano Concerto No. 21 in C Major, K. 467: 2. Andante\n",
      "Failed requesting Symphony No. 9 in E Minor, Op. 95, B. 178, \"From the New World\": 2. Largo\n",
      "Failed requesting River Flows In You (Arr. Piano)\n",
      "Failed requesting Main Theme (From \"Ladies in Lavender\")\n",
      "Failed requesting Ashokan Farewell\n",
      "Failed requesting Lakmé / Act 1: Viens, Mallika...Dôme épais (Flower Duet) - (British Airways)\n",
      "Failed requesting Variations on an Original Theme, Op. 36 \"Enigma\": IX. Nimrod (Adagio)\n",
      "Failed requesting Rhapsody on a Theme of Paganini, Op. 43: Variation 18\n"
     ]
    },
    {
     "name": "stderr",
     "output_type": "stream",
     "text": [
      "Processing Jerry Leiber_tracks.parquet:  28%|██▊       | 94/334 [00:25<00:08, 29.07it/s]"
     ]
    },
    {
     "name": "stdout",
     "output_type": "stream",
     "text": [
      "Failed requesting I Giorni\n",
      "Failed requesting Cavalleria rusticana: Intermezzo\n",
      "Failed requesting Balcony Scene (Arr. piano) - (Romeo & Juliet)\n",
      "Failed requesting Spiegel im Spiegel\n",
      "Failed requesting Allegri: Miserere\n",
      "Failed requesting Thaïs / Act 2: Méditation\n"
     ]
    },
    {
     "name": "stderr",
     "output_type": "stream",
     "text": [
      "Processing Jerry Leiber_tracks.parquet:  31%|███       | 102/334 [00:26<00:19, 11.94it/s]"
     ]
    },
    {
     "name": "stdout",
     "output_type": "stream",
     "text": [
      "Failed requesting The Planets, Op. 32: II. Venus, the Bringer of Peace\n",
      "Failed requesting Royal Salute (The Arrival Of Her Majesty The Queen)\n",
      "Failed requesting Rejoicing (The Arrival Of The Bride)\n",
      "Failed requesting Eternal Source Of Light Divine (Birthday Ode For Queen Anne) HWV 74\n",
      "Failed requesting The Welcome\n",
      "Failed requesting The Preface\n",
      "Failed requesting Lord Of All Hopefulness\n",
      "Failed requesting The Declarations\n",
      "Failed requesting The Collect\n"
     ]
    },
    {
     "name": "stderr",
     "output_type": "stream",
     "text": [
      "Processing Jerry Leiber_tracks.parquet:  33%|███▎      | 111/334 [00:26<00:11, 19.11it/s]"
     ]
    },
    {
     "name": "stdout",
     "output_type": "stream",
     "text": [
      "Failed requesting Reading From The Song Of Solomon\n",
      "Failed requesting If Ye Love Me\n",
      "Failed requesting The Address\n",
      "Failed requesting Stand By Me\n",
      "Failed requesting The Vows\n",
      "Failed requesting The Giving Of The Rings\n",
      "Failed requesting The Proclamation\n",
      "Failed requesting The Lord Bless You And Keep You\n",
      "Failed requesting The Blessing Of The Marriage\n"
     ]
    },
    {
     "name": "stderr",
     "output_type": "stream",
     "text": [
      "Processing Jerry Leiber_tracks.parquet:  36%|███▌      | 119/334 [00:26<00:08, 25.30it/s]"
     ]
    },
    {
     "name": "stdout",
     "output_type": "stream",
     "text": [
      "Failed requesting The Prayers\n",
      "Failed requesting Guide Me, O Thou Great Redeemer\n",
      "Failed requesting The Blessing\n",
      "Failed requesting Die Lustige Witwe\n",
      "Failed requesting Strangers In The Night\n",
      "Failed requesting Swanlake III - Spanish Dance - Part 6/8\n",
      "Failed requesting My Sarie Marais\n",
      "Failed requesting Mors et Vita - Judex\n",
      "Failed requesting Flower Duet - Lakmé Opera\n"
     ]
    },
    {
     "name": "stderr",
     "output_type": "stream",
     "text": [
      "Processing Jerry Leiber_tracks.parquet:  38%|███▊      | 127/334 [00:26<00:06, 30.54it/s]"
     ]
    },
    {
     "name": "stdout",
     "output_type": "stream",
     "text": [
      "Failed requesting Prince Igor - The Polovtsian Dances\n",
      "Failed requesting Rhapsody on a Theme of Paganini - Opus 43\n",
      "Failed requesting New World Symphony N°9 in E minor\n",
      "Failed requesting Horn Concerto\n",
      "Failed requesting Spanish Harlem\n",
      "Failed requesting Marie Louise\n",
      "Failed requesting Love Is…\n",
      "Failed requesting Matthäus-Passion - Mache Dich, Mein Herze, Rein\n"
     ]
    },
    {
     "name": "stderr",
     "output_type": "stream",
     "text": [
      "Processing Jerry Leiber_tracks.parquet:  40%|████      | 135/334 [00:27<00:06, 32.44it/s]"
     ]
    },
    {
     "name": "stdout",
     "output_type": "stream",
     "text": [
      "Failed requesting Halleluyah - Chorus of The Messiah Part III\n",
      "Failed requesting Four Themes Ouverture - Passion, Tenderness, Romance, Love\n",
      "Failed requesting Take Me For A Ride - Villa Rides\n",
      "Failed requesting Cherubino's Aria - DJBOMmix\n",
      "Failed requesting Anonymous Romance\n",
      "Failed requesting Summertime (From Porgy & Bess Opera)\n",
      "Failed requesting Santa Claus Is Back In Town - with The Royal Philharmonic Orchestra\n"
     ]
    },
    {
     "name": "stderr",
     "output_type": "stream",
     "text": [
      "Processing Jerry Leiber_tracks.parquet:  43%|████▎     | 143/334 [00:27<00:06, 30.56it/s]"
     ]
    },
    {
     "name": "stdout",
     "output_type": "stream",
     "text": [
      "Failed requesting White Christmas - with The Royal Philharmonic Orchestra\n",
      "Failed requesting Here Comes Santa Claus (Right Down Santa Claus Lane) - with The Royal Philharmonic Orchestra\n",
      "Failed requesting Merry Christmas Baby - with The Royal Philharmonic Orchestra\n",
      "Failed requesting Blue Christmas - with The Royal Philharmonic Orchestra\n",
      "Failed requesting I'll Be Home for Christmas - with The Royal Philharmonic Orchestra\n",
      "Failed requesting Winter Wonderland - with The Royal Philharmonic Orchestra\n",
      "Failed requesting Santa Bring My Baby Back (To Me) - with The Royal Philharmonic Orchestra\n"
     ]
    },
    {
     "name": "stderr",
     "output_type": "stream",
     "text": [
      "Processing Jerry Leiber_tracks.parquet:  46%|████▌     | 152/334 [00:27<00:05, 35.21it/s]"
     ]
    },
    {
     "name": "stdout",
     "output_type": "stream",
     "text": [
      "Failed requesting Silver Bells - with The Royal Philharmonic Orchestra\n",
      "Failed requesting Oh Little Town of Bethlehem - with The Royal Philharmonic Orchestra\n",
      "Failed requesting O Come All Ye Faithful - with The Royal Philharmonic Orchestra\n",
      "Failed requesting The First Noel - with The Royal Philharmonic Orchestra\n",
      "Failed requesting Silent Night - with The Royal Philharmonic Orchestra\n",
      "Failed requesting (There'll Be) Peace In the Valley (For Me) - with The Royal Philharmonic Orchestra\n",
      "Failed requesting I Believe - with The Royal Philharmonic Orchestra\n",
      "Failed requesting Take My Hand, Precious Lord - with The Royal Philharmonic Orchestra\n",
      "Failed requesting It Is No Secret (What God Can Do) - with The Royal Philharmonic Orchestra\n"
     ]
    },
    {
     "name": "stderr",
     "output_type": "stream",
     "text": [
      "Processing Jerry Leiber_tracks.parquet:  47%|████▋     | 156/334 [00:27<00:05, 32.59it/s]"
     ]
    },
    {
     "name": "stdout",
     "output_type": "stream",
     "text": [
      "Failed requesting Dido and Aeneas, Act III, Z. 626: When I Am Laid in Earth (Part I) - Live\n",
      "Failed requesting Memphis Stomp - Live\n",
      "Failed requesting Interlude I - Live\n",
      "Failed requesting I Am the Blues - Live\n",
      "Failed requesting Kidstune I - Live\n",
      "Failed requesting It Doesn't Matter - Live\n"
     ]
    },
    {
     "name": "stderr",
     "output_type": "stream",
     "text": [
      "Processing Jerry Leiber_tracks.parquet:  49%|████▉     | 164/334 [00:28<00:05, 33.29it/s]"
     ]
    },
    {
     "name": "stdout",
     "output_type": "stream",
     "text": [
      "Failed requesting Lost Is My Quiet, Z. 502 - Live\n",
      "Failed requesting Wedding - Live\n",
      "Failed requesting Kidstune 2 - Live\n",
      "Failed requesting Lucifer - Live\n",
      "Failed requesting Interlude II - Live\n",
      "Failed requesting Hound Dog - Live\n",
      "Failed requesting If the Sea Was Whiskey - Live\n",
      "Failed requesting Bassam ast digar (Adapted from \"Ich habe genug, BWV 82\") - Live\n"
     ]
    },
    {
     "name": "stderr",
     "output_type": "stream",
     "text": [
      "Processing Jerry Leiber_tracks.parquet:  51%|█████▏    | 172/334 [00:28<00:04, 34.62it/s]"
     ]
    },
    {
     "name": "stdout",
     "output_type": "stream",
     "text": [
      "Failed requesting Kidstune 3 - Live\n",
      "Failed requesting Blind - Live\n",
      "Failed requesting Downhearted Blues - Live\n",
      "Failed requesting Trailer Park Blues - Live\n",
      "Failed requesting Roof - Live\n",
      "Failed requesting Interlude III - Live\n"
     ]
    },
    {
     "name": "stderr",
     "output_type": "stream",
     "text": [
      "Processing Jerry Leiber_tracks.parquet:  53%|█████▎    | 176/334 [00:28<00:06, 24.86it/s]"
     ]
    },
    {
     "name": "stdout",
     "output_type": "stream",
     "text": [
      "Failed requesting Näfelser Schottisch (arr. W. Fusch for brass ensemble)\n",
      "Failed requesting Zick Zack Polka (arr. W. Fusch for brass ensemble)\n",
      "Failed requesting Uznacher Chilbi (arr. A. Fäh sen. for brass ensemble)\n",
      "Failed requesting Fastnachtsmarsch (arr. W. Fusch for brass ensemble)\n",
      "Failed requesting Die Zierliche im Nachthemd (arr. W. Fusch for brass ensemble)\n",
      "Failed requesting Federi Schottisch (arr. W. Fusch for brass ensemble)\n"
     ]
    },
    {
     "name": "stderr",
     "output_type": "stream",
     "text": [
      "Processing Jerry Leiber_tracks.parquet:  55%|█████▌    | 184/334 [00:28<00:05, 26.57it/s]"
     ]
    },
    {
     "name": "stdout",
     "output_type": "stream",
     "text": [
      "Failed requesting Gruss aus dem Klöntal (arr. A. Fäh sen. for brass ensemble)\n",
      "Failed requesting Böttcher Polka (arr. A. Fäh sen. for brass ensemble)\n",
      "Failed requesting Hemmige (arr. F. Jud for brass ensemble)\n",
      "Failed requesting Rosalien Mazurka (arr. W. Fusch for brass ensemble)\n",
      "Failed requesting Take Five (arr. F. Meissen and L. Stöckli for brass ensemble)\n",
      "Failed requesting Näfelser Polka (arr. W. Fusch for brass ensemble)\n",
      "Failed requesting Huba Schottisch XL (arr. P. Ballard and L. Stöckli for brass ensemble)\n"
     ]
    },
    {
     "name": "stderr",
     "output_type": "stream",
     "text": [
      "Processing Jerry Leiber_tracks.parquet:  57%|█████▋    | 192/334 [00:29<00:04, 30.30it/s]"
     ]
    },
    {
     "name": "stdout",
     "output_type": "stream",
     "text": [
      "Failed requesting Schäniser Ländler (arr. A. Fäh sen. for brass ensemble)\n",
      "Failed requesting D'Timéa bim Bädälä\n",
      "Failed requesting Zürcher Strandbadleben (arr. A. Fäh sen. for brass ensemble)\n",
      "Failed requesting Kinderschottisch (arr. W. Fusch for brass ensemble)\n",
      "Failed requesting Schtazumiär (Stand by Me) (arr. T. Zwyer for brass ensemble)\n",
      "Failed requesting 25 or 6 to 4\n",
      "Failed requesting Shake it Off\n",
      "Failed requesting Syncopated Clock\n"
     ]
    },
    {
     "name": "stderr",
     "output_type": "stream",
     "text": [
      "Processing Jerry Leiber_tracks.parquet:  60%|█████▉    | 200/334 [00:29<00:04, 33.48it/s]"
     ]
    },
    {
     "name": "stdout",
     "output_type": "stream",
     "text": [
      "Failed requesting Back in Black\n",
      "Failed requesting Her kommer vinteren | Winter is coming\n",
      "Failed requesting På slottet (Ludvig's Hymn)\n",
      "Failed requesting Pie Jesu (From Requiem)\n",
      "Failed requesting Nordnorsk julesalme (North-Norwegian Christmas Psalm)\n",
      "Failed requesting Way Down Yonder in New Orleans\n",
      "Failed requesting Can't Buy Me Love\n",
      "Failed requesting It's Not Unusual\n"
     ]
    },
    {
     "name": "stderr",
     "output_type": "stream",
     "text": [
      "Processing Jerry Leiber_tracks.parquet:  62%|██████▏   | 208/334 [00:29<00:04, 30.80it/s]"
     ]
    },
    {
     "name": "stdout",
     "output_type": "stream",
     "text": [
      "Failed requesting Lucky Lips\n",
      "Failed requesting It's Only a Paper Moon\n",
      "Failed requesting Santa Baby\n",
      "Failed requesting Pål sine balkanhøner (Balkan Chicks)\n",
      "Failed requesting Rompa mi (Behind)\n",
      "Failed requesting Stand by Me\n"
     ]
    },
    {
     "name": "stderr",
     "output_type": "stream",
     "text": [
      "Processing Jerry Leiber_tracks.parquet:  63%|██████▎   | 212/334 [00:29<00:03, 32.42it/s]"
     ]
    },
    {
     "name": "stdout",
     "output_type": "stream",
     "text": [
      "Failed requesting Kaptein Sabeltanns bursdagssang (Birthday Song)\n",
      "Failed requesting Fly, ja fly (Fly Away)\n",
      "Failed requesting Godmorgen Norge (Good Morning Norway)\n",
      "Failed requesting I Got You (I Feel Good)\n",
      "Failed requesting Feeling Good\n",
      "Failed requesting Billie Jean\n"
     ]
    },
    {
     "name": "stderr",
     "output_type": "stream",
     "text": [
      "Processing Jerry Leiber_tracks.parquet:  66%|██████▌   | 220/334 [00:29<00:03, 31.42it/s]"
     ]
    },
    {
     "name": "stdout",
     "output_type": "stream",
     "text": [
      "Failed requesting Den du veit / The One You Know\n",
      "Failed requesting Flashdance (What a Feeling)\n",
      "Failed requesting Lykken er / Happiness\n",
      "Failed requesting Menuett fra Serenade i Eb-dur K. 375 / Menuetto from Serenade in Eb Major K. 375\n",
      "Failed requesting Theme from Elvira Madigan\n",
      "Failed requesting Greensleeves\n",
      "Failed requesting Theme from Poirot\n"
     ]
    },
    {
     "name": "stderr",
     "output_type": "stream",
     "text": [
      "Processing Jerry Leiber_tracks.parquet:  68%|██████▊   | 228/334 [00:30<00:03, 32.85it/s]"
     ]
    },
    {
     "name": "stdout",
     "output_type": "stream",
     "text": [
      "Failed requesting Ave Maria\n",
      "Failed requesting Lappland / Gloryland\n",
      "Failed requesting Police Academy March\n",
      "Failed requesting Voulez-Vous\n",
      "Failed requesting Salsa Amigo\n",
      "Failed requesting Heartbeat\n",
      "Failed requesting Peter Gunn Theme\n"
     ]
    },
    {
     "name": "stderr",
     "output_type": "stream",
     "text": [
      "Processing Jerry Leiber_tracks.parquet:  69%|██████▉   | 232/334 [00:30<00:03, 32.94it/s]"
     ]
    },
    {
     "name": "stdout",
     "output_type": "stream",
     "text": [
      "Failed requesting España Cañi\n",
      "Failed requesting Stupid Cupid\n",
      "Failed requesting Satin Doll\n",
      "Failed requesting Unchained Melody\n",
      "Failed requesting A Groovy Kind of Love\n",
      "Failed requesting Lily Was Here\n"
     ]
    },
    {
     "name": "stderr",
     "output_type": "stream",
     "text": [
      "Processing Jerry Leiber_tracks.parquet:  72%|███████▏  | 240/334 [00:30<00:03, 30.85it/s]"
     ]
    },
    {
     "name": "stdout",
     "output_type": "stream",
     "text": [
      "Failed requesting Everthing I Do\n",
      "Failed requesting Show Me Heaven\n",
      "Failed requesting Take a Look at Me Now\n",
      "Failed requesting Take My Breath Away\n",
      "Failed requesting My Girl\n",
      "Failed requesting Time of My Life\n"
     ]
    },
    {
     "name": "stderr",
     "output_type": "stream",
     "text": [
      "Processing Jerry Leiber_tracks.parquet:  73%|███████▎  | 244/334 [00:30<00:02, 32.46it/s]"
     ]
    },
    {
     "name": "stdout",
     "output_type": "stream",
     "text": [
      "Failed requesting Twin Peaks\n",
      "Failed requesting Stand by Me\n",
      "Failed requesting Hero\n",
      "Failed requesting It Must Have Been Love\n",
      "Failed requesting Allegretto\n",
      "Failed requesting Toccata And Fugue In D Minor, BWV 565\n",
      "Failed requesting Bittersweet Symphony\n"
     ]
    },
    {
     "name": "stderr",
     "output_type": "stream",
     "text": [
      "Processing Jerry Leiber_tracks.parquet:  75%|███████▌  | 252/334 [00:30<00:02, 33.02it/s]"
     ]
    },
    {
     "name": "stdout",
     "output_type": "stream",
     "text": [
      "Failed requesting Victory - Arr./Mixed Mike Batt\n",
      "Failed requesting Here's To The Heroes\n",
      "Failed requesting I (Who Have Nothing)\n",
      "Failed requesting I (Who Have Nothing)\n",
      "Failed requesting I (Who Have Nothing)\n",
      "Failed requesting Main Title\n",
      "Failed requesting Riders on the Storm - The Doors Concerto: The Unknown Soldier\n",
      "Failed requesting The Battle - Edit\n"
     ]
    },
    {
     "name": "stderr",
     "output_type": "stream",
     "text": [
      "Processing Jerry Leiber_tracks.parquet:  78%|███████▊  | 260/334 [00:31<00:02, 34.73it/s]"
     ]
    },
    {
     "name": "stdout",
     "output_type": "stream",
     "text": [
      "Failed requesting Danse macabre, Op. 40\n",
      "Failed requesting Shore: Into The West\n",
      "Failed requesting Adagio For Strings And Organ\n",
      "Failed requesting Hymnus \"Veni Creator Spiritus\"\n",
      "Failed requesting 1492 - Conquest Of Paradise\n",
      "Failed requesting Wild Swans - Concert Suite: 2. Eliza Aria\n",
      "Failed requesting West Side Story: Tonight - Balcony Scene\n",
      "Failed requesting Ameno - Remix\n"
     ]
    },
    {
     "name": "stderr",
     "output_type": "stream",
     "text": [
      "Processing Jerry Leiber_tracks.parquet:  80%|████████  | 268/334 [00:31<00:01, 35.12it/s]"
     ]
    },
    {
     "name": "stdout",
     "output_type": "stream",
     "text": [
      "Failed requesting Pie Jesu\n",
      "Failed requesting Any Other Name (from \"American Beauty\")\n",
      "Failed requesting Moonlight Sonata\n",
      "Failed requesting Learning to Drive\n",
      "Failed requesting No Way to Live\n",
      "Failed requesting She Gets\n",
      "Failed requesting Cowboy Boots\n",
      "Failed requesting I Fell in Love\n"
     ]
    },
    {
     "name": "stderr",
     "output_type": "stream",
     "text": [
      "Processing Jerry Leiber_tracks.parquet:  83%|████████▎ | 276/334 [00:31<00:01, 35.13it/s]"
     ]
    },
    {
     "name": "stdout",
     "output_type": "stream",
     "text": [
      "Failed requesting Shake 'em up and Let 'em Roll\n",
      "Failed requesting Searchin'\n",
      "Failed requesting Viva Mi Sinaloa\n",
      "Failed requesting This Masquerade\n",
      "Failed requesting Drug\n",
      "Failed requesting Peterception\n",
      "Failed requesting Bug Theme\n"
     ]
    },
    {
     "name": "stderr",
     "output_type": "stream",
     "text": [
      "Processing Jerry Leiber_tracks.parquet:  85%|████████▌ | 285/334 [00:31<00:01, 35.01it/s]"
     ]
    },
    {
     "name": "stdout",
     "output_type": "stream",
     "text": [
      "Failed requesting I (Who Have Nothing)\n",
      "Failed requesting I (Who Have Nothing)\n",
      "Failed requesting I (Who Have Nothing)\n",
      "Failed requesting Rejoice\n",
      "Failed requesting Rejoice\n",
      "Failed requesting Sancta Maria\n",
      "Failed requesting Sancta Maria\n",
      "Failed requesting Secret Love\n"
     ]
    },
    {
     "name": "stderr",
     "output_type": "stream",
     "text": [
      "Processing Jerry Leiber_tracks.parquet:  88%|████████▊ | 294/334 [00:32<00:01, 37.49it/s]"
     ]
    },
    {
     "name": "stdout",
     "output_type": "stream",
     "text": [
      "Failed requesting Secret Love\n",
      "Failed requesting Le Cose Che Sei Per Me (The Things You Are To Me)\n",
      "Failed requesting Le Cose Che Sei Per Me (The Things You Are To Me)\n",
      "Failed requesting How Do You Leave The One You Love?\n",
      "Failed requesting How Do You Leave The One You Love?\n",
      "Failed requesting Requiem for a Soldier\n",
      "Failed requesting Requiem for a Soldier\n",
      "Failed requesting Somewhere\n",
      "Failed requesting Somewhere\n"
     ]
    },
    {
     "name": "stderr",
     "output_type": "stream",
     "text": [
      "Processing Jerry Leiber_tracks.parquet:  90%|█████████ | 302/334 [00:32<00:00, 37.41it/s]"
     ]
    },
    {
     "name": "stdout",
     "output_type": "stream",
     "text": [
      "Failed requesting Shout In Silence\n",
      "Failed requesting Shout In Silence\n",
      "Failed requesting Be Still My Soul\n",
      "Failed requesting Be Still My Soul\n",
      "Failed requesting Kiss From A Rose\n",
      "Failed requesting Kiss From A Rose\n",
      "Failed requesting I Will Pray For You\n",
      "Failed requesting I Will Pray For You\n",
      "Failed requesting Viva Tonight\n"
     ]
    },
    {
     "name": "stderr",
     "output_type": "stream",
     "text": [
      "Processing Jerry Leiber_tracks.parquet:  93%|█████████▎| 310/334 [00:32<00:00, 37.74it/s]"
     ]
    },
    {
     "name": "stdout",
     "output_type": "stream",
     "text": [
      "Failed requesting Viva Tonight\n",
      "Failed requesting I Could Have Danced All Night\n",
      "Failed requesting Green Green Grass of Home - Live\n",
      "Failed requesting I (Who Have Nothing)\n",
      "Failed requesting I (Who Have Nothing)\n",
      "Failed requesting I (Who Have Nothing)\n",
      "Failed requesting Rejoice\n",
      "Failed requesting Rejoice\n"
     ]
    },
    {
     "name": "stderr",
     "output_type": "stream",
     "text": [
      "Processing Jerry Leiber_tracks.parquet:  96%|█████████▌| 320/334 [00:32<00:00, 40.93it/s]"
     ]
    },
    {
     "name": "stdout",
     "output_type": "stream",
     "text": [
      "Failed requesting Sancta Maria\n",
      "Failed requesting Sancta Maria\n",
      "Failed requesting Secret Love\n",
      "Failed requesting Secret Love\n",
      "Failed requesting Le Cose Che Sei Per Me (The Things You Are To Me)\n",
      "Failed requesting Le Cose Che Sei Per Me (The Things You Are To Me)\n",
      "Failed requesting How Do You Leave The One You Love?\n",
      "Failed requesting How Do You Leave The One You Love?\n",
      "Failed requesting Requiem for a Soldier\n"
     ]
    },
    {
     "name": "stderr",
     "output_type": "stream",
     "text": [
      "Processing Jerry Leiber_tracks.parquet:  97%|█████████▋| 325/334 [00:32<00:00, 41.54it/s]"
     ]
    },
    {
     "name": "stdout",
     "output_type": "stream",
     "text": [
      "Failed requesting Requiem for a Soldier\n",
      "Failed requesting Somewhere\n",
      "Failed requesting Somewhere\n",
      "Failed requesting Shout In Silence\n",
      "Failed requesting Shout In Silence\n",
      "Failed requesting Be Still My Soul\n",
      "Failed requesting Be Still My Soul\n",
      "Failed requesting Kiss From A Rose\n",
      "Failed requesting Kiss From A Rose\n"
     ]
    },
    {
     "name": "stderr",
     "output_type": "stream",
     "text": [
      "Processing Jerry Leiber_tracks.parquet: 100%|██████████| 334/334 [00:33<00:00, 10.09it/s]\n",
      "Processing Jerry Reed_tracks.parquet:   0%|          | 0/263 [00:00<?, ?it/s]"
     ]
    },
    {
     "name": "stdout",
     "output_type": "stream",
     "text": [
      "Failed requesting I Will Pray For You\n",
      "Failed requesting I Will Pray For You\n",
      "Failed requesting Viva Tonight\n",
      "Failed requesting Viva Tonight\n",
      "Failed requesting East Bound & Down Intro - Live 1982\n"
     ]
    },
    {
     "name": "stderr",
     "output_type": "stream",
     "text": [
      "Processing Jerry Reed_tracks.parquet:   3%|▎         | 9/263 [00:00<00:06, 39.43it/s]"
     ]
    },
    {
     "name": "stdout",
     "output_type": "stream",
     "text": [
      "Failed requesting Gimme Back My Blues - Live 1982\n",
      "Failed requesting Amos Moses - Live 1982\n",
      "Failed requesting Patches - Live 1982\n",
      "Failed requesting Down On The Corner - Live 1982\n",
      "Failed requesting Hard Times - Live 1982\n",
      "Failed requesting Sugar Foot Rag - Live 1982\n",
      "Failed requesting When You're Hot You're Hot - Live 1982\n",
      "Failed requesting She Got The Goldmine (I Got The Shaft) - Live 1982\n"
     ]
    },
    {
     "name": "stderr",
     "output_type": "stream",
     "text": [
      "Processing Jerry Reed_tracks.parquet:   5%|▍         | 13/263 [00:00<00:06, 38.47it/s]"
     ]
    },
    {
     "name": "stdout",
     "output_type": "stream",
     "text": [
      "Failed requesting The Devil Went Down to Georgia - Live 1982\n",
      "Failed requesting The Man With The Golden Thumb - Live 1982\n",
      "Failed requesting East Bound & Down - Live 1982\n",
      "Failed requesting Have Blues, Will Travel\n",
      "Failed requesting Have Blues, Will Travel\n",
      "Failed requesting I Fell Out of Love With Love\n",
      "Failed requesting I Fell Out of Love With Love\n"
     ]
    },
    {
     "name": "stderr",
     "output_type": "stream",
     "text": [
      "Processing Jerry Reed_tracks.parquet:   8%|▊         | 21/263 [00:00<00:06, 36.83it/s]"
     ]
    },
    {
     "name": "stdout",
     "output_type": "stream",
     "text": [
      "Failed requesting I Must Be Slippin'\n",
      "Failed requesting I Must Be Slippin'\n",
      "Failed requesting It Could Be\n",
      "Failed requesting It Could Be\n",
      "Failed requesting It Won't Be Easy to Forget\n",
      "Failed requesting It Won't Be Easy to Forget\n",
      "Failed requesting Just Right\n"
     ]
    },
    {
     "name": "stderr",
     "output_type": "stream",
     "text": [
      "Processing Jerry Reed_tracks.parquet:  11%|█         | 29/263 [00:00<00:07, 32.84it/s]"
     ]
    },
    {
     "name": "stdout",
     "output_type": "stream",
     "text": [
      "Failed requesting Just Right\n",
      "Failed requesting Little Lovin' Liza\n",
      "Failed requesting Little Lovin' Liza\n",
      "Failed requesting Soldier's Joy\n",
      "Failed requesting Soldier's Joy\n",
      "Failed requesting Stone Eternal\n",
      "Failed requesting Stone Eternal\n",
      "Failed requesting This Can't Be Happening to Me\n"
     ]
    },
    {
     "name": "stderr",
     "output_type": "stream",
     "text": [
      "Processing Jerry Reed_tracks.parquet:  14%|█▍        | 38/263 [00:01<00:06, 35.38it/s]"
     ]
    },
    {
     "name": "stdout",
     "output_type": "stream",
     "text": [
      "Failed requesting This Can't Be Happening to Me\n",
      "Failed requesting Ain´t That Just Like A Fool\n",
      "Failed requesting Fightin´ For The U.S.A.\n",
      "Failed requesting Hit And Run\n",
      "Failed requesting Hully Gully Guitar\n",
      "Failed requesting I Feel A Sin Comin´ On\n",
      "Failed requesting I´m Movin´ On\n",
      "Failed requesting I´ve Got Everybody Fooled (But Me)\n",
      "Failed requesting If I Don´t Live It Up\n"
     ]
    },
    {
     "name": "stderr",
     "output_type": "stream",
     "text": [
      "Processing Jerry Reed_tracks.parquet:  17%|█▋        | 46/263 [00:01<00:06, 35.52it/s]"
     ]
    },
    {
     "name": "stdout",
     "output_type": "stream",
     "text": [
      "Failed requesting It Sure Is Blue Out Tonight\n",
      "Failed requesting June Night\n",
      "Failed requesting Let´s Get Ready For The Summer\n",
      "Failed requesting Love And War (Ain't Much Difference In The Two)\n",
      "Failed requesting Love Don´t Grow On Trees\n",
      "Failed requesting Love Is The Cause Of It All\n",
      "Failed requesting Love´s Battleground\n",
      "Failed requesting Mountain Man\n"
     ]
    },
    {
     "name": "stderr",
     "output_type": "stream",
     "text": [
      "Processing Jerry Reed_tracks.parquet:  21%|██        | 54/263 [00:01<00:05, 37.10it/s]"
     ]
    },
    {
     "name": "stdout",
     "output_type": "stream",
     "text": [
      "Failed requesting Overlooked And Underloved\n",
      "Failed requesting Pity The Fool\n",
      "Failed requesting Spilled Milk\n",
      "Failed requesting The Shock\n",
      "Failed requesting Guitar Man\n",
      "Failed requesting The Claw\n",
      "Failed requesting U.S. Male\n",
      "Failed requesting Tupelo Mississippi Flash\n"
     ]
    },
    {
     "name": "stderr",
     "output_type": "stream",
     "text": [
      "Processing Jerry Reed_tracks.parquet:  24%|██▍       | 63/263 [00:01<00:05, 38.01it/s]"
     ]
    },
    {
     "name": "stdout",
     "output_type": "stream",
     "text": [
      "Failed requesting Remembering\n",
      "Failed requesting Alabama Wild Man - (1968 Version)\n",
      "Failed requesting There's Better Things in Life\n",
      "Failed requesting Are You from Dixie ('Cause I'm from Dixie Too)\n",
      "Failed requesting Talk About the Good Times\n",
      "Failed requesting Georgia Sunshine\n",
      "Failed requesting Amos Moses\n",
      "Failed requesting When You're Hot, You're Hot\n"
     ]
    },
    {
     "name": "stderr",
     "output_type": "stream",
     "text": [
      "Processing Jerry Reed_tracks.parquet:  29%|██▉       | 77/263 [00:09<00:51,  3.58it/s]"
     ]
    },
    {
     "name": "stdout",
     "output_type": "stream",
     "text": [
      "Failed requesting The Crude Oil Blues\n",
      "Failed requesting Have Blues, Will Travel\n",
      "Failed requesting Have Blues, Will Travel\n",
      "Failed requesting I Fell Out of Love With Love\n",
      "Failed requesting I Fell Out of Love With Love\n",
      "Failed requesting I Must Be Slippin'\n",
      "Failed requesting I Must Be Slippin'\n",
      "Failed requesting It Could Be\n",
      "Failed requesting It Could Be\n"
     ]
    },
    {
     "name": "stderr",
     "output_type": "stream",
     "text": [
      "Processing Jerry Reed_tracks.parquet:  31%|███       | 82/263 [00:09<00:33,  5.33it/s]"
     ]
    },
    {
     "name": "stdout",
     "output_type": "stream",
     "text": [
      "Failed requesting It Won't Be Easy to Forget\n",
      "Failed requesting It Won't Be Easy to Forget\n",
      "Failed requesting Just Right\n",
      "Failed requesting Just Right\n"
     ]
    },
    {
     "name": "stderr",
     "output_type": "stream",
     "text": [
      "Processing Jerry Reed_tracks.parquet:  34%|███▍      | 90/263 [00:10<00:26,  6.46it/s]"
     ]
    },
    {
     "name": "stdout",
     "output_type": "stream",
     "text": [
      "Failed requesting Little Lovin' Liza\n",
      "Failed requesting Soldier's Joy\n",
      "Failed requesting Soldier's Joy\n",
      "Failed requesting Stone Eternal\n",
      "Failed requesting Stone Eternal\n",
      "Failed requesting This Can't Be Happening to Me\n",
      "Failed requesting This Can't Be Happening to Me\n",
      "Failed requesting Ba-Bee\n"
     ]
    },
    {
     "name": "stderr",
     "output_type": "stream",
     "text": [
      "Processing Jerry Reed_tracks.parquet:  37%|███▋      | 98/263 [00:10<00:15, 10.80it/s]"
     ]
    },
    {
     "name": "stdout",
     "output_type": "stream",
     "text": [
      "Failed requesting Bessie Baby\n",
      "Failed requesting Everywhere\n",
      "Failed requesting Forever\n",
      "Failed requesting Heart Appeal\n",
      "Failed requesting Here I Am\n",
      "Failed requesting Honey Chile\n",
      "Failed requesting How Can I Go On This Way\n"
     ]
    },
    {
     "name": "stderr",
     "output_type": "stream",
     "text": [
      "Processing Jerry Reed_tracks.parquet:  40%|████      | 106/263 [00:10<00:09, 16.62it/s]"
     ]
    },
    {
     "name": "stdout",
     "output_type": "stream",
     "text": [
      "Failed requesting How Can I Go On This Way (Alternative take)\n",
      "Failed requesting I'm A Lover, Not A Fighter\n",
      "Failed requesting I'm Stuck\n",
      "Failed requesting I'm Tired Of Playing Cupid\n",
      "Failed requesting I've Had Enough\n",
      "Failed requesting I Can't Find The Words\n",
      "Failed requesting If The Good Lord's Willing And The Creek Don't Rise\n",
      "Failed requesting In My Own Backyard\n"
     ]
    },
    {
     "name": "stderr",
     "output_type": "stream",
     "text": [
      "Processing Jerry Reed_tracks.parquet:  43%|████▎     | 114/263 [00:11<00:06, 21.85it/s]"
     ]
    },
    {
     "name": "stdout",
     "output_type": "stream",
     "text": [
      "Failed requesting It's High Time\n",
      "Failed requesting Just A Romeo\n",
      "Failed requesting Mister Whiz\n",
      "Failed requesting Oh! Lonely Heart\n",
      "Failed requesting Are You From Dixie (Cause I'm From Dixie Too) - Buddha Remastered - 2000\n",
      "Failed requesting The Claw - Buddha Remastered - 2000\n",
      "Failed requesting Tupelo Mississippi Flash - Buddha Remastered - 2000\n"
     ]
    },
    {
     "name": "stderr",
     "output_type": "stream",
     "text": [
      "Processing Jerry Reed_tracks.parquet:  47%|████▋     | 123/263 [00:11<00:04, 28.78it/s]"
     ]
    },
    {
     "name": "stdout",
     "output_type": "stream",
     "text": [
      "Failed requesting Talk About The Good Times - Buddha Remastered - 2000\n",
      "Failed requesting The Likes Of Me - Buddha Remastered - 2000\n",
      "Failed requesting Amos Moses - Buddha Remastered - 2000\n",
      "Failed requesting U.S. Male - Remastered\n",
      "Failed requesting Lord Mr. Ford - Buddha Remastered - 2000\n",
      "Failed requesting Navy Blues - Buddha Remastered - 2000\n",
      "Failed requesting She Got The Goldmine (I Got The Shaft) - Buddha Remastered - 2000\n",
      "Failed requesting Guitar Man - Buddha Remastered - 2000\n",
      "Failed requesting When You're Hot, You're Hot - Remastered\n"
     ]
    },
    {
     "name": "stderr",
     "output_type": "stream",
     "text": [
      "Processing Jerry Reed_tracks.parquet:  50%|█████     | 132/263 [00:11<00:03, 34.00it/s]"
     ]
    },
    {
     "name": "stdout",
     "output_type": "stream",
     "text": [
      "Failed requesting Remembering\n",
      "Failed requesting Alabama Wild Man - Buddha Remastered - 2000\n",
      "Failed requesting Nervous Breakdown\n",
      "Failed requesting East Bound and Down\n",
      "Failed requesting East Bound and Down\n",
      "Failed requesting Medley: The Bird / Whiskey River / On the Road Again / He Stopped Loving Her Today\n",
      "Failed requesting She Got the Goldmine (I Got the Shaft)\n",
      "Failed requesting Amos Moses\n",
      "Failed requesting Lord, Mr. Ford\n"
     ]
    },
    {
     "name": "stderr",
     "output_type": "stream",
     "text": [
      "Processing Jerry Reed_tracks.parquet:  53%|█████▎    | 140/263 [00:11<00:03, 35.81it/s]"
     ]
    },
    {
     "name": "stdout",
     "output_type": "stream",
     "text": [
      "Failed requesting When You're Hot, You're Hot\n",
      "Failed requesting Down On The Corner\n",
      "Failed requesting Down On The Corner\n",
      "Failed requesting Remembering\n",
      "Failed requesting Sugar Foot Rag\n",
      "Failed requesting I Love You, What Can I Say\n",
      "Failed requesting Down On The Corner\n",
      "Failed requesting Down On The Corner\n",
      "Failed requesting Guitar Man\n"
     ]
    },
    {
     "name": "stderr",
     "output_type": "stream",
     "text": [
      "Processing Jerry Reed_tracks.parquet:  56%|█████▋    | 148/263 [00:12<00:03, 36.96it/s]"
     ]
    },
    {
     "name": "stdout",
     "output_type": "stream",
     "text": [
      "Failed requesting Folsom Prison Blues\n",
      "Failed requesting The Devil Went Down to Georgia\n",
      "Failed requesting The Devil Went Down to Georgia\n",
      "Failed requesting A Thing Called Love\n",
      "Failed requesting U.S. Male\n",
      "Failed requesting Honkin'\n",
      "Failed requesting Wabash Cannonball\n",
      "Failed requesting Tupelo Mississippi Flash\n"
     ]
    },
    {
     "name": "stderr",
     "output_type": "stream",
     "text": [
      "Processing Jerry Reed_tracks.parquet:  59%|█████▉    | 156/263 [00:12<00:03, 34.87it/s]"
     ]
    },
    {
     "name": "stdout",
     "output_type": "stream",
     "text": [
      "Failed requesting 500 Miles Away From Home\n",
      "Failed requesting Struttin'\n",
      "Failed requesting Amos Moses\n",
      "Failed requesting Sweet Memories\n",
      "Failed requesting Sixteen Tons\n",
      "Failed requesting When You're Hot, You're Hot\n",
      "Failed requesting Blue Moon Of Kentucky\n"
     ]
    },
    {
     "name": "stderr",
     "output_type": "stream",
     "text": [
      "Processing Jerry Reed_tracks.parquet:  62%|██████▏   | 164/263 [00:12<00:02, 33.45it/s]"
     ]
    },
    {
     "name": "stdout",
     "output_type": "stream",
     "text": [
      "Failed requesting Don't It Make You Wanta Go Home\n",
      "Failed requesting Don't It Make You Wanta Go Home\n",
      "Failed requesting Promises\n",
      "Failed requesting Promises\n",
      "Failed requesting Bad, Bad Leroy Brown\n",
      "Failed requesting Patches\n",
      "Failed requesting Patches\n"
     ]
    },
    {
     "name": "stderr",
     "output_type": "stream",
     "text": [
      "Processing Jerry Reed_tracks.parquet:  64%|██████▍   | 168/263 [00:12<00:02, 31.85it/s]"
     ]
    },
    {
     "name": "stdout",
     "output_type": "stream",
     "text": [
      "Failed requesting Introduction\n",
      "Failed requesting You're Looking Good\n",
      "Failed requesting Diggin' Up Bones (Tryin' Stuff On)\n",
      "Failed requesting F-16 Monologue\n",
      "Failed requesting Introduction to \"The Bird\"\n",
      "Failed requesting The Bird\n",
      "Failed requesting Blindsided Me\n"
     ]
    },
    {
     "name": "stderr",
     "output_type": "stream",
     "text": [
      "Processing Jerry Reed_tracks.parquet:  67%|██████▋   | 176/263 [00:12<00:02, 33.98it/s]"
     ]
    },
    {
     "name": "stdout",
     "output_type": "stream",
     "text": [
      "Failed requesting Intro to \"I Wish I Hadn't Done It My Way\"\n",
      "Failed requesting I Wish I Hadn't Done It My Way\n",
      "Failed requesting Bassin' Bubba\n",
      "Failed requesting Intro to \"If It Ain't Broke\"\n",
      "Failed requesting If It Ain't Broke, Don't Fix It\n",
      "Failed requesting Summertime\n",
      "Failed requesting Cajun Stripper\n",
      "Failed requesting Vaudville Daze\n"
     ]
    },
    {
     "name": "stderr",
     "output_type": "stream",
     "text": [
      "Processing Jerry Reed_tracks.parquet:  70%|██████▉   | 184/263 [00:13<00:02, 35.81it/s]"
     ]
    },
    {
     "name": "stdout",
     "output_type": "stream",
     "text": [
      "Failed requesting Here We Are\n",
      "Failed requesting The Claw\n",
      "Failed requesting First Born\n",
      "Failed requesting Major Attempt At A Minor Thing\n",
      "Failed requesting Gibson Girl\n",
      "Failed requesting Sneakin' Around\n",
      "Failed requesting Nifty Fifties\n",
      "Failed requesting Here Comes That Girl\n"
     ]
    },
    {
     "name": "stderr",
     "output_type": "stream",
     "text": [
      "Processing Jerry Reed_tracks.parquet:  73%|███████▎  | 192/263 [00:13<00:01, 36.39it/s]"
     ]
    },
    {
     "name": "stdout",
     "output_type": "stream",
     "text": [
      "Failed requesting Don't It Make You Wanta Go Home\n",
      "Failed requesting Don't It Make You Wanta Go Home\n",
      "Failed requesting Promises\n",
      "Failed requesting Promises\n",
      "Failed requesting She's Ready for Someone to Love Her\n",
      "Failed requesting Ole What's His Name\n",
      "Failed requesting Good Ole Boys\n",
      "Failed requesting I'm a Slave\n",
      "Failed requesting Nobody Ever Loved Me\n"
     ]
    },
    {
     "name": "stderr",
     "output_type": "stream",
     "text": [
      "Processing Jerry Reed_tracks.parquet:  78%|███████▊  | 205/263 [00:13<00:01, 38.79it/s]"
     ]
    },
    {
     "name": "stdout",
     "output_type": "stream",
     "text": [
      "Failed requesting One Jump Ahead of the Storm\n",
      "Failed requesting All American Country Boy\n",
      "Failed requesting Raised On Rock and Roll\n",
      "Failed requesting Down on the Corner\n",
      "Failed requesting Hard Times\n",
      "Failed requesting I Want to Love You Right\n",
      "Failed requesting Good Time Saturday Night\n",
      "Failed requesting Medley: The Bird / Whiskey River / On the Road Again / He Stopped Loving Her Today\n",
      "Failed requesting Red River\n"
     ]
    },
    {
     "name": "stderr",
     "output_type": "stream",
     "text": [
      "Processing Jerry Reed_tracks.parquet:  79%|███████▉  | 209/263 [00:13<00:01, 39.09it/s]"
     ]
    },
    {
     "name": "stdout",
     "output_type": "stream",
     "text": [
      "Failed requesting I'm a Slave\n",
      "Failed requesting I'm In Love with Loving You\n",
      "Failed requesting I Get Off On It\n",
      "Failed requesting She Got the Goldmine (I Got the Shaft)\n",
      "Failed requesting Patches\n",
      "Failed requesting Patches\n",
      "Failed requesting The Man with the Golden Thumb\n",
      "Failed requesting Love Is Muddy Water\n",
      "Failed requesting (Shu Doo Pa Poo Poop) Love Being Your Fool\n"
     ]
    },
    {
     "name": "stderr",
     "output_type": "stream",
     "text": [
      "Processing Jerry Reed_tracks.parquet:  83%|████████▎ | 219/263 [00:14<00:01, 39.69it/s]"
     ]
    },
    {
     "name": "stdout",
     "output_type": "stream",
     "text": [
      "Failed requesting The Best I Ever Had\n",
      "Failed requesting She Got the Goldmine (I Got the Shaft)\n",
      "Failed requesting The Hobo\n",
      "Failed requesting \"44\"\n",
      "Failed requesting It Tears Me Up\n",
      "Failed requesting Stray Dogs and Stray Women\n",
      "Failed requesting The Devil Went Down to Georgia\n",
      "Failed requesting The Devil Went Down to Georgia\n"
     ]
    },
    {
     "name": "stderr",
     "output_type": "stream",
     "text": [
      "Processing Jerry Reed_tracks.parquet:  86%|████████▋ | 227/263 [00:14<00:00, 37.29it/s]"
     ]
    },
    {
     "name": "stdout",
     "output_type": "stream",
     "text": [
      "Failed requesting Bayou Woman\n",
      "Failed requesting Good Friends Make Good Lovers\n",
      "Failed requesting Love Me Tonight\n",
      "Failed requesting Rhythm and Blues\n",
      "Failed requesting Dixie Dreams\n",
      "Failed requesting The Testimony of Soddy Hoe\n",
      "Failed requesting One Way Rider\n",
      "Failed requesting Hooray for Chuck Berry\n"
     ]
    },
    {
     "name": "stderr",
     "output_type": "stream",
     "text": [
      "Processing Jerry Reed_tracks.parquet:  89%|████████▉ | 235/263 [00:14<00:00, 36.51it/s]"
     ]
    },
    {
     "name": "stdout",
     "output_type": "stream",
     "text": [
      "Failed requesting Dreaming Fairytales - Instrumental\n",
      "Failed requesting Texas Bound and Flyin' (from the Motion Picture \"Smokey and the Bandit II\")\n",
      "Failed requesting That's the Chance I'll Have to Take\n",
      "Failed requesting East Bound and Down (from the Motion Picture \"Smokey and the Bandit\")\n",
      "Failed requesting If Love's Not Around the House\n",
      "Failed requesting Sugar Foot Rag\n",
      "Failed requesting Caffein, Nicotine, Benzedrine (And Wish Me Luck)\n",
      "Failed requesting Concrete Sailor\n",
      "Failed requesting Semi-Happy\n"
     ]
    },
    {
     "name": "stderr",
     "output_type": "stream",
     "text": [
      "Processing Jerry Reed_tracks.parquet:  93%|█████████▎| 244/263 [00:14<00:00, 38.26it/s]"
     ]
    },
    {
     "name": "stdout",
     "output_type": "stream",
     "text": [
      "Failed requesting Detroit City\n",
      "Failed requesting The Friendly Family Inn\n",
      "Failed requesting Workin' at the Carwash Blues\n",
      "Failed requesting One Less Set of Footsteps\n",
      "Failed requesting You Don't Mess Around with Jim\n",
      "Failed requesting I Got a Name\n",
      "Failed requesting Time In a Bottle\n",
      "Failed requesting Age\n",
      "Failed requesting I'll Have to Say I Love You In a Song\n"
     ]
    },
    {
     "name": "stderr",
     "output_type": "stream",
     "text": [
      "Processing Jerry Reed_tracks.parquet:  96%|█████████▌| 252/263 [00:14<00:00, 37.63it/s]"
     ]
    },
    {
     "name": "stdout",
     "output_type": "stream",
     "text": [
      "Failed requesting The Hard Way Every Time\n",
      "Failed requesting Bad, Bad Leroy Brown\n",
      "Failed requesting Careful Man\n",
      "Failed requesting Introduction - Live in Nashville, TN - June 1979\n",
      "Failed requesting It's Got to Come Out - Live in Nashville, TN - June 1979\n",
      "Failed requesting I Wan-na Go Back Home to Georgia (AKA Little Things) - Live in Nashville, TN - June 1979\n",
      "Failed requesting (Who Was the Man Who Put) The Line In Gasoline - Live in Nashville, TN - June 1979\n",
      "Failed requesting Hot Stuff - Live in Nashville, TN - June 1979\n"
     ]
    },
    {
     "name": "stderr",
     "output_type": "stream",
     "text": [
      "Processing Jerry Reed_tracks.parquet: 100%|██████████| 263/263 [00:15<00:00, 17.28it/s]"
     ]
    },
    {
     "name": "stdout",
     "output_type": "stream",
     "text": [
      "Failed requesting Nine Pound Hammer - Live in Nashville, TN - June 1979\n",
      "Failed requesting I Crapped Myself into the Poorhouse - Live in Nashville, TN - June 1979\n",
      "Failed requesting El Paso - Live in Nashville, TN - June 1979\n",
      "Failed requesting May the Bird of Paradise Fly Up Your Nose - Live in Nashville, TN - June 1979\n",
      "Failed requesting I'm Your Guitar - Live in Nashville, TN - June 1979\n",
      "Failed requesting Guitar Man - Live in Nashville, TN - June 1979\n",
      "Failed requesting East Bound and Down - Live in Nashville, TN - June 1979\n"
     ]
    },
    {
     "name": "stderr",
     "output_type": "stream",
     "text": [
      "\n",
      "Processing Jerry Vale_tracks.parquet:   0%|          | 0/334 [00:00<?, ?it/s]"
     ]
    },
    {
     "name": "stdout",
     "output_type": "stream",
     "text": [
      "Failed requesting You Try Somebody Else\n"
     ]
    },
    {
     "name": "stderr",
     "output_type": "stream",
     "text": [
      "Processing Jerry Vale_tracks.parquet:   2%|▏         | 6/334 [00:01<00:52,  6.31it/s]"
     ]
    },
    {
     "name": "stdout",
     "output_type": "stream",
     "text": [
      "Failed requesting Just Friends\n",
      "Failed requesting Paradise\n",
      "Failed requesting Sweet and Lovely\n",
      "Failed requesting Prisoner of Love\n"
     ]
    },
    {
     "name": "stderr",
     "output_type": "stream",
     "text": [
      "Processing Jerry Vale_tracks.parquet:   3%|▎         | 9/334 [00:02<01:21,  4.01it/s]"
     ]
    },
    {
     "name": "stdout",
     "output_type": "stream",
     "text": [
      "Failed requesting Poor Butterfly\n",
      "Failed requesting You Call It Madness\n",
      "Failed requesting Auf Wiedersehen, My Dear\n",
      "Failed requesting You're My Everything\n",
      "Failed requesting Call Me Darling\n"
     ]
    },
    {
     "name": "stderr",
     "output_type": "stream",
     "text": [
      "Processing Jerry Vale_tracks.parquet:   4%|▍         | 13/334 [00:03<01:24,  3.80it/s]"
     ]
    },
    {
     "name": "stdout",
     "output_type": "stream",
     "text": [
      "Failed requesting Mala Femmina\n",
      "Failed requesting Pretend You Don't See Her (with Percy Faith & His Orchestra)\n"
     ]
    },
    {
     "name": "stderr",
     "output_type": "stream",
     "text": [
      "Processing Jerry Vale_tracks.parquet:   6%|▌         | 20/334 [00:04<01:00,  5.19it/s]"
     ]
    },
    {
     "name": "stdout",
     "output_type": "stream",
     "text": [
      "Failed requesting Come Back to Sorrento\n",
      "Failed requesting Come Back to Sorrento\n",
      "Failed requesting Just Say I Love Her (Dicitencello Vuie)\n",
      "Failed requesting Just Say I Love Her (Dicitencello Vuie)\n",
      "Failed requesting Innamorata (Sweetheart) (with Percy Faith & His Orchestra)\n",
      "Failed requesting Innamorata (Sweetheart) (with Percy Faith & His Orchestra)\n",
      "Failed requesting You Don't Know Me (with Percy Faith & His Orchestra)\n",
      "Failed requesting You Don't Know Me (with Percy Faith & His Orchestra)\n",
      "Failed requesting And This Is My Beloved\n"
     ]
    },
    {
     "name": "stderr",
     "output_type": "stream",
     "text": [
      "Processing Jerry Vale_tracks.parquet:  10%|█         | 34/334 [00:04<00:20, 14.55it/s]"
     ]
    },
    {
     "name": "stdout",
     "output_type": "stream",
     "text": [
      "Failed requesting And This Is My Beloved\n",
      "Failed requesting And This Is My Beloved\n",
      "Failed requesting I Have But One Heart ('O Marenariello)\n",
      "Failed requesting I Have But One Heart ('O Marenariello)\n",
      "Failed requesting You Alone (Solo Tu)\n",
      "Failed requesting You Alone (Solo Tu)\n",
      "Failed requesting Return to Me\n",
      "Failed requesting Return to Me\n",
      "Failed requesting Go\n"
     ]
    },
    {
     "name": "stderr",
     "output_type": "stream",
     "text": [
      "Processing Jerry Vale_tracks.parquet:  11%|█▏        | 38/334 [00:05<00:16, 17.59it/s]"
     ]
    },
    {
     "name": "stdout",
     "output_type": "stream",
     "text": [
      "Failed requesting Go\n",
      "Failed requesting Two Purple Shadows\n",
      "Failed requesting Two Purple Shadows\n",
      "Failed requesting Two Purple Shadows\n",
      "Failed requesting Go Chase A Moonbeam (with Glenn Osser & His Orchestra)\n",
      "Failed requesting I Can't Get You Out Of My Heart (Ti Amo-Ti Voglio Amor)\n",
      "Failed requesting I Can't Get You Out Of My Heart (Ti Amo-Ti Voglio Amor)\n",
      "Failed requesting If\n"
     ]
    },
    {
     "name": "stderr",
     "output_type": "stream",
     "text": [
      "Processing Jerry Vale_tracks.parquet:  14%|█▍        | 48/334 [00:05<00:11, 25.98it/s]"
     ]
    },
    {
     "name": "stdout",
     "output_type": "stream",
     "text": [
      "Failed requesting Solitaire\n",
      "Failed requesting Prima Donna\n",
      "Failed requesting And No One Knows\n",
      "Failed requesting And No One Knows\n",
      "Failed requesting Enchanted\n",
      "Failed requesting Enchanted\n",
      "Failed requesting Tell Me That You Love Me (Parlami D'Amore, Mariu)\n",
      "Failed requesting Tell Me That You Love Me (Parlami D'Amore, Mariu)\n",
      "Failed requesting Pretend You Don't See Her - Remastered\n"
     ]
    },
    {
     "name": "stderr",
     "output_type": "stream",
     "text": [
      "Processing Jerry Vale_tracks.parquet:  17%|█▋        | 56/334 [00:05<00:09, 29.72it/s]"
     ]
    },
    {
     "name": "stdout",
     "output_type": "stream",
     "text": [
      "Failed requesting Camelot - Remastered\n",
      "Failed requesting You Don't Know Me - Remastered\n",
      "Failed requesting Because of You - Remastered\n",
      "Failed requesting Old Cape Cod - Remastered\n",
      "Failed requesting No One Will Ever Know - Remastered\n",
      "Failed requesting You Got Me Doin' What I Said I'd Never Do - Remastered\n",
      "Failed requesting All Dressed up with a Broken Heart - Remastered\n",
      "Failed requesting And This Is My Beloved - Remastered\n",
      "Failed requesting Because You're Mine - Remastered\n"
     ]
    },
    {
     "name": "stderr",
     "output_type": "stream",
     "text": [
      "Processing Jerry Vale_tracks.parquet:  19%|█▉        | 64/334 [00:05<00:07, 33.81it/s]"
     ]
    },
    {
     "name": "stdout",
     "output_type": "stream",
     "text": [
      "Failed requesting The Dawn of Love - Remastered\n",
      "Failed requesting I Can't Help It - Remastered\n",
      "Failed requesting Unchained Melody - Remastered\n",
      "Failed requesting Call Me Darling - Remastered\n",
      "Failed requesting Linda - Remastered\n",
      "Failed requesting For Me - Remastered\n",
      "Failed requesting Innamorata - Remastered\n",
      "Failed requesting Enchanted - Remastered\n"
     ]
    },
    {
     "name": "stderr",
     "output_type": "stream",
     "text": [
      "Processing Jerry Vale_tracks.parquet:  22%|██▏       | 72/334 [00:05<00:07, 35.66it/s]"
     ]
    },
    {
     "name": "stdout",
     "output_type": "stream",
     "text": [
      "Failed requesting If - Remastered\n",
      "Failed requesting I Understand - Remastered\n",
      "Failed requesting All Of Me\n",
      "Failed requesting All Of Me\n",
      "Failed requesting Auf Wiedersehen, My Dear\n",
      "Failed requesting Auf Wiedersehen, My Dear\n",
      "Failed requesting Call Me Darling\n"
     ]
    },
    {
     "name": "stderr",
     "output_type": "stream",
     "text": [
      "Processing Jerry Vale_tracks.parquet:  25%|██▍       | 82/334 [00:06<00:06, 38.97it/s]"
     ]
    },
    {
     "name": "stdout",
     "output_type": "stream",
     "text": [
      "Failed requesting I've Got A Feeling I'm Falling\n",
      "Failed requesting I've Got A Feeling I'm Falling\n",
      "Failed requesting Just Friends\n",
      "Failed requesting Just Friends\n",
      "Failed requesting Paradise\n",
      "Failed requesting Paradise\n",
      "Failed requesting Poor Butterfly\n",
      "Failed requesting Prisoner Of Love\n",
      "Failed requesting Prisoner Of Love\n"
     ]
    },
    {
     "name": "stderr",
     "output_type": "stream",
     "text": [
      "Processing Jerry Vale_tracks.parquet:  27%|██▋       | 90/334 [00:06<00:06, 39.28it/s]"
     ]
    },
    {
     "name": "stdout",
     "output_type": "stream",
     "text": [
      "Failed requesting Sweet And Lovely\n",
      "Failed requesting Sweet And Lovely\n",
      "Failed requesting You're My Everything\n",
      "Failed requesting You're My Everything\n",
      "Failed requesting You Call It Madness (But I Call It Love)\n",
      "Failed requesting You Try Somebody Else, And I'll Try Somebody Else (We'll Be Back Together Again)\n",
      "Failed requesting And This Is My Beloved\n",
      "Failed requesting And This Is My Beloved\n",
      "Failed requesting And This Is My Beloved\n"
     ]
    },
    {
     "name": "stderr",
     "output_type": "stream",
     "text": [
      "Processing Jerry Vale_tracks.parquet:  28%|██▊       | 95/334 [00:06<00:05, 40.30it/s]"
     ]
    },
    {
     "name": "stdout",
     "output_type": "stream",
     "text": [
      "Failed requesting You Can Never Give Me Back My Heart (with Percy Faith & His Orchestra)\n",
      "Failed requesting I Live Each Day\n",
      "Failed requesting Two Purple Shadows\n",
      "Failed requesting Innamorata (Sweetheart) (with Percy Faith & His Orchestra)\n",
      "Failed requesting You Don't Know Me (with Percy Faith & His Orchestra)\n",
      "Failed requesting Have You Looked into Your Heart\n"
     ]
    },
    {
     "name": "stderr",
     "output_type": "stream",
     "text": [
      "Processing Jerry Vale_tracks.parquet:  31%|███       | 104/334 [00:06<00:06, 35.79it/s]"
     ]
    },
    {
     "name": "stdout",
     "output_type": "stream",
     "text": [
      "Failed requesting O Sole Mio (My Sunshine)\n",
      "Failed requesting Arrivederci, Roma\n",
      "Failed requesting For Mama\n",
      "Failed requesting Deep in Your Heart\n",
      "Failed requesting Time Alone Will Tell (Non pensare a me)\n",
      "Failed requesting In the Back of My Heart\n",
      "Failed requesting Pretend You Don't See Her (with Percy Faith & His Orchestra)\n",
      "Failed requesting Volare (Nel blu dipinto di blu)\n",
      "Failed requesting I Love New England\n"
     ]
    },
    {
     "name": "stderr",
     "output_type": "stream",
     "text": [
      "Processing Jerry Vale_tracks.parquet:  34%|███▍      | 114/334 [00:07<00:05, 38.21it/s]"
     ]
    },
    {
     "name": "stdout",
     "output_type": "stream",
     "text": [
      "Failed requesting Santa Lucia\n",
      "Failed requesting Non Dimenticar\n",
      "Failed requesting You're Breaking My Heart\n",
      "Failed requesting Return to Me\n",
      "Failed requesting Pretend You Don't See Her - Re-Recorded In Stereo\n",
      "Failed requesting You Don't Know Me - Re-Recorded In Stereo\n",
      "Failed requesting Al Di La - Re-Recorded In Stereo\n",
      "Failed requesting Camelot - Re-Recorded In Stereo\n",
      "Failed requesting It All Depends On You - Re-Recorded In Stereo\n"
     ]
    },
    {
     "name": "stderr",
     "output_type": "stream",
     "text": [
      "Processing Jerry Vale_tracks.parquet:  37%|███▋      | 124/334 [00:07<00:05, 39.76it/s]"
     ]
    },
    {
     "name": "stdout",
     "output_type": "stream",
     "text": [
      "Failed requesting Innamorata - Re-Recorded In Stereo\n",
      "Failed requesting Go - Re-Recorded In Stereo\n",
      "Failed requesting My Heart Tells Me - Re-Recorded In Stereo\n",
      "Failed requesting The Song Is You - Re-Recorded In Stereo\n",
      "Failed requesting You're My Everything - Re-Recorded In Stereo\n",
      "Failed requesting All Of Me\n",
      "Failed requesting All Of Me\n",
      "Failed requesting Auf Wiedersehen, My Dear\n",
      "Failed requesting Auf Wiedersehen, My Dear\n"
     ]
    },
    {
     "name": "stderr",
     "output_type": "stream",
     "text": [
      "Processing Jerry Vale_tracks.parquet:  40%|████      | 134/334 [00:07<00:04, 40.69it/s]"
     ]
    },
    {
     "name": "stdout",
     "output_type": "stream",
     "text": [
      "Failed requesting I've Got A Feeling I'm Falling\n",
      "Failed requesting I've Got A Feeling I'm Falling\n",
      "Failed requesting Just Friends\n",
      "Failed requesting Just Friends\n",
      "Failed requesting Paradise\n",
      "Failed requesting Paradise\n",
      "Failed requesting Prisoner Of Love\n",
      "Failed requesting Prisoner Of Love\n",
      "Failed requesting Sweet And Lovely\n"
     ]
    },
    {
     "name": "stderr",
     "output_type": "stream",
     "text": [
      "Processing Jerry Vale_tracks.parquet:  42%|████▏     | 139/334 [00:07<00:04, 40.28it/s]"
     ]
    },
    {
     "name": "stdout",
     "output_type": "stream",
     "text": [
      "Failed requesting Sweet And Lovely\n",
      "Failed requesting You're My Everything\n",
      "Failed requesting You're My Everything\n",
      "Failed requesting I'll Get By (As Long As I Have You)\n",
      "Failed requesting If You Were Only Mine\n",
      "Failed requesting Linda\n",
      "Failed requesting I Still Get A Thrill (Thinking Of You)\n",
      "Failed requesting Peg O' My Heart\n"
     ]
    },
    {
     "name": "stderr",
     "output_type": "stream",
     "text": [
      "Processing Jerry Vale_tracks.parquet:  45%|████▍     | 149/334 [00:07<00:04, 39.44it/s]"
     ]
    },
    {
     "name": "stdout",
     "output_type": "stream",
     "text": [
      "Failed requesting The Very Thought of You\n",
      "Failed requesting Stay As Sweet As You Are\n",
      "Failed requesting Girl Of My Dreams\n",
      "Failed requesting It Had to Be You\n",
      "Failed requesting How Are Things In Glocca Morra\n",
      "Failed requesting Sleepy Time Gal\n",
      "Failed requesting All Dressed Up With A Broken Heart\n",
      "Failed requesting The Boy Next Door\n"
     ]
    },
    {
     "name": "stderr",
     "output_type": "stream",
     "text": [
      "Processing Jerry Vale_tracks.parquet:  47%|████▋     | 157/334 [00:08<00:04, 36.87it/s]"
     ]
    },
    {
     "name": "stdout",
     "output_type": "stream",
     "text": [
      "Failed requesting Would You Like to Take a Walk? (with Percy Faith & His Orchestra)\n",
      "Failed requesting All I Do Is Dream of You (with Percy Faith & His Orchestra)\n",
      "Failed requesting Let's Fall In Love (with Percy Faith & His Orchestra)\n",
      "Failed requesting You Better Go Now (with Percy Faith & His Orchestra)\n",
      "Failed requesting Goodnight My Love (with Percy Faith & His Orchestra)\n",
      "Failed requesting I Wanna Be Loved (with Percy Faith & His Orchestra)\n",
      "Failed requesting Temptation\n",
      "Failed requesting Conflict\n"
     ]
    },
    {
     "name": "stderr",
     "output_type": "stream",
     "text": [
      "Processing Jerry Vale_tracks.parquet:  49%|████▉     | 165/334 [00:08<00:04, 36.69it/s]"
     ]
    },
    {
     "name": "stdout",
     "output_type": "stream",
     "text": [
      "Failed requesting It's Easy to Remember (with Percy Faith & His Orchestra)\n",
      "Failed requesting Just One More Chance (with Percy Faith & His Orchestra)\n",
      "Failed requesting Love Is Here to Stay (with Percy Faith & His Orchestra)\n",
      "Failed requesting Pretend You Don't See Her (with Percy Faith & His Orchestra)\n",
      "Failed requesting Pretend You Don't See Her (with Percy Faith & His Orchestra)\n",
      "Failed requesting Innamorata (Sweetheart) (with Percy Faith & His Orchestra)\n",
      "Failed requesting Innamorata (Sweetheart) (with Percy Faith & His Orchestra)\n",
      "Failed requesting You Don't Know Me (with Percy Faith & His Orchestra)\n"
     ]
    },
    {
     "name": "stderr",
     "output_type": "stream",
     "text": [
      "Processing Jerry Vale_tracks.parquet:  52%|█████▏    | 175/334 [00:08<00:03, 39.89it/s]"
     ]
    },
    {
     "name": "stdout",
     "output_type": "stream",
     "text": [
      "Failed requesting You Don't Know Me (with Percy Faith & His Orchestra)\n",
      "Failed requesting And This Is My Beloved\n",
      "Failed requesting And This Is My Beloved\n",
      "Failed requesting And This Is My Beloved\n",
      "Failed requesting Go\n",
      "Failed requesting Go\n",
      "Failed requesting Two Purple Shadows\n",
      "Failed requesting Two Purple Shadows\n",
      "Failed requesting Two Purple Shadows\n",
      "Failed requesting And No One Knows\n"
     ]
    },
    {
     "name": "stderr",
     "output_type": "stream",
     "text": [
      "Processing Jerry Vale_tracks.parquet:  55%|█████▌    | 185/334 [00:08<00:03, 40.81it/s]"
     ]
    },
    {
     "name": "stdout",
     "output_type": "stream",
     "text": [
      "Failed requesting And No One Knows\n",
      "Failed requesting Enchanted\n",
      "Failed requesting Enchanted\n",
      "Failed requesting Go Chase A Moonbeam\n",
      "Failed requesting Prima Donna\n",
      "Failed requesting If\n",
      "Failed requesting Solitaire\n",
      "Failed requesting Volare (Nel blu dipinto di blu)\n",
      "Failed requesting Piscatore 'E Pusilleco\n"
     ]
    },
    {
     "name": "stderr",
     "output_type": "stream",
     "text": [
      "Processing Jerry Vale_tracks.parquet:  57%|█████▋    | 190/334 [00:08<00:03, 39.61it/s]"
     ]
    },
    {
     "name": "stdout",
     "output_type": "stream",
     "text": [
      "Failed requesting Summertime In Venice\n",
      "Failed requesting You're Breaking My Heart\n",
      "Failed requesting Al Di La\n",
      "Failed requesting Santa Lucia\n",
      "Failed requesting Arrivederci, Roma\n",
      "Failed requesting Luna Rossa\n",
      "Failed requesting Anema E Core\n",
      "Failed requesting From the Bottom of My Heart\n"
     ]
    },
    {
     "name": "stderr",
     "output_type": "stream",
     "text": [
      "Processing Jerry Vale_tracks.parquet:  60%|█████▉    | 199/334 [00:09<00:03, 40.14it/s]"
     ]
    },
    {
     "name": "stdout",
     "output_type": "stream",
     "text": [
      "Failed requesting Non Dimenticar\n",
      "Failed requesting Ciao, Ciao, Bambina\n",
      "Failed requesting Mala Femmina\n",
      "Failed requesting Mala Femmina\n",
      "Failed requesting Come Back to Sorrento\n",
      "Failed requesting Come Back to Sorrento\n",
      "Failed requesting Just Say I Love Her (Dicitencello Vuie)\n",
      "Failed requesting Just Say I Love Her (Dicitencello Vuie)\n"
     ]
    },
    {
     "name": "stderr",
     "output_type": "stream",
     "text": [
      "Processing Jerry Vale_tracks.parquet:  63%|██████▎   | 209/334 [00:09<00:02, 41.82it/s]"
     ]
    },
    {
     "name": "stdout",
     "output_type": "stream",
     "text": [
      "Failed requesting I Have But One Heart ('O Marenariello)\n",
      "Failed requesting I Have But One Heart ('O Marenariello)\n",
      "Failed requesting You Alone (Solo Tu)\n",
      "Failed requesting You Alone (Solo Tu)\n",
      "Failed requesting Return to Me\n",
      "Failed requesting Return to Me\n",
      "Failed requesting I Can't Get You Out Of My Heart (Ti Amo-Ti Voglio Amor)\n",
      "Failed requesting I Can't Get You Out Of My Heart (Ti Amo-Ti Voglio Amor)\n",
      "Failed requesting Tell Me That You Love Me (Parlami D'Amore, Mariu)\n"
     ]
    },
    {
     "name": "stderr",
     "output_type": "stream",
     "text": [
      "Processing Jerry Vale_tracks.parquet:  64%|██████▍   | 214/334 [00:09<00:02, 41.54it/s]"
     ]
    },
    {
     "name": "stdout",
     "output_type": "stream",
     "text": [
      "Failed requesting Tell Me That You Love Me (Parlami D'Amore, Mariu)\n",
      "Failed requesting 'O Sole Mio (My Sunshine)\n",
      "Failed requesting Roman Guitar\n",
      "Failed requesting Mama\n",
      "Failed requesting (Oh, My Wonderful One) Tell Me You're Mine\n",
      "Failed requesting The Same Old Moon\n",
      "Failed requesting Magic Is the Moonlight\n",
      "Failed requesting In the Chapel In the Moonlight\n"
     ]
    },
    {
     "name": "stderr",
     "output_type": "stream",
     "text": [
      "Processing Jerry Vale_tracks.parquet:  67%|██████▋   | 223/334 [00:09<00:02, 39.23it/s]"
     ]
    },
    {
     "name": "stdout",
     "output_type": "stream",
     "text": [
      "Failed requesting Moonlight Becomes You\n",
      "Failed requesting Give Me the Moonlight, Give Me the Girl (And Leave the Rest to Me)\n",
      "Failed requesting A Strawbery Moon (In a Blueberry Sky)\n",
      "Failed requesting The Moon Is My Pillow\n",
      "Failed requesting Heaven Drops Her Curtain Down\n",
      "Failed requesting How High the Moon\n",
      "Failed requesting This Is the Night\n",
      "Failed requesting No Moon at All\n"
     ]
    },
    {
     "name": "stderr",
     "output_type": "stream",
     "text": [
      "Processing Jerry Vale_tracks.parquet:  69%|██████▉   | 231/334 [00:09<00:02, 38.27it/s]"
     ]
    },
    {
     "name": "stdout",
     "output_type": "stream",
     "text": [
      "Failed requesting Moonglow\n",
      "Failed requesting White Christmas\n",
      "Failed requesting I'll Be Home for Christmas\n",
      "Failed requesting O, Holy Night!\n",
      "Failed requesting Silent Night, Holy Night\n",
      "Failed requesting The Christmas Song (Chestnuts Roasting on an Open Fire)\n",
      "Failed requesting Blue Christmas\n",
      "Failed requesting Have Yourself a Merry Little Christmas\n",
      "Failed requesting Silver Bells\n"
     ]
    },
    {
     "name": "stderr",
     "output_type": "stream",
     "text": [
      "Processing Jerry Vale_tracks.parquet:  72%|███████▏  | 240/334 [00:10<00:02, 38.05it/s]"
     ]
    },
    {
     "name": "stdout",
     "output_type": "stream",
     "text": [
      "Failed requesting The First Noel\n",
      "Failed requesting O Come All Ye Faithful\n",
      "Failed requesting It Came Upon the Midnight Clear\n",
      "Failed requesting O Little Town of Bethlehem\n",
      "Failed requesting Santa Mouse\n",
      "Failed requesting (There's No Place Like) Home for the Holidays\n",
      "Failed requesting He\n",
      "Failed requesting White Christmas\n"
     ]
    },
    {
     "name": "stderr",
     "output_type": "stream",
     "text": [
      "Processing Jerry Vale_tracks.parquet:  73%|███████▎  | 244/334 [00:10<00:02, 38.14it/s]"
     ]
    },
    {
     "name": "stdout",
     "output_type": "stream",
     "text": [
      "Failed requesting I'll Be Home for Christmas\n",
      "Failed requesting O, Holy Night!\n",
      "Failed requesting Silent Night, Holy Night\n"
     ]
    },
    {
     "name": "stderr",
     "output_type": "stream",
     "text": [
      "Processing Jerry Vale_tracks.parquet:  74%|███████▍  | 248/334 [00:11<00:08, 10.10it/s]"
     ]
    },
    {
     "name": "stdout",
     "output_type": "stream",
     "text": [
      "Failed requesting Blue Christmas\n"
     ]
    },
    {
     "name": "stderr",
     "output_type": "stream",
     "text": [
      "Processing Jerry Vale_tracks.parquet:  75%|███████▌  | 251/334 [00:13<00:20,  4.15it/s]"
     ]
    },
    {
     "name": "stdout",
     "output_type": "stream",
     "text": [
      "Failed requesting The First Noel\n"
     ]
    },
    {
     "name": "stderr",
     "output_type": "stream",
     "text": [
      "Processing Jerry Vale_tracks.parquet:  76%|███████▋  | 255/334 [00:16<00:35,  2.22it/s]"
     ]
    },
    {
     "name": "stdout",
     "output_type": "stream",
     "text": [
      "Failed requesting Santa Mouse\n",
      "Failed requesting (There's No Place Like) Home for the Holidays\n"
     ]
    },
    {
     "name": "stderr",
     "output_type": "stream",
     "text": [
      "Processing Jerry Vale_tracks.parquet:  79%|███████▊  | 263/334 [00:23<00:57,  1.23it/s]"
     ]
    },
    {
     "name": "stdout",
     "output_type": "stream",
     "text": [
      "Failed requesting Non Dimenticar\n"
     ]
    },
    {
     "name": "stderr",
     "output_type": "stream",
     "text": [
      "Processing Jerry Vale_tracks.parquet:  82%|████████▏ | 273/334 [00:32<01:01,  1.01s/it]"
     ]
    },
    {
     "name": "stdout",
     "output_type": "stream",
     "text": [
      "Failed requesting Somewhere\n",
      "Failed requesting Sunrise, Sunset - From \"Fiddler on the Roof\"\n"
     ]
    },
    {
     "name": "stderr",
     "output_type": "stream",
     "text": [
      "Processing Jerry Vale_tracks.parquet:  84%|████████▍ | 281/334 [00:35<00:22,  2.36it/s]"
     ]
    },
    {
     "name": "stdout",
     "output_type": "stream",
     "text": [
      "Failed requesting What a Wonderful World\n",
      "Failed requesting Stardust\n",
      "Failed requesting It's Impossible\n",
      "Failed requesting My Way\n",
      "Failed requesting Torna!\n"
     ]
    },
    {
     "name": "stderr",
     "output_type": "stream",
     "text": [
      "Processing Jerry Vale_tracks.parquet:  85%|████████▌ | 284/334 [00:36<00:19,  2.51it/s]"
     ]
    },
    {
     "name": "stdout",
     "output_type": "stream",
     "text": [
      "Failed requesting Rusella 'E Maggio\n",
      "Failed requesting Vieni Su\n"
     ]
    },
    {
     "name": "stderr",
     "output_type": "stream",
     "text": [
      "Processing Jerry Vale_tracks.parquet:  87%|████████▋ | 292/334 [00:39<00:11,  3.65it/s]"
     ]
    },
    {
     "name": "stdout",
     "output_type": "stream",
     "text": [
      "Failed requesting Core'ngrato\n",
      "Failed requesting Passione (The Moment of Moments)\n",
      "Failed requesting Statte Vicino Amme\n",
      "Failed requesting The Lights of Roma\n"
     ]
    },
    {
     "name": "stderr",
     "output_type": "stream",
     "text": [
      "Processing Jerry Vale_tracks.parquet:  91%|█████████ | 303/334 [00:46<00:11,  2.63it/s]"
     ]
    },
    {
     "name": "stdout",
     "output_type": "stream",
     "text": [
      "Failed requesting You Don't Know Me (with Percy Faith & His Orchestra)\n",
      "Failed requesting Al Di La\n",
      "Failed requesting Be My Love\n",
      "Failed requesting Tears Keep Falling\n"
     ]
    },
    {
     "name": "stderr",
     "output_type": "stream",
     "text": [
      "Processing Jerry Vale_tracks.parquet:  92%|█████████▏| 307/334 [00:50<00:20,  1.29it/s]"
     ]
    },
    {
     "name": "stdout",
     "output_type": "stream",
     "text": [
      "Failed requesting The Impossible Dream\n"
     ]
    },
    {
     "name": "stderr",
     "output_type": "stream",
     "text": [
      "Processing Jerry Vale_tracks.parquet:  95%|█████████▍| 316/334 [00:54<00:06,  2.65it/s]"
     ]
    },
    {
     "name": "stdout",
     "output_type": "stream",
     "text": [
      "Failed requesting Free as the Wind (Theme from \"Papillon\")\n",
      "Failed requesting Behind Closed Doors\n",
      "Failed requesting For the Peace of All Mankind\n",
      "Failed requesting Paper Roses\n",
      "Failed requesting If I Could Write a Song\n",
      "Failed requesting All That Love Went to Waste (Theme from \"A Touch of Class\")\n",
      "Failed requesting The Most Beautiful Girl\n"
     ]
    },
    {
     "name": "stderr",
     "output_type": "stream",
     "text": [
      "Processing Jerry Vale_tracks.parquet:  97%|█████████▋| 324/334 [00:55<00:01,  7.02it/s]"
     ]
    },
    {
     "name": "stdout",
     "output_type": "stream",
     "text": [
      "Failed requesting I'll Close the Door Behind Me\n",
      "Failed requesting Top of the World\n",
      "Failed requesting Reason to Believe\n",
      "Failed requesting Woman of the World\n",
      "Failed requesting Song Sung Blue\n",
      "Failed requesting Speak Softly Love\n",
      "Failed requesting Daddy Don't You Walk So Fast\n",
      "Failed requesting The Candy Man\n"
     ]
    },
    {
     "name": "stderr",
     "output_type": "stream",
     "text": [
      "Processing Jerry Vale_tracks.parquet: 100%|██████████| 334/334 [00:56<00:00,  5.91it/s]"
     ]
    },
    {
     "name": "stdout",
     "output_type": "stream",
     "text": [
      "Failed requesting Alone Again (Naturally)\n",
      "Failed requesting Goodbye to Love\n",
      "Failed requesting Ev'ry Day of My Love\n",
      "Failed requesting Where Is the Love\n",
      "Failed requesting This Is All I Ask\n",
      "Failed requesting Run to Me\n"
     ]
    },
    {
     "name": "stderr",
     "output_type": "stream",
     "text": [
      "\n",
      "Processing Jesca Hoop_tracks.parquet:   8%|▊         | 9/111 [00:01<00:09, 10.32it/s]"
     ]
    },
    {
     "name": "stdout",
     "output_type": "stream",
     "text": [
      "Failed requesting I Was Just 14\n",
      "Failed requesting Hatred Has A Mother\n",
      "Failed requesting One Way Mirror\n",
      "Failed requesting Silent Extinction\n",
      "Failed requesting 7lbs of Pressure\n",
      "Failed requesting Sioux Falls\n",
      "Failed requesting Like I Am Time\n",
      "Failed requesting Firestorm\n"
     ]
    },
    {
     "name": "stderr",
     "output_type": "stream",
     "text": [
      "Processing Jesca Hoop_tracks.parquet:  12%|█▏        | 13/111 [00:01<00:06, 15.14it/s]"
     ]
    },
    {
     "name": "stdout",
     "output_type": "stream",
     "text": [
      "Failed requesting Lyrebird\n",
      "Failed requesting Born To (DOJH)\n",
      "Failed requesting Pack Animal (DOJH)\n",
      "Failed requesting Peacemaker (DOJH)\n",
      "Failed requesting Hospital (Win Your Love) [DOJH]\n",
      "Failed requesting The House That Jack Built (DOJH)\n",
      "Failed requesting Ode to Banksy (DOJH)\n"
     ]
    },
    {
     "name": "stderr",
     "output_type": "stream",
     "text": [
      "Processing Jesca Hoop_tracks.parquet:  19%|█▉        | 21/111 [00:01<00:03, 23.89it/s]"
     ]
    },
    {
     "name": "stdout",
     "output_type": "stream",
     "text": [
      "Failed requesting Dig This Record (DOJH)\n",
      "Failed requesting D.N.R. (DOJH)\n",
      "Failed requesting Deeper Devastation (DOJH)\n",
      "Failed requesting When I'm Asleep (DOJH)\n",
      "Failed requesting Free of the Feeling\n",
      "Failed requesting Shoulder Charge (feat. Lucius)\n",
      "Failed requesting Old Fear of Father\n",
      "Failed requesting Footfall to the Path\n",
      "Failed requesting Death Row\n"
     ]
    },
    {
     "name": "stderr",
     "output_type": "stream",
     "text": [
      "Processing Jesca Hoop_tracks.parquet:  27%|██▋       | 30/111 [00:01<00:02, 30.73it/s]"
     ]
    },
    {
     "name": "stdout",
     "output_type": "stream",
     "text": [
      "Failed requesting Red White and Black\n",
      "Failed requesting 01 Tear\n",
      "Failed requesting All Time Low\n",
      "Failed requesting Outside of Eden (feat. Kate Stables & Justis)\n",
      "Failed requesting Passage's End\n",
      "Failed requesting Time Capsule\n",
      "Failed requesting Memories Are Now\n",
      "Failed requesting The Lost Sky\n",
      "Failed requesting Animal Kingdom Chaotic\n"
     ]
    },
    {
     "name": "stderr",
     "output_type": "stream",
     "text": [
      "Processing Jesca Hoop_tracks.parquet:  35%|███▌      | 39/111 [00:02<00:02, 35.22it/s]"
     ]
    },
    {
     "name": "stdout",
     "output_type": "stream",
     "text": [
      "Failed requesting Simon Says\n",
      "Failed requesting Cut Connection\n",
      "Failed requesting Songs of Old\n",
      "Failed requesting Unsaid\n",
      "Failed requesting Pegasi\n",
      "Failed requesting The Coming\n",
      "Failed requesting Welcome to Feeling\n",
      "Failed requesting One Way to Pray\n",
      "Failed requesting The Lamb You Lost\n"
     ]
    },
    {
     "name": "stderr",
     "output_type": "stream",
     "text": [
      "Processing Jesca Hoop_tracks.parquet:  43%|████▎     | 48/111 [00:02<00:01, 37.49it/s]"
     ]
    },
    {
     "name": "stdout",
     "output_type": "stream",
     "text": [
      "Failed requesting We Two Are a Moon\n",
      "Failed requesting Midas Tongue\n",
      "Failed requesting Know the Wild that Wants You\n",
      "Failed requesting Every Songbird Says\n",
      "Failed requesting Bright Lights and Goodbyes\n"
     ]
    },
    {
     "name": "stderr",
     "output_type": "stream",
     "text": [
      "Processing Jesca Hoop_tracks.parquet:  47%|████▋     | 52/111 [00:03<00:05, 10.30it/s]"
     ]
    },
    {
     "name": "stdout",
     "output_type": "stream",
     "text": [
      "Failed requesting Chalk It Up to Chi\n",
      "Failed requesting Valley Clouds\n",
      "Failed requesting Soft Place to Land\n",
      "Failed requesting Sailor to Siren\n",
      "Failed requesting Murder of Birds (Undressed) [feat. Guy Garvey]\n"
     ]
    },
    {
     "name": "stderr",
     "output_type": "stream",
     "text": [
      "Processing Jesca Hoop_tracks.parquet:  52%|█████▏    | 58/111 [00:05<00:11,  4.77it/s]"
     ]
    },
    {
     "name": "stdout",
     "output_type": "stream",
     "text": [
      "Failed requesting Four Dreams (Undressed)\n",
      "Failed requesting Bed Across the Sea (Undressed)\n",
      "Failed requesting Feast of the Heart (Undressed)\n"
     ]
    },
    {
     "name": "stderr",
     "output_type": "stream",
     "text": [
      "Processing Jesca Hoop_tracks.parquet:  59%|█████▉    | 66/111 [00:07<00:09,  4.69it/s]"
     ]
    },
    {
     "name": "stdout",
     "output_type": "stream",
     "text": [
      "Failed requesting Angel Mom (Undressed)\n",
      "Failed requesting While You Were Away (Undressed)\n",
      "Failed requesting Silverscreen\n",
      "Failed requesting Summertime\n",
      "Failed requesting Out the Back Door\n"
     ]
    },
    {
     "name": "stderr",
     "output_type": "stream",
     "text": [
      "Processing Jesca Hoop_tracks.parquet:  61%|██████▏   | 68/111 [00:08<00:12,  3.55it/s]"
     ]
    },
    {
     "name": "stdout",
     "output_type": "stream",
     "text": [
      "Failed requesting Enemy\n",
      "Failed requesting Love Is All We Have\n"
     ]
    },
    {
     "name": "stderr",
     "output_type": "stream",
     "text": [
      "Processing Jesca Hoop_tracks.parquet:  63%|██████▎   | 70/111 [00:09<00:13,  2.94it/s]"
     ]
    },
    {
     "name": "stdout",
     "output_type": "stream",
     "text": [
      "Failed requesting Havoc in Heaven\n",
      "Failed requesting Rêves Dans Le Creux - Acoustic\n"
     ]
    },
    {
     "name": "stderr",
     "output_type": "stream",
     "text": [
      "Processing Jesca Hoop_tracks.parquet:  70%|███████   | 78/111 [00:12<00:08,  3.82it/s]"
     ]
    },
    {
     "name": "stdout",
     "output_type": "stream",
     "text": [
      "Failed requesting Paradise\n",
      "Failed requesting Worried Mind\n",
      "Failed requesting Born To\n",
      "Failed requesting Pack Animal\n",
      "Failed requesting Peacemaker\n",
      "Failed requesting Hospital (Win Your Love)\n",
      "Failed requesting The House That Jack Built\n"
     ]
    },
    {
     "name": "stderr",
     "output_type": "stream",
     "text": [
      "Processing Jesca Hoop_tracks.parquet:  77%|███████▋  | 86/111 [00:12<00:03,  8.21it/s]"
     ]
    },
    {
     "name": "stdout",
     "output_type": "stream",
     "text": [
      "Failed requesting Ode to Banksy\n",
      "Failed requesting Dig This Record\n",
      "Failed requesting D.N.R.\n",
      "Failed requesting Deeper Devastation\n",
      "Failed requesting When I'm Asleep\n"
     ]
    },
    {
     "name": "stderr",
     "output_type": "stream",
     "text": [
      "Processing Jesca Hoop_tracks.parquet: 100%|██████████| 111/111 [00:38<00:00,  2.88it/s]\n",
      "Processing Jess Klein_tracks.parquet:   2%|▏         | 4/171 [00:00<00:05, 33.02it/s]"
     ]
    },
    {
     "name": "stdout",
     "output_type": "stream",
     "text": [
      "Failed requesting In Dreams\n",
      "Failed requesting Tougher Than I Seem\n",
      "Failed requesting Mammal\n",
      "Failed requesting Blair Mountain\n",
      "Failed requesting Back to My Green\n",
      "Failed requesting Gates of Hell\n",
      "Failed requesting For the Girls\n",
      "Failed requesting Kid\n"
     ]
    },
    {
     "name": "stderr",
     "output_type": "stream",
     "text": [
      "Processing Jess Klein_tracks.parquet:   7%|▋         | 12/171 [00:00<00:05, 27.41it/s]"
     ]
    },
    {
     "name": "stdout",
     "output_type": "stream",
     "text": [
      "Failed requesting I Hear Love\n",
      "Failed requesting Chicken Soup (For My Grandmother)\n",
      "Failed requesting Long Way Down - Live\n",
      "Failed requesting Travelin' Woman - Live\n",
      "Failed requesting Soda Water - Live\n"
     ]
    },
    {
     "name": "stderr",
     "output_type": "stream",
     "text": [
      "Processing Jess Klein_tracks.parquet:  11%|█         | 18/171 [00:01<00:16,  9.05it/s]"
     ]
    },
    {
     "name": "stdout",
     "output_type": "stream",
     "text": [
      "Failed requesting Only the Blues - Live\n",
      "Failed requesting Dear God - Live\n",
      "Failed requesting Open Road - Live\n",
      "Failed requesting Shonalee - Live\n"
     ]
    },
    {
     "name": "stderr",
     "output_type": "stream",
     "text": [
      "Processing Jess Klein_tracks.parquet:  15%|█▍        | 25/171 [00:02<00:19,  7.65it/s]"
     ]
    },
    {
     "name": "stdout",
     "output_type": "stream",
     "text": [
      "Failed requesting If There's a God - Live\n",
      "Failed requesting Loving You - Live\n",
      "Failed requesting Wish - Live\n",
      "Failed requesting So Fucking Cool - Live\n",
      "Failed requesting Learning Faith - Live\n",
      "Failed requesting Learning Faith\n",
      "Failed requesting So Fucking Cool\n",
      "Failed requesting If There's a God\n"
     ]
    },
    {
     "name": "stderr",
     "output_type": "stream",
     "text": [
      "Processing Jess Klein_tracks.parquet:  19%|█▊        | 32/171 [00:04<00:19,  7.08it/s]"
     ]
    },
    {
     "name": "stdout",
     "output_type": "stream",
     "text": [
      "Failed requesting Loving You\n",
      "Failed requesting Wish\n",
      "Failed requesting Dear God\n",
      "Failed requesting Only the Blues\n",
      "Failed requesting Open Road\n",
      "Failed requesting Long Way Down\n"
     ]
    },
    {
     "name": "stderr",
     "output_type": "stream",
     "text": [
      "Processing Jess Klein_tracks.parquet:  23%|██▎       | 40/171 [00:04<00:10, 12.40it/s]"
     ]
    },
    {
     "name": "stdout",
     "output_type": "stream",
     "text": [
      "Failed requesting Behind a Veil\n",
      "Failed requesting Wilson Street Serenade\n",
      "Failed requesting Lovers and Friends\n",
      "Failed requesting Beautiful Child\n",
      "Failed requesting Tell Me This is Love\n",
      "Failed requesting Riverview\n",
      "Failed requesting Simple Love\n"
     ]
    },
    {
     "name": "stderr",
     "output_type": "stream",
     "text": [
      "Processing Jess Klein_tracks.parquet:  28%|██▊       | 48/171 [00:04<00:06, 18.60it/s]"
     ]
    },
    {
     "name": "stdout",
     "output_type": "stream",
     "text": [
      "Failed requesting Mona\n",
      "Failed requesting A Room of Your Own\n",
      "Failed requesting Unwritten Song\n",
      "Failed requesting LIttle White Dove\n",
      "Failed requesting Soda Water\n",
      "Failed requesting Shonalee\n",
      "Failed requesting Sink My Teeth In\n"
     ]
    },
    {
     "name": "stderr",
     "output_type": "stream",
     "text": [
      "Processing Jess Klein_tracks.parquet:  30%|███       | 52/171 [00:04<00:05, 21.41it/s]"
     ]
    },
    {
     "name": "stdout",
     "output_type": "stream",
     "text": [
      "Failed requesting Ireland\n",
      "Failed requesting Strawberry Lover\n",
      "Failed requesting Riverview\n",
      "Failed requesting Bombs Are Falling\n",
      "Failed requesting Shootout at the Candy Shop\n",
      "Failed requesting I'll Be Alright\n"
     ]
    },
    {
     "name": "stderr",
     "output_type": "stream",
     "text": [
      "Processing Jess Klein_tracks.parquet:  35%|███▌      | 60/171 [00:04<00:04, 24.91it/s]"
     ]
    },
    {
     "name": "stdout",
     "output_type": "stream",
     "text": [
      "Failed requesting The House You're Living In\n",
      "Failed requesting When the Time Comes\n",
      "Failed requesting Don't Wanna Say It\n",
      "Failed requesting Bound to Love\n",
      "Failed requesting I Just Wanna Know Your Name\n",
      "Failed requesting Postcard\n",
      "Failed requesting Before I Go\n"
     ]
    },
    {
     "name": "stderr",
     "output_type": "stream",
     "text": [
      "Processing Jess Klein_tracks.parquet:  37%|███▋      | 64/171 [00:05<00:03, 26.84it/s]"
     ]
    },
    {
     "name": "stdout",
     "output_type": "stream",
     "text": [
      "Failed requesting Fool\n",
      "Failed requesting Putty\n",
      "Failed requesting It Will Come to Me\n",
      "Failed requesting Travelin' Woman\n",
      "Failed requesting Rosalie\n",
      "Failed requesting What For\n",
      "Failed requesting Blood, Sweat, Tears\n"
     ]
    },
    {
     "name": "stderr",
     "output_type": "stream",
     "text": [
      "Processing Jess Klein_tracks.parquet:  42%|████▏     | 72/171 [00:05<00:03, 29.23it/s]"
     ]
    },
    {
     "name": "stdout",
     "output_type": "stream",
     "text": [
      "Failed requesting Make Love\n",
      "Failed requesting City Garden\n",
      "Failed requesting Holy Land\n",
      "Failed requesting Real Live Love\n",
      "Failed requesting Shell and Shore\n",
      "Failed requesting Swimming Pool\n",
      "Failed requesting Middle Road\n"
     ]
    },
    {
     "name": "stderr",
     "output_type": "stream",
     "text": [
      "Processing Jess Klein_tracks.parquet:  47%|████▋     | 80/171 [00:05<00:02, 31.02it/s]"
     ]
    },
    {
     "name": "stdout",
     "output_type": "stream",
     "text": [
      "Failed requesting Alone\n",
      "Failed requesting All I Ever Had\n",
      "Failed requesting World Could End\n",
      "Failed requesting Darkroom\n",
      "Failed requesting Shonalee\n",
      "Failed requesting Sink My Teeth In\n",
      "Failed requesting Strawberry Lover\n"
     ]
    },
    {
     "name": "stderr",
     "output_type": "stream",
     "text": [
      "Processing Jess Klein_tracks.parquet:  51%|█████▏    | 88/171 [00:05<00:02, 33.40it/s]"
     ]
    },
    {
     "name": "stdout",
     "output_type": "stream",
     "text": [
      "Failed requesting Office Girl\n",
      "Failed requesting Soda Water\n",
      "Failed requesting Shootout at the Candy Shop\n",
      "Failed requesting Ribbons\n",
      "Failed requesting Orphanage Rage\n",
      "Failed requesting Bombs Are Falling\n",
      "Failed requesting Willing to Change\n",
      "Failed requesting Little White Dove\n"
     ]
    },
    {
     "name": "stderr",
     "output_type": "stream",
     "text": [
      "Processing Jess Klein_tracks.parquet:  56%|█████▌    | 96/171 [00:06<00:02, 33.27it/s]"
     ]
    },
    {
     "name": "stdout",
     "output_type": "stream",
     "text": [
      "Failed requesting Goodbye Goodbye\n",
      "Failed requesting Ireland\n",
      "Failed requesting Cloud Song\n",
      "Failed requesting Love Is Where You Find It\n",
      "Failed requesting Song for an Angel\n",
      "Failed requesting I Tried\n",
      "Failed requesting I Sure Would\n"
     ]
    },
    {
     "name": "stderr",
     "output_type": "stream",
     "text": [
      "Processing Jess Klein_tracks.parquet:  61%|██████    | 104/171 [00:06<00:02, 32.75it/s]"
     ]
    },
    {
     "name": "stdout",
     "output_type": "stream",
     "text": [
      "Failed requesting Springtime\n",
      "Failed requesting Open Me\n",
      "Failed requesting I'll Be Alright\n",
      "Failed requesting Draw Them Near\n",
      "Failed requesting New Thanksgiving Feast\n",
      "Failed requesting My Own Beating Heart\n",
      "Failed requesting Shy Girl\n"
     ]
    },
    {
     "name": "stderr",
     "output_type": "stream",
     "text": [
      "Processing Jess Klein_tracks.parquet:  63%|██████▎   | 108/171 [00:06<00:01, 32.37it/s]"
     ]
    },
    {
     "name": "stdout",
     "output_type": "stream",
     "text": [
      "Failed requesting The Great Ones\n",
      "Failed requesting Learning Faith\n",
      "Failed requesting Their Young Eyes Shine\n",
      "Failed requesting My Man Is Comin'\n",
      "Failed requesting Old Screen Door\n",
      "Failed requesting Sleepy Girl\n",
      "Failed requesting The Girl In The Song\n",
      "Failed requesting Boys\n"
     ]
    },
    {
     "name": "stderr",
     "output_type": "stream",
     "text": [
      "Processing Jess Klein_tracks.parquet:  71%|███████   | 121/171 [00:06<00:01, 36.38it/s]"
     ]
    },
    {
     "name": "stdout",
     "output_type": "stream",
     "text": [
      "Failed requesting Still Into You\n",
      "Failed requesting This Is How It Feels\n",
      "Failed requesting Kings & Queens\n",
      "Failed requesting Loud Music\n",
      "Failed requesting Pure Love\n",
      "Failed requesting Brick By Brick\n",
      "Failed requesting Tonight and the Rest of My Life - DNA Mix\n",
      "Failed requesting Confessions of a Teenage Girl\n",
      "Failed requesting Quedate conmigo\n"
     ]
    },
    {
     "name": "stderr",
     "output_type": "stream",
     "text": [
      "Processing Jess Klein_tracks.parquet:  73%|███████▎  | 125/171 [00:06<00:01, 35.83it/s]"
     ]
    },
    {
     "name": "stdout",
     "output_type": "stream",
     "text": [
      "Failed requesting I'm Ready (Dave Aude Edit) - Remix\n",
      "Failed requesting We Play Dumb\n",
      "Failed requesting Nothing Stays the Same\n",
      "Failed requesting Hands-On\n",
      "Failed requesting Tô nem aí (Versão Acústica) - Acoustic Version\n",
      "Failed requesting Cigarettes\n",
      "Failed requesting Abraçando as diferenças (De \"Clube da Anittinha\")\n",
      "Failed requesting You'll Never Know\n"
     ]
    },
    {
     "name": "stderr",
     "output_type": "stream",
     "text": [
      "Processing Jess Klein_tracks.parquet:  78%|███████▊  | 133/171 [00:07<00:01, 35.56it/s]"
     ]
    },
    {
     "name": "stdout",
     "output_type": "stream",
     "text": [
      "Failed requesting Doo Little\n",
      "Failed requesting All That We Could Never Be (Heartshapes)\n",
      "Failed requesting Push\n",
      "Failed requesting Your Eyes\n",
      "Failed requesting Hold Me Through the Night\n",
      "Failed requesting Finally Free\n",
      "Failed requesting Hold Me Strong\n"
     ]
    },
    {
     "name": "stderr",
     "output_type": "stream",
     "text": [
      "Processing Jess Klein_tracks.parquet:  82%|████████▏ | 141/171 [00:07<00:00, 35.09it/s]"
     ]
    },
    {
     "name": "stdout",
     "output_type": "stream",
     "text": [
      "Failed requesting My Love Has Gone\n",
      "Failed requesting Strawberry Lover\n",
      "Failed requesting If We Fall In Love Tonight\n",
      "Failed requesting U Got That Love (Call It a Night)\n",
      "Failed requesting (Getting Some) Fun Out of Life\n",
      "Failed requesting Love Takes Time\n",
      "Failed requesting For Your Blue Eyes Only\n"
     ]
    },
    {
     "name": "stderr",
     "output_type": "stream",
     "text": [
      "Processing Jess Klein_tracks.parquet:  87%|████████▋ | 149/171 [00:07<00:00, 34.04it/s]"
     ]
    },
    {
     "name": "stdout",
     "output_type": "stream",
     "text": [
      "Failed requesting Say Goodbye\n",
      "Failed requesting Say You Love Me\n",
      "Failed requesting Give It All Away\n",
      "Failed requesting Climb a Mountain\n",
      "Failed requesting Fail for You\n",
      "Failed requesting Stay\n",
      "Failed requesting How We Became II\n"
     ]
    },
    {
     "name": "stderr",
     "output_type": "stream",
     "text": [
      "Processing Jess Klein_tracks.parquet:  92%|█████████▏| 157/171 [00:07<00:00, 34.98it/s]"
     ]
    },
    {
     "name": "stdout",
     "output_type": "stream",
     "text": [
      "Failed requesting Sorry Again\n",
      "Failed requesting Be Yourself\n",
      "Failed requesting Sometimes\n",
      "Failed requesting Kiss the Sky\n",
      "Failed requesting Angie\n",
      "Failed requesting Jump to the Beat\n",
      "Failed requesting Flowers\n",
      "Failed requesting Ho Down\n"
     ]
    },
    {
     "name": "stderr",
     "output_type": "stream",
     "text": [
      "Processing Jess Klein_tracks.parquet:  96%|█████████▋| 165/171 [00:08<00:00, 36.71it/s]"
     ]
    },
    {
     "name": "stdout",
     "output_type": "stream",
     "text": [
      "Failed requesting Rumors\n",
      "Failed requesting Accident or Will (Edit)\n",
      "Failed requesting Ritmo perfeito\n",
      "Failed requesting If You Don't Like It\n",
      "Failed requesting Move On Up\n",
      "Failed requesting No Stopping Us\n",
      "Failed requesting I Didn't Mean It (Vibey Version)\n",
      "Failed requesting Of(f) This World\n"
     ]
    },
    {
     "name": "stderr",
     "output_type": "stream",
     "text": [
      "Processing Jess Klein_tracks.parquet: 100%|██████████| 171/171 [00:08<00:00, 20.71it/s]\n",
      "Processing Jess Stacy_tracks.parquet:   0%|          | 0/1176 [00:00<?, ?it/s]"
     ]
    },
    {
     "name": "stdout",
     "output_type": "stream",
     "text": [
      "Failed requesting Kill the DJ\n",
      "Failed requesting Good Life\n",
      "Failed requesting International Affair\n",
      "Failed requesting Deluded In My Mind\n",
      "Failed requesting Perfect Timing\n"
     ]
    },
    {
     "name": "stderr",
     "output_type": "stream",
     "text": [
      "Processing Jess Stacy_tracks.parquet:   1%|          | 7/1176 [00:00<00:33, 35.38it/s]"
     ]
    },
    {
     "name": "stdout",
     "output_type": "stream",
     "text": [
      "Failed requesting In The Dark _ Flashes\n",
      "Failed requesting Barrelhouse\n",
      "Failed requesting Barrelhouse\n",
      "Failed requesting Barrelhouse\n",
      "Failed requesting Barrelhouse\n",
      "Failed requesting Barrelhouse\n",
      "Failed requesting Barrelhouse\n",
      "Failed requesting Barrelhouse\n"
     ]
    },
    {
     "name": "stderr",
     "output_type": "stream",
     "text": [
      "Processing Jess Stacy_tracks.parquet:   1%|▏         | 15/1176 [00:00<00:31, 36.66it/s]"
     ]
    },
    {
     "name": "stdout",
     "output_type": "stream",
     "text": [
      "Failed requesting Barrelhouse\n",
      "Failed requesting The Worlds is Waiting for the Sunrise\n",
      "Failed requesting Ramblin'\n",
      "Failed requesting Ramblin'\n",
      "Failed requesting Ramblin'\n",
      "Failed requesting Ramblin'\n",
      "Failed requesting Ramblin'\n",
      "Failed requesting Ramblin'\n",
      "Failed requesting Ramblin'\n"
     ]
    },
    {
     "name": "stderr",
     "output_type": "stream",
     "text": [
      "Processing Jess Stacy_tracks.parquet:   2%|▏         | 23/1176 [00:00<00:30, 37.27it/s]"
     ]
    },
    {
     "name": "stdout",
     "output_type": "stream",
     "text": [
      "Failed requesting Ramblin'\n",
      "Failed requesting Complainin\n",
      "Failed requesting Complainin\n",
      "Failed requesting Complainin\n",
      "Failed requesting Complainin\n",
      "Failed requesting Complainin\n",
      "Failed requesting Complainin\n",
      "Failed requesting Complainin\n"
     ]
    },
    {
     "name": "stderr",
     "output_type": "stream",
     "text": [
      "Processing Jess Stacy_tracks.parquet:   3%|▎         | 31/1176 [00:00<00:32, 34.85it/s]"
     ]
    },
    {
     "name": "stdout",
     "output_type": "stream",
     "text": [
      "Failed requesting Complainin\n",
      "Failed requesting Candlelights\n",
      "Failed requesting Candlelights\n",
      "Failed requesting Candlelights\n",
      "Failed requesting Candlelights\n",
      "Failed requesting Candlelights\n",
      "Failed requesting Candlelights\n",
      "Failed requesting Candlelights\n"
     ]
    },
    {
     "name": "stderr",
     "output_type": "stream",
     "text": [
      "Processing Jess Stacy_tracks.parquet:   3%|▎         | 40/1176 [00:01<00:31, 35.97it/s]"
     ]
    },
    {
     "name": "stdout",
     "output_type": "stream",
     "text": [
      "Failed requesting Candlelights\n",
      "Failed requesting Candlelights\n",
      "Failed requesting Complainin'\n",
      "Failed requesting Complainin'\n",
      "Failed requesting Complainin'\n",
      "Failed requesting Complainin'\n",
      "Failed requesting Complainin'\n",
      "Failed requesting Complainin'\n"
     ]
    },
    {
     "name": "stderr",
     "output_type": "stream",
     "text": [
      "Processing Jess Stacy_tracks.parquet:   4%|▍         | 49/1176 [00:01<00:29, 38.67it/s]"
     ]
    },
    {
     "name": "stdout",
     "output_type": "stream",
     "text": [
      "Failed requesting Ain't Goin' Nowhere\n",
      "Failed requesting Ain't Goin' Nowhere\n",
      "Failed requesting Ain't Goin' Nowhere\n",
      "Failed requesting Ain't Goin' Nowhere\n",
      "Failed requesting Ain't Goin' Nowhere\n",
      "Failed requesting Ain't Goin' Nowhere\n",
      "Failed requesting Ain't Goin' Nowhere\n",
      "Failed requesting Ain't Goin' Nowhere\n",
      "Failed requesting She's Funny That Way\n"
     ]
    },
    {
     "name": "stderr",
     "output_type": "stream",
     "text": [
      "Processing Jess Stacy_tracks.parquet:   5%|▍         | 58/1176 [00:01<00:29, 38.22it/s]"
     ]
    },
    {
     "name": "stdout",
     "output_type": "stream",
     "text": [
      "Failed requesting You're Driving Me Crazy\n",
      "Failed requesting You're Driving Me Crazy\n",
      "Failed requesting You're Driving Me Crazy\n",
      "Failed requesting You're Driving Me Crazy\n",
      "Failed requesting You're Driving Me Crazy\n",
      "Failed requesting You're Driving Me Crazy\n",
      "Failed requesting You're Driving Me Crazy\n",
      "Failed requesting The Sell-Out\n",
      "Failed requesting The Sell-Out\n"
     ]
    },
    {
     "name": "stderr",
     "output_type": "stream",
     "text": [
      "Processing Jess Stacy_tracks.parquet:   6%|▌         | 66/1176 [00:01<00:29, 37.95it/s]"
     ]
    },
    {
     "name": "stdout",
     "output_type": "stream",
     "text": [
      "Failed requesting The Sell-Out\n",
      "Failed requesting The Sell-Out\n",
      "Failed requesting The Sell-Out\n",
      "Failed requesting The Sell-Out\n",
      "Failed requesting The Sell-Out\n",
      "Failed requesting Ec-Stacy\n",
      "Failed requesting Ec-Stacy\n",
      "Failed requesting Ec-Stacy\n",
      "Failed requesting Ec-Stacy\n"
     ]
    },
    {
     "name": "stderr",
     "output_type": "stream",
     "text": [
      "Processing Jess Stacy_tracks.parquet:   6%|▋         | 75/1176 [00:02<00:29, 37.72it/s]"
     ]
    },
    {
     "name": "stdout",
     "output_type": "stream",
     "text": [
      "Failed requesting Ec-Stacy\n",
      "Failed requesting Ec-Stacy\n",
      "Failed requesting Ec-Stacy\n",
      "Failed requesting What's New\n",
      "Failed requesting Melancholy Mood\n",
      "Failed requesting Melancholy Mood\n",
      "Failed requesting Melancholy Mood\n",
      "Failed requesting Melancholy Mood\n",
      "Failed requesting Melancholy Mood\n"
     ]
    },
    {
     "name": "stderr",
     "output_type": "stream",
     "text": [
      "Processing Jess Stacy_tracks.parquet:   7%|▋         | 83/1176 [00:02<00:28, 38.42it/s]"
     ]
    },
    {
     "name": "stdout",
     "output_type": "stream",
     "text": [
      "Failed requesting Melancholy Mood\n",
      "Failed requesting Melancholy Mood\n",
      "Failed requesting Noni\n",
      "Failed requesting Noni\n",
      "Failed requesting Noni\n",
      "Failed requesting Noni\n",
      "Failed requesting Noni\n",
      "Failed requesting Noni\n",
      "Failed requesting Jess Stay\n"
     ]
    },
    {
     "name": "stderr",
     "output_type": "stream",
     "text": [
      "Processing Jess Stacy_tracks.parquet:   8%|▊         | 91/1176 [00:02<00:28, 38.49it/s]"
     ]
    },
    {
     "name": "stdout",
     "output_type": "stream",
     "text": [
      "Failed requesting Jess Stay\n",
      "Failed requesting Jess Stay\n",
      "Failed requesting Jess Stay\n",
      "Failed requesting Jess Stay\n",
      "Failed requesting Jess Stay\n",
      "Failed requesting Jess Stay\n",
      "Failed requesting Breeze (Blow My Baby Back to Me)\n",
      "Failed requesting Breeze (Blow My Baby Back to Me) Ver2\n"
     ]
    },
    {
     "name": "stderr",
     "output_type": "stream",
     "text": [
      "Processing Jess Stacy_tracks.parquet:   8%|▊         | 99/1176 [00:02<00:28, 37.42it/s]"
     ]
    },
    {
     "name": "stdout",
     "output_type": "stream",
     "text": [
      "Failed requesting I Can't Believe That You're In Love With Me\n",
      "Failed requesting A Good Man Is Hard to Find\n",
      "Failed requesting Take Me to the Land of Jazz\n",
      "Failed requesting Take Me to the Land of Jazz\n",
      "Failed requesting Take Me to the Land of Jazz\n",
      "Failed requesting Take Me to the Land of Jazz\n",
      "Failed requesting Take Me to the Land of Jazz\n",
      "Failed requesting Rose of Washington Square\n"
     ]
    },
    {
     "name": "stderr",
     "output_type": "stream",
     "text": [
      "Processing Jess Stacy_tracks.parquet:   9%|▉         | 107/1176 [00:02<00:28, 37.34it/s]"
     ]
    },
    {
     "name": "stdout",
     "output_type": "stream",
     "text": [
      "Failed requesting Rose of Washington Square\n",
      "Failed requesting Rose of Washington Square\n",
      "Failed requesting Rose of Washington Square\n",
      "Failed requesting Rose of Washington Square\n",
      "Failed requesting Rose of Washington Square\n",
      "Failed requesting Keepin' Out of Mischief Now\n"
     ]
    },
    {
     "name": "stderr",
     "output_type": "stream",
     "text": [
      "Processing Jess Stacy_tracks.parquet:   9%|▉         | 111/1176 [00:06<04:29,  3.95it/s]"
     ]
    },
    {
     "name": "stdout",
     "output_type": "stream",
     "text": [
      "Failed requesting D.A. Blues\n"
     ]
    },
    {
     "name": "stderr",
     "output_type": "stream",
     "text": [
      "Processing Jess Stacy_tracks.parquet:  10%|▉         | 116/1176 [00:07<04:12,  4.19it/s]"
     ]
    },
    {
     "name": "stdout",
     "output_type": "stream",
     "text": [
      "Failed requesting Old Fashioned Love\n",
      "Failed requesting I Ain't Got Nobody\n",
      "Failed requesting Blue Fives\n",
      "Failed requesting Blue Fives\n",
      "Failed requesting Blue Fives\n",
      "Failed requesting Blue Fives\n"
     ]
    },
    {
     "name": "stderr",
     "output_type": "stream",
     "text": [
      "Processing Jess Stacy_tracks.parquet:  11%|█         | 124/1176 [00:07<02:05,  8.38it/s]"
     ]
    },
    {
     "name": "stdout",
     "output_type": "stream",
     "text": [
      "Failed requesting Blue Fives\n",
      "Failed requesting Ridin' Easy\n",
      "Failed requesting Ridin' Easy\n",
      "Failed requesting Ridin' Easy\n",
      "Failed requesting Ridin' Easy\n",
      "Failed requesting Song of the Wanderer\n",
      "Failed requesting Daybreak Serenade\n",
      "Failed requesting Daybreak Serenade\n"
     ]
    },
    {
     "name": "stderr",
     "output_type": "stream",
     "text": [
      "Processing Jess Stacy_tracks.parquet:  11%|█         | 131/1176 [00:07<01:20, 13.05it/s]"
     ]
    },
    {
     "name": "stdout",
     "output_type": "stream",
     "text": [
      "Failed requesting Daybreak Serenade\n",
      "Failed requesting Daybreak Serenade\n",
      "Failed requesting Daybreak Serenade\n",
      "Failed requesting Daybreak Serenade\n"
     ]
    },
    {
     "name": "stderr",
     "output_type": "stream",
     "text": [
      "Processing Jess Stacy_tracks.parquet:  12%|█▏        | 138/1176 [00:08<01:58,  8.73it/s]"
     ]
    },
    {
     "name": "stdout",
     "output_type": "stream",
     "text": [
      "Failed requesting Careless\n",
      "Failed requesting Careless\n",
      "Failed requesting Careless\n",
      "Failed requesting Careless\n",
      "Failed requesting I'll Be Seeing You\n",
      "Failed requesting I'll Be Seeing You\n"
     ]
    },
    {
     "name": "stderr",
     "output_type": "stream",
     "text": [
      "Processing Jess Stacy_tracks.parquet:  12%|█▏        | 146/1176 [00:09<01:09, 14.87it/s]"
     ]
    },
    {
     "name": "stdout",
     "output_type": "stream",
     "text": [
      "Failed requesting I'll Be Seeing You\n",
      "Failed requesting Can't We Be Friends\n",
      "Failed requesting Can't We Be Friends\n",
      "Failed requesting Can't We Be Friends\n",
      "Failed requesting Can't We Be Friends\n",
      "Failed requesting Can't We Be Friends\n",
      "Failed requesting Imagination\n",
      "Failed requesting Imagination\n"
     ]
    },
    {
     "name": "stderr",
     "output_type": "stream",
     "text": [
      "Processing Jess Stacy_tracks.parquet:  13%|█▎        | 150/1176 [00:09<00:56, 18.32it/s]"
     ]
    },
    {
     "name": "stdout",
     "output_type": "stream",
     "text": [
      "Failed requesting Imagination\n",
      "Failed requesting Imagination\n",
      "Failed requesting Under a Blanket of Blue\n",
      "Failed requesting Under a Blanket of Blue\n",
      "Failed requesting Under a Blanket of Blue\n",
      "Failed requesting I Can't Believe That You're In Love With Me\n",
      "Failed requesting Lullaby Of The Leaves\n",
      "Failed requesting Lullaby Of The Leaves\n"
     ]
    },
    {
     "name": "stderr",
     "output_type": "stream",
     "text": [
      "Processing Jess Stacy_tracks.parquet:  13%|█▎        | 158/1176 [00:09<00:43, 23.43it/s]"
     ]
    },
    {
     "name": "stdout",
     "output_type": "stream",
     "text": [
      "Failed requesting I'm Gonna Sit Right Down and Write Myself a Letter\n",
      "Failed requesting You Took Advantage of Me\n",
      "Failed requesting Fascinating Rhythm\n",
      "Failed requesting I Can't Get Started 9\n",
      "Failed requesting I Want to Be Happy\n",
      "Failed requesting Indiana\n",
      "Failed requesting Stars Fell on Alabama\n"
     ]
    },
    {
     "name": "stderr",
     "output_type": "stream",
     "text": [
      "Processing Jess Stacy_tracks.parquet:  14%|█▍        | 166/1176 [00:09<00:36, 27.41it/s]"
     ]
    },
    {
     "name": "stdout",
     "output_type": "stream",
     "text": [
      "Failed requesting If I Could Be With You\n",
      "Failed requesting Oh, Baby\n",
      "Failed requesting Roll 'Em\n",
      "Failed requesting Where or When\n",
      "Failed requesting Sing, Sing, Sing\n",
      "Failed requesting Let's Dance\n",
      "Failed requesting Goodbye\n",
      "Failed requesting King Porter Stomp\n"
     ]
    },
    {
     "name": "stderr",
     "output_type": "stream",
     "text": [
      "Processing Jess Stacy_tracks.parquet:  15%|█▍        | 174/1176 [00:09<00:32, 30.41it/s]"
     ]
    },
    {
     "name": "stdout",
     "output_type": "stream",
     "text": [
      "Failed requesting Don't Be That Way\n",
      "Failed requesting Sometimes I'm Happy\n",
      "Failed requesting When Buddha Smiles\n",
      "Failed requesting Down South Camp Meeting\n",
      "Failed requesting You Turned the Tables On Me\n",
      "Failed requesting I Must Have That Man\n",
      "Failed requesting Take Me to the Land of Jazz\n",
      "Failed requesting Take Me to the Land of Jazz\n"
     ]
    },
    {
     "name": "stderr",
     "output_type": "stream",
     "text": [
      "Processing Jess Stacy_tracks.parquet:  16%|█▌        | 183/1176 [00:10<00:28, 35.11it/s]"
     ]
    },
    {
     "name": "stdout",
     "output_type": "stream",
     "text": [
      "Failed requesting Take Me to the Land of Jazz\n",
      "Failed requesting Take Me to the Land of Jazz\n",
      "Failed requesting Take Me to the Land of Jazz\n",
      "Failed requesting Rose of Washington Square\n",
      "Failed requesting Rose of Washington Square\n",
      "Failed requesting Rose of Washington Square\n",
      "Failed requesting Rose of Washington Square\n",
      "Failed requesting Rose of Washington Square\n",
      "Failed requesting Rose of Washington Square\n"
     ]
    },
    {
     "name": "stderr",
     "output_type": "stream",
     "text": [
      "Processing Jess Stacy_tracks.parquet:  16%|█▋        | 193/1176 [00:10<00:25, 38.46it/s]"
     ]
    },
    {
     "name": "stdout",
     "output_type": "stream",
     "text": [
      "Failed requesting Keepin' Out of Mischief Now\n",
      "Failed requesting Keepin' Out of Mischief Now\n",
      "Failed requesting Keepin' Out of Mischief Now\n",
      "Failed requesting Keepin' Out of Mischief Now\n",
      "Failed requesting Blue Fives\n",
      "Failed requesting Blue Fives\n",
      "Failed requesting Blue Fives\n",
      "Failed requesting Blue Fives\n",
      "Failed requesting Blue Fives\n",
      "Failed requesting Ridin' Easy\n"
     ]
    },
    {
     "name": "stderr",
     "output_type": "stream",
     "text": [
      "Processing Jess Stacy_tracks.parquet:  17%|█▋        | 203/1176 [00:10<00:23, 40.58it/s]"
     ]
    },
    {
     "name": "stdout",
     "output_type": "stream",
     "text": [
      "Failed requesting Ridin' Easy\n",
      "Failed requesting Ridin' Easy\n",
      "Failed requesting Ridin' Easy\n",
      "Failed requesting Daybreak Serenade\n",
      "Failed requesting Daybreak Serenade\n",
      "Failed requesting Daybreak Serenade\n",
      "Failed requesting Daybreak Serenade\n",
      "Failed requesting Daybreak Serenade\n",
      "Failed requesting Daybreak Serenade\n"
     ]
    },
    {
     "name": "stderr",
     "output_type": "stream",
     "text": [
      "Processing Jess Stacy_tracks.parquet:  18%|█▊        | 213/1176 [00:10<00:23, 41.01it/s]"
     ]
    },
    {
     "name": "stdout",
     "output_type": "stream",
     "text": [
      "Failed requesting Can't We Be Friends\n",
      "Failed requesting Can't We Be Friends\n",
      "Failed requesting Can't We Be Friends\n",
      "Failed requesting Can't We Be Friends\n",
      "Failed requesting Can't We Be Friends\n",
      "Failed requesting Imagination\n",
      "Failed requesting Imagination\n",
      "Failed requesting Imagination\n",
      "Failed requesting Imagination\n"
     ]
    },
    {
     "name": "stderr",
     "output_type": "stream",
     "text": [
      "Processing Jess Stacy_tracks.parquet:  19%|█▊        | 218/1176 [00:11<00:23, 41.03it/s]"
     ]
    },
    {
     "name": "stdout",
     "output_type": "stream",
     "text": [
      "Failed requesting Under a Blanket of Blue\n",
      "Failed requesting Under a Blanket of Blue\n",
      "Failed requesting Under a Blanket of Blue\n",
      "Failed requesting Lullaby of the Leaves\n",
      "Failed requesting Cherry\n",
      "Failed requesting Cherry\n",
      "Failed requesting Cherry\n",
      "Failed requesting Cherry\n"
     ]
    },
    {
     "name": "stderr",
     "output_type": "stream",
     "text": [
      "Processing Jess Stacy_tracks.parquet:  19%|█▉        | 228/1176 [00:11<00:23, 39.56it/s]"
     ]
    },
    {
     "name": "stdout",
     "output_type": "stream",
     "text": [
      "Failed requesting In a Mist\n",
      "Failed requesting In a Mist\n",
      "Failed requesting In a Mist\n",
      "Failed requesting In a Mist\n",
      "Failed requesting Take Me to the Land of Jazz\n",
      "Failed requesting Take Me to the Land of Jazz\n",
      "Failed requesting Take Me to the Land of Jazz\n",
      "Failed requesting Take Me to the Land of Jazz\n",
      "Failed requesting Take Me to the Land of Jazz\n"
     ]
    },
    {
     "name": "stderr",
     "output_type": "stream",
     "text": [
      "Processing Jess Stacy_tracks.parquet:  20%|██        | 238/1176 [00:11<00:22, 40.96it/s]"
     ]
    },
    {
     "name": "stdout",
     "output_type": "stream",
     "text": [
      "Failed requesting Rose of Washington Square\n",
      "Failed requesting Rose of Washington Square\n",
      "Failed requesting Rose of Washington Square\n",
      "Failed requesting Rose of Washington Square\n",
      "Failed requesting Rose of Washington Square\n",
      "Failed requesting Rose of Washington Square\n",
      "Failed requesting Ridin' Easy\n",
      "Failed requesting Ridin' Easy\n",
      "Failed requesting Ridin' Easy\n"
     ]
    },
    {
     "name": "stderr",
     "output_type": "stream",
     "text": [
      "Processing Jess Stacy_tracks.parquet:  21%|██        | 248/1176 [00:11<00:22, 41.66it/s]"
     ]
    },
    {
     "name": "stdout",
     "output_type": "stream",
     "text": [
      "Failed requesting Ridin' Easy\n",
      "Failed requesting Daybreak Serenade\n",
      "Failed requesting Daybreak Serenade\n",
      "Failed requesting Daybreak Serenade\n",
      "Failed requesting Daybreak Serenade\n",
      "Failed requesting Daybreak Serenade\n",
      "Failed requesting Daybreak Serenade\n",
      "Failed requesting Careless\n",
      "Failed requesting Careless\n",
      "Failed requesting Careless\n"
     ]
    },
    {
     "name": "stderr",
     "output_type": "stream",
     "text": [
      "Processing Jess Stacy_tracks.parquet:  22%|██▏       | 258/1176 [00:12<00:22, 41.62it/s]"
     ]
    },
    {
     "name": "stdout",
     "output_type": "stream",
     "text": [
      "Failed requesting Careless\n",
      "Failed requesting I'll Be Seeing You\n",
      "Failed requesting I'll Be Seeing You\n",
      "Failed requesting I'll Be Seeing You\n",
      "Failed requesting Can't We Be Friends\n",
      "Failed requesting Can't We Be Friends\n",
      "Failed requesting Can't We Be Friends\n",
      "Failed requesting Can't We Be Friends\n",
      "Failed requesting Can't We Be Friends\n"
     ]
    },
    {
     "name": "stderr",
     "output_type": "stream",
     "text": [
      "Processing Jess Stacy_tracks.parquet:  23%|██▎       | 268/1176 [00:12<00:21, 43.12it/s]"
     ]
    },
    {
     "name": "stdout",
     "output_type": "stream",
     "text": [
      "Failed requesting Imagination\n",
      "Failed requesting Imagination\n",
      "Failed requesting Imagination\n",
      "Failed requesting Imagination\n",
      "Failed requesting Cherry\n",
      "Failed requesting Cherry\n",
      "Failed requesting Cherry\n",
      "Failed requesting Cherry\n",
      "Failed requesting In a Mist\n",
      "Failed requesting In a Mist\n"
     ]
    },
    {
     "name": "stderr",
     "output_type": "stream",
     "text": [
      "Processing Jess Stacy_tracks.parquet:  23%|██▎       | 273/1176 [00:12<00:22, 40.53it/s]"
     ]
    },
    {
     "name": "stdout",
     "output_type": "stream",
     "text": [
      "Failed requesting In a Mist\n",
      "Failed requesting In a Mist\n",
      "Failed requesting Lover Man\n",
      "Failed requesting I Ain't Got Nobody\n",
      "Failed requesting I'm Gonna Sit Right Down and Write Myself a Letter\n",
      "Failed requesting Keepin' out of Mischief Now\n",
      "Failed requesting After You've Gone\n"
     ]
    },
    {
     "name": "stderr",
     "output_type": "stream",
     "text": [
      "Processing Jess Stacy_tracks.parquet:  24%|██▍       | 282/1176 [00:12<00:23, 37.55it/s]"
     ]
    },
    {
     "name": "stdout",
     "output_type": "stream",
     "text": [
      "Failed requesting Old Fashioned Love\n",
      "Failed requesting I Can't Believe That You're in Love with Me\n",
      "Failed requesting D.A. Blues\n",
      "Failed requesting Song of the Wanderer\n",
      "Failed requesting It's Only a Papermoon\n",
      "Failed requesting Complainin\n",
      "Failed requesting Complainin\n",
      "Failed requesting Complainin\n"
     ]
    },
    {
     "name": "stderr",
     "output_type": "stream",
     "text": [
      "Processing Jess Stacy_tracks.parquet:  25%|██▍       | 292/1176 [00:12<00:22, 39.98it/s]"
     ]
    },
    {
     "name": "stdout",
     "output_type": "stream",
     "text": [
      "Failed requesting Complainin\n",
      "Failed requesting Complainin\n",
      "Failed requesting Complainin\n",
      "Failed requesting Complainin\n",
      "Failed requesting Complainin\n",
      "Failed requesting Candlelights\n",
      "Failed requesting Candlelights\n",
      "Failed requesting Candlelights\n",
      "Failed requesting Candlelights\n"
     ]
    },
    {
     "name": "stderr",
     "output_type": "stream",
     "text": [
      "Processing Jess Stacy_tracks.parquet:  26%|██▌       | 302/1176 [00:13<00:21, 41.59it/s]"
     ]
    },
    {
     "name": "stdout",
     "output_type": "stream",
     "text": [
      "Failed requesting Candlelights\n",
      "Failed requesting Candlelights\n",
      "Failed requesting Candlelights\n",
      "Failed requesting Candlelights\n",
      "Failed requesting Candlelights\n",
      "Failed requesting The Sell-Out\n",
      "Failed requesting The Sell-Out\n",
      "Failed requesting The Sell-Out\n",
      "Failed requesting The Sell-Out\n"
     ]
    },
    {
     "name": "stderr",
     "output_type": "stream",
     "text": [
      "Processing Jess Stacy_tracks.parquet:  26%|██▌       | 307/1176 [00:13<00:20, 42.04it/s]"
     ]
    },
    {
     "name": "stdout",
     "output_type": "stream",
     "text": [
      "Failed requesting The Sell-Out\n",
      "Failed requesting The Sell-Out\n",
      "Failed requesting The Sell-Out\n",
      "Failed requesting Ec-Stacy\n",
      "Failed requesting Ec-Stacy\n",
      "Failed requesting Ec-Stacy\n",
      "Failed requesting Ec-Stacy\n",
      "Failed requesting Ec-Stacy\n",
      "Failed requesting Ec-Stacy\n"
     ]
    },
    {
     "name": "stderr",
     "output_type": "stream",
     "text": [
      "Processing Jess Stacy_tracks.parquet:  27%|██▋       | 317/1176 [00:13<00:20, 42.40it/s]"
     ]
    },
    {
     "name": "stdout",
     "output_type": "stream",
     "text": [
      "Failed requesting Ec-Stacy\n",
      "Failed requesting Melancholy Mood\n",
      "Failed requesting Melancholy Mood\n",
      "Failed requesting Melancholy Mood\n",
      "Failed requesting Melancholy Mood\n",
      "Failed requesting Melancholy Mood\n",
      "Failed requesting Melancholy Mood\n",
      "Failed requesting Melancholy Mood\n",
      "Failed requesting Noni\n"
     ]
    },
    {
     "name": "stderr",
     "output_type": "stream",
     "text": [
      "Processing Jess Stacy_tracks.parquet:  28%|██▊       | 327/1176 [00:13<00:19, 42.75it/s]"
     ]
    },
    {
     "name": "stdout",
     "output_type": "stream",
     "text": [
      "Failed requesting Noni\n",
      "Failed requesting Noni\n",
      "Failed requesting Noni\n",
      "Failed requesting Noni\n",
      "Failed requesting Noni\n",
      "Failed requesting Jess Stay\n",
      "Failed requesting Jess Stay\n",
      "Failed requesting Jess Stay\n",
      "Failed requesting Jess Stay\n",
      "Failed requesting Jess Stay\n"
     ]
    },
    {
     "name": "stderr",
     "output_type": "stream",
     "text": [
      "Processing Jess Stacy_tracks.parquet:  29%|██▊       | 337/1176 [00:13<00:20, 40.87it/s]"
     ]
    },
    {
     "name": "stdout",
     "output_type": "stream",
     "text": [
      "Failed requesting Jess Stay\n",
      "Failed requesting Jess Stay\n",
      "Failed requesting Ramblin\n",
      "Failed requesting Clarinet Blues\n",
      "Failed requesting Clarinet Blues\n",
      "Failed requesting Clarinet Blues\n",
      "Failed requesting Clarinet Blues\n",
      "Failed requesting Clarinet Blues\n",
      "Failed requesting Clarinet Blues\n"
     ]
    },
    {
     "name": "stderr",
     "output_type": "stream",
     "text": [
      "Processing Jess Stacy_tracks.parquet:  30%|██▉       | 347/1176 [00:14<00:20, 40.69it/s]"
     ]
    },
    {
     "name": "stdout",
     "output_type": "stream",
     "text": [
      "Failed requesting Barrelhouse\n",
      "Failed requesting Ain t Goin Nowhere\n",
      "Failed requesting Barrelhouse\n",
      "Failed requesting Barrelhouse\n",
      "Failed requesting Barrelhouse\n",
      "Failed requesting Barrelhouse\n",
      "Failed requesting Barrelhouse\n",
      "Failed requesting Barrelhouse\n",
      "Failed requesting Barrelhouse\n"
     ]
    },
    {
     "name": "stderr",
     "output_type": "stream",
     "text": [
      "Processing Jess Stacy_tracks.parquet:  30%|██▉       | 352/1176 [00:14<00:22, 35.86it/s]"
     ]
    },
    {
     "name": "stdout",
     "output_type": "stream",
     "text": [
      "Failed requesting Barrelhouse\n",
      "Failed requesting Ramblin'\n",
      "Failed requesting Ramblin'\n",
      "Failed requesting Ramblin'\n",
      "Failed requesting Ramblin'\n",
      "Failed requesting Ramblin'\n"
     ]
    },
    {
     "name": "stderr",
     "output_type": "stream",
     "text": [
      "Processing Jess Stacy_tracks.parquet:  31%|███       | 362/1176 [00:14<00:21, 38.72it/s]"
     ]
    },
    {
     "name": "stdout",
     "output_type": "stream",
     "text": [
      "Failed requesting Ramblin'\n",
      "Failed requesting Ramblin'\n",
      "Failed requesting Ramblin'\n",
      "Failed requesting Complainin\n",
      "Failed requesting Complainin\n",
      "Failed requesting Complainin\n",
      "Failed requesting Complainin\n",
      "Failed requesting Complainin\n",
      "Failed requesting Complainin\n",
      "Failed requesting Complainin\n"
     ]
    },
    {
     "name": "stderr",
     "output_type": "stream",
     "text": [
      "Processing Jess Stacy_tracks.parquet:  32%|███▏      | 372/1176 [00:14<00:19, 40.81it/s]"
     ]
    },
    {
     "name": "stdout",
     "output_type": "stream",
     "text": [
      "Failed requesting Complainin\n",
      "Failed requesting Candlelights\n",
      "Failed requesting Candlelights\n",
      "Failed requesting Candlelights\n",
      "Failed requesting Candlelights\n",
      "Failed requesting Candlelights\n",
      "Failed requesting Candlelights\n",
      "Failed requesting Candlelights\n",
      "Failed requesting Candlelights\n",
      "Failed requesting Candlelights\n"
     ]
    },
    {
     "name": "stderr",
     "output_type": "stream",
     "text": [
      "Processing Jess Stacy_tracks.parquet:  32%|███▏      | 382/1176 [00:15<00:19, 41.55it/s]"
     ]
    },
    {
     "name": "stdout",
     "output_type": "stream",
     "text": [
      "Failed requesting Ain't Goin' Nowhere\n",
      "Failed requesting Ain't Goin' Nowhere\n",
      "Failed requesting Ain't Goin' Nowhere\n",
      "Failed requesting Ain't Goin' Nowhere\n",
      "Failed requesting Ain't Goin' Nowhere\n",
      "Failed requesting Ain't Goin' Nowhere\n",
      "Failed requesting Ain't Goin' Nowhere\n",
      "Failed requesting Ain't Goin' Nowhere\n",
      "Failed requesting You're Driving Me Crazy\n"
     ]
    },
    {
     "name": "stderr",
     "output_type": "stream",
     "text": [
      "Processing Jess Stacy_tracks.parquet:  33%|███▎      | 387/1176 [00:15<00:18, 41.79it/s]"
     ]
    },
    {
     "name": "stdout",
     "output_type": "stream",
     "text": [
      "Failed requesting You're Driving Me Crazy\n",
      "Failed requesting You're Driving Me Crazy\n",
      "Failed requesting You're Driving Me Crazy\n",
      "Failed requesting You're Driving Me Crazy\n",
      "Failed requesting You're Driving Me Crazy\n",
      "Failed requesting You're Driving Me Crazy\n",
      "Failed requesting The Sell-Out\n",
      "Failed requesting The Sell-Out\n"
     ]
    },
    {
     "name": "stderr",
     "output_type": "stream",
     "text": [
      "Processing Jess Stacy_tracks.parquet:  34%|███▍      | 397/1176 [00:15<00:19, 39.99it/s]"
     ]
    },
    {
     "name": "stdout",
     "output_type": "stream",
     "text": [
      "Failed requesting The Sell-Out\n",
      "Failed requesting The Sell-Out\n",
      "Failed requesting The Sell-Out\n",
      "Failed requesting The Sell-Out\n",
      "Failed requesting The Sell-Out\n",
      "Failed requesting Ec-Stacy\n",
      "Failed requesting Ec-Stacy\n",
      "Failed requesting Ec-Stacy\n",
      "Failed requesting Ec-Stacy\n"
     ]
    },
    {
     "name": "stderr",
     "output_type": "stream",
     "text": [
      "Processing Jess Stacy_tracks.parquet:  35%|███▍      | 407/1176 [00:15<00:19, 40.39it/s]"
     ]
    },
    {
     "name": "stdout",
     "output_type": "stream",
     "text": [
      "Failed requesting Ec-Stacy\n",
      "Failed requesting Ec-Stacy\n",
      "Failed requesting Ec-Stacy\n",
      "Failed requesting Melancholy Mood\n",
      "Failed requesting Melancholy Mood\n",
      "Failed requesting Melancholy Mood\n",
      "Failed requesting Melancholy Mood\n",
      "Failed requesting Melancholy Mood\n",
      "Failed requesting Melancholy Mood\n",
      "Failed requesting Melancholy Mood\n"
     ]
    },
    {
     "name": "stderr",
     "output_type": "stream",
     "text": [
      "Processing Jess Stacy_tracks.parquet:  35%|███▌      | 417/1176 [00:15<00:17, 42.62it/s]"
     ]
    },
    {
     "name": "stdout",
     "output_type": "stream",
     "text": [
      "Failed requesting Noni\n",
      "Failed requesting Noni\n",
      "Failed requesting Noni\n",
      "Failed requesting Noni\n",
      "Failed requesting Noni\n",
      "Failed requesting Noni\n",
      "Failed requesting Jess Stay\n",
      "Failed requesting Jess Stay\n",
      "Failed requesting Jess Stay\n",
      "Failed requesting Jess Stay\n"
     ]
    },
    {
     "name": "stderr",
     "output_type": "stream",
     "text": [
      "Processing Jess Stacy_tracks.parquet:  36%|███▋      | 427/1176 [00:16<00:17, 42.56it/s]"
     ]
    },
    {
     "name": "stdout",
     "output_type": "stream",
     "text": [
      "Failed requesting Jess Stay\n",
      "Failed requesting Jess Stay\n",
      "Failed requesting Jess Stay\n",
      "Failed requesting Clarinet Blues\n",
      "Failed requesting Clarinet Blues\n",
      "Failed requesting Clarinet Blues\n",
      "Failed requesting Clarinet Blues\n",
      "Failed requesting Clarinet Blues\n",
      "Failed requesting Clarinet Blues\n"
     ]
    },
    {
     "name": "stderr",
     "output_type": "stream",
     "text": [
      "Processing Jess Stacy_tracks.parquet:  37%|███▋      | 432/1176 [00:16<00:18, 40.24it/s]"
     ]
    },
    {
     "name": "stdout",
     "output_type": "stream",
     "text": [
      "Failed requesting The World Is Waiting For The Sunrise\n",
      "Failed requesting In The Dark\n",
      "Failed requesting What s New\n",
      "Failed requesting She s Funny That Way\n",
      "Failed requesting A Good Man Is Hard To Find\n",
      "Failed requesting Breeze - Blow My Baby Back To Me\n",
      "Failed requesting I Can t Believe That You re In Love With Me\n"
     ]
    },
    {
     "name": "stderr",
     "output_type": "stream",
     "text": [
      "Processing Jess Stacy_tracks.parquet:  38%|███▊      | 442/1176 [00:16<00:18, 39.79it/s]"
     ]
    },
    {
     "name": "stdout",
     "output_type": "stream",
     "text": [
      "Failed requesting Barrelhouse\n",
      "Failed requesting Barrelhouse\n",
      "Failed requesting Barrelhouse\n",
      "Failed requesting Barrelhouse\n",
      "Failed requesting Barrelhouse\n",
      "Failed requesting Barrelhouse\n",
      "Failed requesting Barrelhouse\n",
      "Failed requesting Barrelhouse\n",
      "Failed requesting Ramblin'\n"
     ]
    },
    {
     "name": "stderr",
     "output_type": "stream",
     "text": [
      "Processing Jess Stacy_tracks.parquet:  38%|███▊      | 452/1176 [00:16<00:17, 41.32it/s]"
     ]
    },
    {
     "name": "stdout",
     "output_type": "stream",
     "text": [
      "Failed requesting Ramblin'\n",
      "Failed requesting Ramblin'\n",
      "Failed requesting Ramblin'\n",
      "Failed requesting Ramblin'\n",
      "Failed requesting Ramblin'\n",
      "Failed requesting Ramblin'\n",
      "Failed requesting Ramblin'\n",
      "Failed requesting Complainin\n",
      "Failed requesting Complainin\n"
     ]
    },
    {
     "name": "stderr",
     "output_type": "stream",
     "text": [
      "Processing Jess Stacy_tracks.parquet:  39%|███▉      | 462/1176 [00:17<00:17, 41.78it/s]"
     ]
    },
    {
     "name": "stdout",
     "output_type": "stream",
     "text": [
      "Failed requesting Complainin\n",
      "Failed requesting Complainin\n",
      "Failed requesting Complainin\n",
      "Failed requesting Complainin\n",
      "Failed requesting Complainin\n",
      "Failed requesting Complainin\n",
      "Failed requesting Candlelights\n",
      "Failed requesting Candlelights\n",
      "Failed requesting Candlelights\n"
     ]
    },
    {
     "name": "stderr",
     "output_type": "stream",
     "text": [
      "Processing Jess Stacy_tracks.parquet:  40%|███▉      | 467/1176 [00:17<00:17, 41.56it/s]"
     ]
    },
    {
     "name": "stdout",
     "output_type": "stream",
     "text": [
      "Failed requesting Candlelights\n",
      "Failed requesting Candlelights\n",
      "Failed requesting Candlelights\n",
      "Failed requesting Candlelights\n",
      "Failed requesting Candlelights\n",
      "Failed requesting Candlelights\n",
      "Failed requesting Ain't Goin' Nowhere\n",
      "Failed requesting Ain't Goin' Nowhere\n",
      "Failed requesting Ain't Goin' Nowhere\n"
     ]
    },
    {
     "name": "stderr",
     "output_type": "stream",
     "text": [
      "Processing Jess Stacy_tracks.parquet:  41%|████      | 477/1176 [00:17<00:16, 42.73it/s]"
     ]
    },
    {
     "name": "stdout",
     "output_type": "stream",
     "text": [
      "Failed requesting Ain't Goin' Nowhere\n",
      "Failed requesting Ain't Goin' Nowhere\n",
      "Failed requesting Ain't Goin' Nowhere\n",
      "Failed requesting Ain't Goin' Nowhere\n",
      "Failed requesting Ain't Goin' Nowhere\n",
      "Failed requesting You're Driving Me Crazy\n",
      "Failed requesting You're Driving Me Crazy\n",
      "Failed requesting You're Driving Me Crazy\n",
      "Failed requesting You're Driving Me Crazy\n"
     ]
    },
    {
     "name": "stderr",
     "output_type": "stream",
     "text": [
      "Processing Jess Stacy_tracks.parquet:  41%|████▏     | 487/1176 [00:17<00:15, 43.50it/s]"
     ]
    },
    {
     "name": "stdout",
     "output_type": "stream",
     "text": [
      "Failed requesting You're Driving Me Crazy\n",
      "Failed requesting You're Driving Me Crazy\n",
      "Failed requesting You're Driving Me Crazy\n",
      "Failed requesting The Sell-Out\n",
      "Failed requesting The Sell-Out\n",
      "Failed requesting The Sell-Out\n",
      "Failed requesting The Sell-Out\n",
      "Failed requesting The Sell-Out\n",
      "Failed requesting The Sell-Out\n"
     ]
    },
    {
     "name": "stderr",
     "output_type": "stream",
     "text": [
      "Processing Jess Stacy_tracks.parquet:  42%|████▏     | 497/1176 [00:17<00:15, 43.52it/s]"
     ]
    },
    {
     "name": "stdout",
     "output_type": "stream",
     "text": [
      "Failed requesting The Sell-Out\n",
      "Failed requesting Ec-Stacy\n",
      "Failed requesting Ec-Stacy\n",
      "Failed requesting Ec-Stacy\n",
      "Failed requesting Ec-Stacy\n",
      "Failed requesting Ec-Stacy\n",
      "Failed requesting Ec-Stacy\n",
      "Failed requesting Ec-Stacy\n",
      "Failed requesting Melancholy Mood\n",
      "Failed requesting Melancholy Mood\n"
     ]
    },
    {
     "name": "stderr",
     "output_type": "stream",
     "text": [
      "Processing Jess Stacy_tracks.parquet:  43%|████▎     | 507/1176 [00:18<00:15, 43.35it/s]"
     ]
    },
    {
     "name": "stdout",
     "output_type": "stream",
     "text": [
      "Failed requesting Melancholy Mood\n",
      "Failed requesting Melancholy Mood\n",
      "Failed requesting Melancholy Mood\n",
      "Failed requesting Melancholy Mood\n",
      "Failed requesting Melancholy Mood\n",
      "Failed requesting Noni\n",
      "Failed requesting Noni\n",
      "Failed requesting Noni\n",
      "Failed requesting Noni\n",
      "Failed requesting Noni\n"
     ]
    },
    {
     "name": "stderr",
     "output_type": "stream",
     "text": [
      "Processing Jess Stacy_tracks.parquet:  44%|████▍     | 517/1176 [00:18<00:15, 43.49it/s]"
     ]
    },
    {
     "name": "stdout",
     "output_type": "stream",
     "text": [
      "Failed requesting Noni\n",
      "Failed requesting Jess Stay\n",
      "Failed requesting Jess Stay\n",
      "Failed requesting Jess Stay\n",
      "Failed requesting Jess Stay\n",
      "Failed requesting Jess Stay\n",
      "Failed requesting Jess Stay\n",
      "Failed requesting Jess Stay\n",
      "Failed requesting Clarinet Blues\n"
     ]
    },
    {
     "name": "stderr",
     "output_type": "stream",
     "text": [
      "Processing Jess Stacy_tracks.parquet:  45%|████▍     | 527/1176 [00:18<00:16, 40.42it/s]"
     ]
    },
    {
     "name": "stdout",
     "output_type": "stream",
     "text": [
      "Failed requesting Clarinet Blues\n",
      "Failed requesting Clarinet Blues\n",
      "Failed requesting Clarinet Blues\n",
      "Failed requesting Clarinet Blues\n",
      "Failed requesting Clarinet Blues\n",
      "Failed requesting What s New\n",
      "Failed requesting A Good Man Is Hard To Find\n",
      "Failed requesting Breeze - Blow My Baby Back To Me\n"
     ]
    },
    {
     "name": "stderr",
     "output_type": "stream",
     "text": [
      "Processing Jess Stacy_tracks.parquet:  45%|████▌     | 532/1176 [00:18<00:16, 38.62it/s]"
     ]
    },
    {
     "name": "stdout",
     "output_type": "stream",
     "text": [
      "Failed requesting She s Funny That Way\n",
      "Failed requesting The World Is Waiting For The Sunrise\n",
      "Failed requesting In The Dark\n",
      "Failed requesting I Can t Believe That You re In Love With Me\n",
      "Failed requesting Barrelhouse\n",
      "Failed requesting Barrelhouse\n",
      "Failed requesting Barrelhouse\n",
      "Failed requesting Barrelhouse\n"
     ]
    },
    {
     "name": "stderr",
     "output_type": "stream",
     "text": [
      "Processing Jess Stacy_tracks.parquet:  46%|████▌     | 537/1176 [00:18<00:17, 35.66it/s]"
     ]
    },
    {
     "name": "stdout",
     "output_type": "stream",
     "text": [
      "Failed requesting Barrelhouse\n",
      "Failed requesting Barrelhouse\n",
      "Failed requesting Barrelhouse\n",
      "Failed requesting Barrelhouse\n",
      "Failed requesting Complainin\n",
      "Failed requesting Complainin\n",
      "Failed requesting Complainin\n"
     ]
    },
    {
     "name": "stderr",
     "output_type": "stream",
     "text": [
      "Processing Jess Stacy_tracks.parquet:  46%|████▋     | 546/1176 [00:19<00:17, 36.58it/s]"
     ]
    },
    {
     "name": "stdout",
     "output_type": "stream",
     "text": [
      "Failed requesting Complainin\n",
      "Failed requesting Complainin\n",
      "Failed requesting Complainin\n",
      "Failed requesting Complainin\n",
      "Failed requesting Complainin\n",
      "Failed requesting Candlelights\n",
      "Failed requesting Candlelights\n",
      "Failed requesting Candlelights\n",
      "Failed requesting Candlelights\n"
     ]
    },
    {
     "name": "stderr",
     "output_type": "stream",
     "text": [
      "Processing Jess Stacy_tracks.parquet:  47%|████▋     | 555/1176 [00:19<00:16, 38.46it/s]"
     ]
    },
    {
     "name": "stdout",
     "output_type": "stream",
     "text": [
      "Failed requesting Candlelights\n",
      "Failed requesting Candlelights\n",
      "Failed requesting Candlelights\n",
      "Failed requesting Candlelights\n",
      "Failed requesting Candlelights\n",
      "Failed requesting Ain't Goin' Nowhere\n",
      "Failed requesting Ain't Goin' Nowhere\n",
      "Failed requesting Ain't Goin' Nowhere\n",
      "Failed requesting Ain't Goin' Nowhere\n"
     ]
    },
    {
     "name": "stderr",
     "output_type": "stream",
     "text": [
      "Processing Jess Stacy_tracks.parquet:  48%|████▊     | 565/1176 [00:19<00:14, 41.06it/s]"
     ]
    },
    {
     "name": "stdout",
     "output_type": "stream",
     "text": [
      "Failed requesting Ain't Goin' Nowhere\n",
      "Failed requesting Ain't Goin' Nowhere\n",
      "Failed requesting Ain't Goin' Nowhere\n",
      "Failed requesting Ain't Goin' Nowhere\n",
      "Failed requesting Blue Fives\n",
      "Failed requesting Blue Fives\n",
      "Failed requesting Blue Fives\n",
      "Failed requesting Blue Fives\n",
      "Failed requesting Blue Fives\n"
     ]
    },
    {
     "name": "stderr",
     "output_type": "stream",
     "text": [
      "Processing Jess Stacy_tracks.parquet:  48%|████▊     | 570/1176 [00:19<00:14, 41.58it/s]"
     ]
    },
    {
     "name": "stdout",
     "output_type": "stream",
     "text": [
      "Failed requesting Daybreak Serenade\n",
      "Failed requesting Daybreak Serenade\n",
      "Failed requesting Daybreak Serenade\n",
      "Failed requesting Daybreak Serenade\n",
      "Failed requesting Daybreak Serenade\n",
      "Failed requesting Daybreak Serenade\n"
     ]
    },
    {
     "name": "stderr",
     "output_type": "stream",
     "text": [
      "Processing Jess Stacy_tracks.parquet:  49%|████▉     | 580/1176 [00:20<00:16, 36.04it/s]"
     ]
    },
    {
     "name": "stdout",
     "output_type": "stream",
     "text": [
      "Failed requesting Clarinet Blues\n",
      "Failed requesting Clarinet Blues\n",
      "Failed requesting Clarinet Blues\n",
      "Failed requesting Clarinet Blues\n",
      "Failed requesting Clarinet Blues\n",
      "Failed requesting Clarinet Blues\n",
      "Failed requesting After You Ve Gone - Original Mix\n",
      "Failed requesting A Good Man Is Hard to Find - Original Mix\n"
     ]
    },
    {
     "name": "stderr",
     "output_type": "stream",
     "text": [
      "Processing Jess Stacy_tracks.parquet:  50%|█████     | 588/1176 [00:20<00:16, 34.72it/s]"
     ]
    },
    {
     "name": "stdout",
     "output_type": "stream",
     "text": [
      "Failed requesting Don T Be That Way - Original Mix\n",
      "Failed requesting Down South Camp Meeting - Original Mix\n",
      "Failed requesting D a Blues - Original Mix\n",
      "Failed requesting Ec-Stacy - Original Mix\n",
      "Failed requesting Fascinating Rhythm - Original Mix\n",
      "Failed requesting Goodbye - Original Mix\n",
      "Failed requesting If I Could Be With You - Original Mix\n"
     ]
    },
    {
     "name": "stderr",
     "output_type": "stream",
     "text": [
      "Processing Jess Stacy_tracks.parquet:  51%|█████     | 596/1176 [00:20<00:17, 33.60it/s]"
     ]
    },
    {
     "name": "stdout",
     "output_type": "stream",
     "text": [
      "Failed requesting Indiana - Original Mix\n",
      "Failed requesting In the Dark - Original Mix\n",
      "Failed requesting I Ain T Got Nobody - Original Mix\n",
      "Failed requesting I Can T Believe That You Re in Love With Me - Original Mix\n",
      "Failed requesting Rosetta\n",
      "Failed requesting After You've Gone\n",
      "Failed requesting After You've Gone - Alternate Version\n"
     ]
    },
    {
     "name": "stderr",
     "output_type": "stream",
     "text": [
      "Processing Jess Stacy_tracks.parquet:  51%|█████▏    | 604/1176 [00:20<00:17, 33.32it/s]"
     ]
    },
    {
     "name": "stdout",
     "output_type": "stream",
     "text": [
      "Failed requesting Oh, Lady Be Good\n",
      "Failed requesting Keepin' out of Mischief Now\n",
      "Failed requesting Sweet Georgia Brown\n",
      "Failed requesting I Wish I Could Shimmy Like My Sister Kate\n",
      "Failed requesting I Wish I Could Shimmy Like My Sister Kate - Alternate Version\n",
      "Failed requesting Jumpin' with Jess\n",
      "Failed requesting Cherry\n",
      "Failed requesting Cherry - Alternate Version\n"
     ]
    },
    {
     "name": "stderr",
     "output_type": "stream",
     "text": [
      "Processing Jess Stacy_tracks.parquet:  52%|█████▏    | 612/1176 [00:20<00:16, 34.26it/s]"
     ]
    },
    {
     "name": "stdout",
     "output_type": "stream",
     "text": [
      "Failed requesting Blue Notion\n",
      "Failed requesting Honeysuckle Rose\n",
      "Failed requesting Rose Room\n",
      "Failed requesting Untitled Blues\n",
      "Failed requesting Do You Know What It Means to Miss New Orleans\n",
      "Failed requesting My Honey's Lovin' Arms\n",
      "Failed requesting Barrelhouse\n",
      "Failed requesting Barrelhouse\n"
     ]
    },
    {
     "name": "stderr",
     "output_type": "stream",
     "text": [
      "Processing Jess Stacy_tracks.parquet:  52%|█████▏    | 617/1176 [00:21<00:15, 36.86it/s]"
     ]
    },
    {
     "name": "stdout",
     "output_type": "stream",
     "text": [
      "Failed requesting Barrelhouse\n",
      "Failed requesting Barrelhouse\n",
      "Failed requesting Barrelhouse\n",
      "Failed requesting Barrelhouse\n",
      "Failed requesting Barrelhouse\n",
      "Failed requesting Barrelhouse\n",
      "Failed requesting Ramblin'\n",
      "Failed requesting Ramblin'\n",
      "Failed requesting Ramblin'\n"
     ]
    },
    {
     "name": "stderr",
     "output_type": "stream",
     "text": [
      "Processing Jess Stacy_tracks.parquet:  53%|█████▎    | 627/1176 [00:21<00:13, 40.02it/s]"
     ]
    },
    {
     "name": "stdout",
     "output_type": "stream",
     "text": [
      "Failed requesting Ramblin'\n",
      "Failed requesting Ramblin'\n",
      "Failed requesting Ramblin'\n",
      "Failed requesting Ramblin'\n",
      "Failed requesting Ramblin'\n",
      "Failed requesting Candlelights\n",
      "Failed requesting Candlelights\n",
      "Failed requesting Candlelights\n",
      "Failed requesting Candlelights\n"
     ]
    },
    {
     "name": "stderr",
     "output_type": "stream",
     "text": [
      "Processing Jess Stacy_tracks.parquet:  54%|█████▍    | 637/1176 [00:21<00:12, 41.70it/s]"
     ]
    },
    {
     "name": "stdout",
     "output_type": "stream",
     "text": [
      "Failed requesting Candlelights\n",
      "Failed requesting Candlelights\n",
      "Failed requesting Candlelights\n",
      "Failed requesting Candlelights\n",
      "Failed requesting Candlelights\n",
      "Failed requesting Complainin'\n",
      "Failed requesting Complainin'\n",
      "Failed requesting Complainin'\n",
      "Failed requesting Complainin'\n",
      "Failed requesting Complainin'\n"
     ]
    },
    {
     "name": "stderr",
     "output_type": "stream",
     "text": [
      "Processing Jess Stacy_tracks.parquet:  55%|█████▌    | 647/1176 [00:21<00:12, 42.57it/s]"
     ]
    },
    {
     "name": "stdout",
     "output_type": "stream",
     "text": [
      "Failed requesting Complainin'\n",
      "Failed requesting Take Me to the Land of Jazz\n",
      "Failed requesting Take Me to the Land of Jazz\n",
      "Failed requesting Take Me to the Land of Jazz\n",
      "Failed requesting Take Me to the Land of Jazz\n",
      "Failed requesting Take Me to the Land of Jazz\n",
      "Failed requesting Rose of Washington Square\n",
      "Failed requesting Rose of Washington Square\n",
      "Failed requesting Rose of Washington Square\n",
      "Failed requesting Rose of Washington Square\n"
     ]
    },
    {
     "name": "stderr",
     "output_type": "stream",
     "text": [
      "Processing Jess Stacy_tracks.parquet:  56%|█████▌    | 657/1176 [00:22<00:12, 42.87it/s]"
     ]
    },
    {
     "name": "stdout",
     "output_type": "stream",
     "text": [
      "Failed requesting Rose of Washington Square\n",
      "Failed requesting Rose of Washington Square\n",
      "Failed requesting Keepin' Out of Mischief Now\n",
      "Failed requesting Keepin' Out of Mischief Now\n",
      "Failed requesting Keepin' Out of Mischief Now\n",
      "Failed requesting Keepin' Out of Mischief Now\n",
      "Failed requesting In the Dark - Original Mix\n",
      "Failed requesting You Took Advantage of Me - Original Mix\n",
      "Failed requesting Fascinating Rhythm - Original Mix\n"
     ]
    },
    {
     "name": "stderr",
     "output_type": "stream",
     "text": [
      "Processing Jess Stacy_tracks.parquet:  56%|█████▋    | 662/1176 [00:22<00:13, 38.80it/s]"
     ]
    },
    {
     "name": "stdout",
     "output_type": "stream",
     "text": [
      "Failed requesting I Can T Get Started - Original Mix\n",
      "Failed requesting The World Is Waiting for the Sunrise - Original Mix\n",
      "Failed requesting D a Blues - Original Mix\n",
      "Failed requesting I Want to Be Happy - Original Mix\n",
      "Failed requesting After You Ve Gone - Original Mix\n"
     ]
    },
    {
     "name": "stderr",
     "output_type": "stream",
     "text": [
      "Processing Jess Stacy_tracks.parquet:  57%|█████▋    | 670/1176 [00:22<00:15, 32.34it/s]"
     ]
    },
    {
     "name": "stdout",
     "output_type": "stream",
     "text": [
      "Failed requesting Indiana - Original Mix\n",
      "Failed requesting Old Fashioned Love - Original Mix\n",
      "Failed requesting Stars Fell On Alabama - Original Mix\n",
      "Failed requesting If I Could Be With You - Original Mix\n",
      "Failed requesting I Ain T Got Nobody - Original Mix\n",
      "Failed requesting Barrelhouse\n",
      "Failed requesting Barrelhouse\n",
      "Failed requesting Barrelhouse\n"
     ]
    },
    {
     "name": "stderr",
     "output_type": "stream",
     "text": [
      "Processing Jess Stacy_tracks.parquet:  58%|█████▊    | 680/1176 [00:22<00:13, 37.01it/s]"
     ]
    },
    {
     "name": "stdout",
     "output_type": "stream",
     "text": [
      "Failed requesting Barrelhouse\n",
      "Failed requesting Barrelhouse\n",
      "Failed requesting Barrelhouse\n",
      "Failed requesting Barrelhouse\n",
      "Failed requesting Barrelhouse\n",
      "Failed requesting Ramblin'\n",
      "Failed requesting Ramblin'\n",
      "Failed requesting Ramblin'\n",
      "Failed requesting Ramblin'\n",
      "Failed requesting Ramblin'\n"
     ]
    },
    {
     "name": "stderr",
     "output_type": "stream",
     "text": [
      "Processing Jess Stacy_tracks.parquet:  59%|█████▊    | 690/1176 [00:22<00:12, 39.93it/s]"
     ]
    },
    {
     "name": "stdout",
     "output_type": "stream",
     "text": [
      "Failed requesting Ramblin'\n",
      "Failed requesting Ramblin'\n",
      "Failed requesting Ramblin'\n",
      "Failed requesting Complainin\n",
      "Failed requesting Complainin\n",
      "Failed requesting Complainin\n",
      "Failed requesting Complainin\n",
      "Failed requesting Complainin\n",
      "Failed requesting Complainin\n"
     ]
    },
    {
     "name": "stderr",
     "output_type": "stream",
     "text": [
      "Processing Jess Stacy_tracks.parquet:  60%|█████▉    | 700/1176 [00:23<00:11, 41.28it/s]"
     ]
    },
    {
     "name": "stdout",
     "output_type": "stream",
     "text": [
      "Failed requesting Complainin\n",
      "Failed requesting Complainin\n",
      "Failed requesting Candlelights\n",
      "Failed requesting Candlelights\n",
      "Failed requesting Candlelights\n",
      "Failed requesting Candlelights\n",
      "Failed requesting Candlelights\n",
      "Failed requesting Candlelights\n",
      "Failed requesting Candlelights\n"
     ]
    },
    {
     "name": "stderr",
     "output_type": "stream",
     "text": [
      "Processing Jess Stacy_tracks.parquet:  60%|█████▉    | 705/1176 [00:23<00:11, 41.71it/s]"
     ]
    },
    {
     "name": "stdout",
     "output_type": "stream",
     "text": [
      "Failed requesting Candlelights\n",
      "Failed requesting Candlelights\n",
      "Failed requesting Complainin'\n",
      "Failed requesting Complainin'\n",
      "Failed requesting Complainin'\n",
      "Failed requesting Complainin'\n",
      "Failed requesting Complainin'\n",
      "Failed requesting Complainin'\n",
      "Failed requesting Ain't Goin' Nowhere\n"
     ]
    },
    {
     "name": "stderr",
     "output_type": "stream",
     "text": [
      "Processing Jess Stacy_tracks.parquet:  61%|██████    | 715/1176 [00:23<00:10, 42.49it/s]"
     ]
    },
    {
     "name": "stdout",
     "output_type": "stream",
     "text": [
      "Failed requesting Ain't Goin' Nowhere\n",
      "Failed requesting Ain't Goin' Nowhere\n",
      "Failed requesting Ain't Goin' Nowhere\n",
      "Failed requesting Ain't Goin' Nowhere\n",
      "Failed requesting Ain't Goin' Nowhere\n",
      "Failed requesting Ain't Goin' Nowhere\n",
      "Failed requesting Ain't Goin' Nowhere\n",
      "Failed requesting You're Driving Me Crazy\n",
      "Failed requesting You're Driving Me Crazy\n"
     ]
    },
    {
     "name": "stderr",
     "output_type": "stream",
     "text": [
      "Processing Jess Stacy_tracks.parquet:  62%|██████▏   | 725/1176 [00:23<00:10, 43.59it/s]"
     ]
    },
    {
     "name": "stdout",
     "output_type": "stream",
     "text": [
      "Failed requesting You're Driving Me Crazy\n",
      "Failed requesting You're Driving Me Crazy\n",
      "Failed requesting You're Driving Me Crazy\n",
      "Failed requesting You're Driving Me Crazy\n",
      "Failed requesting You're Driving Me Crazy\n",
      "Failed requesting The Sell-Out\n",
      "Failed requesting The Sell-Out\n",
      "Failed requesting The Sell-Out\n",
      "Failed requesting The Sell-Out\n",
      "Failed requesting The Sell-Out\n"
     ]
    },
    {
     "name": "stderr",
     "output_type": "stream",
     "text": [
      "Processing Jess Stacy_tracks.parquet:  62%|██████▎   | 735/1176 [00:24<00:10, 40.51it/s]"
     ]
    },
    {
     "name": "stdout",
     "output_type": "stream",
     "text": [
      "Failed requesting The Sell-Out\n",
      "Failed requesting The Sell-Out\n",
      "Failed requesting Ec-Stacy\n",
      "Failed requesting Ec-Stacy\n",
      "Failed requesting Ec-Stacy\n",
      "Failed requesting Ec-Stacy\n",
      "Failed requesting Ec-Stacy\n",
      "Failed requesting Ec-Stacy\n",
      "Failed requesting Ec-Stacy\n"
     ]
    },
    {
     "name": "stderr",
     "output_type": "stream",
     "text": [
      "Processing Jess Stacy_tracks.parquet:  63%|██████▎   | 745/1176 [00:24<00:10, 41.09it/s]"
     ]
    },
    {
     "name": "stdout",
     "output_type": "stream",
     "text": [
      "Failed requesting Melancholy Mood\n",
      "Failed requesting Melancholy Mood\n",
      "Failed requesting Melancholy Mood\n",
      "Failed requesting Melancholy Mood\n",
      "Failed requesting Melancholy Mood\n",
      "Failed requesting Melancholy Mood\n",
      "Failed requesting Melancholy Mood\n",
      "Failed requesting Jess Stay\n",
      "Failed requesting Jess Stay\n",
      "Failed requesting Jess Stay\n"
     ]
    },
    {
     "name": "stderr",
     "output_type": "stream",
     "text": [
      "Processing Jess Stacy_tracks.parquet:  64%|██████▍   | 755/1176 [00:24<00:09, 42.16it/s]"
     ]
    },
    {
     "name": "stdout",
     "output_type": "stream",
     "text": [
      "Failed requesting Jess Stay\n",
      "Failed requesting Jess Stay\n",
      "Failed requesting Jess Stay\n",
      "Failed requesting Jess Stay\n",
      "Failed requesting Clarinet Blues\n",
      "Failed requesting Clarinet Blues\n",
      "Failed requesting Clarinet Blues\n",
      "Failed requesting Clarinet Blues\n",
      "Failed requesting Clarinet Blues\n"
     ]
    },
    {
     "name": "stderr",
     "output_type": "stream",
     "text": [
      "Processing Jess Stacy_tracks.parquet:  65%|██████▍   | 760/1176 [00:24<00:10, 40.57it/s]"
     ]
    },
    {
     "name": "stdout",
     "output_type": "stream",
     "text": [
      "Failed requesting Clarinet Blues\n",
      "Failed requesting The World is Waiting for the sunrise\n",
      "Failed requesting Breeze (Blow my baby back to me) - Blues\n",
      "Failed requesting In the Dark\n",
      "Failed requesting A good man is hard to Find\n",
      "Failed requesting What's New\n",
      "Failed requesting Breeze (Blow my baby back to me) - Fox Trot\n"
     ]
    },
    {
     "name": "stderr",
     "output_type": "stream",
     "text": [
      "Processing Jess Stacy_tracks.parquet:  65%|██████▌   | 769/1176 [00:24<00:11, 36.31it/s]"
     ]
    },
    {
     "name": "stdout",
     "output_type": "stream",
     "text": [
      "Failed requesting She's Funny That Way\n",
      "Failed requesting I can't believe that you're in love with Me\n",
      "Failed requesting You took Advantage of Me\n",
      "Failed requesting I must have that man\n",
      "Failed requesting Down South Camp Meeting\n",
      "Failed requesting Indiana\n",
      "Failed requesting I can't get started\n"
     ]
    },
    {
     "name": "stderr",
     "output_type": "stream",
     "text": [
      "Processing Jess Stacy_tracks.parquet:  66%|██████▌   | 773/1176 [00:25<00:11, 34.78it/s]"
     ]
    },
    {
     "name": "stdout",
     "output_type": "stream",
     "text": [
      "Failed requesting Where or When\n",
      "Failed requesting Ain't goin' Nowhere\n",
      "Failed requesting Oh, Baby\n",
      "Failed requesting You Turned the tables on me\n",
      "Failed requesting If I could be with you\n"
     ]
    },
    {
     "name": "stderr",
     "output_type": "stream",
     "text": [
      "Processing Jess Stacy_tracks.parquet:  66%|██████▋   | 781/1176 [00:25<00:13, 30.25it/s]"
     ]
    },
    {
     "name": "stdout",
     "output_type": "stream",
     "text": [
      "Failed requesting Complainin'\n",
      "Failed requesting Fasciating Rhythm\n",
      "Failed requesting Boo-boos For Bob\n",
      "Failed requesting Stars fell on Alabama\n",
      "Failed requesting Sometimes I'm Happy\n",
      "Failed requesting Goodbye\n",
      "Failed requesting When Buddha Smiles\n"
     ]
    },
    {
     "name": "stderr",
     "output_type": "stream",
     "text": [
      "Processing Jess Stacy_tracks.parquet:  67%|██████▋   | 788/1176 [00:25<00:13, 27.96it/s]"
     ]
    },
    {
     "name": "stdout",
     "output_type": "stream",
     "text": [
      "Failed requesting Don't be that Way\n",
      "Failed requesting Ec-Stacy\n",
      "Failed requesting Sing, sing, sing\n",
      "Failed requesting Don't be that Way\n",
      "Failed requesting Sing, sing, sing\n"
     ]
    },
    {
     "name": "stderr",
     "output_type": "stream",
     "text": [
      "Processing Jess Stacy_tracks.parquet:  67%|██████▋   | 792/1176 [00:25<00:13, 29.09it/s]"
     ]
    },
    {
     "name": "stdout",
     "output_type": "stream",
     "text": [
      "Failed requesting Indiana\n",
      "Failed requesting King Porter Stomp\n",
      "Failed requesting Sometimes I'm Happy\n",
      "Failed requesting Stars fell on Alabama\n",
      "Failed requesting Oh, Baby\n",
      "Failed requesting I can't get started\n",
      "Failed requesting Boo-boos For Bob\n"
     ]
    },
    {
     "name": "stderr",
     "output_type": "stream",
     "text": [
      "Processing Jess Stacy_tracks.parquet:  68%|██████▊   | 799/1176 [00:25<00:12, 29.97it/s]"
     ]
    },
    {
     "name": "stdout",
     "output_type": "stream",
     "text": [
      "Failed requesting Goodbye\n",
      "Failed requesting Down South Camp Meeting\n",
      "Failed requesting I must have that man\n",
      "Failed requesting You took Advantage of Me\n",
      "Failed requesting Where or When\n",
      "Failed requesting Blues for Otis Ferguson\n",
      "Failed requesting Ec-Stacy\n"
     ]
    },
    {
     "name": "stderr",
     "output_type": "stream",
     "text": [
      "Processing Jess Stacy_tracks.parquet:  69%|██████▊   | 807/1176 [00:26<00:11, 32.20it/s]"
     ]
    },
    {
     "name": "stdout",
     "output_type": "stream",
     "text": [
      "Failed requesting Let's Dance\n",
      "Failed requesting When Buddha Smiles\n",
      "Failed requesting Complainin'\n",
      "Failed requesting You Turned the tables on me\n",
      "Failed requesting Take Me to the Land of Jazz\n",
      "Failed requesting Take Me to the Land of Jazz\n",
      "Failed requesting Take Me to the Land of Jazz\n",
      "Failed requesting Take Me to the Land of Jazz\n",
      "Failed requesting Take Me to the Land of Jazz\n"
     ]
    },
    {
     "name": "stderr",
     "output_type": "stream",
     "text": [
      "Processing Jess Stacy_tracks.parquet:  69%|██████▉   | 817/1176 [00:26<00:09, 37.88it/s]"
     ]
    },
    {
     "name": "stdout",
     "output_type": "stream",
     "text": [
      "Failed requesting Rose of Washington Square\n",
      "Failed requesting Rose of Washington Square\n",
      "Failed requesting Rose of Washington Square\n",
      "Failed requesting Rose of Washington Square\n",
      "Failed requesting Rose of Washington Square\n",
      "Failed requesting Rose of Washington Square\n",
      "Failed requesting Keepin' Out of Mischief Now\n",
      "Failed requesting Keepin' Out of Mischief Now\n",
      "Failed requesting Keepin' Out of Mischief Now\n",
      "Failed requesting Keepin' Out of Mischief Now\n"
     ]
    },
    {
     "name": "stderr",
     "output_type": "stream",
     "text": [
      "Processing Jess Stacy_tracks.parquet:  70%|███████   | 827/1176 [00:26<00:08, 40.93it/s]"
     ]
    },
    {
     "name": "stdout",
     "output_type": "stream",
     "text": [
      "Failed requesting Blue Fives\n",
      "Failed requesting Blue Fives\n",
      "Failed requesting Blue Fives\n",
      "Failed requesting Blue Fives\n",
      "Failed requesting Blue Fives\n",
      "Failed requesting Daybreak Serenade\n",
      "Failed requesting Daybreak Serenade\n",
      "Failed requesting Daybreak Serenade\n",
      "Failed requesting Daybreak Serenade\n"
     ]
    },
    {
     "name": "stderr",
     "output_type": "stream",
     "text": [
      "Processing Jess Stacy_tracks.parquet:  71%|███████   | 837/1176 [00:26<00:08, 40.14it/s]"
     ]
    },
    {
     "name": "stdout",
     "output_type": "stream",
     "text": [
      "Failed requesting Daybreak Serenade\n",
      "Failed requesting Daybreak Serenade\n",
      "Failed requesting Careless\n",
      "Failed requesting Careless\n",
      "Failed requesting Careless\n",
      "Failed requesting Careless\n",
      "Failed requesting I'll Be Seeing You\n",
      "Failed requesting I'll Be Seeing You\n",
      "Failed requesting I'll Be Seeing You\n"
     ]
    },
    {
     "name": "stderr",
     "output_type": "stream",
     "text": [
      "Processing Jess Stacy_tracks.parquet:  72%|███████▏  | 847/1176 [00:27<00:07, 41.92it/s]"
     ]
    },
    {
     "name": "stdout",
     "output_type": "stream",
     "text": [
      "Failed requesting Can't We Be Friends\n",
      "Failed requesting Can't We Be Friends\n",
      "Failed requesting Can't We Be Friends\n",
      "Failed requesting Can't We Be Friends\n",
      "Failed requesting Can't We Be Friends\n",
      "Failed requesting Lullaby Of The Leaves\n",
      "Failed requesting Lullaby Of The Leaves\n",
      "Failed requesting Cherry\n",
      "Failed requesting Cherry\n"
     ]
    },
    {
     "name": "stderr",
     "output_type": "stream",
     "text": [
      "Processing Jess Stacy_tracks.parquet:  72%|███████▏  | 852/1176 [00:27<00:07, 40.98it/s]"
     ]
    },
    {
     "name": "stdout",
     "output_type": "stream",
     "text": [
      "Failed requesting Cherry\n",
      "Failed requesting Cherry\n",
      "Failed requesting In a Mist\n",
      "Failed requesting In a Mist\n",
      "Failed requesting In a Mist\n",
      "Failed requesting In a Mist\n",
      "Failed requesting I'm gonna sit right down and write myself a letter\n"
     ]
    },
    {
     "name": "stderr",
     "output_type": "stream",
     "text": [
      "Processing Jess Stacy_tracks.parquet:  73%|███████▎  | 857/1176 [00:27<00:08, 38.73it/s]"
     ]
    },
    {
     "name": "stdout",
     "output_type": "stream",
     "text": [
      "Failed requesting Old Fashioned love\n",
      "Failed requesting Song of the Wanderer\n",
      "Failed requesting It's Only a Paper Moon\n",
      "Failed requesting Lover Man\n",
      "Failed requesting D.A. Blues\n"
     ]
    },
    {
     "name": "stderr",
     "output_type": "stream",
     "text": [
      "Processing Jess Stacy_tracks.parquet:  74%|███████▎  | 865/1176 [00:28<00:23, 13.45it/s]"
     ]
    },
    {
     "name": "stdout",
     "output_type": "stream",
     "text": [
      "Failed requesting I ain't got nobody\n",
      "Failed requesting After You've gone\n",
      "Failed requesting Barrelhouse\n",
      "Failed requesting Barrelhouse\n",
      "Failed requesting Barrelhouse\n",
      "Failed requesting Barrelhouse\n",
      "Failed requesting Barrelhouse\n",
      "Failed requesting Barrelhouse\n",
      "Failed requesting Barrelhouse\n"
     ]
    },
    {
     "name": "stderr",
     "output_type": "stream",
     "text": [
      "Processing Jess Stacy_tracks.parquet:  74%|███████▍  | 874/1176 [00:28<00:14, 20.28it/s]"
     ]
    },
    {
     "name": "stdout",
     "output_type": "stream",
     "text": [
      "Failed requesting Barrelhouse\n",
      "Failed requesting Ramblin'\n",
      "Failed requesting Ramblin'\n",
      "Failed requesting Ramblin'\n",
      "Failed requesting Ramblin'\n",
      "Failed requesting Ramblin'\n",
      "Failed requesting Ramblin'\n"
     ]
    },
    {
     "name": "stderr",
     "output_type": "stream",
     "text": [
      "Processing Jess Stacy_tracks.parquet:  75%|███████▌  | 883/1176 [00:29<00:10, 27.19it/s]"
     ]
    },
    {
     "name": "stdout",
     "output_type": "stream",
     "text": [
      "Failed requesting Ramblin'\n",
      "Failed requesting Ramblin'\n",
      "Failed requesting Complainin\n",
      "Failed requesting Complainin\n",
      "Failed requesting Complainin\n",
      "Failed requesting Complainin\n",
      "Failed requesting Complainin\n",
      "Failed requesting Complainin\n",
      "Failed requesting Complainin\n",
      "Failed requesting Complainin\n"
     ]
    },
    {
     "name": "stderr",
     "output_type": "stream",
     "text": [
      "Processing Jess Stacy_tracks.parquet:  76%|███████▌  | 893/1176 [00:29<00:08, 33.80it/s]"
     ]
    },
    {
     "name": "stdout",
     "output_type": "stream",
     "text": [
      "Failed requesting Candlelights\n",
      "Failed requesting Candlelights\n",
      "Failed requesting Candlelights\n",
      "Failed requesting Candlelights\n",
      "Failed requesting Candlelights\n",
      "Failed requesting Candlelights\n",
      "Failed requesting Candlelights\n",
      "Failed requesting Candlelights\n",
      "Failed requesting Candlelights\n"
     ]
    },
    {
     "name": "stderr",
     "output_type": "stream",
     "text": [
      "Processing Jess Stacy_tracks.parquet:  77%|███████▋  | 903/1176 [00:29<00:07, 38.21it/s]"
     ]
    },
    {
     "name": "stdout",
     "output_type": "stream",
     "text": [
      "Failed requesting Complainin'\n",
      "Failed requesting Complainin'\n",
      "Failed requesting Complainin'\n",
      "Failed requesting Complainin'\n",
      "Failed requesting Complainin'\n",
      "Failed requesting Complainin'\n",
      "Failed requesting Ain't Goin' Nowhere\n",
      "Failed requesting Ain't Goin' Nowhere\n",
      "Failed requesting Ain't Goin' Nowhere\n",
      "Failed requesting Ain't Goin' Nowhere\n"
     ]
    },
    {
     "name": "stderr",
     "output_type": "stream",
     "text": [
      "Processing Jess Stacy_tracks.parquet:  78%|███████▊  | 913/1176 [00:29<00:06, 40.34it/s]"
     ]
    },
    {
     "name": "stdout",
     "output_type": "stream",
     "text": [
      "Failed requesting Ain't Goin' Nowhere\n",
      "Failed requesting Ain't Goin' Nowhere\n",
      "Failed requesting Ain't Goin' Nowhere\n",
      "Failed requesting Ain't Goin' Nowhere\n",
      "Failed requesting You're Driving Me Crazy\n",
      "Failed requesting You're Driving Me Crazy\n",
      "Failed requesting You're Driving Me Crazy\n",
      "Failed requesting You're Driving Me Crazy\n",
      "Failed requesting You're Driving Me Crazy\n"
     ]
    },
    {
     "name": "stderr",
     "output_type": "stream",
     "text": [
      "Processing Jess Stacy_tracks.parquet:  78%|███████▊  | 923/1176 [00:30<00:06, 41.68it/s]"
     ]
    },
    {
     "name": "stdout",
     "output_type": "stream",
     "text": [
      "Failed requesting You're Driving Me Crazy\n",
      "Failed requesting You're Driving Me Crazy\n",
      "Failed requesting The Sell-Out\n",
      "Failed requesting The Sell-Out\n",
      "Failed requesting The Sell-Out\n",
      "Failed requesting The Sell-Out\n",
      "Failed requesting The Sell-Out\n",
      "Failed requesting The Sell-Out\n",
      "Failed requesting The Sell-Out\n"
     ]
    },
    {
     "name": "stderr",
     "output_type": "stream",
     "text": [
      "Processing Jess Stacy_tracks.parquet:  79%|███████▉  | 933/1176 [00:30<00:05, 42.37it/s]"
     ]
    },
    {
     "name": "stdout",
     "output_type": "stream",
     "text": [
      "Failed requesting Ec-Stacy\n",
      "Failed requesting Ec-Stacy\n",
      "Failed requesting Ec-Stacy\n",
      "Failed requesting Ec-Stacy\n",
      "Failed requesting Ec-Stacy\n",
      "Failed requesting Ec-Stacy\n",
      "Failed requesting Ec-Stacy\n",
      "Failed requesting Melancholy Mood\n",
      "Failed requesting Melancholy Mood\n"
     ]
    },
    {
     "name": "stderr",
     "output_type": "stream",
     "text": [
      "Processing Jess Stacy_tracks.parquet:  80%|███████▉  | 938/1176 [00:30<00:05, 42.79it/s]"
     ]
    },
    {
     "name": "stdout",
     "output_type": "stream",
     "text": [
      "Failed requesting Melancholy Mood\n",
      "Failed requesting Melancholy Mood\n",
      "Failed requesting Melancholy Mood\n",
      "Failed requesting Melancholy Mood\n",
      "Failed requesting Melancholy Mood\n",
      "Failed requesting Noni\n",
      "Failed requesting Noni\n",
      "Failed requesting Noni\n",
      "Failed requesting Noni\n",
      "Failed requesting Noni\n"
     ]
    },
    {
     "name": "stderr",
     "output_type": "stream",
     "text": [
      "Processing Jess Stacy_tracks.parquet:  81%|████████  | 948/1176 [00:30<00:05, 43.23it/s]"
     ]
    },
    {
     "name": "stdout",
     "output_type": "stream",
     "text": [
      "Failed requesting Noni\n",
      "Failed requesting Jess Stay\n",
      "Failed requesting Jess Stay\n",
      "Failed requesting Jess Stay\n",
      "Failed requesting Jess Stay\n",
      "Failed requesting Jess Stay\n",
      "Failed requesting Jess Stay\n",
      "Failed requesting Jess Stay\n",
      "Failed requesting Clarinet Blues\n"
     ]
    },
    {
     "name": "stderr",
     "output_type": "stream",
     "text": [
      "Processing Jess Stacy_tracks.parquet:  81%|████████▏ | 958/1176 [00:30<00:05, 42.51it/s]"
     ]
    },
    {
     "name": "stdout",
     "output_type": "stream",
     "text": [
      "Failed requesting Clarinet Blues\n",
      "Failed requesting Clarinet Blues\n",
      "Failed requesting Clarinet Blues\n",
      "Failed requesting Clarinet Blues\n",
      "Failed requesting Clarinet Blues\n",
      "Failed requesting Breeze (Blow my baby back to me) - Fox Trot\n",
      "Failed requesting She's Funny That Way\n",
      "Failed requesting Breeze (Blow my baby back to me) - Blues\n"
     ]
    },
    {
     "name": "stderr",
     "output_type": "stream",
     "text": [
      "Processing Jess Stacy_tracks.parquet:  82%|████████▏ | 963/1176 [00:31<00:06, 34.87it/s]"
     ]
    },
    {
     "name": "stdout",
     "output_type": "stream",
     "text": [
      "Failed requesting What's New\n",
      "Failed requesting A good man is hard to Find\n",
      "Failed requesting I can't believe that you're in love with Me\n",
      "Failed requesting The World is Waiting for the sunrise\n",
      "Failed requesting Indiana\n"
     ]
    },
    {
     "name": "stderr",
     "output_type": "stream",
     "text": [
      "Processing Jess Stacy_tracks.parquet:  82%|████████▏ | 967/1176 [00:31<00:06, 33.63it/s]"
     ]
    },
    {
     "name": "stdout",
     "output_type": "stream",
     "text": [
      "Failed requesting I want to be happy\n",
      "Failed requesting You Turned the tables on me\n",
      "Failed requesting If I could be with you\n",
      "Failed requesting Gee, Ain't I good to you\n"
     ]
    },
    {
     "name": "stderr",
     "output_type": "stream",
     "text": [
      "Processing Jess Stacy_tracks.parquet:  83%|████████▎ | 975/1176 [00:31<00:06, 29.18it/s]"
     ]
    },
    {
     "name": "stdout",
     "output_type": "stream",
     "text": [
      "Failed requesting Oh, Baby\n",
      "Failed requesting Ain't goin' Nowhere\n",
      "Failed requesting Blues for Otis Ferguson\n",
      "Failed requesting I must have that man\n",
      "Failed requesting Complainin'\n",
      "Failed requesting Down South Camp Meeting\n",
      "Failed requesting When Buddha Smiles\n",
      "Failed requesting Roll' Em\n"
     ]
    },
    {
     "name": "stderr",
     "output_type": "stream",
     "text": [
      "Processing Jess Stacy_tracks.parquet:  84%|████████▎ | 983/1176 [00:31<00:06, 31.33it/s]"
     ]
    },
    {
     "name": "stdout",
     "output_type": "stream",
     "text": [
      "Failed requesting Boo-boos For Bob\n",
      "Failed requesting Let's Dance\n",
      "Failed requesting King Porter Stomp\n",
      "Failed requesting You took Advantage of Me\n",
      "Failed requesting Don't be that Way\n",
      "Failed requesting Fasciating Rhythm\n",
      "Failed requesting Goodbye\n",
      "Failed requesting Rose of Washington Square\n",
      "Failed requesting Rose of Washington Square\n"
     ]
    },
    {
     "name": "stderr",
     "output_type": "stream",
     "text": [
      "Processing Jess Stacy_tracks.parquet:  84%|████████▍ | 993/1176 [00:31<00:05, 36.11it/s]"
     ]
    },
    {
     "name": "stdout",
     "output_type": "stream",
     "text": [
      "Failed requesting Rose of Washington Square\n",
      "Failed requesting Rose of Washington Square\n",
      "Failed requesting Rose of Washington Square\n",
      "Failed requesting Rose of Washington Square\n",
      "Failed requesting Blue Fives\n",
      "Failed requesting Blue Fives\n",
      "Failed requesting Blue Fives\n",
      "Failed requesting Blue Fives\n",
      "Failed requesting Blue Fives\n",
      "Failed requesting Ridin' Easy\n"
     ]
    },
    {
     "name": "stderr",
     "output_type": "stream",
     "text": [
      "Processing Jess Stacy_tracks.parquet:  85%|████████▌ | 1003/1176 [00:32<00:04, 39.47it/s]"
     ]
    },
    {
     "name": "stdout",
     "output_type": "stream",
     "text": [
      "Failed requesting Ridin' Easy\n",
      "Failed requesting Ridin' Easy\n",
      "Failed requesting Ridin' Easy\n",
      "Failed requesting Daybreak Serenade\n",
      "Failed requesting Daybreak Serenade\n",
      "Failed requesting Daybreak Serenade\n",
      "Failed requesting Daybreak Serenade\n",
      "Failed requesting Daybreak Serenade\n",
      "Failed requesting Daybreak Serenade\n",
      "Failed requesting Careless\n"
     ]
    },
    {
     "name": "stderr",
     "output_type": "stream",
     "text": [
      "Processing Jess Stacy_tracks.parquet:  86%|████████▌ | 1013/1176 [00:32<00:03, 41.77it/s]"
     ]
    },
    {
     "name": "stdout",
     "output_type": "stream",
     "text": [
      "Failed requesting Careless\n",
      "Failed requesting Careless\n",
      "Failed requesting Careless\n",
      "Failed requesting Can't We Be Friends\n",
      "Failed requesting Can't We Be Friends\n",
      "Failed requesting Can't We Be Friends\n",
      "Failed requesting Can't We Be Friends\n",
      "Failed requesting Can't We Be Friends\n",
      "Failed requesting Imagination\n",
      "Failed requesting Imagination\n"
     ]
    },
    {
     "name": "stderr",
     "output_type": "stream",
     "text": [
      "Processing Jess Stacy_tracks.parquet:  87%|████████▋ | 1023/1176 [00:32<00:03, 42.27it/s]"
     ]
    },
    {
     "name": "stdout",
     "output_type": "stream",
     "text": [
      "Failed requesting Imagination\n",
      "Failed requesting Imagination\n",
      "Failed requesting Under a Blanket of Blue\n",
      "Failed requesting Under a Blanket of Blue\n",
      "Failed requesting Under a Blanket of Blue\n",
      "Failed requesting Cherry\n",
      "Failed requesting Cherry\n",
      "Failed requesting Cherry\n",
      "Failed requesting Cherry\n",
      "Failed requesting In a Mist\n"
     ]
    },
    {
     "name": "stderr",
     "output_type": "stream",
     "text": [
      "Processing Jess Stacy_tracks.parquet:  87%|████████▋ | 1028/1176 [00:32<00:03, 42.90it/s]"
     ]
    },
    {
     "name": "stdout",
     "output_type": "stream",
     "text": [
      "Failed requesting In a Mist\n",
      "Failed requesting In a Mist\n",
      "Failed requesting In a Mist\n",
      "Failed requesting Old Fashioned love\n",
      "Failed requesting Keepin out of Mischief Now Part 2\n",
      "Failed requesting D.A. Blues\n",
      "Failed requesting It's Only a Paper Moon\n"
     ]
    },
    {
     "name": "stderr",
     "output_type": "stream",
     "text": [
      "Processing Jess Stacy_tracks.parquet:  88%|████████▊ | 1037/1176 [00:33<00:03, 36.94it/s]"
     ]
    },
    {
     "name": "stdout",
     "output_type": "stream",
     "text": [
      "Failed requesting Lover Man\n",
      "Failed requesting After You've gone\n",
      "Failed requesting I ain't got nobody\n",
      "Failed requesting I can't believe that you're in love with me\n",
      "Failed requesting Song of the Wanderer\n",
      "Failed requesting I'm gonna sit right down and write myself a letter\n",
      "Failed requesting Ramblin'\n",
      "Failed requesting Ramblin'\n"
     ]
    },
    {
     "name": "stderr",
     "output_type": "stream",
     "text": [
      "Processing Jess Stacy_tracks.parquet:  89%|████████▉ | 1046/1176 [00:33<00:03, 38.78it/s]"
     ]
    },
    {
     "name": "stdout",
     "output_type": "stream",
     "text": [
      "Failed requesting Ramblin'\n",
      "Failed requesting Ramblin'\n",
      "Failed requesting Ramblin'\n",
      "Failed requesting Ramblin'\n",
      "Failed requesting Ramblin'\n",
      "Failed requesting Ramblin'\n",
      "Failed requesting Complainin'\n",
      "Failed requesting Complainin'\n"
     ]
    },
    {
     "name": "stderr",
     "output_type": "stream",
     "text": [
      "Processing Jess Stacy_tracks.parquet:  90%|████████▉ | 1056/1176 [00:33<00:02, 40.67it/s]"
     ]
    },
    {
     "name": "stdout",
     "output_type": "stream",
     "text": [
      "Failed requesting Complainin'\n",
      "Failed requesting Complainin'\n",
      "Failed requesting Complainin'\n",
      "Failed requesting Complainin'\n",
      "Failed requesting Ain't Goin' Nowhere\n",
      "Failed requesting Ain't Goin' Nowhere\n",
      "Failed requesting Ain't Goin' Nowhere\n",
      "Failed requesting Ain't Goin' Nowhere\n",
      "Failed requesting Ain't Goin' Nowhere\n"
     ]
    },
    {
     "name": "stderr",
     "output_type": "stream",
     "text": [
      "Processing Jess Stacy_tracks.parquet:  91%|█████████ | 1066/1176 [00:33<00:02, 41.73it/s]"
     ]
    },
    {
     "name": "stdout",
     "output_type": "stream",
     "text": [
      "Failed requesting Ain't Goin' Nowhere\n",
      "Failed requesting Ain't Goin' Nowhere\n",
      "Failed requesting Ain't Goin' Nowhere\n",
      "Failed requesting You're Driving Me Crazy\n",
      "Failed requesting You're Driving Me Crazy\n",
      "Failed requesting You're Driving Me Crazy\n",
      "Failed requesting You're Driving Me Crazy\n",
      "Failed requesting You're Driving Me Crazy\n",
      "Failed requesting You're Driving Me Crazy\n"
     ]
    },
    {
     "name": "stderr",
     "output_type": "stream",
     "text": [
      "Processing Jess Stacy_tracks.parquet:  91%|█████████ | 1071/1176 [00:33<00:02, 40.29it/s]"
     ]
    },
    {
     "name": "stdout",
     "output_type": "stream",
     "text": [
      "Failed requesting You're Driving Me Crazy\n",
      "Failed requesting Old Fashioned Love\n",
      "Failed requesting I Ain't Got Nobody\n",
      "Failed requesting Candlelights\n",
      "Failed requesting Song Of The Wanderer\n",
      "Failed requesting The Sell Out\n",
      "Failed requesting Down To Steamboat Tennessee\n"
     ]
    },
    {
     "name": "stderr",
     "output_type": "stream",
     "text": [
      "Processing Jess Stacy_tracks.parquet:  92%|█████████▏| 1080/1176 [00:34<00:02, 36.06it/s]"
     ]
    },
    {
     "name": "stdout",
     "output_type": "stream",
     "text": [
      "Failed requesting Ridin' Easy\n",
      "Failed requesting Sugar\n",
      "Failed requesting After You've Gone\n",
      "Failed requesting Ec-Stacy\n",
      "Failed requesting Blue Fives\n",
      "Failed requesting She's Funny That Way\n",
      "Failed requesting Barrelhouse\n",
      "Failed requesting Barrelhouse\n"
     ]
    },
    {
     "name": "stderr",
     "output_type": "stream",
     "text": [
      "Processing Jess Stacy_tracks.parquet:  93%|█████████▎| 1090/1176 [00:34<00:02, 39.61it/s]"
     ]
    },
    {
     "name": "stdout",
     "output_type": "stream",
     "text": [
      "Failed requesting Barrelhouse\n",
      "Failed requesting Barrelhouse\n",
      "Failed requesting Barrelhouse\n",
      "Failed requesting Barrelhouse\n",
      "Failed requesting Barrelhouse\n",
      "Failed requesting Barrelhouse\n",
      "Failed requesting Ramblin'\n",
      "Failed requesting Ramblin'\n",
      "Failed requesting Ramblin'\n",
      "Failed requesting Ramblin'\n"
     ]
    },
    {
     "name": "stderr",
     "output_type": "stream",
     "text": [
      "Processing Jess Stacy_tracks.parquet:  94%|█████████▎| 1100/1176 [00:34<00:01, 41.25it/s]"
     ]
    },
    {
     "name": "stdout",
     "output_type": "stream",
     "text": [
      "Failed requesting Ramblin'\n",
      "Failed requesting Ramblin'\n",
      "Failed requesting Ramblin'\n",
      "Failed requesting Ramblin'\n",
      "Failed requesting Complainin\n",
      "Failed requesting Complainin\n",
      "Failed requesting Complainin\n",
      "Failed requesting Complainin\n",
      "Failed requesting Complainin\n"
     ]
    },
    {
     "name": "stderr",
     "output_type": "stream",
     "text": [
      "Processing Jess Stacy_tracks.parquet:  94%|█████████▍| 1105/1176 [00:34<00:01, 41.72it/s]"
     ]
    },
    {
     "name": "stdout",
     "output_type": "stream",
     "text": [
      "Failed requesting Complainin\n",
      "Failed requesting Complainin\n",
      "Failed requesting Complainin\n",
      "Failed requesting Candlelights\n",
      "Failed requesting Candlelights\n",
      "Failed requesting Candlelights\n",
      "Failed requesting Candlelights\n",
      "Failed requesting Candlelights\n",
      "Failed requesting Candlelights\n"
     ]
    },
    {
     "name": "stderr",
     "output_type": "stream",
     "text": [
      "Processing Jess Stacy_tracks.parquet:  95%|█████████▍| 1115/1176 [00:34<00:01, 42.07it/s]"
     ]
    },
    {
     "name": "stdout",
     "output_type": "stream",
     "text": [
      "Failed requesting Candlelights\n",
      "Failed requesting Candlelights\n",
      "Failed requesting Candlelights\n",
      "Failed requesting Complainin'\n",
      "Failed requesting Complainin'\n",
      "Failed requesting Complainin'\n",
      "Failed requesting Complainin'\n",
      "Failed requesting Complainin'\n",
      "Failed requesting Complainin'\n"
     ]
    },
    {
     "name": "stderr",
     "output_type": "stream",
     "text": [
      "Processing Jess Stacy_tracks.parquet:  96%|█████████▌| 1125/1176 [00:35<00:01, 42.56it/s]"
     ]
    },
    {
     "name": "stdout",
     "output_type": "stream",
     "text": [
      "Failed requesting Ain't Goin' Nowhere\n",
      "Failed requesting Ain't Goin' Nowhere\n",
      "Failed requesting Ain't Goin' Nowhere\n",
      "Failed requesting Ain't Goin' Nowhere\n",
      "Failed requesting Ain't Goin' Nowhere\n",
      "Failed requesting Ain't Goin' Nowhere\n",
      "Failed requesting Ain't Goin' Nowhere\n",
      "Failed requesting Ain't Goin' Nowhere\n"
     ]
    },
    {
     "name": "stderr",
     "output_type": "stream",
     "text": [
      "Processing Jess Stacy_tracks.parquet:  97%|█████████▋| 1135/1176 [00:35<00:01, 40.44it/s]"
     ]
    },
    {
     "name": "stdout",
     "output_type": "stream",
     "text": [
      "Failed requesting You're Driving Me Crazy\n",
      "Failed requesting You're Driving Me Crazy\n",
      "Failed requesting You're Driving Me Crazy\n",
      "Failed requesting You're Driving Me Crazy\n",
      "Failed requesting You're Driving Me Crazy\n",
      "Failed requesting You're Driving Me Crazy\n",
      "Failed requesting You're Driving Me Crazy\n",
      "Failed requesting The Sell-Out\n",
      "Failed requesting The Sell-Out\n",
      "Failed requesting The Sell-Out\n"
     ]
    },
    {
     "name": "stderr",
     "output_type": "stream",
     "text": [
      "Processing Jess Stacy_tracks.parquet:  97%|█████████▋| 1145/1176 [00:35<00:00, 41.62it/s]"
     ]
    },
    {
     "name": "stdout",
     "output_type": "stream",
     "text": [
      "Failed requesting The Sell-Out\n",
      "Failed requesting The Sell-Out\n",
      "Failed requesting The Sell-Out\n",
      "Failed requesting The Sell-Out\n",
      "Failed requesting Ec-Stacy\n",
      "Failed requesting Ec-Stacy\n",
      "Failed requesting Ec-Stacy\n",
      "Failed requesting Ec-Stacy\n",
      "Failed requesting Ec-Stacy\n"
     ]
    },
    {
     "name": "stderr",
     "output_type": "stream",
     "text": [
      "Processing Jess Stacy_tracks.parquet:  98%|█████████▊| 1150/1176 [00:35<00:00, 40.05it/s]"
     ]
    },
    {
     "name": "stdout",
     "output_type": "stream",
     "text": [
      "Failed requesting Ec-Stacy\n",
      "Failed requesting Ec-Stacy\n",
      "Failed requesting Melancholy Mood\n",
      "Failed requesting Melancholy Mood\n",
      "Failed requesting Melancholy Mood\n",
      "Failed requesting Melancholy Mood\n",
      "Failed requesting Melancholy Mood\n",
      "Failed requesting Melancholy Mood\n",
      "Failed requesting Melancholy Mood\n"
     ]
    },
    {
     "name": "stderr",
     "output_type": "stream",
     "text": [
      "Processing Jess Stacy_tracks.parquet:  99%|█████████▊| 1160/1176 [00:36<00:00, 41.31it/s]"
     ]
    },
    {
     "name": "stdout",
     "output_type": "stream",
     "text": [
      "Failed requesting Noni\n",
      "Failed requesting Noni\n",
      "Failed requesting Noni\n",
      "Failed requesting Noni\n",
      "Failed requesting Noni\n",
      "Failed requesting Noni\n",
      "Failed requesting Jess Stay\n",
      "Failed requesting Jess Stay\n",
      "Failed requesting Jess Stay\n"
     ]
    },
    {
     "name": "stderr",
     "output_type": "stream",
     "text": [
      "Processing Jess Stacy_tracks.parquet:  99%|█████████▉| 1170/1176 [00:36<00:00, 40.29it/s]"
     ]
    },
    {
     "name": "stdout",
     "output_type": "stream",
     "text": [
      "Failed requesting Jess Stay\n",
      "Failed requesting Jess Stay\n",
      "Failed requesting Jess Stay\n",
      "Failed requesting Jess Stay\n",
      "Failed requesting In The Dark/Flashes (11-16-35)\n",
      "Failed requesting The Worlds Is Waiting For The Sunrise (11-16-35)\n",
      "Failed requesting She's Funny That Way (06-13-39)\n",
      "Failed requesting What's New? (09-26-39)\n"
     ]
    },
    {
     "name": "stderr",
     "output_type": "stream",
     "text": [
      "Processing Jess Stacy_tracks.parquet: 100%|██████████| 1176/1176 [00:36<00:00, 32.18it/s]\n",
      "Processing Jessamine_tracks.parquet:   0%|          | 0/49 [00:00<?, ?it/s]"
     ]
    },
    {
     "name": "stdout",
     "output_type": "stream",
     "text": [
      "Failed requesting Breeze (Blow My Baby Back To Me) (11-3-39)\n",
      "Failed requesting Breeze (Blow My Baby Back To Me) (Blues) (11-3-39)\n",
      "Failed requesting I Can't Believe That You're In Love With Me (11-30-39)\n",
      "Failed requesting A Good Man Is Hard To Find (11-30-39)\n"
     ]
    },
    {
     "name": "stderr",
     "output_type": "stream",
     "text": [
      "Processing Jessamine_tracks.parquet:  12%|█▏        | 6/49 [00:00<00:01, 28.90it/s]"
     ]
    },
    {
     "name": "stdout",
     "output_type": "stream",
     "text": [
      "Failed requesting Living Sound, Pt. 1\n",
      "Failed requesting Living Sound, Pt. 2\n",
      "Failed requesting Living Sound, Pt. 3\n",
      "Failed requesting Living Sound, Pt. 4\n",
      "Failed requesting Living Sound, Pt. 5\n",
      "Failed requesting Living Sound, Pt. 6\n",
      "Failed requesting Living Sound, Pt. 7\n",
      "Failed requesting Elsewards\n"
     ]
    },
    {
     "name": "stderr",
     "output_type": "stream",
     "text": [
      "Processing Jessamine_tracks.parquet:  31%|███       | 15/49 [00:00<00:00, 34.86it/s]"
     ]
    },
    {
     "name": "stdout",
     "output_type": "stream",
     "text": [
      "Failed requesting It Was Already Thursday\n",
      "Failed requesting Pilot-Free Ignition\n",
      "Failed requesting Continuous\n",
      "Failed requesting Corrupted Endeavor\n",
      "Failed requesting Burgundy\n",
      "Failed requesting Hand Held\n",
      "Failed requesting Say What You Can\n",
      "Failed requesting ...Or What You Mean\n"
     ]
    },
    {
     "name": "stderr",
     "output_type": "stream",
     "text": [
      "Processing Jessamine_tracks.parquet:  39%|███▉      | 19/49 [00:00<00:00, 35.90it/s]"
     ]
    },
    {
     "name": "stdout",
     "output_type": "stream",
     "text": [
      "Failed requesting Periwinkle\n",
      "Failed requesting Step Down\n",
      "Failed requesting You May Have Forgotten\n",
      "Failed requesting Polish Countryside\n",
      "Failed requesting Schisandra\n",
      "Failed requesting It's Cold in Space\n"
     ]
    },
    {
     "name": "stderr",
     "output_type": "stream",
     "text": [
      "Processing Jessamine_tracks.parquet:  55%|█████▌    | 27/49 [00:00<00:00, 31.24it/s]"
     ]
    },
    {
     "name": "stdout",
     "output_type": "stream",
     "text": [
      "Failed requesting The Long Arm of Coincidence Makes My Radio Connections\n",
      "Failed requesting All the Same\n",
      "Failed requesting Another Fictionalized History\n",
      "Failed requesting Secret\n",
      "Failed requesting Royal Jelly Eye Cream\n",
      "Failed requesting Ordinary Sleep\n",
      "Failed requesting Inevitably\n",
      "Failed requesting Cellophane\n"
     ]
    },
    {
     "name": "stderr",
     "output_type": "stream",
     "text": [
      "Processing Jessamine_tracks.parquet:  71%|███████▏  | 35/49 [00:01<00:00, 34.97it/s]"
     ]
    },
    {
     "name": "stdout",
     "output_type": "stream",
     "text": [
      "Failed requesting You Have Ugly Talents, Martha\n",
      "Failed requesting One Trick Pony\n",
      "Failed requesting Don't You Know That Yet?\n",
      "Failed requesting Lisboa\n",
      "Failed requesting A Pox on You\n",
      "Failed requesting Satellite\n",
      "Failed requesting Radiophonic (Musique Concrete)\n",
      "Failed requesting Opus 3\n"
     ]
    },
    {
     "name": "stderr",
     "output_type": "stream",
     "text": [
      "Processing Jessamine_tracks.parquet:  88%|████████▊ | 43/49 [00:01<00:00, 35.31it/s]"
     ]
    },
    {
     "name": "stdout",
     "output_type": "stream",
     "text": [
      "Failed requesting Satellite - reprise\n",
      "Failed requesting A Pox On You\n",
      "Failed requesting X-Tacy - Live Intro Theme\n",
      "Failed requesting Spacestation\n",
      "Failed requesting I'm Not Afraid Of Electricity\n",
      "Failed requesting Guitar Feedback Manipulation\n",
      "Failed requesting Out of Phase\n"
     ]
    },
    {
     "name": "stderr",
     "output_type": "stream",
     "text": [
      "Processing Jessamine_tracks.parquet: 100%|██████████| 49/49 [00:01<00:00, 33.19it/s]\n",
      "Processing Jesse Belvin_tracks.parquet:   0%|          | 0/412 [00:00<?, ?it/s]"
     ]
    },
    {
     "name": "stdout",
     "output_type": "stream",
     "text": [
      "Failed requesting Transparent Radiation - Demo\n",
      "Failed requesting Antennae\n",
      "Failed requesting Repeater - Demo\n",
      "Failed requesting The New Atlantis\n",
      "Failed requesting Gone Gone Gone\n",
      "Failed requesting Daddy Loves Baby\n"
     ]
    },
    {
     "name": "stderr",
     "output_type": "stream",
     "text": [
      "Processing Jesse Belvin_tracks.parquet:   2%|▏         | 8/412 [00:00<00:12, 33.26it/s]"
     ]
    },
    {
     "name": "stdout",
     "output_type": "stream",
     "text": [
      "Failed requesting Hang Your Tears Out to Dry\n",
      "Failed requesting What's the Matter\n",
      "Failed requesting My Love Comes Tumbling Down\n",
      "Failed requesting Confusin' Blues\n",
      "Failed requesting Don't Stop\n",
      "Failed requesting Love Me\n",
      "Failed requesting Open Up Your Heart\n",
      "Failed requesting Dream Girl\n"
     ]
    },
    {
     "name": "stderr",
     "output_type": "stream",
     "text": [
      "Processing Jesse Belvin_tracks.parquet:   4%|▍         | 16/412 [00:00<00:11, 35.46it/s]"
     ]
    },
    {
     "name": "stdout",
     "output_type": "stream",
     "text": [
      "Failed requesting Baby Don't Go\n",
      "Failed requesting Blues Has Got Me\n",
      "Failed requesting Dream Girl\n",
      "Failed requesting Dream Girl\n",
      "Failed requesting Dream Girl\n",
      "Failed requesting Dream Girl\n",
      "Failed requesting Guess Who? - Remastered\n",
      "Failed requesting The Very Thought of You - Remastered\n"
     ]
    },
    {
     "name": "stderr",
     "output_type": "stream",
     "text": [
      "Processing Jesse Belvin_tracks.parquet:   6%|▌         | 24/412 [00:00<00:12, 31.20it/s]"
     ]
    },
    {
     "name": "stdout",
     "output_type": "stream",
     "text": [
      "Failed requesting Beware - Remastered\n",
      "Failed requesting Hang Your Tears out to Dry - Remastered\n",
      "Failed requesting Secret Love - Remastered\n",
      "Failed requesting Baby Don't Go - Remastered\n",
      "Failed requesting Love Is Here to Stay - Remastered\n",
      "Failed requesting Confusin' Blues\n",
      "Failed requesting Confusin' Blues\n"
     ]
    },
    {
     "name": "stderr",
     "output_type": "stream",
     "text": [
      "Processing Jesse Belvin_tracks.parquet:   7%|▋         | 28/412 [00:00<00:11, 32.85it/s]"
     ]
    },
    {
     "name": "stdout",
     "output_type": "stream",
     "text": [
      "Failed requesting Confusin' Blues\n",
      "Failed requesting Confusin' Blues\n",
      "Failed requesting Ol' Man River - Remastered\n",
      "Failed requesting Dream Girl 2 - Remastered\n"
     ]
    },
    {
     "name": "stderr",
     "output_type": "stream",
     "text": [
      "Processing Jesse Belvin_tracks.parquet:   9%|▊         | 36/412 [00:01<00:13, 27.74it/s]"
     ]
    },
    {
     "name": "stdout",
     "output_type": "stream",
     "text": [
      "Failed requesting Now You Know - Remastered\n",
      "Failed requesting Zing! Went the Strings of My Heart - Remastered\n",
      "Failed requesting I'm Only a Fool - Remastered\n",
      "Failed requesting Trouble and Misery - Remastered\n",
      "Failed requesting Witchcraft - Remastered\n",
      "Failed requesting My Funny Valentine - Remastered\n",
      "Failed requesting Where's My Girl - Remastered\n"
     ]
    },
    {
     "name": "stderr",
     "output_type": "stream",
     "text": [
      "Processing Jesse Belvin_tracks.parquet:  10%|▉         | 40/412 [00:01<00:13, 28.59it/s]"
     ]
    },
    {
     "name": "stdout",
     "output_type": "stream",
     "text": [
      "Failed requesting Funny - Remastered\n",
      "Failed requesting Love, Love of My Life - Remastered\n",
      "Failed requesting Blues Has Got Me\n",
      "Failed requesting Come Back\n",
      "Failed requesting Ding Dong Baby\n",
      "Failed requesting Don't Stop (Pretty Baby)\n",
      "Failed requesting Love Me\n"
     ]
    },
    {
     "name": "stderr",
     "output_type": "stream",
     "text": [
      "Processing Jesse Belvin_tracks.parquet:  11%|█         | 44/412 [00:01<00:12, 30.03it/s]"
     ]
    },
    {
     "name": "stdout",
     "output_type": "stream",
     "text": [
      "Failed requesting Love of My Life\n"
     ]
    },
    {
     "name": "stderr",
     "output_type": "stream",
     "text": [
      "Processing Jesse Belvin_tracks.parquet:  12%|█▏        | 48/412 [00:02<00:39,  9.19it/s]"
     ]
    },
    {
     "name": "stdout",
     "output_type": "stream",
     "text": [
      "Failed requesting What's the Matter\n",
      "Failed requesting Let's Try Romance\n",
      "Failed requesting Open up Your Heart\n",
      "Failed requesting (Jesse's Blues) Confusin' Blues\n",
      "Failed requesting Daddy Loves Baby\n",
      "Failed requesting Secret Love\n"
     ]
    },
    {
     "name": "stderr",
     "output_type": "stream",
     "text": [
      "Processing Jesse Belvin_tracks.parquet:  13%|█▎        | 52/412 [00:03<00:57,  6.21it/s]"
     ]
    },
    {
     "name": "stdout",
     "output_type": "stream",
     "text": [
      "Failed requesting Now You Know\n"
     ]
    },
    {
     "name": "stderr",
     "output_type": "stream",
     "text": [
      "Processing Jesse Belvin_tracks.parquet:  15%|█▍        | 60/412 [00:06<01:31,  3.85it/s]"
     ]
    },
    {
     "name": "stdout",
     "output_type": "stream",
     "text": [
      "Failed requesting My Funny Valentine\n",
      "Failed requesting Funny\n",
      "Failed requesting Take Me Back To The Island\n",
      "Failed requesting The Masquerade Is Over (I'm Afraid)\n",
      "Failed requesting Alright, Okay, You Win\n",
      "Failed requesting Goodnight My Love\n",
      "Failed requesting Goodnight My Love\n",
      "Failed requesting Goodnight My Love\n"
     ]
    },
    {
     "name": "stderr",
     "output_type": "stream",
     "text": [
      "Processing Jesse Belvin_tracks.parquet:  17%|█▋        | 70/412 [00:07<00:39,  8.72it/s]"
     ]
    },
    {
     "name": "stdout",
     "output_type": "stream",
     "text": [
      "Failed requesting Goodnight My Love\n",
      "Failed requesting Goodnight My Love\n",
      "Failed requesting Goodnight My Love\n",
      "Failed requesting Goodnight My Love\n",
      "Failed requesting Goodnight My Love\n",
      "Failed requesting Goodnight My Love\n"
     ]
    },
    {
     "name": "stderr",
     "output_type": "stream",
     "text": [
      "Processing Jesse Belvin_tracks.parquet:  18%|█▊        | 75/412 [00:07<00:26, 12.78it/s]"
     ]
    },
    {
     "name": "stdout",
     "output_type": "stream",
     "text": [
      "Failed requesting Goodnight My Love\n",
      "Failed requesting Goodnight My Love\n",
      "Failed requesting Goodnight My Love\n",
      "Failed requesting Goodnight My Love\n",
      "Failed requesting Goodnight My Love\n",
      "Failed requesting Goodnight My Love\n",
      "Failed requesting Goodnight My Love\n",
      "Failed requesting Guess Who\n"
     ]
    },
    {
     "name": "stderr",
     "output_type": "stream",
     "text": [
      "Processing Jesse Belvin_tracks.parquet:  20%|██        | 83/412 [00:07<00:17, 19.04it/s]"
     ]
    },
    {
     "name": "stdout",
     "output_type": "stream",
     "text": [
      "Failed requesting My Funny Valentine\n",
      "Failed requesting Alright Ok You Win\n",
      "Failed requesting Love Is Here to Stay\n",
      "Failed requesting Now You Know\n",
      "Failed requesting Take Me Back to the Island\n",
      "Failed requesting Zing Went the Strings of My Heart\n",
      "Failed requesting Secret Love\n"
     ]
    },
    {
     "name": "stderr",
     "output_type": "stream",
     "text": [
      "Processing Jesse Belvin_tracks.parquet:  22%|██▏       | 91/412 [00:07<00:13, 24.48it/s]"
     ]
    },
    {
     "name": "stdout",
     "output_type": "stream",
     "text": [
      "Failed requesting Witchcraft\n",
      "Failed requesting The Masquerade Is Over\n",
      "Failed requesting Funny\n",
      "Failed requesting Confessing\n",
      "Failed requesting Confessing\n",
      "Failed requesting Deep In My Heart\n",
      "Failed requesting Deep In My Heart\n"
     ]
    },
    {
     "name": "stderr",
     "output_type": "stream",
     "text": [
      "Processing Jesse Belvin_tracks.parquet:  24%|██▍       | 99/412 [00:08<00:10, 29.16it/s]"
     ]
    },
    {
     "name": "stdout",
     "output_type": "stream",
     "text": [
      "Failed requesting Rock And Roll Cowboy\n",
      "Failed requesting Rock And Roll Cowboy\n",
      "Failed requesting Tarzan\n",
      "Failed requesting Tarzan\n",
      "Failed requesting What Have You Done To My Heart\n",
      "Failed requesting What Have You Done To My Heart\n",
      "Failed requesting I Need Your Love\n",
      "Failed requesting I Need Your Love\n"
     ]
    },
    {
     "name": "stderr",
     "output_type": "stream",
     "text": [
      "Processing Jesse Belvin_tracks.parquet:  26%|██▌       | 107/412 [00:08<00:09, 32.13it/s]"
     ]
    },
    {
     "name": "stdout",
     "output_type": "stream",
     "text": [
      "Failed requesting Dollar And A Quarter\n",
      "Failed requesting Dollar And A Quarter\n",
      "Failed requesting Wondering\n",
      "Failed requesting Wondering\n",
      "Failed requesting Dandelion\n",
      "Failed requesting Dandelion\n",
      "Failed requesting Old MacDonald\n",
      "Failed requesting Old MacDonald\n"
     ]
    },
    {
     "name": "stderr",
     "output_type": "stream",
     "text": [
      "Processing Jesse Belvin_tracks.parquet:  27%|██▋       | 111/412 [00:08<00:09, 31.45it/s]"
     ]
    },
    {
     "name": "stdout",
     "output_type": "stream",
     "text": [
      "Failed requesting This Heart Of Mine\n",
      "Failed requesting This Heart Of Mine\n",
      "Failed requesting Don't Worry About That Girl\n",
      "Failed requesting Don't Worry About That Girl\n",
      "Failed requesting Trudy My Love\n",
      "Failed requesting Trudy My Love\n",
      "Failed requesting Black Stockings, Pt. 2\n"
     ]
    },
    {
     "name": "stderr",
     "output_type": "stream",
     "text": [
      "Processing Jesse Belvin_tracks.parquet:  29%|██▉       | 119/412 [00:08<00:08, 33.55it/s]"
     ]
    },
    {
     "name": "stdout",
     "output_type": "stream",
     "text": [
      "Failed requesting Black Stockings, Pt. 2\n",
      "Failed requesting Father Time\n",
      "Failed requesting Father Time\n",
      "Failed requesting It's Mighty Funny\n",
      "Failed requesting It's Mighty Funny\n",
      "Failed requesting You're So Divine\n",
      "Failed requesting You're So Divine\n"
     ]
    },
    {
     "name": "stderr",
     "output_type": "stream",
     "text": [
      "Processing Jesse Belvin_tracks.parquet:  31%|███       | 127/412 [00:08<00:08, 33.97it/s]"
     ]
    },
    {
     "name": "stdout",
     "output_type": "stream",
     "text": [
      "Failed requesting Dear Heart\n",
      "Failed requesting Dear Heart\n",
      "Failed requesting I Love Her So\n",
      "Failed requesting I Love Her So\n",
      "Failed requesting Where's My Girl\n",
      "Failed requesting Confessing\n",
      "Failed requesting Confessing\n",
      "Failed requesting Deep In My Heart\n"
     ]
    },
    {
     "name": "stderr",
     "output_type": "stream",
     "text": [
      "Processing Jesse Belvin_tracks.parquet:  33%|███▎      | 136/412 [00:09<00:07, 36.43it/s]"
     ]
    },
    {
     "name": "stdout",
     "output_type": "stream",
     "text": [
      "Failed requesting Deep In My Heart\n",
      "Failed requesting Rock And Roll Cowboy\n",
      "Failed requesting Rock And Roll Cowboy\n",
      "Failed requesting Tarzan\n",
      "Failed requesting Tarzan\n",
      "Failed requesting What Have You Done To My Heart\n",
      "Failed requesting What Have You Done To My Heart\n",
      "Failed requesting I Need Your Love\n",
      "Failed requesting I Need Your Love\n"
     ]
    },
    {
     "name": "stderr",
     "output_type": "stream",
     "text": [
      "Processing Jesse Belvin_tracks.parquet:  35%|███▌      | 146/412 [00:09<00:06, 38.72it/s]"
     ]
    },
    {
     "name": "stdout",
     "output_type": "stream",
     "text": [
      "Failed requesting Dollar And A Quarter\n",
      "Failed requesting Dollar And A Quarter\n",
      "Failed requesting Wondering\n",
      "Failed requesting Wondering\n",
      "Failed requesting Dandelion\n",
      "Failed requesting Dandelion\n",
      "Failed requesting Old MacDonald\n",
      "Failed requesting Old MacDonald\n",
      "Failed requesting This Heart Of Mine\n"
     ]
    },
    {
     "name": "stderr",
     "output_type": "stream",
     "text": [
      "Processing Jesse Belvin_tracks.parquet:  38%|███▊      | 155/412 [00:09<00:06, 39.47it/s]"
     ]
    },
    {
     "name": "stdout",
     "output_type": "stream",
     "text": [
      "Failed requesting This Heart Of Mine\n",
      "Failed requesting Don't Worry About That Girl\n",
      "Failed requesting Don't Worry About That Girl\n",
      "Failed requesting Trudy My Love\n",
      "Failed requesting Trudy My Love\n",
      "Failed requesting Black Stockings, Pt. 2\n",
      "Failed requesting Black Stockings, Pt. 2\n",
      "Failed requesting Father Time\n",
      "Failed requesting Father Time\n"
     ]
    },
    {
     "name": "stderr",
     "output_type": "stream",
     "text": [
      "Processing Jesse Belvin_tracks.parquet:  40%|███▉      | 163/412 [00:09<00:06, 39.17it/s]"
     ]
    },
    {
     "name": "stdout",
     "output_type": "stream",
     "text": [
      "Failed requesting It's Mighty Funny\n",
      "Failed requesting It's Mighty Funny\n",
      "Failed requesting You're So Divine\n",
      "Failed requesting You're So Divine\n",
      "Failed requesting Dear Heart\n",
      "Failed requesting Dear Heart\n",
      "Failed requesting I Love Her So\n"
     ]
    },
    {
     "name": "stderr",
     "output_type": "stream",
     "text": [
      "Processing Jesse Belvin_tracks.parquet:  42%|████▏     | 172/412 [00:10<00:06, 38.89it/s]"
     ]
    },
    {
     "name": "stdout",
     "output_type": "stream",
     "text": [
      "Failed requesting I Love Her So\n",
      "Failed requesting Black Stockings, Pt. 1\n",
      "Failed requesting Dream Girl\n",
      "Failed requesting Dream Girl\n",
      "Failed requesting Dream Girl\n",
      "Failed requesting Dream Girl\n",
      "Failed requesting Confusin' Blues\n",
      "Failed requesting Confusin' Blues\n",
      "Failed requesting Confusin' Blues\n"
     ]
    },
    {
     "name": "stderr",
     "output_type": "stream",
     "text": [
      "Processing Jesse Belvin_tracks.parquet:  44%|████▍     | 181/412 [00:10<00:06, 38.15it/s]"
     ]
    },
    {
     "name": "stdout",
     "output_type": "stream",
     "text": [
      "Failed requesting Confusin' Blues\n",
      "Failed requesting Goodnight My Love\n",
      "Failed requesting Goodnight My Love\n",
      "Failed requesting Goodnight My Love\n",
      "Failed requesting Goodnight My Love\n",
      "Failed requesting Goodnight My Love\n",
      "Failed requesting Goodnight My Love\n",
      "Failed requesting Goodnight My Love\n",
      "Failed requesting Goodnight My Love\n"
     ]
    },
    {
     "name": "stderr",
     "output_type": "stream",
     "text": [
      "Processing Jesse Belvin_tracks.parquet:  46%|████▌     | 189/412 [00:10<00:06, 35.09it/s]"
     ]
    },
    {
     "name": "stdout",
     "output_type": "stream",
     "text": [
      "Failed requesting Don't Stop - Pretty Baby\n",
      "Failed requesting Daddy Loves Baby\n",
      "Failed requesting Daddy Loves Baby\n",
      "Failed requesting Blues Has Got To Me\n",
      "Failed requesting Come Back\n",
      "Failed requesting Where's My Girl?\n",
      "Failed requesting Where's My Girl?\n",
      "Failed requesting Gone\n"
     ]
    },
    {
     "name": "stderr",
     "output_type": "stream",
     "text": [
      "Processing Jesse Belvin_tracks.parquet:  48%|████▊     | 197/412 [00:10<00:06, 34.84it/s]"
     ]
    },
    {
     "name": "stdout",
     "output_type": "stream",
     "text": [
      "Failed requesting Gone\n",
      "Failed requesting Gone\n",
      "Failed requesting One Little Blessing\n",
      "Failed requesting Ding Dong Baby\n",
      "Failed requesting Ding Dong Baby\n",
      "Failed requesting Love, Love Of My Life\n",
      "Failed requesting My Love Comes Tumbling Down\n",
      "Failed requesting Hang Your Tears Out To Dry aka Dry Your Tears\n"
     ]
    },
    {
     "name": "stderr",
     "output_type": "stream",
     "text": [
      "Processing Jesse Belvin_tracks.parquet:  50%|████▉     | 205/412 [00:11<00:05, 34.82it/s]"
     ]
    },
    {
     "name": "stdout",
     "output_type": "stream",
     "text": [
      "Failed requesting Hang Your Tears Out To Dry aka Dry Your Tears\n",
      "Failed requesting Love Me\n",
      "Failed requesting Love Me\n",
      "Failed requesting Let's Try Romance\n",
      "Failed requesting Baby Don't Go\n",
      "Failed requesting Baby Don't Go\n",
      "Failed requesting Love of My Life\n"
     ]
    },
    {
     "name": "stderr",
     "output_type": "stream",
     "text": [
      "Processing Jesse Belvin_tracks.parquet:  51%|█████     | 209/412 [00:11<00:05, 35.76it/s]"
     ]
    },
    {
     "name": "stdout",
     "output_type": "stream",
     "text": [
      "Failed requesting Open Up Your Heart\n",
      "Failed requesting Puddin' 'n' Tane\n",
      "Failed requesting Goodnight My Love\n",
      "Failed requesting Goodnight My Love\n",
      "Failed requesting Goodnight My Love\n",
      "Failed requesting Goodnight My Love\n",
      "Failed requesting Goodnight My Love\n",
      "Failed requesting Goodnight My Love\n",
      "Failed requesting Goodnight My Love\n"
     ]
    },
    {
     "name": "stderr",
     "output_type": "stream",
     "text": [
      "Processing Jesse Belvin_tracks.parquet:  52%|█████▏    | 214/412 [00:11<00:05, 37.92it/s]"
     ]
    },
    {
     "name": "stdout",
     "output_type": "stream",
     "text": [
      "Failed requesting Goodnight My Love\n",
      "Failed requesting (I Love You For) Sentimental Reasons\n",
      "Failed requesting (I Love You For) Sentimental Reasons\n"
     ]
    },
    {
     "name": "stderr",
     "output_type": "stream",
     "text": [
      "Processing Jesse Belvin_tracks.parquet:  54%|█████▍    | 222/412 [00:11<00:06, 31.37it/s]"
     ]
    },
    {
     "name": "stdout",
     "output_type": "stream",
     "text": [
      "Failed requesting I'll Mess You Up\n",
      "Failed requesting I'll Mess You Up\n",
      "Failed requesting Once Upon a Time\n",
      "Failed requesting Once Upon a Time\n",
      "Failed requesting I'm in Love\n",
      "Failed requesting I'm in Love\n",
      "Failed requesting Girl of My Dreams\n",
      "Failed requesting Girl of My Dreams\n",
      "Failed requesting My Desire\n"
     ]
    },
    {
     "name": "stderr",
     "output_type": "stream",
     "text": [
      "Processing Jesse Belvin_tracks.parquet:  56%|█████▌    | 231/412 [00:11<00:05, 35.54it/s]"
     ]
    },
    {
     "name": "stdout",
     "output_type": "stream",
     "text": [
      "Failed requesting My Desire\n",
      "Failed requesting Don't Close the Door\n",
      "Failed requesting Don't Close the Door\n",
      "Failed requesting Señorita\n",
      "Failed requesting Señorita\n",
      "Failed requesting I Want to Know Why\n",
      "Failed requesting I Want to Know Why\n",
      "Failed requesting Johnny One Note\n"
     ]
    },
    {
     "name": "stderr",
     "output_type": "stream",
     "text": [
      "Processing Jesse Belvin_tracks.parquet:  58%|█████▊    | 239/412 [00:12<00:05, 34.39it/s]"
     ]
    },
    {
     "name": "stdout",
     "output_type": "stream",
     "text": [
      "Failed requesting Like Someone In Love\n",
      "Failed requesting Surrey With The Fringe On Top\n",
      "Failed requesting You Smell So Good\n",
      "Failed requesting I'm Glad There Is You\n",
      "Failed requesting My Ship\n",
      "Failed requesting Squeeze Me\n",
      "Failed requesting Daybreak\n"
     ]
    },
    {
     "name": "stderr",
     "output_type": "stream",
     "text": [
      "Processing Jesse Belvin_tracks.parquet:  60%|█████▉    | 247/412 [00:12<00:04, 33.81it/s]"
     ]
    },
    {
     "name": "stdout",
     "output_type": "stream",
     "text": [
      "Failed requesting All I Need Is You\n",
      "Failed requesting When The Sun Comes Out\n",
      "Failed requesting You're So Bad For Me\n",
      "Failed requesting Time After Time\n",
      "Failed requesting It's All Right with Me - from \"Mr. Easy\"\n",
      "Failed requesting Something Happens to Me - from \"Mr. Easy\"\n",
      "Failed requesting What's New - from \"Mr. Easy\"\n"
     ]
    },
    {
     "name": "stderr",
     "output_type": "stream",
     "text": [
      "Processing Jesse Belvin_tracks.parquet:  62%|██████▏   | 255/412 [00:12<00:04, 34.77it/s]"
     ]
    },
    {
     "name": "stdout",
     "output_type": "stream",
     "text": [
      "Failed requesting In the Still of the Night - from \"Mr. Easy\"\n",
      "Failed requesting Blues in the Night - from \"Mr. Easy\"\n",
      "Failed requesting Let There Be Love - from \"Mr. Easy\"\n",
      "Failed requesting Imagination - from \"Mr. Easy\"\n",
      "Failed requesting The Best Is Yet to Come - from \"Mr. Easy\"\n",
      "Failed requesting Dream Girl\n",
      "Failed requesting Dream Girl\n",
      "Failed requesting Dream Girl\n"
     ]
    },
    {
     "name": "stderr",
     "output_type": "stream",
     "text": [
      "Processing Jesse Belvin_tracks.parquet:  63%|██████▎   | 260/412 [00:12<00:04, 37.38it/s]"
     ]
    },
    {
     "name": "stdout",
     "output_type": "stream",
     "text": [
      "Failed requesting Dream Girl\n",
      "Failed requesting Confusin' Blues\n",
      "Failed requesting Confusin' Blues\n",
      "Failed requesting Confusin' Blues\n",
      "Failed requesting Confusin' Blues\n",
      "Failed requesting Goodnight My Love\n"
     ]
    },
    {
     "name": "stderr",
     "output_type": "stream",
     "text": [
      "Processing Jesse Belvin_tracks.parquet:  66%|██████▋   | 273/412 [00:20<00:46,  2.99it/s]"
     ]
    },
    {
     "name": "stdout",
     "output_type": "stream",
     "text": [
      "Failed requesting Gone\n",
      "Failed requesting Gone\n",
      "Failed requesting Gone\n",
      "Failed requesting Baby Don't Go\n"
     ]
    },
    {
     "name": "stderr",
     "output_type": "stream",
     "text": [
      "Processing Jesse Belvin_tracks.parquet:  68%|██████▊   | 280/412 [00:21<00:31,  4.19it/s]"
     ]
    },
    {
     "name": "stdout",
     "output_type": "stream",
     "text": [
      "Failed requesting Hang Your Tears Out to Dry\n",
      "Failed requesting I'm Only a Fool\n",
      "Failed requesting Trouble and Misery\n",
      "Failed requesting Where's My Girl\n",
      "Failed requesting Love, Love of My Life\n",
      "Failed requesting One Little Blessing\n",
      "Failed requesting Betty My Darling\n"
     ]
    },
    {
     "name": "stderr",
     "output_type": "stream",
     "text": [
      "Processing Jesse Belvin_tracks.parquet:  70%|██████▉   | 288/412 [00:21<00:15,  7.95it/s]"
     ]
    },
    {
     "name": "stdout",
     "output_type": "stream",
     "text": [
      "Failed requesting Dear Heart\n",
      "Failed requesting Hum De Dum\n",
      "Failed requesting Girl in My Dream\n",
      "Failed requesting I Wanna Know Why\n",
      "Failed requesting Let Me Love You Tonight\n",
      "Failed requesting Beware\n",
      "Failed requesting My Satellite\n",
      "Failed requesting Dream Girl\n",
      "Failed requesting Dream Girl\n"
     ]
    },
    {
     "name": "stderr",
     "output_type": "stream",
     "text": [
      "Processing Jesse Belvin_tracks.parquet:  72%|███████▏  | 298/412 [00:23<00:18,  6.29it/s]"
     ]
    },
    {
     "name": "stdout",
     "output_type": "stream",
     "text": [
      "Failed requesting Confusin' Blues\n",
      "Failed requesting Confusin' Blues\n",
      "Failed requesting Confusin' Blues\n",
      "Failed requesting Confusin' Blues\n",
      "Failed requesting Goodnight My Love\n",
      "Failed requesting Goodnight My Love\n",
      "Failed requesting Goodnight My Love\n",
      "Failed requesting Goodnight My Love\n"
     ]
    },
    {
     "name": "stderr",
     "output_type": "stream",
     "text": [
      "Processing Jesse Belvin_tracks.parquet:  73%|███████▎  | 301/412 [00:24<00:23,  4.74it/s]"
     ]
    },
    {
     "name": "stdout",
     "output_type": "stream",
     "text": [
      "Failed requesting Goodnight My Love\n"
     ]
    },
    {
     "name": "stderr",
     "output_type": "stream",
     "text": [
      "Processing Jesse Belvin_tracks.parquet:  75%|███████▌  | 309/412 [00:27<00:22,  4.63it/s]"
     ]
    },
    {
     "name": "stdout",
     "output_type": "stream",
     "text": [
      "Failed requesting Daddy Loves Baby\n",
      "Failed requesting Daddy Loves Baby\n",
      "Failed requesting Where's My Girl?\n",
      "Failed requesting Where's My Girl?\n",
      "Failed requesting Gone\n",
      "Failed requesting Gone\n",
      "Failed requesting Gone\n",
      "Failed requesting Ding Dong Baby\n"
     ]
    },
    {
     "name": "stderr",
     "output_type": "stream",
     "text": [
      "Processing Jesse Belvin_tracks.parquet:  77%|███████▋  | 319/412 [00:27<00:08, 10.40it/s]"
     ]
    },
    {
     "name": "stdout",
     "output_type": "stream",
     "text": [
      "Failed requesting Ding Dong Baby\n",
      "Failed requesting Hang Your Tears Out To Dry aka Dry Your Tears\n",
      "Failed requesting Hang Your Tears Out To Dry aka Dry Your Tears\n",
      "Failed requesting Love Me\n",
      "Failed requesting Love Me\n",
      "Failed requesting Baby Don't Go\n",
      "Failed requesting Baby Don't Go\n",
      "Failed requesting My Funny Valentine\n",
      "Failed requesting Come Back\n"
     ]
    },
    {
     "name": "stderr",
     "output_type": "stream",
     "text": [
      "Processing Jesse Belvin_tracks.parquet:  79%|███████▉  | 326/412 [00:28<00:10,  8.29it/s]"
     ]
    },
    {
     "name": "stdout",
     "output_type": "stream",
     "text": [
      "Failed requesting Now You Know\n",
      "Failed requesting I'm Afraid the Masquerade Is Over\n",
      "Failed requesting Puddin' N' Tane\n",
      "Failed requesting Let's Try Romance\n",
      "Failed requesting Don't Stop (Pretty Baby)\n"
     ]
    },
    {
     "name": "stderr",
     "output_type": "stream",
     "text": [
      "Processing Jesse Belvin_tracks.parquet:  80%|███████▉  | 329/412 [00:29<00:15,  5.38it/s]"
     ]
    },
    {
     "name": "stdout",
     "output_type": "stream",
     "text": [
      "Failed requesting Secret Love\n",
      "Failed requesting It's All Right With me\n",
      "Failed requesting Something Happens To Me\n",
      "Failed requesting What's New\n"
     ]
    },
    {
     "name": "stderr",
     "output_type": "stream",
     "text": [
      "Processing Jesse Belvin_tracks.parquet:  82%|████████▏ | 337/412 [00:31<00:11,  6.33it/s]"
     ]
    },
    {
     "name": "stdout",
     "output_type": "stream",
     "text": [
      "Failed requesting Blues In The Night\n",
      "Failed requesting Let There Be Love\n",
      "Failed requesting Imagination\n",
      "Failed requesting The Best Is Yet To Come\n",
      "Failed requesting Makin' Whoopee!\n",
      "Failed requesting Angel Eyes\n",
      "Failed requesting I'll Buy You A Star\n"
     ]
    },
    {
     "name": "stderr",
     "output_type": "stream",
     "text": [
      "Processing Jesse Belvin_tracks.parquet:  84%|████████▍ | 346/412 [00:31<00:05, 11.83it/s]"
     ]
    },
    {
     "name": "stdout",
     "output_type": "stream",
     "text": [
      "Failed requesting The Very Thought Of You\n",
      "Failed requesting Goodnight My Love\n",
      "Failed requesting Goodnight My Love\n",
      "Failed requesting Goodnight My Love\n",
      "Failed requesting Goodnight My Love\n",
      "Failed requesting Goodnight My Love\n",
      "Failed requesting Goodnight My Love\n",
      "Failed requesting Goodnight My Love\n",
      "Failed requesting Goodnight My Love\n"
     ]
    },
    {
     "name": "stderr",
     "output_type": "stream",
     "text": [
      "Processing Jesse Belvin_tracks.parquet:  86%|████████▌ | 354/412 [00:31<00:03, 17.60it/s]"
     ]
    },
    {
     "name": "stdout",
     "output_type": "stream",
     "text": [
      "Failed requesting The Best Is Yet To Come\n",
      "Failed requesting Let There Be Love\n",
      "Failed requesting I'll Buy You A Star\n",
      "Failed requesting Something Happens To Me\n",
      "Failed requesting In The Still Of The Night\n",
      "Failed requesting Guess Who\n",
      "Failed requesting Angel Eyes\n",
      "Failed requesting The Very Thought Of You\n"
     ]
    },
    {
     "name": "stderr",
     "output_type": "stream",
     "text": [
      "Processing Jesse Belvin_tracks.parquet:  88%|████████▊ | 362/412 [00:31<00:02, 24.04it/s]"
     ]
    },
    {
     "name": "stdout",
     "output_type": "stream",
     "text": [
      "Failed requesting Makin' Whoopee!\n",
      "Failed requesting What's New\n",
      "Failed requesting It's Allright With Me\n",
      "Failed requesting Imagination\n",
      "Failed requesting Blues In The Night\n",
      "Failed requesting Goodnight My Love\n",
      "Failed requesting Goodnight My Love\n",
      "Failed requesting Goodnight My Love\n",
      "Failed requesting Goodnight My Love\n"
     ]
    },
    {
     "name": "stderr",
     "output_type": "stream",
     "text": [
      "Processing Jesse Belvin_tracks.parquet:  90%|█████████ | 372/412 [00:31<00:01, 32.03it/s]"
     ]
    },
    {
     "name": "stdout",
     "output_type": "stream",
     "text": [
      "Failed requesting Goodnight My Love\n",
      "Failed requesting Goodnight My Love\n",
      "Failed requesting Goodnight My Love\n",
      "Failed requesting Goodnight My Love\n",
      "Failed requesting (I Love You For) Sentimental Reasons\n",
      "Failed requesting (I Love You For) Sentimental Reasons\n",
      "Failed requesting I'll Mess You Up\n",
      "Failed requesting I'll Mess You Up\n",
      "Failed requesting Once Upon a Time\n"
     ]
    },
    {
     "name": "stderr",
     "output_type": "stream",
     "text": [
      "Processing Jesse Belvin_tracks.parquet:  93%|█████████▎| 382/412 [00:32<00:00, 36.35it/s]"
     ]
    },
    {
     "name": "stdout",
     "output_type": "stream",
     "text": [
      "Failed requesting Once Upon a Time\n",
      "Failed requesting I'm in Love\n",
      "Failed requesting I'm in Love\n",
      "Failed requesting Girl of My Dreams\n",
      "Failed requesting Girl of My Dreams\n",
      "Failed requesting My Desire\n",
      "Failed requesting My Desire\n",
      "Failed requesting Don't Close the Door\n",
      "Failed requesting Don't Close the Door\n"
     ]
    },
    {
     "name": "stderr",
     "output_type": "stream",
     "text": [
      "Processing Jesse Belvin_tracks.parquet:  95%|█████████▍| 391/412 [00:32<00:00, 35.16it/s]"
     ]
    },
    {
     "name": "stdout",
     "output_type": "stream",
     "text": [
      "Failed requesting Señorita\n",
      "Failed requesting Señorita\n",
      "Failed requesting I Want to Know Why\n",
      "Failed requesting I Want to Know Why\n",
      "Failed requesting Let Me Love You Tonight\n",
      "Failed requesting I Need You So\n",
      "Failed requesting My Satellite\n",
      "Failed requesting Just to Say Hello\n"
     ]
    },
    {
     "name": "stderr",
     "output_type": "stream",
     "text": [
      "Processing Jesse Belvin_tracks.parquet:  96%|█████████▌| 395/412 [00:32<00:00, 33.48it/s]"
     ]
    },
    {
     "name": "stdout",
     "output_type": "stream",
     "text": [
      "Failed requesting Dream House\n",
      "Failed requesting I'm Not Free\n",
      "Failed requesting You Send Me\n",
      "Failed requesting By My Side\n",
      "Failed requesting Let's Make Up\n",
      "Failed requesting Summertime\n",
      "Failed requesting My Last Goodbye\n"
     ]
    },
    {
     "name": "stderr",
     "output_type": "stream",
     "text": [
      "Processing Jesse Belvin_tracks.parquet:  98%|█████████▊| 403/412 [00:32<00:00, 33.87it/s]"
     ]
    },
    {
     "name": "stdout",
     "output_type": "stream",
     "text": [
      "Failed requesting The Very Thought Of You\n",
      "Failed requesting I'll Buy You A Star\n",
      "Failed requesting Angel Eyes\n",
      "Failed requesting Makin' Whoopee\n",
      "Failed requesting The Best Is Yet To Come\n",
      "Failed requesting Imagination\n"
     ]
    },
    {
     "name": "stderr",
     "output_type": "stream",
     "text": [
      "Processing Jesse Belvin_tracks.parquet: 100%|██████████| 412/412 [00:33<00:00, 12.45it/s]"
     ]
    },
    {
     "name": "stdout",
     "output_type": "stream",
     "text": [
      "Failed requesting Let There Be Love\n",
      "Failed requesting Blues In The Night\n",
      "Failed requesting In The Still Of The Night\n",
      "Failed requesting What's New\n",
      "Failed requesting Something Happens To Me\n",
      "Failed requesting It's All Right With Me\n",
      "Failed requesting Here's A Heart\n"
     ]
    },
    {
     "name": "stderr",
     "output_type": "stream",
     "text": [
      "\n",
      "Processing Jesse Dayton_tracks.parquet:   4%|▎         | 4/109 [00:00<00:03, 31.07it/s]"
     ]
    },
    {
     "name": "stdout",
     "output_type": "stream",
     "text": [
      "Failed requesting Burning House of Love\n",
      "Failed requesting Pretend I Never Happened\n",
      "Failed requesting Wild Man From Borneo\n",
      "Failed requesting At The Crossroads\n",
      "Failed requesting White Freightliner Blues\n",
      "Failed requesting Born With A Tail\n",
      "Failed requesting Just To Satisfy You\n",
      "Failed requesting I'll Be There\n"
     ]
    },
    {
     "name": "stderr",
     "output_type": "stream",
     "text": [
      "Processing Jesse Dayton_tracks.parquet:  11%|█         | 12/109 [00:00<00:02, 33.75it/s]"
     ]
    },
    {
     "name": "stdout",
     "output_type": "stream",
     "text": [
      "Failed requesting Sold American\n",
      "Failed requesting Story Of My Life\n",
      "Failed requesting Intro House Party\n",
      "Failed requesting Lo-Fi Lover\n",
      "Failed requesting Beaumonster Boogie\n",
      "Failed requesting Carencro Girl\n",
      "Failed requesting Mardi Gras Shake\n",
      "Failed requesting Feelin's and Business\n"
     ]
    },
    {
     "name": "stderr",
     "output_type": "stream",
     "text": [
      "Processing Jesse Dayton_tracks.parquet:  18%|█▊        | 20/109 [00:00<00:02, 33.98it/s]"
     ]
    },
    {
     "name": "stdout",
     "output_type": "stream",
     "text": [
      "Failed requesting House Party 2340 Dauphine\n",
      "Failed requesting Outro House Party\n",
      "Failed requesting Redneck Friend\n",
      "Failed requesting Harvest\n",
      "Failed requesting If You Could Read My Mind\n",
      "Failed requesting Bankrobber\n",
      "Failed requesting She's a Heartbreaker\n",
      "Failed requesting Country Comfort\n"
     ]
    },
    {
     "name": "stderr",
     "output_type": "stream",
     "text": [
      "Processing Jesse Dayton_tracks.parquet:  26%|██▌       | 28/109 [00:00<00:02, 32.78it/s]"
     ]
    },
    {
     "name": "stdout",
     "output_type": "stream",
     "text": [
      "Failed requesting She Does It Right\n",
      "Failed requesting Whole Lotta Rosie\n",
      "Failed requesting Just What I Needed\n",
      "Failed requesting State Trooper\n",
      "Failed requesting Intro - Live\n",
      "Failed requesting Daddy Was a Badass (Live)\n",
      "Failed requesting The Way We Are (Intro) - Live\n"
     ]
    },
    {
     "name": "stderr",
     "output_type": "stream",
     "text": [
      "Processing Jesse Dayton_tracks.parquet:  33%|███▎      | 36/109 [00:01<00:02, 33.78it/s]"
     ]
    },
    {
     "name": "stdout",
     "output_type": "stream",
     "text": [
      "Failed requesting The Way We Are - Live\n",
      "Failed requesting May Have to Do It (Don't Have to Like It) (Intro) - Live\n",
      "Failed requesting May Have to Do It (Don't Have to Like It) - Live\n",
      "Failed requesting Hurtin' Behind the Pine Curtain (Intro) - Live\n",
      "Failed requesting Hurtin' Behind the Pine Curtain - Live\n",
      "Failed requesting Lately I've Let Things Slide (Intro) - Live\n",
      "Failed requesting Lately I've Let Things Slide - Live\n"
     ]
    },
    {
     "name": "stderr",
     "output_type": "stream",
     "text": [
      "Processing Jesse Dayton_tracks.parquet:  40%|████      | 44/109 [00:01<00:01, 34.11it/s]"
     ]
    },
    {
     "name": "stdout",
     "output_type": "stream",
     "text": [
      "Failed requesting Take out the Trash (Intro) - Live\n",
      "Failed requesting Take out the Trash - Live\n",
      "Failed requesting Charlottesville (Intro) - Live\n",
      "Failed requesting Charlottesville - Live\n",
      "Failed requesting May Have to Do It (Don't Have to Like It)\n",
      "Failed requesting Jailhouse Religion\n",
      "Failed requesting Changin' My Ways\n",
      "Failed requesting Hurtin' Behind the Pine Curtain\n"
     ]
    },
    {
     "name": "stderr",
     "output_type": "stream",
     "text": [
      "Processing Jesse Dayton_tracks.parquet:  48%|████▊     | 52/109 [00:01<00:01, 35.23it/s]"
     ]
    },
    {
     "name": "stdout",
     "output_type": "stream",
     "text": [
      "Failed requesting We Lost It\n",
      "Failed requesting Tried to Quit (But I Just Quit Tryin')\n",
      "Failed requesting Charlottesville\n",
      "Failed requesting Belly of the Beast\n",
      "Failed requesting Burnin'\n",
      "Failed requesting Killer on the Lamb\n",
      "Failed requesting Daddy Was a Badass\n",
      "Failed requesting Holy Ghost Rock n Roller\n"
     ]
    },
    {
     "name": "stderr",
     "output_type": "stream",
     "text": [
      "Processing Jesse Dayton_tracks.parquet:  55%|█████▌    | 60/109 [00:01<00:01, 36.16it/s]"
     ]
    },
    {
     "name": "stdout",
     "output_type": "stream",
     "text": [
      "Failed requesting The Way We Are\n",
      "Failed requesting Eatin' Crow and Drinkin' Sand\n",
      "Failed requesting Possum Ran over My Grave\n",
      "Failed requesting Take out the Trash\n",
      "Failed requesting Mrs. Victoria (Beautiful Thing)\n",
      "Failed requesting 3 Pecker Goat\n",
      "Failed requesting Match Made in Heaven\n",
      "Failed requesting I'm at Home Gettin' Hammered (While She's out Gettin' Nailed)\n"
     ]
    },
    {
     "name": "stderr",
     "output_type": "stream",
     "text": [
      "Processing Jesse Dayton_tracks.parquet:  62%|██████▏   | 68/109 [00:01<00:01, 34.97it/s]"
     ]
    },
    {
     "name": "stdout",
     "output_type": "stream",
     "text": [
      "Failed requesting Never Started Livin'\n",
      "Failed requesting Big State Motel\n",
      "Failed requesting Harris County Blues\n",
      "Failed requesting Never Turned My Back On You\n",
      "Failed requesting One Year, Three Months, A Week To The Day\n",
      "Failed requesting Jumped Head First\n",
      "Failed requesting Creek Between Heaven And Hell\n",
      "Failed requesting Arkansas Chrome\n"
     ]
    },
    {
     "name": "stderr",
     "output_type": "stream",
     "text": [
      "Processing Jesse Dayton_tracks.parquet:  66%|██████▌   | 72/109 [00:02<00:01, 35.28it/s]"
     ]
    },
    {
     "name": "stdout",
     "output_type": "stream",
     "text": [
      "Failed requesting River Done Rose\n",
      "Failed requesting Angel's Touch\n",
      "Failed requesting Beginning Of The End\n",
      "Failed requesting Think I'll Go Out Tonight\n",
      "Failed requesting Every Now And Then\n"
     ]
    },
    {
     "name": "stderr",
     "output_type": "stream",
     "text": [
      "Processing Jesse Dayton_tracks.parquet:  73%|███████▎  | 80/109 [00:02<00:01, 25.61it/s]"
     ]
    },
    {
     "name": "stdout",
     "output_type": "stream",
     "text": [
      "Failed requesting Room Full Of Blues\n",
      "Failed requesting Old Faithful\n",
      "Failed requesting Molasses Girl\n",
      "Failed requesting Blackjack\n",
      "Failed requesting Rapid City South Dakota\n"
     ]
    },
    {
     "name": "stderr",
     "output_type": "stream",
     "text": [
      "Processing Jesse Dayton_tracks.parquet:  77%|███████▋  | 84/109 [00:02<00:00, 27.42it/s]"
     ]
    },
    {
     "name": "stdout",
     "output_type": "stream",
     "text": [
      "Failed requesting Autograph\n",
      "Failed requesting Lady Yesterday\n",
      "Failed requesting Nashville Casualty And Life\n",
      "Failed requesting Sold American\n",
      "Failed requesting Marilyn & Joe\n",
      "Failed requesting Twirl\n"
     ]
    },
    {
     "name": "stderr",
     "output_type": "stream",
     "text": [
      "Processing Jesse Dayton_tracks.parquet:  84%|████████▍ | 92/109 [00:02<00:00, 29.83it/s]"
     ]
    },
    {
     "name": "stdout",
     "output_type": "stream",
     "text": [
      "Failed requesting Highway CafÃƒÂ©\n",
      "Failed requesting Wild Man From Borneo\n",
      "Failed requesting The Silver Eagle Express\n",
      "Failed requesting One For The Dance Halls\n",
      "Failed requesting Camden Town\n",
      "Failed requesting Lately I've Let Things Slide\n",
      "Failed requesting Pretty Girls Make The World Go 'Round\n"
     ]
    },
    {
     "name": "stderr",
     "output_type": "stream",
     "text": [
      "Processing Jesse Dayton_tracks.parquet:  92%|█████████▏| 100/109 [00:03<00:00, 31.68it/s]"
     ]
    },
    {
     "name": "stdout",
     "output_type": "stream",
     "text": [
      "Failed requesting Back To Back\n",
      "Failed requesting Falling Apart\n",
      "Failed requesting The Bad 'Ol Days\n",
      "Failed requesting The Good Times Are Now\n",
      "Failed requesting The Years\n",
      "Failed requesting Texas Bound\n",
      "Failed requesting Loretta\n",
      "Failed requesting Mexican Blackbird\n"
     ]
    },
    {
     "name": "stderr",
     "output_type": "stream",
     "text": [
      "Processing Jesse Dayton_tracks.parquet: 100%|██████████| 109/109 [00:03<00:00, 32.63it/s]"
     ]
    },
    {
     "name": "stdout",
     "output_type": "stream",
     "text": [
      "Failed requesting Why Do I Love You\n",
      "Failed requesting Sometimes\n",
      "Failed requesting Road Worn & Weary\n",
      "Failed requesting Cornbread, Peas and Black Molassas\n",
      "Failed requesting Swan Song\n",
      "Failed requesting Waymore's Blues\n",
      "Failed requesting Coco Loco\n",
      "Failed requesting Where The Beer Keeps Flowin'\n"
     ]
    },
    {
     "name": "stderr",
     "output_type": "stream",
     "text": [
      "\n",
      "Processing Jesse Fuller_tracks.parquet:   2%|▏         | 7/411 [00:00<00:12, 31.74it/s]"
     ]
    },
    {
     "name": "stdout",
     "output_type": "stream",
     "text": [
      "Failed requesting San Francisco Bay Blues\n",
      "Failed requesting Little Black Train\n",
      "Failed requesting Morning Blues\n",
      "Failed requesting Brownskin Girl\n",
      "Failed requesting Midnight Cold\n",
      "Failed requesting John Henry\n",
      "Failed requesting John Henry\n"
     ]
    },
    {
     "name": "stderr",
     "output_type": "stream",
     "text": [
      "Processing Jesse Fuller_tracks.parquet:   3%|▎         | 11/411 [00:00<00:12, 33.01it/s]"
     ]
    },
    {
     "name": "stdout",
     "output_type": "stream",
     "text": [
      "Failed requesting John Henry\n",
      "Failed requesting Whoa Mule\n",
      "Failed requesting I Got a Mind to Ramble\n",
      "Failed requesting Crazy About a Woman\n",
      "Failed requesting Where Could I Go but to the Lord\n",
      "Failed requesting Stealin' Back to My Old Time Used to Be\n",
      "Failed requesting Jesse's New Midnight Special\n"
     ]
    },
    {
     "name": "stderr",
     "output_type": "stream",
     "text": [
      "Processing Jesse Fuller_tracks.parquet:   5%|▍         | 19/411 [00:00<00:11, 34.10it/s]"
     ]
    },
    {
     "name": "stdout",
     "output_type": "stream",
     "text": [
      "Failed requesting Take This Hammer\n",
      "Failed requesting Take This Hammer\n",
      "Failed requesting Take This Hammer\n",
      "Failed requesting Linin' Track - Instrumental\n",
      "Failed requesting Linin' Track - Instrumental\n",
      "Failed requesting Linin' Track - Instrumental\n",
      "Failed requesting Linin' Track - Instrumental\n",
      "Failed requesting I'm Going To Meet My Loving Mother - Instrumental\n"
     ]
    },
    {
     "name": "stderr",
     "output_type": "stream",
     "text": [
      "Processing Jesse Fuller_tracks.parquet:   7%|▋         | 27/411 [00:00<00:10, 35.51it/s]"
     ]
    },
    {
     "name": "stdout",
     "output_type": "stream",
     "text": [
      "Failed requesting I'm Going To Meet My Loving Mother - Instrumental\n",
      "Failed requesting I'm Going To Meet My Loving Mother - Instrumental\n",
      "Failed requesting Tiger Rag - Instrumental\n",
      "Failed requesting Tiger Rag - Instrumental\n",
      "Failed requesting Tiger Rag - Instrumental\n",
      "Failed requesting Memphis Boogie - Instrumental\n",
      "Failed requesting Memphis Boogie - Instrumental\n",
      "Failed requesting Memphis Boogie - Instrumental\n"
     ]
    },
    {
     "name": "stderr",
     "output_type": "stream",
     "text": [
      "Processing Jesse Fuller_tracks.parquet:   9%|▊         | 35/411 [00:01<00:10, 36.10it/s]"
     ]
    },
    {
     "name": "stdout",
     "output_type": "stream",
     "text": [
      "Failed requesting Raise A Ruckus - Instrumental\n",
      "Failed requesting Raise A Ruckus - Instrumental\n",
      "Failed requesting Raise A Ruckus - Instrumental\n",
      "Failed requesting By And By - Instrumental\n",
      "Failed requesting By And By - Instrumental\n",
      "Failed requesting By And By - Instrumental\n",
      "Failed requesting Fingerbuster (Jesse Fuller: Jazz, Folk Songs, Spirituals & Ballads)\n",
      "Failed requesting Stagolee (Jesse Fuller: Jazz, Folk Songs, Spirituals & Ballads)\n"
     ]
    },
    {
     "name": "stderr",
     "output_type": "stream",
     "text": [
      "Processing Jesse Fuller_tracks.parquet:  10%|█         | 43/411 [00:01<00:10, 36.51it/s]"
     ]
    },
    {
     "name": "stdout",
     "output_type": "stream",
     "text": [
      "Failed requesting 99 Years - Instrumental\n",
      "Failed requesting 99 Years - Instrumental\n",
      "Failed requesting 99 Years - Instrumental\n",
      "Failed requesting Hesitation Blues - Instrumental\n",
      "Failed requesting Hesitation Blues - Instrumental\n",
      "Failed requesting Hesitation Blues - Instrumental\n",
      "Failed requesting Leavin' Memphis, Frisco Bound\n",
      "Failed requesting Leavin' Memphis, Frisco Bound\n"
     ]
    },
    {
     "name": "stderr",
     "output_type": "stream",
     "text": [
      "Processing Jesse Fuller_tracks.parquet:  12%|█▏        | 51/411 [00:01<00:10, 35.16it/s]"
     ]
    },
    {
     "name": "stdout",
     "output_type": "stream",
     "text": [
      "Failed requesting Leavin' Memphis, Frisco Bound\n",
      "Failed requesting Take It Slow and Easy (Jesse Fuller: The Lone Cat)\n",
      "Failed requesting The Monkey and the Engineer (Jesse Fuller: The Lone Cat)\n",
      "Failed requesting New Corrine (Jesse Fuller: The Lone Cat)\n",
      "Failed requesting Guitar Blues (Jesse Fuller: The Lone Cat)\n",
      "Failed requesting Runnin' Wild (Jesse Fuller: The Lone Cat)\n",
      "Failed requesting Hey Hey (Jesse Fuller: The Lone Cat)\n"
     ]
    },
    {
     "name": "stderr",
     "output_type": "stream",
     "text": [
      "Processing Jesse Fuller_tracks.parquet:  15%|█▍        | 60/411 [00:01<00:09, 36.91it/s]"
     ]
    },
    {
     "name": "stdout",
     "output_type": "stream",
     "text": [
      "Failed requesting In the Great Land (Jesse Fuller: The Lone Cat)\n",
      "Failed requesting The Way You Treat Me (Jesse Fuller: The Lone Cat)\n",
      "Failed requesting Take This Hammer\n",
      "Failed requesting Take This Hammer\n",
      "Failed requesting Take This Hammer\n",
      "Failed requesting Linin' Track - Instrumental\n",
      "Failed requesting Linin' Track - Instrumental\n",
      "Failed requesting Linin' Track - Instrumental\n",
      "Failed requesting Linin' Track - Instrumental\n"
     ]
    },
    {
     "name": "stderr",
     "output_type": "stream",
     "text": [
      "Processing Jesse Fuller_tracks.parquet:  17%|█▋        | 68/411 [00:01<00:09, 35.37it/s]"
     ]
    },
    {
     "name": "stdout",
     "output_type": "stream",
     "text": [
      "Failed requesting Railroad Worksong\n",
      "Failed requesting Railroad Worksong\n",
      "Failed requesting Railroad Worksong\n",
      "Failed requesting Lining Up the Track\n",
      "Failed requesting Lining Up the Track\n",
      "Failed requesting Lining Up the Track\n",
      "Failed requesting John Henry\n",
      "Failed requesting John Henry\n"
     ]
    },
    {
     "name": "stderr",
     "output_type": "stream",
     "text": [
      "Processing Jesse Fuller_tracks.parquet:  18%|█▊        | 73/411 [00:02<00:09, 37.29it/s]"
     ]
    },
    {
     "name": "stdout",
     "output_type": "stream",
     "text": [
      "Failed requesting John Henry\n",
      "Failed requesting Railroad Blues\n",
      "Failed requesting Railroad Blues\n",
      "Failed requesting Railroad Blues\n",
      "Failed requesting San Francisco Bay Blues\n",
      "Failed requesting San Francisco Bay Blues\n"
     ]
    },
    {
     "name": "stderr",
     "output_type": "stream",
     "text": [
      "Processing Jesse Fuller_tracks.parquet:  20%|██        | 84/411 [00:04<00:39,  8.37it/s]"
     ]
    },
    {
     "name": "stdout",
     "output_type": "stream",
     "text": [
      "Failed requesting Hanging 'Round a Skin Game\n",
      "Failed requesting Hanging 'Round a Skin Game\n",
      "Failed requesting Hanging 'Round a Skin Game\n",
      "Failed requesting Leavin' Memphis, Frisco Bound\n",
      "Failed requesting Leavin' Memphis, Frisco Bound\n",
      "Failed requesting Got a Date at Half Past Eight\n",
      "Failed requesting Got a Date at Half Past Eight\n"
     ]
    },
    {
     "name": "stderr",
     "output_type": "stream",
     "text": [
      "Processing Jesse Fuller_tracks.parquet:  22%|██▏       | 91/411 [00:04<00:24, 12.83it/s]"
     ]
    },
    {
     "name": "stdout",
     "output_type": "stream",
     "text": [
      "Failed requesting Hump in My Back\n",
      "Failed requesting Hump in My Back\n",
      "Failed requesting Flavor in My Cream\n",
      "Failed requesting Flavor in My Cream\n",
      "Failed requesting Finger Twister\n",
      "Failed requesting Finger Twister\n",
      "Failed requesting Just Like a Ship on the Deep Blue Sea\n"
     ]
    },
    {
     "name": "stderr",
     "output_type": "stream",
     "text": [
      "Processing Jesse Fuller_tracks.parquet:  23%|██▎       | 96/411 [00:04<00:18, 17.04it/s]"
     ]
    },
    {
     "name": "stdout",
     "output_type": "stream",
     "text": [
      "Failed requesting Just Like a Ship on the Deep Blue Sea\n",
      "Failed requesting Motherless Children\n",
      "Failed requesting Motherless Children\n",
      "Failed requesting Amazing Grace\n",
      "Failed requesting Amazing Grace\n",
      "Failed requesting Hark from the Tomb\n",
      "Failed requesting Hark from the Tomb\n"
     ]
    },
    {
     "name": "stderr",
     "output_type": "stream",
     "text": [
      "Processing Jesse Fuller_tracks.parquet:  26%|██▌       | 105/411 [00:05<00:13, 22.56it/s]"
     ]
    },
    {
     "name": "stdout",
     "output_type": "stream",
     "text": [
      "Failed requesting As Long as I Can Feel the Spirit\n",
      "Failed requesting As Long as I Can Feel the Spirit\n",
      "Failed requesting Cincinnati Blues\n",
      "Failed requesting Cincinnati Blues\n",
      "Failed requesting Just a Closer Walk with Thee\n",
      "Failed requesting Just a Closer Walk with Thee\n",
      "Failed requesting Leavin' Memphis, Frisco Bound\n",
      "Failed requesting Leavin' Memphis, Frisco Bound\n",
      "Failed requesting Leavin' Memphis, Frisco Bound\n"
     ]
    },
    {
     "name": "stderr",
     "output_type": "stream",
     "text": [
      "Processing Jesse Fuller_tracks.parquet:  27%|██▋       | 113/411 [00:05<00:10, 27.43it/s]"
     ]
    },
    {
     "name": "stdout",
     "output_type": "stream",
     "text": [
      "Failed requesting Take It Slow And Easy\n",
      "Failed requesting The Monkey And The Engineer\n",
      "Failed requesting New Corrine\n",
      "Failed requesting Guitar Blues\n",
      "Failed requesting Runnin' Wild\n",
      "Failed requesting Hey, Hey\n",
      "Failed requesting In That Great Land\n"
     ]
    },
    {
     "name": "stderr",
     "output_type": "stream",
     "text": [
      "Processing Jesse Fuller_tracks.parquet:  29%|██▉       | 121/411 [00:05<00:09, 30.12it/s]"
     ]
    },
    {
     "name": "stdout",
     "output_type": "stream",
     "text": [
      "Failed requesting The Way You Treat Me\n",
      "Failed requesting Down Home Waltz\n",
      "Failed requesting Beat It On Down The Line\n",
      "Failed requesting Buck And Wing\n",
      "Failed requesting Leavin' Memphis, Frisco Bound\n",
      "Failed requesting Leavin' Memphis, Frisco Bound\n",
      "Failed requesting Leavin' Memphis, Frisco Bound\n",
      "Failed requesting Take It Slow And Easy\n"
     ]
    },
    {
     "name": "stderr",
     "output_type": "stream",
     "text": [
      "Processing Jesse Fuller_tracks.parquet:  31%|███▏      | 129/411 [00:05<00:08, 31.89it/s]"
     ]
    },
    {
     "name": "stdout",
     "output_type": "stream",
     "text": [
      "Failed requesting The Monkey And The Engineer\n",
      "Failed requesting New Corrine\n",
      "Failed requesting Guitar Blues\n",
      "Failed requesting Runnin' Wild\n",
      "Failed requesting Hey, Hey\n",
      "Failed requesting In That Great Land\n",
      "Failed requesting The Way You Treat Me\n"
     ]
    },
    {
     "name": "stderr",
     "output_type": "stream",
     "text": [
      "Processing Jesse Fuller_tracks.parquet:  34%|███▎      | 138/411 [00:06<00:08, 30.90it/s]"
     ]
    },
    {
     "name": "stdout",
     "output_type": "stream",
     "text": [
      "Failed requesting Down Home Waltz\n",
      "Failed requesting Beat It On Down The Line\n",
      "Failed requesting Buck And Wing\n",
      "Failed requesting John Henry\n",
      "Failed requesting John Henry\n",
      "Failed requesting John Henry\n",
      "Failed requesting Linin' Track - Instrumental\n",
      "Failed requesting Linin' Track - Instrumental\n"
     ]
    },
    {
     "name": "stderr",
     "output_type": "stream",
     "text": [
      "Processing Jesse Fuller_tracks.parquet:  35%|███▍      | 143/411 [00:06<00:07, 34.35it/s]"
     ]
    },
    {
     "name": "stdout",
     "output_type": "stream",
     "text": [
      "Failed requesting Linin' Track - Instrumental\n",
      "Failed requesting Linin' Track - Instrumental\n",
      "Failed requesting I'm Going To Meet My Loving Mother - Instrumental\n",
      "Failed requesting I'm Going To Meet My Loving Mother - Instrumental\n",
      "Failed requesting I'm Going To Meet My Loving Mother - Instrumental\n",
      "Failed requesting Tiger Rag - Instrumental\n",
      "Failed requesting Tiger Rag - Instrumental\n",
      "Failed requesting Tiger Rag - Instrumental\n"
     ]
    },
    {
     "name": "stderr",
     "output_type": "stream",
     "text": [
      "Processing Jesse Fuller_tracks.parquet:  37%|███▋      | 152/411 [00:06<00:07, 36.84it/s]"
     ]
    },
    {
     "name": "stdout",
     "output_type": "stream",
     "text": [
      "Failed requesting Memphis Boogie - Instrumental\n",
      "Failed requesting Memphis Boogie - Instrumental\n",
      "Failed requesting Memphis Boogie - Instrumental\n",
      "Failed requesting Raise A Ruckus - Instrumental\n",
      "Failed requesting Raise A Ruckus - Instrumental\n",
      "Failed requesting Raise A Ruckus - Instrumental\n",
      "Failed requesting By And By - Instrumental\n",
      "Failed requesting By And By - Instrumental\n",
      "Failed requesting By And By - Instrumental\n"
     ]
    },
    {
     "name": "stderr",
     "output_type": "stream",
     "text": [
      "Processing Jesse Fuller_tracks.parquet:  39%|███▉      | 161/411 [00:06<00:06, 39.03it/s]"
     ]
    },
    {
     "name": "stdout",
     "output_type": "stream",
     "text": [
      "Failed requesting 99 Years - Instrumental\n",
      "Failed requesting 99 Years - Instrumental\n",
      "Failed requesting 99 Years - Instrumental\n",
      "Failed requesting Hesitation Blues - Instrumental\n",
      "Failed requesting Hesitation Blues - Instrumental\n",
      "Failed requesting Hesitation Blues - Instrumental\n",
      "Failed requesting San Francisco Bay Blues\n",
      "Failed requesting San Francisco Bay Blues\n"
     ]
    },
    {
     "name": "stderr",
     "output_type": "stream",
     "text": [
      "Processing Jesse Fuller_tracks.parquet:  41%|████      | 169/411 [00:06<00:07, 34.14it/s]"
     ]
    },
    {
     "name": "stdout",
     "output_type": "stream",
     "text": [
      "Failed requesting Stagolee - Instrumental\n",
      "Failed requesting Stagolee - Instrumental\n",
      "Failed requesting Fingerbuster - Instrumental\n",
      "Failed requesting Fingerbuster - Instrumental\n",
      "Failed requesting Midnight Cold\n",
      "Failed requesting Midnight Cold\n"
     ]
    },
    {
     "name": "stderr",
     "output_type": "stream",
     "text": [
      "Processing Jesse Fuller_tracks.parquet:  42%|████▏     | 173/411 [00:07<00:07, 33.38it/s]"
     ]
    },
    {
     "name": "stdout",
     "output_type": "stream",
     "text": [
      "Failed requesting Whoa Mule\n",
      "Failed requesting Morning Blues\n",
      "Failed requesting Stealin' Back To My Old Time Used To Be\n",
      "Failed requesting Crazy About A Woman\n",
      "Failed requesting I Got A Mind To Ramble\n",
      "Failed requesting Where Could I Go But To The Lord\n"
     ]
    },
    {
     "name": "stderr",
     "output_type": "stream",
     "text": [
      "Processing Jesse Fuller_tracks.parquet:  44%|████▍     | 181/411 [00:07<00:06, 33.35it/s]"
     ]
    },
    {
     "name": "stdout",
     "output_type": "stream",
     "text": [
      "Failed requesting Brownskin Girl\n",
      "Failed requesting Move On Down The Line\n",
      "Failed requesting Stealing\n",
      "Failed requesting Ninety Nine Years And One Dark Day\n",
      "Failed requesting Animal Fair\n",
      "Failed requesting Sleeping In The Midnight Cold\n",
      "Failed requesting Stackolee\n",
      "Failed requesting John Henry\n"
     ]
    },
    {
     "name": "stderr",
     "output_type": "stream",
     "text": [
      "Processing Jesse Fuller_tracks.parquet:  46%|████▌     | 189/411 [00:07<00:06, 33.70it/s]"
     ]
    },
    {
     "name": "stdout",
     "output_type": "stream",
     "text": [
      "Failed requesting Railroad Worksong\n",
      "Failed requesting Lining Up The Track\n",
      "Failed requesting Hanging 'round A Skin Game\n",
      "Failed requesting Railroad Blues\n",
      "Failed requesting San Francisco Bay Blues\n",
      "Failed requesting Railroad Worksong\n",
      "Failed requesting Railroad Worksong\n"
     ]
    },
    {
     "name": "stderr",
     "output_type": "stream",
     "text": [
      "Processing Jesse Fuller_tracks.parquet:  48%|████▊     | 198/411 [00:07<00:05, 36.41it/s]"
     ]
    },
    {
     "name": "stdout",
     "output_type": "stream",
     "text": [
      "Failed requesting Railroad Worksong\n",
      "Failed requesting Lining Up the Track\n",
      "Failed requesting Lining Up the Track\n",
      "Failed requesting Lining Up the Track\n",
      "Failed requesting John Henry\n",
      "Failed requesting John Henry\n",
      "Failed requesting John Henry\n",
      "Failed requesting Railroad Blues\n"
     ]
    },
    {
     "name": "stderr",
     "output_type": "stream",
     "text": [
      "Processing Jesse Fuller_tracks.parquet:  49%|████▉     | 202/411 [00:07<00:06, 34.03it/s]"
     ]
    },
    {
     "name": "stdout",
     "output_type": "stream",
     "text": [
      "Failed requesting Railroad Blues\n",
      "Failed requesting Railroad Blues\n",
      "Failed requesting San Francisco Bay Blues\n",
      "Failed requesting San Francisco Bay Blues\n",
      "Failed requesting San Francisco Bay Blues\n",
      "Failed requesting San Francisco Bay Blues\n",
      "Failed requesting Hanging 'Round a Skin Game\n",
      "Failed requesting Hanging 'Round a Skin Game\n",
      "Failed requesting Hanging 'Round a Skin Game\n"
     ]
    },
    {
     "name": "stderr",
     "output_type": "stream",
     "text": [
      "Processing Jesse Fuller_tracks.parquet:  51%|█████▏    | 211/411 [00:08<00:05, 36.32it/s]"
     ]
    },
    {
     "name": "stdout",
     "output_type": "stream",
     "text": [
      "Failed requesting Move on Down the Line\n",
      "Failed requesting Move on Down the Line\n",
      "Failed requesting Stealing\n",
      "Failed requesting Stealing\n",
      "Failed requesting Ninety Nine Years and One Dark Day\n",
      "Failed requesting Ninety Nine Years and One Dark Day\n"
     ]
    },
    {
     "name": "stderr",
     "output_type": "stream",
     "text": [
      "Processing Jesse Fuller_tracks.parquet:  53%|█████▎    | 219/411 [00:08<00:06, 30.11it/s]"
     ]
    },
    {
     "name": "stdout",
     "output_type": "stream",
     "text": [
      "Failed requesting Animal Fair\n",
      "Failed requesting Animal Fair\n",
      "Failed requesting Sleeping in the Midnight Cold\n",
      "Failed requesting Sleeping in the Midnight Cold\n",
      "Failed requesting Stackolee\n",
      "Failed requesting Stackolee\n",
      "Failed requesting Railroad Worksong\n"
     ]
    },
    {
     "name": "stderr",
     "output_type": "stream",
     "text": [
      "Processing Jesse Fuller_tracks.parquet:  55%|█████▍    | 224/411 [00:08<00:05, 33.58it/s]"
     ]
    },
    {
     "name": "stdout",
     "output_type": "stream",
     "text": [
      "Failed requesting Railroad Worksong\n",
      "Failed requesting Railroad Worksong\n",
      "Failed requesting Lining Up the Track\n",
      "Failed requesting Lining Up the Track\n",
      "Failed requesting Lining Up the Track\n",
      "Failed requesting John Henry\n",
      "Failed requesting John Henry\n",
      "Failed requesting John Henry\n",
      "Failed requesting Railroad Blues\n"
     ]
    },
    {
     "name": "stderr",
     "output_type": "stream",
     "text": [
      "Processing Jesse Fuller_tracks.parquet:  57%|█████▋    | 234/411 [00:08<00:04, 38.06it/s]"
     ]
    },
    {
     "name": "stdout",
     "output_type": "stream",
     "text": [
      "Failed requesting Railroad Blues\n",
      "Failed requesting Railroad Blues\n",
      "Failed requesting San Francisco Bay Blues\n",
      "Failed requesting San Francisco Bay Blues\n",
      "Failed requesting San Francisco Bay Blues\n",
      "Failed requesting San Francisco Bay Blues\n",
      "Failed requesting Hanging 'Round a Skin Game\n",
      "Failed requesting Hanging 'Round a Skin Game\n",
      "Failed requesting Hanging 'Round a Skin Game\n"
     ]
    },
    {
     "name": "stderr",
     "output_type": "stream",
     "text": [
      "Processing Jesse Fuller_tracks.parquet:  59%|█████▉    | 244/411 [00:09<00:04, 40.88it/s]"
     ]
    },
    {
     "name": "stdout",
     "output_type": "stream",
     "text": [
      "Failed requesting Move on Down the Line\n",
      "Failed requesting Move on Down the Line\n",
      "Failed requesting Stealing\n",
      "Failed requesting Stealing\n",
      "Failed requesting Ninety Nine Years and One Dark Day\n",
      "Failed requesting Ninety Nine Years and One Dark Day\n",
      "Failed requesting Animal Fair\n",
      "Failed requesting Animal Fair\n",
      "Failed requesting Sleeping in the Midnight Cold\n"
     ]
    },
    {
     "name": "stderr",
     "output_type": "stream",
     "text": [
      "Processing Jesse Fuller_tracks.parquet:  62%|██████▏   | 254/411 [00:09<00:03, 39.75it/s]"
     ]
    },
    {
     "name": "stdout",
     "output_type": "stream",
     "text": [
      "Failed requesting Sleeping in the Midnight Cold\n",
      "Failed requesting Stackolee\n",
      "Failed requesting Stackolee\n",
      "Failed requesting Take This Hammer\n",
      "Failed requesting Take This Hammer\n",
      "Failed requesting Take This Hammer\n",
      "Failed requesting Linin' Track - Instrumental\n",
      "Failed requesting Linin' Track - Instrumental\n",
      "Failed requesting Linin' Track - Instrumental\n"
     ]
    },
    {
     "name": "stderr",
     "output_type": "stream",
     "text": [
      "Processing Jesse Fuller_tracks.parquet:  64%|██████▍   | 264/411 [00:09<00:03, 41.12it/s]"
     ]
    },
    {
     "name": "stdout",
     "output_type": "stream",
     "text": [
      "Failed requesting Linin' Track - Instrumental\n",
      "Failed requesting I'm Going To Meet My Loving Mother - Instrumental\n",
      "Failed requesting I'm Going To Meet My Loving Mother - Instrumental\n",
      "Failed requesting I'm Going To Meet My Loving Mother - Instrumental\n",
      "Failed requesting Tiger Rag - Instrumental\n",
      "Failed requesting Tiger Rag - Instrumental\n",
      "Failed requesting Tiger Rag - Instrumental\n",
      "Failed requesting Memphis Boogie - Instrumental\n",
      "Failed requesting Memphis Boogie - Instrumental\n"
     ]
    },
    {
     "name": "stderr",
     "output_type": "stream",
     "text": [
      "Processing Jesse Fuller_tracks.parquet:  65%|██████▌   | 269/411 [00:09<00:04, 35.32it/s]"
     ]
    },
    {
     "name": "stdout",
     "output_type": "stream",
     "text": [
      "Failed requesting Memphis Boogie - Instrumental\n",
      "Failed requesting Raise A Ruckus - Instrumental\n",
      "Failed requesting Raise A Ruckus - Instrumental\n",
      "Failed requesting Raise A Ruckus - Instrumental\n",
      "Failed requesting By And By - Instrumental\n",
      "Failed requesting By And By - Instrumental\n"
     ]
    },
    {
     "name": "stderr",
     "output_type": "stream",
     "text": [
      "Processing Jesse Fuller_tracks.parquet:  68%|██████▊   | 279/411 [00:09<00:03, 39.30it/s]"
     ]
    },
    {
     "name": "stdout",
     "output_type": "stream",
     "text": [
      "Failed requesting By And By - Instrumental\n",
      "Failed requesting 99 Years - Instrumental\n",
      "Failed requesting 99 Years - Instrumental\n",
      "Failed requesting 99 Years - Instrumental\n",
      "Failed requesting Hesitation Blues - Instrumental\n",
      "Failed requesting Hesitation Blues - Instrumental\n",
      "Failed requesting Hesitation Blues - Instrumental\n",
      "Failed requesting Stagolee - Instrumental\n",
      "Failed requesting Stagolee - Instrumental\n"
     ]
    },
    {
     "name": "stderr",
     "output_type": "stream",
     "text": [
      "Processing Jesse Fuller_tracks.parquet:  69%|██████▉   | 284/411 [00:10<00:03, 38.08it/s]"
     ]
    },
    {
     "name": "stdout",
     "output_type": "stream",
     "text": [
      "Failed requesting Fingerbuster - Instrumental\n",
      "Failed requesting Fingerbuster - Instrumental\n",
      "Failed requesting San Francisco Bay Blues\n",
      "Failed requesting Everybody Works At My House But My Old Man\n",
      "Failed requesting Beale Street Blues\n",
      "Failed requesting Let Me Hold You In My Arms Tonight\n",
      "Failed requesting Where Could I Go To But The Lord\n"
     ]
    },
    {
     "name": "stderr",
     "output_type": "stream",
     "text": [
      "Processing Jesse Fuller_tracks.parquet:  71%|███████   | 292/411 [00:10<00:03, 33.96it/s]"
     ]
    },
    {
     "name": "stdout",
     "output_type": "stream",
     "text": [
      "Failed requesting You're No Good\n",
      "Failed requesting I Want A Girl (Just Like The Girl That Married Dear Old Dad)\n",
      "Failed requesting Old Man Mose\n",
      "Failed requesting Crazy Waltz\n",
      "Failed requesting Brother Lowdown\n",
      "Failed requesting Pretty Little Girl Walkin' Down The Street\n",
      "Failed requesting The Dozens\n"
     ]
    },
    {
     "name": "stderr",
     "output_type": "stream",
     "text": [
      "Processing Jesse Fuller_tracks.parquet:  73%|███████▎  | 300/411 [00:10<00:03, 34.10it/s]"
     ]
    },
    {
     "name": "stdout",
     "output_type": "stream",
     "text": [
      "Failed requesting I've Been So Doggone Lonesome\n",
      "Failed requesting Animal Farm\n",
      "Failed requesting Red River Blues\n",
      "Failed requesting How Long Blues\n",
      "Failed requesting You Can't Keep A Good Man Down\n",
      "Failed requesting Key To The Highway\n",
      "Failed requesting Tickling The Strings\n",
      "Failed requesting Jesse's New Midnight Special\n"
     ]
    },
    {
     "name": "stderr",
     "output_type": "stream",
     "text": [
      "Processing Jesse Fuller_tracks.parquet:  75%|███████▍  | 308/411 [00:10<00:02, 36.15it/s]"
     ]
    },
    {
     "name": "stdout",
     "output_type": "stream",
     "text": [
      "Failed requesting Leavin' Memphis, Frisco Bound\n",
      "Failed requesting Leavin' Memphis, Frisco Bound\n",
      "Failed requesting Got a Date at Half Past Eight\n",
      "Failed requesting Got a Date at Half Past Eight\n",
      "Failed requesting Hump in My Back\n",
      "Failed requesting Hump in My Back\n",
      "Failed requesting Flavor in My Cream\n",
      "Failed requesting Flavor in My Cream\n",
      "Failed requesting Finger Twister\n"
     ]
    },
    {
     "name": "stderr",
     "output_type": "stream",
     "text": [
      "Processing Jesse Fuller_tracks.parquet:  77%|███████▋  | 316/411 [00:10<00:02, 35.63it/s]"
     ]
    },
    {
     "name": "stdout",
     "output_type": "stream",
     "text": [
      "Failed requesting Finger Twister\n",
      "Failed requesting Just Like a Ship on the Deep Blue Sea\n",
      "Failed requesting Just Like a Ship on the Deep Blue Sea\n",
      "Failed requesting Motherless Children\n",
      "Failed requesting Motherless Children\n",
      "Failed requesting Amazing Grace\n",
      "Failed requesting Amazing Grace\n",
      "Failed requesting Hark from the Tomb\n"
     ]
    },
    {
     "name": "stderr",
     "output_type": "stream",
     "text": [
      "Processing Jesse Fuller_tracks.parquet:  79%|███████▉  | 324/411 [00:11<00:02, 36.04it/s]"
     ]
    },
    {
     "name": "stdout",
     "output_type": "stream",
     "text": [
      "Failed requesting Hark from the Tomb\n",
      "Failed requesting As Long as I Can Feel the Spirit\n",
      "Failed requesting As Long as I Can Feel the Spirit\n",
      "Failed requesting Cincinnati Blues\n",
      "Failed requesting Cincinnati Blues\n",
      "Failed requesting Just a Closer Walk with Thee\n",
      "Failed requesting Just a Closer Walk with Thee\n",
      "Failed requesting I'm Going to Sit Down at the Welcome Table\n"
     ]
    },
    {
     "name": "stderr",
     "output_type": "stream",
     "text": [
      "Processing Jesse Fuller_tracks.parquet:  81%|████████  | 332/411 [00:11<00:02, 36.43it/s]"
     ]
    },
    {
     "name": "stdout",
     "output_type": "stream",
     "text": [
      "Failed requesting Together Let Us Live\n",
      "Failed requesting Memphis Boogie\n",
      "Failed requesting Footdella Stomp\n",
      "Failed requesting Crazy About a Woman\n",
      "Failed requesting 99 Years\n",
      "Failed requesting Stranger's Blues\n",
      "Failed requesting Bill Bailey Won't You Please Come Home\n"
     ]
    },
    {
     "name": "stderr",
     "output_type": "stream",
     "text": [
      "Processing Jesse Fuller_tracks.parquet:  83%|████████▎ | 340/411 [00:11<00:02, 34.39it/s]"
     ]
    },
    {
     "name": "stdout",
     "output_type": "stream",
     "text": [
      "Failed requesting Red River Blues\n",
      "Failed requesting How Long Blues\n",
      "Failed requesting You Can't Keep A Good Man Down\n",
      "Failed requesting Key To The Highway\n",
      "Failed requesting Tickling The Strings\n",
      "Failed requesting Jesse's New Midnight Special\n",
      "Failed requesting Stranger Blues\n",
      "Failed requesting Fables Aren't Nothing But Doggone Lies\n"
     ]
    },
    {
     "name": "stderr",
     "output_type": "stream",
     "text": [
      "Processing Jesse Fuller_tracks.parquet:  85%|████████▍ | 348/411 [00:11<00:01, 35.28it/s]"
     ]
    },
    {
     "name": "stdout",
     "output_type": "stream",
     "text": [
      "Failed requesting Brownskin Gal (I've Got My Eyes On You)\n",
      "Failed requesting Cincinnati Blues\n",
      "Failed requesting Hump In Your Back\n",
      "Failed requesting Trouble If I Don't Use My Head\n",
      "Failed requesting John Henry\n",
      "Failed requesting John Henry\n",
      "Failed requesting John Henry\n",
      "Failed requesting Midnight Cold\n",
      "Failed requesting Midnight Cold\n"
     ]
    },
    {
     "name": "stderr",
     "output_type": "stream",
     "text": [
      "Processing Jesse Fuller_tracks.parquet:  87%|████████▋ | 357/411 [00:12<00:01, 34.42it/s]"
     ]
    },
    {
     "name": "stdout",
     "output_type": "stream",
     "text": [
      "Failed requesting San Francisco Bay Blues\n",
      "Failed requesting Jesse's New Midnight Special\n",
      "Failed requesting Morning Blues\n",
      "Failed requesting Little Black Train\n",
      "Failed requesting Whoa Mule\n",
      "Failed requesting I Got a Mind to Ramble\n",
      "Failed requesting Crazy About a Woman\n"
     ]
    },
    {
     "name": "stderr",
     "output_type": "stream",
     "text": [
      "Processing Jesse Fuller_tracks.parquet:  88%|████████▊ | 361/411 [00:12<00:01, 34.78it/s]"
     ]
    },
    {
     "name": "stdout",
     "output_type": "stream",
     "text": [
      "Failed requesting Where Could I Go but to the Lord\n",
      "Failed requesting Stealin' Back to My Old Time Used\n",
      "Failed requesting Brownskin Girl (I've Got My Eye on You)\n",
      "Failed requesting Stay\n",
      "Failed requesting Bourbon Street Parade\n",
      "Failed requesting Station Blues\n",
      "Failed requesting Highway 61\n"
     ]
    },
    {
     "name": "stderr",
     "output_type": "stream",
     "text": [
      "Processing Jesse Fuller_tracks.parquet:  90%|████████▉ | 369/411 [00:12<00:01, 34.32it/s]"
     ]
    },
    {
     "name": "stdout",
     "output_type": "stream",
     "text": [
      "Failed requesting Georgie Buck\n",
      "Failed requesting Ranky Tanky\n",
      "Failed requesting One-Dime Blues\n",
      "Failed requesting Eunice Two-Step\n",
      "Failed requesting Automobile Blues\n",
      "Failed requesting Grizzly Bear\n",
      "Failed requesting Motherless Children\n"
     ]
    },
    {
     "name": "stderr",
     "output_type": "stream",
     "text": [
      "Processing Jesse Fuller_tracks.parquet:  92%|█████████▏| 377/411 [00:12<00:00, 35.36it/s]"
     ]
    },
    {
     "name": "stdout",
     "output_type": "stream",
     "text": [
      "Failed requesting Blues Before Sunrise\n",
      "Failed requesting Fox Chase\n",
      "Failed requesting Sweet Georgia Brown\n",
      "Failed requesting Little Liza Jane - Live\n",
      "Failed requesting Ay-Tete Fee\n",
      "Failed requesting Hard Time Killing Floor Blues\n",
      "Failed requesting Weary Blues\n",
      "Failed requesting Yonder Come Day\n"
     ]
    },
    {
     "name": "stderr",
     "output_type": "stream",
     "text": [
      "Processing Jesse Fuller_tracks.parquet:  93%|█████████▎| 381/411 [00:13<00:03,  9.75it/s]"
     ]
    },
    {
     "name": "stdout",
     "output_type": "stream",
     "text": [
      "Failed requesting Best Of All\n",
      "Failed requesting San Francisco Bay Blues\n"
     ]
    },
    {
     "name": "stderr",
     "output_type": "stream",
     "text": [
      "Processing Jesse Fuller_tracks.parquet:  94%|█████████▍| 386/411 [00:15<00:05,  4.27it/s]"
     ]
    },
    {
     "name": "stdout",
     "output_type": "stream",
     "text": [
      "Failed requesting Titanic\n"
     ]
    },
    {
     "name": "stderr",
     "output_type": "stream",
     "text": [
      "Processing Jesse Fuller_tracks.parquet:  95%|█████████▌| 392/411 [00:18<00:04,  3.81it/s]"
     ]
    },
    {
     "name": "stdout",
     "output_type": "stream",
     "text": [
      "Failed requesting San Francisco Bay Blues\n",
      "Failed requesting San Francisco Bay Blues\n",
      "Failed requesting One Hundred Pipers\n",
      "Failed requesting Sulgrave Air/Shepherds Hey\n",
      "Failed requesting The Peat-Bog Soldiers\n",
      "Failed requesting MacCrimmon's Lament\n",
      "Failed requesting Get In Line Brother\n"
     ]
    },
    {
     "name": "stderr",
     "output_type": "stream",
     "text": [
      "Processing Jesse Fuller_tracks.parquet:  97%|█████████▋| 400/411 [00:18<00:01,  7.59it/s]"
     ]
    },
    {
     "name": "stdout",
     "output_type": "stream",
     "text": [
      "Failed requesting Born To run\n",
      "Failed requesting Country Junction\n",
      "Failed requesting Star of the County Down\n",
      "Failed requesting Eternal - ito. Remix\n",
      "Failed requesting Moonstone - Finder Remix\n",
      "Failed requesting Existentialism (feat. Slyleaf) - Defsharp Remix\n"
     ]
    },
    {
     "name": "stderr",
     "output_type": "stream",
     "text": [
      "Processing Jesse Fuller_tracks.parquet:  99%|█████████▉| 407/411 [00:18<00:00, 12.23it/s]"
     ]
    },
    {
     "name": "stdout",
     "output_type": "stream",
     "text": [
      "Failed requesting Candy Shop - Eccentric Remix\n",
      "Failed requesting Moonstone - Azles Remix\n",
      "Failed requesting Find Her - Sefaro Remix\n",
      "Failed requesting Fire Flower - Jesse Fuller Remix\n",
      "Failed requesting Defiance - Halvorsen Vocal Edit\n",
      "Failed requesting Eternal - Tranquil Trip Remix\n",
      "Failed requesting Defiance - Animadrop Remix\n"
     ]
    },
    {
     "name": "stderr",
     "output_type": "stream",
     "text": [
      "Processing Jesse Fuller_tracks.parquet: 100%|██████████| 411/411 [00:18<00:00, 21.88it/s]\n",
      "Processing Jesse Harris_tracks.parquet:   3%|▎         | 4/151 [00:00<00:03, 37.86it/s]"
     ]
    },
    {
     "name": "stdout",
     "output_type": "stream",
     "text": [
      "Failed requesting Find Her - Eccentric Remix\n",
      "Failed requesting Existentialism (feat. Slyleaf) - Biscoln Remix\n",
      "Failed requesting Defiance - Jaimie L Remix\n",
      "Failed requesting The Hanged Man\n",
      "Failed requesting Yankee\n",
      "Failed requesting Out In The Storm\n",
      "Failed requesting One In A Million\n"
     ]
    },
    {
     "name": "stderr",
     "output_type": "stream",
     "text": [
      "Processing Jesse Harris_tracks.parquet:   5%|▌         | 8/151 [00:00<00:04, 32.98it/s]"
     ]
    },
    {
     "name": "stdout",
     "output_type": "stream",
     "text": [
      "Failed requesting Hummingbird\n",
      "Failed requesting On This Lonely Night\n",
      "Failed requesting New Year's Day\n",
      "Failed requesting Silver Balloon\n"
     ]
    },
    {
     "name": "stderr",
     "output_type": "stream",
     "text": [
      "Processing Jesse Harris_tracks.parquet:   8%|▊         | 12/151 [00:00<00:05, 24.79it/s]"
     ]
    },
    {
     "name": "stdout",
     "output_type": "stream",
     "text": [
      "Failed requesting The Good Morning Song\n",
      "Failed requesting Shadow\n",
      "Failed requesting It Must Be Nice\n",
      "Failed requesting Alquimista\n",
      "Failed requesting Karass\n",
      "Failed requesting But When?\n",
      "Failed requesting Miyazaki\n",
      "Failed requesting Iguana\n"
     ]
    },
    {
     "name": "stderr",
     "output_type": "stream",
     "text": [
      "Processing Jesse Harris_tracks.parquet:  15%|█▍        | 22/151 [00:00<00:03, 32.96it/s]"
     ]
    },
    {
     "name": "stdout",
     "output_type": "stream",
     "text": [
      "Failed requesting Red Yellow Green Blue\n",
      "Failed requesting Pixote\n",
      "Failed requesting The Dance\n",
      "Failed requesting Going in Circles\n",
      "Failed requesting Ditty in C\n",
      "Failed requesting Waiting\n",
      "Failed requesting Rio Negro\n",
      "Failed requesting Far Away\n",
      "Failed requesting How Long\n"
     ]
    },
    {
     "name": "stderr",
     "output_type": "stream",
     "text": [
      "Processing Jesse Harris_tracks.parquet:  21%|██        | 31/151 [00:00<00:03, 36.41it/s]"
     ]
    },
    {
     "name": "stdout",
     "output_type": "stream",
     "text": [
      "Failed requesting Surpresa\n",
      "Failed requesting Broken Umbrellas\n",
      "Failed requesting Ó, Maria\n",
      "Failed requesting Colibri\n",
      "Failed requesting Little Star\n",
      "Failed requesting West Broadway Shuffle\n",
      "Failed requesting You, The Queen\n",
      "Failed requesting Tears of Rain\n"
     ]
    },
    {
     "name": "stderr",
     "output_type": "stream",
     "text": [
      "Processing Jesse Harris_tracks.parquet:  26%|██▌       | 39/151 [00:01<00:03, 35.29it/s]"
     ]
    },
    {
     "name": "stdout",
     "output_type": "stream",
     "text": [
      "Failed requesting If You Can\n",
      "Failed requesting From Now On\n",
      "Failed requesting Dreams\n",
      "Failed requesting Everlasting Day\n",
      "Failed requesting Oh It's Okay\n",
      "Failed requesting Moving On\n",
      "Failed requesting Cactus Dreams\n",
      "Failed requesting Days on Fire\n"
     ]
    },
    {
     "name": "stderr",
     "output_type": "stream",
     "text": [
      "Processing Jesse Harris_tracks.parquet:  31%|███       | 47/151 [00:01<00:02, 34.84it/s]"
     ]
    },
    {
     "name": "stdout",
     "output_type": "stream",
     "text": [
      "Failed requesting Marielle\n",
      "Failed requesting Go to Your Bed\n",
      "Failed requesting Time and Space\n",
      "Failed requesting Doesn't Matter Anyway\n",
      "Failed requesting Untouchable\n",
      "Failed requesting I've Got to See You Again\n",
      "Failed requesting Old Town\n",
      "Failed requesting People Tell Me\n"
     ]
    },
    {
     "name": "stderr",
     "output_type": "stream",
     "text": [
      "Processing Jesse Harris_tracks.parquet:  36%|███▋      | 55/151 [00:01<00:02, 35.62it/s]"
     ]
    },
    {
     "name": "stdout",
     "output_type": "stream",
     "text": [
      "Failed requesting Without You\n",
      "Failed requesting Bending over Backwards\n",
      "Failed requesting It's Not Too Late to Turn Back\n",
      "Failed requesting Song Never Sung\n",
      "Failed requesting Misunderstanding\n",
      "Failed requesting It Must Be Nice\n",
      "Failed requesting You'll Forget Me\n"
     ]
    },
    {
     "name": "stderr",
     "output_type": "stream",
     "text": [
      "Processing Jesse Harris_tracks.parquet:  42%|████▏     | 63/151 [00:01<00:02, 32.55it/s]"
     ]
    },
    {
     "name": "stdout",
     "output_type": "stream",
     "text": [
      "Failed requesting Rolling By\n",
      "Failed requesting Out of Time\n",
      "Failed requesting Never Say Goodbye\n",
      "Failed requesting The Things That You Can't Keep\n",
      "Failed requesting Hexagram\n",
      "Failed requesting Where a Rose Falls\n",
      "Failed requesting Listen to the Wind\n",
      "Failed requesting Kiss the Rose\n"
     ]
    },
    {
     "name": "stderr",
     "output_type": "stream",
     "text": [
      "Processing Jesse Harris_tracks.parquet:  44%|████▍     | 67/151 [00:02<00:02, 32.68it/s]"
     ]
    },
    {
     "name": "stdout",
     "output_type": "stream",
     "text": [
      "Failed requesting Grapes Grow Sweeter in the Sun\n",
      "Failed requesting Eyes of Fire\n",
      "Failed requesting Carousel\n",
      "Failed requesting Sunday\n",
      "Failed requesting Sometimes You Have to Choose Sides\n",
      "Failed requesting Kiss the Rose - Alternate Version | Faixa Bônus\n",
      "Failed requesting On My Way Back\n"
     ]
    },
    {
     "name": "stderr",
     "output_type": "stream",
     "text": [
      "Processing Jesse Harris_tracks.parquet:  50%|████▉     | 75/151 [00:02<00:02, 30.18it/s]"
     ]
    },
    {
     "name": "stdout",
     "output_type": "stream",
     "text": [
      "Failed requesting Forget It Happened This Way\n",
      "Failed requesting I'm Not on Your Mind\n",
      "Failed requesting Anything Was Possible\n",
      "Failed requesting Everybody Thinks You're a Movie Star\n",
      "Failed requesting Neither Old nor Young\n",
      "Failed requesting You Can Only Wait so Long\n"
     ]
    },
    {
     "name": "stderr",
     "output_type": "stream",
     "text": [
      "Processing Jesse Harris_tracks.parquet:  55%|█████▍    | 83/151 [00:02<00:02, 33.06it/s]"
     ]
    },
    {
     "name": "stdout",
     "output_type": "stream",
     "text": [
      "Failed requesting Taking My Time\n",
      "Failed requesting Talk to Me\n",
      "Failed requesting A Matter of Time\n",
      "Failed requesting You Don't Have to Be Alone\n",
      "Failed requesting I Always Thought the World Would Catch Your Fall\n",
      "Failed requesting Surfside\n",
      "Failed requesting Autumn Song\n",
      "Failed requesting It Was Innocent\n"
     ]
    },
    {
     "name": "stderr",
     "output_type": "stream",
     "text": [
      "Processing Jesse Harris_tracks.parquet:  61%|██████    | 92/151 [00:02<00:01, 36.52it/s]"
     ]
    },
    {
     "name": "stdout",
     "output_type": "stream",
     "text": [
      "Failed requesting Either Way\n",
      "Failed requesting Seemed Like a Good Idea\n",
      "Failed requesting Sometimes You Have to Choose Sides\n",
      "Failed requesting Fool's Paradise\n",
      "Failed requesting All the Leaves\n",
      "Failed requesting How Could I Have Known?\n",
      "Failed requesting Gone As Those Days\n",
      "Failed requesting Somewhere Down the Road\n",
      "Failed requesting Where Have All the Flowers Gone\n"
     ]
    },
    {
     "name": "stderr",
     "output_type": "stream",
     "text": [
      "Processing Jesse Harris_tracks.parquet:  66%|██████▌   | 100/151 [00:02<00:01, 37.57it/s]"
     ]
    },
    {
     "name": "stdout",
     "output_type": "stream",
     "text": [
      "Failed requesting Tell Me What I'm Supposed to Do\n",
      "Failed requesting Pandora's Box\n",
      "Failed requesting Nothing's Gone but the Night\n",
      "Failed requesting It Would Have Been so Easy\n",
      "Failed requesting No Wrong No Right\n",
      "Failed requesting Miyazaki\n",
      "Failed requesting I Probably Won't See You for a While\n",
      "Failed requesting Did You Have to Be Happy\n"
     ]
    },
    {
     "name": "stderr",
     "output_type": "stream",
     "text": [
      "Processing Jesse Harris_tracks.parquet:  72%|███████▏  | 108/151 [00:03<00:01, 36.64it/s]"
     ]
    },
    {
     "name": "stdout",
     "output_type": "stream",
     "text": [
      "Failed requesting River of Stars\n",
      "Failed requesting I've Never Seen You Cry\n",
      "Failed requesting Staring Contest\n",
      "Failed requesting Kafiristan\n",
      "Failed requesting Catch the Ash\n",
      "Failed requesting Where or When\n",
      "Failed requesting Don't Let Me Pass By\n",
      "Failed requesting Borne Away\n"
     ]
    },
    {
     "name": "stderr",
     "output_type": "stream",
     "text": [
      "Processing Jesse Harris_tracks.parquet:  77%|███████▋  | 116/151 [00:03<00:00, 35.25it/s]"
     ]
    },
    {
     "name": "stdout",
     "output_type": "stream",
     "text": [
      "Failed requesting Stray Dog\n",
      "Failed requesting Black Orchid\n",
      "Failed requesting Do You Really Love Him?\n",
      "Failed requesting The Pain Has Just Begun\n",
      "Failed requesting Say That You'll Never Go Away\n",
      "Failed requesting Strangers\n",
      "Failed requesting Straight Line\n"
     ]
    },
    {
     "name": "stderr",
     "output_type": "stream",
     "text": [
      "Processing Jesse Harris_tracks.parquet:  82%|████████▏ | 124/151 [00:03<00:00, 33.99it/s]"
     ]
    },
    {
     "name": "stdout",
     "output_type": "stream",
     "text": [
      "Failed requesting Anything at All\n",
      "Failed requesting Ghost of the Summer Heat\n",
      "Failed requesting Listen to Your Heart\n",
      "Failed requesting Like a Wheel\n",
      "Failed requesting Sleep\n",
      "Failed requesting The Silent Sea\n",
      "Failed requesting I Know It Won't Be Long (feat. Maria Gadu)\n"
     ]
    },
    {
     "name": "stderr",
     "output_type": "stream",
     "text": [
      "Processing Jesse Harris_tracks.parquet:  85%|████████▍ | 128/151 [00:03<00:00, 34.75it/s]"
     ]
    },
    {
     "name": "stdout",
     "output_type": "stream",
     "text": [
      "Failed requesting Rocking Chairs (feat. Norah Jones)\n",
      "Failed requesting All Your Days\n",
      "Failed requesting It's Been Going 'Round\n",
      "Failed requesting Waltz of the Rain\n",
      "Failed requesting Sad Blues\n",
      "Failed requesting Afternoon in Kanda\n",
      "Failed requesting I Won't Wait (feat. Conor Oberst)\n",
      "Failed requesting Patchouli\n"
     ]
    },
    {
     "name": "stderr",
     "output_type": "stream",
     "text": [
      "Processing Jesse Harris_tracks.parquet:  90%|█████████ | 136/151 [00:03<00:00, 33.87it/s]"
     ]
    },
    {
     "name": "stdout",
     "output_type": "stream",
     "text": [
      "Failed requesting The Maiden\n",
      "Failed requesting Tant Pis (feat. Melody Gardot)\n",
      "Failed requesting Rube and Mandy at Coney Island (feat. Norah Jones)\n",
      "Failed requesting You Used to Call Me\n",
      "Failed requesting Let It All Come Down (feat. Norah Jones)\n",
      "Failed requesting Put It out of Your Mind\n",
      "Failed requesting Till You Drop\n"
     ]
    },
    {
     "name": "stderr",
     "output_type": "stream",
     "text": [
      "Processing Jesse Harris_tracks.parquet:  95%|█████████▌| 144/151 [00:04<00:00, 33.19it/s]"
     ]
    },
    {
     "name": "stdout",
     "output_type": "stream",
     "text": [
      "Failed requesting Pixote\n",
      "Failed requesting Through The Night\n",
      "Failed requesting It's A Long Way Just To Say Hello\n",
      "Failed requesting What Am I Doing Out Here\n",
      "Failed requesting All That Happened\n",
      "Failed requesting Gone Without A Sound\n",
      "Failed requesting Trees In A Fence\n"
     ]
    },
    {
     "name": "stderr",
     "output_type": "stream",
     "text": [
      "Processing Jesse Harris_tracks.parquet: 100%|██████████| 151/151 [00:04<00:00, 33.90it/s]\n",
      "Processing Jesse Jo Stark_tracks.parquet:   0%|          | 0/26 [00:00<?, ?it/s]"
     ]
    },
    {
     "name": "stdout",
     "output_type": "stream",
     "text": [
      "Failed requesting Dream Of The Past\n",
      "Failed requesting All Day All Night\n",
      "Failed requesting Way to Be\n",
      "Failed requesting Tough as Water\n",
      "Failed requesting Making up for Lost Time\n",
      "Failed requesting 666 in the suburbs\n",
      "Failed requesting so bad\n"
     ]
    },
    {
     "name": "stderr",
     "output_type": "stream",
     "text": [
      "Processing Jesse Jo Stark_tracks.parquet:  31%|███       | 8/26 [00:00<00:00, 36.11it/s]"
     ]
    },
    {
     "name": "stdout",
     "output_type": "stream",
     "text": [
      "Failed requesting modern love\n",
      "Failed requesting pussycat\n",
      "Failed requesting patterns\n",
      "Failed requesting slayer\n",
      "Failed requesting love is a dream\n",
      "Failed requesting sugar high\n",
      "Failed requesting lipstick\n",
      "Failed requesting tornado\n",
      "Failed requesting trippin\n"
     ]
    },
    {
     "name": "stderr",
     "output_type": "stream",
     "text": [
      "Processing Jesse Jo Stark_tracks.parquet:  77%|███████▋  | 20/26 [00:00<00:00, 37.82it/s]"
     ]
    },
    {
     "name": "stdout",
     "output_type": "stream",
     "text": [
      "Failed requesting tornado\n",
      "Failed requesting so bad\n",
      "Failed requesting modern love\n",
      "Failed requesting cry on me\n",
      "Failed requesting Not Your Little Baby Anymore\n",
      "Failed requesting A Pretty Place to Fall Apart\n",
      "Failed requesting My Favourite Game\n",
      "Failed requesting Fire of Love\n",
      "Failed requesting Die Young\n"
     ]
    },
    {
     "name": "stderr",
     "output_type": "stream",
     "text": [
      "Processing Jesse Jo Stark_tracks.parquet: 100%|██████████| 26/26 [00:00<00:00, 37.00it/s]\n",
      "Processing Jesse Malin_tracks.parquet:   0%|          | 0/333 [00:00<?, ?it/s]"
     ]
    },
    {
     "name": "stdout",
     "output_type": "stream",
     "text": [
      "Failed requesting Tangerine\n",
      "Failed requesting Angel from Montgomery\n",
      "Failed requesting Lady Bird\n",
      "Failed requesting Mystery\n",
      "Failed requesting Wish I Was Dead\n",
      "Failed requesting Rot Away\n",
      "Failed requesting Queen of the Underworld\n"
     ]
    },
    {
     "name": "stderr",
     "output_type": "stream",
     "text": [
      "Processing Jesse Malin_tracks.parquet:   1%|          | 4/333 [00:00<00:08, 39.86it/s]"
     ]
    },
    {
     "name": "stdout",
     "output_type": "stream",
     "text": [
      "Failed requesting TKO\n",
      "Failed requesting Wendy\n",
      "Failed requesting Downliner\n",
      "Failed requesting Brooklyn\n",
      "Failed requesting The Fine Art of Self-Destruction\n",
      "Failed requesting Riding on the Subway\n",
      "Failed requesting High Lonesome\n"
     ]
    },
    {
     "name": "stderr",
     "output_type": "stream",
     "text": [
      "Processing Jesse Malin_tracks.parquet:   3%|▎         | 9/333 [00:01<00:50,  6.44it/s]"
     ]
    },
    {
     "name": "stdout",
     "output_type": "stream",
     "text": [
      "Failed requesting Almost Grown\n"
     ]
    },
    {
     "name": "stderr",
     "output_type": "stream",
     "text": [
      "Processing Jesse Malin_tracks.parquet:   6%|▌         | 20/333 [00:07<01:49,  2.86it/s]"
     ]
    },
    {
     "name": "stdout",
     "output_type": "stream",
     "text": [
      "Failed requesting Riding On The Subway ’22\n",
      "Failed requesting Riding On The Subway ’22\n",
      "Failed requesting Downliner - Afterglow Version\n",
      "Failed requesting Downliner - Afterglow Version\n",
      "Failed requesting High Lonesome - PBR Vacation\n"
     ]
    },
    {
     "name": "stderr",
     "output_type": "stream",
     "text": [
      "Processing Jesse Malin_tracks.parquet:   8%|▊         | 25/333 [00:08<01:21,  3.79it/s]"
     ]
    },
    {
     "name": "stdout",
     "output_type": "stream",
     "text": [
      "Failed requesting Cigarettes and Violets ’22\n",
      "Failed requesting Cigarettes and Violets ’22\n",
      "Failed requesting Almost Grown - Busker Version\n",
      "Failed requesting Almost Grown - Busker Version\n"
     ]
    },
    {
     "name": "stderr",
     "output_type": "stream",
     "text": [
      "Processing Jesse Malin_tracks.parquet:   9%|▉         | 31/333 [00:10<01:01,  4.90it/s]"
     ]
    },
    {
     "name": "stdout",
     "output_type": "stream",
     "text": [
      "Failed requesting Solitaire - Song for Kelly Keller\n",
      "Failed requesting Queen Of The Underworld - Cantina Version\n",
      "Failed requesting Queen Of The Underworld - Cantina Version\n",
      "Failed requesting Brooklyn - Walt Whitman in the Trash\n"
     ]
    },
    {
     "name": "stderr",
     "output_type": "stream",
     "text": [
      "Processing Jesse Malin_tracks.parquet:  10%|▉         | 33/333 [00:11<01:24,  3.56it/s]"
     ]
    },
    {
     "name": "stdout",
     "output_type": "stream",
     "text": [
      "Failed requesting Riding On The Subway ’22\n",
      "Failed requesting Riding On The Subway ’22\n",
      "Failed requesting Downliner - Afterglow Version\n"
     ]
    },
    {
     "name": "stderr",
     "output_type": "stream",
     "text": [
      "Processing Jesse Malin_tracks.parquet:  13%|█▎        | 43/333 [00:12<00:42,  6.81it/s]"
     ]
    },
    {
     "name": "stdout",
     "output_type": "stream",
     "text": [
      "Failed requesting High Lonesome - PBR Vacation\n",
      "Failed requesting High Lonesome - PBR Vacation\n",
      "Failed requesting Cigarettes and Violets ’22\n",
      "Failed requesting Cigarettes and Violets ’22\n",
      "Failed requesting Almost Grown - Busker Version\n",
      "Failed requesting Almost Grown - Busker Version\n",
      "Failed requesting Solitaire - Song for Kelly Keller\n"
     ]
    },
    {
     "name": "stderr",
     "output_type": "stream",
     "text": [
      "Processing Jesse Malin_tracks.parquet:  19%|█▉        | 64/333 [00:34<04:38,  1.04s/it]"
     ]
    },
    {
     "name": "stdout",
     "output_type": "stream",
     "text": [
      "Failed requesting Broken Radio '22\n"
     ]
    },
    {
     "name": "stderr",
     "output_type": "stream",
     "text": [
      "Processing Jesse Malin_tracks.parquet:  26%|██▌       | 87/333 [00:53<01:38,  2.49it/s]"
     ]
    },
    {
     "name": "stdout",
     "output_type": "stream",
     "text": [
      "Failed requesting The Angel to the Slave\n",
      "Failed requesting Greener Pastures\n",
      "Failed requesting Before You Go\n",
      "Failed requesting State of the Art\n",
      "Failed requesting Crawling Back to You\n",
      "Failed requesting Tall Black Horses\n",
      "Failed requesting Lost Forever\n",
      "Failed requesting Dance on My Grave\n"
     ]
    },
    {
     "name": "stderr",
     "output_type": "stream",
     "text": [
      "Processing Jesse Malin_tracks.parquet:  29%|██▊       | 95/333 [00:53<00:34,  6.95it/s]"
     ]
    },
    {
     "name": "stdout",
     "output_type": "stream",
     "text": [
      "Failed requesting Sinner\n",
      "Failed requesting Backstabbers\n",
      "Failed requesting The Way We Used to Roll\n",
      "Failed requesting Todd Youth\n",
      "Failed requesting Almost Criminal\n",
      "Failed requesting A Little Death\n",
      "Failed requesting Dance with the System\n",
      "Failed requesting Saint Christopher\n"
     ]
    },
    {
     "name": "stderr",
     "output_type": "stream",
     "text": [
      "Processing Jesse Malin_tracks.parquet:  31%|███       | 103/333 [00:53<00:17, 13.08it/s]"
     ]
    },
    {
     "name": "stdout",
     "output_type": "stream",
     "text": [
      "Failed requesting Meet Me at the End of the World Again\n",
      "Failed requesting Room 13\n",
      "Failed requesting When You're Young\n",
      "Failed requesting Chemical Heart\n",
      "Failed requesting Promises\n",
      "Failed requesting Shining Down\n",
      "Failed requesting Shane\n",
      "Failed requesting Strangers & Thieves\n"
     ]
    },
    {
     "name": "stderr",
     "output_type": "stream",
     "text": [
      "Processing Jesse Malin_tracks.parquet:  33%|███▎      | 111/333 [00:53<00:10, 20.39it/s]"
     ]
    },
    {
     "name": "stdout",
     "output_type": "stream",
     "text": [
      "Failed requesting Revelations\n",
      "Failed requesting Gray Skies Look so Blue\n",
      "Failed requesting Do You Really Wanna Know\n",
      "Failed requesting Friends In Florida\n",
      "Failed requesting Dead On\n",
      "Failed requesting My Little Life\n"
     ]
    },
    {
     "name": "stderr",
     "output_type": "stream",
     "text": [
      "Processing Jesse Malin_tracks.parquet:  35%|███▌      | 118/333 [00:57<01:10,  3.06it/s]"
     ]
    },
    {
     "name": "stdout",
     "output_type": "stream",
     "text": [
      "Failed requesting Mona Lisa\n"
     ]
    },
    {
     "name": "stderr",
     "output_type": "stream",
     "text": [
      "Processing Jesse Malin_tracks.parquet:  37%|███▋      | 124/333 [00:59<00:51,  4.05it/s]"
     ]
    },
    {
     "name": "stdout",
     "output_type": "stream",
     "text": [
      "Failed requesting Swingin' Man\n",
      "Failed requesting Silver Manhattan\n",
      "Failed requesting Silver Manhattan\n",
      "Failed requesting Arrested\n",
      "Failed requesting Arrested\n"
     ]
    },
    {
     "name": "stderr",
     "output_type": "stream",
     "text": [
      "Processing Jesse Malin_tracks.parquet:  38%|███▊      | 126/333 [01:00<01:03,  3.25it/s]"
     ]
    },
    {
     "name": "stdout",
     "output_type": "stream",
     "text": [
      "Failed requesting Since Your In Love\n",
      "Failed requesting Goin' Out West\n"
     ]
    },
    {
     "name": "stderr",
     "output_type": "stream",
     "text": [
      "Processing Jesse Malin_tracks.parquet:  41%|████▏     | 138/333 [01:11<03:09,  1.03it/s]"
     ]
    },
    {
     "name": "stdout",
     "output_type": "stream",
     "text": [
      "Failed requesting Hotel Columbia\n"
     ]
    },
    {
     "name": "stderr",
     "output_type": "stream",
     "text": [
      "Processing Jesse Malin_tracks.parquet:  42%|████▏     | 141/333 [01:13<02:41,  1.19it/s]"
     ]
    },
    {
     "name": "stdout",
     "output_type": "stream",
     "text": [
      "Failed requesting Indian Summer\n"
     ]
    },
    {
     "name": "stderr",
     "output_type": "stream",
     "text": [
      "Processing Jesse Malin_tracks.parquet:  44%|████▍     | 147/333 [01:16<01:17,  2.39it/s]"
     ]
    },
    {
     "name": "stdout",
     "output_type": "stream",
     "text": [
      "Failed requesting Holy Ghost\n",
      "Failed requesting Death Or Glory\n",
      "Failed requesting Red Eye\n"
     ]
    },
    {
     "name": "stderr",
     "output_type": "stream",
     "text": [
      "Processing Jesse Malin_tracks.parquet:  44%|████▍     | 148/333 [01:17<01:39,  1.86it/s]"
     ]
    },
    {
     "name": "stdout",
     "output_type": "stream",
     "text": [
      "Failed requesting Basement Home - Live Bootleg\n",
      "Failed requesting Outsiders\n"
     ]
    },
    {
     "name": "stderr",
     "output_type": "stream",
     "text": [
      "Processing Jesse Malin_tracks.parquet:  46%|████▌     | 154/333 [01:18<00:53,  3.32it/s]"
     ]
    },
    {
     "name": "stdout",
     "output_type": "stream",
     "text": [
      "Failed requesting Here's the Situation\n",
      "Failed requesting Society Sally\n",
      "Failed requesting Edward Hopper\n",
      "Failed requesting Whitestone City Limits\n",
      "Failed requesting Stay Free\n",
      "Failed requesting The Hustlers\n"
     ]
    },
    {
     "name": "stderr",
     "output_type": "stream",
     "text": [
      "Processing Jesse Malin_tracks.parquet:  49%|████▊     | 162/333 [01:18<00:21,  7.86it/s]"
     ]
    },
    {
     "name": "stdout",
     "output_type": "stream",
     "text": [
      "Failed requesting All Bets Are Off\n",
      "Failed requesting In the Summer\n",
      "Failed requesting You Know It's Dark When Atheists Start to Pray\n",
      "Failed requesting Good Times\n",
      "Failed requesting The Dreamers\n",
      "Failed requesting The Dreamers\n",
      "Failed requesting Addicted\n"
     ]
    },
    {
     "name": "stderr",
     "output_type": "stream",
     "text": [
      "Processing Jesse Malin_tracks.parquet:  51%|█████     | 170/333 [01:18<00:11, 14.25it/s]"
     ]
    },
    {
     "name": "stdout",
     "output_type": "stream",
     "text": [
      "Failed requesting Addicted\n",
      "Failed requesting Turn up the Mains\n",
      "Failed requesting Turn up the Mains\n",
      "Failed requesting Oh Sheena\n",
      "Failed requesting Oh Sheena\n",
      "Failed requesting She's so Dangerous\n",
      "Failed requesting She's so Dangerous\n",
      "Failed requesting The Year That I Was Born\n",
      "Failed requesting The Year That I Was Born\n"
     ]
    },
    {
     "name": "stderr",
     "output_type": "stream",
     "text": [
      "Processing Jesse Malin_tracks.parquet:  53%|█████▎    | 178/333 [01:19<00:07, 21.12it/s]"
     ]
    },
    {
     "name": "stdout",
     "output_type": "stream",
     "text": [
      "Failed requesting Boots of Immigration\n",
      "Failed requesting Boots of Immigration\n",
      "Failed requesting Freeway\n",
      "Failed requesting Freeway\n",
      "Failed requesting Bent Up\n",
      "Failed requesting Bent Up\n",
      "Failed requesting She Don't Love Me Now\n",
      "Failed requesting She Don't Love Me Now\n",
      "Failed requesting Deathstar\n"
     ]
    },
    {
     "name": "stderr",
     "output_type": "stream",
     "text": [
      "Processing Jesse Malin_tracks.parquet:  56%|█████▌    | 186/333 [01:19<00:06, 24.38it/s]"
     ]
    },
    {
     "name": "stdout",
     "output_type": "stream",
     "text": [
      "Failed requesting Deathstar\n",
      "Failed requesting I Would Do It for You\n",
      "Failed requesting I Would Do It for You\n",
      "Failed requesting Bar Life\n",
      "Failed requesting Bar Life\n",
      "Failed requesting The Dreamers\n",
      "Failed requesting The Dreamers\n",
      "Failed requesting Addicted\n"
     ]
    },
    {
     "name": "stderr",
     "output_type": "stream",
     "text": [
      "Processing Jesse Malin_tracks.parquet:  59%|█████▊    | 195/333 [01:19<00:04, 31.00it/s]"
     ]
    },
    {
     "name": "stdout",
     "output_type": "stream",
     "text": [
      "Failed requesting Addicted\n",
      "Failed requesting Turn up the Mains\n",
      "Failed requesting Turn up the Mains\n",
      "Failed requesting Oh Sheena\n",
      "Failed requesting Oh Sheena\n",
      "Failed requesting She's so Dangerous\n",
      "Failed requesting She's so Dangerous\n",
      "Failed requesting The Year That I Was Born\n",
      "Failed requesting The Year That I Was Born\n"
     ]
    },
    {
     "name": "stderr",
     "output_type": "stream",
     "text": [
      "Processing Jesse Malin_tracks.parquet:  61%|██████▏   | 204/333 [01:19<00:03, 35.01it/s]"
     ]
    },
    {
     "name": "stdout",
     "output_type": "stream",
     "text": [
      "Failed requesting Boots of Immigration\n",
      "Failed requesting Boots of Immigration\n",
      "Failed requesting Freeway\n",
      "Failed requesting Freeway\n",
      "Failed requesting Bent Up\n",
      "Failed requesting Bent Up\n",
      "Failed requesting She Don't Love Me Now\n",
      "Failed requesting She Don't Love Me Now\n",
      "Failed requesting Deathstar\n"
     ]
    },
    {
     "name": "stderr",
     "output_type": "stream",
     "text": [
      "Processing Jesse Malin_tracks.parquet:  64%|██████▍   | 213/333 [01:19<00:03, 37.97it/s]"
     ]
    },
    {
     "name": "stdout",
     "output_type": "stream",
     "text": [
      "Failed requesting Deathstar\n",
      "Failed requesting I Would Do It for You\n",
      "Failed requesting I Would Do It for You\n",
      "Failed requesting Bar Life\n",
      "Failed requesting Bar Life\n",
      "Failed requesting Subway\n",
      "Failed requesting Don't Let Them Take You Down\n",
      "Failed requesting Hotel Columbia\n"
     ]
    },
    {
     "name": "stderr",
     "output_type": "stream",
     "text": [
      "Processing Jesse Malin_tracks.parquet:  66%|██████▋   | 221/333 [01:20<00:03, 36.10it/s]"
     ]
    },
    {
     "name": "stdout",
     "output_type": "stream",
     "text": [
      "Failed requesting Cigarettes & Violets\n",
      "Failed requesting Downliner\n",
      "Failed requesting Almost Grown\n",
      "Failed requesting Here Comes The One\n",
      "Failed requesting Going Out West\n",
      "Failed requesting Wendy\n",
      "Failed requesting In The Modern World\n"
     ]
    },
    {
     "name": "stderr",
     "output_type": "stream",
     "text": [
      "Processing Jesse Malin_tracks.parquet:  69%|██████▉   | 229/333 [01:20<00:03, 34.02it/s]"
     ]
    },
    {
     "name": "stdout",
     "output_type": "stream",
     "text": [
      "Failed requesting Burning The Bowery\n",
      "Failed requesting All the Way from Moscow\n",
      "Failed requesting The Archer\n",
      "Failed requesting St. Mark's Sunset\n",
      "Failed requesting Lowlife in a High Rise\n",
      "Failed requesting Disco Ghetto\n",
      "Failed requesting Burn the Bridge\n",
      "Failed requesting Revelations\n"
     ]
    },
    {
     "name": "stderr",
     "output_type": "stream",
     "text": [
      "Processing Jesse Malin_tracks.parquet:  71%|███████   | 237/333 [01:20<00:02, 33.58it/s]"
     ]
    },
    {
     "name": "stdout",
     "output_type": "stream",
     "text": [
      "Failed requesting Black Boombox\n",
      "Failed requesting Lonely at Heart\n",
      "Failed requesting High Lonesome - Live\n",
      "Failed requesting Wendy - Live\n",
      "Failed requesting Hotel Columbia - Live\n",
      "Failed requesting Lucinda - Live\n",
      "Failed requesting Subway - Live\n",
      "Failed requesting Cigarettes & Violets - Live\n"
     ]
    },
    {
     "name": "stderr",
     "output_type": "stream",
     "text": [
      "Processing Jesse Malin_tracks.parquet:  74%|███████▎  | 245/333 [01:20<00:02, 33.16it/s]"
     ]
    },
    {
     "name": "stdout",
     "output_type": "stream",
     "text": [
      "Failed requesting Since You're In Love - Live\n",
      "Failed requesting Helpless - Live\n",
      "Failed requesting Aftermath - Live\n",
      "Failed requesting Broken Radio - Live\n",
      "Failed requesting Going Out West - Live\n",
      "Failed requesting Swingin Man - Live\n",
      "Failed requesting Xmas - Live\n"
     ]
    },
    {
     "name": "stderr",
     "output_type": "stream",
     "text": [
      "Processing Jesse Malin_tracks.parquet:  76%|███████▌  | 253/333 [01:21<00:02, 32.07it/s]"
     ]
    },
    {
     "name": "stdout",
     "output_type": "stream",
     "text": [
      "Failed requesting Leaving Babylon\n",
      "Failed requesting Megan Don't Know - Bonus Track\n",
      "Failed requesting It's Not Enough\n",
      "Failed requesting Lady From Baltimore\n",
      "Failed requesting Fairytale of New York\n",
      "Failed requesting Looking For A Love\n",
      "Failed requesting Do You Remember Rock 'n' Roll Radio\n"
     ]
    },
    {
     "name": "stderr",
     "output_type": "stream",
     "text": [
      "Processing Jesse Malin_tracks.parquet:  77%|███████▋  | 257/333 [01:21<00:02, 33.16it/s]"
     ]
    },
    {
     "name": "stdout",
     "output_type": "stream",
     "text": [
      "Failed requesting Sway\n",
      "Failed requesting Russian Roulette\n",
      "Failed requesting Gates Of The West\n",
      "Failed requesting Me And Julio Down By The School Yard\n",
      "Failed requesting You Can Make Them Like You\n",
      "Failed requesting Walk On The Wild Side\n",
      "Failed requesting Harmony\n",
      "Failed requesting Rodeo Town\n"
     ]
    },
    {
     "name": "stderr",
     "output_type": "stream",
     "text": [
      "Processing Jesse Malin_tracks.parquet:  80%|███████▉  | 265/333 [01:21<00:02, 33.70it/s]"
     ]
    },
    {
     "name": "stdout",
     "output_type": "stream",
     "text": [
      "Failed requesting Wonderful World\n",
      "Failed requesting Operator\n",
      "Failed requesting I Hope I Don't Fall In Love With You\n",
      "Failed requesting Everybody's Talking\n",
      "Failed requesting Don't Let Them Take You Down (Beautiful Day!)\n",
      "Failed requesting Don't Let Them Take You Down (Beautiful Day!)\n",
      "Failed requesting In the Modern World\n",
      "Failed requesting In the Modern World\n"
     ]
    },
    {
     "name": "stderr",
     "output_type": "stream",
     "text": [
      "Processing Jesse Malin_tracks.parquet:  83%|████████▎ | 275/333 [01:21<00:01, 37.70it/s]"
     ]
    },
    {
     "name": "stdout",
     "output_type": "stream",
     "text": [
      "Failed requesting Tomorrow Tonight\n",
      "Failed requesting Tomorrow Tonight\n",
      "Failed requesting Prisoners of Paradise\n",
      "Failed requesting Prisoners of Paradise\n",
      "Failed requesting Black Haired Girl\n",
      "Failed requesting Black Haired Girl\n",
      "Failed requesting Lucinda\n",
      "Failed requesting Lucinda\n",
      "Failed requesting Love Streams\n"
     ]
    },
    {
     "name": "stderr",
     "output_type": "stream",
     "text": [
      "Processing Jesse Malin_tracks.parquet:  85%|████████▌ | 284/333 [01:22<00:01, 39.12it/s]"
     ]
    },
    {
     "name": "stdout",
     "output_type": "stream",
     "text": [
      "Failed requesting Love Streams\n",
      "Failed requesting Little Star\n",
      "Failed requesting Little Star\n",
      "Failed requesting Bastards of Young\n",
      "Failed requesting Bastards of Young\n",
      "Failed requesting Happy Ever After (Since You're In Love 2007)\n",
      "Failed requesting Happy Ever After (Since You're In Love 2007)\n",
      "Failed requesting NY Nights\n"
     ]
    },
    {
     "name": "stderr",
     "output_type": "stream",
     "text": [
      "Processing Jesse Malin_tracks.parquet:  88%|████████▊ | 294/333 [01:22<00:00, 39.56it/s]"
     ]
    },
    {
     "name": "stdout",
     "output_type": "stream",
     "text": [
      "Failed requesting NY Nights\n",
      "Failed requesting Aftermath\n",
      "Failed requesting Aftermath\n",
      "Failed requesting Broken Radio\n",
      "Failed requesting Mona Lisa\n",
      "Failed requesting Mona Lisa\n",
      "Failed requesting Swingin' Man\n",
      "Failed requesting Swingin' Man\n",
      "Failed requesting Silver Manhattan\n"
     ]
    },
    {
     "name": "stderr",
     "output_type": "stream",
     "text": [
      "Processing Jesse Malin_tracks.parquet:  90%|████████▉ | 299/333 [01:22<00:00, 40.15it/s]"
     ]
    },
    {
     "name": "stdout",
     "output_type": "stream",
     "text": [
      "Failed requesting Silver Manhattan\n",
      "Failed requesting Arrested\n",
      "Failed requesting Arrested\n",
      "Failed requesting Since Your In Love\n",
      "Failed requesting Since Your In Love\n",
      "Failed requesting Goin' Out West\n",
      "Failed requesting Goin' Out West\n",
      "Failed requesting Scars of Love\n"
     ]
    },
    {
     "name": "stderr",
     "output_type": "stream",
     "text": [
      "Processing Jesse Malin_tracks.parquet:  94%|█████████▍| 313/333 [01:22<00:00, 40.08it/s]"
     ]
    },
    {
     "name": "stdout",
     "output_type": "stream",
     "text": [
      "Failed requesting Scars of Love\n",
      "Failed requesting New World Order\n",
      "Failed requesting New World Order\n",
      "Failed requesting About You\n",
      "Failed requesting About You\n",
      "Failed requesting Block Island\n",
      "Failed requesting Block Island\n",
      "Failed requesting Basement Home\n",
      "Failed requesting Basement Home\n",
      "Failed requesting Hotel Columbia\n"
     ]
    },
    {
     "name": "stderr",
     "output_type": "stream",
     "text": [
      "Processing Jesse Malin_tracks.parquet:  95%|█████████▌| 318/333 [01:22<00:00, 39.47it/s]"
     ]
    },
    {
     "name": "stdout",
     "output_type": "stream",
     "text": [
      "Failed requesting Hotel Columbia\n",
      "Failed requesting Indian Summer\n",
      "Failed requesting Indian Summer\n",
      "Failed requesting God's Lonely People\n",
      "Failed requesting God's Lonely People\n",
      "Failed requesting Cigarettes and Violets\n",
      "Failed requesting Cigarettes and Violets\n",
      "Failed requesting Cigarettes and Violets\n"
     ]
    },
    {
     "name": "stderr",
     "output_type": "stream",
     "text": [
      "Processing Jesse Malin_tracks.parquet:  98%|█████████▊| 326/333 [01:23<00:00, 39.06it/s]"
     ]
    },
    {
     "name": "stdout",
     "output_type": "stream",
     "text": [
      "Failed requesting Basement Home - Live In Liverpool / 2004\n",
      "Failed requesting Brooklyn - Live In Liverpool / 2004\n",
      "Failed requesting Wendy - Live At Asbury Park, New Jersey / 2003\n",
      "Failed requesting Silver Manhattan - Live In Liverpool / 2004\n",
      "Failed requesting Since Your In Love - Live In Liverpool / 2004\n",
      "Failed requesting Almost Grown - Live In Liverpool / 2004\n",
      "Failed requesting Going Out West - Live In Liverpool / 2004\n",
      "Failed requesting Riding On The Subway - Live In Liverpool / 2004\n"
     ]
    },
    {
     "name": "stderr",
     "output_type": "stream",
     "text": [
      "Processing Jesse Malin_tracks.parquet: 100%|██████████| 333/333 [01:23<00:00,  4.00it/s]"
     ]
    },
    {
     "name": "stdout",
     "output_type": "stream",
     "text": [
      "Failed requesting Everybody's Talkin' - From Midnight Cowboy / Soundcheck Liverpool / 2004\n",
      "Failed requesting Questioningly - Studio 2001\n",
      "Failed requesting Red Eye - Studio 2003\n",
      "Failed requesting Hungry Heart\n"
     ]
    },
    {
     "name": "stderr",
     "output_type": "stream",
     "text": [
      "\n",
      "Processing Jesse McCartney_tracks.parquet:   3%|▎         | 5/173 [00:00<00:04, 41.53it/s]"
     ]
    },
    {
     "name": "stdout",
     "output_type": "stream",
     "text": [
      "Failed requesting Discovering You\n",
      "Failed requesting Yours\n",
      "Failed requesting What If I Missed You\n",
      "Failed requesting Friends\n",
      "Failed requesting Party For Two\n",
      "Failed requesting Selfless\n",
      "Failed requesting New Stage\n",
      "Failed requesting Highway\n",
      "Failed requesting Kiss The World Goodbye\n"
     ]
    },
    {
     "name": "stderr",
     "output_type": "stream",
     "text": [
      "Processing Jesse McCartney_tracks.parquet:   9%|▊         | 15/173 [00:00<00:03, 41.38it/s]"
     ]
    },
    {
     "name": "stdout",
     "output_type": "stream",
     "text": [
      "Failed requesting Lemonade\n",
      "Failed requesting Intro / How Do You Sleep? - Live at The Fillmore, Philadelphia, PA, 2019\n",
      "Failed requesting Leavin' - Live at The Fillmore, Philadelphia, PA, 2019\n",
      "Failed requesting Selfless - Live at The Fillmore, Philadelphia, PA, 2019\n",
      "Failed requesting Punch Drunk Recreation - Live at The Fillmore, Philadelphia, PA, 2019\n",
      "Failed requesting She's No You - Live at The Fillmore, Philadelphia, PA, 2019\n",
      "Failed requesting Soul - Live at The Fillmore, Philadelphia, PA, 2019\n",
      "Failed requesting Shake - Live at The Fillmore, Philadelphia, PA, 2019\n",
      "Failed requesting Medley: It's Over / Anybody / Because You Live - Live at The Fillmore, Philadelphia, PA, 2019\n"
     ]
    },
    {
     "name": "stderr",
     "output_type": "stream",
     "text": [
      "Processing Jesse McCartney_tracks.parquet:  14%|█▍        | 25/173 [00:00<00:03, 41.11it/s]"
     ]
    },
    {
     "name": "stdout",
     "output_type": "stream",
     "text": [
      "Failed requesting Just So You Know - Live at The Fillmore, Philadelphia, PA, 2019\n",
      "Failed requesting Body Language - Live at The Fillmore, Philadelphia, PA, 2019\n",
      "Failed requesting Told You So - Live at The Fillmore, Philadelphia, PA, 2019\n",
      "Failed requesting Right Where You Want Me - Live at The Fillmore, Philadelphia, PA, 2019\n",
      "Failed requesting Better With You - Live at The Fillmore, Philadelphia, PA, 2019\n",
      "Failed requesting Wasted - Live at The Fillmore, Philadelphia, PA, 2019\n",
      "Failed requesting Bleeding Love - Live at The Fillmore, Philadelphia, PA, 2019\n",
      "Failed requesting Beautiful Soul - Live at The Fillmore, Philadelphia, PA, 2019\n",
      "Failed requesting In Technicolor, Pt. I\n",
      "Failed requesting Back Together\n"
     ]
    },
    {
     "name": "stderr",
     "output_type": "stream",
     "text": [
      "Processing Jesse McCartney_tracks.parquet:  17%|█▋        | 30/173 [00:00<00:03, 41.24it/s]"
     ]
    },
    {
     "name": "stdout",
     "output_type": "stream",
     "text": [
      "Failed requesting Young Love\n",
      "Failed requesting Superbad\n",
      "Failed requesting All About Us\n"
     ]
    },
    {
     "name": "stderr",
     "output_type": "stream",
     "text": [
      "Processing Jesse McCartney_tracks.parquet:  22%|██▏       | 38/173 [00:05<00:41,  3.27it/s]"
     ]
    },
    {
     "name": "stdout",
     "output_type": "stream",
     "text": [
      "Failed requesting The Other Guy\n",
      "Failed requesting So Cool - Bonus Track\n"
     ]
    },
    {
     "name": "stderr",
     "output_type": "stream",
     "text": [
      "Processing Jesse McCartney_tracks.parquet:  24%|██▎       | 41/173 [00:08<00:52,  2.50it/s]"
     ]
    },
    {
     "name": "stdout",
     "output_type": "stream",
     "text": [
      "Failed requesting It's Over\n",
      "Failed requesting It's Over\n",
      "Failed requesting Rock You\n",
      "Failed requesting Rock You\n"
     ]
    },
    {
     "name": "stderr",
     "output_type": "stream",
     "text": [
      "Processing Jesse McCartney_tracks.parquet:  27%|██▋       | 47/173 [00:11<01:01,  2.06it/s]"
     ]
    },
    {
     "name": "stdout",
     "output_type": "stream",
     "text": [
      "Failed requesting Makeup\n",
      "Failed requesting Makeup\n",
      "Failed requesting My Baby\n"
     ]
    },
    {
     "name": "stderr",
     "output_type": "stream",
     "text": [
      "Processing Jesse McCartney_tracks.parquet:  32%|███▏      | 55/173 [00:12<00:33,  3.48it/s]"
     ]
    },
    {
     "name": "stdout",
     "output_type": "stream",
     "text": [
      "Failed requesting Told You So\n",
      "Failed requesting Told You So\n",
      "Failed requesting Relapse\n",
      "Failed requesting Relapse\n",
      "Failed requesting Runnin'\n",
      "Failed requesting Runnin'\n",
      "Failed requesting Freaky\n",
      "Failed requesting Freaky\n"
     ]
    },
    {
     "name": "stderr",
     "output_type": "stream",
     "text": [
      "Processing Jesse McCartney_tracks.parquet:  35%|███▍      | 60/173 [00:12<00:21,  5.27it/s]"
     ]
    },
    {
     "name": "stdout",
     "output_type": "stream",
     "text": [
      "Failed requesting Not Your Enemy\n",
      "Failed requesting Not Your Enemy\n"
     ]
    },
    {
     "name": "stderr",
     "output_type": "stream",
     "text": [
      "Processing Jesse McCartney_tracks.parquet:  36%|███▋      | 63/173 [00:14<00:35,  3.10it/s]"
     ]
    },
    {
     "name": "stdout",
     "output_type": "stream",
     "text": [
      "Failed requesting Leavin'\n"
     ]
    },
    {
     "name": "stderr",
     "output_type": "stream",
     "text": [
      "Processing Jesse McCartney_tracks.parquet:  39%|███▊      | 67/173 [00:16<00:42,  2.52it/s]"
     ]
    },
    {
     "name": "stdout",
     "output_type": "stream",
     "text": [
      "Failed requesting It's Over\n",
      "Failed requesting Rock You\n",
      "Failed requesting Rock You\n"
     ]
    },
    {
     "name": "stderr",
     "output_type": "stream",
     "text": [
      "Processing Jesse McCartney_tracks.parquet:  40%|████      | 70/173 [00:18<00:39,  2.59it/s]"
     ]
    },
    {
     "name": "stdout",
     "output_type": "stream",
     "text": [
      "Failed requesting Into Ya\n"
     ]
    },
    {
     "name": "stderr",
     "output_type": "stream",
     "text": [
      "Processing Jesse McCartney_tracks.parquet:  43%|████▎     | 74/173 [00:21<00:58,  1.68it/s]"
     ]
    },
    {
     "name": "stdout",
     "output_type": "stream",
     "text": [
      "Failed requesting My Baby\n"
     ]
    },
    {
     "name": "stderr",
     "output_type": "stream",
     "text": [
      "Processing Jesse McCartney_tracks.parquet:  47%|████▋     | 81/173 [00:22<00:25,  3.59it/s]"
     ]
    },
    {
     "name": "stdout",
     "output_type": "stream",
     "text": [
      "Failed requesting Told You So\n",
      "Failed requesting Relapse\n",
      "Failed requesting Relapse\n",
      "Failed requesting Runnin'\n",
      "Failed requesting Runnin'\n",
      "Failed requesting Freaky\n",
      "Failed requesting Freaky\n",
      "Failed requesting Not Your Enemy\n",
      "Failed requesting Not Your Enemy\n",
      "Failed requesting How Do You Sleep? - Radio Edit Remix\n"
     ]
    },
    {
     "name": "stderr",
     "output_type": "stream",
     "text": [
      "Processing Jesse McCartney_tracks.parquet:  54%|█████▍    | 94/173 [00:23<00:11,  6.96it/s]"
     ]
    },
    {
     "name": "stdout",
     "output_type": "stream",
     "text": [
      "Failed requesting Crash & Burn\n",
      "Failed requesting Body Language\n",
      "Failed requesting In My Veins\n",
      "Failed requesting Right Where You Want Me - Radio Edit Version\n",
      "Failed requesting Just So You Know\n",
      "Failed requesting Blow Your Mind\n",
      "Failed requesting Right Back In The Water\n",
      "Failed requesting Anybody\n",
      "Failed requesting Tell Her\n",
      "Failed requesting Just Go\n"
     ]
    },
    {
     "name": "stderr",
     "output_type": "stream",
     "text": [
      "Processing Jesse McCartney_tracks.parquet:  57%|█████▋    | 98/173 [00:24<00:13,  5.39it/s]"
     ]
    },
    {
     "name": "stdout",
     "output_type": "stream",
     "text": [
      "Failed requesting We Can Go Anywhere\n"
     ]
    },
    {
     "name": "stderr",
     "output_type": "stream",
     "text": [
      "Processing Jesse McCartney_tracks.parquet:  64%|██████▍   | 111/173 [00:37<01:00,  1.03it/s]"
     ]
    },
    {
     "name": "stdout",
     "output_type": "stream",
     "text": [
      "Failed requesting Good Life - Live\n",
      "Failed requesting Good Life - Live\n"
     ]
    },
    {
     "name": "stderr",
     "output_type": "stream",
     "text": [
      "Processing Jesse McCartney_tracks.parquet:  66%|██████▋   | 115/173 [00:39<00:41,  1.38it/s]"
     ]
    },
    {
     "name": "stdout",
     "output_type": "stream",
     "text": [
      "Failed requesting Best Day Of My Life - Live\n",
      "Failed requesting Best Day Of My Life - Live\n"
     ]
    },
    {
     "name": "stderr",
     "output_type": "stream",
     "text": [
      "Processing Jesse McCartney_tracks.parquet:  78%|███████▊  | 135/173 [00:58<00:39,  1.04s/it]"
     ]
    },
    {
     "name": "stdout",
     "output_type": "stream",
     "text": [
      "Failed requesting Good Life - Live\n",
      "Failed requesting Good Life - Live\n"
     ]
    },
    {
     "name": "stderr",
     "output_type": "stream",
     "text": [
      "Processing Jesse McCartney_tracks.parquet:  80%|████████  | 139/173 [01:00<00:25,  1.35it/s]"
     ]
    },
    {
     "name": "stdout",
     "output_type": "stream",
     "text": [
      "Failed requesting Best Day Of My Life - Live\n",
      "Failed requesting Best Day Of My Life - Live\n"
     ]
    },
    {
     "name": "stderr",
     "output_type": "stream",
     "text": [
      "Processing Jesse McCartney_tracks.parquet: 100%|██████████| 173/173 [01:32<00:00,  1.87it/s]\n",
      "Processing Jesse Powell_tracks.parquet:   0%|          | 0/176 [00:00<?, ?it/s]"
     ]
    },
    {
     "name": "stdout",
     "output_type": "stream",
     "text": [
      "Failed requesting Yours\n"
     ]
    },
    {
     "name": "stderr",
     "output_type": "stream",
     "text": [
      "Processing Jesse Powell_tracks.parquet:   1%|          | 1/176 [00:01<03:02,  1.04s/it]"
     ]
    },
    {
     "name": "stdout",
     "output_type": "stream",
     "text": [
      "Failed requesting If I\n"
     ]
    },
    {
     "name": "stderr",
     "output_type": "stream",
     "text": [
      "Processing Jesse Powell_tracks.parquet:   9%|▊         | 15/176 [00:14<02:46,  1.04s/it]"
     ]
    },
    {
     "name": "stdout",
     "output_type": "stream",
     "text": [
      "Failed requesting She Wasn't Last Night\n"
     ]
    },
    {
     "name": "stderr",
     "output_type": "stream",
     "text": [
      "Processing Jesse Powell_tracks.parquet:  12%|█▏        | 21/176 [00:19<02:30,  1.03it/s]"
     ]
    },
    {
     "name": "stdout",
     "output_type": "stream",
     "text": [
      "Failed requesting You\n"
     ]
    },
    {
     "name": "stderr",
     "output_type": "stream",
     "text": [
      "Processing Jesse Powell_tracks.parquet:  16%|█▌        | 28/176 [00:26<02:25,  1.02it/s]"
     ]
    },
    {
     "name": "stdout",
     "output_type": "stream",
     "text": [
      "Failed requesting You\n"
     ]
    },
    {
     "name": "stderr",
     "output_type": "stream",
     "text": [
      "Processing Jesse Powell_tracks.parquet:  17%|█▋        | 30/176 [00:27<01:54,  1.28it/s]"
     ]
    },
    {
     "name": "stdout",
     "output_type": "stream",
     "text": [
      "Failed requesting Ooh, I Like It\n"
     ]
    },
    {
     "name": "stderr",
     "output_type": "stream",
     "text": [
      "Processing Jesse Powell_tracks.parquet:  20%|██        | 36/176 [00:32<02:09,  1.08it/s]"
     ]
    },
    {
     "name": "stdout",
     "output_type": "stream",
     "text": [
      "Failed requesting I Love Your Smile\n"
     ]
    },
    {
     "name": "stderr",
     "output_type": "stream",
     "text": [
      "Processing Jesse Powell_tracks.parquet:  23%|██▎       | 41/176 [00:36<02:04,  1.09it/s]"
     ]
    },
    {
     "name": "stdout",
     "output_type": "stream",
     "text": [
      "Failed requesting I'm Still Waiting\n"
     ]
    },
    {
     "name": "stderr",
     "output_type": "stream",
     "text": [
      "Processing Jesse Powell_tracks.parquet:  26%|██▌       | 45/176 [00:39<01:54,  1.14it/s]"
     ]
    },
    {
     "name": "stdout",
     "output_type": "stream",
     "text": [
      "Failed requesting My, My, My\n"
     ]
    },
    {
     "name": "stderr",
     "output_type": "stream",
     "text": [
      "Processing Jesse Powell_tracks.parquet:  28%|██▊       | 49/176 [00:42<01:49,  1.16it/s]"
     ]
    },
    {
     "name": "stdout",
     "output_type": "stream",
     "text": [
      "Failed requesting Tell Me It's Real\n"
     ]
    },
    {
     "name": "stderr",
     "output_type": "stream",
     "text": [
      "Processing Jesse Powell_tracks.parquet:  30%|██▉       | 52/176 [00:45<01:40,  1.23it/s]"
     ]
    },
    {
     "name": "stdout",
     "output_type": "stream",
     "text": [
      "Failed requesting You\n",
      "Failed requesting Giving You The Benefit - 7\" Version\n"
     ]
    },
    {
     "name": "stderr",
     "output_type": "stream",
     "text": [
      "Processing Jesse Powell_tracks.parquet:  32%|███▏      | 56/176 [00:47<01:21,  1.48it/s]"
     ]
    },
    {
     "name": "stdout",
     "output_type": "stream",
     "text": [
      "Failed requesting Intro\n"
     ]
    },
    {
     "name": "stderr",
     "output_type": "stream",
     "text": [
      "Processing Jesse Powell_tracks.parquet:  34%|███▎      | 59/176 [00:49<01:23,  1.40it/s]"
     ]
    },
    {
     "name": "stdout",
     "output_type": "stream",
     "text": [
      "Failed requesting Nice and Slow\n"
     ]
    },
    {
     "name": "stderr",
     "output_type": "stream",
     "text": [
      "Processing Jesse Powell_tracks.parquet:  36%|███▋      | 64/176 [00:53<01:36,  1.16it/s]"
     ]
    },
    {
     "name": "stdout",
     "output_type": "stream",
     "text": [
      "Failed requesting Little Game We Play\n",
      "Failed requesting Feenin\n"
     ]
    },
    {
     "name": "stderr",
     "output_type": "stream",
     "text": [
      "Processing Jesse Powell_tracks.parquet:  38%|███▊      | 67/176 [00:54<01:05,  1.65it/s]"
     ]
    },
    {
     "name": "stdout",
     "output_type": "stream",
     "text": [
      "Failed requesting Sex Me\n",
      "Failed requesting Seven Days\n"
     ]
    },
    {
     "name": "stderr",
     "output_type": "stream",
     "text": [
      "Processing Jesse Powell_tracks.parquet:  40%|███▉      | 70/176 [00:55<00:53,  1.99it/s]"
     ]
    },
    {
     "name": "stdout",
     "output_type": "stream",
     "text": [
      "Failed requesting I Like\n",
      "Failed requesting The Only One 4 Me\n"
     ]
    },
    {
     "name": "stderr",
     "output_type": "stream",
     "text": [
      "Processing Jesse Powell_tracks.parquet:  41%|████▏     | 73/176 [00:56<00:46,  2.21it/s]"
     ]
    },
    {
     "name": "stdout",
     "output_type": "stream",
     "text": [
      "Failed requesting The Break Up\n"
     ]
    },
    {
     "name": "stderr",
     "output_type": "stream",
     "text": [
      "Processing Jesse Powell_tracks.parquet:  46%|████▌     | 81/176 [01:04<01:26,  1.10it/s]"
     ]
    },
    {
     "name": "stdout",
     "output_type": "stream",
     "text": [
      "Failed requesting Love Makes Things Happen\n"
     ]
    },
    {
     "name": "stderr",
     "output_type": "stream",
     "text": [
      "Processing Jesse Powell_tracks.parquet:  49%|████▉     | 86/176 [01:08<01:22,  1.09it/s]"
     ]
    },
    {
     "name": "stdout",
     "output_type": "stream",
     "text": [
      "Failed requesting Forever My Lady\n"
     ]
    },
    {
     "name": "stderr",
     "output_type": "stream",
     "text": [
      "Processing Jesse Powell_tracks.parquet:  53%|█████▎    | 93/176 [01:10<00:30,  2.73it/s]"
     ]
    },
    {
     "name": "stdout",
     "output_type": "stream",
     "text": [
      "Failed requesting Merry Christmas Baby\n",
      "Failed requesting Christmas Came To The Ghetto\n",
      "Failed requesting That's What Christmas Is To Me\n",
      "Failed requesting Merry Christmas Baby (Interlude)\n",
      "Failed requesting Someday At Christmas\n",
      "Failed requesting The First Noel\n"
     ]
    },
    {
     "name": "stderr",
     "output_type": "stream",
     "text": [
      "Processing Jesse Powell_tracks.parquet:  55%|█████▍    | 96/176 [01:11<00:29,  2.75it/s]"
     ]
    },
    {
     "name": "stdout",
     "output_type": "stream",
     "text": [
      "Failed requesting It Came Upon A Midnight Clear\n"
     ]
    },
    {
     "name": "stderr",
     "output_type": "stream",
     "text": [
      "Processing Jesse Powell_tracks.parquet:  56%|█████▌    | 98/176 [01:12<00:31,  2.44it/s]"
     ]
    },
    {
     "name": "stdout",
     "output_type": "stream",
     "text": [
      "Failed requesting Go Tell It On The Mountain W/ Jesus Is Lord\n",
      "Failed requesting Christmas Morn\n"
     ]
    },
    {
     "name": "stderr",
     "output_type": "stream",
     "text": [
      "Processing Jesse Powell_tracks.parquet:  60%|█████▉    | 105/176 [01:13<00:17,  4.06it/s]"
     ]
    },
    {
     "name": "stdout",
     "output_type": "stream",
     "text": [
      "Failed requesting O Come All Ye Faithful\n",
      "Failed requesting Silent Night\n",
      "Failed requesting Little Drummer Boy\n",
      "Failed requesting Werke Werke\n",
      "Failed requesting Just Wanna Love You\n",
      "Failed requesting Talkin In Your Sleep\n"
     ]
    },
    {
     "name": "stderr",
     "output_type": "stream",
     "text": [
      "Processing Jesse Powell_tracks.parquet:  61%|██████▏   | 108/176 [01:15<00:19,  3.55it/s]"
     ]
    },
    {
     "name": "stdout",
     "output_type": "stream",
     "text": [
      "Failed requesting Crazy\n",
      "Failed requesting Walked Outta Heaven\n",
      "Failed requesting Bend Over\n"
     ]
    },
    {
     "name": "stderr",
     "output_type": "stream",
     "text": [
      "Processing Jesse Powell_tracks.parquet:  64%|██████▍   | 113/176 [01:17<00:23,  2.71it/s]"
     ]
    },
    {
     "name": "stdout",
     "output_type": "stream",
     "text": [
      "Failed requesting It'S Alright\n",
      "Failed requesting I'm Trying To What\n"
     ]
    },
    {
     "name": "stderr",
     "output_type": "stream",
     "text": [
      "Processing Jesse Powell_tracks.parquet:  66%|██████▌   | 116/176 [01:18<00:21,  2.73it/s]"
     ]
    },
    {
     "name": "stdout",
     "output_type": "stream",
     "text": [
      "Failed requesting Let's Get Away\n",
      "Failed requesting Wanna Get To Know You\n",
      "Failed requesting Lust Or Love\n"
     ]
    },
    {
     "name": "stderr",
     "output_type": "stream",
     "text": [
      "Processing Jesse Powell_tracks.parquet:  70%|███████   | 124/176 [01:20<00:15,  3.39it/s]"
     ]
    },
    {
     "name": "stdout",
     "output_type": "stream",
     "text": [
      "Failed requesting Night In Harlem\n",
      "Failed requesting Alone\n",
      "Failed requesting Talk To Me\n"
     ]
    },
    {
     "name": "stderr",
     "output_type": "stream",
     "text": [
      "Processing Jesse Powell_tracks.parquet:  74%|███████▍  | 130/176 [01:22<00:12,  3.67it/s]"
     ]
    },
    {
     "name": "stdout",
     "output_type": "stream",
     "text": [
      "Failed requesting U Know That I Know\n",
      "Failed requesting All Over Again\n",
      "Failed requesting Somebody's Baby\n",
      "Failed requesting Need Your Love\n",
      "Failed requesting All I Want Is You\n",
      "Failed requesting How It Feels\n",
      "Failed requesting Independent Lady\n",
      "Failed requesting Everything's Everything\n"
     ]
    },
    {
     "name": "stderr",
     "output_type": "stream",
     "text": [
      "Processing Jesse Powell_tracks.parquet:  78%|███████▊  | 138/176 [01:23<00:04,  8.45it/s]"
     ]
    },
    {
     "name": "stdout",
     "output_type": "stream",
     "text": [
      "Failed requesting We Can Dance\n",
      "Failed requesting Rise\n",
      "Failed requesting Cheeky\n",
      "Failed requesting Is This The End\n",
      "Failed requesting Number On A Napkin\n",
      "Failed requesting Ooh Wee Baby\n",
      "Failed requesting Let Me Show You\n",
      "Failed requesting Just Anotha Guy\n"
     ]
    },
    {
     "name": "stderr",
     "output_type": "stream",
     "text": [
      "Processing Jesse Powell_tracks.parquet:  83%|████████▎ | 146/176 [01:23<00:02, 14.76it/s]"
     ]
    },
    {
     "name": "stdout",
     "output_type": "stream",
     "text": [
      "Failed requesting Georgy Porgy (feat. Faith Evans)\n",
      "Failed requesting Jivin' With Jack The Bellboy\n",
      "Failed requesting Black Velvet\n",
      "Failed requesting The Salt Mines\n",
      "Failed requesting Serenade In Blue\n",
      "Failed requesting Right Foot Then Left Foot\n",
      "Failed requesting Bubbles\n"
     ]
    },
    {
     "name": "stderr",
     "output_type": "stream",
     "text": [
      "Processing Jesse Powell_tracks.parquet:  88%|████████▊ | 154/176 [01:23<00:01, 21.22it/s]"
     ]
    },
    {
     "name": "stdout",
     "output_type": "stream",
     "text": [
      "Failed requesting Cane River\n",
      "Failed requesting Where Or When\n",
      "Failed requesting Stomp\n",
      "Failed requesting When You're Smiling\n",
      "Failed requesting Jeep's Blues\n",
      "Failed requesting Just Friends\n",
      "Failed requesting Wide Open Spaces\n",
      "Failed requesting Baltimore Bounce\n"
     ]
    },
    {
     "name": "stderr",
     "output_type": "stream",
     "text": [
      "Processing Jesse Powell_tracks.parquet:  92%|█████████▏| 162/176 [01:23<00:00, 26.15it/s]"
     ]
    },
    {
     "name": "stdout",
     "output_type": "stream",
     "text": [
      "Failed requesting Strictly Cash\n",
      "Failed requesting Hey Spo-Dee-O-Dee\n",
      "Failed requesting Groove Station\n",
      "Failed requesting Applejack - (Previously Unissued)\n",
      "Failed requesting Hot Box\n",
      "Failed requesting Nell Don't Wear No Button Up Shoes\n",
      "Failed requesting Like A Ship At Sea\n"
     ]
    },
    {
     "name": "stderr",
     "output_type": "stream",
     "text": [
      "Processing Jesse Powell_tracks.parquet:  97%|█████████▋| 170/176 [01:23<00:00, 29.68it/s]"
     ]
    },
    {
     "name": "stdout",
     "output_type": "stream",
     "text": [
      "Failed requesting Neck Bones and Collard Greens\n",
      "Failed requesting Now Ride The 'D' Train\n",
      "Failed requesting Feelin' The Blues\n",
      "Failed requesting Love To Spare\n",
      "Failed requesting Marshall Plan\n",
      "Failed requesting Balancing With Bill\n",
      "Failed requesting September Song\n",
      "Failed requesting Rear Bumper\n"
     ]
    },
    {
     "name": "stderr",
     "output_type": "stream",
     "text": [
      "Processing Jesse Powell_tracks.parquet: 100%|██████████| 176/176 [01:24<00:00,  2.09it/s]\n"
     ]
    },
    {
     "name": "stdout",
     "output_type": "stream",
     "text": [
      "Failed requesting Steady Eddie\n",
      "Failed requesting Rocket Flight\n",
      "Failed requesting Rock Bottom\n",
      "Failed requesting Wango Blues\n"
     ]
    },
    {
     "name": "stderr",
     "output_type": "stream",
     "text": [
      "Processing Jesse Stone_tracks.parquet:   1%|▏         | 5/367 [00:00<00:09, 39.12it/s]"
     ]
    },
    {
     "name": "stdout",
     "output_type": "stream",
     "text": [
      "Failed requesting Hey Sister Lucy (What Makes Your Lips So Juicy)\n",
      "Failed requesting Hey Sister Lucy (What Makes Your Lips So Juicy)\n",
      "Failed requesting Hey Sister Lucy (What Makes Your Lips So Juicy)\n",
      "Failed requesting Hey Sister Lucy (What Makes Your Lips So Juicy)\n",
      "Failed requesting Sneaky Pete\n",
      "Failed requesting Sneaky Pete\n",
      "Failed requesting Sneaky Pete\n",
      "Failed requesting Who Killed 'Er\n"
     ]
    },
    {
     "name": "stderr",
     "output_type": "stream",
     "text": [
      "Processing Jesse Stone_tracks.parquet:   4%|▎         | 13/367 [00:00<00:09, 35.45it/s]"
     ]
    },
    {
     "name": "stdout",
     "output_type": "stream",
     "text": [
      "Failed requesting Who Killed 'Er\n",
      "Failed requesting Who Killed 'Er\n",
      "Failed requesting Don't Let It Get Away\n",
      "Failed requesting Don't Let It Get Away\n",
      "Failed requesting Don't Let It Get Away\n",
      "Failed requesting (I Don't Know) Why The Car Won't Go\n",
      "Failed requesting (I Don't Know) Why The Car Won't Go\n",
      "Failed requesting (I Don't Know) Why The Car Won't Go\n",
      "Failed requesting (I Don't Know) Why The Car Won't Go\n"
     ]
    },
    {
     "name": "stderr",
     "output_type": "stream",
     "text": [
      "Processing Jesse Stone_tracks.parquet:   6%|▌         | 21/367 [00:00<00:09, 36.45it/s]"
     ]
    },
    {
     "name": "stdout",
     "output_type": "stream",
     "text": [
      "Failed requesting An Ace In The Hole\n",
      "Failed requesting An Ace In The Hole\n",
      "Failed requesting Cole Slaw (Sorghum Switch)\n",
      "Failed requesting Cole Slaw (Sorghum Switch)\n",
      "Failed requesting Cole Slaw (Sorghum Switch)\n",
      "Failed requesting Mister Jelly Fingers\n",
      "Failed requesting Mister Jelly Fingers\n"
     ]
    },
    {
     "name": "stderr",
     "output_type": "stream",
     "text": [
      "Processing Jesse Stone_tracks.parquet:   8%|▊         | 29/367 [00:00<00:09, 36.48it/s]"
     ]
    },
    {
     "name": "stdout",
     "output_type": "stream",
     "text": [
      "Failed requesting Mister Jelly Fingers\n",
      "Failed requesting The Donkey And The Elephant\n",
      "Failed requesting The Donkey And The Elephant\n",
      "Failed requesting The Donkey And The Elephant\n",
      "Failed requesting Keep Your Big Mouth Shut\n",
      "Failed requesting Keep Your Big Mouth Shut\n",
      "Failed requesting Keep Your Big Mouth Shut\n",
      "Failed requesting Keep Your Big Mouth Shut\n",
      "Failed requesting I Came Home Unexpectedly\n"
     ]
    },
    {
     "name": "stderr",
     "output_type": "stream",
     "text": [
      "Processing Jesse Stone_tracks.parquet:  11%|█         | 41/367 [00:01<00:08, 37.74it/s]"
     ]
    },
    {
     "name": "stdout",
     "output_type": "stream",
     "text": [
      "Failed requesting I Came Home Unexpectedly\n",
      "Failed requesting I Came Home Unexpectedly\n",
      "Failed requesting I Came Home Unexpectedly\n",
      "Failed requesting Bling-A-Ling-A-Ling\n",
      "Failed requesting Bling-A-Ling-A-Ling\n",
      "Failed requesting Bling-A-Ling-A-Ling\n",
      "Failed requesting Bling-A-Ling-A-Ling\n",
      "Failed requesting Smack Dab In The Middle\n"
     ]
    },
    {
     "name": "stderr",
     "output_type": "stream",
     "text": [
      "Processing Jesse Stone_tracks.parquet:  13%|█▎        | 49/367 [00:01<00:08, 36.84it/s]"
     ]
    },
    {
     "name": "stdout",
     "output_type": "stream",
     "text": [
      "Failed requesting Smack Dab In The Middle\n",
      "Failed requesting Tadpole Wiggle\n",
      "Failed requesting Tadpole Wiggle\n",
      "Failed requesting The Rocket\n",
      "Failed requesting Jamboree\n",
      "Failed requesting Jamboree\n",
      "Failed requesting Jamboree\n",
      "Failed requesting Jamboree\n"
     ]
    },
    {
     "name": "stderr",
     "output_type": "stream",
     "text": [
      "Processing Jesse Stone_tracks.parquet:  14%|█▍        | 53/367 [00:01<00:08, 35.34it/s]"
     ]
    },
    {
     "name": "stdout",
     "output_type": "stream",
     "text": [
      "Failed requesting Come and Dance with Me\n",
      "Failed requesting Come and Dance with Me\n",
      "Failed requesting Hey Tiger\n",
      "Failed requesting Hey Tiger\n",
      "Failed requesting Hey Tiger\n",
      "Failed requesting Hey Tiger\n",
      "Failed requesting Oh That'll Be Joyful\n",
      "Failed requesting Tall And Short\n"
     ]
    },
    {
     "name": "stderr",
     "output_type": "stream",
     "text": [
      "Processing Jesse Stone_tracks.parquet:  17%|█▋        | 61/367 [00:01<00:08, 36.90it/s]"
     ]
    },
    {
     "name": "stdout",
     "output_type": "stream",
     "text": [
      "Failed requesting Tall And Short\n",
      "Failed requesting Tall And Short\n",
      "Failed requesting Hey Sister Lucy (What Makes Your Lips So Juicy)\n",
      "Failed requesting Hey Sister Lucy (What Makes Your Lips So Juicy)\n",
      "Failed requesting Hey Sister Lucy (What Makes Your Lips So Juicy)\n",
      "Failed requesting Hey Sister Lucy (What Makes Your Lips So Juicy)\n",
      "Failed requesting Don't Let It Get Away\n",
      "Failed requesting Don't Let It Get Away\n"
     ]
    },
    {
     "name": "stderr",
     "output_type": "stream",
     "text": [
      "Processing Jesse Stone_tracks.parquet:  19%|█▉        | 71/367 [00:01<00:07, 40.63it/s]"
     ]
    },
    {
     "name": "stdout",
     "output_type": "stream",
     "text": [
      "Failed requesting Don't Let It Get Away\n",
      "Failed requesting (I Don't Know) Why The Car Won't Go\n",
      "Failed requesting (I Don't Know) Why The Car Won't Go\n",
      "Failed requesting (I Don't Know) Why The Car Won't Go\n",
      "Failed requesting (I Don't Know) Why The Car Won't Go\n",
      "Failed requesting An Ace In The Hole\n",
      "Failed requesting An Ace In The Hole\n",
      "Failed requesting Cole Slaw (Sorghum Switch)\n",
      "Failed requesting Cole Slaw (Sorghum Switch)\n"
     ]
    },
    {
     "name": "stderr",
     "output_type": "stream",
     "text": [
      "Processing Jesse Stone_tracks.parquet:  22%|██▏       | 81/367 [00:02<00:06, 41.03it/s]"
     ]
    },
    {
     "name": "stdout",
     "output_type": "stream",
     "text": [
      "Failed requesting Cole Slaw (Sorghum Switch)\n",
      "Failed requesting Mister Jelly Fingers\n",
      "Failed requesting Mister Jelly Fingers\n",
      "Failed requesting Mister Jelly Fingers\n",
      "Failed requesting The Donkey And The Elephant\n",
      "Failed requesting The Donkey And The Elephant\n",
      "Failed requesting The Donkey And The Elephant\n",
      "Failed requesting Keep Your Big Mouth Shut\n",
      "Failed requesting Keep Your Big Mouth Shut\n"
     ]
    },
    {
     "name": "stderr",
     "output_type": "stream",
     "text": [
      "Processing Jesse Stone_tracks.parquet:  23%|██▎       | 86/367 [00:02<00:07, 40.08it/s]"
     ]
    },
    {
     "name": "stdout",
     "output_type": "stream",
     "text": [
      "Failed requesting Keep Your Big Mouth Shut\n",
      "Failed requesting Keep Your Big Mouth Shut\n",
      "Failed requesting I Came Home Unexpectedly\n",
      "Failed requesting I Came Home Unexpectedly\n",
      "Failed requesting I Came Home Unexpectedly\n",
      "Failed requesting I Came Home Unexpectedly\n",
      "Failed requesting Bling-A-Ling-A-Ling\n",
      "Failed requesting Bling-A-Ling-A-Ling\n"
     ]
    },
    {
     "name": "stderr",
     "output_type": "stream",
     "text": [
      "Processing Jesse Stone_tracks.parquet:  26%|██▌       | 96/367 [00:02<00:06, 40.61it/s]"
     ]
    },
    {
     "name": "stdout",
     "output_type": "stream",
     "text": [
      "Failed requesting Bling-A-Ling-A-Ling\n",
      "Failed requesting Bling-A-Ling-A-Ling\n",
      "Failed requesting Jamboree\n",
      "Failed requesting Jamboree\n",
      "Failed requesting Jamboree\n",
      "Failed requesting Jamboree\n",
      "Failed requesting Come and Dance with Me\n",
      "Failed requesting Come and Dance with Me\n",
      "Failed requesting Hey Tiger\n",
      "Failed requesting Hey Tiger\n"
     ]
    },
    {
     "name": "stderr",
     "output_type": "stream",
     "text": [
      "Processing Jesse Stone_tracks.parquet:  29%|██▉       | 106/367 [00:02<00:06, 39.64it/s]"
     ]
    },
    {
     "name": "stdout",
     "output_type": "stream",
     "text": [
      "Failed requesting Hey Tiger\n",
      "Failed requesting Hey Tiger\n",
      "Failed requesting Barrelhouse\n",
      "Failed requesting Barrelhouse\n",
      "Failed requesting Crawfish\n",
      "Failed requesting Crawfish\n",
      "Failed requesting Do It Now\n"
     ]
    },
    {
     "name": "stderr",
     "output_type": "stream",
     "text": [
      "Processing Jesse Stone_tracks.parquet:  31%|███▏      | 115/367 [00:03<00:06, 37.84it/s]"
     ]
    },
    {
     "name": "stdout",
     "output_type": "stream",
     "text": [
      "Failed requesting Do It Now\n",
      "Failed requesting Easy Walkin' (Instrumental)\n",
      "Failed requesting Get It While You Can\n",
      "Failed requesting My Pigeon's Gone\n",
      "Failed requesting My Pigeon's Gone\n",
      "Failed requesting My Pigeon's Gone\n",
      "Failed requesting Night Life\n",
      "Failed requesting Night Life\n",
      "Failed requesting Night Life\n"
     ]
    },
    {
     "name": "stderr",
     "output_type": "stream",
     "text": [
      "Processing Jesse Stone_tracks.parquet:  34%|███▍      | 124/367 [00:03<00:06, 39.49it/s]"
     ]
    },
    {
     "name": "stdout",
     "output_type": "stream",
     "text": [
      "Failed requesting Hey Sister Lucy (What Makes Your Lips So Juicy)\n",
      "Failed requesting Hey Sister Lucy (What Makes Your Lips So Juicy)\n",
      "Failed requesting Hey Sister Lucy (What Makes Your Lips So Juicy)\n",
      "Failed requesting Hey Sister Lucy (What Makes Your Lips So Juicy)\n",
      "Failed requesting Sneaky Pete\n",
      "Failed requesting Sneaky Pete\n",
      "Failed requesting Sneaky Pete\n",
      "Failed requesting Who Killed 'Er\n",
      "Failed requesting Who Killed 'Er\n"
     ]
    },
    {
     "name": "stderr",
     "output_type": "stream",
     "text": [
      "Processing Jesse Stone_tracks.parquet:  36%|███▌      | 133/367 [00:03<00:06, 38.78it/s]"
     ]
    },
    {
     "name": "stdout",
     "output_type": "stream",
     "text": [
      "Failed requesting Who Killed 'Er\n",
      "Failed requesting (I Don't Know) Why The Car Won't Go\n",
      "Failed requesting (I Don't Know) Why The Car Won't Go\n",
      "Failed requesting (I Don't Know) Why The Car Won't Go\n",
      "Failed requesting (I Don't Know) Why The Car Won't Go\n",
      "Failed requesting Cole Slaw (Sorghum Switch)\n",
      "Failed requesting Cole Slaw (Sorghum Switch)\n",
      "Failed requesting Cole Slaw (Sorghum Switch)\n",
      "Failed requesting The Donkey And The Elephant\n",
      "Failed requesting The Donkey And The Elephant\n"
     ]
    },
    {
     "name": "stderr",
     "output_type": "stream",
     "text": [
      "Processing Jesse Stone_tracks.parquet:  39%|███▉      | 143/367 [00:03<00:05, 39.83it/s]"
     ]
    },
    {
     "name": "stdout",
     "output_type": "stream",
     "text": [
      "Failed requesting The Donkey And The Elephant\n",
      "Failed requesting Keep Your Big Mouth Shut\n",
      "Failed requesting Keep Your Big Mouth Shut\n",
      "Failed requesting Keep Your Big Mouth Shut\n",
      "Failed requesting Keep Your Big Mouth Shut\n",
      "Failed requesting I Came Home Unexpectedly\n",
      "Failed requesting I Came Home Unexpectedly\n",
      "Failed requesting I Came Home Unexpectedly\n",
      "Failed requesting I Came Home Unexpectedly\n"
     ]
    },
    {
     "name": "stderr",
     "output_type": "stream",
     "text": [
      "Processing Jesse Stone_tracks.parquet:  40%|████      | 147/367 [00:03<00:06, 32.29it/s]"
     ]
    },
    {
     "name": "stdout",
     "output_type": "stream",
     "text": [
      "Failed requesting Bling-A-Ling-A-Ling\n",
      "Failed requesting Bling-A-Ling-A-Ling\n",
      "Failed requesting Bling-A-Ling-A-Ling\n",
      "Failed requesting Bling-A-Ling-A-Ling\n",
      "Failed requesting Tadpole Wiggle\n",
      "Failed requesting Tadpole Wiggle\n"
     ]
    },
    {
     "name": "stderr",
     "output_type": "stream",
     "text": [
      "Processing Jesse Stone_tracks.parquet:  42%|████▏     | 155/367 [00:04<00:06, 35.10it/s]"
     ]
    },
    {
     "name": "stdout",
     "output_type": "stream",
     "text": [
      "Failed requesting Jamboree\n",
      "Failed requesting Jamboree\n",
      "Failed requesting Jamboree\n",
      "Failed requesting Jamboree\n",
      "Failed requesting Hey Tiger\n",
      "Failed requesting Hey Tiger\n",
      "Failed requesting Hey Tiger\n",
      "Failed requesting Hey Tiger\n"
     ]
    },
    {
     "name": "stderr",
     "output_type": "stream",
     "text": [
      "Processing Jesse Stone_tracks.parquet:  45%|████▍     | 165/367 [00:04<00:05, 39.34it/s]"
     ]
    },
    {
     "name": "stdout",
     "output_type": "stream",
     "text": [
      "Failed requesting Tall And Short\n",
      "Failed requesting Tall And Short\n",
      "Failed requesting Tall And Short\n",
      "Failed requesting Crawfish\n",
      "Failed requesting Crawfish\n",
      "Failed requesting My Pigeon's Gone\n",
      "Failed requesting My Pigeon's Gone\n",
      "Failed requesting My Pigeon's Gone\n",
      "Failed requesting Night Life\n",
      "Failed requesting Night Life\n"
     ]
    },
    {
     "name": "stderr",
     "output_type": "stream",
     "text": [
      "Processing Jesse Stone_tracks.parquet:  47%|████▋     | 174/367 [00:04<00:05, 32.84it/s]"
     ]
    },
    {
     "name": "stdout",
     "output_type": "stream",
     "text": [
      "Failed requesting Night Life\n",
      "Failed requesting Who's Zat\n",
      "Failed requesting Who's Zat\n",
      "Failed requesting Oh That'll Be Joyful\n",
      "Failed requesting Starvation Blues\n",
      "Failed requesting Starvation Blues\n",
      "Failed requesting Boot to Boot\n",
      "Failed requesting Hey Sister Lucy (What Makes Your Lips So Juicy)\n",
      "Failed requesting Hey Sister Lucy (What Makes Your Lips So Juicy)\n"
     ]
    },
    {
     "name": "stderr",
     "output_type": "stream",
     "text": [
      "Processing Jesse Stone_tracks.parquet:  50%|████▉     | 183/367 [00:04<00:05, 36.37it/s]"
     ]
    },
    {
     "name": "stdout",
     "output_type": "stream",
     "text": [
      "Failed requesting Hey Sister Lucy (What Makes Your Lips So Juicy)\n",
      "Failed requesting Hey Sister Lucy (What Makes Your Lips So Juicy)\n",
      "Failed requesting Sneaky Pete\n",
      "Failed requesting Sneaky Pete\n",
      "Failed requesting Sneaky Pete\n",
      "Failed requesting Who Killed 'Er\n",
      "Failed requesting Who Killed 'Er\n",
      "Failed requesting Who Killed 'Er\n",
      "Failed requesting Don't Let It Get Away\n"
     ]
    },
    {
     "name": "stderr",
     "output_type": "stream",
     "text": [
      "Processing Jesse Stone_tracks.parquet:  53%|█████▎    | 193/367 [00:05<00:04, 39.61it/s]"
     ]
    },
    {
     "name": "stdout",
     "output_type": "stream",
     "text": [
      "Failed requesting Don't Let It Get Away\n",
      "Failed requesting Don't Let It Get Away\n",
      "Failed requesting (I Don't Know) Why The Car Won't Go\n",
      "Failed requesting (I Don't Know) Why The Car Won't Go\n",
      "Failed requesting (I Don't Know) Why The Car Won't Go\n",
      "Failed requesting (I Don't Know) Why The Car Won't Go\n",
      "Failed requesting Mister Jelly Fingers\n",
      "Failed requesting Mister Jelly Fingers\n",
      "Failed requesting Mister Jelly Fingers\n",
      "Failed requesting Keep Your Big Mouth Shut\n"
     ]
    },
    {
     "name": "stderr",
     "output_type": "stream",
     "text": [
      "Processing Jesse Stone_tracks.parquet:  55%|█████▌    | 203/367 [00:05<00:03, 41.31it/s]"
     ]
    },
    {
     "name": "stdout",
     "output_type": "stream",
     "text": [
      "Failed requesting Keep Your Big Mouth Shut\n",
      "Failed requesting Keep Your Big Mouth Shut\n",
      "Failed requesting Keep Your Big Mouth Shut\n",
      "Failed requesting I Came Home Unexpectedly\n",
      "Failed requesting I Came Home Unexpectedly\n",
      "Failed requesting I Came Home Unexpectedly\n",
      "Failed requesting I Came Home Unexpectedly\n",
      "Failed requesting Bling-A-Ling-A-Ling\n",
      "Failed requesting Bling-A-Ling-A-Ling\n"
     ]
    },
    {
     "name": "stderr",
     "output_type": "stream",
     "text": [
      "Processing Jesse Stone_tracks.parquet:  58%|█████▊    | 213/367 [00:05<00:03, 41.54it/s]"
     ]
    },
    {
     "name": "stdout",
     "output_type": "stream",
     "text": [
      "Failed requesting Bling-A-Ling-A-Ling\n",
      "Failed requesting Bling-A-Ling-A-Ling\n",
      "Failed requesting Smack Dab In The Middle\n",
      "Failed requesting Smack Dab In The Middle\n",
      "Failed requesting Jamboree\n",
      "Failed requesting Jamboree\n",
      "Failed requesting Jamboree\n",
      "Failed requesting Jamboree\n",
      "Failed requesting Hey Tiger\n"
     ]
    },
    {
     "name": "stderr",
     "output_type": "stream",
     "text": [
      "Processing Jesse Stone_tracks.parquet:  59%|█████▉    | 218/367 [00:05<00:03, 41.42it/s]"
     ]
    },
    {
     "name": "stdout",
     "output_type": "stream",
     "text": [
      "Failed requesting Hey Tiger\n",
      "Failed requesting Hey Tiger\n",
      "Failed requesting Hey Tiger\n",
      "Failed requesting Tall And Short\n",
      "Failed requesting Tall And Short\n",
      "Failed requesting Tall And Short\n",
      "Failed requesting Barrelhouse\n",
      "Failed requesting Barrelhouse\n"
     ]
    },
    {
     "name": "stderr",
     "output_type": "stream",
     "text": [
      "Processing Jesse Stone_tracks.parquet:  62%|██████▏   | 228/367 [00:05<00:03, 41.53it/s]"
     ]
    },
    {
     "name": "stdout",
     "output_type": "stream",
     "text": [
      "Failed requesting Do It Now\n",
      "Failed requesting Do It Now\n",
      "Failed requesting My Pigeon's Gone\n",
      "Failed requesting My Pigeon's Gone\n",
      "Failed requesting My Pigeon's Gone\n",
      "Failed requesting Night Life\n",
      "Failed requesting Night Life\n",
      "Failed requesting Night Life\n",
      "Failed requesting Who's Zat\n"
     ]
    },
    {
     "name": "stderr",
     "output_type": "stream",
     "text": [
      "Processing Jesse Stone_tracks.parquet:  65%|██████▍   | 238/367 [00:06<00:03, 39.31it/s]"
     ]
    },
    {
     "name": "stdout",
     "output_type": "stream",
     "text": [
      "Failed requesting Who's Zat\n",
      "Failed requesting Crawfish\n",
      "Failed requesting The Stash\n",
      "Failed requesting Starvation Blues\n",
      "Failed requesting Starvation Blues\n",
      "Failed requesting Pleasure Mad\n",
      "Failed requesting Market St Blues\n"
     ]
    },
    {
     "name": "stderr",
     "output_type": "stream",
     "text": [
      "Processing Jesse Stone_tracks.parquet:  67%|██████▋   | 246/367 [00:06<00:03, 32.08it/s]"
     ]
    },
    {
     "name": "stdout",
     "output_type": "stream",
     "text": [
      "Failed requesting I Woke Up Cold in Hand\n",
      "Failed requesting King Porter Stomp\n",
      "Failed requesting Every Man That Wears Bell-Bottom Britches Ain't No Monkey Man\n",
      "Failed requesting My Daddy Rocks Me\n",
      "Failed requesting Market Street Stomp\n",
      "Failed requesting Won't Don't Blues\n",
      "Failed requesting Way Down In Lovery's Lane\n",
      "Failed requesting Grandpa's Spell\n"
     ]
    },
    {
     "name": "stderr",
     "output_type": "stream",
     "text": [
      "Processing Jesse Stone_tracks.parquet:  69%|██████▉   | 254/367 [00:06<00:03, 32.98it/s]"
     ]
    },
    {
     "name": "stdout",
     "output_type": "stream",
     "text": [
      "Failed requesting Kansas Avenue Blues\n",
      "Failed requesting East St Louis Stomp\n",
      "Failed requesting Chauffer's Shuffle\n",
      "Failed requesting Laughing Blues\n",
      "Failed requesting She's Crying For Me\n",
      "Failed requesting Capitol Blues\n",
      "Failed requesting Go 'Won To Town\n",
      "Failed requesting What Do You Want\n"
     ]
    },
    {
     "name": "stderr",
     "output_type": "stream",
     "text": [
      "Processing Jesse Stone_tracks.parquet:  71%|███████▏  | 262/367 [00:07<00:03, 33.31it/s]"
     ]
    },
    {
     "name": "stdout",
     "output_type": "stream",
     "text": [
      "Failed requesting What A Man\n",
      "Failed requesting Tiritomba\n",
      "Failed requesting Mister Patton aus Manhattan\n",
      "Failed requesting Bim-Bam-Bounce\n",
      "Failed requesting Vaya con Dios\n",
      "Failed requesting Weißer Holunder\n",
      "Failed requesting Simsalabim\n",
      "Failed requesting Der Mond hält seine Wacht\n"
     ]
    },
    {
     "name": "stderr",
     "output_type": "stream",
     "text": [
      "Processing Jesse Stone_tracks.parquet:  72%|███████▏  | 266/367 [00:07<00:03, 33.01it/s]"
     ]
    },
    {
     "name": "stdout",
     "output_type": "stream",
     "text": [
      "Failed requesting Am Schnürchen\n",
      "Failed requesting Heimweh (Dort wo die blumen blüh'n)\n",
      "Failed requesting Alle Röckchen fliegen\n",
      "Failed requesting Ein Gruß, ein Kuss, ein Blumenstrauss\n",
      "Failed requesting Alle Straßen führen heim zu dir\n",
      "Failed requesting Die sterne der Heimat\n",
      "Failed requesting Kaskaden\n"
     ]
    },
    {
     "name": "stderr",
     "output_type": "stream",
     "text": [
      "Processing Jesse Stone_tracks.parquet:  75%|███████▍  | 274/367 [00:07<00:02, 33.50it/s]"
     ]
    },
    {
     "name": "stdout",
     "output_type": "stream",
     "text": [
      "Failed requesting Wovon können die Matrosen denn schon träumen\n",
      "Failed requesting Tina Marie\n",
      "Failed requesting Can She Give You Fever\n",
      "Failed requesting Why Do You Treat Me Like You Do\n",
      "Failed requesting Cleo´s Mood\n",
      "Failed requesting Come on Home\n",
      "Failed requesting Comin´ Home Baby\n"
     ]
    },
    {
     "name": "stderr",
     "output_type": "stream",
     "text": [
      "Processing Jesse Stone_tracks.parquet:  77%|███████▋  | 282/367 [00:07<00:02, 34.44it/s]"
     ]
    },
    {
     "name": "stdout",
     "output_type": "stream",
     "text": [
      "Failed requesting Crawfish\n",
      "Failed requesting Crazy Lover\n",
      "Failed requesting Cream in My Coffee , Sugar in My Tea\n",
      "Failed requesting Cry to Me\n",
      "Failed requesting Daddy Rollin´ Stone\n",
      "Failed requesting Delilah\n",
      "Failed requesting Devil in His Heart\n",
      "Failed requesting Do-Re-Mi\n"
     ]
    },
    {
     "name": "stderr",
     "output_type": "stream",
     "text": [
      "Processing Jesse Stone_tracks.parquet:  79%|███████▉  | 291/367 [00:07<00:02, 36.60it/s]"
     ]
    },
    {
     "name": "stdout",
     "output_type": "stream",
     "text": [
      "Failed requesting Don´t You Just Know It\n",
      "Failed requesting We Are Young\n",
      "Failed requesting Selfless, Cold and Composed\n",
      "Failed requesting Let Me Take Over\n",
      "Failed requesting A Night in Tunisia\n",
      "Failed requesting Zombie\n",
      "Failed requesting Teardrop\n",
      "Failed requesting Smack Dab in the Middle\n"
     ]
    },
    {
     "name": "stderr",
     "output_type": "stream",
     "text": [
      "Processing Jesse Stone_tracks.parquet:  80%|████████  | 295/367 [00:07<00:02, 35.37it/s]"
     ]
    },
    {
     "name": "stdout",
     "output_type": "stream",
     "text": [
      "Failed requesting Elijah Rock\n",
      "Failed requesting Love Psalm\n",
      "Failed requesting I Know Where I've Been\n",
      "Failed requesting You're the Voice\n",
      "Failed requesting Mama's Black Baby Boy\n"
     ]
    },
    {
     "name": "stderr",
     "output_type": "stream",
     "text": [
      "Processing Jesse Stone_tracks.parquet:  83%|████████▎ | 303/367 [00:08<00:01, 32.01it/s]"
     ]
    },
    {
     "name": "stdout",
     "output_type": "stream",
     "text": [
      "Failed requesting Keep Movin'\n",
      "Failed requesting Poor Mourner\n",
      "Failed requesting You've Been a Good Old Wagon, but You've Done Broke Down\n",
      "Failed requesting Poor Mourner\n",
      "Failed requesting Nobody\n",
      "Failed requesting What a Time\n",
      "Failed requesting Camp Meeting Jubilee\n",
      "Failed requesting Poor Mourner\n",
      "Failed requesting Down Home Rag\n"
     ]
    },
    {
     "name": "stderr",
     "output_type": "stream",
     "text": [
      "Processing Jesse Stone_tracks.parquet:  85%|████████▌ | 312/367 [00:08<00:01, 35.49it/s]"
     ]
    },
    {
     "name": "stdout",
     "output_type": "stream",
     "text": [
      "Failed requesting The Rain Song\n",
      "Failed requesting Memphis Blues\n",
      "Failed requesting Memphis Blues\n",
      "Failed requesting Blame It on the Blues\n",
      "Failed requesting St. Louis Blues\n",
      "Failed requesting Nigger Blues, \"N Blues\"\n",
      "Failed requesting Livery Stable Blues\n",
      "Failed requesting Moonlight Blues\n",
      "Failed requesting O Death Where Is Thy Sting\n",
      "Failed requesting Beale Street Blues\n"
     ]
    },
    {
     "name": "stderr",
     "output_type": "stream",
     "text": [
      "Processing Jesse Stone_tracks.parquet:  87%|████████▋ | 321/367 [00:08<00:01, 36.28it/s]"
     ]
    },
    {
     "name": "stdout",
     "output_type": "stream",
     "text": [
      "Failed requesting Everything's Gonna Be Alright Tonight\n",
      "Failed requesting I'm the Fat Man\n",
      "Failed requesting Something's Wrong\n",
      "Failed requesting Great Big Hunk of Man\n",
      "Failed requesting Let's Drink Some Whiskey\n",
      "Failed requesting Runaway\n",
      "Failed requesting Hush Your Lyin' Mouth\n"
     ]
    },
    {
     "name": "stderr",
     "output_type": "stream",
     "text": [
      "Processing Jesse Stone_tracks.parquet:  90%|████████▉ | 329/367 [00:08<00:01, 34.03it/s]"
     ]
    },
    {
     "name": "stdout",
     "output_type": "stream",
     "text": [
      "Failed requesting Beer Bottle Boogie\n",
      "Failed requesting Court Room Blues\n",
      "Failed requesting Woman Don't Want a Good Man No More\n",
      "Failed requesting I Want to Know\n",
      "Failed requesting Oh Baby\n",
      "Failed requesting Say Baby\n",
      "Failed requesting All Shook Out\n"
     ]
    },
    {
     "name": "stderr",
     "output_type": "stream",
     "text": [
      "Processing Jesse Stone_tracks.parquet:  92%|█████████▏| 337/367 [00:09<00:00, 33.76it/s]"
     ]
    },
    {
     "name": "stdout",
     "output_type": "stream",
     "text": [
      "Failed requesting Korea\n",
      "Failed requesting Gonna Bring My Baby Back\n",
      "Failed requesting Wild Life\n",
      "Failed requesting The Devil Is Mad\n",
      "Failed requesting What's Shakin'\n",
      "Failed requesting My Baby's Gone Away\n",
      "Failed requesting Lowe Groovin'\n",
      "Failed requesting Hey Tiger\n"
     ]
    },
    {
     "name": "stderr",
     "output_type": "stream",
     "text": [
      "Processing Jesse Stone_tracks.parquet:  93%|█████████▎| 341/367 [00:09<00:00, 33.37it/s]"
     ]
    },
    {
     "name": "stdout",
     "output_type": "stream",
     "text": [
      "Failed requesting Wow!\n",
      "Failed requesting Barrel House\n",
      "Failed requesting Weasel Walk\n",
      "Failed requesting Night Life\n",
      "Failed requesting C. C. Rider\n"
     ]
    },
    {
     "name": "stderr",
     "output_type": "stream",
     "text": [
      "Processing Jesse Stone_tracks.parquet:  95%|█████████▌| 349/367 [00:09<00:00, 30.42it/s]"
     ]
    },
    {
     "name": "stdout",
     "output_type": "stream",
     "text": [
      "Failed requesting Night\n",
      "Failed requesting Hot In Harlem\n",
      "Failed requesting Mr. Pogo\n",
      "Failed requesting Nightmare Blues\n",
      "Failed requesting Light Like That\n",
      "Failed requesting Flyin' High\n",
      "Failed requesting Flying Home Mambo\n"
     ]
    },
    {
     "name": "stderr",
     "output_type": "stream",
     "text": [
      "Processing Jesse Stone_tracks.parquet:  97%|█████████▋| 357/367 [00:09<00:00, 31.02it/s]"
     ]
    },
    {
     "name": "stdout",
     "output_type": "stream",
     "text": [
      "Failed requesting Culley Flower\n",
      "Failed requesting Jest Smoochin'\n",
      "Failed requesting Gone After Hours\n",
      "Failed requesting Castle Rock\n",
      "Failed requesting Hop 'N' Twist\n",
      "Failed requesting Honeydripper\n",
      "Failed requesting One More Hymn\n"
     ]
    },
    {
     "name": "stderr",
     "output_type": "stream",
     "text": [
      "Processing Jesse Stone_tracks.parquet:  99%|█████████▉| 365/367 [00:10<00:00, 32.22it/s]"
     ]
    },
    {
     "name": "stdout",
     "output_type": "stream",
     "text": [
      "Failed requesting It Might as Well Be Spring\n",
      "Failed requesting Sometime Ago\n",
      "Failed requesting Invitation\n",
      "Failed requesting Girl Crazy: Embraceable You\n",
      "Failed requesting What If\n",
      "Failed requesting On What a Beautiful Morning\n",
      "Failed requesting CC Rider\n"
     ]
    },
    {
     "name": "stderr",
     "output_type": "stream",
     "text": [
      "Processing Jesse Stone_tracks.parquet: 100%|██████████| 367/367 [00:10<00:00, 36.05it/s]\n",
      "Processing Jesse Winchester_tracks.parquet:   0%|          | 0/288 [00:00<?, ?it/s]"
     ]
    },
    {
     "name": "stdout",
     "output_type": "stream",
     "text": [
      "Failed requesting Now At Last\n",
      "Failed requesting Still Alive\n",
      "Failed requesting The Head's Lament - Live\n",
      "Failed requesting Rhumba Man - Live\n",
      "Failed requesting Isn't That So - Live\n",
      "Failed requesting Nothing But a Breeze - Live\n"
     ]
    },
    {
     "name": "stderr",
     "output_type": "stream",
     "text": [
      "Processing Jesse Winchester_tracks.parquet:   3%|▎         | 8/288 [00:00<00:08, 32.10it/s]"
     ]
    },
    {
     "name": "stdout",
     "output_type": "stream",
     "text": [
      "Failed requesting Define Gravity - Live\n",
      "Failed requesting Let the Rough Side Drag - Live\n",
      "Failed requesting It seems Like Yesterday - Live\n",
      "Failed requesting It Takes a Young Girl - Live\n",
      "Failed requesting Black Dog - Live\n",
      "Failed requesting I Feel Good - Live\n",
      "Failed requesting The Poor Man's Friend - Live\n"
     ]
    },
    {
     "name": "stderr",
     "output_type": "stream",
     "text": [
      "Processing Jesse Winchester_tracks.parquet:   6%|▌         | 16/288 [00:00<00:08, 33.32it/s]"
     ]
    },
    {
     "name": "stdout",
     "output_type": "stream",
     "text": [
      "Failed requesting Bowling Green - Live\n",
      "Failed requesting Midnight Bus - Live\n",
      "Failed requesting Brand New Tennessee Waltz - Live\n",
      "Failed requesting Jambalaya - Live\n",
      "Failed requesting Black Dog\n",
      "Failed requesting Bowling Green\n",
      "Failed requesting Brand New Tennessee Waltz\n",
      "Failed requesting Defying Gravity\n"
     ]
    },
    {
     "name": "stderr",
     "output_type": "stream",
     "text": [
      "Processing Jesse Winchester_tracks.parquet:   8%|▊         | 24/288 [00:00<00:07, 34.47it/s]"
     ]
    },
    {
     "name": "stdout",
     "output_type": "stream",
     "text": [
      "Failed requesting I Feel Good\n",
      "Failed requesting Isn't That So\n",
      "Failed requesting It Seems Like Yesterday\n",
      "Failed requesting It Takes a Young Girl\n",
      "Failed requesting Let the Rough Side Drag\n",
      "Failed requesting Midnight Bus\n",
      "Failed requesting Nothing But a Breeze\n",
      "Failed requesting Rhumba Man\n"
     ]
    },
    {
     "name": "stderr",
     "output_type": "stream",
     "text": [
      "Processing Jesse Winchester_tracks.parquet:  11%|█         | 32/288 [00:00<00:07, 33.11it/s]"
     ]
    },
    {
     "name": "stdout",
     "output_type": "stream",
     "text": [
      "Failed requesting The Head's Lament\n",
      "Failed requesting The Poor Man's Friend\n",
      "Failed requesting Payday - Live\n",
      "Failed requesting Tell Me Why You Like Roosevelt - Live\n",
      "Failed requesting Bowling Green - Live\n",
      "Failed requesting Midnight Bus - Live\n",
      "Failed requesting Nothing But A Breeze - Live\n"
     ]
    },
    {
     "name": "stderr",
     "output_type": "stream",
     "text": [
      "Processing Jesse Winchester_tracks.parquet:  14%|█▍        | 40/288 [00:01<00:07, 34.43it/s]"
     ]
    },
    {
     "name": "stdout",
     "output_type": "stream",
     "text": [
      "Failed requesting Defying Gravity\n",
      "Failed requesting Let The Rough Side Drag - Live\n",
      "Failed requesting Seems Like Only Yesterday - Live\n",
      "Failed requesting It Takes A Young Girl\n",
      "Failed requesting Black Dog - Live\n",
      "Failed requesting Twigs And Seeds - Live\n",
      "Failed requesting Isn't That So - Live\n",
      "Failed requesting Brand New Tennessee Waltz - Live\n"
     ]
    },
    {
     "name": "stderr",
     "output_type": "stream",
     "text": [
      "Processing Jesse Winchester_tracks.parquet:  17%|█▋        | 48/288 [00:01<00:06, 34.62it/s]"
     ]
    },
    {
     "name": "stdout",
     "output_type": "stream",
     "text": [
      "Failed requesting Jambalaya - Live\n",
      "Failed requesting Rhumba Man - Live\n",
      "Failed requesting Payday Song (Live)\n",
      "Failed requesting Mississippi You're on My Mind (Live)\n",
      "Failed requesting Bowling Green (Live)\n",
      "Failed requesting Rhumba (Live)\n",
      "Failed requesting Isn't That So (Live)\n",
      "Failed requesting Nothing but a Breeze (Live)\n"
     ]
    },
    {
     "name": "stderr",
     "output_type": "stream",
     "text": [
      "Processing Jesse Winchester_tracks.parquet:  19%|█▉        | 56/288 [00:01<00:06, 34.06it/s]"
     ]
    },
    {
     "name": "stdout",
     "output_type": "stream",
     "text": [
      "Failed requesting Defying Gravity (Live)\n",
      "Failed requesting Let the Rough Side Drag (Live)\n",
      "Failed requesting Hank & Lefty (Live)\n",
      "Failed requesting Seems Like Only Yesterday (Live)\n",
      "Failed requesting It Takes a Young Girl (Live)\n",
      "Failed requesting Black Dog (Live)\n",
      "Failed requesting Tell Me Why You Like Roosevelt (Live)\n"
     ]
    },
    {
     "name": "stderr",
     "output_type": "stream",
     "text": [
      "Processing Jesse Winchester_tracks.parquet:  22%|██▏       | 64/288 [00:01<00:06, 35.71it/s]"
     ]
    },
    {
     "name": "stdout",
     "output_type": "stream",
     "text": [
      "Failed requesting Head Lament (Live)\n",
      "Failed requesting Brand New Tennessee Waltz (Live)\n",
      "Failed requesting All That We Have Is Now\n",
      "Failed requesting She Makes It Easy Now\n",
      "Failed requesting Neither Here Nor There\n",
      "Failed requesting Rhythm Of The Rain\n",
      "Failed requesting A Little Louisiana\n",
      "Failed requesting Ghosts\n"
     ]
    },
    {
     "name": "stderr",
     "output_type": "stream",
     "text": [
      "Processing Jesse Winchester_tracks.parquet:  25%|██▌       | 72/288 [00:02<00:06, 34.88it/s]"
     ]
    },
    {
     "name": "stdout",
     "output_type": "stream",
     "text": [
      "Failed requesting Never Forget To Boogie\n",
      "Failed requesting Devil Or Angel\n",
      "Failed requesting Don't Be Shy\n",
      "Failed requesting Every Day I Get The Blues\n",
      "Failed requesting Whispering Bells\n",
      "Failed requesting Just So Much\n",
      "Failed requesting Payday - Live\n",
      "Failed requesting Tell Me Why You Like Roosevelt - Live\n"
     ]
    },
    {
     "name": "stderr",
     "output_type": "stream",
     "text": [
      "Processing Jesse Winchester_tracks.parquet:  26%|██▋       | 76/288 [00:02<00:06, 33.44it/s]"
     ]
    },
    {
     "name": "stdout",
     "output_type": "stream",
     "text": [
      "Failed requesting Bowling Green - Live\n",
      "Failed requesting Midnight Bus - Live\n",
      "Failed requesting Nothing but a Breeze - Live\n",
      "Failed requesting Defying Gravity - Live\n",
      "Failed requesting Let the Rough Side Drag - Live\n",
      "Failed requesting Seems Like Only Yesterday - Live\n",
      "Failed requesting It Takes a Young Girl - Live\n"
     ]
    },
    {
     "name": "stderr",
     "output_type": "stream",
     "text": [
      "Processing Jesse Winchester_tracks.parquet:  29%|██▉       | 84/288 [00:02<00:06, 33.19it/s]"
     ]
    },
    {
     "name": "stdout",
     "output_type": "stream",
     "text": [
      "Failed requesting Black Dog - Live\n",
      "Failed requesting Twigs and Seeds - Live\n",
      "Failed requesting Isn't That So - Live\n",
      "Failed requesting Brand New Tennessee Waltz - Live\n",
      "Failed requesting Jambalaya - Live\n",
      "Failed requesting Rhumba - Live\n",
      "Failed requesting Black Dog\n"
     ]
    },
    {
     "name": "stderr",
     "output_type": "stream",
     "text": [
      "Processing Jesse Winchester_tracks.parquet:  32%|███▏      | 92/288 [00:02<00:06, 28.82it/s]"
     ]
    },
    {
     "name": "stdout",
     "output_type": "stream",
     "text": [
      "Failed requesting Bowling Green\n",
      "Failed requesting Brand New Tennessee Waltz\n",
      "Failed requesting Defying Gravity\n",
      "Failed requesting Isn't That So\n",
      "Failed requesting It Takes A Young Girl\n"
     ]
    },
    {
     "name": "stderr",
     "output_type": "stream",
     "text": [
      "Processing Jesse Winchester_tracks.parquet:  33%|███▎      | 95/288 [00:02<00:06, 28.62it/s]"
     ]
    },
    {
     "name": "stdout",
     "output_type": "stream",
     "text": [
      "Failed requesting Jambalaya\n",
      "Failed requesting Let The Rough Side Drag\n",
      "Failed requesting Midnight Bus\n",
      "Failed requesting Nothing But A Breeze\n",
      "Failed requesting Payday\n",
      "Failed requesting Rhumba Man\n"
     ]
    },
    {
     "name": "stderr",
     "output_type": "stream",
     "text": [
      "Processing Jesse Winchester_tracks.parquet:  36%|███▌      | 103/288 [00:03<00:05, 31.31it/s]"
     ]
    },
    {
     "name": "stdout",
     "output_type": "stream",
     "text": [
      "Failed requesting Seems Like Only Yesterday\n",
      "Failed requesting Tell Me Why You Like Roosevelt\n",
      "Failed requesting Twigs And Seeds\n",
      "Failed requesting O What a Thrill\n",
      "Failed requesting Bless Your Foolish Heart\n",
      "Failed requesting Wear Me Out\n"
     ]
    },
    {
     "name": "stderr",
     "output_type": "stream",
     "text": [
      "Processing Jesse Winchester_tracks.parquet:  39%|███▉      | 112/288 [00:03<00:05, 30.08it/s]"
     ]
    },
    {
     "name": "stdout",
     "output_type": "stream",
     "text": [
      "Failed requesting Stand By Me - (feat. Jerry Douglas)\n",
      "Failed requesting It's a Shame About Him\n",
      "Failed requesting Sham-a-Ling-Dong-Ding\n",
      "Failed requesting I'm Gonna Miss You Girl\n",
      "Failed requesting I Turn to My Guitar\n",
      "Failed requesting Lonely for a While\n",
      "Failed requesting Eulalie\n",
      "Failed requesting Far Side Bank of Jordan\n",
      "Failed requesting Loose Talk - (feat. Claire Lynch)\n"
     ]
    },
    {
     "name": "stderr",
     "output_type": "stream",
     "text": [
      "Processing Jesse Winchester_tracks.parquet:  40%|████      | 116/288 [00:03<00:05, 31.57it/s]"
     ]
    },
    {
     "name": "stdout",
     "output_type": "stream",
     "text": [
      "Failed requesting Payday - Live Version\n",
      "Failed requesting It Seems Like It Was Only Yesturday - Live Version\n",
      "Failed requesting Let The Rough Side Drag - Live Version\n",
      "Failed requesting Defying Gravity - Live Version\n",
      "Failed requesting Bowling Green - Live Version\n",
      "Failed requesting Hank And Lefty - Live Version\n",
      "Failed requesting Nothing But A Breeze - Live Version\n"
     ]
    },
    {
     "name": "stderr",
     "output_type": "stream",
     "text": [
      "Processing Jesse Winchester_tracks.parquet:  43%|████▎     | 124/288 [00:03<00:05, 32.54it/s]"
     ]
    },
    {
     "name": "stdout",
     "output_type": "stream",
     "text": [
      "Failed requesting It Takes A Young Girl - Live Version\n",
      "Failed requesting Rhumba Man - Live Version\n",
      "Failed requesting Head's Lament - Live Version\n",
      "Failed requesting Mississippi You're On My Mind - Live Version\n",
      "Failed requesting Isn't That So - Live Version\n",
      "Failed requesting Tell Me Why You Like Roosevelt - Live Version\n",
      "Failed requesting Black Dog - Live Version\n"
     ]
    },
    {
     "name": "stderr",
     "output_type": "stream",
     "text": [
      "Processing Jesse Winchester_tracks.parquet:  46%|████▌     | 132/288 [00:04<00:04, 33.41it/s]"
     ]
    },
    {
     "name": "stdout",
     "output_type": "stream",
     "text": [
      "Failed requesting Payday - Live at the Bijou Cafe, Philadelphia, May 26, 1977\n",
      "Failed requesting Silly Heart - Live at the Bijou Cafe, Philadelphia, May 26, 1977\n",
      "Failed requesting Tell Me Why You Like Roosevelt - Live at the Bijou Cafe, Philadelphia, May 26, 1977\n",
      "Failed requesting Midnight Bus - Live at the Bijou Cafe, Philadelphia, May 26, 1977\n",
      "Failed requesting Nothing but a Breeze - Live at the Bijou Cafe, Philadelphia, May 26, 1977\n",
      "Failed requesting Defying Gravity - Live at the Bijou Cafe, Philadelphia, May 26, 1977\n",
      "Failed requesting Let the Rough Side Drag - Live at the Bijou Cafe, Philadelphia, May 26, 1977\n"
     ]
    },
    {
     "name": "stderr",
     "output_type": "stream",
     "text": [
      "Processing Jesse Winchester_tracks.parquet:  49%|████▊     | 140/288 [00:04<00:04, 31.13it/s]"
     ]
    },
    {
     "name": "stdout",
     "output_type": "stream",
     "text": [
      "Failed requesting Black Dog - Live at the Bijou Cafe, Philadelphia, May 26, 1977\n",
      "Failed requesting Mississippi You're on My Mind - Live at the Bijou Cafe, Philadelphia, May 26, 1977\n",
      "Failed requesting Twigs and Seeds - Live at the Bijou Cafe, Philadelphia, May 26, 1977\n",
      "Failed requesting Rhumba Man - Live at the Bijou Cafe, Philadelphia, May 26, 1977\n",
      "Failed requesting Isn't That So? - Live at the Bijou Cafe, Philadelphia, May 26, 1977\n",
      "Failed requesting Yankee Lady - Live at the Bijou Cafe, Philadelphia, May 26, 1977\n",
      "Failed requesting I Can't Stand Up Alone - Live at the Bijou Cafe, Philadelphia, May 26, 1977\n"
     ]
    },
    {
     "name": "stderr",
     "output_type": "stream",
     "text": [
      "Processing Jesse Winchester_tracks.parquet:  50%|█████     | 144/288 [00:04<00:04, 30.39it/s]"
     ]
    },
    {
     "name": "stdout",
     "output_type": "stream",
     "text": [
      "Failed requesting Payday\n",
      "Failed requesting Tell Me Why You Like Roosevelt\n",
      "Failed requesting Bowling\n",
      "Failed requesting Midnight Bus\n",
      "Failed requesting Nothing But A Breeze\n",
      "Failed requesting Defying Gravity\n",
      "Failed requesting Let The Rough Side Drag\n"
     ]
    },
    {
     "name": "stderr",
     "output_type": "stream",
     "text": [
      "Processing Jesse Winchester_tracks.parquet:  53%|█████▎    | 152/288 [00:04<00:04, 32.36it/s]"
     ]
    },
    {
     "name": "stdout",
     "output_type": "stream",
     "text": [
      "Failed requesting Seems Like Only Yesterday\n",
      "Failed requesting It Takes A Young Girl\n",
      "Failed requesting Black Dog\n",
      "Failed requesting Twigs And Seeds\n",
      "Failed requesting Isn't That So\n",
      "Failed requesting Brand New Tenessee Waltz\n",
      "Failed requesting Jambalaya\n"
     ]
    },
    {
     "name": "stderr",
     "output_type": "stream",
     "text": [
      "Processing Jesse Winchester_tracks.parquet:  56%|█████▌    | 160/288 [00:04<00:03, 32.78it/s]"
     ]
    },
    {
     "name": "stdout",
     "output_type": "stream",
     "text": [
      "Failed requesting Rhumba Man\n",
      "Failed requesting Eulalie - Live\n",
      "Failed requesting Eulalie - Live\n",
      "Failed requesting Foolish Heart - Live\n",
      "Failed requesting Foolish Heart - Live\n",
      "Failed requesting If Only - Live\n",
      "Failed requesting If Only - Live\n",
      "Failed requesting Love Is Hard, but Love Is Far - Live\n"
     ]
    },
    {
     "name": "stderr",
     "output_type": "stream",
     "text": [
      "Processing Jesse Winchester_tracks.parquet:  58%|█████▊    | 168/288 [00:05<00:03, 34.59it/s]"
     ]
    },
    {
     "name": "stdout",
     "output_type": "stream",
     "text": [
      "Failed requesting Love Is Hard, but Love Is Far - Live\n",
      "Failed requesting Just Like New - Live\n",
      "Failed requesting Just Like New - Live\n",
      "Failed requesting That's What Makes You Strong - Live\n",
      "Failed requesting That's What Makes You Strong - Live\n",
      "Failed requesting Club Manhattan - Live\n",
      "Failed requesting Club Manhattan - Live\n"
     ]
    },
    {
     "name": "stderr",
     "output_type": "stream",
     "text": [
      "Processing Jesse Winchester_tracks.parquet:  61%|██████    | 176/288 [00:05<00:03, 35.51it/s]"
     ]
    },
    {
     "name": "stdout",
     "output_type": "stream",
     "text": [
      "Failed requesting Brand New Tennessee Waltz - Live\n",
      "Failed requesting Brand New Tennessee Waltz - Live\n",
      "Failed requesting Gentleman of Leisure - Live\n",
      "Failed requesting Gentleman of Leisure - Live\n",
      "Failed requesting Little Glass of Wine - Live\n",
      "Failed requesting Little Glass of Wine - Live\n"
     ]
    },
    {
     "name": "stderr",
     "output_type": "stream",
     "text": [
      "Processing Jesse Winchester_tracks.parquet:  62%|██████▎   | 180/288 [00:06<00:11,  9.67it/s]"
     ]
    },
    {
     "name": "stdout",
     "output_type": "stream",
     "text": [
      "Failed requesting Humor Me - Live\n",
      "Failed requesting Songbird - Live\n",
      "Failed requesting Songbird - Live\n",
      "Failed requesting Yankee Lady - Live\n",
      "Failed requesting Yankee Lady - Live\n"
     ]
    },
    {
     "name": "stderr",
     "output_type": "stream",
     "text": [
      "Processing Jesse Winchester_tracks.parquet:  66%|██████▌   | 189/288 [00:08<00:16,  6.15it/s]"
     ]
    },
    {
     "name": "stdout",
     "output_type": "stream",
     "text": [
      "Failed requesting Foolish Heart - Live\n",
      "Failed requesting Foolish Heart - Live\n",
      "Failed requesting If Only - Live\n",
      "Failed requesting If Only - Live\n",
      "Failed requesting Love Is Hard, but Love Is Far - Live\n",
      "Failed requesting Love Is Hard, but Love Is Far - Live\n"
     ]
    },
    {
     "name": "stderr",
     "output_type": "stream",
     "text": [
      "Processing Jesse Winchester_tracks.parquet:  67%|██████▋   | 192/288 [00:09<00:20,  4.59it/s]"
     ]
    },
    {
     "name": "stdout",
     "output_type": "stream",
     "text": [
      "Failed requesting Just Like New - Live\n"
     ]
    },
    {
     "name": "stderr",
     "output_type": "stream",
     "text": [
      "Processing Jesse Winchester_tracks.parquet:  67%|██████▋   | 194/288 [00:10<00:26,  3.52it/s]"
     ]
    },
    {
     "name": "stdout",
     "output_type": "stream",
     "text": [
      "Failed requesting That's What Makes You Strong - Live\n"
     ]
    },
    {
     "name": "stderr",
     "output_type": "stream",
     "text": [
      "Processing Jesse Winchester_tracks.parquet:  69%|██████▉   | 198/288 [00:15<00:55,  1.61it/s]"
     ]
    },
    {
     "name": "stdout",
     "output_type": "stream",
     "text": [
      "Failed requesting Gentleman of Leisure - Live\n",
      "Failed requesting Gentleman of Leisure - Live\n",
      "Failed requesting Little Glass of Wine - Live\n"
     ]
    },
    {
     "name": "stderr",
     "output_type": "stream",
     "text": [
      "Processing Jesse Winchester_tracks.parquet:  72%|███████▏  | 207/288 [00:16<00:20,  3.94it/s]"
     ]
    },
    {
     "name": "stdout",
     "output_type": "stream",
     "text": [
      "Failed requesting Humor Me - Live\n",
      "Failed requesting Humor Me - Live\n",
      "Failed requesting Songbird - Live\n",
      "Failed requesting Songbird - Live\n",
      "Failed requesting Yankee Lady - Live\n",
      "Failed requesting Yankee Lady - Live\n",
      "Failed requesting Club Manhattan\n",
      "Failed requesting Sweet Little Shoe\n"
     ]
    },
    {
     "name": "stderr",
     "output_type": "stream",
     "text": [
      "Processing Jesse Winchester_tracks.parquet:  75%|███████▍  | 215/288 [00:16<00:09,  7.89it/s]"
     ]
    },
    {
     "name": "stdout",
     "output_type": "stream",
     "text": [
      "Failed requesting That's What Makes You Strong\n",
      "Failed requesting No Pride At All\n",
      "Failed requesting Gentleman Of Leisure\n",
      "Failed requesting Wander My Way Home\n",
      "Failed requesting Evil Angel\n",
      "Failed requesting Just Cause I'm In Love With You\n",
      "Failed requesting Just Like New\n"
     ]
    },
    {
     "name": "stderr",
     "output_type": "stream",
     "text": [
      "Processing Jesse Winchester_tracks.parquet:  77%|███████▋  | 223/288 [00:16<00:04, 13.49it/s]"
     ]
    },
    {
     "name": "stdout",
     "output_type": "stream",
     "text": [
      "Failed requesting You Tickle Me\n",
      "Failed requesting Freewheeler\n",
      "Failed requesting Sweet Loving Daddy\n",
      "Failed requesting I Wave Bye Bye\n",
      "Failed requesting Wander My Way Home - Reprise\n",
      "Failed requesting If I Were Free\n",
      "Failed requesting Thanks To You\n",
      "Failed requesting They Just Can't Help Themselves\n"
     ]
    },
    {
     "name": "stderr",
     "output_type": "stream",
     "text": [
      "Processing Jesse Winchester_tracks.parquet:  80%|████████  | 231/288 [00:17<00:02, 19.37it/s]"
     ]
    },
    {
     "name": "stdout",
     "output_type": "stream",
     "text": [
      "Failed requesting Too Weak To Say Goodbye\n",
      "Failed requesting Let's Make A Baby King\n",
      "Failed requesting Well-A-Wiggy\n",
      "Failed requesting I Don’T Think You Love Me Anymore\n",
      "Failed requesting Willow\n",
      "Failed requesting Humor Me\n",
      "Failed requesting I Want To Mean Something To You\n",
      "Failed requesting Pushover\n"
     ]
    },
    {
     "name": "stderr",
     "output_type": "stream",
     "text": [
      "Processing Jesse Winchester_tracks.parquet:  82%|████████▏ | 235/288 [00:17<00:02, 20.96it/s]"
     ]
    },
    {
     "name": "stdout",
     "output_type": "stream",
     "text": [
      "Failed requesting Love Is Fair\n",
      "Failed requesting Say What\n",
      "Failed requesting Baby Blue\n",
      "Failed requesting Leslie\n",
      "Failed requesting Hoot And Holler\n"
     ]
    },
    {
     "name": "stderr",
     "output_type": "stream",
     "text": [
      "Processing Jesse Winchester_tracks.parquet:  84%|████████▍ | 243/288 [00:17<00:01, 24.00it/s]"
     ]
    },
    {
     "name": "stdout",
     "output_type": "stream",
     "text": [
      "Failed requesting If Only\n",
      "Failed requesting Sure Enough\n",
      "Failed requesting I Love You No End\n",
      "Failed requesting Let Go\n",
      "Failed requesting Reckon On Me\n",
      "Failed requesting Talk Memphis\n",
      "Failed requesting A Touch on the Rainy Side\n"
     ]
    },
    {
     "name": "stderr",
     "output_type": "stream",
     "text": [
      "Processing Jesse Winchester_tracks.parquet:  87%|████████▋ | 250/288 [00:17<00:01, 27.49it/s]"
     ]
    },
    {
     "name": "stdout",
     "output_type": "stream",
     "text": [
      "Failed requesting A Showman's Life\n",
      "Failed requesting Sassy\n",
      "Failed requesting Candida\n",
      "Failed requesting High Ball\n",
      "Failed requesting Little Glass of Wine\n",
      "Failed requesting Holly\n"
     ]
    },
    {
     "name": "stderr",
     "output_type": "stream",
     "text": [
      "Processing Jesse Winchester_tracks.parquet:  88%|████████▊ | 254/288 [00:18<00:04,  8.29it/s]"
     ]
    },
    {
     "name": "stdout",
     "output_type": "stream",
     "text": [
      "Failed requesting Just Now It Feels Right\n",
      "Failed requesting I'm Looking for a Miracle\n"
     ]
    },
    {
     "name": "stderr",
     "output_type": "stream",
     "text": [
      "Processing Jesse Winchester_tracks.parquet:  89%|████████▉ | 257/288 [00:21<00:08,  3.75it/s]"
     ]
    },
    {
     "name": "stdout",
     "output_type": "stream",
     "text": [
      "Failed requesting Seems Like Only Yesterday\n",
      "Failed requesting You Remember Me\n"
     ]
    },
    {
     "name": "stderr",
     "output_type": "stream",
     "text": [
      "Processing Jesse Winchester_tracks.parquet:  90%|████████▉ | 259/288 [00:22<00:09,  3.14it/s]"
     ]
    },
    {
     "name": "stdout",
     "output_type": "stream",
     "text": [
      "Failed requesting Guilding The Lily\n"
     ]
    },
    {
     "name": "stderr",
     "output_type": "stream",
     "text": [
      "Processing Jesse Winchester_tracks.parquet:  92%|█████████▏| 265/288 [00:23<00:05,  4.25it/s]"
     ]
    },
    {
     "name": "stdout",
     "output_type": "stream",
     "text": [
      "Failed requesting Pourquoi M'aimes-Tu Pas?\n",
      "Failed requesting It Takes A Young Girl\n",
      "Failed requesting Rhumba Man\n",
      "Failed requesting Let the Rough Side Drag\n"
     ]
    },
    {
     "name": "stderr",
     "output_type": "stream",
     "text": [
      "Processing Jesse Winchester_tracks.parquet:  93%|█████████▎| 267/288 [00:24<00:06,  3.34it/s]"
     ]
    },
    {
     "name": "stdout",
     "output_type": "stream",
     "text": [
      "Failed requesting Step by Step\n",
      "Failed requesting Lay Down Your Burden\n"
     ]
    },
    {
     "name": "stderr",
     "output_type": "stream",
     "text": [
      "Processing Jesse Winchester_tracks.parquet:  95%|█████████▍| 273/288 [00:25<00:03,  4.48it/s]"
     ]
    },
    {
     "name": "stdout",
     "output_type": "stream",
     "text": [
      "Failed requesting Blow On, Chilly Wind\n",
      "Failed requesting Working in the Vineyard\n",
      "Failed requesting How About You\n",
      "Failed requesting It Takes More Than a Hammer and Nails to Make a House a Home\n",
      "Failed requesting As Soon a I Get on My Feet\n",
      "Failed requesting The Only Show in Town\n",
      "Failed requesting The Brand New Tennessee Waltz - 1976 Version\n"
     ]
    },
    {
     "name": "stderr",
     "output_type": "stream",
     "text": [
      "Processing Jesse Winchester_tracks.parquet:  99%|█████████▉| 285/288 [00:26<00:00,  8.16it/s]"
     ]
    },
    {
     "name": "stdout",
     "output_type": "stream",
     "text": [
      "Failed requesting Every Word You Say\n",
      "Failed requesting How Far To The Horizon?\n",
      "Failed requesting L'air De La Louisiane\n",
      "Failed requesting Mississippi You're On My Mind\n",
      "Failed requesting Third Rate Romance\n",
      "Failed requesting Defying Gravity\n",
      "Failed requesting Tell Me Why You Like Roosevelt\n",
      "Failed requesting Pharoah's Army\n"
     ]
    },
    {
     "name": "stderr",
     "output_type": "stream",
     "text": [
      "Processing Jesse Winchester_tracks.parquet: 100%|██████████| 288/288 [00:26<00:00, 10.70it/s]\n"
     ]
    },
    {
     "name": "stdout",
     "output_type": "stream",
     "text": [
      "Failed requesting Laisse Les Bons Temps Rouler\n",
      "Failed requesting The End Is Not In Sight - Laisse Les Bons Temps Rouler\n",
      "Failed requesting I Can't Stand Up Alone\n"
     ]
    },
    {
     "name": "stderr",
     "output_type": "stream",
     "text": [
      "Processing Jessi Alexander_tracks.parquet:   5%|▍         | 8/161 [00:00<00:03, 39.03it/s]"
     ]
    },
    {
     "name": "stdout",
     "output_type": "stream",
     "text": [
      "Failed requesting Decatur County Red (feat. Jonathan Singleton)\n",
      "Failed requesting Mama Drank\n",
      "Failed requesting Damn Country Music\n",
      "Failed requesting I Should Probably Go Now\n",
      "Failed requesting My Problem Is You\n",
      "Failed requesting Country Music Made Me Do It (feat. Randy Houser)\n",
      "Failed requesting Lonely Out Of Me\n",
      "Failed requesting How I'm Going Out\n",
      "Failed requesting Kristofferson\n"
     ]
    },
    {
     "name": "stderr",
     "output_type": "stream",
     "text": [
      "Processing Jessi Alexander_tracks.parquet:   7%|▋         | 12/161 [00:00<00:03, 38.80it/s]"
     ]
    },
    {
     "name": "stdout",
     "output_type": "stream",
     "text": [
      "Failed requesting Mine Would Be You (feat. Dierks Bentley)\n",
      "Failed requesting Daddy's Girl\n",
      "Failed requesting I Drive Your Truck (feat. Jon Randall)\n",
      "Failed requesting Drink on It (feat. Charlie Worsham)\n",
      "Failed requesting See You Again (feat. Sheryl Crow)\n",
      "Failed requesting The Climb (feat. Chris Stapleton & Morgan Stapleton)\n"
     ]
    },
    {
     "name": "stderr",
     "output_type": "stream",
     "text": [
      "Processing Jessi Alexander_tracks.parquet:  12%|█▏        | 20/161 [00:00<00:04, 30.12it/s]"
     ]
    },
    {
     "name": "stdout",
     "output_type": "stream",
     "text": [
      "Failed requesting Guitar Man (feat. Will Hoge & 18 South)\n",
      "Failed requesting Down Home (feat. Brothers Osbourn)\n",
      "Failed requesting Honeysuckle Sweet\n",
      "Failed requesting Make Me Stay or Make Me Go\n",
      "Failed requesting This World Is Crazy\n",
      "Failed requesting I'd Run Right Back To You\n",
      "Failed requesting Unfulfilled\n",
      "Failed requesting Holdin' Back Your Love\n"
     ]
    },
    {
     "name": "stderr",
     "output_type": "stream",
     "text": [
      "Processing Jessi Alexander_tracks.parquet:  17%|█▋        | 28/161 [00:00<00:04, 33.19it/s]"
     ]
    },
    {
     "name": "stdout",
     "output_type": "stream",
     "text": [
      "Failed requesting Can You Make It Feel Right\n",
      "Failed requesting Everywhere\n",
      "Failed requesting Reasons To Run\n",
      "Failed requesting The Long Way\n",
      "Failed requesting Canyon Prayer\n",
      "Failed requesting River\n",
      "Failed requesting Decatur County Red (feat. Jonathan Singleton)\n",
      "Failed requesting I Should Probably Go Now\n"
     ]
    },
    {
     "name": "stderr",
     "output_type": "stream",
     "text": [
      "Processing Jessi Alexander_tracks.parquet:  22%|██▏       | 36/161 [00:01<00:04, 31.15it/s]"
     ]
    },
    {
     "name": "stdout",
     "output_type": "stream",
     "text": [
      "Failed requesting Mama Drank\n",
      "Failed requesting Canyon Prayer\n",
      "Failed requesting Make Me Stay or Make Me Go\n",
      "Failed requesting You, Me, And Whiskey\n",
      "Failed requesting In Case You Didn't Know\n",
      "Failed requesting Take It Slow\n",
      "Failed requesting Love Talking\n"
     ]
    },
    {
     "name": "stderr",
     "output_type": "stream",
     "text": [
      "Processing Jessi Alexander_tracks.parquet:  27%|██▋       | 44/161 [00:01<00:03, 32.77it/s]"
     ]
    },
    {
     "name": "stdout",
     "output_type": "stream",
     "text": [
      "Failed requesting Where We Started\n",
      "Failed requesting Simple\n",
      "Failed requesting Fearless\n",
      "Failed requesting Shotgun Rider\n",
      "Failed requesting She’s The One\n",
      "Failed requesting Never Have I Ever\n",
      "Failed requesting Yours If You Want It\n",
      "Failed requesting Not Yet\n"
     ]
    },
    {
     "name": "stderr",
     "output_type": "stream",
     "text": [
      "Processing Jessi Alexander_tracks.parquet:  32%|███▏      | 52/161 [00:01<00:03, 32.99it/s]"
     ]
    },
    {
     "name": "stdout",
     "output_type": "stream",
     "text": [
      "Failed requesting Die A Happy Man\n",
      "Failed requesting Hide The Wine\n",
      "Failed requesting That Was Us\n",
      "Failed requesting With A Woman You Love\n",
      "Failed requesting All Your Life\n",
      "Failed requesting Good Taste In Women\n",
      "Failed requesting Found It In You\n"
     ]
    },
    {
     "name": "stderr",
     "output_type": "stream",
     "text": [
      "Processing Jessi Alexander_tracks.parquet:  38%|███▊      | 61/161 [00:01<00:02, 36.04it/s]"
     ]
    },
    {
     "name": "stdout",
     "output_type": "stream",
     "text": [
      "Failed requesting Be That For You\n",
      "Failed requesting Behind The Bar\n",
      "Failed requesting That’s What I’ve Been Told\n",
      "Failed requesting If It Wasn’t For Trucks\n",
      "Failed requesting Put ‘Em On Mine\n",
      "Failed requesting That Was Us\n",
      "Failed requesting I Let A Damn Good Woman Leave\n",
      "Failed requesting That's My Dixie\n",
      "Failed requesting I Hold On\n"
     ]
    },
    {
     "name": "stderr",
     "output_type": "stream",
     "text": [
      "Processing Jessi Alexander_tracks.parquet:  43%|████▎     | 69/161 [00:03<00:07, 12.48it/s]"
     ]
    },
    {
     "name": "stdout",
     "output_type": "stream",
     "text": [
      "Failed requesting From the Ground Up\n",
      "Failed requesting Girl Crush\n",
      "Failed requesting Born to Fly\n",
      "Failed requesting When I Get Where I'm Going\n",
      "Failed requesting Please Don't Tell Me How The Story Ends - Live\n",
      "Failed requesting Kristofferson - Live\n"
     ]
    },
    {
     "name": "stderr",
     "output_type": "stream",
     "text": [
      "Processing Jessi Alexander_tracks.parquet:  45%|████▍     | 72/161 [00:03<00:06, 13.35it/s]"
     ]
    },
    {
     "name": "stdout",
     "output_type": "stream",
     "text": [
      "Failed requesting Here Comes That Rainbow Again - Live\n",
      "Failed requesting The Taker - Live\n",
      "Failed requesting The Captive - Live\n",
      "Failed requesting Nobody Wins - Live\n",
      "Failed requesting Jesus Was A Capricorn (Owed To John Prine) - Live\n",
      "Failed requesting Worth Fighting For - Live\n"
     ]
    },
    {
     "name": "stderr",
     "output_type": "stream",
     "text": [
      "Processing Jessi Alexander_tracks.parquet:  50%|████▉     | 80/161 [00:03<00:03, 20.41it/s]"
     ]
    },
    {
     "name": "stdout",
     "output_type": "stream",
     "text": [
      "Failed requesting Loving Her Was Easier (Than Anything I'll Ever Do Again) - Live\n",
      "Failed requesting Chase The Feeling - Live\n",
      "Failed requesting The Pilgrim: Chapter 33 - Live\n",
      "Failed requesting From The Bottle To The Bottom - Live\n",
      "Failed requesting Help Me Make It Through The Night - Live\n",
      "Failed requesting Under The Gun - Live\n",
      "Failed requesting For The Good Times - Live\n",
      "Failed requesting Casey's Last Ride - Live\n"
     ]
    },
    {
     "name": "stderr",
     "output_type": "stream",
     "text": [
      "Processing Jessi Alexander_tracks.parquet:  52%|█████▏    | 84/161 [00:03<00:03, 23.68it/s]"
     ]
    },
    {
     "name": "stdout",
     "output_type": "stream",
     "text": [
      "Failed requesting If You Don't Like Hank Williams - Live\n",
      "Failed requesting To Beat The Devil - Live\n",
      "Failed requesting Me And Bobby McGee - Live\n"
     ]
    },
    {
     "name": "stderr",
     "output_type": "stream",
     "text": [
      "Processing Jessi Alexander_tracks.parquet:  57%|█████▋    | 92/161 [00:05<00:09,  7.06it/s]"
     ]
    },
    {
     "name": "stdout",
     "output_type": "stream",
     "text": [
      "Failed requesting Hard to Love\n",
      "Failed requesting Helluva Life\n",
      "Failed requesting I Don't Dance\n",
      "Failed requesting In Her Eyes\n",
      "Failed requesting Life Ain't Always Beautiful\n",
      "Failed requesting Love Is a Higher Power\n",
      "Failed requesting See You Again\n",
      "Failed requesting Somewhere With You\n"
     ]
    },
    {
     "name": "stderr",
     "output_type": "stream",
     "text": [
      "Processing Jessi Alexander_tracks.parquet:  60%|█████▉    | 96/161 [00:05<00:06,  9.36it/s]"
     ]
    },
    {
     "name": "stdout",
     "output_type": "stream",
     "text": [
      "Failed requesting Take It on Back\n"
     ]
    },
    {
     "name": "stderr",
     "output_type": "stream",
     "text": [
      "Processing Jessi Alexander_tracks.parquet:  65%|██████▍   | 104/161 [00:07<00:06,  8.34it/s]"
     ]
    },
    {
     "name": "stdout",
     "output_type": "stream",
     "text": [
      "Failed requesting Today\n",
      "Failed requesting Tonight Tonight (Take It in for a Minute)\n",
      "Failed requesting Turning Me On\n",
      "Failed requesting Clair De Lune\n",
      "Failed requesting Pavane Op.50\n",
      "Failed requesting What A Wonderful World (as made famous by Louis Armstrong)\n",
      "Failed requesting Tchaikovsky: The Nutcracker \"Scenes Des Ballet\": March - Produced\n",
      "Failed requesting Gotta Be Somebody (made famous by Nickelback)\n"
     ]
    },
    {
     "name": "stderr",
     "output_type": "stream",
     "text": [
      "Processing Jessi Alexander_tracks.parquet:  70%|██████▉   | 112/161 [00:07<00:03, 13.80it/s]"
     ]
    },
    {
     "name": "stdout",
     "output_type": "stream",
     "text": [
      "Failed requesting Moment Musical In F Minor\n",
      "Failed requesting L'Arlésienne Suite No. 1: Carillon\n",
      "Failed requesting Crush (as made famous by David Archuleta)\n",
      "Failed requesting Rhapsody In Blue\n",
      "Failed requesting Stairway To Heaven (as made famous by Led Zeppelin)\n",
      "Failed requesting Decode (Paramore cover as heard on the movie Twilight)\n",
      "Failed requesting 3.Sequentia: Recordare: Requiem in D Minor, K 626\n",
      "Failed requesting Peer Gynt - Solveig's Song\n"
     ]
    },
    {
     "name": "stderr",
     "output_type": "stream",
     "text": [
      "Processing Jessi Alexander_tracks.parquet:  75%|███████▍  | 120/161 [00:07<00:01, 20.59it/s]"
     ]
    },
    {
     "name": "stdout",
     "output_type": "stream",
     "text": [
      "Failed requesting Schubert: 'Unfinished Symphony' No. 8 in B Minor\n",
      "Failed requesting Don't Stop Believin' (as made famous by Journey)\n",
      "Failed requesting Over The Rainbow\n",
      "Failed requesting The Girl with the Flaxen Hair\n",
      "Failed requesting Prelude No.4 Op.28 E Minor\n",
      "Failed requesting The Climb (as made famous by Miley Cyrus)\n",
      "Failed requesting Symphony No. 1 in B Flat, OP. 38 \"Spring\"\n",
      "Failed requesting You'll Always Find Your Way Home (Vocal)\n",
      "Failed requesting The Good Life (Vocal)\n"
     ]
    },
    {
     "name": "stderr",
     "output_type": "stream",
     "text": [
      "Processing Jessi Alexander_tracks.parquet:  77%|███████▋  | 124/161 [00:07<00:01, 23.19it/s]"
     ]
    },
    {
     "name": "stdout",
     "output_type": "stream",
     "text": [
      "Failed requesting Don't Walk Away (Vocal)\n"
     ]
    },
    {
     "name": "stderr",
     "output_type": "stream",
     "text": [
      "Processing Jessi Alexander_tracks.parquet:  82%|████████▏ | 132/161 [00:08<00:02, 11.23it/s]"
     ]
    },
    {
     "name": "stdout",
     "output_type": "stream",
     "text": [
      "Failed requesting Dream (Vocal)\n",
      "Failed requesting The Climb (Vocal)\n",
      "Failed requesting Spotlight (Vocal)\n",
      "Failed requesting What's Not to Like (Vocal)\n",
      "Failed requesting You'll Always Find Your Way Back Home\n",
      "Failed requesting The Good Life\n",
      "Failed requesting Don't Walk Away\n",
      "Failed requesting Hoedown Throwdown\n",
      "Failed requesting Dream\n"
     ]
    },
    {
     "name": "stderr",
     "output_type": "stream",
     "text": [
      "Processing Jessi Alexander_tracks.parquet:  89%|████████▉ | 143/161 [00:10<00:01, 11.38it/s]"
     ]
    },
    {
     "name": "stdout",
     "output_type": "stream",
     "text": [
      "Failed requesting Spotlight\n",
      "Failed requesting What's Not to Like\n",
      "Failed requesting I Fall To Pieces\n",
      "Failed requesting Why Can't He Be You\n",
      "Failed requesting Back In Baby's Arms\n",
      "Failed requesting Crazy\n",
      "Failed requesting Strange\n",
      "Failed requesting She's Got You\n"
     ]
    },
    {
     "name": "stderr",
     "output_type": "stream",
     "text": [
      "Processing Jessi Alexander_tracks.parquet:  91%|█████████▏| 147/161 [00:10<00:00, 14.26it/s]"
     ]
    },
    {
     "name": "stdout",
     "output_type": "stream",
     "text": [
      "Failed requesting Leavin' On Your Mind\n",
      "Failed requesting Walkin' After Midnight\n",
      "Failed requesting You're Stronger Than Me\n",
      "Failed requesting Faded Love\n",
      "Failed requesting So Wrong\n",
      "Failed requesting Sweet Dreams Of You (with Take 6)\n",
      "Failed requesting Fallen - Radio Mix\n"
     ]
    },
    {
     "name": "stderr",
     "output_type": "stream",
     "text": [
      "Processing Jessi Alexander_tracks.parquet:  96%|█████████▋| 155/161 [00:10<00:00, 19.67it/s]"
     ]
    },
    {
     "name": "stdout",
     "output_type": "stream",
     "text": [
      "Failed requesting Heaven Help Me\n",
      "Failed requesting One Second Chance\n",
      "Failed requesting Canyon Prayer\n",
      "Failed requesting I Need An Angel - Radio Edit\n",
      "Failed requesting Only Hope\n",
      "Failed requesting Keep The Faith\n",
      "Failed requesting The Prayer (with Yolanda Adams)\n"
     ]
    },
    {
     "name": "stderr",
     "output_type": "stream",
     "text": [
      "Processing Jessi Alexander_tracks.parquet: 100%|██████████| 161/161 [00:10<00:00, 14.90it/s]"
     ]
    },
    {
     "name": "stdout",
     "output_type": "stream",
     "text": [
      "Failed requesting I Turn to You\n",
      "Failed requesting Way Up There\n",
      "Failed requesting Learn To Breathe\n",
      "Failed requesting Reach - Single Version\n"
     ]
    },
    {
     "name": "stderr",
     "output_type": "stream",
     "text": [
      "\n",
      "Processing Jessi Colter_tracks.parquet:   2%|▏         | 4/231 [00:00<00:07, 31.01it/s]"
     ]
    },
    {
     "name": "stdout",
     "output_type": "stream",
     "text": [
      "Failed requesting I'd Like To Sing With Kids\n",
      "Failed requesting La Cucaracha\n",
      "Failed requesting Old King Cole\n",
      "Failed requesting I'd Like To Teach The World To Sing\n",
      "Failed requesting A Windmill In Old Amsterdam\n",
      "Failed requesting The La La Song\n",
      "Failed requesting Octopus' Garden\n",
      "Failed requesting May Ann\n"
     ]
    },
    {
     "name": "stderr",
     "output_type": "stream",
     "text": [
      "Processing Jessi Colter_tracks.parquet:   5%|▌         | 12/231 [00:00<00:06, 33.28it/s]"
     ]
    },
    {
     "name": "stdout",
     "output_type": "stream",
     "text": [
      "Failed requesting Frere Jacques\n",
      "Failed requesting Babushka Baio\n",
      "Failed requesting Too Ra Loo Ra Loo Ral\n",
      "Failed requesting Twinkle, Twinkle Little Star\n",
      "Failed requesting This Land Is Your Land\n",
      "Failed requesting Choo Choo Ba\n",
      "Failed requesting London Bridge\n"
     ]
    },
    {
     "name": "stderr",
     "output_type": "stream",
     "text": [
      "Processing Jessi Colter_tracks.parquet:   9%|▊         | 20/231 [00:00<00:06, 33.11it/s]"
     ]
    },
    {
     "name": "stdout",
     "output_type": "stream",
     "text": [
      "Failed requesting Did You Ever See A Lassie\n",
      "Failed requesting Jasmine Flower\n",
      "Failed requesting Bubble and Bubbles\n",
      "Failed requesting Funiculi, Funicula\n",
      "Failed requesting He's Got The Whole World In His Hands\n",
      "Failed requesting PSALM 150 Praise Ye the Lord\n",
      "Failed requesting PSALM 75 Unto Thee\n",
      "Failed requesting PSALM 114 And the Mountains Skip Like Rams\n"
     ]
    },
    {
     "name": "stderr",
     "output_type": "stream",
     "text": [
      "Processing Jessi Colter_tracks.parquet:  12%|█▏        | 28/231 [00:00<00:06, 33.41it/s]"
     ]
    },
    {
     "name": "stdout",
     "output_type": "stream",
     "text": [
      "Failed requesting PSALM 99 He Is Holy\n",
      "Failed requesting PSALM 24 Who Is the King of Glory\n",
      "Failed requesting PSALM 136 Mercy and Loving Kindness\n",
      "Failed requesting PSALM 151 King David's Last Psalm\n",
      "Failed requesting PSALM 21 Be Thou Exalted\n",
      "Failed requesting PSALM 45 My Song to a King\n",
      "Failed requesting PSALM 73 Like a Beast\n",
      "Failed requesting PSALM 23 The Lord Is My Shepherd\n"
     ]
    },
    {
     "name": "stderr",
     "output_type": "stream",
     "text": [
      "Processing Jessi Colter_tracks.parquet:  14%|█▍        | 32/231 [00:00<00:05, 34.13it/s]"
     ]
    },
    {
     "name": "stdout",
     "output_type": "stream",
     "text": [
      "Failed requesting PSALM 72 Arise O King of Old\n",
      "Failed requesting Intro - Live\n",
      "Failed requesting Mystery Train - Live\n"
     ]
    },
    {
     "name": "stderr",
     "output_type": "stream",
     "text": [
      "Processing Jessi Colter_tracks.parquet:  17%|█▋        | 40/231 [00:01<00:07, 26.09it/s]"
     ]
    },
    {
     "name": "stdout",
     "output_type": "stream",
     "text": [
      "Failed requesting Can't Nobody Do Me Like Jesus - Live\n",
      "Failed requesting Interlude 1 - Live\n",
      "Failed requesting Without You - Live\n",
      "Failed requesting Interlude 2 - Live\n",
      "Failed requesting What's Happened to Blue Eyes - Live\n",
      "Failed requesting You Can Pick 'Em Baby - Live\n",
      "Failed requesting Interlude 3 - Live\n",
      "Failed requesting You Were My Mountain - Live\n"
     ]
    },
    {
     "name": "stderr",
     "output_type": "stream",
     "text": [
      "Processing Jessi Colter_tracks.parquet:  21%|██        | 48/231 [00:01<00:05, 30.61it/s]"
     ]
    },
    {
     "name": "stdout",
     "output_type": "stream",
     "text": [
      "Failed requesting I'm Not Lisa - Live\n",
      "Failed requesting Interlude 4 - Live\n",
      "Failed requesting Out of the Rain - Live\n",
      "Failed requesting Please Carry Me Home - Live\n",
      "Failed requesting Interlude 5 - Live\n",
      "Failed requesting Rainy Day Women #12 & 35 - Live\n",
      "Failed requesting Interlude 6 - Live\n",
      "Failed requesting Storms Never Last - Live\n"
     ]
    },
    {
     "name": "stderr",
     "output_type": "stream",
     "text": [
      "Processing Jessi Colter_tracks.parquet:  24%|██▍       | 56/231 [00:01<00:05, 31.81it/s]"
     ]
    },
    {
     "name": "stdout",
     "output_type": "stream",
     "text": [
      "Failed requesting His Eye Is On The Sparrow\n",
      "Failed requesting You Can Pick 'Em\n",
      "Failed requesting Starman\n",
      "Failed requesting The Phoenix Rises\n",
      "Failed requesting Out Of The Rain\n",
      "Failed requesting Velvet And Steel\n",
      "Failed requesting Rainy Day Women #12 & 35\n"
     ]
    },
    {
     "name": "stderr",
     "output_type": "stream",
     "text": [
      "Processing Jessi Colter_tracks.parquet:  26%|██▌       | 60/231 [00:01<00:05, 32.15it/s]"
     ]
    },
    {
     "name": "stdout",
     "output_type": "stream",
     "text": [
      "Failed requesting You Took Me By Surprise\n",
      "Failed requesting So Many Things\n",
      "Failed requesting The Canyon\n",
      "Failed requesting Never Got Over You\n",
      "Failed requesting Please Carry Me Home\n",
      "Failed requesting Is There Any Way (You'd Stay Forever)\n",
      "Failed requesting That's The Way A Cowboy Rocks And Rolls\n"
     ]
    },
    {
     "name": "stderr",
     "output_type": "stream",
     "text": [
      "Processing Jessi Colter_tracks.parquet:  29%|██▉       | 68/231 [00:02<00:04, 33.74it/s]"
     ]
    },
    {
     "name": "stdout",
     "output_type": "stream",
     "text": [
      "Failed requesting What's Happened To Blue Eyes\n",
      "Failed requesting I Thought I Heard You Calling My Name\n",
      "Failed requesting I'm Not Lisa\n",
      "Failed requesting Without You\n",
      "Failed requesting Maybe You Should've Been Listening\n",
      "Failed requesting It's Morning (And I Still Love You)\n",
      "Failed requesting Hold Back The Tears\n",
      "Failed requesting Here I Am\n"
     ]
    },
    {
     "name": "stderr",
     "output_type": "stream",
     "text": [
      "Processing Jessi Colter_tracks.parquet:  33%|███▎      | 77/231 [00:02<00:04, 34.24it/s]"
     ]
    },
    {
     "name": "stdout",
     "output_type": "stream",
     "text": [
      "Failed requesting You Never Can Tell (C'est La Vie)\n",
      "Failed requesting Rainy Seasons\n",
      "Failed requesting I'll Be Alright\n",
      "Failed requesting Medley: Wild Side of Life / It Wasn't God Who Made Honky Tonk Angels\n",
      "Failed requesting Pastels and Harmony\n",
      "Failed requesting I Believe You Can\n",
      "Failed requesting What's Happened to Blue Eyes\n",
      "Failed requesting Storms Never Last\n"
     ]
    },
    {
     "name": "stderr",
     "output_type": "stream",
     "text": [
      "Processing Jessi Colter_tracks.parquet:  37%|███▋      | 85/231 [00:02<00:03, 36.60it/s]"
     ]
    },
    {
     "name": "stdout",
     "output_type": "stream",
     "text": [
      "Failed requesting I Ain't the One\n",
      "Failed requesting You're Not My Same Sweet Baby\n",
      "Failed requesting My Heroes Have Always Been Cowboys\n",
      "Failed requesting Honky Tonk Heroes (Like Me)\n",
      "Failed requesting I'm Looking for Blue Eyes\n",
      "Failed requesting You Mean to Say\n",
      "Failed requesting Suspicious Minds (with Jessi Colter)\n",
      "Failed requesting A Good Hearted Woman - Live at Western Place, Dallas, Texas - September 25, 1974\n",
      "Failed requesting Heaven and Hell\n"
     ]
    },
    {
     "name": "stderr",
     "output_type": "stream",
     "text": [
      "Processing Jessi Colter_tracks.parquet:  39%|███▉      | 90/231 [00:02<00:03, 37.81it/s]"
     ]
    },
    {
     "name": "stdout",
     "output_type": "stream",
     "text": [
      "Failed requesting Me and Paul\n",
      "Failed requesting Yesterday's Wine\n"
     ]
    },
    {
     "name": "stderr",
     "output_type": "stream",
     "text": [
      "Processing Jessi Colter_tracks.parquet:  44%|████▍     | 102/231 [00:14<01:29,  1.45it/s]"
     ]
    },
    {
     "name": "stdout",
     "output_type": "stream",
     "text": [
      "Failed requesting T for Texas\n"
     ]
    },
    {
     "name": "stderr",
     "output_type": "stream",
     "text": [
      "Processing Jessi Colter_tracks.parquet:  46%|████▌     | 106/231 [00:17<01:36,  1.30it/s]"
     ]
    },
    {
     "name": "stdout",
     "output_type": "stream",
     "text": [
      "Failed requesting If She's Where You Like Livin'\n"
     ]
    },
    {
     "name": "stderr",
     "output_type": "stream",
     "text": [
      "Processing Jessi Colter_tracks.parquet:  47%|████▋     | 108/231 [00:18<01:24,  1.45it/s]"
     ]
    },
    {
     "name": "stdout",
     "output_type": "stream",
     "text": [
      "Failed requesting Why You Been Gone so Long\n"
     ]
    },
    {
     "name": "stderr",
     "output_type": "stream",
     "text": [
      "Processing Jessi Colter_tracks.parquet:  51%|█████     | 117/231 [00:22<00:42,  2.66it/s]"
     ]
    },
    {
     "name": "stdout",
     "output_type": "stream",
     "text": [
      "Failed requesting Diamond In The Rough\n",
      "Failed requesting Get Back\n",
      "Failed requesting Would You Leave Now\n",
      "Failed requesting Hey Jude\n",
      "Failed requesting Oh Will (Who Made It Rain Last Night)\n"
     ]
    },
    {
     "name": "stderr",
     "output_type": "stream",
     "text": [
      "Processing Jessi Colter_tracks.parquet:  52%|█████▏    | 119/231 [00:23<00:47,  2.37it/s]"
     ]
    },
    {
     "name": "stdout",
     "output_type": "stream",
     "text": [
      "Failed requesting Ain't No Way\n"
     ]
    },
    {
     "name": "stderr",
     "output_type": "stream",
     "text": [
      "Processing Jessi Colter_tracks.parquet:  54%|█████▍    | 125/231 [00:24<00:27,  3.85it/s]"
     ]
    },
    {
     "name": "stdout",
     "output_type": "stream",
     "text": [
      "Failed requesting A Woman's Heart (Is A Handy Place To Be)\n",
      "Failed requesting Oh Will (Who Made It Rain Last Night) - Reprise\n",
      "Failed requesting The Hand That Rocks The Cradle\n",
      "Failed requesting One Woman Man\n",
      "Failed requesting It's Morning (And I Still Love You)\n",
      "Failed requesting Rounder\n",
      "Failed requesting Here I Am\n",
      "Failed requesting Without You\n"
     ]
    },
    {
     "name": "stderr",
     "output_type": "stream",
     "text": [
      "Processing Jessi Colter_tracks.parquet:  59%|█████▉    | 137/231 [00:25<00:08, 11.62it/s]"
     ]
    },
    {
     "name": "stdout",
     "output_type": "stream",
     "text": [
      "Failed requesting Darlin' It's Yours\n",
      "Failed requesting Would You Walk With Me (To The Lilies)\n",
      "Failed requesting All My Life, I've Been Your Lady\n",
      "Failed requesting I See Your Face (In The Morning's Window)\n",
      "Failed requesting Is There Any Way (You'd Stay Forever)\n",
      "Failed requesting I Hear A Song\n",
      "Failed requesting Come On In\n",
      "Failed requesting You Ain't Never Been Loved (Like I'm Gonna Love You)\n"
     ]
    },
    {
     "name": "stderr",
     "output_type": "stream",
     "text": [
      "Processing Jessi Colter_tracks.parquet:  61%|██████▏   | 142/231 [00:25<00:05, 15.97it/s]"
     ]
    },
    {
     "name": "stdout",
     "output_type": "stream",
     "text": [
      "Failed requesting Love's The Only Chain\n",
      "Failed requesting I'm Not Lisa\n",
      "Failed requesting For The First Time\n",
      "Failed requesting Who Walks Thru Your Memory (Billy Jo)\n",
      "Failed requesting What's Happened To Blue Eyes\n",
      "Failed requesting Storms Never Last\n",
      "Failed requesting Too Many Rivers\n",
      "Failed requesting Cry Softly\n",
      "Failed requesting I Ain't the One\n"
     ]
    },
    {
     "name": "stderr",
     "output_type": "stream",
     "text": [
      "Processing Jessi Colter_tracks.parquet:  65%|██████▍   | 150/231 [00:25<00:03, 22.93it/s]"
     ]
    },
    {
     "name": "stdout",
     "output_type": "stream",
     "text": [
      "Failed requesting It's Not Easy\n",
      "Failed requesting He Called Me Baby\n",
      "Failed requesting Why You Been Gone so Long\n",
      "Failed requesting If She's Where You Like Livin'\n",
      "Failed requesting Healing Hands of Time\n",
      "Failed requesting That's the Chance I'll Have to Take\n",
      "Failed requesting Don't Let Him Go\n",
      "Failed requesting It's All Over Now\n"
     ]
    },
    {
     "name": "stderr",
     "output_type": "stream",
     "text": [
      "Processing Jessi Colter_tracks.parquet:  69%|██████▉   | 160/231 [00:25<00:02, 30.01it/s]"
     ]
    },
    {
     "name": "stdout",
     "output_type": "stream",
     "text": [
      "Failed requesting I've Always Been Crazy\n",
      "Failed requesting You Asked Me To\n",
      "Failed requesting Out Among The Stars\n",
      "Failed requesting You Show Me Yours And I'll Show You Mine\n",
      "Failed requesting Black Rose\n",
      "Failed requesting This Time\n",
      "Failed requesting I Ain’t Living Long Like This\n",
      "Failed requesting I'm a Ramblin' Man\n",
      "Failed requesting Mammas Don’t Let Your Babies Grow Up to Be Cowboys\n"
     ]
    },
    {
     "name": "stderr",
     "output_type": "stream",
     "text": [
      "Processing Jessi Colter_tracks.parquet:  73%|███████▎  | 168/231 [00:26<00:01, 33.25it/s]"
     ]
    },
    {
     "name": "stdout",
     "output_type": "stream",
     "text": [
      "Failed requesting Help Me Make It Through The Night\n",
      "Failed requesting We Had It All\n",
      "Failed requesting Only Daddy That'll Walk The Line - Bonus Track\n",
      "Failed requesting Waltz Me To Heaven - Bonus Track\n",
      "Failed requesting She Just Ain't You\n",
      "Failed requesting Sometimes I Pray\n",
      "Failed requesting What About Love\n",
      "Failed requesting Fort Worth and You\n"
     ]
    },
    {
     "name": "stderr",
     "output_type": "stream",
     "text": [
      "Processing Jessi Colter_tracks.parquet:  76%|███████▌  | 176/231 [00:26<00:01, 27.54it/s]"
     ]
    },
    {
     "name": "stdout",
     "output_type": "stream",
     "text": [
      "Failed requesting Simpler Way of Life\n",
      "Failed requesting Whiskey's Burnin'\n",
      "Failed requesting Fallen Not Forgotten\n",
      "Failed requesting You Got It\n",
      "Failed requesting Homerun\n",
      "Failed requesting Come Clean\n"
     ]
    },
    {
     "name": "stderr",
     "output_type": "stream",
     "text": [
      "Processing Jessi Colter_tracks.parquet:  78%|███████▊  | 180/231 [00:26<00:01, 29.34it/s]"
     ]
    },
    {
     "name": "stdout",
     "output_type": "stream",
     "text": [
      "Failed requesting Nothing Catches Jesus by Surprise\n",
      "Failed requesting Things to Come\n",
      "Failed requesting Homesick When I'm Home\n",
      "Failed requesting Plain O' texas\n",
      "Failed requesting Longshot\n",
      "Failed requesting Cowboy Up\n"
     ]
    },
    {
     "name": "stderr",
     "output_type": "stream",
     "text": [
      "Processing Jessi Colter_tracks.parquet:  80%|███████▉  | 184/231 [00:26<00:01, 28.93it/s]"
     ]
    },
    {
     "name": "stdout",
     "output_type": "stream",
     "text": [
      "Failed requesting Take It Slow\n",
      "Failed requesting Thank You Texas\n",
      "Failed requesting Home\n",
      "Failed requesting Memphis\n"
     ]
    },
    {
     "name": "stderr",
     "output_type": "stream",
     "text": [
      "Processing Jessi Colter_tracks.parquet:  85%|████████▌ | 197/231 [00:33<00:10,  3.20it/s]"
     ]
    },
    {
     "name": "stdout",
     "output_type": "stream",
     "text": [
      "Failed requesting Rock And Roll (Fais-Do-Do)\n",
      "Failed requesting Keep My Motor Running\n",
      "Failed requesting I Will Rock And Roll With You\n",
      "Failed requesting Big Train (From Memphis)\n"
     ]
    },
    {
     "name": "stderr",
     "output_type": "stream",
     "text": [
      "Processing Jessi Colter_tracks.parquet:  86%|████████▌ | 199/231 [00:34<00:11,  2.81it/s]"
     ]
    },
    {
     "name": "stdout",
     "output_type": "stream",
     "text": [
      "Failed requesting The Ballad Of Barbara\n"
     ]
    },
    {
     "name": "stderr",
     "output_type": "stream",
     "text": [
      "Processing Jessi Colter_tracks.parquet:  87%|████████▋ | 201/231 [00:35<00:11,  2.54it/s]"
     ]
    },
    {
     "name": "stdout",
     "output_type": "stream",
     "text": [
      "Failed requesting Let Him Roll\n",
      "Failed requesting The Night Hank Williams Came To Town\n"
     ]
    },
    {
     "name": "stderr",
     "output_type": "stream",
     "text": [
      "Processing Jessi Colter_tracks.parquet:  88%|████████▊ | 203/231 [00:36<00:11,  2.34it/s]"
     ]
    },
    {
     "name": "stdout",
     "output_type": "stream",
     "text": [
      "Failed requesting Letters From Home\n",
      "Failed requesting W. Lee O'Daniel (And The Light Crust Dough Boys)\n",
      "Failed requesting Heavy Metal (Don't Mean Rock And Roll To Me)\n"
     ]
    },
    {
     "name": "stderr",
     "output_type": "stream",
     "text": [
      "Processing Jessi Colter_tracks.parquet:  90%|████████▉ | 207/231 [00:37<00:08,  2.69it/s]"
     ]
    },
    {
     "name": "stdout",
     "output_type": "stream",
     "text": [
      "Failed requesting Sweet Mess\n",
      "Failed requesting Neon Cross\n"
     ]
    },
    {
     "name": "stderr",
     "output_type": "stream",
     "text": [
      "Processing Jessi Colter_tracks.parquet:  93%|█████████▎| 214/231 [00:38<00:04,  4.10it/s]"
     ]
    },
    {
     "name": "stdout",
     "output_type": "stream",
     "text": [
      "Failed requesting Make Something Outta Me\n",
      "Failed requesting By Your Side\n",
      "Failed requesting Just A Woman\n",
      "Failed requesting Goodbye Queen\n",
      "Failed requesting Mercy\n",
      "Failed requesting Rattlesnake Girl\n",
      "Failed requesting Hurt So Bad\n",
      "Failed requesting Demon Tied To A Chair In My Brain\n"
     ]
    },
    {
     "name": "stderr",
     "output_type": "stream",
     "text": [
      "Processing Jessi Colter_tracks.parquet:  95%|█████████▍| 219/231 [00:39<00:02,  4.13it/s]"
     ]
    },
    {
     "name": "stdout",
     "output_type": "stream",
     "text": [
      "Failed requesting By Your Side\n"
     ]
    },
    {
     "name": "stderr",
     "output_type": "stream",
     "text": [
      "Processing Jessi Colter_tracks.parquet:  96%|█████████▌| 221/231 [00:40<00:02,  3.38it/s]"
     ]
    },
    {
     "name": "stdout",
     "output_type": "stream",
     "text": [
      "Failed requesting Just A Woman\n",
      "Failed requesting Neon Cross\n",
      "Failed requesting By Your Side\n"
     ]
    },
    {
     "name": "stderr",
     "output_type": "stream",
     "text": [
      "Processing Jessi Colter_tracks.parquet:  97%|█████████▋| 225/231 [00:42<00:01,  3.43it/s]"
     ]
    },
    {
     "name": "stdout",
     "output_type": "stream",
     "text": [
      "Failed requesting Just A Woman\n",
      "Failed requesting Neon Cross\n"
     ]
    },
    {
     "name": "stderr",
     "output_type": "stream",
     "text": [
      "Processing Jessi Colter_tracks.parquet: 100%|██████████| 231/231 [00:43<00:00,  5.35it/s]\n"
     ]
    },
    {
     "name": "stdout",
     "output_type": "stream",
     "text": [
      "Failed requesting Just A Woman\n",
      "Failed requesting Neon Cross\n",
      "Failed requesting Just A Woman\n"
     ]
    },
    {
     "name": "stderr",
     "output_type": "stream",
     "text": [
      "Processing Jessica Andrews_tracks.parquet:   0%|          | 0/168 [00:00<?, ?it/s]"
     ]
    },
    {
     "name": "stdout",
     "output_type": "stream",
     "text": [
      "Failed requesting Before He Cheats\n",
      "Failed requesting Cowboy Take Me Away\n",
      "Failed requesting Dirty Laundry\n"
     ]
    },
    {
     "name": "stderr",
     "output_type": "stream",
     "text": [
      "Processing Jessica Andrews_tracks.parquet:   5%|▍         | 8/168 [00:02<00:39,  4.09it/s]"
     ]
    },
    {
     "name": "stdout",
     "output_type": "stream",
     "text": [
      "Failed requesting If It Hadn't Been for Love\n",
      "Failed requesting Landslide\n",
      "Failed requesting Out in the Wash\n",
      "Failed requesting Rose Garden\n",
      "Failed requesting She's Got You\n",
      "Failed requesting Stripes\n",
      "Failed requesting Sweet Southern Comfort\n"
     ]
    },
    {
     "name": "stderr",
     "output_type": "stream",
     "text": [
      "Processing Jessica Andrews_tracks.parquet:  10%|█         | 17/168 [00:02<00:12, 11.85it/s]"
     ]
    },
    {
     "name": "stdout",
     "output_type": "stream",
     "text": [
      "Failed requesting The Good Ones\n",
      "Failed requesting Walking After Midnight\n",
      "Failed requesting Your Cheating Heart\n",
      "Failed requesting 57 Chevrolet\n",
      "Failed requesting God Made Me\n",
      "Failed requesting Boy\n",
      "Failed requesting Mirror\n",
      "Failed requesting Abilene\n"
     ]
    },
    {
     "name": "stderr",
     "output_type": "stream",
     "text": [
      "Processing Jessica Andrews_tracks.parquet:  14%|█▍        | 24/168 [00:02<00:09, 15.72it/s]"
     ]
    },
    {
     "name": "stdout",
     "output_type": "stream",
     "text": [
      "Failed requesting Last Name\n",
      "Failed requesting Smothering\n",
      "Failed requesting Let's Get Out of Here\n",
      "Failed requesting Mistake\n",
      "Failed requesting Fight Song\n"
     ]
    },
    {
     "name": "stderr",
     "output_type": "stream",
     "text": [
      "Processing Jessica Andrews_tracks.parquet:  19%|█▉        | 32/168 [00:03<00:05, 22.69it/s]"
     ]
    },
    {
     "name": "stdout",
     "output_type": "stream",
     "text": [
      "Failed requesting About Me\n",
      "Failed requesting Goodbye\n",
      "Failed requesting One of Them Girls\n",
      "Failed requesting Boy - Acoustic Version\n",
      "Failed requesting Last Name - Acoustic Version\n",
      "Failed requesting Smothering - Acoustic Version\n",
      "Failed requesting God Bless America\n"
     ]
    },
    {
     "name": "stderr",
     "output_type": "stream",
     "text": [
      "Processing Jessica Andrews_tracks.parquet:  21%|██▏       | 36/168 [00:03<00:05, 24.75it/s]"
     ]
    },
    {
     "name": "stdout",
     "output_type": "stream",
     "text": [
      "Failed requesting Amazed\n",
      "Failed requesting Neon Moon\n",
      "Failed requesting Burning Love\n",
      "Failed requesting Don't Close Your Eyes\n",
      "Failed requesting Grandpa\n",
      "Failed requesting Sitting On the Dock of the Bay\n",
      "Failed requesting In Case You Didn't Know\n",
      "Failed requesting Midnight Train to Georgia\n"
     ]
    },
    {
     "name": "stderr",
     "output_type": "stream",
     "text": [
      "Processing Jessica Andrews_tracks.parquet:  26%|██▌       | 44/168 [00:03<00:04, 28.50it/s]"
     ]
    },
    {
     "name": "stdout",
     "output_type": "stream",
     "text": [
      "Failed requesting Piece By Piece\n",
      "Failed requesting You Ain't Woman Enough\n",
      "Failed requesting I Was Country When Country Wasn't Cool\n",
      "Failed requesting 9 to 5\n",
      "Failed requesting I Will Always Love You\n",
      "Failed requesting Purple Rain\n"
     ]
    },
    {
     "name": "stderr",
     "output_type": "stream",
     "text": [
      "Processing Jessica Andrews_tracks.parquet:  31%|███       | 52/168 [00:03<00:03, 30.41it/s]"
     ]
    },
    {
     "name": "stdout",
     "output_type": "stream",
     "text": [
      "Failed requesting Closer Jessica Only\n",
      "Failed requesting Because You Love Me\n",
      "Failed requesting The Climb\n",
      "Failed requesting 7 Years\n",
      "Failed requesting Arms of the Angel\n",
      "Failed requesting Can't Help Falling in Love\n",
      "Failed requesting That's What I Like About You Clip\n"
     ]
    },
    {
     "name": "stderr",
     "output_type": "stream",
     "text": [
      "Processing Jessica Andrews_tracks.parquet:  36%|███▌      | 60/168 [00:03<00:03, 32.30it/s]"
     ]
    },
    {
     "name": "stdout",
     "output_type": "stream",
     "text": [
      "Failed requesting Closer\n",
      "Failed requesting Issues Clip\n",
      "Failed requesting Hunting and Fishing and Loving Every Day\n",
      "Failed requesting Hotel Key\n",
      "Failed requesting Humble and Kind\n",
      "Failed requesting My Church\n",
      "Failed requesting Dirt On My Boots\n",
      "Failed requesting Got What I Got\n"
     ]
    },
    {
     "name": "stderr",
     "output_type": "stream",
     "text": [
      "Processing Jessica Andrews_tracks.parquet:  40%|████      | 68/168 [00:04<00:03, 33.27it/s]"
     ]
    },
    {
     "name": "stdout",
     "output_type": "stream",
     "text": [
      "Failed requesting Record Year\n",
      "Failed requesting Green Tractor\n",
      "Failed requesting Let It Go\n",
      "Failed requesting Love It\n",
      "Failed requesting Country Roads Take Me Home\n",
      "Failed requesting Church in a Chevy\n",
      "Failed requesting Little Dive Bar in Dahlonega\n",
      "Failed requesting When You Say Nothing At All\n"
     ]
    },
    {
     "name": "stderr",
     "output_type": "stream",
     "text": [
      "Processing Jessica Andrews_tracks.parquet:  45%|████▌     | 76/168 [00:04<00:02, 35.38it/s]"
     ]
    },
    {
     "name": "stdout",
     "output_type": "stream",
     "text": [
      "Failed requesting Angel from Montgomery\n",
      "Failed requesting Give It Away\n",
      "Failed requesting You Can Feel Bad\n",
      "Failed requesting Refrigerator Door\n",
      "Failed requesting Dear Rodeo\n",
      "Failed requesting Bluebird\n",
      "Failed requesting Old Town Road\n",
      "Failed requesting Drinking With the Boys\n"
     ]
    },
    {
     "name": "stderr",
     "output_type": "stream",
     "text": [
      "Processing Jessica Andrews_tracks.parquet:  50%|█████     | 84/168 [00:04<00:02, 35.34it/s]"
     ]
    },
    {
     "name": "stdout",
     "output_type": "stream",
     "text": [
      "Failed requesting Whiskey Glasses\n",
      "Failed requesting Sober\n",
      "Failed requesting Springsteen\n",
      "Failed requesting Sixteen\n",
      "Failed requesting Take a Little Ride\n",
      "Failed requesting Red\n",
      "Failed requesting I Don't Want This Night to End\n",
      "Failed requesting Pontoon\n"
     ]
    },
    {
     "name": "stderr",
     "output_type": "stream",
     "text": [
      "Processing Jessica Andrews_tracks.parquet:  55%|█████▍    | 92/168 [00:04<00:02, 35.54it/s]"
     ]
    },
    {
     "name": "stdout",
     "output_type": "stream",
     "text": [
      "Failed requesting We Are Never Getting Back Together\n",
      "Failed requesting Hard to Love\n",
      "Failed requesting Texas\n",
      "Failed requesting Drink a Beer\n",
      "Failed requesting God's Country\n",
      "Failed requesting I Hope Your Happy Now\n",
      "Failed requesting Whatever She's Got\n",
      "Failed requesting You're Looking At Country\n"
     ]
    },
    {
     "name": "stderr",
     "output_type": "stream",
     "text": [
      "Processing Jessica Andrews_tracks.parquet:  60%|█████▉    | 100/168 [00:05<00:01, 34.25it/s]"
     ]
    },
    {
     "name": "stdout",
     "output_type": "stream",
     "text": [
      "Failed requesting Your Man\n",
      "Failed requesting Chasin' You\n",
      "Failed requesting Somebody Else Will\n",
      "Failed requesting Aw Naw\n",
      "Failed requesting Beer Money\n",
      "Failed requesting Wide Open Space\n",
      "Failed requesting Country Kid Original\n"
     ]
    },
    {
     "name": "stderr",
     "output_type": "stream",
     "text": [
      "Processing Jessica Andrews_tracks.parquet:  62%|██████▏   | 104/168 [00:05<00:01, 34.78it/s]"
     ]
    },
    {
     "name": "stdout",
     "output_type": "stream",
     "text": [
      "Failed requesting Why\n",
      "Failed requesting Raymond\n",
      "Failed requesting One Number Away\n",
      "Failed requesting Slow Burn\n",
      "Failed requesting Desperate Man\n",
      "Failed requesting Homecoming Queen\n",
      "Failed requesting Hide the Wine\n"
     ]
    },
    {
     "name": "stderr",
     "output_type": "stream",
     "text": [
      "Processing Jessica Andrews_tracks.parquet:  67%|██████▋   | 112/168 [00:05<00:01, 34.41it/s]"
     ]
    },
    {
     "name": "stdout",
     "output_type": "stream",
     "text": [
      "Failed requesting One Night Standards\n",
      "Failed requesting You Make It Easy\n",
      "Failed requesting Losing Sleep\n",
      "Failed requesting Redneck\n",
      "Failed requesting Rudolph the Red Nose Reindeer\n",
      "Failed requesting The Sweetest Gift\n",
      "Failed requesting Take a Walk Through Bethlehem\n",
      "Failed requesting It Wasn't His Child\n"
     ]
    },
    {
     "name": "stderr",
     "output_type": "stream",
     "text": [
      "Processing Jessica Andrews_tracks.parquet:  71%|███████▏  | 120/168 [00:05<00:01, 34.78it/s]"
     ]
    },
    {
     "name": "stdout",
     "output_type": "stream",
     "text": [
      "Failed requesting Let It Snow\n",
      "Failed requesting All I Want for Christmas\n",
      "Failed requesting I'll Be Home for Christmas\n",
      "Failed requesting A Baby Changes Everthing\n",
      "Failed requesting White Christmas\n",
      "Failed requesting Have Yourself a Marry Christmas\n",
      "Failed requesting Santa Baby\n",
      "Failed requesting All I Want for Christmas Is You\n"
     ]
    },
    {
     "name": "stderr",
     "output_type": "stream",
     "text": [
      "Processing Jessica Andrews_tracks.parquet:  76%|███████▌  | 128/168 [00:05<00:01, 34.58it/s]"
     ]
    },
    {
     "name": "stdout",
     "output_type": "stream",
     "text": [
      "Failed requesting There's More To Me Than You\n",
      "Failed requesting When Gentry Plays Guitar\n",
      "Failed requesting I Wish For You\n",
      "Failed requesting To Love You Once\n",
      "Failed requesting I Bring It To You\n",
      "Failed requesting Never Be Forgotten\n",
      "Failed requesting They Are The Roses\n",
      "Failed requesting Sunshine and Love\n",
      "Failed requesting You're The Man (That Brings The Woman Out Of Me)\n"
     ]
    },
    {
     "name": "stderr",
     "output_type": "stream",
     "text": [
      "Processing Jessica Andrews_tracks.parquet:  82%|████████▏ | 138/168 [00:06<00:00, 37.59it/s]"
     ]
    },
    {
     "name": "stdout",
     "output_type": "stream",
     "text": [
      "Failed requesting Cowboy Guarantee\n",
      "Failed requesting Now\n",
      "Failed requesting Second Sunday\n",
      "Failed requesting Windows On A Train\n",
      "Failed requesting God Don't Give Up On Us\n",
      "Failed requesting Good Time\n",
      "Failed requesting There's More To Me Than You - Ballad Version\n",
      "Failed requesting Now I Know\n",
      "Failed requesting Every Time\n"
     ]
    },
    {
     "name": "stderr",
     "output_type": "stream",
     "text": [
      "Processing Jessica Andrews_tracks.parquet:  88%|████████▊ | 148/168 [00:06<00:00, 39.05it/s]"
     ]
    },
    {
     "name": "stdout",
     "output_type": "stream",
     "text": [
      "Failed requesting I Don't Like Anyone\n",
      "Failed requesting Karma\n",
      "Failed requesting Helplessly, Hopelessly\n",
      "Failed requesting Who I Am\n",
      "Failed requesting These Wings\n",
      "Failed requesting Never Had It So Good\n",
      "Failed requesting Make Me Love You\n",
      "Failed requesting Wishing Well\n",
      "Failed requesting Good Friend To Me\n"
     ]
    },
    {
     "name": "stderr",
     "output_type": "stream",
     "text": [
      "Processing Jessica Andrews_tracks.parquet:  93%|█████████▎| 157/168 [00:06<00:00, 38.75it/s]"
     ]
    },
    {
     "name": "stdout",
     "output_type": "stream",
     "text": [
      "Failed requesting Show Me Heaven\n",
      "Failed requesting James Dean In Tennessee\n",
      "Failed requesting You Go First\n",
      "Failed requesting The Riverside\n",
      "Failed requesting Whatever\n",
      "Failed requesting Unbreakable Heart\n",
      "Failed requesting Hungry Love\n",
      "Failed requesting Heart Shaped World\n",
      "Failed requesting I'll Take Your Heart\n"
     ]
    },
    {
     "name": "stderr",
     "output_type": "stream",
     "text": [
      "Processing Jessica Andrews_tracks.parquet:  98%|█████████▊| 165/168 [00:06<00:00, 37.03it/s]"
     ]
    },
    {
     "name": "stdout",
     "output_type": "stream",
     "text": [
      "Failed requesting I Do Now\n",
      "Failed requesting I've Been Waiting For You\n",
      "Failed requesting Ruby Shoes\n",
      "Failed requesting I Will Be There For You\n",
      "Failed requesting Don't Think Jesus\n",
      "Failed requesting Somebody's Problem\n",
      "Failed requesting Talkin Tennessee\n",
      "Failed requesting Livin' the Dream\n"
     ]
    },
    {
     "name": "stderr",
     "output_type": "stream",
     "text": [
      "Processing Jessica Andrews_tracks.parquet: 100%|██████████| 168/168 [00:06<00:00, 24.30it/s]\n",
      "Processing Jessica Simpson_tracks.parquet:   2%|▏         | 4/170 [00:00<00:04, 35.57it/s]"
     ]
    },
    {
     "name": "stdout",
     "output_type": "stream",
     "text": [
      "Failed requesting More Than My Hometown\n",
      "Failed requesting My Only Wish\n",
      "Failed requesting Here Comes Santa Claus / Santa Claus Is Coming To Town\n",
      "Failed requesting O Come O Come Emmanuel\n",
      "Failed requesting I'll Be Home For Christmas\n",
      "Failed requesting Happy Xmas (War Is Over)\n",
      "Failed requesting Mary Did You Know\n"
     ]
    },
    {
     "name": "stderr",
     "output_type": "stream",
     "text": [
      "Processing Jessica Simpson_tracks.parquet:   7%|▋         | 12/170 [00:00<00:04, 36.99it/s]"
     ]
    },
    {
     "name": "stdout",
     "output_type": "stream",
     "text": [
      "Failed requesting Merry Christmas Baby\n",
      "Failed requesting Kiss Me For Christmas\n",
      "Failed requesting Have Yourself A Merry Little Christmas\n",
      "Failed requesting Carol Of The Bells\n",
      "Failed requesting Come on Over\n",
      "Failed requesting Remember That\n",
      "Failed requesting Pray Out Loud\n",
      "Failed requesting You're My Sunday\n"
     ]
    },
    {
     "name": "stderr",
     "output_type": "stream",
     "text": [
      "Processing Jessica Simpson_tracks.parquet:   9%|▉         | 16/170 [00:00<00:04, 35.81it/s]"
     ]
    },
    {
     "name": "stdout",
     "output_type": "stream",
     "text": [
      "Failed requesting Sipping On History\n",
      "Failed requesting Still Beautiful\n"
     ]
    },
    {
     "name": "stderr",
     "output_type": "stream",
     "text": [
      "Processing Jessica Simpson_tracks.parquet:  39%|███▉      | 67/170 [00:53<01:46,  1.04s/it]"
     ]
    },
    {
     "name": "stdout",
     "output_type": "stream",
     "text": [
      "Failed requesting Take My Breath Away\n",
      "Failed requesting Take My Breath Away\n"
     ]
    },
    {
     "name": "stderr",
     "output_type": "stream",
     "text": [
      "Processing Jessica Simpson_tracks.parquet:  50%|█████     | 85/170 [01:10<01:28,  1.04s/it]"
     ]
    },
    {
     "name": "stdout",
     "output_type": "stream",
     "text": [
      "Failed requesting In This Skin\n",
      "Failed requesting In This Skin\n"
     ]
    },
    {
     "name": "stderr",
     "output_type": "stream",
     "text": [
      "Processing Jessica Simpson_tracks.parquet:  56%|█████▌    | 95/170 [01:14<00:28,  2.67it/s]"
     ]
    },
    {
     "name": "stdout",
     "output_type": "stream",
     "text": [
      "Failed requesting I Think I'm in Love with You\n",
      "Failed requesting I Think I'm in Love with You\n",
      "Failed requesting I Wanna Love You Forever\n",
      "Failed requesting I Wanna Love You Forever\n"
     ]
    },
    {
     "name": "stderr",
     "output_type": "stream",
     "text": [
      "Processing Jessica Simpson_tracks.parquet:  59%|█████▉    | 101/170 [01:20<00:59,  1.17it/s]"
     ]
    },
    {
     "name": "stdout",
     "output_type": "stream",
     "text": [
      "Failed requesting Take My Breath Away\n",
      "Failed requesting Take My Breath Away\n"
     ]
    },
    {
     "name": "stderr",
     "output_type": "stream",
     "text": [
      "Processing Jessica Simpson_tracks.parquet:  70%|███████   | 119/170 [01:37<00:52,  1.04s/it]"
     ]
    },
    {
     "name": "stdout",
     "output_type": "stream",
     "text": [
      "Failed requesting In This Skin\n",
      "Failed requesting In This Skin\n"
     ]
    },
    {
     "name": "stderr",
     "output_type": "stream",
     "text": [
      "Processing Jessica Simpson_tracks.parquet:  88%|████████▊ | 149/170 [02:02<00:08,  2.49it/s]"
     ]
    },
    {
     "name": "stdout",
     "output_type": "stream",
     "text": [
      "Failed requesting I Think I'm in Love with You\n",
      "Failed requesting I Think I'm in Love with You\n",
      "Failed requesting I Wanna Love You Forever\n",
      "Failed requesting I Wanna Love You Forever\n",
      "Failed requesting Where You Are (featuring Nick Lachey) (feat. Nick Lachey) - New Version\n"
     ]
    },
    {
     "name": "stderr",
     "output_type": "stream",
     "text": [
      "Processing Jessica Simpson_tracks.parquet: 100%|██████████| 170/170 [02:23<00:00,  1.18it/s]\n",
      "Processing Jessie James Decker_tracks.parquet:  35%|███▍      | 39/112 [00:40<01:16,  1.04s/it]"
     ]
    },
    {
     "name": "stdout",
     "output_type": "stream",
     "text": [
      "Failed requesting Wanted\n",
      "Failed requesting Wanted\n"
     ]
    },
    {
     "name": "stderr",
     "output_type": "stream",
     "text": [
      "Processing Jessie James Decker_tracks.parquet:  38%|███▊      | 43/112 [00:42<00:51,  1.35it/s]"
     ]
    },
    {
     "name": "stdout",
     "output_type": "stream",
     "text": [
      "Failed requesting I Look So Good (Without You)\n",
      "Failed requesting I Look So Good (Without You)\n"
     ]
    },
    {
     "name": "stderr",
     "output_type": "stream",
     "text": [
      "Processing Jessie James Decker_tracks.parquet:  56%|█████▋    | 63/112 [01:01<00:50,  1.04s/it]"
     ]
    },
    {
     "name": "stdout",
     "output_type": "stream",
     "text": [
      "Failed requesting Wanted\n",
      "Failed requesting Wanted\n"
     ]
    },
    {
     "name": "stderr",
     "output_type": "stream",
     "text": [
      "Processing Jessie James Decker_tracks.parquet:  60%|█████▉    | 67/112 [01:03<00:33,  1.35it/s]"
     ]
    },
    {
     "name": "stdout",
     "output_type": "stream",
     "text": [
      "Failed requesting I Look So Good (Without You)\n",
      "Failed requesting I Look So Good (Without You)\n"
     ]
    },
    {
     "name": "stderr",
     "output_type": "stream",
     "text": [
      "Processing Jessie James Decker_tracks.parquet:  79%|███████▊  | 88/112 [01:23<00:25,  1.04s/it]"
     ]
    },
    {
     "name": "stdout",
     "output_type": "stream",
     "text": [
      "Failed requesting Grow Young With You\n"
     ]
    },
    {
     "name": "stderr",
     "output_type": "stream",
     "text": [
      "Processing Jessie James Decker_tracks.parquet:  86%|████████▌ | 96/112 [01:30<00:16,  1.01s/it]"
     ]
    },
    {
     "name": "stdout",
     "output_type": "stream",
     "text": [
      "Failed requesting Not In Love With You\n"
     ]
    },
    {
     "name": "stderr",
     "output_type": "stream",
     "text": [
      "Processing Jessie James Decker_tracks.parquet:  92%|█████████▏| 103/112 [01:37<00:08,  1.00it/s]"
     ]
    },
    {
     "name": "stdout",
     "output_type": "stream",
     "text": [
      "Failed requesting Not In Love With You\n"
     ]
    },
    {
     "name": "stderr",
     "output_type": "stream",
     "text": [
      "Processing Jessie James Decker_tracks.parquet:  96%|█████████▌| 107/112 [01:40<00:04,  1.11it/s]"
     ]
    },
    {
     "name": "stdout",
     "output_type": "stream",
     "text": [
      "Failed requesting Old Town Road (Jessie James Decker Version)\n"
     ]
    },
    {
     "name": "stderr",
     "output_type": "stream",
     "text": [
      "Processing Jessie James Decker_tracks.parquet: 100%|██████████| 112/112 [01:44<00:00,  1.07it/s]\n",
      "Processing Jessie J_tracks.parquet:  23%|██▎       | 45/197 [00:46<02:38,  1.04s/it]"
     ]
    }
   ],
   "source": [
    "with open('path_2.json', 'r') as f:\n",
    "    paths = json.load(f)\n",
    "for path in paths:\n",
    "    filename = os.path.basename(path)\n",
    "\n",
    "    output_file_path = f'results/{filename}'\n",
    "\n",
    "    if os.path.exists(output_file_path):\n",
    "        print(f\"Parquet file already exists for {filename}, skipping...\")\n",
    "        continue\n",
    "\n",
    "    if os.path.isfile(path):\n",
    "        artist_df = pd.read_parquet(path)\n",
    "        artist_df['bag_of_words'] = None\n",
    "\n",
    "        for i, r in tqdm(artist_df.iterrows(), total=len(artist_df), desc=f\"Processing {filename}\"):\n",
    "            sp_lyrics = sp.get_lyrics(r['track_id'])\n",
    "            if sp_lyrics:\n",
    "                lyrics = \"\"\n",
    "\n",
    "                for x in sp_lyrics['lyrics']['lines']:\n",
    "                    lyrics += ' ' + x['words']\n",
    "\n",
    "                lyrics = lyrics.lower()\n",
    "                words = lyrics.split()\n",
    "                bag_of_words = Counter(words)\n",
    "                artist_df.at[i, 'bag_of_words'] = bag_of_words\n",
    "                time.sleep(1)\n",
    "            else:\n",
    "                print(f'Failed requesting {r[\"track_name\"]}')\n",
    "\n",
    "\n",
    "    artist_df.to_parquet(f'results/{filename}')\n",
    "\n"
   ]
  }
 ],
 "metadata": {
  "kernelspec": {
   "display_name": "Python 3",
   "language": "python",
   "name": "python3"
  },
  "language_info": {
   "codemirror_mode": {
    "name": "ipython",
    "version": 3
   },
   "file_extension": ".py",
   "mimetype": "text/x-python",
   "name": "python",
   "nbconvert_exporter": "python",
   "pygments_lexer": "ipython3",
   "version": "3.8.10"
  },
  "orig_nbformat": 4
 },
 "nbformat": 4,
 "nbformat_minor": 2
}
